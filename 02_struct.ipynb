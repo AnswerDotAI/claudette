{
 "cells": [
  {
   "cell_type": "code",
   "execution_count": null,
   "id": "0c3ab452-e37d-4e74-ba55-8959f28be25e",
   "metadata": {},
   "outputs": [],
   "source": [
    "#| default_exp struct"
   ]
  },
  {
   "cell_type": "markdown",
   "id": "daa5a93f-4c3e-4ff3-b87f-b9dd4eedea91",
   "metadata": {},
   "source": [
    "# Structured Output with Pydantic"
   ]
  },
  {
   "cell_type": "code",
   "execution_count": null,
   "id": "e8458df6-99d6-4e73-9ba1-8567c8fae8e7",
   "metadata": {},
   "outputs": [],
   "source": [
    "import os\n",
    "# os.environ['ANTHROPIC_LOG'] = 'debug'"
   ]
  },
  {
   "cell_type": "code",
   "execution_count": null,
   "id": "620ce33a-b7ff-429a-95ff-ac6cb472f553",
   "metadata": {},
   "outputs": [],
   "source": [
    "#| export\n",
    "\n",
    "from claudette.core import *\n",
    "from fastcore.utils import *\n",
    "from fastcore.meta import delegates\n",
    "from pydantic import BaseModel, Field"
   ]
  },
  {
   "cell_type": "code",
   "execution_count": null,
   "id": "9864f4f3-e07e-4a86-af46-715ab5aa2dde",
   "metadata": {},
   "outputs": [],
   "source": [
    "model = models[1] # sonnet -- haiku was quite flaky on the failure cases."
   ]
  },
  {
   "cell_type": "markdown",
   "id": "69db7543-76e2-4233-9acf-8c26f27bd103",
   "metadata": {},
   "source": [
    "Pydantic provides a way of extracting structured outputs from text. This is useful for integrating an LLM as a single component of a pipeline.\n",
    "\n",
    "Much of this was inspired by Instructor."
   ]
  },
  {
   "cell_type": "markdown",
   "id": "f9fe6ab4-5cc6-420f-90c4-c5e10f30c015",
   "metadata": {},
   "source": [
    "Anthropic function calling is based on JSON Schema (with a few small tweaks). You can easily get the the JSON Schema from any Pydantic mdoel with the `model_json_schema` classmethod."
   ]
  },
  {
   "cell_type": "code",
   "execution_count": null,
   "id": "27aa7418-e576-46f1-8fdb-fa8d39c525b6",
   "metadata": {},
   "outputs": [
    {
     "data": {
      "text/plain": [
       "{'description': 'Create a new user',\n",
       " 'properties': {'username': {'title': 'Username', 'type': 'string'},\n",
       "  'password': {'title': 'Password', 'type': 'string'},\n",
       "  'email': {'title': 'Email', 'type': 'string'},\n",
       "  'success': {'description': 'Indicate if user creation is a success.',\n",
       "   'title': 'Success',\n",
       "   'type': 'boolean'},\n",
       "  'failure_reason': {'default': '',\n",
       "   'description': 'Failure reason. This should be \"\" if `success=True`. If `success=False` you **must** give a failure reason.',\n",
       "   'title': 'Failure Reason',\n",
       "   'type': 'string'}},\n",
       " 'required': ['username', 'password', 'email', 'success'],\n",
       " 'title': 'User',\n",
       " 'type': 'object'}"
      ]
     },
     "execution_count": null,
     "metadata": {},
     "output_type": "execute_result"
    }
   ],
   "source": [
    "class User(BaseModel):\n",
    "    \"Create a new user\"\n",
    "    username: str\n",
    "    password: str\n",
    "    email: str\n",
    "    success: bool  = Field(..., description=\"Indicate if user creation is a success.\")\n",
    "    failure_reason: str = Field(default=\"\", description=\"Failure reason. This should be \\\"\\\" if `success=True`. If `success=False` you **must** give a failure reason.\")\n",
    "\n",
    "User.model_json_schema()"
   ]
  },
  {
   "cell_type": "markdown",
   "id": "7edb7423-f502-45bb-8c3c-c2a01d870e08",
   "metadata": {},
   "source": [
    "Notable differences between JSON Schema and Anthropic's function calling:\n",
    "\n",
    "- `title -> name`\n",
    "- `properties -> input_schema: { properties }`\n",
    "- No title in parameters, instead key is used.\n",
    "\n",
    "I'm not really sure why they'd break a spec for such small differences. We can create a new `claude_schema` based on `model_json_schema`."
   ]
  },
  {
   "cell_type": "code",
   "execution_count": null,
   "id": "7d3eba10-2733-4d3d-8e68-608b716f5a91",
   "metadata": {},
   "outputs": [],
   "source": [
    "#| exports\n",
    "\n",
    "@patch(cls_method=True)\n",
    "def claude_schema(cls: BaseModel):\n",
    "    \"Create tool schema for claude\"\n",
    "    def _filter_title(obj):\n",
    "        if isinstance(obj, dict): return {k:_filter_title(v) for k,v in obj.items() if k != 'title'}\n",
    "        elif isinstance(obj, list): return [_filter_title(item) for item in obj]\n",
    "        else: return obj\n",
    "    \n",
    "    schema = cls.model_json_schema()\n",
    "    name = schema.pop('title')\n",
    "    description = schema.pop('description')\n",
    "    return {\n",
    "        \"name\": name,\n",
    "        \"description\": description,\n",
    "        \"input_schema\": _filter_title(schema)\n",
    "    }"
   ]
  },
  {
   "cell_type": "code",
   "execution_count": null,
   "id": "ba8f94a3-4291-49e6-99d4-c6e9874346ac",
   "metadata": {},
   "outputs": [
    {
     "data": {
      "text/plain": [
       "{'name': 'User',\n",
       " 'description': 'Create a new user',\n",
       " 'input_schema': {'properties': {'username': {'type': 'string'},\n",
       "   'password': {'type': 'string'},\n",
       "   'email': {'type': 'string'},\n",
       "   'success': {'description': 'Indicate if user creation is a success.',\n",
       "    'type': 'boolean'},\n",
       "   'failure_reason': {'default': '',\n",
       "    'description': 'Failure reason. This should be \"\" if `success=True`. If `success=False` you **must** give a failure reason.',\n",
       "    'type': 'string'}},\n",
       "  'required': ['username', 'password', 'email', 'success'],\n",
       "  'type': 'object'}}"
      ]
     },
     "execution_count": null,
     "metadata": {},
     "output_type": "execute_result"
    }
   ],
   "source": [
    "User.claude_schema()"
   ]
  },
  {
   "cell_type": "markdown",
   "id": "b08ee5f1-c49f-41d9-a92b-1efcf489c8db",
   "metadata": {},
   "source": [
    "Just using `claude_schema`, we can now use Pydantic models using only our existing tools:"
   ]
  },
  {
   "cell_type": "code",
   "execution_count": null,
   "id": "92c6c16d-d7a4-46ec-b957-c64e7d7f0e25",
   "metadata": {},
   "outputs": [
    {
     "data": {
      "text/plain": [
       "User(username='sarahadams', password='X9#mK2$pL7@qR4', email='sarah@gmail.com', success=True, failure_reason='')"
      ]
     },
     "execution_count": null,
     "metadata": {},
     "output_type": "execute_result"
    }
   ],
   "source": [
    "c = Client(model)\n",
    "pr = \"create a user for sarah adams, email sarah@gmail.com, and give them a strong password\"\n",
    "r = c(pr, tools=[User.claude_schema()], tool_choice=mk_tool_choice('User'))\n",
    "cts = contents(r)\n",
    "mod = call_func(cts, ns=[User])\n",
    "mod"
   ]
  },
  {
   "cell_type": "markdown",
   "id": "202c98ff-6be6-4f03-b399-b3a1439e830b",
   "metadata": {},
   "source": [
    "And creating a new chat messages:"
   ]
  },
  {
   "cell_type": "code",
   "execution_count": null,
   "id": "0f62e6bf-fa63-41aa-a26a-adde65f79ceb",
   "metadata": {},
   "outputs": [
    {
     "data": {
      "text/plain": [
       "{'role': 'user',\n",
       " 'content': [{'type': 'tool_result',\n",
       "   'tool_use_id': 'toolu_01ViBA576XwBonYim2FRQGeR',\n",
       "   'content': \"username='sarahadams' password='X9#mK2$pL7@qR4' email='sarah@gmail.com' success=True failure_reason=''\"}]}"
      ]
     },
     "execution_count": null,
     "metadata": {},
     "output_type": "execute_result"
    }
   ],
   "source": [
    "mk_msg([mk_funcres(cts.id, mod)])"
   ]
  },
  {
   "cell_type": "markdown",
   "id": "5b081a1b-c20f-4e1b-91c2-c43789bbe5e0",
   "metadata": {},
   "source": [
    "Let's create a nicer function that wraps the `Chat.__call__`. This takes an unintialized Pydantic `BaseModel` and returns an initialized `BaseModel`. "
   ]
  },
  {
   "cell_type": "code",
   "execution_count": null,
   "id": "2685383d-c0de-4a0f-9985-1733ac2b5384",
   "metadata": {},
   "outputs": [],
   "source": [
    "#| exports\n",
    "\n",
    "@patch\n",
    "@delegates(Client.__call__)\n",
    "def struct(self:Client,\n",
    "             msgs:list, # List of messages in the dialog\n",
    "             resp_model: BaseModel, # Non-initialized pydantic struct\n",
    "             **kwargs\n",
    "          ) -> BaseModel: # Initialized pydantic struct\n",
    "    \"Parse Claude output into the Pydantic `resp_model`\"\n",
    "    kwargs[\"tool_choice\"] = mk_tool_choice(resp_model.__name__)\n",
    "    kwargs[\"tools\"] = [resp_model.claude_schema()] # no other tools needed -- model is forced by tool_choice\n",
    "    fc = self(msgs=msgs, **kwargs)\n",
    "    res = resp_model(**contents(fc).input)\n",
    "    return res"
   ]
  },
  {
   "cell_type": "markdown",
   "id": "dfb8c4f4-4f56-4065-a36b-d24f9681aea6",
   "metadata": {},
   "source": [
    "This will always return a `BaseModel` \"struct\""
   ]
  },
  {
   "cell_type": "code",
   "execution_count": null,
   "id": "7fc9d3f8-83b9-4a73-8500-aa482ba4d7ba",
   "metadata": {},
   "outputs": [
    {
     "data": {
      "text/plain": [
       "User(username='sarahadams', password='X9#mK2$pL7@qR4', email='sarah@gmail.com', success=True, failure_reason='')"
      ]
     },
     "execution_count": null,
     "metadata": {},
     "output_type": "execute_result"
    }
   ],
   "source": [
    "c.struct(pr, resp_model=User)"
   ]
  },
  {
   "cell_type": "markdown",
   "id": "d0a459dd-11f8-4ecd-ad75-0ea9ad9bee6a",
   "metadata": {},
   "source": [
    "Even if we try not to:"
   ]
  },
  {
   "cell_type": "code",
   "execution_count": null,
   "id": "3eeb8a38-28e6-49ec-91df-b3b2451e8577",
   "metadata": {},
   "outputs": [
    {
     "data": {
      "text/plain": [
       "User(username='<UNKNOWN>', password='<UNKNOWN>', email='<UNKNOWN>', success=False, failure_reason=\"The query is unrelated to user creation. It's a simple arithmetic question.\")"
      ]
     },
     "execution_count": null,
     "metadata": {},
     "output_type": "execute_result"
    }
   ],
   "source": [
    "c.struct('what is 2+2', resp_model=User)"
   ]
  },
  {
   "cell_type": "markdown",
   "id": "3881e005-5f43-4630-baa4-4cc200165080",
   "metadata": {},
   "source": [
    "Now let's implement this in `Chat`. The most non-invasive way I can think of to do this is add a new `struct` function that adds the function result to the history"
   ]
  },
  {
   "cell_type": "code",
   "execution_count": null,
   "id": "70fa97de-d7ad-4989-9c3f-4ec2577728a4",
   "metadata": {},
   "outputs": [],
   "source": [
    "#| exports\n",
    "\n",
    "@patch\n",
    "@delegates(Client.struct)\n",
    "def struct(self:Chat,\n",
    "             resp_model: BaseModel, # Non-initialized pydantic struct\n",
    "             **kwargs) -> BaseModel:\n",
    "    self._append_pr(kwargs.pop(\"pr\", None))\n",
    "    res = self.c.struct(self.h, resp_model=resp_model, **kwargs)\n",
    "    r = self.c.result\n",
    "    tool_id = contents(r).id\n",
    "    msgs = [mk_msg(r, \"assistant\"),\n",
    "            mk_msg([mk_funcres(tool_id, res)], \"user\")]\n",
    "    self.h += msgs\n",
    "    return res"
   ]
  },
  {
   "cell_type": "code",
   "execution_count": null,
   "id": "4f8aadda-74b8-4e35-980d-d6bb06758c00",
   "metadata": {},
   "outputs": [
    {
     "data": {
      "text/markdown": [
       "Certainly! I'll create a user with the username jackAdam12 and email jack@email.com. To do this, we need to generate a strong password using the `generate_password` function. Let's proceed with the user creation process.\n",
       "\n",
       "<details>\n",
       "\n",
       "- id: msg_01XC6SjLPLhWV5KXP89sFgvV\n",
       "- content: [{'text': \"Certainly! I'll create a user with the username jackAdam12 and email jack@email.com. To do this, we need to generate a strong password using the `generate_password` function. Let's proceed with the user creation process.\", 'type': 'text'}, {'id': 'toolu_016QNj4KxYZgMgNKL4HyatGE', 'input': {}, 'name': 'generate_password', 'type': 'tool_use'}]\n",
       "- model: claude-3-5-sonnet-20240620\n",
       "- role: assistant\n",
       "- stop_reason: tool_use\n",
       "- stop_sequence: None\n",
       "- type: message\n",
       "- usage: {'input_tokens': 681, 'output_tokens': 89}\n",
       "\n",
       "</details>"
      ],
      "text/plain": [
       "Message(id='msg_01XC6SjLPLhWV5KXP89sFgvV', content=[TextBlock(text=\"Certainly! I'll create a user with the username jackAdam12 and email jack@email.com. To do this, we need to generate a strong password using the `generate_password` function. Let's proceed with the user creation process.\", type='text'), ToolUseBlock(id='toolu_016QNj4KxYZgMgNKL4HyatGE', input={}, name='generate_password', type='tool_use')], model='claude-3-5-sonnet-20240620', role='assistant', stop_reason='tool_use', stop_sequence=None, type='message', usage=In: 681; Out: 89; Total: 770)"
      ]
     },
     "execution_count": null,
     "metadata": {},
     "output_type": "execute_result"
    }
   ],
   "source": [
    "gen_pass = True\n",
    "def generate_password() -> dict:\n",
    "    \"\"\"generate a strong user password.\n",
    "\n",
    "    @returns { \"success\": <indicates function success>, \"pass\": <password> }\n",
    "    \"\"\"\n",
    "    if gen_pass:\n",
    "        return {\"success\": True, \"pass\": \"qwerty123\"}\n",
    "    return {\"success\": False, \"pass\": \"<UNKNOWN>\"}\n",
    "\n",
    "sp = \"\"\"You are a user generation system.\n",
    "Refer to only the **most recent** user generation request. Do not attend to previous requests.\n",
    "\n",
    "<instructions>\n",
    "1. If creating a user with only an email, pick a relevant username.\n",
    "  a) If no email is given, fail user creation. Do not ask for more information.\n",
    "2. You must use `generate_password` tool to create passwords. You must NOT create your own passwords.\n",
    "  a) if `generate_password` returns `success=False` and `pass=<UNKNOWN>` fail user creation.\n",
    "3. If you are given `tool_choice=User`, refer to <user_creation> for your response. Else respond in plain english.\n",
    "</instructions>\n",
    "\n",
    "<user_creation>\n",
    "if user creation is successful:\n",
    "    create user using the `User` tool\n",
    "else: # user creation has failed\n",
    "    refer to <fail_user>\n",
    "</user_creation>\n",
    "\n",
    "<fail_user>\n",
    "This should only be run if and only if `User` is given in `tool_choice` and user creation has failed.\n",
    "\n",
    "1. Mark failed fields as <UNKNOWN>\n",
    "2. Set `success = False`\n",
    "3. Give relevant details for failure in `failure_reason`\n",
    "</fail_user>\n",
    "\"\"\"\n",
    "\n",
    "chat = Chat(model, tools=[generate_password], sp=sp)\n",
    "chat(\"create a user with username jackAdam12 and email jack@email.com\")"
   ]
  },
  {
   "cell_type": "code",
   "execution_count": null,
   "id": "477627ee-9155-4c74-b6a4-7ef7ac59e5b2",
   "metadata": {},
   "outputs": [
    {
     "data": {
      "text/plain": [
       "User(username='jackAdam12', password='qwerty123', email='jack@email.com', success=True, failure_reason='')"
      ]
     },
     "execution_count": null,
     "metadata": {},
     "output_type": "execute_result"
    }
   ],
   "source": [
    "chat.struct(User)"
   ]
  },
  {
   "cell_type": "markdown",
   "id": "405a9c47-ca6c-4ebd-98f6-b304d1c4d17d",
   "metadata": {},
   "source": [
    "Now let's make the gen_pass function fail:"
   ]
  },
  {
   "cell_type": "code",
   "execution_count": null,
   "id": "ed21f35f-066f-4b0d-ab8b-5952a36a0437",
   "metadata": {},
   "outputs": [
    {
     "name": "stdout",
     "output_type": "stream",
     "text": [
      "{'success': False, 'pass': '<UNKNOWN>'}\n"
     ]
    },
    {
     "data": {
      "text/markdown": [
       "Certainly! I'll create a user for sarahjones@gmail.com. Since only the email was provided, I'll generate a relevant username based on the email address. Then, we'll use the `generate_password` function to create a secure password for this user.\n",
       "\n",
       "First, let's generate the password:\n",
       "\n",
       "<details>\n",
       "\n",
       "- id: msg_01GFNkXzzATFokuYdfo3shtp\n",
       "- content: [{'text': \"Certainly! I'll create a user for sarahjones@gmail.com. Since only the email was provided, I'll generate a relevant username based on the email address. Then, we'll use the `generate_password` function to create a secure password for this user.\\n\\nFirst, let's generate the password:\", 'type': 'text'}, {'id': 'toolu_01LzEhr6rmaxLBYRfNddqiT1', 'input': {}, 'name': 'generate_password', 'type': 'tool_use'}]\n",
       "- model: claude-3-5-sonnet-20240620\n",
       "- role: assistant\n",
       "- stop_reason: tool_use\n",
       "- stop_sequence: None\n",
       "- type: message\n",
       "- usage: {'input_tokens': 1080, 'output_tokens': 103}\n",
       "\n",
       "</details>"
      ],
      "text/plain": [
       "Message(id='msg_01GFNkXzzATFokuYdfo3shtp', content=[TextBlock(text=\"Certainly! I'll create a user for sarahjones@gmail.com. Since only the email was provided, I'll generate a relevant username based on the email address. Then, we'll use the `generate_password` function to create a secure password for this user.\\n\\nFirst, let's generate the password:\", type='text'), ToolUseBlock(id='toolu_01LzEhr6rmaxLBYRfNddqiT1', input={}, name='generate_password', type='tool_use')], model='claude-3-5-sonnet-20240620', role='assistant', stop_reason='tool_use', stop_sequence=None, type='message', usage=In: 1080; Out: 103; Total: 1183)"
      ]
     },
     "execution_count": null,
     "metadata": {},
     "output_type": "execute_result"
    }
   ],
   "source": [
    "gen_pass = False\n",
    "print(generate_password())\n",
    "chat('cool, can you create another user for sarahjones@gmail.com?')"
   ]
  },
  {
   "cell_type": "markdown",
   "id": "52f84276-dc1d-45b4-9bef-9dda6af97320",
   "metadata": {},
   "source": [
    "We get a user creation failure with an appropiate failure message."
   ]
  },
  {
   "cell_type": "code",
   "execution_count": null,
   "id": "03e03009-fa6e-409e-8023-1d5d8d9aeb88",
   "metadata": {},
   "outputs": [
    {
     "data": {
      "text/plain": [
       "User(username='sarahjones', password='<UNKNOWN>', email='sarahjones@gmail.com', success=False, failure_reason='Unable to generate a secure password')"
      ]
     },
     "execution_count": null,
     "metadata": {},
     "output_type": "execute_result"
    }
   ],
   "source": [
    "chat.struct(User)"
   ]
  },
  {
   "cell_type": "markdown",
   "id": "c99dd231-bfc3-4516-a3ef-a6b997941d75",
   "metadata": {},
   "source": [
    "Finally let's try to create a user with no email:"
   ]
  },
  {
   "cell_type": "code",
   "execution_count": null,
   "id": "570ee09a-fad1-469f-9616-d7b63a5a3995",
   "metadata": {},
   "outputs": [
    {
     "data": {
      "text/markdown": [
       "I apologize, but I'm unable to create an account for Adam with just the name provided. To create a user account, we need at least an email address. Without an email address, I cannot proceed with the user creation process as per the instructions I've been given.\n",
       "\n",
       "Here's why I can't create the account:\n",
       "\n",
       "1. An email address is a required piece of information for user creation.\n",
       "2. We don't have enough information to generate a unique username or to associate the account with a valid email address.\n",
       "3. The instructions specifically state that if no email is given, we should fail user creation and not ask for more information.\n",
       "\n",
       "If you'd like to create an account for Adam, you would need to provide at least an email address. Once you have an email address for Adam, please feel free to ask again, and I'll be happy to assist you with creating the account.\n",
       "\n",
       "Is there anything else I can help you with, or would you like to provide an email address for Adam to proceed with account creation?\n",
       "\n",
       "<details>\n",
       "\n",
       "- id: msg_01TDnz9G4gG2ojFhDDLmKrGn\n",
       "- content: [{'text': \"I apologize, but I'm unable to create an account for Adam with just the name provided. To create a user account, we need at least an email address. Without an email address, I cannot proceed with the user creation process as per the instructions I've been given.\\n\\nHere's why I can't create the account:\\n\\n1. An email address is a required piece of information for user creation.\\n2. We don't have enough information to generate a unique username or to associate the account with a valid email address.\\n3. The instructions specifically state that if no email is given, we should fail user creation and not ask for more information.\\n\\nIf you'd like to create an account for Adam, you would need to provide at least an email address. Once you have an email address for Adam, please feel free to ask again, and I'll be happy to assist you with creating the account.\\n\\nIs there anything else I can help you with, or would you like to provide an email address for Adam to proceed with account creation?\", 'type': 'text'}]\n",
       "- model: claude-3-5-sonnet-20240620\n",
       "- role: assistant\n",
       "- stop_reason: end_turn\n",
       "- stop_sequence: None\n",
       "- type: message\n",
       "- usage: {'input_tokens': 1655, 'output_tokens': 217}\n",
       "\n",
       "</details>"
      ],
      "text/plain": [
       "Message(id='msg_01TDnz9G4gG2ojFhDDLmKrGn', content=[TextBlock(text=\"I apologize, but I'm unable to create an account for Adam with just the name provided. To create a user account, we need at least an email address. Without an email address, I cannot proceed with the user creation process as per the instructions I've been given.\\n\\nHere's why I can't create the account:\\n\\n1. An email address is a required piece of information for user creation.\\n2. We don't have enough information to generate a unique username or to associate the account with a valid email address.\\n3. The instructions specifically state that if no email is given, we should fail user creation and not ask for more information.\\n\\nIf you'd like to create an account for Adam, you would need to provide at least an email address. Once you have an email address for Adam, please feel free to ask again, and I'll be happy to assist you with creating the account.\\n\\nIs there anything else I can help you with, or would you like to provide an email address for Adam to proceed with account creation?\", type='text')], model='claude-3-5-sonnet-20240620', role='assistant', stop_reason='end_turn', stop_sequence=None, type='message', usage=In: 1655; Out: 217; Total: 1872)"
      ]
     },
     "execution_count": null,
     "metadata": {},
     "output_type": "execute_result"
    }
   ],
   "source": [
    "gen_pass = True\n",
    "chat('finally can you create an account for Adam?')"
   ]
  },
  {
   "cell_type": "code",
   "execution_count": null,
   "id": "3852872c-c483-487d-a24a-f3ee671c5120",
   "metadata": {},
   "outputs": [
    {
     "data": {
      "text/plain": [
       "User(username='Adam', password='<UNKNOWN>', email='<UNKNOWN>', success=False, failure_reason='Insufficient information provided. Email address is required for account creation.')"
      ]
     },
     "execution_count": null,
     "metadata": {},
     "output_type": "execute_result"
    }
   ],
   "source": [
    "chat.struct(User)"
   ]
  },
  {
   "cell_type": "code",
   "execution_count": null,
   "id": "731343ef-0dad-40f1-81de-6007a3e94dcf",
   "metadata": {},
   "outputs": [],
   "source": [
    "#|hide\n",
    "#|eval: false\n",
    "from nbdev.doclinks import nbdev_export\n",
    "nbdev_export()"
   ]
  }
 ],
 "metadata": {
  "kernelspec": {
   "display_name": "python3",
   "language": "python",
   "name": "python3"
  }
 },
 "nbformat": 4,
 "nbformat_minor": 5
}
