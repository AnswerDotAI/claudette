{
 "cells": [
  {
   "cell_type": "code",
   "execution_count": null,
   "id": "efe78920",
   "metadata": {},
   "outputs": [],
   "source": [
    "#|default_exp asink"
   ]
  },
  {
   "cell_type": "markdown",
   "id": "3d773712-12fe-440e-891f-36f59666dfde",
   "metadata": {},
   "source": [
    "# The async version"
   ]
  },
  {
   "cell_type": "markdown",
   "id": "ff6f6471-8061-4fdd-85a1-25fdc27c5cf3",
   "metadata": {},
   "source": [
    "## Setup"
   ]
  },
  {
   "cell_type": "code",
   "execution_count": null,
   "id": "033c76fd",
   "metadata": {},
   "outputs": [],
   "source": [
    "#| export\n",
    "import inspect, typing, mimetypes, base64, json\n",
    "from collections import abc\n",
    "try: from IPython import display\n",
    "except: display=None\n",
    "\n",
    "from anthropic import AsyncAnthropic\n",
    "from anthropic.types import ToolUseBlock\n",
    "from toolslm.funccall import get_schema, mk_ns, call_func, call_func_async\n",
    "from fastcore.meta import delegates\n",
    "from fastcore.utils import *\n",
    "from claudette.core import *\n",
    "from msglm import mk_msg_anthropic as mk_msg, mk_msgs_anthropic as mk_msgs"
   ]
  },
  {
   "cell_type": "code",
   "execution_count": null,
   "id": "13866a72",
   "metadata": {},
   "outputs": [],
   "source": [
    "#| hide\n",
    "from nbdev import show_doc"
   ]
  },
  {
   "cell_type": "markdown",
   "id": "863d4d81",
   "metadata": {},
   "source": [
    "## Async SDK"
   ]
  },
  {
   "cell_type": "code",
   "execution_count": null,
   "id": "70b53a51",
   "metadata": {},
   "outputs": [],
   "source": [
    "model = models[1]\n",
    "cli = AsyncAnthropic()"
   ]
  },
  {
   "cell_type": "code",
   "execution_count": null,
   "id": "d423e115",
   "metadata": {},
   "outputs": [
    {
     "data": {
      "text/markdown": [
       "Hello, Jeremy! It's nice to meet you. How are you doing today? Is there something I can help you with or would you just like to chat?\n",
       "\n",
       "<details>\n",
       "\n",
       "- id: `msg_01H7LKEnvrgPqzzVj4WKqNFZ`\n",
       "- content: `[{'citations': None, 'text': \"Hello, Jeremy! It's nice to meet you. How are you doing today? Is there something I can help you with or would you just like to chat?\", 'type': 'text'}]`\n",
       "- model: `claude-3-7-sonnet-20250219`\n",
       "- role: `assistant`\n",
       "- stop_reason: `end_turn`\n",
       "- stop_sequence: `None`\n",
       "- type: `message`\n",
       "- usage: `{'cache_creation_input_tokens': 0, 'cache_read_input_tokens': 0, 'input_tokens': 10, 'output_tokens': 36}`\n",
       "\n",
       "</details>"
      ],
      "text/plain": [
       "Message(id='msg_01H7LKEnvrgPqzzVj4WKqNFZ', content=[TextBlock(citations=None, text=\"Hello, Jeremy! It's nice to meet you. How are you doing today? Is there something I can help you with or would you just like to chat?\", type='text')], model='claude-3-7-sonnet-20250219', role='assistant', stop_reason='end_turn', stop_sequence=None, type='message', usage=In: 10; Out: 36; Cache create: 0; Cache read: 0; Total: 46)"
      ]
     },
     "execution_count": null,
     "metadata": {},
     "output_type": "execute_result"
    }
   ],
   "source": [
    "prompt = \"I'm Jeremy\"\n",
    "m = mk_msg(prompt)\n",
    "r = await cli.messages.create(messages=[m], model=model, max_tokens=100)\n",
    "r"
   ]
  },
  {
   "cell_type": "code",
   "execution_count": null,
   "id": "6c464f8b",
   "metadata": {},
   "outputs": [
    {
     "data": {
      "text/plain": [
       "[{'role': 'user', 'content': \"I'm Jeremy\"},\n",
       " {'role': 'assistant',\n",
       "  'content': [TextBlock(citations=None, text=\"Hello, Jeremy! It's nice to meet you. How are you doing today? Is there something I can help you with or would you just like to chat?\", type='text')]},\n",
       " {'role': 'user', 'content': 'I forgot my name. Can you remind me please?'}]"
      ]
     },
     "execution_count": null,
     "metadata": {},
     "output_type": "execute_result"
    }
   ],
   "source": [
    "msgs = mk_msgs([prompt, r, \"I forgot my name. Can you remind me please?\"]) \n",
    "msgs"
   ]
  },
  {
   "cell_type": "code",
   "execution_count": null,
   "id": "6ca62759",
   "metadata": {},
   "outputs": [
    {
     "data": {
      "text/markdown": [
       "You just introduced yourself as Jeremy. That's your name based on what you told me in your previous message.\n",
       "\n",
       "<details>\n",
       "\n",
       "- id: `msg_01DDbdY9JsybAT33YowQD9kH`\n",
       "- content: `[{'citations': None, 'text': \"You just introduced yourself as Jeremy. That's your name based on what you told me in your previous message.\", 'type': 'text'}]`\n",
       "- model: `claude-3-7-sonnet-20250219`\n",
       "- role: `assistant`\n",
       "- stop_reason: `end_turn`\n",
       "- stop_sequence: `None`\n",
       "- type: `message`\n",
       "- usage: `{'cache_creation_input_tokens': 0, 'cache_read_input_tokens': 0, 'input_tokens': 60, 'output_tokens': 25}`\n",
       "\n",
       "</details>"
      ],
      "text/plain": [
       "Message(id='msg_01DDbdY9JsybAT33YowQD9kH', content=[TextBlock(citations=None, text=\"You just introduced yourself as Jeremy. That's your name based on what you told me in your previous message.\", type='text')], model='claude-3-7-sonnet-20250219', role='assistant', stop_reason='end_turn', stop_sequence=None, type='message', usage=In: 60; Out: 25; Cache create: 0; Cache read: 0; Total: 85)"
      ]
     },
     "execution_count": null,
     "metadata": {},
     "output_type": "execute_result"
    }
   ],
   "source": [
    "await cli.messages.create(messages=msgs, model=model, max_tokens=200)"
   ]
  },
  {
   "cell_type": "code",
   "execution_count": null,
   "id": "3b873aaf",
   "metadata": {},
   "outputs": [],
   "source": [
    "#| exports\n",
    "class AsyncClient(Client):\n",
    "    def __init__(self, model, cli=None, log=False, cache=False):\n",
    "        \"Async Anthropic messages client.\"\n",
    "        super().__init__(model,cli,log,cache)\n",
    "        if not cli: self.c = AsyncAnthropic(default_headers={'anthropic-beta': 'prompt-caching-2024-07-31'})"
   ]
  },
  {
   "cell_type": "code",
   "execution_count": null,
   "id": "d01e9ccf",
   "metadata": {},
   "outputs": [],
   "source": [
    "c = AsyncClient(model)"
   ]
  },
  {
   "cell_type": "code",
   "execution_count": null,
   "id": "0181f7b3",
   "metadata": {},
   "outputs": [
    {
     "data": {
      "text/plain": [
       "In: 10; Out: 36; Cache create: 0; Cache read: 0; Total: 46"
      ]
     },
     "execution_count": null,
     "metadata": {},
     "output_type": "execute_result"
    }
   ],
   "source": [
    "c._r(r)\n",
    "c.use"
   ]
  },
  {
   "cell_type": "code",
   "execution_count": null,
   "id": "6520a355",
   "metadata": {},
   "outputs": [],
   "source": [
    "#| exports\n",
    "@patch\n",
    "async def _stream(self:AsyncClient, msgs:list, prefill='', **kwargs):\n",
    "    async with self.c.messages.stream(model=self.model, messages=mk_msgs(msgs, cache=self.cache), **kwargs) as s:\n",
    "        if prefill: yield prefill\n",
    "        async for o in s.text_stream: yield o\n",
    "        self._log(await s.get_final_message(), prefill, msgs, kwargs)"
   ]
  },
  {
   "cell_type": "code",
   "execution_count": null,
   "id": "509d1ae4",
   "metadata": {},
   "outputs": [],
   "source": [
    "#| exports\n",
    "@patch\n",
    "@delegates(Client)\n",
    "async def __call__(self:AsyncClient,\n",
    "             msgs:list, # List of messages in the dialog\n",
    "             sp='', # The system prompt\n",
    "             temp=0, # Temperature\n",
    "             maxtok=4096, # Maximum tokens\n",
    "             maxthinktok=0, # Maximum thinking tokens\n",
    "             prefill='', # Optional prefill to pass to Claude as start of its response\n",
    "             stream:bool=False, # Stream response?\n",
    "             stop=None, # Stop sequence\n",
    "             tools:Optional[list]=None, # List of tools to make available to Claude\n",
    "             tool_choice:Optional[dict]=None, # Optionally force use of some tool\n",
    "             **kwargs):\n",
    "    \"Make an async call to Claude.\"\n",
    "    if tools: kwargs['tools'] = [get_schema(o) for o in listify(tools)]\n",
    "    if tool_choice: kwargs['tool_choice'] = mk_tool_choice(tool_choice)\n",
    "    if maxthinktok: \n",
    "        kwargs['thinking']={'type':'enabled', 'budget_tokens':maxthinktok} \n",
    "        temp=1; prefill=''\n",
    "    msgs = self._precall(msgs, prefill, stop, kwargs)\n",
    "    if any(t == 'image' for t in get_types(msgs)): assert not self.text_only, f\"Images are not supported by the current model type: {self.model}\"\n",
    "    if stream: return self._stream(msgs, prefill=prefill, max_tokens=maxtok, system=sp, temperature=temp, **kwargs)\n",
    "    res = await self.c.messages.create(\n",
    "        model=self.model, messages=msgs, max_tokens=maxtok, system=sp, temperature=temp, **kwargs)\n",
    "    return self._log(res, prefill, msgs, maxtok, sp, temp, stream=stream, stop=stop, **kwargs)"
   ]
  },
  {
   "cell_type": "code",
   "execution_count": null,
   "id": "881b5e78",
   "metadata": {},
   "outputs": [
    {
     "data": {
      "text/plain": [
       "In: 0; Out: 0; Cache create: 0; Cache read: 0; Total: 0"
      ]
     },
     "execution_count": null,
     "metadata": {},
     "output_type": "execute_result"
    }
   ],
   "source": [
    "c = AsyncClient(model, log=True)\n",
    "c.use"
   ]
  },
  {
   "cell_type": "code",
   "execution_count": null,
   "id": "c1220856",
   "metadata": {},
   "outputs": [
    {
     "data": {
      "text/markdown": [
       "Hello! How can I assist you today? Feel free to ask any questions or let me know what you'd like to discuss.\n",
       "\n",
       "<details>\n",
       "\n",
       "- id: `msg_019f1ey5xX5icL17v23wEYhU`\n",
       "- content: `[{'citations': None, 'text': \"Hello! How can I assist you today? Feel free to ask any questions or let me know what you'd like to discuss.\", 'type': 'text'}]`\n",
       "- model: `claude-3-7-sonnet-20250219`\n",
       "- role: `assistant`\n",
       "- stop_reason: `end_turn`\n",
       "- stop_sequence: `None`\n",
       "- type: `message`\n",
       "- usage: `{'cache_creation_input_tokens': 0, 'cache_read_input_tokens': 0, 'input_tokens': 8, 'output_tokens': 29}`\n",
       "\n",
       "</details>"
      ],
      "text/plain": [
       "Message(id='msg_019f1ey5xX5icL17v23wEYhU', content=[TextBlock(citations=None, text=\"Hello! How can I assist you today? Feel free to ask any questions or let me know what you'd like to discuss.\", type='text')], model='claude-3-7-sonnet-20250219', role='assistant', stop_reason='end_turn', stop_sequence=None, type='message', usage=In: 8; Out: 29; Cache create: 0; Cache read: 0; Total: 37)"
      ]
     },
     "execution_count": null,
     "metadata": {},
     "output_type": "execute_result"
    }
   ],
   "source": [
    "c.model = models[1]\n",
    "await c('Hi')"
   ]
  },
  {
   "cell_type": "code",
   "execution_count": null,
   "id": "ae9f7e06",
   "metadata": {},
   "outputs": [
    {
     "data": {
      "text/plain": [
       "In: 8; Out: 29; Cache create: 0; Cache read: 0; Total: 37"
      ]
     },
     "execution_count": null,
     "metadata": {},
     "output_type": "execute_result"
    }
   ],
   "source": [
    "c.use"
   ]
  },
  {
   "cell_type": "code",
   "execution_count": null,
   "id": "7f479429",
   "metadata": {},
   "outputs": [
    {
     "data": {
      "text/markdown": [
       "According to Douglas Adams,  it's 42. More seriously, the meaning of life is deeply personal and varies across philosophical traditions - from finding happiness, serving others, pursuing knowledge, or creating your own purpose in an inherently meaningless universe. There's no universal answer, which is perhaps what makes the question so enduring.\n",
       "\n",
       "<details>\n",
       "\n",
       "- id: `msg_01UySeHLz39g2ub288t2aze4`\n",
       "- content: `[{'citations': None, 'text': \"According to Douglas Adams,  it's 42. More seriously, the meaning of life is deeply personal and varies across philosophical traditions - from finding happiness, serving others, pursuing knowledge, or creating your own purpose in an inherently meaningless universe. There's no universal answer, which is perhaps what makes the question so enduring.\", 'type': 'text'}]`\n",
       "- model: `claude-3-7-sonnet-20250219`\n",
       "- role: `assistant`\n",
       "- stop_reason: `end_turn`\n",
       "- stop_sequence: `None`\n",
       "- type: `message`\n",
       "- usage: `{'cache_creation_input_tokens': 0, 'cache_read_input_tokens': 0, 'input_tokens': 24, 'output_tokens': 65}`\n",
       "\n",
       "</details>"
      ],
      "text/plain": [
       "Message(id='msg_01UySeHLz39g2ub288t2aze4', content=[TextBlock(citations=None, text=\"According to Douglas Adams,  it's 42. More seriously, the meaning of life is deeply personal and varies across philosophical traditions - from finding happiness, serving others, pursuing knowledge, or creating your own purpose in an inherently meaningless universe. There's no universal answer, which is perhaps what makes the question so enduring.\", type='text')], model='claude-3-7-sonnet-20250219', role='assistant', stop_reason='end_turn', stop_sequence=None, type='message', usage=In: 24; Out: 65; Cache create: 0; Cache read: 0; Total: 89)"
      ]
     },
     "execution_count": null,
     "metadata": {},
     "output_type": "execute_result"
    }
   ],
   "source": [
    "q = \"Concisely, what is the meaning of life?\"\n",
    "pref = 'According to Douglas Adams,'\n",
    "await c(q, prefill=pref)"
   ]
  },
  {
   "cell_type": "code",
   "execution_count": null,
   "id": "08c4ef29",
   "metadata": {},
   "outputs": [
    {
     "data": {
      "text/plain": [
       "In: 32; Out: 94; Cache create: 0; Cache read: 0; Total: 126"
      ]
     },
     "execution_count": null,
     "metadata": {},
     "output_type": "execute_result"
    }
   ],
   "source": [
    "c.use"
   ]
  },
  {
   "cell_type": "code",
   "execution_count": null,
   "id": "c0230a8c",
   "metadata": {},
   "outputs": [
    {
     "name": "stdout",
     "output_type": "stream",
     "text": [
      "According to Douglas Adams,  it's 42. More seriously, the meaning of life is deeply personal and varies across philosophical traditions - from finding happiness, serving others, pursuing knowledge, or creating your own purpose in an inherently meaningless universe. There's no universal answer, which is perhaps what makes the question so enduring."
     ]
    }
   ],
   "source": [
    "async for o in await c(q, prefill=pref, stream=True): print(o, end='')"
   ]
  },
  {
   "cell_type": "code",
   "execution_count": null,
   "id": "e36eddc9",
   "metadata": {},
   "outputs": [
    {
     "data": {
      "text/plain": [
       "In: 56; Out: 159; Cache create: 0; Cache read: 0; Total: 215"
      ]
     },
     "execution_count": null,
     "metadata": {},
     "output_type": "execute_result"
    }
   ],
   "source": [
    "c.use"
   ]
  },
  {
   "cell_type": "code",
   "execution_count": null,
   "id": "046e8cc3",
   "metadata": {},
   "outputs": [],
   "source": [
    "def sums(\n",
    "    a:int,  # First thing to sum\n",
    "    b:int=1 # Second thing to sum\n",
    ") -> int: # The sum of the inputs\n",
    "    \"Adds a + b.\"\n",
    "    print(f\"Finding the sum of {a} and {b}\")\n",
    "    return a + b"
   ]
  },
  {
   "cell_type": "code",
   "execution_count": null,
   "id": "d51f2bdf",
   "metadata": {},
   "outputs": [],
   "source": [
    "a,b = 604542,6458932\n",
    "pr = f\"What is {a}+{b}?\"\n",
    "sp = \"You are a summing expert.\""
   ]
  },
  {
   "cell_type": "code",
   "execution_count": null,
   "id": "bff81d52",
   "metadata": {},
   "outputs": [
    {
     "data": {
      "text/plain": [
       "{'type': 'tool', 'name': 'sums'}"
      ]
     },
     "execution_count": null,
     "metadata": {},
     "output_type": "execute_result"
    }
   ],
   "source": [
    "tools=[sums]\n",
    "choice = mk_tool_choice('sums')\n",
    "choice"
   ]
  },
  {
   "cell_type": "code",
   "execution_count": null,
   "id": "51966555",
   "metadata": {},
   "outputs": [
    {
     "data": {
      "text/markdown": [
       "ToolUseBlock(id='toolu_01TSMw6g94AR6cdyvE3Rtdtb', input={'a': 604542, 'b': 6458932}, name='sums', type='tool_use')\n",
       "\n",
       "<details>\n",
       "\n",
       "- id: `msg_01WgPFTRNN2YrSphkssjTG6j`\n",
       "- content: `[{'id': 'toolu_01TSMw6g94AR6cdyvE3Rtdtb', 'input': {'a': 604542, 'b': 6458932}, 'name': 'sums', 'type': 'tool_use'}]`\n",
       "- model: `claude-3-7-sonnet-20250219`\n",
       "- role: `assistant`\n",
       "- stop_reason: `tool_use`\n",
       "- stop_sequence: `None`\n",
       "- type: `message`\n",
       "- usage: `{'cache_creation_input_tokens': 0, 'cache_read_input_tokens': 0, 'input_tokens': 438, 'output_tokens': 57}`\n",
       "\n",
       "</details>"
      ],
      "text/plain": [
       "Message(id='msg_01WgPFTRNN2YrSphkssjTG6j', content=[ToolUseBlock(id='toolu_01TSMw6g94AR6cdyvE3Rtdtb', input={'a': 604542, 'b': 6458932}, name='sums', type='tool_use')], model='claude-3-7-sonnet-20250219', role='assistant', stop_reason='tool_use', stop_sequence=None, type='message', usage=In: 438; Out: 57; Cache create: 0; Cache read: 0; Total: 495)"
      ]
     },
     "execution_count": null,
     "metadata": {},
     "output_type": "execute_result"
    }
   ],
   "source": [
    "msgs = mk_msgs(pr)\n",
    "r = await c(msgs, sp=sp, tools=tools, tool_choice=choice)\n",
    "r"
   ]
  },
  {
   "cell_type": "code",
   "execution_count": null,
   "id": "001fa20e",
   "metadata": {},
   "outputs": [],
   "source": [
    "#| export\n",
    "async def mk_funcres_async(fc, ns):\n",
    "    \"Given tool use block `fc`, get tool result, and create a tool_result response.\"\n",
    "    res = await call_func_async(fc.name, fc.input, ns=ns, raise_on_err=False)\n",
    "    return dict(type=\"tool_result\", tool_use_id=fc.id, content=str(res))"
   ]
  },
  {
   "cell_type": "code",
   "execution_count": null,
   "id": "95722de4",
   "metadata": {},
   "outputs": [],
   "source": [
    "#| export\n",
    "async def mk_toolres_async(\n",
    "    r:abc.Mapping, # Tool use request response from Claude\n",
    "    ns:Optional[abc.Mapping]=None, # Namespace to search for tools\n",
    "    obj:Optional=None # Class to search for tools\n",
    "    ):\n",
    "    \"Create a `tool_result` message from response `r`.\"\n",
    "    cts = getattr(r, 'content', [])\n",
    "    res = [mk_msg(r.model_dump(), role='assistant')]\n",
    "    if ns is None: ns=globals()\n",
    "    if obj is not None: ns = mk_ns(obj)\n",
    "    tcs = [await mk_funcres_async(o, ns) for o in cts if isinstance(o,ToolUseBlock)]\n",
    "    if tcs: res.append(mk_msg(tcs))\n",
    "    return res"
   ]
  },
  {
   "cell_type": "code",
   "execution_count": null,
   "id": "2ad2ec69",
   "metadata": {},
   "outputs": [
    {
     "name": "stdout",
     "output_type": "stream",
     "text": [
      "Finding the sum of 604542 and 6458932\n"
     ]
    },
    {
     "data": {
      "text/plain": [
       "[{'role': 'assistant',\n",
       "  'content': [{'id': 'toolu_01TSMw6g94AR6cdyvE3Rtdtb',\n",
       "    'input': {'a': 604542, 'b': 6458932},\n",
       "    'name': 'sums',\n",
       "    'type': 'tool_use'}]},\n",
       " {'role': 'user',\n",
       "  'content': [{'type': 'tool_result',\n",
       "    'tool_use_id': 'toolu_01TSMw6g94AR6cdyvE3Rtdtb',\n",
       "    'content': '7063474'}]}]"
      ]
     },
     "execution_count": null,
     "metadata": {},
     "output_type": "execute_result"
    }
   ],
   "source": [
    "tr = await mk_toolres_async(r, ns=globals())\n",
    "tr"
   ]
  },
  {
   "cell_type": "code",
   "execution_count": null,
   "id": "9d0862b6",
   "metadata": {},
   "outputs": [
    {
     "data": {
      "text/plain": [
       "'The sum of 604542 and 6458932 is 7,063,474.'"
      ]
     },
     "execution_count": null,
     "metadata": {},
     "output_type": "execute_result"
    }
   ],
   "source": [
    "msgs += tr\n",
    "r = contents(await c(msgs, sp=sp, tools=sums))\n",
    "r"
   ]
  },
  {
   "cell_type": "markdown",
   "id": "b5c7af80",
   "metadata": {},
   "source": [
    "## Structured Output"
   ]
  },
  {
   "cell_type": "code",
   "execution_count": null,
   "id": "b68060dc",
   "metadata": {},
   "outputs": [],
   "source": [
    "#|export\n",
    "@patch\n",
    "@delegates(Client.__call__)\n",
    "async def structured(self:AsyncClient,\n",
    "               msgs:list, # List of messages in the dialog\n",
    "               tools:Optional[list]=None, # List of tools to make available to Claude\n",
    "               obj:Optional=None, # Class to search for tools  \n",
    "               ns:Optional[abc.Mapping]=None, # Namespace to search for tools\n",
    "               **kwargs):\n",
    "    \"Return the value of all tool calls (generally used for structured outputs)\"\n",
    "    tools = listify(tools)\n",
    "    if ns is None: ns=mk_ns(*tools)\n",
    "    if obj is not None: ns = mk_ns(obj)\n",
    "    res = await self(msgs, tools=tools, tool_choice=tools,**kwargs)\n",
    "    cts = getattr(res, 'content', [])\n",
    "    tcs = [await call_func_async(o.name, o.input, ns=ns) for o in cts if isinstance(o,ToolUseBlock)]\n",
    "    return tcs"
   ]
  },
  {
   "cell_type": "code",
   "execution_count": null,
   "id": "30a71b2e",
   "metadata": {},
   "outputs": [
    {
     "name": "stdout",
     "output_type": "stream",
     "text": [
      "Finding the sum of 604542 and 6458932\n"
     ]
    },
    {
     "data": {
      "text/plain": [
       "[7063474]"
      ]
     },
     "execution_count": null,
     "metadata": {},
     "output_type": "execute_result"
    }
   ],
   "source": [
    "await c.structured(pr, sums)"
   ]
  },
  {
   "cell_type": "code",
   "execution_count": null,
   "id": "9992504a",
   "metadata": {},
   "outputs": [
    {
     "data": {
      "text/markdown": [
       "ToolUseBlock(id='toolu_015qtmiS5yq7JQgxCmjvY6au', input={'a': 604542, 'b': 6458932}, name='sums', type='tool_use')\n",
       "\n",
       "| Metric | Count | Cost (USD) |\n",
       "|--------|------:|-----:|\n",
       "| Input tokens | 1,448 | 0.004344 |\n",
       "| Output tokens | 298 | 0.004470 |\n",
       "| Cache tokens | 0 | 0.000000 |\n",
       "| **Total** | **1,746** | **$0.008814** |"
      ],
      "text/plain": [
       "<__main__.AsyncClient>"
      ]
     },
     "execution_count": null,
     "metadata": {},
     "output_type": "execute_result"
    }
   ],
   "source": [
    "c"
   ]
  },
  {
   "cell_type": "markdown",
   "id": "4ea144b8",
   "metadata": {},
   "source": [
    "## AsyncChat"
   ]
  },
  {
   "cell_type": "code",
   "execution_count": null,
   "id": "a77d1edb",
   "metadata": {},
   "outputs": [],
   "source": [
    "#| exports\n",
    "@delegates()\n",
    "class AsyncChat(Chat):\n",
    "    def __init__(self,\n",
    "                 model:Optional[str]=None, # Model to use (leave empty if passing `cli`)\n",
    "                 cli:Optional[Client]=None, # Client to use (leave empty if passing `model`)\n",
    "                 **kwargs):\n",
    "        \"Anthropic async chat client.\"\n",
    "        super().__init__(model, cli, **kwargs)\n",
    "        if not cli: self.c = AsyncClient(model)"
   ]
  },
  {
   "cell_type": "code",
   "execution_count": null,
   "id": "04b837c5",
   "metadata": {},
   "outputs": [
    {
     "data": {
      "text/plain": [
       "(In: 0; Out: 0; Cache create: 0; Cache read: 0; Total: 0, [])"
      ]
     },
     "execution_count": null,
     "metadata": {},
     "output_type": "execute_result"
    }
   ],
   "source": [
    "sp = \"Never mention what tools you use.\"\n",
    "chat = AsyncChat(model, sp=sp)\n",
    "chat.c.use, chat.h"
   ]
  },
  {
   "cell_type": "code",
   "execution_count": null,
   "id": "42a05df9",
   "metadata": {},
   "outputs": [],
   "source": [
    "#| exports\n",
    "@patch\n",
    "async def _stream(self:AsyncChat, res):\n",
    "    async for o in res: yield o\n",
    "    self.h += mk_toolres(self.c.result, ns=self.tools, obj=self)"
   ]
  },
  {
   "cell_type": "code",
   "execution_count": null,
   "id": "8e5ab3be",
   "metadata": {},
   "outputs": [],
   "source": [
    "#| exports\n",
    "@patch\n",
    "async def _append_pr(self:AsyncChat, pr=None):\n",
    "    prev_role = nested_idx(self.h, -1, 'role') if self.h else 'assistant' # First message should be 'user' if no history\n",
    "    if pr and prev_role == 'user': await self()\n",
    "    self._post_pr(pr, prev_role)"
   ]
  },
  {
   "cell_type": "code",
   "execution_count": null,
   "id": "412e7cfe",
   "metadata": {},
   "outputs": [],
   "source": [
    "#| exports\n",
    "@patch\n",
    "async def __call__(self:AsyncChat,\n",
    "                   pr=None,  # Prompt / message\n",
    "                   temp=None, # Temperature\n",
    "                   maxtok=4096, # Maximum tokens\n",
    "                   maxthinktok=0, # Maximum thinking tokens\n",
    "                   stream=False, # Stream response?\n",
    "                   prefill='', # Optional prefill to pass to Claude as start of its response\n",
    "                   tool_choice:Optional[Union[str,bool,dict]]=None, # Optionally force use of some tool\n",
    "                   **kw):\n",
    "    if temp is None: temp=self.temp\n",
    "    await self._append_pr(pr)\n",
    "    res = await self.c(self.h, stream=stream, prefill=prefill, sp=self.sp, temp=temp, maxtok=maxtok, maxthinktok=maxthinktok, tools=self.tools, tool_choice=tool_choice, **kw)\n",
    "    if stream: return self._stream(res)\n",
    "    self.h += await mk_toolres_async(self.c.result, ns=self.ns)\n",
    "    return res"
   ]
  },
  {
   "cell_type": "code",
   "execution_count": null,
   "id": "40073f42",
   "metadata": {},
   "outputs": [
    {
     "data": {
      "text/markdown": [
       "Your name is Jeremy, as you mentioned in your previous message.\n",
       "\n",
       "<details>\n",
       "\n",
       "- id: `msg_011pCCZaehUHEokcUdfw9HBV`\n",
       "- content: `[{'citations': None, 'text': 'Your name is Jeremy, as you mentioned in your previous message.', 'type': 'text'}]`\n",
       "- model: `claude-3-7-sonnet-20250219`\n",
       "- role: `assistant`\n",
       "- stop_reason: `end_turn`\n",
       "- stop_sequence: `None`\n",
       "- type: `message`\n",
       "- usage: `{'cache_creation_input_tokens': 0, 'cache_read_input_tokens': 0, 'input_tokens': 59, 'output_tokens': 16}`\n",
       "\n",
       "</details>"
      ],
      "text/plain": [
       "Message(id='msg_011pCCZaehUHEokcUdfw9HBV', content=[TextBlock(citations=None, text='Your name is Jeremy, as you mentioned in your previous message.', type='text')], model='claude-3-7-sonnet-20250219', role='assistant', stop_reason='end_turn', stop_sequence=None, type='message', usage=In: 59; Out: 16; Cache create: 0; Cache read: 0; Total: 75)"
      ]
     },
     "execution_count": null,
     "metadata": {},
     "output_type": "execute_result"
    }
   ],
   "source": [
    "await chat(\"I'm Jeremy\")\n",
    "await chat(\"What's my name?\")"
   ]
  },
  {
   "cell_type": "code",
   "execution_count": null,
   "id": "20a32de0",
   "metadata": {},
   "outputs": [
    {
     "data": {
      "text/markdown": [
       "According to Douglas Adams,  42. More seriously, the meaning of life is likely what you create through your relationships, pursuits, and values.\n",
       "\n",
       "<details>\n",
       "\n",
       "- id: `msg_01HnHJXGu96Sz71NCEG5P7mM`\n",
       "- content: `[{'citations': None, 'text': 'According to Douglas Adams,  42. More seriously, the meaning of life is likely what you create through your relationships, pursuits, and values.', 'type': 'text'}]`\n",
       "- model: `claude-3-7-sonnet-20250219`\n",
       "- role: `assistant`\n",
       "- stop_reason: `end_turn`\n",
       "- stop_sequence: `None`\n",
       "- type: `message`\n",
       "- usage: `{'cache_creation_input_tokens': 0, 'cache_read_input_tokens': 0, 'input_tokens': 95, 'output_tokens': 28}`\n",
       "\n",
       "</details>"
      ],
      "text/plain": [
       "Message(id='msg_01HnHJXGu96Sz71NCEG5P7mM', content=[TextBlock(citations=None, text='According to Douglas Adams,  42. More seriously, the meaning of life is likely what you create through your relationships, pursuits, and values.', type='text')], model='claude-3-7-sonnet-20250219', role='assistant', stop_reason='end_turn', stop_sequence=None, type='message', usage=In: 95; Out: 28; Cache create: 0; Cache read: 0; Total: 123)"
      ]
     },
     "execution_count": null,
     "metadata": {},
     "output_type": "execute_result"
    }
   ],
   "source": [
    "q = \"Concisely, what is the meaning of life?\"\n",
    "pref = 'According to Douglas Adams,'\n",
    "await chat(q, prefill=pref)"
   ]
  },
  {
   "cell_type": "code",
   "execution_count": null,
   "id": "529104ec",
   "metadata": {},
   "outputs": [
    {
     "name": "stdout",
     "output_type": "stream",
     "text": [
      "Hello Jeremy! It's nice to meet you. How are you doing today? Is there something I can help you with or would you like to chat?"
     ]
    }
   ],
   "source": [
    "chat = AsyncChat(model, sp=sp)\n",
    "async for o in await chat(\"I'm Jeremy\", stream=True): print(o, end='')"
   ]
  },
  {
   "cell_type": "code",
   "execution_count": null,
   "id": "ee6535cf",
   "metadata": {},
   "outputs": [
    {
     "name": "stdout",
     "output_type": "stream",
     "text": [
      "Finding the sum of 604542 and 6458932\n"
     ]
    },
    {
     "data": {
      "text/markdown": [
       "I'll calculate the sum of those two numbers for you.\n",
       "\n",
       "<details>\n",
       "\n",
       "- id: `msg_01JwSYNZPzyZz8Dx8F4UYm2B`\n",
       "- content: `[{'citations': None, 'text': \"I'll calculate the sum of those two numbers for you.\", 'type': 'text'}, {'id': 'toolu_012EnQPvNddWvJoPyeXpozqF', 'input': {'a': 604542, 'b': 6458932}, 'name': 'sums', 'type': 'tool_use'}]`\n",
       "- model: `claude-3-7-sonnet-20250219`\n",
       "- role: `assistant`\n",
       "- stop_reason: `tool_use`\n",
       "- stop_sequence: `None`\n",
       "- type: `message`\n",
       "- usage: `{'cache_creation_input_tokens': 0, 'cache_read_input_tokens': 0, 'input_tokens': 437, 'output_tokens': 85}`\n",
       "\n",
       "</details>"
      ],
      "text/plain": [
       "Message(id='msg_01JwSYNZPzyZz8Dx8F4UYm2B', content=[TextBlock(citations=None, text=\"I'll calculate the sum of those two numbers for you.\", type='text'), ToolUseBlock(id='toolu_012EnQPvNddWvJoPyeXpozqF', input={'a': 604542, 'b': 6458932}, name='sums', type='tool_use')], model='claude-3-7-sonnet-20250219', role='assistant', stop_reason='tool_use', stop_sequence=None, type='message', usage=In: 437; Out: 85; Cache create: 0; Cache read: 0; Total: 522)"
      ]
     },
     "execution_count": null,
     "metadata": {},
     "output_type": "execute_result"
    }
   ],
   "source": [
    "pr = f\"What is {a}+{b}?\"\n",
    "chat = AsyncChat(model, sp=sp, tools=[sums])\n",
    "r = await chat(pr)\n",
    "r"
   ]
  },
  {
   "cell_type": "code",
   "execution_count": null,
   "id": "2dc85163",
   "metadata": {},
   "outputs": [
    {
     "name": "stdout",
     "output_type": "stream",
     "text": [
      "Finding the sum of 604542 and 6458932\n"
     ]
    },
    {
     "data": {
      "text/markdown": [
       "Let me calculate that sum for you.\n",
       "\n",
       "<details>\n",
       "\n",
       "- id: `msg_01UCQMWn7W96VEBRUhZrvTJE`\n",
       "- content: `[{'citations': None, 'text': 'Let me calculate that sum for you.', 'type': 'text'}, {'id': 'toolu_01Mdk5rDKjYRxSCKAdgp911d', 'input': {'a': 604542, 'b': 6458932}, 'name': 'sums', 'type': 'tool_use'}]`\n",
       "- model: `claude-3-7-sonnet-20250219`\n",
       "- role: `assistant`\n",
       "- stop_reason: `tool_use`\n",
       "- stop_sequence: `None`\n",
       "- type: `message`\n",
       "- usage: `{'cache_creation_input_tokens': 0, 'cache_read_input_tokens': 0, 'input_tokens': 444, 'output_tokens': 81}`\n",
       "\n",
       "</details>"
      ],
      "text/plain": [
       "Message(id='msg_01UCQMWn7W96VEBRUhZrvTJE', content=[TextBlock(citations=None, text='Let me calculate that sum for you.', type='text'), ToolUseBlock(id='toolu_01Mdk5rDKjYRxSCKAdgp911d', input={'a': 604542, 'b': 6458932}, name='sums', type='tool_use')], model='claude-3-7-sonnet-20250219', role='assistant', stop_reason='tool_use', stop_sequence=None, type='message', usage=In: 444; Out: 81; Cache create: 0; Cache read: 0; Total: 525)"
      ]
     },
     "execution_count": null,
     "metadata": {},
     "output_type": "execute_result"
    }
   ],
   "source": [
    "pr += \" Say the answer in a sentence.\"\n",
    "chat = AsyncChat(model, sp=sp, tools=[sums])\n",
    "r = await chat(pr)\n",
    "r"
   ]
  },
  {
   "cell_type": "code",
   "execution_count": null,
   "id": "5d35d564",
   "metadata": {},
   "outputs": [
    {
     "data": {
      "image/jpeg": "[encoded data removed]",
      "text/plain": [
       "<IPython.core.display.Image object>"
      ]
     },
     "execution_count": null,
     "metadata": {},
     "output_type": "execute_result"
    }
   ],
   "source": [
    "fn = Path('samples/puppy.jpg')\n",
    "img = fn.read_bytes()\n",
    "display.Image(img)"
   ]
  },
  {
   "cell_type": "code",
   "execution_count": null,
   "id": "0c0eed5d",
   "metadata": {},
   "outputs": [
    {
     "data": {
      "text/markdown": [
       "The flowers in the image are purple/lavender in color. They appear to be small daisy-like flowers or asters blooming in the background, while in the foreground there's an adorable Cavalier King Charles Spaniel puppy (or similar breed) with white and brown fur resting on the grass.\n",
       "\n",
       "<details>\n",
       "\n",
       "- id: `msg_01Q7ydoG1m2RnRB5gZfcpbyV`\n",
       "- content: `[{'citations': None, 'text': \"The flowers in the image are purple/lavender in color. They appear to be small daisy-like flowers or asters blooming in the background, while in the foreground there's an adorable Cavalier King Charles Spaniel puppy (or similar breed) with white and brown fur resting on the grass.\", 'type': 'text'}]`\n",
       "- model: `claude-3-7-sonnet-20250219`\n",
       "- role: `assistant`\n",
       "- stop_reason: `end_turn`\n",
       "- stop_sequence: `None`\n",
       "- type: `message`\n",
       "- usage: `{'cache_creation_input_tokens': 0, 'cache_read_input_tokens': 0, 'input_tokens': 110, 'output_tokens': 71}`\n",
       "\n",
       "</details>"
      ],
      "text/plain": [
       "Message(id='msg_01Q7ydoG1m2RnRB5gZfcpbyV', content=[TextBlock(citations=None, text=\"The flowers in the image are purple/lavender in color. They appear to be small daisy-like flowers or asters blooming in the background, while in the foreground there's an adorable Cavalier King Charles Spaniel puppy (or similar breed) with white and brown fur resting on the grass.\", type='text')], model='claude-3-7-sonnet-20250219', role='assistant', stop_reason='end_turn', stop_sequence=None, type='message', usage=In: 110; Out: 71; Cache create: 0; Cache read: 0; Total: 181)"
      ]
     },
     "execution_count": null,
     "metadata": {},
     "output_type": "execute_result"
    }
   ],
   "source": [
    "q = \"In brief, what color flowers are in this image?\"\n",
    "msg = mk_msg([img, q])\n",
    "await c([msg])"
   ]
  },
  {
   "cell_type": "markdown",
   "id": "f11188cd",
   "metadata": {},
   "source": [
    "Add `cache=True` to automatically add to Claude's KV cache. Cache creation tokens are a little more expensive, but cache read tokens are *far* cheaper."
   ]
  },
  {
   "cell_type": "code",
   "execution_count": null,
   "id": "c9fea77e",
   "metadata": {},
   "outputs": [
    {
     "data": {
      "text/plain": [
       "In: 4; Out: 81; Cache create: 1058; Cache read: 0; Total: 1143"
      ]
     },
     "execution_count": null,
     "metadata": {},
     "output_type": "execute_result"
    }
   ],
   "source": [
    "chat = AsyncChat(model, sp=sp, cache=True)\n",
    "await chat(\"Lorem ipsum dolor sit amet\" * 150)\n",
    "chat.use"
   ]
  },
  {
   "cell_type": "markdown",
   "id": "6e19c296",
   "metadata": {},
   "source": [
    "In this followup call, nearly all the tokens are cached, so the only the new additional tokens are charged at the full rate."
   ]
  },
  {
   "cell_type": "code",
   "execution_count": null,
   "id": "0464b15d",
   "metadata": {},
   "outputs": [
    {
     "data": {
      "text/plain": [
       "In: 8; Out: 124; Cache create: 1150; Cache read: 1058; Total: 2340"
      ]
     },
     "execution_count": null,
     "metadata": {},
     "output_type": "execute_result"
    }
   ],
   "source": [
    "await chat(\"Whoops, sorry about that!\")\n",
    "chat.use"
   ]
  },
  {
   "cell_type": "markdown",
   "id": "3d162fca",
   "metadata": {},
   "source": [
    "## Extended Thinking"
   ]
  },
  {
   "cell_type": "markdown",
   "id": "11327638",
   "metadata": {},
   "source": [
    "Claude 3.7 Sonnet has enhanced reasoning capabilities for complex tasks. See [docs](https://docs.anthropic.com/en/docs/build-with-claude/extended-thinking) for more info.\n",
    "\n",
    "We can enable extended thinking by passing a `thinking` param with the following structure.\n",
    "\n",
    "```js\n",
    "thinking={\n",
    "    \"type\": \"enabled\",\n",
    "    \"budget_tokens\": 16000\n",
    "}\n",
    "```\n",
    "\n",
    "When extended thinking is enabled a thinking block is included in the response as shown below.\n",
    "\n",
    "```js\n",
    "{\n",
    "  \"content\": [\n",
    "    {\n",
    "      \"type\": \"thinking\",\n",
    "      \"thinking\": \"To approach this, let's think about...\",\n",
    "      \"signature\": \"Imtakcjsu38219c0.eyJoYXNoIjoiYWJjM0NTY3fQ....\"\n",
    "    },\n",
    "    {\n",
    "      \"type\": \"text\",\n",
    "      \"text\": \"Yes, there are infinitely many prime numbers such that...\"\n",
    "    }\n",
    "  ]\n",
    "}\n",
    "```\n",
    "\n",
    "Let's call the model without extended thinking enabled. "
   ]
  },
  {
   "cell_type": "code",
   "execution_count": null,
   "id": "26b5f9c7",
   "metadata": {},
   "outputs": [
    {
     "data": {
      "text/markdown": [
       "Python is a versatile programming language known for its readable syntax and wide application in fields ranging from web development to data science and artificial intelligence.\n",
       "\n",
       "<details>\n",
       "\n",
       "- id: `msg_01E3t5hoTy6zkhpPMQt1vSwU`\n",
       "- content: `[{'citations': None, 'text': 'Python is a versatile programming language known for its readable syntax and wide application in fields ranging from web development to data science and artificial intelligence.', 'type': 'text'}]`\n",
       "- model: `claude-3-7-sonnet-20250219`\n",
       "- role: `assistant`\n",
       "- stop_reason: `end_turn`\n",
       "- stop_sequence: `None`\n",
       "- type: `message`\n",
       "- usage: `{'cache_creation_input_tokens': 0, 'cache_read_input_tokens': 0, 'input_tokens': 13, 'output_tokens': 31}`\n",
       "\n",
       "</details>"
      ],
      "text/plain": [
       "Message(id='msg_01E3t5hoTy6zkhpPMQt1vSwU', content=[TextBlock(citations=None, text='Python is a versatile programming language known for its readable syntax and wide application in fields ranging from web development to data science and artificial intelligence.', type='text')], model='claude-3-7-sonnet-20250219', role='assistant', stop_reason='end_turn', stop_sequence=None, type='message', usage=In: 13; Out: 31; Cache create: 0; Cache read: 0; Total: 44)"
      ]
     },
     "execution_count": null,
     "metadata": {},
     "output_type": "execute_result"
    }
   ],
   "source": [
    "tk_model = first(has_extended_thinking_models)\n",
    "chat = AsyncChat(tk_model)\n",
    "await chat(\"Write a sentence about Python!\")"
   ]
  },
  {
   "cell_type": "markdown",
   "id": "e9aab9e0",
   "metadata": {},
   "source": [
    "Now, let's call the model with extended thinking enabled."
   ]
  },
  {
   "cell_type": "code",
   "execution_count": null,
   "id": "0aec5ad6",
   "metadata": {},
   "outputs": [
    {
     "data": {
      "text/plain": [
       "[ThinkingBlock(signature='ErUBCkYIAxgCIkDwYbWFKH4ZQ5LSZkTNjfHbEYCnHto5D9aeutnOwtJJU2DwMCKNMzK35Yh3KB3DrhHZ0caUCK/6dZAApKCnMz0kEgxc7SfWMEwuZ2+LKzYaDFTsHiFn9/uDsxq7PyIwuhmdrnQe9GjrcZ75auo5nwxegWiHaXyRxXY90JORQBmflZr5FF4YNJZr49tSij8GKh2WfwmADPz3GoCMz4V87aNSMd9EtD0Q5RoONkfkPBgC', thinking=\"I'm being asked again to write a sentence about Python. Since I've provided two different sentences in my previous responses, I should make sure to write yet another unique sentence about Python to avoid repetition. I'll focus on a different aspect of Python that I haven't mentioned yet, such as its community, ecosystem, history, or specific technical features.\", type='thinking'),\n",
       " TextBlock(citations=None, text='The robust Python ecosystem boasts thousands of third-party packages that enable developers to quickly build applications without reinventing the wheel, making it one of the most productive programming languages available today.', type='text')]"
      ]
     },
     "execution_count": null,
     "metadata": {},
     "output_type": "execute_result"
    }
   ],
   "source": [
    "r = await chat(\"Write a sentence about Python!\", maxthinktok=1024)\n",
    "r.content"
   ]
  },
  {
   "cell_type": "markdown",
   "id": "94ec4289",
   "metadata": {},
   "source": [
    "## Export -"
   ]
  },
  {
   "cell_type": "code",
   "execution_count": null,
   "id": "1e9ee5c1",
   "metadata": {},
   "outputs": [],
   "source": [
    "#|hide\n",
    "#|eval: false\n",
    "from nbdev.doclinks import nbdev_export\n",
    "nbdev_export()"
   ]
  },
  {
   "cell_type": "code",
   "execution_count": null,
   "id": "207f9715",
   "metadata": {},
   "outputs": [],
   "source": []
  }
 ],
 "metadata": {
  "kernelspec": {
   "display_name": "python3",
   "language": "python",
   "name": "python3"
  }
 },
 "nbformat": 4,
 "nbformat_minor": 5
}
