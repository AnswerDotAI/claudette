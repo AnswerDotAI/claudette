{
 "cells": [
  {
   "cell_type": "code",
   "execution_count": null,
   "metadata": {},
   "outputs": [],
   "source": [
    "#|default_exp text_editor"
   ]
  },
  {
   "cell_type": "markdown",
   "metadata": {},
   "source": [
    "# Text Editor\n",
    "\n",
    "This module contains a compliant implementation of Anthropic's Text Editor Tool API. More info on how the text editor tool work can be found [here](https://docs.anthropic.com/en/docs/build-with-claude/tool-use/text-editor-tool#implement-the-text-editor-tool)."
   ]
  },
  {
   "cell_type": "code",
   "execution_count": null,
   "metadata": {},
   "outputs": [],
   "source": [
    "#| export\n",
    "from pathlib import Path"
   ]
  },
  {
   "cell_type": "code",
   "execution_count": null,
   "metadata": {},
   "outputs": [],
   "source": [
    "#| hide\n",
    "from claudette.core import *\n",
    "from toolslm.funccall import *"
   ]
  },
  {
   "cell_type": "code",
   "execution_count": null,
   "metadata": {},
   "outputs": [],
   "source": [
    "#| exports\n",
    "def view(path:str, rng:tuple[int,int]=None, nums:bool=False):\n",
    "    'View directory or file contents with optional line range and numbers'\n",
    "    try:\n",
    "        p = Path(path).expanduser().resolve()\n",
    "        if not p.exists(): return f'Error: File not found: {p}'\n",
    "        if p.is_dir(): return f'Directory contents of {p}:\\n' + '\\n'.join([str(f) for f in p.glob('**/*')\n",
    "                                                                           if not f.name.startswith('.')])\n",
    "        \n",
    "        lines = p.read_text().splitlines()\n",
    "        s,e = 1,len(lines)\n",
    "        if rng:\n",
    "            s,e = rng\n",
    "            if not (1 <= s <= len(lines)): return f'Error: Invalid start line {s}'\n",
    "            if e != -1 and not (s <= e <= len(lines)): return f'Error: Invalid end line {e}'\n",
    "            lines = lines[s-1:None if e==-1 else e]\n",
    "            \n",
    "        return '\\n'.join([f'{i+s-1:6d} │ {l}' for i,l in enumerate(lines,1)] if nums else lines)\n",
    "    except Exception as e: return f'Error viewing file: {str(e)}'"
   ]
  },
  {
   "cell_type": "code",
   "execution_count": null,
   "metadata": {},
   "outputs": [
    {
     "name": "stdout",
     "output_type": "stream",
     "text": [
      "     1 │ project:\n",
      "     2 │   type: website\n",
      "     3 │   resources: \n",
      "     4 │     - \"*.txt\"\n",
      "     5 │   preview:\n",
      "     6 │     port: 3000\n",
      "     7 │     browser: false\n",
      "     8 │ \n",
      "     9 │ format:\n",
      "    10 │   html:\n"
     ]
    }
   ],
   "source": [
    "print(view('_quarto.yml', (1,10), nums=True))"
   ]
  },
  {
   "cell_type": "code",
   "execution_count": null,
   "metadata": {},
   "outputs": [],
   "source": [
    "#| exports\n",
    "def create(path: str, file_text: str, overwrite:bool=False) -> str:\n",
    "    'Creates a new file with the given content at the specified path'\n",
    "    try:\n",
    "        p = Path(path)\n",
    "        if p.exists():\n",
    "            if not overwrite: return f'Error: File already exists: {p}'\n",
    "        p.parent.mkdir(parents=True, exist_ok=True)\n",
    "        p.write_text(file_text)\n",
    "        return f'Created file {p} containing:\\n{file_text}'\n",
    "    except Exception as e: return f'Error creating file: {str(e)}'"
   ]
  },
  {
   "cell_type": "code",
   "execution_count": null,
   "metadata": {},
   "outputs": [
    {
     "name": "stdout",
     "output_type": "stream",
     "text": [
      "Error: File already exists: test.txt\n",
      "     1 │ Let's add a \n",
      "     2 │ Let's add a \n",
      "     3 │ Let's add a \n",
      "     4 │ Let's add a \n",
      "     5 │ Let's add a \n",
      "     6 │ Let's add a \n",
      "     7 │ Let's add a \n",
      "     8 │ Let's add a \n",
      "     9 │ Let's add a \n",
      "    10 │ Let's add a \n",
      "    11 │ Hello, world!\n"
     ]
    }
   ],
   "source": [
    "print(create('test.txt', 'Hello, world!'))\n",
    "print(view('test.txt', nums=True))"
   ]
  },
  {
   "cell_type": "code",
   "execution_count": null,
   "metadata": {},
   "outputs": [],
   "source": [
    "#| exports\n",
    "def insert(path: str, insert_line: int, new_str: str) -> str:\n",
    "    'Insert new_str at specified line number'\n",
    "    try:\n",
    "        p = Path(path)\n",
    "        if not p.exists(): return f'Error: File not found: {p}'\n",
    "            \n",
    "        content = p.read_text().splitlines()\n",
    "        if not (0 <= insert_line <= len(content)): return f'Error: Invalid line number {insert_line}'\n",
    "            \n",
    "        content.insert(insert_line, new_str)\n",
    "        new_content = '\\n'.join(content)\n",
    "        p.write_text(new_content)\n",
    "        return f'Inserted text at line {insert_line} in {p}.\\nNew contents:\\n{new_content}'\n",
    "    except Exception as e: return f'Error inserting text: {str(e)}'"
   ]
  },
  {
   "cell_type": "code",
   "execution_count": null,
   "metadata": {},
   "outputs": [
    {
     "name": "stdout",
     "output_type": "stream",
     "text": [
      "     1 │ Let's add a new line\n",
      "     2 │ Let's add a \n",
      "     3 │ Let's add a \n",
      "     4 │ Let's add a \n",
      "     5 │ Let's add a \n",
      "     6 │ Let's add a \n",
      "     7 │ Let's add a \n",
      "     8 │ Let's add a \n",
      "     9 │ Let's add a \n",
      "    10 │ Let's add a \n",
      "    11 │ Let's add a \n",
      "    12 │ Hello, world!\n"
     ]
    }
   ],
   "source": [
    "insert('test.txt', 0, 'Let\\'s add a new line')\n",
    "print(view('test.txt', nums=True))"
   ]
  },
  {
   "cell_type": "code",
   "execution_count": null,
   "metadata": {},
   "outputs": [],
   "source": [
    "#| exports\n",
    "def str_replace(path: str, old_str: str, new_str: str) -> str:\n",
    "    'Replace first occurrence of old_str with new_str in file'\n",
    "    try:\n",
    "        p = Path(path)\n",
    "        if not p.exists(): return f'Error: File not found: {p}'\n",
    "            \n",
    "        content = p.read_text()\n",
    "        count = content.count(old_str)\n",
    "        \n",
    "        if count == 0: return 'Error: Text not found in file'\n",
    "        if count > 1: return f'Error: Multiple matches found ({count})'\n",
    "            \n",
    "        new_content = content.replace(old_str, new_str, 1)\n",
    "        p.write_text(new_content)\n",
    "        return f'Replaced text in {p}.\\nNew contents:\\n{new_content}'\n",
    "    except Exception as e: return f'Error replacing text: {str(e)}'"
   ]
  },
  {
   "cell_type": "code",
   "execution_count": null,
   "metadata": {},
   "outputs": [
    {
     "name": "stdout",
     "output_type": "stream",
     "text": [
      "     1 │ Let's add a \n",
      "     2 │ Let's add a \n",
      "     3 │ Let's add a \n",
      "     4 │ Let's add a \n",
      "     5 │ Let's add a \n",
      "     6 │ Let's add a \n",
      "     7 │ Let's add a \n",
      "     8 │ Let's add a \n",
      "     9 │ Let's add a \n",
      "    10 │ Let's add a \n",
      "    11 │ Let's add a \n",
      "    12 │ Hello, world!\n"
     ]
    }
   ],
   "source": [
    "str_replace('test.txt', 'new line', '')\n",
    "print(view('test.txt', nums=True))"
   ]
  },
  {
   "cell_type": "code",
   "execution_count": null,
   "metadata": {},
   "outputs": [],
   "source": [
    "#| exports\n",
    "def str_replace_editor(**kwargs: dict[str, str]) -> str:\n",
    "    'Doc'\n",
    "    cmd = kwargs.pop('command', '')\n",
    "    if cmd == 'view': return view(**kwargs)\n",
    "    elif cmd == 'str_replace': return str_replace(**kwargs) \n",
    "    elif cmd == 'create': return create(**kwargs)\n",
    "    elif cmd == 'insert': return insert(**kwargs)\n",
    "    elif cmd == 'undo_edit': return 'Undo edit is not supported yet.'\n",
    "    else: return f'Unknown command: {cmd}'"
   ]
  },
  {
   "cell_type": "code",
   "execution_count": null,
   "metadata": {},
   "outputs": [],
   "source": [
    "#| export\n",
    "text_editor_conf = {'sonnet':     {'type': 'text_editor_20250124',\n",
    "                                   'name': 'str_replace_editor'},\n",
    "                    'sonnet-3-5': {'type': 'text_editor_20241022',\n",
    "                                   'name': 'str_replace_editor'}}"
   ]
  },
  {
   "cell_type": "code",
   "execution_count": null,
   "metadata": {},
   "outputs": [
    {
     "data": {
      "text/markdown": [
       "Based on the content of your `_quarto.yml` file, here's an explanation of what it does:\n",
       "\n",
       "### Overview\n",
       "This is a configuration file for Quarto, which is a scientific and technical publishing system. Your configuration sets up a website project with specific formatting and layout options.\n",
       "\n",
       "### Key Components:\n",
       "\n",
       "1. **Project Configuration**:\n",
       "   - `type: website` - Defines this as a website project (as opposed to a book or other format)\n",
       "   - `resources: - \"*.txt\"` - Includes all .txt files as resources for the website\n",
       "   - `preview` settings configure the development server to run on port 3000 without automatically opening a browser\n",
       "\n",
       "2. **Format Settings**:\n",
       "   - `html` section configures how HTML output is generated:\n",
       "     - Uses the \"cosmo\" theme\n",
       "     - Applies custom styles from styles.css\n",
       "     - Enables table of contents (`toc: true`)\n",
       "     - Configures code blocks with background, left border (#31BAE9 blue color), and \"arrow\" highlighting style\n",
       "     - Sets specific grid layout dimensions for sidebar, body, margins, and gutters\n",
       "     - Preserves markdown files (`keep-md: true`)\n",
       "   - Also supports CommonMark format as an alternative output option\n",
       "\n",
       "3. **Website Features**:\n",
       "   - Enables Twitter card and Open Graph metadata for better social media sharing\n",
       "   - Adds GitHub issue creation functionality (`repo-actions: [issue]`)\n",
       "   - Configures a navbar with primary background color and search functionality\n",
       "   - Sets up a floating sidebar\n",
       "\n",
       "4. **Metadata Files**:\n",
       "   - Includes two external configuration files: `nbdev.yml` and `sidebar.yml`\n",
       "   - These likely contain additional settings for nbdev integration (for notebook-driven development) and sidebar structure\n",
       "\n",
       "This configuration creates a website with a clean, code-friendly layout that's optimized for technical content. The settings suggest this might be a documentation site or technical blog with a focus on displaying code examples effectively.\n",
       "\n",
       "<details>\n",
       "\n",
       "- id: `msg_01PSn8nv3CEv8m5zuvCgHTvg`\n",
       "- content: `[{'citations': None, 'text': 'Based on the content of your `_quarto.yml` file, here\\'s an explanation of what it does:\\n\\n### Overview\\nThis is a configuration file for Quarto, which is a scientific and technical publishing system. Your configuration sets up a website project with specific formatting and layout options.\\n\\n### Key Components:\\n\\n1. **Project Configuration**:\\n   - `type: website` - Defines this as a website project (as opposed to a book or other format)\\n   - `resources: - \"*.txt\"` - Includes all .txt files as resources for the website\\n   - `preview` settings configure the development server to run on port 3000 without automatically opening a browser\\n\\n2. **Format Settings**:\\n   - `html` section configures how HTML output is generated:\\n     - Uses the \"cosmo\" theme\\n     - Applies custom styles from styles.css\\n     - Enables table of contents (`toc: true`)\\n     - Configures code blocks with background, left border (#31BAE9 blue color), and \"arrow\" highlighting style\\n     - Sets specific grid layout dimensions for sidebar, body, margins, and gutters\\n     - Preserves markdown files (`keep-md: true`)\\n   - Also supports CommonMark format as an alternative output option\\n\\n3. **Website Features**:\\n   - Enables Twitter card and Open Graph metadata for better social media sharing\\n   - Adds GitHub issue creation functionality (`repo-actions: [issue]`)\\n   - Configures a navbar with primary background color and search functionality\\n   - Sets up a floating sidebar\\n\\n4. **Metadata Files**:\\n   - Includes two external configuration files: `nbdev.yml` and `sidebar.yml`\\n   - These likely contain additional settings for nbdev integration (for notebook-driven development) and sidebar structure\\n\\nThis configuration creates a website with a clean, code-friendly layout that\\'s optimized for technical content. The settings suggest this might be a documentation site or technical blog with a focus on displaying code examples effectively.', 'type': 'text'}]`\n",
       "- model: `claude-3-7-sonnet-20250219`\n",
       "- role: `assistant`\n",
       "- stop_reason: `end_turn`\n",
       "- stop_sequence: `None`\n",
       "- type: `message`\n",
       "- usage: `{'cache_creation_input_tokens': 0, 'cache_read_input_tokens': 0, 'input_tokens': 2175, 'output_tokens': 446}`\n",
       "\n",
       "</details>"
      ],
      "text/plain": [
       "Message(id='msg_01PSn8nv3CEv8m5zuvCgHTvg', content=[TextBlock(citations=None, text='Based on the content of your `_quarto.yml` file, here\\'s an explanation of what it does:\\n\\n### Overview\\nThis is a configuration file for Quarto, which is a scientific and technical publishing system. Your configuration sets up a website project with specific formatting and layout options.\\n\\n### Key Components:\\n\\n1. **Project Configuration**:\\n   - `type: website` - Defines this as a website project (as opposed to a book or other format)\\n   - `resources: - \"*.txt\"` - Includes all .txt files as resources for the website\\n   - `preview` settings configure the development server to run on port 3000 without automatically opening a browser\\n\\n2. **Format Settings**:\\n   - `html` section configures how HTML output is generated:\\n     - Uses the \"cosmo\" theme\\n     - Applies custom styles from styles.css\\n     - Enables table of contents (`toc: true`)\\n     - Configures code blocks with background, left border (#31BAE9 blue color), and \"arrow\" highlighting style\\n     - Sets specific grid layout dimensions for sidebar, body, margins, and gutters\\n     - Preserves markdown files (`keep-md: true`)\\n   - Also supports CommonMark format as an alternative output option\\n\\n3. **Website Features**:\\n   - Enables Twitter card and Open Graph metadata for better social media sharing\\n   - Adds GitHub issue creation functionality (`repo-actions: [issue]`)\\n   - Configures a navbar with primary background color and search functionality\\n   - Sets up a floating sidebar\\n\\n4. **Metadata Files**:\\n   - Includes two external configuration files: `nbdev.yml` and `sidebar.yml`\\n   - These likely contain additional settings for nbdev integration (for notebook-driven development) and sidebar structure\\n\\nThis configuration creates a website with a clean, code-friendly layout that\\'s optimized for technical content. The settings suggest this might be a documentation site or technical blog with a focus on displaying code examples effectively.', type='text')], model='claude-3-7-sonnet-20250219', role='assistant', stop_reason='end_turn', stop_sequence=None, type='message', usage=In: 2175; Out: 446; Cache create: 0; Cache read: 0; Total: 2621)"
      ]
     },
     "execution_count": null,
     "metadata": {},
     "output_type": "execute_result"
    }
   ],
   "source": [
    "ns = mk_ns(str_replace_editor) # function from claudette text_editor module\n",
    "c = Chat(models[1], tools=[text_editor_conf['sonnet']])\n",
    "c.toolloop('Please explain what my _quarto.yml does. Use your tools', ns=ns)"
   ]
  }
 ],
 "metadata": {
  "kernelspec": {
   "display_name": "python3",
   "language": "python",
   "name": "python3"
  }
 },
 "nbformat": 4,
 "nbformat_minor": 2
}
