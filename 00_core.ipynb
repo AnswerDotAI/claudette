{
 "cells": [
  {
   "cell_type": "code",
   "execution_count": null,
   "id": "efe78920",
   "metadata": {},
   "outputs": [],
   "source": [
    "#|default_exp core"
   ]
  },
  {
   "cell_type": "markdown",
   "id": "3d773712-12fe-440e-891f-36f59666dfde",
   "metadata": {},
   "source": [
    "# Claudette's source"
   ]
  },
  {
   "cell_type": "markdown",
   "id": "c47b5d38",
   "metadata": {},
   "source": [
    "This is the 'literate' source code for Claudette. You can view the fully rendered version of the notebook [here](https://claudette.answer.ai/core.html), or you can clone the git repo and run the [interactive notebook](https://github.com/AnswerDotAI/claudette/blob/main/00_core.ipynb) in Jupyter. The notebook is converted the [Python module claudette/core.py](https://github.com/AnswerDotAI/claudette/blob/main/claudette/core.py) using [nbdev](https://nbdev.fast.ai/). The goal of this source code is to both create the Python module, and also to teach the reader *how* it is created, without assuming much existing knowledge about Claude's API.\n",
    "\n",
    "Most of the time you'll see that we write some source code *first*, and then a description or discussion of it *afterwards*."
   ]
  },
  {
   "cell_type": "markdown",
   "id": "ff6f6471-8061-4fdd-85a1-25fdc27c5cf3",
   "metadata": {},
   "source": [
    "## Setup"
   ]
  },
  {
   "cell_type": "code",
   "execution_count": null,
   "id": "f1ad998e-4bb1-4bed-abf4-6e8606cb2453",
   "metadata": {},
   "outputs": [],
   "source": [
    "import os\n",
    "# os.environ['ANTHROPIC_LOG'] = 'debug'"
   ]
  },
  {
   "cell_type": "markdown",
   "id": "5b16f396",
   "metadata": {},
   "source": [
    "To print every HTTP request and response in full, uncomment the above line. This functionality is provided by Anthropic's SDK."
   ]
  },
  {
   "cell_type": "code",
   "execution_count": null,
   "id": "033c76fd",
   "metadata": {},
   "outputs": [],
   "source": [
    "#| export\n",
    "import inspect, typing, json\n",
    "from collections import abc\n",
    "try: from IPython import display\n",
    "except: display=None\n",
    "from typing import get_type_hints\n",
    "from functools import wraps\n",
    "\n",
    "from anthropic import Anthropic, AnthropicBedrock, AnthropicVertex\n",
    "from anthropic.types import (Usage, TextBlock, ServerToolUseBlock,\n",
    "                             WebSearchToolResultBlock, Message, ToolUseBlock,\n",
    "                             ThinkingBlock, ServerToolUsage)\n",
    "from anthropic.resources import messages\n",
    "\n",
    "import toolslm\n",
    "from toolslm.funccall import *\n",
    "\n",
    "from fastcore.meta import delegates\n",
    "from fastcore.utils import *\n",
    "from msglm import mk_msg_anthropic as mk_msg, mk_msgs_anthropic as mk_msgs"
   ]
  },
  {
   "cell_type": "code",
   "execution_count": null,
   "id": "13866a72",
   "metadata": {},
   "outputs": [],
   "source": [
    "#| hide\n",
    "from nbdev import show_doc\n",
    "\n",
    "# Used to show available models from the anthropic SDK\n",
    "from anthropic.types import Model\n",
    "from claudette.text_editor import *\n",
    "from typing import get_args\n",
    "from datetime import datetime\n",
    "from pprint import pprint\n",
    "\n",
    "import warnings\n",
    "\n",
    "warnings.filterwarnings(\"ignore\", message=\"Pydantic serializer warnings\")"
   ]
  },
  {
   "cell_type": "code",
   "execution_count": null,
   "id": "c1cefa1e",
   "metadata": {},
   "outputs": [],
   "source": [
    "#| export\n",
    "_all_ = ['mk_msg', 'mk_msgs']"
   ]
  },
  {
   "cell_type": "code",
   "execution_count": null,
   "id": "f5fa6b92",
   "metadata": {},
   "outputs": [],
   "source": [
    "#| export\n",
    "empty = inspect.Parameter.empty"
   ]
  },
  {
   "cell_type": "markdown",
   "id": "9c3c2197",
   "metadata": {},
   "source": [
    ":::{.callout-tip}\n",
    "\n",
    "If you're reading the rendered version of this notebook, you'll see an \"Exported source\" collapsible widget below. If you're reading the source notebook directly, you'll see `#| exports` at the top of the cell. These show that this piece of code will be exported into the python module that this notebook creates. No other code will be included -- any other code in this notebook is just for demonstration, documentation, and testing.\n",
    "\n",
    "You can toggle expanding/collapsing the source code of all exported sections by using the `</> Code` menu in the top right of the rendered notebook page.\n",
    "\n",
    ":::"
   ]
  },
  {
   "cell_type": "code",
   "execution_count": null,
   "id": "0fff8869",
   "metadata": {},
   "outputs": [],
   "source": [
    "#| exports\n",
    "\n",
    "model_types = {\n",
    "    # Anthropic\n",
    "    'claude-3-opus-20240229': 'opus',\n",
    "    'claude-3-7-sonnet-20250219': 'sonnet',\n",
    "    'claude-3-5-sonnet-20241022': 'sonnet-3-5',\n",
    "    'claude-3-haiku-20240307': 'haiku-3',\n",
    "    'claude-3-5-haiku-20241022': 'haiku-3-5',\n",
    "    # AWS\n",
    "    'anthropic.claude-3-opus-20240229-v1:0': 'opus',\n",
    "    'anthropic.claude-3-5-sonnet-20241022-v2:0': 'sonnet',\n",
    "    'anthropic.claude-3-sonnet-20240229-v1:0': 'sonnet',\n",
    "    'anthropic.claude-3-haiku-20240307-v1:0': 'haiku',\n",
    "    # Google\n",
    "    'claude-3-opus@20240229': 'opus',\n",
    "    'claude-3-5-sonnet-v2@20241022': 'sonnet',\n",
    "    'claude-3-sonnet@20240229': 'sonnet',\n",
    "    'claude-3-haiku@20240307': 'haiku',\n",
    "}\n",
    "\n",
    "all_models = list(model_types)"
   ]
  },
  {
   "cell_type": "markdown",
   "id": "e52e764f",
   "metadata": {},
   "source": [
    "Warning: between Anthropic SDK 0.4.2 and 0.4.7 the interface to the `Model` type changed."
   ]
  },
  {
   "cell_type": "code",
   "execution_count": null,
   "id": "f237bd2e",
   "metadata": {},
   "outputs": [
    {
     "data": {
      "text/plain": [
       "typing.Union[typing.Literal['claude-3-7-sonnet-latest', 'claude-3-7-sonnet-20250219', 'claude-3-5-haiku-latest', 'claude-3-5-haiku-20241022', 'claude-3-5-sonnet-latest', 'claude-3-5-sonnet-20241022', 'claude-3-5-sonnet-20240620', 'claude-3-opus-latest', 'claude-3-opus-20240229', 'claude-3-sonnet-20240229', 'claude-3-haiku-20240307', 'claude-2.1', 'claude-2.0'], str]"
      ]
     },
     "execution_count": null,
     "metadata": {},
     "output_type": "execute_result"
    }
   ],
   "source": [
    "#|hide\n",
    "\n",
    "# Full list of models via the anthropic SDK for reference. Not all models are surfaced by Claudette.\n",
    "Model"
   ]
  },
  {
   "cell_type": "code",
   "execution_count": null,
   "id": "4f03dcad",
   "metadata": {},
   "outputs": [],
   "source": [
    "#| export\n",
    "models = all_models[:5]"
   ]
  },
  {
   "cell_type": "code",
   "execution_count": null,
   "id": "c8490b08",
   "metadata": {},
   "outputs": [
    {
     "data": {
      "text/plain": [
       "['claude-3-opus-20240229',\n",
       " 'claude-3-7-sonnet-20250219',\n",
       " 'claude-3-5-sonnet-20241022',\n",
       " 'claude-3-haiku-20240307',\n",
       " 'claude-3-5-haiku-20241022']"
      ]
     },
     "execution_count": null,
     "metadata": {},
     "output_type": "execute_result"
    }
   ],
   "source": [
    "models"
   ]
  },
  {
   "cell_type": "code",
   "execution_count": null,
   "id": "53a6d47a",
   "metadata": {},
   "outputs": [],
   "source": [
    "#| export\n",
    "models_aws = ['claude-3-5-haiku-20241022',\n",
    " 'claude-3-7-sonnet-20250219',\n",
    " 'anthropic.claude-3-opus-20240229-v1:0',\n",
    " 'anthropic.claude-3-5-sonnet-20241022-v2:0']"
   ]
  },
  {
   "cell_type": "code",
   "execution_count": null,
   "id": "f3ed4f95",
   "metadata": {},
   "outputs": [],
   "source": [
    "#| export\n",
    "models_goog = ['anthropic.claude-3-sonnet-20240229-v1:0',\n",
    " 'anthropic.claude-3-haiku-20240307-v1:0',\n",
    " 'claude-3-opus@20240229',\n",
    " 'claude-3-5-sonnet-v2@20241022',\n",
    " 'claude-3-sonnet@20240229',\n",
    " 'claude-3-haiku@20240307']"
   ]
  },
  {
   "cell_type": "code",
   "execution_count": null,
   "id": "669696aa",
   "metadata": {},
   "outputs": [],
   "source": [
    "#| exports\n",
    "text_only_models = ('claude-3-5-haiku-20241022',)"
   ]
  },
  {
   "cell_type": "code",
   "execution_count": null,
   "id": "2411f28d",
   "metadata": {},
   "outputs": [],
   "source": [
    "#| exports\n",
    "has_streaming_models = set(all_models)\n",
    "has_system_prompt_models = set(all_models)\n",
    "has_temperature_models = set(all_models)\n",
    "has_extended_thinking_models = {'claude-3-7-sonnet-20250219'}"
   ]
  },
  {
   "cell_type": "code",
   "execution_count": null,
   "id": "980bfdfb",
   "metadata": {},
   "outputs": [
    {
     "data": {
      "text/plain": [
       "{'anthropic.claude-3-5-sonnet-20241022-v2:0',\n",
       " 'anthropic.claude-3-haiku-20240307-v1:0',\n",
       " 'anthropic.claude-3-opus-20240229-v1:0',\n",
       " 'anthropic.claude-3-sonnet-20240229-v1:0',\n",
       " 'claude-3-5-haiku-20241022',\n",
       " 'claude-3-5-sonnet-20241022',\n",
       " 'claude-3-5-sonnet-v2@20241022',\n",
       " 'claude-3-7-sonnet-20250219',\n",
       " 'claude-3-haiku-20240307',\n",
       " 'claude-3-haiku@20240307',\n",
       " 'claude-3-opus-20240229',\n",
       " 'claude-3-opus@20240229',\n",
       " 'claude-3-sonnet@20240229'}"
      ]
     },
     "execution_count": null,
     "metadata": {},
     "output_type": "execute_result"
    }
   ],
   "source": [
    "has_streaming_models"
   ]
  },
  {
   "cell_type": "code",
   "execution_count": null,
   "id": "12a68d54",
   "metadata": {},
   "outputs": [],
   "source": [
    "#| exports\n",
    "\n",
    "def can_stream(m): return m in has_streaming_models\n",
    "def can_set_system_prompt(m): return m in has_system_prompt_models\n",
    "def can_set_temperature(m): return m in has_temperature_models\n",
    "def can_use_extended_thinking(m): return m in has_extended_thinking_models"
   ]
  },
  {
   "cell_type": "markdown",
   "id": "0dd0ba8f",
   "metadata": {},
   "source": [
    "We include these functions to provide a uniform library interface with cosette since openai models such as o1 do not have many of these capabilities."
   ]
  },
  {
   "cell_type": "code",
   "execution_count": null,
   "id": "55036062",
   "metadata": {},
   "outputs": [],
   "source": [
    "assert can_stream('claude-3-5-sonnet-20241022') and can_set_system_prompt('claude-3-5-sonnet-20241022') and can_set_temperature('claude-3-5-sonnet-20241022')"
   ]
  },
  {
   "cell_type": "markdown",
   "id": "ba6c7f48",
   "metadata": {},
   "source": [
    "These are the current versions and [prices](https://www.anthropic.com/pricing#anthropic-api) of Anthropic's models at the time of writing."
   ]
  },
  {
   "cell_type": "code",
   "execution_count": null,
   "id": "dacf2bd2",
   "metadata": {},
   "outputs": [
    {
     "data": {
      "text/plain": [
       "'claude-3-7-sonnet-20250219'"
      ]
     },
     "execution_count": null,
     "metadata": {},
     "output_type": "execute_result"
    }
   ],
   "source": [
    "model = models[1]; model"
   ]
  },
  {
   "cell_type": "markdown",
   "id": "71985a9c",
   "metadata": {},
   "source": [
    "For examples, we'll use Sonnet 3.5, since it's awesome."
   ]
  },
  {
   "cell_type": "markdown",
   "id": "863d4d81",
   "metadata": {},
   "source": [
    "## Antropic SDK"
   ]
  },
  {
   "cell_type": "code",
   "execution_count": null,
   "id": "70b53a51",
   "metadata": {},
   "outputs": [],
   "source": [
    "cli = Anthropic()"
   ]
  },
  {
   "cell_type": "markdown",
   "id": "23055b40",
   "metadata": {},
   "source": [
    "This is what Anthropic's SDK provides for interacting with Python. To use it, pass it a list of *messages*, with *content* and a *role*. The roles should alternate between *user* and *assistant*."
   ]
  },
  {
   "cell_type": "markdown",
   "id": "b2db9466",
   "metadata": {},
   "source": [
    ":::{.callout-tip}\n",
    "\n",
    "After the code below you'll see an indented section with an orange vertical line on the left. This is used to show the *result* of running the code above. Because the code is running in a Jupyter Notebook, we don't have to use `print` to display results, we can just type the expression directly, as we do with `r` here.\n",
    "\n",
    ":::"
   ]
  },
  {
   "cell_type": "code",
   "execution_count": null,
   "id": "6ec40731",
   "metadata": {},
   "outputs": [
    {
     "data": {
      "text/markdown": [
       "Hello Jeremy! It's nice to meet you. How are you doing today? Is there anything I can help you with or something you'd like to talk about?\n",
       "\n",
       "<details>\n",
       "\n",
       "- id: `msg_01YTFnV5W6dv72G56yVgETgc`\n",
       "- content: `[{'citations': None, 'text': \"Hello Jeremy! It's nice to meet you. How are you doing today? Is there anything I can help you with or something you'd like to talk about?\", 'type': 'text'}]`\n",
       "- model: `claude-3-7-sonnet-20250219`\n",
       "- role: `assistant`\n",
       "- stop_reason: `end_turn`\n",
       "- stop_sequence: `None`\n",
       "- type: `message`\n",
       "- usage: `{'cache_creation_input_tokens': 0, 'cache_read_input_tokens': 0, 'input_tokens': 10, 'output_tokens': 36, 'server_tool_use': None}`\n",
       "\n",
       "</details>"
      ],
      "text/plain": [
       "Message(id='msg_01YTFnV5W6dv72G56yVgETgc', content=[TextBlock(citations=None, text=\"Hello Jeremy! It's nice to meet you. How are you doing today? Is there anything I can help you with or something you'd like to talk about?\", type='text')], model='claude-3-7-sonnet-20250219', role='assistant', stop_reason='end_turn', stop_sequence=None, type='message', usage=In: 10; Out: 36; Cache create: 0; Cache read: 0; Total Tokens: 46; Server tool use (web search requests): 0)"
      ]
     },
     "execution_count": null,
     "metadata": {},
     "output_type": "execute_result"
    }
   ],
   "source": [
    "m = {'role': 'user', 'content': \"I'm Jeremy\"}\n",
    "r = cli.messages.create(messages=[m], model=model, max_tokens=100)\n",
    "r"
   ]
  },
  {
   "cell_type": "markdown",
   "id": "d6359e1a",
   "metadata": {},
   "source": [
    "### Formatting output"
   ]
  },
  {
   "cell_type": "markdown",
   "id": "865c40a9",
   "metadata": {},
   "source": [
    "That output is pretty long and hard to read, so let's clean it up. We'll start by pulling out the `Content` part of the message.\n",
    "To do that, we're going to write our first function which will be included to the `claudette/core.py` module."
   ]
  },
  {
   "cell_type": "markdown",
   "id": "e42e5d44",
   "metadata": {},
   "source": [
    ":::{.callout-tip}\n",
    "\n",
    "This is the first exported public function or class we're creating (the previous export was of a variable). In the rendered version of the notebook for these you'll see 4 things, in this order (unless the symbol starts with a single `_`, which indicates it's *private*):\n",
    "\n",
    "- The signature (with the symbol name as a heading, with a horizontal rule above)\n",
    "- A table of paramater docs (if provided)\n",
    "- The doc string (in italics).\n",
    "- The source code (in a collapsible \"Exported source\" block)\n",
    "\n",
    "After that, we generally provide a bit more detail on what we've created, and why, along with a sample usage.\n",
    "\n",
    ":::"
   ]
  },
  {
   "cell_type": "code",
   "execution_count": null,
   "id": "eba620ce",
   "metadata": {},
   "outputs": [],
   "source": [
    "#| exports\n",
    "def find_block(r:abc.Mapping, # The message to look in\n",
    "               blk_type:type=TextBlock  # The type of block to find\n",
    "              ):\n",
    "    \"Find the first block of type `blk_type` in `r.content`.\"\n",
    "    return first(o for o in r.content if isinstance(o,blk_type))"
   ]
  },
  {
   "cell_type": "markdown",
   "id": "1fa93ca1",
   "metadata": {},
   "source": [
    "This makes it easier to grab the needed parts of Claude's responses, which can include multiple pieces of content. By default, we look for the first text block. That will generally have the content we want to display."
   ]
  },
  {
   "cell_type": "code",
   "execution_count": null,
   "id": "10af0e65",
   "metadata": {},
   "outputs": [
    {
     "data": {
      "text/plain": [
       "TextBlock(citations=None, text=\"Hello Jeremy! It's nice to meet you. How are you doing today? Is there anything I can help you with or something you'd like to talk about?\", type='text')"
      ]
     },
     "execution_count": null,
     "metadata": {},
     "output_type": "execute_result"
    }
   ],
   "source": [
    "find_block(r)"
   ]
  },
  {
   "cell_type": "code",
   "execution_count": null,
   "id": "ae99799d",
   "metadata": {},
   "outputs": [],
   "source": [
    "def contents(r):\n",
    "    \"Helper to get the contents from Claude response `r`.\"\n",
    "    blk = find_block(r)\n",
    "    if not blk and r.content: blk = r.content[0]\n",
    "    return blk.text.strip() if hasattr(blk,'text') else str(blk)"
   ]
  },
  {
   "cell_type": "markdown",
   "id": "ffb59427",
   "metadata": {},
   "source": [
    "For display purposes, we often just want to show the text itself."
   ]
  },
  {
   "cell_type": "code",
   "execution_count": null,
   "id": "6d5f2107",
   "metadata": {},
   "outputs": [
    {
     "data": {
      "text/plain": [
       "\"Hello Jeremy! It's nice to meet you. How are you doing today? Is there anything I can help you with or something you'd like to talk about?\""
      ]
     },
     "execution_count": null,
     "metadata": {},
     "output_type": "execute_result"
    }
   ],
   "source": [
    "contents(r)"
   ]
  },
  {
   "cell_type": "code",
   "execution_count": null,
   "id": "17924d0c",
   "metadata": {},
   "outputs": [],
   "source": [
    "#| exports\n",
    "@patch\n",
    "def _repr_markdown_(self:(Message)):\n",
    "    det = '\\n- '.join(f'{k}: `{v}`' for k,v in self.model_dump().items())\n",
    "    cts = re.sub(r'\\$', '&#36;', contents(self))  # escape `$` for jupyter latex\n",
    "    return f\"\"\"{cts}\n",
    "\n",
    "<details>\n",
    "\n",
    "- {det}\n",
    "\n",
    "</details>\"\"\""
   ]
  },
  {
   "cell_type": "markdown",
   "id": "3764d112",
   "metadata": {},
   "source": [
    "Jupyter looks for a `_repr_markdown_` method in displayed objects; we add this in order to display just the content text, and collapse full details into a hideable section. Note that `patch` is from [fastcore](https://fastcore.fast.ai/), and is used to add (or replace) functionality in an existing class. We pass the class(es) that we want to patch as type annotations to `self`. In this case, `_repr_markdown_` is being added to Anthropic's `Message` class, so when we display the message now we just see the contents, and the details are hidden away in a collapsible details block."
   ]
  },
  {
   "cell_type": "code",
   "execution_count": null,
   "id": "cfd85eeb",
   "metadata": {},
   "outputs": [
    {
     "data": {
      "text/markdown": [
       "Hello Jeremy! It's nice to meet you. How are you doing today? Is there anything I can help you with or something you'd like to talk about?\n",
       "\n",
       "<details>\n",
       "\n",
       "- id: `msg_01YTFnV5W6dv72G56yVgETgc`\n",
       "- content: `[{'citations': None, 'text': \"Hello Jeremy! It's nice to meet you. How are you doing today? Is there anything I can help you with or something you'd like to talk about?\", 'type': 'text'}]`\n",
       "- model: `claude-3-7-sonnet-20250219`\n",
       "- role: `assistant`\n",
       "- stop_reason: `end_turn`\n",
       "- stop_sequence: `None`\n",
       "- type: `message`\n",
       "- usage: `{'cache_creation_input_tokens': 0, 'cache_read_input_tokens': 0, 'input_tokens': 10, 'output_tokens': 36, 'server_tool_use': None}`\n",
       "\n",
       "</details>"
      ],
      "text/plain": [
       "Message(id='msg_01YTFnV5W6dv72G56yVgETgc', content=[TextBlock(citations=None, text=\"Hello Jeremy! It's nice to meet you. How are you doing today? Is there anything I can help you with or something you'd like to talk about?\", type='text')], model='claude-3-7-sonnet-20250219', role='assistant', stop_reason='end_turn', stop_sequence=None, type='message', usage=In: 10; Out: 36; Cache create: 0; Cache read: 0; Total Tokens: 46; Server tool use (web search requests): 0)"
      ]
     },
     "execution_count": null,
     "metadata": {},
     "output_type": "execute_result"
    }
   ],
   "source": [
    "r"
   ]
  },
  {
   "cell_type": "markdown",
   "id": "8615447e",
   "metadata": {},
   "source": [
    "One key part of the response is the `usage` key, which tells us how many tokens we used by returning a `Usage` object.\n",
    "\n",
    "We'll add some helpers to make things a bit cleaner for creating and formatting these objects."
   ]
  },
  {
   "cell_type": "code",
   "execution_count": null,
   "id": "10c7466f",
   "metadata": {},
   "outputs": [
    {
     "data": {
      "text/plain": [
       "In: 10; Out: 36; Cache create: 0; Cache read: 0; Total Tokens: 46; Server tool use (web search requests): 0"
      ]
     },
     "execution_count": null,
     "metadata": {},
     "output_type": "execute_result"
    }
   ],
   "source": [
    "r.usage"
   ]
  },
  {
   "cell_type": "code",
   "execution_count": null,
   "id": "56d7e83f",
   "metadata": {},
   "outputs": [],
   "source": [
    "#| exports\n",
    "def server_tool_usage(web_search_requests=0):\n",
    "    'Little helper to create a server tool usage object'\n",
    "    return ServerToolUsage(web_search_requests=web_search_requests)"
   ]
  },
  {
   "cell_type": "code",
   "execution_count": null,
   "id": "b1a24f68",
   "metadata": {},
   "outputs": [],
   "source": [
    "#| exports\n",
    "def usage(inp=0, # input tokens\n",
    "          out=0,  # Output tokens\n",
    "          cache_create=0, # Cache creation tokens\n",
    "          cache_read=0, # Cache read tokens\n",
    "          server_tool_use=server_tool_usage() # server tool use\n",
    "         ):\n",
    "    'Slightly more concise version of `Usage`.'\n",
    "    return Usage(input_tokens=inp, output_tokens=out, cache_creation_input_tokens=cache_create,\n",
    "                 cache_read_input_tokens=cache_read, server_tool_use=server_tool_use)"
   ]
  },
  {
   "cell_type": "markdown",
   "id": "2184ec7f",
   "metadata": {},
   "source": [
    "The constructor provided by Anthropic is rather verbose, so we clean it up a bit, using a lowercase version of the name."
   ]
  },
  {
   "cell_type": "code",
   "execution_count": null,
   "id": "a7e52afd",
   "metadata": {},
   "outputs": [
    {
     "data": {
      "text/plain": [
       "In: 5; Out: 0; Cache create: 0; Cache read: 0; Total Tokens: 5; Server tool use (web search requests): 0"
      ]
     },
     "execution_count": null,
     "metadata": {},
     "output_type": "execute_result"
    }
   ],
   "source": [
    "usage(5)"
   ]
  },
  {
   "cell_type": "code",
   "execution_count": null,
   "id": "2db64da5",
   "metadata": {},
   "outputs": [],
   "source": [
    "#| exports\n",
    "def _dgetattr(o,s,d): \n",
    "    \"Like getattr, but returns the default if the result is None\"\n",
    "    return getattr(o,s,d) or d\n",
    "\n",
    "@patch(as_prop=True)\n",
    "def total(self:Usage): return self.input_tokens+self.output_tokens+_dgetattr(self, \"cache_creation_input_tokens\",0)+_dgetattr(self, \"cache_read_input_tokens\",0)"
   ]
  },
  {
   "cell_type": "markdown",
   "id": "5363afa4",
   "metadata": {},
   "source": [
    "Adding a `total` property to `Usage` makes it easier to see how many tokens we've used up altogether."
   ]
  },
  {
   "cell_type": "code",
   "execution_count": null,
   "id": "74553203",
   "metadata": {},
   "outputs": [
    {
     "data": {
      "text/plain": [
       "6"
      ]
     },
     "execution_count": null,
     "metadata": {},
     "output_type": "execute_result"
    }
   ],
   "source": [
    "usage(5,1).total"
   ]
  },
  {
   "cell_type": "code",
   "execution_count": null,
   "id": "27468180",
   "metadata": {},
   "outputs": [],
   "source": [
    "#| exports\n",
    "@patch\n",
    "def __repr__(self:Usage):\n",
    "    io_toks = f'In: {self.input_tokens}; Out: {self.output_tokens}'\n",
    "    cache_toks = f'Cache create: {_dgetattr(self, \"cache_creation_input_tokens\",0)}; Cache read: {_dgetattr(self, \"cache_read_input_tokens\",0)}'\n",
    "    server_tool_use = _dgetattr(self, \"server_tool_use\",server_tool_usage())\n",
    "    server_tool_use_str = f'Server tool use (web search requests): {server_tool_use.web_search_requests}'\n",
    "    total_tok = f'Total Tokens: {self.total}'\n",
    "    return f'{io_toks}; {cache_toks}; {total_tok}; {server_tool_use_str}'"
   ]
  },
  {
   "cell_type": "markdown",
   "id": "dbbf7024",
   "metadata": {},
   "source": [
    "In python, patching `__repr__` lets us change how an object is displayed. (More generally, methods starting and ending in `__` in Python are called `dunder` methods, and have some `magic` behavior -- such as, in this case, changing how an object is displayed.) We won't be directly displaying ServerToolUsage's, so we can handle its display behavior in the same Usage `__repr__`"
   ]
  },
  {
   "cell_type": "code",
   "execution_count": null,
   "id": "b8af5068",
   "metadata": {},
   "outputs": [
    {
     "data": {
      "text/plain": [
       "In: 5; Out: 0; Cache create: 0; Cache read: 0; Total Tokens: 5; Server tool use (web search requests): 0"
      ]
     },
     "execution_count": null,
     "metadata": {},
     "output_type": "execute_result"
    }
   ],
   "source": [
    "usage(5)"
   ]
  },
  {
   "cell_type": "code",
   "execution_count": null,
   "id": "4a9886af",
   "metadata": {},
   "outputs": [],
   "source": [
    "#| exports\n",
    "@patch\n",
    "def __add__(self:ServerToolUsage, b):\n",
    "    \"Add together each of the server tool use counts\"\n",
    "    return ServerToolUsage(web_search_requests=self.web_search_requests+b.web_search_requests)"
   ]
  },
  {
   "cell_type": "markdown",
   "id": "a8918938",
   "metadata": {},
   "source": [
    "And, patching `__add__` lets `+` work on a `ServerToolUsage` as well as a `Usage` object."
   ]
  },
  {
   "cell_type": "code",
   "execution_count": null,
   "id": "facab8cd",
   "metadata": {},
   "outputs": [
    {
     "data": {
      "text/plain": [
       "ServerToolUsage(web_search_requests=3)"
      ]
     },
     "execution_count": null,
     "metadata": {},
     "output_type": "execute_result"
    }
   ],
   "source": [
    "server_tool_usage(1) + server_tool_usage(2)"
   ]
  },
  {
   "cell_type": "code",
   "execution_count": null,
   "id": "6c9025c6",
   "metadata": {},
   "outputs": [],
   "source": [
    "#| exports\n",
    "@patch\n",
    "def __add__(self:Usage, b):\n",
    "    \"Add together each of `input_tokens` and `output_tokens`\"\n",
    "    return usage(self.input_tokens+b.input_tokens, self.output_tokens+b.output_tokens,\n",
    "                 _dgetattr(self,'cache_creation_input_tokens',0)+_dgetattr(b,'cache_creation_input_tokens',0),\n",
    "                 _dgetattr(self,'cache_read_input_tokens',0)+_dgetattr(b,'cache_read_input_tokens',0),\n",
    "                 _dgetattr(self,'server_tool_use',server_tool_usage())+_dgetattr(b,'server_tool_use',server_tool_usage()))"
   ]
  },
  {
   "cell_type": "code",
   "execution_count": null,
   "id": "bffb0b2e",
   "metadata": {},
   "outputs": [
    {
     "data": {
      "text/plain": [
       "In: 20; Out: 72; Cache create: 0; Cache read: 0; Total Tokens: 92; Server tool use (web search requests): 1"
      ]
     },
     "execution_count": null,
     "metadata": {},
     "output_type": "execute_result"
    }
   ],
   "source": [
    "r.usage+r.usage + usage(server_tool_use=server_tool_usage(1))"
   ]
  },
  {
   "cell_type": "markdown",
   "id": "edd0a43f",
   "metadata": {},
   "source": [
    "### Creating messages"
   ]
  },
  {
   "cell_type": "markdown",
   "id": "b4912f1e",
   "metadata": {},
   "source": [
    "Creating correctly formatted `dict`s from scratch every time isn't very handy, so we'll import a couple of helper functions from the `msglm` library.\n",
    "\n",
    "Let's use `mk_msg` to recreate our msg `{'role': 'user', 'content': \"I'm Jeremy\"}` from earlier."
   ]
  },
  {
   "cell_type": "code",
   "execution_count": null,
   "id": "0ffa2c14",
   "metadata": {},
   "outputs": [
    {
     "data": {
      "text/markdown": [
       "Hello, Jeremy! It's nice to meet you. How are you doing today? Is there something I can help you with or would you like to discuss something specific?\n",
       "\n",
       "<details>\n",
       "\n",
       "- id: `msg_01T5fCHX6KMXPe41wHJe3RvM`\n",
       "- content: `[{'citations': None, 'text': \"Hello, Jeremy! It's nice to meet you. How are you doing today? Is there something I can help you with or would you like to discuss something specific?\", 'type': 'text'}]`\n",
       "- model: `claude-3-7-sonnet-20250219`\n",
       "- role: `assistant`\n",
       "- stop_reason: `end_turn`\n",
       "- stop_sequence: `None`\n",
       "- type: `message`\n",
       "- usage: `{'cache_creation_input_tokens': 0, 'cache_read_input_tokens': 0, 'input_tokens': 10, 'output_tokens': 37, 'server_tool_use': None}`\n",
       "\n",
       "</details>"
      ],
      "text/plain": [
       "Message(id='msg_01T5fCHX6KMXPe41wHJe3RvM', content=[TextBlock(citations=None, text=\"Hello, Jeremy! It's nice to meet you. How are you doing today? Is there something I can help you with or would you like to discuss something specific?\", type='text')], model='claude-3-7-sonnet-20250219', role='assistant', stop_reason='end_turn', stop_sequence=None, type='message', usage=In: 10; Out: 37; Cache create: 0; Cache read: 0; Total Tokens: 47; Server tool use (web search requests): 0)"
      ]
     },
     "execution_count": null,
     "metadata": {},
     "output_type": "execute_result"
    }
   ],
   "source": [
    "prompt = \"I'm Jeremy\"\n",
    "m = mk_msg(prompt)\n",
    "r = cli.messages.create(messages=[m], model=model, max_tokens=100)\n",
    "r"
   ]
  },
  {
   "cell_type": "markdown",
   "id": "2fba8532",
   "metadata": {},
   "source": [
    "We can pass more than just text messages to Claude. As we'll see later we can also pass images, SDK objects, etc. To handle these different data types we need to pass the type along with our content to Claude. \n",
    "\n",
    "Here's an example of a multimodal message containing text and images. \n",
    "\n",
    "```json\n",
    "{\n",
    "    'role': 'user', \n",
    "    'content': [\n",
    "        {'type':'text', 'text':'What is in the image?'},\n",
    "        {\n",
    "            'type':'image', \n",
    "            'source': {\n",
    "                'type':'base64', 'media_type':'media_type', 'data': 'data'\n",
    "            }\n",
    "        }\n",
    "    ]\n",
    "}\n",
    "```\n",
    "\n",
    "`mk_msg` infers the type automatically and creates the appropriate data structure. "
   ]
  },
  {
   "cell_type": "markdown",
   "id": "fb04f6b4",
   "metadata": {},
   "source": [
    "LLMs, don't actually have state, but instead dialogs are created by passing back all previous prompts and responses every time. With Claude, they always alternate *user* and *assistant*. We'll use `mk_msgs` from `msglm` to make it easier to build up these dialog lists."
   ]
  },
  {
   "cell_type": "code",
   "execution_count": null,
   "id": "b4c8fcad",
   "metadata": {},
   "outputs": [
    {
     "data": {
      "text/plain": [
       "[{'role': 'user', 'content': \"I'm Jeremy\"},\n",
       " {'role': 'assistant',\n",
       "  'content': [TextBlock(citations=None, text=\"Hello, Jeremy! It's nice to meet you. How are you doing today? Is there something I can help you with or would you like to discuss something specific?\", type='text')]},\n",
       " {'role': 'user', 'content': 'I forgot my name. Can you remind me please?'}]"
      ]
     },
     "execution_count": null,
     "metadata": {},
     "output_type": "execute_result"
    }
   ],
   "source": [
    "msgs = mk_msgs([prompt, r, \"I forgot my name. Can you remind me please?\"]) \n",
    "msgs"
   ]
  },
  {
   "cell_type": "code",
   "execution_count": null,
   "id": "6c464f8b",
   "metadata": {},
   "outputs": [
    {
     "data": {
      "text/markdown": [
       "You mentioned that your name is Jeremy. That's how you introduced yourself at the beginning of our conversation.\n",
       "\n",
       "<details>\n",
       "\n",
       "- id: `msg_014Ryt7moN693dhH9WF6wU4q`\n",
       "- content: `[{'citations': None, 'text': \"You mentioned that your name is Jeremy. That's how you introduced yourself at the beginning of our conversation.\", 'type': 'text'}]`\n",
       "- model: `claude-3-7-sonnet-20250219`\n",
       "- role: `assistant`\n",
       "- stop_reason: `end_turn`\n",
       "- stop_sequence: `None`\n",
       "- type: `message`\n",
       "- usage: `{'cache_creation_input_tokens': 0, 'cache_read_input_tokens': 0, 'input_tokens': 61, 'output_tokens': 24, 'server_tool_use': None}`\n",
       "\n",
       "</details>"
      ],
      "text/plain": [
       "Message(id='msg_014Ryt7moN693dhH9WF6wU4q', content=[TextBlock(citations=None, text=\"You mentioned that your name is Jeremy. That's how you introduced yourself at the beginning of our conversation.\", type='text')], model='claude-3-7-sonnet-20250219', role='assistant', stop_reason='end_turn', stop_sequence=None, type='message', usage=In: 61; Out: 24; Cache create: 0; Cache read: 0; Total Tokens: 85; Server tool use (web search requests): 0)"
      ]
     },
     "execution_count": null,
     "metadata": {},
     "output_type": "execute_result"
    }
   ],
   "source": [
    "cli.messages.create(messages=msgs, model=model, max_tokens=200)"
   ]
  },
  {
   "cell_type": "markdown",
   "id": "281f8a4d",
   "metadata": {},
   "source": [
    "## Client"
   ]
  },
  {
   "cell_type": "code",
   "execution_count": null,
   "id": "3b873aaf",
   "metadata": {},
   "outputs": [],
   "source": [
    "#| exports\n",
    "class Client:\n",
    "    def __init__(self, model, cli=None, log=False, cache=False):\n",
    "        \"Basic Anthropic messages client.\"\n",
    "        self.model,self.use = model,usage()\n",
    "        self.text_only = model in text_only_models\n",
    "        self.log = [] if log else None\n",
    "        self.c = (cli or Anthropic(default_headers={'anthropic-beta': 'prompt-caching-2024-07-31'}))\n",
    "        self.cache = cache"
   ]
  },
  {
   "cell_type": "markdown",
   "id": "146e39f0",
   "metadata": {},
   "source": [
    "We'll create a simple `Client` for `Anthropic` which tracks usage stores the model to use. We don't add any methods right away -- instead we'll use `patch` for that so we can add and document them incrementally."
   ]
  },
  {
   "cell_type": "code",
   "execution_count": null,
   "id": "d01e9ccf",
   "metadata": {},
   "outputs": [
    {
     "data": {
      "text/plain": [
       "In: 0; Out: 0; Cache create: 0; Cache read: 0; Total Tokens: 0; Server tool use (web search requests): 0"
      ]
     },
     "execution_count": null,
     "metadata": {},
     "output_type": "execute_result"
    }
   ],
   "source": [
    "c = Client(model)\n",
    "c.use"
   ]
  },
  {
   "cell_type": "code",
   "execution_count": null,
   "id": "8015d3f3",
   "metadata": {},
   "outputs": [],
   "source": [
    "#| exports\n",
    "@patch\n",
    "def _r(self:Client, r:Message, prefill=''):\n",
    "    \"Store the result of the message and accrue total usage.\"\n",
    "    if prefill:\n",
    "        blk = find_block(r)\n",
    "        blk.text = prefill + (blk.text or '')\n",
    "    self.result = r\n",
    "    self.use += r.usage\n",
    "    self.stop_reason = r.stop_reason\n",
    "    self.stop_sequence = r.stop_sequence\n",
    "    return r"
   ]
  },
  {
   "cell_type": "markdown",
   "id": "68d2eb9b",
   "metadata": {},
   "source": [
    "We use a `_` prefix on private methods, but we document them here in the interests of literate source code.\n",
    "\n",
    "`_r` will be used each time we get a new result, to track usage and also to keep the result available for later."
   ]
  },
  {
   "cell_type": "code",
   "execution_count": null,
   "id": "0181f7b3",
   "metadata": {},
   "outputs": [
    {
     "data": {
      "text/plain": [
       "In: 10; Out: 37; Cache create: 0; Cache read: 0; Total Tokens: 47; Server tool use (web search requests): 0"
      ]
     },
     "execution_count": null,
     "metadata": {},
     "output_type": "execute_result"
    }
   ],
   "source": [
    "c._r(r)\n",
    "c.use"
   ]
  },
  {
   "cell_type": "markdown",
   "id": "7258fd6e",
   "metadata": {},
   "source": [
    "Whereas OpenAI's models use a `stream` parameter for streaming, Anthropic's use a separate method. We implement Anthropic's approach in a private method, and then use a `stream` parameter in `__call__` for consistency:"
   ]
  },
  {
   "cell_type": "code",
   "execution_count": null,
   "id": "6520a355",
   "metadata": {},
   "outputs": [],
   "source": [
    "#| exports\n",
    "@patch\n",
    "def _log(self:Client, final, prefill, msgs, maxtok=None, sp=None, temp=None, stream=None, stop=None, **kwargs):\n",
    "    self._r(final, prefill)\n",
    "    if self.log is not None: self.log.append({\n",
    "        \"msgs\": msgs, \"prefill\": prefill, **kwargs,\n",
    "        \"msgs\": msgs, \"prefill\": prefill, \"maxtok\": maxtok, \"sp\": sp, \"temp\": temp, \"stream\": stream, \"stop\": stop, **kwargs,\n",
    "        \"result\": self.result, \"use\": self.use, \"stop_reason\": self.stop_reason, \"stop_sequence\": self.stop_sequence\n",
    "    })\n",
    "    return self.result"
   ]
  },
  {
   "cell_type": "code",
   "execution_count": null,
   "id": "6901dce2",
   "metadata": {},
   "outputs": [],
   "source": [
    "#| exports\n",
    "@patch\n",
    "def _stream(self:Client, msgs:list, prefill='', **kwargs):\n",
    "    with self.c.messages.stream(model=self.model, messages=mk_msgs(msgs, cache=self.cache, cache_last_ckpt_only=self.cache), **kwargs) as s:\n",
    "        if prefill: yield(prefill)\n",
    "        yield from s.text_stream\n",
    "        self._log(s.get_final_message(), prefill, msgs, **kwargs)"
   ]
  },
  {
   "cell_type": "markdown",
   "id": "f2269e53",
   "metadata": {},
   "source": [
    "Claude supports adding an extra `assistant` message at the end, which contains the *prefill* -- i.e. the text we want Claude to assume the response starts with. However Claude doesn't actually repeat that in the response, so for convenience we add it."
   ]
  },
  {
   "cell_type": "code",
   "execution_count": null,
   "id": "835638bb",
   "metadata": {},
   "outputs": [],
   "source": [
    "#| exports\n",
    "@patch\n",
    "def _precall(self:Client, msgs, prefill, stop, kwargs):\n",
    "    pref = [prefill.strip()] if prefill else []\n",
    "    if not isinstance(msgs,list): msgs = [msgs]\n",
    "    if stop is not None:\n",
    "        if not isinstance(stop, (list)): stop = [stop]\n",
    "        kwargs[\"stop_sequences\"] = stop\n",
    "    msgs = mk_msgs(msgs+pref, cache=self.cache, cache_last_ckpt_only=self.cache)\n",
    "    return msgs"
   ]
  },
  {
   "cell_type": "code",
   "execution_count": null,
   "id": "c21c2113",
   "metadata": {},
   "outputs": [],
   "source": [
    "@patch\n",
    "@delegates(messages.Messages.create)\n",
    "def __call__(self:Client,\n",
    "             msgs:list, # List of messages in the dialog\n",
    "             sp='', # The system prompt\n",
    "             temp=0, # Temperature\n",
    "             maxtok=4096, # Maximum tokens\n",
    "             prefill='', # Optional prefill to pass to Claude as start of its response\n",
    "             stream:bool=False, # Stream response?\n",
    "             stop=None, # Stop sequence\n",
    "             **kwargs):\n",
    "    \"Make a call to Claude.\"\n",
    "    msgs = self._precall(msgs, prefill, stop, kwargs)\n",
    "    if stream: return self._stream(msgs, prefill=prefill, max_tokens=maxtok, system=sp, temperature=temp, **kwargs)\n",
    "    res = self.c.messages.create(\n",
    "        model=self.model, messages=msgs, max_tokens=maxtok, system=sp, temperature=temp, **kwargs)\n",
    "    return self._log(res, prefill, msgs, maxtok, sp, temp, stream=stream, **kwargs)"
   ]
  },
  {
   "cell_type": "markdown",
   "id": "3cee10c8",
   "metadata": {},
   "source": [
    "Defining `__call__` let's us use an object like a function (i.e it's *callable*). We use it as a small wrapper over `messages.create`. However we're not exporting this version just yet -- we have some additions we'll make in a moment..."
   ]
  },
  {
   "cell_type": "code",
   "execution_count": null,
   "id": "881b5e78",
   "metadata": {},
   "outputs": [
    {
     "data": {
      "text/plain": [
       "In: 0; Out: 0; Cache create: 0; Cache read: 0; Total Tokens: 0; Server tool use (web search requests): 0"
      ]
     },
     "execution_count": null,
     "metadata": {},
     "output_type": "execute_result"
    }
   ],
   "source": [
    "c = Client(model, log=True)\n",
    "c.use"
   ]
  },
  {
   "cell_type": "code",
   "execution_count": null,
   "id": "338a38e5",
   "metadata": {},
   "outputs": [
    {
     "data": {
      "text/markdown": [
       "Hello! How can I assist you today? Feel free to ask any questions or let me know what you'd like to discuss.\n",
       "\n",
       "<details>\n",
       "\n",
       "- id: `msg_015UyBYhtQVzWatX7FXLhvDg`\n",
       "- content: `[{'citations': None, 'text': \"Hello! How can I assist you today? Feel free to ask any questions or let me know what you'd like to discuss.\", 'type': 'text'}]`\n",
       "- model: `claude-3-7-sonnet-20250219`\n",
       "- role: `assistant`\n",
       "- stop_reason: `end_turn`\n",
       "- stop_sequence: `None`\n",
       "- type: `message`\n",
       "- usage: `{'cache_creation_input_tokens': 0, 'cache_read_input_tokens': 0, 'input_tokens': 8, 'output_tokens': 29, 'server_tool_use': None}`\n",
       "\n",
       "</details>"
      ],
      "text/plain": [
       "Message(id='msg_015UyBYhtQVzWatX7FXLhvDg', content=[TextBlock(citations=None, text=\"Hello! How can I assist you today? Feel free to ask any questions or let me know what you'd like to discuss.\", type='text')], model='claude-3-7-sonnet-20250219', role='assistant', stop_reason='end_turn', stop_sequence=None, type='message', usage=In: 8; Out: 29; Cache create: 0; Cache read: 0; Total Tokens: 37; Server tool use (web search requests): 0)"
      ]
     },
     "execution_count": null,
     "metadata": {},
     "output_type": "execute_result"
    }
   ],
   "source": [
    "c('Hi')"
   ]
  },
  {
   "cell_type": "code",
   "execution_count": null,
   "id": "ae9f7e06",
   "metadata": {},
   "outputs": [
    {
     "data": {
      "text/plain": [
       "In: 8; Out: 29; Cache create: 0; Cache read: 0; Total Tokens: 37; Server tool use (web search requests): 0"
      ]
     },
     "execution_count": null,
     "metadata": {},
     "output_type": "execute_result"
    }
   ],
   "source": [
    "c.use"
   ]
  },
  {
   "cell_type": "markdown",
   "id": "2d269ed8",
   "metadata": {},
   "source": [
    "Let's try out *prefill*:"
   ]
  },
  {
   "cell_type": "code",
   "execution_count": null,
   "id": "7f479429",
   "metadata": {},
   "outputs": [],
   "source": [
    "q = \"Concisely, what is the meaning of life?\"\n",
    "pref = 'According to Douglas Adams,'"
   ]
  },
  {
   "cell_type": "code",
   "execution_count": null,
   "id": "b831ca3d",
   "metadata": {},
   "outputs": [
    {
     "data": {
      "text/markdown": [
       "According to Douglas Adams,  it's 42. More seriously, the meaning of life is deeply personal and varies across philosophical traditions - from finding happiness, serving others, pursuing knowledge, or creating your own purpose in an inherently meaningless universe. There's no universal answer, which is perhaps what makes the question so enduring.\n",
       "\n",
       "<details>\n",
       "\n",
       "- id: `msg_01V158u6gauy1e8TyDPKtpkb`\n",
       "- content: `[{'citations': None, 'text': \"According to Douglas Adams,  it's 42. More seriously, the meaning of life is deeply personal and varies across philosophical traditions - from finding happiness, serving others, pursuing knowledge, or creating your own purpose in an inherently meaningless universe. There's no universal answer, which is perhaps what makes the question so enduring.\", 'type': 'text'}]`\n",
       "- model: `claude-3-7-sonnet-20250219`\n",
       "- role: `assistant`\n",
       "- stop_reason: `end_turn`\n",
       "- stop_sequence: `None`\n",
       "- type: `message`\n",
       "- usage: `{'cache_creation_input_tokens': 0, 'cache_read_input_tokens': 0, 'input_tokens': 24, 'output_tokens': 65, 'server_tool_use': None}`\n",
       "\n",
       "</details>"
      ],
      "text/plain": [
       "Message(id='msg_01V158u6gauy1e8TyDPKtpkb', content=[TextBlock(citations=None, text=\"According to Douglas Adams,  it's 42. More seriously, the meaning of life is deeply personal and varies across philosophical traditions - from finding happiness, serving others, pursuing knowledge, or creating your own purpose in an inherently meaningless universe. There's no universal answer, which is perhaps what makes the question so enduring.\", type='text')], model='claude-3-7-sonnet-20250219', role='assistant', stop_reason='end_turn', stop_sequence=None, type='message', usage=In: 24; Out: 65; Cache create: 0; Cache read: 0; Total Tokens: 89; Server tool use (web search requests): 0)"
      ]
     },
     "execution_count": null,
     "metadata": {},
     "output_type": "execute_result"
    }
   ],
   "source": [
    "c(q, prefill=pref)"
   ]
  },
  {
   "cell_type": "markdown",
   "id": "216b2704",
   "metadata": {},
   "source": [
    "We can pass `stream=True` to stream the response back incrementally:"
   ]
  },
  {
   "cell_type": "code",
   "execution_count": null,
   "id": "e281399f",
   "metadata": {},
   "outputs": [
    {
     "name": "stdout",
     "output_type": "stream",
     "text": [
      "Hello! How can I assist you today? Feel free to ask any questions or let me know what you'd like to discuss."
     ]
    }
   ],
   "source": [
    "for o in c('Hi', stream=True): print(o, end='')"
   ]
  },
  {
   "cell_type": "code",
   "execution_count": null,
   "id": "beb25f2a",
   "metadata": {},
   "outputs": [
    {
     "data": {
      "text/plain": [
       "In: 40; Out: 123; Cache create: 0; Cache read: 0; Total Tokens: 163; Server tool use (web search requests): 0"
      ]
     },
     "execution_count": null,
     "metadata": {},
     "output_type": "execute_result"
    }
   ],
   "source": [
    "c.use"
   ]
  },
  {
   "cell_type": "code",
   "execution_count": null,
   "id": "db1c75ef",
   "metadata": {},
   "outputs": [
    {
     "name": "stdout",
     "output_type": "stream",
     "text": [
      "According to Douglas Adams,  it's 42. More seriously, the meaning of life is deeply personal and varies across philosophical traditions - from finding happiness, serving others, pursuing knowledge, or creating your own purpose in an inherently meaningless universe. There's no universal answer, which is perhaps what makes the question so enduring."
     ]
    }
   ],
   "source": [
    "for o in c(q, prefill=pref, stream=True): print(o, end='')"
   ]
  },
  {
   "cell_type": "code",
   "execution_count": null,
   "id": "e36eddc9",
   "metadata": {},
   "outputs": [
    {
     "data": {
      "text/plain": [
       "In: 64; Out: 188; Cache create: 0; Cache read: 0; Total Tokens: 252; Server tool use (web search requests): 0"
      ]
     },
     "execution_count": null,
     "metadata": {},
     "output_type": "execute_result"
    }
   ],
   "source": [
    "c.use"
   ]
  },
  {
   "cell_type": "markdown",
   "id": "bd556e49",
   "metadata": {},
   "source": [
    "Pass a stop seauence if you want claude to stop generating text when it encounters it.\n"
   ]
  },
  {
   "cell_type": "code",
   "execution_count": null,
   "id": "12b17591",
   "metadata": {},
   "outputs": [
    {
     "data": {
      "text/markdown": [
       "1, 2, 3, 4,\n",
       "\n",
       "<details>\n",
       "\n",
       "- id: `msg_013CBJrJQgR4ardtvmAxo3Xv`\n",
       "- content: `[{'citations': None, 'text': '1, 2, 3, 4, ', 'type': 'text'}]`\n",
       "- model: `claude-3-7-sonnet-20250219`\n",
       "- role: `assistant`\n",
       "- stop_reason: `stop_sequence`\n",
       "- stop_sequence: `5`\n",
       "- type: `message`\n",
       "- usage: `{'cache_creation_input_tokens': 0, 'cache_read_input_tokens': 0, 'input_tokens': 15, 'output_tokens': 14, 'server_tool_use': None}`\n",
       "\n",
       "</details>"
      ],
      "text/plain": [
       "Message(id='msg_013CBJrJQgR4ardtvmAxo3Xv', content=[TextBlock(citations=None, text='1, 2, 3, 4, ', type='text')], model='claude-3-7-sonnet-20250219', role='assistant', stop_reason='stop_sequence', stop_sequence='5', type='message', usage=In: 15; Out: 14; Cache create: 0; Cache read: 0; Total Tokens: 29; Server tool use (web search requests): 0)"
      ]
     },
     "execution_count": null,
     "metadata": {},
     "output_type": "execute_result"
    }
   ],
   "source": [
    "c(\"Count from 1 to 10\", stop=\"5\")"
   ]
  },
  {
   "cell_type": "markdown",
   "id": "cdbd3df3",
   "metadata": {},
   "source": [
    "This also works with streaming, and you can pass more than one stop sequence:"
   ]
  },
  {
   "cell_type": "code",
   "execution_count": null,
   "id": "ff50577d",
   "metadata": {},
   "outputs": [
    {
     "name": "stdout",
     "output_type": "stream",
     "text": [
      "1, stop_sequence 2\n"
     ]
    }
   ],
   "source": [
    "for o in c(\"Count from 1 to 10\", stop=[\"2\", \"yellow\"], stream=True): print(o, end='')\n",
    "print(c.stop_reason, c.stop_sequence)"
   ]
  },
  {
   "cell_type": "markdown",
   "id": "2108776e",
   "metadata": {},
   "source": [
    "You can check the logs:"
   ]
  },
  {
   "cell_type": "code",
   "execution_count": null,
   "id": "17122b92",
   "metadata": {},
   "outputs": [
    {
     "data": {
      "text/plain": [
       "{'msgs': [{'role': 'user', 'content': 'Count from 1 to 10'}],\n",
       " 'prefill': '',\n",
       " 'max_tokens': 4096,\n",
       " 'system': '',\n",
       " 'temperature': 0,\n",
       " 'stop_sequences': ['2', 'yellow'],\n",
       " 'maxtok': None,\n",
       " 'sp': None,\n",
       " 'temp': None,\n",
       " 'stream': None,\n",
       " 'stop': None,\n",
       " 'result': Message(id='msg_01G2v8NthxnGMcVVjtE7VcBQ', content=[TextBlock(citations=None, text='1, ', type='text')], model='claude-3-7-sonnet-20250219', role='assistant', stop_reason='stop_sequence', stop_sequence='2', type='message', usage=In: 15; Out: 5; Cache create: 0; Cache read: 0; Total Tokens: 20; Server tool use (web search requests): 0),\n",
       " 'use': In: 94; Out: 207; Cache create: 0; Cache read: 0; Total Tokens: 301; Server tool use (web search requests): 0,\n",
       " 'stop_reason': 'stop_sequence',\n",
       " 'stop_sequence': '2'}"
      ]
     },
     "execution_count": null,
     "metadata": {},
     "output_type": "execute_result"
    }
   ],
   "source": [
    "c.log[-1]"
   ]
  },
  {
   "cell_type": "markdown",
   "id": "fbdc1914",
   "metadata": {},
   "source": [
    "We've shown the token usage but we really care about is pricing. Let's extract the latest [pricing](https://www.anthropic.com/pricing#anthropic-api) from Anthropic into a `pricing` dict."
   ]
  },
  {
   "cell_type": "code",
   "execution_count": null,
   "id": "9bfce1dc",
   "metadata": {},
   "outputs": [],
   "source": [
    "#| export\n",
    "pricing = {  # model type: $ / million tokens (input, output, cache write, cache read)\n",
    "    'opus': (15, 75, 18.75, 1.5),\n",
    "    'sonnet': (3, 15, 3.75, 0.3),\n",
    "    'haiku-3': (0.25, 1.25, 0.3, 0.03),\n",
    "    'haiku-3-5': (1, 3, 1.25, 0.1),\n",
    "}"
   ]
  },
  {
   "cell_type": "code",
   "execution_count": null,
   "id": "2a1f2e67",
   "metadata": {},
   "outputs": [],
   "source": [
    "#| exports\n",
    "def get_pricing(m, u):\n",
    "    return pricing[m][:3] if u.prompt_token_count < 128_000 else pricing[m][3:]"
   ]
  },
  {
   "cell_type": "markdown",
   "id": "f8995374",
   "metadata": {},
   "source": [
    "Similarly, let's get the pricing for the latest [server tools]():"
   ]
  },
  {
   "cell_type": "code",
   "execution_count": null,
   "id": "cfa8da09",
   "metadata": {},
   "outputs": [],
   "source": [
    "#| export\n",
    "server_tool_pricing = {\n",
    "    'web_search_requests': 10, # $10 per 1,000\n",
    "}"
   ]
  },
  {
   "cell_type": "markdown",
   "id": "a8a49a95",
   "metadata": {},
   "source": [
    "We'll patch `Usage` to enable it compute the cost given pricing."
   ]
  },
  {
   "cell_type": "code",
   "execution_count": null,
   "id": "2edb5da5",
   "metadata": {},
   "outputs": [],
   "source": [
    "#| exports\n",
    "@patch\n",
    "def cost(self:Usage, costs:tuple) -> float:\n",
    "    cache_w, cache_r = _dgetattr(self, \"cache_creation_input_tokens\",0), _dgetattr(self, \"cache_read_input_tokens\",0)\n",
    "    tok_cost = sum([self.input_tokens * costs[0] +  self.output_tokens * costs[1] +  cache_w * costs[2] + cache_r * costs[3]]) / 1e6\n",
    "    server_tool_use = _dgetattr(self, \"server_tool_use\",server_tool_usage())\n",
    "    server_tool_cost = server_tool_use.web_search_requests * server_tool_pricing['web_search_requests'] / 1e3\n",
    "    return tok_cost + server_tool_cost"
   ]
  },
  {
   "cell_type": "code",
   "execution_count": null,
   "id": "936a4adc",
   "metadata": {},
   "outputs": [],
   "source": [
    "#| exports\n",
    "@patch(as_prop=True)\n",
    "def cost(self: Client) -> float: return self.use.cost(pricing[model_types[self.model]])"
   ]
  },
  {
   "cell_type": "code",
   "execution_count": null,
   "id": "91d4dcbe",
   "metadata": {},
   "outputs": [],
   "source": [
    "#| exports\n",
    "def get_costs(c):\n",
    "    costs = pricing[model_types[c.model]]\n",
    "    \n",
    "    inp_cost = c.use.input_tokens * costs[0] / 1e6\n",
    "    out_cost = c.use.output_tokens * costs[1] / 1e6\n",
    "\n",
    "    cache_w = c.use.cache_creation_input_tokens   \n",
    "    cache_r = c.use.cache_read_input_tokens\n",
    "    cache_cost = (cache_w * costs[2] + cache_r * costs[3]) / 1e6\n",
    "\n",
    "    server_tool_use = c.use.server_tool_use\n",
    "    server_tool_cost = server_tool_use.web_search_requests * server_tool_pricing['web_search_requests'] / 1e3\n",
    "    return inp_cost, out_cost, cache_cost, cache_w + cache_r, server_tool_cost"
   ]
  },
  {
   "cell_type": "code",
   "execution_count": null,
   "id": "15695891",
   "metadata": {},
   "outputs": [],
   "source": [
    "#| exports\n",
    "@patch\n",
    "def _repr_markdown_(self:Client):\n",
    "    if not hasattr(self,'result'): return 'No results yet'\n",
    "    msg = contents(self.result)\n",
    "    inp_cost, out_cost, cache_cost, cached_toks, server_tool_cost = get_costs(self)\n",
    "    return f\"\"\"{msg}\n",
    "\n",
    "| Metric | Count | Cost (USD) |\n",
    "|--------|------:|-----:|\n",
    "| Input tokens | {self.use.input_tokens:,} | {inp_cost:.6f} |\n",
    "| Output tokens | {self.use.output_tokens:,} | {out_cost:.6f} |\n",
    "| Cache tokens | {cached_toks:,} | {cache_cost:.6f} |\n",
    "| Server tool use | {self.use.server_tool_use.web_search_requests:,} | {server_tool_cost:.6f} |\n",
    "| **Total** | **{self.use.total:,}** | **${self.cost:.6f}** |\"\"\""
   ]
  },
  {
   "cell_type": "code",
   "execution_count": null,
   "id": "be86fc43",
   "metadata": {},
   "outputs": [
    {
     "data": {
      "text/markdown": [
       "1,\n",
       "\n",
       "| Metric | Count | Cost (USD) |\n",
       "|--------|------:|-----:|\n",
       "| Input tokens | 94 | 0.000282 |\n",
       "| Output tokens | 207 | 0.003105 |\n",
       "| Cache tokens | 0 | 0.000000 |\n",
       "| Server tool use | 0 | 0.000000 |\n",
       "| **Total** | **301** | **$0.003387** |"
      ],
      "text/plain": [
       "<__main__.Client>"
      ]
     },
     "execution_count": null,
     "metadata": {},
     "output_type": "execute_result"
    }
   ],
   "source": [
    "c"
   ]
  },
  {
   "cell_type": "markdown",
   "id": "1a7cdbc6",
   "metadata": {},
   "source": [
    "## Tool use"
   ]
  },
  {
   "cell_type": "markdown",
   "id": "65700cb3",
   "metadata": {},
   "source": [
    "Let's now add tool use (aka *function calling*)."
   ]
  },
  {
   "cell_type": "code",
   "execution_count": null,
   "id": "01e3e2af",
   "metadata": {},
   "outputs": [],
   "source": [
    "#| export\n",
    "def mk_tool_choice(choose:Union[str,bool,None])->dict:\n",
    "    \"Create a `tool_choice` dict that's 'auto' if `choose` is `None`, 'any' if it is True, or 'tool' otherwise\"\n",
    "    return {\"type\": \"tool\", \"name\": choose} if isinstance(choose,str) else {'type':'any'} if choose else {'type':'auto'}"
   ]
  },
  {
   "cell_type": "code",
   "execution_count": null,
   "id": "753c4cd5",
   "metadata": {},
   "outputs": [
    {
     "name": "stdout",
     "output_type": "stream",
     "text": [
      "{'type': 'tool', 'name': 'sums'}\n",
      "{'type': 'any'}\n",
      "{'type': 'auto'}\n"
     ]
    }
   ],
   "source": [
    "print(mk_tool_choice('sums'))\n",
    "print(mk_tool_choice(True))\n",
    "print(mk_tool_choice(None))"
   ]
  },
  {
   "cell_type": "markdown",
   "id": "0d72ea0d",
   "metadata": {},
   "source": [
    "Claude can be forced to use a particular tool, or select from a specific list of tools, or decide for itself when to use a tool. If you want to force a tool (or force choosing from a list), include a `tool_choice` param with a dict from `mk_tool_choice`.\n",
    "\n",
    "For testing, we need a function that Claude can call; we'll write a simple function that adds numbers together, and will tell us when it's being called:"
   ]
  },
  {
   "cell_type": "code",
   "execution_count": null,
   "id": "046e8cc3",
   "metadata": {},
   "outputs": [],
   "source": [
    "def sums(\n",
    "    a:int,  # First thing to sum\n",
    "    b:int=1 # Second thing to sum\n",
    ") -> int: # The sum of the inputs\n",
    "    \"Adds a + b.\"\n",
    "    print(f\"Finding the sum of {a} and {b}\")\n",
    "    return a + b"
   ]
  },
  {
   "cell_type": "code",
   "execution_count": null,
   "id": "d51f2bdf",
   "metadata": {},
   "outputs": [],
   "source": [
    "a,b = 604542,6458932\n",
    "pr = f\"What is {a}+{b}?\"\n",
    "sp = \"You are a summing expert.\""
   ]
  },
  {
   "cell_type": "markdown",
   "id": "3dc3ffd6",
   "metadata": {},
   "source": [
    "Claudette can autogenerate a schema thanks to the `toolslm` library. We'll force the use of the tool using the function we created earlier."
   ]
  },
  {
   "cell_type": "code",
   "execution_count": null,
   "id": "bff81d52",
   "metadata": {},
   "outputs": [],
   "source": [
    "tools=[get_schema(sums)]\n",
    "choice = mk_tool_choice('sums')"
   ]
  },
  {
   "cell_type": "markdown",
   "id": "91937f47",
   "metadata": {},
   "source": [
    "We'll start a dialog with Claude now. We'll store the messages of our dialog in `msgs`. The first message will be our prompt `pr`, and we'll pass our `tools` schema."
   ]
  },
  {
   "cell_type": "code",
   "execution_count": null,
   "id": "c2ceeb75",
   "metadata": {},
   "outputs": [
    {
     "data": {
      "text/markdown": [
       "ToolUseBlock(id='toolu_01CpF6zzMQztfisMkrQRkci1', input={'a': 604542, 'b': 6458932}, name='sums', type='tool_use')\n",
       "\n",
       "<details>\n",
       "\n",
       "- id: `msg_01C5m7hmZVisaFxCWKkgekKF`\n",
       "- content: `[{'id': 'toolu_01CpF6zzMQztfisMkrQRkci1', 'input': {'a': 604542, 'b': 6458932}, 'name': 'sums', 'type': 'tool_use'}]`\n",
       "- model: `claude-3-7-sonnet-20250219`\n",
       "- role: `assistant`\n",
       "- stop_reason: `tool_use`\n",
       "- stop_sequence: `None`\n",
       "- type: `message`\n",
       "- usage: `{'cache_creation_input_tokens': 0, 'cache_read_input_tokens': 0, 'input_tokens': 442, 'output_tokens': 53, 'server_tool_use': None}`\n",
       "\n",
       "</details>"
      ],
      "text/plain": [
       "Message(id='msg_01C5m7hmZVisaFxCWKkgekKF', content=[ToolUseBlock(id='toolu_01CpF6zzMQztfisMkrQRkci1', input={'a': 604542, 'b': 6458932}, name='sums', type='tool_use')], model='claude-3-7-sonnet-20250219', role='assistant', stop_reason='tool_use', stop_sequence=None, type='message', usage=In: 442; Out: 53; Cache create: 0; Cache read: 0; Total Tokens: 495; Server tool use (web search requests): 0)"
      ]
     },
     "execution_count": null,
     "metadata": {},
     "output_type": "execute_result"
    }
   ],
   "source": [
    "msgs = mk_msgs(pr)\n",
    "r = c(msgs, sp=sp, tools=tools, tool_choice=choice)\n",
    "r"
   ]
  },
  {
   "cell_type": "markdown",
   "id": "60a2fce0",
   "metadata": {},
   "source": [
    "When Claude decides that it should use a tool, it passes back a `ToolUseBlock` with the name of the tool to call, and the params to use.\n",
    "\n",
    "We don't want to allow it to call just any possible function (that would be a security disaster!) so we create a *namespace* -- that is, a dictionary of allowable function names to call."
   ]
  },
  {
   "cell_type": "code",
   "execution_count": null,
   "id": "4fb9826f",
   "metadata": {},
   "outputs": [
    {
     "data": {
      "text/plain": [
       "{'sums': <function __main__.sums(a: int, b: int = 1) -> int>}"
      ]
     },
     "execution_count": null,
     "metadata": {},
     "output_type": "execute_result"
    }
   ],
   "source": [
    "ns = mk_ns(sums)\n",
    "ns"
   ]
  },
  {
   "cell_type": "code",
   "execution_count": null,
   "id": "5a7728ff",
   "metadata": {},
   "outputs": [],
   "source": [
    "#| exports\n",
    "def mk_funcres(fc, ns):\n",
    "    \"Given tool use block `fc`, get tool result, and create a tool_result response.\"\n",
    "    res = call_func(fc.name, fc.input, ns=ns)\n",
    "    return dict(type=\"tool_result\", tool_use_id=fc.id, content=str(res))"
   ]
  },
  {
   "cell_type": "markdown",
   "id": "3d1f23eb",
   "metadata": {},
   "source": [
    "We can now use the function requested by Claude. We look it up in `ns`, and pass in the provided parameters."
   ]
  },
  {
   "cell_type": "code",
   "execution_count": null,
   "id": "c2e829c2",
   "metadata": {},
   "outputs": [
    {
     "data": {
      "text/plain": [
       "[ToolUseBlock(id='toolu_01CpF6zzMQztfisMkrQRkci1', input={'a': 604542, 'b': 6458932}, name='sums', type='tool_use')]"
      ]
     },
     "execution_count": null,
     "metadata": {},
     "output_type": "execute_result"
    }
   ],
   "source": [
    "fcs = [o for o in r.content if isinstance(o,ToolUseBlock)]\n",
    "fcs"
   ]
  },
  {
   "cell_type": "code",
   "execution_count": null,
   "id": "893f81ca",
   "metadata": {},
   "outputs": [
    {
     "name": "stdout",
     "output_type": "stream",
     "text": [
      "Finding the sum of 604542 and 6458932\n"
     ]
    },
    {
     "data": {
      "text/plain": [
       "[{'type': 'tool_result',\n",
       "  'tool_use_id': 'toolu_01CpF6zzMQztfisMkrQRkci1',\n",
       "  'content': '7063474'}]"
      ]
     },
     "execution_count": null,
     "metadata": {},
     "output_type": "execute_result"
    }
   ],
   "source": [
    "res = [mk_funcres(fc, ns=ns) for fc in fcs]\n",
    "res"
   ]
  },
  {
   "cell_type": "code",
   "execution_count": null,
   "id": "2cd7a393",
   "metadata": {},
   "outputs": [],
   "source": [
    "def contents(r):\n",
    "    \"Helper to get the contents from Claude response `r`.\"\n",
    "    blk = find_block(r)\n",
    "    if not blk and r.content: blk = r.content[0]\n",
    "    if hasattr(blk,'text'): return blk.text.strip()\n",
    "    elif hasattr(blk,'content'): return blk.content.strip()\n",
    "    return str(blk)"
   ]
  },
  {
   "cell_type": "code",
   "execution_count": null,
   "id": "d475922d",
   "metadata": {},
   "outputs": [],
   "source": [
    "#| exports\n",
    "def mk_toolres(\n",
    "    r:abc.Mapping, # Tool use request response from Claude\n",
    "    ns:Optional[abc.Mapping]=None, # Namespace to search for tools\n",
    "    obj:Optional=None # Class to search for tools\n",
    "    ):\n",
    "    \"Create a `tool_result` message from response `r`.\"\n",
    "    cts = getattr(r, 'content', [])\n",
    "    res = [mk_msg(r.model_dump(), role='assistant')]\n",
    "    if ns is None: ns=globals()\n",
    "    if obj is not None: ns = mk_ns(obj)\n",
    "    tcs = [mk_funcres(o, ns) for o in cts if isinstance(o,ToolUseBlock)]\n",
    "    if tcs: res.append(mk_msg(tcs))\n",
    "    return res"
   ]
  },
  {
   "cell_type": "markdown",
   "id": "5a57d1ca",
   "metadata": {},
   "source": [
    "In order to tell Claude the result of the tool call, we pass back the tool use assistant request and the `tool_result` response."
   ]
  },
  {
   "cell_type": "code",
   "execution_count": null,
   "id": "f13de1fc",
   "metadata": {},
   "outputs": [
    {
     "name": "stdout",
     "output_type": "stream",
     "text": [
      "Finding the sum of 604542 and 6458932\n"
     ]
    },
    {
     "data": {
      "text/plain": [
       "[{'role': 'assistant',\n",
       "  'content': [{'id': 'toolu_01CpF6zzMQztfisMkrQRkci1',\n",
       "    'input': {'a': 604542, 'b': 6458932},\n",
       "    'name': 'sums',\n",
       "    'type': 'tool_use'}]},\n",
       " {'role': 'user',\n",
       "  'content': [{'type': 'tool_result',\n",
       "    'tool_use_id': 'toolu_01CpF6zzMQztfisMkrQRkci1',\n",
       "    'content': '7063474'}]}]"
      ]
     },
     "execution_count": null,
     "metadata": {},
     "output_type": "execute_result"
    }
   ],
   "source": [
    "tr = mk_toolres(r, ns=ns)\n",
    "tr"
   ]
  },
  {
   "cell_type": "code",
   "execution_count": null,
   "id": "f0fc80e6",
   "metadata": {},
   "outputs": [
    {
     "data": {
      "text/plain": [
       "[{'role': 'user', 'content': 'What is 604542+6458932?'}]"
      ]
     },
     "execution_count": null,
     "metadata": {},
     "output_type": "execute_result"
    }
   ],
   "source": [
    "msgs"
   ]
  },
  {
   "cell_type": "markdown",
   "id": "faf4fe37",
   "metadata": {},
   "source": [
    "We add this to our dialog, and now Claude has all the information it needs to answer our question."
   ]
  },
  {
   "cell_type": "code",
   "execution_count": null,
   "id": "eed99502",
   "metadata": {},
   "outputs": [
    {
     "data": {
      "text/plain": [
       "'The sum of 604542 and 6458932 is 7,063,474.'"
      ]
     },
     "execution_count": null,
     "metadata": {},
     "output_type": "execute_result"
    }
   ],
   "source": [
    "msgs += tr\n",
    "contents(c(msgs, sp=sp, tools=tools))"
   ]
  },
  {
   "cell_type": "code",
   "execution_count": null,
   "id": "8fc252dc",
   "metadata": {},
   "outputs": [
    {
     "data": {
      "text/plain": [
       "'7063474'"
      ]
     },
     "execution_count": null,
     "metadata": {},
     "output_type": "execute_result"
    }
   ],
   "source": [
    "contents(msgs[-1])"
   ]
  },
  {
   "cell_type": "code",
   "execution_count": null,
   "id": "ae64dce3",
   "metadata": {},
   "outputs": [
    {
     "data": {
      "text/plain": [
       "[{'role': 'user', 'content': 'What is 604542+6458932?'},\n",
       " {'role': 'assistant',\n",
       "  'content': [{'id': 'toolu_01CpF6zzMQztfisMkrQRkci1',\n",
       "    'input': {'a': 604542, 'b': 6458932},\n",
       "    'name': 'sums',\n",
       "    'type': 'tool_use'}]},\n",
       " {'role': 'user',\n",
       "  'content': [{'type': 'tool_result',\n",
       "    'tool_use_id': 'toolu_01CpF6zzMQztfisMkrQRkci1',\n",
       "    'content': '7063474'}]}]"
      ]
     },
     "execution_count": null,
     "metadata": {},
     "output_type": "execute_result"
    }
   ],
   "source": [
    "msgs"
   ]
  },
  {
   "cell_type": "markdown",
   "id": "f2a3dc3c",
   "metadata": {},
   "source": [
    "This works with methods as well -- in this case, use the object itself for `ns`:"
   ]
  },
  {
   "cell_type": "code",
   "execution_count": null,
   "id": "800a53a9",
   "metadata": {},
   "outputs": [],
   "source": [
    "class Dummy:\n",
    "    def sums(\n",
    "        self,\n",
    "        a:int,  # First thing to sum\n",
    "        b:int=1 # Second thing to sum\n",
    "    ) -> int: # The sum of the inputs\n",
    "        \"Adds a + b.\"\n",
    "        print(f\"Finding the sum of {a} and {b}\")\n",
    "        return a + b"
   ]
  },
  {
   "cell_type": "code",
   "execution_count": null,
   "id": "b21e6290",
   "metadata": {},
   "outputs": [
    {
     "name": "stdout",
     "output_type": "stream",
     "text": [
      "Finding the sum of 604542 and 6458932\n"
     ]
    },
    {
     "data": {
      "text/plain": [
       "'The sum of 604542 and 6458932 is 7063474.'"
      ]
     },
     "execution_count": null,
     "metadata": {},
     "output_type": "execute_result"
    }
   ],
   "source": [
    "tools = [get_schema(Dummy.sums)]\n",
    "o = Dummy()\n",
    "r = c(pr, sp=sp, tools=tools, tool_choice=choice)\n",
    "tr = mk_toolres(r, obj=o)\n",
    "msgs += tr\n",
    "contents(c(msgs, sp=sp, tools=tools))"
   ]
  },
  {
   "cell_type": "markdown",
   "id": "4e33c2b2",
   "metadata": {},
   "source": [
    "Anthropic, also has a special tool type specific to text editing."
   ]
  },
  {
   "cell_type": "code",
   "execution_count": null,
   "id": "6dcc3a92",
   "metadata": {},
   "outputs": [
    {
     "data": {
      "text/plain": [
       "[{'type': 'text_editor_20250124', 'name': 'str_replace_editor'}]"
      ]
     },
     "execution_count": null,
     "metadata": {},
     "output_type": "execute_result"
    }
   ],
   "source": [
    "tools = [text_editor_conf['sonnet']]\n",
    "tools"
   ]
  },
  {
   "cell_type": "code",
   "execution_count": null,
   "id": "c9a25fc5",
   "metadata": {},
   "outputs": [
    {
     "data": {
      "text/plain": [
       "ToolUseBlock(id='toolu_01ArY8DQsYsyNF3tRNnXWWWJ', input={'command': 'view', 'path': '_quarto.yml'}, name='str_replace_editor', type='tool_use')"
      ]
     },
     "execution_count": null,
     "metadata": {},
     "output_type": "execute_result"
    }
   ],
   "source": [
    "pr = 'Could you please explain my _quarto.yml file?'\n",
    "msgs = [mk_msg(pr)]\n",
    "r = c(msgs, sp=sp, tools=tools)\n",
    "find_block(r, ToolUseBlock)"
   ]
  },
  {
   "cell_type": "markdown",
   "id": "145b096d",
   "metadata": {},
   "source": [
    "We've gone ahead and create a reference implementation that you can directly use from our `text_editor` module. Or use as reference for creating your own. "
   ]
  },
  {
   "cell_type": "code",
   "execution_count": null,
   "id": "a056df6c",
   "metadata": {},
   "outputs": [
    {
     "name": "stdout",
     "output_type": "stream",
     "text": [
      "## Explanation of Your _quarto.yml File\n",
      "\n",
      "Your _quarto.yml file is a configuration file for Quarto, which is a scientific and tec\n"
     ]
    }
   ],
   "source": [
    "ns = mk_ns(str_replace_editor)\n",
    "tr = mk_toolres(r, ns=ns)\n",
    "msgs += tr\n",
    "print(contents(c(msgs, sp=sp, tools=tools))[:128])"
   ]
  },
  {
   "cell_type": "markdown",
   "id": "d618fc89",
   "metadata": {},
   "source": [
    "## Callable Client"
   ]
  },
  {
   "cell_type": "code",
   "execution_count": null,
   "id": "cb514c3f",
   "metadata": {},
   "outputs": [],
   "source": [
    "#| export\n",
    "def get_types(msgs):\n",
    "    types = []\n",
    "    for m in msgs:\n",
    "        content = m.get('content', [])\n",
    "        if isinstance(content, list): types.extend(getattr(c, 'type', None) or c['type'] for c in content)\n",
    "        else: types.append('text')\n",
    "    return types"
   ]
  },
  {
   "cell_type": "code",
   "execution_count": null,
   "id": "6260d227",
   "metadata": {},
   "outputs": [
    {
     "data": {
      "text/plain": [
       "['text', 'text', 'tool_use', 'tool_result']"
      ]
     },
     "execution_count": null,
     "metadata": {},
     "output_type": "execute_result"
    }
   ],
   "source": [
    "get_types(msgs)"
   ]
  },
  {
   "cell_type": "code",
   "execution_count": null,
   "id": "cbeb89c2",
   "metadata": {},
   "outputs": [],
   "source": [
    "#| exports\n",
    "@patch\n",
    "@delegates(messages.Messages.create)\n",
    "def __call__(self:Client,\n",
    "             msgs:list, # List of messages in the dialog\n",
    "             sp='', # The system prompt\n",
    "             temp=0, # Temperature\n",
    "             maxtok=4096, # Maximum tokens\n",
    "             maxthinktok=0, # Maximum thinking tokens\n",
    "             prefill='', # Optional prefill to pass to Claude as start of its response\n",
    "             stream:bool=False, # Stream response?\n",
    "             stop=None, # Stop sequence\n",
    "             tools:Optional[list]=None, # List of tools to make available to Claude\n",
    "             tool_choice:Optional[dict]=None, # Optionally force use of some tool\n",
    "             **kwargs):\n",
    "    \"Make a call to Claude.\"\n",
    "    if tools: kwargs['tools'] = [get_schema(o) if callable(o) else o for o in listify(tools)]\n",
    "    if tool_choice: kwargs['tool_choice'] = mk_tool_choice(tool_choice)\n",
    "    if maxthinktok: \n",
    "        kwargs['thinking']={'type':'enabled', 'budget_tokens':maxthinktok} \n",
    "        temp=1; prefill=''\n",
    "    msgs = self._precall(msgs, prefill, stop, kwargs)\n",
    "    if any(t == 'image' for t in get_types(msgs)): assert not self.text_only, f\"Images are not supported by the current model type: {self.model}\"\n",
    "    if stream: return self._stream(msgs, prefill=prefill, max_tokens=maxtok, system=sp, temperature=temp, **kwargs)\n",
    "    res = self.c.messages.create(model=self.model, messages=msgs, max_tokens=maxtok, system=sp, temperature=temp, **kwargs)\n",
    "    return self._log(res, prefill, msgs, maxtok, sp, temp, stream=stream, stop=stop, **kwargs)"
   ]
  },
  {
   "cell_type": "code",
   "execution_count": null,
   "id": "6dd255e0",
   "metadata": {},
   "outputs": [
    {
     "name": "stdout",
     "output_type": "stream",
     "text": [
      "Message(id='msg_01Cn7G1vgw8YV5eyKXSQFaLQ', content=[ToolUseBlock(id='toolu_01Jy9HjLxc9ND581HqcjzqKd', input={'a': 0}, name='sums', type='tool_use')], model='claude-3-7-sonnet-20250219', role='assistant', stop_reason='tool_use', stop_sequence=None, type='message', usage=In: 444; Out: 33; Cache create: 0; Cache read: 0; Total Tokens: 477; Server tool use (web search requests): 0)\n",
      "Message(id='msg_01JNUGteXRfLQakhSXAV1ehu', content=[ToolUseBlock(id='toolu_01DFHbFskemZbrqew1spHFA4', input={'a': 0}, name='sums', type='tool_use')], model='claude-3-7-sonnet-20250219', role='assistant', stop_reason='tool_use', stop_sequence=None, type='message', usage=In: 444; Out: 33; Cache create: 0; Cache read: 0; Total Tokens: 477; Server tool use (web search requests): 0)\n"
     ]
    }
   ],
   "source": [
    "for tools in [sums, [get_schema(sums)]]:\n",
    "    r = c(pr, sp=sp, tools=sums, tool_choice='sums')\n",
    "    print(r)"
   ]
  },
  {
   "cell_type": "code",
   "execution_count": null,
   "id": "f0bb426f",
   "metadata": {},
   "outputs": [
    {
     "name": "stdout",
     "output_type": "stream",
     "text": [
      "Finding the sum of 0 and 1\n"
     ]
    }
   ],
   "source": [
    "ns = mk_ns(sums)\n",
    "tr = mk_toolres(r, ns=ns)"
   ]
  },
  {
   "cell_type": "code",
   "execution_count": null,
   "id": "b3564424",
   "metadata": {},
   "outputs": [],
   "source": [
    "#| exports\n",
    "@patch\n",
    "@delegates(Client.__call__)\n",
    "def structured(self:Client,\n",
    "               msgs:list, # List of messages in the dialog\n",
    "               tools:Optional[list]=None, # List of tools to make available to Claude\n",
    "               obj:Optional=None, # Class to search for tools\n",
    "               ns:Optional[abc.Mapping]=None, # Namespace to search for tools\n",
    "               **kwargs):\n",
    "    \"Return the value of all tool calls (generally used for structured outputs)\"\n",
    "    tools = listify(tools)\n",
    "    res = self(msgs, tools=tools, tool_choice=tools, **kwargs)\n",
    "    if ns is None: ns=mk_ns(*tools)\n",
    "    if obj is not None: ns = mk_ns(obj)\n",
    "    cts = getattr(res, 'content', [])\n",
    "    tcs = [call_func(o.name, o.input, ns=ns) for o in cts if isinstance(o,ToolUseBlock)]\n",
    "    return tcs"
   ]
  },
  {
   "cell_type": "markdown",
   "id": "e2b70864",
   "metadata": {},
   "source": [
    "Anthropic's API does not support response formats directly, so instead we provide a `structured` method to use tool calling to achieve the same result. The result of the tool is not passed back to Claude in this case, but instead is returned directly to the user. "
   ]
  },
  {
   "cell_type": "code",
   "execution_count": null,
   "id": "44d2cc82",
   "metadata": {},
   "outputs": [
    {
     "name": "stdout",
     "output_type": "stream",
     "text": [
      "Finding the sum of 1 and 1\n"
     ]
    },
    {
     "data": {
      "text/plain": [
       "[2]"
      ]
     },
     "execution_count": null,
     "metadata": {},
     "output_type": "execute_result"
    }
   ],
   "source": [
    "c.structured(pr, tools=[sums])"
   ]
  },
  {
   "cell_type": "code",
   "execution_count": null,
   "id": "78883bec",
   "metadata": {},
   "outputs": [
    {
     "data": {
      "text/markdown": [
       "ToolUseBlock(id='toolu_01FGiPmwqfSxvSFmEa8FJDAK', input={'a': 1}, name='sums', type='tool_use')\n",
       "\n",
       "| Metric | Count | Cost (USD) |\n",
       "|--------|------:|-----:|\n",
       "| Input tokens | 5,860 | 0.017580 |\n",
       "| Output tokens | 1,442 | 0.021630 |\n",
       "| Cache tokens | 0 | 0.000000 |\n",
       "| Server tool use | 0 | 0.000000 |\n",
       "| **Total** | **7,302** | **$0.039210** |"
      ],
      "text/plain": [
       "<__main__.Client>"
      ]
     },
     "execution_count": null,
     "metadata": {},
     "output_type": "execute_result"
    }
   ],
   "source": [
    "c"
   ]
  },
  {
   "cell_type": "markdown",
   "id": "df5211d9",
   "metadata": {},
   "source": [
    "## Custom Types with Tools Use"
   ]
  },
  {
   "cell_type": "markdown",
   "id": "06fe1763",
   "metadata": {},
   "source": [
    "We need to add tool support for custom types too. Let's test out custom types using a minimal example."
   ]
  },
  {
   "cell_type": "code",
   "execution_count": null,
   "id": "13d08aba",
   "metadata": {},
   "outputs": [],
   "source": [
    "class Book(BasicRepr):\n",
    "    def __init__(self, title: str, pages: int): store_attr()\n",
    "    def __repr__(self):\n",
    "        return f\"Book Title : {self.title}\\nNumber of Pages : {self.pages}\""
   ]
  },
  {
   "cell_type": "code",
   "execution_count": null,
   "id": "effd7f47",
   "metadata": {},
   "outputs": [
    {
     "data": {
      "text/plain": [
       "Book Title : War and Peace\n",
       "Number of Pages : 950"
      ]
     },
     "execution_count": null,
     "metadata": {},
     "output_type": "execute_result"
    }
   ],
   "source": [
    "Book(\"War and Peace\", 950)"
   ]
  },
  {
   "cell_type": "code",
   "execution_count": null,
   "id": "465abf5b",
   "metadata": {},
   "outputs": [],
   "source": [
    "def find_page(book: Book, # The book to find the halfway point of\n",
    "              percent: int, # Percent of a book to read to, e.g. halfway == 50, \n",
    ") -> int:\n",
    "    \"The page number corresponding to `percent` completion of a book\"\n",
    "    return round(book.pages * (percent / 100.0))"
   ]
  },
  {
   "cell_type": "code",
   "execution_count": null,
   "id": "011f74a8",
   "metadata": {},
   "outputs": [
    {
     "data": {
      "text/plain": [
       "{'name': 'find_page',\n",
       " 'description': 'The page number corresponding to `percent` completion of a book\\n\\nReturns:\\n- type: integer',\n",
       " 'input_schema': {'type': 'object',\n",
       "  'properties': {'book': {'type': 'object',\n",
       "    'description': 'The book to find the halfway point of',\n",
       "    '$ref': '#/$defs/Book'},\n",
       "   'percent': {'type': 'integer',\n",
       "    'description': 'Percent of a book to read to, e.g. halfway == 50,'}},\n",
       "  'title': None,\n",
       "  'required': ['book', 'percent'],\n",
       "  '$defs': {'Book': {'type': 'object',\n",
       "    'properties': {'title': {'type': 'string', 'description': ''},\n",
       "     'pages': {'type': 'integer', 'description': ''}},\n",
       "    'title': 'Book',\n",
       "    'required': ['title', 'pages']}}}}"
      ]
     },
     "execution_count": null,
     "metadata": {},
     "output_type": "execute_result"
    }
   ],
   "source": [
    "get_schema(find_page)"
   ]
  },
  {
   "cell_type": "code",
   "execution_count": null,
   "id": "c39dac76",
   "metadata": {},
   "outputs": [
    {
     "data": {
      "text/plain": [
       "{'type': 'tool', 'name': 'find_page'}"
      ]
     },
     "execution_count": null,
     "metadata": {},
     "output_type": "execute_result"
    }
   ],
   "source": [
    "choice = mk_tool_choice('find_page')\n",
    "choice"
   ]
  },
  {
   "cell_type": "markdown",
   "id": "c0795da1",
   "metadata": {},
   "source": [
    "Claudette will pack objects as dict, so we'll transform tool functions with user-defined types into tool functions that accept a dict in lieu of the user-defined type.\n",
    "\n",
    "First let's convert a single argument:"
   ]
  },
  {
   "cell_type": "code",
   "execution_count": null,
   "id": "a8f64918",
   "metadata": {},
   "outputs": [],
   "source": [
    "#| export\n",
    "def _is_builtin(tp: type):\n",
    "    \"Returns True for built in primitive types or containers\"\n",
    "    return (tp in (str, int, float, bool, complex) or tp is None\n",
    "        or getattr(tp, '__origin__', None) is not None)  # Pass through all container types\n",
    "\n",
    "def _convert(val: Dict, # dictionary argument being passed in\n",
    "            tp: type): # type of the tool function input\n",
    "    \"Convert converts a single argument\"\n",
    "    if val is None or _is_builtin(tp) or not isinstance(val, dict): return val\n",
    "    return tp(**val)"
   ]
  },
  {
   "cell_type": "markdown",
   "id": "fbb1fd24",
   "metadata": {},
   "source": [
    "`_is_builtin` decides whether to pass an argument through as-is. Let's check the argument conversion:"
   ]
  },
  {
   "cell_type": "code",
   "execution_count": null,
   "id": "e6182cae",
   "metadata": {},
   "outputs": [
    {
     "data": {
      "text/plain": [
       "(True, False, True)"
      ]
     },
     "execution_count": null,
     "metadata": {},
     "output_type": "execute_result"
    }
   ],
   "source": [
    "(_is_builtin(int), _is_builtin(Book), _is_builtin(List))"
   ]
  },
  {
   "cell_type": "code",
   "execution_count": null,
   "id": "30bcf8cd",
   "metadata": {},
   "outputs": [
    {
     "data": {
      "text/plain": [
       "(555,\n",
       " Book Title : War and Peace\n",
       " Number of Pages : 923,\n",
       " [1, 2, 3, 4])"
      ]
     },
     "execution_count": null,
     "metadata": {},
     "output_type": "execute_result"
    }
   ],
   "source": [
    "(_convert(555, int),\n",
    " _convert({\"title\": \"War and Peace\", \"pages\": 923}, Book),\n",
    " _convert([1, 2, 3, 4], List))"
   ]
  },
  {
   "cell_type": "markdown",
   "id": "21d4ed6a",
   "metadata": {},
   "source": [
    "To apply `tool()` to a function is to return a new function where the user-defined types are replaced with dictionary inputs."
   ]
  },
  {
   "cell_type": "code",
   "execution_count": null,
   "id": "ad70d01a",
   "metadata": {},
   "outputs": [],
   "source": [
    "#| export\n",
    "def tool(func):\n",
    "    if isinstance(func, dict): return func # it's a schema, so don't change\n",
    "    hints = get_type_hints(func)\n",
    "    @wraps(func)\n",
    "    def wrapper(*args, **kwargs):\n",
    "        new_args = [_convert(arg, hints[p]) for p,arg in zip(inspect.signature(func).parameters, args)]\n",
    "        new_kwargs = {k: _convert(v, hints[k]) if k in hints else v for k,v in kwargs.items()}\n",
    "        return func(*new_args, **new_kwargs)\n",
    "    return wrapper"
   ]
  },
  {
   "cell_type": "markdown",
   "id": "a80c69d7",
   "metadata": {},
   "source": [
    "A function is transformed into a function with dict arguments substituted for user-defined types. Built-in types such as `percent` here are left untouched."
   ]
  },
  {
   "cell_type": "code",
   "execution_count": null,
   "id": "dbe72ab6",
   "metadata": {},
   "outputs": [
    {
     "data": {
      "text/plain": [
       "475"
      ]
     },
     "execution_count": null,
     "metadata": {},
     "output_type": "execute_result"
    }
   ],
   "source": [
    "find_page(book=Book(\"War and Peace\", 950), percent=50)"
   ]
  },
  {
   "cell_type": "code",
   "execution_count": null,
   "id": "261f3253",
   "metadata": {},
   "outputs": [
    {
     "data": {
      "text/plain": [
       "475"
      ]
     },
     "execution_count": null,
     "metadata": {},
     "output_type": "execute_result"
    }
   ],
   "source": [
    "tool(find_page)({\"title\": \"War and Peace\", \"pages\": 950}, percent=50)"
   ]
  },
  {
   "cell_type": "markdown",
   "id": "6428afcb",
   "metadata": {},
   "source": [
    "By passing tools wrapped by `tool()`, user-defined types now work completes without failing in tool calls."
   ]
  },
  {
   "cell_type": "code",
   "execution_count": null,
   "id": "48cdcfc2",
   "metadata": {},
   "outputs": [
    {
     "data": {
      "text/plain": [
       "<function __main__.find_page(book: __main__.Book, percent: int) -> int>"
      ]
     },
     "execution_count": null,
     "metadata": {},
     "output_type": "execute_result"
    }
   ],
   "source": [
    "pr = \"How many pages do I have to read to get halfway through my 950 page copy of War and Peace\"\n",
    "tools = tool(find_page)\n",
    "tools"
   ]
  },
  {
   "cell_type": "code",
   "execution_count": null,
   "id": "848a319e",
   "metadata": {},
   "outputs": [
    {
     "data": {
      "text/plain": [
       "ToolUseBlock(id='toolu_012HsKTgeqwpJSBwoPxJaTiZ', input={'book': {'title': 'War and Peace', 'pages': 950}, 'percent': 50}, name='find_page', type='tool_use')"
      ]
     },
     "execution_count": null,
     "metadata": {},
     "output_type": "execute_result"
    }
   ],
   "source": [
    "r = c(pr, tools=[tools])\n",
    "find_block(r, ToolUseBlock)"
   ]
  },
  {
   "cell_type": "code",
   "execution_count": null,
   "id": "209fbdf0",
   "metadata": {},
   "outputs": [
    {
     "data": {
      "text/plain": [
       "[{'role': 'assistant',\n",
       "  'content': [{'citations': None,\n",
       "    'text': 'I can help you find the halfway point of your book. Let me calculate how many pages you need to read to get halfway through your 950-page copy of War and Peace.',\n",
       "    'type': 'text'},\n",
       "   {'id': 'toolu_012HsKTgeqwpJSBwoPxJaTiZ',\n",
       "    'input': {'book': {'title': 'War and Peace', 'pages': 950}, 'percent': 50},\n",
       "    'name': 'find_page',\n",
       "    'type': 'tool_use'}]},\n",
       " {'role': 'user',\n",
       "  'content': [{'type': 'tool_result',\n",
       "    'tool_use_id': 'toolu_012HsKTgeqwpJSBwoPxJaTiZ',\n",
       "    'content': '475'}]}]"
      ]
     },
     "execution_count": null,
     "metadata": {},
     "output_type": "execute_result"
    }
   ],
   "source": [
    "tr = mk_toolres(r, ns=[tools])\n",
    "tr"
   ]
  },
  {
   "cell_type": "code",
   "execution_count": null,
   "id": "8abdec8a",
   "metadata": {},
   "outputs": [
    {
     "data": {
      "text/plain": [
       "'You need to read 475 pages to reach the halfway point of your 950-page copy of War and Peace.'"
      ]
     },
     "execution_count": null,
     "metadata": {},
     "output_type": "execute_result"
    }
   ],
   "source": [
    "msgs = [pr]+tr\n",
    "contents(c(msgs, sp=sp, tools=[tools]))"
   ]
  },
  {
   "cell_type": "markdown",
   "id": "4ea144b8",
   "metadata": {},
   "source": [
    "## Chat"
   ]
  },
  {
   "cell_type": "markdown",
   "id": "419fab81",
   "metadata": {},
   "source": [
    "Rather than manually adding the responses to a dialog, we'll create a simple `Chat` class to do that for us, each time we make a request. We'll also store the system prompt and tools here, to avoid passing them every time."
   ]
  },
  {
   "cell_type": "code",
   "execution_count": null,
   "id": "755dd2a1",
   "metadata": {},
   "outputs": [],
   "source": [
    "#| export\n",
    "class Chat:\n",
    "    def __init__(self,\n",
    "                 model:Optional[str]=None, # Model to use (leave empty if passing `cli`)\n",
    "                 cli:Optional[Client]=None, # Client to use (leave empty if passing `model`)\n",
    "                 sp='', # Optional system prompt\n",
    "                 tools:Optional[list]=None, # List of tools to make available to Claude\n",
    "                 temp=0, # Temperature\n",
    "                 cont_pr:Optional[str]=None, # User prompt to continue an assistant response\n",
    "                 cache: bool = False,  # Use Claude cache?\n",
    "                 hist: list = None,  # Initialize history\n",
    "                 ns:Optional[abc.Mapping]=None # Namespace to search for tools\n",
    "                ):\n",
    "        \"Anthropic chat client.\"\n",
    "        assert model or cli\n",
    "        assert cont_pr != \"\", \"cont_pr may not be an empty string\"\n",
    "        self.c = (cli or Client(model, cache=cache))\n",
    "        if hist is None: hist=[]\n",
    "        if tools: tools = [tool(t) for t in tools]\n",
    "        if ns is None: ns=tools\n",
    "        self.h,self.sp,self.tools,self.cont_pr,self.temp,self.cache,self.ns = hist,sp,tools,cont_pr,temp,cache,ns\n",
    "\n",
    "    @property\n",
    "    def use(self): return self.c.use"
   ]
  },
  {
   "cell_type": "markdown",
   "id": "c3f16d4e",
   "metadata": {},
   "source": [
    "The class stores the `Client` that will provide the responses in `c`, and a history of messages in `h`."
   ]
  },
  {
   "cell_type": "code",
   "execution_count": null,
   "id": "04b837c5",
   "metadata": {},
   "outputs": [
    {
     "data": {
      "text/plain": [
       "(In: 0; Out: 0; Cache create: 0; Cache read: 0; Total Tokens: 0; Server tool use (web search requests): 0,\n",
       " [])"
      ]
     },
     "execution_count": null,
     "metadata": {},
     "output_type": "execute_result"
    }
   ],
   "source": [
    "sp = \"Never mention what tools you use.\"\n",
    "chat = Chat(model, sp=sp)\n",
    "chat.c.use, chat.h"
   ]
  },
  {
   "cell_type": "code",
   "execution_count": null,
   "id": "10360d53",
   "metadata": {},
   "outputs": [
    {
     "data": {
      "text/plain": [
       "0.0"
      ]
     },
     "execution_count": null,
     "metadata": {},
     "output_type": "execute_result"
    }
   ],
   "source": [
    "chat.c.use.cost(pricing[model_types[chat.c.model]])"
   ]
  },
  {
   "cell_type": "markdown",
   "id": "8b36fcec",
   "metadata": {},
   "source": [
    "This is clunky. Let's add `cost` as a property for the `Chat` class. It will pass in the appropriate prices for the current model to the usage cost calculator."
   ]
  },
  {
   "cell_type": "code",
   "execution_count": null,
   "id": "aae25dd2",
   "metadata": {},
   "outputs": [],
   "source": [
    "#| exports\n",
    "@patch(as_prop=True)\n",
    "def cost(self: Chat) -> float: return self.c.cost"
   ]
  },
  {
   "cell_type": "code",
   "execution_count": null,
   "id": "793d2f2d",
   "metadata": {},
   "outputs": [
    {
     "data": {
      "text/plain": [
       "0.0"
      ]
     },
     "execution_count": null,
     "metadata": {},
     "output_type": "execute_result"
    }
   ],
   "source": [
    "chat.cost"
   ]
  },
  {
   "cell_type": "code",
   "execution_count": null,
   "id": "42a05df9",
   "metadata": {},
   "outputs": [],
   "source": [
    "#| exports\n",
    "@patch\n",
    "def _stream(self:Chat, res):\n",
    "    yield from res\n",
    "    self.h += mk_toolres(self.c.result, ns=self.tools, obj=self)"
   ]
  },
  {
   "cell_type": "code",
   "execution_count": null,
   "id": "d0178ee1",
   "metadata": {},
   "outputs": [],
   "source": [
    "#| exports\n",
    "@patch\n",
    "def _post_pr(self:Chat, pr, prev_role):\n",
    "    if pr is None and prev_role == 'assistant':\n",
    "        if self.cont_pr is None:\n",
    "            raise ValueError(\"Prompt must be given after assistant completion, or use `self.cont_pr`.\")\n",
    "        pr = self.cont_pr # No user prompt, keep the chain\n",
    "    if pr: self.h.append(mk_msg(pr, cache=self.cache))"
   ]
  },
  {
   "cell_type": "code",
   "execution_count": null,
   "id": "1b5c04e6",
   "metadata": {},
   "outputs": [],
   "source": [
    "#| exports\n",
    "@patch\n",
    "def _append_pr(self:Chat,\n",
    "               pr=None,  # Prompt / message\n",
    "              ):\n",
    "    prev_role = nested_idx(self.h, -1, 'role') if self.h else 'assistant' # First message should be 'user'\n",
    "    if pr and prev_role == 'user': self() # already user request pending\n",
    "    self._post_pr(pr, prev_role)"
   ]
  },
  {
   "cell_type": "code",
   "execution_count": null,
   "id": "a9bcc67a",
   "metadata": {},
   "outputs": [],
   "source": [
    "#| exports\n",
    "@patch\n",
    "def __call__(self:Chat,\n",
    "             pr=None,  # Prompt / message\n",
    "             temp=None, # Temperature\n",
    "             maxtok=4096, # Maximum tokens\n",
    "             maxthinktok=0, # Maximum thinking tokens\n",
    "             stream=False, # Stream response?\n",
    "             prefill='', # Optional prefill to pass to Claude as start of its response\n",
    "             tool_choice:Optional[dict]=None, # Optionally force use of some tool\n",
    "             **kw):\n",
    "    if temp is None: temp=self.temp\n",
    "    self._append_pr(pr)\n",
    "    res = self.c(self.h, stream=stream, prefill=prefill, sp=self.sp, temp=temp, maxtok=maxtok, maxthinktok=maxthinktok, tools=self.tools, tool_choice=tool_choice,**kw)\n",
    "    if stream: return self._stream(res)\n",
    "    self.h += mk_toolres(self.c.result, ns=self.ns)\n",
    "    return res"
   ]
  },
  {
   "cell_type": "markdown",
   "id": "f97c5cd7",
   "metadata": {},
   "source": [
    "The `__call__` method just passes the request along to the `Client`, but rather than just passing in this one prompt, it appends it to the history and passes it all along. As a result, we now have state!"
   ]
  },
  {
   "cell_type": "code",
   "execution_count": null,
   "id": "cb393257",
   "metadata": {},
   "outputs": [],
   "source": [
    "chat = Chat(model, sp=sp)"
   ]
  },
  {
   "cell_type": "code",
   "execution_count": null,
   "id": "40073f42",
   "metadata": {},
   "outputs": [
    {
     "data": {
      "text/markdown": [
       "Your name is Jeremy, as you mentioned in your previous message.\n",
       "\n",
       "<details>\n",
       "\n",
       "- id: `msg_018q1k9EPACg8QjBAeP7qpE1`\n",
       "- content: `[{'citations': None, 'text': 'Your name is Jeremy, as you mentioned in your previous message.', 'type': 'text'}]`\n",
       "- model: `claude-3-7-sonnet-20250219`\n",
       "- role: `assistant`\n",
       "- stop_reason: `end_turn`\n",
       "- stop_sequence: `None`\n",
       "- type: `message`\n",
       "- usage: `{'cache_creation_input_tokens': 0, 'cache_read_input_tokens': 0, 'input_tokens': 59, 'output_tokens': 16, 'server_tool_use': None}`\n",
       "\n",
       "</details>"
      ],
      "text/plain": [
       "Message(id='msg_018q1k9EPACg8QjBAeP7qpE1', content=[TextBlock(citations=None, text='Your name is Jeremy, as you mentioned in your previous message.', type='text')], model='claude-3-7-sonnet-20250219', role='assistant', stop_reason='end_turn', stop_sequence=None, type='message', usage=In: 59; Out: 16; Cache create: 0; Cache read: 0; Total Tokens: 75; Server tool use (web search requests): 0)"
      ]
     },
     "execution_count": null,
     "metadata": {},
     "output_type": "execute_result"
    }
   ],
   "source": [
    "chat(\"I'm Jeremy\")\n",
    "chat(\"What's my name?\")"
   ]
  },
  {
   "cell_type": "code",
   "execution_count": null,
   "id": "5457b51d",
   "metadata": {},
   "outputs": [
    {
     "data": {
      "text/plain": [
       "(In: 76; Out: 50; Cache create: 0; Cache read: 0; Total Tokens: 126; Server tool use (web search requests): 0,\n",
       " 0.000978)"
      ]
     },
     "execution_count": null,
     "metadata": {},
     "output_type": "execute_result"
    }
   ],
   "source": [
    "chat.use, chat.cost"
   ]
  },
  {
   "cell_type": "markdown",
   "id": "a7df0327",
   "metadata": {},
   "source": [
    "Let's try out prefill too:"
   ]
  },
  {
   "cell_type": "code",
   "execution_count": null,
   "id": "20a32de0",
   "metadata": {},
   "outputs": [],
   "source": [
    "q = \"Concisely, what is the meaning of life?\"\n",
    "pref = 'According to Douglas Adams,'"
   ]
  },
  {
   "cell_type": "code",
   "execution_count": null,
   "id": "b07bce62",
   "metadata": {},
   "outputs": [
    {
     "data": {
      "text/markdown": [
       "Your name is Jeremy, as you mentioned in your previous message.\n",
       "\n",
       "<details>\n",
       "\n",
       "- id: `msg_018q1k9EPACg8QjBAeP7qpE1`\n",
       "- content: `[{'citations': None, 'text': 'Your name is Jeremy, as you mentioned in your previous message.', 'type': 'text'}]`\n",
       "- model: `claude-3-7-sonnet-20250219`\n",
       "- role: `assistant`\n",
       "- stop_reason: `end_turn`\n",
       "- stop_sequence: `None`\n",
       "- type: `message`\n",
       "- usage: `{'cache_creation_input_tokens': 0, 'cache_read_input_tokens': 0, 'input_tokens': 59, 'output_tokens': 16, 'server_tool_use': None}`\n",
       "\n",
       "</details>"
      ],
      "text/plain": [
       "Message(id='msg_018q1k9EPACg8QjBAeP7qpE1', content=[TextBlock(citations=None, text='Your name is Jeremy, as you mentioned in your previous message.', type='text')], model='claude-3-7-sonnet-20250219', role='assistant', stop_reason='end_turn', stop_sequence=None, type='message', usage=In: 59; Out: 16; Cache create: 0; Cache read: 0; Total Tokens: 75; Server tool use (web search requests): 0)"
      ]
     },
     "execution_count": null,
     "metadata": {},
     "output_type": "execute_result"
    }
   ],
   "source": [
    "chat.c.result"
   ]
  },
  {
   "cell_type": "code",
   "execution_count": null,
   "id": "9b28705d",
   "metadata": {},
   "outputs": [
    {
     "data": {
      "text/markdown": [
       "According to Douglas Adams,  42. More seriously, the meaning of life is likely what you create through your relationships, pursuits, and values.\n",
       "\n",
       "<details>\n",
       "\n",
       "- id: `msg_01QmdBDZ7vf8pLcHoTCqsmQn`\n",
       "- content: `[{'citations': None, 'text': 'According to Douglas Adams,  42. More seriously, the meaning of life is likely what you create through your relationships, pursuits, and values.', 'type': 'text'}]`\n",
       "- model: `claude-3-7-sonnet-20250219`\n",
       "- role: `assistant`\n",
       "- stop_reason: `end_turn`\n",
       "- stop_sequence: `None`\n",
       "- type: `message`\n",
       "- usage: `{'cache_creation_input_tokens': 0, 'cache_read_input_tokens': 0, 'input_tokens': 95, 'output_tokens': 28, 'server_tool_use': None}`\n",
       "\n",
       "</details>"
      ],
      "text/plain": [
       "Message(id='msg_01QmdBDZ7vf8pLcHoTCqsmQn', content=[TextBlock(citations=None, text='According to Douglas Adams,  42. More seriously, the meaning of life is likely what you create through your relationships, pursuits, and values.', type='text')], model='claude-3-7-sonnet-20250219', role='assistant', stop_reason='end_turn', stop_sequence=None, type='message', usage=In: 95; Out: 28; Cache create: 0; Cache read: 0; Total Tokens: 123; Server tool use (web search requests): 0)"
      ]
     },
     "execution_count": null,
     "metadata": {},
     "output_type": "execute_result"
    }
   ],
   "source": [
    "chat(q, prefill=pref)"
   ]
  },
  {
   "cell_type": "markdown",
   "id": "fbd28a97",
   "metadata": {},
   "source": [
    "By default messages must be in user, assistant, user format. If this isn't followed (aka calling `chat()` without a user message) it will error out:"
   ]
  },
  {
   "cell_type": "code",
   "execution_count": null,
   "id": "c3761928",
   "metadata": {},
   "outputs": [
    {
     "name": "stdout",
     "output_type": "stream",
     "text": [
      "Error: Prompt must be given after assistant completion, or use `self.cont_pr`.\n"
     ]
    }
   ],
   "source": [
    "try: chat()\n",
    "except ValueError as e: print(\"Error:\", e)"
   ]
  },
  {
   "cell_type": "markdown",
   "id": "4d57b5c7",
   "metadata": {},
   "source": [
    "Setting `cont_pr` allows a \"default prompt\" to be specified when a prompt isn't specified. Usually used to prompt the model to continue."
   ]
  },
  {
   "cell_type": "code",
   "execution_count": null,
   "id": "54c5a2bc",
   "metadata": {},
   "outputs": [
    {
     "data": {
      "text/markdown": [
       "The meaning of life varies across philosophical traditions: finding happiness, serving others, seeking knowledge, fulfilling one's potential, or connecting with something greater than oneself. Ultimately, many find meaning in personal growth, loving relationships, contributing to society, and pursuing what brings them genuine fulfillment. Rather than a single universal answer, meaning often emerges from our individual journeys and choices.\n",
       "\n",
       "<details>\n",
       "\n",
       "- id: `msg_01YJDurNFrknbtQjLMUGkL6S`\n",
       "- content: `[{'citations': None, 'text': \"The meaning of life varies across philosophical traditions: finding happiness, serving others, seeking knowledge, fulfilling one's potential, or connecting with something greater than oneself. Ultimately, many find meaning in personal growth, loving relationships, contributing to society, and pursuing what brings them genuine fulfillment. Rather than a single universal answer, meaning often emerges from our individual journeys and choices.\", 'type': 'text'}]`\n",
       "- model: `claude-3-7-sonnet-20250219`\n",
       "- role: `assistant`\n",
       "- stop_reason: `end_turn`\n",
       "- stop_sequence: `None`\n",
       "- type: `message`\n",
       "- usage: `{'cache_creation_input_tokens': 0, 'cache_read_input_tokens': 0, 'input_tokens': 129, 'output_tokens': 82, 'server_tool_use': None}`\n",
       "\n",
       "</details>"
      ],
      "text/plain": [
       "Message(id='msg_01YJDurNFrknbtQjLMUGkL6S', content=[TextBlock(citations=None, text=\"The meaning of life varies across philosophical traditions: finding happiness, serving others, seeking knowledge, fulfilling one's potential, or connecting with something greater than oneself. Ultimately, many find meaning in personal growth, loving relationships, contributing to society, and pursuing what brings them genuine fulfillment. Rather than a single universal answer, meaning often emerges from our individual journeys and choices.\", type='text')], model='claude-3-7-sonnet-20250219', role='assistant', stop_reason='end_turn', stop_sequence=None, type='message', usage=In: 129; Out: 82; Cache create: 0; Cache read: 0; Total Tokens: 211; Server tool use (web search requests): 0)"
      ]
     },
     "execution_count": null,
     "metadata": {},
     "output_type": "execute_result"
    }
   ],
   "source": [
    "chat.cont_pr = \"keep going...\"\n",
    "chat()"
   ]
  },
  {
   "cell_type": "markdown",
   "id": "776b3d1e",
   "metadata": {},
   "source": [
    "We can also use streaming:"
   ]
  },
  {
   "cell_type": "code",
   "execution_count": null,
   "id": "529104ec",
   "metadata": {},
   "outputs": [
    {
     "name": "stdout",
     "output_type": "stream",
     "text": [
      "Hello Jeremy! It's nice to meet you. How are you doing today? Is there something I can help you with or would you like to chat?"
     ]
    }
   ],
   "source": [
    "chat = Chat(model, sp=sp)\n",
    "for o in chat(\"I'm Jeremy\", stream=True): print(o, end='')"
   ]
  },
  {
   "cell_type": "code",
   "execution_count": null,
   "id": "14abb3dc",
   "metadata": {},
   "outputs": [
    {
     "name": "stdout",
     "output_type": "stream",
     "text": [
      "According to Douglas Adams,  it's 42. More seriously, the meaning of life is deeply personal - many find it in relationships, creating positive impact, pursuing passions, or spiritual fulfillment. There's no universal answer; meaning is what you choose to create."
     ]
    }
   ],
   "source": [
    "for o in chat(q, prefill=pref, stream=True): print(o, end='')"
   ]
  },
  {
   "cell_type": "markdown",
   "id": "0acdca39",
   "metadata": {},
   "source": [
    "You can provide a history of messages to initialise `Chat` with:"
   ]
  },
  {
   "cell_type": "code",
   "execution_count": null,
   "id": "32814e78",
   "metadata": {},
   "outputs": [
    {
     "data": {
      "text/markdown": [
       "I didn't actually know your name! I was just making a random guess for fun. It's quite surprising that I happened to guess correctly. What are the chances of that?\n",
       "\n",
       "If you'd like, you can share how you'd prefer me to address you in our conversation.\n",
       "\n",
       "<details>\n",
       "\n",
       "- id: `msg_012dvDUX8udLpFYPNfUa2sv5`\n",
       "- content: `[{'citations': None, 'text': \"I didn't actually know your name! I was just making a random guess for fun. It's quite surprising that I happened to guess correctly. What are the chances of that?\\n\\nIf you'd like, you can share how you'd prefer me to address you in our conversation.\", 'type': 'text'}]`\n",
       "- model: `claude-3-7-sonnet-20250219`\n",
       "- role: `assistant`\n",
       "- stop_reason: `end_turn`\n",
       "- stop_sequence: `None`\n",
       "- type: `message`\n",
       "- usage: `{'cache_creation_input_tokens': 0, 'cache_read_input_tokens': 0, 'input_tokens': 58, 'output_tokens': 60, 'server_tool_use': None}`\n",
       "\n",
       "</details>"
      ],
      "text/plain": [
       "Message(id='msg_012dvDUX8udLpFYPNfUa2sv5', content=[TextBlock(citations=None, text=\"I didn't actually know your name! I was just making a random guess for fun. It's quite surprising that I happened to guess correctly. What are the chances of that?\\n\\nIf you'd like, you can share how you'd prefer me to address you in our conversation.\", type='text')], model='claude-3-7-sonnet-20250219', role='assistant', stop_reason='end_turn', stop_sequence=None, type='message', usage=In: 58; Out: 60; Cache create: 0; Cache read: 0; Total Tokens: 118; Server tool use (web search requests): 0)"
      ]
     },
     "execution_count": null,
     "metadata": {},
     "output_type": "execute_result"
    }
   ],
   "source": [
    "chat = Chat(model, sp=sp, hist=[\"Can you guess my name?\", \"Hmmm I really don't know. Is it 'Merlin G. Penfolds'?\"])\n",
    "chat('Wow how did you know?')"
   ]
  },
  {
   "cell_type": "markdown",
   "id": "6b40892f",
   "metadata": {},
   "source": [
    "### Chat tool use"
   ]
  },
  {
   "cell_type": "markdown",
   "id": "062f7edf",
   "metadata": {},
   "source": [
    "We automagically get streamlined tool use as well:"
   ]
  },
  {
   "cell_type": "code",
   "execution_count": null,
   "id": "ee6535cf",
   "metadata": {},
   "outputs": [
    {
     "data": {
      "text/plain": [
       "'What is 604542+6458932?'"
      ]
     },
     "execution_count": null,
     "metadata": {},
     "output_type": "execute_result"
    }
   ],
   "source": [
    "pr = f\"What is {a}+{b}?\"\n",
    "pr"
   ]
  },
  {
   "cell_type": "code",
   "execution_count": null,
   "id": "797741c5",
   "metadata": {},
   "outputs": [
    {
     "name": "stdout",
     "output_type": "stream",
     "text": [
      "Finding the sum of 604542 and 6458932\n"
     ]
    },
    {
     "data": {
      "text/markdown": [
       "I'll calculate the sum of those two numbers for you.\n",
       "\n",
       "<details>\n",
       "\n",
       "- id: `msg_01QFwCbk595VHhnKqqZc2EMi`\n",
       "- content: `[{'citations': None, 'text': \"I'll calculate the sum of those two numbers for you.\", 'type': 'text'}, {'id': 'toolu_016ViHPsnWnzVq65MwRyr8gW', 'input': {'a': 604542, 'b': 6458932}, 'name': 'sums', 'type': 'tool_use'}]`\n",
       "- model: `claude-3-7-sonnet-20250219`\n",
       "- role: `assistant`\n",
       "- stop_reason: `tool_use`\n",
       "- stop_sequence: `None`\n",
       "- type: `message`\n",
       "- usage: `{'cache_creation_input_tokens': 0, 'cache_read_input_tokens': 0, 'input_tokens': 437, 'output_tokens': 85, 'server_tool_use': None}`\n",
       "\n",
       "</details>"
      ],
      "text/plain": [
       "Message(id='msg_01QFwCbk595VHhnKqqZc2EMi', content=[TextBlock(citations=None, text=\"I'll calculate the sum of those two numbers for you.\", type='text'), ToolUseBlock(id='toolu_016ViHPsnWnzVq65MwRyr8gW', input={'a': 604542, 'b': 6458932}, name='sums', type='tool_use')], model='claude-3-7-sonnet-20250219', role='assistant', stop_reason='tool_use', stop_sequence=None, type='message', usage=In: 437; Out: 85; Cache create: 0; Cache read: 0; Total Tokens: 522; Server tool use (web search requests): 0)"
      ]
     },
     "execution_count": null,
     "metadata": {},
     "output_type": "execute_result"
    }
   ],
   "source": [
    "chat = Chat(model, sp=sp, tools=[sums])\n",
    "r = chat(pr)\n",
    "r"
   ]
  },
  {
   "cell_type": "markdown",
   "id": "ff5513be",
   "metadata": {},
   "source": [
    "Now we need to send this result to Claude—calling the object with no parameters tells it to return the tool result to Claude:"
   ]
  },
  {
   "cell_type": "code",
   "execution_count": null,
   "id": "b091eae0",
   "metadata": {},
   "outputs": [
    {
     "data": {
      "text/markdown": [
       "The sum of 604542 and 6458932 is 7,063,474.\n",
       "\n",
       "<details>\n",
       "\n",
       "- id: `msg_01PaLtHRATzhFrQFV3eg82pG`\n",
       "- content: `[{'citations': None, 'text': 'The sum of 604542 and 6458932 is 7,063,474.', 'type': 'text'}]`\n",
       "- model: `claude-3-7-sonnet-20250219`\n",
       "- role: `assistant`\n",
       "- stop_reason: `end_turn`\n",
       "- stop_sequence: `None`\n",
       "- type: `message`\n",
       "- usage: `{'cache_creation_input_tokens': 0, 'cache_read_input_tokens': 0, 'input_tokens': 536, 'output_tokens': 25, 'server_tool_use': None}`\n",
       "\n",
       "</details>"
      ],
      "text/plain": [
       "Message(id='msg_01PaLtHRATzhFrQFV3eg82pG', content=[TextBlock(citations=None, text='The sum of 604542 and 6458932 is 7,063,474.', type='text')], model='claude-3-7-sonnet-20250219', role='assistant', stop_reason='end_turn', stop_sequence=None, type='message', usage=In: 536; Out: 25; Cache create: 0; Cache read: 0; Total Tokens: 561; Server tool use (web search requests): 0)"
      ]
     },
     "execution_count": null,
     "metadata": {},
     "output_type": "execute_result"
    }
   ],
   "source": [
    "chat()"
   ]
  },
  {
   "cell_type": "markdown",
   "id": "8e551677",
   "metadata": {},
   "source": [
    "It should be correct, because it actually used our Python function to do the addition. Let's check:"
   ]
  },
  {
   "cell_type": "code",
   "execution_count": null,
   "id": "06bfbf3d",
   "metadata": {},
   "outputs": [
    {
     "data": {
      "text/plain": [
       "7063474"
      ]
     },
     "execution_count": null,
     "metadata": {},
     "output_type": "execute_result"
    }
   ],
   "source": [
    "a+b"
   ]
  },
  {
   "cell_type": "markdown",
   "id": "445b2aa2",
   "metadata": {},
   "source": [
    "Let's test a function with user defined types."
   ]
  },
  {
   "cell_type": "code",
   "execution_count": null,
   "id": "d4db78d9",
   "metadata": {},
   "outputs": [
    {
     "data": {
      "text/markdown": [
       "To find out how many pages is three quarters of the way through your 80-page edition of Tao Te Ching, I'll calculate that for you.\n",
       "\n",
       "<details>\n",
       "\n",
       "- id: `msg_01FPy3rjcqggtxdRxgHG37PP`\n",
       "- content: `[{'citations': None, 'text': \"To find out how many pages is three quarters of the way through your 80-page edition of Tao Te Ching, I'll calculate that for you.\", 'type': 'text'}, {'id': 'toolu_013YVRza4qFjXh7Qv9aryPp4', 'input': {'book': {'title': 'Tao Te Ching', 'pages': 80}, 'percent': 75}, 'name': 'find_page', 'type': 'tool_use'}]`\n",
       "- model: `claude-3-7-sonnet-20250219`\n",
       "- role: `assistant`\n",
       "- stop_reason: `tool_use`\n",
       "- stop_sequence: `None`\n",
       "- type: `message`\n",
       "- usage: `{'cache_creation_input_tokens': 0, 'cache_read_input_tokens': 0, 'input_tokens': 547, 'output_tokens': 122, 'server_tool_use': None}`\n",
       "\n",
       "</details>"
      ],
      "text/plain": [
       "Message(id='msg_01FPy3rjcqggtxdRxgHG37PP', content=[TextBlock(citations=None, text=\"To find out how many pages is three quarters of the way through your 80-page edition of Tao Te Ching, I'll calculate that for you.\", type='text'), ToolUseBlock(id='toolu_013YVRza4qFjXh7Qv9aryPp4', input={'book': {'title': 'Tao Te Ching', 'pages': 80}, 'percent': 75}, name='find_page', type='tool_use')], model='claude-3-7-sonnet-20250219', role='assistant', stop_reason='tool_use', stop_sequence=None, type='message', usage=In: 547; Out: 122; Cache create: 0; Cache read: 0; Total Tokens: 669; Server tool use (web search requests): 0)"
      ]
     },
     "execution_count": null,
     "metadata": {},
     "output_type": "execute_result"
    }
   ],
   "source": [
    "chat = Chat(model, sp=sp, tools=[find_page])\n",
    "r = chat(\"How many pages is three quarters of the way through my 80 page edition of Tao Te Ching?\")\n",
    "r"
   ]
  },
  {
   "cell_type": "markdown",
   "id": "6486462c",
   "metadata": {},
   "source": [
    "Now we need to send this result to Claude—calling the object with no parameters tells it to return the tool result to Claude:"
   ]
  },
  {
   "cell_type": "code",
   "execution_count": null,
   "id": "0979c832",
   "metadata": {},
   "outputs": [
    {
     "data": {
      "text/markdown": [
       "Three quarters (75%) of the way through your 80-page edition of Tao Te Ching would be page 60.\n",
       "\n",
       "<details>\n",
       "\n",
       "- id: `msg_01JUU6YMCqFBW1shmzM7Fj8w`\n",
       "- content: `[{'citations': None, 'text': 'Three quarters (75%) of the way through your 80-page edition of Tao Te Ching would be page 60.', 'type': 'text'}]`\n",
       "- model: `claude-3-7-sonnet-20250219`\n",
       "- role: `assistant`\n",
       "- stop_reason: `end_turn`\n",
       "- stop_sequence: `None`\n",
       "- type: `message`\n",
       "- usage: `{'cache_creation_input_tokens': 0, 'cache_read_input_tokens': 0, 'input_tokens': 681, 'output_tokens': 33, 'server_tool_use': None}`\n",
       "\n",
       "</details>"
      ],
      "text/plain": [
       "Message(id='msg_01JUU6YMCqFBW1shmzM7Fj8w', content=[TextBlock(citations=None, text='Three quarters (75%) of the way through your 80-page edition of Tao Te Ching would be page 60.', type='text')], model='claude-3-7-sonnet-20250219', role='assistant', stop_reason='end_turn', stop_sequence=None, type='message', usage=In: 681; Out: 33; Cache create: 0; Cache read: 0; Total Tokens: 714; Server tool use (web search requests): 0)"
      ]
     },
     "execution_count": null,
     "metadata": {},
     "output_type": "execute_result"
    }
   ],
   "source": [
    "chat()"
   ]
  },
  {
   "cell_type": "markdown",
   "id": "b7054a02",
   "metadata": {},
   "source": [
    "It should be correct, because it actually used our Python function to do the addition. Let's check:"
   ]
  },
  {
   "cell_type": "code",
   "execution_count": null,
   "id": "b7ff0879",
   "metadata": {},
   "outputs": [
    {
     "data": {
      "text/plain": [
       "60.0"
      ]
     },
     "execution_count": null,
     "metadata": {},
     "output_type": "execute_result"
    }
   ],
   "source": [
    "80 * .75"
   ]
  },
  {
   "cell_type": "code",
   "execution_count": null,
   "id": "c76a22fb",
   "metadata": {},
   "outputs": [],
   "source": [
    "chat = Chat(model, tools=[text_editor_conf['sonnet']], ns=mk_ns(str_replace_editor))"
   ]
  },
  {
   "cell_type": "markdown",
   "id": "157d057f",
   "metadata": {},
   "source": [
    "Note that `mk_ns(str_replace_editor)` is used here. When not providing tools directly as Python functions (like `sum`), you **must** create and pass a namespace dictionary (mapping the tool name string to the function object) using the `ns` parameter to methods like `mk_toolres` or `toolloop`. `toolslm` cannot automatically generate the namespace in this case. For schema-based tools (i.e., Python functions), `claudette` handles namespace creation automatically."
   ]
  },
  {
   "cell_type": "code",
   "execution_count": null,
   "id": "ebbd0cd2",
   "metadata": {},
   "outputs": [
    {
     "data": {
      "text/plain": [
       "ToolUseBlock(id='toolu_01E6LUbTPMsTGZMbiSMbQ3vm', input={'command': 'view', 'path': '_quarto.yml'}, name='str_replace_editor', type='tool_use')"
      ]
     },
     "execution_count": null,
     "metadata": {},
     "output_type": "execute_result"
    }
   ],
   "source": [
    "r = chat('Please explain what my _quarto.yml does. Use your tools')\n",
    "find_block(r, ToolUseBlock)"
   ]
  },
  {
   "cell_type": "code",
   "execution_count": null,
   "id": "0b7717a8",
   "metadata": {},
   "outputs": [
    {
     "data": {
      "text/markdown": [
       "# Explanation of Your _quarto.yml File\n",
       "\n",
       "Your _quarto.yml is a configuration file for Quarto, which is a scientific and technical publishing system. Here's a breakdown of what it does:\n",
       "\n",
       "## Project Configuration\n",
       "- `project.type: website`: Defines this as a website project (as opposed to a book or other format)\n",
       "- `project.resources: [\"*.txt\"]`: Includes all .txt files as resources in the build\n",
       "- `project.preview.port: 3000`: Sets the preview server to run on port 3000\n",
       "- `project.preview.browser: false`: Prevents automatically opening a browser when previewing\n",
       "\n",
       "## Format Settings\n",
       "- `format.html`: Configures HTML output with several settings:\n",
       "  - `theme: cosmo`: Uses the \"cosmo\" theme for styling\n",
       "  - `css: styles.css`: Applies additional custom styles from styles.css\n",
       "  - `toc: true`: Enables table of contents\n",
       "  - `code-tools: true`: Enables code tools (like copy button)\n",
       "  - `code-block-bg: true`: Adds background to code blocks\n",
       "  - `code-block-border-left: \"#31BAE9\"`: Sets a blue left border for code blocks\n",
       "  - `highlight-style: arrow`: Uses the \"arrow\" syntax highlighting style\n",
       "  - `grid`: Configures the page layout with specific widths for sidebar (180px), body (1800px), margins (150px), and gutters (1.0rem)\n",
       "  - `keep-md: true`: Preserves Markdown files after rendering\n",
       "\n",
       "- `format.commonmark: default`: Also enables CommonMark format with default settings\n",
       "\n",
       "## Website Configuration\n",
       "- `website.twitter-card: true`: Enables Twitter card metadata\n",
       "- `website.open-graph: true`: Enables Open Graph metadata for social media sharing\n",
       "- `website.repo-actions: [issue]`: Adds an \"issue\" button for repository actions\n",
       "- `website.navbar.background: primary`: Sets the navbar background to the primary theme color\n",
       "- `website.navbar.search: true`: Enables search functionality in the navbar\n",
       "- `website.sidebar.style: floating`: Uses a floating style for the sidebar\n",
       "\n",
       "## Metadata Files\n",
       "- Includes two external metadata files:\n",
       "  - `nbdev.yml`: Likely contains nbdev-specific configurations (nbdev is a library for developing Python packages)\n",
       "  - `sidebar.yml`: Likely contains sidebar navigation structure\n",
       "\n",
       "This configuration sets up a website with good code display features, responsive layout, and integration with development tools. It appears to be designed for technical documentation, possibly for a Python package using nbdev.\n",
       "\n",
       "<details>\n",
       "\n",
       "- id: `msg_016Hxyn9LbZ5EuhYVXYSUoPv`\n",
       "- content: `[{'citations': None, 'text': '# Explanation of Your _quarto.yml File\\n\\nYour _quarto.yml is a configuration file for Quarto, which is a scientific and technical publishing system. Here\\'s a breakdown of what it does:\\n\\n## Project Configuration\\n- `project.type: website`: Defines this as a website project (as opposed to a book or other format)\\n- `project.resources: [\"*.txt\"]`: Includes all .txt files as resources in the build\\n- `project.preview.port: 3000`: Sets the preview server to run on port 3000\\n- `project.preview.browser: false`: Prevents automatically opening a browser when previewing\\n\\n## Format Settings\\n- `format.html`: Configures HTML output with several settings:\\n  - `theme: cosmo`: Uses the \"cosmo\" theme for styling\\n  - `css: styles.css`: Applies additional custom styles from styles.css\\n  - `toc: true`: Enables table of contents\\n  - `code-tools: true`: Enables code tools (like copy button)\\n  - `code-block-bg: true`: Adds background to code blocks\\n  - `code-block-border-left: \"#31BAE9\"`: Sets a blue left border for code blocks\\n  - `highlight-style: arrow`: Uses the \"arrow\" syntax highlighting style\\n  - `grid`: Configures the page layout with specific widths for sidebar (180px), body (1800px), margins (150px), and gutters (1.0rem)\\n  - `keep-md: true`: Preserves Markdown files after rendering\\n\\n- `format.commonmark: default`: Also enables CommonMark format with default settings\\n\\n## Website Configuration\\n- `website.twitter-card: true`: Enables Twitter card metadata\\n- `website.open-graph: true`: Enables Open Graph metadata for social media sharing\\n- `website.repo-actions: [issue]`: Adds an \"issue\" button for repository actions\\n- `website.navbar.background: primary`: Sets the navbar background to the primary theme color\\n- `website.navbar.search: true`: Enables search functionality in the navbar\\n- `website.sidebar.style: floating`: Uses a floating style for the sidebar\\n\\n## Metadata Files\\n- Includes two external metadata files:\\n  - `nbdev.yml`: Likely contains nbdev-specific configurations (nbdev is a library for developing Python packages)\\n  - `sidebar.yml`: Likely contains sidebar navigation structure\\n\\nThis configuration sets up a website with good code display features, responsive layout, and integration with development tools. It appears to be designed for technical documentation, possibly for a Python package using nbdev.', 'type': 'text'}]`\n",
       "- model: `claude-3-7-sonnet-20250219`\n",
       "- role: `assistant`\n",
       "- stop_reason: `end_turn`\n",
       "- stop_sequence: `None`\n",
       "- type: `message`\n",
       "- usage: `{'cache_creation_input_tokens': 0, 'cache_read_input_tokens': 0, 'input_tokens': 1372, 'output_tokens': 593, 'server_tool_use': None}`\n",
       "\n",
       "</details>"
      ],
      "text/plain": [
       "Message(id='msg_016Hxyn9LbZ5EuhYVXYSUoPv', content=[TextBlock(citations=None, text='# Explanation of Your _quarto.yml File\\n\\nYour _quarto.yml is a configuration file for Quarto, which is a scientific and technical publishing system. Here\\'s a breakdown of what it does:\\n\\n## Project Configuration\\n- `project.type: website`: Defines this as a website project (as opposed to a book or other format)\\n- `project.resources: [\"*.txt\"]`: Includes all .txt files as resources in the build\\n- `project.preview.port: 3000`: Sets the preview server to run on port 3000\\n- `project.preview.browser: false`: Prevents automatically opening a browser when previewing\\n\\n## Format Settings\\n- `format.html`: Configures HTML output with several settings:\\n  - `theme: cosmo`: Uses the \"cosmo\" theme for styling\\n  - `css: styles.css`: Applies additional custom styles from styles.css\\n  - `toc: true`: Enables table of contents\\n  - `code-tools: true`: Enables code tools (like copy button)\\n  - `code-block-bg: true`: Adds background to code blocks\\n  - `code-block-border-left: \"#31BAE9\"`: Sets a blue left border for code blocks\\n  - `highlight-style: arrow`: Uses the \"arrow\" syntax highlighting style\\n  - `grid`: Configures the page layout with specific widths for sidebar (180px), body (1800px), margins (150px), and gutters (1.0rem)\\n  - `keep-md: true`: Preserves Markdown files after rendering\\n\\n- `format.commonmark: default`: Also enables CommonMark format with default settings\\n\\n## Website Configuration\\n- `website.twitter-card: true`: Enables Twitter card metadata\\n- `website.open-graph: true`: Enables Open Graph metadata for social media sharing\\n- `website.repo-actions: [issue]`: Adds an \"issue\" button for repository actions\\n- `website.navbar.background: primary`: Sets the navbar background to the primary theme color\\n- `website.navbar.search: true`: Enables search functionality in the navbar\\n- `website.sidebar.style: floating`: Uses a floating style for the sidebar\\n\\n## Metadata Files\\n- Includes two external metadata files:\\n  - `nbdev.yml`: Likely contains nbdev-specific configurations (nbdev is a library for developing Python packages)\\n  - `sidebar.yml`: Likely contains sidebar navigation structure\\n\\nThis configuration sets up a website with good code display features, responsive layout, and integration with development tools. It appears to be designed for technical documentation, possibly for a Python package using nbdev.', type='text')], model='claude-3-7-sonnet-20250219', role='assistant', stop_reason='end_turn', stop_sequence=None, type='message', usage=In: 1372; Out: 593; Cache create: 0; Cache read: 0; Total Tokens: 1965; Server tool use (web search requests): 0)"
      ]
     },
     "execution_count": null,
     "metadata": {},
     "output_type": "execute_result"
    }
   ],
   "source": [
    "chat()"
   ]
  },
  {
   "cell_type": "code",
   "execution_count": null,
   "id": "f85f93da",
   "metadata": {},
   "outputs": [],
   "source": [
    "#| exports\n",
    "@patch\n",
    "def _repr_markdown_(self:Chat):\n",
    "    if not hasattr(self.c, 'result'): return 'No results yet'\n",
    "    last_msg = contents(self.c.result)\n",
    "    \n",
    "    def fmt_msg(m):\n",
    "        t = contents(m)\n",
    "        if isinstance(t, dict): return t['content']\n",
    "        return t\n",
    "        \n",
    "    history = '\\n\\n'.join(f\"**{m['role']}**: {fmt_msg(m)}\" \n",
    "                         for m in self.h)\n",
    "    det = self.c._repr_markdown_().split('\\n\\n')[-1]\n",
    "    return f\"\"\"{last_msg}\n",
    "\n",
    "<details>\n",
    "<summary>History</summary>\n",
    "\n",
    "{history}\n",
    "</details>\n",
    "\n",
    "{det}\"\"\""
   ]
  },
  {
   "cell_type": "code",
   "execution_count": null,
   "id": "4b2c6f87",
   "metadata": {},
   "outputs": [
    {
     "data": {
      "text/markdown": [
       "# Explanation of Your _quarto.yml File\n",
       "\n",
       "Your _quarto.yml is a configuration file for Quarto, which is a scientific and technical publishing system. Here's a breakdown of what it does:\n",
       "\n",
       "## Project Configuration\n",
       "- `project.type: website`: Defines this as a website project (as opposed to a book or other format)\n",
       "- `project.resources: [\"*.txt\"]`: Includes all .txt files as resources in the build\n",
       "- `project.preview.port: 3000`: Sets the preview server to run on port 3000\n",
       "- `project.preview.browser: false`: Prevents automatically opening a browser when previewing\n",
       "\n",
       "## Format Settings\n",
       "- `format.html`: Configures HTML output with several settings:\n",
       "  - `theme: cosmo`: Uses the \"cosmo\" theme for styling\n",
       "  - `css: styles.css`: Applies additional custom styles from styles.css\n",
       "  - `toc: true`: Enables table of contents\n",
       "  - `code-tools: true`: Enables code tools (like copy button)\n",
       "  - `code-block-bg: true`: Adds background to code blocks\n",
       "  - `code-block-border-left: \"#31BAE9\"`: Sets a blue left border for code blocks\n",
       "  - `highlight-style: arrow`: Uses the \"arrow\" syntax highlighting style\n",
       "  - `grid`: Configures the page layout with specific widths for sidebar (180px), body (1800px), margins (150px), and gutters (1.0rem)\n",
       "  - `keep-md: true`: Preserves Markdown files after rendering\n",
       "\n",
       "- `format.commonmark: default`: Also enables CommonMark format with default settings\n",
       "\n",
       "## Website Configuration\n",
       "- `website.twitter-card: true`: Enables Twitter card metadata\n",
       "- `website.open-graph: true`: Enables Open Graph metadata for social media sharing\n",
       "- `website.repo-actions: [issue]`: Adds an \"issue\" button for repository actions\n",
       "- `website.navbar.background: primary`: Sets the navbar background to the primary theme color\n",
       "- `website.navbar.search: true`: Enables search functionality in the navbar\n",
       "- `website.sidebar.style: floating`: Uses a floating style for the sidebar\n",
       "\n",
       "## Metadata Files\n",
       "- Includes two external metadata files:\n",
       "  - `nbdev.yml`: Likely contains nbdev-specific configurations (nbdev is a library for developing Python packages)\n",
       "  - `sidebar.yml`: Likely contains sidebar navigation structure\n",
       "\n",
       "This configuration sets up a website with good code display features, responsive layout, and integration with development tools. It appears to be designed for technical documentation, possibly for a Python package using nbdev.\n",
       "\n",
       "<details>\n",
       "<summary>History</summary>\n",
       "\n",
       "**user**: P\n",
       "\n",
       "**assistant**: I'll examine your _quarto.yml file to explain what it does. Let me first view the file.\n",
       "\n",
       "**user**: project:\n",
       "  type: website\n",
       "  resources: \n",
       "    - \"*.txt\"\n",
       "  preview:\n",
       "    port: 3000\n",
       "    browser: false\n",
       "\n",
       "format:\n",
       "  html:\n",
       "    theme: cosmo\n",
       "    css: styles.css\n",
       "    toc: true\n",
       "    code-tools: true\n",
       "    code-block-bg: true\n",
       "    code-block-border-left: \"#31BAE9\"\n",
       "    highlight-style: arrow\n",
       "    grid:\n",
       "      sidebar-width: 180px\n",
       "      body-width: 1800px\n",
       "      margin-width: 150px\n",
       "      gutter-width: 1.0rem\n",
       "    keep-md: true\n",
       "  commonmark: default\n",
       "\n",
       "website:\n",
       "  twitter-card: true\n",
       "  open-graph: true\n",
       "  repo-actions: [issue]\n",
       "  navbar:\n",
       "    background: primary\n",
       "    search: true\n",
       "  sidebar:\n",
       "    style: floating\n",
       "\n",
       "metadata-files:\n",
       "  - nbdev.yml\n",
       "  - sidebar.yml\n",
       "\n",
       "**assistant**: # Explanation of Your _quarto.yml File\n",
       "\n",
       "Your _quarto.yml is a configuration file for Quarto, which is a scientific and technical publishing system. Here's a breakdown of what it does:\n",
       "\n",
       "## Project Configuration\n",
       "- `project.type: website`: Defines this as a website project (as opposed to a book or other format)\n",
       "- `project.resources: [\"*.txt\"]`: Includes all .txt files as resources in the build\n",
       "- `project.preview.port: 3000`: Sets the preview server to run on port 3000\n",
       "- `project.preview.browser: false`: Prevents automatically opening a browser when previewing\n",
       "\n",
       "## Format Settings\n",
       "- `format.html`: Configures HTML output with several settings:\n",
       "  - `theme: cosmo`: Uses the \"cosmo\" theme for styling\n",
       "  - `css: styles.css`: Applies additional custom styles from styles.css\n",
       "  - `toc: true`: Enables table of contents\n",
       "  - `code-tools: true`: Enables code tools (like copy button)\n",
       "  - `code-block-bg: true`: Adds background to code blocks\n",
       "  - `code-block-border-left: \"#31BAE9\"`: Sets a blue left border for code blocks\n",
       "  - `highlight-style: arrow`: Uses the \"arrow\" syntax highlighting style\n",
       "  - `grid`: Configures the page layout with specific widths for sidebar (180px), body (1800px), margins (150px), and gutters (1.0rem)\n",
       "  - `keep-md: true`: Preserves Markdown files after rendering\n",
       "\n",
       "- `format.commonmark: default`: Also enables CommonMark format with default settings\n",
       "\n",
       "## Website Configuration\n",
       "- `website.twitter-card: true`: Enables Twitter card metadata\n",
       "- `website.open-graph: true`: Enables Open Graph metadata for social media sharing\n",
       "- `website.repo-actions: [issue]`: Adds an \"issue\" button for repository actions\n",
       "- `website.navbar.background: primary`: Sets the navbar background to the primary theme color\n",
       "- `website.navbar.search: true`: Enables search functionality in the navbar\n",
       "- `website.sidebar.style: floating`: Uses a floating style for the sidebar\n",
       "\n",
       "## Metadata Files\n",
       "- Includes two external metadata files:\n",
       "  - `nbdev.yml`: Likely contains nbdev-specific configurations (nbdev is a library for developing Python packages)\n",
       "  - `sidebar.yml`: Likely contains sidebar navigation structure\n",
       "\n",
       "This configuration sets up a website with good code display features, responsive layout, and integration with development tools. It appears to be designed for technical documentation, possibly for a Python package using nbdev.\n",
       "</details>\n",
       "\n",
       "| Metric | Count | Cost (USD) |\n",
       "|--------|------:|-----:|\n",
       "| Input tokens | 2,408 | 0.007224 |\n",
       "| Output tokens | 693 | 0.010395 |\n",
       "| Cache tokens | 0 | 0.000000 |\n",
       "| Server tool use | 0 | 0.000000 |\n",
       "| **Total** | **3,101** | **$0.017619** |"
      ],
      "text/plain": [
       "<__main__.Chat>"
      ]
     },
     "execution_count": null,
     "metadata": {},
     "output_type": "execute_result"
    }
   ],
   "source": [
    "chat"
   ]
  },
  {
   "cell_type": "markdown",
   "id": "df1dd4c3",
   "metadata": {},
   "source": [
    "## Images"
   ]
  },
  {
   "cell_type": "markdown",
   "id": "cf741dbc",
   "metadata": {},
   "source": [
    "Claude can handle image data as well. As everyone knows, when testing image APIs you have to use a cute puppy."
   ]
  },
  {
   "cell_type": "code",
   "execution_count": null,
   "id": "5d35d564",
   "metadata": {},
   "outputs": [
    {
     "data": {
      "image/jpeg": "[encoded data removed]",
      "text/plain": [
       "<IPython.core.display.Image object>"
      ]
     },
     "execution_count": null,
     "metadata": {
      "image/jpeg": {
       "width": 200
      }
     },
     "output_type": "execute_result"
    }
   ],
   "source": [
    "# Image is Cute_dog.jpg from Wikimedia\n",
    "fn = Path('samples/puppy.jpg')\n",
    "display.Image(filename=fn, width=200)"
   ]
  },
  {
   "cell_type": "code",
   "execution_count": null,
   "id": "d120d8fb",
   "metadata": {},
   "outputs": [],
   "source": [
    "img = fn.read_bytes()"
   ]
  },
  {
   "cell_type": "markdown",
   "id": "3e2937df",
   "metadata": {},
   "source": [
    "Claude expects an image message to have the following structure\n",
    "\n",
    "```js\n",
    "{\n",
    "    'role': 'user', \n",
    "    'content': [\n",
    "        {'type':'text', 'text':'What is in the image?'},\n",
    "        {\n",
    "            'type':'image', \n",
    "            'source': {\n",
    "                'type':'base64', 'media_type':'media_type', 'data': 'data'\n",
    "            }\n",
    "        }\n",
    "    ]\n",
    "}\n",
    "```\n",
    "`msglm` automatically detects if a message is an image, encodes it, and generates the data structure above.\n",
    "All we need to do is a create a list containing our image and a query and then pass it to `mk_msg`.\n",
    "\n",
    "Let's try it out..."
   ]
  },
  {
   "cell_type": "code",
   "execution_count": null,
   "id": "db8339ac",
   "metadata": {},
   "outputs": [],
   "source": [
    "q = \"In brief, what color flowers are in this image?\"\n",
    "msg = mk_msg([img, q])"
   ]
  },
  {
   "cell_type": "code",
   "execution_count": null,
   "id": "69acc8c7",
   "metadata": {},
   "outputs": [
    {
     "data": {
      "text/markdown": [
       "The flowers in the image are purple/lavender in color. They appear to be small daisy-like flowers or asters blooming next to where the adorable Cavalier King Charles Spaniel puppy is resting on the grass. The purple flowers create a nice contrast with the puppy's white and reddish-brown fur.\n",
       "\n",
       "<details>\n",
       "\n",
       "- id: `msg_01SD3FDQbuJ4x98uNv62K2Xp`\n",
       "- content: `[{'citations': None, 'text': \"The flowers in the image are purple/lavender in color. They appear to be small daisy-like flowers or asters blooming next to where the adorable Cavalier King Charles Spaniel puppy is resting on the grass. The purple flowers create a nice contrast with the puppy's white and reddish-brown fur.\", 'type': 'text'}]`\n",
       "- model: `claude-3-7-sonnet-20250219`\n",
       "- role: `assistant`\n",
       "- stop_reason: `end_turn`\n",
       "- stop_sequence: `None`\n",
       "- type: `message`\n",
       "- usage: `{'cache_creation_input_tokens': 0, 'cache_read_input_tokens': 0, 'input_tokens': 110, 'output_tokens': 75, 'server_tool_use': None}`\n",
       "\n",
       "</details>"
      ],
      "text/plain": [
       "Message(id='msg_01SD3FDQbuJ4x98uNv62K2Xp', content=[TextBlock(citations=None, text=\"The flowers in the image are purple/lavender in color. They appear to be small daisy-like flowers or asters blooming next to where the adorable Cavalier King Charles Spaniel puppy is resting on the grass. The purple flowers create a nice contrast with the puppy's white and reddish-brown fur.\", type='text')], model='claude-3-7-sonnet-20250219', role='assistant', stop_reason='end_turn', stop_sequence=None, type='message', usage=In: 110; Out: 75; Cache create: 0; Cache read: 0; Total Tokens: 185; Server tool use (web search requests): 0)"
      ]
     },
     "execution_count": null,
     "metadata": {},
     "output_type": "execute_result"
    }
   ],
   "source": [
    "c([msg])"
   ]
  },
  {
   "cell_type": "markdown",
   "id": "09be3d09",
   "metadata": {},
   "source": [
    "You don't need to call `mk_msg` on each individual message before passing them to the `Chat` class. Instead you can pass your messages in a list and the `Chat` class will automatically call `mk_msgs` in the background. \n",
    "\n",
    "```python\n",
    "c([\"How are you?\", r])\n",
    "```\n",
    "\n",
    "For messages that contain multiple content types (like an image with a question), you'll need to enclose the message contents in a list as shown below:\n",
    "\n",
    "```python\n",
    "c([\"How are you?\", r, [img, q]])\n",
    "```"
   ]
  },
  {
   "cell_type": "code",
   "execution_count": null,
   "id": "73ce3789",
   "metadata": {},
   "outputs": [
    {
     "data": {
      "text/markdown": [
       "The flowers in the image are purple/lavender in color. They appear to be small daisy-like flowers blooming next to where the adorable Cavalier King Charles Spaniel puppy is resting on the grass. The purple flowers create a nice contrast with the puppy's white and reddish-brown fur.\n",
       "\n",
       "<details>\n",
       "\n",
       "- id: `msg_01VFVzc4JCVU1ZYxCiY5PBqb`\n",
       "- content: `[{'citations': None, 'text': \"The flowers in the image are purple/lavender in color. They appear to be small daisy-like flowers blooming next to where the adorable Cavalier King Charles Spaniel puppy is resting on the grass. The purple flowers create a nice contrast with the puppy's white and reddish-brown fur.\", 'type': 'text'}]`\n",
       "- model: `claude-3-7-sonnet-20250219`\n",
       "- role: `assistant`\n",
       "- stop_reason: `end_turn`\n",
       "- stop_sequence: `None`\n",
       "- type: `message`\n",
       "- usage: `{'cache_creation_input_tokens': 0, 'cache_read_input_tokens': 0, 'input_tokens': 110, 'output_tokens': 72, 'server_tool_use': None}`\n",
       "\n",
       "</details>"
      ],
      "text/plain": [
       "Message(id='msg_01VFVzc4JCVU1ZYxCiY5PBqb', content=[TextBlock(citations=None, text=\"The flowers in the image are purple/lavender in color. They appear to be small daisy-like flowers blooming next to where the adorable Cavalier King Charles Spaniel puppy is resting on the grass. The purple flowers create a nice contrast with the puppy's white and reddish-brown fur.\", type='text')], model='claude-3-7-sonnet-20250219', role='assistant', stop_reason='end_turn', stop_sequence=None, type='message', usage=In: 110; Out: 72; Cache create: 0; Cache read: 0; Total Tokens: 182; Server tool use (web search requests): 0)"
      ]
     },
     "execution_count": null,
     "metadata": {},
     "output_type": "execute_result"
    }
   ],
   "source": [
    "c = Chat(model)\n",
    "c([img, q])"
   ]
  },
  {
   "cell_type": "code",
   "execution_count": null,
   "id": "496178d9",
   "metadata": {},
   "outputs": [],
   "source": [
    "def contents(r):\n",
    "    \"Helper to get the contents from Claude response `r`.\"\n",
    "    blk = find_block(r)\n",
    "    if not blk and r.content: blk = r.content[0]\n",
    "    if hasattr(blk,'text'): return blk.text.strip()\n",
    "    elif hasattr(blk,'content'): return blk.content.strip()\n",
    "    elif hasattr(blk,'source'): return f'*Media Type - {blk.type}*'\n",
    "    return str(blk)"
   ]
  },
  {
   "cell_type": "code",
   "execution_count": null,
   "id": "8b9d8064",
   "metadata": {},
   "outputs": [
    {
     "data": {
      "text/plain": [
       "'*Media Type - image*'"
      ]
     },
     "execution_count": null,
     "metadata": {},
     "output_type": "execute_result"
    }
   ],
   "source": [
    "contents(c.h[0])"
   ]
  },
  {
   "cell_type": "code",
   "execution_count": null,
   "id": "3eb5f016",
   "metadata": {},
   "outputs": [
    {
     "data": {
      "text/markdown": [
       "The flowers in the image are purple/lavender in color. They appear to be small daisy-like flowers blooming next to where the adorable Cavalier King Charles Spaniel puppy is resting on the grass. The purple flowers create a nice contrast with the puppy's white and reddish-brown fur.\n",
       "\n",
       "<details>\n",
       "<summary>History</summary>\n",
       "\n",
       "**user**: *Media Type - image*\n",
       "\n",
       "**assistant**: The flowers in the image are purple/lavender in color. They appear to be small daisy-like flowers blooming next to where the adorable Cavalier King Charles Spaniel puppy is resting on the grass. The purple flowers create a nice contrast with the puppy's white and reddish-brown fur.\n",
       "</details>\n",
       "\n",
       "| Metric | Count | Cost (USD) |\n",
       "|--------|------:|-----:|\n",
       "| Input tokens | 110 | 0.000330 |\n",
       "| Output tokens | 72 | 0.001080 |\n",
       "| Cache tokens | 0 | 0.000000 |\n",
       "| Server tool use | 0 | 0.000000 |\n",
       "| **Total** | **182** | **$0.001410** |"
      ],
      "text/plain": [
       "<__main__.Chat>"
      ]
     },
     "execution_count": null,
     "metadata": {},
     "output_type": "execute_result"
    }
   ],
   "source": [
    "c"
   ]
  },
  {
   "cell_type": "markdown",
   "id": "00482861",
   "metadata": {},
   "source": [
    ":::{.callout-note}\n",
    "\n",
    "Unfortunately, not all Claude models support images 😞. This [table](https://docs.anthropic.com/en/docs/about-claude/models#model-comparison-table) summarizes the capabilities of each Claude model and the different modalities they support.\n",
    "\n",
    ":::"
   ]
  },
  {
   "cell_type": "markdown",
   "id": "abd9dbe9",
   "metadata": {},
   "source": [
    "## Caching"
   ]
  },
  {
   "cell_type": "markdown",
   "id": "026fb70e",
   "metadata": {},
   "source": [
    "Claude supports context caching by adding a `cache_control` header to the message content.\n",
    "\n",
    "```js\n",
    "{\n",
    "    \"role\": \"user\",\n",
    "    \"content\": [\n",
    "        {\n",
    "            \"type\": \"text\", \n",
    "            \"text\": \"Please cache my message\", \n",
    "            \"cache_control\": {\"type\": \"ephemeral\"}\n",
    "        }\n",
    "    ]\n",
    "}\n",
    "```\n",
    "\n",
    "To cache a message, we simply set `cache=True` when calling `mk_msg`."
   ]
  },
  {
   "cell_type": "code",
   "execution_count": null,
   "id": "19a9d3e1",
   "metadata": {},
   "outputs": [
    {
     "data": {
      "text/markdown": [
       "```json\n",
       "{ 'content': [ {'text': 'hi', 'type': 'text'},\n",
       "               { 'cache_control': {'type': 'ephemeral'},\n",
       "                 'text': 'there',\n",
       "                 'type': 'text'}],\n",
       "  'role': 'user'}\n",
       "```"
      ],
      "text/plain": [
       "{'role': 'user',\n",
       " 'content': [{'type': 'text', 'text': 'hi'},\n",
       "  {'type': 'text', 'text': 'there', 'cache_control': {'type': 'ephemeral'}}]}"
      ]
     },
     "execution_count": null,
     "metadata": {},
     "output_type": "execute_result"
    }
   ],
   "source": [
    "mk_msg(['hi', 'there'], cache=True)"
   ]
  },
  {
   "cell_type": "markdown",
   "id": "e412abd5",
   "metadata": {},
   "source": [
    "Claude also now supports smart cache look-ups, so it's very simple to keep an entire conversation in cache by constantly telling it to update the cache with the latest message. To do this, we just need to set `cache=True` when creating a `Chat`."
   ]
  },
  {
   "cell_type": "code",
   "execution_count": null,
   "id": "5eb7bed0",
   "metadata": {},
   "outputs": [],
   "source": [
    "chat = Chat(model, sp=sp, cache=True)"
   ]
  },
  {
   "cell_type": "markdown",
   "id": "745a3182",
   "metadata": {},
   "source": [
    "Caching has a minimum token limit of 1024 tokens for Sonnet and Opus, and 2048 for Haiku. If your conversation is below this limit, it will not be cached."
   ]
  },
  {
   "cell_type": "code",
   "execution_count": null,
   "id": "ed6e5fe2",
   "metadata": {},
   "outputs": [
    {
     "data": {
      "text/markdown": [
       "Hello Jeremy! It's nice to meet you. How are you doing today? Is there something I can help you with or would you like to chat?\n",
       "\n",
       "<details>\n",
       "\n",
       "- id: `msg_01NRp9ys88wxbuTysaZnausb`\n",
       "- content: `[{'citations': None, 'text': \"Hello Jeremy! It's nice to meet you. How are you doing today? Is there something I can help you with or would you like to chat?\", 'type': 'text'}]`\n",
       "- model: `claude-3-7-sonnet-20250219`\n",
       "- role: `assistant`\n",
       "- stop_reason: `end_turn`\n",
       "- stop_sequence: `None`\n",
       "- type: `message`\n",
       "- usage: `{'cache_creation_input_tokens': 0, 'cache_read_input_tokens': 0, 'input_tokens': 20, 'output_tokens': 34, 'server_tool_use': None}`\n",
       "\n",
       "</details>"
      ],
      "text/plain": [
       "Message(id='msg_01NRp9ys88wxbuTysaZnausb', content=[TextBlock(citations=None, text=\"Hello Jeremy! It's nice to meet you. How are you doing today? Is there something I can help you with or would you like to chat?\", type='text')], model='claude-3-7-sonnet-20250219', role='assistant', stop_reason='end_turn', stop_sequence=None, type='message', usage=In: 20; Out: 34; Cache create: 0; Cache read: 0; Total Tokens: 54; Server tool use (web search requests): 0)"
      ]
     },
     "execution_count": null,
     "metadata": {},
     "output_type": "execute_result"
    }
   ],
   "source": [
    "chat(\"Hi, I'm Jeremy.\")"
   ]
  },
  {
   "cell_type": "markdown",
   "id": "4762e29d",
   "metadata": {},
   "source": [
    "Note the usage: no cache is created, nor used. Now, let's send a long enough message to trigger caching."
   ]
  },
  {
   "cell_type": "code",
   "execution_count": null,
   "id": "e870355c",
   "metadata": {},
   "outputs": [
    {
     "data": {
      "text/markdown": [
       "I notice you've sent a large amount of \"Lorem ipsum\" text, which is commonly used as placeholder or filler text in design and publishing. \n",
       "\n",
       "Is there something specific you'd like to discuss or a question you have? I'm here to help with meaningful conversation or information if you need it. If you're testing something or just curious about how I respond, feel free to let me know what you're looking for.\n",
       "\n",
       "<details>\n",
       "\n",
       "- id: `msg_01H6ovSz8T1V2rj4iynbeKvH`\n",
       "- content: `[{'citations': None, 'text': 'I notice you\\'ve sent a large amount of \"Lorem ipsum\" text, which is commonly used as placeholder or filler text in design and publishing. \\n\\nIs there something specific you\\'d like to discuss or a question you have? I\\'m here to help with meaningful conversation or information if you need it. If you\\'re testing something or just curious about how I respond, feel free to let me know what you\\'re looking for.', 'type': 'text'}]`\n",
       "- model: `claude-3-7-sonnet-20250219`\n",
       "- role: `assistant`\n",
       "- stop_reason: `end_turn`\n",
       "- stop_sequence: `None`\n",
       "- type: `message`\n",
       "- usage: `{'cache_creation_input_tokens': 1101, 'cache_read_input_tokens': 0, 'input_tokens': 4, 'output_tokens': 90, 'server_tool_use': None}`\n",
       "\n",
       "</details>"
      ],
      "text/plain": [
       "Message(id='msg_01H6ovSz8T1V2rj4iynbeKvH', content=[TextBlock(citations=None, text='I notice you\\'ve sent a large amount of \"Lorem ipsum\" text, which is commonly used as placeholder or filler text in design and publishing. \\n\\nIs there something specific you\\'d like to discuss or a question you have? I\\'m here to help with meaningful conversation or information if you need it. If you\\'re testing something or just curious about how I respond, feel free to let me know what you\\'re looking for.', type='text')], model='claude-3-7-sonnet-20250219', role='assistant', stop_reason='end_turn', stop_sequence=None, type='message', usage=In: 4; Out: 90; Cache create: 1101; Cache read: 0; Total Tokens: 1195; Server tool use (web search requests): 0)"
      ]
     },
     "execution_count": null,
     "metadata": {},
     "output_type": "execute_result"
    }
   ],
   "source": [
    "chat(\"\"\"Lorem ipsum dolor sit amet\"\"\" * 150)"
   ]
  },
  {
   "cell_type": "markdown",
   "id": "0b7a7036",
   "metadata": {},
   "source": [
    "The context is now long enough for cache to be used. All the conversation history has now been written to the temporary cache. Any subsequent message will read from it rather than re-processing the entire conversation history."
   ]
  },
  {
   "cell_type": "code",
   "execution_count": null,
   "id": "1dc2286e",
   "metadata": {},
   "outputs": [
    {
     "data": {
      "text/markdown": [
       "No problem at all! Those lorem ipsum generators can certainly get enthusiastic sometimes. It happens to the best of us! Is there something I can actually help you with today?\n",
       "\n",
       "<details>\n",
       "\n",
       "- id: `msg_01KsvSSaJjpuRst2BejF2LbT`\n",
       "- content: `[{'citations': None, 'text': 'No problem at all! Those lorem ipsum generators can certainly get enthusiastic sometimes. It happens to the best of us! Is there something I can actually help you with today?', 'type': 'text'}]`\n",
       "- model: `claude-3-7-sonnet-20250219`\n",
       "- role: `assistant`\n",
       "- stop_reason: `end_turn`\n",
       "- stop_sequence: `None`\n",
       "- type: `message`\n",
       "- usage: `{'cache_creation_input_tokens': 108, 'cache_read_input_tokens': 1101, 'input_tokens': 4, 'output_tokens': 38, 'server_tool_use': None}`\n",
       "\n",
       "</details>"
      ],
      "text/plain": [
       "Message(id='msg_01KsvSSaJjpuRst2BejF2LbT', content=[TextBlock(citations=None, text='No problem at all! Those lorem ipsum generators can certainly get enthusiastic sometimes. It happens to the best of us! Is there something I can actually help you with today?', type='text')], model='claude-3-7-sonnet-20250219', role='assistant', stop_reason='end_turn', stop_sequence=None, type='message', usage=In: 4; Out: 38; Cache create: 108; Cache read: 1101; Total Tokens: 1251; Server tool use (web search requests): 0)"
      ]
     },
     "execution_count": null,
     "metadata": {},
     "output_type": "execute_result"
    }
   ],
   "source": [
    "chat(\"Oh thank you! Sorry, my lorem ipsum generator got out of control!\")"
   ]
  },
  {
   "cell_type": "markdown",
   "id": "3d162fca",
   "metadata": {},
   "source": [
    "## Extended Thinking"
   ]
  },
  {
   "cell_type": "markdown",
   "id": "11327638",
   "metadata": {},
   "source": [
    "Claude 3.7 Sonnet has enhanced reasoning capabilities for complex tasks. See [docs](https://docs.anthropic.com/en/docs/build-with-claude/extended-thinking) for more info.\n",
    "\n",
    "We can enable extended thinking by passing a `thinking` param with the following structure.\n",
    "\n",
    "```js\n",
    "thinking={\n",
    "    \"type\": \"enabled\",\n",
    "    \"budget_tokens\": 16000\n",
    "}\n",
    "```\n",
    "\n",
    "When extended thinking is enabled a thinking block is included in the response as shown below.\n",
    "\n",
    "```js\n",
    "{\n",
    "  \"content\": [\n",
    "    {\n",
    "      \"type\": \"thinking\",\n",
    "      \"thinking\": \"To approach this, let's think about...\",\n",
    "      \"signature\": \"Imtakcjsu38219c0.eyJoYXNoIjoiYWJjM0NTY3fQ....\"\n",
    "    },\n",
    "    {\n",
    "      \"type\": \"text\",\n",
    "      \"text\": \"Yes, there are infinitely many prime numbers such that...\"\n",
    "    }\n",
    "  ]\n",
    "}\n",
    "```"
   ]
  },
  {
   "cell_type": "markdown",
   "id": "503cae9b",
   "metadata": {},
   "source": [
    "Let's add a `maxthinktok` param to the `Client` and `Chat` call methods. When this value is not 0, we'll pass a thinking param to Claude `{\"type\":\"enabled\", \"budget_tokens\":maxthinktok}`.\n",
    "\n",
    "*Note: When thinking is [enabled](https://docs.anthropic.com/en/docs/build-with-claude/extended-thinking#important-considerations-when-using-extended-thinking) `prefill` must be empty and the `temp` must be 1.*"
   ]
  },
  {
   "cell_type": "code",
   "execution_count": null,
   "id": "c399a36e",
   "metadata": {},
   "outputs": [],
   "source": [
    "#| export\n",
    "def think_md(txt, thk):\n",
    "    return f\"\"\"\n",
    "{txt}\n",
    "\n",
    "<details>\n",
    "<summary>Thinking</summary>\n",
    "{thk}\n",
    "</details>\n",
    "\"\"\""
   ]
  },
  {
   "cell_type": "code",
   "execution_count": null,
   "id": "bd68ca17",
   "metadata": {},
   "outputs": [],
   "source": [
    "def contents(r):\n",
    "    \"Helper to get the contents from Claude response `r`.\"\n",
    "    blk = find_block(r)\n",
    "    tk_blk = find_block(r, blk_type=ThinkingBlock)\n",
    "    if tk_blk: return think_md(blk.text.strip(), tk_blk.thinking.strip())\n",
    "    if not blk and r.content: blk = r.content[0]\n",
    "    if hasattr(blk,'text'): return blk.text.strip()\n",
    "    elif hasattr(blk,'content'): return blk.content.strip()\n",
    "    elif hasattr(blk,'source'): return f'*Media Type - {blk.type}*'\n",
    "    return str(blk)"
   ]
  },
  {
   "cell_type": "markdown",
   "id": "4e66607b",
   "metadata": {},
   "source": [
    "Let's call the model without extended thinking enabled. "
   ]
  },
  {
   "cell_type": "code",
   "execution_count": null,
   "id": "26b5f9c7",
   "metadata": {},
   "outputs": [],
   "source": [
    "tk_model = first(has_extended_thinking_models)"
   ]
  },
  {
   "cell_type": "code",
   "execution_count": null,
   "id": "adc3e86f",
   "metadata": {},
   "outputs": [],
   "source": [
    "chat = Chat(tk_model)"
   ]
  },
  {
   "cell_type": "code",
   "execution_count": null,
   "id": "b7911771",
   "metadata": {},
   "outputs": [
    {
     "data": {
      "text/markdown": [
       "Python is a versatile programming language known for its readable syntax and wide application in fields ranging from web development to data science and artificial intelligence.\n",
       "\n",
       "<details>\n",
       "\n",
       "- id: `msg_01S9DaYTNoo31yNh6fHZcQZc`\n",
       "- content: `[{'citations': None, 'text': 'Python is a versatile programming language known for its readable syntax and wide application in fields ranging from web development to data science and artificial intelligence.', 'type': 'text'}]`\n",
       "- model: `claude-3-7-sonnet-20250219`\n",
       "- role: `assistant`\n",
       "- stop_reason: `end_turn`\n",
       "- stop_sequence: `None`\n",
       "- type: `message`\n",
       "- usage: `{'cache_creation_input_tokens': 0, 'cache_read_input_tokens': 0, 'input_tokens': 13, 'output_tokens': 31, 'server_tool_use': None}`\n",
       "\n",
       "</details>"
      ],
      "text/plain": [
       "Message(id='msg_01S9DaYTNoo31yNh6fHZcQZc', content=[TextBlock(citations=None, text='Python is a versatile programming language known for its readable syntax and wide application in fields ranging from web development to data science and artificial intelligence.', type='text')], model='claude-3-7-sonnet-20250219', role='assistant', stop_reason='end_turn', stop_sequence=None, type='message', usage=In: 13; Out: 31; Cache create: 0; Cache read: 0; Total Tokens: 44; Server tool use (web search requests): 0)"
      ]
     },
     "execution_count": null,
     "metadata": {},
     "output_type": "execute_result"
    }
   ],
   "source": [
    "chat(\"Write a sentence about Python!\")"
   ]
  },
  {
   "cell_type": "markdown",
   "id": "e9aab9e0",
   "metadata": {},
   "source": [
    "Now, let's call the model with extended thinking enabled."
   ]
  },
  {
   "cell_type": "code",
   "execution_count": null,
   "id": "0aec5ad6",
   "metadata": {},
   "outputs": [
    {
     "data": {
      "text/markdown": [
       "\n",
       "Python is a beginner-friendly, high-level programming language with an extensive ecosystem of libraries that has become one of the most popular tools for both quick scripts and enterprise-level applications.\n",
       "\n",
       "<details>\n",
       "<summary>Thinking</summary>\n",
       "The person is asking me to write a sentence about Python again. I should provide a different sentence than before to offer variety. Let me think of another aspect of Python to highlight, such as its community, ease of learning, libraries, or another key feature that makes Python popular.\n",
       "</details>\n",
       "\n",
       "\n",
       "<details>\n",
       "\n",
       "- id: `msg_01JiyHw3dYuqgbdHqi3jNvTd`\n",
       "- content: `[{'signature': 'ErUBCkYIAxgCIkDGyn1SbTWjPjZr8XN8EIk5Y7YWiDvWZT2A4r+vxn8pzP6hNNkf2MmWpOqe5a42Ap8tlgvNDLg/98+wbkAbdLVWEgx/k1Ann3OFL7gBruwaDEyTKpSxI5/ZwVXm2CIwtZtisIvmybu3gAfvnhosRn3aChBZjl+RIBCAEs+i5BKE142qhTJM2d0XQk+JnBhWKh0/GloGOLUPWVsV/HpAFB61np8MTxhGhCCf04mhDRgC', 'thinking': 'The person is asking me to write a sentence about Python again. I should provide a different sentence than before to offer variety. Let me think of another aspect of Python to highlight, such as its community, ease of learning, libraries, or another key feature that makes Python popular.', 'type': 'thinking'}, {'citations': None, 'text': 'Python is a beginner-friendly, high-level programming language with an extensive ecosystem of libraries that has become one of the most popular tools for both quick scripts and enterprise-level applications.', 'type': 'text'}]`\n",
       "- model: `claude-3-7-sonnet-20250219`\n",
       "- role: `assistant`\n",
       "- stop_reason: `end_turn`\n",
       "- stop_sequence: `None`\n",
       "- type: `message`\n",
       "- usage: `{'cache_creation_input_tokens': 0, 'cache_read_input_tokens': 0, 'input_tokens': 81, 'output_tokens': 106, 'server_tool_use': None}`\n",
       "\n",
       "</details>"
      ],
      "text/plain": [
       "Message(id='msg_01JiyHw3dYuqgbdHqi3jNvTd', content=[ThinkingBlock(signature='ErUBCkYIAxgCIkDGyn1SbTWjPjZr8XN8EIk5Y7YWiDvWZT2A4r+vxn8pzP6hNNkf2MmWpOqe5a42Ap8tlgvNDLg/98+wbkAbdLVWEgx/k1Ann3OFL7gBruwaDEyTKpSxI5/ZwVXm2CIwtZtisIvmybu3gAfvnhosRn3aChBZjl+RIBCAEs+i5BKE142qhTJM2d0XQk+JnBhWKh0/GloGOLUPWVsV/HpAFB61np8MTxhGhCCf04mhDRgC', thinking='The person is asking me to write a sentence about Python again. I should provide a different sentence than before to offer variety. Let me think of another aspect of Python to highlight, such as its community, ease of learning, libraries, or another key feature that makes Python popular.', type='thinking'), TextBlock(citations=None, text='Python is a beginner-friendly, high-level programming language with an extensive ecosystem of libraries that has become one of the most popular tools for both quick scripts and enterprise-level applications.', type='text')], model='claude-3-7-sonnet-20250219', role='assistant', stop_reason='end_turn', stop_sequence=None, type='message', usage=In: 81; Out: 106; Cache create: 0; Cache read: 0; Total Tokens: 187; Server tool use (web search requests): 0)"
      ]
     },
     "execution_count": null,
     "metadata": {},
     "output_type": "execute_result"
    }
   ],
   "source": [
    "chat(\"Write a sentence about Python!\", maxthinktok=1024)"
   ]
  },
  {
   "cell_type": "markdown",
   "id": "67acb3f1",
   "metadata": {},
   "source": [
    "## Server Tools and Web Search"
   ]
  },
  {
   "cell_type": "markdown",
   "id": "ca3e7c2e",
   "metadata": {},
   "source": [
    "The `str_replace` special tool type is a client side tool, i.e., one where we provide the implementation. However, Anthropic also supports server side tools. The current one available is their search tool, which you can find the documentation for [here](https://docs.anthropic.com/en/docs/build-with-claude/tool-use/web-search-tool). When provided as a tool to claude, claude can decide to search the web in order to answer or solve the task at hand."
   ]
  },
  {
   "cell_type": "code",
   "execution_count": null,
   "id": "3a2abe4f",
   "metadata": {},
   "outputs": [],
   "source": [
    "#| export\n",
    "def search_conf(max_uses:int=None, allowed_domains:list=None, blocked_domains:list=None, user_location:dict=None):\n",
    "    'Little helper to create a search tool config'\n",
    "    conf = {'type': 'web_search_20250305', 'name': 'web_search'}\n",
    "    if max_uses: conf['max_uses'] = max_uses\n",
    "    if allowed_domains: conf['allowed_domains'] = allowed_domains\n",
    "    if blocked_domains: conf['blocked_domains'] = blocked_domains\n",
    "    if user_location: conf['user_location'] = user_location\n",
    "    return conf"
   ]
  },
  {
   "cell_type": "markdown",
   "id": "bf10a671",
   "metadata": {},
   "source": [
    "Similar to client side tools, you provide to the `tools` argument in the anthropic api a non-schema dictionary with the tool's name, type, and any additional metadata specific to that tool. Here's a function to make that process easier for the web search tool."
   ]
  },
  {
   "cell_type": "code",
   "execution_count": null,
   "id": "9d3aeee3",
   "metadata": {},
   "outputs": [
    {
     "data": {
      "text/plain": [
       "{'type': 'web_search_20250305', 'name': 'web_search'}"
      ]
     },
     "execution_count": null,
     "metadata": {},
     "output_type": "execute_result"
    }
   ],
   "source": [
    "search_conf()"
   ]
  },
  {
   "cell_type": "markdown",
   "id": "8214e569",
   "metadata": {},
   "source": [
    "The web search tool returns a list of `TextBlock`s comprised of response text from the model, `ServerToolUseBlock` and server tool results block such as `WebSearchToolResultBlock`. Some of these `TextBlock`s will contain citations with references to the results of the web search tool. Here is what all this looks like:\n",
    "\n",
    "```js\n",
    "{\n",
    "  \"content\": [\n",
    "    {\n",
    "      \"type\": \"text\",\n",
    "      \"text\": \"I'll check the current weather in...\",\n",
    "    },\n",
    "    {\n",
    "      \"type\": \"server_tool_use\",\n",
    "      \"name\": \"web_search\",\n",
    "      \"input\": {\"query\": \"San Diego weather forecast today May 12 2025\"},\n",
    "      \"id\":\"srvtoolu_014t7fS449voTHRCVzi5jQGC\"\n",
    "    },\n",
    "    {\n",
    "      \"type\": \"web_search_tool_result\",\n",
    "      \"tool_use_id\": \"srvtoolu_014t7fS449voTHRCVzi5jQGC\",\n",
    "      \"content\": [\n",
    "        \"type\": \"web_search_result\",\n",
    "        \"title\": \"Heat Advisory issued May 9...\",\n",
    "        \"url\": \"https://kesq.com/weather/...\",\n",
    "        \"page_age\": \"3 days ago\",\n",
    "        \"encrypted_content\": \"ErgECioIAxgCIiQ4ODk4YTFkY...\",\n",
    "        ...\n",
    "      ]\n",
    "    }\n",
    "    {\n",
    "      \"type\": \"text\",\n",
    "      \"citations\": [\n",
    "        {\n",
    "            \"cited_text\": 'The average temperature during this month...',\n",
    "            \"title\": \"Weather San Diego in May 2025:...\",\n",
    "            \"url\": \"https://en.climate-data.org/...\",\n",
    "            \"encrypted_index\": \"EpMBCioIAxgCIiQ4ODk4YTF...\"\n",
    "        }\n",
    "      ],\n",
    "      \"text\": \"The average temperature in San Diego during May is...\"\n",
    "    },\n",
    "    ...\n",
    "  ]\n",
    "}\n",
    "```\n",
    "\n",
    " Let's update our `contents` function to handle these cases. For handling citations, we will use the excellent reference syntax in markdown to make clickable citation links."
   ]
  },
  {
   "cell_type": "code",
   "execution_count": null,
   "id": "786e2e8f",
   "metadata": {},
   "outputs": [],
   "source": [
    "#| export\n",
    "def find_blocks(r, blk_type=TextBlock, type='text'):\n",
    "    \"Helper to find all blocks of type `blk_type` in response `r`.\"\n",
    "    if isinstance(r, dict): f = lambda b: b.get('type') == 'text'\n",
    "    else: f = lambda b: isinstance(b, TextBlock)\n",
    "    return [b for b in getattr(r, \"content\", []) if f(b)]"
   ]
  },
  {
   "cell_type": "code",
   "execution_count": null,
   "id": "babfac4e",
   "metadata": {},
   "outputs": [],
   "source": [
    "#| export\n",
    "def fmt_txt(txt_blks):\n",
    "    \"Helper to get the contents from a list of `TextBlock`s, with citations.\"\n",
    "    text_sections, citations = [], []\n",
    "    for blk in txt_blks:\n",
    "        if isinstance(blk, dict): blk = AttrDict(blk)\n",
    "        section = blk.text\n",
    "        if getattr(blk, 'citations', None):\n",
    "            markers = []\n",
    "            for cit in blk.citations:\n",
    "                citations.append(cit)\n",
    "                markers.append(f\"[^{len(citations)}]\") # maintain global citation order\n",
    "            section = f\"{section} \" + \" \".join(markers)\n",
    "        text_sections.append(section)\n",
    "    body = \"\".join(text_sections)\n",
    "    if citations:\n",
    "        refs = \"\\n\\n\".join(f\"[^{i+1}]: {c.url}\\n\\t\\\"{c.cited_text}\\\"\" for i, c in enumerate(citations))\n",
    "        body = f\"{body}\\n\\n{refs}\" if body else refs\n",
    "    return body"
   ]
  },
  {
   "cell_type": "code",
   "execution_count": null,
   "id": "26ae307a",
   "metadata": {},
   "outputs": [],
   "source": [
    "#| export\n",
    "def contents(r):\n",
    "    \"Helper to get the contents from Claude response `r`.\"\n",
    "    blks = find_blocks(r, blk_type=TextBlock)\n",
    "    tk_blk = find_block(r, blk_type=ThinkingBlock)\n",
    "    content = None\n",
    "    if blks: content = fmt_txt(blks) # text or text with citations\n",
    "    if tk_blk: return think_md(content, tk_blk.thinking.strip()) # text with thinking\n",
    "    if not content:\n",
    "        blk = find_block(r)\n",
    "        if not blk and getattr(r, \"content\", None): blk = r.content[0]\n",
    "        if hasattr(blk, \"text\"): content = blk.text.strip()\n",
    "        elif hasattr(blk, \"content\"): content = blk.content.strip()\n",
    "        elif hasattr(blk, \"source\"): content = f\"*Media Type - {blk.type}*\"\n",
    "        else: content = str(blk)\n",
    "    return content"
   ]
  },
  {
   "cell_type": "code",
   "execution_count": null,
   "id": "37f9a207",
   "metadata": {},
   "outputs": [
    {
     "data": {
      "text/markdown": [
       "I'll check the current weather in San Diego for you.\n",
       "\n",
       "Based on the search results, here's the current weather in San Diego:\n",
       "\n",
       "May Gray has returned to San Diego after a record hot weekend, with temperatures dropping dramatically. [^1] \n",
       "\n",
       "Today's (May 13, 2025) expected high temperatures in San Diego are:\n",
       "- Coast: 60-66°F\n",
       "- Inland: 59-66°F\n",
       "- Mountains: 48-60°F\n",
       "- Deserts: 77-80°F [^2]\n",
       "\n",
       "The day is expected to have \"May Gray\" conditions with limited clearing into the afternoon. There might be heavy mist, drizzle, or a few light showers, with the best chance of light rain having been overnight into this morning. [^3]\n",
       "\n",
       "The mountains and desert areas are experiencing gusty winds with a Wind Advisory in effect until 5am Wednesday. West and southwesterly winds of 20 to 35mph with gusts of 40 to 65mph are expected, which may cause blowing dust and dirt leading to poor air quality at times. [^4]\n",
       "\n",
       "The air quality is generally acceptable for most individuals, though sensitive groups may experience minor to moderate symptoms from long-term exposure. [^5]\n",
       "\n",
       "Looking ahead, sunny skies and warming temperatures are expected early next week. [^6]\n",
       "\n",
       "[^1]: https://www.10news.com/weather/san-diegos-weather-forecast-for-may-12-2025-drastic-drop-in-temperatures\n",
       "\t\"May Gray is back in the forecast after record heat this weekend, temperatures are expected to plummet up to 40 degrees by Tuesday!A cooling trend ramp...\"\n",
       "\n",
       "[^2]: https://www.10news.com/weather/san-diegos-weather-forecast-for-may-12-2025-drastic-drop-in-temperatures\n",
       "\t\"Tuesday's Highs: Coast: 60-66° Inland: 59-66° Mountains: 48-60° Deserts: 77-80° · Follow ABC 10News Meteorologist Megan Parry on Facebook at Megan Par...\"\n",
       "\n",
       "[^3]: https://www.10news.com/weather/san-diegos-weather-forecast-for-may-12-2025-drastic-drop-in-temperatures\n",
       "\t\"... Tuesday will bring a return of May Gray with limited clearing into the afternoon and anything from heavy mist, drizzle to a few light showers. The...\"\n",
       "\n",
       "[^4]: https://www.10news.com/weather/san-diegos-weather-forecast-for-may-12-2025-drastic-drop-in-temperatures\n",
       "\t\"Gusty winds will continue to target the mountains and deserts where a Wind Advisory is in effect until 5am Wednesday. Expect west and southwesterly wi...\"\n",
       "\n",
       "[^5]: https://www.accuweather.com/en/us/san-diego/92101/weather-forecast/347628\n",
       "\t\"The air quality is generally acceptable for most individuals. However, sensitive groups may experience minor to moderate symptoms from long-term expos...\"\n",
       "\n",
       "[^6]: https://www.10news.com/weather/san-diegos-weather-forecast-for-may-12-2025-drastic-drop-in-temperatures\n",
       "\t\"Sunny skies and warming temperatures will be the trend early next week. \"\n",
       "\n",
       "<details>\n",
       "\n",
       "- id: `msg_01AqayAjaFZrCf6jEbpBqrW3`\n",
       "- content: `[{'citations': None, 'text': \"I'll check the current weather in San Diego for you.\", 'type': 'text'}, {'id': 'srvtoolu_01CvUbkC6o551QbYJAGPGrTk', 'input': {'query': 'San Diego weather today May 13 2025'}, 'name': 'web_search', 'type': 'server_tool_use'}, {'content': [{'encrypted_content': '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', 'page_age': None, 'title': 'San Diego, CA Monthly Weather | AccuWeather', 'type': 'web_search_result', 'url': 'https://www.accuweather.com/en/us/san-diego/92101/may-weather/347628'}, {'encrypted_content': 'EqADCioIAxgCIiQ4ODk4YTFkYy0yMTNkLTRhNmYtOTljYi03ZTBlNTUzZDc0NWISDOPvdMpZdJsl3UF/ohoMqe4r+1GTUdGwcV7TIjAhZD8lV5VwtUadQWx1+P+MsANC4Nfucs8Dw9nz3PP5t6aNXOhoQg+Y27vn7/P6cegqowIxwOlXB+d2+wREz0LngHCo3rF9j8WYPo/R8joWu4lXMDX9M/h6xtKakNrYH1CsIfr1D1PEgAj4mNYnBl0CdKzkAMURVo1GxwSWQ6ZLQki6K0HS/0awNubv/wgvY4AeKBBUAz9rPQb3/CvxVyy4m5gH3fMfL3ii5Qm1B/NYd6mE5k1usD+bcHvDlqcdWIzbKbTknq0cHdsyWcCBD24i3aGVIrdn4ZS8GtGpcRzHivxmgSdJYjmWS8J8CEuyJ2UInx1tS2ce6j2yDDLD1rjReg/Z+WlcB29jsshT3PuoYQUU8xeMOYAiWCAqj1SUhlBkkRGAnvQKeAaTBev31WoL58KYYUIXXcZ8Xxh7LKY/07l3SK26NP7z8D9mR84zBwP5q+Qd668YAw==', 'page_age': None, 'title': 'San Diego weather in May 2025 | San Diego 14 day weather', 'type': 'web_search_result', 'url': 'https://www.weather25.com/north-america/usa/california/san-diego?page=month&month=May'}, {'encrypted_content': 'EvADCioIAxgCIiQ4ODk4YTFkYy0yMTNkLTRhNmYtOTljYi03ZTBlNTUzZDc0NWISDBMMvcRxZqFGdu3kdRoMdIHwa0YRIT4QEMrwIjDMJD1oSGnIjElWf+T032ZuDvcdJ7OeR3NShVaDvnPgBm5/vLbsGOzfBsE8s9WzQuwq8wJ4R8NViMl3RWoFr9fphxG85fPK0rV7z0cl8TpAs0g9X9nh9pHW/IanUZg9FVFJk/eEj0QbFrjm4wL4rHvRIsiTtRuuBfAf3WIVbzUBJ0SZaGG7fNT8fupb5aGFjcTkzc/NJGIGGr3y2c5X6NUg4uuhAT2bvIpueZ16N/b/7tRWnC9RObDHV4cIgST8zM7OFVzZVbWDLk3Z/lVN3pjpnm5kWtAN/fcsNBdPErwqYSsZKZ2IytUIqDzF0LJXUguLGnv89VO/bx9COUJlhPFuZDfwgEq+0ikLdebVnIEPU6TrEXwqhPbPaR39bWQR7MNc8lBieSh0V0l0WttRL4oQtS4580dT8YcKI4h8xtC3FiAgpKz2sv0pRLSPLDWcir+UgGHbQpG8FxxhNB9iY9smhgQS02duQxvZTBHm5dzJiN8gXVrxIbwLFLDXjqnMOh0Nla2U9F0pclcFFYaDtaqxhyPoRwwQi4LJ/E7m0hhv87tHK3Z3sxgD', 'page_age': None, 'title': 'Weather in San Diego in May 2025 (California) - detailed Weather Forecast for a month', 'type': 'web_search_result', 'url': 'https://world-weather.info/forecast/usa/san_diego/may-2025/'}, {'encrypted_content': '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', 'page_age': None, 'title': 'Weather San Diego in May 2025: Temperature & Climate', 'type': 'web_search_result', 'url': 'https://en.climate-data.org/north-america/united-states-of-america/california/san-diego-714969/t/may-5/'}, {'encrypted_content': 'EqsDCioIAxgCIiQ4ODk4YTFkYy0yMTNkLTRhNmYtOTljYi03ZTBlNTUzZDc0NWISDKswBpI5PBCHhagrMxoM5HARJFIsfVGdS7qFIjCseNNQvjP//+eNrAuyvZpQ94uiK+YcbGxrTdcbxbgHSYi2zIujO/f6ffvzvwpMTS8qrgKVV74jYVKqW2Y1H6YB7EH4mGoJsiZJEIvZ4vX+iH8EcYUtwizGhLM0lDYVFrdu7rZJV0J82mzw2UrPpj5Jd+jFLi2i9pIzM6ANECwZCe8qRLrYFju3SvSWElOIiyQ+xj4kftxqkpOQhw39e9Ykew5AMiikZo0u09Tg/RH3cvxFBOKbFErd1wptoSqjD5KNwQfWyCY2p+as1fr6dgEjo1AXEwCsznXiHnCtgVd1FABZx0+7+oAgBchx48ztWQoRm+hinXvHl4IXG/xvDhKxiy7lkbRk9TUkqYEDR+zg3RYH9ij9kfMH0oJkttziTdj2lMahO0XL0Gbl/C5B1/jLmEz3AtthEdVnKB5FI0FuXb5vaecJMVvHWcqPOQ/YHPTGrY4Fj+9ATFkapaJo592UnxgD', 'page_age': None, 'title': '60-Day Extended Weather Forecast for San Diego, CA | Almanac.com', 'type': 'web_search_result', 'url': 'https://www.almanac.com/weather/longrange/CA/San%20Diego'}, {'encrypted_content': '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', 'page_age': None, 'title': 'South San Diego, CA Monthly Weather | AccuWeather', 'type': 'web_search_result', 'url': 'https://www.accuweather.com/en/us/south-san-diego/92154/may-weather/2178586'}, {'encrypted_content': 'ErQLCioIAxgCIiQ4ODk4YTFkYy0yMTNkLTRhNmYtOTljYi03ZTBlNTUzZDc0NWISDPpn3zFUZF16tX212BoMm+p2maaFta2+nnP8IjDRlD5Oi3URvUdhv+DD2G1YJR+IlJ/KQcBCW1qKp5t11gAyWUUCIJ1i5fwbV2/YN2kqtwrrxiPIA+VdUuBy0HaDwCUQuG4kzkreellA+zPzQxLBtHsmVmI763g4alslprh7hZ9yUsK4zce9zJzRysPg8RpB6LKmyfX4v4xaedegIfkvhB0VKwNiSbPX9dXTof7WbyymcrgBU7wOGVyIuWXV57sl/eNs7GT/LUBh0xkKQqSyoUiPk8fC50iT7xOuWt+Bbgm+PlAmxAinpz4Owiq6mD9lMusN62q5Sf/cmJFhmRYxe55umY2Jlc2Jeu0WEGnaD7r3B4Q3vEyXWAF+hqB7MbQlS2DNs0Fi1K1kNWZvHKfBcYqvT1Ecekugb/ASwG297OZ+lr2dTByf19i9D3n8JuHNDtX8w/B/36SnM5RsJW33fJibhHqdng7BxnuoUiGdfIfPvtP98brBMTg+LRp3MocNubZkUU2JUoKeD3XH8ehczJW5TNJVcIzmp8BIbSlcOS4J0ytAiXowDJdvJDoRBIO8h6JSIPzBoZVRpNIKShywOM+WXn9Mz0RPEXsuyoQ0RiyS0z1mtsK9NndmDa9ocTceDSgw1C6zCWTFb3ErbQ178land1ff8I27VZC1A6UcMr0Juqv5RlIjTfMyHgPGyI2E4r2E/DYxIvq4AE33WVFJoW7XHA5QuH3aKJ10xIX8ffX1orrPmmP81F8xVfwroaMAxczHBX8BFMFPombRIWdF1u5ebIDnd3/B4okdCvEF7zSiTnni3I0ZU2F0QHvxOMzYoysGZc00y2ZqRxhETcLk4u5wlnQEEXF5hstw+XazVaK54Rhg+ffnH0BuoK3+C0uyLxkKlvCmfbcX7agRYKxV53f9QJefUzYJQOERUrSs2exFnYrt+V/6f9I779e8G05y/1dx9Aj+5oquDuApdzLf205y5eWafvNte9j94gPMPmoWgEzopuMNiKUUvDH+4HgG04ICsmkBPVKqbfjbq/HSgjx2dcWWLUeZobPHh4TxzY543DydCLIlkrehRxxw3RQfeMM6HMPySs4XlLYGkdMBB3IObJQjfxOhTlIKZ+myUxWaaEW6DsWuYZpfdqeOBZZeriMSTfH10FIlSpB/i7yAZM4bo3xLIehKxb97gG1FNCWihyQLR3bDnfgF6D9gOCl0znPNWsPuVkbuOTPibA2NW4kuefnEZeWiqe9xBFup4EWP2TlTyZIGAM22Mt+kxiKqXjhWHRvEQ6850ofKZeVr2Ia7g+atlpJHxv3EhNAXwTGjJKLRjj17nAiWA9Xpubf5tnFCSZaC8DK6GXagbPVhzOiwOJ8EvD0ZnQN3h68EncKeWVdXYE3CIKcPA8O+jE1n/1cZ9HU8fbxJL0+oMB6Sl/2lAS6NwAmrxLp6TeVHsiBx8CLrqN5Ch+GNPV/JdIlK4gGEhsfIXQine7wXZowVCf43phs+DHL6VyIQ4DnKd7/BUZNayMef9qZydxGtCPJ6cCMkFQnCeQQZibNM0nKqpVTM42JAPVPwkfByK24rHqZjOxmGCTO6TYksdhbG2BLYBkDwxRLOg1uzngWMmfABpl8c06XTb0lC8JygY/ItGFY2RP1b81lVHpgEV+Sr60babyn4bzjaSHBcSroEuje6VAEaBSO9UaHlRNlUtsKDXJgpotod14//fTghm5CBpWhS2q0/k5G2/3ARZ6SdV03U1kX6sGa7oT9qL9wDuAwfe3vcQ4Af8D9Pu/jiNxagGEzOk8W43hzj1HNuUYrKwklDo+YKp7t8h6l0dKSeQ/4urFbgp3v7Yc1J0RFj9frOykYHgcb+EN75MCPn68fUQKu0zzr3+aGtVwQYAw==', 'page_age': None, 'title': 'San Diego, CA Weather Forecast | AccuWeather', 'type': 'web_search_result', 'url': 'https://www.accuweather.com/en/us/san-diego/92101/weather-forecast/347628'}, {'encrypted_content': 'EuoTCioIAxgCIiQ4ODk4YTFkYy0yMTNkLTRhNmYtOTljYi03ZTBlNTUzZDc0NWISDLw5LkY0v5DrDsNLChoMCmQEYNKWykQdkaCjIjBo7Jigs1lnme/Jmr1zMXo7CKWWPhrY4/r/uFsCvpzA4GJSQPFymQAbu1sqK8KVt+sq7RJ7+vlyP8dHt5XDznTd4bygu2MrhxvesSKE74EX7tJvGUBN9ifJxTLkD5dFnwbUduUp3CYmskQ80MIPFz3mlOVK+wU/fq8smVXPr9aAbNF0lKA4JO+vZHB5nDFrlUIiBnqWlrnAzmry8iqgQ/T1I9bggOK3AXkHGDTMYTgqAJcFnD2XQJiQwaQ8EQ9+BDb6H61V9G3VWtOdgC2kkf9cmZMPG4eBBL+azuhxLVECZwd1wLhmWq6dBuoniTsNqc1VeIGJnkCGeLqAbTPJOOekkYvIe9QTdSCFyKKTWDVmDSaD8NJ0m8ExwC2mwd8V7Ay5HIE9e512MxzIuxDhVKFQBRP2Fzh+ZYe8RjRF8yzhtfA3zdYC1CwWdnkURFGZiiguvbVrmml5bDG8JPz/Ac1EElkwV5Y94tGSWr2H1BYvTW8/J7zz5agsjGsM4cgruGoOQ2vdKFfUh6Y/kTUddExm52GKxZWRxqV+TKdG8k0yrjknYgZH+ON+Quw3vNSob4Vnqcz2Kb2f7/cvBTvqIBrGGlBL6wY2GWopbzAX7ZPi+RIja7amIqaMcNA6dR1YpPlko6F6C7Qb0FMmzzewFG+83MMguaM9WZgPj2UR/JlGy/6I2sOgmuEJKXN61i4dK6QAqiOg4p0wcihdj6/P+PygCUeqIMJJA41wW2wfmdDVME8p8U8+unGfyhAH43J6mwMFM0zC3D3djBhzs35w1YSlvzp+Y+2j/xpI+Xs6o8HvGA09eGqtFxdrBI94HPozJDZhbUl6di4VoVmzrlD7Rkl6dOGBBQtVtxiWEp2wvOehZkDzOOvuF5eqhSdSuNpVUVTiF/aCrGX1ckgypaFYSvbx4TaeIGVgeBNrxpOEMoi96Bi8wHcROGZqpjYdOOLjpZzsIjojjiDHIE0EwNtsVS0uLYPUKMb3mzjzdjDgeEaQCSerWIs+1hSjHSCVOT9lnqfdmoQad8D352VxmuCWKflVYfQk7icCJ3KZnWVIBYCBUkRdb7YXAeBhtt6Z8BNKSPV7/GTnUGAW5qlrgoBix7stUd+LtrFaUa0Af23za22d3j+Z7BFo9+V6tuSJ53pS24NBLidODsj2BADMm1wTbC08K8r1/N1zqjcC8q4TrnPgRW1i91fHV1W3Dh4xIaWMRN13HH2gMaf+/JMjSkuI/YLGJDTyOcKfRJiKte3TiJa1qvR1eZMW+pPcRYW1w4reAML6wMpts6lonng/JOT89buvztAggjPHoK2CwyUSzhBWvRQ2fHFq9mC7ZHdX1GDZ9/YtihMen5/7CuktQIxmLdVmc0CiU8w+Oq6tDB3kHbXcVMmjzmxk7Lw1rZYuOWJwS8CMQnurS0NGUB2xpnK3gkJ29caOMgieLNfkRwgOJY1f0MdsCFtIPRrEt1d1tPqq3UpeCc6JqwYv5mu3LBeQ0n1TjCH+10OuC6jjpQdXOT7yxq9Fuzji02RzcUhhqV3bhvlc0mj+EuxnnJyL9+IsND3yliV2bVScLgMVAOmnL3T8Oe46+DTybQDipSF2cpIfdinTiSh8b/E+gA2rlqe0ZuYZwKvNtCdNVVuH1EZnmbL1xh4+ATuHxvhRBlxymJLiTSndIyejS7xfykGar5lZc/ubYTw4Mt8Rqo8Nz5ZObswzQjYsIYEWdpFkJq5r/edpQW2Xir5toyutIIkfFQiM0xR34jTrkzOth3NJ0aTUSPH8BaBhqnEamzk/reCNas6LWMykQ2UpxfmrqK4RrMYiujAqSCwYhKXirAg7xiwrgG6+zGcteFCyqSLtHpyrRyTOhlbtJJHxnkDmeoM25w+G4LAsrOLsTD3/yjkrAeLbR6s49yNE5uxxnp+rpEZa0yP6q6uh3SitwWW24ykPAr8++ldno2cQ7HMMxuhATK0MoPpyI11qgK3PM47KDOvDoU2CLtWU/lYhM4Zs2UiYry5x7LxbLNr8y5rL23dBMjup8viWCpBFG5OvvcepZFzlx68sRSZhk/BKe1MI4FcnMna/ZAZdnsjYaP4KuQO8V5NtVvl1G9fw74S1Ci6Y/LYgCJW1n19S0YnTmkAKdx4GbzGu0Su5j6YzQbiIACfy6dnx10Eg4QSlbcEQMB7su+ibdjAP6tjgXhJus039BJIInWWC80nDGvewaPdSOEuuObnCg5Ti4Ct4fLikpCBfohzJfQlM14GudRiLMvyLduiZI0yWX9+Vfdtgcl2w8DdSFyXOaEppaK3I+aWgTASTutCIMKvyllFBj2anU34bafyQ0IsJjrB+IuxLNC1Ha1HPqo8YCAs/+NXb5813nSVN6ZIw2NZoZ4DGtjKcMxdqLz46NYff//KjDMEp/ah7PbxhRhQWSujrgjInihIRUsdcJSJyb5+9EWByZpfDZ4NK4qrf0tZrJbs9FwCC0jOVWxaEutI7MhKlF4EY3tIU4Dm+X84cJ0rY4xQAqFnGGad+jYZ/AijQCt9hPwrxfRRolC3FU5jUroi4bKuuGMv2TrBZdVNhuatjXbqr0YQ+ua29BEi+kGlmlXQdvUd3cL9l5n/JNPf8YQ4JMsf7uTqXFXUlo1artFEv1qLdTkZl8rQ5zUBcvW9mWZqtBZ6cnqOGK5XFoDtmUJ6SCv9mmVp6OcAw7OGiBYJD0jvYe9iDh/YpvHhzQUwyuoqgaZR5z8skhIeOqdmfnXsKA9EmsBWpy+02ZbX+swveP3vISMcrPM5M4KCfHcUDoVBS2qG8eC6YWUWXCGlYyw/7OVMnfmgouplXV04oxlntQ6vYAClGpCu4oZ/qJmMLOqNh/oT3dP+jXzLHTi/JD8NqNeMwxsyAWueXwzcRzGDzNFUE0BnSaE91xHLXABY9YGBTkQHFsoCMWrlUwsXcN5K+mF9dErSv6tkA4pBAK1eeyqMmy89emur6CKG3xDXhiBR9TLIciO5z7bp7X1P3N0OQXFyvHbtE+XIxWwzDRvft8AdwGeSiVAvFx48j5ERkn/JDaEieQiZJbqBJU75aGtWot9TFiFrJT/LCRX3saRUYOLzi5sXPOokH+9RSN1YdJpoM5MMDgLP9/safc1dHbsXNABJvebLS6w1sBmGosAE7KckDMljcZGb3kG47vCsCtjL3Tj+F5fuzD3giMUm8AVECfBmZgFHSq9+EAEZSIFYdOnVn0IyQBdr4mEV0zaRkqX8bT1ZQgqKJeyoGUjZIdf3Gj6Qclvp0yKC1k47dFnu5juYYcsOQCpS1YBY8sBtz7s4KGAM=', 'page_age': '2 weeks ago', 'title': 'Weather in San Diego County in May 2025 - Detailed Forecast', 'type': 'web_search_result', 'url': 'https://www.easeweather.com/north-america/united-states/california/san-diego-county/may'}, {'encrypted_content': 'Es0LCioIAxgCIiQ4ODk4YTFkYy0yMTNkLTRhNmYtOTljYi03ZTBlNTUzZDc0NWISDClQFVKj60V8LyvR3xoMXl7+M3KEUBCSjLr0IjB5fRtXTtb3pziTsXq9zblo8FswZij23kawOvzNx/Ga2c3fiGMrCiBhJKlSHquWzRYq0ArdVIlSTk+zKNPKvb3gFtTQCmSc4ff3wR8PxNIcOAIY5tM3Wh9xSQJjSRk1ZGet2ujaNr5pZ8gcJ5QYnwhTHWuvdFOmOi4QRxW+4CVYkeKgYkeQUrwIVbnKwZn39aNdByLesdfwAnk6M2W0Cxx7vfcL3v8eN7GOtqFfVL7NzDIjI/BKsygbwUJ5MgoHxSENf3d6QBgL1HcSaTMTucZkGCJpWR2afV+1OUPGrG4NYt+I7abPjKO0dnWNMk5rFNtMWsrJompK9vm+dXZ239l2GDREejaLhUfVprWDMzsmE9mswnh8bmqQ3Ay7Z4N26PgUbKXtVWH/kS7t7nVoy4eSkaX4hbp/ReU8UsE9rCSYhBozAQcXl+Cd3Rnpm/5cr+tnIjOKFiooFY9rDAJf3oNLIPIQuWIGEt7vkg1wbB7NjzZ61Mg2PXNwNWp491ih4azLVskBU4mM3TZfMkTBZov9Jke5FB/AwCSw6zDWgqzFEg8UJwL6YeyPsqaHXXWLMdO6GjV67c+ce5S2G7iX59xeCrS3bUmNEtmIAlBxhI3naD5Fjk/rP3xTB8CiYvjuCMui8X9tQysNgfAJRTglPB3PGDhtNZI9xxuyT0l8ooQQAhtHBTQENIexn1PgxTPphkom4p6MUtpPza8CFXU+WB/zI+qMI2BOm+R0WFwPfteWD6Rk8w9dOfgExmxWvfrCz7RWp6VLYBdV0Z5MuWLMDFhIhRnRbBs4N/uIJCQNW+qn6D+J5KRMUPMMEf6ZyoI1AwZbFvbRwd3RaaxWbgOtlA5O0XgeL0ShaKY4zcStQ2eeS6j6X5/hNe9yfdubnTRHmB66noQuXSUSOeXyQ5kUeVGTjtfb+iaig7Hw7XNdancG3h3q05wdJyNcebPZ0ydoeEcrri03CCgNfHYnoVJW+G/ZKgT92sWw6ufYQqTZOXjM2YxqUQhphJFuMV3HssUvYXt7bMD+c+PNcQPBRk2q1oMvQuHSg28l7aPhuJj506Fbr35LZj69VdSH/G/9V2M1HXHZEAl45oKdXgv/gj/kFVlVj8yc8osGUWlxMyD6ZO5ivBy41J8NWu7/K69lZZc5OD+u6XXXrskWvN9U0NgJbkopK8ssfDoQOMrKjIEo5tZFFuc3IHL6s2klWh1Ceg2GMbXri2CISd7EyzvF7n7x6R2w538wBNAnryF0AwjMpfg+y0JaoiauSB9LY8Ivau/rbi64Wy1rPR5ZtKC2xTHI6qWMNxFxwTa7iESWQu04MBJpt+y0ThpWHX5E9QuhTUlsZwSicTqTYnY+FtFSV3iz1lqKXIw5iCJq6qUaLkRrKzQZASiMTYhwnB1RTgPzQvqzuyD4/3LbSkIyuu9cLXWUwZQucg4KJZeBkNEOxIO2MQPWBFVcOqwPIGvvEYgm709IToYZoXO17kd/hWwN4cmeK0Pb7+rL+yOTTJ2/e0OcRTD9hkvBr0GHnZqKOAmwI/7f0NzlY94MCgarjDfymGKAbOLMoy0wzi/7X9trrCcsujchQK1ODarY2ZX6bp+JkemZbIcfoOXTxcu1xoKzmwC9BqW7IXHH3SH2fOowr7GPT2+UJDVOCyi9HsBd8E7LYdDlB7LFcxU6SPr+7PSeMmYiCFjrnp4oTw8Sw5zDmwdA8w72+ENJpPCjH3dVke+sFZ5Sfu/4yur5gLORfOtHwubivzpDrWwpWOa+lh1O6HF8+uOtvMLWI3QzJD4CY1WBb/tTro8dYmeTpe/SxBDfb1OxEeFnSLDE+K8JPviQrllLeN2UzTaNdhX/mM9saCLCq7PX/nvyGPTpZKk/yUzEauOBrAPWSR1DGAM=', 'page_age': None, 'title': 'San Diego weather in May 2025 | California, USA', 'type': 'web_search_result', 'url': 'https://www.weather2travel.com/california/san-diego/may/'}, {'encrypted_content': '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', 'page_age': '19 hours ago', 'title': \"San Diego's Weather Forecast for May 12, 2025: Drastic drop in temperatures!\", 'type': 'web_search_result', 'url': 'https://www.10news.com/weather/san-diegos-weather-forecast-for-may-12-2025-drastic-drop-in-temperatures'}], 'tool_use_id': 'srvtoolu_01CvUbkC6o551QbYJAGPGrTk', 'type': 'web_search_tool_result'}, {'citations': None, 'text': \"\\n\\nBased on the search results, here's the current weather in San Diego:\\n\\n\", 'type': 'text'}, {'citations': [{'cited_text': 'May Gray is back in the forecast after record heat this weekend, temperatures are expected to plummet up to 40 degrees by Tuesday!A cooling trend ramp...', 'encrypted_index': 'EpIBCioIAxgCIiQ4ODk4YTFkYy0yMTNkLTRhNmYtOTljYi03ZTBlNTUzZDc0NWISDIhIjvDJ98+7J/rvyhoMt5pjxoZVH/3xOQd/IjBthwJMYO7C9tGA6ppbkJ4lj8fDEBt7vPBHi8MDiMOGCEjWuUo3755EM0RX59UHVgUqFm4OSvSWdCD8DrDMmQ2XB7D9TZzzkQ0YBA==', 'title': \"San Diego's Weather Forecast for May 12, 2025: Drastic drop in temperatures!\", 'type': 'web_search_result_location', 'url': 'https://www.10news.com/weather/san-diegos-weather-forecast-for-may-12-2025-drastic-drop-in-temperatures'}], 'text': 'May Gray has returned to San Diego after a record hot weekend, with temperatures dropping dramatically.', 'type': 'text'}, {'citations': None, 'text': ' \\n\\n', 'type': 'text'}, {'citations': [{'cited_text': \"Tuesday's Highs: Coast: 60-66° Inland: 59-66° Mountains: 48-60° Deserts: 77-80° · Follow ABC 10News Meteorologist Megan Parry on Facebook at Megan Par...\", 'encrypted_index': 'EpEBCioIAxgCIiQ4ODk4YTFkYy0yMTNkLTRhNmYtOTljYi03ZTBlNTUzZDc0NWISDOFKycPha94+KGZP7BoMUdJy8hfB12euYPPXIjDnaX5lWQh3d6Bm+jSsM9zisAHhhJW5nHbFx2QZpE25DjgO8FHD8CayJUr12G0XmEUqFZRmtm1wRtz6By6c7lWhneIPZTAu3RgE', 'title': \"San Diego's Weather Forecast for May 12, 2025: Drastic drop in temperatures!\", 'type': 'web_search_result_location', 'url': 'https://www.10news.com/weather/san-diegos-weather-forecast-for-may-12-2025-drastic-drop-in-temperatures'}], 'text': \"Today's (May 13, 2025) expected high temperatures in San Diego are:\\n- Coast: 60-66°F\\n- Inland: 59-66°F\\n- Mountains: 48-60°F\\n- Deserts: 77-80°F\", 'type': 'text'}, {'citations': None, 'text': '\\n\\n', 'type': 'text'}, {'citations': [{'cited_text': '... Tuesday will bring a return of May Gray with limited clearing into the afternoon and anything from heavy mist, drizzle to a few light showers. The...', 'encrypted_index': 'EpIBCioIAxgCIiQ4ODk4YTFkYy0yMTNkLTRhNmYtOTljYi03ZTBlNTUzZDc0NWISDNByYnpkmBmrSi02RBoMej9t3/ktxdJBokWfIjBoNKyCKYJvJ2ikhvA0KlT4ujbpjqPzsUe+OBii6fRXSduFO6TB84r5z7oydxlqThIqFgPfyYvKMm4Is6p3WSoVP57ETtaXNKMYBA==', 'title': \"San Diego's Weather Forecast for May 12, 2025: Drastic drop in temperatures!\", 'type': 'web_search_result_location', 'url': 'https://www.10news.com/weather/san-diegos-weather-forecast-for-may-12-2025-drastic-drop-in-temperatures'}], 'text': 'The day is expected to have \"May Gray\" conditions with limited clearing into the afternoon. There might be heavy mist, drizzle, or a few light showers, with the best chance of light rain having been overnight into this morning.', 'type': 'text'}, {'citations': None, 'text': '\\n\\n', 'type': 'text'}, {'citations': [{'cited_text': 'Gusty winds will continue to target the mountains and deserts where a Wind Advisory is in effect until 5am Wednesday. Expect west and southwesterly wi...', 'encrypted_index': 'EpQBCioIAxgCIiQ4ODk4YTFkYy0yMTNkLTRhNmYtOTljYi03ZTBlNTUzZDc0NWISDI/W7IQUFEb50l2hSBoM4LD/qEoIb2kEllDTIjCqD6rLV/0dxmZ7n/5xLtq7PT5nlyBWTbNDl16PMoGOpE2uV6JV6xOOhC/K4lG7Ej8qGKJImwFtamEbi4dmkILRJlQ2iVVZmhOPxxgE', 'title': \"San Diego's Weather Forecast for May 12, 2025: Drastic drop in temperatures!\", 'type': 'web_search_result_location', 'url': 'https://www.10news.com/weather/san-diegos-weather-forecast-for-may-12-2025-drastic-drop-in-temperatures'}], 'text': 'The mountains and desert areas are experiencing gusty winds with a Wind Advisory in effect until 5am Wednesday. West and southwesterly winds of 20 to 35mph with gusts of 40 to 65mph are expected, which may cause blowing dust and dirt leading to poor air quality at times.', 'type': 'text'}, {'citations': None, 'text': '\\n\\n', 'type': 'text'}, {'citations': [{'cited_text': 'The air quality is generally acceptable for most individuals. However, sensitive groups may experience minor to moderate symptoms from long-term expos...', 'encrypted_index': 'EpEBCioIAxgCIiQ4ODk4YTFkYy0yMTNkLTRhNmYtOTljYi03ZTBlNTUzZDc0NWISDPnyEjZ722g8lwxlnBoMYatt0aR6JU3vdZmYIjCDFZzb9xzKbTnlkJ/BQU7OvsLkkIgr95nLkH8CLk8Qz7kXcUtR1MFMzy9Zsyvuo5YqFf5O0YVXcBWcI4gsyYWX5sbIvjF6LBgE', 'title': 'San Diego, CA Weather Forecast | AccuWeather', 'type': 'web_search_result_location', 'url': 'https://www.accuweather.com/en/us/san-diego/92101/weather-forecast/347628'}], 'text': 'The air quality is generally acceptable for most individuals, though sensitive groups may experience minor to moderate symptoms from long-term exposure.', 'type': 'text'}, {'citations': None, 'text': '\\n\\n', 'type': 'text'}, {'citations': [{'cited_text': 'Sunny skies and warming temperatures will be the trend early next week. ', 'encrypted_index': 'EpEBCioIAxgCIiQ4ODk4YTFkYy0yMTNkLTRhNmYtOTljYi03ZTBlNTUzZDc0NWISDM79OIyOcKVyqvGhbBoMOeT/EcmnZkeNf7YnIjAAMPqYMiLWU4fjAsqNeqCpnxP5ro+aAOvpbiRyGWloRoJUrez9X4CAUbBXEbREoWEqFbHD7JoGEsqN1RqWtEBZF+FAvdylbxgE', 'title': \"San Diego's Weather Forecast for May 12, 2025: Drastic drop in temperatures!\", 'type': 'web_search_result_location', 'url': 'https://www.10news.com/weather/san-diegos-weather-forecast-for-may-12-2025-drastic-drop-in-temperatures'}], 'text': 'Looking ahead, sunny skies and warming temperatures are expected early next week.', 'type': 'text'}]`\n",
       "- model: `claude-3-7-sonnet-20250219`\n",
       "- role: `assistant`\n",
       "- stop_reason: `end_turn`\n",
       "- stop_sequence: `None`\n",
       "- type: `message`\n",
       "- usage: `{'cache_creation_input_tokens': 0, 'cache_read_input_tokens': 11871, 'input_tokens': 11, 'output_tokens': 450, 'server_tool_use': {'web_search_requests': 1}}`\n",
       "\n",
       "</details>"
      ],
      "text/plain": [
       "Message(id='msg_01AqayAjaFZrCf6jEbpBqrW3', content=[TextBlock(citations=None, text=\"I'll check the current weather in San Diego for you.\", type='text'), ServerToolUseBlock(id='srvtoolu_01CvUbkC6o551QbYJAGPGrTk', input={'query': 'San Diego weather today May 13 2025'}, name='web_search', type='server_tool_use'), WebSearchToolResultBlock(content=[WebSearchResultBlock(encrypted_content='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', page_age=None, title='San Diego, CA Monthly Weather | AccuWeather', type='web_search_result', url='https://www.accuweather.com/en/us/san-diego/92101/may-weather/347628'), WebSearchResultBlock(encrypted_content='EqADCioIAxgCIiQ4ODk4YTFkYy0yMTNkLTRhNmYtOTljYi03ZTBlNTUzZDc0NWISDOPvdMpZdJsl3UF/ohoMqe4r+1GTUdGwcV7TIjAhZD8lV5VwtUadQWx1+P+MsANC4Nfucs8Dw9nz3PP5t6aNXOhoQg+Y27vn7/P6cegqowIxwOlXB+d2+wREz0LngHCo3rF9j8WYPo/R8joWu4lXMDX9M/h6xtKakNrYH1CsIfr1D1PEgAj4mNYnBl0CdKzkAMURVo1GxwSWQ6ZLQki6K0HS/0awNubv/wgvY4AeKBBUAz9rPQb3/CvxVyy4m5gH3fMfL3ii5Qm1B/NYd6mE5k1usD+bcHvDlqcdWIzbKbTknq0cHdsyWcCBD24i3aGVIrdn4ZS8GtGpcRzHivxmgSdJYjmWS8J8CEuyJ2UInx1tS2ce6j2yDDLD1rjReg/Z+WlcB29jsshT3PuoYQUU8xeMOYAiWCAqj1SUhlBkkRGAnvQKeAaTBev31WoL58KYYUIXXcZ8Xxh7LKY/07l3SK26NP7z8D9mR84zBwP5q+Qd668YAw==', page_age=None, title='San Diego weather in May 2025 | San Diego 14 day weather', type='web_search_result', url='https://www.weather25.com/north-america/usa/california/san-diego?page=month&month=May'), WebSearchResultBlock(encrypted_content='EvADCioIAxgCIiQ4ODk4YTFkYy0yMTNkLTRhNmYtOTljYi03ZTBlNTUzZDc0NWISDBMMvcRxZqFGdu3kdRoMdIHwa0YRIT4QEMrwIjDMJD1oSGnIjElWf+T032ZuDvcdJ7OeR3NShVaDvnPgBm5/vLbsGOzfBsE8s9WzQuwq8wJ4R8NViMl3RWoFr9fphxG85fPK0rV7z0cl8TpAs0g9X9nh9pHW/IanUZg9FVFJk/eEj0QbFrjm4wL4rHvRIsiTtRuuBfAf3WIVbzUBJ0SZaGG7fNT8fupb5aGFjcTkzc/NJGIGGr3y2c5X6NUg4uuhAT2bvIpueZ16N/b/7tRWnC9RObDHV4cIgST8zM7OFVzZVbWDLk3Z/lVN3pjpnm5kWtAN/fcsNBdPErwqYSsZKZ2IytUIqDzF0LJXUguLGnv89VO/bx9COUJlhPFuZDfwgEq+0ikLdebVnIEPU6TrEXwqhPbPaR39bWQR7MNc8lBieSh0V0l0WttRL4oQtS4580dT8YcKI4h8xtC3FiAgpKz2sv0pRLSPLDWcir+UgGHbQpG8FxxhNB9iY9smhgQS02duQxvZTBHm5dzJiN8gXVrxIbwLFLDXjqnMOh0Nla2U9F0pclcFFYaDtaqxhyPoRwwQi4LJ/E7m0hhv87tHK3Z3sxgD', page_age=None, title='Weather in San Diego in May 2025 (California) - detailed Weather Forecast for a month', type='web_search_result', url='https://world-weather.info/forecast/usa/san_diego/may-2025/'), WebSearchResultBlock(encrypted_content='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', page_age=None, title='Weather San Diego in May 2025: Temperature & Climate', type='web_search_result', url='https://en.climate-data.org/north-america/united-states-of-america/california/san-diego-714969/t/may-5/'), WebSearchResultBlock(encrypted_content='EqsDCioIAxgCIiQ4ODk4YTFkYy0yMTNkLTRhNmYtOTljYi03ZTBlNTUzZDc0NWISDKswBpI5PBCHhagrMxoM5HARJFIsfVGdS7qFIjCseNNQvjP//+eNrAuyvZpQ94uiK+YcbGxrTdcbxbgHSYi2zIujO/f6ffvzvwpMTS8qrgKVV74jYVKqW2Y1H6YB7EH4mGoJsiZJEIvZ4vX+iH8EcYUtwizGhLM0lDYVFrdu7rZJV0J82mzw2UrPpj5Jd+jFLi2i9pIzM6ANECwZCe8qRLrYFju3SvSWElOIiyQ+xj4kftxqkpOQhw39e9Ykew5AMiikZo0u09Tg/RH3cvxFBOKbFErd1wptoSqjD5KNwQfWyCY2p+as1fr6dgEjo1AXEwCsznXiHnCtgVd1FABZx0+7+oAgBchx48ztWQoRm+hinXvHl4IXG/xvDhKxiy7lkbRk9TUkqYEDR+zg3RYH9ij9kfMH0oJkttziTdj2lMahO0XL0Gbl/C5B1/jLmEz3AtthEdVnKB5FI0FuXb5vaecJMVvHWcqPOQ/YHPTGrY4Fj+9ATFkapaJo592UnxgD', page_age=None, title='60-Day Extended Weather Forecast for San Diego, CA | Almanac.com', type='web_search_result', url='https://www.almanac.com/weather/longrange/CA/San%20Diego'), WebSearchResultBlock(encrypted_content='EvoPCioIAxgCIiQ4ODk4YTFkYy0yMTNkLTRhNmYtOTljYi03ZTBlNTUzZDc0NWISDC53gNiaaUYeNhFXIRoMCR+5AH5Wk6j7TnwKIjBSH84wZXRHOTprG6RQFU+lmgwjGf/UUpIWorbNTg0dP2iQhPnMopI+DXwz9iSk2Lgq/Q7njRCyB0nEs/ysYOqSuxJz3yIduoXwLBHN01w7SBh+sUd7dFbLAfWNmdWCLc8p5PbEfEY0XaIW5WFUHztzbl2xSWbYmRzODBFVtwX7LofGuXT3t9oesBNMBv+hQU289z2xBYnR7KZ2bblUrGhxDm5ggS0nxNNl2iF/t7Mn9sU6e4WtAuB27+R/DIPmvfamQaJ7baK0qdVjIAsFrnLElxLXNg6uqtiEPFCWXevkaP+KktUE6ekxqFKHEBdRWIXuOXqLWMsq0NyPccFhv84RU1TK/Dl/gmvacl1td4UOkBzqiB5XqcZ/YQqEOqFksYbjgO7iTEo+27kP6hwpFSurqcQp7QU5fBPyxwHmWI0JMTQBsrgVRnv5lVsqPZlOHRt7LqgcB/VkR028kLE7eCL+MhOE1s5uTdA34i5ajhCn1OragomvmrYfeGcxKRP5/0wE2uKo697Um0m5xLUnVPnQzoO1n3X0FTsP80J3lROsjzes1CtSNdKH94vct27ySoxXVT3agNRzQBfqxgy/EVn8GavpiD94vrJ7KZdQNFtTmZ9M9VVYkECrtfBniYxgreXIDyvSAYMQbDG3tqfzF6HMd3laCHfaaMMUFy1F3QAm/ERoz5/dfVr3BvInnYr3cmE7Xs5TkElMWXcwl9zua3xlHeOlgTsQXnyiljmVuOquO0helKusZxiTPImYrOcK6pi0co8xD8nIoEjP5Bw1Nz7LR2L/DbFv0Masa/XiN6QNsTVmUYLcAbqdmDfoCCROYE09c8XIaHWtbZ6MbXgKuU2PVFjM32nYulH0m8eKuxQDMIDogM0DDYzn4ERUGK29Frk1YvMOcGcHRNfE2H664ZcbM7ZoMYVE/FARQvZ8mA8N4bPTJUBguFcz7yupvcIJfBMZgq8HZ0d38jTqXov3WMOuE6Te6Ms7i4iMGliEzp7NdT1psoXfQo1onuwWJBcr/xpoWRZEF4rArFbq/fji/hBp3keplZw2rWrK2e+Au0ZlIhfq2tcI7htEenDYD16x6oi+cO+D3i7QLIt5pz2TF7hin1/xFhkhiAxvg4qLd0cWKrJIqtykc1tUDI2q9zEZtw+2p5FmW74wGBFolN80JBpXKUiN7iaRmUNIcX5Y03CYST1C4h1YbLVYQILR5TCvy8TzrGPJ8i6eGRn7pyvPSi4YIsFxZbOKCDpqsF6iPBif2vGk2+V96DvIaqwi6IvnscFuxx22VZqzYLbWQ/s03kXipHRpvae+PIxerO+6NXBt3B9EeYMWxDju3l8C4oQY9P0XD/4pVNzWw+LfAYI83K3mS+uChcs25bmndOCIOYJCuF4j3SNTVNV0C6ibJpsG9gYqVDs2VApvdsjsQ5ubOETfj0BZ2EATlWzfKoTleJC+DoxKhFJ37F8v4Z4XGnRy071SCD4hOPZEmJF8GY4LEBKYFmLubEARr6PjI3OtCrLgjt0UFJpNOtiRhYb3FrjK87Lg7Vmkm6FbYeGQrYhWNdQM+BtSo6B1iSEjOiQWFIZi8Gx7M+ncTe+vNk6ir/rRx2uoTD1ax46ZM1GLp9nl9BjFZJqmUrMCkRXxF+DOQjRqcBZ6VfOJqkvZRnowPIOGbHi8RDgwjRHC99Wf5ZBzLYCdOyFKGPzqExPtFcN4eCAVi1o8vzIcjsiUVRibWDnswAAhlLKB6c+mNNCH6rTDNbH92GFZH+qG+606YYM0wyU00H9zyoKNMXqINqYrjDYF/gclEdzOe8/hjSWSbnUk4RtRqmO0+N0tAbum6dXJ6x6+f+K77d6aCLJUekwCaZ0FA2bYQdq4udPOLXt4fEGaFKdiCjYgBPsVVOP0VIy+/wQQBvnyEAY0q2hpZ1IKxYQRjmgPJYjuFUufC856GV1uGUjgz7nug+FvPdn1jGAEohU/VXk8Lt/CidULbOuyjSUi3fQogc7ugDH9CsOcZ29pweFlIsrny4C4W/SEBBqCSwbpgQbQT/3OLBxLxCFwo9WGhUZWpTTlnCsgQm7RCPD7xTBbJ39FQs0c3xLrnmlVchfaKUKmW57y5HRkZTdiwaXdEXiGkldF4m0FTwBt6a1AgveMGTusG08w3SWn/z3fo/GRiIJDBu59O2UBBKOe8VhVNUmJDgW87Eb12jgYAaKeDt8my1kBVCgBAmpHggfxucPG8okGRcB8vGnbHTT4xrAp5vFXEsQZM7jtjzAn/fnIUcEtHF/Pmd18b0AgfhbuYncek8RYby684ul3h4/IjDcZ9aR7P811H7E7FMMgjQzMnm/aWeI8n4jCLfzBnnOFHyN3lu+s49QmxOtekv9BZUqfZuxUxR/sSrLw4XqGuaYtie0+iCm72fP8vzLkO9aJWtwRZRHgGa3w0vaWn1PGZsc0+JbJvF3VRXwwP+lQQx3FKkwsCEtkiq9kRjZHo+F7mCPyH/OVd/fKSRuPucxg3iB4aHxjz94MYl/cjaW7bc8nUKLN+k5bx95us+jbGtkpuo0N4QaJ4f5iG93Ja8+yYtqaWXJcgEvw6jJ/uqR6ecdv5x05C6GE4J9rwujP2+Af8JKIDOGu3Wb2k7LtRNNn6vbNKb8YAw==', page_age=None, title='South San Diego, CA Monthly Weather | AccuWeather', type='web_search_result', url='https://www.accuweather.com/en/us/south-san-diego/92154/may-weather/2178586'), WebSearchResultBlock(encrypted_content='ErQLCioIAxgCIiQ4ODk4YTFkYy0yMTNkLTRhNmYtOTljYi03ZTBlNTUzZDc0NWISDPpn3zFUZF16tX212BoMm+p2maaFta2+nnP8IjDRlD5Oi3URvUdhv+DD2G1YJR+IlJ/KQcBCW1qKp5t11gAyWUUCIJ1i5fwbV2/YN2kqtwrrxiPIA+VdUuBy0HaDwCUQuG4kzkreellA+zPzQxLBtHsmVmI763g4alslprh7hZ9yUsK4zce9zJzRysPg8RpB6LKmyfX4v4xaedegIfkvhB0VKwNiSbPX9dXTof7WbyymcrgBU7wOGVyIuWXV57sl/eNs7GT/LUBh0xkKQqSyoUiPk8fC50iT7xOuWt+Bbgm+PlAmxAinpz4Owiq6mD9lMusN62q5Sf/cmJFhmRYxe55umY2Jlc2Jeu0WEGnaD7r3B4Q3vEyXWAF+hqB7MbQlS2DNs0Fi1K1kNWZvHKfBcYqvT1Ecekugb/ASwG297OZ+lr2dTByf19i9D3n8JuHNDtX8w/B/36SnM5RsJW33fJibhHqdng7BxnuoUiGdfIfPvtP98brBMTg+LRp3MocNubZkUU2JUoKeD3XH8ehczJW5TNJVcIzmp8BIbSlcOS4J0ytAiXowDJdvJDoRBIO8h6JSIPzBoZVRpNIKShywOM+WXn9Mz0RPEXsuyoQ0RiyS0z1mtsK9NndmDa9ocTceDSgw1C6zCWTFb3ErbQ178land1ff8I27VZC1A6UcMr0Juqv5RlIjTfMyHgPGyI2E4r2E/DYxIvq4AE33WVFJoW7XHA5QuH3aKJ10xIX8ffX1orrPmmP81F8xVfwroaMAxczHBX8BFMFPombRIWdF1u5ebIDnd3/B4okdCvEF7zSiTnni3I0ZU2F0QHvxOMzYoysGZc00y2ZqRxhETcLk4u5wlnQEEXF5hstw+XazVaK54Rhg+ffnH0BuoK3+C0uyLxkKlvCmfbcX7agRYKxV53f9QJefUzYJQOERUrSs2exFnYrt+V/6f9I779e8G05y/1dx9Aj+5oquDuApdzLf205y5eWafvNte9j94gPMPmoWgEzopuMNiKUUvDH+4HgG04ICsmkBPVKqbfjbq/HSgjx2dcWWLUeZobPHh4TxzY543DydCLIlkrehRxxw3RQfeMM6HMPySs4XlLYGkdMBB3IObJQjfxOhTlIKZ+myUxWaaEW6DsWuYZpfdqeOBZZeriMSTfH10FIlSpB/i7yAZM4bo3xLIehKxb97gG1FNCWihyQLR3bDnfgF6D9gOCl0znPNWsPuVkbuOTPibA2NW4kuefnEZeWiqe9xBFup4EWP2TlTyZIGAM22Mt+kxiKqXjhWHRvEQ6850ofKZeVr2Ia7g+atlpJHxv3EhNAXwTGjJKLRjj17nAiWA9Xpubf5tnFCSZaC8DK6GXagbPVhzOiwOJ8EvD0ZnQN3h68EncKeWVdXYE3CIKcPA8O+jE1n/1cZ9HU8fbxJL0+oMB6Sl/2lAS6NwAmrxLp6TeVHsiBx8CLrqN5Ch+GNPV/JdIlK4gGEhsfIXQine7wXZowVCf43phs+DHL6VyIQ4DnKd7/BUZNayMef9qZydxGtCPJ6cCMkFQnCeQQZibNM0nKqpVTM42JAPVPwkfByK24rHqZjOxmGCTO6TYksdhbG2BLYBkDwxRLOg1uzngWMmfABpl8c06XTb0lC8JygY/ItGFY2RP1b81lVHpgEV+Sr60babyn4bzjaSHBcSroEuje6VAEaBSO9UaHlRNlUtsKDXJgpotod14//fTghm5CBpWhS2q0/k5G2/3ARZ6SdV03U1kX6sGa7oT9qL9wDuAwfe3vcQ4Af8D9Pu/jiNxagGEzOk8W43hzj1HNuUYrKwklDo+YKp7t8h6l0dKSeQ/4urFbgp3v7Yc1J0RFj9frOykYHgcb+EN75MCPn68fUQKu0zzr3+aGtVwQYAw==', page_age=None, title='San Diego, CA Weather Forecast | AccuWeather', type='web_search_result', url='https://www.accuweather.com/en/us/san-diego/92101/weather-forecast/347628'), WebSearchResultBlock(encrypted_content='EuoTCioIAxgCIiQ4ODk4YTFkYy0yMTNkLTRhNmYtOTljYi03ZTBlNTUzZDc0NWISDLw5LkY0v5DrDsNLChoMCmQEYNKWykQdkaCjIjBo7Jigs1lnme/Jmr1zMXo7CKWWPhrY4/r/uFsCvpzA4GJSQPFymQAbu1sqK8KVt+sq7RJ7+vlyP8dHt5XDznTd4bygu2MrhxvesSKE74EX7tJvGUBN9ifJxTLkD5dFnwbUduUp3CYmskQ80MIPFz3mlOVK+wU/fq8smVXPr9aAbNF0lKA4JO+vZHB5nDFrlUIiBnqWlrnAzmry8iqgQ/T1I9bggOK3AXkHGDTMYTgqAJcFnD2XQJiQwaQ8EQ9+BDb6H61V9G3VWtOdgC2kkf9cmZMPG4eBBL+azuhxLVECZwd1wLhmWq6dBuoniTsNqc1VeIGJnkCGeLqAbTPJOOekkYvIe9QTdSCFyKKTWDVmDSaD8NJ0m8ExwC2mwd8V7Ay5HIE9e512MxzIuxDhVKFQBRP2Fzh+ZYe8RjRF8yzhtfA3zdYC1CwWdnkURFGZiiguvbVrmml5bDG8JPz/Ac1EElkwV5Y94tGSWr2H1BYvTW8/J7zz5agsjGsM4cgruGoOQ2vdKFfUh6Y/kTUddExm52GKxZWRxqV+TKdG8k0yrjknYgZH+ON+Quw3vNSob4Vnqcz2Kb2f7/cvBTvqIBrGGlBL6wY2GWopbzAX7ZPi+RIja7amIqaMcNA6dR1YpPlko6F6C7Qb0FMmzzewFG+83MMguaM9WZgPj2UR/JlGy/6I2sOgmuEJKXN61i4dK6QAqiOg4p0wcihdj6/P+PygCUeqIMJJA41wW2wfmdDVME8p8U8+unGfyhAH43J6mwMFM0zC3D3djBhzs35w1YSlvzp+Y+2j/xpI+Xs6o8HvGA09eGqtFxdrBI94HPozJDZhbUl6di4VoVmzrlD7Rkl6dOGBBQtVtxiWEp2wvOehZkDzOOvuF5eqhSdSuNpVUVTiF/aCrGX1ckgypaFYSvbx4TaeIGVgeBNrxpOEMoi96Bi8wHcROGZqpjYdOOLjpZzsIjojjiDHIE0EwNtsVS0uLYPUKMb3mzjzdjDgeEaQCSerWIs+1hSjHSCVOT9lnqfdmoQad8D352VxmuCWKflVYfQk7icCJ3KZnWVIBYCBUkRdb7YXAeBhtt6Z8BNKSPV7/GTnUGAW5qlrgoBix7stUd+LtrFaUa0Af23za22d3j+Z7BFo9+V6tuSJ53pS24NBLidODsj2BADMm1wTbC08K8r1/N1zqjcC8q4TrnPgRW1i91fHV1W3Dh4xIaWMRN13HH2gMaf+/JMjSkuI/YLGJDTyOcKfRJiKte3TiJa1qvR1eZMW+pPcRYW1w4reAML6wMpts6lonng/JOT89buvztAggjPHoK2CwyUSzhBWvRQ2fHFq9mC7ZHdX1GDZ9/YtihMen5/7CuktQIxmLdVmc0CiU8w+Oq6tDB3kHbXcVMmjzmxk7Lw1rZYuOWJwS8CMQnurS0NGUB2xpnK3gkJ29caOMgieLNfkRwgOJY1f0MdsCFtIPRrEt1d1tPqq3UpeCc6JqwYv5mu3LBeQ0n1TjCH+10OuC6jjpQdXOT7yxq9Fuzji02RzcUhhqV3bhvlc0mj+EuxnnJyL9+IsND3yliV2bVScLgMVAOmnL3T8Oe46+DTybQDipSF2cpIfdinTiSh8b/E+gA2rlqe0ZuYZwKvNtCdNVVuH1EZnmbL1xh4+ATuHxvhRBlxymJLiTSndIyejS7xfykGar5lZc/ubYTw4Mt8Rqo8Nz5ZObswzQjYsIYEWdpFkJq5r/edpQW2Xir5toyutIIkfFQiM0xR34jTrkzOth3NJ0aTUSPH8BaBhqnEamzk/reCNas6LWMykQ2UpxfmrqK4RrMYiujAqSCwYhKXirAg7xiwrgG6+zGcteFCyqSLtHpyrRyTOhlbtJJHxnkDmeoM25w+G4LAsrOLsTD3/yjkrAeLbR6s49yNE5uxxnp+rpEZa0yP6q6uh3SitwWW24ykPAr8++ldno2cQ7HMMxuhATK0MoPpyI11qgK3PM47KDOvDoU2CLtWU/lYhM4Zs2UiYry5x7LxbLNr8y5rL23dBMjup8viWCpBFG5OvvcepZFzlx68sRSZhk/BKe1MI4FcnMna/ZAZdnsjYaP4KuQO8V5NtVvl1G9fw74S1Ci6Y/LYgCJW1n19S0YnTmkAKdx4GbzGu0Su5j6YzQbiIACfy6dnx10Eg4QSlbcEQMB7su+ibdjAP6tjgXhJus039BJIInWWC80nDGvewaPdSOEuuObnCg5Ti4Ct4fLikpCBfohzJfQlM14GudRiLMvyLduiZI0yWX9+Vfdtgcl2w8DdSFyXOaEppaK3I+aWgTASTutCIMKvyllFBj2anU34bafyQ0IsJjrB+IuxLNC1Ha1HPqo8YCAs/+NXb5813nSVN6ZIw2NZoZ4DGtjKcMxdqLz46NYff//KjDMEp/ah7PbxhRhQWSujrgjInihIRUsdcJSJyb5+9EWByZpfDZ4NK4qrf0tZrJbs9FwCC0jOVWxaEutI7MhKlF4EY3tIU4Dm+X84cJ0rY4xQAqFnGGad+jYZ/AijQCt9hPwrxfRRolC3FU5jUroi4bKuuGMv2TrBZdVNhuatjXbqr0YQ+ua29BEi+kGlmlXQdvUd3cL9l5n/JNPf8YQ4JMsf7uTqXFXUlo1artFEv1qLdTkZl8rQ5zUBcvW9mWZqtBZ6cnqOGK5XFoDtmUJ6SCv9mmVp6OcAw7OGiBYJD0jvYe9iDh/YpvHhzQUwyuoqgaZR5z8skhIeOqdmfnXsKA9EmsBWpy+02ZbX+swveP3vISMcrPM5M4KCfHcUDoVBS2qG8eC6YWUWXCGlYyw/7OVMnfmgouplXV04oxlntQ6vYAClGpCu4oZ/qJmMLOqNh/oT3dP+jXzLHTi/JD8NqNeMwxsyAWueXwzcRzGDzNFUE0BnSaE91xHLXABY9YGBTkQHFsoCMWrlUwsXcN5K+mF9dErSv6tkA4pBAK1eeyqMmy89emur6CKG3xDXhiBR9TLIciO5z7bp7X1P3N0OQXFyvHbtE+XIxWwzDRvft8AdwGeSiVAvFx48j5ERkn/JDaEieQiZJbqBJU75aGtWot9TFiFrJT/LCRX3saRUYOLzi5sXPOokH+9RSN1YdJpoM5MMDgLP9/safc1dHbsXNABJvebLS6w1sBmGosAE7KckDMljcZGb3kG47vCsCtjL3Tj+F5fuzD3giMUm8AVECfBmZgFHSq9+EAEZSIFYdOnVn0IyQBdr4mEV0zaRkqX8bT1ZQgqKJeyoGUjZIdf3Gj6Qclvp0yKC1k47dFnu5juYYcsOQCpS1YBY8sBtz7s4KGAM=', page_age='2 weeks ago', title='Weather in San Diego County in May 2025 - Detailed Forecast', type='web_search_result', url='https://www.easeweather.com/north-america/united-states/california/san-diego-county/may'), WebSearchResultBlock(encrypted_content='Es0LCioIAxgCIiQ4ODk4YTFkYy0yMTNkLTRhNmYtOTljYi03ZTBlNTUzZDc0NWISDClQFVKj60V8LyvR3xoMXl7+M3KEUBCSjLr0IjB5fRtXTtb3pziTsXq9zblo8FswZij23kawOvzNx/Ga2c3fiGMrCiBhJKlSHquWzRYq0ArdVIlSTk+zKNPKvb3gFtTQCmSc4ff3wR8PxNIcOAIY5tM3Wh9xSQJjSRk1ZGet2ujaNr5pZ8gcJ5QYnwhTHWuvdFOmOi4QRxW+4CVYkeKgYkeQUrwIVbnKwZn39aNdByLesdfwAnk6M2W0Cxx7vfcL3v8eN7GOtqFfVL7NzDIjI/BKsygbwUJ5MgoHxSENf3d6QBgL1HcSaTMTucZkGCJpWR2afV+1OUPGrG4NYt+I7abPjKO0dnWNMk5rFNtMWsrJompK9vm+dXZ239l2GDREejaLhUfVprWDMzsmE9mswnh8bmqQ3Ay7Z4N26PgUbKXtVWH/kS7t7nVoy4eSkaX4hbp/ReU8UsE9rCSYhBozAQcXl+Cd3Rnpm/5cr+tnIjOKFiooFY9rDAJf3oNLIPIQuWIGEt7vkg1wbB7NjzZ61Mg2PXNwNWp491ih4azLVskBU4mM3TZfMkTBZov9Jke5FB/AwCSw6zDWgqzFEg8UJwL6YeyPsqaHXXWLMdO6GjV67c+ce5S2G7iX59xeCrS3bUmNEtmIAlBxhI3naD5Fjk/rP3xTB8CiYvjuCMui8X9tQysNgfAJRTglPB3PGDhtNZI9xxuyT0l8ooQQAhtHBTQENIexn1PgxTPphkom4p6MUtpPza8CFXU+WB/zI+qMI2BOm+R0WFwPfteWD6Rk8w9dOfgExmxWvfrCz7RWp6VLYBdV0Z5MuWLMDFhIhRnRbBs4N/uIJCQNW+qn6D+J5KRMUPMMEf6ZyoI1AwZbFvbRwd3RaaxWbgOtlA5O0XgeL0ShaKY4zcStQ2eeS6j6X5/hNe9yfdubnTRHmB66noQuXSUSOeXyQ5kUeVGTjtfb+iaig7Hw7XNdancG3h3q05wdJyNcebPZ0ydoeEcrri03CCgNfHYnoVJW+G/ZKgT92sWw6ufYQqTZOXjM2YxqUQhphJFuMV3HssUvYXt7bMD+c+PNcQPBRk2q1oMvQuHSg28l7aPhuJj506Fbr35LZj69VdSH/G/9V2M1HXHZEAl45oKdXgv/gj/kFVlVj8yc8osGUWlxMyD6ZO5ivBy41J8NWu7/K69lZZc5OD+u6XXXrskWvN9U0NgJbkopK8ssfDoQOMrKjIEo5tZFFuc3IHL6s2klWh1Ceg2GMbXri2CISd7EyzvF7n7x6R2w538wBNAnryF0AwjMpfg+y0JaoiauSB9LY8Ivau/rbi64Wy1rPR5ZtKC2xTHI6qWMNxFxwTa7iESWQu04MBJpt+y0ThpWHX5E9QuhTUlsZwSicTqTYnY+FtFSV3iz1lqKXIw5iCJq6qUaLkRrKzQZASiMTYhwnB1RTgPzQvqzuyD4/3LbSkIyuu9cLXWUwZQucg4KJZeBkNEOxIO2MQPWBFVcOqwPIGvvEYgm709IToYZoXO17kd/hWwN4cmeK0Pb7+rL+yOTTJ2/e0OcRTD9hkvBr0GHnZqKOAmwI/7f0NzlY94MCgarjDfymGKAbOLMoy0wzi/7X9trrCcsujchQK1ODarY2ZX6bp+JkemZbIcfoOXTxcu1xoKzmwC9BqW7IXHH3SH2fOowr7GPT2+UJDVOCyi9HsBd8E7LYdDlB7LFcxU6SPr+7PSeMmYiCFjrnp4oTw8Sw5zDmwdA8w72+ENJpPCjH3dVke+sFZ5Sfu/4yur5gLORfOtHwubivzpDrWwpWOa+lh1O6HF8+uOtvMLWI3QzJD4CY1WBb/tTro8dYmeTpe/SxBDfb1OxEeFnSLDE+K8JPviQrllLeN2UzTaNdhX/mM9saCLCq7PX/nvyGPTpZKk/yUzEauOBrAPWSR1DGAM=', page_age=None, title='San Diego weather in May 2025 | California, USA', type='web_search_result', url='https://www.weather2travel.com/california/san-diego/may/'), WebSearchResultBlock(encrypted_content='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', page_age='19 hours ago', title=\"San Diego's Weather Forecast for May 12, 2025: Drastic drop in temperatures!\", type='web_search_result', url='https://www.10news.com/weather/san-diegos-weather-forecast-for-may-12-2025-drastic-drop-in-temperatures')], tool_use_id='srvtoolu_01CvUbkC6o551QbYJAGPGrTk', type='web_search_tool_result'), TextBlock(citations=None, text=\"\\n\\nBased on the search results, here's the current weather in San Diego:\\n\\n\", type='text'), TextBlock(citations=[CitationsWebSearchResultLocation(cited_text='May Gray is back in the forecast after record heat this weekend, temperatures are expected to plummet up to 40 degrees by Tuesday!A cooling trend ramp...', encrypted_index='EpIBCioIAxgCIiQ4ODk4YTFkYy0yMTNkLTRhNmYtOTljYi03ZTBlNTUzZDc0NWISDIhIjvDJ98+7J/rvyhoMt5pjxoZVH/3xOQd/IjBthwJMYO7C9tGA6ppbkJ4lj8fDEBt7vPBHi8MDiMOGCEjWuUo3755EM0RX59UHVgUqFm4OSvSWdCD8DrDMmQ2XB7D9TZzzkQ0YBA==', title=\"San Diego's Weather Forecast for May 12, 2025: Drastic drop in temperatures!\", type='web_search_result_location', url='https://www.10news.com/weather/san-diegos-weather-forecast-for-may-12-2025-drastic-drop-in-temperatures')], text='May Gray has returned to San Diego after a record hot weekend, with temperatures dropping dramatically.', type='text'), TextBlock(citations=None, text=' \\n\\n', type='text'), TextBlock(citations=[CitationsWebSearchResultLocation(cited_text=\"Tuesday's Highs: Coast: 60-66° Inland: 59-66° Mountains: 48-60° Deserts: 77-80° · Follow ABC 10News Meteorologist Megan Parry on Facebook at Megan Par...\", encrypted_index='EpEBCioIAxgCIiQ4ODk4YTFkYy0yMTNkLTRhNmYtOTljYi03ZTBlNTUzZDc0NWISDOFKycPha94+KGZP7BoMUdJy8hfB12euYPPXIjDnaX5lWQh3d6Bm+jSsM9zisAHhhJW5nHbFx2QZpE25DjgO8FHD8CayJUr12G0XmEUqFZRmtm1wRtz6By6c7lWhneIPZTAu3RgE', title=\"San Diego's Weather Forecast for May 12, 2025: Drastic drop in temperatures!\", type='web_search_result_location', url='https://www.10news.com/weather/san-diegos-weather-forecast-for-may-12-2025-drastic-drop-in-temperatures')], text=\"Today's (May 13, 2025) expected high temperatures in San Diego are:\\n- Coast: 60-66°F\\n- Inland: 59-66°F\\n- Mountains: 48-60°F\\n- Deserts: 77-80°F\", type='text'), TextBlock(citations=None, text='\\n\\n', type='text'), TextBlock(citations=[CitationsWebSearchResultLocation(cited_text='... Tuesday will bring a return of May Gray with limited clearing into the afternoon and anything from heavy mist, drizzle to a few light showers. The...', encrypted_index='EpIBCioIAxgCIiQ4ODk4YTFkYy0yMTNkLTRhNmYtOTljYi03ZTBlNTUzZDc0NWISDNByYnpkmBmrSi02RBoMej9t3/ktxdJBokWfIjBoNKyCKYJvJ2ikhvA0KlT4ujbpjqPzsUe+OBii6fRXSduFO6TB84r5z7oydxlqThIqFgPfyYvKMm4Is6p3WSoVP57ETtaXNKMYBA==', title=\"San Diego's Weather Forecast for May 12, 2025: Drastic drop in temperatures!\", type='web_search_result_location', url='https://www.10news.com/weather/san-diegos-weather-forecast-for-may-12-2025-drastic-drop-in-temperatures')], text='The day is expected to have \"May Gray\" conditions with limited clearing into the afternoon. There might be heavy mist, drizzle, or a few light showers, with the best chance of light rain having been overnight into this morning.', type='text'), TextBlock(citations=None, text='\\n\\n', type='text'), TextBlock(citations=[CitationsWebSearchResultLocation(cited_text='Gusty winds will continue to target the mountains and deserts where a Wind Advisory is in effect until 5am Wednesday. Expect west and southwesterly wi...', encrypted_index='EpQBCioIAxgCIiQ4ODk4YTFkYy0yMTNkLTRhNmYtOTljYi03ZTBlNTUzZDc0NWISDI/W7IQUFEb50l2hSBoM4LD/qEoIb2kEllDTIjCqD6rLV/0dxmZ7n/5xLtq7PT5nlyBWTbNDl16PMoGOpE2uV6JV6xOOhC/K4lG7Ej8qGKJImwFtamEbi4dmkILRJlQ2iVVZmhOPxxgE', title=\"San Diego's Weather Forecast for May 12, 2025: Drastic drop in temperatures!\", type='web_search_result_location', url='https://www.10news.com/weather/san-diegos-weather-forecast-for-may-12-2025-drastic-drop-in-temperatures')], text='The mountains and desert areas are experiencing gusty winds with a Wind Advisory in effect until 5am Wednesday. West and southwesterly winds of 20 to 35mph with gusts of 40 to 65mph are expected, which may cause blowing dust and dirt leading to poor air quality at times.', type='text'), TextBlock(citations=None, text='\\n\\n', type='text'), TextBlock(citations=[CitationsWebSearchResultLocation(cited_text='The air quality is generally acceptable for most individuals. However, sensitive groups may experience minor to moderate symptoms from long-term expos...', encrypted_index='EpEBCioIAxgCIiQ4ODk4YTFkYy0yMTNkLTRhNmYtOTljYi03ZTBlNTUzZDc0NWISDPnyEjZ722g8lwxlnBoMYatt0aR6JU3vdZmYIjCDFZzb9xzKbTnlkJ/BQU7OvsLkkIgr95nLkH8CLk8Qz7kXcUtR1MFMzy9Zsyvuo5YqFf5O0YVXcBWcI4gsyYWX5sbIvjF6LBgE', title='San Diego, CA Weather Forecast | AccuWeather', type='web_search_result_location', url='https://www.accuweather.com/en/us/san-diego/92101/weather-forecast/347628')], text='The air quality is generally acceptable for most individuals, though sensitive groups may experience minor to moderate symptoms from long-term exposure.', type='text'), TextBlock(citations=None, text='\\n\\n', type='text'), TextBlock(citations=[CitationsWebSearchResultLocation(cited_text='Sunny skies and warming temperatures will be the trend early next week. ', encrypted_index='EpEBCioIAxgCIiQ4ODk4YTFkYy0yMTNkLTRhNmYtOTljYi03ZTBlNTUzZDc0NWISDM79OIyOcKVyqvGhbBoMOeT/EcmnZkeNf7YnIjAAMPqYMiLWU4fjAsqNeqCpnxP5ro+aAOvpbiRyGWloRoJUrez9X4CAUbBXEbREoWEqFbHD7JoGEsqN1RqWtEBZF+FAvdylbxgE', title=\"San Diego's Weather Forecast for May 12, 2025: Drastic drop in temperatures!\", type='web_search_result_location', url='https://www.10news.com/weather/san-diegos-weather-forecast-for-may-12-2025-drastic-drop-in-temperatures')], text='Looking ahead, sunny skies and warming temperatures are expected early next week.', type='text')], model='claude-3-7-sonnet-20250219', role='assistant', stop_reason='end_turn', stop_sequence=None, type='message', usage=In: 11; Out: 450; Cache create: 0; Cache read: 11871; Total Tokens: 12332; Server tool use (web search requests): 1)"
      ]
     },
     "execution_count": null,
     "metadata": {},
     "output_type": "execute_result"
    }
   ],
   "source": [
    "chat = Chat(model, sp='Be concise in your responses.', tools=[search_conf()], cache=True)\n",
    "pr = 'What is the weather in San Diego?'\n",
    "r = chat(pr)\n",
    "r"
   ]
  },
  {
   "cell_type": "code",
   "execution_count": null,
   "id": "8ee2696a",
   "metadata": {},
   "outputs": [
    {
     "data": {
      "text/markdown": [
       "Otters are fascinating semi-aquatic mammals that belong to the Mustelidae family, which also includes weasels, badgers, and wolverines. Here are some key facts about otters:\n",
       "\n",
       "Physical characteristics:\n",
       "- They have sleek, streamlined bodies adapted for swimming\n",
       "- Dense, water-repellent fur that keeps them warm and dry\n",
       "- Strong tails for steering and propulsion in water\n",
       "- Webbed feet for efficient swimming\n",
       "- Sharp claws and teeth for catching prey\n",
       "\n",
       "Types of otters:\n",
       "- Sea otters: Largest species, live primarily in ocean waters\n",
       "- River otters: Found in freshwater habitats worldwide\n",
       "- Giant otters: Native to South America, can grow up to 6 feet long\n",
       "\n",
       "Behavior:\n",
       "- Highly intelligent and playful animals\n",
       "- Known for using tools (sea otters use rocks to crack open shellfish)\n",
       "- Social creatures that often live in family groups\n",
       "- Excellent swimmers and divers\n",
       "- Most species are active during the day\n",
       "\n",
       "Diet:\n",
       "- Primarily carnivorous, eating fish, crustaceans, and other aquatic animals\n",
       "- Sea otters particularly enjoy shellfish like clams, mussels, and sea urchins\n",
       "- Some river otters also eat small mammals, birds, and amphibians\n",
       "\n",
       "Conservation:\n",
       "- Many otter species are threatened or endangered due to habitat loss, pollution, and hunting\n",
       "- Sea otters are considered a keystone species, helping maintain healthy kelp forests by controlling sea urchin populations\n",
       "\n",
       "Otters are beloved for their playful behavior and charming appearance, making them popular attractions at zoos and aquariums worldwide.\n",
       "\n",
       "<details>\n",
       "\n",
       "- id: `msg_015ogBe6MsHWGK4J4aKybqq8`\n",
       "- content: `[{'citations': None, 'text': 'Otters are fascinating semi-aquatic mammals that belong to the Mustelidae family, which also includes weasels, badgers, and wolverines. Here are some key facts about otters:\\n\\nPhysical characteristics:\\n- They have sleek, streamlined bodies adapted for swimming\\n- Dense, water-repellent fur that keeps them warm and dry\\n- Strong tails for steering and propulsion in water\\n- Webbed feet for efficient swimming\\n- Sharp claws and teeth for catching prey\\n\\nTypes of otters:\\n- Sea otters: Largest species, live primarily in ocean waters\\n- River otters: Found in freshwater habitats worldwide\\n- Giant otters: Native to South America, can grow up to 6 feet long\\n\\nBehavior:\\n- Highly intelligent and playful animals\\n- Known for using tools (sea otters use rocks to crack open shellfish)\\n- Social creatures that often live in family groups\\n- Excellent swimmers and divers\\n- Most species are active during the day\\n\\nDiet:\\n- Primarily carnivorous, eating fish, crustaceans, and other aquatic animals\\n- Sea otters particularly enjoy shellfish like clams, mussels, and sea urchins\\n- Some river otters also eat small mammals, birds, and amphibians\\n\\nConservation:\\n- Many otter species are threatened or endangered due to habitat loss, pollution, and hunting\\n- Sea otters are considered a keystone species, helping maintain healthy kelp forests by controlling sea urchin populations\\n\\nOtters are beloved for their playful behavior and charming appearance, making them popular attractions at zoos and aquariums worldwide.', 'type': 'text'}]`\n",
       "- model: `claude-3-7-sonnet-20250219`\n",
       "- role: `assistant`\n",
       "- stop_reason: `end_turn`\n",
       "- stop_sequence: `None`\n",
       "- type: `message`\n",
       "- usage: `{'cache_creation_input_tokens': 6893, 'cache_read_input_tokens': 0, 'input_tokens': 4, 'output_tokens': 361, 'server_tool_use': None}`\n",
       "\n",
       "</details>"
      ],
      "text/plain": [
       "Message(id='msg_015ogBe6MsHWGK4J4aKybqq8', content=[TextBlock(citations=None, text='Otters are fascinating semi-aquatic mammals that belong to the Mustelidae family, which also includes weasels, badgers, and wolverines. Here are some key facts about otters:\\n\\nPhysical characteristics:\\n- They have sleek, streamlined bodies adapted for swimming\\n- Dense, water-repellent fur that keeps them warm and dry\\n- Strong tails for steering and propulsion in water\\n- Webbed feet for efficient swimming\\n- Sharp claws and teeth for catching prey\\n\\nTypes of otters:\\n- Sea otters: Largest species, live primarily in ocean waters\\n- River otters: Found in freshwater habitats worldwide\\n- Giant otters: Native to South America, can grow up to 6 feet long\\n\\nBehavior:\\n- Highly intelligent and playful animals\\n- Known for using tools (sea otters use rocks to crack open shellfish)\\n- Social creatures that often live in family groups\\n- Excellent swimmers and divers\\n- Most species are active during the day\\n\\nDiet:\\n- Primarily carnivorous, eating fish, crustaceans, and other aquatic animals\\n- Sea otters particularly enjoy shellfish like clams, mussels, and sea urchins\\n- Some river otters also eat small mammals, birds, and amphibians\\n\\nConservation:\\n- Many otter species are threatened or endangered due to habitat loss, pollution, and hunting\\n- Sea otters are considered a keystone species, helping maintain healthy kelp forests by controlling sea urchin populations\\n\\nOtters are beloved for their playful behavior and charming appearance, making them popular attractions at zoos and aquariums worldwide.', type='text')], model='claude-3-7-sonnet-20250219', role='assistant', stop_reason='end_turn', stop_sequence=None, type='message', usage=In: 4; Out: 361; Cache create: 6893; Cache read: 0; Total Tokens: 7258; Server tool use (web search requests): 0)"
      ]
     },
     "execution_count": null,
     "metadata": {},
     "output_type": "execute_result"
    }
   ],
   "source": [
    "chat.tools = []\n",
    "pr = 'Tell me about otters'\n",
    "r = chat(pr)\n",
    "r"
   ]
  },
  {
   "cell_type": "code",
   "execution_count": null,
   "id": "3e0d4a21",
   "metadata": {},
   "outputs": [
    {
     "data": {
      "text/markdown": [
       "\n",
       "Python is a versatile, high-level programming language known for its readable syntax and wide application in data science, web development, artificial intelligence, and automation tasks.\n",
       "\n",
       "<details>\n",
       "<summary>Thinking</summary>\n",
       "The request is asking me to write a sentence about Python. This could refer to either the programming language or the snake, but the programming language is a very common topic. I'll write a concise, informative sentence about Python programming language.\n",
       "</details>\n",
       "\n",
       "\n",
       "<details>\n",
       "\n",
       "- id: `msg_013Ugd4ytsFTF7LSeQJhrWrR`\n",
       "- content: `[{'signature': 'ErUBCkYIAxgCIkCabtM7zCu0RsMYFcuqwo9yx10T94X7+RSJo18/HNDS2s555y32OOX1r/A506DCxkFKsGdIRKaHQanErB3CYYxjEgyb/47sG4qcN1lTUjsaDFJ9IFmtHpojLufZ0CIwePt28AtXETLArmIOk4DdxaCDu3N91i4cMBso6yfHBC2Si8dIU5LNvDG6R7GXjKnKKh3PdpOQQSWsoECUCs9aVhcN9jc2DgqAQ5xRPlQWAxgC', 'thinking': \"The request is asking me to write a sentence about Python. This could refer to either the programming language or the snake, but the programming language is a very common topic. I'll write a concise, informative sentence about Python programming language.\", 'type': 'thinking'}, {'citations': None, 'text': 'Python is a versatile, high-level programming language known for its readable syntax and wide application in data science, web development, artificial intelligence, and automation tasks.', 'type': 'text'}]`\n",
       "- model: `claude-3-7-sonnet-20250219`\n",
       "- role: `assistant`\n",
       "- stop_reason: `end_turn`\n",
       "- stop_sequence: `None`\n",
       "- type: `message`\n",
       "- usage: `{'cache_creation_input_tokens': 7286, 'cache_read_input_tokens': 0, 'input_tokens': 10, 'output_tokens': 94, 'server_tool_use': None}`\n",
       "\n",
       "</details>"
      ],
      "text/plain": [
       "Message(id='msg_013Ugd4ytsFTF7LSeQJhrWrR', content=[ThinkingBlock(signature='ErUBCkYIAxgCIkCabtM7zCu0RsMYFcuqwo9yx10T94X7+RSJo18/HNDS2s555y32OOX1r/A506DCxkFKsGdIRKaHQanErB3CYYxjEgyb/47sG4qcN1lTUjsaDFJ9IFmtHpojLufZ0CIwePt28AtXETLArmIOk4DdxaCDu3N91i4cMBso6yfHBC2Si8dIU5LNvDG6R7GXjKnKKh3PdpOQQSWsoECUCs9aVhcN9jc2DgqAQ5xRPlQWAxgC', thinking=\"The request is asking me to write a sentence about Python. This could refer to either the programming language or the snake, but the programming language is a very common topic. I'll write a concise, informative sentence about Python programming language.\", type='thinking'), TextBlock(citations=None, text='Python is a versatile, high-level programming language known for its readable syntax and wide application in data science, web development, artificial intelligence, and automation tasks.', type='text')], model='claude-3-7-sonnet-20250219', role='assistant', stop_reason='end_turn', stop_sequence=None, type='message', usage=In: 10; Out: 94; Cache create: 7286; Cache read: 0; Total Tokens: 7390; Server tool use (web search requests): 0)"
      ]
     },
     "execution_count": null,
     "metadata": {},
     "output_type": "execute_result"
    }
   ],
   "source": [
    "r = chat(\"Write a sentence about Python!\", maxthinktok=1024)\n",
    "r"
   ]
  },
  {
   "cell_type": "code",
   "execution_count": null,
   "id": "2c085d6f",
   "metadata": {},
   "outputs": [
    {
     "data": {
      "text/markdown": [
       "The sum of 100 + 100 is 200.\n",
       "\n",
       "<details>\n",
       "\n",
       "- id: `msg_01BK1XCyfJCaZYQMgHwL7MVe`\n",
       "- content: `[{'citations': None, 'text': 'The sum of 100 + 100 is 200.', 'type': 'text'}]`\n",
       "- model: `claude-3-7-sonnet-20250219`\n",
       "- role: `assistant`\n",
       "- stop_reason: `end_turn`\n",
       "- stop_sequence: `None`\n",
       "- type: `message`\n",
       "- usage: `{'cache_creation_input_tokens': 96, 'cache_read_input_tokens': 7696, 'input_tokens': 6, 'output_tokens': 18, 'server_tool_use': None}`\n",
       "\n",
       "</details>"
      ],
      "text/plain": [
       "Message(id='msg_01BK1XCyfJCaZYQMgHwL7MVe', content=[TextBlock(citations=None, text='The sum of 100 + 100 is 200.', type='text')], model='claude-3-7-sonnet-20250219', role='assistant', stop_reason='end_turn', stop_sequence=None, type='message', usage=In: 6; Out: 18; Cache create: 96; Cache read: 7696; Total Tokens: 7816; Server tool use (web search requests): 0)"
      ]
     },
     "execution_count": null,
     "metadata": {},
     "output_type": "execute_result"
    }
   ],
   "source": [
    "chat.ns = mk_ns(sums)\n",
    "chat.tools = [sums]\n",
    "pr = 'What is 100 + 100?'\n",
    "chat(pr)\n",
    "r = chat()\n",
    "r"
   ]
  },
  {
   "cell_type": "code",
   "execution_count": null,
   "id": "c678ee5b",
   "metadata": {},
   "outputs": [
    {
     "data": {
      "text/markdown": [
       "The sum of 100 + 100 is 200.\n",
       "\n",
       "<details>\n",
       "<summary>History</summary>\n",
       "\n",
       "**user**: What is the weather in San Diego?\n",
       "\n",
       "**assistant**: I'll check the current weather in San Diego for you.\n",
       "\n",
       "Based on the search results, here's the current weather in San Diego:\n",
       "\n",
       "May Gray has returned to San Diego after a record hot weekend, with temperatures dropping dramatically. [^1] \n",
       "\n",
       "Today's (May 13, 2025) expected high temperatures in San Diego are:\n",
       "- Coast: 60-66°F\n",
       "- Inland: 59-66°F\n",
       "- Mountains: 48-60°F\n",
       "- Deserts: 77-80°F [^2]\n",
       "\n",
       "The day is expected to have \"May Gray\" conditions with limited clearing into the afternoon. There might be heavy mist, drizzle, or a few light showers, with the best chance of light rain having been overnight into this morning. [^3]\n",
       "\n",
       "The mountains and desert areas are experiencing gusty winds with a Wind Advisory in effect until 5am Wednesday. West and southwesterly winds of 20 to 35mph with gusts of 40 to 65mph are expected, which may cause blowing dust and dirt leading to poor air quality at times. [^4]\n",
       "\n",
       "The air quality is generally acceptable for most individuals, though sensitive groups may experience minor to moderate symptoms from long-term exposure. [^5]\n",
       "\n",
       "Looking ahead, sunny skies and warming temperatures are expected early next week. [^6]\n",
       "\n",
       "[^1]: https://www.10news.com/weather/san-diegos-weather-forecast-for-may-12-2025-drastic-drop-in-temperatures\n",
       "\t\"May Gray is back in the forecast after record heat this weekend, temperatures are expected to plummet up to 40 degrees by Tuesday!A cooling trend ramp...\"\n",
       "\n",
       "[^2]: https://www.10news.com/weather/san-diegos-weather-forecast-for-may-12-2025-drastic-drop-in-temperatures\n",
       "\t\"Tuesday's Highs: Coast: 60-66° Inland: 59-66° Mountains: 48-60° Deserts: 77-80° · Follow ABC 10News Meteorologist Megan Parry on Facebook at Megan Par...\"\n",
       "\n",
       "[^3]: https://www.10news.com/weather/san-diegos-weather-forecast-for-may-12-2025-drastic-drop-in-temperatures\n",
       "\t\"... Tuesday will bring a return of May Gray with limited clearing into the afternoon and anything from heavy mist, drizzle to a few light showers. The...\"\n",
       "\n",
       "[^4]: https://www.10news.com/weather/san-diegos-weather-forecast-for-may-12-2025-drastic-drop-in-temperatures\n",
       "\t\"Gusty winds will continue to target the mountains and deserts where a Wind Advisory is in effect until 5am Wednesday. Expect west and southwesterly wi...\"\n",
       "\n",
       "[^5]: https://www.accuweather.com/en/us/san-diego/92101/weather-forecast/347628\n",
       "\t\"The air quality is generally acceptable for most individuals. However, sensitive groups may experience minor to moderate symptoms from long-term expos...\"\n",
       "\n",
       "[^6]: https://www.10news.com/weather/san-diegos-weather-forecast-for-may-12-2025-drastic-drop-in-temperatures\n",
       "\t\"Sunny skies and warming temperatures will be the trend early next week. \"\n",
       "\n",
       "**user**: Tell me about otters\n",
       "\n",
       "**assistant**: Otters are fascinating semi-aquatic mammals that belong to the Mustelidae family, which also includes weasels, badgers, and wolverines. Here are some key facts about otters:\n",
       "\n",
       "Physical characteristics:\n",
       "- They have sleek, streamlined bodies adapted for swimming\n",
       "- Dense, water-repellent fur that keeps them warm and dry\n",
       "- Strong tails for steering and propulsion in water\n",
       "- Webbed feet for efficient swimming\n",
       "- Sharp claws and teeth for catching prey\n",
       "\n",
       "Types of otters:\n",
       "- Sea otters: Largest species, live primarily in ocean waters\n",
       "- River otters: Found in freshwater habitats worldwide\n",
       "- Giant otters: Native to South America, can grow up to 6 feet long\n",
       "\n",
       "Behavior:\n",
       "- Highly intelligent and playful animals\n",
       "- Known for using tools (sea otters use rocks to crack open shellfish)\n",
       "- Social creatures that often live in family groups\n",
       "- Excellent swimmers and divers\n",
       "- Most species are active during the day\n",
       "\n",
       "Diet:\n",
       "- Primarily carnivorous, eating fish, crustaceans, and other aquatic animals\n",
       "- Sea otters particularly enjoy shellfish like clams, mussels, and sea urchins\n",
       "- Some river otters also eat small mammals, birds, and amphibians\n",
       "\n",
       "Conservation:\n",
       "- Many otter species are threatened or endangered due to habitat loss, pollution, and hunting\n",
       "- Sea otters are considered a keystone species, helping maintain healthy kelp forests by controlling sea urchin populations\n",
       "\n",
       "Otters are beloved for their playful behavior and charming appearance, making them popular attractions at zoos and aquariums worldwide.\n",
       "\n",
       "**user**: Write a sentence about Python!\n",
       "\n",
       "**assistant**: Python is a versatile, high-level programming language known for its readable syntax and wide application in data science, web development, artificial intelligence, and automation tasks.\n",
       "\n",
       "**user**: What is 100 + 100?\n",
       "\n",
       "**assistant**: I'll calculate the sum of 100 + 100 for you.\n",
       "\n",
       "**user**: 200\n",
       "\n",
       "**assistant**: The sum of 100 + 100 is 200.\n",
       "</details>\n",
       "\n",
       "| Metric | Count | Cost (USD) |\n",
       "|--------|------:|-----:|\n",
       "| Input tokens | 35 | 0.000105 |\n",
       "| Output tokens | 1,009 | 0.015135 |\n",
       "| Cache tokens | 41,538 | 0.088261 |\n",
       "| Server tool use | 1 | 0.010000 |\n",
       "| **Total** | **42,582** | **$0.113501** |"
      ],
      "text/plain": [
       "<claudette.core.Chat>"
      ]
     },
     "execution_count": null,
     "metadata": {},
     "output_type": "execute_result"
    }
   ],
   "source": [
    "chat"
   ]
  },
  {
   "cell_type": "code",
   "execution_count": null,
   "id": "8b0f38c1",
   "metadata": {},
   "outputs": [
    {
     "data": {
      "text/plain": [
       "(0.11350135,\n",
       " In: 35; Out: 1009; Cache create: 21971; Cache read: 19567; Total Tokens: 42582; Server tool use (web search requests): 1)"
      ]
     },
     "execution_count": null,
     "metadata": {},
     "output_type": "execute_result"
    }
   ],
   "source": [
    "chat.cost, chat.use"
   ]
  },
  {
   "cell_type": "markdown",
   "id": "b1580f5c",
   "metadata": {},
   "source": [
    "## Third party providers"
   ]
  },
  {
   "cell_type": "markdown",
   "id": "bd88f878",
   "metadata": {},
   "source": [
    "### Amazon Bedrock"
   ]
  },
  {
   "cell_type": "markdown",
   "id": "a6ecba86",
   "metadata": {},
   "source": [
    "These are Amazon's current Claude models:"
   ]
  },
  {
   "cell_type": "code",
   "execution_count": null,
   "id": "81d16826",
   "metadata": {},
   "outputs": [
    {
     "data": {
      "text/plain": [
       "['claude-3-5-haiku-20241022',\n",
       " 'claude-3-7-sonnet-20250219',\n",
       " 'anthropic.claude-3-opus-20240229-v1:0',\n",
       " 'anthropic.claude-3-5-sonnet-20241022-v2:0']"
      ]
     },
     "execution_count": null,
     "metadata": {},
     "output_type": "execute_result"
    }
   ],
   "source": [
    "models_aws"
   ]
  },
  {
   "cell_type": "markdown",
   "id": "7a194f45",
   "metadata": {},
   "source": [
    ":::{.callout-note}\n",
    "\n",
    "`anthropic` at version 0.34.2 seems not to install `boto3` as a dependency. You may need to do a `pip install boto3` or the creation of the `Client` below fails.\n",
    "\n",
    ":::"
   ]
  },
  {
   "cell_type": "markdown",
   "id": "9b8b2bc4",
   "metadata": {},
   "source": [
    "Provided `boto3` is installed, we otherwise don't need any extra code to support Amazon Bedrock -- we just have to set up the approach client:"
   ]
  },
  {
   "cell_type": "code",
   "execution_count": null,
   "id": "08cb7585",
   "metadata": {},
   "outputs": [],
   "source": [
    "ab = AnthropicBedrock(\n",
    "    aws_access_key=os.environ['AWS_ACCESS_KEY'],\n",
    "    aws_secret_key=os.environ['AWS_SECRET_KEY'],\n",
    ")\n",
    "client = Client(models_aws[-1], ab)"
   ]
  },
  {
   "cell_type": "code",
   "execution_count": null,
   "id": "f1f2f214",
   "metadata": {},
   "outputs": [],
   "source": [
    "chat = Chat(cli=client)"
   ]
  },
  {
   "cell_type": "code",
   "execution_count": null,
   "id": "ec54a422",
   "metadata": {},
   "outputs": [],
   "source": [
    "chat(\"I'm Jeremy\")"
   ]
  },
  {
   "cell_type": "markdown",
   "id": "1b331146",
   "metadata": {},
   "source": [
    "### Google Vertex"
   ]
  },
  {
   "cell_type": "code",
   "execution_count": null,
   "id": "fdb46839",
   "metadata": {},
   "outputs": [],
   "source": [
    "models_goog"
   ]
  },
  {
   "cell_type": "code",
   "execution_count": null,
   "id": "30921ab4",
   "metadata": {},
   "outputs": [],
   "source": [
    "from anthropic import AnthropicVertex\n",
    "import google.auth"
   ]
  },
  {
   "cell_type": "code",
   "execution_count": null,
   "id": "c00ef664",
   "metadata": {},
   "outputs": [],
   "source": [
    "project_id = google.auth.default()[1]\n",
    "region = \"us-east5\"\n",
    "gv = AnthropicVertex(project_id=project_id, region=region)\n",
    "client = Client(models_goog[-1], gv)"
   ]
  },
  {
   "cell_type": "code",
   "execution_count": null,
   "id": "7d0481b5",
   "metadata": {},
   "outputs": [],
   "source": [
    "chat = Chat(cli=client)"
   ]
  },
  {
   "cell_type": "code",
   "execution_count": null,
   "id": "11006ae0",
   "metadata": {},
   "outputs": [],
   "source": [
    "chat(\"I'm Jeremy\")"
   ]
  },
  {
   "cell_type": "markdown",
   "id": "94ec4289",
   "metadata": {},
   "source": [
    "## Export -"
   ]
  },
  {
   "cell_type": "code",
   "execution_count": null,
   "id": "1e9ee5c1",
   "metadata": {},
   "outputs": [],
   "source": [
    "#|hide\n",
    "#|eval: false\n",
    "from nbdev.doclinks import nbdev_export\n",
    "nbdev_export()"
   ]
  },
  {
   "cell_type": "code",
   "execution_count": null,
   "id": "12a64c67",
   "metadata": {},
   "outputs": [],
   "source": []
  }
 ],
 "metadata": {
  "kernelspec": {
   "display_name": "python3",
   "language": "python",
   "name": "python3"
  }
 },
 "nbformat": 4,
 "nbformat_minor": 5
}
