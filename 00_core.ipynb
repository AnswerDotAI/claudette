{
 "cells": [
  {
   "cell_type": "code",
   "execution_count": null,
   "id": "efe78920",
   "metadata": {},
   "outputs": [],
   "source": [
    "#|default_exp core"
   ]
  },
  {
   "cell_type": "markdown",
   "id": "3d773712-12fe-440e-891f-36f59666dfde",
   "metadata": {},
   "source": [
    "# Claudette's source"
   ]
  },
  {
   "cell_type": "markdown",
   "id": "c47b5d38",
   "metadata": {},
   "source": [
    "This is the 'literate' source code for Claudette. You can view the fully rendered version of the notebook [here](https://claudette.answer.ai/core.html), or you can clone the git repo and run the [interactive notebook](https://github.com/AnswerDotAI/claudette/blob/main/00_core.ipynb) in Jupyter. The notebook is converted the [Python module claudette/core.py](https://github.com/AnswerDotAI/claudette/blob/main/claudette/core.py) using [nbdev](https://nbdev.fast.ai/). The goal of this source code is to both create the Python module, and also to teach the reader *how* it is created, without assuming much existing knowledge about Claude's API.\n",
    "\n",
    "Most of the time you'll see that we write some source code *first*, and then a description or discussion of it *afterwards*."
   ]
  },
  {
   "cell_type": "markdown",
   "id": "ff6f6471-8061-4fdd-85a1-25fdc27c5cf3",
   "metadata": {},
   "source": [
    "## Setup"
   ]
  },
  {
   "cell_type": "code",
   "execution_count": null,
   "id": "f1ad998e-4bb1-4bed-abf4-6e8606cb2453",
   "metadata": {},
   "outputs": [],
   "source": [
    "import os\n",
    "# os.environ['ANTHROPIC_LOG'] = 'debug'"
   ]
  },
  {
   "cell_type": "markdown",
   "id": "5b16f396",
   "metadata": {},
   "source": [
    "To print every HTTP request and response in full, uncomment the above line. This functionality is provided by Anthropic's SDK."
   ]
  },
  {
   "cell_type": "code",
   "execution_count": null,
   "id": "033c76fd",
   "metadata": {},
   "outputs": [],
   "source": [
    "#| export\n",
    "import inspect, typing, json\n",
    "from collections import abc\n",
    "try: from IPython import display\n",
    "except: display=None\n",
    "from typing import get_type_hints\n",
    "from functools import wraps\n",
    "\n",
    "from anthropic import Anthropic, AnthropicBedrock, AnthropicVertex\n",
    "from anthropic.types import (Usage, TextBlock, ServerToolUseBlock,\n",
    "                             WebSearchToolResultBlock, Message, ToolUseBlock,\n",
    "                             ThinkingBlock, ServerToolUsage)\n",
    "from anthropic.resources import messages\n",
    "\n",
    "import toolslm\n",
    "from toolslm.funccall import *\n",
    "\n",
    "from fastcore.meta import delegates\n",
    "from fastcore.utils import *\n",
    "from msglm import mk_msg_anthropic as mk_msg, mk_msgs_anthropic as mk_msgs"
   ]
  },
  {
   "cell_type": "code",
   "execution_count": null,
   "id": "13866a72",
   "metadata": {},
   "outputs": [],
   "source": [
    "#| hide\n",
    "from nbdev import show_doc\n",
    "\n",
    "# Used to show available models from the anthropic SDK\n",
    "from anthropic.types import Model\n",
    "from claudette.text_editor import *\n",
    "from typing import get_args\n",
    "from datetime import datetime\n",
    "from pprint import pprint\n",
    "\n",
    "import warnings\n",
    "\n",
    "warnings.filterwarnings(\"ignore\", message=\"Pydantic serializer warnings\")"
   ]
  },
  {
   "cell_type": "code",
   "execution_count": null,
   "id": "c1cefa1e",
   "metadata": {},
   "outputs": [],
   "source": [
    "#| export\n",
    "_all_ = ['mk_msg', 'mk_msgs']"
   ]
  },
  {
   "cell_type": "code",
   "execution_count": null,
   "id": "f5fa6b92",
   "metadata": {},
   "outputs": [],
   "source": [
    "#| export\n",
    "empty = inspect.Parameter.empty"
   ]
  },
  {
   "cell_type": "markdown",
   "id": "9c3c2197",
   "metadata": {},
   "source": [
    ":::{.callout-tip}\n",
    "\n",
    "If you're reading the rendered version of this notebook, you'll see an \"Exported source\" collapsible widget below. If you're reading the source notebook directly, you'll see `#| exports` at the top of the cell. These show that this piece of code will be exported into the python module that this notebook creates. No other code will be included -- any other code in this notebook is just for demonstration, documentation, and testing.\n",
    "\n",
    "You can toggle expanding/collapsing the source code of all exported sections by using the `</> Code` menu in the top right of the rendered notebook page.\n",
    "\n",
    ":::"
   ]
  },
  {
   "cell_type": "code",
   "execution_count": null,
   "id": "0fff8869",
   "metadata": {},
   "outputs": [],
   "source": [
    "#| exports\n",
    "\n",
    "model_types = {\n",
    "    # Anthropic\n",
    "    'claude-opus-4-20250514': 'opus',\n",
    "    'claude-sonnet-4-20250514': 'sonnet',\n",
    "    'claude-3-opus-20240229': 'opus-3',\n",
    "    'claude-3-7-sonnet-20250219': 'sonnet-3-7',\n",
    "    'claude-3-5-sonnet-20241022': 'sonnet-3-5',\n",
    "    'claude-3-haiku-20240307': 'haiku-3',\n",
    "    'claude-3-5-haiku-20241022': 'haiku-3-5',\n",
    "    # AWS\n",
    "    'anthropic.claude-3-opus-20240229-v1:0': 'opus',\n",
    "    'anthropic.claude-3-5-sonnet-20241022-v2:0': 'sonnet',\n",
    "    'anthropic.claude-3-sonnet-20240229-v1:0': 'sonnet',\n",
    "    'anthropic.claude-3-haiku-20240307-v1:0': 'haiku',\n",
    "    # Google\n",
    "    'claude-3-opus@20240229': 'opus',\n",
    "    'claude-3-5-sonnet-v2@20241022': 'sonnet',\n",
    "    'claude-3-sonnet@20240229': 'sonnet',\n",
    "    'claude-3-haiku@20240307': 'haiku',\n",
    "}\n",
    "\n",
    "all_models = list(model_types)"
   ]
  },
  {
   "cell_type": "code",
   "execution_count": null,
   "id": "f237bd2e",
   "metadata": {},
   "outputs": [
    {
     "data": {
      "text/plain": [
       "typing.Union[typing.Literal['claude-3-7-sonnet-latest', 'claude-3-7-sonnet-20250219', 'claude-3-5-haiku-latest', 'claude-3-5-haiku-20241022', 'claude-sonnet-4-20250514', 'claude-sonnet-4-0', 'claude-4-sonnet-20250514', 'claude-3-5-sonnet-latest', 'claude-3-5-sonnet-20241022', 'claude-3-5-sonnet-20240620', 'claude-opus-4-0', 'claude-opus-4-20250514', 'claude-4-opus-20250514', 'claude-3-opus-latest', 'claude-3-opus-20240229', 'claude-3-sonnet-20240229', 'claude-3-haiku-20240307', 'claude-2.1', 'claude-2.0'], str]"
      ]
     },
     "execution_count": null,
     "metadata": {},
     "output_type": "execute_result"
    }
   ],
   "source": [
    "#|hide\n",
    "\n",
    "# Full list of models via the anthropic SDK for reference. Not all models are surfaced by Claudette.\n",
    "Model"
   ]
  },
  {
   "cell_type": "code",
   "execution_count": null,
   "id": "4f03dcad",
   "metadata": {},
   "outputs": [],
   "source": [
    "#| export\n",
    "models = all_models[:5]"
   ]
  },
  {
   "cell_type": "code",
   "execution_count": null,
   "id": "c8490b08",
   "metadata": {},
   "outputs": [
    {
     "data": {
      "text/plain": [
       "['claude-opus-4-20250514',\n",
       " 'claude-sonnet-4-20250514',\n",
       " 'claude-3-opus-20240229',\n",
       " 'claude-3-7-sonnet-20250219',\n",
       " 'claude-3-5-sonnet-20241022']"
      ]
     },
     "execution_count": null,
     "metadata": {},
     "output_type": "execute_result"
    }
   ],
   "source": [
    "models"
   ]
  },
  {
   "cell_type": "code",
   "execution_count": null,
   "id": "53a6d47a",
   "metadata": {},
   "outputs": [],
   "source": [
    "#| export\n",
    "models_aws = ['claude-3-5-haiku-20241022',\n",
    " 'claude-3-7-sonnet-20250219',\n",
    " 'anthropic.claude-3-opus-20240229-v1:0',\n",
    " 'anthropic.claude-3-5-sonnet-20241022-v2:0']"
   ]
  },
  {
   "cell_type": "code",
   "execution_count": null,
   "id": "f3ed4f95",
   "metadata": {},
   "outputs": [],
   "source": [
    "#| export\n",
    "models_goog = ['anthropic.claude-3-sonnet-20240229-v1:0',\n",
    " 'anthropic.claude-3-haiku-20240307-v1:0',\n",
    " 'claude-3-opus@20240229',\n",
    " 'claude-3-5-sonnet-v2@20241022',\n",
    " 'claude-3-sonnet@20240229',\n",
    " 'claude-3-haiku@20240307']"
   ]
  },
  {
   "cell_type": "code",
   "execution_count": null,
   "id": "669696aa",
   "metadata": {},
   "outputs": [],
   "source": [
    "#| exports\n",
    "text_only_models = ('claude-3-5-haiku-20241022',)"
   ]
  },
  {
   "cell_type": "code",
   "execution_count": null,
   "id": "2411f28d",
   "metadata": {},
   "outputs": [],
   "source": [
    "#| exports\n",
    "has_streaming_models = set(all_models)\n",
    "has_system_prompt_models = set(all_models)\n",
    "has_temperature_models = set(all_models)\n",
    "has_extended_thinking_models = {'claude-opus-4-20250514', 'claude-sonnet-4-20250514', 'claude-3-7-sonnet-20250219'}"
   ]
  },
  {
   "cell_type": "code",
   "execution_count": null,
   "id": "980bfdfb",
   "metadata": {},
   "outputs": [
    {
     "data": {
      "text/plain": [
       "{'claude-3-7-sonnet-20250219',\n",
       " 'claude-opus-4-20250514',\n",
       " 'claude-sonnet-4-20250514'}"
      ]
     },
     "execution_count": null,
     "metadata": {},
     "output_type": "execute_result"
    }
   ],
   "source": [
    "has_extended_thinking_models"
   ]
  },
  {
   "cell_type": "code",
   "execution_count": null,
   "id": "12a68d54",
   "metadata": {},
   "outputs": [],
   "source": [
    "#| exports\n",
    "\n",
    "def can_stream(m): return m in has_streaming_models\n",
    "def can_set_system_prompt(m): return m in has_system_prompt_models\n",
    "def can_set_temperature(m): return m in has_temperature_models\n",
    "def can_use_extended_thinking(m): return m in has_extended_thinking_models"
   ]
  },
  {
   "cell_type": "markdown",
   "id": "0dd0ba8f",
   "metadata": {},
   "source": [
    "We include these functions to provide a uniform library interface with cosette since openai models such as o1 do not have many of these capabilities."
   ]
  },
  {
   "cell_type": "code",
   "execution_count": null,
   "id": "55036062",
   "metadata": {},
   "outputs": [],
   "source": [
    "assert can_stream('claude-3-5-sonnet-20241022') and can_set_system_prompt('claude-3-5-sonnet-20241022') and can_set_temperature('claude-3-5-sonnet-20241022')"
   ]
  },
  {
   "cell_type": "markdown",
   "id": "ba6c7f48",
   "metadata": {},
   "source": [
    "These are the current versions and [prices](https://www.anthropic.com/pricing#anthropic-api) of Anthropic's models at the time of writing."
   ]
  },
  {
   "cell_type": "code",
   "execution_count": null,
   "id": "dacf2bd2",
   "metadata": {},
   "outputs": [
    {
     "data": {
      "text/plain": [
       "'claude-sonnet-4-20250514'"
      ]
     },
     "execution_count": null,
     "metadata": {},
     "output_type": "execute_result"
    }
   ],
   "source": [
    "model = models[1]; model"
   ]
  },
  {
   "cell_type": "markdown",
   "id": "71985a9c",
   "metadata": {},
   "source": [
    "For examples, we'll use the latest Sonnet, since it's awesome."
   ]
  },
  {
   "cell_type": "markdown",
   "id": "863d4d81",
   "metadata": {},
   "source": [
    "## Antropic SDK"
   ]
  },
  {
   "cell_type": "code",
   "execution_count": null,
   "id": "70b53a51",
   "metadata": {},
   "outputs": [],
   "source": [
    "cli = Anthropic()"
   ]
  },
  {
   "cell_type": "markdown",
   "id": "23055b40",
   "metadata": {},
   "source": [
    "This is what Anthropic's SDK provides for interacting with Python. To use it, pass it a list of *messages*, with *content* and a *role*. The roles should alternate between *user* and *assistant*."
   ]
  },
  {
   "cell_type": "markdown",
   "id": "b2db9466",
   "metadata": {},
   "source": [
    ":::{.callout-tip}\n",
    "\n",
    "After the code below you'll see an indented section with an orange vertical line on the left. This is used to show the *result* of running the code above. Because the code is running in a Jupyter Notebook, we don't have to use `print` to display results, we can just type the expression directly, as we do with `r` here.\n",
    "\n",
    ":::"
   ]
  },
  {
   "cell_type": "code",
   "execution_count": null,
   "id": "6ec40731",
   "metadata": {},
   "outputs": [
    {
     "data": {
      "text/markdown": [
       "Hello Jeremy! Nice to meet you. How are you doing today?\n",
       "\n",
       "<details>\n",
       "\n",
       "- id: `msg_01QeJQQgvbTUVuj1veGPxVJm`\n",
       "- content: `[{'citations': None, 'text': 'Hello Jeremy! Nice to meet you. How are you doing today?', 'type': 'text'}]`\n",
       "- model: `claude-sonnet-4-20250514`\n",
       "- role: `assistant`\n",
       "- stop_reason: `end_turn`\n",
       "- stop_sequence: `None`\n",
       "- type: `message`\n",
       "- usage: `{'cache_creation_input_tokens': 0, 'cache_read_input_tokens': 0, 'input_tokens': 10, 'output_tokens': 17, 'server_tool_use': None, 'service_tier': 'standard'}`\n",
       "\n",
       "</details>"
      ],
      "text/plain": [
       "Message(id='msg_01QeJQQgvbTUVuj1veGPxVJm', content=[TextBlock(citations=None, text='Hello Jeremy! Nice to meet you. How are you doing today?', type='text')], model='claude-sonnet-4-20250514', role='assistant', stop_reason='end_turn', stop_sequence=None, type='message', usage=In: 10; Out: 17; Cache create: 0; Cache read: 0; Total Tokens: 27; Server tool use (web search requests): 0)"
      ]
     },
     "execution_count": null,
     "metadata": {},
     "output_type": "execute_result"
    }
   ],
   "source": [
    "m = {'role': 'user', 'content': \"I'm Jeremy\"}\n",
    "r = cli.messages.create(messages=[m], model=model, max_tokens=100)\n",
    "r"
   ]
  },
  {
   "cell_type": "markdown",
   "id": "d6359e1a",
   "metadata": {},
   "source": [
    "### Formatting output"
   ]
  },
  {
   "cell_type": "markdown",
   "id": "865c40a9",
   "metadata": {},
   "source": [
    "That output is pretty long and hard to read, so let's clean it up. We'll start by pulling out the `Content` part of the message.\n",
    "To do that, we're going to write our first function which will be included to the `claudette/core.py` module."
   ]
  },
  {
   "cell_type": "markdown",
   "id": "e42e5d44",
   "metadata": {},
   "source": [
    ":::{.callout-tip}\n",
    "\n",
    "This is the first exported public function or class we're creating (the previous export was of a variable). In the rendered version of the notebook for these you'll see 4 things, in this order (unless the symbol starts with a single `_`, which indicates it's *private*):\n",
    "\n",
    "- The signature (with the symbol name as a heading, with a horizontal rule above)\n",
    "- A table of paramater docs (if provided)\n",
    "- The doc string (in italics).\n",
    "- The source code (in a collapsible \"Exported source\" block)\n",
    "\n",
    "After that, we generally provide a bit more detail on what we've created, and why, along with a sample usage.\n",
    "\n",
    ":::"
   ]
  },
  {
   "cell_type": "code",
   "execution_count": null,
   "id": "eba620ce",
   "metadata": {},
   "outputs": [],
   "source": [
    "#| exports\n",
    "def _type(x):\n",
    "    try: return x.type\n",
    "    except AttributeError: return x.get('type')\n",
    "\n",
    "def find_block(r:abc.Mapping, # The message to look in\n",
    "               blk_type:type|str=TextBlock  # The type of block to find\n",
    "              ):\n",
    "    \"Find the first block of type `blk_type` in `r.content`.\"\n",
    "    f = (lambda x:_type(x)==blk_type) if isinstance(blk_type,str) else (lambda x:isinstance(x,blk_type))\n",
    "    return first(o for o in r.content if f(o))"
   ]
  },
  {
   "cell_type": "markdown",
   "id": "1fa93ca1",
   "metadata": {},
   "source": [
    "This makes it easier to grab the needed parts of Claude's responses, which can include multiple pieces of content. By default, we look for the first text block. That will generally have the content we want to display."
   ]
  },
  {
   "cell_type": "code",
   "execution_count": null,
   "id": "10af0e65",
   "metadata": {},
   "outputs": [
    {
     "data": {
      "text/plain": [
       "TextBlock(citations=None, text='Hello Jeremy! Nice to meet you. How are you doing today?', type='text')"
      ]
     },
     "execution_count": null,
     "metadata": {},
     "output_type": "execute_result"
    }
   ],
   "source": [
    "find_block(r)"
   ]
  },
  {
   "cell_type": "code",
   "execution_count": null,
   "id": "ae99799d",
   "metadata": {},
   "outputs": [],
   "source": [
    "def contents(r):\n",
    "    \"Helper to get the contents from Claude response `r`.\"\n",
    "    blk = find_block(r)\n",
    "    if not blk and r.content: blk = r.content[0]\n",
    "    return blk.text.strip() if hasattr(blk,'text') else str(blk)"
   ]
  },
  {
   "cell_type": "markdown",
   "id": "ffb59427",
   "metadata": {},
   "source": [
    "For display purposes, we often just want to show the text itself."
   ]
  },
  {
   "cell_type": "code",
   "execution_count": null,
   "id": "6d5f2107",
   "metadata": {},
   "outputs": [
    {
     "data": {
      "text/plain": [
       "'Hello Jeremy! Nice to meet you. How are you doing today?'"
      ]
     },
     "execution_count": null,
     "metadata": {},
     "output_type": "execute_result"
    }
   ],
   "source": [
    "contents(r)"
   ]
  },
  {
   "cell_type": "code",
   "execution_count": null,
   "id": "17924d0c",
   "metadata": {},
   "outputs": [],
   "source": [
    "#| exports\n",
    "@patch\n",
    "def _repr_markdown_(self:(Message)):\n",
    "    det = '\\n- '.join(f'{k}: `{v}`' for k,v in self.model_dump().items())\n",
    "    cts = re.sub(r'\\$', '&#36;', contents(self))  # escape `$` for jupyter latex\n",
    "    return f\"\"\"{cts}\n",
    "\n",
    "<details>\n",
    "\n",
    "- {det}\n",
    "\n",
    "</details>\"\"\""
   ]
  },
  {
   "cell_type": "markdown",
   "id": "3764d112",
   "metadata": {},
   "source": [
    "Jupyter looks for a `_repr_markdown_` method in displayed objects; we add this in order to display just the content text, and collapse full details into a hideable section. Note that `patch` is from [fastcore](https://fastcore.fast.ai/), and is used to add (or replace) functionality in an existing class. We pass the class(es) that we want to patch as type annotations to `self`. In this case, `_repr_markdown_` is being added to Anthropic's `Message` class, so when we display the message now we just see the contents, and the details are hidden away in a collapsible details block."
   ]
  },
  {
   "cell_type": "code",
   "execution_count": null,
   "id": "cfd85eeb",
   "metadata": {},
   "outputs": [
    {
     "data": {
      "text/markdown": [
       "Hello Jeremy! Nice to meet you. How are you doing today?\n",
       "\n",
       "<details>\n",
       "\n",
       "- id: `msg_01QeJQQgvbTUVuj1veGPxVJm`\n",
       "- content: `[{'citations': None, 'text': 'Hello Jeremy! Nice to meet you. How are you doing today?', 'type': 'text'}]`\n",
       "- model: `claude-sonnet-4-20250514`\n",
       "- role: `assistant`\n",
       "- stop_reason: `end_turn`\n",
       "- stop_sequence: `None`\n",
       "- type: `message`\n",
       "- usage: `{'cache_creation_input_tokens': 0, 'cache_read_input_tokens': 0, 'input_tokens': 10, 'output_tokens': 17, 'server_tool_use': None, 'service_tier': 'standard'}`\n",
       "\n",
       "</details>"
      ],
      "text/plain": [
       "Message(id='msg_01QeJQQgvbTUVuj1veGPxVJm', content=[TextBlock(citations=None, text='Hello Jeremy! Nice to meet you. How are you doing today?', type='text')], model='claude-sonnet-4-20250514', role='assistant', stop_reason='end_turn', stop_sequence=None, type='message', usage=In: 10; Out: 17; Cache create: 0; Cache read: 0; Total Tokens: 27; Server tool use (web search requests): 0)"
      ]
     },
     "execution_count": null,
     "metadata": {},
     "output_type": "execute_result"
    }
   ],
   "source": [
    "r"
   ]
  },
  {
   "cell_type": "markdown",
   "id": "8615447e",
   "metadata": {},
   "source": [
    "One key part of the response is the `usage` key, which tells us how many tokens we used by returning a `Usage` object.\n",
    "\n",
    "We'll add some helpers to make things a bit cleaner for creating and formatting these objects."
   ]
  },
  {
   "cell_type": "code",
   "execution_count": null,
   "id": "10c7466f",
   "metadata": {},
   "outputs": [
    {
     "data": {
      "text/plain": [
       "In: 10; Out: 17; Cache create: 0; Cache read: 0; Total Tokens: 27; Server tool use (web search requests): 0"
      ]
     },
     "execution_count": null,
     "metadata": {},
     "output_type": "execute_result"
    }
   ],
   "source": [
    "r.usage"
   ]
  },
  {
   "cell_type": "code",
   "execution_count": null,
   "id": "56d7e83f",
   "metadata": {},
   "outputs": [],
   "source": [
    "#| exports\n",
    "def server_tool_usage(web_search_requests=0):\n",
    "    'Little helper to create a server tool usage object'\n",
    "    return ServerToolUsage(web_search_requests=web_search_requests)"
   ]
  },
  {
   "cell_type": "code",
   "execution_count": null,
   "id": "b1a24f68",
   "metadata": {},
   "outputs": [],
   "source": [
    "#| exports\n",
    "def usage(inp=0, # input tokens\n",
    "          out=0,  # Output tokens\n",
    "          cache_create=0, # Cache creation tokens\n",
    "          cache_read=0, # Cache read tokens\n",
    "          server_tool_use=server_tool_usage() # server tool use\n",
    "         ):\n",
    "    'Slightly more concise version of `Usage`.'\n",
    "    return Usage(input_tokens=inp, output_tokens=out, cache_creation_input_tokens=cache_create,\n",
    "                 cache_read_input_tokens=cache_read, server_tool_use=server_tool_use)"
   ]
  },
  {
   "cell_type": "markdown",
   "id": "2184ec7f",
   "metadata": {},
   "source": [
    "The constructor provided by Anthropic is rather verbose, so we clean it up a bit, using a lowercase version of the name."
   ]
  },
  {
   "cell_type": "code",
   "execution_count": null,
   "id": "a7e52afd",
   "metadata": {},
   "outputs": [
    {
     "data": {
      "text/plain": [
       "In: 5; Out: 0; Cache create: 0; Cache read: 0; Total Tokens: 5; Server tool use (web search requests): 0"
      ]
     },
     "execution_count": null,
     "metadata": {},
     "output_type": "execute_result"
    }
   ],
   "source": [
    "usage(5)"
   ]
  },
  {
   "cell_type": "code",
   "execution_count": null,
   "id": "2db64da5",
   "metadata": {},
   "outputs": [],
   "source": [
    "#| exports\n",
    "def _dgetattr(o,s,d): \n",
    "    \"Like getattr, but returns the default if the result is None\"\n",
    "    return getattr(o,s,d) or d\n",
    "\n",
    "@patch(as_prop=True)\n",
    "def total(self:Usage): return self.input_tokens+self.output_tokens+_dgetattr(self, \"cache_creation_input_tokens\",0)+_dgetattr(self, \"cache_read_input_tokens\",0)"
   ]
  },
  {
   "cell_type": "markdown",
   "id": "5363afa4",
   "metadata": {},
   "source": [
    "Adding a `total` property to `Usage` makes it easier to see how many tokens we've used up altogether."
   ]
  },
  {
   "cell_type": "code",
   "execution_count": null,
   "id": "74553203",
   "metadata": {},
   "outputs": [
    {
     "data": {
      "text/plain": [
       "6"
      ]
     },
     "execution_count": null,
     "metadata": {},
     "output_type": "execute_result"
    }
   ],
   "source": [
    "usage(5,1).total"
   ]
  },
  {
   "cell_type": "code",
   "execution_count": null,
   "id": "27468180",
   "metadata": {},
   "outputs": [],
   "source": [
    "#| exports\n",
    "@patch\n",
    "def __repr__(self:Usage):\n",
    "    io_toks = f'In: {self.input_tokens}; Out: {self.output_tokens}'\n",
    "    cache_toks = f'Cache create: {_dgetattr(self, \"cache_creation_input_tokens\",0)}; Cache read: {_dgetattr(self, \"cache_read_input_tokens\",0)}'\n",
    "    server_tool_use = _dgetattr(self, \"server_tool_use\",server_tool_usage())\n",
    "    server_tool_use_str = f'Server tool use (web search requests): {server_tool_use.web_search_requests}'\n",
    "    total_tok = f'Total Tokens: {self.total}'\n",
    "    return f'{io_toks}; {cache_toks}; {total_tok}; {server_tool_use_str}'"
   ]
  },
  {
   "cell_type": "markdown",
   "id": "dbbf7024",
   "metadata": {},
   "source": [
    "In python, patching `__repr__` lets us change how an object is displayed. (More generally, methods starting and ending in `__` in Python are called `dunder` methods, and have some `magic` behavior -- such as, in this case, changing how an object is displayed.) We won't be directly displaying ServerToolUsage's, so we can handle its display behavior in the same Usage `__repr__`"
   ]
  },
  {
   "cell_type": "code",
   "execution_count": null,
   "id": "b8af5068",
   "metadata": {},
   "outputs": [
    {
     "data": {
      "text/plain": [
       "In: 5; Out: 0; Cache create: 0; Cache read: 0; Total Tokens: 5; Server tool use (web search requests): 0"
      ]
     },
     "execution_count": null,
     "metadata": {},
     "output_type": "execute_result"
    }
   ],
   "source": [
    "usage(5)"
   ]
  },
  {
   "cell_type": "code",
   "execution_count": null,
   "id": "4a9886af",
   "metadata": {},
   "outputs": [],
   "source": [
    "#| exports\n",
    "@patch\n",
    "def __add__(self:ServerToolUsage, b):\n",
    "    \"Add together each of the server tool use counts\"\n",
    "    return ServerToolUsage(web_search_requests=self.web_search_requests+b.web_search_requests)"
   ]
  },
  {
   "cell_type": "markdown",
   "id": "a8918938",
   "metadata": {},
   "source": [
    "And, patching `__add__` lets `+` work on a `ServerToolUsage` as well as a `Usage` object."
   ]
  },
  {
   "cell_type": "code",
   "execution_count": null,
   "id": "facab8cd",
   "metadata": {},
   "outputs": [
    {
     "data": {
      "text/plain": [
       "ServerToolUsage(web_search_requests=3)"
      ]
     },
     "execution_count": null,
     "metadata": {},
     "output_type": "execute_result"
    }
   ],
   "source": [
    "server_tool_usage(1) + server_tool_usage(2)"
   ]
  },
  {
   "cell_type": "code",
   "execution_count": null,
   "id": "6c9025c6",
   "metadata": {},
   "outputs": [],
   "source": [
    "#| exports\n",
    "@patch\n",
    "def __add__(self:Usage, b):\n",
    "    \"Add together each of `input_tokens` and `output_tokens`\"\n",
    "    return usage(self.input_tokens+b.input_tokens, self.output_tokens+b.output_tokens,\n",
    "                 _dgetattr(self,'cache_creation_input_tokens',0)+_dgetattr(b,'cache_creation_input_tokens',0),\n",
    "                 _dgetattr(self,'cache_read_input_tokens',0)+_dgetattr(b,'cache_read_input_tokens',0),\n",
    "                 _dgetattr(self,'server_tool_use',server_tool_usage())+_dgetattr(b,'server_tool_use',server_tool_usage()))"
   ]
  },
  {
   "cell_type": "code",
   "execution_count": null,
   "id": "bffb0b2e",
   "metadata": {},
   "outputs": [
    {
     "data": {
      "text/plain": [
       "In: 20; Out: 34; Cache create: 0; Cache read: 0; Total Tokens: 54; Server tool use (web search requests): 1"
      ]
     },
     "execution_count": null,
     "metadata": {},
     "output_type": "execute_result"
    }
   ],
   "source": [
    "r.usage+r.usage + usage(server_tool_use=server_tool_usage(1))"
   ]
  },
  {
   "cell_type": "markdown",
   "id": "edd0a43f",
   "metadata": {},
   "source": [
    "### Creating messages"
   ]
  },
  {
   "cell_type": "markdown",
   "id": "b4912f1e",
   "metadata": {},
   "source": [
    "Creating correctly formatted `dict`s from scratch every time isn't very handy, so we'll import a couple of helper functions from the `msglm` library.\n",
    "\n",
    "Let's use `mk_msg` to recreate our msg `{'role': 'user', 'content': \"I'm Jeremy\"}` from earlier."
   ]
  },
  {
   "cell_type": "code",
   "execution_count": null,
   "id": "0ffa2c14",
   "metadata": {},
   "outputs": [
    {
     "data": {
      "text/markdown": [
       "Nice to meet you, Jeremy! How are you doing today? Is there anything I can help you with?\n",
       "\n",
       "<details>\n",
       "\n",
       "- id: `msg_019KTch2ouq92y6sowmgSnYx`\n",
       "- content: `[{'citations': None, 'text': 'Nice to meet you, Jeremy! How are you doing today? Is there anything I can help you with?', 'type': 'text'}]`\n",
       "- model: `claude-sonnet-4-20250514`\n",
       "- role: `assistant`\n",
       "- stop_reason: `end_turn`\n",
       "- stop_sequence: `None`\n",
       "- type: `message`\n",
       "- usage: `{'cache_creation_input_tokens': 0, 'cache_read_input_tokens': 0, 'input_tokens': 10, 'output_tokens': 25, 'server_tool_use': None, 'service_tier': 'standard'}`\n",
       "\n",
       "</details>"
      ],
      "text/plain": [
       "Message(id='msg_019KTch2ouq92y6sowmgSnYx', content=[TextBlock(citations=None, text='Nice to meet you, Jeremy! How are you doing today? Is there anything I can help you with?', type='text')], model='claude-sonnet-4-20250514', role='assistant', stop_reason='end_turn', stop_sequence=None, type='message', usage=In: 10; Out: 25; Cache create: 0; Cache read: 0; Total Tokens: 35; Server tool use (web search requests): 0)"
      ]
     },
     "execution_count": null,
     "metadata": {},
     "output_type": "execute_result"
    }
   ],
   "source": [
    "prompt = \"I'm Jeremy\"\n",
    "m = mk_msg(prompt)\n",
    "r = cli.messages.create(messages=[m], model=model, max_tokens=100)\n",
    "r"
   ]
  },
  {
   "cell_type": "markdown",
   "id": "2fba8532",
   "metadata": {},
   "source": [
    "We can pass more than just text messages to Claude. As we'll see later we can also pass images, SDK objects, etc. To handle these different data types we need to pass the type along with our content to Claude. \n",
    "\n",
    "Here's an example of a multimodal message containing text and images. \n",
    "\n",
    "```json\n",
    "{\n",
    "    'role': 'user', \n",
    "    'content': [\n",
    "        {'type':'text', 'text':'What is in the image?'},\n",
    "        {\n",
    "            'type':'image', \n",
    "            'source': {\n",
    "                'type':'base64', 'media_type':'media_type', 'data': 'data'\n",
    "            }\n",
    "        }\n",
    "    ]\n",
    "}\n",
    "```\n",
    "\n",
    "`mk_msg` infers the type automatically and creates the appropriate data structure. "
   ]
  },
  {
   "cell_type": "markdown",
   "id": "fb04f6b4",
   "metadata": {},
   "source": [
    "LLMs, don't actually have state, but instead dialogs are created by passing back all previous prompts and responses every time. With Claude, they always alternate *user* and *assistant*. We'll use `mk_msgs` from `msglm` to make it easier to build up these dialog lists."
   ]
  },
  {
   "cell_type": "code",
   "execution_count": null,
   "id": "b4c8fcad",
   "metadata": {},
   "outputs": [
    {
     "data": {
      "text/plain": [
       "[{'role': 'user', 'content': \"I'm Jeremy\"},\n",
       " {'role': 'assistant',\n",
       "  'content': [TextBlock(citations=None, text='Nice to meet you, Jeremy! How are you doing today? Is there anything I can help you with?', type='text')]},\n",
       " {'role': 'user', 'content': 'I forgot my name. Can you remind me please?'}]"
      ]
     },
     "execution_count": null,
     "metadata": {},
     "output_type": "execute_result"
    }
   ],
   "source": [
    "msgs = mk_msgs([prompt, r, \"I forgot my name. Can you remind me please?\"]) \n",
    "msgs"
   ]
  },
  {
   "cell_type": "code",
   "execution_count": null,
   "id": "6c464f8b",
   "metadata": {},
   "outputs": [
    {
     "data": {
      "text/markdown": [
       "Your name is Jeremy - you introduced yourself to me just a moment ago at the start of our conversation.\n",
       "\n",
       "<details>\n",
       "\n",
       "- id: `msg_01WiFxGU88RFidepLUSNPkU8`\n",
       "- content: `[{'citations': None, 'text': 'Your name is Jeremy - you introduced yourself to me just a moment ago at the start of our conversation.', 'type': 'text'}]`\n",
       "- model: `claude-sonnet-4-20250514`\n",
       "- role: `assistant`\n",
       "- stop_reason: `end_turn`\n",
       "- stop_sequence: `None`\n",
       "- type: `message`\n",
       "- usage: `{'cache_creation_input_tokens': 0, 'cache_read_input_tokens': 0, 'input_tokens': 49, 'output_tokens': 24, 'server_tool_use': None, 'service_tier': 'standard'}`\n",
       "\n",
       "</details>"
      ],
      "text/plain": [
       "Message(id='msg_01WiFxGU88RFidepLUSNPkU8', content=[TextBlock(citations=None, text='Your name is Jeremy - you introduced yourself to me just a moment ago at the start of our conversation.', type='text')], model='claude-sonnet-4-20250514', role='assistant', stop_reason='end_turn', stop_sequence=None, type='message', usage=In: 49; Out: 24; Cache create: 0; Cache read: 0; Total Tokens: 73; Server tool use (web search requests): 0)"
      ]
     },
     "execution_count": null,
     "metadata": {},
     "output_type": "execute_result"
    }
   ],
   "source": [
    "cli.messages.create(messages=msgs, model=model, max_tokens=200)"
   ]
  },
  {
   "cell_type": "markdown",
   "id": "281f8a4d",
   "metadata": {},
   "source": [
    "## Client"
   ]
  },
  {
   "cell_type": "code",
   "execution_count": null,
   "id": "3b873aaf",
   "metadata": {},
   "outputs": [],
   "source": [
    "#| exports\n",
    "class Client:\n",
    "    def __init__(self, model, cli=None, log=False, cache=False):\n",
    "        \"Basic Anthropic messages client.\"\n",
    "        self.model,self.use = model,usage()\n",
    "        self.text_only = model in text_only_models\n",
    "        self.log = [] if log else None\n",
    "        self.c = (cli or Anthropic(default_headers={'anthropic-beta': 'prompt-caching-2024-07-31'}))\n",
    "        self.cache = cache"
   ]
  },
  {
   "cell_type": "markdown",
   "id": "146e39f0",
   "metadata": {},
   "source": [
    "We'll create a simple `Client` for `Anthropic` which tracks usage stores the model to use. We don't add any methods right away -- instead we'll use `patch` for that so we can add and document them incrementally."
   ]
  },
  {
   "cell_type": "code",
   "execution_count": null,
   "id": "d01e9ccf",
   "metadata": {},
   "outputs": [
    {
     "data": {
      "text/plain": [
       "In: 0; Out: 0; Cache create: 0; Cache read: 0; Total Tokens: 0; Server tool use (web search requests): 0"
      ]
     },
     "execution_count": null,
     "metadata": {},
     "output_type": "execute_result"
    }
   ],
   "source": [
    "c = Client(model)\n",
    "c.use"
   ]
  },
  {
   "cell_type": "code",
   "execution_count": null,
   "id": "8015d3f3",
   "metadata": {},
   "outputs": [],
   "source": [
    "#| exports\n",
    "@patch\n",
    "def _r(self:Client, r:Message, prefill=''):\n",
    "    \"Store the result of the message and accrue total usage.\"\n",
    "    if prefill:\n",
    "        blk = find_block(r)\n",
    "        blk.text = prefill + (blk.text or '')\n",
    "    self.result = r\n",
    "    self.use += r.usage\n",
    "    self.stop_reason = r.stop_reason\n",
    "    self.stop_sequence = r.stop_sequence\n",
    "    return r"
   ]
  },
  {
   "cell_type": "markdown",
   "id": "68d2eb9b",
   "metadata": {},
   "source": [
    "We use a `_` prefix on private methods, but we document them here in the interests of literate source code.\n",
    "\n",
    "`_r` will be used each time we get a new result, to track usage and also to keep the result available for later."
   ]
  },
  {
   "cell_type": "code",
   "execution_count": null,
   "id": "0181f7b3",
   "metadata": {},
   "outputs": [
    {
     "data": {
      "text/plain": [
       "In: 10; Out: 25; Cache create: 0; Cache read: 0; Total Tokens: 35; Server tool use (web search requests): 0"
      ]
     },
     "execution_count": null,
     "metadata": {},
     "output_type": "execute_result"
    }
   ],
   "source": [
    "c._r(r)\n",
    "c.use"
   ]
  },
  {
   "cell_type": "markdown",
   "id": "7258fd6e",
   "metadata": {},
   "source": [
    "Whereas OpenAI's models use a `stream` parameter for streaming, Anthropic's use a separate method. We implement Anthropic's approach in a private method, and then use a `stream` parameter in `__call__` for consistency:"
   ]
  },
  {
   "cell_type": "code",
   "execution_count": null,
   "id": "6520a355",
   "metadata": {},
   "outputs": [],
   "source": [
    "#| exports\n",
    "@patch\n",
    "def _log(self:Client, final, prefill, msgs, maxtok=None, sp=None, temp=None, stream=None, stop=None, **kwargs):\n",
    "    self._r(final, prefill)\n",
    "    if self.log is not None: self.log.append({\n",
    "        \"msgs\": msgs, \"prefill\": prefill, **kwargs,\n",
    "        \"msgs\": msgs, \"prefill\": prefill, \"maxtok\": maxtok, \"sp\": sp, \"temp\": temp, \"stream\": stream, \"stop\": stop, **kwargs,\n",
    "        \"result\": self.result, \"use\": self.use, \"stop_reason\": self.stop_reason, \"stop_sequence\": self.stop_sequence\n",
    "    })\n",
    "    return self.result"
   ]
  },
  {
   "cell_type": "code",
   "execution_count": null,
   "id": "6901dce2",
   "metadata": {},
   "outputs": [],
   "source": [
    "#| exports\n",
    "@patch\n",
    "def _stream(self:Client, msgs:list, prefill='', **kwargs):\n",
    "    with self.c.messages.stream(model=self.model, messages=mk_msgs(msgs, cache=self.cache, cache_last_ckpt_only=self.cache), **kwargs) as s:\n",
    "        if prefill: yield(prefill)\n",
    "        yield from s.text_stream\n",
    "        self._log(s.get_final_message(), prefill, msgs, **kwargs)"
   ]
  },
  {
   "cell_type": "markdown",
   "id": "f2269e53",
   "metadata": {},
   "source": [
    "Claude supports adding an extra `assistant` message at the end, which contains the *prefill* -- i.e. the text we want Claude to assume the response starts with. However Claude doesn't actually repeat that in the response, so for convenience we add it."
   ]
  },
  {
   "cell_type": "code",
   "execution_count": null,
   "id": "835638bb",
   "metadata": {},
   "outputs": [],
   "source": [
    "#| exports\n",
    "@patch\n",
    "def _precall(self:Client, msgs, prefill, stop, kwargs):\n",
    "    pref = [prefill.strip()] if prefill else []\n",
    "    if not isinstance(msgs,list): msgs = [msgs]\n",
    "    if stop is not None:\n",
    "        if not isinstance(stop, (list)): stop = [stop]\n",
    "        kwargs[\"stop_sequences\"] = stop\n",
    "    msgs = mk_msgs(msgs+pref, cache=self.cache, cache_last_ckpt_only=self.cache)\n",
    "    return msgs"
   ]
  },
  {
   "cell_type": "code",
   "execution_count": null,
   "id": "c21c2113",
   "metadata": {},
   "outputs": [],
   "source": [
    "@patch\n",
    "@delegates(messages.Messages.create)\n",
    "def __call__(self:Client,\n",
    "             msgs:list, # List of messages in the dialog\n",
    "             sp='', # The system prompt\n",
    "             temp=0, # Temperature\n",
    "             maxtok=4096, # Maximum tokens\n",
    "             prefill='', # Optional prefill to pass to Claude as start of its response\n",
    "             stream:bool=False, # Stream response?\n",
    "             stop=None, # Stop sequence\n",
    "             **kwargs):\n",
    "    \"Make a call to Claude.\"\n",
    "    msgs = self._precall(msgs, prefill, stop, kwargs)\n",
    "    if stream: return self._stream(msgs, prefill=prefill, max_tokens=maxtok, system=sp, temperature=temp, **kwargs)\n",
    "    res = self.c.messages.create(\n",
    "        model=self.model, messages=msgs, max_tokens=maxtok, system=sp, temperature=temp, **kwargs)\n",
    "    return self._log(res, prefill, msgs, maxtok, sp, temp, stream=stream, **kwargs)"
   ]
  },
  {
   "cell_type": "markdown",
   "id": "3cee10c8",
   "metadata": {},
   "source": [
    "Defining `__call__` let's us use an object like a function (i.e it's *callable*). We use it as a small wrapper over `messages.create`. However we're not exporting this version just yet -- we have some additions we'll make in a moment..."
   ]
  },
  {
   "cell_type": "code",
   "execution_count": null,
   "id": "881b5e78",
   "metadata": {},
   "outputs": [
    {
     "data": {
      "text/plain": [
       "In: 0; Out: 0; Cache create: 0; Cache read: 0; Total Tokens: 0; Server tool use (web search requests): 0"
      ]
     },
     "execution_count": null,
     "metadata": {},
     "output_type": "execute_result"
    }
   ],
   "source": [
    "c = Client(model, log=True)\n",
    "c.use"
   ]
  },
  {
   "cell_type": "code",
   "execution_count": null,
   "id": "338a38e5",
   "metadata": {},
   "outputs": [
    {
     "data": {
      "text/markdown": [
       "Hello! How are you doing today? Is there anything I can help you with?\n",
       "\n",
       "<details>\n",
       "\n",
       "- id: `msg_0198RkhbnJJ6ieaawFWnD4Ka`\n",
       "- content: `[{'citations': None, 'text': 'Hello! How are you doing today? Is there anything I can help you with?', 'type': 'text'}]`\n",
       "- model: `claude-sonnet-4-20250514`\n",
       "- role: `assistant`\n",
       "- stop_reason: `end_turn`\n",
       "- stop_sequence: `None`\n",
       "- type: `message`\n",
       "- usage: `{'cache_creation_input_tokens': 0, 'cache_read_input_tokens': 0, 'input_tokens': 8, 'output_tokens': 20, 'server_tool_use': None, 'service_tier': 'standard'}`\n",
       "\n",
       "</details>"
      ],
      "text/plain": [
       "Message(id='msg_0198RkhbnJJ6ieaawFWnD4Ka', content=[TextBlock(citations=None, text='Hello! How are you doing today? Is there anything I can help you with?', type='text')], model='claude-sonnet-4-20250514', role='assistant', stop_reason='end_turn', stop_sequence=None, type='message', usage=In: 8; Out: 20; Cache create: 0; Cache read: 0; Total Tokens: 28; Server tool use (web search requests): 0)"
      ]
     },
     "execution_count": null,
     "metadata": {},
     "output_type": "execute_result"
    }
   ],
   "source": [
    "c('Hi')"
   ]
  },
  {
   "cell_type": "code",
   "execution_count": null,
   "id": "ae9f7e06",
   "metadata": {},
   "outputs": [
    {
     "data": {
      "text/plain": [
       "In: 8; Out: 20; Cache create: 0; Cache read: 0; Total Tokens: 28; Server tool use (web search requests): 0"
      ]
     },
     "execution_count": null,
     "metadata": {},
     "output_type": "execute_result"
    }
   ],
   "source": [
    "c.use"
   ]
  },
  {
   "cell_type": "markdown",
   "id": "2d269ed8",
   "metadata": {},
   "source": [
    "Let's try out *prefill*:"
   ]
  },
  {
   "cell_type": "code",
   "execution_count": null,
   "id": "7f479429",
   "metadata": {},
   "outputs": [],
   "source": [
    "q = \"Concisely, what is the meaning of life?\"\n",
    "pref = 'According to Douglas Adams,'"
   ]
  },
  {
   "cell_type": "code",
   "execution_count": null,
   "id": "b831ca3d",
   "metadata": {},
   "outputs": [
    {
     "data": {
      "text/markdown": [
       "According to Douglas Adams,it's 42.\n",
       "\n",
       "More seriously, there's no universal answer. Common perspectives include:\n",
       "\n",
       "- **Religious**: To serve/connect with the divine\n",
       "- **Existentialist**: To create your own meaning through choices and actions\n",
       "- **Humanistic**: To reduce suffering and increase flourishing\n",
       "- **Biological**: To survive, reproduce, and evolve\n",
       "- **Personal**: To love, learn, create, or leave a positive impact\n",
       "\n",
       "The question itself might be more valuable than any single answer.\n",
       "\n",
       "<details>\n",
       "\n",
       "- id: `msg_01AHpQejBesD7bG34Nfqe7n3`\n",
       "- content: `[{'citations': None, 'text': \"According to Douglas Adams,it's 42.\\n\\nMore seriously, there's no universal answer. Common perspectives include:\\n\\n- **Religious**: To serve/connect with the divine\\n- **Existentialist**: To create your own meaning through choices and actions\\n- **Humanistic**: To reduce suffering and increase flourishing\\n- **Biological**: To survive, reproduce, and evolve\\n- **Personal**: To love, learn, create, or leave a positive impact\\n\\nThe question itself might be more valuable than any single answer.\", 'type': 'text'}]`\n",
       "- model: `claude-sonnet-4-20250514`\n",
       "- role: `assistant`\n",
       "- stop_reason: `end_turn`\n",
       "- stop_sequence: `None`\n",
       "- type: `message`\n",
       "- usage: `{'cache_creation_input_tokens': 0, 'cache_read_input_tokens': 0, 'input_tokens': 24, 'output_tokens': 109, 'server_tool_use': None, 'service_tier': 'standard'}`\n",
       "\n",
       "</details>"
      ],
      "text/plain": [
       "Message(id='msg_01AHpQejBesD7bG34Nfqe7n3', content=[TextBlock(citations=None, text=\"According to Douglas Adams,it's 42.\\n\\nMore seriously, there's no universal answer. Common perspectives include:\\n\\n- **Religious**: To serve/connect with the divine\\n- **Existentialist**: To create your own meaning through choices and actions\\n- **Humanistic**: To reduce suffering and increase flourishing\\n- **Biological**: To survive, reproduce, and evolve\\n- **Personal**: To love, learn, create, or leave a positive impact\\n\\nThe question itself might be more valuable than any single answer.\", type='text')], model='claude-sonnet-4-20250514', role='assistant', stop_reason='end_turn', stop_sequence=None, type='message', usage=In: 24; Out: 109; Cache create: 0; Cache read: 0; Total Tokens: 133; Server tool use (web search requests): 0)"
      ]
     },
     "execution_count": null,
     "metadata": {},
     "output_type": "execute_result"
    }
   ],
   "source": [
    "c(q, prefill=pref)"
   ]
  },
  {
   "cell_type": "markdown",
   "id": "216b2704",
   "metadata": {},
   "source": [
    "We can pass `stream=True` to stream the response back incrementally:"
   ]
  },
  {
   "cell_type": "code",
   "execution_count": null,
   "id": "e281399f",
   "metadata": {},
   "outputs": [
    {
     "name": "stdout",
     "output_type": "stream",
     "text": [
      "Hello! How are you doing today? Is there anything I can help you with?"
     ]
    }
   ],
   "source": [
    "for o in c('Hi', stream=True): print(o, end='')"
   ]
  },
  {
   "cell_type": "code",
   "execution_count": null,
   "id": "beb25f2a",
   "metadata": {},
   "outputs": [
    {
     "data": {
      "text/plain": [
       "In: 40; Out: 149; Cache create: 0; Cache read: 0; Total Tokens: 189; Server tool use (web search requests): 0"
      ]
     },
     "execution_count": null,
     "metadata": {},
     "output_type": "execute_result"
    }
   ],
   "source": [
    "c.use"
   ]
  },
  {
   "cell_type": "code",
   "execution_count": null,
   "id": "db1c75ef",
   "metadata": {},
   "outputs": [
    {
     "name": "stdout",
     "output_type": "stream",
     "text": [
      "According to Douglas Adams,it's 42.\n",
      "\n",
      "More seriously, there's no universal answer. Common perspectives include:\n",
      "\n",
      "- **Religious**: To serve/connect with the divine\n",
      "- **Existentialist**: To create your own meaning through choices and actions\n",
      "- **Humanistic**: To reduce suffering and increase flourishing\n",
      "- **Biological**: To survive, reproduce, and evolve\n",
      "- **Personal**: To love, learn, create, or leave a positive impact\n",
      "\n",
      "The question itself might be more valuable than any single answer."
     ]
    }
   ],
   "source": [
    "for o in c(q, prefill=pref, stream=True): print(o, end='')"
   ]
  },
  {
   "cell_type": "code",
   "execution_count": null,
   "id": "e36eddc9",
   "metadata": {},
   "outputs": [
    {
     "data": {
      "text/plain": [
       "In: 64; Out: 258; Cache create: 0; Cache read: 0; Total Tokens: 322; Server tool use (web search requests): 0"
      ]
     },
     "execution_count": null,
     "metadata": {},
     "output_type": "execute_result"
    }
   ],
   "source": [
    "c.use"
   ]
  },
  {
   "cell_type": "markdown",
   "id": "bd556e49",
   "metadata": {},
   "source": [
    "Pass a stop sequence if you want claude to stop generating text when it encounters it."
   ]
  },
  {
   "cell_type": "code",
   "execution_count": null,
   "id": "12b17591",
   "metadata": {},
   "outputs": [
    {
     "data": {
      "text/markdown": [
       "1, 2, 3, 4,\n",
       "\n",
       "<details>\n",
       "\n",
       "- id: `msg_01GbcBDLMTGECncRuqK2RM7n`\n",
       "- content: `[{'citations': None, 'text': '1, 2, 3, 4, ', 'type': 'text'}]`\n",
       "- model: `claude-sonnet-4-20250514`\n",
       "- role: `assistant`\n",
       "- stop_reason: `stop_sequence`\n",
       "- stop_sequence: `5`\n",
       "- type: `message`\n",
       "- usage: `{'cache_creation_input_tokens': 0, 'cache_read_input_tokens': 0, 'input_tokens': 15, 'output_tokens': 14, 'server_tool_use': None, 'service_tier': 'standard'}`\n",
       "\n",
       "</details>"
      ],
      "text/plain": [
       "Message(id='msg_01GbcBDLMTGECncRuqK2RM7n', content=[TextBlock(citations=None, text='1, 2, 3, 4, ', type='text')], model='claude-sonnet-4-20250514', role='assistant', stop_reason='stop_sequence', stop_sequence='5', type='message', usage=In: 15; Out: 14; Cache create: 0; Cache read: 0; Total Tokens: 29; Server tool use (web search requests): 0)"
      ]
     },
     "execution_count": null,
     "metadata": {},
     "output_type": "execute_result"
    }
   ],
   "source": [
    "c(\"Count from 1 to 10\", stop=\"5\")"
   ]
  },
  {
   "cell_type": "markdown",
   "id": "cdbd3df3",
   "metadata": {},
   "source": [
    "This also works with streaming, and you can pass more than one stop sequence:"
   ]
  },
  {
   "cell_type": "code",
   "execution_count": null,
   "id": "ff50577d",
   "metadata": {},
   "outputs": [
    {
     "name": "stdout",
     "output_type": "stream",
     "text": [
      "1, stop_sequence 2\n"
     ]
    }
   ],
   "source": [
    "for o in c(\"Count from 1 to 10\", stop=[\"2\", \"yellow\"], stream=True): print(o, end='')\n",
    "print(c.stop_reason, c.stop_sequence)"
   ]
  },
  {
   "cell_type": "markdown",
   "id": "2108776e",
   "metadata": {},
   "source": [
    "You can check the logs:"
   ]
  },
  {
   "cell_type": "code",
   "execution_count": null,
   "id": "17122b92",
   "metadata": {},
   "outputs": [
    {
     "data": {
      "text/plain": [
       "{'msgs': [{'role': 'user', 'content': 'Count from 1 to 10'}],\n",
       " 'prefill': '',\n",
       " 'max_tokens': 4096,\n",
       " 'system': '',\n",
       " 'temperature': 0,\n",
       " 'stop_sequences': ['2', 'yellow'],\n",
       " 'maxtok': None,\n",
       " 'sp': None,\n",
       " 'temp': None,\n",
       " 'stream': None,\n",
       " 'stop': None,\n",
       " 'result': Message(id='msg_017K1BLzA92LUHQ1NesrNQtN', content=[TextBlock(citations=None, text='1, ', type='text')], model='claude-sonnet-4-20250514', role='assistant', stop_reason='stop_sequence', stop_sequence='2', type='message', usage=In: 15; Out: 5; Cache create: 0; Cache read: 0; Total Tokens: 20; Server tool use (web search requests): 0),\n",
       " 'use': In: 94; Out: 277; Cache create: 0; Cache read: 0; Total Tokens: 371; Server tool use (web search requests): 0,\n",
       " 'stop_reason': 'stop_sequence',\n",
       " 'stop_sequence': '2'}"
      ]
     },
     "execution_count": null,
     "metadata": {},
     "output_type": "execute_result"
    }
   ],
   "source": [
    "c.log[-1]"
   ]
  },
  {
   "cell_type": "markdown",
   "id": "fbdc1914",
   "metadata": {},
   "source": [
    "We've shown the token usage but we really care about is pricing. Let's extract the latest [pricing](https://www.anthropic.com/pricing#anthropic-api) from Anthropic into a `pricing` dict."
   ]
  },
  {
   "cell_type": "code",
   "execution_count": null,
   "id": "9bfce1dc",
   "metadata": {},
   "outputs": [],
   "source": [
    "#| export\n",
    "pricing = {  # model type: $ / million tokens (input, output, cache write, cache read)\n",
    "    'opus': (15, 75, 18.75, 1.5),\n",
    "    'sonnet': (3, 15, 3.75, 0.3),\n",
    "    'haiku-3': (0.25, 1.25, 0.3, 0.03),\n",
    "    'haiku-3-5': (1, 3, 1.25, 0.1),\n",
    "}"
   ]
  },
  {
   "cell_type": "code",
   "execution_count": null,
   "id": "2a1f2e67",
   "metadata": {},
   "outputs": [],
   "source": [
    "#| exports\n",
    "def get_pricing(m, u):\n",
    "    return pricing[m][:3] if u.prompt_token_count < 128_000 else pricing[m][3:]"
   ]
  },
  {
   "cell_type": "markdown",
   "id": "f8995374",
   "metadata": {},
   "source": [
    "Similarly, let's get the pricing for the latest [server tools]():"
   ]
  },
  {
   "cell_type": "code",
   "execution_count": null,
   "id": "cfa8da09",
   "metadata": {},
   "outputs": [],
   "source": [
    "#| export\n",
    "server_tool_pricing = {\n",
    "    'web_search_requests': 10, # $10 per 1,000\n",
    "}"
   ]
  },
  {
   "cell_type": "markdown",
   "id": "a8a49a95",
   "metadata": {},
   "source": [
    "We'll patch `Usage` to enable it compute the cost given pricing."
   ]
  },
  {
   "cell_type": "code",
   "execution_count": null,
   "id": "2edb5da5",
   "metadata": {},
   "outputs": [],
   "source": [
    "#| exports\n",
    "@patch\n",
    "def cost(self:Usage, costs:tuple) -> float:\n",
    "    cache_w, cache_r = _dgetattr(self, \"cache_creation_input_tokens\",0), _dgetattr(self, \"cache_read_input_tokens\",0)\n",
    "    tok_cost = sum([self.input_tokens * costs[0] +  self.output_tokens * costs[1] +  cache_w * costs[2] + cache_r * costs[3]]) / 1e6\n",
    "    server_tool_use = _dgetattr(self, \"server_tool_use\",server_tool_usage())\n",
    "    server_tool_cost = server_tool_use.web_search_requests * server_tool_pricing['web_search_requests'] / 1e3\n",
    "    return tok_cost + server_tool_cost"
   ]
  },
  {
   "cell_type": "code",
   "execution_count": null,
   "id": "936a4adc",
   "metadata": {},
   "outputs": [],
   "source": [
    "#| exports\n",
    "@patch(as_prop=True)\n",
    "def cost(self: Client) -> float: return self.use.cost(pricing[model_types[self.model]])"
   ]
  },
  {
   "cell_type": "code",
   "execution_count": null,
   "id": "91d4dcbe",
   "metadata": {},
   "outputs": [],
   "source": [
    "#| exports\n",
    "def get_costs(c):\n",
    "    costs = pricing[model_types[c.model]]\n",
    "    \n",
    "    inp_cost = c.use.input_tokens * costs[0] / 1e6\n",
    "    out_cost = c.use.output_tokens * costs[1] / 1e6\n",
    "\n",
    "    cache_w = c.use.cache_creation_input_tokens   \n",
    "    cache_r = c.use.cache_read_input_tokens\n",
    "    cache_cost = (cache_w * costs[2] + cache_r * costs[3]) / 1e6\n",
    "\n",
    "    server_tool_use = c.use.server_tool_use\n",
    "    server_tool_cost = server_tool_use.web_search_requests * server_tool_pricing['web_search_requests'] / 1e3\n",
    "    return inp_cost, out_cost, cache_cost, cache_w + cache_r, server_tool_cost"
   ]
  },
  {
   "cell_type": "code",
   "execution_count": null,
   "id": "15695891",
   "metadata": {},
   "outputs": [],
   "source": [
    "#| exports\n",
    "@patch\n",
    "def _repr_markdown_(self:Client):\n",
    "    if not hasattr(self,'result'): return 'No results yet'\n",
    "    msg = contents(self.result)\n",
    "    inp_cost, out_cost, cache_cost, cached_toks, server_tool_cost = get_costs(self)\n",
    "    return f\"\"\"{msg}\n",
    "\n",
    "| Metric | Count | Cost (USD) |\n",
    "|--------|------:|-----:|\n",
    "| Input tokens | {self.use.input_tokens:,} | {inp_cost:.6f} |\n",
    "| Output tokens | {self.use.output_tokens:,} | {out_cost:.6f} |\n",
    "| Cache tokens | {cached_toks:,} | {cache_cost:.6f} |\n",
    "| Server tool use | {self.use.server_tool_use.web_search_requests:,} | {server_tool_cost:.6f} |\n",
    "| **Total** | **{self.use.total:,}** | **${self.cost:.6f}** |\"\"\""
   ]
  },
  {
   "cell_type": "code",
   "execution_count": null,
   "id": "be86fc43",
   "metadata": {},
   "outputs": [
    {
     "data": {
      "text/markdown": [
       "1,\n",
       "\n",
       "| Metric | Count | Cost (USD) |\n",
       "|--------|------:|-----:|\n",
       "| Input tokens | 94 | 0.000282 |\n",
       "| Output tokens | 277 | 0.004155 |\n",
       "| Cache tokens | 0 | 0.000000 |\n",
       "| Server tool use | 0 | 0.000000 |\n",
       "| **Total** | **371** | **$0.004437** |"
      ],
      "text/plain": [
       "<__main__.Client>"
      ]
     },
     "execution_count": null,
     "metadata": {},
     "output_type": "execute_result"
    }
   ],
   "source": [
    "c"
   ]
  },
  {
   "cell_type": "markdown",
   "id": "1a7cdbc6",
   "metadata": {},
   "source": [
    "## Tool use"
   ]
  },
  {
   "cell_type": "markdown",
   "id": "65700cb3",
   "metadata": {},
   "source": [
    "Let's now add tool use (aka *function calling*)."
   ]
  },
  {
   "cell_type": "code",
   "execution_count": null,
   "id": "01e3e2af",
   "metadata": {},
   "outputs": [],
   "source": [
    "#| export\n",
    "def mk_tool_choice(choose:Union[str,bool,None])->dict:\n",
    "    \"Create a `tool_choice` dict that's 'auto' if `choose` is `None`, 'any' if it is True, or 'tool' otherwise\"\n",
    "    return {\"type\": \"tool\", \"name\": choose} if isinstance(choose,str) else {'type':'any'} if choose else {'type':'auto'}"
   ]
  },
  {
   "cell_type": "code",
   "execution_count": null,
   "id": "753c4cd5",
   "metadata": {},
   "outputs": [
    {
     "name": "stdout",
     "output_type": "stream",
     "text": [
      "{'type': 'tool', 'name': 'sums'}\n",
      "{'type': 'any'}\n",
      "{'type': 'auto'}\n"
     ]
    }
   ],
   "source": [
    "print(mk_tool_choice('sums'))\n",
    "print(mk_tool_choice(True))\n",
    "print(mk_tool_choice(None))"
   ]
  },
  {
   "cell_type": "markdown",
   "id": "0d72ea0d",
   "metadata": {},
   "source": [
    "Claude can be forced to use a particular tool, or select from a specific list of tools, or decide for itself when to use a tool. If you want to force a tool (or force choosing from a list), include a `tool_choice` param with a dict from `mk_tool_choice`.\n",
    "\n",
    "For testing, we need a function that Claude can call; we'll write a simple function that adds numbers together, and will tell us when it's being called:"
   ]
  },
  {
   "cell_type": "code",
   "execution_count": null,
   "id": "fef4c551",
   "metadata": {},
   "outputs": [],
   "source": [
    "from dataclasses import dataclass"
   ]
  },
  {
   "cell_type": "code",
   "execution_count": null,
   "id": "046e8cc3",
   "metadata": {},
   "outputs": [],
   "source": [
    "@dataclass\n",
    "class MySum: val:int\n",
    "\n",
    "def sums(\n",
    "    a:int,  # First thing to sum\n",
    "    b:int=1 # Second thing to sum\n",
    ") -> int: # The sum of the inputs\n",
    "    \"Adds a + b.\"\n",
    "    print(f\"Finding the sum of {a} and {b}\")\n",
    "    return MySum(a + b)"
   ]
  },
  {
   "cell_type": "code",
   "execution_count": null,
   "id": "d51f2bdf",
   "metadata": {},
   "outputs": [],
   "source": [
    "a,b = 604542,6458932\n",
    "pr = f\"What is {a}+{b}?\"\n",
    "sp = \"You are a summing expert.\""
   ]
  },
  {
   "cell_type": "markdown",
   "id": "3dc3ffd6",
   "metadata": {},
   "source": [
    "Claudette can autogenerate a schema thanks to the `toolslm` library. We'll force the use of the tool using the function we created earlier."
   ]
  },
  {
   "cell_type": "code",
   "execution_count": null,
   "id": "bff81d52",
   "metadata": {},
   "outputs": [],
   "source": [
    "tools=[get_schema(sums)]\n",
    "choice = mk_tool_choice('sums')"
   ]
  },
  {
   "cell_type": "markdown",
   "id": "91937f47",
   "metadata": {},
   "source": [
    "We'll start a dialog with Claude now. We'll store the messages of our dialog in `msgs`. The first message will be our prompt `pr`, and we'll pass our `tools` schema."
   ]
  },
  {
   "cell_type": "code",
   "execution_count": null,
   "id": "c2ceeb75",
   "metadata": {},
   "outputs": [
    {
     "data": {
      "text/markdown": [
       "ToolUseBlock(id='toolu_015SaTbNCNvNy6jDpDc2wuBF', input={'a': 604542, 'b': 6458932}, name='sums', type='tool_use')\n",
       "\n",
       "<details>\n",
       "\n",
       "- id: `msg_011SsN38382XnFgRwCidSS56`\n",
       "- content: `[{'id': 'toolu_015SaTbNCNvNy6jDpDc2wuBF', 'input': {'a': 604542, 'b': 6458932}, 'name': 'sums', 'type': 'tool_use'}]`\n",
       "- model: `claude-sonnet-4-20250514`\n",
       "- role: `assistant`\n",
       "- stop_reason: `tool_use`\n",
       "- stop_sequence: `None`\n",
       "- type: `message`\n",
       "- usage: `{'cache_creation_input_tokens': 0, 'cache_read_input_tokens': 0, 'input_tokens': 443, 'output_tokens': 53, 'server_tool_use': None, 'service_tier': 'standard'}`\n",
       "\n",
       "</details>"
      ],
      "text/plain": [
       "Message(id='msg_011SsN38382XnFgRwCidSS56', content=[ToolUseBlock(id='toolu_015SaTbNCNvNy6jDpDc2wuBF', input={'a': 604542, 'b': 6458932}, name='sums', type='tool_use')], model='claude-sonnet-4-20250514', role='assistant', stop_reason='tool_use', stop_sequence=None, type='message', usage=In: 443; Out: 53; Cache create: 0; Cache read: 0; Total Tokens: 496; Server tool use (web search requests): 0)"
      ]
     },
     "execution_count": null,
     "metadata": {},
     "output_type": "execute_result"
    }
   ],
   "source": [
    "msgs = mk_msgs(pr)\n",
    "r = c(msgs, sp=sp, tools=tools, tool_choice=choice)\n",
    "r"
   ]
  },
  {
   "cell_type": "markdown",
   "id": "60a2fce0",
   "metadata": {},
   "source": [
    "When Claude decides that it should use a tool, it passes back a `ToolUseBlock` with the name of the tool to call, and the params to use.\n",
    "\n",
    "We don't want to allow it to call just any possible function (that would be a security disaster!) so we create a *namespace* -- that is, a dictionary of allowable function names to call."
   ]
  },
  {
   "cell_type": "code",
   "execution_count": null,
   "id": "4fb9826f",
   "metadata": {},
   "outputs": [
    {
     "data": {
      "text/plain": [
       "{'sums': <function __main__.sums(a: int, b: int = 1) -> int>}"
      ]
     },
     "execution_count": null,
     "metadata": {},
     "output_type": "execute_result"
    }
   ],
   "source": [
    "ns = mk_ns(sums)\n",
    "ns"
   ]
  },
  {
   "cell_type": "code",
   "execution_count": null,
   "id": "5a7728ff",
   "metadata": {},
   "outputs": [],
   "source": [
    "#| exports\n",
    "def mk_funcres(fc, ns):\n",
    "    \"Given tool use block `fc`, get tool result, and create a tool_result response.\"\n",
    "    res = call_func(fc.name, fc.input, ns=ns, raise_on_err=False)\n",
    "    return dict(type=\"tool_result\", tool_use_id=fc.id, content=str(res))"
   ]
  },
  {
   "cell_type": "markdown",
   "id": "3d1f23eb",
   "metadata": {},
   "source": [
    "We can now use the function requested by Claude. We look it up in `ns`, and pass in the provided parameters."
   ]
  },
  {
   "cell_type": "code",
   "execution_count": null,
   "id": "c2e829c2",
   "metadata": {},
   "outputs": [
    {
     "data": {
      "text/plain": [
       "[ToolUseBlock(id='toolu_015SaTbNCNvNy6jDpDc2wuBF', input={'a': 604542, 'b': 6458932}, name='sums', type='tool_use')]"
      ]
     },
     "execution_count": null,
     "metadata": {},
     "output_type": "execute_result"
    }
   ],
   "source": [
    "fcs = [o for o in r.content if isinstance(o,ToolUseBlock)]\n",
    "fcs"
   ]
  },
  {
   "cell_type": "code",
   "execution_count": null,
   "id": "893f81ca",
   "metadata": {},
   "outputs": [
    {
     "name": "stdout",
     "output_type": "stream",
     "text": [
      "Finding the sum of 604542 and 6458932\n"
     ]
    },
    {
     "data": {
      "text/plain": [
       "[{'type': 'tool_result',\n",
       "  'tool_use_id': 'toolu_015SaTbNCNvNy6jDpDc2wuBF',\n",
       "  'content': 'MySum(val=7063474)'}]"
      ]
     },
     "execution_count": null,
     "metadata": {},
     "output_type": "execute_result"
    }
   ],
   "source": [
    "res = [mk_funcres(fc, ns=ns) for fc in fcs]\n",
    "res"
   ]
  },
  {
   "cell_type": "code",
   "execution_count": null,
   "id": "2cd7a393",
   "metadata": {},
   "outputs": [],
   "source": [
    "def contents(r):\n",
    "    \"Helper to get the contents from Claude response `r`.\"\n",
    "    blk = find_block(r)\n",
    "    if not blk and r.content: blk = r.content[0]\n",
    "    if hasattr(blk,'text'): return blk.text.strip()\n",
    "    elif hasattr(blk,'content'): return blk.content.strip()\n",
    "    return str(blk)"
   ]
  },
  {
   "cell_type": "code",
   "execution_count": null,
   "id": "d475922d",
   "metadata": {},
   "outputs": [],
   "source": [
    "#| exports\n",
    "def mk_toolres(\n",
    "    r:abc.Mapping, # Tool use request response from Claude\n",
    "    ns:Optional[abc.Mapping]=None, # Namespace to search for tools\n",
    "    obj:Optional=None # Class to search for tools\n",
    "    ):\n",
    "    \"Create a `tool_result` message from response `r`.\"\n",
    "    cts = getattr(r, 'content', [])\n",
    "    res = [mk_msg(r.model_dump(), role='assistant')]\n",
    "    if ns is None: ns=globals()\n",
    "    if obj is not None: ns = mk_ns(obj)\n",
    "    tcs = [mk_funcres(o, ns) for o in cts if isinstance(o,ToolUseBlock)]\n",
    "    if tcs: res.append(mk_msg(tcs))\n",
    "    return res"
   ]
  },
  {
   "cell_type": "markdown",
   "id": "5a57d1ca",
   "metadata": {},
   "source": [
    "In order to tell Claude the result of the tool call, we pass back the tool use assistant request and the `tool_result` response."
   ]
  },
  {
   "cell_type": "code",
   "execution_count": null,
   "id": "f13de1fc",
   "metadata": {},
   "outputs": [
    {
     "name": "stdout",
     "output_type": "stream",
     "text": [
      "Finding the sum of 604542 and 6458932\n"
     ]
    },
    {
     "data": {
      "text/plain": [
       "[{'role': 'assistant',\n",
       "  'content': [ToolUseBlock(id='toolu_015SaTbNCNvNy6jDpDc2wuBF', input={'a': 604542, 'b': 6458932}, name='sums', type='tool_use')]},\n",
       " {'role': 'user',\n",
       "  'content': [{'type': 'tool_result',\n",
       "    'tool_use_id': 'toolu_015SaTbNCNvNy6jDpDc2wuBF',\n",
       "    'content': 'MySum(val=7063474)'}]}]"
      ]
     },
     "execution_count": null,
     "metadata": {},
     "output_type": "execute_result"
    }
   ],
   "source": [
    "tr = mk_toolres(r, ns=ns)\n",
    "tr"
   ]
  },
  {
   "cell_type": "code",
   "execution_count": null,
   "id": "f0fc80e6",
   "metadata": {},
   "outputs": [
    {
     "data": {
      "text/plain": [
       "[{'role': 'user', 'content': 'What is 604542+6458932?'}]"
      ]
     },
     "execution_count": null,
     "metadata": {},
     "output_type": "execute_result"
    }
   ],
   "source": [
    "msgs"
   ]
  },
  {
   "cell_type": "markdown",
   "id": "faf4fe37",
   "metadata": {},
   "source": [
    "We add this to our dialog, and now Claude has all the information it needs to answer our question."
   ]
  },
  {
   "cell_type": "code",
   "execution_count": null,
   "id": "eed99502",
   "metadata": {},
   "outputs": [
    {
     "data": {
      "text/plain": [
       "'604542 + 6458932 = 7,063,474'"
      ]
     },
     "execution_count": null,
     "metadata": {},
     "output_type": "execute_result"
    }
   ],
   "source": [
    "msgs += tr\n",
    "contents(c(msgs, sp=sp, tools=tools))"
   ]
  },
  {
   "cell_type": "code",
   "execution_count": null,
   "id": "8fc252dc",
   "metadata": {},
   "outputs": [
    {
     "data": {
      "text/plain": [
       "'MySum(val=7063474)'"
      ]
     },
     "execution_count": null,
     "metadata": {},
     "output_type": "execute_result"
    }
   ],
   "source": [
    "contents(msgs[-1])"
   ]
  },
  {
   "cell_type": "code",
   "execution_count": null,
   "id": "ae64dce3",
   "metadata": {},
   "outputs": [
    {
     "data": {
      "text/plain": [
       "[{'role': 'user', 'content': 'What is 604542+6458932?'},\n",
       " {'role': 'assistant',\n",
       "  'content': [ToolUseBlock(id='toolu_015SaTbNCNvNy6jDpDc2wuBF', input={'a': 604542, 'b': 6458932}, name='sums', type='tool_use')]},\n",
       " {'role': 'user',\n",
       "  'content': [{'type': 'tool_result',\n",
       "    'tool_use_id': 'toolu_015SaTbNCNvNy6jDpDc2wuBF',\n",
       "    'content': 'MySum(val=7063474)'}]}]"
      ]
     },
     "execution_count": null,
     "metadata": {},
     "output_type": "execute_result"
    }
   ],
   "source": [
    "msgs"
   ]
  },
  {
   "cell_type": "markdown",
   "id": "f2a3dc3c",
   "metadata": {},
   "source": [
    "This works with methods as well -- in this case, use the object itself for `ns`:"
   ]
  },
  {
   "cell_type": "code",
   "execution_count": null,
   "id": "800a53a9",
   "metadata": {},
   "outputs": [],
   "source": [
    "class Dummy:\n",
    "    def sums(\n",
    "        self,\n",
    "        a:int,  # First thing to sum\n",
    "        b:int=1 # Second thing to sum\n",
    "    ) -> int: # The sum of the inputs\n",
    "        \"Adds a + b.\"\n",
    "        print(f\"Finding the sum of {a} and {b}\")\n",
    "        return a + b"
   ]
  },
  {
   "cell_type": "code",
   "execution_count": null,
   "id": "b21e6290",
   "metadata": {},
   "outputs": [
    {
     "name": "stdout",
     "output_type": "stream",
     "text": [
      "Finding the sum of 604542 and 6458932\n"
     ]
    },
    {
     "data": {
      "text/plain": [
       "'604542 + 6458932 = 7,063,474'"
      ]
     },
     "execution_count": null,
     "metadata": {},
     "output_type": "execute_result"
    }
   ],
   "source": [
    "tools = [get_schema(Dummy.sums)]\n",
    "o = Dummy()\n",
    "r = c(pr, sp=sp, tools=tools, tool_choice=choice)\n",
    "tr = mk_toolres(r, obj=o)\n",
    "msgs += tr\n",
    "contents(c(msgs, sp=sp, tools=tools))"
   ]
  },
  {
   "cell_type": "markdown",
   "id": "50993fed",
   "metadata": {},
   "source": [
    "### Text editing"
   ]
  },
  {
   "cell_type": "markdown",
   "id": "4e33c2b2",
   "metadata": {},
   "source": [
    "Anthropic also has a special tool type specific to text editing."
   ]
  },
  {
   "cell_type": "code",
   "execution_count": null,
   "id": "6dcc3a92",
   "metadata": {},
   "outputs": [
    {
     "data": {
      "text/plain": [
       "[{'type': 'text_editor_20250429', 'name': 'str_replace_based_edit_tool'}]"
      ]
     },
     "execution_count": null,
     "metadata": {},
     "output_type": "execute_result"
    }
   ],
   "source": [
    "tools = [text_editor_conf['sonnet']]\n",
    "tools"
   ]
  },
  {
   "cell_type": "code",
   "execution_count": null,
   "id": "c9a25fc5",
   "metadata": {},
   "outputs": [
    {
     "data": {
      "text/plain": [
       "ToolUseBlock(id='toolu_018vACkL2Ua6vTZSd5i4C6Ci', input={'command': 'view', 'path': '_quarto.yml'}, name='str_replace_based_edit_tool', type='tool_use')"
      ]
     },
     "execution_count": null,
     "metadata": {},
     "output_type": "execute_result"
    }
   ],
   "source": [
    "pr = 'Could you please explain my _quarto.yml file?'\n",
    "msgs = [mk_msg(pr)]\n",
    "r = c(msgs, sp=sp, tools=tools)\n",
    "find_block(r, ToolUseBlock)"
   ]
  },
  {
   "cell_type": "markdown",
   "id": "145b096d",
   "metadata": {},
   "source": [
    "We've gone ahead and create a reference implementation that you can directly use from our `text_editor` module. Or use as reference for creating your own. "
   ]
  },
  {
   "cell_type": "code",
   "execution_count": null,
   "id": "a056df6c",
   "metadata": {},
   "outputs": [
    {
     "name": "stdout",
     "output_type": "stream",
     "text": [
      "Great! Let me explain your `_quarto.yml` configuration file section by section:\n",
      "\n",
      "## Project Configuration\n",
      "```yaml\n",
      "project:\n",
      "  typ\n"
     ]
    }
   ],
   "source": [
    "ns = mk_ns(str_replace_based_edit_tool)\n",
    "tr = mk_toolres(r, ns=ns)\n",
    "msgs += tr\n",
    "print(contents(c(msgs, sp=sp, tools=tools))[:128])"
   ]
  },
  {
   "cell_type": "markdown",
   "id": "d618fc89",
   "metadata": {},
   "source": [
    "## Callable Client"
   ]
  },
  {
   "cell_type": "code",
   "execution_count": null,
   "id": "cb514c3f",
   "metadata": {},
   "outputs": [],
   "source": [
    "#| export\n",
    "def get_types(msgs):\n",
    "    types = []\n",
    "    for m in msgs:\n",
    "        content = m.get('content', [])\n",
    "        if isinstance(content, list): types.extend(getattr(c, 'type', None) or c['type'] for c in content)\n",
    "        else: types.append('text')\n",
    "    return types"
   ]
  },
  {
   "cell_type": "code",
   "execution_count": null,
   "id": "6260d227",
   "metadata": {},
   "outputs": [
    {
     "data": {
      "text/plain": [
       "['text', 'text', 'tool_use', 'tool_result']"
      ]
     },
     "execution_count": null,
     "metadata": {},
     "output_type": "execute_result"
    }
   ],
   "source": [
    "get_types(msgs)"
   ]
  },
  {
   "cell_type": "code",
   "execution_count": null,
   "id": "cbeb89c2",
   "metadata": {},
   "outputs": [],
   "source": [
    "#| exports\n",
    "@patch\n",
    "@delegates(messages.Messages.create)\n",
    "def __call__(self:Client,\n",
    "             msgs:list, # List of messages in the dialog\n",
    "             sp='', # The system prompt\n",
    "             temp=0, # Temperature\n",
    "             maxtok=4096, # Maximum tokens\n",
    "             maxthinktok=0, # Maximum thinking tokens\n",
    "             prefill='', # Optional prefill to pass to Claude as start of its response\n",
    "             stream:bool=False, # Stream response?\n",
    "             stop=None, # Stop sequence\n",
    "             tools:Optional[list]=None, # List of tools to make available to Claude\n",
    "             tool_choice:Optional[dict]=None, # Optionally force use of some tool\n",
    "             **kwargs):\n",
    "    \"Make a call to Claude.\"\n",
    "    if tools: kwargs['tools'] = [get_schema(o) if callable(o) else o for o in listify(tools)]\n",
    "    if tool_choice: kwargs['tool_choice'] = mk_tool_choice(tool_choice)\n",
    "    if maxthinktok: \n",
    "        kwargs['thinking']={'type':'enabled', 'budget_tokens':maxthinktok} \n",
    "        temp=1; prefill=''\n",
    "    msgs = self._precall(msgs, prefill, stop, kwargs)\n",
    "    if any(t == 'image' for t in get_types(msgs)): assert not self.text_only, f\"Images are not supported by the current model type: {self.model}\"\n",
    "    if stream: return self._stream(msgs, prefill=prefill, max_tokens=maxtok, system=sp, temperature=temp, **kwargs)\n",
    "    res = self.c.messages.create(model=self.model, messages=msgs, max_tokens=maxtok, system=sp, temperature=temp, **kwargs)\n",
    "    return self._log(res, prefill, msgs, maxtok, sp, temp, stream=stream, stop=stop, **kwargs)"
   ]
  },
  {
   "cell_type": "code",
   "execution_count": null,
   "id": "f326f034",
   "metadata": {},
   "outputs": [],
   "source": [
    "a,b = 604542,6458932\n",
    "pr = f\"What is {a}+{b}?\"\n",
    "sp = \"You are a summing expert.\""
   ]
  },
  {
   "cell_type": "code",
   "execution_count": null,
   "id": "6dd255e0",
   "metadata": {},
   "outputs": [
    {
     "name": "stdout",
     "output_type": "stream",
     "text": [
      "Message(id='msg_01Rn6UCZEtKrhnhB58JTCR9P', content=[ToolUseBlock(id='toolu_01BefC1u7bbPGcu9cXXuVvaK', input={'a': 604542, 'b': 6458932}, name='sums', type='tool_use')], model='claude-sonnet-4-20250514', role='assistant', stop_reason='tool_use', stop_sequence=None, type='message', usage=In: 443; Out: 53; Cache create: 0; Cache read: 0; Total Tokens: 496; Server tool use (web search requests): 0)\n",
      "Message(id='msg_01JmDectZUD3txGJ8sfc5NrE', content=[ToolUseBlock(id='toolu_014qMZWji6Gpa3wfBw2sbYHe', input={'a': 604542, 'b': 6458932}, name='sums', type='tool_use')], model='claude-sonnet-4-20250514', role='assistant', stop_reason='tool_use', stop_sequence=None, type='message', usage=In: 443; Out: 53; Cache create: 0; Cache read: 0; Total Tokens: 496; Server tool use (web search requests): 0)\n"
     ]
    }
   ],
   "source": [
    "for tools in [sums, [get_schema(sums)]]:\n",
    "    r = c(pr, sp=sp, tools=tools, tool_choice='sums')\n",
    "    print(r)"
   ]
  },
  {
   "cell_type": "code",
   "execution_count": null,
   "id": "f0bb426f",
   "metadata": {},
   "outputs": [
    {
     "name": "stdout",
     "output_type": "stream",
     "text": [
      "Finding the sum of 604542 and 6458932\n"
     ]
    }
   ],
   "source": [
    "ns = mk_ns(sums)\n",
    "tr = mk_toolres(r, ns=ns)"
   ]
  },
  {
   "cell_type": "code",
   "execution_count": null,
   "id": "b3564424",
   "metadata": {},
   "outputs": [],
   "source": [
    "#| exports\n",
    "@patch\n",
    "@delegates(Client.__call__)\n",
    "def structured(self:Client,\n",
    "               msgs:list, # List of messages in the dialog\n",
    "               tools:Optional[list]=None, # List of tools to make available to Claude\n",
    "               obj:Optional=None, # Class to search for tools\n",
    "               ns:Optional[abc.Mapping]=None, # Namespace to search for tools\n",
    "               **kwargs):\n",
    "    \"Return the value of all tool calls (generally used for structured outputs)\"\n",
    "    tools = listify(tools)\n",
    "    res = self(msgs, tools=tools, tool_choice=tools, **kwargs)\n",
    "    if ns is None: ns=mk_ns(*tools)\n",
    "    if obj is not None: ns = mk_ns(obj)\n",
    "    cts = getattr(res, 'content', [])\n",
    "    tcs = [call_func(o.name, o.input, ns=ns) for o in cts if isinstance(o,ToolUseBlock)]\n",
    "    return tcs"
   ]
  },
  {
   "cell_type": "markdown",
   "id": "e2b70864",
   "metadata": {},
   "source": [
    "Anthropic's API does not support response formats directly, so instead we provide a `structured` method to use tool calling to achieve the same result. The result of the tool is not passed back to Claude in this case, but instead is returned directly to the user. "
   ]
  },
  {
   "cell_type": "code",
   "execution_count": null,
   "id": "44d2cc82",
   "metadata": {},
   "outputs": [
    {
     "name": "stdout",
     "output_type": "stream",
     "text": [
      "Finding the sum of 604542 and 6458932\n"
     ]
    },
    {
     "data": {
      "text/plain": [
       "[MySum(val=7063474)]"
      ]
     },
     "execution_count": null,
     "metadata": {},
     "output_type": "execute_result"
    }
   ],
   "source": [
    "c.structured(pr, tools=[sums])"
   ]
  },
  {
   "cell_type": "code",
   "execution_count": null,
   "id": "78883bec",
   "metadata": {},
   "outputs": [
    {
     "data": {
      "text/markdown": [
       "ToolUseBlock(id='toolu_01HGwroRth83r5uTpcpMQzMs', input={'a': 604542, 'b': 6458932}, name='sums', type='tool_use')\n",
       "\n",
       "| Metric | Count | Cost (USD) |\n",
       "|--------|------:|-----:|\n",
       "| Input tokens | 6,002 | 0.018006 |\n",
       "| Output tokens | 1,404 | 0.021060 |\n",
       "| Cache tokens | 0 | 0.000000 |\n",
       "| Server tool use | 0 | 0.000000 |\n",
       "| **Total** | **7,406** | **$0.039066** |"
      ],
      "text/plain": [
       "<__main__.Client>"
      ]
     },
     "execution_count": null,
     "metadata": {},
     "output_type": "execute_result"
    }
   ],
   "source": [
    "c"
   ]
  },
  {
   "cell_type": "markdown",
   "id": "df5211d9",
   "metadata": {},
   "source": [
    "## Custom Types with Tools Use"
   ]
  },
  {
   "cell_type": "markdown",
   "id": "06fe1763",
   "metadata": {},
   "source": [
    "We need to add tool support for custom types too. Let's test out custom types using a minimal example."
   ]
  },
  {
   "cell_type": "code",
   "execution_count": null,
   "id": "13d08aba",
   "metadata": {},
   "outputs": [],
   "source": [
    "class Book(BasicRepr):\n",
    "    def __init__(self, title: str, pages: int): store_attr()\n",
    "    def __repr__(self):\n",
    "        return f\"Book Title : {self.title}\\nNumber of Pages : {self.pages}\""
   ]
  },
  {
   "cell_type": "code",
   "execution_count": null,
   "id": "effd7f47",
   "metadata": {},
   "outputs": [
    {
     "data": {
      "text/plain": [
       "Book Title : War and Peace\n",
       "Number of Pages : 950"
      ]
     },
     "execution_count": null,
     "metadata": {},
     "output_type": "execute_result"
    }
   ],
   "source": [
    "Book(\"War and Peace\", 950)"
   ]
  },
  {
   "cell_type": "code",
   "execution_count": null,
   "id": "465abf5b",
   "metadata": {},
   "outputs": [],
   "source": [
    "def find_page(book: Book, # The book to find the halfway point of\n",
    "              percent: int, # Percent of a book to read to, e.g. halfway == 50, \n",
    ") -> int:\n",
    "    \"The page number corresponding to `percent` completion of a book\"\n",
    "    return round(book.pages * (percent / 100.0))"
   ]
  },
  {
   "cell_type": "code",
   "execution_count": null,
   "id": "011f74a8",
   "metadata": {},
   "outputs": [
    {
     "data": {
      "text/plain": [
       "{'name': 'find_page',\n",
       " 'description': 'The page number corresponding to `percent` completion of a book\\n\\nReturns:\\n- type: integer',\n",
       " 'input_schema': {'type': 'object',\n",
       "  'properties': {'book': {'type': 'object',\n",
       "    'description': 'The book to find the halfway point of',\n",
       "    '$ref': '#/$defs/Book'},\n",
       "   'percent': {'type': 'integer',\n",
       "    'description': 'Percent of a book to read to, e.g. halfway == 50,'}},\n",
       "  'title': None,\n",
       "  'required': ['book', 'percent'],\n",
       "  '$defs': {'Book': {'type': 'object',\n",
       "    'properties': {'title': {'type': 'string', 'description': ''},\n",
       "     'pages': {'type': 'integer', 'description': ''}},\n",
       "    'title': 'Book',\n",
       "    'required': ['title', 'pages']}}}}"
      ]
     },
     "execution_count": null,
     "metadata": {},
     "output_type": "execute_result"
    }
   ],
   "source": [
    "get_schema(find_page)"
   ]
  },
  {
   "cell_type": "code",
   "execution_count": null,
   "id": "c39dac76",
   "metadata": {},
   "outputs": [
    {
     "data": {
      "text/plain": [
       "{'type': 'tool', 'name': 'find_page'}"
      ]
     },
     "execution_count": null,
     "metadata": {},
     "output_type": "execute_result"
    }
   ],
   "source": [
    "choice = mk_tool_choice('find_page')\n",
    "choice"
   ]
  },
  {
   "cell_type": "markdown",
   "id": "c0795da1",
   "metadata": {},
   "source": [
    "Claudette will pack objects as dict, so we'll transform tool functions with user-defined types into tool functions that accept a dict in lieu of the user-defined type.\n",
    "\n",
    "First let's convert a single argument:"
   ]
  },
  {
   "cell_type": "code",
   "execution_count": null,
   "id": "a8f64918",
   "metadata": {},
   "outputs": [],
   "source": [
    "#| export\n",
    "def _is_builtin(tp: type):\n",
    "    \"Returns True for built in primitive types or containers\"\n",
    "    return (tp in (str, int, float, bool, complex) or tp is None\n",
    "        or getattr(tp, '__origin__', None) is not None)  # Pass through all container types\n",
    "\n",
    "def _convert(val: Dict, # dictionary argument being passed in\n",
    "            tp: type): # type of the tool function input\n",
    "    \"Convert converts a single argument\"\n",
    "    if val is None or _is_builtin(tp) or not isinstance(val, dict): return val\n",
    "    return tp(**val)"
   ]
  },
  {
   "cell_type": "markdown",
   "id": "fbb1fd24",
   "metadata": {},
   "source": [
    "`_is_builtin` decides whether to pass an argument through as-is. Let's check the argument conversion:"
   ]
  },
  {
   "cell_type": "code",
   "execution_count": null,
   "id": "e6182cae",
   "metadata": {},
   "outputs": [
    {
     "data": {
      "text/plain": [
       "(True, False, True)"
      ]
     },
     "execution_count": null,
     "metadata": {},
     "output_type": "execute_result"
    }
   ],
   "source": [
    "(_is_builtin(int), _is_builtin(Book), _is_builtin(List))"
   ]
  },
  {
   "cell_type": "code",
   "execution_count": null,
   "id": "30bcf8cd",
   "metadata": {},
   "outputs": [
    {
     "data": {
      "text/plain": [
       "(555,\n",
       " Book Title : War and Peace\n",
       " Number of Pages : 923,\n",
       " [1, 2, 3, 4])"
      ]
     },
     "execution_count": null,
     "metadata": {},
     "output_type": "execute_result"
    }
   ],
   "source": [
    "(_convert(555, int),\n",
    " _convert({\"title\": \"War and Peace\", \"pages\": 923}, Book),\n",
    " _convert([1, 2, 3, 4], List))"
   ]
  },
  {
   "cell_type": "markdown",
   "id": "21d4ed6a",
   "metadata": {},
   "source": [
    "To apply `tool()` to a function is to return a new function where the user-defined types are replaced with dictionary inputs."
   ]
  },
  {
   "cell_type": "code",
   "execution_count": null,
   "id": "ad70d01a",
   "metadata": {},
   "outputs": [],
   "source": [
    "#| export\n",
    "def tool(func):\n",
    "    if isinstance(func, dict): return func # it's a schema, so don't change\n",
    "    hints = get_type_hints(func)\n",
    "    @wraps(func)\n",
    "    def wrapper(*args, **kwargs):\n",
    "        new_args = [_convert(arg, hints[p]) for p,arg in zip(inspect.signature(func).parameters, args)]\n",
    "        new_kwargs = {k: _convert(v, hints[k]) if k in hints else v for k,v in kwargs.items()}\n",
    "        return func(*new_args, **new_kwargs)\n",
    "    return wrapper"
   ]
  },
  {
   "cell_type": "markdown",
   "id": "a80c69d7",
   "metadata": {},
   "source": [
    "A function is transformed into a function with dict arguments substituted for user-defined types. Built-in types such as `percent` here are left untouched."
   ]
  },
  {
   "cell_type": "code",
   "execution_count": null,
   "id": "dbe72ab6",
   "metadata": {},
   "outputs": [
    {
     "data": {
      "text/plain": [
       "475"
      ]
     },
     "execution_count": null,
     "metadata": {},
     "output_type": "execute_result"
    }
   ],
   "source": [
    "find_page(book=Book(\"War and Peace\", 950), percent=50)"
   ]
  },
  {
   "cell_type": "code",
   "execution_count": null,
   "id": "261f3253",
   "metadata": {},
   "outputs": [
    {
     "data": {
      "text/plain": [
       "475"
      ]
     },
     "execution_count": null,
     "metadata": {},
     "output_type": "execute_result"
    }
   ],
   "source": [
    "tool(find_page)({\"title\": \"War and Peace\", \"pages\": 950}, percent=50)"
   ]
  },
  {
   "cell_type": "markdown",
   "id": "6428afcb",
   "metadata": {},
   "source": [
    "By passing tools wrapped by `tool()`, user-defined types now work completes without failing in tool calls."
   ]
  },
  {
   "cell_type": "code",
   "execution_count": null,
   "id": "48cdcfc2",
   "metadata": {},
   "outputs": [
    {
     "data": {
      "text/plain": [
       "<function __main__.find_page(book: __main__.Book, percent: int) -> int>"
      ]
     },
     "execution_count": null,
     "metadata": {},
     "output_type": "execute_result"
    }
   ],
   "source": [
    "pr = \"How many pages do I have to read to get halfway through my 950 page copy of War and Peace\"\n",
    "tools = tool(find_page)\n",
    "tools"
   ]
  },
  {
   "cell_type": "code",
   "execution_count": null,
   "id": "848a319e",
   "metadata": {},
   "outputs": [
    {
     "data": {
      "text/plain": [
       "ToolUseBlock(id='toolu_01RkktpMG4uyneFs6TYHMKmM', input={'book': {'title': 'War and Peace', 'pages': 950}, 'percent': 50}, name='find_page', type='tool_use')"
      ]
     },
     "execution_count": null,
     "metadata": {},
     "output_type": "execute_result"
    }
   ],
   "source": [
    "r = c(pr, tools=[tools])\n",
    "find_block(r, ToolUseBlock)"
   ]
  },
  {
   "cell_type": "code",
   "execution_count": null,
   "id": "209fbdf0",
   "metadata": {},
   "outputs": [
    {
     "data": {
      "text/plain": [
       "[{'role': 'assistant',\n",
       "  'content': [TextBlock(citations=None, text=\"I'll help you find the halfway point of your copy of War and Peace.\", type='text'),\n",
       "   ToolUseBlock(id='toolu_01RkktpMG4uyneFs6TYHMKmM', input={'book': {'title': 'War and Peace', 'pages': 950}, 'percent': 50}, name='find_page', type='tool_use')]},\n",
       " {'role': 'user',\n",
       "  'content': [{'type': 'tool_result',\n",
       "    'tool_use_id': 'toolu_01RkktpMG4uyneFs6TYHMKmM',\n",
       "    'content': '475'}]}]"
      ]
     },
     "execution_count": null,
     "metadata": {},
     "output_type": "execute_result"
    }
   ],
   "source": [
    "tr = mk_toolres(r, ns=[tools])\n",
    "tr"
   ]
  },
  {
   "cell_type": "code",
   "execution_count": null,
   "id": "8abdec8a",
   "metadata": {},
   "outputs": [
    {
     "data": {
      "text/plain": [
       "\"To get halfway through your 950-page copy of War and Peace, you need to read to page 475. That means you'll have read 475 pages when you reach the halfway point of the book.\""
      ]
     },
     "execution_count": null,
     "metadata": {},
     "output_type": "execute_result"
    }
   ],
   "source": [
    "msgs = [pr]+tr\n",
    "contents(c(msgs, sp=sp, tools=[tools]))"
   ]
  },
  {
   "cell_type": "markdown",
   "id": "4ea144b8",
   "metadata": {},
   "source": [
    "## Chat"
   ]
  },
  {
   "cell_type": "markdown",
   "id": "419fab81",
   "metadata": {},
   "source": [
    "Rather than manually adding the responses to a dialog, we'll create a simple `Chat` class to do that for us, each time we make a request. We'll also store the system prompt and tools here, to avoid passing them every time."
   ]
  },
  {
   "cell_type": "code",
   "execution_count": null,
   "id": "755dd2a1",
   "metadata": {},
   "outputs": [],
   "source": [
    "#| export\n",
    "class Chat:\n",
    "    def __init__(self,\n",
    "                 model:Optional[str]=None, # Model to use (leave empty if passing `cli`)\n",
    "                 cli:Optional[Client]=None, # Client to use (leave empty if passing `model`)\n",
    "                 sp='', # Optional system prompt\n",
    "                 tools:Optional[list]=None, # List of tools to make available to Claude\n",
    "                 temp=0, # Temperature\n",
    "                 cont_pr:Optional[str]=None, # User prompt to continue an assistant response\n",
    "                 cache: bool = False,  # Use Claude cache?\n",
    "                 hist: list = None,  # Initialize history\n",
    "                 ns:Optional[abc.Mapping]=None # Namespace to search for tools\n",
    "                ):\n",
    "        \"Anthropic chat client.\"\n",
    "        assert model or cli\n",
    "        assert cont_pr != \"\", \"cont_pr may not be an empty string\"\n",
    "        self.c = (cli or Client(model, cache=cache))\n",
    "        if hist is None: hist=[]\n",
    "        if tools: tools = [tool(t) for t in listify(tools)]\n",
    "        if ns is None: ns=tools\n",
    "        self.h,self.sp,self.tools,self.cont_pr,self.temp,self.cache,self.ns = hist,sp,tools,cont_pr,temp,cache,ns\n",
    "\n",
    "    @property\n",
    "    def use(self): return self.c.use"
   ]
  },
  {
   "cell_type": "markdown",
   "id": "c3f16d4e",
   "metadata": {},
   "source": [
    "The class stores the `Client` that will provide the responses in `c`, and a history of messages in `h`."
   ]
  },
  {
   "cell_type": "code",
   "execution_count": null,
   "id": "04b837c5",
   "metadata": {},
   "outputs": [
    {
     "data": {
      "text/plain": [
       "(In: 0; Out: 0; Cache create: 0; Cache read: 0; Total Tokens: 0; Server tool use (web search requests): 0,\n",
       " [])"
      ]
     },
     "execution_count": null,
     "metadata": {},
     "output_type": "execute_result"
    }
   ],
   "source": [
    "sp = \"Never mention what tools you use.\"\n",
    "chat = Chat(model, sp=sp)\n",
    "chat.c.use, chat.h"
   ]
  },
  {
   "cell_type": "code",
   "execution_count": null,
   "id": "10360d53",
   "metadata": {},
   "outputs": [
    {
     "data": {
      "text/plain": [
       "0.0"
      ]
     },
     "execution_count": null,
     "metadata": {},
     "output_type": "execute_result"
    }
   ],
   "source": [
    "chat.c.use.cost(pricing[model_types[chat.c.model]])"
   ]
  },
  {
   "cell_type": "markdown",
   "id": "8b36fcec",
   "metadata": {},
   "source": [
    "This is clunky. Let's add `cost` as a property for the `Chat` class. It will pass in the appropriate prices for the current model to the usage cost calculator."
   ]
  },
  {
   "cell_type": "code",
   "execution_count": null,
   "id": "aae25dd2",
   "metadata": {},
   "outputs": [],
   "source": [
    "#| exports\n",
    "@patch(as_prop=True)\n",
    "def cost(self: Chat) -> float: return self.c.cost"
   ]
  },
  {
   "cell_type": "code",
   "execution_count": null,
   "id": "793d2f2d",
   "metadata": {},
   "outputs": [
    {
     "data": {
      "text/plain": [
       "0.0"
      ]
     },
     "execution_count": null,
     "metadata": {},
     "output_type": "execute_result"
    }
   ],
   "source": [
    "chat.cost"
   ]
  },
  {
   "cell_type": "code",
   "execution_count": null,
   "id": "42a05df9",
   "metadata": {},
   "outputs": [],
   "source": [
    "#| exports\n",
    "@patch\n",
    "def _stream(self:Chat, res):\n",
    "    yield from res\n",
    "    self.last = mk_toolres(self.c.result, ns=self.ns) #, obj=self)\n",
    "    self.h += self.last"
   ]
  },
  {
   "cell_type": "code",
   "execution_count": null,
   "id": "d0178ee1",
   "metadata": {},
   "outputs": [],
   "source": [
    "#| exports\n",
    "@patch\n",
    "def _post_pr(self:Chat, pr, prev_role):\n",
    "    if pr is None and prev_role == 'assistant':\n",
    "        if self.cont_pr is None:\n",
    "            raise ValueError(\"Prompt must be given after assistant completion, or use `self.cont_pr`.\")\n",
    "        pr = self.cont_pr # No user prompt, keep the chain\n",
    "    if pr: self.h.append(mk_msg(pr, cache=self.cache))"
   ]
  },
  {
   "cell_type": "code",
   "execution_count": null,
   "id": "1b5c04e6",
   "metadata": {},
   "outputs": [],
   "source": [
    "#| exports\n",
    "@patch\n",
    "def _append_pr(self:Chat,\n",
    "               pr=None,  # Prompt / message\n",
    "              ):\n",
    "    prev_role = nested_idx(self.h, -1, 'role') if self.h else 'assistant' # First message should be 'user'\n",
    "    if pr and prev_role == 'user': self() # already user request pending\n",
    "    self._post_pr(pr, prev_role)"
   ]
  },
  {
   "cell_type": "code",
   "execution_count": null,
   "id": "a9bcc67a",
   "metadata": {},
   "outputs": [],
   "source": [
    "#| exports\n",
    "@patch\n",
    "def __call__(self:Chat,\n",
    "             pr=None,  # Prompt / message\n",
    "             temp=None, # Temperature\n",
    "             maxtok=4096, # Maximum tokens\n",
    "             maxthinktok=0, # Maximum thinking tokens\n",
    "             stream=False, # Stream response?\n",
    "             prefill='', # Optional prefill to pass to Claude as start of its response\n",
    "             tool_choice:Optional[dict]=None, # Optionally force use of some tool\n",
    "             **kw):\n",
    "    if temp is None: temp=self.temp\n",
    "    self._append_pr(pr)\n",
    "    res = self.c(self.h, stream=stream, prefill=prefill, sp=self.sp, temp=temp, maxtok=maxtok, maxthinktok=maxthinktok, tools=self.tools, tool_choice=tool_choice,**kw)\n",
    "    if stream: return self._stream(res)\n",
    "    self.last = mk_toolres(self.c.result, ns=self.ns)\n",
    "    self.h += self.last\n",
    "    return res"
   ]
  },
  {
   "cell_type": "markdown",
   "id": "f97c5cd7",
   "metadata": {},
   "source": [
    "The `__call__` method just passes the request along to the `Client`, but rather than just passing in this one prompt, it appends it to the history and passes it all along. As a result, we now have state!"
   ]
  },
  {
   "cell_type": "code",
   "execution_count": null,
   "id": "cb393257",
   "metadata": {},
   "outputs": [],
   "source": [
    "chat = Chat(model, sp=sp)"
   ]
  },
  {
   "cell_type": "code",
   "execution_count": null,
   "id": "40073f42",
   "metadata": {},
   "outputs": [
    {
     "data": {
      "text/markdown": [
       "Your name is Jeremy! You introduced yourself at the beginning of our conversation.\n",
       "\n",
       "<details>\n",
       "\n",
       "- id: `msg_01Q8gi3zX6Fo7mVX39ovEQFD`\n",
       "- content: `[{'citations': None, 'text': 'Your name is Jeremy! You introduced yourself at the beginning of our conversation.', 'type': 'text'}]`\n",
       "- model: `claude-sonnet-4-20250514`\n",
       "- role: `assistant`\n",
       "- stop_reason: `end_turn`\n",
       "- stop_sequence: `None`\n",
       "- type: `message`\n",
       "- usage: `{'cache_creation_input_tokens': 0, 'cache_read_input_tokens': 0, 'input_tokens': 42, 'output_tokens': 18, 'server_tool_use': None, 'service_tier': 'standard'}`\n",
       "\n",
       "</details>"
      ],
      "text/plain": [
       "Message(id='msg_01Q8gi3zX6Fo7mVX39ovEQFD', content=[TextBlock(citations=None, text='Your name is Jeremy! You introduced yourself at the beginning of our conversation.', type='text')], model='claude-sonnet-4-20250514', role='assistant', stop_reason='end_turn', stop_sequence=None, type='message', usage=In: 42; Out: 18; Cache create: 0; Cache read: 0; Total Tokens: 60; Server tool use (web search requests): 0)"
      ]
     },
     "execution_count": null,
     "metadata": {},
     "output_type": "execute_result"
    }
   ],
   "source": [
    "chat(\"I'm Jeremy\")\n",
    "chat(\"What's my name?\")"
   ]
  },
  {
   "cell_type": "code",
   "execution_count": null,
   "id": "5457b51d",
   "metadata": {},
   "outputs": [
    {
     "data": {
      "text/plain": [
       "(In: 59; Out: 35; Cache create: 0; Cache read: 0; Total Tokens: 94; Server tool use (web search requests): 0,\n",
       " 0.000702)"
      ]
     },
     "execution_count": null,
     "metadata": {},
     "output_type": "execute_result"
    }
   ],
   "source": [
    "chat.use, chat.cost"
   ]
  },
  {
   "cell_type": "markdown",
   "id": "a7df0327",
   "metadata": {},
   "source": [
    "Let's try out prefill too:"
   ]
  },
  {
   "cell_type": "code",
   "execution_count": null,
   "id": "20a32de0",
   "metadata": {},
   "outputs": [],
   "source": [
    "q = \"Concisely, what is the meaning of life?\"\n",
    "pref = 'According to Douglas Adams,'"
   ]
  },
  {
   "cell_type": "code",
   "execution_count": null,
   "id": "b07bce62",
   "metadata": {},
   "outputs": [
    {
     "data": {
      "text/markdown": [
       "Your name is Jeremy! You introduced yourself at the beginning of our conversation.\n",
       "\n",
       "<details>\n",
       "\n",
       "- id: `msg_01Q8gi3zX6Fo7mVX39ovEQFD`\n",
       "- content: `[{'citations': None, 'text': 'Your name is Jeremy! You introduced yourself at the beginning of our conversation.', 'type': 'text'}]`\n",
       "- model: `claude-sonnet-4-20250514`\n",
       "- role: `assistant`\n",
       "- stop_reason: `end_turn`\n",
       "- stop_sequence: `None`\n",
       "- type: `message`\n",
       "- usage: `{'cache_creation_input_tokens': 0, 'cache_read_input_tokens': 0, 'input_tokens': 42, 'output_tokens': 18, 'server_tool_use': None, 'service_tier': 'standard'}`\n",
       "\n",
       "</details>"
      ],
      "text/plain": [
       "Message(id='msg_01Q8gi3zX6Fo7mVX39ovEQFD', content=[TextBlock(citations=None, text='Your name is Jeremy! You introduced yourself at the beginning of our conversation.', type='text')], model='claude-sonnet-4-20250514', role='assistant', stop_reason='end_turn', stop_sequence=None, type='message', usage=In: 42; Out: 18; Cache create: 0; Cache read: 0; Total Tokens: 60; Server tool use (web search requests): 0)"
      ]
     },
     "execution_count": null,
     "metadata": {},
     "output_type": "execute_result"
    }
   ],
   "source": [
    "chat.c.result"
   ]
  },
  {
   "cell_type": "code",
   "execution_count": null,
   "id": "9b28705d",
   "metadata": {},
   "outputs": [
    {
     "data": {
      "text/markdown": [
       "According to Douglas Adams,it's 42. But seriously, the meaning of life is likely what you make it - finding purpose through relationships, growth, contribution, and experiences that matter to you.\n",
       "\n",
       "<details>\n",
       "\n",
       "- id: `msg_01Uu21keyVeLD4e3fH5rjpM8`\n",
       "- content: `[{'citations': None, 'text': \"According to Douglas Adams,it's 42. But seriously, the meaning of life is likely what you make it - finding purpose through relationships, growth, contribution, and experiences that matter to you.\", 'type': 'text'}]`\n",
       "- model: `claude-sonnet-4-20250514`\n",
       "- role: `assistant`\n",
       "- stop_reason: `end_turn`\n",
       "- stop_sequence: `None`\n",
       "- type: `message`\n",
       "- usage: `{'cache_creation_input_tokens': 0, 'cache_read_input_tokens': 0, 'input_tokens': 80, 'output_tokens': 38, 'server_tool_use': None, 'service_tier': 'standard'}`\n",
       "\n",
       "</details>"
      ],
      "text/plain": [
       "Message(id='msg_01Uu21keyVeLD4e3fH5rjpM8', content=[TextBlock(citations=None, text=\"According to Douglas Adams,it's 42. But seriously, the meaning of life is likely what you make it - finding purpose through relationships, growth, contribution, and experiences that matter to you.\", type='text')], model='claude-sonnet-4-20250514', role='assistant', stop_reason='end_turn', stop_sequence=None, type='message', usage=In: 80; Out: 38; Cache create: 0; Cache read: 0; Total Tokens: 118; Server tool use (web search requests): 0)"
      ]
     },
     "execution_count": null,
     "metadata": {},
     "output_type": "execute_result"
    }
   ],
   "source": [
    "chat(q, prefill=pref)"
   ]
  },
  {
   "cell_type": "markdown",
   "id": "fbd28a97",
   "metadata": {},
   "source": [
    "By default messages must be in user, assistant, user format. If this isn't followed (aka calling `chat()` without a user message) it will error out:"
   ]
  },
  {
   "cell_type": "code",
   "execution_count": null,
   "id": "c3761928",
   "metadata": {},
   "outputs": [
    {
     "name": "stdout",
     "output_type": "stream",
     "text": [
      "Error: Prompt must be given after assistant completion, or use `self.cont_pr`.\n"
     ]
    }
   ],
   "source": [
    "try: chat()\n",
    "except ValueError as e: print(\"Error:\", e)"
   ]
  },
  {
   "cell_type": "markdown",
   "id": "4d57b5c7",
   "metadata": {},
   "source": [
    "Setting `cont_pr` allows a \"default prompt\" to be specified when a prompt isn't specified. Usually used to prompt the model to continue."
   ]
  },
  {
   "cell_type": "code",
   "execution_count": null,
   "id": "54c5a2bc",
   "metadata": {},
   "outputs": [
    {
     "data": {
      "text/markdown": [
       "The search for meaning itself might be more important than finding a single answer. Some find it through:\n",
       "\n",
       "- Creating something lasting\n",
       "- Alleviating suffering \n",
       "- Pursuing truth and understanding\n",
       "- Experiencing beauty and wonder\n",
       "- Building deep connections\n",
       "- Living authentically according to your values\n",
       "\n",
       "Maybe life's meaning isn't a destination but the conscious act of living with intention, curiosity, and compassion. The question keeps us human.\n",
       "\n",
       "<details>\n",
       "\n",
       "- id: `msg_015NjqhMnsGEmdVYXPMZWnUm`\n",
       "- content: `[{'citations': None, 'text': \"The search for meaning itself might be more important than finding a single answer. Some find it through:\\n\\n- Creating something lasting\\n- Alleviating suffering \\n- Pursuing truth and understanding\\n- Experiencing beauty and wonder\\n- Building deep connections\\n- Living authentically according to your values\\n\\nMaybe life's meaning isn't a destination but the conscious act of living with intention, curiosity, and compassion. The question keeps us human.\", 'type': 'text'}]`\n",
       "- model: `claude-sonnet-4-20250514`\n",
       "- role: `assistant`\n",
       "- stop_reason: `end_turn`\n",
       "- stop_sequence: `None`\n",
       "- type: `message`\n",
       "- usage: `{'cache_creation_input_tokens': 0, 'cache_read_input_tokens': 0, 'input_tokens': 124, 'output_tokens': 95, 'server_tool_use': None, 'service_tier': 'standard'}`\n",
       "\n",
       "</details>"
      ],
      "text/plain": [
       "Message(id='msg_015NjqhMnsGEmdVYXPMZWnUm', content=[TextBlock(citations=None, text=\"The search for meaning itself might be more important than finding a single answer. Some find it through:\\n\\n- Creating something lasting\\n- Alleviating suffering \\n- Pursuing truth and understanding\\n- Experiencing beauty and wonder\\n- Building deep connections\\n- Living authentically according to your values\\n\\nMaybe life's meaning isn't a destination but the conscious act of living with intention, curiosity, and compassion. The question keeps us human.\", type='text')], model='claude-sonnet-4-20250514', role='assistant', stop_reason='end_turn', stop_sequence=None, type='message', usage=In: 124; Out: 95; Cache create: 0; Cache read: 0; Total Tokens: 219; Server tool use (web search requests): 0)"
      ]
     },
     "execution_count": null,
     "metadata": {},
     "output_type": "execute_result"
    }
   ],
   "source": [
    "chat.cont_pr = \"keep going...\"\n",
    "chat()"
   ]
  },
  {
   "cell_type": "markdown",
   "id": "776b3d1e",
   "metadata": {},
   "source": [
    "We can also use streaming:"
   ]
  },
  {
   "cell_type": "code",
   "execution_count": null,
   "id": "529104ec",
   "metadata": {},
   "outputs": [
    {
     "name": "stdout",
     "output_type": "stream",
     "text": [
      "Hi Jeremy! Nice to meet you. How are you doing today?"
     ]
    }
   ],
   "source": [
    "chat = Chat(model, sp=sp)\n",
    "for o in chat(\"I'm Jeremy\", stream=True): print(o, end='')"
   ]
  },
  {
   "cell_type": "code",
   "execution_count": null,
   "id": "14abb3dc",
   "metadata": {},
   "outputs": [
    {
     "name": "stdout",
     "output_type": "stream",
     "text": [
      "According to Douglas Adams,it's 42. But more seriously, life's meaning is likely something you create through your relationships, contributions, growth, and what brings you fulfillment and purpose."
     ]
    }
   ],
   "source": [
    "for o in chat(q, prefill=pref, stream=True): print(o, end='')"
   ]
  },
  {
   "cell_type": "markdown",
   "id": "0acdca39",
   "metadata": {},
   "source": [
    "You can provide a history of messages to initialise `Chat` with:"
   ]
  },
  {
   "cell_type": "code",
   "execution_count": null,
   "id": "32814e78",
   "metadata": {},
   "outputs": [
    {
     "data": {
      "text/markdown": [
       "I have to be honest - I was just making a playful, completely random guess! I don't actually have any way to know your real name. I was being silly with that very specific and unusual name combination. \n",
       "\n",
       "Is that actually your name, or were you playing along with my random guess? Either way, I'm curious now!\n",
       "\n",
       "<details>\n",
       "\n",
       "- id: `msg_01VcUWNoZsvUJSragJnRWwKp`\n",
       "- content: `[{'citations': None, 'text': \"I have to be honest - I was just making a playful, completely random guess! I don't actually have any way to know your real name. I was being silly with that very specific and unusual name combination. \\n\\nIs that actually your name, or were you playing along with my random guess? Either way, I'm curious now!\", 'type': 'text'}]`\n",
       "- model: `claude-sonnet-4-20250514`\n",
       "- role: `assistant`\n",
       "- stop_reason: `end_turn`\n",
       "- stop_sequence: `None`\n",
       "- type: `message`\n",
       "- usage: `{'cache_creation_input_tokens': 0, 'cache_read_input_tokens': 0, 'input_tokens': 58, 'output_tokens': 73, 'server_tool_use': None, 'service_tier': 'standard'}`\n",
       "\n",
       "</details>"
      ],
      "text/plain": [
       "Message(id='msg_01VcUWNoZsvUJSragJnRWwKp', content=[TextBlock(citations=None, text=\"I have to be honest - I was just making a playful, completely random guess! I don't actually have any way to know your real name. I was being silly with that very specific and unusual name combination. \\n\\nIs that actually your name, or were you playing along with my random guess? Either way, I'm curious now!\", type='text')], model='claude-sonnet-4-20250514', role='assistant', stop_reason='end_turn', stop_sequence=None, type='message', usage=In: 58; Out: 73; Cache create: 0; Cache read: 0; Total Tokens: 131; Server tool use (web search requests): 0)"
      ]
     },
     "execution_count": null,
     "metadata": {},
     "output_type": "execute_result"
    }
   ],
   "source": [
    "chat = Chat(model, sp=sp, hist=[\"Can you guess my name?\", \"Hmmm I really don't know. Is it 'Merlin G. Penfolds'?\"])\n",
    "chat('Wow how did you know?')"
   ]
  },
  {
   "cell_type": "markdown",
   "id": "6b40892f",
   "metadata": {},
   "source": [
    "### Chat tool use"
   ]
  },
  {
   "cell_type": "markdown",
   "id": "062f7edf",
   "metadata": {},
   "source": [
    "We automagically get streamlined tool use as well:"
   ]
  },
  {
   "cell_type": "code",
   "execution_count": null,
   "id": "ee6535cf",
   "metadata": {},
   "outputs": [
    {
     "data": {
      "text/plain": [
       "'What is 604542+6458932?'"
      ]
     },
     "execution_count": null,
     "metadata": {},
     "output_type": "execute_result"
    }
   ],
   "source": [
    "pr = f\"What is {a}+{b}?\"\n",
    "pr"
   ]
  },
  {
   "cell_type": "code",
   "execution_count": null,
   "id": "797741c5",
   "metadata": {},
   "outputs": [
    {
     "name": "stdout",
     "output_type": "stream",
     "text": [
      "Finding the sum of 604542 and 6458932\n"
     ]
    },
    {
     "data": {
      "text/markdown": [
       "ToolUseBlock(id='toolu_01JzXrbX5z3UQVZPV6MYaf7f', input={'a': 604542, 'b': 6458932}, name='sums', type='tool_use')\n",
       "\n",
       "<details>\n",
       "\n",
       "- id: `msg_01PcBwNBeU9LWEa6BbQYaDkS`\n",
       "- content: `[{'id': 'toolu_01JzXrbX5z3UQVZPV6MYaf7f', 'input': {'a': 604542, 'b': 6458932}, 'name': 'sums', 'type': 'tool_use'}]`\n",
       "- model: `claude-sonnet-4-20250514`\n",
       "- role: `assistant`\n",
       "- stop_reason: `tool_use`\n",
       "- stop_sequence: `None`\n",
       "- type: `message`\n",
       "- usage: `{'cache_creation_input_tokens': 0, 'cache_read_input_tokens': 0, 'input_tokens': 437, 'output_tokens': 72, 'server_tool_use': None, 'service_tier': 'standard'}`\n",
       "\n",
       "</details>"
      ],
      "text/plain": [
       "Message(id='msg_01PcBwNBeU9LWEa6BbQYaDkS', content=[ToolUseBlock(id='toolu_01JzXrbX5z3UQVZPV6MYaf7f', input={'a': 604542, 'b': 6458932}, name='sums', type='tool_use')], model='claude-sonnet-4-20250514', role='assistant', stop_reason='tool_use', stop_sequence=None, type='message', usage=In: 437; Out: 72; Cache create: 0; Cache read: 0; Total Tokens: 509; Server tool use (web search requests): 0)"
      ]
     },
     "execution_count": null,
     "metadata": {},
     "output_type": "execute_result"
    }
   ],
   "source": [
    "chat = Chat(model, sp=sp, tools=[sums])\n",
    "r = chat(pr)\n",
    "r"
   ]
  },
  {
   "cell_type": "markdown",
   "id": "ff5513be",
   "metadata": {},
   "source": [
    "Now we need to send this result to Claude—calling the object with no parameters tells it to return the tool result to Claude:"
   ]
  },
  {
   "cell_type": "code",
   "execution_count": null,
   "id": "b091eae0",
   "metadata": {},
   "outputs": [
    {
     "data": {
      "text/markdown": [
       "604542 + 6458932 = 7,063,474\n",
       "\n",
       "<details>\n",
       "\n",
       "- id: `msg_01QctoXHrtJES7zXzVE8FY62`\n",
       "- content: `[{'citations': None, 'text': '604542 + 6458932 = 7,063,474', 'type': 'text'}]`\n",
       "- model: `claude-sonnet-4-20250514`\n",
       "- role: `assistant`\n",
       "- stop_reason: `end_turn`\n",
       "- stop_sequence: `None`\n",
       "- type: `message`\n",
       "- usage: `{'cache_creation_input_tokens': 0, 'cache_read_input_tokens': 0, 'input_tokens': 530, 'output_tokens': 19, 'server_tool_use': None, 'service_tier': 'standard'}`\n",
       "\n",
       "</details>"
      ],
      "text/plain": [
       "Message(id='msg_01QctoXHrtJES7zXzVE8FY62', content=[TextBlock(citations=None, text='604542 + 6458932 = 7,063,474', type='text')], model='claude-sonnet-4-20250514', role='assistant', stop_reason='end_turn', stop_sequence=None, type='message', usage=In: 530; Out: 19; Cache create: 0; Cache read: 0; Total Tokens: 549; Server tool use (web search requests): 0)"
      ]
     },
     "execution_count": null,
     "metadata": {},
     "output_type": "execute_result"
    }
   ],
   "source": [
    "chat()"
   ]
  },
  {
   "cell_type": "markdown",
   "id": "8e551677",
   "metadata": {},
   "source": [
    "It should be correct, because it actually used our Python function to do the addition. Let's check:"
   ]
  },
  {
   "cell_type": "code",
   "execution_count": null,
   "id": "06bfbf3d",
   "metadata": {},
   "outputs": [
    {
     "data": {
      "text/plain": [
       "7063474"
      ]
     },
     "execution_count": null,
     "metadata": {},
     "output_type": "execute_result"
    }
   ],
   "source": [
    "a+b"
   ]
  },
  {
   "cell_type": "markdown",
   "id": "445b2aa2",
   "metadata": {},
   "source": [
    "Let's test a function with user defined types."
   ]
  },
  {
   "cell_type": "code",
   "execution_count": null,
   "id": "d4db78d9",
   "metadata": {},
   "outputs": [
    {
     "data": {
      "text/markdown": [
       "ToolUseBlock(id='toolu_01RvQPLD9k756RzWbNRCpLoM', input={'book': {'title': 'Tao Te Ching', 'pages': 80}, 'percent': 75}, name='find_page', type='tool_use')\n",
       "\n",
       "<details>\n",
       "\n",
       "- id: `msg_01ShUen66HBcVHHNhXTPQtDX`\n",
       "- content: `[{'id': 'toolu_01RvQPLD9k756RzWbNRCpLoM', 'input': {'book': {'title': 'Tao Te Ching', 'pages': 80}, 'percent': 75}, 'name': 'find_page', 'type': 'tool_use'}]`\n",
       "- model: `claude-sonnet-4-20250514`\n",
       "- role: `assistant`\n",
       "- stop_reason: `tool_use`\n",
       "- stop_sequence: `None`\n",
       "- type: `message`\n",
       "- usage: `{'cache_creation_input_tokens': 0, 'cache_read_input_tokens': 0, 'input_tokens': 547, 'output_tokens': 86, 'server_tool_use': None, 'service_tier': 'standard'}`\n",
       "\n",
       "</details>"
      ],
      "text/plain": [
       "Message(id='msg_01ShUen66HBcVHHNhXTPQtDX', content=[ToolUseBlock(id='toolu_01RvQPLD9k756RzWbNRCpLoM', input={'book': {'title': 'Tao Te Ching', 'pages': 80}, 'percent': 75}, name='find_page', type='tool_use')], model='claude-sonnet-4-20250514', role='assistant', stop_reason='tool_use', stop_sequence=None, type='message', usage=In: 547; Out: 86; Cache create: 0; Cache read: 0; Total Tokens: 633; Server tool use (web search requests): 0)"
      ]
     },
     "execution_count": null,
     "metadata": {},
     "output_type": "execute_result"
    }
   ],
   "source": [
    "chat = Chat(model, sp=sp, tools=[find_page])\n",
    "r = chat(\"How many pages is three quarters of the way through my 80 page edition of Tao Te Ching?\")\n",
    "r"
   ]
  },
  {
   "cell_type": "markdown",
   "id": "6486462c",
   "metadata": {},
   "source": [
    "Now we need to send this result to Claude—calling the object with no parameters tells it to return the tool result to Claude:"
   ]
  },
  {
   "cell_type": "code",
   "execution_count": null,
   "id": "0979c832",
   "metadata": {},
   "outputs": [
    {
     "data": {
      "text/markdown": [
       "Three quarters of the way through your 80-page edition of Tao Te Ching would be page 60.\n",
       "\n",
       "<details>\n",
       "\n",
       "- id: `msg_01X3DzdxaUkkoW2JpxvU3CLz`\n",
       "- content: `[{'citations': None, 'text': 'Three quarters of the way through your 80-page edition of Tao Te Ching would be page 60.', 'type': 'text'}]`\n",
       "- model: `claude-sonnet-4-20250514`\n",
       "- role: `assistant`\n",
       "- stop_reason: `end_turn`\n",
       "- stop_sequence: `None`\n",
       "- type: `message`\n",
       "- usage: `{'cache_creation_input_tokens': 0, 'cache_read_input_tokens': 0, 'input_tokens': 647, 'output_tokens': 29, 'server_tool_use': None, 'service_tier': 'standard'}`\n",
       "\n",
       "</details>"
      ],
      "text/plain": [
       "Message(id='msg_01X3DzdxaUkkoW2JpxvU3CLz', content=[TextBlock(citations=None, text='Three quarters of the way through your 80-page edition of Tao Te Ching would be page 60.', type='text')], model='claude-sonnet-4-20250514', role='assistant', stop_reason='end_turn', stop_sequence=None, type='message', usage=In: 647; Out: 29; Cache create: 0; Cache read: 0; Total Tokens: 676; Server tool use (web search requests): 0)"
      ]
     },
     "execution_count": null,
     "metadata": {},
     "output_type": "execute_result"
    }
   ],
   "source": [
    "chat()"
   ]
  },
  {
   "cell_type": "markdown",
   "id": "b7054a02",
   "metadata": {},
   "source": [
    "It should be correct, because it actually used our Python function to do the addition. Let's check:"
   ]
  },
  {
   "cell_type": "code",
   "execution_count": null,
   "id": "b7ff0879",
   "metadata": {},
   "outputs": [
    {
     "data": {
      "text/plain": [
       "60.0"
      ]
     },
     "execution_count": null,
     "metadata": {},
     "output_type": "execute_result"
    }
   ],
   "source": [
    "80 * .75"
   ]
  },
  {
   "cell_type": "code",
   "execution_count": null,
   "id": "49c3a35a",
   "metadata": {},
   "outputs": [],
   "source": [
    "#| exports\n",
    "@patch\n",
    "def _repr_markdown_(self:Chat):\n",
    "    if not hasattr(self.c, 'result'): return 'No results yet'\n",
    "    last_msg = contents(self.c.result)\n",
    "    \n",
    "    def fmt_msg(m):\n",
    "        t = contents(m)\n",
    "        if isinstance(t, dict): return t['content']\n",
    "        return t\n",
    "        \n",
    "    history = '\\n\\n'.join(f\"**{m['role']}**: {fmt_msg(m)}\" \n",
    "                         for m in self.h)\n",
    "    det = self.c._repr_markdown_().split('\\n\\n')[-1]\n",
    "    if history: history = f\"\"\"\n",
    "<details>\n",
    "<summary>► History</summary>\n",
    "\n",
    "{history}\n",
    "\n",
    "</details>\n",
    "\"\"\"\n",
    "\n",
    "    return f\"\"\"{last_msg}\n",
    "{history}\n",
    "{det}\"\"\""
   ]
  },
  {
   "cell_type": "code",
   "execution_count": null,
   "id": "2baedd52",
   "metadata": {},
   "outputs": [
    {
     "data": {
      "text/markdown": [
       "Three quarters of the way through your 80-page edition of Tao Te Ching would be page 60.\n",
       "\n",
       "<details>\n",
       "<summary>► History</summary>\n",
       "\n",
       "**user**: H\n",
       "\n",
       "**assistant**: ToolUseBlock(id='toolu_01RvQPLD9k756RzWbNRCpLoM', input={'book': {'title': 'Tao Te Ching', 'pages': 80}, 'percent': 75}, name='find_page', type='tool_use')\n",
       "\n",
       "**user**: 60\n",
       "\n",
       "**assistant**: Three quarters of the way through your 80-page edition of Tao Te Ching would be page 60.\n",
       "\n",
       "</details>\n",
       "\n",
       "| Metric | Count | Cost (USD) |\n",
       "|--------|------:|-----:|\n",
       "| Input tokens | 1,194 | 0.003582 |\n",
       "| Output tokens | 115 | 0.001725 |\n",
       "| Cache tokens | 0 | 0.000000 |\n",
       "| Server tool use | 0 | 0.000000 |\n",
       "| **Total** | **1,309** | **$0.005307** |"
      ],
      "text/plain": [
       "<__main__.Chat>"
      ]
     },
     "execution_count": null,
     "metadata": {},
     "output_type": "execute_result"
    }
   ],
   "source": [
    "chat"
   ]
  },
  {
   "cell_type": "code",
   "execution_count": null,
   "id": "c76a22fb",
   "metadata": {},
   "outputs": [],
   "source": [
    "chat = Chat(model, tools=[text_editor_conf['sonnet']], ns=mk_ns(str_replace_based_edit_tool))"
   ]
  },
  {
   "cell_type": "markdown",
   "id": "157d057f",
   "metadata": {},
   "source": [
    "When not providing tools directly as Python functions (like `sum`), you **must** create and pass a namespace dictionary (mapping the tool name string to the function object) using the `ns` parameter to methods like `mk_toolres` or `toolloop`. `toolslm` cannot automatically generate the namespace in this case. For schema-based tools (i.e., Python functions), `claudette` handles namespace creation automatically."
   ]
  },
  {
   "cell_type": "code",
   "execution_count": null,
   "id": "ebbd0cd2",
   "metadata": {},
   "outputs": [
    {
     "data": {
      "text/plain": [
       "ToolUseBlock(id='toolu_01VtVGN7StnhXzJD6kAZD75w', input={'command': 'view', 'path': '.'}, name='str_replace_based_edit_tool', type='tool_use')"
      ]
     },
     "execution_count": null,
     "metadata": {},
     "output_type": "execute_result"
    }
   ],
   "source": [
    "r = chat('Please explain what my _quarto.yml does. Use your tools')\n",
    "find_block(r, ToolUseBlock)"
   ]
  },
  {
   "cell_type": "code",
   "execution_count": null,
   "id": "0b7717a8",
   "metadata": {},
   "outputs": [
    {
     "data": {
      "text/markdown": [
       "Now let me examine the `_quarto.yml` file:\n",
       "\n",
       "<details>\n",
       "\n",
       "- id: `msg_01Xi9MhA3PProt4baSao3MEB`\n",
       "- content: `[{'citations': None, 'text': 'Now let me examine the `_quarto.yml` file:', 'type': 'text'}, {'id': 'toolu_01JKwmHe5gJHaTxiAPwLPqTb', 'input': {'command': 'view', 'path': '/_Users/jhoward/aai-ws/claudette/_quarto.yml'}, 'name': 'str_replace_based_edit_tool', 'type': 'tool_use'}]`\n",
       "- model: `claude-sonnet-4-20250514`\n",
       "- role: `assistant`\n",
       "- stop_reason: `tool_use`\n",
       "- stop_sequence: `None`\n",
       "- type: `message`\n",
       "- usage: `{'cache_creation_input_tokens': 0, 'cache_read_input_tokens': 0, 'input_tokens': 2693, 'output_tokens': 109, 'server_tool_use': None, 'service_tier': 'standard'}`\n",
       "\n",
       "</details>"
      ],
      "text/plain": [
       "Message(id='msg_01Xi9MhA3PProt4baSao3MEB', content=[TextBlock(citations=None, text='Now let me examine the `_quarto.yml` file:', type='text'), ToolUseBlock(id='toolu_01JKwmHe5gJHaTxiAPwLPqTb', input={'command': 'view', 'path': '/_Users/jhoward/aai-ws/claudette/_quarto.yml'}, name='str_replace_based_edit_tool', type='tool_use')], model='claude-sonnet-4-20250514', role='assistant', stop_reason='tool_use', stop_sequence=None, type='message', usage=In: 2693; Out: 109; Cache create: 0; Cache read: 0; Total Tokens: 2802; Server tool use (web search requests): 0)"
      ]
     },
     "execution_count": null,
     "metadata": {},
     "output_type": "execute_result"
    }
   ],
   "source": [
    "chat()"
   ]
  },
  {
   "cell_type": "markdown",
   "id": "df1dd4c3",
   "metadata": {},
   "source": [
    "## Images"
   ]
  },
  {
   "cell_type": "markdown",
   "id": "cf741dbc",
   "metadata": {},
   "source": [
    "Claude can handle image data as well. As everyone knows, when testing image APIs you have to use a cute puppy."
   ]
  },
  {
   "cell_type": "code",
   "execution_count": null,
   "id": "5d35d564",
   "metadata": {},
   "outputs": [
    {
     "data": {
      "image/jpeg": "[encoded data removed]",
      "text/plain": [
       "<IPython.core.display.Image object>"
      ]
     },
     "execution_count": null,
     "metadata": {
      "image/jpeg": {
       "width": 200
      }
     },
     "output_type": "execute_result"
    }
   ],
   "source": [
    "# Image is Cute_dog.jpg from Wikimedia\n",
    "fn = Path('samples/puppy.jpg')\n",
    "display.Image(filename=fn, width=200)"
   ]
  },
  {
   "cell_type": "code",
   "execution_count": null,
   "id": "d120d8fb",
   "metadata": {},
   "outputs": [],
   "source": [
    "img = fn.read_bytes()"
   ]
  },
  {
   "cell_type": "markdown",
   "id": "3e2937df",
   "metadata": {},
   "source": [
    "Claude expects an image message to have the following structure\n",
    "\n",
    "```js\n",
    "{\n",
    "    'role': 'user', \n",
    "    'content': [\n",
    "        {'type':'text', 'text':'What is in the image?'},\n",
    "        {\n",
    "            'type':'image', \n",
    "            'source': {\n",
    "                'type':'base64', 'media_type':'media_type', 'data': 'data'\n",
    "            }\n",
    "        }\n",
    "    ]\n",
    "}\n",
    "```\n",
    "`msglm` automatically detects if a message is an image, encodes it, and generates the data structure above.\n",
    "All we need to do is a create a list containing our image and a query and then pass it to `mk_msg`.\n",
    "\n",
    "Let's try it out..."
   ]
  },
  {
   "cell_type": "code",
   "execution_count": null,
   "id": "db8339ac",
   "metadata": {},
   "outputs": [],
   "source": [
    "q = \"In brief, what color flowers are in this image?\"\n",
    "msg = mk_msg([img, q])"
   ]
  },
  {
   "cell_type": "code",
   "execution_count": null,
   "id": "69acc8c7",
   "metadata": {},
   "outputs": [
    {
     "data": {
      "text/markdown": [
       "The flowers in this image are purple.\n",
       "\n",
       "<details>\n",
       "\n",
       "- id: `msg_01ToLdeUX71Uwk7QhRRhMHKW`\n",
       "- content: `[{'citations': None, 'text': 'The flowers in this image are purple.', 'type': 'text'}]`\n",
       "- model: `claude-sonnet-4-20250514`\n",
       "- role: `assistant`\n",
       "- stop_reason: `end_turn`\n",
       "- stop_sequence: `None`\n",
       "- type: `message`\n",
       "- usage: `{'cache_creation_input_tokens': 0, 'cache_read_input_tokens': 0, 'input_tokens': 110, 'output_tokens': 11, 'server_tool_use': None, 'service_tier': 'standard'}`\n",
       "\n",
       "</details>"
      ],
      "text/plain": [
       "Message(id='msg_01ToLdeUX71Uwk7QhRRhMHKW', content=[TextBlock(citations=None, text='The flowers in this image are purple.', type='text')], model='claude-sonnet-4-20250514', role='assistant', stop_reason='end_turn', stop_sequence=None, type='message', usage=In: 110; Out: 11; Cache create: 0; Cache read: 0; Total Tokens: 121; Server tool use (web search requests): 0)"
      ]
     },
     "execution_count": null,
     "metadata": {},
     "output_type": "execute_result"
    }
   ],
   "source": [
    "c([msg])"
   ]
  },
  {
   "cell_type": "markdown",
   "id": "09be3d09",
   "metadata": {},
   "source": [
    "You don't need to call `mk_msg` on each individual message before passing them to the `Chat` class. Instead you can pass your messages in a list and the `Chat` class will automatically call `mk_msgs` in the background. \n",
    "\n",
    "```python\n",
    "c([\"How are you?\", r])\n",
    "```\n",
    "\n",
    "For messages that contain multiple content types (like an image with a question), you'll need to enclose the message contents in a list as shown below:\n",
    "\n",
    "```python\n",
    "c([\"How are you?\", r, [img, q]])\n",
    "```"
   ]
  },
  {
   "cell_type": "code",
   "execution_count": null,
   "id": "73ce3789",
   "metadata": {},
   "outputs": [
    {
     "data": {
      "text/markdown": [
       "The flowers in this image are purple.\n",
       "\n",
       "<details>\n",
       "\n",
       "- id: `msg_01CfXqwv33obnY7qfsvH3MFU`\n",
       "- content: `[{'citations': None, 'text': 'The flowers in this image are purple.', 'type': 'text'}]`\n",
       "- model: `claude-sonnet-4-20250514`\n",
       "- role: `assistant`\n",
       "- stop_reason: `end_turn`\n",
       "- stop_sequence: `None`\n",
       "- type: `message`\n",
       "- usage: `{'cache_creation_input_tokens': 0, 'cache_read_input_tokens': 0, 'input_tokens': 110, 'output_tokens': 11, 'server_tool_use': None, 'service_tier': 'standard'}`\n",
       "\n",
       "</details>"
      ],
      "text/plain": [
       "Message(id='msg_01CfXqwv33obnY7qfsvH3MFU', content=[TextBlock(citations=None, text='The flowers in this image are purple.', type='text')], model='claude-sonnet-4-20250514', role='assistant', stop_reason='end_turn', stop_sequence=None, type='message', usage=In: 110; Out: 11; Cache create: 0; Cache read: 0; Total Tokens: 121; Server tool use (web search requests): 0)"
      ]
     },
     "execution_count": null,
     "metadata": {},
     "output_type": "execute_result"
    }
   ],
   "source": [
    "c = Chat(model)\n",
    "c([img, q])"
   ]
  },
  {
   "cell_type": "code",
   "execution_count": null,
   "id": "496178d9",
   "metadata": {},
   "outputs": [],
   "source": [
    "def contents(r):\n",
    "    \"Helper to get the contents from Claude response `r`.\"\n",
    "    blk = find_block(r)\n",
    "    if not blk and r.content: blk = r.content[0]\n",
    "    if hasattr(blk,'text'): return blk.text.strip()\n",
    "    elif hasattr(blk,'content'): return blk.content.strip()\n",
    "    elif hasattr(blk,'source'): return f'*Media Type - {blk.type}*'\n",
    "    return str(blk)"
   ]
  },
  {
   "cell_type": "code",
   "execution_count": null,
   "id": "8b9d8064",
   "metadata": {},
   "outputs": [
    {
     "data": {
      "text/plain": [
       "'*Media Type - image*'"
      ]
     },
     "execution_count": null,
     "metadata": {},
     "output_type": "execute_result"
    }
   ],
   "source": [
    "contents(c.h[0])"
   ]
  },
  {
   "cell_type": "code",
   "execution_count": null,
   "id": "3eb5f016",
   "metadata": {},
   "outputs": [
    {
     "data": {
      "text/markdown": [
       "The flowers in this image are purple.\n",
       "\n",
       "<details>\n",
       "<summary>► History</summary>\n",
       "\n",
       "**user**: *Media Type - image*\n",
       "\n",
       "**assistant**: The flowers in this image are purple.\n",
       "\n",
       "</details>\n",
       "\n",
       "| Metric | Count | Cost (USD) |\n",
       "|--------|------:|-----:|\n",
       "| Input tokens | 110 | 0.000330 |\n",
       "| Output tokens | 11 | 0.000165 |\n",
       "| Cache tokens | 0 | 0.000000 |\n",
       "| Server tool use | 0 | 0.000000 |\n",
       "| **Total** | **121** | **$0.000495** |"
      ],
      "text/plain": [
       "<__main__.Chat>"
      ]
     },
     "execution_count": null,
     "metadata": {},
     "output_type": "execute_result"
    }
   ],
   "source": [
    "c"
   ]
  },
  {
   "cell_type": "markdown",
   "id": "00482861",
   "metadata": {},
   "source": [
    ":::{.callout-note}\n",
    "\n",
    "Unfortunately, not all Claude models support images 😞. This [table](https://docs.anthropic.com/en/docs/about-claude/models#model-comparison-table) summarizes the capabilities of each Claude model and the different modalities they support.\n",
    "\n",
    ":::"
   ]
  },
  {
   "cell_type": "markdown",
   "id": "abd9dbe9",
   "metadata": {},
   "source": [
    "## Caching"
   ]
  },
  {
   "cell_type": "markdown",
   "id": "026fb70e",
   "metadata": {},
   "source": [
    "Claude supports context caching by adding a `cache_control` header to the message content.\n",
    "\n",
    "```js\n",
    "{\n",
    "    \"role\": \"user\",\n",
    "    \"content\": [\n",
    "        {\n",
    "            \"type\": \"text\", \n",
    "            \"text\": \"Please cache my message\", \n",
    "            \"cache_control\": {\"type\": \"ephemeral\"}\n",
    "        }\n",
    "    ]\n",
    "}\n",
    "```\n",
    "\n",
    "To cache a message, we simply set `cache=True` when calling `mk_msg`."
   ]
  },
  {
   "cell_type": "code",
   "execution_count": null,
   "id": "19a9d3e1",
   "metadata": {},
   "outputs": [
    {
     "data": {
      "text/markdown": [
       "```json\n",
       "{ 'content': [ {'text': 'hi', 'type': 'text'},\n",
       "               { 'cache_control': {'type': 'ephemeral'},\n",
       "                 'text': 'there',\n",
       "                 'type': 'text'}],\n",
       "  'role': 'user'}\n",
       "```"
      ],
      "text/plain": [
       "{'role': 'user',\n",
       " 'content': [{'type': 'text', 'text': 'hi'},\n",
       "  {'type': 'text', 'text': 'there', 'cache_control': {'type': 'ephemeral'}}]}"
      ]
     },
     "execution_count": null,
     "metadata": {},
     "output_type": "execute_result"
    }
   ],
   "source": [
    "mk_msg(['hi', 'there'], cache=True)"
   ]
  },
  {
   "cell_type": "markdown",
   "id": "e412abd5",
   "metadata": {},
   "source": [
    "Claude also now supports smart cache look-ups, so it's very simple to keep an entire conversation in cache by constantly telling it to update the cache with the latest message. To do this, we just need to set `cache=True` when creating a `Chat`."
   ]
  },
  {
   "cell_type": "code",
   "execution_count": null,
   "id": "5eb7bed0",
   "metadata": {},
   "outputs": [],
   "source": [
    "chat = Chat(model, sp=sp, cache=True)"
   ]
  },
  {
   "cell_type": "markdown",
   "id": "745a3182",
   "metadata": {},
   "source": [
    "Caching has a minimum token limit of 1024 tokens for Sonnet and Opus, and 2048 for Haiku. If your conversation is below this limit, it will not be cached."
   ]
  },
  {
   "cell_type": "code",
   "execution_count": null,
   "id": "ed6e5fe2",
   "metadata": {},
   "outputs": [
    {
     "data": {
      "text/markdown": [
       "Hi Jeremy! Nice to meet you. How are you doing today?\n",
       "\n",
       "<details>\n",
       "\n",
       "- id: `msg_01UkAzUS4wBxBkfG4AEczUE1`\n",
       "- content: `[{'citations': None, 'text': 'Hi Jeremy! Nice to meet you. How are you doing today?', 'type': 'text'}]`\n",
       "- model: `claude-sonnet-4-20250514`\n",
       "- role: `assistant`\n",
       "- stop_reason: `end_turn`\n",
       "- stop_sequence: `None`\n",
       "- type: `message`\n",
       "- usage: `{'cache_creation_input_tokens': 0, 'cache_read_input_tokens': 0, 'input_tokens': 20, 'output_tokens': 17, 'server_tool_use': None, 'service_tier': 'standard'}`\n",
       "\n",
       "</details>"
      ],
      "text/plain": [
       "Message(id='msg_01UkAzUS4wBxBkfG4AEczUE1', content=[TextBlock(citations=None, text='Hi Jeremy! Nice to meet you. How are you doing today?', type='text')], model='claude-sonnet-4-20250514', role='assistant', stop_reason='end_turn', stop_sequence=None, type='message', usage=In: 20; Out: 17; Cache create: 0; Cache read: 0; Total Tokens: 37; Server tool use (web search requests): 0)"
      ]
     },
     "execution_count": null,
     "metadata": {},
     "output_type": "execute_result"
    }
   ],
   "source": [
    "chat(\"Hi, I'm Jeremy.\")"
   ]
  },
  {
   "cell_type": "markdown",
   "id": "4762e29d",
   "metadata": {},
   "source": [
    "Note the usage: no cache is created, nor used. Now, let's send a long enough message to trigger caching."
   ]
  },
  {
   "cell_type": "code",
   "execution_count": null,
   "id": "e870355c",
   "metadata": {},
   "outputs": [
    {
     "data": {
      "text/markdown": [
       "I see you've sent a very long block of \"Lorem ipsum dolor sit amet\" repeated many times! Lorem ipsum is that classic placeholder text used in design and publishing. \n",
       "\n",
       "Was this intentional, or did something go wrong with copy-pasting? Either way, no worries - happens to the best of us! Is there something specific you'd like to chat about, Jeremy?\n",
       "\n",
       "<details>\n",
       "\n",
       "- id: `msg_01Cf5S1iAx1bxeFxw4EoCQoH`\n",
       "- content: `[{'citations': None, 'text': 'I see you\\'ve sent a very long block of \"Lorem ipsum dolor sit amet\" repeated many times! Lorem ipsum is that classic placeholder text used in design and publishing. \\n\\nWas this intentional, or did something go wrong with copy-pasting? Either way, no worries - happens to the best of us! Is there something specific you\\'d like to chat about, Jeremy?', 'type': 'text'}]`\n",
       "- model: `claude-sonnet-4-20250514`\n",
       "- role: `assistant`\n",
       "- stop_reason: `end_turn`\n",
       "- stop_sequence: `None`\n",
       "- type: `message`\n",
       "- usage: `{'cache_creation_input_tokens': 1084, 'cache_read_input_tokens': 0, 'input_tokens': 4, 'output_tokens': 82, 'server_tool_use': None, 'service_tier': 'standard'}`\n",
       "\n",
       "</details>"
      ],
      "text/plain": [
       "Message(id='msg_01Cf5S1iAx1bxeFxw4EoCQoH', content=[TextBlock(citations=None, text='I see you\\'ve sent a very long block of \"Lorem ipsum dolor sit amet\" repeated many times! Lorem ipsum is that classic placeholder text used in design and publishing. \\n\\nWas this intentional, or did something go wrong with copy-pasting? Either way, no worries - happens to the best of us! Is there something specific you\\'d like to chat about, Jeremy?', type='text')], model='claude-sonnet-4-20250514', role='assistant', stop_reason='end_turn', stop_sequence=None, type='message', usage=In: 4; Out: 82; Cache create: 1084; Cache read: 0; Total Tokens: 1170; Server tool use (web search requests): 0)"
      ]
     },
     "execution_count": null,
     "metadata": {},
     "output_type": "execute_result"
    }
   ],
   "source": [
    "chat(\"\"\"Lorem ipsum dolor sit amet\"\"\" * 150)"
   ]
  },
  {
   "cell_type": "markdown",
   "id": "0b7a7036",
   "metadata": {},
   "source": [
    "The context is now long enough for cache to be used. All the conversation history has now been written to the temporary cache. Any subsequent message will read from it rather than re-processing the entire conversation history."
   ]
  },
  {
   "cell_type": "code",
   "execution_count": null,
   "id": "1dc2286e",
   "metadata": {},
   "outputs": [
    {
     "data": {
      "text/markdown": [
       "Haha, no problem at all! Those lorem ipsum generators can definitely get a bit enthusiastic sometimes. It's like they're trying to fill every possible space with placeholder text! \n",
       "\n",
       "I've seen that happen before - you ask for a paragraph and suddenly you've got enough fake Latin to write a novel. Did you get it sorted out, or is it still churning out endless \"dolor sit amets\" somewhere?\n",
       "\n",
       "<details>\n",
       "\n",
       "- id: `msg_0178XFDJbdG7F642694cNyJU`\n",
       "- content: `[{'citations': None, 'text': 'Haha, no problem at all! Those lorem ipsum generators can definitely get a bit enthusiastic sometimes. It\\'s like they\\'re trying to fill every possible space with placeholder text! \\n\\nI\\'ve seen that happen before - you ask for a paragraph and suddenly you\\'ve got enough fake Latin to write a novel. Did you get it sorted out, or is it still churning out endless \"dolor sit amets\" somewhere?', 'type': 'text'}]`\n",
       "- model: `claude-sonnet-4-20250514`\n",
       "- role: `assistant`\n",
       "- stop_reason: `end_turn`\n",
       "- stop_sequence: `None`\n",
       "- type: `message`\n",
       "- usage: `{'cache_creation_input_tokens': 100, 'cache_read_input_tokens': 1084, 'input_tokens': 4, 'output_tokens': 90, 'server_tool_use': None, 'service_tier': 'standard'}`\n",
       "\n",
       "</details>"
      ],
      "text/plain": [
       "Message(id='msg_0178XFDJbdG7F642694cNyJU', content=[TextBlock(citations=None, text='Haha, no problem at all! Those lorem ipsum generators can definitely get a bit enthusiastic sometimes. It\\'s like they\\'re trying to fill every possible space with placeholder text! \\n\\nI\\'ve seen that happen before - you ask for a paragraph and suddenly you\\'ve got enough fake Latin to write a novel. Did you get it sorted out, or is it still churning out endless \"dolor sit amets\" somewhere?', type='text')], model='claude-sonnet-4-20250514', role='assistant', stop_reason='end_turn', stop_sequence=None, type='message', usage=In: 4; Out: 90; Cache create: 100; Cache read: 1084; Total Tokens: 1278; Server tool use (web search requests): 0)"
      ]
     },
     "execution_count": null,
     "metadata": {},
     "output_type": "execute_result"
    }
   ],
   "source": [
    "chat(\"Oh thank you! Sorry, my lorem ipsum generator got out of control!\")"
   ]
  },
  {
   "cell_type": "markdown",
   "id": "3d162fca",
   "metadata": {},
   "source": [
    "## Extended Thinking"
   ]
  },
  {
   "cell_type": "markdown",
   "id": "11327638",
   "metadata": {},
   "source": [
    "Claude >=3.7 Sonnet & Opus have enhanced reasoning capabilities for complex tasks. See [docs](https://docs.anthropic.com/en/docs/build-with-claude/extended-thinking) for more info.\n",
    "\n",
    "We can enable extended thinking by passing a `thinking` param with the following structure.\n",
    "\n",
    "```js\n",
    "thinking={\n",
    "    \"type\": \"enabled\",\n",
    "    \"budget_tokens\": 16000\n",
    "}\n",
    "```\n",
    "\n",
    "When extended thinking is enabled a thinking block is included in the response as shown below.\n",
    "\n",
    "```js\n",
    "{\n",
    "  \"content\": [\n",
    "    {\n",
    "      \"type\": \"thinking\",\n",
    "      \"thinking\": \"To approach this, let's think about...\",\n",
    "      \"signature\": \"Imtakcjsu38219c0.eyJoYXNoIjoiYWJjM0NTY3fQ....\"\n",
    "    },\n",
    "    {\n",
    "      \"type\": \"text\",\n",
    "      \"text\": \"Yes, there are infinitely many prime numbers such that...\"\n",
    "    }\n",
    "  ]\n",
    "}\n",
    "```"
   ]
  },
  {
   "cell_type": "markdown",
   "id": "503cae9b",
   "metadata": {},
   "source": [
    "Let's add a `maxthinktok` param to the `Client` and `Chat` call methods. When this value is not 0, we'll pass a thinking param to Claude `{\"type\":\"enabled\", \"budget_tokens\":maxthinktok}`.\n",
    "\n",
    "*Note: When thinking is [enabled](https://docs.anthropic.com/en/docs/build-with-claude/extended-thinking#important-considerations-when-using-extended-thinking) `prefill` must be empty and the `temp` must be 1.*"
   ]
  },
  {
   "cell_type": "code",
   "execution_count": null,
   "id": "c399a36e",
   "metadata": {},
   "outputs": [],
   "source": [
    "#| export\n",
    "def think_md(txt, thk):\n",
    "    return f\"\"\"\n",
    "{txt}\n",
    "\n",
    "<details>\n",
    "<summary>Thinking</summary>\n",
    "{thk}\n",
    "</details>\n",
    "\"\"\""
   ]
  },
  {
   "cell_type": "code",
   "execution_count": null,
   "id": "bd68ca17",
   "metadata": {},
   "outputs": [],
   "source": [
    "def contents(r, show_thk=True):\n",
    "    \"Helper to get the contents from Claude response `r`.\"\n",
    "    blk = find_block(r)\n",
    "    if show_thk:\n",
    "        tk_blk = find_block(r, blk_type=ThinkingBlock)\n",
    "        if tk_blk: return think_md(blk.text.strip(), tk_blk.thinking.strip())\n",
    "    if not blk and r.content: blk = r.content[0]\n",
    "    if hasattr(blk,'text'): return blk.text.strip()\n",
    "    elif hasattr(blk,'content'): return blk.content.strip()\n",
    "    elif hasattr(blk,'source'): return f'*Media Type - {blk.type}*'\n",
    "    return str(blk)"
   ]
  },
  {
   "cell_type": "markdown",
   "id": "4e66607b",
   "metadata": {},
   "source": [
    "Let's call the model without extended thinking enabled. "
   ]
  },
  {
   "cell_type": "code",
   "execution_count": null,
   "id": "26b5f9c7",
   "metadata": {},
   "outputs": [
    {
     "data": {
      "text/plain": [
       "'claude-3-7-sonnet-20250219'"
      ]
     },
     "execution_count": null,
     "metadata": {},
     "output_type": "execute_result"
    }
   ],
   "source": [
    "tk_model = first(has_extended_thinking_models)\n",
    "tk_model"
   ]
  },
  {
   "cell_type": "code",
   "execution_count": null,
   "id": "adc3e86f",
   "metadata": {},
   "outputs": [],
   "source": [
    "chat = Chat(tk_model)"
   ]
  },
  {
   "cell_type": "code",
   "execution_count": null,
   "id": "b7911771",
   "metadata": {},
   "outputs": [
    {
     "data": {
      "text/markdown": [
       "Python is a versatile programming language known for its readable syntax and wide application in fields ranging from web development to data science and artificial intelligence.\n",
       "\n",
       "<details>\n",
       "\n",
       "- id: `msg_01LxGU66RgaTvb5HZd2mbqbF`\n",
       "- content: `[{'citations': None, 'text': 'Python is a versatile programming language known for its readable syntax and wide application in fields ranging from web development to data science and artificial intelligence.', 'type': 'text'}]`\n",
       "- model: `claude-3-7-sonnet-20250219`\n",
       "- role: `assistant`\n",
       "- stop_reason: `end_turn`\n",
       "- stop_sequence: `None`\n",
       "- type: `message`\n",
       "- usage: `{'cache_creation_input_tokens': 0, 'cache_read_input_tokens': 0, 'input_tokens': 13, 'output_tokens': 31, 'server_tool_use': None, 'service_tier': 'standard'}`\n",
       "\n",
       "</details>"
      ],
      "text/plain": [
       "Message(id='msg_01LxGU66RgaTvb5HZd2mbqbF', content=[TextBlock(citations=None, text='Python is a versatile programming language known for its readable syntax and wide application in fields ranging from web development to data science and artificial intelligence.', type='text')], model='claude-3-7-sonnet-20250219', role='assistant', stop_reason='end_turn', stop_sequence=None, type='message', usage=In: 13; Out: 31; Cache create: 0; Cache read: 0; Total Tokens: 44; Server tool use (web search requests): 0)"
      ]
     },
     "execution_count": null,
     "metadata": {},
     "output_type": "execute_result"
    }
   ],
   "source": [
    "chat(\"Write a sentence about Python!\")"
   ]
  },
  {
   "cell_type": "markdown",
   "id": "e9aab9e0",
   "metadata": {},
   "source": [
    "Now, let's call the model with extended thinking enabled."
   ]
  },
  {
   "cell_type": "code",
   "execution_count": null,
   "id": "0aec5ad6",
   "metadata": {},
   "outputs": [
    {
     "data": {
      "text/markdown": [
       "\n",
       "Python, named after the comedy group Monty Python, has grown from a hobby project started by Guido van Rossum in the late 1980s to become one of the world's most popular programming languages.\n",
       "\n",
       "<details>\n",
       "<summary>Thinking</summary>\n",
       "I'm being asked to write another sentence about Python. Since I already wrote one response about Python as a programming language, I should write something different this time to provide variety. I could focus on different aspects of Python such as:\n",
       "\n",
       "- Its creator or history\n",
       "- Its popularity\n",
       "- Specific features\n",
       "- Community aspects\n",
       "- Another meaning of \"python\" (like the snake)\n",
       "\n",
       "I'll write a different sentence that highlights another aspect of Python that wasn't covered in my previous response.\n",
       "</details>\n",
       "\n",
       "\n",
       "<details>\n",
       "\n",
       "- id: `msg_016TJyrSqSWbAuswncFJW35F`\n",
       "- content: `[{'signature': 'ErUBCkYIBBgCIkADIHw1kNZ+ywY7wv6qQfP8STLvwf4iz7lzg1idFGuewF2OOsWxiEFqDuhfYg3Qt41u+1SLe50oQySERi37JpnUEgxcd4xRd79sPih9WlEaDH93qslG2RDFBK0PoSIwr5iITLyR7qjXzlWIie0cI8EfVZ/lIBBj6tzw4YK+0Ozb9rdRtm6OOtwUBMeXA/qYKh0pdLh4C1RxZbg+djwpt0uo9o82jrj3jGnhYwvAKhgC', 'thinking': 'I\\'m being asked to write another sentence about Python. Since I already wrote one response about Python as a programming language, I should write something different this time to provide variety. I could focus on different aspects of Python such as:\\n\\n- Its creator or history\\n- Its popularity\\n- Specific features\\n- Community aspects\\n- Another meaning of \"python\" (like the snake)\\n\\nI\\'ll write a different sentence that highlights another aspect of Python that wasn\\'t covered in my previous response.', 'type': 'thinking'}, {'citations': None, 'text': \"Python, named after the comedy group Monty Python, has grown from a hobby project started by Guido van Rossum in the late 1980s to become one of the world's most popular programming languages.\", 'type': 'text'}]`\n",
       "- model: `claude-3-7-sonnet-20250219`\n",
       "- role: `assistant`\n",
       "- stop_reason: `end_turn`\n",
       "- stop_sequence: `None`\n",
       "- type: `message`\n",
       "- usage: `{'cache_creation_input_tokens': 0, 'cache_read_input_tokens': 0, 'input_tokens': 81, 'output_tokens': 158, 'server_tool_use': None, 'service_tier': 'standard'}`\n",
       "\n",
       "</details>"
      ],
      "text/plain": [
       "Message(id='msg_016TJyrSqSWbAuswncFJW35F', content=[ThinkingBlock(signature='ErUBCkYIBBgCIkADIHw1kNZ+ywY7wv6qQfP8STLvwf4iz7lzg1idFGuewF2OOsWxiEFqDuhfYg3Qt41u+1SLe50oQySERi37JpnUEgxcd4xRd79sPih9WlEaDH93qslG2RDFBK0PoSIwr5iITLyR7qjXzlWIie0cI8EfVZ/lIBBj6tzw4YK+0Ozb9rdRtm6OOtwUBMeXA/qYKh0pdLh4C1RxZbg+djwpt0uo9o82jrj3jGnhYwvAKhgC', thinking='I\\'m being asked to write another sentence about Python. Since I already wrote one response about Python as a programming language, I should write something different this time to provide variety. I could focus on different aspects of Python such as:\\n\\n- Its creator or history\\n- Its popularity\\n- Specific features\\n- Community aspects\\n- Another meaning of \"python\" (like the snake)\\n\\nI\\'ll write a different sentence that highlights another aspect of Python that wasn\\'t covered in my previous response.', type='thinking'), TextBlock(citations=None, text=\"Python, named after the comedy group Monty Python, has grown from a hobby project started by Guido van Rossum in the late 1980s to become one of the world's most popular programming languages.\", type='text')], model='claude-3-7-sonnet-20250219', role='assistant', stop_reason='end_turn', stop_sequence=None, type='message', usage=In: 81; Out: 158; Cache create: 0; Cache read: 0; Total Tokens: 239; Server tool use (web search requests): 0)"
      ]
     },
     "execution_count": null,
     "metadata": {},
     "output_type": "execute_result"
    }
   ],
   "source": [
    "chat(\"Write a sentence about Python!\", maxthinktok=1024)"
   ]
  },
  {
   "cell_type": "markdown",
   "id": "67acb3f1",
   "metadata": {},
   "source": [
    "## Server Tools and Web Search"
   ]
  },
  {
   "cell_type": "markdown",
   "id": "ca3e7c2e",
   "metadata": {},
   "source": [
    "The `str_replace` special tool type is a client side tool, i.e., one where we provide the implementation. However, Anthropic also supports server side tools. The current one available is their search tool, which you can find the documentation for [here](https://docs.anthropic.com/en/docs/build-with-claude/tool-use/web-search-tool). When provided as a tool to claude, claude can decide to search the web in order to answer or solve the task at hand."
   ]
  },
  {
   "cell_type": "code",
   "execution_count": null,
   "id": "3a2abe4f",
   "metadata": {},
   "outputs": [],
   "source": [
    "#| export\n",
    "def search_conf(max_uses:int=None, allowed_domains:list=None, blocked_domains:list=None, user_location:dict=None):\n",
    "    'Little helper to create a search tool config'\n",
    "    conf = {'type': 'web_search_20250305', 'name': 'web_search'}\n",
    "    if max_uses: conf['max_uses'] = max_uses\n",
    "    if allowed_domains: conf['allowed_domains'] = allowed_domains\n",
    "    if blocked_domains: conf['blocked_domains'] = blocked_domains\n",
    "    if user_location: conf['user_location'] = user_location\n",
    "    return conf"
   ]
  },
  {
   "cell_type": "markdown",
   "id": "bf10a671",
   "metadata": {},
   "source": [
    "Similar to client side tools, you provide to the `tools` argument in the anthropic api a non-schema dictionary with the tool's name, type, and any additional metadata specific to that tool. Here's a function to make that process easier for the web search tool."
   ]
  },
  {
   "cell_type": "code",
   "execution_count": null,
   "id": "9d3aeee3",
   "metadata": {},
   "outputs": [
    {
     "data": {
      "text/plain": [
       "{'type': 'web_search_20250305', 'name': 'web_search'}"
      ]
     },
     "execution_count": null,
     "metadata": {},
     "output_type": "execute_result"
    }
   ],
   "source": [
    "search_conf()"
   ]
  },
  {
   "cell_type": "markdown",
   "id": "8214e569",
   "metadata": {},
   "source": [
    "The web search tool returns a list of `TextBlock`s comprised of response text from the model, `ServerToolUseBlock` and server tool results block such as `WebSearchToolResultBlock`. Some of these `TextBlock`s will contain citations with references to the results of the web search tool. Here is what all this looks like:\n",
    "\n",
    "```js\n",
    "{\n",
    "  \"content\": [\n",
    "    {\n",
    "      \"type\": \"text\",\n",
    "      \"text\": \"I'll check the current weather in...\",\n",
    "    },\n",
    "    {\n",
    "      \"type\": \"server_tool_use\",\n",
    "      \"name\": \"web_search\",\n",
    "      \"input\": {\"query\": \"San Diego weather forecast today May 12 2025\"},\n",
    "      \"id\":\"srvtoolu_014t7fS449voTHRCVzi5jQGC\"\n",
    "    },\n",
    "    {\n",
    "      \"type\": \"web_search_tool_result\",\n",
    "      \"tool_use_id\": \"srvtoolu_014t7fS449voTHRCVzi5jQGC\",\n",
    "      \"content\": [\n",
    "        \"type\": \"web_search_result\",\n",
    "        \"title\": \"Heat Advisory issued May 9...\",\n",
    "        \"url\": \"https://kesq.com/weather/...\",\n",
    "        \"page_age\": \"3 days ago\",\n",
    "        \"encrypted_content\": \"ErgECioIAxgCIiQ4ODk4YTFkY...\",\n",
    "        ...\n",
    "      ]\n",
    "    }\n",
    "    {\n",
    "      \"type\": \"text\",\n",
    "      \"citations\": [\n",
    "        {\n",
    "            \"cited_text\": 'The average temperature during this month...',\n",
    "            \"title\": \"Weather San Diego in May 2025:...\",\n",
    "            \"url\": \"https://en.climate-data.org/...\",\n",
    "            \"encrypted_index\": \"EpMBCioIAxgCIiQ4ODk4YTF...\"\n",
    "        }\n",
    "      ],\n",
    "      \"text\": \"The average temperature in San Diego during May is...\"\n",
    "    },\n",
    "    ...\n",
    "  ]\n",
    "}\n",
    "```\n",
    "\n",
    " Let's update our `contents` function to handle these cases. For handling citations, we will use the excellent reference syntax in markdown to make clickable citation links."
   ]
  },
  {
   "cell_type": "code",
   "execution_count": null,
   "id": "786e2e8f",
   "metadata": {},
   "outputs": [],
   "source": [
    "#| export\n",
    "def find_blocks(r, blk_type=TextBlock, type='text'):\n",
    "    \"Helper to find all blocks of type `blk_type` in response `r`.\"\n",
    "    if isinstance(r, dict): f = lambda b: b.get('type') == 'text'\n",
    "    else: f = lambda b: isinstance(b, TextBlock)\n",
    "    return [b for b in getattr(r, \"content\", []) if f(b)]"
   ]
  },
  {
   "cell_type": "code",
   "execution_count": null,
   "id": "babfac4e",
   "metadata": {},
   "outputs": [],
   "source": [
    "#| export\n",
    "def blks2cited_txt(txt_blks):\n",
    "    \"Helper to get the contents from a list of `TextBlock`s, with citations.\"\n",
    "    text_sections, citations = [], []\n",
    "    for blk in txt_blks:\n",
    "        if isinstance(blk, dict): blk = AttrDict(blk)\n",
    "        section = blk.text\n",
    "        if getattr(blk, 'citations', None):\n",
    "            markers = []\n",
    "            for cit in blk.citations:\n",
    "                citations.append(cit)\n",
    "                markers.append(f\"[^{len(citations)}]\") # maintain global citation order\n",
    "            section = f\"{section} \" + \" \".join(markers)\n",
    "        text_sections.append(section)\n",
    "    body = \"\".join(text_sections)\n",
    "    if citations:\n",
    "        refs = \"\\n\\n\".join(f\"[^{i+1}]: {c.url}\\n\\t\\\"{c.cited_text}\\\"\" for i, c in enumerate(citations))\n",
    "        body = f\"{body}\\n\\n{refs}\" if body else refs\n",
    "    return body"
   ]
  },
  {
   "cell_type": "code",
   "execution_count": null,
   "id": "26ae307a",
   "metadata": {},
   "outputs": [],
   "source": [
    "#| export\n",
    "def contents(r, show_thk=True):\n",
    "    \"Helper to get the contents from Claude response `r`.\"\n",
    "    blks = find_blocks(r, blk_type=TextBlock)\n",
    "    content = None\n",
    "    if blks: content = blks2cited_txt(blks)\n",
    "    if show_thk:\n",
    "        tk_blk = find_block(r, blk_type=ThinkingBlock)\n",
    "        if tk_blk: return think_md(content, tk_blk.thinking.strip())\n",
    "    if not content:\n",
    "        blk = find_block(r)\n",
    "        if not blk and getattr(r, \"content\", None): blk = r.content[0]\n",
    "        if hasattr(blk, \"text\"): content = blk.text.strip()\n",
    "        elif hasattr(blk, \"content\"): content = blk.content.strip()\n",
    "        elif hasattr(blk, \"source\"): content = f\"*Media Type - {blk.type}*\"\n",
    "        else: content = str(blk)\n",
    "    return content"
   ]
  },
  {
   "cell_type": "code",
   "execution_count": null,
   "id": "37f9a207",
   "metadata": {},
   "outputs": [
    {
     "data": {
      "text/markdown": [
       "Based on the current weather information for San Diego, here's what I found:\n",
       "\n",
       "The current temperature in San Diego is 72°F with partly cloudy conditions [^1]. Winds are coming from the north at 2 mph with gusts up to 10 mph [^2].\n",
       "\n",
       "For tonight, expect cloudy skies with a low of 61°F and winds from the west-northwest at 5 to 10 mph [^3].\n",
       "\n",
       "Tomorrow's forecast shows sunshine along with some cloudy intervals, with a high of 74°F and west winds at 5 to 10 mph [^4].\n",
       "\n",
       "According to the National Weather Service, today will be the hottest day of the week with temperatures 5-10 degrees above normal [^5].\n",
       "\n",
       "The air quality shows some concerns, as the air has reached a high level of pollution and is unhealthy for sensitive groups [^6].\n",
       "\n",
       "[^1]: https://www.wunderground.com/weather/us/ca/san-diego\n",
       "\t\"zoom out · Showing Stations · access_time 6:33 PM PDT on June 14, 2025 (GMT -7) | Updated 5 seconds ago · --° | 61° · 72 °F · like 73° · Partly Cloudy...\"\n",
       "\n",
       "[^2]: https://www.wunderground.com/weather/us/ca/san-diego\n",
       "\t\"zoom out · Showing Stations · access_time 6:33 PM PDT on June 14, 2025 (GMT -7) | Updated 5 seconds ago · --° | 61° · 72 °F · like 73° · Partly Cloudy...\"\n",
       "\n",
       "[^3]: https://www.wunderground.com/weather/us/ca/san-diego\n",
       "\t\"/ 0.00 °in Cloudy. Low 61F. Winds WNW at 5 to 10 mph. \"\n",
       "\n",
       "[^4]: https://www.wunderground.com/weather/us/ca/san-diego\n",
       "\t\"/ 0.00 °in Sunshine along with some cloudy intervals. High 74F. Winds W at 5 to 10 mph. \"\n",
       "\n",
       "[^5]: https://www.weather.gov/sgx/\n",
       "\t\"Today will be the hottest day of the week with highs 5-10 degrees above normal. \"\n",
       "\n",
       "[^6]: https://www.accuweather.com/en/us/san-diego/92101/weather-forecast/347628\n",
       "\t\"The air has reached a high level of pollution and is unhealthy for sensitive groups. \"\n",
       "\n",
       "<details>\n",
       "\n",
       "- id: `msg_01TqqiUjP4ua8Lqgdb9qx6du`\n",
       "- content: `[{'id': 'srvtoolu_018EJgmzXbsoYSRWUMYq2DBq', 'input': {'query': 'San Diego weather today'}, 'name': 'web_search', 'type': 'server_tool_use'}, {'content': [{'encrypted_content': 'EqcCCioIBBgCIiQ4ODk4YTFkYy0yMTNkLTRhNmYtOTljYi03ZTBlNTUzZDc0NWISDCaMaO6VgxiaKqZXrxoMNAD0b/ETmfNw7RkxIjDc1peQ1+ADsdjQIltXag4RocW9N9eVMb4pmUgsO+XV9hKsDYJtFKuYDMuZ5SzCdUwqqgEN6WHTbX+1ePj08vlE5eW8NmJOpH+qKF2zx5E3F/Z5Z8lh2uMitZu2rKqwqhlNAcUFrEufQfoEkpuEWn2oSAffuJCGI7QCC5V+Bjee/f6ryDX6YcWFoLyWHwGP+XRQ2CW5rbVEtCO44UEXErYkJllmpjAyK63Bi/9JTRvxJlNJGYLGE4wD1S8wFF99nhdISqmHurPneNtWLzUrVSofLUd0iUNtDBdD4OlJbxgD', 'page_age': '2 weeks ago', 'title': '10-Day Weather Forecast for San Diego, CA - The Weather Channel | weather.com', 'type': 'web_search_result', 'url': 'https://weather.com/weather/tenday/l/San+Diego+CA?canonicalCityId=3b2b39ed755b459b725bf2a29c71d678'}, {'encrypted_content': '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', 'page_age': 'April 15, 2025', 'title': 'San Diego, CA Weather Forecast | AccuWeather', 'type': 'web_search_result', 'url': 'https://www.accuweather.com/en/us/san-diego/92101/weather-forecast/347628'}, {'encrypted_content': 'Er0ECioIBBgCIiQ4ODk4YTFkYy0yMTNkLTRhNmYtOTljYi03ZTBlNTUzZDc0NWISDNY90xpfN6cqZ3++9RoMEQkk3+UnooY2hvGvIjDRbFmzhyteUhit4wvP43DaEaq6On0KmhshYS05b6F6qfHvY5C+/3HE7ImVBQ9IBx8qwAOOY0n8A6pSd0GIWiEDOP/lodpa7lu4v+W9YB1rKIbJhTsB/ebqChX8YOKcp9Fzb0Y/O86CIv/Kzpdz+vCUY+UBZlck+ycNpsGNt/MbI+zvk6025RnAwx6jOqyUTou9Xz2JS1FRSHIGB4CkZ9MGkZQw7tdOle4DflfvqoM01O6vwIe+abxsfTtVULrPenYKBPJ6RdiFqf2Hmr/3HaszD02aBibLGWimgKlYDwNHWgAJtiBe+D7YQMFzWeqC8Ybhg5AMnAX6Wmrt3/GYqSryRf9p2wFyPrHBLz/qLd2/94ACJuTVeIQGn8+gaMVZcSZBGmqVzV/Vom6x3T2Ooev2RiCD4lUY1OkNvlFxnCPvdGQh8WuvR108S0tLbwhrdaeoABXzTiMy+XCHUfcFhT6tZUdaaQ0bh/uUPcayghAPnuJVUIkecqZnn/AumAURBlB3ilWhRWS9RvtDXqb4fSYkgT5RBEZPt7j+faIecWhguusCHAyEToebHKdjn/vW7PSOZ3H9jzDSAdOOfS71P26OtTjfgR0ZxijCsfCjO6GWyv9l5lWddc7a4m7Uyph6GeLgpX66OOu/e2E/tg1O04Hx+WC2GAM=', 'page_age': '4 days ago', 'title': 'San Diego weather forecast – NBC 7 San Diego', 'type': 'web_search_result', 'url': 'https://www.nbcsandiego.com/weather/'}, {'encrypted_content': 'EpcECioIBBgCIiQ4ODk4YTFkYy0yMTNkLTRhNmYtOTljYi03ZTBlNTUzZDc0NWISDCxrTkwD4JR/u+KimBoMIJCy8vf/Ko5P18U8IjAv37v/Hi7vudgCv3tQzfHyFby4i1y0en4Ct9ASZ5tlXxoNBukiCzBybTmz/iS21QsqmgNyxn5FM89mqxMc8+oV578FqknFaMBe32Qh7U0kmqXO/KHZAgdUj2jPmzbI62t+fJQ9n2gKBVWbtS2hffql2RVrrT/+X+kuFrDLev48KbhpuCpjXDqtaR9Pu4N0JjjA+YJxNLxoDJRpHn0mrFjctMNexU9EbfMBM52FBv31FfXUpVbJoCgi2qiPhBOIYqIlo8I4NJdxxZQNGuOy0fgR7Wfp93wfy6fpEv0vccUyi0SFgY1Yo5cGWHi10tWjc5kMw1ZMxMRkvVf/8PRANNumWdjMVFiAU09kylTzTBKxa3tDdMdwLn6vBKaWJRInsJvGMBRHQh6d35ZiuI048PTPa3nY9rK45PFTSyu8Xgm7ibtRMFWStFHhX7T3rUUE/CAF0g0ch1sA+zCkSEsuSWF8YoQ8TFfUbBnh60eZ2dQfrGPNBdnhawsPgSoaBw02gxh4WiAvl8d4NaK2KiuyxRW0TmKF44EpITNT9c0rzN8fJ+9qF1qODWgArVVjHi7YRBA1FmZhITO3p7xDwkfblvVlaVwEEmTTvo+1JGhS9xgD', 'page_age': '5 days ago', 'title': 'Weather Forecast and Conditions for San Diego, CA - The Weather Channel | Weather.com', 'type': 'web_search_result', 'url': 'https://weather.com/weather/today/l/San+Diego+CA?canonicalCityId=3b2b39ed755b459b725bf2a29c71d678'}, {'encrypted_content': 'EroDCioIBBgCIiQ4ODk4YTFkYy0yMTNkLTRhNmYtOTljYi03ZTBlNTUzZDc0NWISDM2M1q21W4CwikdFEhoMKLh1bM0WqSMDv5VUIjD7DfvNBcQg7xe75rPnWBitQLyX43rik90OFX3fbOU2e2PRBSSkwTLXPW1fgf5rkkwqvQI/zg1bUksm+kTH7Cfkp/n7HIg59PA4chz93RzHeOG4ot8TaXqx+ozA//xDXOTMHDjex63EP57iznGaxdBJe5O6WBbgT0fZlxskjixOPCJonI+KJCYzakf8Tru4GSUlgQBc/NxG+tcYoR8x1J8Q0V+6Wd9Y7+uViYcohaRXem/R83bS+BvENU4lhtuTAcUrT9IpWWqU1Po3rDtlGiOQo8Gf0qgByCMNYxCuOs7149jThdN5CYg9Avm6Cbw14VpG7M6wxhil4GLlRVjfWu+ulRSTECE93Swt20WcghCr/II/ZUGcuA8g97leQPphDFEmbQIB13STx45/mTcXR7cIplv9Moho+PGh7EK7q1rKsLtH4RPgcSdiD934eD2qOhntsI93lu4P4a+zWUneEicbRK7D9oKAPRkbChKRKmcRmxgD', 'page_age': '1 day ago', 'title': 'San Diego, CA', 'type': 'web_search_result', 'url': 'https://www.weather.gov/sgx/'}, {'encrypted_content': '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', 'page_age': None, 'title': 'San Diego, CA 10-Day Weather Forecast | Weather Underground', 'type': 'web_search_result', 'url': 'https://www.wunderground.com/forecast/us/ca/san-diego'}, {'encrypted_content': 'EpkCCioIBBgCIiQ4ODk4YTFkYy0yMTNkLTRhNmYtOTljYi03ZTBlNTUzZDc0NWISDISA7lvI35O+vFVLtRoM42xUKvGTd+2vHcpaIjDcPSz8+HKJEBoL6dOeQV2ZrHaYZYbgqL0RZotRA5U+ak0Slj4GbEASiq5qceG2o3wqnAFZcXWUbWditOgxdiKZMwU9gLoVTt+rZg6tERIiNQaPchal6ZhnTJ4zwketdwkNua+71SxldweH4ZyrNNdh1PePF10TrbGXt7oYwSfZ9t1eyBvnnqqYJ3vb3MIpGC10O24bNVwis6Ao2ghRD+rYENJ3+F/g+o5ehIEnDeHKrFDt0bW7W800oEBLl4Sv76tpSK3yHTNbiEOTKmYW0DgYAw==', 'page_age': None, 'title': 'San Diego, CA Weather Forecast | KGTV | kgtv.com', 'type': 'web_search_result', 'url': 'https://www.10news.com/weather'}, {'encrypted_content': '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', 'page_age': 'April 12, 2025', 'title': 'San Diego, CA Weather Conditions | Weather Underground', 'type': 'web_search_result', 'url': 'https://www.wunderground.com/weather/us/ca/san-diego'}, {'encrypted_content': 'EpQCCioIBBgCIiQ4ODk4YTFkYy0yMTNkLTRhNmYtOTljYi03ZTBlNTUzZDc0NWISDFuTkKRdyjRoe42sShoM9INXl1iPL+1H6qL3IjCiDxuIJSjJ1HzVWgPj4SyXbQ+cTM43/iWCfjtkzCnaos6zOMQs9v2r6lv5NyzjELkqlwGKZK4hPA791b7rZr38bK1pJn/0EWh8rZ5lHGYDD1OWpIr8i8Puc1mtfrc2jSfzR6Bgvbnp9m/0L3LJDWKzyBgXJKCHLiA38l+Myc/4vXDkHOd2dq+lj3vE6GKvUHPz92p0kogKPkK/+GsnzceK1WqwMb8Bhlsom6fkVI8GAdCazJp1t5dTt31TzmhInIDolIXoJerldCriGAM=', 'page_age': '1 day ago', 'title': 'Hourly Weather Forecast for San Diego, CA - The Weather Channel | Weather.com', 'type': 'web_search_result', 'url': 'https://weather.com/weather/hourbyhour/l/San+Diego+CA?canonicalCityId=3b2b39ed755b459b725bf2a29c71d678'}, {'encrypted_content': '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', 'page_age': None, 'title': 'San Diego, CA Hourly Weather | AccuWeather', 'type': 'web_search_result', 'url': 'https://www.accuweather.com/en/us/san-diego/92101/hourly-weather-forecast/347628'}], 'tool_use_id': 'srvtoolu_018EJgmzXbsoYSRWUMYq2DBq', 'type': 'web_search_tool_result'}, {'citations': None, 'text': \"Based on the current weather information for San Diego, here's what I found:\\n\\n\", 'type': 'text'}, {'citations': [{'cited_text': 'zoom out · Showing Stations · access_time 6:33 PM PDT on June 14, 2025 (GMT -7) | Updated 5 seconds ago · --° | 61° · 72 °F · like 73° · Partly Cloudy...', 'encrypted_index': 'Eo8BCioIBBgCIiQ4ODk4YTFkYy0yMTNkLTRhNmYtOTljYi03ZTBlNTUzZDc0NWISDMiDDwXL9x9T1822kxoMnoM61hIgtDvqZK7PIjD3H/JD/Ok2AX/f086uI3EYr1ABE87DbyVa7vSKDjnLnk6GISaJmCGPgs0exLHQPgEqE75O74HM8P+d7Kwr5HyKm+IicxQYBA==', 'title': 'San Diego, CA Weather Conditions | Weather Underground', 'type': 'web_search_result_location', 'url': 'https://www.wunderground.com/weather/us/ca/san-diego'}], 'text': 'The current temperature in San Diego is 72°F with partly cloudy conditions', 'type': 'text'}, {'citations': None, 'text': '. ', 'type': 'text'}, {'citations': [{'cited_text': 'zoom out · Showing Stations · access_time 6:33 PM PDT on June 14, 2025 (GMT -7) | Updated 5 seconds ago · --° | 61° · 72 °F · like 73° · Partly Cloudy...', 'encrypted_index': 'Eo8BCioIBBgCIiQ4ODk4YTFkYy0yMTNkLTRhNmYtOTljYi03ZTBlNTUzZDc0NWISDCfSx4X7AoCpadfCWhoMKValR7qmllSkvMczIjBx9xJWR2xNyIWZJ7okQTGNzC2dqTqoLIr5cu7skk/T2Nmln+owCx0ueCt5nMtszVkqE2ubFs32WGr9g4tgVzVfZTkbRREYBA==', 'title': 'San Diego, CA Weather Conditions | Weather Underground', 'type': 'web_search_result_location', 'url': 'https://www.wunderground.com/weather/us/ca/san-diego'}], 'text': 'Winds are coming from the north at 2 mph with gusts up to 10 mph', 'type': 'text'}, {'citations': None, 'text': '.\\n\\nFor tonight, ', 'type': 'text'}, {'citations': [{'cited_text': '/ 0.00 °in Cloudy. Low 61F. Winds WNW at 5 to 10 mph. ', 'encrypted_index': 'EpIBCioIBBgCIiQ4ODk4YTFkYy0yMTNkLTRhNmYtOTljYi03ZTBlNTUzZDc0NWISDNb3fDJ3zru9wKRjwRoMmJlwNM5IJCeYbtq0IjAROe1gt4pZSWbLgKQEh0l3BAxuud9Tzl6SIh165ZyUQyCncoVcN+LxVXltIERrX5QqFjWM9wXYtljky/+Hn4z50Gcc6YEzY0oYBA==', 'title': 'San Diego, CA Weather Conditions | Weather Underground', 'type': 'web_search_result_location', 'url': 'https://www.wunderground.com/weather/us/ca/san-diego'}], 'text': 'expect cloudy skies with a low of 61°F and winds from the west-northwest at 5 to 10 mph', 'type': 'text'}, {'citations': None, 'text': \".\\n\\nTomorrow's forecast shows \", 'type': 'text'}, {'citations': [{'cited_text': '/ 0.00 °in Sunshine along with some cloudy intervals. High 74F. Winds W at 5 to 10 mph. ', 'encrypted_index': 'EpMBCioIBBgCIiQ4ODk4YTFkYy0yMTNkLTRhNmYtOTljYi03ZTBlNTUzZDc0NWISDLt0AZ9iZgqqm6fv3BoMYXmPusg/Ldb9azRuIjBhfRLZ9n9cYr7TY1M3ChXb43a4CzKqLS4Bk9kkHONA4QQA1R8VAADriuOmENWhuVwqF4fRzlt+5/DP66qx+2Dant1kd/snkBSuGAQ=', 'title': 'San Diego, CA Weather Conditions | Weather Underground', 'type': 'web_search_result_location', 'url': 'https://www.wunderground.com/weather/us/ca/san-diego'}], 'text': 'sunshine along with some cloudy intervals, with a high of 74°F and west winds at 5 to 10 mph', 'type': 'text'}, {'citations': None, 'text': '.\\n\\nAccording to the National Weather Service, ', 'type': 'text'}, {'citations': [{'cited_text': 'Today will be the hottest day of the week with highs 5-10 degrees above normal. ', 'encrypted_index': 'Eo8BCioIBBgCIiQ4ODk4YTFkYy0yMTNkLTRhNmYtOTljYi03ZTBlNTUzZDc0NWISDAhaZBx5zCgMJ1XQ8BoM4/ogPo0LF26e4Js2IjD0MgRXkvcVaA46bV+dFuvI7XJo0fKaw6kFRBTM2215OrjklMKwMGvyYkouKFl5y9MqE6QMBmjL1llB17xH53OZOZbSGXsYBA==', 'title': 'San Diego, CA', 'type': 'web_search_result_location', 'url': 'https://www.weather.gov/sgx/'}], 'text': 'today will be the hottest day of the week with temperatures 5-10 degrees above normal', 'type': 'text'}, {'citations': None, 'text': '.\\n\\nThe air quality shows some concerns, as ', 'type': 'text'}, {'citations': [{'cited_text': 'The air has reached a high level of pollution and is unhealthy for sensitive groups. ', 'encrypted_index': 'Eo8BCioIBBgCIiQ4ODk4YTFkYy0yMTNkLTRhNmYtOTljYi03ZTBlNTUzZDc0NWISDBPq8PK+EsRijupskhoMDtf3fPlv50khzs2SIjBGFyFnxyF1kdYTac6ePIGC7hHtLMaqndnKVWiHtteBay7F224W7mpwKTDsHOZGhRkqE0hmLGQ99ZcRYHgC5c6V1rsomHgYBA==', 'title': 'San Diego, CA Weather Forecast | AccuWeather', 'type': 'web_search_result_location', 'url': 'https://www.accuweather.com/en/us/san-diego/92101/weather-forecast/347628'}], 'text': 'the air has reached a high level of pollution and is unhealthy for sensitive groups', 'type': 'text'}, {'citations': None, 'text': '.', 'type': 'text'}]`\n",
       "- model: `claude-sonnet-4-20250514`\n",
       "- role: `assistant`\n",
       "- stop_reason: `end_turn`\n",
       "- stop_sequence: `None`\n",
       "- type: `message`\n",
       "- usage: `{'cache_creation_input_tokens': 0, 'cache_read_input_tokens': 8604, 'input_tokens': 12, 'output_tokens': 352, 'server_tool_use': {'web_search_requests': 1}, 'service_tier': 'standard'}`\n",
       "\n",
       "</details>"
      ],
      "text/plain": [
       "Message(id='msg_01TqqiUjP4ua8Lqgdb9qx6du', content=[ServerToolUseBlock(id='srvtoolu_018EJgmzXbsoYSRWUMYq2DBq', input={'query': 'San Diego weather today'}, name='web_search', type='server_tool_use'), WebSearchToolResultBlock(content=[WebSearchResultBlock(encrypted_content='EqcCCioIBBgCIiQ4ODk4YTFkYy0yMTNkLTRhNmYtOTljYi03ZTBlNTUzZDc0NWISDCaMaO6VgxiaKqZXrxoMNAD0b/ETmfNw7RkxIjDc1peQ1+ADsdjQIltXag4RocW9N9eVMb4pmUgsO+XV9hKsDYJtFKuYDMuZ5SzCdUwqqgEN6WHTbX+1ePj08vlE5eW8NmJOpH+qKF2zx5E3F/Z5Z8lh2uMitZu2rKqwqhlNAcUFrEufQfoEkpuEWn2oSAffuJCGI7QCC5V+Bjee/f6ryDX6YcWFoLyWHwGP+XRQ2CW5rbVEtCO44UEXErYkJllmpjAyK63Bi/9JTRvxJlNJGYLGE4wD1S8wFF99nhdISqmHurPneNtWLzUrVSofLUd0iUNtDBdD4OlJbxgD', page_age='2 weeks ago', title='10-Day Weather Forecast for San Diego, CA - The Weather Channel | weather.com', type='web_search_result', url='https://weather.com/weather/tenday/l/San+Diego+CA?canonicalCityId=3b2b39ed755b459b725bf2a29c71d678'), WebSearchResultBlock(encrypted_content='Eu0MCioIBBgCIiQ4ODk4YTFkYy0yMTNkLTRhNmYtOTljYi03ZTBlNTUzZDc0NWISDFshmUI7nR3olbes9RoM/aA1chqe9CKZoDqgIjBv2Rl4YrhD9ecV7x1nGMkPv8VXk40g1CVo2Q312leODqov21X0Z/KUELfHOMBPDK8q8AuRAdIky5BupOL4SvUA30F0Rdw6xzBKifWNAYrqTmrSpaBOtljmPzkSLTQ93Z3QqAQbghT6NTRKMPKDRVfZ2caPtkxtd0HpOKdHK5T1ITmBl7A8H96DEN7cAlf8ItNovysmTwvqN4T6swVcw00iaiGyBCCKn+DoGpDxrdDVyNbhRmaavPzzO6/uLILRo89t27ouJT3hHw8JFsIBgE9ggdBf9jA3E3rZS/t1yP5FI7Ls5SryV9tAMvjLJgPteltaXE20GPd22vFBUQx2GCnNe1AViKCPQNJE4LfGX1WCMRdCg73pyDyT9yDBTRLQd5AEx02Yj2roSIk/Z2snxH26RqYWirBi1xyNPDdDjooUjfJqPyXcvIPGS+ssUVzTL7j0rE5J0rypCvWlb7s1ldpHHdSg5W7lG5EIgXaioWradvM2KU0xUadNqtKNDAVyYf/eF86dTGawigupA7Va1zPK9e7G5ByqWNIozsP9G4N58E9PQsthe+MGWEskJ9Iaq1neXKXzFrsRY2VP38aJ0tgIqO5tz7ZL4h6A86VcdmGPMNdEQygHaZ2GKEDBjWXcbs3A2iS04DGp/JEhzq1Yn2miuIJozhhYmAGdcMH6QM4JS1NhpRngH2nzEToUCVC56ms1SAKgKHPkg5zcNZNDQZUh2UXIuNs8P8ZArxn1rP+bmJIO8cIM+ZJM7BRHLfh7ijpGeiSqpV0/+QTLxjYC57kUKbnAj06Le449koGPsTnyQsuJcLg0iY0zXroFnzopHFhlrNDg1/0gNTBp3xJeT2CUDxnDkF5pmx1ZjvzeZvWlaDJ7pE0AtsN6odenFBUFK6Qs9mZnJWBfIzr/Qmvq5yisWAqoX+MVIBd+LzCdOe40XhLkh4mR3c/WwPzk74hPqleKcqSkaK7Il1fXVBSOO14AeKTSnUwh3fL39Y2aWY3no30HxCD5e2728TDhXcLsSBTL+OYiVTdajYWWPxmvAVXuVsMAn7Oc91Z9uJrD7LHil95sKC4yYtFBpEAMwBTMN/BTEd3hi1RLWdpnTqBGSrdFWFMidRKWCsO/KTTxIWITzA5OaZxjXhlFEueEWcr/97oR82qZtNWdWoBjuMHanPbpmXk0h+gzRcKD8kEGdWzqQV3zhlLSu8QFjbPoYahlbGzhY2JQTN1YiRE/WdCwC85KgwLtizDH1MLT1ax83WY+kPQbpqQiV02kOri0CDw1dT9I5Sg3zeuiNXG7VKGv4HAXHWJZKKNb0Xa8bAS3w8plLzjziNb0x2aXoQHwA+QsA47VzBNY5j76pE+GGaZsWMDLqm9Qigi1hNnylX4TGwiTzI1Qv6GXQB21PDFHOPKSPat3uXsfvGiNl8ITIgctrnXR/bNAYvM6Gnk20Q8WbSS3aVOD+e453peUHpq9Pfnaz1uedMlOSgmDZ7mBnhtK8Wubt4JfKRCnRUy3d8Bj7R142vHIH7TGxpbCsnT0WPsSYWYNl4It+oyJ79U/oLhdnHX7F4d+m7HJW0WY4IHOhWSxvSqqDcCnxL4UtbAyiqfaMU0U+PgQa17UvQDdJRu3wl4M4AfC7Zn+ALH3MHL5RJFHA7gmRAM+f5v8Jp7J+jd4rEC0UHllYLbVkf5s60SGMIZ7rWzzmnPNhYwWmEWXFa+0km6UyzvmbhupxoLTEGlbF3Msv0LXSa5YN+e5zdqrL9KGNBjoijoSRcODfxrQ0omr6cT+4TO6pGj+cZspQhuoayjLQ3UMXCk/OX+rnM90muUEyqA0racQ9S+BnVahvChhfHxmXTkNHW6JcIUfOif/bzn24NyQB25gQyFne/02SsSSN2PLH+FUmDLuPPcjm/q4Por2gTZTseI97gsxfdHgctmeEU0HGOZJYsq+9nLrMg4AjjlzJdcDg/PmEOtUgpl0mqC8/1i6GMCBkpX8XZPF4uDvlzrkzRi6sJMv2+baqGV/hDtJk2796DvQOmSFoBT4an7tD3/lfyBM190ASvn1/tYxYnfgVUY6O+0xSjSSOQ7MY2DVhQYfeSfCo9d9EqiLB7VUGRgD', page_age='April 15, 2025', title='San Diego, CA Weather Forecast | AccuWeather', type='web_search_result', url='https://www.accuweather.com/en/us/san-diego/92101/weather-forecast/347628'), WebSearchResultBlock(encrypted_content='Er0ECioIBBgCIiQ4ODk4YTFkYy0yMTNkLTRhNmYtOTljYi03ZTBlNTUzZDc0NWISDNY90xpfN6cqZ3++9RoMEQkk3+UnooY2hvGvIjDRbFmzhyteUhit4wvP43DaEaq6On0KmhshYS05b6F6qfHvY5C+/3HE7ImVBQ9IBx8qwAOOY0n8A6pSd0GIWiEDOP/lodpa7lu4v+W9YB1rKIbJhTsB/ebqChX8YOKcp9Fzb0Y/O86CIv/Kzpdz+vCUY+UBZlck+ycNpsGNt/MbI+zvk6025RnAwx6jOqyUTou9Xz2JS1FRSHIGB4CkZ9MGkZQw7tdOle4DflfvqoM01O6vwIe+abxsfTtVULrPenYKBPJ6RdiFqf2Hmr/3HaszD02aBibLGWimgKlYDwNHWgAJtiBe+D7YQMFzWeqC8Ybhg5AMnAX6Wmrt3/GYqSryRf9p2wFyPrHBLz/qLd2/94ACJuTVeIQGn8+gaMVZcSZBGmqVzV/Vom6x3T2Ooev2RiCD4lUY1OkNvlFxnCPvdGQh8WuvR108S0tLbwhrdaeoABXzTiMy+XCHUfcFhT6tZUdaaQ0bh/uUPcayghAPnuJVUIkecqZnn/AumAURBlB3ilWhRWS9RvtDXqb4fSYkgT5RBEZPt7j+faIecWhguusCHAyEToebHKdjn/vW7PSOZ3H9jzDSAdOOfS71P26OtTjfgR0ZxijCsfCjO6GWyv9l5lWddc7a4m7Uyph6GeLgpX66OOu/e2E/tg1O04Hx+WC2GAM=', page_age='4 days ago', title='San Diego weather forecast – NBC 7 San Diego', type='web_search_result', url='https://www.nbcsandiego.com/weather/'), WebSearchResultBlock(encrypted_content='EpcECioIBBgCIiQ4ODk4YTFkYy0yMTNkLTRhNmYtOTljYi03ZTBlNTUzZDc0NWISDCxrTkwD4JR/u+KimBoMIJCy8vf/Ko5P18U8IjAv37v/Hi7vudgCv3tQzfHyFby4i1y0en4Ct9ASZ5tlXxoNBukiCzBybTmz/iS21QsqmgNyxn5FM89mqxMc8+oV578FqknFaMBe32Qh7U0kmqXO/KHZAgdUj2jPmzbI62t+fJQ9n2gKBVWbtS2hffql2RVrrT/+X+kuFrDLev48KbhpuCpjXDqtaR9Pu4N0JjjA+YJxNLxoDJRpHn0mrFjctMNexU9EbfMBM52FBv31FfXUpVbJoCgi2qiPhBOIYqIlo8I4NJdxxZQNGuOy0fgR7Wfp93wfy6fpEv0vccUyi0SFgY1Yo5cGWHi10tWjc5kMw1ZMxMRkvVf/8PRANNumWdjMVFiAU09kylTzTBKxa3tDdMdwLn6vBKaWJRInsJvGMBRHQh6d35ZiuI048PTPa3nY9rK45PFTSyu8Xgm7ibtRMFWStFHhX7T3rUUE/CAF0g0ch1sA+zCkSEsuSWF8YoQ8TFfUbBnh60eZ2dQfrGPNBdnhawsPgSoaBw02gxh4WiAvl8d4NaK2KiuyxRW0TmKF44EpITNT9c0rzN8fJ+9qF1qODWgArVVjHi7YRBA1FmZhITO3p7xDwkfblvVlaVwEEmTTvo+1JGhS9xgD', page_age='5 days ago', title='Weather Forecast and Conditions for San Diego, CA - The Weather Channel | Weather.com', type='web_search_result', url='https://weather.com/weather/today/l/San+Diego+CA?canonicalCityId=3b2b39ed755b459b725bf2a29c71d678'), WebSearchResultBlock(encrypted_content='EroDCioIBBgCIiQ4ODk4YTFkYy0yMTNkLTRhNmYtOTljYi03ZTBlNTUzZDc0NWISDM2M1q21W4CwikdFEhoMKLh1bM0WqSMDv5VUIjD7DfvNBcQg7xe75rPnWBitQLyX43rik90OFX3fbOU2e2PRBSSkwTLXPW1fgf5rkkwqvQI/zg1bUksm+kTH7Cfkp/n7HIg59PA4chz93RzHeOG4ot8TaXqx+ozA//xDXOTMHDjex63EP57iznGaxdBJe5O6WBbgT0fZlxskjixOPCJonI+KJCYzakf8Tru4GSUlgQBc/NxG+tcYoR8x1J8Q0V+6Wd9Y7+uViYcohaRXem/R83bS+BvENU4lhtuTAcUrT9IpWWqU1Po3rDtlGiOQo8Gf0qgByCMNYxCuOs7149jThdN5CYg9Avm6Cbw14VpG7M6wxhil4GLlRVjfWu+ulRSTECE93Swt20WcghCr/II/ZUGcuA8g97leQPphDFEmbQIB13STx45/mTcXR7cIplv9Moho+PGh7EK7q1rKsLtH4RPgcSdiD934eD2qOhntsI93lu4P4a+zWUneEicbRK7D9oKAPRkbChKRKmcRmxgD', page_age='1 day ago', title='San Diego, CA', type='web_search_result', url='https://www.weather.gov/sgx/'), WebSearchResultBlock(encrypted_content='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', page_age=None, title='San Diego, CA 10-Day Weather Forecast | Weather Underground', type='web_search_result', url='https://www.wunderground.com/forecast/us/ca/san-diego'), WebSearchResultBlock(encrypted_content='EpkCCioIBBgCIiQ4ODk4YTFkYy0yMTNkLTRhNmYtOTljYi03ZTBlNTUzZDc0NWISDISA7lvI35O+vFVLtRoM42xUKvGTd+2vHcpaIjDcPSz8+HKJEBoL6dOeQV2ZrHaYZYbgqL0RZotRA5U+ak0Slj4GbEASiq5qceG2o3wqnAFZcXWUbWditOgxdiKZMwU9gLoVTt+rZg6tERIiNQaPchal6ZhnTJ4zwketdwkNua+71SxldweH4ZyrNNdh1PePF10TrbGXt7oYwSfZ9t1eyBvnnqqYJ3vb3MIpGC10O24bNVwis6Ao2ghRD+rYENJ3+F/g+o5ehIEnDeHKrFDt0bW7W800oEBLl4Sv76tpSK3yHTNbiEOTKmYW0DgYAw==', page_age=None, title='San Diego, CA Weather Forecast | KGTV | kgtv.com', type='web_search_result', url='https://www.10news.com/weather'), WebSearchResultBlock(encrypted_content='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', page_age='April 12, 2025', title='San Diego, CA Weather Conditions | Weather Underground', type='web_search_result', url='https://www.wunderground.com/weather/us/ca/san-diego'), WebSearchResultBlock(encrypted_content='EpQCCioIBBgCIiQ4ODk4YTFkYy0yMTNkLTRhNmYtOTljYi03ZTBlNTUzZDc0NWISDFuTkKRdyjRoe42sShoM9INXl1iPL+1H6qL3IjCiDxuIJSjJ1HzVWgPj4SyXbQ+cTM43/iWCfjtkzCnaos6zOMQs9v2r6lv5NyzjELkqlwGKZK4hPA791b7rZr38bK1pJn/0EWh8rZ5lHGYDD1OWpIr8i8Puc1mtfrc2jSfzR6Bgvbnp9m/0L3LJDWKzyBgXJKCHLiA38l+Myc/4vXDkHOd2dq+lj3vE6GKvUHPz92p0kogKPkK/+GsnzceK1WqwMb8Bhlsom6fkVI8GAdCazJp1t5dTt31TzmhInIDolIXoJerldCriGAM=', page_age='1 day ago', title='Hourly Weather Forecast for San Diego, CA - The Weather Channel | Weather.com', type='web_search_result', url='https://weather.com/weather/hourbyhour/l/San+Diego+CA?canonicalCityId=3b2b39ed755b459b725bf2a29c71d678'), WebSearchResultBlock(encrypted_content='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', page_age=None, title='San Diego, CA Hourly Weather | AccuWeather', type='web_search_result', url='https://www.accuweather.com/en/us/san-diego/92101/hourly-weather-forecast/347628')], tool_use_id='srvtoolu_018EJgmzXbsoYSRWUMYq2DBq', type='web_search_tool_result'), TextBlock(citations=None, text=\"Based on the current weather information for San Diego, here's what I found:\\n\\n\", type='text'), TextBlock(citations=[CitationsWebSearchResultLocation(cited_text='zoom out · Showing Stations · access_time 6:33 PM PDT on June 14, 2025 (GMT -7) | Updated 5 seconds ago · --° | 61° · 72 °F · like 73° · Partly Cloudy...', encrypted_index='Eo8BCioIBBgCIiQ4ODk4YTFkYy0yMTNkLTRhNmYtOTljYi03ZTBlNTUzZDc0NWISDMiDDwXL9x9T1822kxoMnoM61hIgtDvqZK7PIjD3H/JD/Ok2AX/f086uI3EYr1ABE87DbyVa7vSKDjnLnk6GISaJmCGPgs0exLHQPgEqE75O74HM8P+d7Kwr5HyKm+IicxQYBA==', title='San Diego, CA Weather Conditions | Weather Underground', type='web_search_result_location', url='https://www.wunderground.com/weather/us/ca/san-diego')], text='The current temperature in San Diego is 72°F with partly cloudy conditions', type='text'), TextBlock(citations=None, text='. ', type='text'), TextBlock(citations=[CitationsWebSearchResultLocation(cited_text='zoom out · Showing Stations · access_time 6:33 PM PDT on June 14, 2025 (GMT -7) | Updated 5 seconds ago · --° | 61° · 72 °F · like 73° · Partly Cloudy...', encrypted_index='Eo8BCioIBBgCIiQ4ODk4YTFkYy0yMTNkLTRhNmYtOTljYi03ZTBlNTUzZDc0NWISDCfSx4X7AoCpadfCWhoMKValR7qmllSkvMczIjBx9xJWR2xNyIWZJ7okQTGNzC2dqTqoLIr5cu7skk/T2Nmln+owCx0ueCt5nMtszVkqE2ubFs32WGr9g4tgVzVfZTkbRREYBA==', title='San Diego, CA Weather Conditions | Weather Underground', type='web_search_result_location', url='https://www.wunderground.com/weather/us/ca/san-diego')], text='Winds are coming from the north at 2 mph with gusts up to 10 mph', type='text'), TextBlock(citations=None, text='.\\n\\nFor tonight, ', type='text'), TextBlock(citations=[CitationsWebSearchResultLocation(cited_text='/ 0.00 °in Cloudy. Low 61F. Winds WNW at 5 to 10 mph. ', encrypted_index='EpIBCioIBBgCIiQ4ODk4YTFkYy0yMTNkLTRhNmYtOTljYi03ZTBlNTUzZDc0NWISDNb3fDJ3zru9wKRjwRoMmJlwNM5IJCeYbtq0IjAROe1gt4pZSWbLgKQEh0l3BAxuud9Tzl6SIh165ZyUQyCncoVcN+LxVXltIERrX5QqFjWM9wXYtljky/+Hn4z50Gcc6YEzY0oYBA==', title='San Diego, CA Weather Conditions | Weather Underground', type='web_search_result_location', url='https://www.wunderground.com/weather/us/ca/san-diego')], text='expect cloudy skies with a low of 61°F and winds from the west-northwest at 5 to 10 mph', type='text'), TextBlock(citations=None, text=\".\\n\\nTomorrow's forecast shows \", type='text'), TextBlock(citations=[CitationsWebSearchResultLocation(cited_text='/ 0.00 °in Sunshine along with some cloudy intervals. High 74F. Winds W at 5 to 10 mph. ', encrypted_index='EpMBCioIBBgCIiQ4ODk4YTFkYy0yMTNkLTRhNmYtOTljYi03ZTBlNTUzZDc0NWISDLt0AZ9iZgqqm6fv3BoMYXmPusg/Ldb9azRuIjBhfRLZ9n9cYr7TY1M3ChXb43a4CzKqLS4Bk9kkHONA4QQA1R8VAADriuOmENWhuVwqF4fRzlt+5/DP66qx+2Dant1kd/snkBSuGAQ=', title='San Diego, CA Weather Conditions | Weather Underground', type='web_search_result_location', url='https://www.wunderground.com/weather/us/ca/san-diego')], text='sunshine along with some cloudy intervals, with a high of 74°F and west winds at 5 to 10 mph', type='text'), TextBlock(citations=None, text='.\\n\\nAccording to the National Weather Service, ', type='text'), TextBlock(citations=[CitationsWebSearchResultLocation(cited_text='Today will be the hottest day of the week with highs 5-10 degrees above normal. ', encrypted_index='Eo8BCioIBBgCIiQ4ODk4YTFkYy0yMTNkLTRhNmYtOTljYi03ZTBlNTUzZDc0NWISDAhaZBx5zCgMJ1XQ8BoM4/ogPo0LF26e4Js2IjD0MgRXkvcVaA46bV+dFuvI7XJo0fKaw6kFRBTM2215OrjklMKwMGvyYkouKFl5y9MqE6QMBmjL1llB17xH53OZOZbSGXsYBA==', title='San Diego, CA', type='web_search_result_location', url='https://www.weather.gov/sgx/')], text='today will be the hottest day of the week with temperatures 5-10 degrees above normal', type='text'), TextBlock(citations=None, text='.\\n\\nThe air quality shows some concerns, as ', type='text'), TextBlock(citations=[CitationsWebSearchResultLocation(cited_text='The air has reached a high level of pollution and is unhealthy for sensitive groups. ', encrypted_index='Eo8BCioIBBgCIiQ4ODk4YTFkYy0yMTNkLTRhNmYtOTljYi03ZTBlNTUzZDc0NWISDBPq8PK+EsRijupskhoMDtf3fPlv50khzs2SIjBGFyFnxyF1kdYTac6ePIGC7hHtLMaqndnKVWiHtteBay7F224W7mpwKTDsHOZGhRkqE0hmLGQ99ZcRYHgC5c6V1rsomHgYBA==', title='San Diego, CA Weather Forecast | AccuWeather', type='web_search_result_location', url='https://www.accuweather.com/en/us/san-diego/92101/weather-forecast/347628')], text='the air has reached a high level of pollution and is unhealthy for sensitive groups', type='text'), TextBlock(citations=None, text='.', type='text')], model='claude-sonnet-4-20250514', role='assistant', stop_reason='end_turn', stop_sequence=None, type='message', usage=In: 12; Out: 352; Cache create: 0; Cache read: 8604; Total Tokens: 8968; Server tool use (web search requests): 1)"
      ]
     },
     "execution_count": null,
     "metadata": {},
     "output_type": "execute_result"
    }
   ],
   "source": [
    "chat = Chat(model, sp='Be concise in your responses.', tools=[search_conf()], cache=True)\n",
    "pr = 'What is the weather in San Diego?'\n",
    "r = chat(pr)\n",
    "r"
   ]
  },
  {
   "cell_type": "markdown",
   "id": "b1580f5c",
   "metadata": {},
   "source": [
    "## Third party providers"
   ]
  },
  {
   "cell_type": "markdown",
   "id": "bd88f878",
   "metadata": {},
   "source": [
    "### Amazon Bedrock"
   ]
  },
  {
   "cell_type": "markdown",
   "id": "a6ecba86",
   "metadata": {},
   "source": [
    "These are Amazon's current Claude models:"
   ]
  },
  {
   "cell_type": "code",
   "execution_count": null,
   "id": "81d16826",
   "metadata": {},
   "outputs": [
    {
     "data": {
      "text/plain": [
       "['claude-3-5-haiku-20241022',\n",
       " 'claude-3-7-sonnet-20250219',\n",
       " 'anthropic.claude-3-opus-20240229-v1:0',\n",
       " 'anthropic.claude-3-5-sonnet-20241022-v2:0']"
      ]
     },
     "execution_count": null,
     "metadata": {},
     "output_type": "execute_result"
    }
   ],
   "source": [
    "models_aws"
   ]
  },
  {
   "cell_type": "markdown",
   "id": "7a194f45",
   "metadata": {},
   "source": [
    ":::{.callout-note}\n",
    "\n",
    "`anthropic` at version 0.34.2 seems not to install `boto3` as a dependency. You may need to do a `pip install boto3` or the creation of the `Client` below fails.\n",
    "\n",
    ":::"
   ]
  },
  {
   "cell_type": "markdown",
   "id": "9b8b2bc4",
   "metadata": {},
   "source": [
    "Provided `boto3` is installed, we otherwise don't need any extra code to support Amazon Bedrock -- we just have to set up the approach client:"
   ]
  },
  {
   "cell_type": "code",
   "execution_count": null,
   "id": "08cb7585",
   "metadata": {},
   "outputs": [],
   "source": [
    "ab = AnthropicBedrock(\n",
    "    aws_access_key=os.environ['AWS_ACCESS_KEY'],\n",
    "    aws_secret_key=os.environ['AWS_SECRET_KEY'],\n",
    ")\n",
    "client = Client(models_aws[-1], ab)"
   ]
  },
  {
   "cell_type": "code",
   "execution_count": null,
   "id": "f1f2f214",
   "metadata": {},
   "outputs": [],
   "source": [
    "chat = Chat(cli=client)"
   ]
  },
  {
   "cell_type": "code",
   "execution_count": null,
   "id": "ec54a422",
   "metadata": {},
   "outputs": [],
   "source": [
    "chat(\"I'm Jeremy\")"
   ]
  },
  {
   "cell_type": "markdown",
   "id": "1b331146",
   "metadata": {},
   "source": [
    "### Google Vertex"
   ]
  },
  {
   "cell_type": "code",
   "execution_count": null,
   "id": "fdb46839",
   "metadata": {},
   "outputs": [
    {
     "data": {
      "text/plain": [
       "['anthropic.claude-3-sonnet-20240229-v1:0',\n",
       " 'anthropic.claude-3-haiku-20240307-v1:0',\n",
       " 'claude-3-opus@20240229',\n",
       " 'claude-3-5-sonnet-v2@20241022',\n",
       " 'claude-3-sonnet@20240229',\n",
       " 'claude-3-haiku@20240307']"
      ]
     },
     "execution_count": null,
     "metadata": {},
     "output_type": "execute_result"
    }
   ],
   "source": [
    "models_goog"
   ]
  },
  {
   "cell_type": "code",
   "execution_count": null,
   "id": "30921ab4",
   "metadata": {},
   "outputs": [],
   "source": [
    "from anthropic import AnthropicVertex\n",
    "import google.auth"
   ]
  },
  {
   "cell_type": "code",
   "execution_count": null,
   "id": "c00ef664",
   "metadata": {},
   "outputs": [],
   "source": [
    "project_id = google.auth.default()[1]\n",
    "region = \"us-east5\"\n",
    "gv = AnthropicVertex(project_id=project_id, region=region)\n",
    "client = Client(models_goog[-1], gv)"
   ]
  },
  {
   "cell_type": "code",
   "execution_count": null,
   "id": "7d0481b5",
   "metadata": {},
   "outputs": [],
   "source": [
    "chat = Chat(cli=client)"
   ]
  },
  {
   "cell_type": "code",
   "execution_count": null,
   "id": "11006ae0",
   "metadata": {},
   "outputs": [],
   "source": [
    "chat(\"I'm Jeremy\")"
   ]
  },
  {
   "cell_type": "markdown",
   "id": "94ec4289",
   "metadata": {},
   "source": [
    "## Export -"
   ]
  },
  {
   "cell_type": "code",
   "execution_count": null,
   "id": "1e9ee5c1",
   "metadata": {},
   "outputs": [],
   "source": [
    "#|hide\n",
    "#|eval: false\n",
    "from nbdev.doclinks import nbdev_export\n",
    "nbdev_export()"
   ]
  },
  {
   "cell_type": "code",
   "execution_count": null,
   "id": "12a64c67",
   "metadata": {},
   "outputs": [],
   "source": []
  }
 ],
 "metadata": {
  "kernelspec": {
   "display_name": "python3",
   "language": "python",
   "name": "python3"
  }
 },
 "nbformat": 4,
 "nbformat_minor": 5
}
