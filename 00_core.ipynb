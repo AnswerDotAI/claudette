{
 "cells": [
  {
   "cell_type": "code",
   "execution_count": null,
   "id": "efe78920",
   "metadata": {},
   "outputs": [],
   "source": [
    "#|default_exp core"
   ]
  },
  {
   "cell_type": "markdown",
   "id": "3d773712-12fe-440e-891f-36f59666dfde",
   "metadata": {},
   "source": [
    "# Claudette's source"
   ]
  },
  {
   "cell_type": "markdown",
   "id": "c47b5d38",
   "metadata": {},
   "source": [
    "This is the 'literate' source code for Claudette. You can view the fully rendered version of the notebook [here](https://claudette.answer.ai/core.html), or you can clone the git repo and run the [interactive notebook](https://github.com/AnswerDotAI/claudette/blob/main/00_core.ipynb) in Jupyter. The notebook is converted the [Python module claudette/core.py](https://github.com/AnswerDotAI/claudette/blob/main/claudette/core.py) using [nbdev](https://nbdev.fast.ai/). The goal of this source code is to both create the Python module, and also to teach the reader *how* it is created, without assuming much existing knowledge about Claude's API.\n",
    "\n",
    "Most of the time you'll see that we write some source code *first*, and then a description or discussion of it *afterwards*."
   ]
  },
  {
   "cell_type": "markdown",
   "id": "ff6f6471-8061-4fdd-85a1-25fdc27c5cf3",
   "metadata": {},
   "source": [
    "## Setup"
   ]
  },
  {
   "cell_type": "code",
   "execution_count": null,
   "id": "f1ad998e-4bb1-4bed-abf4-6e8606cb2453",
   "metadata": {},
   "outputs": [],
   "source": [
    "import os\n",
    "# os.environ['ANTHROPIC_LOG'] = 'debug'"
   ]
  },
  {
   "cell_type": "markdown",
   "id": "5b16f396",
   "metadata": {},
   "source": [
    "To print every HTTP request and response in full, uncomment the above line. This functionality is provided by Anthropic's SDK."
   ]
  },
  {
   "cell_type": "code",
   "execution_count": null,
   "id": "033c76fd",
   "metadata": {},
   "outputs": [],
   "source": [
    "#| export\n",
    "import inspect, typing, json\n",
    "from collections import abc\n",
    "try: from IPython import display\n",
    "except: display=None\n",
    "from typing import get_type_hints\n",
    "from functools import wraps\n",
    "\n",
    "from anthropic import Anthropic, AnthropicBedrock, AnthropicVertex\n",
    "from anthropic.types import Usage, TextBlock, Message, ToolUseBlock, ThinkingBlock, ServerToolUsage\n",
    "from anthropic.resources import messages\n",
    "\n",
    "import toolslm\n",
    "from toolslm.funccall import *\n",
    "\n",
    "from fastcore.meta import delegates\n",
    "from fastcore.utils import *\n",
    "from msglm import mk_msg_anthropic as mk_msg, mk_msgs_anthropic as mk_msgs"
   ]
  },
  {
   "cell_type": "code",
   "execution_count": null,
   "id": "13866a72",
   "metadata": {},
   "outputs": [],
   "source": [
    "#| hide\n",
    "from nbdev import show_doc\n",
    "\n",
    "# Used to show available models from the anthropic SDK\n",
    "from anthropic.types import Model\n",
    "from claudette.text_editor import *\n",
    "from typing import get_args\n",
    "from datetime import datetime\n",
    "from pprint import pprint\n",
    "\n",
    "import warnings\n",
    "\n",
    "warnings.filterwarnings(\"ignore\", message=\"Pydantic serializer warnings\")"
   ]
  },
  {
   "cell_type": "code",
   "execution_count": null,
   "id": "c1cefa1e",
   "metadata": {},
   "outputs": [],
   "source": [
    "#| export\n",
    "_all_ = ['mk_msg', 'mk_msgs']"
   ]
  },
  {
   "cell_type": "code",
   "execution_count": null,
   "id": "f5fa6b92",
   "metadata": {},
   "outputs": [],
   "source": [
    "#| export\n",
    "empty = inspect.Parameter.empty"
   ]
  },
  {
   "cell_type": "markdown",
   "id": "9c3c2197",
   "metadata": {},
   "source": [
    ":::{.callout-tip}\n",
    "\n",
    "If you're reading the rendered version of this notebook, you'll see an \"Exported source\" collapsible widget below. If you're reading the source notebook directly, you'll see `#| exports` at the top of the cell. These show that this piece of code will be exported into the python module that this notebook creates. No other code will be included -- any other code in this notebook is just for demonstration, documentation, and testing.\n",
    "\n",
    "You can toggle expanding/collapsing the source code of all exported sections by using the `</> Code` menu in the top right of the rendered notebook page.\n",
    "\n",
    ":::"
   ]
  },
  {
   "cell_type": "code",
   "execution_count": null,
   "id": "0fff8869",
   "metadata": {},
   "outputs": [],
   "source": [
    "#| exports\n",
    "\n",
    "model_types = {\n",
    "    # Anthropic\n",
    "    'claude-3-opus-20240229': 'opus',\n",
    "    'claude-3-7-sonnet-20250219': 'sonnet',\n",
    "    'claude-3-5-sonnet-20241022': 'sonnet-3-5',\n",
    "    'claude-3-haiku-20240307': 'haiku-3',\n",
    "    'claude-3-5-haiku-20241022': 'haiku-3-5',\n",
    "    # AWS\n",
    "    'anthropic.claude-3-opus-20240229-v1:0': 'opus',\n",
    "    'anthropic.claude-3-5-sonnet-20241022-v2:0': 'sonnet',\n",
    "    'anthropic.claude-3-sonnet-20240229-v1:0': 'sonnet',\n",
    "    'anthropic.claude-3-haiku-20240307-v1:0': 'haiku',\n",
    "    # Google\n",
    "    'claude-3-opus@20240229': 'opus',\n",
    "    'claude-3-5-sonnet-v2@20241022': 'sonnet',\n",
    "    'claude-3-sonnet@20240229': 'sonnet',\n",
    "    'claude-3-haiku@20240307': 'haiku',\n",
    "}\n",
    "\n",
    "all_models = list(model_types)"
   ]
  },
  {
   "cell_type": "markdown",
   "id": "e52e764f",
   "metadata": {},
   "source": [
    "Warning: between Anthropic SDK 0.4.2 and 0.4.7 the interface to the `Model` type changed."
   ]
  },
  {
   "cell_type": "code",
   "execution_count": null,
   "id": "f237bd2e",
   "metadata": {},
   "outputs": [
    {
     "data": {
      "text/plain": [
       "typing.Union[typing.Literal['claude-3-7-sonnet-latest', 'claude-3-7-sonnet-20250219', 'claude-3-5-haiku-latest', 'claude-3-5-haiku-20241022', 'claude-3-5-sonnet-latest', 'claude-3-5-sonnet-20241022', 'claude-3-5-sonnet-20240620', 'claude-3-opus-latest', 'claude-3-opus-20240229', 'claude-3-sonnet-20240229', 'claude-3-haiku-20240307', 'claude-2.1', 'claude-2.0'], str]"
      ]
     },
     "execution_count": null,
     "metadata": {},
     "output_type": "execute_result"
    }
   ],
   "source": [
    "#|hide\n",
    "\n",
    "# Full list of models via the anthropic SDK for reference. Not all models are surfaced by Claudette.\n",
    "Model"
   ]
  },
  {
   "cell_type": "code",
   "execution_count": null,
   "id": "4f03dcad",
   "metadata": {},
   "outputs": [],
   "source": [
    "#| export\n",
    "models = all_models[:5]"
   ]
  },
  {
   "cell_type": "code",
   "execution_count": null,
   "id": "c8490b08",
   "metadata": {},
   "outputs": [
    {
     "data": {
      "text/plain": [
       "['claude-3-opus-20240229',\n",
       " 'claude-3-7-sonnet-20250219',\n",
       " 'claude-3-5-sonnet-20241022',\n",
       " 'claude-3-haiku-20240307',\n",
       " 'claude-3-5-haiku-20241022']"
      ]
     },
     "execution_count": null,
     "metadata": {},
     "output_type": "execute_result"
    }
   ],
   "source": [
    "models"
   ]
  },
  {
   "cell_type": "code",
   "execution_count": null,
   "id": "53a6d47a",
   "metadata": {},
   "outputs": [],
   "source": [
    "#| export\n",
    "models_aws = ['claude-3-5-haiku-20241022',\n",
    " 'claude-3-7-sonnet-20250219',\n",
    " 'anthropic.claude-3-opus-20240229-v1:0',\n",
    " 'anthropic.claude-3-5-sonnet-20241022-v2:0']"
   ]
  },
  {
   "cell_type": "code",
   "execution_count": null,
   "id": "f3ed4f95",
   "metadata": {},
   "outputs": [],
   "source": [
    "#| export\n",
    "models_goog = ['anthropic.claude-3-sonnet-20240229-v1:0',\n",
    " 'anthropic.claude-3-haiku-20240307-v1:0',\n",
    " 'claude-3-opus@20240229',\n",
    " 'claude-3-5-sonnet-v2@20241022',\n",
    " 'claude-3-sonnet@20240229',\n",
    " 'claude-3-haiku@20240307']"
   ]
  },
  {
   "cell_type": "code",
   "execution_count": null,
   "id": "669696aa",
   "metadata": {},
   "outputs": [],
   "source": [
    "#| exports\n",
    "text_only_models = ('claude-3-5-haiku-20241022',)"
   ]
  },
  {
   "cell_type": "code",
   "execution_count": null,
   "id": "2411f28d",
   "metadata": {},
   "outputs": [],
   "source": [
    "#| exports\n",
    "has_streaming_models = set(all_models)\n",
    "has_system_prompt_models = set(all_models)\n",
    "has_temperature_models = set(all_models)\n",
    "has_extended_thinking_models = {'claude-3-7-sonnet-20250219'}"
   ]
  },
  {
   "cell_type": "code",
   "execution_count": null,
   "id": "980bfdfb",
   "metadata": {},
   "outputs": [
    {
     "data": {
      "text/plain": [
       "{'anthropic.claude-3-5-sonnet-20241022-v2:0',\n",
       " 'anthropic.claude-3-haiku-20240307-v1:0',\n",
       " 'anthropic.claude-3-opus-20240229-v1:0',\n",
       " 'anthropic.claude-3-sonnet-20240229-v1:0',\n",
       " 'claude-3-5-haiku-20241022',\n",
       " 'claude-3-5-sonnet-20241022',\n",
       " 'claude-3-5-sonnet-v2@20241022',\n",
       " 'claude-3-7-sonnet-20250219',\n",
       " 'claude-3-haiku-20240307',\n",
       " 'claude-3-haiku@20240307',\n",
       " 'claude-3-opus-20240229',\n",
       " 'claude-3-opus@20240229',\n",
       " 'claude-3-sonnet@20240229'}"
      ]
     },
     "execution_count": null,
     "metadata": {},
     "output_type": "execute_result"
    }
   ],
   "source": [
    "has_streaming_models"
   ]
  },
  {
   "cell_type": "code",
   "execution_count": null,
   "id": "12a68d54",
   "metadata": {},
   "outputs": [],
   "source": [
    "#| exports\n",
    "\n",
    "def can_stream(m): return m in has_streaming_models\n",
    "def can_set_system_prompt(m): return m in has_system_prompt_models\n",
    "def can_set_temperature(m): return m in has_temperature_models\n",
    "def can_use_extended_thinking(m): return m in has_extended_thinking_models"
   ]
  },
  {
   "cell_type": "markdown",
   "id": "0dd0ba8f",
   "metadata": {},
   "source": [
    "We include these functions to provide a uniform library interface with cosette since openai models such as o1 do not have many of these capabilities."
   ]
  },
  {
   "cell_type": "code",
   "execution_count": null,
   "id": "55036062",
   "metadata": {},
   "outputs": [],
   "source": [
    "assert can_stream('claude-3-5-sonnet-20241022') and can_set_system_prompt('claude-3-5-sonnet-20241022') and can_set_temperature('claude-3-5-sonnet-20241022')"
   ]
  },
  {
   "cell_type": "markdown",
   "id": "ba6c7f48",
   "metadata": {},
   "source": [
    "These are the current versions and [prices](https://www.anthropic.com/pricing#anthropic-api) of Anthropic's models at the time of writing."
   ]
  },
  {
   "cell_type": "code",
   "execution_count": null,
   "id": "dacf2bd2",
   "metadata": {},
   "outputs": [
    {
     "data": {
      "text/plain": [
       "'claude-3-7-sonnet-20250219'"
      ]
     },
     "execution_count": null,
     "metadata": {},
     "output_type": "execute_result"
    }
   ],
   "source": [
    "model = models[1]; model"
   ]
  },
  {
   "cell_type": "markdown",
   "id": "71985a9c",
   "metadata": {},
   "source": [
    "For examples, we'll use Sonnet 3.5, since it's awesome."
   ]
  },
  {
   "cell_type": "markdown",
   "id": "863d4d81",
   "metadata": {},
   "source": [
    "## Antropic SDK"
   ]
  },
  {
   "cell_type": "code",
   "execution_count": null,
   "id": "70b53a51",
   "metadata": {},
   "outputs": [],
   "source": [
    "cli = Anthropic()"
   ]
  },
  {
   "cell_type": "markdown",
   "id": "23055b40",
   "metadata": {},
   "source": [
    "This is what Anthropic's SDK provides for interacting with Python. To use it, pass it a list of *messages*, with *content* and a *role*. The roles should alternate between *user* and *assistant*."
   ]
  },
  {
   "cell_type": "markdown",
   "id": "b2db9466",
   "metadata": {},
   "source": [
    ":::{.callout-tip}\n",
    "\n",
    "After the code below you'll see an indented section with an orange vertical line on the left. This is used to show the *result* of running the code above. Because the code is running in a Jupyter Notebook, we don't have to use `print` to display results, we can just type the expression directly, as we do with `r` here.\n",
    "\n",
    ":::"
   ]
  },
  {
   "cell_type": "code",
   "execution_count": null,
   "id": "6ec40731",
   "metadata": {},
   "outputs": [
    {
     "data": {
      "text/markdown": [
       "Hi Jeremy, it's nice to meet you. How are you doing today? Is there something I can help you with?\n",
       "\n",
       "<details>\n",
       "\n",
       "- id: `msg_01GbQfiMVM4kuvihmXhCqEEG`\n",
       "- content: `[{'citations': None, 'text': \"Hi Jeremy, it's nice to meet you. How are you doing today? Is there something I can help you with?\", 'type': 'text'}]`\n",
       "- model: `claude-3-7-sonnet-20250219`\n",
       "- role: `assistant`\n",
       "- stop_reason: `end_turn`\n",
       "- stop_sequence: `None`\n",
       "- type: `message`\n",
       "- usage: `{'cache_creation_input_tokens': 0, 'cache_read_input_tokens': 0, 'input_tokens': 10, 'output_tokens': 28, 'server_tool_use': None}`\n",
       "\n",
       "</details>"
      ],
      "text/plain": [
       "Message(id='msg_01GbQfiMVM4kuvihmXhCqEEG', content=[TextBlock(citations=None, text=\"Hi Jeremy, it's nice to meet you. How are you doing today? Is there something I can help you with?\", type='text')], model='claude-3-7-sonnet-20250219', role='assistant', stop_reason='end_turn', stop_sequence=None, type='message', usage=In: 10; Out: 28; Cache create: 0; Cache read: 0; Total Tokens: 38; Server tool use (web search requests): 0)"
      ]
     },
     "execution_count": null,
     "metadata": {},
     "output_type": "execute_result"
    }
   ],
   "source": [
    "m = {'role': 'user', 'content': \"I'm Jeremy\"}\n",
    "r = cli.messages.create(messages=[m], model=model, max_tokens=100)\n",
    "r"
   ]
  },
  {
   "cell_type": "markdown",
   "id": "d6359e1a",
   "metadata": {},
   "source": [
    "### Formatting output"
   ]
  },
  {
   "cell_type": "markdown",
   "id": "865c40a9",
   "metadata": {},
   "source": [
    "That output is pretty long and hard to read, so let's clean it up. We'll start by pulling out the `Content` part of the message.\n",
    "To do that, we're going to write our first function which will be included to the `claudette/core.py` module."
   ]
  },
  {
   "cell_type": "markdown",
   "id": "e42e5d44",
   "metadata": {},
   "source": [
    ":::{.callout-tip}\n",
    "\n",
    "This is the first exported public function or class we're creating (the previous export was of a variable). In the rendered version of the notebook for these you'll see 4 things, in this order (unless the symbol starts with a single `_`, which indicates it's *private*):\n",
    "\n",
    "- The signature (with the symbol name as a heading, with a horizontal rule above)\n",
    "- A table of paramater docs (if provided)\n",
    "- The doc string (in italics).\n",
    "- The source code (in a collapsible \"Exported source\" block)\n",
    "\n",
    "After that, we generally provide a bit more detail on what we've created, and why, along with a sample usage.\n",
    "\n",
    ":::"
   ]
  },
  {
   "cell_type": "code",
   "execution_count": null,
   "id": "eba620ce",
   "metadata": {},
   "outputs": [],
   "source": [
    "#| exports\n",
    "def find_block(r:abc.Mapping, # The message to look in\n",
    "               blk_type:type=TextBlock  # The type of block to find\n",
    "              ):\n",
    "    \"Find the first block of type `blk_type` in `r.content`.\"\n",
    "    return first(o for o in r.content if isinstance(o,blk_type))"
   ]
  },
  {
   "cell_type": "markdown",
   "id": "1fa93ca1",
   "metadata": {},
   "source": [
    "This makes it easier to grab the needed parts of Claude's responses, which can include multiple pieces of content. By default, we look for the first text block. That will generally have the content we want to display."
   ]
  },
  {
   "cell_type": "code",
   "execution_count": null,
   "id": "10af0e65",
   "metadata": {},
   "outputs": [
    {
     "data": {
      "text/plain": [
       "TextBlock(citations=None, text=\"Hi Jeremy, it's nice to meet you. How are you doing today? Is there something I can help you with?\", type='text')"
      ]
     },
     "execution_count": null,
     "metadata": {},
     "output_type": "execute_result"
    }
   ],
   "source": [
    "find_block(r)"
   ]
  },
  {
   "cell_type": "code",
   "execution_count": null,
   "id": "ae99799d",
   "metadata": {},
   "outputs": [],
   "source": [
    "def contents(r):\n",
    "    \"Helper to get the contents from Claude response `r`.\"\n",
    "    blk = find_block(r)\n",
    "    if not blk and r.content: blk = r.content[0]\n",
    "    return blk.text.strip() if hasattr(blk,'text') else str(blk)"
   ]
  },
  {
   "cell_type": "markdown",
   "id": "ffb59427",
   "metadata": {},
   "source": [
    "For display purposes, we often just want to show the text itself."
   ]
  },
  {
   "cell_type": "code",
   "execution_count": null,
   "id": "6d5f2107",
   "metadata": {},
   "outputs": [
    {
     "data": {
      "text/plain": [
       "\"Hi Jeremy, it's nice to meet you. How are you doing today? Is there something I can help you with?\""
      ]
     },
     "execution_count": null,
     "metadata": {},
     "output_type": "execute_result"
    }
   ],
   "source": [
    "contents(r)"
   ]
  },
  {
   "cell_type": "code",
   "execution_count": null,
   "id": "17924d0c",
   "metadata": {},
   "outputs": [],
   "source": [
    "#| exports\n",
    "@patch\n",
    "def _repr_markdown_(self:(Message)):\n",
    "    det = '\\n- '.join(f'{k}: `{v}`' for k,v in self.model_dump().items())\n",
    "    cts = re.sub(r'\\$', '&#36;', contents(self))  # escape `$` for jupyter latex\n",
    "    return f\"\"\"{cts}\n",
    "\n",
    "<details>\n",
    "\n",
    "- {det}\n",
    "\n",
    "</details>\"\"\""
   ]
  },
  {
   "cell_type": "markdown",
   "id": "3764d112",
   "metadata": {},
   "source": [
    "Jupyter looks for a `_repr_markdown_` method in displayed objects; we add this in order to display just the content text, and collapse full details into a hideable section. Note that `patch` is from [fastcore](https://fastcore.fast.ai/), and is used to add (or replace) functionality in an existing class. We pass the class(es) that we want to patch as type annotations to `self`. In this case, `_repr_markdown_` is being added to Anthropic's `Message` class, so when we display the message now we just see the contents, and the details are hidden away in a collapsible details block."
   ]
  },
  {
   "cell_type": "code",
   "execution_count": null,
   "id": "cfd85eeb",
   "metadata": {},
   "outputs": [
    {
     "data": {
      "text/markdown": [
       "Hi Jeremy, it's nice to meet you. How are you doing today? Is there something I can help you with?\n",
       "\n",
       "<details>\n",
       "\n",
       "- id: `msg_01GbQfiMVM4kuvihmXhCqEEG`\n",
       "- content: `[{'citations': None, 'text': \"Hi Jeremy, it's nice to meet you. How are you doing today? Is there something I can help you with?\", 'type': 'text'}]`\n",
       "- model: `claude-3-7-sonnet-20250219`\n",
       "- role: `assistant`\n",
       "- stop_reason: `end_turn`\n",
       "- stop_sequence: `None`\n",
       "- type: `message`\n",
       "- usage: `{'cache_creation_input_tokens': 0, 'cache_read_input_tokens': 0, 'input_tokens': 10, 'output_tokens': 28, 'server_tool_use': None}`\n",
       "\n",
       "</details>"
      ],
      "text/plain": [
       "Message(id='msg_01GbQfiMVM4kuvihmXhCqEEG', content=[TextBlock(citations=None, text=\"Hi Jeremy, it's nice to meet you. How are you doing today? Is there something I can help you with?\", type='text')], model='claude-3-7-sonnet-20250219', role='assistant', stop_reason='end_turn', stop_sequence=None, type='message', usage=In: 10; Out: 28; Cache create: 0; Cache read: 0; Total Tokens: 38; Server tool use (web search requests): 0)"
      ]
     },
     "execution_count": null,
     "metadata": {},
     "output_type": "execute_result"
    }
   ],
   "source": [
    "r"
   ]
  },
  {
   "cell_type": "markdown",
   "id": "8615447e",
   "metadata": {},
   "source": [
    "One key part of the response is the `usage` key, which tells us how many tokens we used by returning a `Usage` object.\n",
    "\n",
    "We'll add some helpers to make things a bit cleaner for creating and formatting these objects."
   ]
  },
  {
   "cell_type": "code",
   "execution_count": null,
   "id": "10c7466f",
   "metadata": {},
   "outputs": [
    {
     "data": {
      "text/plain": [
       "In: 10; Out: 28; Cache create: 0; Cache read: 0; Total Tokens: 38; Server tool use (web search requests): 0"
      ]
     },
     "execution_count": null,
     "metadata": {},
     "output_type": "execute_result"
    }
   ],
   "source": [
    "r.usage"
   ]
  },
  {
   "cell_type": "code",
   "execution_count": null,
   "id": "b1a24f68",
   "metadata": {},
   "outputs": [],
   "source": [
    "def usage(inp=0, # input tokens\n",
    "          out=0,  # Output tokens\n",
    "          cache_create=0, # Cache creation tokens\n",
    "          cache_read=0 # Cache read tokens\n",
    "         ):\n",
    "    \"Slightly more concise version of `Usage`.\"\n",
    "    return Usage(input_tokens=inp, output_tokens=out, cache_creation_input_tokens=cache_create, cache_read_input_tokens=cache_read)"
   ]
  },
  {
   "cell_type": "markdown",
   "id": "2184ec7f",
   "metadata": {},
   "source": [
    "The constructor provided by Anthropic is rather verbose, so we clean it up a bit, using a lowercase version of the name."
   ]
  },
  {
   "cell_type": "code",
   "execution_count": null,
   "id": "a7e52afd",
   "metadata": {},
   "outputs": [
    {
     "data": {
      "text/plain": [
       "In: 5; Out: 0; Cache create: 0; Cache read: 0; Total Tokens: 5; Server tool use (web search requests): 0"
      ]
     },
     "execution_count": null,
     "metadata": {},
     "output_type": "execute_result"
    }
   ],
   "source": [
    "usage(5)"
   ]
  },
  {
   "cell_type": "code",
   "execution_count": null,
   "id": "2db64da5",
   "metadata": {},
   "outputs": [],
   "source": [
    "#| exports\n",
    "def _dgetattr(o,s,d): \n",
    "    \"Like getattr, but returns the default if the result is None\"\n",
    "    return getattr(o,s,d) or d\n",
    "\n",
    "@patch(as_prop=True)\n",
    "def total(self:Usage): return self.input_tokens+self.output_tokens+_dgetattr(self, \"cache_creation_input_tokens\",0)+_dgetattr(self, \"cache_read_input_tokens\",0)"
   ]
  },
  {
   "cell_type": "markdown",
   "id": "5363afa4",
   "metadata": {},
   "source": [
    "Adding a `total` property to `Usage` makes it easier to see how many tokens we've used up altogether."
   ]
  },
  {
   "cell_type": "code",
   "execution_count": null,
   "id": "74553203",
   "metadata": {},
   "outputs": [
    {
     "data": {
      "text/plain": [
       "6"
      ]
     },
     "execution_count": null,
     "metadata": {},
     "output_type": "execute_result"
    }
   ],
   "source": [
    "usage(5,1).total"
   ]
  },
  {
   "cell_type": "code",
   "execution_count": null,
   "id": "27468180",
   "metadata": {},
   "outputs": [],
   "source": [
    "#| exports\n",
    "@patch\n",
    "def __repr__(self:Usage): return f'In: {self.input_tokens}; Out: {self.output_tokens}; Cache create: {_dgetattr(self, \"cache_creation_input_tokens\",0)}; Cache read: {_dgetattr(self, \"cache_read_input_tokens\",0)}; Total: {self.total}'"
   ]
  },
  {
   "cell_type": "markdown",
   "id": "dbbf7024",
   "metadata": {},
   "source": [
    "In python, patching `__repr__` lets us change how an object is displayed. (More generally, methods starting and ending in `__` in Python are called `dunder` methods, and have some `magic` behavior -- such as, in this case, changing how an object is displayed.)"
   ]
  },
  {
   "cell_type": "code",
   "execution_count": null,
   "id": "b8af5068",
   "metadata": {},
   "outputs": [
    {
     "data": {
      "text/plain": [
       "In: 5; Out: 0; Cache create: 0; Cache read: 0; Total: 5"
      ]
     },
     "execution_count": null,
     "metadata": {},
     "output_type": "execute_result"
    }
   ],
   "source": [
    "usage(5)"
   ]
  },
  {
   "cell_type": "code",
   "execution_count": null,
   "id": "bec303ba",
   "metadata": {},
   "outputs": [],
   "source": [
    "#| exports\n",
    "@patch\n",
    "def __add__(self:Usage, b):\n",
    "    \"Add together each of `input_tokens` and `output_tokens`\"\n",
    "    return usage(self.input_tokens+b.input_tokens, self.output_tokens+b.output_tokens,\n",
    "                 _dgetattr(self,'cache_creation_input_tokens',0)+_dgetattr(b,'cache_creation_input_tokens',0),\n",
    "                 _dgetattr(self,'cache_read_input_tokens',0)+_dgetattr(b,'cache_read_input_tokens',0))"
   ]
  },
  {
   "cell_type": "markdown",
   "id": "81d64102",
   "metadata": {},
   "source": [
    "And, patching `__add__` lets `+` work on a `Usage` object."
   ]
  },
  {
   "cell_type": "code",
   "execution_count": null,
   "id": "bffb0b2e",
   "metadata": {},
   "outputs": [
    {
     "data": {
      "text/plain": [
       "In: 20; Out: 56; Cache create: 0; Cache read: 0; Total: 76"
      ]
     },
     "execution_count": null,
     "metadata": {},
     "output_type": "execute_result"
    }
   ],
   "source": [
    "r.usage+r.usage"
   ]
  },
  {
   "cell_type": "markdown",
   "id": "edd0a43f",
   "metadata": {},
   "source": [
    "### Creating messages"
   ]
  },
  {
   "cell_type": "markdown",
   "id": "b4912f1e",
   "metadata": {},
   "source": [
    "Creating correctly formatted `dict`s from scratch every time isn't very handy, so we'll import a couple of helper functions from the `msglm` library.\n",
    "\n",
    "Let's use `mk_msg` to recreate our msg `{'role': 'user', 'content': \"I'm Jeremy\"}` from earlier."
   ]
  },
  {
   "cell_type": "code",
   "execution_count": null,
   "id": "0ffa2c14",
   "metadata": {},
   "outputs": [
    {
     "data": {
      "text/markdown": [
       "Hello, Jeremy! It's nice to meet you. How are you doing today? Is there something I can help you with or something you'd like to talk about?\n",
       "\n",
       "<details>\n",
       "\n",
       "- id: `msg_01J3e7JzizBwqGKRp5ChBj4E`\n",
       "- content: `[{'citations': None, 'text': \"Hello, Jeremy! It's nice to meet you. How are you doing today? Is there something I can help you with or something you'd like to talk about?\", 'type': 'text'}]`\n",
       "- model: `claude-3-7-sonnet-20250219`\n",
       "- role: `assistant`\n",
       "- stop_reason: `end_turn`\n",
       "- stop_sequence: `None`\n",
       "- type: `message`\n",
       "- usage: `{'cache_creation_input_tokens': 0, 'cache_read_input_tokens': 0, 'input_tokens': 10, 'output_tokens': 37, 'server_tool_use': None}`\n",
       "\n",
       "</details>"
      ],
      "text/plain": [
       "Message(id='msg_01J3e7JzizBwqGKRp5ChBj4E', content=[TextBlock(citations=None, text=\"Hello, Jeremy! It's nice to meet you. How are you doing today? Is there something I can help you with or something you'd like to talk about?\", type='text')], model='claude-3-7-sonnet-20250219', role='assistant', stop_reason='end_turn', stop_sequence=None, type='message', usage=In: 10; Out: 37; Cache create: 0; Cache read: 0; Total: 47)"
      ]
     },
     "execution_count": null,
     "metadata": {},
     "output_type": "execute_result"
    }
   ],
   "source": [
    "prompt = \"I'm Jeremy\"\n",
    "m = mk_msg(prompt)\n",
    "r = cli.messages.create(messages=[m], model=model, max_tokens=100)\n",
    "r"
   ]
  },
  {
   "cell_type": "markdown",
   "id": "2fba8532",
   "metadata": {},
   "source": [
    "We can pass more than just text messages to Claude. As we'll see later we can also pass images, SDK objects, etc. To handle these different data types we need to pass the type along with our content to Claude. \n",
    "\n",
    "Here's an example of a multimodal message containing text and images. \n",
    "\n",
    "```json\n",
    "{\n",
    "    'role': 'user', \n",
    "    'content': [\n",
    "        {'type':'text', 'text':'What is in the image?'},\n",
    "        {\n",
    "            'type':'image', \n",
    "            'source': {\n",
    "                'type':'base64', 'media_type':'media_type', 'data': 'data'\n",
    "            }\n",
    "        }\n",
    "    ]\n",
    "}\n",
    "```\n",
    "\n",
    "`mk_msg` infers the type automatically and creates the appropriate data structure. "
   ]
  },
  {
   "cell_type": "markdown",
   "id": "fb04f6b4",
   "metadata": {},
   "source": [
    "LLMs, don't actually have state, but instead dialogs are created by passing back all previous prompts and responses every time. With Claude, they always alternate *user* and *assistant*. We'll use `mk_msgs` from `msglm` to make it easier to build up these dialog lists."
   ]
  },
  {
   "cell_type": "code",
   "execution_count": null,
   "id": "b4c8fcad",
   "metadata": {},
   "outputs": [
    {
     "data": {
      "text/plain": [
       "[{'role': 'user', 'content': \"I'm Jeremy\"},\n",
       " {'role': 'assistant',\n",
       "  'content': [TextBlock(citations=None, text=\"Hello, Jeremy! It's nice to meet you. How are you doing today? Is there something I can help you with or something you'd like to talk about?\", type='text')]},\n",
       " {'role': 'user', 'content': 'I forgot my name. Can you remind me please?'}]"
      ]
     },
     "execution_count": null,
     "metadata": {},
     "output_type": "execute_result"
    }
   ],
   "source": [
    "msgs = mk_msgs([prompt, r, \"I forgot my name. Can you remind me please?\"]) \n",
    "msgs"
   ]
  },
  {
   "cell_type": "code",
   "execution_count": null,
   "id": "6c464f8b",
   "metadata": {},
   "outputs": [
    {
     "data": {
      "text/markdown": [
       "You just introduced yourself as Jeremy. That's your name based on what you told me.\n",
       "\n",
       "<details>\n",
       "\n",
       "- id: `msg_0124MCDcty1stv55DYXEAdv5`\n",
       "- content: `[{'citations': None, 'text': \"You just introduced yourself as Jeremy. That's your name based on what you told me.\", 'type': 'text'}]`\n",
       "- model: `claude-3-7-sonnet-20250219`\n",
       "- role: `assistant`\n",
       "- stop_reason: `end_turn`\n",
       "- stop_sequence: `None`\n",
       "- type: `message`\n",
       "- usage: `{'cache_creation_input_tokens': 0, 'cache_read_input_tokens': 0, 'input_tokens': 61, 'output_tokens': 21, 'server_tool_use': None}`\n",
       "\n",
       "</details>"
      ],
      "text/plain": [
       "Message(id='msg_0124MCDcty1stv55DYXEAdv5', content=[TextBlock(citations=None, text=\"You just introduced yourself as Jeremy. That's your name based on what you told me.\", type='text')], model='claude-3-7-sonnet-20250219', role='assistant', stop_reason='end_turn', stop_sequence=None, type='message', usage=In: 61; Out: 21; Cache create: 0; Cache read: 0; Total: 82)"
      ]
     },
     "execution_count": null,
     "metadata": {},
     "output_type": "execute_result"
    }
   ],
   "source": [
    "cli.messages.create(messages=msgs, model=model, max_tokens=200)"
   ]
  },
  {
   "cell_type": "markdown",
   "id": "281f8a4d",
   "metadata": {},
   "source": [
    "## Client"
   ]
  },
  {
   "cell_type": "code",
   "execution_count": null,
   "id": "3b873aaf",
   "metadata": {},
   "outputs": [],
   "source": [
    "#| exports\n",
    "class Client:\n",
    "    def __init__(self, model, cli=None, log=False, cache=False):\n",
    "        \"Basic Anthropic messages client.\"\n",
    "        self.model,self.use = model,usage()\n",
    "        self.text_only = model in text_only_models\n",
    "        self.log = [] if log else None\n",
    "        self.c = (cli or Anthropic(default_headers={'anthropic-beta': 'prompt-caching-2024-07-31'}))\n",
    "        self.cache = cache"
   ]
  },
  {
   "cell_type": "markdown",
   "id": "146e39f0",
   "metadata": {},
   "source": [
    "We'll create a simple `Client` for `Anthropic` which tracks usage stores the model to use. We don't add any methods right away -- instead we'll use `patch` for that so we can add and document them incrementally."
   ]
  },
  {
   "cell_type": "code",
   "execution_count": null,
   "id": "d01e9ccf",
   "metadata": {},
   "outputs": [
    {
     "data": {
      "text/plain": [
       "In: 0; Out: 0; Cache create: 0; Cache read: 0; Total: 0"
      ]
     },
     "execution_count": null,
     "metadata": {},
     "output_type": "execute_result"
    }
   ],
   "source": [
    "c = Client(model)\n",
    "c.use"
   ]
  },
  {
   "cell_type": "code",
   "execution_count": null,
   "id": "8015d3f3",
   "metadata": {},
   "outputs": [],
   "source": [
    "#| exports\n",
    "@patch\n",
    "def _r(self:Client, r:Message, prefill=''):\n",
    "    \"Store the result of the message and accrue total usage.\"\n",
    "    if prefill:\n",
    "        blk = find_block(r)\n",
    "        blk.text = prefill + (blk.text or '')\n",
    "    self.result = r\n",
    "    self.use += r.usage\n",
    "    self.stop_reason = r.stop_reason\n",
    "    self.stop_sequence = r.stop_sequence\n",
    "    return r"
   ]
  },
  {
   "cell_type": "markdown",
   "id": "68d2eb9b",
   "metadata": {},
   "source": [
    "We use a `_` prefix on private methods, but we document them here in the interests of literate source code.\n",
    "\n",
    "`_r` will be used each time we get a new result, to track usage and also to keep the result available for later."
   ]
  },
  {
   "cell_type": "code",
   "execution_count": null,
   "id": "0181f7b3",
   "metadata": {},
   "outputs": [
    {
     "data": {
      "text/plain": [
       "In: 10; Out: 37; Cache create: 0; Cache read: 0; Total: 47"
      ]
     },
     "execution_count": null,
     "metadata": {},
     "output_type": "execute_result"
    }
   ],
   "source": [
    "c._r(r)\n",
    "c.use"
   ]
  },
  {
   "cell_type": "markdown",
   "id": "7258fd6e",
   "metadata": {},
   "source": [
    "Whereas OpenAI's models use a `stream` parameter for streaming, Anthropic's use a separate method. We implement Anthropic's approach in a private method, and then use a `stream` parameter in `__call__` for consistency:"
   ]
  },
  {
   "cell_type": "code",
   "execution_count": null,
   "id": "6520a355",
   "metadata": {},
   "outputs": [],
   "source": [
    "#| exports\n",
    "@patch\n",
    "def _log(self:Client, final, prefill, msgs, maxtok=None, sp=None, temp=None, stream=None, stop=None, **kwargs):\n",
    "    self._r(final, prefill)\n",
    "    if self.log is not None: self.log.append({\n",
    "        \"msgs\": msgs, \"prefill\": prefill, **kwargs,\n",
    "        \"msgs\": msgs, \"prefill\": prefill, \"maxtok\": maxtok, \"sp\": sp, \"temp\": temp, \"stream\": stream, \"stop\": stop, **kwargs,\n",
    "        \"result\": self.result, \"use\": self.use, \"stop_reason\": self.stop_reason, \"stop_sequence\": self.stop_sequence\n",
    "    })\n",
    "    return self.result"
   ]
  },
  {
   "cell_type": "code",
   "execution_count": null,
   "id": "6901dce2",
   "metadata": {},
   "outputs": [],
   "source": [
    "#| exports\n",
    "@patch\n",
    "def _stream(self:Client, msgs:list, prefill='', **kwargs):\n",
    "    with self.c.messages.stream(model=self.model, messages=mk_msgs(msgs, cache=self.cache, cache_last_ckpt_only=self.cache), **kwargs) as s:\n",
    "        if prefill: yield(prefill)\n",
    "        yield from s.text_stream\n",
    "        self._log(s.get_final_message(), prefill, msgs, **kwargs)"
   ]
  },
  {
   "cell_type": "markdown",
   "id": "f2269e53",
   "metadata": {},
   "source": [
    "Claude supports adding an extra `assistant` message at the end, which contains the *prefill* -- i.e. the text we want Claude to assume the response starts with. However Claude doesn't actually repeat that in the response, so for convenience we add it."
   ]
  },
  {
   "cell_type": "code",
   "execution_count": null,
   "id": "835638bb",
   "metadata": {},
   "outputs": [],
   "source": [
    "#| exports\n",
    "@patch\n",
    "def _precall(self:Client, msgs, prefill, stop, kwargs):\n",
    "    pref = [prefill.strip()] if prefill else []\n",
    "    if not isinstance(msgs,list): msgs = [msgs]\n",
    "    if stop is not None:\n",
    "        if not isinstance(stop, (list)): stop = [stop]\n",
    "        kwargs[\"stop_sequences\"] = stop\n",
    "    msgs = mk_msgs(msgs+pref, cache=self.cache, cache_last_ckpt_only=self.cache)\n",
    "    return msgs"
   ]
  },
  {
   "cell_type": "code",
   "execution_count": null,
   "id": "c21c2113",
   "metadata": {},
   "outputs": [],
   "source": [
    "@patch\n",
    "@delegates(messages.Messages.create)\n",
    "def __call__(self:Client,\n",
    "             msgs:list, # List of messages in the dialog\n",
    "             sp='', # The system prompt\n",
    "             temp=0, # Temperature\n",
    "             maxtok=4096, # Maximum tokens\n",
    "             prefill='', # Optional prefill to pass to Claude as start of its response\n",
    "             stream:bool=False, # Stream response?\n",
    "             stop=None, # Stop sequence\n",
    "             **kwargs):\n",
    "    \"Make a call to Claude.\"\n",
    "    msgs = self._precall(msgs, prefill, stop, kwargs)\n",
    "    if stream: return self._stream(msgs, prefill=prefill, max_tokens=maxtok, system=sp, temperature=temp, **kwargs)\n",
    "    res = self.c.messages.create(\n",
    "        model=self.model, messages=msgs, max_tokens=maxtok, system=sp, temperature=temp, **kwargs)\n",
    "    return self._log(res, prefill, msgs, maxtok, sp, temp, stream=stream, **kwargs)"
   ]
  },
  {
   "cell_type": "markdown",
   "id": "3cee10c8",
   "metadata": {},
   "source": [
    "Defining `__call__` let's us use an object like a function (i.e it's *callable*). We use it as a small wrapper over `messages.create`. However we're not exporting this version just yet -- we have some additions we'll make in a moment..."
   ]
  },
  {
   "cell_type": "code",
   "execution_count": null,
   "id": "881b5e78",
   "metadata": {},
   "outputs": [
    {
     "data": {
      "text/plain": [
       "In: 0; Out: 0; Cache create: 0; Cache read: 0; Total: 0"
      ]
     },
     "execution_count": null,
     "metadata": {},
     "output_type": "execute_result"
    }
   ],
   "source": [
    "c = Client(model, log=True)\n",
    "c.use"
   ]
  },
  {
   "cell_type": "code",
   "execution_count": null,
   "id": "338a38e5",
   "metadata": {},
   "outputs": [
    {
     "data": {
      "text/markdown": [
       "Hello! How can I assist you today? Feel free to ask any questions or let me know what you'd like to discuss.\n",
       "\n",
       "<details>\n",
       "\n",
       "- id: `msg_01TqtEDDrj2M7MxFiwp1YwtE`\n",
       "- content: `[{'citations': None, 'text': \"Hello! How can I assist you today? Feel free to ask any questions or let me know what you'd like to discuss.\", 'type': 'text'}]`\n",
       "- model: `claude-3-7-sonnet-20250219`\n",
       "- role: `assistant`\n",
       "- stop_reason: `end_turn`\n",
       "- stop_sequence: `None`\n",
       "- type: `message`\n",
       "- usage: `{'cache_creation_input_tokens': 0, 'cache_read_input_tokens': 0, 'input_tokens': 8, 'output_tokens': 29, 'server_tool_use': None}`\n",
       "\n",
       "</details>"
      ],
      "text/plain": [
       "Message(id='msg_01TqtEDDrj2M7MxFiwp1YwtE', content=[TextBlock(citations=None, text=\"Hello! How can I assist you today? Feel free to ask any questions or let me know what you'd like to discuss.\", type='text')], model='claude-3-7-sonnet-20250219', role='assistant', stop_reason='end_turn', stop_sequence=None, type='message', usage=In: 8; Out: 29; Cache create: 0; Cache read: 0; Total: 37)"
      ]
     },
     "execution_count": null,
     "metadata": {},
     "output_type": "execute_result"
    }
   ],
   "source": [
    "c('Hi')"
   ]
  },
  {
   "cell_type": "code",
   "execution_count": null,
   "id": "ae9f7e06",
   "metadata": {},
   "outputs": [
    {
     "data": {
      "text/plain": [
       "In: 8; Out: 29; Cache create: 0; Cache read: 0; Total: 37"
      ]
     },
     "execution_count": null,
     "metadata": {},
     "output_type": "execute_result"
    }
   ],
   "source": [
    "c.use"
   ]
  },
  {
   "cell_type": "markdown",
   "id": "2d269ed8",
   "metadata": {},
   "source": [
    "Let's try out *prefill*:"
   ]
  },
  {
   "cell_type": "code",
   "execution_count": null,
   "id": "7f479429",
   "metadata": {},
   "outputs": [],
   "source": [
    "q = \"Concisely, what is the meaning of life?\"\n",
    "pref = 'According to Douglas Adams,'"
   ]
  },
  {
   "cell_type": "code",
   "execution_count": null,
   "id": "b831ca3d",
   "metadata": {},
   "outputs": [
    {
     "data": {
      "text/markdown": [
       "According to Douglas Adams,  it's 42. More seriously, the meaning of life is deeply personal and varies across philosophical traditions - from finding happiness, serving others, pursuing knowledge, or creating your own purpose in an inherently meaningless universe. There's no universal answer, which is perhaps what makes the question so enduring.\n",
       "\n",
       "<details>\n",
       "\n",
       "- id: `msg_01Y9ComG4Ghzaydqn7YaHb1W`\n",
       "- content: `[{'citations': None, 'text': \"According to Douglas Adams,  it's 42. More seriously, the meaning of life is deeply personal and varies across philosophical traditions - from finding happiness, serving others, pursuing knowledge, or creating your own purpose in an inherently meaningless universe. There's no universal answer, which is perhaps what makes the question so enduring.\", 'type': 'text'}]`\n",
       "- model: `claude-3-7-sonnet-20250219`\n",
       "- role: `assistant`\n",
       "- stop_reason: `end_turn`\n",
       "- stop_sequence: `None`\n",
       "- type: `message`\n",
       "- usage: `{'cache_creation_input_tokens': 0, 'cache_read_input_tokens': 0, 'input_tokens': 24, 'output_tokens': 65, 'server_tool_use': None}`\n",
       "\n",
       "</details>"
      ],
      "text/plain": [
       "Message(id='msg_01Y9ComG4Ghzaydqn7YaHb1W', content=[TextBlock(citations=None, text=\"According to Douglas Adams,  it's 42. More seriously, the meaning of life is deeply personal and varies across philosophical traditions - from finding happiness, serving others, pursuing knowledge, or creating your own purpose in an inherently meaningless universe. There's no universal answer, which is perhaps what makes the question so enduring.\", type='text')], model='claude-3-7-sonnet-20250219', role='assistant', stop_reason='end_turn', stop_sequence=None, type='message', usage=In: 24; Out: 65; Cache create: 0; Cache read: 0; Total: 89)"
      ]
     },
     "execution_count": null,
     "metadata": {},
     "output_type": "execute_result"
    }
   ],
   "source": [
    "c(q, prefill=pref)"
   ]
  },
  {
   "cell_type": "markdown",
   "id": "216b2704",
   "metadata": {},
   "source": [
    "We can pass `stream=True` to stream the response back incrementally:"
   ]
  },
  {
   "cell_type": "code",
   "execution_count": null,
   "id": "e281399f",
   "metadata": {},
   "outputs": [
    {
     "name": "stdout",
     "output_type": "stream",
     "text": [
      "Hello! How can I assist you today? Feel free to ask any questions or let me know what you'd like to discuss."
     ]
    }
   ],
   "source": [
    "for o in c('Hi', stream=True): print(o, end='')"
   ]
  },
  {
   "cell_type": "code",
   "execution_count": null,
   "id": "beb25f2a",
   "metadata": {},
   "outputs": [
    {
     "data": {
      "text/plain": [
       "In: 40; Out: 123; Cache create: 0; Cache read: 0; Total: 163"
      ]
     },
     "execution_count": null,
     "metadata": {},
     "output_type": "execute_result"
    }
   ],
   "source": [
    "c.use"
   ]
  },
  {
   "cell_type": "code",
   "execution_count": null,
   "id": "db1c75ef",
   "metadata": {},
   "outputs": [
    {
     "name": "stdout",
     "output_type": "stream",
     "text": [
      "According to Douglas Adams,  it's 42. More seriously, the meaning of life is deeply personal and varies across philosophical traditions - from finding happiness, serving others, pursuing knowledge, or creating your own purpose in an inherently meaningless universe. There's no universal answer, which is perhaps what makes the question so enduring."
     ]
    }
   ],
   "source": [
    "for o in c(q, prefill=pref, stream=True): print(o, end='')"
   ]
  },
  {
   "cell_type": "code",
   "execution_count": null,
   "id": "e36eddc9",
   "metadata": {},
   "outputs": [
    {
     "data": {
      "text/plain": [
       "In: 64; Out: 188; Cache create: 0; Cache read: 0; Total: 252"
      ]
     },
     "execution_count": null,
     "metadata": {},
     "output_type": "execute_result"
    }
   ],
   "source": [
    "c.use"
   ]
  },
  {
   "cell_type": "markdown",
   "id": "bd556e49",
   "metadata": {},
   "source": [
    "Pass a stop seauence if you want claude to stop generating text when it encounters it.\n"
   ]
  },
  {
   "cell_type": "code",
   "execution_count": null,
   "id": "12b17591",
   "metadata": {},
   "outputs": [
    {
     "data": {
      "text/markdown": [
       "1, 2, 3, 4,\n",
       "\n",
       "<details>\n",
       "\n",
       "- id: `msg_019nM3EmuNgFShyvVZcGvywP`\n",
       "- content: `[{'citations': None, 'text': '1, 2, 3, 4, ', 'type': 'text'}]`\n",
       "- model: `claude-3-7-sonnet-20250219`\n",
       "- role: `assistant`\n",
       "- stop_reason: `stop_sequence`\n",
       "- stop_sequence: `5`\n",
       "- type: `message`\n",
       "- usage: `{'cache_creation_input_tokens': 0, 'cache_read_input_tokens': 0, 'input_tokens': 15, 'output_tokens': 14, 'server_tool_use': None}`\n",
       "\n",
       "</details>"
      ],
      "text/plain": [
       "Message(id='msg_019nM3EmuNgFShyvVZcGvywP', content=[TextBlock(citations=None, text='1, 2, 3, 4, ', type='text')], model='claude-3-7-sonnet-20250219', role='assistant', stop_reason='stop_sequence', stop_sequence='5', type='message', usage=In: 15; Out: 14; Cache create: 0; Cache read: 0; Total: 29)"
      ]
     },
     "execution_count": null,
     "metadata": {},
     "output_type": "execute_result"
    }
   ],
   "source": [
    "c(\"Count from 1 to 10\", stop=\"5\")"
   ]
  },
  {
   "cell_type": "markdown",
   "id": "cdbd3df3",
   "metadata": {},
   "source": [
    "This also works with streaming, and you can pass more than one stop sequence:"
   ]
  },
  {
   "cell_type": "code",
   "execution_count": null,
   "id": "ff50577d",
   "metadata": {},
   "outputs": [
    {
     "name": "stdout",
     "output_type": "stream",
     "text": [
      "1, stop_sequence 2\n"
     ]
    }
   ],
   "source": [
    "for o in c(\"Count from 1 to 10\", stop=[\"2\", \"yellow\"], stream=True): print(o, end='')\n",
    "print(c.stop_reason, c.stop_sequence)"
   ]
  },
  {
   "cell_type": "markdown",
   "id": "2108776e",
   "metadata": {},
   "source": [
    "You can check the logs:"
   ]
  },
  {
   "cell_type": "code",
   "execution_count": null,
   "id": "17122b92",
   "metadata": {},
   "outputs": [
    {
     "data": {
      "text/plain": [
       "{'msgs': [{'role': 'user', 'content': 'Count from 1 to 10'}],\n",
       " 'prefill': '',\n",
       " 'max_tokens': 4096,\n",
       " 'system': '',\n",
       " 'temperature': 0,\n",
       " 'stop_sequences': ['2', 'yellow'],\n",
       " 'maxtok': None,\n",
       " 'sp': None,\n",
       " 'temp': None,\n",
       " 'stream': None,\n",
       " 'stop': None,\n",
       " 'result': Message(id='msg_01FohLvKzzy22QVH1fyMGfa7', content=[TextBlock(citations=None, text='1, ', type='text')], model='claude-3-7-sonnet-20250219', role='assistant', stop_reason='stop_sequence', stop_sequence='2', type='message', usage=In: 15; Out: 5; Cache create: 0; Cache read: 0; Total: 20),\n",
       " 'use': In: 94; Out: 207; Cache create: 0; Cache read: 0; Total: 301,\n",
       " 'stop_reason': 'stop_sequence',\n",
       " 'stop_sequence': '2'}"
      ]
     },
     "execution_count": null,
     "metadata": {},
     "output_type": "execute_result"
    }
   ],
   "source": [
    "c.log[-1]"
   ]
  },
  {
   "cell_type": "markdown",
   "id": "fbdc1914",
   "metadata": {},
   "source": [
    "We've shown the token usage but we really care about is pricing. Let's extract the latest [pricing](https://www.anthropic.com/pricing#anthropic-api) from Anthropic into a `pricing` dict."
   ]
  },
  {
   "cell_type": "code",
   "execution_count": null,
   "id": "9bfce1dc",
   "metadata": {},
   "outputs": [],
   "source": [
    "#| export\n",
    "pricing = {  # model type: $ / million tokens (input, output, cache write, cache read)\n",
    "    'opus': (15, 75, 18.75, 1.5),\n",
    "    'sonnet': (3, 15, 3.75, 0.3),\n",
    "    'haiku-3': (0.25, 1.25, 0.3, 0.03),\n",
    "    'haiku-3-5': (1, 3, 1.25, 0.1),\n",
    "}"
   ]
  },
  {
   "cell_type": "code",
   "execution_count": null,
   "id": "2a1f2e67",
   "metadata": {},
   "outputs": [],
   "source": [
    "#| exports\n",
    "def get_pricing(m, u):\n",
    "    return pricing[m][:3] if u.prompt_token_count < 128_000 else pricing[m][3:]"
   ]
  },
  {
   "cell_type": "markdown",
   "id": "a8a49a95",
   "metadata": {},
   "source": [
    "We'll patch `Usage` to enable it compute the cost given pricing."
   ]
  },
  {
   "cell_type": "code",
   "execution_count": null,
   "id": "2edb5da5",
   "metadata": {},
   "outputs": [],
   "source": [
    "#| exports\n",
    "@patch\n",
    "def cost(self:Usage, costs:tuple) -> float:\n",
    "    cache_w, cache_r = _dgetattr(self, \"cache_creation_input_tokens\",0), _dgetattr(self, \"cache_read_input_tokens\",0)\n",
    "    return sum([self.input_tokens * costs[0] +  self.output_tokens * costs[1] +  cache_w * costs[2] + cache_r * costs[3]]) / 1e6"
   ]
  },
  {
   "cell_type": "code",
   "execution_count": null,
   "id": "936a4adc",
   "metadata": {},
   "outputs": [],
   "source": [
    "#| exports\n",
    "@patch(as_prop=True)\n",
    "def cost(self: Client) -> float: return self.use.cost(pricing[model_types[self.model]])"
   ]
  },
  {
   "cell_type": "code",
   "execution_count": null,
   "id": "91d4dcbe",
   "metadata": {},
   "outputs": [],
   "source": [
    "#| exports\n",
    "def get_costs(c):\n",
    "    costs = pricing[model_types[c.model]]\n",
    "    \n",
    "    inp_cost = c.use.input_tokens * costs[0] / 1e6\n",
    "    out_cost = c.use.output_tokens * costs[1] / 1e6\n",
    "\n",
    "    cache_w = c.use.cache_creation_input_tokens   \n",
    "    cache_r = c.use.cache_read_input_tokens\n",
    "    cache_cost = cache_w * costs[2] + cache_r * costs[3] / 1e6\n",
    "    return inp_cost, out_cost, cache_cost, cache_w + cache_r"
   ]
  },
  {
   "cell_type": "code",
   "execution_count": null,
   "id": "15695891",
   "metadata": {},
   "outputs": [],
   "source": [
    "#| exports\n",
    "@patch\n",
    "def _repr_markdown_(self:Client):\n",
    "    if not hasattr(self,'result'): return 'No results yet'\n",
    "    msg = contents(self.result)\n",
    "    inp_cost, out_cost, cache_cost, cached_toks = get_costs(self)\n",
    "    return f\"\"\"{msg}\n",
    "\n",
    "| Metric | Count | Cost (USD) |\n",
    "|--------|------:|-----:|\n",
    "| Input tokens | {self.use.input_tokens:,} | {inp_cost:.6f} |\n",
    "| Output tokens | {self.use.output_tokens:,} | {out_cost:.6f} |\n",
    "| Cache tokens | {cached_toks:,} | {cache_cost:.6f} |\n",
    "| **Total** | **{self.use.total:,}** | **${self.cost:.6f}** |\"\"\""
   ]
  },
  {
   "cell_type": "code",
   "execution_count": null,
   "id": "be86fc43",
   "metadata": {},
   "outputs": [
    {
     "data": {
      "text/markdown": [
       "1,\n",
       "\n",
       "| Metric | Count | Cost (USD) |\n",
       "|--------|------:|-----:|\n",
       "| Input tokens | 94 | 0.000282 |\n",
       "| Output tokens | 207 | 0.003105 |\n",
       "| Cache tokens | 0 | 0.000000 |\n",
       "| **Total** | **301** | **$0.003387** |"
      ],
      "text/plain": [
       "<__main__.Client>"
      ]
     },
     "execution_count": null,
     "metadata": {},
     "output_type": "execute_result"
    }
   ],
   "source": [
    "c"
   ]
  },
  {
   "cell_type": "markdown",
   "id": "1a7cdbc6",
   "metadata": {},
   "source": [
    "## Tool use"
   ]
  },
  {
   "cell_type": "markdown",
   "id": "65700cb3",
   "metadata": {},
   "source": [
    "Let's now add tool use (aka *function calling*)."
   ]
  },
  {
   "cell_type": "code",
   "execution_count": null,
   "id": "01e3e2af",
   "metadata": {},
   "outputs": [],
   "source": [
    "#| export\n",
    "def mk_tool_choice(choose:Union[str,bool,None])->dict:\n",
    "    \"Create a `tool_choice` dict that's 'auto' if `choose` is `None`, 'any' if it is True, or 'tool' otherwise\"\n",
    "    return {\"type\": \"tool\", \"name\": choose} if isinstance(choose,str) else {'type':'any'} if choose else {'type':'auto'}"
   ]
  },
  {
   "cell_type": "code",
   "execution_count": null,
   "id": "753c4cd5",
   "metadata": {},
   "outputs": [
    {
     "name": "stdout",
     "output_type": "stream",
     "text": [
      "{'type': 'tool', 'name': 'sums'}\n",
      "{'type': 'any'}\n",
      "{'type': 'auto'}\n"
     ]
    }
   ],
   "source": [
    "print(mk_tool_choice('sums'))\n",
    "print(mk_tool_choice(True))\n",
    "print(mk_tool_choice(None))"
   ]
  },
  {
   "cell_type": "markdown",
   "id": "0d72ea0d",
   "metadata": {},
   "source": [
    "Claude can be forced to use a particular tool, or select from a specific list of tools, or decide for itself when to use a tool. If you want to force a tool (or force choosing from a list), include a `tool_choice` param with a dict from `mk_tool_choice`.\n",
    "\n",
    "For testing, we need a function that Claude can call; we'll write a simple function that adds numbers together, and will tell us when it's being called:"
   ]
  },
  {
   "cell_type": "code",
   "execution_count": null,
   "id": "046e8cc3",
   "metadata": {},
   "outputs": [],
   "source": [
    "def sums(\n",
    "    a:int,  # First thing to sum\n",
    "    b:int=1 # Second thing to sum\n",
    ") -> int: # The sum of the inputs\n",
    "    \"Adds a + b.\"\n",
    "    print(f\"Finding the sum of {a} and {b}\")\n",
    "    return a + b"
   ]
  },
  {
   "cell_type": "code",
   "execution_count": null,
   "id": "d51f2bdf",
   "metadata": {},
   "outputs": [],
   "source": [
    "a,b = 604542,6458932\n",
    "pr = f\"What is {a}+{b}?\"\n",
    "sp = \"You are a summing expert.\""
   ]
  },
  {
   "cell_type": "markdown",
   "id": "3dc3ffd6",
   "metadata": {},
   "source": [
    "Claudette can autogenerate a schema thanks to the `toolslm` library. We'll force the use of the tool using the function we created earlier."
   ]
  },
  {
   "cell_type": "code",
   "execution_count": null,
   "id": "bff81d52",
   "metadata": {},
   "outputs": [],
   "source": [
    "tools=[get_schema(sums)]\n",
    "choice = mk_tool_choice('sums')"
   ]
  },
  {
   "cell_type": "markdown",
   "id": "91937f47",
   "metadata": {},
   "source": [
    "We'll start a dialog with Claude now. We'll store the messages of our dialog in `msgs`. The first message will be our prompt `pr`, and we'll pass our `tools` schema."
   ]
  },
  {
   "cell_type": "code",
   "execution_count": null,
   "id": "c2ceeb75",
   "metadata": {},
   "outputs": [
    {
     "data": {
      "text/markdown": [
       "ToolUseBlock(id='toolu_019EG6SFpg4Rdtv9VWVBrDMi', input={'a': 604542, 'b': 6458932}, name='sums', type='tool_use')\n",
       "\n",
       "<details>\n",
       "\n",
       "- id: `msg_01YZTHkS8Ee4in3RvdPfJ5P3`\n",
       "- content: `[{'id': 'toolu_019EG6SFpg4Rdtv9VWVBrDMi', 'input': {'a': 604542, 'b': 6458932}, 'name': 'sums', 'type': 'tool_use'}]`\n",
       "- model: `claude-3-7-sonnet-20250219`\n",
       "- role: `assistant`\n",
       "- stop_reason: `tool_use`\n",
       "- stop_sequence: `None`\n",
       "- type: `message`\n",
       "- usage: `{'cache_creation_input_tokens': 0, 'cache_read_input_tokens': 0, 'input_tokens': 442, 'output_tokens': 53, 'server_tool_use': None}`\n",
       "\n",
       "</details>"
      ],
      "text/plain": [
       "Message(id='msg_01YZTHkS8Ee4in3RvdPfJ5P3', content=[ToolUseBlock(id='toolu_019EG6SFpg4Rdtv9VWVBrDMi', input={'a': 604542, 'b': 6458932}, name='sums', type='tool_use')], model='claude-3-7-sonnet-20250219', role='assistant', stop_reason='tool_use', stop_sequence=None, type='message', usage=In: 442; Out: 53; Cache create: 0; Cache read: 0; Total: 495)"
      ]
     },
     "execution_count": null,
     "metadata": {},
     "output_type": "execute_result"
    }
   ],
   "source": [
    "msgs = mk_msgs(pr)\n",
    "r = c(msgs, sp=sp, tools=tools, tool_choice=choice)\n",
    "r"
   ]
  },
  {
   "cell_type": "markdown",
   "id": "60a2fce0",
   "metadata": {},
   "source": [
    "When Claude decides that it should use a tool, it passes back a `ToolUseBlock` with the name of the tool to call, and the params to use.\n",
    "\n",
    "We don't want to allow it to call just any possible function (that would be a security disaster!) so we create a *namespace* -- that is, a dictionary of allowable function names to call."
   ]
  },
  {
   "cell_type": "code",
   "execution_count": null,
   "id": "4fb9826f",
   "metadata": {},
   "outputs": [
    {
     "data": {
      "text/plain": [
       "{'sums': <function __main__.sums(a: int, b: int = 1) -> int>}"
      ]
     },
     "execution_count": null,
     "metadata": {},
     "output_type": "execute_result"
    }
   ],
   "source": [
    "ns = mk_ns(sums)\n",
    "ns"
   ]
  },
  {
   "cell_type": "code",
   "execution_count": null,
   "id": "5a7728ff",
   "metadata": {},
   "outputs": [],
   "source": [
    "#| exports\n",
    "def mk_funcres(fc, ns):\n",
    "    \"Given tool use block `fc`, get tool result, and create a tool_result response.\"\n",
    "    res = call_func(fc.name, fc.input, ns=ns)\n",
    "    return dict(type=\"tool_result\", tool_use_id=fc.id, content=str(res))"
   ]
  },
  {
   "cell_type": "markdown",
   "id": "3d1f23eb",
   "metadata": {},
   "source": [
    "We can now use the function requested by Claude. We look it up in `ns`, and pass in the provided parameters."
   ]
  },
  {
   "cell_type": "code",
   "execution_count": null,
   "id": "c2e829c2",
   "metadata": {},
   "outputs": [
    {
     "data": {
      "text/plain": [
       "[ToolUseBlock(id='toolu_019EG6SFpg4Rdtv9VWVBrDMi', input={'a': 604542, 'b': 6458932}, name='sums', type='tool_use')]"
      ]
     },
     "execution_count": null,
     "metadata": {},
     "output_type": "execute_result"
    }
   ],
   "source": [
    "fcs = [o for o in r.content if isinstance(o,ToolUseBlock)]\n",
    "fcs"
   ]
  },
  {
   "cell_type": "code",
   "execution_count": null,
   "id": "893f81ca",
   "metadata": {},
   "outputs": [
    {
     "name": "stdout",
     "output_type": "stream",
     "text": [
      "Finding the sum of 604542 and 6458932\n"
     ]
    },
    {
     "data": {
      "text/plain": [
       "[{'type': 'tool_result',\n",
       "  'tool_use_id': 'toolu_019EG6SFpg4Rdtv9VWVBrDMi',\n",
       "  'content': '7063474'}]"
      ]
     },
     "execution_count": null,
     "metadata": {},
     "output_type": "execute_result"
    }
   ],
   "source": [
    "res = [mk_funcres(fc, ns=ns) for fc in fcs]\n",
    "res"
   ]
  },
  {
   "cell_type": "code",
   "execution_count": null,
   "id": "2cd7a393",
   "metadata": {},
   "outputs": [],
   "source": [
    "def contents(r):\n",
    "    \"Helper to get the contents from Claude response `r`.\"\n",
    "    blk = find_block(r)\n",
    "    if not blk and r.content: blk = r.content[0]\n",
    "    if hasattr(blk,'text'): return blk.text.strip()\n",
    "    elif hasattr(blk,'content'): return blk.content.strip()\n",
    "    return str(blk)"
   ]
  },
  {
   "cell_type": "code",
   "execution_count": null,
   "id": "d475922d",
   "metadata": {},
   "outputs": [],
   "source": [
    "#| exports\n",
    "def mk_toolres(\n",
    "    r:abc.Mapping, # Tool use request response from Claude\n",
    "    ns:Optional[abc.Mapping]=None, # Namespace to search for tools\n",
    "    obj:Optional=None # Class to search for tools\n",
    "    ):\n",
    "    \"Create a `tool_result` message from response `r`.\"\n",
    "    cts = getattr(r, 'content', [])\n",
    "    res = [mk_msg(r.model_dump(), role='assistant')]\n",
    "    if ns is None: ns=globals()\n",
    "    if obj is not None: ns = mk_ns(obj)\n",
    "    tcs = [mk_funcres(o, ns) for o in cts if isinstance(o,ToolUseBlock)]\n",
    "    if tcs: res.append(mk_msg(tcs))\n",
    "    return res"
   ]
  },
  {
   "cell_type": "markdown",
   "id": "5a57d1ca",
   "metadata": {},
   "source": [
    "In order to tell Claude the result of the tool call, we pass back the tool use assistant request and the `tool_result` response."
   ]
  },
  {
   "cell_type": "code",
   "execution_count": null,
   "id": "f13de1fc",
   "metadata": {},
   "outputs": [
    {
     "name": "stdout",
     "output_type": "stream",
     "text": [
      "Finding the sum of 604542 and 6458932\n"
     ]
    },
    {
     "data": {
      "text/plain": [
       "[{'role': 'assistant',\n",
       "  'content': [{'id': 'toolu_019EG6SFpg4Rdtv9VWVBrDMi',\n",
       "    'input': {'a': 604542, 'b': 6458932},\n",
       "    'name': 'sums',\n",
       "    'type': 'tool_use'}]},\n",
       " {'role': 'user',\n",
       "  'content': [{'type': 'tool_result',\n",
       "    'tool_use_id': 'toolu_019EG6SFpg4Rdtv9VWVBrDMi',\n",
       "    'content': '7063474'}]}]"
      ]
     },
     "execution_count": null,
     "metadata": {},
     "output_type": "execute_result"
    }
   ],
   "source": [
    "tr = mk_toolres(r, ns=ns)\n",
    "tr"
   ]
  },
  {
   "cell_type": "code",
   "execution_count": null,
   "id": "f0fc80e6",
   "metadata": {},
   "outputs": [
    {
     "data": {
      "text/plain": [
       "[{'role': 'user', 'content': 'What is 604542+6458932?'}]"
      ]
     },
     "execution_count": null,
     "metadata": {},
     "output_type": "execute_result"
    }
   ],
   "source": [
    "msgs"
   ]
  },
  {
   "cell_type": "markdown",
   "id": "faf4fe37",
   "metadata": {},
   "source": [
    "We add this to our dialog, and now Claude has all the information it needs to answer our question."
   ]
  },
  {
   "cell_type": "code",
   "execution_count": null,
   "id": "eed99502",
   "metadata": {},
   "outputs": [
    {
     "data": {
      "text/plain": [
       "'The sum of 604542 and 6458932 is 7,063,474.'"
      ]
     },
     "execution_count": null,
     "metadata": {},
     "output_type": "execute_result"
    }
   ],
   "source": [
    "msgs += tr\n",
    "contents(c(msgs, sp=sp, tools=tools))"
   ]
  },
  {
   "cell_type": "code",
   "execution_count": null,
   "id": "8fc252dc",
   "metadata": {},
   "outputs": [
    {
     "data": {
      "text/plain": [
       "'7063474'"
      ]
     },
     "execution_count": null,
     "metadata": {},
     "output_type": "execute_result"
    }
   ],
   "source": [
    "contents(msgs[-1])"
   ]
  },
  {
   "cell_type": "code",
   "execution_count": null,
   "id": "ae64dce3",
   "metadata": {},
   "outputs": [
    {
     "data": {
      "text/plain": [
       "[{'role': 'user', 'content': 'What is 604542+6458932?'},\n",
       " {'role': 'assistant',\n",
       "  'content': [{'id': 'toolu_019EG6SFpg4Rdtv9VWVBrDMi',\n",
       "    'input': {'a': 604542, 'b': 6458932},\n",
       "    'name': 'sums',\n",
       "    'type': 'tool_use'}]},\n",
       " {'role': 'user',\n",
       "  'content': [{'type': 'tool_result',\n",
       "    'tool_use_id': 'toolu_019EG6SFpg4Rdtv9VWVBrDMi',\n",
       "    'content': '7063474'}]}]"
      ]
     },
     "execution_count": null,
     "metadata": {},
     "output_type": "execute_result"
    }
   ],
   "source": [
    "msgs"
   ]
  },
  {
   "cell_type": "markdown",
   "id": "f2a3dc3c",
   "metadata": {},
   "source": [
    "This works with methods as well -- in this case, use the object itself for `ns`:"
   ]
  },
  {
   "cell_type": "code",
   "execution_count": null,
   "id": "800a53a9",
   "metadata": {},
   "outputs": [],
   "source": [
    "class Dummy:\n",
    "    def sums(\n",
    "        self,\n",
    "        a:int,  # First thing to sum\n",
    "        b:int=1 # Second thing to sum\n",
    "    ) -> int: # The sum of the inputs\n",
    "        \"Adds a + b.\"\n",
    "        print(f\"Finding the sum of {a} and {b}\")\n",
    "        return a + b"
   ]
  },
  {
   "cell_type": "code",
   "execution_count": null,
   "id": "b21e6290",
   "metadata": {},
   "outputs": [
    {
     "name": "stdout",
     "output_type": "stream",
     "text": [
      "Finding the sum of 604542 and 6458932\n"
     ]
    },
    {
     "data": {
      "text/plain": [
       "'The sum of 604542 and 6458932 is 7063474.'"
      ]
     },
     "execution_count": null,
     "metadata": {},
     "output_type": "execute_result"
    }
   ],
   "source": [
    "tools = [get_schema(Dummy.sums)]\n",
    "o = Dummy()\n",
    "r = c(pr, sp=sp, tools=tools, tool_choice=choice)\n",
    "tr = mk_toolres(r, obj=o)\n",
    "msgs += tr\n",
    "contents(c(msgs, sp=sp, tools=tools))"
   ]
  },
  {
   "cell_type": "markdown",
   "id": "4e33c2b2",
   "metadata": {},
   "source": [
    "Anthropic, also has a special tool type specific to text editing."
   ]
  },
  {
   "cell_type": "code",
   "execution_count": null,
   "id": "6dcc3a92",
   "metadata": {},
   "outputs": [
    {
     "data": {
      "text/plain": [
       "[{'type': 'text_editor_20250124', 'name': 'str_replace_editor'}]"
      ]
     },
     "execution_count": null,
     "metadata": {},
     "output_type": "execute_result"
    }
   ],
   "source": [
    "tools = [text_editor_conf['sonnet']]\n",
    "tools"
   ]
  },
  {
   "cell_type": "code",
   "execution_count": null,
   "id": "c9a25fc5",
   "metadata": {},
   "outputs": [
    {
     "data": {
      "text/plain": [
       "ToolUseBlock(id='toolu_01CCwqnq5Dg8DZaEjCa498Jq', input={'command': 'view', 'path': '_quarto.yml'}, name='str_replace_editor', type='tool_use')"
      ]
     },
     "execution_count": null,
     "metadata": {},
     "output_type": "execute_result"
    }
   ],
   "source": [
    "pr = 'Could you please explain my _quarto.yml file?'\n",
    "msgs = [mk_msg(pr)]\n",
    "r = c(msgs, sp=sp, tools=tools)\n",
    "find_block(r, ToolUseBlock)"
   ]
  },
  {
   "cell_type": "markdown",
   "id": "145b096d",
   "metadata": {},
   "source": [
    "We've gone ahead and create a reference implementation that you can directly use from our `text_editor` module. Or use as reference for creating your own. "
   ]
  },
  {
   "cell_type": "code",
   "execution_count": null,
   "id": "a056df6c",
   "metadata": {},
   "outputs": [
    {
     "name": "stdout",
     "output_type": "stream",
     "text": [
      "# Explanation of Your _quarto.yml File\n",
      "\n",
      "Your _quarto.yml file is a configuration file for Quarto, which is a scientific and tech\n"
     ]
    }
   ],
   "source": [
    "ns = mk_ns(str_replace_editor)\n",
    "tr = mk_toolres(r, ns=ns)\n",
    "msgs += tr\n",
    "print(contents(c(msgs, sp=sp, tools=tools))[:128])"
   ]
  },
  {
   "cell_type": "markdown",
   "id": "d618fc89",
   "metadata": {},
   "source": [
    "## Callable Client"
   ]
  },
  {
   "cell_type": "code",
   "execution_count": null,
   "id": "cb514c3f",
   "metadata": {},
   "outputs": [],
   "source": [
    "#| export\n",
    "def get_types(msgs):\n",
    "    types = []\n",
    "    for m in msgs:\n",
    "        content = m.get('content', [])\n",
    "        if isinstance(content, list): types.extend(getattr(c, 'type', None) or c['type'] for c in content)\n",
    "        else: types.append('text')\n",
    "    return types"
   ]
  },
  {
   "cell_type": "code",
   "execution_count": null,
   "id": "6260d227",
   "metadata": {},
   "outputs": [
    {
     "data": {
      "text/plain": [
       "['text', 'text', 'tool_use', 'tool_result']"
      ]
     },
     "execution_count": null,
     "metadata": {},
     "output_type": "execute_result"
    }
   ],
   "source": [
    "get_types(msgs)"
   ]
  },
  {
   "cell_type": "code",
   "execution_count": null,
   "id": "cbeb89c2",
   "metadata": {},
   "outputs": [],
   "source": [
    "#| exports\n",
    "@patch\n",
    "@delegates(messages.Messages.create)\n",
    "def __call__(self:Client,\n",
    "             msgs:list, # List of messages in the dialog\n",
    "             sp='', # The system prompt\n",
    "             temp=0, # Temperature\n",
    "             maxtok=4096, # Maximum tokens\n",
    "             maxthinktok=0, # Maximum thinking tokens\n",
    "             prefill='', # Optional prefill to pass to Claude as start of its response\n",
    "             stream:bool=False, # Stream response?\n",
    "             stop=None, # Stop sequence\n",
    "             tools:Optional[list]=None, # List of tools to make available to Claude\n",
    "             tool_choice:Optional[dict]=None, # Optionally force use of some tool\n",
    "             **kwargs):\n",
    "    \"Make a call to Claude.\"\n",
    "    if tools: kwargs['tools'] = [get_schema(o) if callable(o) else o for o in listify(tools)]\n",
    "    if tool_choice: kwargs['tool_choice'] = mk_tool_choice(tool_choice)\n",
    "    if maxthinktok: \n",
    "        kwargs['thinking']={'type':'enabled', 'budget_tokens':maxthinktok} \n",
    "        temp=1; prefill=''\n",
    "    msgs = self._precall(msgs, prefill, stop, kwargs)\n",
    "    if any(t == 'image' for t in get_types(msgs)): assert not self.text_only, f\"Images are not supported by the current model type: {self.model}\"\n",
    "    if stream: return self._stream(msgs, prefill=prefill, max_tokens=maxtok, system=sp, temperature=temp, **kwargs)\n",
    "    res = self.c.messages.create(model=self.model, messages=msgs, max_tokens=maxtok, system=sp, temperature=temp, **kwargs)\n",
    "    return self._log(res, prefill, msgs, maxtok, sp, temp, stream=stream, stop=stop, **kwargs)"
   ]
  },
  {
   "cell_type": "code",
   "execution_count": null,
   "id": "6dd255e0",
   "metadata": {},
   "outputs": [
    {
     "name": "stdout",
     "output_type": "stream",
     "text": [
      "Message(id='msg_011xSDE6vePXJGo9KKoJoBHL', content=[ToolUseBlock(id='toolu_016AH5sjjLwBtGdYfuzpVuPD', input={'a': 0}, name='sums', type='tool_use')], model='claude-3-7-sonnet-20250219', role='assistant', stop_reason='tool_use', stop_sequence=None, type='message', usage=In: 444; Out: 33; Cache create: 0; Cache read: 0; Total: 477)\n",
      "Message(id='msg_01MyzgMMpeQ4cRE7VoXL7hWP', content=[ToolUseBlock(id='toolu_014Ko19oCJEjTnHjDtsApEBm', input={'a': 0}, name='sums', type='tool_use')], model='claude-3-7-sonnet-20250219', role='assistant', stop_reason='tool_use', stop_sequence=None, type='message', usage=In: 444; Out: 33; Cache create: 0; Cache read: 0; Total: 477)\n"
     ]
    }
   ],
   "source": [
    "for tools in [sums, [get_schema(sums)]]:\n",
    "    r = c(pr, sp=sp, tools=sums, tool_choice='sums')\n",
    "    print(r)"
   ]
  },
  {
   "cell_type": "code",
   "execution_count": null,
   "id": "f0bb426f",
   "metadata": {},
   "outputs": [
    {
     "name": "stdout",
     "output_type": "stream",
     "text": [
      "Finding the sum of 0 and 1\n"
     ]
    }
   ],
   "source": [
    "ns = mk_ns(sums)\n",
    "tr = mk_toolres(r, ns=ns)"
   ]
  },
  {
   "cell_type": "code",
   "execution_count": null,
   "id": "b3564424",
   "metadata": {},
   "outputs": [],
   "source": [
    "#| exports\n",
    "@patch\n",
    "@delegates(Client.__call__)\n",
    "def structured(self:Client,\n",
    "               msgs:list, # List of messages in the dialog\n",
    "               tools:Optional[list]=None, # List of tools to make available to Claude\n",
    "               obj:Optional=None, # Class to search for tools\n",
    "               ns:Optional[abc.Mapping]=None, # Namespace to search for tools\n",
    "               **kwargs):\n",
    "    \"Return the value of all tool calls (generally used for structured outputs)\"\n",
    "    tools = listify(tools)\n",
    "    res = self(msgs, tools=tools, tool_choice=tools, **kwargs)\n",
    "    if ns is None: ns=mk_ns(*tools)\n",
    "    if obj is not None: ns = mk_ns(obj)\n",
    "    cts = getattr(res, 'content', [])\n",
    "    tcs = [call_func(o.name, o.input, ns=ns) for o in cts if isinstance(o,ToolUseBlock)]\n",
    "    return tcs"
   ]
  },
  {
   "cell_type": "markdown",
   "id": "e2b70864",
   "metadata": {},
   "source": [
    "Anthropic's API does not support response formats directly, so instead we provide a `structured` method to use tool calling to achieve the same result. The result of the tool is not passed back to Claude in this case, but instead is returned directly to the user. "
   ]
  },
  {
   "cell_type": "code",
   "execution_count": null,
   "id": "44d2cc82",
   "metadata": {},
   "outputs": [
    {
     "name": "stdout",
     "output_type": "stream",
     "text": [
      "Finding the sum of 1 and 1\n"
     ]
    },
    {
     "data": {
      "text/plain": [
       "[2]"
      ]
     },
     "execution_count": null,
     "metadata": {},
     "output_type": "execute_result"
    }
   ],
   "source": [
    "c.structured(pr, tools=[sums])"
   ]
  },
  {
   "cell_type": "code",
   "execution_count": null,
   "id": "78883bec",
   "metadata": {},
   "outputs": [
    {
     "data": {
      "text/markdown": [
       "ToolUseBlock(id='toolu_01KwDJCrhmrkPNXkngCexVo3', input={'a': 1}, name='sums', type='tool_use')\n",
       "\n",
       "| Metric | Count | Cost (USD) |\n",
       "|--------|------:|-----:|\n",
       "| Input tokens | 5,860 | 0.017580 |\n",
       "| Output tokens | 1,425 | 0.021375 |\n",
       "| Cache tokens | 0 | 0.000000 |\n",
       "| **Total** | **7,285** | **$0.038955** |"
      ],
      "text/plain": [
       "<__main__.Client>"
      ]
     },
     "execution_count": null,
     "metadata": {},
     "output_type": "execute_result"
    }
   ],
   "source": [
    "c"
   ]
  },
  {
   "cell_type": "markdown",
   "id": "df5211d9",
   "metadata": {},
   "source": [
    "## Custom Types with Tools Use"
   ]
  },
  {
   "cell_type": "markdown",
   "id": "06fe1763",
   "metadata": {},
   "source": [
    "We need to add tool support for custom types too. Let's test out custom types using a minimal example."
   ]
  },
  {
   "cell_type": "code",
   "execution_count": null,
   "id": "13d08aba",
   "metadata": {},
   "outputs": [],
   "source": [
    "class Book(BasicRepr):\n",
    "    def __init__(self, title: str, pages: int): store_attr()\n",
    "    def __repr__(self):\n",
    "        return f\"Book Title : {self.title}\\nNumber of Pages : {self.pages}\""
   ]
  },
  {
   "cell_type": "code",
   "execution_count": null,
   "id": "effd7f47",
   "metadata": {},
   "outputs": [
    {
     "data": {
      "text/plain": [
       "Book Title : War and Peace\n",
       "Number of Pages : 950"
      ]
     },
     "execution_count": null,
     "metadata": {},
     "output_type": "execute_result"
    }
   ],
   "source": [
    "Book(\"War and Peace\", 950)"
   ]
  },
  {
   "cell_type": "code",
   "execution_count": null,
   "id": "465abf5b",
   "metadata": {},
   "outputs": [],
   "source": [
    "def find_page(book: Book, # The book to find the halfway point of\n",
    "              percent: int, # Percent of a book to read to, e.g. halfway == 50, \n",
    ") -> int:\n",
    "    \"The page number corresponding to `percent` completion of a book\"\n",
    "    return round(book.pages * (percent / 100.0))"
   ]
  },
  {
   "cell_type": "code",
   "execution_count": null,
   "id": "011f74a8",
   "metadata": {},
   "outputs": [
    {
     "data": {
      "text/plain": [
       "{'name': 'find_page',\n",
       " 'description': 'The page number corresponding to `percent` completion of a book\\n\\nReturns:\\n- type: integer',\n",
       " 'input_schema': {'type': 'object',\n",
       "  'properties': {'book': {'type': 'object',\n",
       "    'description': 'The book to find the halfway point of',\n",
       "    '$ref': '#/$defs/Book'},\n",
       "   'percent': {'type': 'integer',\n",
       "    'description': 'Percent of a book to read to, e.g. halfway == 50,'}},\n",
       "  'title': None,\n",
       "  'required': ['book', 'percent'],\n",
       "  '$defs': {'Book': {'type': 'object',\n",
       "    'properties': {'title': {'type': 'string', 'description': ''},\n",
       "     'pages': {'type': 'integer', 'description': ''}},\n",
       "    'title': 'Book',\n",
       "    'required': ['title', 'pages']}}}}"
      ]
     },
     "execution_count": null,
     "metadata": {},
     "output_type": "execute_result"
    }
   ],
   "source": [
    "get_schema(find_page)"
   ]
  },
  {
   "cell_type": "code",
   "execution_count": null,
   "id": "c39dac76",
   "metadata": {},
   "outputs": [
    {
     "data": {
      "text/plain": [
       "{'type': 'tool', 'name': 'find_page'}"
      ]
     },
     "execution_count": null,
     "metadata": {},
     "output_type": "execute_result"
    }
   ],
   "source": [
    "choice = mk_tool_choice('find_page')\n",
    "choice"
   ]
  },
  {
   "cell_type": "markdown",
   "id": "c0795da1",
   "metadata": {},
   "source": [
    "Claudette will pack objects as dict, so we'll transform tool functions with user-defined types into tool functions that accept a dict in lieu of the user-defined type.\n",
    "\n",
    "First let's convert a single argument:"
   ]
  },
  {
   "cell_type": "code",
   "execution_count": null,
   "id": "a8f64918",
   "metadata": {},
   "outputs": [],
   "source": [
    "#| export\n",
    "def _is_builtin(tp: type):\n",
    "    \"Returns True for built in primitive types or containers\"\n",
    "    return (tp in (str, int, float, bool, complex) or tp is None\n",
    "        or getattr(tp, '__origin__', None) is not None)  # Pass through all container types\n",
    "\n",
    "def _convert(val: Dict, # dictionary argument being passed in\n",
    "            tp: type): # type of the tool function input\n",
    "    \"Convert converts a single argument\"\n",
    "    if val is None or _is_builtin(tp) or not isinstance(val, dict): return val\n",
    "    return tp(**val)"
   ]
  },
  {
   "cell_type": "markdown",
   "id": "fbb1fd24",
   "metadata": {},
   "source": [
    "`_is_builtin` decides whether to pass an argument through as-is. Let's check the argument conversion:"
   ]
  },
  {
   "cell_type": "code",
   "execution_count": null,
   "id": "e6182cae",
   "metadata": {},
   "outputs": [
    {
     "data": {
      "text/plain": [
       "(True, False, True)"
      ]
     },
     "execution_count": null,
     "metadata": {},
     "output_type": "execute_result"
    }
   ],
   "source": [
    "(_is_builtin(int), _is_builtin(Book), _is_builtin(List))"
   ]
  },
  {
   "cell_type": "code",
   "execution_count": null,
   "id": "30bcf8cd",
   "metadata": {},
   "outputs": [
    {
     "data": {
      "text/plain": [
       "(555,\n",
       " Book Title : War and Peace\n",
       " Number of Pages : 923,\n",
       " [1, 2, 3, 4])"
      ]
     },
     "execution_count": null,
     "metadata": {},
     "output_type": "execute_result"
    }
   ],
   "source": [
    "(_convert(555, int),\n",
    " _convert({\"title\": \"War and Peace\", \"pages\": 923}, Book),\n",
    " _convert([1, 2, 3, 4], List))"
   ]
  },
  {
   "cell_type": "markdown",
   "id": "21d4ed6a",
   "metadata": {},
   "source": [
    "To apply `tool()` to a function is to return a new function where the user-defined types are replaced with dictionary inputs."
   ]
  },
  {
   "cell_type": "code",
   "execution_count": null,
   "id": "ad70d01a",
   "metadata": {},
   "outputs": [],
   "source": [
    "#| export\n",
    "def tool(func):\n",
    "    if isinstance(func, dict): return func # it's a schema, so don't change\n",
    "    hints = get_type_hints(func)\n",
    "    @wraps(func)\n",
    "    def wrapper(*args, **kwargs):\n",
    "        new_args = [_convert(arg, hints[p]) for p,arg in zip(inspect.signature(func).parameters, args)]\n",
    "        new_kwargs = {k: _convert(v, hints[k]) if k in hints else v for k,v in kwargs.items()}\n",
    "        return func(*new_args, **new_kwargs)\n",
    "    return wrapper"
   ]
  },
  {
   "cell_type": "markdown",
   "id": "a80c69d7",
   "metadata": {},
   "source": [
    "A function is transformed into a function with dict arguments substituted for user-defined types. Built-in types such as `percent` here are left untouched."
   ]
  },
  {
   "cell_type": "code",
   "execution_count": null,
   "id": "dbe72ab6",
   "metadata": {},
   "outputs": [
    {
     "data": {
      "text/plain": [
       "475"
      ]
     },
     "execution_count": null,
     "metadata": {},
     "output_type": "execute_result"
    }
   ],
   "source": [
    "find_page(book=Book(\"War and Peace\", 950), percent=50)"
   ]
  },
  {
   "cell_type": "code",
   "execution_count": null,
   "id": "261f3253",
   "metadata": {},
   "outputs": [
    {
     "data": {
      "text/plain": [
       "475"
      ]
     },
     "execution_count": null,
     "metadata": {},
     "output_type": "execute_result"
    }
   ],
   "source": [
    "tool(find_page)({\"title\": \"War and Peace\", \"pages\": 950}, percent=50)"
   ]
  },
  {
   "cell_type": "markdown",
   "id": "6428afcb",
   "metadata": {},
   "source": [
    "By passing tools wrapped by `tool()`, user-defined types now work completes without failing in tool calls."
   ]
  },
  {
   "cell_type": "code",
   "execution_count": null,
   "id": "48cdcfc2",
   "metadata": {},
   "outputs": [
    {
     "data": {
      "text/plain": [
       "<function __main__.find_page(book: __main__.Book, percent: int) -> int>"
      ]
     },
     "execution_count": null,
     "metadata": {},
     "output_type": "execute_result"
    }
   ],
   "source": [
    "pr = \"How many pages do I have to read to get halfway through my 950 page copy of War and Peace\"\n",
    "tools = tool(find_page)\n",
    "tools"
   ]
  },
  {
   "cell_type": "code",
   "execution_count": null,
   "id": "848a319e",
   "metadata": {},
   "outputs": [
    {
     "data": {
      "text/plain": [
       "ToolUseBlock(id='toolu_01SWVZUAwHC8KsXQEAtJbRY5', input={'book': {'title': 'War and Peace', 'pages': 950}, 'percent': 50}, name='find_page', type='tool_use')"
      ]
     },
     "execution_count": null,
     "metadata": {},
     "output_type": "execute_result"
    }
   ],
   "source": [
    "r = c(pr, tools=[tools])\n",
    "find_block(r, ToolUseBlock)"
   ]
  },
  {
   "cell_type": "code",
   "execution_count": null,
   "id": "209fbdf0",
   "metadata": {},
   "outputs": [
    {
     "data": {
      "text/plain": [
       "[{'role': 'assistant',\n",
       "  'content': [{'citations': None,\n",
       "    'text': 'I can help you find the halfway point of your book. Let me calculate how many pages you need to read to get halfway through your 950-page copy of War and Peace.',\n",
       "    'type': 'text'},\n",
       "   {'id': 'toolu_01SWVZUAwHC8KsXQEAtJbRY5',\n",
       "    'input': {'book': {'title': 'War and Peace', 'pages': 950}, 'percent': 50},\n",
       "    'name': 'find_page',\n",
       "    'type': 'tool_use'}]},\n",
       " {'role': 'user',\n",
       "  'content': [{'type': 'tool_result',\n",
       "    'tool_use_id': 'toolu_01SWVZUAwHC8KsXQEAtJbRY5',\n",
       "    'content': '475'}]}]"
      ]
     },
     "execution_count": null,
     "metadata": {},
     "output_type": "execute_result"
    }
   ],
   "source": [
    "tr = mk_toolres(r, ns=[tools])\n",
    "tr"
   ]
  },
  {
   "cell_type": "code",
   "execution_count": null,
   "id": "8abdec8a",
   "metadata": {},
   "outputs": [
    {
     "data": {
      "text/plain": [
       "'You need to read 475 pages to reach the halfway point of your 950-page copy of War and Peace.'"
      ]
     },
     "execution_count": null,
     "metadata": {},
     "output_type": "execute_result"
    }
   ],
   "source": [
    "msgs = [pr]+tr\n",
    "contents(c(msgs, sp=sp, tools=[tools]))"
   ]
  },
  {
   "cell_type": "markdown",
   "id": "4ea144b8",
   "metadata": {},
   "source": [
    "## Chat"
   ]
  },
  {
   "cell_type": "markdown",
   "id": "419fab81",
   "metadata": {},
   "source": [
    "Rather than manually adding the responses to a dialog, we'll create a simple `Chat` class to do that for us, each time we make a request. We'll also store the system prompt and tools here, to avoid passing them every time."
   ]
  },
  {
   "cell_type": "code",
   "execution_count": null,
   "id": "755dd2a1",
   "metadata": {},
   "outputs": [],
   "source": [
    "#| export\n",
    "class Chat:\n",
    "    def __init__(self,\n",
    "                 model:Optional[str]=None, # Model to use (leave empty if passing `cli`)\n",
    "                 cli:Optional[Client]=None, # Client to use (leave empty if passing `model`)\n",
    "                 sp='', # Optional system prompt\n",
    "                 tools:Optional[list]=None, # List of tools to make available to Claude\n",
    "                 temp=0, # Temperature\n",
    "                 cont_pr:Optional[str]=None, # User prompt to continue an assistant response\n",
    "                 cache: bool = False,  # Use Claude cache?\n",
    "                 hist: list = None,  # Initialize history\n",
    "                 ns:Optional[abc.Mapping]=None # Namespace to search for tools\n",
    "                ):\n",
    "        \"Anthropic chat client.\"\n",
    "        assert model or cli\n",
    "        assert cont_pr != \"\", \"cont_pr may not be an empty string\"\n",
    "        self.c = (cli or Client(model, cache=cache))\n",
    "        if hist is None: hist=[]\n",
    "        if tools: tools = [tool(t) for t in tools]\n",
    "        if ns is None: ns=tools\n",
    "        self.h,self.sp,self.tools,self.cont_pr,self.temp,self.cache,self.ns = hist,sp,tools,cont_pr,temp,cache,ns\n",
    "\n",
    "    @property\n",
    "    def use(self): return self.c.use"
   ]
  },
  {
   "cell_type": "markdown",
   "id": "c3f16d4e",
   "metadata": {},
   "source": [
    "The class stores the `Client` that will provide the responses in `c`, and a history of messages in `h`."
   ]
  },
  {
   "cell_type": "code",
   "execution_count": null,
   "id": "04b837c5",
   "metadata": {},
   "outputs": [
    {
     "data": {
      "text/plain": [
       "(In: 0; Out: 0; Cache create: 0; Cache read: 0; Total: 0, [])"
      ]
     },
     "execution_count": null,
     "metadata": {},
     "output_type": "execute_result"
    }
   ],
   "source": [
    "sp = \"Never mention what tools you use.\"\n",
    "chat = Chat(model, sp=sp)\n",
    "chat.c.use, chat.h"
   ]
  },
  {
   "cell_type": "code",
   "execution_count": null,
   "id": "10360d53",
   "metadata": {},
   "outputs": [
    {
     "data": {
      "text/plain": [
       "0.0"
      ]
     },
     "execution_count": null,
     "metadata": {},
     "output_type": "execute_result"
    }
   ],
   "source": [
    "chat.c.use.cost(pricing[model_types[chat.c.model]])"
   ]
  },
  {
   "cell_type": "markdown",
   "id": "8b36fcec",
   "metadata": {},
   "source": [
    "This is clunky. Let's add `cost` as a property for the `Chat` class. It will pass in the appropriate prices for the current model to the usage cost calculator."
   ]
  },
  {
   "cell_type": "code",
   "execution_count": null,
   "id": "aae25dd2",
   "metadata": {},
   "outputs": [],
   "source": [
    "#| exports\n",
    "@patch(as_prop=True)\n",
    "def cost(self: Chat) -> float: return self.c.cost"
   ]
  },
  {
   "cell_type": "code",
   "execution_count": null,
   "id": "793d2f2d",
   "metadata": {},
   "outputs": [
    {
     "data": {
      "text/plain": [
       "0.0"
      ]
     },
     "execution_count": null,
     "metadata": {},
     "output_type": "execute_result"
    }
   ],
   "source": [
    "chat.cost"
   ]
  },
  {
   "cell_type": "code",
   "execution_count": null,
   "id": "42a05df9",
   "metadata": {},
   "outputs": [],
   "source": [
    "#| exports\n",
    "@patch\n",
    "def _stream(self:Chat, res):\n",
    "    yield from res\n",
    "    self.h += mk_toolres(self.c.result, ns=self.tools, obj=self)"
   ]
  },
  {
   "cell_type": "code",
   "execution_count": null,
   "id": "d0178ee1",
   "metadata": {},
   "outputs": [],
   "source": [
    "#| exports\n",
    "@patch\n",
    "def _post_pr(self:Chat, pr, prev_role):\n",
    "    if pr is None and prev_role == 'assistant':\n",
    "        if self.cont_pr is None:\n",
    "            raise ValueError(\"Prompt must be given after assistant completion, or use `self.cont_pr`.\")\n",
    "        pr = self.cont_pr # No user prompt, keep the chain\n",
    "    if pr: self.h.append(mk_msg(pr, cache=self.cache))"
   ]
  },
  {
   "cell_type": "code",
   "execution_count": null,
   "id": "1b5c04e6",
   "metadata": {},
   "outputs": [],
   "source": [
    "#| exports\n",
    "@patch\n",
    "def _append_pr(self:Chat,\n",
    "               pr=None,  # Prompt / message\n",
    "              ):\n",
    "    prev_role = nested_idx(self.h, -1, 'role') if self.h else 'assistant' # First message should be 'user'\n",
    "    if pr and prev_role == 'user': self() # already user request pending\n",
    "    self._post_pr(pr, prev_role)"
   ]
  },
  {
   "cell_type": "code",
   "execution_count": null,
   "id": "a9bcc67a",
   "metadata": {},
   "outputs": [],
   "source": [
    "#| exports\n",
    "@patch\n",
    "def __call__(self:Chat,\n",
    "             pr=None,  # Prompt / message\n",
    "             temp=None, # Temperature\n",
    "             maxtok=4096, # Maximum tokens\n",
    "             maxthinktok=0, # Maximum thinking tokens\n",
    "             stream=False, # Stream response?\n",
    "             prefill='', # Optional prefill to pass to Claude as start of its response\n",
    "             tool_choice:Optional[dict]=None, # Optionally force use of some tool\n",
    "             **kw):\n",
    "    if temp is None: temp=self.temp\n",
    "    self._append_pr(pr)\n",
    "    res = self.c(self.h, stream=stream, prefill=prefill, sp=self.sp, temp=temp, maxtok=maxtok, maxthinktok=maxthinktok, tools=self.tools, tool_choice=tool_choice,**kw)\n",
    "    if stream: return self._stream(res)\n",
    "    self.h += mk_toolres(self.c.result, ns=self.ns)\n",
    "    return res"
   ]
  },
  {
   "cell_type": "markdown",
   "id": "f97c5cd7",
   "metadata": {},
   "source": [
    "The `__call__` method just passes the request along to the `Client`, but rather than just passing in this one prompt, it appends it to the history and passes it all along. As a result, we now have state!"
   ]
  },
  {
   "cell_type": "code",
   "execution_count": null,
   "id": "cb393257",
   "metadata": {},
   "outputs": [],
   "source": [
    "chat = Chat(model, sp=sp)"
   ]
  },
  {
   "cell_type": "code",
   "execution_count": null,
   "id": "40073f42",
   "metadata": {},
   "outputs": [
    {
     "data": {
      "text/markdown": [
       "Your name is Jeremy, as you mentioned in your previous message.\n",
       "\n",
       "<details>\n",
       "\n",
       "- id: `msg_01CJnqxkSKPTjmPdmmgyN4qh`\n",
       "- content: `[{'citations': None, 'text': 'Your name is Jeremy, as you mentioned in your previous message.', 'type': 'text'}]`\n",
       "- model: `claude-3-7-sonnet-20250219`\n",
       "- role: `assistant`\n",
       "- stop_reason: `end_turn`\n",
       "- stop_sequence: `None`\n",
       "- type: `message`\n",
       "- usage: `{'cache_creation_input_tokens': 0, 'cache_read_input_tokens': 0, 'input_tokens': 59, 'output_tokens': 16, 'server_tool_use': None}`\n",
       "\n",
       "</details>"
      ],
      "text/plain": [
       "Message(id='msg_01CJnqxkSKPTjmPdmmgyN4qh', content=[TextBlock(citations=None, text='Your name is Jeremy, as you mentioned in your previous message.', type='text')], model='claude-3-7-sonnet-20250219', role='assistant', stop_reason='end_turn', stop_sequence=None, type='message', usage=In: 59; Out: 16; Cache create: 0; Cache read: 0; Total: 75)"
      ]
     },
     "execution_count": null,
     "metadata": {},
     "output_type": "execute_result"
    }
   ],
   "source": [
    "chat(\"I'm Jeremy\")\n",
    "chat(\"What's my name?\")"
   ]
  },
  {
   "cell_type": "code",
   "execution_count": null,
   "id": "5457b51d",
   "metadata": {},
   "outputs": [
    {
     "data": {
      "text/plain": [
       "(In: 76; Out: 50; Cache create: 0; Cache read: 0; Total: 126, 0.000978)"
      ]
     },
     "execution_count": null,
     "metadata": {},
     "output_type": "execute_result"
    }
   ],
   "source": [
    "chat.use, chat.cost"
   ]
  },
  {
   "cell_type": "markdown",
   "id": "a7df0327",
   "metadata": {},
   "source": [
    "Let's try out prefill too:"
   ]
  },
  {
   "cell_type": "code",
   "execution_count": null,
   "id": "20a32de0",
   "metadata": {},
   "outputs": [],
   "source": [
    "q = \"Concisely, what is the meaning of life?\"\n",
    "pref = 'According to Douglas Adams,'"
   ]
  },
  {
   "cell_type": "code",
   "execution_count": null,
   "id": "b07bce62",
   "metadata": {},
   "outputs": [
    {
     "data": {
      "text/markdown": [
       "Your name is Jeremy, as you mentioned in your previous message.\n",
       "\n",
       "<details>\n",
       "\n",
       "- id: `msg_01CJnqxkSKPTjmPdmmgyN4qh`\n",
       "- content: `[{'citations': None, 'text': 'Your name is Jeremy, as you mentioned in your previous message.', 'type': 'text'}]`\n",
       "- model: `claude-3-7-sonnet-20250219`\n",
       "- role: `assistant`\n",
       "- stop_reason: `end_turn`\n",
       "- stop_sequence: `None`\n",
       "- type: `message`\n",
       "- usage: `{'cache_creation_input_tokens': 0, 'cache_read_input_tokens': 0, 'input_tokens': 59, 'output_tokens': 16, 'server_tool_use': None}`\n",
       "\n",
       "</details>"
      ],
      "text/plain": [
       "Message(id='msg_01CJnqxkSKPTjmPdmmgyN4qh', content=[TextBlock(citations=None, text='Your name is Jeremy, as you mentioned in your previous message.', type='text')], model='claude-3-7-sonnet-20250219', role='assistant', stop_reason='end_turn', stop_sequence=None, type='message', usage=In: 59; Out: 16; Cache create: 0; Cache read: 0; Total: 75)"
      ]
     },
     "execution_count": null,
     "metadata": {},
     "output_type": "execute_result"
    }
   ],
   "source": [
    "chat.c.result"
   ]
  },
  {
   "cell_type": "code",
   "execution_count": null,
   "id": "9b28705d",
   "metadata": {},
   "outputs": [
    {
     "data": {
      "text/markdown": [
       "According to Douglas Adams,  the meaning of life is 42. More seriously, it's often considered to be finding personal fulfillment, connection with others, and creating your own purpose.\n",
       "\n",
       "<details>\n",
       "\n",
       "- id: `msg_01Kv3549uLrR8d7abkbPh7qr`\n",
       "- content: `[{'citations': None, 'text': \"According to Douglas Adams,  the meaning of life is 42. More seriously, it's often considered to be finding personal fulfillment, connection with others, and creating your own purpose.\", 'type': 'text'}]`\n",
       "- model: `claude-3-7-sonnet-20250219`\n",
       "- role: `assistant`\n",
       "- stop_reason: `end_turn`\n",
       "- stop_sequence: `None`\n",
       "- type: `message`\n",
       "- usage: `{'cache_creation_input_tokens': 0, 'cache_read_input_tokens': 0, 'input_tokens': 95, 'output_tokens': 37, 'server_tool_use': None}`\n",
       "\n",
       "</details>"
      ],
      "text/plain": [
       "Message(id='msg_01Kv3549uLrR8d7abkbPh7qr', content=[TextBlock(citations=None, text=\"According to Douglas Adams,  the meaning of life is 42. More seriously, it's often considered to be finding personal fulfillment, connection with others, and creating your own purpose.\", type='text')], model='claude-3-7-sonnet-20250219', role='assistant', stop_reason='end_turn', stop_sequence=None, type='message', usage=In: 95; Out: 37; Cache create: 0; Cache read: 0; Total: 132)"
      ]
     },
     "execution_count": null,
     "metadata": {},
     "output_type": "execute_result"
    }
   ],
   "source": [
    "chat(q, prefill=pref)"
   ]
  },
  {
   "cell_type": "markdown",
   "id": "fbd28a97",
   "metadata": {},
   "source": [
    "By default messages must be in user, assistant, user format. If this isn't followed (aka calling `chat()` without a user message) it will error out:"
   ]
  },
  {
   "cell_type": "code",
   "execution_count": null,
   "id": "c3761928",
   "metadata": {},
   "outputs": [
    {
     "name": "stdout",
     "output_type": "stream",
     "text": [
      "Error: Prompt must be given after assistant completion, or use `self.cont_pr`.\n"
     ]
    }
   ],
   "source": [
    "try: chat()\n",
    "except ValueError as e: print(\"Error:\", e)"
   ]
  },
  {
   "cell_type": "markdown",
   "id": "4d57b5c7",
   "metadata": {},
   "source": [
    "Setting `cont_pr` allows a \"default prompt\" to be specified when a prompt isn't specified. Usually used to prompt the model to continue."
   ]
  },
  {
   "cell_type": "code",
   "execution_count": null,
   "id": "54c5a2bc",
   "metadata": {},
   "outputs": [
    {
     "data": {
      "text/markdown": [
       "The meaning of life varies across philosophies and individuals. Some find it in relationships, others in achievement or spiritual growth. Existentialists suggest we create our own meaning. Religious perspectives often point to divine purpose. Ultimately, many philosophers agree that meaning comes from what you personally value, how you contribute to others, and finding contentment in your unique journey.\n",
       "\n",
       "<details>\n",
       "\n",
       "- id: `msg_01M6GEDWh87TNhGCc3XKHRad`\n",
       "- content: `[{'citations': None, 'text': 'The meaning of life varies across philosophies and individuals. Some find it in relationships, others in achievement or spiritual growth. Existentialists suggest we create our own meaning. Religious perspectives often point to divine purpose. Ultimately, many philosophers agree that meaning comes from what you personally value, how you contribute to others, and finding contentment in your unique journey.', 'type': 'text'}]`\n",
       "- model: `claude-3-7-sonnet-20250219`\n",
       "- role: `assistant`\n",
       "- stop_reason: `end_turn`\n",
       "- stop_sequence: `None`\n",
       "- type: `message`\n",
       "- usage: `{'cache_creation_input_tokens': 0, 'cache_read_input_tokens': 0, 'input_tokens': 138, 'output_tokens': 76, 'server_tool_use': None}`\n",
       "\n",
       "</details>"
      ],
      "text/plain": [
       "Message(id='msg_01M6GEDWh87TNhGCc3XKHRad', content=[TextBlock(citations=None, text='The meaning of life varies across philosophies and individuals. Some find it in relationships, others in achievement or spiritual growth. Existentialists suggest we create our own meaning. Religious perspectives often point to divine purpose. Ultimately, many philosophers agree that meaning comes from what you personally value, how you contribute to others, and finding contentment in your unique journey.', type='text')], model='claude-3-7-sonnet-20250219', role='assistant', stop_reason='end_turn', stop_sequence=None, type='message', usage=In: 138; Out: 76; Cache create: 0; Cache read: 0; Total: 214)"
      ]
     },
     "execution_count": null,
     "metadata": {},
     "output_type": "execute_result"
    }
   ],
   "source": [
    "chat.cont_pr = \"keep going...\"\n",
    "chat()"
   ]
  },
  {
   "cell_type": "markdown",
   "id": "776b3d1e",
   "metadata": {},
   "source": [
    "We can also use streaming:"
   ]
  },
  {
   "cell_type": "code",
   "execution_count": null,
   "id": "529104ec",
   "metadata": {},
   "outputs": [
    {
     "name": "stdout",
     "output_type": "stream",
     "text": [
      "Hello Jeremy! It's nice to meet you. How are you doing today? Is there something I can help you with or would you like to chat?"
     ]
    }
   ],
   "source": [
    "chat = Chat(model, sp=sp)\n",
    "for o in chat(\"I'm Jeremy\", stream=True): print(o, end='')"
   ]
  },
  {
   "cell_type": "code",
   "execution_count": null,
   "id": "14abb3dc",
   "metadata": {},
   "outputs": [
    {
     "name": "stdout",
     "output_type": "stream",
     "text": [
      "According to Douglas Adams,  it's 42. More seriously, the meaning of life is deeply personal - many find it in relationships, creating positive impact, pursuing passions, or spiritual fulfillment. There's no universal answer; meaning is what you choose to create."
     ]
    }
   ],
   "source": [
    "for o in chat(q, prefill=pref, stream=True): print(o, end='')"
   ]
  },
  {
   "cell_type": "markdown",
   "id": "0acdca39",
   "metadata": {},
   "source": [
    "You can provide a history of messages to initialise `Chat` with:"
   ]
  },
  {
   "cell_type": "code",
   "execution_count": null,
   "id": "32814e78",
   "metadata": {},
   "outputs": [
    {
     "data": {
      "text/markdown": [
       "I didn't actually know your name! I was just making a random guess for fun. It's quite surprising that I happened to guess correctly. What are the chances of that?\n",
       "\n",
       "If you'd like, you can share how you'd prefer me to address you in our conversation.\n",
       "\n",
       "<details>\n",
       "\n",
       "- id: `msg_01RdLTNmPWv9EuVDLxUcaPfR`\n",
       "- content: `[{'citations': None, 'text': \"I didn't actually know your name! I was just making a random guess for fun. It's quite surprising that I happened to guess correctly. What are the chances of that?\\n\\nIf you'd like, you can share how you'd prefer me to address you in our conversation.\", 'type': 'text'}]`\n",
       "- model: `claude-3-7-sonnet-20250219`\n",
       "- role: `assistant`\n",
       "- stop_reason: `end_turn`\n",
       "- stop_sequence: `None`\n",
       "- type: `message`\n",
       "- usage: `{'cache_creation_input_tokens': 0, 'cache_read_input_tokens': 0, 'input_tokens': 58, 'output_tokens': 60, 'server_tool_use': None}`\n",
       "\n",
       "</details>"
      ],
      "text/plain": [
       "Message(id='msg_01RdLTNmPWv9EuVDLxUcaPfR', content=[TextBlock(citations=None, text=\"I didn't actually know your name! I was just making a random guess for fun. It's quite surprising that I happened to guess correctly. What are the chances of that?\\n\\nIf you'd like, you can share how you'd prefer me to address you in our conversation.\", type='text')], model='claude-3-7-sonnet-20250219', role='assistant', stop_reason='end_turn', stop_sequence=None, type='message', usage=In: 58; Out: 60; Cache create: 0; Cache read: 0; Total: 118)"
      ]
     },
     "execution_count": null,
     "metadata": {},
     "output_type": "execute_result"
    }
   ],
   "source": [
    "chat = Chat(model, sp=sp, hist=[\"Can you guess my name?\", \"Hmmm I really don't know. Is it 'Merlin G. Penfolds'?\"])\n",
    "chat('Wow how did you know?')"
   ]
  },
  {
   "cell_type": "markdown",
   "id": "6b40892f",
   "metadata": {},
   "source": [
    "### Chat tool use"
   ]
  },
  {
   "cell_type": "markdown",
   "id": "062f7edf",
   "metadata": {},
   "source": [
    "We automagically get streamlined tool use as well:"
   ]
  },
  {
   "cell_type": "code",
   "execution_count": null,
   "id": "ee6535cf",
   "metadata": {},
   "outputs": [
    {
     "data": {
      "text/plain": [
       "'What is 604542+6458932?'"
      ]
     },
     "execution_count": null,
     "metadata": {},
     "output_type": "execute_result"
    }
   ],
   "source": [
    "pr = f\"What is {a}+{b}?\"\n",
    "pr"
   ]
  },
  {
   "cell_type": "code",
   "execution_count": null,
   "id": "797741c5",
   "metadata": {},
   "outputs": [
    {
     "name": "stdout",
     "output_type": "stream",
     "text": [
      "Finding the sum of 604542 and 6458932\n"
     ]
    },
    {
     "data": {
      "text/markdown": [
       "I'll calculate the sum of those two numbers for you.\n",
       "\n",
       "<details>\n",
       "\n",
       "- id: `msg_01MMuthWyBJJzA1jjsox3xoH`\n",
       "- content: `[{'citations': None, 'text': \"I'll calculate the sum of those two numbers for you.\", 'type': 'text'}, {'id': 'toolu_01B8HEUX6e7hY4SAb5PbykLA', 'input': {'a': 604542, 'b': 6458932}, 'name': 'sums', 'type': 'tool_use'}]`\n",
       "- model: `claude-3-7-sonnet-20250219`\n",
       "- role: `assistant`\n",
       "- stop_reason: `tool_use`\n",
       "- stop_sequence: `None`\n",
       "- type: `message`\n",
       "- usage: `{'cache_creation_input_tokens': 0, 'cache_read_input_tokens': 0, 'input_tokens': 437, 'output_tokens': 85, 'server_tool_use': None}`\n",
       "\n",
       "</details>"
      ],
      "text/plain": [
       "Message(id='msg_01MMuthWyBJJzA1jjsox3xoH', content=[TextBlock(citations=None, text=\"I'll calculate the sum of those two numbers for you.\", type='text'), ToolUseBlock(id='toolu_01B8HEUX6e7hY4SAb5PbykLA', input={'a': 604542, 'b': 6458932}, name='sums', type='tool_use')], model='claude-3-7-sonnet-20250219', role='assistant', stop_reason='tool_use', stop_sequence=None, type='message', usage=In: 437; Out: 85; Cache create: 0; Cache read: 0; Total: 522)"
      ]
     },
     "execution_count": null,
     "metadata": {},
     "output_type": "execute_result"
    }
   ],
   "source": [
    "chat = Chat(model, sp=sp, tools=[sums])\n",
    "r = chat(pr)\n",
    "r"
   ]
  },
  {
   "cell_type": "markdown",
   "id": "ff5513be",
   "metadata": {},
   "source": [
    "Now we need to send this result to Claude—calling the object with no parameters tells it to return the tool result to Claude:"
   ]
  },
  {
   "cell_type": "code",
   "execution_count": null,
   "id": "b091eae0",
   "metadata": {},
   "outputs": [
    {
     "data": {
      "text/markdown": [
       "The sum of 604542 and 6458932 is 7,063,474.\n",
       "\n",
       "<details>\n",
       "\n",
       "- id: `msg_0129n4vkMshMCvWiMksWCxct`\n",
       "- content: `[{'citations': None, 'text': 'The sum of 604542 and 6458932 is 7,063,474.', 'type': 'text'}]`\n",
       "- model: `claude-3-7-sonnet-20250219`\n",
       "- role: `assistant`\n",
       "- stop_reason: `end_turn`\n",
       "- stop_sequence: `None`\n",
       "- type: `message`\n",
       "- usage: `{'cache_creation_input_tokens': 0, 'cache_read_input_tokens': 0, 'input_tokens': 536, 'output_tokens': 25, 'server_tool_use': None}`\n",
       "\n",
       "</details>"
      ],
      "text/plain": [
       "Message(id='msg_0129n4vkMshMCvWiMksWCxct', content=[TextBlock(citations=None, text='The sum of 604542 and 6458932 is 7,063,474.', type='text')], model='claude-3-7-sonnet-20250219', role='assistant', stop_reason='end_turn', stop_sequence=None, type='message', usage=In: 536; Out: 25; Cache create: 0; Cache read: 0; Total: 561)"
      ]
     },
     "execution_count": null,
     "metadata": {},
     "output_type": "execute_result"
    }
   ],
   "source": [
    "chat()"
   ]
  },
  {
   "cell_type": "markdown",
   "id": "8e551677",
   "metadata": {},
   "source": [
    "It should be correct, because it actually used our Python function to do the addition. Let's check:"
   ]
  },
  {
   "cell_type": "code",
   "execution_count": null,
   "id": "06bfbf3d",
   "metadata": {},
   "outputs": [
    {
     "data": {
      "text/plain": [
       "7063474"
      ]
     },
     "execution_count": null,
     "metadata": {},
     "output_type": "execute_result"
    }
   ],
   "source": [
    "a+b"
   ]
  },
  {
   "cell_type": "markdown",
   "id": "445b2aa2",
   "metadata": {},
   "source": [
    "Let's test a function with user defined types."
   ]
  },
  {
   "cell_type": "code",
   "execution_count": null,
   "id": "d4db78d9",
   "metadata": {},
   "outputs": [
    {
     "data": {
      "text/markdown": [
       "To find out how many pages is three quarters of the way through your 80-page edition of Tao Te Ching, I'll calculate that for you.\n",
       "\n",
       "<details>\n",
       "\n",
       "- id: `msg_01JKysK4pzEzpbQsJV8ozLZg`\n",
       "- content: `[{'citations': None, 'text': \"To find out how many pages is three quarters of the way through your 80-page edition of Tao Te Ching, I'll calculate that for you.\", 'type': 'text'}, {'id': 'toolu_01BxXWdaCKCNKqJhoiAABhER', 'input': {'book': {'title': 'Tao Te Ching', 'pages': 80}, 'percent': 75}, 'name': 'find_page', 'type': 'tool_use'}]`\n",
       "- model: `claude-3-7-sonnet-20250219`\n",
       "- role: `assistant`\n",
       "- stop_reason: `tool_use`\n",
       "- stop_sequence: `None`\n",
       "- type: `message`\n",
       "- usage: `{'cache_creation_input_tokens': 0, 'cache_read_input_tokens': 0, 'input_tokens': 547, 'output_tokens': 122, 'server_tool_use': None}`\n",
       "\n",
       "</details>"
      ],
      "text/plain": [
       "Message(id='msg_01JKysK4pzEzpbQsJV8ozLZg', content=[TextBlock(citations=None, text=\"To find out how many pages is three quarters of the way through your 80-page edition of Tao Te Ching, I'll calculate that for you.\", type='text'), ToolUseBlock(id='toolu_01BxXWdaCKCNKqJhoiAABhER', input={'book': {'title': 'Tao Te Ching', 'pages': 80}, 'percent': 75}, name='find_page', type='tool_use')], model='claude-3-7-sonnet-20250219', role='assistant', stop_reason='tool_use', stop_sequence=None, type='message', usage=In: 547; Out: 122; Cache create: 0; Cache read: 0; Total: 669)"
      ]
     },
     "execution_count": null,
     "metadata": {},
     "output_type": "execute_result"
    }
   ],
   "source": [
    "chat = Chat(model, sp=sp, tools=[find_page])\n",
    "r = chat(\"How many pages is three quarters of the way through my 80 page edition of Tao Te Ching?\")\n",
    "r"
   ]
  },
  {
   "cell_type": "markdown",
   "id": "6486462c",
   "metadata": {},
   "source": [
    "Now we need to send this result to Claude—calling the object with no parameters tells it to return the tool result to Claude:"
   ]
  },
  {
   "cell_type": "code",
   "execution_count": null,
   "id": "0979c832",
   "metadata": {},
   "outputs": [
    {
     "data": {
      "text/markdown": [
       "Three quarters (75%) of the way through your 80-page edition of Tao Te Ching would be page 60.\n",
       "\n",
       "<details>\n",
       "\n",
       "- id: `msg_01XEQeFhiepExxMNJ2zfYKpg`\n",
       "- content: `[{'citations': None, 'text': 'Three quarters (75%) of the way through your 80-page edition of Tao Te Ching would be page 60.', 'type': 'text'}]`\n",
       "- model: `claude-3-7-sonnet-20250219`\n",
       "- role: `assistant`\n",
       "- stop_reason: `end_turn`\n",
       "- stop_sequence: `None`\n",
       "- type: `message`\n",
       "- usage: `{'cache_creation_input_tokens': 0, 'cache_read_input_tokens': 0, 'input_tokens': 681, 'output_tokens': 33, 'server_tool_use': None}`\n",
       "\n",
       "</details>"
      ],
      "text/plain": [
       "Message(id='msg_01XEQeFhiepExxMNJ2zfYKpg', content=[TextBlock(citations=None, text='Three quarters (75%) of the way through your 80-page edition of Tao Te Ching would be page 60.', type='text')], model='claude-3-7-sonnet-20250219', role='assistant', stop_reason='end_turn', stop_sequence=None, type='message', usage=In: 681; Out: 33; Cache create: 0; Cache read: 0; Total: 714)"
      ]
     },
     "execution_count": null,
     "metadata": {},
     "output_type": "execute_result"
    }
   ],
   "source": [
    "chat()"
   ]
  },
  {
   "cell_type": "markdown",
   "id": "b7054a02",
   "metadata": {},
   "source": [
    "It should be correct, because it actually used our Python function to do the addition. Let's check:"
   ]
  },
  {
   "cell_type": "code",
   "execution_count": null,
   "id": "b7ff0879",
   "metadata": {},
   "outputs": [
    {
     "data": {
      "text/plain": [
       "60.0"
      ]
     },
     "execution_count": null,
     "metadata": {},
     "output_type": "execute_result"
    }
   ],
   "source": [
    "80 * .75"
   ]
  },
  {
   "cell_type": "code",
   "execution_count": null,
   "id": "c76a22fb",
   "metadata": {},
   "outputs": [],
   "source": [
    "chat = Chat(model, tools=[text_editor_conf['sonnet']], ns=mk_ns(str_replace_editor))"
   ]
  },
  {
   "cell_type": "markdown",
   "id": "157d057f",
   "metadata": {},
   "source": [
    "Note that `mk_ns(str_replace_editor)` is used here. When not providing tools directly as Python functions (like `sum`), you **must** create and pass a namespace dictionary (mapping the tool name string to the function object) using the `ns` parameter to methods like `mk_toolres` or `toolloop`. `toolslm` cannot automatically generate the namespace in this case. For schema-based tools (i.e., Python functions), `claudette` handles namespace creation automatically."
   ]
  },
  {
   "cell_type": "code",
   "execution_count": null,
   "id": "ebbd0cd2",
   "metadata": {},
   "outputs": [
    {
     "data": {
      "text/plain": [
       "ToolUseBlock(id='toolu_01NoQQTjBh85hi6vohqu7zqp', input={'command': 'view', 'path': '_quarto.yml'}, name='str_replace_editor', type='tool_use')"
      ]
     },
     "execution_count": null,
     "metadata": {},
     "output_type": "execute_result"
    }
   ],
   "source": [
    "r = chat('Please explain what my _quarto.yml does. Use your tools')\n",
    "find_block(r, ToolUseBlock)"
   ]
  },
  {
   "cell_type": "code",
   "execution_count": null,
   "id": "0b7717a8",
   "metadata": {},
   "outputs": [
    {
     "data": {
      "text/markdown": [
       "Based on the content of your `_quarto.yml` file, here's an explanation of what it does:\n",
       "\n",
       "### Your Quarto Configuration Explained\n",
       "\n",
       "This is a configuration file for a Quarto project, which is a scientific and technical publishing system. Here's what each section configures:\n",
       "\n",
       "#### Project Settings\n",
       "- `type: website`: Defines this as a website project (as opposed to a book or other format)\n",
       "- `resources: - \"*.txt\"`: Includes all .txt files as resources in the build\n",
       "- `preview`: Sets up preview server to run on port 3000 without automatically opening a browser\n",
       "\n",
       "#### Format Settings\n",
       "- `html`: Configures the HTML output format with:\n",
       "  - `theme: cosmo`: Uses the Cosmo theme for styling\n",
       "  - `css: styles.css`: Applies additional custom styles\n",
       "  - `toc: true`: Enables table of contents\n",
       "  - `code-tools: true`: Enables code tools (like copy button)\n",
       "  - `code-block-bg: true`: Adds background to code blocks\n",
       "  - `code-block-border-left: \"#31BAE9\"`: Sets a blue left border for code blocks\n",
       "  - `highlight-style: arrow`: Uses the \"arrow\" syntax highlighting style\n",
       "  - `grid`: Configures the page layout with specific widths for sidebar, body, margins, and gutters\n",
       "  - `keep-md: true`: Preserves Markdown files after rendering\n",
       "- `commonmark: default`: Enables CommonMark output with default settings\n",
       "\n",
       "#### Website Settings\n",
       "- `twitter-card: true`: Enables Twitter card metadata\n",
       "- `open-graph: true`: Enables Open Graph metadata for social media sharing\n",
       "- `repo-actions: [issue]`: Adds an \"Open Issue\" button linking to the repository\n",
       "- `navbar`: Configures the navigation bar with:\n",
       "  - `background: primary`: Sets the primary color as background\n",
       "  - `search: true`: Enables search functionality\n",
       "- `sidebar`: Configures the sidebar with:\n",
       "  - `style: floating`: Uses a floating style for the sidebar\n",
       "\n",
       "#### Metadata Files\n",
       "- Includes two external metadata files:\n",
       "  - `nbdev.yml`: Likely contains nbdev-specific configurations (nbdev is a library for developing Python packages)\n",
       "  - `sidebar.yml`: Likely contains the structure and content of the sidebar\n",
       "\n",
       "This configuration sets up a website with a modern, code-friendly appearance, optimized for technical content with features like syntax highlighting, code tools, and a well-structured layout. It's particularly well-suited for documentation sites, especially those related to programming or data science projects.\n",
       "\n",
       "<details>\n",
       "\n",
       "- id: `msg_01ALswmSjFf4puig9CAxg6Ec`\n",
       "- content: `[{'citations': None, 'text': 'Based on the content of your `_quarto.yml` file, here\\'s an explanation of what it does:\\n\\n### Your Quarto Configuration Explained\\n\\nThis is a configuration file for a Quarto project, which is a scientific and technical publishing system. Here\\'s what each section configures:\\n\\n#### Project Settings\\n- `type: website`: Defines this as a website project (as opposed to a book or other format)\\n- `resources: - \"*.txt\"`: Includes all .txt files as resources in the build\\n- `preview`: Sets up preview server to run on port 3000 without automatically opening a browser\\n\\n#### Format Settings\\n- `html`: Configures the HTML output format with:\\n  - `theme: cosmo`: Uses the Cosmo theme for styling\\n  - `css: styles.css`: Applies additional custom styles\\n  - `toc: true`: Enables table of contents\\n  - `code-tools: true`: Enables code tools (like copy button)\\n  - `code-block-bg: true`: Adds background to code blocks\\n  - `code-block-border-left: \"#31BAE9\"`: Sets a blue left border for code blocks\\n  - `highlight-style: arrow`: Uses the \"arrow\" syntax highlighting style\\n  - `grid`: Configures the page layout with specific widths for sidebar, body, margins, and gutters\\n  - `keep-md: true`: Preserves Markdown files after rendering\\n- `commonmark: default`: Enables CommonMark output with default settings\\n\\n#### Website Settings\\n- `twitter-card: true`: Enables Twitter card metadata\\n- `open-graph: true`: Enables Open Graph metadata for social media sharing\\n- `repo-actions: [issue]`: Adds an \"Open Issue\" button linking to the repository\\n- `navbar`: Configures the navigation bar with:\\n  - `background: primary`: Sets the primary color as background\\n  - `search: true`: Enables search functionality\\n- `sidebar`: Configures the sidebar with:\\n  - `style: floating`: Uses a floating style for the sidebar\\n\\n#### Metadata Files\\n- Includes two external metadata files:\\n  - `nbdev.yml`: Likely contains nbdev-specific configurations (nbdev is a library for developing Python packages)\\n  - `sidebar.yml`: Likely contains the structure and content of the sidebar\\n\\nThis configuration sets up a website with a modern, code-friendly appearance, optimized for technical content with features like syntax highlighting, code tools, and a well-structured layout. It\\'s particularly well-suited for documentation sites, especially those related to programming or data science projects.', 'type': 'text'}]`\n",
       "- model: `claude-3-7-sonnet-20250219`\n",
       "- role: `assistant`\n",
       "- stop_reason: `end_turn`\n",
       "- stop_sequence: `None`\n",
       "- type: `message`\n",
       "- usage: `{'cache_creation_input_tokens': 0, 'cache_read_input_tokens': 0, 'input_tokens': 1374, 'output_tokens': 588, 'server_tool_use': None}`\n",
       "\n",
       "</details>"
      ],
      "text/plain": [
       "Message(id='msg_01ALswmSjFf4puig9CAxg6Ec', content=[TextBlock(citations=None, text='Based on the content of your `_quarto.yml` file, here\\'s an explanation of what it does:\\n\\n### Your Quarto Configuration Explained\\n\\nThis is a configuration file for a Quarto project, which is a scientific and technical publishing system. Here\\'s what each section configures:\\n\\n#### Project Settings\\n- `type: website`: Defines this as a website project (as opposed to a book or other format)\\n- `resources: - \"*.txt\"`: Includes all .txt files as resources in the build\\n- `preview`: Sets up preview server to run on port 3000 without automatically opening a browser\\n\\n#### Format Settings\\n- `html`: Configures the HTML output format with:\\n  - `theme: cosmo`: Uses the Cosmo theme for styling\\n  - `css: styles.css`: Applies additional custom styles\\n  - `toc: true`: Enables table of contents\\n  - `code-tools: true`: Enables code tools (like copy button)\\n  - `code-block-bg: true`: Adds background to code blocks\\n  - `code-block-border-left: \"#31BAE9\"`: Sets a blue left border for code blocks\\n  - `highlight-style: arrow`: Uses the \"arrow\" syntax highlighting style\\n  - `grid`: Configures the page layout with specific widths for sidebar, body, margins, and gutters\\n  - `keep-md: true`: Preserves Markdown files after rendering\\n- `commonmark: default`: Enables CommonMark output with default settings\\n\\n#### Website Settings\\n- `twitter-card: true`: Enables Twitter card metadata\\n- `open-graph: true`: Enables Open Graph metadata for social media sharing\\n- `repo-actions: [issue]`: Adds an \"Open Issue\" button linking to the repository\\n- `navbar`: Configures the navigation bar with:\\n  - `background: primary`: Sets the primary color as background\\n  - `search: true`: Enables search functionality\\n- `sidebar`: Configures the sidebar with:\\n  - `style: floating`: Uses a floating style for the sidebar\\n\\n#### Metadata Files\\n- Includes two external metadata files:\\n  - `nbdev.yml`: Likely contains nbdev-specific configurations (nbdev is a library for developing Python packages)\\n  - `sidebar.yml`: Likely contains the structure and content of the sidebar\\n\\nThis configuration sets up a website with a modern, code-friendly appearance, optimized for technical content with features like syntax highlighting, code tools, and a well-structured layout. It\\'s particularly well-suited for documentation sites, especially those related to programming or data science projects.', type='text')], model='claude-3-7-sonnet-20250219', role='assistant', stop_reason='end_turn', stop_sequence=None, type='message', usage=In: 1374; Out: 588; Cache create: 0; Cache read: 0; Total: 1962)"
      ]
     },
     "execution_count": null,
     "metadata": {},
     "output_type": "execute_result"
    }
   ],
   "source": [
    "chat()"
   ]
  },
  {
   "cell_type": "code",
   "execution_count": null,
   "id": "f85f93da",
   "metadata": {},
   "outputs": [],
   "source": [
    "#| exports\n",
    "@patch\n",
    "def _repr_markdown_(self:Chat):\n",
    "    if not hasattr(self.c, 'result'): return 'No results yet'\n",
    "    last_msg = contents(self.c.result)\n",
    "    \n",
    "    def fmt_msg(m):\n",
    "        t = contents(m)\n",
    "        if isinstance(t, dict): return t['content']\n",
    "        return t\n",
    "        \n",
    "    history = '\\n\\n'.join(f\"**{m['role']}**: {fmt_msg(m)}\" \n",
    "                         for m in self.h)\n",
    "    det = self.c._repr_markdown_().split('\\n\\n')[-1]\n",
    "    return f\"\"\"{last_msg}\n",
    "\n",
    "<details>\n",
    "<summary>History</summary>\n",
    "\n",
    "{history}\n",
    "</details>\n",
    "\n",
    "{det}\"\"\""
   ]
  },
  {
   "cell_type": "code",
   "execution_count": null,
   "id": "4b2c6f87",
   "metadata": {},
   "outputs": [
    {
     "data": {
      "text/markdown": [
       "Based on the content of your `_quarto.yml` file, here's an explanation of what it does:\n",
       "\n",
       "### Your Quarto Configuration Explained\n",
       "\n",
       "This is a configuration file for a Quarto project, which is a scientific and technical publishing system. Here's what each section configures:\n",
       "\n",
       "#### Project Settings\n",
       "- `type: website`: Defines this as a website project (as opposed to a book or other format)\n",
       "- `resources: - \"*.txt\"`: Includes all .txt files as resources in the build\n",
       "- `preview`: Sets up preview server to run on port 3000 without automatically opening a browser\n",
       "\n",
       "#### Format Settings\n",
       "- `html`: Configures the HTML output format with:\n",
       "  - `theme: cosmo`: Uses the Cosmo theme for styling\n",
       "  - `css: styles.css`: Applies additional custom styles\n",
       "  - `toc: true`: Enables table of contents\n",
       "  - `code-tools: true`: Enables code tools (like copy button)\n",
       "  - `code-block-bg: true`: Adds background to code blocks\n",
       "  - `code-block-border-left: \"#31BAE9\"`: Sets a blue left border for code blocks\n",
       "  - `highlight-style: arrow`: Uses the \"arrow\" syntax highlighting style\n",
       "  - `grid`: Configures the page layout with specific widths for sidebar, body, margins, and gutters\n",
       "  - `keep-md: true`: Preserves Markdown files after rendering\n",
       "- `commonmark: default`: Enables CommonMark output with default settings\n",
       "\n",
       "#### Website Settings\n",
       "- `twitter-card: true`: Enables Twitter card metadata\n",
       "- `open-graph: true`: Enables Open Graph metadata for social media sharing\n",
       "- `repo-actions: [issue]`: Adds an \"Open Issue\" button linking to the repository\n",
       "- `navbar`: Configures the navigation bar with:\n",
       "  - `background: primary`: Sets the primary color as background\n",
       "  - `search: true`: Enables search functionality\n",
       "- `sidebar`: Configures the sidebar with:\n",
       "  - `style: floating`: Uses a floating style for the sidebar\n",
       "\n",
       "#### Metadata Files\n",
       "- Includes two external metadata files:\n",
       "  - `nbdev.yml`: Likely contains nbdev-specific configurations (nbdev is a library for developing Python packages)\n",
       "  - `sidebar.yml`: Likely contains the structure and content of the sidebar\n",
       "\n",
       "This configuration sets up a website with a modern, code-friendly appearance, optimized for technical content with features like syntax highlighting, code tools, and a well-structured layout. It's particularly well-suited for documentation sites, especially those related to programming or data science projects.\n",
       "\n",
       "<details>\n",
       "<summary>History</summary>\n",
       "\n",
       "**user**: P\n",
       "\n",
       "**assistant**: I'll examine your `_quarto.yml` file to explain what it does. Let me first view the file.\n",
       "\n",
       "**user**: project:\n",
       "  type: website\n",
       "  resources: \n",
       "    - \"*.txt\"\n",
       "  preview:\n",
       "    port: 3000\n",
       "    browser: false\n",
       "\n",
       "format:\n",
       "  html:\n",
       "    theme: cosmo\n",
       "    css: styles.css\n",
       "    toc: true\n",
       "    code-tools: true\n",
       "    code-block-bg: true\n",
       "    code-block-border-left: \"#31BAE9\"\n",
       "    highlight-style: arrow\n",
       "    grid:\n",
       "      sidebar-width: 180px\n",
       "      body-width: 1800px\n",
       "      margin-width: 150px\n",
       "      gutter-width: 1.0rem\n",
       "    keep-md: true\n",
       "  commonmark: default\n",
       "\n",
       "website:\n",
       "  twitter-card: true\n",
       "  open-graph: true\n",
       "  repo-actions: [issue]\n",
       "  navbar:\n",
       "    background: primary\n",
       "    search: true\n",
       "  sidebar:\n",
       "    style: floating\n",
       "\n",
       "metadata-files:\n",
       "  - nbdev.yml\n",
       "  - sidebar.yml\n",
       "\n",
       "**assistant**: Based on the content of your `_quarto.yml` file, here's an explanation of what it does:\n",
       "\n",
       "### Your Quarto Configuration Explained\n",
       "\n",
       "This is a configuration file for a Quarto project, which is a scientific and technical publishing system. Here's what each section configures:\n",
       "\n",
       "#### Project Settings\n",
       "- `type: website`: Defines this as a website project (as opposed to a book or other format)\n",
       "- `resources: - \"*.txt\"`: Includes all .txt files as resources in the build\n",
       "- `preview`: Sets up preview server to run on port 3000 without automatically opening a browser\n",
       "\n",
       "#### Format Settings\n",
       "- `html`: Configures the HTML output format with:\n",
       "  - `theme: cosmo`: Uses the Cosmo theme for styling\n",
       "  - `css: styles.css`: Applies additional custom styles\n",
       "  - `toc: true`: Enables table of contents\n",
       "  - `code-tools: true`: Enables code tools (like copy button)\n",
       "  - `code-block-bg: true`: Adds background to code blocks\n",
       "  - `code-block-border-left: \"#31BAE9\"`: Sets a blue left border for code blocks\n",
       "  - `highlight-style: arrow`: Uses the \"arrow\" syntax highlighting style\n",
       "  - `grid`: Configures the page layout with specific widths for sidebar, body, margins, and gutters\n",
       "  - `keep-md: true`: Preserves Markdown files after rendering\n",
       "- `commonmark: default`: Enables CommonMark output with default settings\n",
       "\n",
       "#### Website Settings\n",
       "- `twitter-card: true`: Enables Twitter card metadata\n",
       "- `open-graph: true`: Enables Open Graph metadata for social media sharing\n",
       "- `repo-actions: [issue]`: Adds an \"Open Issue\" button linking to the repository\n",
       "- `navbar`: Configures the navigation bar with:\n",
       "  - `background: primary`: Sets the primary color as background\n",
       "  - `search: true`: Enables search functionality\n",
       "- `sidebar`: Configures the sidebar with:\n",
       "  - `style: floating`: Uses a floating style for the sidebar\n",
       "\n",
       "#### Metadata Files\n",
       "- Includes two external metadata files:\n",
       "  - `nbdev.yml`: Likely contains nbdev-specific configurations (nbdev is a library for developing Python packages)\n",
       "  - `sidebar.yml`: Likely contains the structure and content of the sidebar\n",
       "\n",
       "This configuration sets up a website with a modern, code-friendly appearance, optimized for technical content with features like syntax highlighting, code tools, and a well-structured layout. It's particularly well-suited for documentation sites, especially those related to programming or data science projects.\n",
       "</details>\n",
       "\n",
       "| Metric | Count | Cost (USD) |\n",
       "|--------|------:|-----:|\n",
       "| Input tokens | 2,410 | 0.007230 |\n",
       "| Output tokens | 690 | 0.010350 |\n",
       "| Cache tokens | 0 | 0.000000 |\n",
       "| **Total** | **3,100** | **$0.017580** |"
      ],
      "text/plain": [
       "<__main__.Chat>"
      ]
     },
     "execution_count": null,
     "metadata": {},
     "output_type": "execute_result"
    }
   ],
   "source": [
    "chat"
   ]
  },
  {
   "cell_type": "markdown",
   "id": "df1dd4c3",
   "metadata": {},
   "source": [
    "## Images"
   ]
  },
  {
   "cell_type": "markdown",
   "id": "cf741dbc",
   "metadata": {},
   "source": [
    "Claude can handle image data as well. As everyone knows, when testing image APIs you have to use a cute puppy."
   ]
  },
  {
   "cell_type": "code",
   "execution_count": null,
   "id": "5d35d564",
   "metadata": {},
   "outputs": [
    {
     "data": {
      "image/jpeg": "[encoded data removed]",
      "text/plain": [
       "<IPython.core.display.Image object>"
      ]
     },
     "execution_count": null,
     "metadata": {
      "image/jpeg": {
       "width": 200
      }
     },
     "output_type": "execute_result"
    }
   ],
   "source": [
    "# Image is Cute_dog.jpg from Wikimedia\n",
    "fn = Path('samples/puppy.jpg')\n",
    "display.Image(filename=fn, width=200)"
   ]
  },
  {
   "cell_type": "code",
   "execution_count": null,
   "id": "d120d8fb",
   "metadata": {},
   "outputs": [],
   "source": [
    "img = fn.read_bytes()"
   ]
  },
  {
   "cell_type": "markdown",
   "id": "3e2937df",
   "metadata": {},
   "source": [
    "Claude expects an image message to have the following structure\n",
    "\n",
    "```js\n",
    "{\n",
    "    'role': 'user', \n",
    "    'content': [\n",
    "        {'type':'text', 'text':'What is in the image?'},\n",
    "        {\n",
    "            'type':'image', \n",
    "            'source': {\n",
    "                'type':'base64', 'media_type':'media_type', 'data': 'data'\n",
    "            }\n",
    "        }\n",
    "    ]\n",
    "}\n",
    "```\n",
    "`msglm` automatically detects if a message is an image, encodes it, and generates the data structure above.\n",
    "All we need to do is a create a list containing our image and a query and then pass it to `mk_msg`.\n",
    "\n",
    "Let's try it out..."
   ]
  },
  {
   "cell_type": "code",
   "execution_count": null,
   "id": "db8339ac",
   "metadata": {},
   "outputs": [],
   "source": [
    "q = \"In brief, what color flowers are in this image?\"\n",
    "msg = mk_msg([img, q])"
   ]
  },
  {
   "cell_type": "code",
   "execution_count": null,
   "id": "69acc8c7",
   "metadata": {},
   "outputs": [
    {
     "data": {
      "text/markdown": [
       "The flowers in the image are purple/lavender in color. They appear to be small daisy-like flowers or asters blooming in the background, creating a nice contrast with the adorable Cavalier King Charles Spaniel puppy that's resting on the grass in the foreground. The purple flowers add a lovely natural element to this sweet outdoor portrait.\n",
       "\n",
       "<details>\n",
       "\n",
       "- id: `msg_01YGJZVbXHG8PAuz17Bk37QV`\n",
       "- content: `[{'citations': None, 'text': \"The flowers in the image are purple/lavender in color. They appear to be small daisy-like flowers or asters blooming in the background, creating a nice contrast with the adorable Cavalier King Charles Spaniel puppy that's resting on the grass in the foreground. The purple flowers add a lovely natural element to this sweet outdoor portrait.\", 'type': 'text'}]`\n",
       "- model: `claude-3-7-sonnet-20250219`\n",
       "- role: `assistant`\n",
       "- stop_reason: `end_turn`\n",
       "- stop_sequence: `None`\n",
       "- type: `message`\n",
       "- usage: `{'cache_creation_input_tokens': 0, 'cache_read_input_tokens': 0, 'input_tokens': 110, 'output_tokens': 79, 'server_tool_use': None}`\n",
       "\n",
       "</details>"
      ],
      "text/plain": [
       "Message(id='msg_01YGJZVbXHG8PAuz17Bk37QV', content=[TextBlock(citations=None, text=\"The flowers in the image are purple/lavender in color. They appear to be small daisy-like flowers or asters blooming in the background, creating a nice contrast with the adorable Cavalier King Charles Spaniel puppy that's resting on the grass in the foreground. The purple flowers add a lovely natural element to this sweet outdoor portrait.\", type='text')], model='claude-3-7-sonnet-20250219', role='assistant', stop_reason='end_turn', stop_sequence=None, type='message', usage=In: 110; Out: 79; Cache create: 0; Cache read: 0; Total: 189)"
      ]
     },
     "execution_count": null,
     "metadata": {},
     "output_type": "execute_result"
    }
   ],
   "source": [
    "c([msg])"
   ]
  },
  {
   "cell_type": "markdown",
   "id": "09be3d09",
   "metadata": {},
   "source": [
    "You don't need to call `mk_msg` on each individual message before passing them to the `Chat` class. Instead you can pass your messages in a list and the `Chat` class will automatically call `mk_msgs` in the background. \n",
    "\n",
    "```python\n",
    "c([\"How are you?\", r])\n",
    "```\n",
    "\n",
    "For messages that contain multiple content types (like an image with a question), you'll need to enclose the message contents in a list as shown below:\n",
    "\n",
    "```python\n",
    "c([\"How are you?\", r, [img, q]])\n",
    "```"
   ]
  },
  {
   "cell_type": "code",
   "execution_count": null,
   "id": "73ce3789",
   "metadata": {},
   "outputs": [
    {
     "data": {
      "text/markdown": [
       "The flowers in the image are purple/lavender in color. They appear to be small daisy-like flowers or asters blooming in the background, creating a nice contrast with the adorable Cavalier King Charles Spaniel puppy that's resting on the grass in the foreground. The purple flowers add a lovely touch of color to this sweet outdoor scene.\n",
       "\n",
       "<details>\n",
       "\n",
       "- id: `msg_012wreyEbi8LX2BEXQQo562s`\n",
       "- content: `[{'citations': None, 'text': \"The flowers in the image are purple/lavender in color. They appear to be small daisy-like flowers or asters blooming in the background, creating a nice contrast with the adorable Cavalier King Charles Spaniel puppy that's resting on the grass in the foreground. The purple flowers add a lovely touch of color to this sweet outdoor scene.\", 'type': 'text'}]`\n",
       "- model: `claude-3-7-sonnet-20250219`\n",
       "- role: `assistant`\n",
       "- stop_reason: `end_turn`\n",
       "- stop_sequence: `None`\n",
       "- type: `message`\n",
       "- usage: `{'cache_creation_input_tokens': 0, 'cache_read_input_tokens': 0, 'input_tokens': 110, 'output_tokens': 80, 'server_tool_use': None}`\n",
       "\n",
       "</details>"
      ],
      "text/plain": [
       "Message(id='msg_012wreyEbi8LX2BEXQQo562s', content=[TextBlock(citations=None, text=\"The flowers in the image are purple/lavender in color. They appear to be small daisy-like flowers or asters blooming in the background, creating a nice contrast with the adorable Cavalier King Charles Spaniel puppy that's resting on the grass in the foreground. The purple flowers add a lovely touch of color to this sweet outdoor scene.\", type='text')], model='claude-3-7-sonnet-20250219', role='assistant', stop_reason='end_turn', stop_sequence=None, type='message', usage=In: 110; Out: 80; Cache create: 0; Cache read: 0; Total: 190)"
      ]
     },
     "execution_count": null,
     "metadata": {},
     "output_type": "execute_result"
    }
   ],
   "source": [
    "c = Chat(model)\n",
    "c([img, q])"
   ]
  },
  {
   "cell_type": "code",
   "execution_count": null,
   "id": "496178d9",
   "metadata": {},
   "outputs": [],
   "source": [
    "def contents(r):\n",
    "    \"Helper to get the contents from Claude response `r`.\"\n",
    "    blk = find_block(r)\n",
    "    if not blk and r.content: blk = r.content[0]\n",
    "    if hasattr(blk,'text'): return blk.text.strip()\n",
    "    elif hasattr(blk,'content'): return blk.content.strip()\n",
    "    elif hasattr(blk,'source'): return f'*Media Type - {blk.type}*'\n",
    "    return str(blk)"
   ]
  },
  {
   "cell_type": "code",
   "execution_count": null,
   "id": "8b9d8064",
   "metadata": {},
   "outputs": [
    {
     "data": {
      "text/plain": [
       "'*Media Type - image*'"
      ]
     },
     "execution_count": null,
     "metadata": {},
     "output_type": "execute_result"
    }
   ],
   "source": [
    "contents(c.h[0])"
   ]
  },
  {
   "cell_type": "code",
   "execution_count": null,
   "id": "3eb5f016",
   "metadata": {},
   "outputs": [
    {
     "data": {
      "text/markdown": [
       "The flowers in the image are purple/lavender in color. They appear to be small daisy-like flowers or asters blooming in the background, creating a nice contrast with the adorable Cavalier King Charles Spaniel puppy that's resting on the grass in the foreground. The purple flowers add a lovely touch of color to this sweet outdoor scene.\n",
       "\n",
       "<details>\n",
       "<summary>History</summary>\n",
       "\n",
       "**user**: *Media Type - image*\n",
       "\n",
       "**assistant**: The flowers in the image are purple/lavender in color. They appear to be small daisy-like flowers or asters blooming in the background, creating a nice contrast with the adorable Cavalier King Charles Spaniel puppy that's resting on the grass in the foreground. The purple flowers add a lovely touch of color to this sweet outdoor scene.\n",
       "</details>\n",
       "\n",
       "| Metric | Count | Cost (USD) |\n",
       "|--------|------:|-----:|\n",
       "| Input tokens | 110 | 0.000330 |\n",
       "| Output tokens | 80 | 0.001200 |\n",
       "| Cache tokens | 0 | 0.000000 |\n",
       "| **Total** | **190** | **$0.001530** |"
      ],
      "text/plain": [
       "<__main__.Chat>"
      ]
     },
     "execution_count": null,
     "metadata": {},
     "output_type": "execute_result"
    }
   ],
   "source": [
    "c"
   ]
  },
  {
   "cell_type": "markdown",
   "id": "00482861",
   "metadata": {},
   "source": [
    ":::{.callout-note}\n",
    "\n",
    "Unfortunately, not all Claude models support images 😞. This [table](https://docs.anthropic.com/en/docs/about-claude/models#model-comparison-table) summarizes the capabilities of each Claude model and the different modalities they support.\n",
    "\n",
    ":::"
   ]
  },
  {
   "cell_type": "markdown",
   "id": "abd9dbe9",
   "metadata": {},
   "source": [
    "## Caching"
   ]
  },
  {
   "cell_type": "markdown",
   "id": "026fb70e",
   "metadata": {},
   "source": [
    "Claude supports context caching by adding a `cache_control` header to the message content.\n",
    "\n",
    "```js\n",
    "{\n",
    "    \"role\": \"user\",\n",
    "    \"content\": [\n",
    "        {\n",
    "            \"type\": \"text\", \n",
    "            \"text\": \"Please cache my message\", \n",
    "            \"cache_control\": {\"type\": \"ephemeral\"}\n",
    "        }\n",
    "    ]\n",
    "}\n",
    "```\n",
    "\n",
    "To cache a message, we simply set `cache=True` when calling `mk_msg`."
   ]
  },
  {
   "cell_type": "code",
   "execution_count": null,
   "id": "19a9d3e1",
   "metadata": {},
   "outputs": [
    {
     "data": {
      "text/markdown": [
       "```json\n",
       "{ 'content': [ {'text': 'hi', 'type': 'text'},\n",
       "               { 'cache_control': {'type': 'ephemeral'},\n",
       "                 'text': 'there',\n",
       "                 'type': 'text'}],\n",
       "  'role': 'user'}\n",
       "```"
      ],
      "text/plain": [
       "{'role': 'user',\n",
       " 'content': [{'type': 'text', 'text': 'hi'},\n",
       "  {'type': 'text', 'text': 'there', 'cache_control': {'type': 'ephemeral'}}]}"
      ]
     },
     "execution_count": null,
     "metadata": {},
     "output_type": "execute_result"
    }
   ],
   "source": [
    "mk_msg(['hi', 'there'], cache=True)"
   ]
  },
  {
   "cell_type": "markdown",
   "id": "e412abd5",
   "metadata": {},
   "source": [
    "Claude also now supports smart cache look-ups, so it's very simple to keep an entire conversation in cache by constantly telling it to update the cache with the latest message. To do this, we just need to set `cache=True` when creating a `Chat`."
   ]
  },
  {
   "cell_type": "code",
   "execution_count": null,
   "id": "5eb7bed0",
   "metadata": {},
   "outputs": [],
   "source": [
    "chat = Chat(model, sp=sp, cache=True)"
   ]
  },
  {
   "cell_type": "markdown",
   "id": "745a3182",
   "metadata": {},
   "source": [
    "Caching has a minimum token limit of 1024 tokens for Sonnet and Opus, and 2048 for Haiku. If your conversation is below this limit, it will not be cached."
   ]
  },
  {
   "cell_type": "code",
   "execution_count": null,
   "id": "ed6e5fe2",
   "metadata": {},
   "outputs": [
    {
     "data": {
      "text/markdown": [
       "Hello Jeremy! It's nice to meet you. How are you doing today? Is there something I can help you with or would you like to chat?\n",
       "\n",
       "<details>\n",
       "\n",
       "- id: `msg_016RpMghLum6B3PaFEwvwifv`\n",
       "- content: `[{'citations': None, 'text': \"Hello Jeremy! It's nice to meet you. How are you doing today? Is there something I can help you with or would you like to chat?\", 'type': 'text'}]`\n",
       "- model: `claude-3-7-sonnet-20250219`\n",
       "- role: `assistant`\n",
       "- stop_reason: `end_turn`\n",
       "- stop_sequence: `None`\n",
       "- type: `message`\n",
       "- usage: `{'cache_creation_input_tokens': 0, 'cache_read_input_tokens': 0, 'input_tokens': 20, 'output_tokens': 34, 'server_tool_use': None}`\n",
       "\n",
       "</details>"
      ],
      "text/plain": [
       "Message(id='msg_016RpMghLum6B3PaFEwvwifv', content=[TextBlock(citations=None, text=\"Hello Jeremy! It's nice to meet you. How are you doing today? Is there something I can help you with or would you like to chat?\", type='text')], model='claude-3-7-sonnet-20250219', role='assistant', stop_reason='end_turn', stop_sequence=None, type='message', usage=In: 20; Out: 34; Cache create: 0; Cache read: 0; Total: 54)"
      ]
     },
     "execution_count": null,
     "metadata": {},
     "output_type": "execute_result"
    }
   ],
   "source": [
    "chat(\"Hi, I'm Jeremy.\")"
   ]
  },
  {
   "cell_type": "markdown",
   "id": "4762e29d",
   "metadata": {},
   "source": [
    "Note the usage: no cache is created, nor used. Now, let's send a long enough message to trigger caching."
   ]
  },
  {
   "cell_type": "code",
   "execution_count": null,
   "id": "e870355c",
   "metadata": {},
   "outputs": [
    {
     "data": {
      "text/markdown": [
       "I notice you've sent a large amount of \"Lorem ipsum\" text, which is commonly used as placeholder or filler text in design and publishing. \n",
       "\n",
       "Is there something specific you'd like to discuss or a question you have? I'm here to help with meaningful conversation or information if you need it. If you're testing my response capabilities, I'm ready to assist with any genuine questions or topics you'd like to explore.\n",
       "\n",
       "<details>\n",
       "\n",
       "- id: `msg_01Po14rvEDsJPBdChzLMtKmB`\n",
       "- content: `[{'citations': None, 'text': 'I notice you\\'ve sent a large amount of \"Lorem ipsum\" text, which is commonly used as placeholder or filler text in design and publishing. \\n\\nIs there something specific you\\'d like to discuss or a question you have? I\\'m here to help with meaningful conversation or information if you need it. If you\\'re testing my response capabilities, I\\'m ready to assist with any genuine questions or topics you\\'d like to explore.', 'type': 'text'}]`\n",
       "- model: `claude-3-7-sonnet-20250219`\n",
       "- role: `assistant`\n",
       "- stop_reason: `end_turn`\n",
       "- stop_sequence: `None`\n",
       "- type: `message`\n",
       "- usage: `{'cache_creation_input_tokens': 1101, 'cache_read_input_tokens': 0, 'input_tokens': 4, 'output_tokens': 90, 'server_tool_use': None}`\n",
       "\n",
       "</details>"
      ],
      "text/plain": [
       "Message(id='msg_01Po14rvEDsJPBdChzLMtKmB', content=[TextBlock(citations=None, text='I notice you\\'ve sent a large amount of \"Lorem ipsum\" text, which is commonly used as placeholder or filler text in design and publishing. \\n\\nIs there something specific you\\'d like to discuss or a question you have? I\\'m here to help with meaningful conversation or information if you need it. If you\\'re testing my response capabilities, I\\'m ready to assist with any genuine questions or topics you\\'d like to explore.', type='text')], model='claude-3-7-sonnet-20250219', role='assistant', stop_reason='end_turn', stop_sequence=None, type='message', usage=In: 4; Out: 90; Cache create: 1101; Cache read: 0; Total: 1195)"
      ]
     },
     "execution_count": null,
     "metadata": {},
     "output_type": "execute_result"
    }
   ],
   "source": [
    "chat(\"\"\"Lorem ipsum dolor sit amet\"\"\" * 150)"
   ]
  },
  {
   "cell_type": "markdown",
   "id": "0b7a7036",
   "metadata": {},
   "source": [
    "The context is now long enough for cache to be used. All the conversation history has now been written to the temporary cache. Any subsequent message will read from it rather than re-processing the entire conversation history."
   ]
  },
  {
   "cell_type": "code",
   "execution_count": null,
   "id": "1dc2286e",
   "metadata": {},
   "outputs": [
    {
     "data": {
      "text/markdown": [
       "No problem at all! These things happen with technology sometimes. The lorem ipsum generator certainly had a lot to say! Is there something I can actually help you with today?\n",
       "\n",
       "<details>\n",
       "\n",
       "- id: `msg_014PfCJc7VLJRn8iZtXJqP6n`\n",
       "- content: `[{'citations': None, 'text': 'No problem at all! These things happen with technology sometimes. The lorem ipsum generator certainly had a lot to say! Is there something I can actually help you with today?', 'type': 'text'}]`\n",
       "- model: `claude-3-7-sonnet-20250219`\n",
       "- role: `assistant`\n",
       "- stop_reason: `end_turn`\n",
       "- stop_sequence: `None`\n",
       "- type: `message`\n",
       "- usage: `{'cache_creation_input_tokens': 108, 'cache_read_input_tokens': 1101, 'input_tokens': 4, 'output_tokens': 37, 'server_tool_use': None}`\n",
       "\n",
       "</details>"
      ],
      "text/plain": [
       "Message(id='msg_014PfCJc7VLJRn8iZtXJqP6n', content=[TextBlock(citations=None, text='No problem at all! These things happen with technology sometimes. The lorem ipsum generator certainly had a lot to say! Is there something I can actually help you with today?', type='text')], model='claude-3-7-sonnet-20250219', role='assistant', stop_reason='end_turn', stop_sequence=None, type='message', usage=In: 4; Out: 37; Cache create: 108; Cache read: 1101; Total: 1250)"
      ]
     },
     "execution_count": null,
     "metadata": {},
     "output_type": "execute_result"
    }
   ],
   "source": [
    "chat(\"Oh thank you! Sorry, my lorem ipsum generator got out of control!\")"
   ]
  },
  {
   "cell_type": "markdown",
   "id": "3d162fca",
   "metadata": {},
   "source": [
    "## Extended Thinking"
   ]
  },
  {
   "cell_type": "markdown",
   "id": "11327638",
   "metadata": {},
   "source": [
    "Claude 3.7 Sonnet has enhanced reasoning capabilities for complex tasks. See [docs](https://docs.anthropic.com/en/docs/build-with-claude/extended-thinking) for more info.\n",
    "\n",
    "We can enable extended thinking by passing a `thinking` param with the following structure.\n",
    "\n",
    "```js\n",
    "thinking={\n",
    "    \"type\": \"enabled\",\n",
    "    \"budget_tokens\": 16000\n",
    "}\n",
    "```\n",
    "\n",
    "When extended thinking is enabled a thinking block is included in the response as shown below.\n",
    "\n",
    "```js\n",
    "{\n",
    "  \"content\": [\n",
    "    {\n",
    "      \"type\": \"thinking\",\n",
    "      \"thinking\": \"To approach this, let's think about...\",\n",
    "      \"signature\": \"Imtakcjsu38219c0.eyJoYXNoIjoiYWJjM0NTY3fQ....\"\n",
    "    },\n",
    "    {\n",
    "      \"type\": \"text\",\n",
    "      \"text\": \"Yes, there are infinitely many prime numbers such that...\"\n",
    "    }\n",
    "  ]\n",
    "}\n",
    "```"
   ]
  },
  {
   "cell_type": "markdown",
   "id": "503cae9b",
   "metadata": {},
   "source": [
    "Let's add a `maxthinktok` param to the `Client` and `Chat` call methods. When this value is not 0, we'll pass a thinking param to Claude `{\"type\":\"enabled\", \"budget_tokens\":maxthinktok}`.\n",
    "\n",
    "*Note: When thinking is [enabled](https://docs.anthropic.com/en/docs/build-with-claude/extended-thinking#important-considerations-when-using-extended-thinking) `prefill` must be empty and the `temp` must be 1.*"
   ]
  },
  {
   "cell_type": "code",
   "execution_count": null,
   "id": "c399a36e",
   "metadata": {},
   "outputs": [],
   "source": [
    "#| export\n",
    "def think_md(txt, thk):\n",
    "    return f\"\"\"\n",
    "{txt}\n",
    "\n",
    "<details>\n",
    "<summary>Thinking</summary>\n",
    "{thk}\n",
    "</details>\n",
    "\"\"\""
   ]
  },
  {
   "cell_type": "code",
   "execution_count": null,
   "id": "bd68ca17",
   "metadata": {},
   "outputs": [],
   "source": [
    "def contents(r):\n",
    "    \"Helper to get the contents from Claude response `r`.\"\n",
    "    blk = find_block(r)\n",
    "    tk_blk = find_block(r, blk_type=ThinkingBlock)\n",
    "    if tk_blk: return think_md(blk.text.strip(), tk_blk.thinking.strip())\n",
    "    if not blk and r.content: blk = r.content[0]\n",
    "    if hasattr(blk,'text'): return blk.text.strip()\n",
    "    elif hasattr(blk,'content'): return blk.content.strip()\n",
    "    elif hasattr(blk,'source'): return f'*Media Type - {blk.type}*'\n",
    "    return str(blk)"
   ]
  },
  {
   "cell_type": "markdown",
   "id": "4e66607b",
   "metadata": {},
   "source": [
    "Let's call the model without extended thinking enabled. "
   ]
  },
  {
   "cell_type": "code",
   "execution_count": null,
   "id": "26b5f9c7",
   "metadata": {},
   "outputs": [],
   "source": [
    "tk_model = first(has_extended_thinking_models)"
   ]
  },
  {
   "cell_type": "code",
   "execution_count": null,
   "id": "adc3e86f",
   "metadata": {},
   "outputs": [],
   "source": [
    "chat = Chat(tk_model)"
   ]
  },
  {
   "cell_type": "code",
   "execution_count": null,
   "id": "b7911771",
   "metadata": {},
   "outputs": [
    {
     "data": {
      "text/markdown": [
       "Python is a versatile programming language known for its readable syntax and wide application in fields ranging from web development to data science and artificial intelligence.\n",
       "\n",
       "<details>\n",
       "\n",
       "- id: `msg_01ByQmKHQUqoiaoXrdtErb72`\n",
       "- content: `[{'citations': None, 'text': 'Python is a versatile programming language known for its readable syntax and wide application in fields ranging from web development to data science and artificial intelligence.', 'type': 'text'}]`\n",
       "- model: `claude-3-7-sonnet-20250219`\n",
       "- role: `assistant`\n",
       "- stop_reason: `end_turn`\n",
       "- stop_sequence: `None`\n",
       "- type: `message`\n",
       "- usage: `{'cache_creation_input_tokens': 0, 'cache_read_input_tokens': 0, 'input_tokens': 13, 'output_tokens': 31, 'server_tool_use': None}`\n",
       "\n",
       "</details>"
      ],
      "text/plain": [
       "Message(id='msg_01ByQmKHQUqoiaoXrdtErb72', content=[TextBlock(citations=None, text='Python is a versatile programming language known for its readable syntax and wide application in fields ranging from web development to data science and artificial intelligence.', type='text')], model='claude-3-7-sonnet-20250219', role='assistant', stop_reason='end_turn', stop_sequence=None, type='message', usage=In: 13; Out: 31; Cache create: 0; Cache read: 0; Total: 44)"
      ]
     },
     "execution_count": null,
     "metadata": {},
     "output_type": "execute_result"
    }
   ],
   "source": [
    "chat(\"Write a sentence about Python!\")"
   ]
  },
  {
   "cell_type": "markdown",
   "id": "e9aab9e0",
   "metadata": {},
   "source": [
    "Now, let's call the model with extended thinking enabled."
   ]
  },
  {
   "cell_type": "code",
   "execution_count": null,
   "id": "0aec5ad6",
   "metadata": {},
   "outputs": [
    {
     "data": {
      "text/markdown": [
       "\n",
       "Python's elegant design philosophy emphasizes code readability with its use of significant whitespace, making it a favorite among beginners and experienced developers alike.\n",
       "\n",
       "<details>\n",
       "<summary>Thinking</summary>\n",
       "The human has asked me again to write a sentence about Python. I should provide a different sentence than my previous response to add variety. I'll focus on a different aspect of Python to make this response unique.\n",
       "</details>\n",
       "\n",
       "\n",
       "<details>\n",
       "\n",
       "- id: `msg_01PMQLAmNQimhBjzAUZoGCRs`\n",
       "- content: `[{'signature': 'ErUBCkYIAxgCIkAeuAugnuFqvwmS/RWP6lf1bCp9L6zQuUwWGBDeTvWpUkymiphVSVbvOSJ1e5SW0OseraI2vbQGnfS1WLXoN+sWEgxZmEhUN2kIgeQx0hQaDFwJTDboif3F1/4IliIwW0rsXCcw5QOPdSzQ/5pHkf/KaeCYZQMpdS61nQlDtAqAE2u6Ub36yaXJrDm62zaQKh3cttJc7qNxyFCZsf+9OUicelpbwd1C5scyusLX5xgC', 'thinking': \"The human has asked me again to write a sentence about Python. I should provide a different sentence than my previous response to add variety. I'll focus on a different aspect of Python to make this response unique.\", 'type': 'thinking'}, {'citations': None, 'text': \"Python's elegant design philosophy emphasizes code readability with its use of significant whitespace, making it a favorite among beginners and experienced developers alike.\", 'type': 'text'}]`\n",
       "- model: `claude-3-7-sonnet-20250219`\n",
       "- role: `assistant`\n",
       "- stop_reason: `end_turn`\n",
       "- stop_sequence: `None`\n",
       "- type: `message`\n",
       "- usage: `{'cache_creation_input_tokens': 0, 'cache_read_input_tokens': 0, 'input_tokens': 81, 'output_tokens': 84, 'server_tool_use': None}`\n",
       "\n",
       "</details>"
      ],
      "text/plain": [
       "Message(id='msg_01PMQLAmNQimhBjzAUZoGCRs', content=[ThinkingBlock(signature='ErUBCkYIAxgCIkAeuAugnuFqvwmS/RWP6lf1bCp9L6zQuUwWGBDeTvWpUkymiphVSVbvOSJ1e5SW0OseraI2vbQGnfS1WLXoN+sWEgxZmEhUN2kIgeQx0hQaDFwJTDboif3F1/4IliIwW0rsXCcw5QOPdSzQ/5pHkf/KaeCYZQMpdS61nQlDtAqAE2u6Ub36yaXJrDm62zaQKh3cttJc7qNxyFCZsf+9OUicelpbwd1C5scyusLX5xgC', thinking=\"The human has asked me again to write a sentence about Python. I should provide a different sentence than my previous response to add variety. I'll focus on a different aspect of Python to make this response unique.\", type='thinking'), TextBlock(citations=None, text=\"Python's elegant design philosophy emphasizes code readability with its use of significant whitespace, making it a favorite among beginners and experienced developers alike.\", type='text')], model='claude-3-7-sonnet-20250219', role='assistant', stop_reason='end_turn', stop_sequence=None, type='message', usage=In: 81; Out: 84; Cache create: 0; Cache read: 0; Total: 165)"
      ]
     },
     "execution_count": null,
     "metadata": {},
     "output_type": "execute_result"
    }
   ],
   "source": [
    "chat(\"Write a sentence about Python!\", maxthinktok=1024)"
   ]
  },
  {
   "cell_type": "markdown",
   "id": "67acb3f1",
   "metadata": {},
   "source": [
    "## Web Search and Server Tools"
   ]
  },
  {
   "cell_type": "markdown",
   "id": "ca3e7c2e",
   "metadata": {},
   "source": [
    "The `str_replace` special tool type is a client side tool, i.e., one where we provide the implementation. However, Anthropic also supports server side tools. THe current one available is their search tool, which you can find the documentation for [here](https://docs.anthropic.com/en/docs/build-with-claude/tool-use/web-search-tool). When provided as a tool to claude, claude can decide to search the web in order to answer or solve the task at hand. In order to get these server tools to place nicely in claudette, let's create and update some helper functions."
   ]
  },
  {
   "cell_type": "code",
   "execution_count": null,
   "id": "c3a11435",
   "metadata": {},
   "outputs": [],
   "source": [
    "#| exports\n",
    "def server_tool_usage(web_search_requests=0):\n",
    "    return ServerToolUsage(web_search_requests=web_search_requests)"
   ]
  },
  {
   "cell_type": "code",
   "execution_count": null,
   "id": "b8bf2481",
   "metadata": {},
   "outputs": [
    {
     "data": {
      "text/plain": [
       "ServerToolUsage(web_search_requests=1)"
      ]
     },
     "execution_count": null,
     "metadata": {},
     "output_type": "execute_result"
    }
   ],
   "source": [
    "st = server_tool_usage(1)\n",
    "st"
   ]
  },
  {
   "cell_type": "code",
   "execution_count": null,
   "id": "412bfcdf",
   "metadata": {},
   "outputs": [],
   "source": [
    "#| exports\n",
    "@patch\n",
    "def __repr__(self:Usage):\n",
    "    io_toks = f'In: {self.input_tokens}; Out: {self.output_tokens}'\n",
    "    cache_toks = f'Cache create: {_dgetattr(self, \"cache_creation_input_tokens\",0)}; Cache read: {_dgetattr(self, \"cache_read_input_tokens\",0)}'\n",
    "    server_tool_use = _dgetattr(self, \"server_tool_use\",server_tool_usage())\n",
    "    server_tool_use_str = f'Server tool use (web search requests): {server_tool_use.web_search_requests}'\n",
    "    total_tok = f'Total Tokens: {self.total}'\n",
    "    return f'{io_toks}; {cache_toks}; {total_tok}; {server_tool_use_str}'"
   ]
  },
  {
   "cell_type": "code",
   "execution_count": null,
   "id": "5359f433",
   "metadata": {},
   "outputs": [],
   "source": [
    "#| exports\n",
    "def usage(inp=0, # input tokens\n",
    "          out=0,  # Output tokens\n",
    "          cache_create=0, # Cache creation tokens\n",
    "          cache_read=0, # Cache read tokens\n",
    "          server_tool_use=server_tool_usage() # server tool use\n",
    "         ):\n",
    "    \"Slightly more concise version of `Usage`.\"\n",
    "    return Usage(input_tokens=inp, output_tokens=out, cache_creation_input_tokens=cache_create,\n",
    "                 cache_read_input_tokens=cache_read, server_tool_use=server_tool_use)"
   ]
  },
  {
   "cell_type": "code",
   "execution_count": null,
   "id": "6817cc23",
   "metadata": {},
   "outputs": [
    {
     "data": {
      "text/plain": [
       "In: 1; Out: 1; Cache create: 1; Cache read: 1; Total Tokens: 4; Server tool use (web search requests): 1"
      ]
     },
     "execution_count": null,
     "metadata": {},
     "output_type": "execute_result"
    }
   ],
   "source": [
    "u = usage(inp=1, out=1, cache_create=1, cache_read=1, server_tool_use=st)\n",
    "u"
   ]
  },
  {
   "cell_type": "code",
   "execution_count": null,
   "id": "00aff325",
   "metadata": {},
   "outputs": [],
   "source": [
    "#| exports\n",
    "@patch\n",
    "def __add__(self:ServerToolUsage, b):\n",
    "    \"Add together each of `input_tokens` and `output_tokens`\"\n",
    "    return ServerToolUsage(web_search_requests=self.web_search_requests+b.web_search_requests)"
   ]
  },
  {
   "cell_type": "code",
   "execution_count": null,
   "id": "94ffec45",
   "metadata": {},
   "outputs": [],
   "source": [
    "#| exports\n",
    "@patch\n",
    "def __add__(self:Usage, b):\n",
    "    \"Add together each of `input_tokens` and `output_tokens`\"\n",
    "    return usage(self.input_tokens+b.input_tokens, self.output_tokens+b.output_tokens,\n",
    "                 _dgetattr(self,'cache_creation_input_tokens',0)+_dgetattr(b,'cache_creation_input_tokens',0),\n",
    "                 _dgetattr(self,'cache_read_input_tokens',0)+_dgetattr(b,'cache_read_input_tokens',0),\n",
    "                 _dgetattr(self,'server_tool_use',server_tool_usage())+_dgetattr(b,'server_tool_use',server_tool_usage()))"
   ]
  },
  {
   "cell_type": "code",
   "execution_count": null,
   "id": "e49ee104",
   "metadata": {},
   "outputs": [
    {
     "data": {
      "text/plain": [
       "In: 2; Out: 2; Cache create: 2; Cache read: 2; Total Tokens: 8; Server tool use (web search requests): 4"
      ]
     },
     "execution_count": null,
     "metadata": {},
     "output_type": "execute_result"
    }
   ],
   "source": [
    "u + usage(inp=1, out=1, cache_create=1, cache_read=1, server_tool_use=server_tool_usage(3))"
   ]
  },
  {
   "cell_type": "code",
   "execution_count": null,
   "id": "1ec37166",
   "metadata": {},
   "outputs": [],
   "source": [
    "#| export\n",
    "server_tool_pricing = {\n",
    "    'web_search_requests': 10, # $10 per 1,000\n",
    "}"
   ]
  },
  {
   "cell_type": "code",
   "execution_count": null,
   "id": "30267fd1",
   "metadata": {},
   "outputs": [],
   "source": [
    "#| exports\n",
    "@patch\n",
    "def cost(self:Usage, costs:tuple) -> float:\n",
    "    cache_w, cache_r = _dgetattr(self, \"cache_creation_input_tokens\",0), _dgetattr(self, \"cache_read_input_tokens\",0)\n",
    "    tok_cost = sum([self.input_tokens * costs[0] +  self.output_tokens * costs[1] +  cache_w * costs[2] + cache_r * costs[3]]) / 1e6\n",
    "    server_tool_use = _dgetattr(self, \"server_tool_use\",server_tool_usage())\n",
    "    server_tool_cost = server_tool_use.web_search_requests * server_tool_pricing['web_search_requests'] / 1e3\n",
    "    return tok_cost + server_tool_cost"
   ]
  },
  {
   "cell_type": "code",
   "execution_count": null,
   "id": "24f7b3f3",
   "metadata": {},
   "outputs": [
    {
     "data": {
      "text/plain": [
       "0.01002205"
      ]
     },
     "execution_count": null,
     "metadata": {},
     "output_type": "execute_result"
    }
   ],
   "source": [
    "u.cost(pricing[model_types[model]])"
   ]
  },
  {
   "cell_type": "code",
   "execution_count": null,
   "id": "80836ca9",
   "metadata": {},
   "outputs": [],
   "source": [
    "#| exports\n",
    "def contents(r):\n",
    "    \"Helper to get the contents from Claude response `r`.\"\n",
    "    text_sections, citations = [], []\n",
    "\n",
    "    for blk in getattr(r, \"content\", []):\n",
    "        # Handle normal text blocks\n",
    "        if isinstance(blk, TextBlock) and blk.text:\n",
    "            section = blk.text.strip()\n",
    "\n",
    "            # Add numbered markers for each citation in this block\n",
    "            if blk.citations:\n",
    "                markers = []\n",
    "                for cit in blk.citations:\n",
    "                    citations.append(cit)\n",
    "                    markers.append(f\"[{len(citations)}]\") # maintain global citation order\n",
    "                section += \" \" + \" \".join(markers)\n",
    "\n",
    "            text_sections.append(section)\n",
    "\n",
    "        # Show a placeholder for media blocks\n",
    "        elif hasattr(blk, \"source\"): text_sections.append(f\"*Media Type - {blk.type}*\")\n",
    "        elif hasattr(blk, \"input\"): text_sections.append(f\"*Tool Use Type - {blk.name}*\")\n",
    "        # Generic fallback for any other block with a `content` attribute and not tool uses/responses\n",
    "        elif not hasattr(blk, \"tool_use_id\") and hasattr(blk, \"content\") and blk.content:\n",
    "            text_sections.append(str(blk.content).strip())\n",
    "\n",
    "    body = \"\\n\\n\".join(text_sections).strip()\n",
    "\n",
    "    # Append reference list if citations were collected\n",
    "    if citations:\n",
    "        refs = \"\\n\".join(f\"[{i+1}]: {cit.url}\" for i, cit in enumerate(citations))\n",
    "        body = f\"{body}\\n\\n{refs}\" if body else refs\n",
    "\n",
    "    # Fallback to original single-block logic if no sections were produced\n",
    "    if not body:\n",
    "        blk = find_block(r)\n",
    "        if not blk and getattr(r, \"content\", None): blk = r.content[0]\n",
    "        if hasattr(blk, \"text\"): body = blk.text.strip()\n",
    "        elif hasattr(blk, \"content\"): body = blk.content.strip()\n",
    "        elif hasattr(blk, \"source\"): body = f\"*Media Type - {blk.type}*\"\n",
    "        else: body = str(blk)\n",
    "\n",
    "    # Wrap with collapsible thinking details when a ThinkingBlock is present\n",
    "    tk_blk = find_block(r, blk_type=ThinkingBlock)\n",
    "    if tk_blk: body = think_md(body, tk_blk.thinking.strip())\n",
    "\n",
    "    return body"
   ]
  },
  {
   "cell_type": "code",
   "execution_count": null,
   "id": "15530715",
   "metadata": {},
   "outputs": [],
   "source": [
    "#| export\n",
    "def search_conf(max_uses:int=None, allowed_domains:list=None, blocked_domains:list=None, user_location:dict=None):\n",
    "    conf = {'type': 'web_search_20250305', 'name': 'web_search'}\n",
    "    if max_uses: conf['max_uses'] = max_uses\n",
    "    if allowed_domains: conf['allowed_domains'] = allowed_domains\n",
    "    if blocked_domains: conf['blocked_domains'] = blocked_domains\n",
    "    if user_location: conf['user_location'] = user_location\n",
    "    return conf"
   ]
  },
  {
   "cell_type": "code",
   "execution_count": null,
   "id": "c56f4f72",
   "metadata": {},
   "outputs": [
    {
     "data": {
      "text/markdown": [
       "I'll check the current weather in San Diego for you.\n",
       "\n",
       "*Tool Use Type - web_search*\n",
       "\n",
       "Based on the search results, here's the current weather information for San Diego:\n",
       "\n",
       "Warmer conditions are continuing this week for San Diego County, with a cooling trend expected to move in early next week. [1] [2]\n",
       "\n",
       "\n",
       "\n",
       "For the coastal areas of San Diego, it's partly cloudy with highs in the mid-70s. [3]\n",
       "\n",
       "\n",
       "\n",
       "According to AccuWeather data, the temperature in San Diego today (May 12) appears to be around 71°F. [4]\n",
       "\n",
       "\n",
       "\n",
       "San Diego typically experiences mild temperatures in May, with average temperatures around 61.9°F (16.6°C). Daytime highs usually reach about 68.5°F (20.3°C), while nighttime lows dip to approximately 56.3°F (13.5°C). [5]\n",
       "\n",
       "\n",
       "\n",
       "The city generally enjoys about 7.5 hours of sunshine per day in May. [6]\n",
       "\n",
       "\n",
       "\n",
       "Rainfall is minimal in May, with an average precipitation of just 10mm spread over approximately 2 rainy days, making it one of the drier months in the region. [7]\n",
       "\n",
       "\n",
       "\n",
       "It's worth noting that this past weekend (May 10) was particularly hot, with Saturday being described as \"the hottest day of the year so far\" with temperatures well above average. [8] [9]\n",
       "\n",
       "\n",
       "\n",
       "For those interested in beach activities, the average sea temperature around San Diego in May is typically around 17°C (62.6°F), and there are usually only about 2 days with some rain during the month. [10]\n",
       "\n",
       "[1]: https://www.kpbs.org/news/quality-of-life/2025/05/09/warmer-weather-continues-this-week-for-san-diego-county\n",
       "[2]: https://www.kpbs.org/news/quality-of-life/2025/05/09/warmer-weather-continues-this-week-for-san-diego-county\n",
       "[3]: https://www.kpbs.org/news/quality-of-life/2025/05/09/warmer-weather-continues-this-week-for-san-diego-county\n",
       "[4]: https://www.accuweather.com/en/us/san-diego/92101/may-weather/347628\n",
       "[5]: https://en.climate-data.org/north-america/united-states-of-america/california/san-diego-714969/t/may-5/\n",
       "[6]: https://en.climate-data.org/north-america/united-states-of-america/california/san-diego-714969/t/may-5/\n",
       "[7]: https://en.climate-data.org/north-america/united-states-of-america/california/san-diego-714969/t/may-5/\n",
       "[8]: https://www.10news.com/weather/san-diegos-weather-forecast-for-may-9-2025-record-hot-saturday\n",
       "[9]: https://www.10news.com/weather/san-diegos-weather-forecast-for-may-9-2025-record-hot-saturday\n",
       "[10]: https://www.weather2travel.com/california/san-diego/may/\n",
       "\n",
       "<details>\n",
       "\n",
       "- id: `msg_016mueHoM2CSUBv7XhYD2h23`\n",
       "- content: `[{'citations': None, 'text': \"I'll check the current weather in San Diego for you.\", 'type': 'text'}, {'id': 'srvtoolu_01JPxGhiUdSBMumHPGrvFDah', 'input': {'query': 'San Diego weather forecast today May 12 2025'}, 'name': 'web_search', 'type': 'server_tool_use'}, {'content': [{'encrypted_content': 'Eq8GCioIAxgCIiQ4ODk4YTFkYy0yMTNkLTRhNmYtOTljYi03ZTBlNTUzZDc0NWISDKGysPeV9R0fO1Tk/xoMYX9NzQ4+oRzUXoJdIjAxHaPhLz0/dL1EzMOyoptWBJfjFBgINCLltoGG2JZ1d8XofMaVKACGr9+QQaWPkRsqsgUQd2QsWzOGkkaZOs++AU8v1jvXbrnODZie8hJCxWJRTB8SyLrxH078lZ6nkA3M1I7Oi7Feu7V62DpvSKCD7T1z6NUlspnQHyxQkJ/hiEGL16wlROnc32omcSRy4af4zsaxAVtEaiK4RHQ3ap56dz9t+8lmw5rFiOq4DFbEa6qN9k3iogLOnUgEE3N45Drzp+tQU7gHqfuamazRSZ2+z8JKA/WZYBKcbH8nazx+HYpvW0YiuYBKEgMboS+n98/gE3G0LxNfoRyUaNywmP85jd9/YwJeY5VTtdtTz7KKiZ4/zLUHH//asyzAnKvVOaXDLO5gYyFvhtbY5WQsOBM+WPJDwT58PH7LP0/LqWthGUYh3Nd0r4qSoqOS9WAv1fMT2cKjY/iALwTPJR9L4N7rE8sX/sGh4/VtM9JrUzcqKP9gzarlpD0SCQwGLhDluAACGISpJ1NJUW6f6srK972EtB2w5pUXk10t19AlTMBgy+PUsOKD2L3YTGP1e6wE19fNlx2MZZBwZZt0nQmc4iI86868u8Sv9dAAxLHWEAwrGYzPhSdLD0yDj07GVyx1tw87HYN8aQgO20q6u+QReT66d8HuS1dE30B9fQ8JX71vlViUUVvivw9ZhhRAk70ISeMQaDSQIKQs38buHZH7GITEdFUmOv5jVI3KCwSaVT3XMdH12JZYkVC/GNNpFQaVJXrsIh+uvkS/KMVRhleuRMexhyuc6zuO6k2cwhw7z+jtTDNp1rdpRq3BId2vrWd/KE+btV72232xW1D6fhN24xD6FrprrLah1FvxgSRTaJbcQbffq2UIFwwKeCjjyU2KFjAQiJqzQgl/rqPRP1Evkg90phyQGRbb42wx80QeeJ5FsR4g+9mttE3os6rMEEc2oypOVFwN7tSKpfV7MBiMNefnGawcWesYAw==', 'page_age': '2 days ago', 'title': 'Warmer weather continues this week for San Diego County | KPBS Public Media', 'type': 'web_search_result', 'url': 'https://www.kpbs.org/news/quality-of-life/2025/05/09/warmer-weather-continues-this-week-for-san-diego-county'}, {'encrypted_content': 'ErgECioIAxgCIiQ4ODk4YTFkYy0yMTNkLTRhNmYtOTljYi03ZTBlNTUzZDc0NWISDNxnAMXanY5XwAkMPhoM98vFzQx6KyLRmUkDIjBfMXyGyLjDs778zhA+k7sEAJbB6MG/i5JdQWaZRjM5qUSpkNVR0m7DvVsAY7WyV2wquwN6so5IXDSbsCJ7M81KliM+mKjWueF9bhbJKzMiDNAur1W8N1tTP3oQXr/Xp9tn8fNbXMqORoWAaRUpi5Ld/4X8xY8ikfKVOGwxJTkYgJpy3g+DVjgSFipYloRBEQ38QwZ+WBOt4uXNWWZtLsVWiMrFkN3zlrpsK604AUYjGMoaFD0VCS6pXCBW66gVCQBqEXuvXEFU0SHscT4q7ROcI9g1VeylN72ze8UD5YWQby481hiLwrjFTrgJj7Aim1Ch8AnTt4C46C4NGwIgBbqBcHGQkt42Lb7Pd0YT4jPffsGYI1nJLAtFsz5y8DY+gJ7Bb2+84p/k4kxoGxk6x4jgONhxDnCH8TygpDOQCBjGWLbfqHJiuA+QoLDYGDhsbdyOfJ8Mxx/olMXWz9QdOP/EWvExo3+zULvtYp3hNP2aY8fXiReteIqFGqu9mcUVBkU+Qvez7bJRQttZDEaVSX593/3NKXTKsSbnC4Tdxr7jKnu5YkJ0iRq1CaYNqOri2MszeuMIABKD+mhkprEFNJW6pC5eu+L4iSIBG9dfiBERGcCpaa+sKDJMpu4KqyB7JwhOl7xdjjgQExnSixyzTBgD', 'page_age': '2 days ago', 'title': 'Heat Advisory issued May 9 at 8:31PM PDT until May 10 at 9:00PM PDT by NWS San Diego CA - KESQ', 'type': 'web_search_result', 'url': 'https://kesq.com/weather/alerts-weather/2025/05/09/heat-advisory-issued-may-9-at-831pm-pdt-until-may-10-at-900pm-pdt-by-nws-san-diego-ca/'}, {'encrypted_content': 'ErMHCioIAxgCIiQ4ODk4YTFkYy0yMTNkLTRhNmYtOTljYi03ZTBlNTUzZDc0NWISDCVuQBSHKPEyt0FMqRoMln/6IyV/IWn6ikhyIjC/35BlZG/wAivBQ20ubUmOyORDmIVsgmH83Slzeopkm/8CZf8yH2WjUz82cFr8Y0QqtgaDwb0YejnSD9NRYBbBYQnE02xs13jC2wY0zHhOCGglU9kxy7RwsObuGWp+adC5VZtHsBJsI3VMn2ljq3b5yBZ2PQE6xegQb2u4FYbmT5xDY1w7U0Iyj5KK7A/dgYKeSJiKevfTupU9/D3WEiHn1p4hg7T6UDXg+q3jzY6ZN/OFZacl8tU1vsOEiOKupKva46GaaLGzeJhcpDYRd6d7bSB6eZ3cLqk3UpiItHifcIDI83Q8o5xeLl+NFg2Bm0bn/aibwW1aTi3AzPpAPQ2uzrBdLYdhocXcSpxq1Oe5Tw+MJFrc0bgCgY6tJTnh+ucUY/WD5smuq/mQ57nFZ4XeRMkzaOsU1fRfTgt2i/ga2FNgxm7kH4zUT9XANZI2LjvIdMpzwgUAAICMYRfvp6C90Zod+oV4KLmaGd+Ue9EqWPWV9cBickaTdTNB4aLbPcvlZNDLiVhV0v9NL5mWbmdqKCl3Pt5MuJkPmmrl6jJG9ejJV+8W+/7PKguutmMQa1VA1ie29Sd3ijfA3JAeSBfjj7Zo6xqFsut8N9YE5gvi/yOv4AzHu8WF8Oe8wACf/MHZu+NzNNaZfmkAhNPykIDwzhEkPo1iK/RcsQ7hUGtsn5F/u2ZrkdZMzS+kdyPllyXTSIImrZKhC1UTzbcZnVfpuUmMZUU4DEIb4WiSnX8ds1J7W0/x4oCIeXLxDxQSOLGq2a8TLudY80IhaLsWVNzr/gy2DZyVj2cjA/s2RF6ATQV4W4OdafcQqiAn2InaGswKdKuLXRa74fFnrunmij7FF8OjQnlloOgJraHduF2gvEZpou7ugfb1Y/FjbZDl2xkjf/oSp4FSXXb8utlruxMF9SP3k7mlQE6VXl+PbruHnEhGhVf8M3Xv7WpGAvziETUqpHSJKg7Aihkim9i7GW69wzmAOTyhGLMtrgUJflrvTP/8m4M92ecP7ktGMKJZyMEh/v0TUB858DDh+dQ87ZZTqv+Ap+mM986+jaqHgY2LBeTlp75JJaz0XQ/4k+1n//kzWxRGSEV+2IJHNka+Y+J6TJcl5AHIrSdqe+sxkeErbCu7q7pQzM2/V1knI8rc5e4z4FuKCxSurh4YAw==', 'page_age': '3 days ago', 'title': \"San Diego's Weather Forecast for May 9, 2025: Record hot Saturday!\", 'type': 'web_search_result', 'url': 'https://www.10news.com/weather/san-diegos-weather-forecast-for-may-9-2025-record-hot-saturday'}, {'encrypted_content': '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', 'page_age': None, 'title': 'San Diego, CA Monthly Weather | AccuWeather', 'type': 'web_search_result', 'url': 'https://www.accuweather.com/en/us/san-diego/92101/may-weather/347628'}, {'encrypted_content': 'EqsDCioIAxgCIiQ4ODk4YTFkYy0yMTNkLTRhNmYtOTljYi03ZTBlNTUzZDc0NWISDL9hUDmTorkx0mSSnBoMzkXQ53k+xSZ1RG7WIjCi9jeOmRu/8v189fpog/Wp4zBv7JQAlGX3ezUMf7rQARJbfyekGpxhlWG8+jUCZJUqrgKfz532BIuFRYYnW03LVJfuB2IQ56Ym38Szd1LDzrZP/i2uZr4rsC7TT8JQcirjiLQOeOvpcoUj6r/u7YdkgHbvdL7O6df5hu883fI3+HgsY9J3EBBQfr2FYsGS7iJVJd73+3+7RnomnKo7o5TJOL6PyFTn9jhLwtqkiQjtbUUKXQ6/81t8d+523Fg9BWdIuR6FnoJYrAa1gxVB3pcMchNePnC73cLo9sB4LRi9188DNDERVvFMulUYTj1BH5iCMyR05ROcvCIYvqSCQ65k+UyEMvha4aE3GxXxzzCIY39yz7/feH4DDcGJ/o0eF1uFPpdyDT8P6qV7d2fWl6aZiNo/K8jWbAtR7MpV38DuK96HUNou8l/WkTc5OLCmcMbfz7bR2LB2NIxmGdRv7RIDPxgD', 'page_age': None, 'title': '60-Day Extended Weather Forecast for San Diego, CA | Almanac.com', 'type': 'web_search_result', 'url': 'https://www.almanac.com/weather/longrange/CA/San%20Diego'}, {'encrypted_content': 'EvIHCioIAxgCIiQ4ODk4YTFkYy0yMTNkLTRhNmYtOTljYi03ZTBlNTUzZDc0NWISDBEl06SeqQWqM30MxBoMgmO9v+Y5C9ROfXm3IjDWhKv+TlRmUmC11Sxogz0fsCnMUNEahBHvvfaSne/indJjRHr3HZtRg/GM/qnrbkMq9QYvyMD/lOshaCuN4eeuoDHRNa8LgGno2MatcG22H5ZOQSLNowEAEs1zLyr11pkNiZGktB9NWcblo/pRbCyw9NGymdSIpseorwp1Utl5zh1kmlLHLV6P/Oh9HivzO6kWhPPA1I3WRTIDfAFGDr/lkUlBxTDgpvrqB5R9154lb1aJx400Lt8eNhqldSGSK2mGTilPJ6Q7O5mWKAtGBJ51kJU7DlbU2NIb8nfeYTAWx+T7/gwP+LSIUHNWtEM3B9hv+6S/9WfKu/NAVKgKC2KLRmOaKNEzXFJEFBmfpZ98z1cI2dYekj8eLirpdbM2JV5Mrol78VA6plY2NbbH68tPNESwa7//RZXK+rtMuwSLORnB2rsvMhhDaBGOTpfr/alZlBmoXdqKWSHZA64NAhiXaT8w+2UD8RjXI1b7sL7PzO1PbMomJ4pUOwS8dCxGiv6QVSvA3UnkOLbEKz9SYN/us2ySHAkbIzGyHoI3ZMxGHidTPQGsn7aZWr0hxzWOPH6fMGTpkuUsJtkr0w26ddZY17DQPHWoUDzR5WC7Nd4OHrnTi1fDie4/N9/PR8XNatr3Eeqo7A9LSgoMHOK+/jZBlb+pL57ryBy3gPXCyD4G3AaqiUN4IwZH3HixAHnbQjJ1Zm0ktZvXOEwbXBCDWLSfesxajRvgyDWEu87a+kaTiDZUmlM/WD2mfT4a/XdcQ5apE7LGLZq82IZ+xrDBwoEOJGmhlBsh/bpBJXnO1CXLUmLIkKx9Fh95PlhhdbZkuZsTgMXwLAzojaR/oHHVTcabkyRNDXVzeAolMaF1dhpOJjOB8JbpjvDRFWd9OYSWjQ2DFEGP1nZ83CwUPPGVfxngGVa8HGODBz241StNS0WTSIEqf9jKyCerancbvoNbHTsBe3rF6Athnu/i76tkuN412+cmlF/8V41umbrXd+7N6Sr5afaR8bIn37h8Nd/ugCzgAzW3EdeJC2xjZM1nyOA38Qkfh9WP0dVZSYvLUWXbFDWEZ7hRzrfoDfsGxuwIQ/lYIBttxEyj2GuqeqbZDibN4j9VEQ3yPt6Waac8MZC5tulXCejra5HTCRVAJU3fnvtQ0ETOcUOkksUWwckULekIYxCaH4llJQqgfvaaRi6mEyfnTYyjQC6mIw9T9FO3XzjLO6UaJqjT+ayEbeiHGywBEP468OsKvLkYAw==', 'page_age': None, 'title': 'San Diego weather in May 2025 | San Diego 14 day weather', 'type': 'web_search_result', 'url': 'https://www.weather25.com/north-america/usa/california/san-diego?page=month&month=May'}, {'encrypted_content': 'EvADCioIAxgCIiQ4ODk4YTFkYy0yMTNkLTRhNmYtOTljYi03ZTBlNTUzZDc0NWISDBJbpLlnhKZaxSaaMhoMSh9ZqfJ+vCg92ZG+IjCHtuEkhK5f13uIn0z3/1oODrxNbjfWtWrrjmFInwVOtMO4PnIUXTK50hL65aqhzqEq8wKhDB6QSbtgVTQHjU1IzbWQpHtI7KiK99r4/rF3hNcukzk0yCG6LhofRbsJtKRubEvJt15okpoHfTFEMBcrAvVG/ekLfGSKudKuBU5/Ccpl7CpfiCbZRLdI5ds6LOFg9mLZZhmuOwQNc65Dpe6K8nl/3yIq8JY2szawpk358YXXY+xr1lHVP1x6OdbmKhbP+u7eSKilnJ/hK+S9VAKQBqV7ySHCAfTNtzKL+EV+twc84xQVTeiiioczOPof8CGhPx0PoCkS130zsRR78DWIKSOcuuBMAx5m4gkEyl/km6zShQpzMRYVa8H1q15YCp55wbjwlS1D8+unjbvFAlxDevOW3lfmGLyH3PGtfYcEnv8tYOT2cU2TQ/i6HYBnDBerpaIjbQuDW5O913oE6Hy8/hXsxRHQJzZ+pviIFMIXBZuUAqGc9AG1rn7Z+F052FBiI38ectGtz4BvsJhsNesMrUoBrnSGIT8YqkJqHwA9gSLVliPDyhgD', 'page_age': None, 'title': 'Weather in San Diego in May 2025 (California) - detailed Weather Forecast for a month', 'type': 'web_search_result', 'url': 'https://world-weather.info/forecast/usa/san_diego/may-2025/'}, {'encrypted_content': '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', 'page_age': None, 'title': 'Weather San Diego in May 2025: Temperature & Climate', 'type': 'web_search_result', 'url': 'https://en.climate-data.org/north-america/united-states-of-america/california/san-diego-714969/t/may-5/'}, {'encrypted_content': 'EswKCioIAxgCIiQ4ODk4YTFkYy0yMTNkLTRhNmYtOTljYi03ZTBlNTUzZDc0NWISDKSkuKXSFxT9tf2WFhoML7qGIfv+XU5W5NS6IjAVkjRPH08xLPrKxNtF2hDWqMH2JGMnPOE19lxfDCbhRMNicpDsExDjuyCkDznwTD4qzwnZhzoCf4yBqUfcBdeKEHWvvN+Uj1uPofKF5hVGQblplJhsv9L7APj+oXvhUOL4vPy9+k/ABZrTMJgYp+ZFx+WgGCQfodwDpC/wRpnoC3vhs3QYBeb0JqhwK+OnDq5H2WTbP6mliK7udz0vvsmvLns+QKqNXGAaRdhqVdqE19axskrMU8/dyi1CVSLRkz1RqNOTCd6JWF0LW4IWO3q92au/JH/RbGC56Ffkm4Q3oLVlaBI4wnOU1hk5ntztYlWy8V9iMkDNfd/Pj0P3ZBoa42v4i4J16ZRTMGPxy2o6UHIZwSIIZpwbtz8VKMHX8SBPAY+J9f213JVme+P7yt3F3tFIJBuL4zxNXVPmUNYA3lnEnuMamTGrL2E2KSAXv5eY9PDCMl+Yzqk6QFKle6TCGxYmPij3vNcsBGwwIhzAAeQKy/z3fEtzx05MRSE1OtSgjdJd9Xd15GY6Xc9HR9zx6+ilBg+ku9Wom5FsK4tbq8eUaTsXJM88JdPJa14XyoLgtZNC5Be6haawD/0g7QXpl34M/J20ZXwqW4UdluH+0BMluEEELF8tItkPZn1lo8MiNeTgLLL4WsnGFKTHOjp2OJwp/ebUZ6hL3BLKMuQWcIloA+KGoZsrrJe6/0Faqq+jkvm77KzXuLRgbHY0BzXLcXJwCGf6ml9CaMQ2SyNGHyrqxn7OA8WWXB7EmRmepQ7ZisUawpO7/Qx0L+DXIT7Kv6cD7KwrbNWnh2Sk0y/5Go6MkH/7CFAHDrhXgU1fBYaEv0WGrO3T1jlaflKKN34D2jcu83leqtzD/6LYAZEqidQEoHGVMaj0GuSWimoSSRbrhp1cei3QXemyEoJOhyhBodcxyC8Vdx+Geanx30mjzugHF3WMwMDnpUKFQKW4GsQvBX2JdUIVwyFXMEj7ld2ygotAiGO/Q1IOFLMRKVVvxoGTySAspWfbgDl5ek79bfQhKgZyD2Eg74ngD8qVspiszy2mA6LHhk4frKoTIKWVQYFaTTCmFL4Z8GEqjhKVVPN9lcUypt+L9R4lHq4Fak5aBQwiFmdJuVnsJqxWtVwYU4Pu+CPDwdxkQURA2wO5QeKcm3q7QRP6EMTdU464/apHnVr2IPcyqxMG3jZBHZYGXSMIdkxXZk4S0AulwpMSQlUjs9PhUC5VyepmbydEYraCLTMDuPAVpQ6dt28SiVp8ky+tcrV2w6lNbfzPbEPn18Ea9bAwZrvU3u7HIMbwi718NUqClum6y9J2PsV690E7d2NK4vZTV484yMd/Srun+Vezu+JW6iJNexgFztPQTWoiflHGuFffIjL0bjwpCdUhuDTCpz0TeeENXcMMk0+bqN9GbLiU1/eQETYsvj7LLFvERjBhZr/6FlDP5cMmNdtpYBeK42HoB/w8e2ybPJRFXzWLTOpTSXeAyf4aCU60T23hyFiZfLyZmxDmrNNUMR7GshL1U0ubTAIqu4vaSYz3ditr4byFGX/ynNcHdOXpxq9XTASemhhNEPISYgGWO3sfTToVEpy6nYYkEljYLAQDyPVFdF7eJoAZOOm/tfHSSNtzR/uyd6j9bG4CDykVVOrNpay9HBkmA8ze9T5QyHgUlNZvb5OfAXKcfpHgHouPUOm0hi5ZD4tU7T71ObFbBnYn+qtHGAM=', 'page_age': None, 'title': 'San Diego weather in May 2025 | California, USA', 'type': 'web_search_result', 'url': 'https://www.weather2travel.com/california/san-diego/may/'}, {'encrypted_content': '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', 'page_age': '2 weeks ago', 'title': 'Weather in San Diego County in May 2025 - Detailed Forecast', 'type': 'web_search_result', 'url': 'https://www.easeweather.com/north-america/united-states/california/san-diego-county/may'}], 'tool_use_id': 'srvtoolu_01JPxGhiUdSBMumHPGrvFDah', 'type': 'web_search_tool_result'}, {'citations': None, 'text': \"\\n\\nBased on the search results, here's the current weather information for San Diego:\\n\\n\", 'type': 'text'}, {'citations': [{'cited_text': 'Warmer conditions will continue this week for <strong>San</strong> <strong>Diego</strong> County, with a cooling trend expected to move in early next ...', 'encrypted_index': 'Eo8BCioIAxgCIiQ4ODk4YTFkYy0yMTNkLTRhNmYtOTljYi03ZTBlNTUzZDc0NWISDBzHcjnhqfGC/3DaPBoM18SOWfCJqA9sf3wvIjCqp3fd14o/g40pDAV53lGhb4IAT4JLRtIrG4lxC4gBThiUrTPSc6X8wBjejGbI6f4qE8nI+23MVWK/kMt80yYGSzz4G0gYBA==', 'title': 'Warmer weather continues this week for San Diego County | KPBS Public Media', 'type': 'web_search_result_location', 'url': 'https://www.kpbs.org/news/quality-of-life/2025/05/09/warmer-weather-continues-this-week-for-san-diego-county'}, {'cited_text': 'Warmer conditions will continue this week for San Diego County, with a cooling trend expected to move in early next week, forecasters said Friday.', 'encrypted_index': 'Eo8BCioIAxgCIiQ4ODk4YTFkYy0yMTNkLTRhNmYtOTljYi03ZTBlNTUzZDc0NWISDF31SHJowUmQXLOjCRoMoYDzQDwcCG5MDjISIjChVdT8P17fCiDymyoCapQYxeSHJwHynbx2oIGoBDFgt2yM4llfAVUpw9YoHvTgDlYqE1KIIFxYQ0UF27nrYt5U5hPTgisYBA==', 'title': 'Warmer weather continues this week for San Diego County | KPBS Public Media', 'type': 'web_search_result_location', 'url': 'https://www.kpbs.org/news/quality-of-life/2025/05/09/warmer-weather-continues-this-week-for-san-diego-county'}], 'text': 'Warmer conditions are continuing this week for San Diego County, with a cooling trend expected to move in early next week.', 'type': 'text'}, {'citations': None, 'text': '\\n\\n', 'type': 'text'}, {'citations': [{'cited_text': 'Coastal San Diego will be partly cloudy over the weekend, with highs in the mid-70s, forecasters said.', 'encrypted_index': 'Eo8BCioIAxgCIiQ4ODk4YTFkYy0yMTNkLTRhNmYtOTljYi03ZTBlNTUzZDc0NWISDKpltLRn6LqhzlVOaBoMLnoJTxtS4yItwtMMIjD6qkBIw2uKIWplTKb8mOLPpiZEcvaK8t28VkokTFT5IkMYTY3M8OEjuB/Qw3cWVcYqEzyeYcC/zPY6/mwp3yVlFrDQ+gMYBA==', 'title': 'Warmer weather continues this week for San Diego County | KPBS Public Media', 'type': 'web_search_result_location', 'url': 'https://www.kpbs.org/news/quality-of-life/2025/05/09/warmer-weather-continues-this-week-for-san-diego-county'}], 'text': \"For the coastal areas of San Diego, it's partly cloudy with highs in the mid-70s.\", 'type': 'text'}, {'citations': None, 'text': '\\n\\n', 'type': 'text'}, {'citations': [{'cited_text': 'settings · San Diego, CA Weather Today WinterCast Local {stormName} Tracker Hourly Daily Radar MinuteCast Monthly Air Quality Health & Activities · Ne...', 'encrypted_index': 'Eo8BCioIAxgCIiQ4ODk4YTFkYy0yMTNkLTRhNmYtOTljYi03ZTBlNTUzZDc0NWISDGfK9XOaxuvH7bXDPRoMgYx87ehICaCrsg3/IjBPHYW85lsqFmTxxohTn4pJ4i2fhijuYWQb19xqPq/7S4RZB5S8hdV3gx8M+xVpDCcqEx0S+rSKc0jpGMPE0FjxMINERXwYBA==', 'title': 'San Diego, CA Monthly Weather | AccuWeather', 'type': 'web_search_result_location', 'url': 'https://www.accuweather.com/en/us/san-diego/92101/may-weather/347628'}], 'text': 'According to AccuWeather data, the temperature in San Diego today (May 12) appears to be around 71°F.', 'type': 'text'}, {'citations': None, 'text': '\\n\\n', 'type': 'text'}, {'citations': [{'cited_text': 'The average temperature during this month is around 61.9°F (16.6°C). Daytime highs typically reach about 68.5°F (20.3°C), providing perfect weather fo...', 'encrypted_index': 'EpMBCioIAxgCIiQ4ODk4YTFkYy0yMTNkLTRhNmYtOTljYi03ZTBlNTUzZDc0NWISDAooPo1We64fG7yRqRoMZT0l29Tbiz4aI9BKIjBr+/BRMQz1QoGul5Pq8lhlt4NqOFXU5YGyW301r5LN98yGXINA6mIIzewRuS49KC4qFyPXY2MFTH1epL1GtFh4GPhkoIcCaAHPGAQ=', 'title': 'Weather San Diego in May 2025: Temperature & Climate', 'type': 'web_search_result_location', 'url': 'https://en.climate-data.org/north-america/united-states-of-america/california/san-diego-714969/t/may-5/'}], 'text': 'San Diego typically experiences mild temperatures in May, with average temperatures around 61.9°F (16.6°C). Daytime highs usually reach about 68.5°F (20.3°C), while nighttime lows dip to approximately 56.3°F (13.5°C).', 'type': 'text'}, {'citations': None, 'text': '\\n\\n', 'type': 'text'}, {'citations': [{'cited_text': 'San Diego enjoys an average of 7.5 hours of sunshine per day in May. ', 'encrypted_index': 'EpABCioIAxgCIiQ4ODk4YTFkYy0yMTNkLTRhNmYtOTljYi03ZTBlNTUzZDc0NWISDJX4RDOu1VEjKFn1JhoMSsmx+uzSX7chKySzIjC1bOBYv+BE0vYQ7qKFki70cFOEZcBdD6Nl4y585IuMoVZGelnS95vWRS6N37VC3cYqFByoNztlbdG9bPCK2JtjGGaeUvGGGAQ=', 'title': 'Weather San Diego in May 2025: Temperature & Climate', 'type': 'web_search_result_location', 'url': 'https://en.climate-data.org/north-america/united-states-of-america/california/san-diego-714969/t/may-5/'}], 'text': 'The city generally enjoys about 7.5 hours of sunshine per day in May.', 'type': 'text'}, {'citations': None, 'text': '\\n\\n', 'type': 'text'}, {'citations': [{'cited_text': 'San Diego experiences minimal rainfall in May, with an average precipitation of just 10mm spread over approximately 2 rainy days. This makes May one o...', 'encrypted_index': 'EpMBCioIAxgCIiQ4ODk4YTFkYy0yMTNkLTRhNmYtOTljYi03ZTBlNTUzZDc0NWISDOakKJHKXgG9gAWq9xoMwAqdB+I30l5z9FmpIjAdmsjZfo2xef1NcMpe/sqRLJKkQ91M9ak32mj8X8RqAchJ9fCJvpovLiO+rh1IAswqF0LNP0iCnpM6Y54YeTpsZiX1L9g5t2TQGAQ=', 'title': 'Weather San Diego in May 2025: Temperature & Climate', 'type': 'web_search_result_location', 'url': 'https://en.climate-data.org/north-america/united-states-of-america/california/san-diego-714969/t/may-5/'}], 'text': 'Rainfall is minimal in May, with an average precipitation of just 10mm spread over approximately 2 rainy days, making it one of the drier months in the region.', 'type': 'text'}, {'citations': None, 'text': '\\n\\n', 'type': 'text'}, {'citations': [{'cited_text': 'Saturday will be the hottest day of the year so far with several record highs likely being set. ', 'encrypted_index': 'Eo8BCioIAxgCIiQ4ODk4YTFkYy0yMTNkLTRhNmYtOTljYi03ZTBlNTUzZDc0NWISDFpwYruHyZqOZ3jNIhoMVXfdxm9SU1kVE+YYIjDDuShvS2No74y2+KwylG3EOam0bEe8uduyO7XlKctAip4f1fQ4xM6JaNCPKUHSChAqEyP6o6rIlqbbNTqSrvLX2HjQFoYYBA==', 'title': \"San Diego's Weather Forecast for May 9, 2025: Record hot Saturday!\", 'type': 'web_search_result_location', 'url': 'https://www.10news.com/weather/san-diegos-weather-forecast-for-may-9-2025-record-hot-saturday'}, {'cited_text': 'Tomorrow will be the hottest day of the year so far with temperatures skyrocketing 10 to 25 degrees above average! ', 'encrypted_index': 'Eo8BCioIAxgCIiQ4ODk4YTFkYy0yMTNkLTRhNmYtOTljYi03ZTBlNTUzZDc0NWISDGwXuu0QloEwsvc60RoMi4kBWg7zFQ9YUCtYIjCFsKJ+e8x/yDK4lOGT6NUl1deZ64jnSqq8+hndwwhwOFQFM+sUei1EdXMbIzSGs5QqE+XABtV1pIZ38fFCc5D1PZZDRCgYBA==', 'title': \"San Diego's Weather Forecast for May 9, 2025: Record hot Saturday!\", 'type': 'web_search_result_location', 'url': 'https://www.10news.com/weather/san-diegos-weather-forecast-for-may-9-2025-record-hot-saturday'}], 'text': 'It\\'s worth noting that this past weekend (May 10) was particularly hot, with Saturday being described as \"the hottest day of the year so far\" with temperatures well above average.', 'type': 'text'}, {'citations': None, 'text': '\\n\\n', 'type': 'text'}, {'citations': [{'cited_text': 'The average sea temperature around San Diego in May is 17°C. There are usually 2 days with some rain in San Diego in May and the average monthly rainf...', 'encrypted_index': 'EpIBCioIAxgCIiQ4ODk4YTFkYy0yMTNkLTRhNmYtOTljYi03ZTBlNTUzZDc0NWISDISsWaswLOCNgj7bjBoMUoKGRKuh1Ulkr9o1IjAIXZE48EVM1fqsKzGRBEuwdjqaZ601gCQrN7dKdy51/7Hpz6vtAK0d9F3FSrWSWlAqFhE3KICoxkjg7SLtsIJvk25sYzQ74dkYBA==', 'title': 'San Diego weather in May 2025 | California, USA', 'type': 'web_search_result_location', 'url': 'https://www.weather2travel.com/california/san-diego/may/'}], 'text': 'For those interested in beach activities, the average sea temperature around San Diego in May is typically around 17°C (62.6°F), and there are usually only about 2 days with some rain during the month.', 'type': 'text'}]`\n",
       "- model: `claude-3-7-sonnet-20250219`\n",
       "- role: `assistant`\n",
       "- stop_reason: `end_turn`\n",
       "- stop_sequence: `None`\n",
       "- type: `message`\n",
       "- usage: `{'cache_creation_input_tokens': 8848, 'cache_read_input_tokens': 2687, 'input_tokens': 11, 'output_tokens': 544, 'server_tool_use': {'web_search_requests': 1}}`\n",
       "\n",
       "</details>"
      ],
      "text/plain": [
       "Message(id='msg_016mueHoM2CSUBv7XhYD2h23', content=[TextBlock(citations=None, text=\"I'll check the current weather in San Diego for you.\", type='text'), ServerToolUseBlock(id='srvtoolu_01JPxGhiUdSBMumHPGrvFDah', input={'query': 'San Diego weather forecast today May 12 2025'}, name='web_search', type='server_tool_use'), WebSearchToolResultBlock(content=[WebSearchResultBlock(encrypted_content='Eq8GCioIAxgCIiQ4ODk4YTFkYy0yMTNkLTRhNmYtOTljYi03ZTBlNTUzZDc0NWISDKGysPeV9R0fO1Tk/xoMYX9NzQ4+oRzUXoJdIjAxHaPhLz0/dL1EzMOyoptWBJfjFBgINCLltoGG2JZ1d8XofMaVKACGr9+QQaWPkRsqsgUQd2QsWzOGkkaZOs++AU8v1jvXbrnODZie8hJCxWJRTB8SyLrxH078lZ6nkA3M1I7Oi7Feu7V62DpvSKCD7T1z6NUlspnQHyxQkJ/hiEGL16wlROnc32omcSRy4af4zsaxAVtEaiK4RHQ3ap56dz9t+8lmw5rFiOq4DFbEa6qN9k3iogLOnUgEE3N45Drzp+tQU7gHqfuamazRSZ2+z8JKA/WZYBKcbH8nazx+HYpvW0YiuYBKEgMboS+n98/gE3G0LxNfoRyUaNywmP85jd9/YwJeY5VTtdtTz7KKiZ4/zLUHH//asyzAnKvVOaXDLO5gYyFvhtbY5WQsOBM+WPJDwT58PH7LP0/LqWthGUYh3Nd0r4qSoqOS9WAv1fMT2cKjY/iALwTPJR9L4N7rE8sX/sGh4/VtM9JrUzcqKP9gzarlpD0SCQwGLhDluAACGISpJ1NJUW6f6srK972EtB2w5pUXk10t19AlTMBgy+PUsOKD2L3YTGP1e6wE19fNlx2MZZBwZZt0nQmc4iI86868u8Sv9dAAxLHWEAwrGYzPhSdLD0yDj07GVyx1tw87HYN8aQgO20q6u+QReT66d8HuS1dE30B9fQ8JX71vlViUUVvivw9ZhhRAk70ISeMQaDSQIKQs38buHZH7GITEdFUmOv5jVI3KCwSaVT3XMdH12JZYkVC/GNNpFQaVJXrsIh+uvkS/KMVRhleuRMexhyuc6zuO6k2cwhw7z+jtTDNp1rdpRq3BId2vrWd/KE+btV72232xW1D6fhN24xD6FrprrLah1FvxgSRTaJbcQbffq2UIFwwKeCjjyU2KFjAQiJqzQgl/rqPRP1Evkg90phyQGRbb42wx80QeeJ5FsR4g+9mttE3os6rMEEc2oypOVFwN7tSKpfV7MBiMNefnGawcWesYAw==', page_age='2 days ago', title='Warmer weather continues this week for San Diego County | KPBS Public Media', type='web_search_result', url='https://www.kpbs.org/news/quality-of-life/2025/05/09/warmer-weather-continues-this-week-for-san-diego-county'), WebSearchResultBlock(encrypted_content='ErgECioIAxgCIiQ4ODk4YTFkYy0yMTNkLTRhNmYtOTljYi03ZTBlNTUzZDc0NWISDNxnAMXanY5XwAkMPhoM98vFzQx6KyLRmUkDIjBfMXyGyLjDs778zhA+k7sEAJbB6MG/i5JdQWaZRjM5qUSpkNVR0m7DvVsAY7WyV2wquwN6so5IXDSbsCJ7M81KliM+mKjWueF9bhbJKzMiDNAur1W8N1tTP3oQXr/Xp9tn8fNbXMqORoWAaRUpi5Ld/4X8xY8ikfKVOGwxJTkYgJpy3g+DVjgSFipYloRBEQ38QwZ+WBOt4uXNWWZtLsVWiMrFkN3zlrpsK604AUYjGMoaFD0VCS6pXCBW66gVCQBqEXuvXEFU0SHscT4q7ROcI9g1VeylN72ze8UD5YWQby481hiLwrjFTrgJj7Aim1Ch8AnTt4C46C4NGwIgBbqBcHGQkt42Lb7Pd0YT4jPffsGYI1nJLAtFsz5y8DY+gJ7Bb2+84p/k4kxoGxk6x4jgONhxDnCH8TygpDOQCBjGWLbfqHJiuA+QoLDYGDhsbdyOfJ8Mxx/olMXWz9QdOP/EWvExo3+zULvtYp3hNP2aY8fXiReteIqFGqu9mcUVBkU+Qvez7bJRQttZDEaVSX593/3NKXTKsSbnC4Tdxr7jKnu5YkJ0iRq1CaYNqOri2MszeuMIABKD+mhkprEFNJW6pC5eu+L4iSIBG9dfiBERGcCpaa+sKDJMpu4KqyB7JwhOl7xdjjgQExnSixyzTBgD', page_age='2 days ago', title='Heat Advisory issued May 9 at 8:31PM PDT until May 10 at 9:00PM PDT by NWS San Diego CA - KESQ', type='web_search_result', url='https://kesq.com/weather/alerts-weather/2025/05/09/heat-advisory-issued-may-9-at-831pm-pdt-until-may-10-at-900pm-pdt-by-nws-san-diego-ca/'), WebSearchResultBlock(encrypted_content='ErMHCioIAxgCIiQ4ODk4YTFkYy0yMTNkLTRhNmYtOTljYi03ZTBlNTUzZDc0NWISDCVuQBSHKPEyt0FMqRoMln/6IyV/IWn6ikhyIjC/35BlZG/wAivBQ20ubUmOyORDmIVsgmH83Slzeopkm/8CZf8yH2WjUz82cFr8Y0QqtgaDwb0YejnSD9NRYBbBYQnE02xs13jC2wY0zHhOCGglU9kxy7RwsObuGWp+adC5VZtHsBJsI3VMn2ljq3b5yBZ2PQE6xegQb2u4FYbmT5xDY1w7U0Iyj5KK7A/dgYKeSJiKevfTupU9/D3WEiHn1p4hg7T6UDXg+q3jzY6ZN/OFZacl8tU1vsOEiOKupKva46GaaLGzeJhcpDYRd6d7bSB6eZ3cLqk3UpiItHifcIDI83Q8o5xeLl+NFg2Bm0bn/aibwW1aTi3AzPpAPQ2uzrBdLYdhocXcSpxq1Oe5Tw+MJFrc0bgCgY6tJTnh+ucUY/WD5smuq/mQ57nFZ4XeRMkzaOsU1fRfTgt2i/ga2FNgxm7kH4zUT9XANZI2LjvIdMpzwgUAAICMYRfvp6C90Zod+oV4KLmaGd+Ue9EqWPWV9cBickaTdTNB4aLbPcvlZNDLiVhV0v9NL5mWbmdqKCl3Pt5MuJkPmmrl6jJG9ejJV+8W+/7PKguutmMQa1VA1ie29Sd3ijfA3JAeSBfjj7Zo6xqFsut8N9YE5gvi/yOv4AzHu8WF8Oe8wACf/MHZu+NzNNaZfmkAhNPykIDwzhEkPo1iK/RcsQ7hUGtsn5F/u2ZrkdZMzS+kdyPllyXTSIImrZKhC1UTzbcZnVfpuUmMZUU4DEIb4WiSnX8ds1J7W0/x4oCIeXLxDxQSOLGq2a8TLudY80IhaLsWVNzr/gy2DZyVj2cjA/s2RF6ATQV4W4OdafcQqiAn2InaGswKdKuLXRa74fFnrunmij7FF8OjQnlloOgJraHduF2gvEZpou7ugfb1Y/FjbZDl2xkjf/oSp4FSXXb8utlruxMF9SP3k7mlQE6VXl+PbruHnEhGhVf8M3Xv7WpGAvziETUqpHSJKg7Aihkim9i7GW69wzmAOTyhGLMtrgUJflrvTP/8m4M92ecP7ktGMKJZyMEh/v0TUB858DDh+dQ87ZZTqv+Ap+mM986+jaqHgY2LBeTlp75JJaz0XQ/4k+1n//kzWxRGSEV+2IJHNka+Y+J6TJcl5AHIrSdqe+sxkeErbCu7q7pQzM2/V1knI8rc5e4z4FuKCxSurh4YAw==', page_age='3 days ago', title=\"San Diego's Weather Forecast for May 9, 2025: Record hot Saturday!\", type='web_search_result', url='https://www.10news.com/weather/san-diegos-weather-forecast-for-may-9-2025-record-hot-saturday'), WebSearchResultBlock(encrypted_content='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', page_age=None, title='San Diego, CA Monthly Weather | AccuWeather', type='web_search_result', url='https://www.accuweather.com/en/us/san-diego/92101/may-weather/347628'), WebSearchResultBlock(encrypted_content='EqsDCioIAxgCIiQ4ODk4YTFkYy0yMTNkLTRhNmYtOTljYi03ZTBlNTUzZDc0NWISDL9hUDmTorkx0mSSnBoMzkXQ53k+xSZ1RG7WIjCi9jeOmRu/8v189fpog/Wp4zBv7JQAlGX3ezUMf7rQARJbfyekGpxhlWG8+jUCZJUqrgKfz532BIuFRYYnW03LVJfuB2IQ56Ym38Szd1LDzrZP/i2uZr4rsC7TT8JQcirjiLQOeOvpcoUj6r/u7YdkgHbvdL7O6df5hu883fI3+HgsY9J3EBBQfr2FYsGS7iJVJd73+3+7RnomnKo7o5TJOL6PyFTn9jhLwtqkiQjtbUUKXQ6/81t8d+523Fg9BWdIuR6FnoJYrAa1gxVB3pcMchNePnC73cLo9sB4LRi9188DNDERVvFMulUYTj1BH5iCMyR05ROcvCIYvqSCQ65k+UyEMvha4aE3GxXxzzCIY39yz7/feH4DDcGJ/o0eF1uFPpdyDT8P6qV7d2fWl6aZiNo/K8jWbAtR7MpV38DuK96HUNou8l/WkTc5OLCmcMbfz7bR2LB2NIxmGdRv7RIDPxgD', page_age=None, title='60-Day Extended Weather Forecast for San Diego, CA | Almanac.com', type='web_search_result', url='https://www.almanac.com/weather/longrange/CA/San%20Diego'), WebSearchResultBlock(encrypted_content='EvIHCioIAxgCIiQ4ODk4YTFkYy0yMTNkLTRhNmYtOTljYi03ZTBlNTUzZDc0NWISDBEl06SeqQWqM30MxBoMgmO9v+Y5C9ROfXm3IjDWhKv+TlRmUmC11Sxogz0fsCnMUNEahBHvvfaSne/indJjRHr3HZtRg/GM/qnrbkMq9QYvyMD/lOshaCuN4eeuoDHRNa8LgGno2MatcG22H5ZOQSLNowEAEs1zLyr11pkNiZGktB9NWcblo/pRbCyw9NGymdSIpseorwp1Utl5zh1kmlLHLV6P/Oh9HivzO6kWhPPA1I3WRTIDfAFGDr/lkUlBxTDgpvrqB5R9154lb1aJx400Lt8eNhqldSGSK2mGTilPJ6Q7O5mWKAtGBJ51kJU7DlbU2NIb8nfeYTAWx+T7/gwP+LSIUHNWtEM3B9hv+6S/9WfKu/NAVKgKC2KLRmOaKNEzXFJEFBmfpZ98z1cI2dYekj8eLirpdbM2JV5Mrol78VA6plY2NbbH68tPNESwa7//RZXK+rtMuwSLORnB2rsvMhhDaBGOTpfr/alZlBmoXdqKWSHZA64NAhiXaT8w+2UD8RjXI1b7sL7PzO1PbMomJ4pUOwS8dCxGiv6QVSvA3UnkOLbEKz9SYN/us2ySHAkbIzGyHoI3ZMxGHidTPQGsn7aZWr0hxzWOPH6fMGTpkuUsJtkr0w26ddZY17DQPHWoUDzR5WC7Nd4OHrnTi1fDie4/N9/PR8XNatr3Eeqo7A9LSgoMHOK+/jZBlb+pL57ryBy3gPXCyD4G3AaqiUN4IwZH3HixAHnbQjJ1Zm0ktZvXOEwbXBCDWLSfesxajRvgyDWEu87a+kaTiDZUmlM/WD2mfT4a/XdcQ5apE7LGLZq82IZ+xrDBwoEOJGmhlBsh/bpBJXnO1CXLUmLIkKx9Fh95PlhhdbZkuZsTgMXwLAzojaR/oHHVTcabkyRNDXVzeAolMaF1dhpOJjOB8JbpjvDRFWd9OYSWjQ2DFEGP1nZ83CwUPPGVfxngGVa8HGODBz241StNS0WTSIEqf9jKyCerancbvoNbHTsBe3rF6Athnu/i76tkuN412+cmlF/8V41umbrXd+7N6Sr5afaR8bIn37h8Nd/ugCzgAzW3EdeJC2xjZM1nyOA38Qkfh9WP0dVZSYvLUWXbFDWEZ7hRzrfoDfsGxuwIQ/lYIBttxEyj2GuqeqbZDibN4j9VEQ3yPt6Waac8MZC5tulXCejra5HTCRVAJU3fnvtQ0ETOcUOkksUWwckULekIYxCaH4llJQqgfvaaRi6mEyfnTYyjQC6mIw9T9FO3XzjLO6UaJqjT+ayEbeiHGywBEP468OsKvLkYAw==', page_age=None, title='San Diego weather in May 2025 | San Diego 14 day weather', type='web_search_result', url='https://www.weather25.com/north-america/usa/california/san-diego?page=month&month=May'), WebSearchResultBlock(encrypted_content='EvADCioIAxgCIiQ4ODk4YTFkYy0yMTNkLTRhNmYtOTljYi03ZTBlNTUzZDc0NWISDBJbpLlnhKZaxSaaMhoMSh9ZqfJ+vCg92ZG+IjCHtuEkhK5f13uIn0z3/1oODrxNbjfWtWrrjmFInwVOtMO4PnIUXTK50hL65aqhzqEq8wKhDB6QSbtgVTQHjU1IzbWQpHtI7KiK99r4/rF3hNcukzk0yCG6LhofRbsJtKRubEvJt15okpoHfTFEMBcrAvVG/ekLfGSKudKuBU5/Ccpl7CpfiCbZRLdI5ds6LOFg9mLZZhmuOwQNc65Dpe6K8nl/3yIq8JY2szawpk358YXXY+xr1lHVP1x6OdbmKhbP+u7eSKilnJ/hK+S9VAKQBqV7ySHCAfTNtzKL+EV+twc84xQVTeiiioczOPof8CGhPx0PoCkS130zsRR78DWIKSOcuuBMAx5m4gkEyl/km6zShQpzMRYVa8H1q15YCp55wbjwlS1D8+unjbvFAlxDevOW3lfmGLyH3PGtfYcEnv8tYOT2cU2TQ/i6HYBnDBerpaIjbQuDW5O913oE6Hy8/hXsxRHQJzZ+pviIFMIXBZuUAqGc9AG1rn7Z+F052FBiI38ectGtz4BvsJhsNesMrUoBrnSGIT8YqkJqHwA9gSLVliPDyhgD', page_age=None, title='Weather in San Diego in May 2025 (California) - detailed Weather Forecast for a month', type='web_search_result', url='https://world-weather.info/forecast/usa/san_diego/may-2025/'), WebSearchResultBlock(encrypted_content='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', page_age=None, title='Weather San Diego in May 2025: Temperature & Climate', type='web_search_result', url='https://en.climate-data.org/north-america/united-states-of-america/california/san-diego-714969/t/may-5/'), WebSearchResultBlock(encrypted_content='EswKCioIAxgCIiQ4ODk4YTFkYy0yMTNkLTRhNmYtOTljYi03ZTBlNTUzZDc0NWISDKSkuKXSFxT9tf2WFhoML7qGIfv+XU5W5NS6IjAVkjRPH08xLPrKxNtF2hDWqMH2JGMnPOE19lxfDCbhRMNicpDsExDjuyCkDznwTD4qzwnZhzoCf4yBqUfcBdeKEHWvvN+Uj1uPofKF5hVGQblplJhsv9L7APj+oXvhUOL4vPy9+k/ABZrTMJgYp+ZFx+WgGCQfodwDpC/wRpnoC3vhs3QYBeb0JqhwK+OnDq5H2WTbP6mliK7udz0vvsmvLns+QKqNXGAaRdhqVdqE19axskrMU8/dyi1CVSLRkz1RqNOTCd6JWF0LW4IWO3q92au/JH/RbGC56Ffkm4Q3oLVlaBI4wnOU1hk5ntztYlWy8V9iMkDNfd/Pj0P3ZBoa42v4i4J16ZRTMGPxy2o6UHIZwSIIZpwbtz8VKMHX8SBPAY+J9f213JVme+P7yt3F3tFIJBuL4zxNXVPmUNYA3lnEnuMamTGrL2E2KSAXv5eY9PDCMl+Yzqk6QFKle6TCGxYmPij3vNcsBGwwIhzAAeQKy/z3fEtzx05MRSE1OtSgjdJd9Xd15GY6Xc9HR9zx6+ilBg+ku9Wom5FsK4tbq8eUaTsXJM88JdPJa14XyoLgtZNC5Be6haawD/0g7QXpl34M/J20ZXwqW4UdluH+0BMluEEELF8tItkPZn1lo8MiNeTgLLL4WsnGFKTHOjp2OJwp/ebUZ6hL3BLKMuQWcIloA+KGoZsrrJe6/0Faqq+jkvm77KzXuLRgbHY0BzXLcXJwCGf6ml9CaMQ2SyNGHyrqxn7OA8WWXB7EmRmepQ7ZisUawpO7/Qx0L+DXIT7Kv6cD7KwrbNWnh2Sk0y/5Go6MkH/7CFAHDrhXgU1fBYaEv0WGrO3T1jlaflKKN34D2jcu83leqtzD/6LYAZEqidQEoHGVMaj0GuSWimoSSRbrhp1cei3QXemyEoJOhyhBodcxyC8Vdx+Geanx30mjzugHF3WMwMDnpUKFQKW4GsQvBX2JdUIVwyFXMEj7ld2ygotAiGO/Q1IOFLMRKVVvxoGTySAspWfbgDl5ek79bfQhKgZyD2Eg74ngD8qVspiszy2mA6LHhk4frKoTIKWVQYFaTTCmFL4Z8GEqjhKVVPN9lcUypt+L9R4lHq4Fak5aBQwiFmdJuVnsJqxWtVwYU4Pu+CPDwdxkQURA2wO5QeKcm3q7QRP6EMTdU464/apHnVr2IPcyqxMG3jZBHZYGXSMIdkxXZk4S0AulwpMSQlUjs9PhUC5VyepmbydEYraCLTMDuPAVpQ6dt28SiVp8ky+tcrV2w6lNbfzPbEPn18Ea9bAwZrvU3u7HIMbwi718NUqClum6y9J2PsV690E7d2NK4vZTV484yMd/Srun+Vezu+JW6iJNexgFztPQTWoiflHGuFffIjL0bjwpCdUhuDTCpz0TeeENXcMMk0+bqN9GbLiU1/eQETYsvj7LLFvERjBhZr/6FlDP5cMmNdtpYBeK42HoB/w8e2ybPJRFXzWLTOpTSXeAyf4aCU60T23hyFiZfLyZmxDmrNNUMR7GshL1U0ubTAIqu4vaSYz3ditr4byFGX/ynNcHdOXpxq9XTASemhhNEPISYgGWO3sfTToVEpy6nYYkEljYLAQDyPVFdF7eJoAZOOm/tfHSSNtzR/uyd6j9bG4CDykVVOrNpay9HBkmA8ze9T5QyHgUlNZvb5OfAXKcfpHgHouPUOm0hi5ZD4tU7T71ObFbBnYn+qtHGAM=', page_age=None, title='San Diego weather in May 2025 | California, USA', type='web_search_result', url='https://www.weather2travel.com/california/san-diego/may/'), WebSearchResultBlock(encrypted_content='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', page_age='2 weeks ago', title='Weather in San Diego County in May 2025 - Detailed Forecast', type='web_search_result', url='https://www.easeweather.com/north-america/united-states/california/san-diego-county/may')], tool_use_id='srvtoolu_01JPxGhiUdSBMumHPGrvFDah', type='web_search_tool_result'), TextBlock(citations=None, text=\"\\n\\nBased on the search results, here's the current weather information for San Diego:\\n\\n\", type='text'), TextBlock(citations=[CitationsWebSearchResultLocation(cited_text='Warmer conditions will continue this week for <strong>San</strong> <strong>Diego</strong> County, with a cooling trend expected to move in early next ...', encrypted_index='Eo8BCioIAxgCIiQ4ODk4YTFkYy0yMTNkLTRhNmYtOTljYi03ZTBlNTUzZDc0NWISDBzHcjnhqfGC/3DaPBoM18SOWfCJqA9sf3wvIjCqp3fd14o/g40pDAV53lGhb4IAT4JLRtIrG4lxC4gBThiUrTPSc6X8wBjejGbI6f4qE8nI+23MVWK/kMt80yYGSzz4G0gYBA==', title='Warmer weather continues this week for San Diego County | KPBS Public Media', type='web_search_result_location', url='https://www.kpbs.org/news/quality-of-life/2025/05/09/warmer-weather-continues-this-week-for-san-diego-county'), CitationsWebSearchResultLocation(cited_text='Warmer conditions will continue this week for San Diego County, with a cooling trend expected to move in early next week, forecasters said Friday.', encrypted_index='Eo8BCioIAxgCIiQ4ODk4YTFkYy0yMTNkLTRhNmYtOTljYi03ZTBlNTUzZDc0NWISDF31SHJowUmQXLOjCRoMoYDzQDwcCG5MDjISIjChVdT8P17fCiDymyoCapQYxeSHJwHynbx2oIGoBDFgt2yM4llfAVUpw9YoHvTgDlYqE1KIIFxYQ0UF27nrYt5U5hPTgisYBA==', title='Warmer weather continues this week for San Diego County | KPBS Public Media', type='web_search_result_location', url='https://www.kpbs.org/news/quality-of-life/2025/05/09/warmer-weather-continues-this-week-for-san-diego-county')], text='Warmer conditions are continuing this week for San Diego County, with a cooling trend expected to move in early next week.', type='text'), TextBlock(citations=None, text='\\n\\n', type='text'), TextBlock(citations=[CitationsWebSearchResultLocation(cited_text='Coastal San Diego will be partly cloudy over the weekend, with highs in the mid-70s, forecasters said.', encrypted_index='Eo8BCioIAxgCIiQ4ODk4YTFkYy0yMTNkLTRhNmYtOTljYi03ZTBlNTUzZDc0NWISDKpltLRn6LqhzlVOaBoMLnoJTxtS4yItwtMMIjD6qkBIw2uKIWplTKb8mOLPpiZEcvaK8t28VkokTFT5IkMYTY3M8OEjuB/Qw3cWVcYqEzyeYcC/zPY6/mwp3yVlFrDQ+gMYBA==', title='Warmer weather continues this week for San Diego County | KPBS Public Media', type='web_search_result_location', url='https://www.kpbs.org/news/quality-of-life/2025/05/09/warmer-weather-continues-this-week-for-san-diego-county')], text=\"For the coastal areas of San Diego, it's partly cloudy with highs in the mid-70s.\", type='text'), TextBlock(citations=None, text='\\n\\n', type='text'), TextBlock(citations=[CitationsWebSearchResultLocation(cited_text='settings · San Diego, CA Weather Today WinterCast Local {stormName} Tracker Hourly Daily Radar MinuteCast Monthly Air Quality Health & Activities · Ne...', encrypted_index='Eo8BCioIAxgCIiQ4ODk4YTFkYy0yMTNkLTRhNmYtOTljYi03ZTBlNTUzZDc0NWISDGfK9XOaxuvH7bXDPRoMgYx87ehICaCrsg3/IjBPHYW85lsqFmTxxohTn4pJ4i2fhijuYWQb19xqPq/7S4RZB5S8hdV3gx8M+xVpDCcqEx0S+rSKc0jpGMPE0FjxMINERXwYBA==', title='San Diego, CA Monthly Weather | AccuWeather', type='web_search_result_location', url='https://www.accuweather.com/en/us/san-diego/92101/may-weather/347628')], text='According to AccuWeather data, the temperature in San Diego today (May 12) appears to be around 71°F.', type='text'), TextBlock(citations=None, text='\\n\\n', type='text'), TextBlock(citations=[CitationsWebSearchResultLocation(cited_text='The average temperature during this month is around 61.9°F (16.6°C). Daytime highs typically reach about 68.5°F (20.3°C), providing perfect weather fo...', encrypted_index='EpMBCioIAxgCIiQ4ODk4YTFkYy0yMTNkLTRhNmYtOTljYi03ZTBlNTUzZDc0NWISDAooPo1We64fG7yRqRoMZT0l29Tbiz4aI9BKIjBr+/BRMQz1QoGul5Pq8lhlt4NqOFXU5YGyW301r5LN98yGXINA6mIIzewRuS49KC4qFyPXY2MFTH1epL1GtFh4GPhkoIcCaAHPGAQ=', title='Weather San Diego in May 2025: Temperature & Climate', type='web_search_result_location', url='https://en.climate-data.org/north-america/united-states-of-america/california/san-diego-714969/t/may-5/')], text='San Diego typically experiences mild temperatures in May, with average temperatures around 61.9°F (16.6°C). Daytime highs usually reach about 68.5°F (20.3°C), while nighttime lows dip to approximately 56.3°F (13.5°C).', type='text'), TextBlock(citations=None, text='\\n\\n', type='text'), TextBlock(citations=[CitationsWebSearchResultLocation(cited_text='San Diego enjoys an average of 7.5 hours of sunshine per day in May. ', encrypted_index='EpABCioIAxgCIiQ4ODk4YTFkYy0yMTNkLTRhNmYtOTljYi03ZTBlNTUzZDc0NWISDJX4RDOu1VEjKFn1JhoMSsmx+uzSX7chKySzIjC1bOBYv+BE0vYQ7qKFki70cFOEZcBdD6Nl4y585IuMoVZGelnS95vWRS6N37VC3cYqFByoNztlbdG9bPCK2JtjGGaeUvGGGAQ=', title='Weather San Diego in May 2025: Temperature & Climate', type='web_search_result_location', url='https://en.climate-data.org/north-america/united-states-of-america/california/san-diego-714969/t/may-5/')], text='The city generally enjoys about 7.5 hours of sunshine per day in May.', type='text'), TextBlock(citations=None, text='\\n\\n', type='text'), TextBlock(citations=[CitationsWebSearchResultLocation(cited_text='San Diego experiences minimal rainfall in May, with an average precipitation of just 10mm spread over approximately 2 rainy days. This makes May one o...', encrypted_index='EpMBCioIAxgCIiQ4ODk4YTFkYy0yMTNkLTRhNmYtOTljYi03ZTBlNTUzZDc0NWISDOakKJHKXgG9gAWq9xoMwAqdB+I30l5z9FmpIjAdmsjZfo2xef1NcMpe/sqRLJKkQ91M9ak32mj8X8RqAchJ9fCJvpovLiO+rh1IAswqF0LNP0iCnpM6Y54YeTpsZiX1L9g5t2TQGAQ=', title='Weather San Diego in May 2025: Temperature & Climate', type='web_search_result_location', url='https://en.climate-data.org/north-america/united-states-of-america/california/san-diego-714969/t/may-5/')], text='Rainfall is minimal in May, with an average precipitation of just 10mm spread over approximately 2 rainy days, making it one of the drier months in the region.', type='text'), TextBlock(citations=None, text='\\n\\n', type='text'), TextBlock(citations=[CitationsWebSearchResultLocation(cited_text='Saturday will be the hottest day of the year so far with several record highs likely being set. ', encrypted_index='Eo8BCioIAxgCIiQ4ODk4YTFkYy0yMTNkLTRhNmYtOTljYi03ZTBlNTUzZDc0NWISDFpwYruHyZqOZ3jNIhoMVXfdxm9SU1kVE+YYIjDDuShvS2No74y2+KwylG3EOam0bEe8uduyO7XlKctAip4f1fQ4xM6JaNCPKUHSChAqEyP6o6rIlqbbNTqSrvLX2HjQFoYYBA==', title=\"San Diego's Weather Forecast for May 9, 2025: Record hot Saturday!\", type='web_search_result_location', url='https://www.10news.com/weather/san-diegos-weather-forecast-for-may-9-2025-record-hot-saturday'), CitationsWebSearchResultLocation(cited_text='Tomorrow will be the hottest day of the year so far with temperatures skyrocketing 10 to 25 degrees above average! ', encrypted_index='Eo8BCioIAxgCIiQ4ODk4YTFkYy0yMTNkLTRhNmYtOTljYi03ZTBlNTUzZDc0NWISDGwXuu0QloEwsvc60RoMi4kBWg7zFQ9YUCtYIjCFsKJ+e8x/yDK4lOGT6NUl1deZ64jnSqq8+hndwwhwOFQFM+sUei1EdXMbIzSGs5QqE+XABtV1pIZ38fFCc5D1PZZDRCgYBA==', title=\"San Diego's Weather Forecast for May 9, 2025: Record hot Saturday!\", type='web_search_result_location', url='https://www.10news.com/weather/san-diegos-weather-forecast-for-may-9-2025-record-hot-saturday')], text='It\\'s worth noting that this past weekend (May 10) was particularly hot, with Saturday being described as \"the hottest day of the year so far\" with temperatures well above average.', type='text'), TextBlock(citations=None, text='\\n\\n', type='text'), TextBlock(citations=[CitationsWebSearchResultLocation(cited_text='The average sea temperature around San Diego in May is 17°C. There are usually 2 days with some rain in San Diego in May and the average monthly rainf...', encrypted_index='EpIBCioIAxgCIiQ4ODk4YTFkYy0yMTNkLTRhNmYtOTljYi03ZTBlNTUzZDc0NWISDISsWaswLOCNgj7bjBoMUoKGRKuh1Ulkr9o1IjAIXZE48EVM1fqsKzGRBEuwdjqaZ601gCQrN7dKdy51/7Hpz6vtAK0d9F3FSrWSWlAqFhE3KICoxkjg7SLtsIJvk25sYzQ74dkYBA==', title='San Diego weather in May 2025 | California, USA', type='web_search_result_location', url='https://www.weather2travel.com/california/san-diego/may/')], text='For those interested in beach activities, the average sea temperature around San Diego in May is typically around 17°C (62.6°F), and there are usually only about 2 days with some rain during the month.', type='text')], model='claude-3-7-sonnet-20250219', role='assistant', stop_reason='end_turn', stop_sequence=None, type='message', usage=In: 11; Out: 544; Cache create: 8848; Cache read: 2687; Total Tokens: 12090; Server tool use (web search requests): 1)"
      ]
     },
     "execution_count": null,
     "metadata": {},
     "output_type": "execute_result"
    }
   ],
   "source": [
    "chat = Chat(model, sp=sp, tools=[search_conf()], cache=True)\n",
    "pr = 'What is the weather in San Diego?'\n",
    "r = chat(pr)\n",
    "r"
   ]
  },
  {
   "cell_type": "code",
   "execution_count": null,
   "id": "8a6fd09b",
   "metadata": {},
   "outputs": [],
   "source": [
    "#| exports\n",
    "def get_costs(c):\n",
    "    costs = pricing[model_types[c.model]]\n",
    "    \n",
    "    inp_cost = c.use.input_tokens * costs[0] / 1e6\n",
    "    out_cost = c.use.output_tokens * costs[1] / 1e6\n",
    "\n",
    "    cache_w = c.use.cache_creation_input_tokens   \n",
    "    cache_r = c.use.cache_read_input_tokens\n",
    "    cache_cost = cache_w * costs[2] + cache_r * costs[3] / 1e6\n",
    "\n",
    "    server_tool_use = c.use.server_tool_use\n",
    "    server_tool_cost = server_tool_use.web_search_requests * server_tool_pricing['web_search_requests'] / 1e3\n",
    "    return inp_cost, out_cost, cache_cost, cache_w + cache_r, server_tool_cost"
   ]
  },
  {
   "cell_type": "code",
   "execution_count": null,
   "id": "9a17591f",
   "metadata": {},
   "outputs": [],
   "source": [
    "#| exports\n",
    "@patch\n",
    "def _repr_markdown_(self:Client):\n",
    "    if not hasattr(self,'result'): return 'No results yet'\n",
    "    msg = contents(self.result)\n",
    "    inp_cost, out_cost, cache_cost, cached_toks, server_tool_cost = get_costs(self)\n",
    "    return f\"\"\"{msg}\n",
    "\n",
    "| Metric | Count | Cost (USD) |\n",
    "|--------|------:|-----:|\n",
    "| Input tokens | {self.use.input_tokens:,} | {inp_cost:.6f} |\n",
    "| Output tokens | {self.use.output_tokens:,} | {out_cost:.6f} |\n",
    "| Cache tokens | {cached_toks:,} | {cache_cost:.6f} |\n",
    "| Server tool use | {self.use.server_tool_use.web_search_requests:,} | {server_tool_cost:.6f} |\n",
    "| **Total** | **{self.use.total:,}** | **${self.cost:.6f}** |\"\"\""
   ]
  },
  {
   "cell_type": "code",
   "execution_count": null,
   "id": "0219fed9",
   "metadata": {},
   "outputs": [
    {
     "data": {
      "text/markdown": [
       "I'll check the current weather in San Diego for you.\n",
       "\n",
       "*Tool Use Type - web_search*\n",
       "\n",
       "Based on the search results, here's the current weather information for San Diego:\n",
       "\n",
       "Warmer conditions are continuing this week for San Diego County, with a cooling trend expected to move in early next week. [1] [2]\n",
       "\n",
       "\n",
       "\n",
       "For the coastal areas of San Diego, it's partly cloudy with highs in the mid-70s. [3]\n",
       "\n",
       "\n",
       "\n",
       "According to AccuWeather data, the temperature in San Diego today (May 12) appears to be around 71°F. [4]\n",
       "\n",
       "\n",
       "\n",
       "San Diego typically experiences mild temperatures in May, with average temperatures around 61.9°F (16.6°C). Daytime highs usually reach about 68.5°F (20.3°C), while nighttime lows dip to approximately 56.3°F (13.5°C). [5]\n",
       "\n",
       "\n",
       "\n",
       "The city generally enjoys about 7.5 hours of sunshine per day in May. [6]\n",
       "\n",
       "\n",
       "\n",
       "Rainfall is minimal in May, with an average precipitation of just 10mm spread over approximately 2 rainy days, making it one of the drier months in the region. [7]\n",
       "\n",
       "\n",
       "\n",
       "It's worth noting that this past weekend (May 10) was particularly hot, with Saturday being described as \"the hottest day of the year so far\" with temperatures well above average. [8] [9]\n",
       "\n",
       "\n",
       "\n",
       "For those interested in beach activities, the average sea temperature around San Diego in May is typically around 17°C (62.6°F), and there are usually only about 2 days with some rain during the month. [10]\n",
       "\n",
       "[1]: https://www.kpbs.org/news/quality-of-life/2025/05/09/warmer-weather-continues-this-week-for-san-diego-county\n",
       "[2]: https://www.kpbs.org/news/quality-of-life/2025/05/09/warmer-weather-continues-this-week-for-san-diego-county\n",
       "[3]: https://www.kpbs.org/news/quality-of-life/2025/05/09/warmer-weather-continues-this-week-for-san-diego-county\n",
       "[4]: https://www.accuweather.com/en/us/san-diego/92101/may-weather/347628\n",
       "[5]: https://en.climate-data.org/north-america/united-states-of-america/california/san-diego-714969/t/may-5/\n",
       "[6]: https://en.climate-data.org/north-america/united-states-of-america/california/san-diego-714969/t/may-5/\n",
       "[7]: https://en.climate-data.org/north-america/united-states-of-america/california/san-diego-714969/t/may-5/\n",
       "[8]: https://www.10news.com/weather/san-diegos-weather-forecast-for-may-9-2025-record-hot-saturday\n",
       "[9]: https://www.10news.com/weather/san-diegos-weather-forecast-for-may-9-2025-record-hot-saturday\n",
       "[10]: https://www.weather2travel.com/california/san-diego/may/\n",
       "\n",
       "<details>\n",
       "<summary>History</summary>\n",
       "\n",
       "**user**: {'type': 'text', 'text': 'What is the weather in San Diego?', 'cache_control': {'type': 'ephemeral'}}\n",
       "\n",
       "**assistant**: *Tool Use Type - web_search*\n",
       "</details>\n",
       "\n",
       "| Metric | Count | Cost (USD) |\n",
       "|--------|------:|-----:|\n",
       "| Input tokens | 11 | 0.000033 |\n",
       "| Output tokens | 544 | 0.008160 |\n",
       "| Cache tokens | 11,535 | 33180.000806 |\n",
       "| Server tool use | 1 | 0.010000 |\n",
       "| **Total** | **12,090** | **$0.052179** |"
      ],
      "text/plain": [
       "<__main__.Chat>"
      ]
     },
     "execution_count": null,
     "metadata": {},
     "output_type": "execute_result"
    }
   ],
   "source": [
    "chat"
   ]
  },
  {
   "cell_type": "code",
   "execution_count": null,
   "id": "8b0f38c1",
   "metadata": {},
   "outputs": [
    {
     "data": {
      "text/plain": [
       "(0.0521791,\n",
       " In: 11; Out: 544; Cache create: 8848; Cache read: 2687; Total Tokens: 12090; Server tool use (web search requests): 1)"
      ]
     },
     "execution_count": null,
     "metadata": {},
     "output_type": "execute_result"
    }
   ],
   "source": [
    "chat.cost, chat.use"
   ]
  },
  {
   "cell_type": "markdown",
   "id": "b1580f5c",
   "metadata": {},
   "source": [
    "## Third party providers"
   ]
  },
  {
   "cell_type": "markdown",
   "id": "bd88f878",
   "metadata": {},
   "source": [
    "### Amazon Bedrock"
   ]
  },
  {
   "cell_type": "markdown",
   "id": "a6ecba86",
   "metadata": {},
   "source": [
    "These are Amazon's current Claude models:"
   ]
  },
  {
   "cell_type": "code",
   "execution_count": null,
   "id": "81d16826",
   "metadata": {},
   "outputs": [
    {
     "data": {
      "text/plain": [
       "['claude-3-5-haiku-20241022',\n",
       " 'claude-3-7-sonnet-20250219',\n",
       " 'anthropic.claude-3-opus-20240229-v1:0',\n",
       " 'anthropic.claude-3-5-sonnet-20241022-v2:0']"
      ]
     },
     "execution_count": null,
     "metadata": {},
     "output_type": "execute_result"
    }
   ],
   "source": [
    "models_aws"
   ]
  },
  {
   "cell_type": "markdown",
   "id": "7a194f45",
   "metadata": {},
   "source": [
    ":::{.callout-note}\n",
    "\n",
    "`anthropic` at version 0.34.2 seems not to install `boto3` as a dependency. You may need to do a `pip install boto3` or the creation of the `Client` below fails.\n",
    "\n",
    ":::"
   ]
  },
  {
   "cell_type": "markdown",
   "id": "9b8b2bc4",
   "metadata": {},
   "source": [
    "Provided `boto3` is installed, we otherwise don't need any extra code to support Amazon Bedrock -- we just have to set up the approach client:"
   ]
  },
  {
   "cell_type": "code",
   "execution_count": null,
   "id": "08cb7585",
   "metadata": {},
   "outputs": [],
   "source": [
    "ab = AnthropicBedrock(\n",
    "    aws_access_key=os.environ['AWS_ACCESS_KEY'],\n",
    "    aws_secret_key=os.environ['AWS_SECRET_KEY'],\n",
    ")\n",
    "client = Client(models_aws[-1], ab)"
   ]
  },
  {
   "cell_type": "code",
   "execution_count": null,
   "id": "f1f2f214",
   "metadata": {},
   "outputs": [],
   "source": [
    "chat = Chat(cli=client)"
   ]
  },
  {
   "cell_type": "code",
   "execution_count": null,
   "id": "ec54a422",
   "metadata": {},
   "outputs": [],
   "source": [
    "chat(\"I'm Jeremy\")"
   ]
  },
  {
   "cell_type": "markdown",
   "id": "1b331146",
   "metadata": {},
   "source": [
    "### Google Vertex"
   ]
  },
  {
   "cell_type": "code",
   "execution_count": null,
   "id": "fdb46839",
   "metadata": {},
   "outputs": [],
   "source": [
    "models_goog"
   ]
  },
  {
   "cell_type": "code",
   "execution_count": null,
   "id": "30921ab4",
   "metadata": {},
   "outputs": [],
   "source": [
    "from anthropic import AnthropicVertex\n",
    "import google.auth"
   ]
  },
  {
   "cell_type": "code",
   "execution_count": null,
   "id": "c00ef664",
   "metadata": {},
   "outputs": [],
   "source": [
    "project_id = google.auth.default()[1]\n",
    "region = \"us-east5\"\n",
    "gv = AnthropicVertex(project_id=project_id, region=region)\n",
    "client = Client(models_goog[-1], gv)"
   ]
  },
  {
   "cell_type": "code",
   "execution_count": null,
   "id": "7d0481b5",
   "metadata": {},
   "outputs": [],
   "source": [
    "chat = Chat(cli=client)"
   ]
  },
  {
   "cell_type": "code",
   "execution_count": null,
   "id": "11006ae0",
   "metadata": {},
   "outputs": [],
   "source": [
    "chat(\"I'm Jeremy\")"
   ]
  },
  {
   "cell_type": "markdown",
   "id": "94ec4289",
   "metadata": {},
   "source": [
    "## Export -"
   ]
  },
  {
   "cell_type": "code",
   "execution_count": null,
   "id": "1e9ee5c1",
   "metadata": {},
   "outputs": [],
   "source": [
    "#|hide\n",
    "#|eval: false\n",
    "from nbdev.doclinks import nbdev_export\n",
    "nbdev_export()"
   ]
  },
  {
   "cell_type": "code",
   "execution_count": null,
   "id": "12a64c67",
   "metadata": {},
   "outputs": [],
   "source": []
  }
 ],
 "metadata": {
  "kernelspec": {
   "display_name": "python3",
   "language": "python",
   "name": "python3"
  }
 },
 "nbformat": 4,
 "nbformat_minor": 5
}
