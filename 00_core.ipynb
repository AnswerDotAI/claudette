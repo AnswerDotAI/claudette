{
 "cells": [
  {
   "cell_type": "code",
   "execution_count": null,
   "id": "efe78920",
   "metadata": {},
   "outputs": [],
   "source": [
    "#|default_exp core"
   ]
  },
  {
   "cell_type": "markdown",
   "id": "3d773712-12fe-440e-891f-36f59666dfde",
   "metadata": {},
   "source": [
    "# Claudette's source"
   ]
  },
  {
   "cell_type": "markdown",
   "id": "c47b5d38",
   "metadata": {},
   "source": [
    "This is the 'literate' source code for Claudette. You can view the fully rendered version of the notebook [here](https://claudette.answer.ai/core.html), or you can clone the git repo and run the [interactive notebook](https://github.com/AnswerDotAI/claudette/blob/main/00_core.ipynb) in Jupyter. The notebook is converted the [Python module claudette/core.py](https://github.com/AnswerDotAI/claudette/blob/main/claudette/core.py) using [nbdev](https://nbdev.fast.ai/). The goal of this source code is to both create the Python module, and also to teach the reader *how* it is created, without assuming much existing knowledge about Claude's API.\n",
    "\n",
    "Most of the time you'll see that we write some source code *first*, and then a description or discussion of it *afterwards*."
   ]
  },
  {
   "cell_type": "markdown",
   "id": "ff6f6471-8061-4fdd-85a1-25fdc27c5cf3",
   "metadata": {},
   "source": [
    "## Setup"
   ]
  },
  {
   "cell_type": "code",
   "execution_count": null,
   "id": "f1ad998e-4bb1-4bed-abf4-6e8606cb2453",
   "metadata": {},
   "outputs": [],
   "source": [
    "import os\n",
    "# os.environ['ANTHROPIC_LOG'] = 'debug'"
   ]
  },
  {
   "cell_type": "markdown",
   "id": "5b16f396",
   "metadata": {},
   "source": [
    "To print every HTTP request and response in full, uncomment the above line. This functionality is provided by Anthropic's SDK."
   ]
  },
  {
   "cell_type": "code",
   "execution_count": null,
   "id": "033c76fd",
   "metadata": {},
   "outputs": [],
   "source": [
    "#| export\n",
    "import inspect, typing, json\n",
    "from collections import abc\n",
    "try: from IPython import display\n",
    "except: display=None\n",
    "from typing import get_type_hints\n",
    "from functools import wraps\n",
    "\n",
    "from anthropic import Anthropic, AnthropicBedrock, AnthropicVertex\n",
    "from anthropic.types import (Usage, TextBlock, ServerToolUseBlock,\n",
    "                             WebSearchToolResultBlock, Message, ToolUseBlock,\n",
    "                             ThinkingBlock, ServerToolUsage)\n",
    "from anthropic.resources import messages\n",
    "\n",
    "import toolslm\n",
    "from toolslm.funccall import *\n",
    "\n",
    "from fastcore.meta import delegates\n",
    "from fastcore.utils import *\n",
    "from msglm import mk_msg_anthropic as mk_msg, mk_msgs_anthropic as mk_msgs"
   ]
  },
  {
   "cell_type": "code",
   "execution_count": null,
   "id": "13866a72",
   "metadata": {},
   "outputs": [],
   "source": [
    "#| hide\n",
    "from nbdev import show_doc\n",
    "\n",
    "# Used to show available models from the anthropic SDK\n",
    "from anthropic.types import Model\n",
    "from claudette.text_editor import *\n",
    "from typing import get_args\n",
    "from datetime import datetime\n",
    "from pprint import pprint\n",
    "\n",
    "import warnings\n",
    "\n",
    "warnings.filterwarnings(\"ignore\", message=\"Pydantic serializer warnings\")"
   ]
  },
  {
   "cell_type": "code",
   "execution_count": null,
   "id": "c1cefa1e",
   "metadata": {},
   "outputs": [],
   "source": [
    "#| export\n",
    "_all_ = ['mk_msg', 'mk_msgs']"
   ]
  },
  {
   "cell_type": "code",
   "execution_count": null,
   "id": "f5fa6b92",
   "metadata": {},
   "outputs": [],
   "source": [
    "#| export\n",
    "empty = inspect.Parameter.empty"
   ]
  },
  {
   "cell_type": "markdown",
   "id": "9c3c2197",
   "metadata": {},
   "source": [
    ":::{.callout-tip}\n",
    "\n",
    "If you're reading the rendered version of this notebook, you'll see an \"Exported source\" collapsible widget below. If you're reading the source notebook directly, you'll see `#| exports` at the top of the cell. These show that this piece of code will be exported into the python module that this notebook creates. No other code will be included -- any other code in this notebook is just for demonstration, documentation, and testing.\n",
    "\n",
    "You can toggle expanding/collapsing the source code of all exported sections by using the `</> Code` menu in the top right of the rendered notebook page.\n",
    "\n",
    ":::"
   ]
  },
  {
   "cell_type": "code",
   "execution_count": null,
   "id": "0fff8869",
   "metadata": {},
   "outputs": [],
   "source": [
    "#| exports\n",
    "\n",
    "model_types = {\n",
    "    # Anthropic\n",
    "    'claude-3-opus-20240229': 'opus',\n",
    "    'claude-3-7-sonnet-20250219': 'sonnet',\n",
    "    'claude-3-5-sonnet-20241022': 'sonnet-3-5',\n",
    "    'claude-3-haiku-20240307': 'haiku-3',\n",
    "    'claude-3-5-haiku-20241022': 'haiku-3-5',\n",
    "    # AWS\n",
    "    'anthropic.claude-3-opus-20240229-v1:0': 'opus',\n",
    "    'anthropic.claude-3-5-sonnet-20241022-v2:0': 'sonnet',\n",
    "    'anthropic.claude-3-sonnet-20240229-v1:0': 'sonnet',\n",
    "    'anthropic.claude-3-haiku-20240307-v1:0': 'haiku',\n",
    "    # Google\n",
    "    'claude-3-opus@20240229': 'opus',\n",
    "    'claude-3-5-sonnet-v2@20241022': 'sonnet',\n",
    "    'claude-3-sonnet@20240229': 'sonnet',\n",
    "    'claude-3-haiku@20240307': 'haiku',\n",
    "}\n",
    "\n",
    "all_models = list(model_types)"
   ]
  },
  {
   "cell_type": "markdown",
   "id": "e52e764f",
   "metadata": {},
   "source": [
    "Warning: between Anthropic SDK 0.4.2 and 0.4.7 the interface to the `Model` type changed."
   ]
  },
  {
   "cell_type": "code",
   "execution_count": null,
   "id": "f237bd2e",
   "metadata": {},
   "outputs": [
    {
     "data": {
      "text/plain": [
       "typing.Union[typing.Literal['claude-3-7-sonnet-latest', 'claude-3-7-sonnet-20250219', 'claude-3-5-haiku-latest', 'claude-3-5-haiku-20241022', 'claude-3-5-sonnet-latest', 'claude-3-5-sonnet-20241022', 'claude-3-5-sonnet-20240620', 'claude-3-opus-latest', 'claude-3-opus-20240229', 'claude-3-sonnet-20240229', 'claude-3-haiku-20240307', 'claude-2.1', 'claude-2.0'], str]"
      ]
     },
     "execution_count": null,
     "metadata": {},
     "output_type": "execute_result"
    }
   ],
   "source": [
    "#|hide\n",
    "\n",
    "# Full list of models via the anthropic SDK for reference. Not all models are surfaced by Claudette.\n",
    "Model"
   ]
  },
  {
   "cell_type": "code",
   "execution_count": null,
   "id": "4f03dcad",
   "metadata": {},
   "outputs": [],
   "source": [
    "#| export\n",
    "models = all_models[:5]"
   ]
  },
  {
   "cell_type": "code",
   "execution_count": null,
   "id": "c8490b08",
   "metadata": {},
   "outputs": [
    {
     "data": {
      "text/plain": [
       "['claude-3-opus-20240229',\n",
       " 'claude-3-7-sonnet-20250219',\n",
       " 'claude-3-5-sonnet-20241022',\n",
       " 'claude-3-haiku-20240307',\n",
       " 'claude-3-5-haiku-20241022']"
      ]
     },
     "execution_count": null,
     "metadata": {},
     "output_type": "execute_result"
    }
   ],
   "source": [
    "models"
   ]
  },
  {
   "cell_type": "code",
   "execution_count": null,
   "id": "53a6d47a",
   "metadata": {},
   "outputs": [],
   "source": [
    "#| export\n",
    "models_aws = ['claude-3-5-haiku-20241022',\n",
    " 'claude-3-7-sonnet-20250219',\n",
    " 'anthropic.claude-3-opus-20240229-v1:0',\n",
    " 'anthropic.claude-3-5-sonnet-20241022-v2:0']"
   ]
  },
  {
   "cell_type": "code",
   "execution_count": null,
   "id": "f3ed4f95",
   "metadata": {},
   "outputs": [],
   "source": [
    "#| export\n",
    "models_goog = ['anthropic.claude-3-sonnet-20240229-v1:0',\n",
    " 'anthropic.claude-3-haiku-20240307-v1:0',\n",
    " 'claude-3-opus@20240229',\n",
    " 'claude-3-5-sonnet-v2@20241022',\n",
    " 'claude-3-sonnet@20240229',\n",
    " 'claude-3-haiku@20240307']"
   ]
  },
  {
   "cell_type": "code",
   "execution_count": null,
   "id": "669696aa",
   "metadata": {},
   "outputs": [],
   "source": [
    "#| exports\n",
    "text_only_models = ('claude-3-5-haiku-20241022',)"
   ]
  },
  {
   "cell_type": "code",
   "execution_count": null,
   "id": "2411f28d",
   "metadata": {},
   "outputs": [],
   "source": [
    "#| exports\n",
    "has_streaming_models = set(all_models)\n",
    "has_system_prompt_models = set(all_models)\n",
    "has_temperature_models = set(all_models)\n",
    "has_extended_thinking_models = {'claude-3-7-sonnet-20250219'}"
   ]
  },
  {
   "cell_type": "code",
   "execution_count": null,
   "id": "980bfdfb",
   "metadata": {},
   "outputs": [
    {
     "data": {
      "text/plain": [
       "{'anthropic.claude-3-5-sonnet-20241022-v2:0',\n",
       " 'anthropic.claude-3-haiku-20240307-v1:0',\n",
       " 'anthropic.claude-3-opus-20240229-v1:0',\n",
       " 'anthropic.claude-3-sonnet-20240229-v1:0',\n",
       " 'claude-3-5-haiku-20241022',\n",
       " 'claude-3-5-sonnet-20241022',\n",
       " 'claude-3-5-sonnet-v2@20241022',\n",
       " 'claude-3-7-sonnet-20250219',\n",
       " 'claude-3-haiku-20240307',\n",
       " 'claude-3-haiku@20240307',\n",
       " 'claude-3-opus-20240229',\n",
       " 'claude-3-opus@20240229',\n",
       " 'claude-3-sonnet@20240229'}"
      ]
     },
     "execution_count": null,
     "metadata": {},
     "output_type": "execute_result"
    }
   ],
   "source": [
    "has_streaming_models"
   ]
  },
  {
   "cell_type": "code",
   "execution_count": null,
   "id": "12a68d54",
   "metadata": {},
   "outputs": [],
   "source": [
    "#| exports\n",
    "\n",
    "def can_stream(m): return m in has_streaming_models\n",
    "def can_set_system_prompt(m): return m in has_system_prompt_models\n",
    "def can_set_temperature(m): return m in has_temperature_models\n",
    "def can_use_extended_thinking(m): return m in has_extended_thinking_models"
   ]
  },
  {
   "cell_type": "markdown",
   "id": "0dd0ba8f",
   "metadata": {},
   "source": [
    "We include these functions to provide a uniform library interface with cosette since openai models such as o1 do not have many of these capabilities."
   ]
  },
  {
   "cell_type": "code",
   "execution_count": null,
   "id": "55036062",
   "metadata": {},
   "outputs": [],
   "source": [
    "assert can_stream('claude-3-5-sonnet-20241022') and can_set_system_prompt('claude-3-5-sonnet-20241022') and can_set_temperature('claude-3-5-sonnet-20241022')"
   ]
  },
  {
   "cell_type": "markdown",
   "id": "ba6c7f48",
   "metadata": {},
   "source": [
    "These are the current versions and [prices](https://www.anthropic.com/pricing#anthropic-api) of Anthropic's models at the time of writing."
   ]
  },
  {
   "cell_type": "code",
   "execution_count": null,
   "id": "dacf2bd2",
   "metadata": {},
   "outputs": [
    {
     "data": {
      "text/plain": [
       "'claude-3-7-sonnet-20250219'"
      ]
     },
     "execution_count": null,
     "metadata": {},
     "output_type": "execute_result"
    }
   ],
   "source": [
    "model = models[1]; model"
   ]
  },
  {
   "cell_type": "markdown",
   "id": "71985a9c",
   "metadata": {},
   "source": [
    "For examples, we'll use Sonnet 3.5, since it's awesome."
   ]
  },
  {
   "cell_type": "markdown",
   "id": "863d4d81",
   "metadata": {},
   "source": [
    "## Antropic SDK"
   ]
  },
  {
   "cell_type": "code",
   "execution_count": null,
   "id": "70b53a51",
   "metadata": {},
   "outputs": [],
   "source": [
    "cli = Anthropic()"
   ]
  },
  {
   "cell_type": "markdown",
   "id": "23055b40",
   "metadata": {},
   "source": [
    "This is what Anthropic's SDK provides for interacting with Python. To use it, pass it a list of *messages*, with *content* and a *role*. The roles should alternate between *user* and *assistant*."
   ]
  },
  {
   "cell_type": "markdown",
   "id": "b2db9466",
   "metadata": {},
   "source": [
    ":::{.callout-tip}\n",
    "\n",
    "After the code below you'll see an indented section with an orange vertical line on the left. This is used to show the *result* of running the code above. Because the code is running in a Jupyter Notebook, we don't have to use `print` to display results, we can just type the expression directly, as we do with `r` here.\n",
    "\n",
    ":::"
   ]
  },
  {
   "cell_type": "code",
   "execution_count": null,
   "id": "6ec40731",
   "metadata": {},
   "outputs": [
    {
     "data": {
      "text/markdown": [
       "Hello Jeremy! It's nice to meet you. How are you doing today? Is there anything I can help you with or something you'd like to talk about?\n",
       "\n",
       "<details>\n",
       "\n",
       "- id: `msg_01YTFnV5W6dv72G56yVgETgc`\n",
       "- content: `[{'citations': None, 'text': \"Hello Jeremy! It's nice to meet you. How are you doing today? Is there anything I can help you with or something you'd like to talk about?\", 'type': 'text'}]`\n",
       "- model: `claude-3-7-sonnet-20250219`\n",
       "- role: `assistant`\n",
       "- stop_reason: `end_turn`\n",
       "- stop_sequence: `None`\n",
       "- type: `message`\n",
       "- usage: `{'cache_creation_input_tokens': 0, 'cache_read_input_tokens': 0, 'input_tokens': 10, 'output_tokens': 36, 'server_tool_use': None}`\n",
       "\n",
       "</details>"
      ],
      "text/plain": [
       "Message(id='msg_01YTFnV5W6dv72G56yVgETgc', content=[TextBlock(citations=None, text=\"Hello Jeremy! It's nice to meet you. How are you doing today? Is there anything I can help you with or something you'd like to talk about?\", type='text')], model='claude-3-7-sonnet-20250219', role='assistant', stop_reason='end_turn', stop_sequence=None, type='message', usage=In: 10; Out: 36; Cache create: 0; Cache read: 0; Total Tokens: 46; Server tool use (web search requests): 0)"
      ]
     },
     "execution_count": null,
     "metadata": {},
     "output_type": "execute_result"
    }
   ],
   "source": [
    "m = {'role': 'user', 'content': \"I'm Jeremy\"}\n",
    "r = cli.messages.create(messages=[m], model=model, max_tokens=100)\n",
    "r"
   ]
  },
  {
   "cell_type": "markdown",
   "id": "d6359e1a",
   "metadata": {},
   "source": [
    "### Formatting output"
   ]
  },
  {
   "cell_type": "markdown",
   "id": "865c40a9",
   "metadata": {},
   "source": [
    "That output is pretty long and hard to read, so let's clean it up. We'll start by pulling out the `Content` part of the message.\n",
    "To do that, we're going to write our first function which will be included to the `claudette/core.py` module."
   ]
  },
  {
   "cell_type": "markdown",
   "id": "e42e5d44",
   "metadata": {},
   "source": [
    ":::{.callout-tip}\n",
    "\n",
    "This is the first exported public function or class we're creating (the previous export was of a variable). In the rendered version of the notebook for these you'll see 4 things, in this order (unless the symbol starts with a single `_`, which indicates it's *private*):\n",
    "\n",
    "- The signature (with the symbol name as a heading, with a horizontal rule above)\n",
    "- A table of paramater docs (if provided)\n",
    "- The doc string (in italics).\n",
    "- The source code (in a collapsible \"Exported source\" block)\n",
    "\n",
    "After that, we generally provide a bit more detail on what we've created, and why, along with a sample usage.\n",
    "\n",
    ":::"
   ]
  },
  {
   "cell_type": "code",
   "execution_count": null,
   "id": "eba620ce",
   "metadata": {},
   "outputs": [],
   "source": [
    "#| exports\n",
    "def find_block(r:abc.Mapping, # The message to look in\n",
    "               blk_type:type=TextBlock  # The type of block to find\n",
    "              ):\n",
    "    \"Find the first block of type `blk_type` in `r.content`.\"\n",
    "    return first(o for o in r.content if isinstance(o,blk_type))"
   ]
  },
  {
   "cell_type": "markdown",
   "id": "1fa93ca1",
   "metadata": {},
   "source": [
    "This makes it easier to grab the needed parts of Claude's responses, which can include multiple pieces of content. By default, we look for the first text block. That will generally have the content we want to display."
   ]
  },
  {
   "cell_type": "code",
   "execution_count": null,
   "id": "10af0e65",
   "metadata": {},
   "outputs": [
    {
     "data": {
      "text/plain": [
       "TextBlock(citations=None, text=\"Hello Jeremy! It's nice to meet you. How are you doing today? Is there anything I can help you with or something you'd like to talk about?\", type='text')"
      ]
     },
     "execution_count": null,
     "metadata": {},
     "output_type": "execute_result"
    }
   ],
   "source": [
    "find_block(r)"
   ]
  },
  {
   "cell_type": "code",
   "execution_count": null,
   "id": "ae99799d",
   "metadata": {},
   "outputs": [],
   "source": [
    "def contents(r):\n",
    "    \"Helper to get the contents from Claude response `r`.\"\n",
    "    blk = find_block(r)\n",
    "    if not blk and r.content: blk = r.content[0]\n",
    "    return blk.text.strip() if hasattr(blk,'text') else str(blk)"
   ]
  },
  {
   "cell_type": "markdown",
   "id": "ffb59427",
   "metadata": {},
   "source": [
    "For display purposes, we often just want to show the text itself."
   ]
  },
  {
   "cell_type": "code",
   "execution_count": null,
   "id": "6d5f2107",
   "metadata": {},
   "outputs": [
    {
     "data": {
      "text/plain": [
       "\"Hello Jeremy! It's nice to meet you. How are you doing today? Is there anything I can help you with or something you'd like to talk about?\""
      ]
     },
     "execution_count": null,
     "metadata": {},
     "output_type": "execute_result"
    }
   ],
   "source": [
    "contents(r)"
   ]
  },
  {
   "cell_type": "code",
   "execution_count": null,
   "id": "17924d0c",
   "metadata": {},
   "outputs": [],
   "source": [
    "#| exports\n",
    "@patch\n",
    "def _repr_markdown_(self:(Message)):\n",
    "    det = '\\n- '.join(f'{k}: `{v}`' for k,v in self.model_dump().items())\n",
    "    cts = re.sub(r'\\$', '&#36;', contents(self))  # escape `$` for jupyter latex\n",
    "    return f\"\"\"{cts}\n",
    "\n",
    "<details>\n",
    "\n",
    "- {det}\n",
    "\n",
    "</details>\"\"\""
   ]
  },
  {
   "cell_type": "markdown",
   "id": "3764d112",
   "metadata": {},
   "source": [
    "Jupyter looks for a `_repr_markdown_` method in displayed objects; we add this in order to display just the content text, and collapse full details into a hideable section. Note that `patch` is from [fastcore](https://fastcore.fast.ai/), and is used to add (or replace) functionality in an existing class. We pass the class(es) that we want to patch as type annotations to `self`. In this case, `_repr_markdown_` is being added to Anthropic's `Message` class, so when we display the message now we just see the contents, and the details are hidden away in a collapsible details block."
   ]
  },
  {
   "cell_type": "code",
   "execution_count": null,
   "id": "cfd85eeb",
   "metadata": {},
   "outputs": [
    {
     "data": {
      "text/markdown": [
       "Hello Jeremy! It's nice to meet you. How are you doing today? Is there anything I can help you with or something you'd like to talk about?\n",
       "\n",
       "<details>\n",
       "\n",
       "- id: `msg_01YTFnV5W6dv72G56yVgETgc`\n",
       "- content: `[{'citations': None, 'text': \"Hello Jeremy! It's nice to meet you. How are you doing today? Is there anything I can help you with or something you'd like to talk about?\", 'type': 'text'}]`\n",
       "- model: `claude-3-7-sonnet-20250219`\n",
       "- role: `assistant`\n",
       "- stop_reason: `end_turn`\n",
       "- stop_sequence: `None`\n",
       "- type: `message`\n",
       "- usage: `{'cache_creation_input_tokens': 0, 'cache_read_input_tokens': 0, 'input_tokens': 10, 'output_tokens': 36, 'server_tool_use': None}`\n",
       "\n",
       "</details>"
      ],
      "text/plain": [
       "Message(id='msg_01YTFnV5W6dv72G56yVgETgc', content=[TextBlock(citations=None, text=\"Hello Jeremy! It's nice to meet you. How are you doing today? Is there anything I can help you with or something you'd like to talk about?\", type='text')], model='claude-3-7-sonnet-20250219', role='assistant', stop_reason='end_turn', stop_sequence=None, type='message', usage=In: 10; Out: 36; Cache create: 0; Cache read: 0; Total Tokens: 46; Server tool use (web search requests): 0)"
      ]
     },
     "execution_count": null,
     "metadata": {},
     "output_type": "execute_result"
    }
   ],
   "source": [
    "r"
   ]
  },
  {
   "cell_type": "markdown",
   "id": "8615447e",
   "metadata": {},
   "source": [
    "One key part of the response is the `usage` key, which tells us how many tokens we used by returning a `Usage` object.\n",
    "\n",
    "We'll add some helpers to make things a bit cleaner for creating and formatting these objects."
   ]
  },
  {
   "cell_type": "code",
   "execution_count": null,
   "id": "10c7466f",
   "metadata": {},
   "outputs": [
    {
     "data": {
      "text/plain": [
       "In: 10; Out: 36; Cache create: 0; Cache read: 0; Total Tokens: 46; Server tool use (web search requests): 0"
      ]
     },
     "execution_count": null,
     "metadata": {},
     "output_type": "execute_result"
    }
   ],
   "source": [
    "r.usage"
   ]
  },
  {
   "cell_type": "code",
   "execution_count": null,
   "id": "56d7e83f",
   "metadata": {},
   "outputs": [],
   "source": [
    "#| exports\n",
    "def server_tool_usage(web_search_requests=0):\n",
    "    'Little helper to create a server tool usage object'\n",
    "    return ServerToolUsage(web_search_requests=web_search_requests)"
   ]
  },
  {
   "cell_type": "code",
   "execution_count": null,
   "id": "b1a24f68",
   "metadata": {},
   "outputs": [],
   "source": [
    "#| exports\n",
    "def usage(inp=0, # input tokens\n",
    "          out=0,  # Output tokens\n",
    "          cache_create=0, # Cache creation tokens\n",
    "          cache_read=0, # Cache read tokens\n",
    "          server_tool_use=server_tool_usage() # server tool use\n",
    "         ):\n",
    "    'Slightly more concise version of `Usage`.'\n",
    "    return Usage(input_tokens=inp, output_tokens=out, cache_creation_input_tokens=cache_create,\n",
    "                 cache_read_input_tokens=cache_read, server_tool_use=server_tool_use)"
   ]
  },
  {
   "cell_type": "markdown",
   "id": "2184ec7f",
   "metadata": {},
   "source": [
    "The constructor provided by Anthropic is rather verbose, so we clean it up a bit, using a lowercase version of the name."
   ]
  },
  {
   "cell_type": "code",
   "execution_count": null,
   "id": "a7e52afd",
   "metadata": {},
   "outputs": [
    {
     "data": {
      "text/plain": [
       "In: 5; Out: 0; Cache create: 0; Cache read: 0; Total Tokens: 5; Server tool use (web search requests): 0"
      ]
     },
     "execution_count": null,
     "metadata": {},
     "output_type": "execute_result"
    }
   ],
   "source": [
    "usage(5)"
   ]
  },
  {
   "cell_type": "code",
   "execution_count": null,
   "id": "2db64da5",
   "metadata": {},
   "outputs": [],
   "source": [
    "#| exports\n",
    "def _dgetattr(o,s,d): \n",
    "    \"Like getattr, but returns the default if the result is None\"\n",
    "    return getattr(o,s,d) or d\n",
    "\n",
    "@patch(as_prop=True)\n",
    "def total(self:Usage): return self.input_tokens+self.output_tokens+_dgetattr(self, \"cache_creation_input_tokens\",0)+_dgetattr(self, \"cache_read_input_tokens\",0)"
   ]
  },
  {
   "cell_type": "markdown",
   "id": "5363afa4",
   "metadata": {},
   "source": [
    "Adding a `total` property to `Usage` makes it easier to see how many tokens we've used up altogether."
   ]
  },
  {
   "cell_type": "code",
   "execution_count": null,
   "id": "74553203",
   "metadata": {},
   "outputs": [
    {
     "data": {
      "text/plain": [
       "6"
      ]
     },
     "execution_count": null,
     "metadata": {},
     "output_type": "execute_result"
    }
   ],
   "source": [
    "usage(5,1).total"
   ]
  },
  {
   "cell_type": "code",
   "execution_count": null,
   "id": "27468180",
   "metadata": {},
   "outputs": [],
   "source": [
    "#| exports\n",
    "@patch\n",
    "def __repr__(self:Usage):\n",
    "    io_toks = f'In: {self.input_tokens}; Out: {self.output_tokens}'\n",
    "    cache_toks = f'Cache create: {_dgetattr(self, \"cache_creation_input_tokens\",0)}; Cache read: {_dgetattr(self, \"cache_read_input_tokens\",0)}'\n",
    "    server_tool_use = _dgetattr(self, \"server_tool_use\",server_tool_usage())\n",
    "    server_tool_use_str = f'Server tool use (web search requests): {server_tool_use.web_search_requests}'\n",
    "    total_tok = f'Total Tokens: {self.total}'\n",
    "    return f'{io_toks}; {cache_toks}; {total_tok}; {server_tool_use_str}'"
   ]
  },
  {
   "cell_type": "markdown",
   "id": "dbbf7024",
   "metadata": {},
   "source": [
    "In python, patching `__repr__` lets us change how an object is displayed. (More generally, methods starting and ending in `__` in Python are called `dunder` methods, and have some `magic` behavior -- such as, in this case, changing how an object is displayed.) We won't be directly displaying ServerToolUsage's, so we can handle its display behavior in the same Usage `__repr__`"
   ]
  },
  {
   "cell_type": "code",
   "execution_count": null,
   "id": "b8af5068",
   "metadata": {},
   "outputs": [
    {
     "data": {
      "text/plain": [
       "In: 5; Out: 0; Cache create: 0; Cache read: 0; Total Tokens: 5; Server tool use (web search requests): 0"
      ]
     },
     "execution_count": null,
     "metadata": {},
     "output_type": "execute_result"
    }
   ],
   "source": [
    "usage(5)"
   ]
  },
  {
   "cell_type": "code",
   "execution_count": null,
   "id": "4a9886af",
   "metadata": {},
   "outputs": [],
   "source": [
    "#| exports\n",
    "@patch\n",
    "def __add__(self:ServerToolUsage, b):\n",
    "    \"Add together each of the server tool use counts\"\n",
    "    return ServerToolUsage(web_search_requests=self.web_search_requests+b.web_search_requests)"
   ]
  },
  {
   "cell_type": "markdown",
   "id": "a8918938",
   "metadata": {},
   "source": [
    "And, patching `__add__` lets `+` work on a `ServerToolUsage` as well as a `Usage` object."
   ]
  },
  {
   "cell_type": "code",
   "execution_count": null,
   "id": "facab8cd",
   "metadata": {},
   "outputs": [
    {
     "data": {
      "text/plain": [
       "ServerToolUsage(web_search_requests=3)"
      ]
     },
     "execution_count": null,
     "metadata": {},
     "output_type": "execute_result"
    }
   ],
   "source": [
    "server_tool_usage(1) + server_tool_usage(2)"
   ]
  },
  {
   "cell_type": "code",
   "execution_count": null,
   "id": "6c9025c6",
   "metadata": {},
   "outputs": [],
   "source": [
    "#| exports\n",
    "@patch\n",
    "def __add__(self:Usage, b):\n",
    "    \"Add together each of `input_tokens` and `output_tokens`\"\n",
    "    return usage(self.input_tokens+b.input_tokens, self.output_tokens+b.output_tokens,\n",
    "                 _dgetattr(self,'cache_creation_input_tokens',0)+_dgetattr(b,'cache_creation_input_tokens',0),\n",
    "                 _dgetattr(self,'cache_read_input_tokens',0)+_dgetattr(b,'cache_read_input_tokens',0),\n",
    "                 _dgetattr(self,'server_tool_use',server_tool_usage())+_dgetattr(b,'server_tool_use',server_tool_usage()))"
   ]
  },
  {
   "cell_type": "code",
   "execution_count": null,
   "id": "bffb0b2e",
   "metadata": {},
   "outputs": [
    {
     "data": {
      "text/plain": [
       "In: 20; Out: 72; Cache create: 0; Cache read: 0; Total Tokens: 92; Server tool use (web search requests): 1"
      ]
     },
     "execution_count": null,
     "metadata": {},
     "output_type": "execute_result"
    }
   ],
   "source": [
    "r.usage+r.usage + usage(server_tool_use=server_tool_usage(1))"
   ]
  },
  {
   "cell_type": "markdown",
   "id": "edd0a43f",
   "metadata": {},
   "source": [
    "### Creating messages"
   ]
  },
  {
   "cell_type": "markdown",
   "id": "b4912f1e",
   "metadata": {},
   "source": [
    "Creating correctly formatted `dict`s from scratch every time isn't very handy, so we'll import a couple of helper functions from the `msglm` library.\n",
    "\n",
    "Let's use `mk_msg` to recreate our msg `{'role': 'user', 'content': \"I'm Jeremy\"}` from earlier."
   ]
  },
  {
   "cell_type": "code",
   "execution_count": null,
   "id": "0ffa2c14",
   "metadata": {},
   "outputs": [
    {
     "data": {
      "text/markdown": [
       "Hello, Jeremy! It's nice to meet you. How are you doing today? Is there something I can help you with or would you like to discuss something specific?\n",
       "\n",
       "<details>\n",
       "\n",
       "- id: `msg_01T5fCHX6KMXPe41wHJe3RvM`\n",
       "- content: `[{'citations': None, 'text': \"Hello, Jeremy! It's nice to meet you. How are you doing today? Is there something I can help you with or would you like to discuss something specific?\", 'type': 'text'}]`\n",
       "- model: `claude-3-7-sonnet-20250219`\n",
       "- role: `assistant`\n",
       "- stop_reason: `end_turn`\n",
       "- stop_sequence: `None`\n",
       "- type: `message`\n",
       "- usage: `{'cache_creation_input_tokens': 0, 'cache_read_input_tokens': 0, 'input_tokens': 10, 'output_tokens': 37, 'server_tool_use': None}`\n",
       "\n",
       "</details>"
      ],
      "text/plain": [
       "Message(id='msg_01T5fCHX6KMXPe41wHJe3RvM', content=[TextBlock(citations=None, text=\"Hello, Jeremy! It's nice to meet you. How are you doing today? Is there something I can help you with or would you like to discuss something specific?\", type='text')], model='claude-3-7-sonnet-20250219', role='assistant', stop_reason='end_turn', stop_sequence=None, type='message', usage=In: 10; Out: 37; Cache create: 0; Cache read: 0; Total Tokens: 47; Server tool use (web search requests): 0)"
      ]
     },
     "execution_count": null,
     "metadata": {},
     "output_type": "execute_result"
    }
   ],
   "source": [
    "prompt = \"I'm Jeremy\"\n",
    "m = mk_msg(prompt)\n",
    "r = cli.messages.create(messages=[m], model=model, max_tokens=100)\n",
    "r"
   ]
  },
  {
   "cell_type": "markdown",
   "id": "2fba8532",
   "metadata": {},
   "source": [
    "We can pass more than just text messages to Claude. As we'll see later we can also pass images, SDK objects, etc. To handle these different data types we need to pass the type along with our content to Claude. \n",
    "\n",
    "Here's an example of a multimodal message containing text and images. \n",
    "\n",
    "```json\n",
    "{\n",
    "    'role': 'user', \n",
    "    'content': [\n",
    "        {'type':'text', 'text':'What is in the image?'},\n",
    "        {\n",
    "            'type':'image', \n",
    "            'source': {\n",
    "                'type':'base64', 'media_type':'media_type', 'data': 'data'\n",
    "            }\n",
    "        }\n",
    "    ]\n",
    "}\n",
    "```\n",
    "\n",
    "`mk_msg` infers the type automatically and creates the appropriate data structure. "
   ]
  },
  {
   "cell_type": "markdown",
   "id": "fb04f6b4",
   "metadata": {},
   "source": [
    "LLMs, don't actually have state, but instead dialogs are created by passing back all previous prompts and responses every time. With Claude, they always alternate *user* and *assistant*. We'll use `mk_msgs` from `msglm` to make it easier to build up these dialog lists."
   ]
  },
  {
   "cell_type": "code",
   "execution_count": null,
   "id": "b4c8fcad",
   "metadata": {},
   "outputs": [
    {
     "data": {
      "text/plain": [
       "[{'role': 'user', 'content': \"I'm Jeremy\"},\n",
       " {'role': 'assistant',\n",
       "  'content': [TextBlock(citations=None, text=\"Hello, Jeremy! It's nice to meet you. How are you doing today? Is there something I can help you with or would you like to discuss something specific?\", type='text')]},\n",
       " {'role': 'user', 'content': 'I forgot my name. Can you remind me please?'}]"
      ]
     },
     "execution_count": null,
     "metadata": {},
     "output_type": "execute_result"
    }
   ],
   "source": [
    "msgs = mk_msgs([prompt, r, \"I forgot my name. Can you remind me please?\"]) \n",
    "msgs"
   ]
  },
  {
   "cell_type": "code",
   "execution_count": null,
   "id": "6c464f8b",
   "metadata": {},
   "outputs": [
    {
     "data": {
      "text/markdown": [
       "You mentioned that your name is Jeremy. That's how you introduced yourself at the beginning of our conversation.\n",
       "\n",
       "<details>\n",
       "\n",
       "- id: `msg_014Ryt7moN693dhH9WF6wU4q`\n",
       "- content: `[{'citations': None, 'text': \"You mentioned that your name is Jeremy. That's how you introduced yourself at the beginning of our conversation.\", 'type': 'text'}]`\n",
       "- model: `claude-3-7-sonnet-20250219`\n",
       "- role: `assistant`\n",
       "- stop_reason: `end_turn`\n",
       "- stop_sequence: `None`\n",
       "- type: `message`\n",
       "- usage: `{'cache_creation_input_tokens': 0, 'cache_read_input_tokens': 0, 'input_tokens': 61, 'output_tokens': 24, 'server_tool_use': None}`\n",
       "\n",
       "</details>"
      ],
      "text/plain": [
       "Message(id='msg_014Ryt7moN693dhH9WF6wU4q', content=[TextBlock(citations=None, text=\"You mentioned that your name is Jeremy. That's how you introduced yourself at the beginning of our conversation.\", type='text')], model='claude-3-7-sonnet-20250219', role='assistant', stop_reason='end_turn', stop_sequence=None, type='message', usage=In: 61; Out: 24; Cache create: 0; Cache read: 0; Total Tokens: 85; Server tool use (web search requests): 0)"
      ]
     },
     "execution_count": null,
     "metadata": {},
     "output_type": "execute_result"
    }
   ],
   "source": [
    "cli.messages.create(messages=msgs, model=model, max_tokens=200)"
   ]
  },
  {
   "cell_type": "markdown",
   "id": "281f8a4d",
   "metadata": {},
   "source": [
    "## Client"
   ]
  },
  {
   "cell_type": "code",
   "execution_count": null,
   "id": "3b873aaf",
   "metadata": {},
   "outputs": [],
   "source": [
    "#| exports\n",
    "class Client:\n",
    "    def __init__(self, model, cli=None, log=False, cache=False):\n",
    "        \"Basic Anthropic messages client.\"\n",
    "        self.model,self.use = model,usage()\n",
    "        self.text_only = model in text_only_models\n",
    "        self.log = [] if log else None\n",
    "        self.c = (cli or Anthropic(default_headers={'anthropic-beta': 'prompt-caching-2024-07-31'}))\n",
    "        self.cache = cache"
   ]
  },
  {
   "cell_type": "markdown",
   "id": "146e39f0",
   "metadata": {},
   "source": [
    "We'll create a simple `Client` for `Anthropic` which tracks usage stores the model to use. We don't add any methods right away -- instead we'll use `patch` for that so we can add and document them incrementally."
   ]
  },
  {
   "cell_type": "code",
   "execution_count": null,
   "id": "d01e9ccf",
   "metadata": {},
   "outputs": [
    {
     "data": {
      "text/plain": [
       "In: 0; Out: 0; Cache create: 0; Cache read: 0; Total Tokens: 0; Server tool use (web search requests): 0"
      ]
     },
     "execution_count": null,
     "metadata": {},
     "output_type": "execute_result"
    }
   ],
   "source": [
    "c = Client(model)\n",
    "c.use"
   ]
  },
  {
   "cell_type": "code",
   "execution_count": null,
   "id": "8015d3f3",
   "metadata": {},
   "outputs": [],
   "source": [
    "#| exports\n",
    "@patch\n",
    "def _r(self:Client, r:Message, prefill=''):\n",
    "    \"Store the result of the message and accrue total usage.\"\n",
    "    if prefill:\n",
    "        blk = find_block(r)\n",
    "        blk.text = prefill + (blk.text or '')\n",
    "    self.result = r\n",
    "    self.use += r.usage\n",
    "    self.stop_reason = r.stop_reason\n",
    "    self.stop_sequence = r.stop_sequence\n",
    "    return r"
   ]
  },
  {
   "cell_type": "markdown",
   "id": "68d2eb9b",
   "metadata": {},
   "source": [
    "We use a `_` prefix on private methods, but we document them here in the interests of literate source code.\n",
    "\n",
    "`_r` will be used each time we get a new result, to track usage and also to keep the result available for later."
   ]
  },
  {
   "cell_type": "code",
   "execution_count": null,
   "id": "0181f7b3",
   "metadata": {},
   "outputs": [
    {
     "data": {
      "text/plain": [
       "In: 10; Out: 37; Cache create: 0; Cache read: 0; Total Tokens: 47; Server tool use (web search requests): 0"
      ]
     },
     "execution_count": null,
     "metadata": {},
     "output_type": "execute_result"
    }
   ],
   "source": [
    "c._r(r)\n",
    "c.use"
   ]
  },
  {
   "cell_type": "markdown",
   "id": "7258fd6e",
   "metadata": {},
   "source": [
    "Whereas OpenAI's models use a `stream` parameter for streaming, Anthropic's use a separate method. We implement Anthropic's approach in a private method, and then use a `stream` parameter in `__call__` for consistency:"
   ]
  },
  {
   "cell_type": "code",
   "execution_count": null,
   "id": "6520a355",
   "metadata": {},
   "outputs": [],
   "source": [
    "#| exports\n",
    "@patch\n",
    "def _log(self:Client, final, prefill, msgs, maxtok=None, sp=None, temp=None, stream=None, stop=None, **kwargs):\n",
    "    self._r(final, prefill)\n",
    "    if self.log is not None: self.log.append({\n",
    "        \"msgs\": msgs, \"prefill\": prefill, **kwargs,\n",
    "        \"msgs\": msgs, \"prefill\": prefill, \"maxtok\": maxtok, \"sp\": sp, \"temp\": temp, \"stream\": stream, \"stop\": stop, **kwargs,\n",
    "        \"result\": self.result, \"use\": self.use, \"stop_reason\": self.stop_reason, \"stop_sequence\": self.stop_sequence\n",
    "    })\n",
    "    return self.result"
   ]
  },
  {
   "cell_type": "code",
   "execution_count": null,
   "id": "6901dce2",
   "metadata": {},
   "outputs": [],
   "source": [
    "#| exports\n",
    "@patch\n",
    "def _stream(self:Client, msgs:list, prefill='', **kwargs):\n",
    "    with self.c.messages.stream(model=self.model, messages=mk_msgs(msgs, cache=self.cache, cache_last_ckpt_only=self.cache), **kwargs) as s:\n",
    "        if prefill: yield(prefill)\n",
    "        yield from s.text_stream\n",
    "        self._log(s.get_final_message(), prefill, msgs, **kwargs)"
   ]
  },
  {
   "cell_type": "markdown",
   "id": "f2269e53",
   "metadata": {},
   "source": [
    "Claude supports adding an extra `assistant` message at the end, which contains the *prefill* -- i.e. the text we want Claude to assume the response starts with. However Claude doesn't actually repeat that in the response, so for convenience we add it."
   ]
  },
  {
   "cell_type": "code",
   "execution_count": null,
   "id": "835638bb",
   "metadata": {},
   "outputs": [],
   "source": [
    "#| exports\n",
    "@patch\n",
    "def _precall(self:Client, msgs, prefill, stop, kwargs):\n",
    "    pref = [prefill.strip()] if prefill else []\n",
    "    if not isinstance(msgs,list): msgs = [msgs]\n",
    "    if stop is not None:\n",
    "        if not isinstance(stop, (list)): stop = [stop]\n",
    "        kwargs[\"stop_sequences\"] = stop\n",
    "    msgs = mk_msgs(msgs+pref, cache=self.cache, cache_last_ckpt_only=self.cache)\n",
    "    return msgs"
   ]
  },
  {
   "cell_type": "code",
   "execution_count": null,
   "id": "c21c2113",
   "metadata": {},
   "outputs": [],
   "source": [
    "@patch\n",
    "@delegates(messages.Messages.create)\n",
    "def __call__(self:Client,\n",
    "             msgs:list, # List of messages in the dialog\n",
    "             sp='', # The system prompt\n",
    "             temp=0, # Temperature\n",
    "             maxtok=4096, # Maximum tokens\n",
    "             prefill='', # Optional prefill to pass to Claude as start of its response\n",
    "             stream:bool=False, # Stream response?\n",
    "             stop=None, # Stop sequence\n",
    "             **kwargs):\n",
    "    \"Make a call to Claude.\"\n",
    "    msgs = self._precall(msgs, prefill, stop, kwargs)\n",
    "    if stream: return self._stream(msgs, prefill=prefill, max_tokens=maxtok, system=sp, temperature=temp, **kwargs)\n",
    "    res = self.c.messages.create(\n",
    "        model=self.model, messages=msgs, max_tokens=maxtok, system=sp, temperature=temp, **kwargs)\n",
    "    return self._log(res, prefill, msgs, maxtok, sp, temp, stream=stream, **kwargs)"
   ]
  },
  {
   "cell_type": "markdown",
   "id": "3cee10c8",
   "metadata": {},
   "source": [
    "Defining `__call__` let's us use an object like a function (i.e it's *callable*). We use it as a small wrapper over `messages.create`. However we're not exporting this version just yet -- we have some additions we'll make in a moment..."
   ]
  },
  {
   "cell_type": "code",
   "execution_count": null,
   "id": "881b5e78",
   "metadata": {},
   "outputs": [
    {
     "data": {
      "text/plain": [
       "In: 0; Out: 0; Cache create: 0; Cache read: 0; Total Tokens: 0; Server tool use (web search requests): 0"
      ]
     },
     "execution_count": null,
     "metadata": {},
     "output_type": "execute_result"
    }
   ],
   "source": [
    "c = Client(model, log=True)\n",
    "c.use"
   ]
  },
  {
   "cell_type": "code",
   "execution_count": null,
   "id": "338a38e5",
   "metadata": {},
   "outputs": [
    {
     "data": {
      "text/markdown": [
       "Hello! How can I assist you today? Feel free to ask any questions or let me know what you'd like to discuss.\n",
       "\n",
       "<details>\n",
       "\n",
       "- id: `msg_015UyBYhtQVzWatX7FXLhvDg`\n",
       "- content: `[{'citations': None, 'text': \"Hello! How can I assist you today? Feel free to ask any questions or let me know what you'd like to discuss.\", 'type': 'text'}]`\n",
       "- model: `claude-3-7-sonnet-20250219`\n",
       "- role: `assistant`\n",
       "- stop_reason: `end_turn`\n",
       "- stop_sequence: `None`\n",
       "- type: `message`\n",
       "- usage: `{'cache_creation_input_tokens': 0, 'cache_read_input_tokens': 0, 'input_tokens': 8, 'output_tokens': 29, 'server_tool_use': None}`\n",
       "\n",
       "</details>"
      ],
      "text/plain": [
       "Message(id='msg_015UyBYhtQVzWatX7FXLhvDg', content=[TextBlock(citations=None, text=\"Hello! How can I assist you today? Feel free to ask any questions or let me know what you'd like to discuss.\", type='text')], model='claude-3-7-sonnet-20250219', role='assistant', stop_reason='end_turn', stop_sequence=None, type='message', usage=In: 8; Out: 29; Cache create: 0; Cache read: 0; Total Tokens: 37; Server tool use (web search requests): 0)"
      ]
     },
     "execution_count": null,
     "metadata": {},
     "output_type": "execute_result"
    }
   ],
   "source": [
    "c('Hi')"
   ]
  },
  {
   "cell_type": "code",
   "execution_count": null,
   "id": "ae9f7e06",
   "metadata": {},
   "outputs": [
    {
     "data": {
      "text/plain": [
       "In: 8; Out: 29; Cache create: 0; Cache read: 0; Total Tokens: 37; Server tool use (web search requests): 0"
      ]
     },
     "execution_count": null,
     "metadata": {},
     "output_type": "execute_result"
    }
   ],
   "source": [
    "c.use"
   ]
  },
  {
   "cell_type": "markdown",
   "id": "2d269ed8",
   "metadata": {},
   "source": [
    "Let's try out *prefill*:"
   ]
  },
  {
   "cell_type": "code",
   "execution_count": null,
   "id": "7f479429",
   "metadata": {},
   "outputs": [],
   "source": [
    "q = \"Concisely, what is the meaning of life?\"\n",
    "pref = 'According to Douglas Adams,'"
   ]
  },
  {
   "cell_type": "code",
   "execution_count": null,
   "id": "b831ca3d",
   "metadata": {},
   "outputs": [
    {
     "data": {
      "text/markdown": [
       "According to Douglas Adams,  it's 42. More seriously, the meaning of life is deeply personal and varies across philosophical traditions - from finding happiness, serving others, pursuing knowledge, or creating your own purpose in an inherently meaningless universe. There's no universal answer, which is perhaps what makes the question so enduring.\n",
       "\n",
       "<details>\n",
       "\n",
       "- id: `msg_01V158u6gauy1e8TyDPKtpkb`\n",
       "- content: `[{'citations': None, 'text': \"According to Douglas Adams,  it's 42. More seriously, the meaning of life is deeply personal and varies across philosophical traditions - from finding happiness, serving others, pursuing knowledge, or creating your own purpose in an inherently meaningless universe. There's no universal answer, which is perhaps what makes the question so enduring.\", 'type': 'text'}]`\n",
       "- model: `claude-3-7-sonnet-20250219`\n",
       "- role: `assistant`\n",
       "- stop_reason: `end_turn`\n",
       "- stop_sequence: `None`\n",
       "- type: `message`\n",
       "- usage: `{'cache_creation_input_tokens': 0, 'cache_read_input_tokens': 0, 'input_tokens': 24, 'output_tokens': 65, 'server_tool_use': None}`\n",
       "\n",
       "</details>"
      ],
      "text/plain": [
       "Message(id='msg_01V158u6gauy1e8TyDPKtpkb', content=[TextBlock(citations=None, text=\"According to Douglas Adams,  it's 42. More seriously, the meaning of life is deeply personal and varies across philosophical traditions - from finding happiness, serving others, pursuing knowledge, or creating your own purpose in an inherently meaningless universe. There's no universal answer, which is perhaps what makes the question so enduring.\", type='text')], model='claude-3-7-sonnet-20250219', role='assistant', stop_reason='end_turn', stop_sequence=None, type='message', usage=In: 24; Out: 65; Cache create: 0; Cache read: 0; Total Tokens: 89; Server tool use (web search requests): 0)"
      ]
     },
     "execution_count": null,
     "metadata": {},
     "output_type": "execute_result"
    }
   ],
   "source": [
    "c(q, prefill=pref)"
   ]
  },
  {
   "cell_type": "markdown",
   "id": "216b2704",
   "metadata": {},
   "source": [
    "We can pass `stream=True` to stream the response back incrementally:"
   ]
  },
  {
   "cell_type": "code",
   "execution_count": null,
   "id": "e281399f",
   "metadata": {},
   "outputs": [
    {
     "name": "stdout",
     "output_type": "stream",
     "text": [
      "Hello! How can I assist you today? Feel free to ask any questions or let me know what you'd like to discuss."
     ]
    }
   ],
   "source": [
    "for o in c('Hi', stream=True): print(o, end='')"
   ]
  },
  {
   "cell_type": "code",
   "execution_count": null,
   "id": "beb25f2a",
   "metadata": {},
   "outputs": [
    {
     "data": {
      "text/plain": [
       "In: 40; Out: 123; Cache create: 0; Cache read: 0; Total Tokens: 163; Server tool use (web search requests): 0"
      ]
     },
     "execution_count": null,
     "metadata": {},
     "output_type": "execute_result"
    }
   ],
   "source": [
    "c.use"
   ]
  },
  {
   "cell_type": "code",
   "execution_count": null,
   "id": "db1c75ef",
   "metadata": {},
   "outputs": [
    {
     "name": "stdout",
     "output_type": "stream",
     "text": [
      "According to Douglas Adams,  it's 42. More seriously, the meaning of life is deeply personal and varies across philosophical traditions - from finding happiness, serving others, pursuing knowledge, or creating your own purpose in an inherently meaningless universe. There's no universal answer, which is perhaps what makes the question so enduring."
     ]
    }
   ],
   "source": [
    "for o in c(q, prefill=pref, stream=True): print(o, end='')"
   ]
  },
  {
   "cell_type": "code",
   "execution_count": null,
   "id": "e36eddc9",
   "metadata": {},
   "outputs": [
    {
     "data": {
      "text/plain": [
       "In: 64; Out: 188; Cache create: 0; Cache read: 0; Total Tokens: 252; Server tool use (web search requests): 0"
      ]
     },
     "execution_count": null,
     "metadata": {},
     "output_type": "execute_result"
    }
   ],
   "source": [
    "c.use"
   ]
  },
  {
   "cell_type": "markdown",
   "id": "bd556e49",
   "metadata": {},
   "source": [
    "Pass a stop seauence if you want claude to stop generating text when it encounters it.\n"
   ]
  },
  {
   "cell_type": "code",
   "execution_count": null,
   "id": "12b17591",
   "metadata": {},
   "outputs": [
    {
     "data": {
      "text/markdown": [
       "1, 2, 3, 4,\n",
       "\n",
       "<details>\n",
       "\n",
       "- id: `msg_013CBJrJQgR4ardtvmAxo3Xv`\n",
       "- content: `[{'citations': None, 'text': '1, 2, 3, 4, ', 'type': 'text'}]`\n",
       "- model: `claude-3-7-sonnet-20250219`\n",
       "- role: `assistant`\n",
       "- stop_reason: `stop_sequence`\n",
       "- stop_sequence: `5`\n",
       "- type: `message`\n",
       "- usage: `{'cache_creation_input_tokens': 0, 'cache_read_input_tokens': 0, 'input_tokens': 15, 'output_tokens': 14, 'server_tool_use': None}`\n",
       "\n",
       "</details>"
      ],
      "text/plain": [
       "Message(id='msg_013CBJrJQgR4ardtvmAxo3Xv', content=[TextBlock(citations=None, text='1, 2, 3, 4, ', type='text')], model='claude-3-7-sonnet-20250219', role='assistant', stop_reason='stop_sequence', stop_sequence='5', type='message', usage=In: 15; Out: 14; Cache create: 0; Cache read: 0; Total Tokens: 29; Server tool use (web search requests): 0)"
      ]
     },
     "execution_count": null,
     "metadata": {},
     "output_type": "execute_result"
    }
   ],
   "source": [
    "c(\"Count from 1 to 10\", stop=\"5\")"
   ]
  },
  {
   "cell_type": "markdown",
   "id": "cdbd3df3",
   "metadata": {},
   "source": [
    "This also works with streaming, and you can pass more than one stop sequence:"
   ]
  },
  {
   "cell_type": "code",
   "execution_count": null,
   "id": "ff50577d",
   "metadata": {},
   "outputs": [
    {
     "name": "stdout",
     "output_type": "stream",
     "text": [
      "1, stop_sequence 2\n"
     ]
    }
   ],
   "source": [
    "for o in c(\"Count from 1 to 10\", stop=[\"2\", \"yellow\"], stream=True): print(o, end='')\n",
    "print(c.stop_reason, c.stop_sequence)"
   ]
  },
  {
   "cell_type": "markdown",
   "id": "2108776e",
   "metadata": {},
   "source": [
    "You can check the logs:"
   ]
  },
  {
   "cell_type": "code",
   "execution_count": null,
   "id": "17122b92",
   "metadata": {},
   "outputs": [
    {
     "data": {
      "text/plain": [
       "{'msgs': [{'role': 'user', 'content': 'Count from 1 to 10'}],\n",
       " 'prefill': '',\n",
       " 'max_tokens': 4096,\n",
       " 'system': '',\n",
       " 'temperature': 0,\n",
       " 'stop_sequences': ['2', 'yellow'],\n",
       " 'maxtok': None,\n",
       " 'sp': None,\n",
       " 'temp': None,\n",
       " 'stream': None,\n",
       " 'stop': None,\n",
       " 'result': Message(id='msg_01G2v8NthxnGMcVVjtE7VcBQ', content=[TextBlock(citations=None, text='1, ', type='text')], model='claude-3-7-sonnet-20250219', role='assistant', stop_reason='stop_sequence', stop_sequence='2', type='message', usage=In: 15; Out: 5; Cache create: 0; Cache read: 0; Total Tokens: 20; Server tool use (web search requests): 0),\n",
       " 'use': In: 94; Out: 207; Cache create: 0; Cache read: 0; Total Tokens: 301; Server tool use (web search requests): 0,\n",
       " 'stop_reason': 'stop_sequence',\n",
       " 'stop_sequence': '2'}"
      ]
     },
     "execution_count": null,
     "metadata": {},
     "output_type": "execute_result"
    }
   ],
   "source": [
    "c.log[-1]"
   ]
  },
  {
   "cell_type": "markdown",
   "id": "fbdc1914",
   "metadata": {},
   "source": [
    "We've shown the token usage but we really care about is pricing. Let's extract the latest [pricing](https://www.anthropic.com/pricing#anthropic-api) from Anthropic into a `pricing` dict."
   ]
  },
  {
   "cell_type": "code",
   "execution_count": null,
   "id": "9bfce1dc",
   "metadata": {},
   "outputs": [],
   "source": [
    "#| export\n",
    "pricing = {  # model type: $ / million tokens (input, output, cache write, cache read)\n",
    "    'opus': (15, 75, 18.75, 1.5),\n",
    "    'sonnet': (3, 15, 3.75, 0.3),\n",
    "    'haiku-3': (0.25, 1.25, 0.3, 0.03),\n",
    "    'haiku-3-5': (1, 3, 1.25, 0.1),\n",
    "}"
   ]
  },
  {
   "cell_type": "code",
   "execution_count": null,
   "id": "2a1f2e67",
   "metadata": {},
   "outputs": [],
   "source": [
    "#| exports\n",
    "def get_pricing(m, u):\n",
    "    return pricing[m][:3] if u.prompt_token_count < 128_000 else pricing[m][3:]"
   ]
  },
  {
   "cell_type": "markdown",
   "id": "f8995374",
   "metadata": {},
   "source": [
    "Similarly, let's get the pricing for the latest [server tools]():"
   ]
  },
  {
   "cell_type": "code",
   "execution_count": null,
   "id": "cfa8da09",
   "metadata": {},
   "outputs": [],
   "source": [
    "#| export\n",
    "server_tool_pricing = {\n",
    "    'web_search_requests': 10, # $10 per 1,000\n",
    "}"
   ]
  },
  {
   "cell_type": "markdown",
   "id": "a8a49a95",
   "metadata": {},
   "source": [
    "We'll patch `Usage` to enable it compute the cost given pricing."
   ]
  },
  {
   "cell_type": "code",
   "execution_count": null,
   "id": "2edb5da5",
   "metadata": {},
   "outputs": [],
   "source": [
    "#| exports\n",
    "@patch\n",
    "def cost(self:Usage, costs:tuple) -> float:\n",
    "    cache_w, cache_r = _dgetattr(self, \"cache_creation_input_tokens\",0), _dgetattr(self, \"cache_read_input_tokens\",0)\n",
    "    tok_cost = sum([self.input_tokens * costs[0] +  self.output_tokens * costs[1] +  cache_w * costs[2] + cache_r * costs[3]]) / 1e6\n",
    "    server_tool_use = _dgetattr(self, \"server_tool_use\",server_tool_usage())\n",
    "    server_tool_cost = server_tool_use.web_search_requests * server_tool_pricing['web_search_requests'] / 1e3\n",
    "    return tok_cost + server_tool_cost"
   ]
  },
  {
   "cell_type": "code",
   "execution_count": null,
   "id": "936a4adc",
   "metadata": {},
   "outputs": [],
   "source": [
    "#| exports\n",
    "@patch(as_prop=True)\n",
    "def cost(self: Client) -> float: return self.use.cost(pricing[model_types[self.model]])"
   ]
  },
  {
   "cell_type": "code",
   "execution_count": null,
   "id": "91d4dcbe",
   "metadata": {},
   "outputs": [],
   "source": [
    "#| exports\n",
    "def get_costs(c):\n",
    "    costs = pricing[model_types[c.model]]\n",
    "    \n",
    "    inp_cost = c.use.input_tokens * costs[0] / 1e6\n",
    "    out_cost = c.use.output_tokens * costs[1] / 1e6\n",
    "\n",
    "    cache_w = c.use.cache_creation_input_tokens   \n",
    "    cache_r = c.use.cache_read_input_tokens\n",
    "    cache_cost = cache_w * costs[2] + cache_r * costs[3] / 1e6\n",
    "\n",
    "    server_tool_use = c.use.server_tool_use\n",
    "    server_tool_cost = server_tool_use.web_search_requests * server_tool_pricing['web_search_requests'] / 1e3\n",
    "    return inp_cost, out_cost, cache_cost, cache_w + cache_r, server_tool_cost"
   ]
  },
  {
   "cell_type": "code",
   "execution_count": null,
   "id": "15695891",
   "metadata": {},
   "outputs": [],
   "source": [
    "#| exports\n",
    "@patch\n",
    "def _repr_markdown_(self:Client):\n",
    "    if not hasattr(self,'result'): return 'No results yet'\n",
    "    msg = contents(self.result)\n",
    "    inp_cost, out_cost, cache_cost, cached_toks, server_tool_cost = get_costs(self)\n",
    "    return f\"\"\"{msg}\n",
    "\n",
    "| Metric | Count | Cost (USD) |\n",
    "|--------|------:|-----:|\n",
    "| Input tokens | {self.use.input_tokens:,} | {inp_cost:.6f} |\n",
    "| Output tokens | {self.use.output_tokens:,} | {out_cost:.6f} |\n",
    "| Cache tokens | {cached_toks:,} | {cache_cost:.6f} |\n",
    "| Server tool use | {self.use.server_tool_use.web_search_requests:,} | {server_tool_cost:.6f} |\n",
    "| **Total** | **{self.use.total:,}** | **${self.cost:.6f}** |\"\"\""
   ]
  },
  {
   "cell_type": "code",
   "execution_count": null,
   "id": "be86fc43",
   "metadata": {},
   "outputs": [
    {
     "data": {
      "text/markdown": [
       "1,\n",
       "\n",
       "| Metric | Count | Cost (USD) |\n",
       "|--------|------:|-----:|\n",
       "| Input tokens | 94 | 0.000282 |\n",
       "| Output tokens | 207 | 0.003105 |\n",
       "| Cache tokens | 0 | 0.000000 |\n",
       "| Server tool use | 0 | 0.000000 |\n",
       "| **Total** | **301** | **$0.003387** |"
      ],
      "text/plain": [
       "<__main__.Client>"
      ]
     },
     "execution_count": null,
     "metadata": {},
     "output_type": "execute_result"
    }
   ],
   "source": [
    "c"
   ]
  },
  {
   "cell_type": "markdown",
   "id": "1a7cdbc6",
   "metadata": {},
   "source": [
    "## Tool use"
   ]
  },
  {
   "cell_type": "markdown",
   "id": "65700cb3",
   "metadata": {},
   "source": [
    "Let's now add tool use (aka *function calling*)."
   ]
  },
  {
   "cell_type": "code",
   "execution_count": null,
   "id": "01e3e2af",
   "metadata": {},
   "outputs": [],
   "source": [
    "#| export\n",
    "def mk_tool_choice(choose:Union[str,bool,None])->dict:\n",
    "    \"Create a `tool_choice` dict that's 'auto' if `choose` is `None`, 'any' if it is True, or 'tool' otherwise\"\n",
    "    return {\"type\": \"tool\", \"name\": choose} if isinstance(choose,str) else {'type':'any'} if choose else {'type':'auto'}"
   ]
  },
  {
   "cell_type": "code",
   "execution_count": null,
   "id": "753c4cd5",
   "metadata": {},
   "outputs": [
    {
     "name": "stdout",
     "output_type": "stream",
     "text": [
      "{'type': 'tool', 'name': 'sums'}\n",
      "{'type': 'any'}\n",
      "{'type': 'auto'}\n"
     ]
    }
   ],
   "source": [
    "print(mk_tool_choice('sums'))\n",
    "print(mk_tool_choice(True))\n",
    "print(mk_tool_choice(None))"
   ]
  },
  {
   "cell_type": "markdown",
   "id": "0d72ea0d",
   "metadata": {},
   "source": [
    "Claude can be forced to use a particular tool, or select from a specific list of tools, or decide for itself when to use a tool. If you want to force a tool (or force choosing from a list), include a `tool_choice` param with a dict from `mk_tool_choice`.\n",
    "\n",
    "For testing, we need a function that Claude can call; we'll write a simple function that adds numbers together, and will tell us when it's being called:"
   ]
  },
  {
   "cell_type": "code",
   "execution_count": null,
   "id": "046e8cc3",
   "metadata": {},
   "outputs": [],
   "source": [
    "def sums(\n",
    "    a:int,  # First thing to sum\n",
    "    b:int=1 # Second thing to sum\n",
    ") -> int: # The sum of the inputs\n",
    "    \"Adds a + b.\"\n",
    "    print(f\"Finding the sum of {a} and {b}\")\n",
    "    return a + b"
   ]
  },
  {
   "cell_type": "code",
   "execution_count": null,
   "id": "d51f2bdf",
   "metadata": {},
   "outputs": [],
   "source": [
    "a,b = 604542,6458932\n",
    "pr = f\"What is {a}+{b}?\"\n",
    "sp = \"You are a summing expert.\""
   ]
  },
  {
   "cell_type": "markdown",
   "id": "3dc3ffd6",
   "metadata": {},
   "source": [
    "Claudette can autogenerate a schema thanks to the `toolslm` library. We'll force the use of the tool using the function we created earlier."
   ]
  },
  {
   "cell_type": "code",
   "execution_count": null,
   "id": "bff81d52",
   "metadata": {},
   "outputs": [],
   "source": [
    "tools=[get_schema(sums)]\n",
    "choice = mk_tool_choice('sums')"
   ]
  },
  {
   "cell_type": "markdown",
   "id": "91937f47",
   "metadata": {},
   "source": [
    "We'll start a dialog with Claude now. We'll store the messages of our dialog in `msgs`. The first message will be our prompt `pr`, and we'll pass our `tools` schema."
   ]
  },
  {
   "cell_type": "code",
   "execution_count": null,
   "id": "c2ceeb75",
   "metadata": {},
   "outputs": [
    {
     "data": {
      "text/markdown": [
       "ToolUseBlock(id='toolu_01CpF6zzMQztfisMkrQRkci1', input={'a': 604542, 'b': 6458932}, name='sums', type='tool_use')\n",
       "\n",
       "<details>\n",
       "\n",
       "- id: `msg_01C5m7hmZVisaFxCWKkgekKF`\n",
       "- content: `[{'id': 'toolu_01CpF6zzMQztfisMkrQRkci1', 'input': {'a': 604542, 'b': 6458932}, 'name': 'sums', 'type': 'tool_use'}]`\n",
       "- model: `claude-3-7-sonnet-20250219`\n",
       "- role: `assistant`\n",
       "- stop_reason: `tool_use`\n",
       "- stop_sequence: `None`\n",
       "- type: `message`\n",
       "- usage: `{'cache_creation_input_tokens': 0, 'cache_read_input_tokens': 0, 'input_tokens': 442, 'output_tokens': 53, 'server_tool_use': None}`\n",
       "\n",
       "</details>"
      ],
      "text/plain": [
       "Message(id='msg_01C5m7hmZVisaFxCWKkgekKF', content=[ToolUseBlock(id='toolu_01CpF6zzMQztfisMkrQRkci1', input={'a': 604542, 'b': 6458932}, name='sums', type='tool_use')], model='claude-3-7-sonnet-20250219', role='assistant', stop_reason='tool_use', stop_sequence=None, type='message', usage=In: 442; Out: 53; Cache create: 0; Cache read: 0; Total Tokens: 495; Server tool use (web search requests): 0)"
      ]
     },
     "execution_count": null,
     "metadata": {},
     "output_type": "execute_result"
    }
   ],
   "source": [
    "msgs = mk_msgs(pr)\n",
    "r = c(msgs, sp=sp, tools=tools, tool_choice=choice)\n",
    "r"
   ]
  },
  {
   "cell_type": "markdown",
   "id": "60a2fce0",
   "metadata": {},
   "source": [
    "When Claude decides that it should use a tool, it passes back a `ToolUseBlock` with the name of the tool to call, and the params to use.\n",
    "\n",
    "We don't want to allow it to call just any possible function (that would be a security disaster!) so we create a *namespace* -- that is, a dictionary of allowable function names to call."
   ]
  },
  {
   "cell_type": "code",
   "execution_count": null,
   "id": "4fb9826f",
   "metadata": {},
   "outputs": [
    {
     "data": {
      "text/plain": [
       "{'sums': <function __main__.sums(a: int, b: int = 1) -> int>}"
      ]
     },
     "execution_count": null,
     "metadata": {},
     "output_type": "execute_result"
    }
   ],
   "source": [
    "ns = mk_ns(sums)\n",
    "ns"
   ]
  },
  {
   "cell_type": "code",
   "execution_count": null,
   "id": "5a7728ff",
   "metadata": {},
   "outputs": [],
   "source": [
    "#| exports\n",
    "def mk_funcres(fc, ns):\n",
    "    \"Given tool use block `fc`, get tool result, and create a tool_result response.\"\n",
    "    res = call_func(fc.name, fc.input, ns=ns)\n",
    "    return dict(type=\"tool_result\", tool_use_id=fc.id, content=str(res))"
   ]
  },
  {
   "cell_type": "markdown",
   "id": "3d1f23eb",
   "metadata": {},
   "source": [
    "We can now use the function requested by Claude. We look it up in `ns`, and pass in the provided parameters."
   ]
  },
  {
   "cell_type": "code",
   "execution_count": null,
   "id": "c2e829c2",
   "metadata": {},
   "outputs": [
    {
     "data": {
      "text/plain": [
       "[ToolUseBlock(id='toolu_01CpF6zzMQztfisMkrQRkci1', input={'a': 604542, 'b': 6458932}, name='sums', type='tool_use')]"
      ]
     },
     "execution_count": null,
     "metadata": {},
     "output_type": "execute_result"
    }
   ],
   "source": [
    "fcs = [o for o in r.content if isinstance(o,ToolUseBlock)]\n",
    "fcs"
   ]
  },
  {
   "cell_type": "code",
   "execution_count": null,
   "id": "893f81ca",
   "metadata": {},
   "outputs": [
    {
     "name": "stdout",
     "output_type": "stream",
     "text": [
      "Finding the sum of 604542 and 6458932\n"
     ]
    },
    {
     "data": {
      "text/plain": [
       "[{'type': 'tool_result',\n",
       "  'tool_use_id': 'toolu_01CpF6zzMQztfisMkrQRkci1',\n",
       "  'content': '7063474'}]"
      ]
     },
     "execution_count": null,
     "metadata": {},
     "output_type": "execute_result"
    }
   ],
   "source": [
    "res = [mk_funcres(fc, ns=ns) for fc in fcs]\n",
    "res"
   ]
  },
  {
   "cell_type": "code",
   "execution_count": null,
   "id": "2cd7a393",
   "metadata": {},
   "outputs": [],
   "source": [
    "def contents(r):\n",
    "    \"Helper to get the contents from Claude response `r`.\"\n",
    "    blk = find_block(r)\n",
    "    if not blk and r.content: blk = r.content[0]\n",
    "    if hasattr(blk,'text'): return blk.text.strip()\n",
    "    elif hasattr(blk,'content'): return blk.content.strip()\n",
    "    return str(blk)"
   ]
  },
  {
   "cell_type": "code",
   "execution_count": null,
   "id": "d475922d",
   "metadata": {},
   "outputs": [],
   "source": [
    "#| exports\n",
    "def mk_toolres(\n",
    "    r:abc.Mapping, # Tool use request response from Claude\n",
    "    ns:Optional[abc.Mapping]=None, # Namespace to search for tools\n",
    "    obj:Optional=None # Class to search for tools\n",
    "    ):\n",
    "    \"Create a `tool_result` message from response `r`.\"\n",
    "    cts = getattr(r, 'content', [])\n",
    "    res = [mk_msg(r.model_dump(), role='assistant')]\n",
    "    if ns is None: ns=globals()\n",
    "    if obj is not None: ns = mk_ns(obj)\n",
    "    tcs = [mk_funcres(o, ns) for o in cts if isinstance(o,ToolUseBlock)]\n",
    "    if tcs: res.append(mk_msg(tcs))\n",
    "    return res"
   ]
  },
  {
   "cell_type": "markdown",
   "id": "5a57d1ca",
   "metadata": {},
   "source": [
    "In order to tell Claude the result of the tool call, we pass back the tool use assistant request and the `tool_result` response."
   ]
  },
  {
   "cell_type": "code",
   "execution_count": null,
   "id": "f13de1fc",
   "metadata": {},
   "outputs": [
    {
     "name": "stdout",
     "output_type": "stream",
     "text": [
      "Finding the sum of 604542 and 6458932\n"
     ]
    },
    {
     "data": {
      "text/plain": [
       "[{'role': 'assistant',\n",
       "  'content': [{'id': 'toolu_01CpF6zzMQztfisMkrQRkci1',\n",
       "    'input': {'a': 604542, 'b': 6458932},\n",
       "    'name': 'sums',\n",
       "    'type': 'tool_use'}]},\n",
       " {'role': 'user',\n",
       "  'content': [{'type': 'tool_result',\n",
       "    'tool_use_id': 'toolu_01CpF6zzMQztfisMkrQRkci1',\n",
       "    'content': '7063474'}]}]"
      ]
     },
     "execution_count": null,
     "metadata": {},
     "output_type": "execute_result"
    }
   ],
   "source": [
    "tr = mk_toolres(r, ns=ns)\n",
    "tr"
   ]
  },
  {
   "cell_type": "code",
   "execution_count": null,
   "id": "f0fc80e6",
   "metadata": {},
   "outputs": [
    {
     "data": {
      "text/plain": [
       "[{'role': 'user', 'content': 'What is 604542+6458932?'}]"
      ]
     },
     "execution_count": null,
     "metadata": {},
     "output_type": "execute_result"
    }
   ],
   "source": [
    "msgs"
   ]
  },
  {
   "cell_type": "markdown",
   "id": "faf4fe37",
   "metadata": {},
   "source": [
    "We add this to our dialog, and now Claude has all the information it needs to answer our question."
   ]
  },
  {
   "cell_type": "code",
   "execution_count": null,
   "id": "eed99502",
   "metadata": {},
   "outputs": [
    {
     "data": {
      "text/plain": [
       "'The sum of 604542 and 6458932 is 7,063,474.'"
      ]
     },
     "execution_count": null,
     "metadata": {},
     "output_type": "execute_result"
    }
   ],
   "source": [
    "msgs += tr\n",
    "contents(c(msgs, sp=sp, tools=tools))"
   ]
  },
  {
   "cell_type": "code",
   "execution_count": null,
   "id": "8fc252dc",
   "metadata": {},
   "outputs": [
    {
     "data": {
      "text/plain": [
       "'7063474'"
      ]
     },
     "execution_count": null,
     "metadata": {},
     "output_type": "execute_result"
    }
   ],
   "source": [
    "contents(msgs[-1])"
   ]
  },
  {
   "cell_type": "code",
   "execution_count": null,
   "id": "ae64dce3",
   "metadata": {},
   "outputs": [
    {
     "data": {
      "text/plain": [
       "[{'role': 'user', 'content': 'What is 604542+6458932?'},\n",
       " {'role': 'assistant',\n",
       "  'content': [{'id': 'toolu_01CpF6zzMQztfisMkrQRkci1',\n",
       "    'input': {'a': 604542, 'b': 6458932},\n",
       "    'name': 'sums',\n",
       "    'type': 'tool_use'}]},\n",
       " {'role': 'user',\n",
       "  'content': [{'type': 'tool_result',\n",
       "    'tool_use_id': 'toolu_01CpF6zzMQztfisMkrQRkci1',\n",
       "    'content': '7063474'}]}]"
      ]
     },
     "execution_count": null,
     "metadata": {},
     "output_type": "execute_result"
    }
   ],
   "source": [
    "msgs"
   ]
  },
  {
   "cell_type": "markdown",
   "id": "f2a3dc3c",
   "metadata": {},
   "source": [
    "This works with methods as well -- in this case, use the object itself for `ns`:"
   ]
  },
  {
   "cell_type": "code",
   "execution_count": null,
   "id": "800a53a9",
   "metadata": {},
   "outputs": [],
   "source": [
    "class Dummy:\n",
    "    def sums(\n",
    "        self,\n",
    "        a:int,  # First thing to sum\n",
    "        b:int=1 # Second thing to sum\n",
    "    ) -> int: # The sum of the inputs\n",
    "        \"Adds a + b.\"\n",
    "        print(f\"Finding the sum of {a} and {b}\")\n",
    "        return a + b"
   ]
  },
  {
   "cell_type": "code",
   "execution_count": null,
   "id": "b21e6290",
   "metadata": {},
   "outputs": [
    {
     "name": "stdout",
     "output_type": "stream",
     "text": [
      "Finding the sum of 604542 and 6458932\n"
     ]
    },
    {
     "data": {
      "text/plain": [
       "'The sum of 604542 and 6458932 is 7063474.'"
      ]
     },
     "execution_count": null,
     "metadata": {},
     "output_type": "execute_result"
    }
   ],
   "source": [
    "tools = [get_schema(Dummy.sums)]\n",
    "o = Dummy()\n",
    "r = c(pr, sp=sp, tools=tools, tool_choice=choice)\n",
    "tr = mk_toolres(r, obj=o)\n",
    "msgs += tr\n",
    "contents(c(msgs, sp=sp, tools=tools))"
   ]
  },
  {
   "cell_type": "markdown",
   "id": "4e33c2b2",
   "metadata": {},
   "source": [
    "Anthropic, also has a special tool type specific to text editing."
   ]
  },
  {
   "cell_type": "code",
   "execution_count": null,
   "id": "6dcc3a92",
   "metadata": {},
   "outputs": [
    {
     "data": {
      "text/plain": [
       "[{'type': 'text_editor_20250124', 'name': 'str_replace_editor'}]"
      ]
     },
     "execution_count": null,
     "metadata": {},
     "output_type": "execute_result"
    }
   ],
   "source": [
    "tools = [text_editor_conf['sonnet']]\n",
    "tools"
   ]
  },
  {
   "cell_type": "code",
   "execution_count": null,
   "id": "c9a25fc5",
   "metadata": {},
   "outputs": [
    {
     "data": {
      "text/plain": [
       "ToolUseBlock(id='toolu_01ArY8DQsYsyNF3tRNnXWWWJ', input={'command': 'view', 'path': '_quarto.yml'}, name='str_replace_editor', type='tool_use')"
      ]
     },
     "execution_count": null,
     "metadata": {},
     "output_type": "execute_result"
    }
   ],
   "source": [
    "pr = 'Could you please explain my _quarto.yml file?'\n",
    "msgs = [mk_msg(pr)]\n",
    "r = c(msgs, sp=sp, tools=tools)\n",
    "find_block(r, ToolUseBlock)"
   ]
  },
  {
   "cell_type": "markdown",
   "id": "145b096d",
   "metadata": {},
   "source": [
    "We've gone ahead and create a reference implementation that you can directly use from our `text_editor` module. Or use as reference for creating your own. "
   ]
  },
  {
   "cell_type": "code",
   "execution_count": null,
   "id": "a056df6c",
   "metadata": {},
   "outputs": [
    {
     "name": "stdout",
     "output_type": "stream",
     "text": [
      "## Explanation of Your _quarto.yml File\n",
      "\n",
      "Your _quarto.yml file is a configuration file for Quarto, which is a scientific and tec\n"
     ]
    }
   ],
   "source": [
    "ns = mk_ns(str_replace_editor)\n",
    "tr = mk_toolres(r, ns=ns)\n",
    "msgs += tr\n",
    "print(contents(c(msgs, sp=sp, tools=tools))[:128])"
   ]
  },
  {
   "cell_type": "markdown",
   "id": "d618fc89",
   "metadata": {},
   "source": [
    "## Callable Client"
   ]
  },
  {
   "cell_type": "code",
   "execution_count": null,
   "id": "cb514c3f",
   "metadata": {},
   "outputs": [],
   "source": [
    "#| export\n",
    "def get_types(msgs):\n",
    "    types = []\n",
    "    for m in msgs:\n",
    "        content = m.get('content', [])\n",
    "        if isinstance(content, list): types.extend(getattr(c, 'type', None) or c['type'] for c in content)\n",
    "        else: types.append('text')\n",
    "    return types"
   ]
  },
  {
   "cell_type": "code",
   "execution_count": null,
   "id": "6260d227",
   "metadata": {},
   "outputs": [
    {
     "data": {
      "text/plain": [
       "['text', 'text', 'tool_use', 'tool_result']"
      ]
     },
     "execution_count": null,
     "metadata": {},
     "output_type": "execute_result"
    }
   ],
   "source": [
    "get_types(msgs)"
   ]
  },
  {
   "cell_type": "code",
   "execution_count": null,
   "id": "cbeb89c2",
   "metadata": {},
   "outputs": [],
   "source": [
    "#| exports\n",
    "@patch\n",
    "@delegates(messages.Messages.create)\n",
    "def __call__(self:Client,\n",
    "             msgs:list, # List of messages in the dialog\n",
    "             sp='', # The system prompt\n",
    "             temp=0, # Temperature\n",
    "             maxtok=4096, # Maximum tokens\n",
    "             maxthinktok=0, # Maximum thinking tokens\n",
    "             prefill='', # Optional prefill to pass to Claude as start of its response\n",
    "             stream:bool=False, # Stream response?\n",
    "             stop=None, # Stop sequence\n",
    "             tools:Optional[list]=None, # List of tools to make available to Claude\n",
    "             tool_choice:Optional[dict]=None, # Optionally force use of some tool\n",
    "             **kwargs):\n",
    "    \"Make a call to Claude.\"\n",
    "    if tools: kwargs['tools'] = [get_schema(o) if callable(o) else o for o in listify(tools)]\n",
    "    if tool_choice: kwargs['tool_choice'] = mk_tool_choice(tool_choice)\n",
    "    if maxthinktok: \n",
    "        kwargs['thinking']={'type':'enabled', 'budget_tokens':maxthinktok} \n",
    "        temp=1; prefill=''\n",
    "    msgs = self._precall(msgs, prefill, stop, kwargs)\n",
    "    if any(t == 'image' for t in get_types(msgs)): assert not self.text_only, f\"Images are not supported by the current model type: {self.model}\"\n",
    "    if stream: return self._stream(msgs, prefill=prefill, max_tokens=maxtok, system=sp, temperature=temp, **kwargs)\n",
    "    res = self.c.messages.create(model=self.model, messages=msgs, max_tokens=maxtok, system=sp, temperature=temp, **kwargs)\n",
    "    return self._log(res, prefill, msgs, maxtok, sp, temp, stream=stream, stop=stop, **kwargs)"
   ]
  },
  {
   "cell_type": "code",
   "execution_count": null,
   "id": "6dd255e0",
   "metadata": {},
   "outputs": [
    {
     "name": "stdout",
     "output_type": "stream",
     "text": [
      "Message(id='msg_01Cn7G1vgw8YV5eyKXSQFaLQ', content=[ToolUseBlock(id='toolu_01Jy9HjLxc9ND581HqcjzqKd', input={'a': 0}, name='sums', type='tool_use')], model='claude-3-7-sonnet-20250219', role='assistant', stop_reason='tool_use', stop_sequence=None, type='message', usage=In: 444; Out: 33; Cache create: 0; Cache read: 0; Total Tokens: 477; Server tool use (web search requests): 0)\n",
      "Message(id='msg_01JNUGteXRfLQakhSXAV1ehu', content=[ToolUseBlock(id='toolu_01DFHbFskemZbrqew1spHFA4', input={'a': 0}, name='sums', type='tool_use')], model='claude-3-7-sonnet-20250219', role='assistant', stop_reason='tool_use', stop_sequence=None, type='message', usage=In: 444; Out: 33; Cache create: 0; Cache read: 0; Total Tokens: 477; Server tool use (web search requests): 0)\n"
     ]
    }
   ],
   "source": [
    "for tools in [sums, [get_schema(sums)]]:\n",
    "    r = c(pr, sp=sp, tools=sums, tool_choice='sums')\n",
    "    print(r)"
   ]
  },
  {
   "cell_type": "code",
   "execution_count": null,
   "id": "f0bb426f",
   "metadata": {},
   "outputs": [
    {
     "name": "stdout",
     "output_type": "stream",
     "text": [
      "Finding the sum of 0 and 1\n"
     ]
    }
   ],
   "source": [
    "ns = mk_ns(sums)\n",
    "tr = mk_toolres(r, ns=ns)"
   ]
  },
  {
   "cell_type": "code",
   "execution_count": null,
   "id": "b3564424",
   "metadata": {},
   "outputs": [],
   "source": [
    "#| exports\n",
    "@patch\n",
    "@delegates(Client.__call__)\n",
    "def structured(self:Client,\n",
    "               msgs:list, # List of messages in the dialog\n",
    "               tools:Optional[list]=None, # List of tools to make available to Claude\n",
    "               obj:Optional=None, # Class to search for tools\n",
    "               ns:Optional[abc.Mapping]=None, # Namespace to search for tools\n",
    "               **kwargs):\n",
    "    \"Return the value of all tool calls (generally used for structured outputs)\"\n",
    "    tools = listify(tools)\n",
    "    res = self(msgs, tools=tools, tool_choice=tools, **kwargs)\n",
    "    if ns is None: ns=mk_ns(*tools)\n",
    "    if obj is not None: ns = mk_ns(obj)\n",
    "    cts = getattr(res, 'content', [])\n",
    "    tcs = [call_func(o.name, o.input, ns=ns) for o in cts if isinstance(o,ToolUseBlock)]\n",
    "    return tcs"
   ]
  },
  {
   "cell_type": "markdown",
   "id": "e2b70864",
   "metadata": {},
   "source": [
    "Anthropic's API does not support response formats directly, so instead we provide a `structured` method to use tool calling to achieve the same result. The result of the tool is not passed back to Claude in this case, but instead is returned directly to the user. "
   ]
  },
  {
   "cell_type": "code",
   "execution_count": null,
   "id": "44d2cc82",
   "metadata": {},
   "outputs": [
    {
     "name": "stdout",
     "output_type": "stream",
     "text": [
      "Finding the sum of 1 and 1\n"
     ]
    },
    {
     "data": {
      "text/plain": [
       "[2]"
      ]
     },
     "execution_count": null,
     "metadata": {},
     "output_type": "execute_result"
    }
   ],
   "source": [
    "c.structured(pr, tools=[sums])"
   ]
  },
  {
   "cell_type": "code",
   "execution_count": null,
   "id": "78883bec",
   "metadata": {},
   "outputs": [
    {
     "data": {
      "text/markdown": [
       "ToolUseBlock(id='toolu_01FGiPmwqfSxvSFmEa8FJDAK', input={'a': 1}, name='sums', type='tool_use')\n",
       "\n",
       "| Metric | Count | Cost (USD) |\n",
       "|--------|------:|-----:|\n",
       "| Input tokens | 5,860 | 0.017580 |\n",
       "| Output tokens | 1,442 | 0.021630 |\n",
       "| Cache tokens | 0 | 0.000000 |\n",
       "| Server tool use | 0 | 0.000000 |\n",
       "| **Total** | **7,302** | **$0.039210** |"
      ],
      "text/plain": [
       "<__main__.Client>"
      ]
     },
     "execution_count": null,
     "metadata": {},
     "output_type": "execute_result"
    }
   ],
   "source": [
    "c"
   ]
  },
  {
   "cell_type": "markdown",
   "id": "df5211d9",
   "metadata": {},
   "source": [
    "## Custom Types with Tools Use"
   ]
  },
  {
   "cell_type": "markdown",
   "id": "06fe1763",
   "metadata": {},
   "source": [
    "We need to add tool support for custom types too. Let's test out custom types using a minimal example."
   ]
  },
  {
   "cell_type": "code",
   "execution_count": null,
   "id": "13d08aba",
   "metadata": {},
   "outputs": [],
   "source": [
    "class Book(BasicRepr):\n",
    "    def __init__(self, title: str, pages: int): store_attr()\n",
    "    def __repr__(self):\n",
    "        return f\"Book Title : {self.title}\\nNumber of Pages : {self.pages}\""
   ]
  },
  {
   "cell_type": "code",
   "execution_count": null,
   "id": "effd7f47",
   "metadata": {},
   "outputs": [
    {
     "data": {
      "text/plain": [
       "Book Title : War and Peace\n",
       "Number of Pages : 950"
      ]
     },
     "execution_count": null,
     "metadata": {},
     "output_type": "execute_result"
    }
   ],
   "source": [
    "Book(\"War and Peace\", 950)"
   ]
  },
  {
   "cell_type": "code",
   "execution_count": null,
   "id": "465abf5b",
   "metadata": {},
   "outputs": [],
   "source": [
    "def find_page(book: Book, # The book to find the halfway point of\n",
    "              percent: int, # Percent of a book to read to, e.g. halfway == 50, \n",
    ") -> int:\n",
    "    \"The page number corresponding to `percent` completion of a book\"\n",
    "    return round(book.pages * (percent / 100.0))"
   ]
  },
  {
   "cell_type": "code",
   "execution_count": null,
   "id": "011f74a8",
   "metadata": {},
   "outputs": [
    {
     "data": {
      "text/plain": [
       "{'name': 'find_page',\n",
       " 'description': 'The page number corresponding to `percent` completion of a book\\n\\nReturns:\\n- type: integer',\n",
       " 'input_schema': {'type': 'object',\n",
       "  'properties': {'book': {'type': 'object',\n",
       "    'description': 'The book to find the halfway point of',\n",
       "    '$ref': '#/$defs/Book'},\n",
       "   'percent': {'type': 'integer',\n",
       "    'description': 'Percent of a book to read to, e.g. halfway == 50,'}},\n",
       "  'title': None,\n",
       "  'required': ['book', 'percent'],\n",
       "  '$defs': {'Book': {'type': 'object',\n",
       "    'properties': {'title': {'type': 'string', 'description': ''},\n",
       "     'pages': {'type': 'integer', 'description': ''}},\n",
       "    'title': 'Book',\n",
       "    'required': ['title', 'pages']}}}}"
      ]
     },
     "execution_count": null,
     "metadata": {},
     "output_type": "execute_result"
    }
   ],
   "source": [
    "get_schema(find_page)"
   ]
  },
  {
   "cell_type": "code",
   "execution_count": null,
   "id": "c39dac76",
   "metadata": {},
   "outputs": [
    {
     "data": {
      "text/plain": [
       "{'type': 'tool', 'name': 'find_page'}"
      ]
     },
     "execution_count": null,
     "metadata": {},
     "output_type": "execute_result"
    }
   ],
   "source": [
    "choice = mk_tool_choice('find_page')\n",
    "choice"
   ]
  },
  {
   "cell_type": "markdown",
   "id": "c0795da1",
   "metadata": {},
   "source": [
    "Claudette will pack objects as dict, so we'll transform tool functions with user-defined types into tool functions that accept a dict in lieu of the user-defined type.\n",
    "\n",
    "First let's convert a single argument:"
   ]
  },
  {
   "cell_type": "code",
   "execution_count": null,
   "id": "a8f64918",
   "metadata": {},
   "outputs": [],
   "source": [
    "#| export\n",
    "def _is_builtin(tp: type):\n",
    "    \"Returns True for built in primitive types or containers\"\n",
    "    return (tp in (str, int, float, bool, complex) or tp is None\n",
    "        or getattr(tp, '__origin__', None) is not None)  # Pass through all container types\n",
    "\n",
    "def _convert(val: Dict, # dictionary argument being passed in\n",
    "            tp: type): # type of the tool function input\n",
    "    \"Convert converts a single argument\"\n",
    "    if val is None or _is_builtin(tp) or not isinstance(val, dict): return val\n",
    "    return tp(**val)"
   ]
  },
  {
   "cell_type": "markdown",
   "id": "fbb1fd24",
   "metadata": {},
   "source": [
    "`_is_builtin` decides whether to pass an argument through as-is. Let's check the argument conversion:"
   ]
  },
  {
   "cell_type": "code",
   "execution_count": null,
   "id": "e6182cae",
   "metadata": {},
   "outputs": [
    {
     "data": {
      "text/plain": [
       "(True, False, True)"
      ]
     },
     "execution_count": null,
     "metadata": {},
     "output_type": "execute_result"
    }
   ],
   "source": [
    "(_is_builtin(int), _is_builtin(Book), _is_builtin(List))"
   ]
  },
  {
   "cell_type": "code",
   "execution_count": null,
   "id": "30bcf8cd",
   "metadata": {},
   "outputs": [
    {
     "data": {
      "text/plain": [
       "(555,\n",
       " Book Title : War and Peace\n",
       " Number of Pages : 923,\n",
       " [1, 2, 3, 4])"
      ]
     },
     "execution_count": null,
     "metadata": {},
     "output_type": "execute_result"
    }
   ],
   "source": [
    "(_convert(555, int),\n",
    " _convert({\"title\": \"War and Peace\", \"pages\": 923}, Book),\n",
    " _convert([1, 2, 3, 4], List))"
   ]
  },
  {
   "cell_type": "markdown",
   "id": "21d4ed6a",
   "metadata": {},
   "source": [
    "To apply `tool()` to a function is to return a new function where the user-defined types are replaced with dictionary inputs."
   ]
  },
  {
   "cell_type": "code",
   "execution_count": null,
   "id": "ad70d01a",
   "metadata": {},
   "outputs": [],
   "source": [
    "#| export\n",
    "def tool(func):\n",
    "    if isinstance(func, dict): return func # it's a schema, so don't change\n",
    "    hints = get_type_hints(func)\n",
    "    @wraps(func)\n",
    "    def wrapper(*args, **kwargs):\n",
    "        new_args = [_convert(arg, hints[p]) for p,arg in zip(inspect.signature(func).parameters, args)]\n",
    "        new_kwargs = {k: _convert(v, hints[k]) if k in hints else v for k,v in kwargs.items()}\n",
    "        return func(*new_args, **new_kwargs)\n",
    "    return wrapper"
   ]
  },
  {
   "cell_type": "markdown",
   "id": "a80c69d7",
   "metadata": {},
   "source": [
    "A function is transformed into a function with dict arguments substituted for user-defined types. Built-in types such as `percent` here are left untouched."
   ]
  },
  {
   "cell_type": "code",
   "execution_count": null,
   "id": "dbe72ab6",
   "metadata": {},
   "outputs": [
    {
     "data": {
      "text/plain": [
       "475"
      ]
     },
     "execution_count": null,
     "metadata": {},
     "output_type": "execute_result"
    }
   ],
   "source": [
    "find_page(book=Book(\"War and Peace\", 950), percent=50)"
   ]
  },
  {
   "cell_type": "code",
   "execution_count": null,
   "id": "261f3253",
   "metadata": {},
   "outputs": [
    {
     "data": {
      "text/plain": [
       "475"
      ]
     },
     "execution_count": null,
     "metadata": {},
     "output_type": "execute_result"
    }
   ],
   "source": [
    "tool(find_page)({\"title\": \"War and Peace\", \"pages\": 950}, percent=50)"
   ]
  },
  {
   "cell_type": "markdown",
   "id": "6428afcb",
   "metadata": {},
   "source": [
    "By passing tools wrapped by `tool()`, user-defined types now work completes without failing in tool calls."
   ]
  },
  {
   "cell_type": "code",
   "execution_count": null,
   "id": "48cdcfc2",
   "metadata": {},
   "outputs": [
    {
     "data": {
      "text/plain": [
       "<function __main__.find_page(book: __main__.Book, percent: int) -> int>"
      ]
     },
     "execution_count": null,
     "metadata": {},
     "output_type": "execute_result"
    }
   ],
   "source": [
    "pr = \"How many pages do I have to read to get halfway through my 950 page copy of War and Peace\"\n",
    "tools = tool(find_page)\n",
    "tools"
   ]
  },
  {
   "cell_type": "code",
   "execution_count": null,
   "id": "848a319e",
   "metadata": {},
   "outputs": [
    {
     "data": {
      "text/plain": [
       "ToolUseBlock(id='toolu_012HsKTgeqwpJSBwoPxJaTiZ', input={'book': {'title': 'War and Peace', 'pages': 950}, 'percent': 50}, name='find_page', type='tool_use')"
      ]
     },
     "execution_count": null,
     "metadata": {},
     "output_type": "execute_result"
    }
   ],
   "source": [
    "r = c(pr, tools=[tools])\n",
    "find_block(r, ToolUseBlock)"
   ]
  },
  {
   "cell_type": "code",
   "execution_count": null,
   "id": "209fbdf0",
   "metadata": {},
   "outputs": [
    {
     "data": {
      "text/plain": [
       "[{'role': 'assistant',\n",
       "  'content': [{'citations': None,\n",
       "    'text': 'I can help you find the halfway point of your book. Let me calculate how many pages you need to read to get halfway through your 950-page copy of War and Peace.',\n",
       "    'type': 'text'},\n",
       "   {'id': 'toolu_012HsKTgeqwpJSBwoPxJaTiZ',\n",
       "    'input': {'book': {'title': 'War and Peace', 'pages': 950}, 'percent': 50},\n",
       "    'name': 'find_page',\n",
       "    'type': 'tool_use'}]},\n",
       " {'role': 'user',\n",
       "  'content': [{'type': 'tool_result',\n",
       "    'tool_use_id': 'toolu_012HsKTgeqwpJSBwoPxJaTiZ',\n",
       "    'content': '475'}]}]"
      ]
     },
     "execution_count": null,
     "metadata": {},
     "output_type": "execute_result"
    }
   ],
   "source": [
    "tr = mk_toolres(r, ns=[tools])\n",
    "tr"
   ]
  },
  {
   "cell_type": "code",
   "execution_count": null,
   "id": "8abdec8a",
   "metadata": {},
   "outputs": [
    {
     "data": {
      "text/plain": [
       "'You need to read 475 pages to reach the halfway point of your 950-page copy of War and Peace.'"
      ]
     },
     "execution_count": null,
     "metadata": {},
     "output_type": "execute_result"
    }
   ],
   "source": [
    "msgs = [pr]+tr\n",
    "contents(c(msgs, sp=sp, tools=[tools]))"
   ]
  },
  {
   "cell_type": "markdown",
   "id": "4ea144b8",
   "metadata": {},
   "source": [
    "## Chat"
   ]
  },
  {
   "cell_type": "markdown",
   "id": "419fab81",
   "metadata": {},
   "source": [
    "Rather than manually adding the responses to a dialog, we'll create a simple `Chat` class to do that for us, each time we make a request. We'll also store the system prompt and tools here, to avoid passing them every time."
   ]
  },
  {
   "cell_type": "code",
   "execution_count": null,
   "id": "755dd2a1",
   "metadata": {},
   "outputs": [],
   "source": [
    "#| export\n",
    "class Chat:\n",
    "    def __init__(self,\n",
    "                 model:Optional[str]=None, # Model to use (leave empty if passing `cli`)\n",
    "                 cli:Optional[Client]=None, # Client to use (leave empty if passing `model`)\n",
    "                 sp='', # Optional system prompt\n",
    "                 tools:Optional[list]=None, # List of tools to make available to Claude\n",
    "                 temp=0, # Temperature\n",
    "                 cont_pr:Optional[str]=None, # User prompt to continue an assistant response\n",
    "                 cache: bool = False,  # Use Claude cache?\n",
    "                 hist: list = None,  # Initialize history\n",
    "                 ns:Optional[abc.Mapping]=None # Namespace to search for tools\n",
    "                ):\n",
    "        \"Anthropic chat client.\"\n",
    "        assert model or cli\n",
    "        assert cont_pr != \"\", \"cont_pr may not be an empty string\"\n",
    "        self.c = (cli or Client(model, cache=cache))\n",
    "        if hist is None: hist=[]\n",
    "        if tools: tools = [tool(t) for t in tools]\n",
    "        if ns is None: ns=tools\n",
    "        self.h,self.sp,self.tools,self.cont_pr,self.temp,self.cache,self.ns = hist,sp,tools,cont_pr,temp,cache,ns\n",
    "\n",
    "    @property\n",
    "    def use(self): return self.c.use"
   ]
  },
  {
   "cell_type": "markdown",
   "id": "c3f16d4e",
   "metadata": {},
   "source": [
    "The class stores the `Client` that will provide the responses in `c`, and a history of messages in `h`."
   ]
  },
  {
   "cell_type": "code",
   "execution_count": null,
   "id": "04b837c5",
   "metadata": {},
   "outputs": [
    {
     "data": {
      "text/plain": [
       "(In: 0; Out: 0; Cache create: 0; Cache read: 0; Total Tokens: 0; Server tool use (web search requests): 0,\n",
       " [])"
      ]
     },
     "execution_count": null,
     "metadata": {},
     "output_type": "execute_result"
    }
   ],
   "source": [
    "sp = \"Never mention what tools you use.\"\n",
    "chat = Chat(model, sp=sp)\n",
    "chat.c.use, chat.h"
   ]
  },
  {
   "cell_type": "code",
   "execution_count": null,
   "id": "10360d53",
   "metadata": {},
   "outputs": [
    {
     "data": {
      "text/plain": [
       "0.0"
      ]
     },
     "execution_count": null,
     "metadata": {},
     "output_type": "execute_result"
    }
   ],
   "source": [
    "chat.c.use.cost(pricing[model_types[chat.c.model]])"
   ]
  },
  {
   "cell_type": "markdown",
   "id": "8b36fcec",
   "metadata": {},
   "source": [
    "This is clunky. Let's add `cost` as a property for the `Chat` class. It will pass in the appropriate prices for the current model to the usage cost calculator."
   ]
  },
  {
   "cell_type": "code",
   "execution_count": null,
   "id": "aae25dd2",
   "metadata": {},
   "outputs": [],
   "source": [
    "#| exports\n",
    "@patch(as_prop=True)\n",
    "def cost(self: Chat) -> float: return self.c.cost"
   ]
  },
  {
   "cell_type": "code",
   "execution_count": null,
   "id": "793d2f2d",
   "metadata": {},
   "outputs": [
    {
     "data": {
      "text/plain": [
       "0.0"
      ]
     },
     "execution_count": null,
     "metadata": {},
     "output_type": "execute_result"
    }
   ],
   "source": [
    "chat.cost"
   ]
  },
  {
   "cell_type": "code",
   "execution_count": null,
   "id": "42a05df9",
   "metadata": {},
   "outputs": [],
   "source": [
    "#| exports\n",
    "@patch\n",
    "def _stream(self:Chat, res):\n",
    "    yield from res\n",
    "    self.h += mk_toolres(self.c.result, ns=self.tools, obj=self)"
   ]
  },
  {
   "cell_type": "code",
   "execution_count": null,
   "id": "d0178ee1",
   "metadata": {},
   "outputs": [],
   "source": [
    "#| exports\n",
    "@patch\n",
    "def _post_pr(self:Chat, pr, prev_role):\n",
    "    if pr is None and prev_role == 'assistant':\n",
    "        if self.cont_pr is None:\n",
    "            raise ValueError(\"Prompt must be given after assistant completion, or use `self.cont_pr`.\")\n",
    "        pr = self.cont_pr # No user prompt, keep the chain\n",
    "    if pr: self.h.append(mk_msg(pr, cache=self.cache))"
   ]
  },
  {
   "cell_type": "code",
   "execution_count": null,
   "id": "1b5c04e6",
   "metadata": {},
   "outputs": [],
   "source": [
    "#| exports\n",
    "@patch\n",
    "def _append_pr(self:Chat,\n",
    "               pr=None,  # Prompt / message\n",
    "              ):\n",
    "    prev_role = nested_idx(self.h, -1, 'role') if self.h else 'assistant' # First message should be 'user'\n",
    "    if pr and prev_role == 'user': self() # already user request pending\n",
    "    self._post_pr(pr, prev_role)"
   ]
  },
  {
   "cell_type": "code",
   "execution_count": null,
   "id": "a9bcc67a",
   "metadata": {},
   "outputs": [],
   "source": [
    "#| exports\n",
    "@patch\n",
    "def __call__(self:Chat,\n",
    "             pr=None,  # Prompt / message\n",
    "             temp=None, # Temperature\n",
    "             maxtok=4096, # Maximum tokens\n",
    "             maxthinktok=0, # Maximum thinking tokens\n",
    "             stream=False, # Stream response?\n",
    "             prefill='', # Optional prefill to pass to Claude as start of its response\n",
    "             tool_choice:Optional[dict]=None, # Optionally force use of some tool\n",
    "             **kw):\n",
    "    if temp is None: temp=self.temp\n",
    "    self._append_pr(pr)\n",
    "    res = self.c(self.h, stream=stream, prefill=prefill, sp=self.sp, temp=temp, maxtok=maxtok, maxthinktok=maxthinktok, tools=self.tools, tool_choice=tool_choice,**kw)\n",
    "    if stream: return self._stream(res)\n",
    "    self.h += mk_toolres(self.c.result, ns=self.ns)\n",
    "    return res"
   ]
  },
  {
   "cell_type": "markdown",
   "id": "f97c5cd7",
   "metadata": {},
   "source": [
    "The `__call__` method just passes the request along to the `Client`, but rather than just passing in this one prompt, it appends it to the history and passes it all along. As a result, we now have state!"
   ]
  },
  {
   "cell_type": "code",
   "execution_count": null,
   "id": "cb393257",
   "metadata": {},
   "outputs": [],
   "source": [
    "chat = Chat(model, sp=sp)"
   ]
  },
  {
   "cell_type": "code",
   "execution_count": null,
   "id": "40073f42",
   "metadata": {},
   "outputs": [
    {
     "data": {
      "text/markdown": [
       "Your name is Jeremy, as you mentioned in your previous message.\n",
       "\n",
       "<details>\n",
       "\n",
       "- id: `msg_018q1k9EPACg8QjBAeP7qpE1`\n",
       "- content: `[{'citations': None, 'text': 'Your name is Jeremy, as you mentioned in your previous message.', 'type': 'text'}]`\n",
       "- model: `claude-3-7-sonnet-20250219`\n",
       "- role: `assistant`\n",
       "- stop_reason: `end_turn`\n",
       "- stop_sequence: `None`\n",
       "- type: `message`\n",
       "- usage: `{'cache_creation_input_tokens': 0, 'cache_read_input_tokens': 0, 'input_tokens': 59, 'output_tokens': 16, 'server_tool_use': None}`\n",
       "\n",
       "</details>"
      ],
      "text/plain": [
       "Message(id='msg_018q1k9EPACg8QjBAeP7qpE1', content=[TextBlock(citations=None, text='Your name is Jeremy, as you mentioned in your previous message.', type='text')], model='claude-3-7-sonnet-20250219', role='assistant', stop_reason='end_turn', stop_sequence=None, type='message', usage=In: 59; Out: 16; Cache create: 0; Cache read: 0; Total Tokens: 75; Server tool use (web search requests): 0)"
      ]
     },
     "execution_count": null,
     "metadata": {},
     "output_type": "execute_result"
    }
   ],
   "source": [
    "chat(\"I'm Jeremy\")\n",
    "chat(\"What's my name?\")"
   ]
  },
  {
   "cell_type": "code",
   "execution_count": null,
   "id": "5457b51d",
   "metadata": {},
   "outputs": [
    {
     "data": {
      "text/plain": [
       "(In: 76; Out: 50; Cache create: 0; Cache read: 0; Total Tokens: 126; Server tool use (web search requests): 0,\n",
       " 0.000978)"
      ]
     },
     "execution_count": null,
     "metadata": {},
     "output_type": "execute_result"
    }
   ],
   "source": [
    "chat.use, chat.cost"
   ]
  },
  {
   "cell_type": "markdown",
   "id": "a7df0327",
   "metadata": {},
   "source": [
    "Let's try out prefill too:"
   ]
  },
  {
   "cell_type": "code",
   "execution_count": null,
   "id": "20a32de0",
   "metadata": {},
   "outputs": [],
   "source": [
    "q = \"Concisely, what is the meaning of life?\"\n",
    "pref = 'According to Douglas Adams,'"
   ]
  },
  {
   "cell_type": "code",
   "execution_count": null,
   "id": "b07bce62",
   "metadata": {},
   "outputs": [
    {
     "data": {
      "text/markdown": [
       "Your name is Jeremy, as you mentioned in your previous message.\n",
       "\n",
       "<details>\n",
       "\n",
       "- id: `msg_018q1k9EPACg8QjBAeP7qpE1`\n",
       "- content: `[{'citations': None, 'text': 'Your name is Jeremy, as you mentioned in your previous message.', 'type': 'text'}]`\n",
       "- model: `claude-3-7-sonnet-20250219`\n",
       "- role: `assistant`\n",
       "- stop_reason: `end_turn`\n",
       "- stop_sequence: `None`\n",
       "- type: `message`\n",
       "- usage: `{'cache_creation_input_tokens': 0, 'cache_read_input_tokens': 0, 'input_tokens': 59, 'output_tokens': 16, 'server_tool_use': None}`\n",
       "\n",
       "</details>"
      ],
      "text/plain": [
       "Message(id='msg_018q1k9EPACg8QjBAeP7qpE1', content=[TextBlock(citations=None, text='Your name is Jeremy, as you mentioned in your previous message.', type='text')], model='claude-3-7-sonnet-20250219', role='assistant', stop_reason='end_turn', stop_sequence=None, type='message', usage=In: 59; Out: 16; Cache create: 0; Cache read: 0; Total Tokens: 75; Server tool use (web search requests): 0)"
      ]
     },
     "execution_count": null,
     "metadata": {},
     "output_type": "execute_result"
    }
   ],
   "source": [
    "chat.c.result"
   ]
  },
  {
   "cell_type": "code",
   "execution_count": null,
   "id": "9b28705d",
   "metadata": {},
   "outputs": [
    {
     "data": {
      "text/markdown": [
       "According to Douglas Adams,  42. More seriously, the meaning of life is likely what you create through your relationships, pursuits, and values.\n",
       "\n",
       "<details>\n",
       "\n",
       "- id: `msg_01QmdBDZ7vf8pLcHoTCqsmQn`\n",
       "- content: `[{'citations': None, 'text': 'According to Douglas Adams,  42. More seriously, the meaning of life is likely what you create through your relationships, pursuits, and values.', 'type': 'text'}]`\n",
       "- model: `claude-3-7-sonnet-20250219`\n",
       "- role: `assistant`\n",
       "- stop_reason: `end_turn`\n",
       "- stop_sequence: `None`\n",
       "- type: `message`\n",
       "- usage: `{'cache_creation_input_tokens': 0, 'cache_read_input_tokens': 0, 'input_tokens': 95, 'output_tokens': 28, 'server_tool_use': None}`\n",
       "\n",
       "</details>"
      ],
      "text/plain": [
       "Message(id='msg_01QmdBDZ7vf8pLcHoTCqsmQn', content=[TextBlock(citations=None, text='According to Douglas Adams,  42. More seriously, the meaning of life is likely what you create through your relationships, pursuits, and values.', type='text')], model='claude-3-7-sonnet-20250219', role='assistant', stop_reason='end_turn', stop_sequence=None, type='message', usage=In: 95; Out: 28; Cache create: 0; Cache read: 0; Total Tokens: 123; Server tool use (web search requests): 0)"
      ]
     },
     "execution_count": null,
     "metadata": {},
     "output_type": "execute_result"
    }
   ],
   "source": [
    "chat(q, prefill=pref)"
   ]
  },
  {
   "cell_type": "markdown",
   "id": "fbd28a97",
   "metadata": {},
   "source": [
    "By default messages must be in user, assistant, user format. If this isn't followed (aka calling `chat()` without a user message) it will error out:"
   ]
  },
  {
   "cell_type": "code",
   "execution_count": null,
   "id": "c3761928",
   "metadata": {},
   "outputs": [
    {
     "name": "stdout",
     "output_type": "stream",
     "text": [
      "Error: Prompt must be given after assistant completion, or use `self.cont_pr`.\n"
     ]
    }
   ],
   "source": [
    "try: chat()\n",
    "except ValueError as e: print(\"Error:\", e)"
   ]
  },
  {
   "cell_type": "markdown",
   "id": "4d57b5c7",
   "metadata": {},
   "source": [
    "Setting `cont_pr` allows a \"default prompt\" to be specified when a prompt isn't specified. Usually used to prompt the model to continue."
   ]
  },
  {
   "cell_type": "code",
   "execution_count": null,
   "id": "54c5a2bc",
   "metadata": {},
   "outputs": [
    {
     "data": {
      "text/markdown": [
       "The meaning of life varies across philosophical traditions: finding happiness, serving others, seeking knowledge, fulfilling one's potential, or connecting with something greater than oneself. Ultimately, many find meaning in personal growth, loving relationships, contributing to society, and pursuing what brings them genuine fulfillment. Rather than a single universal answer, meaning often emerges from our individual journeys and choices.\n",
       "\n",
       "<details>\n",
       "\n",
       "- id: `msg_01YJDurNFrknbtQjLMUGkL6S`\n",
       "- content: `[{'citations': None, 'text': \"The meaning of life varies across philosophical traditions: finding happiness, serving others, seeking knowledge, fulfilling one's potential, or connecting with something greater than oneself. Ultimately, many find meaning in personal growth, loving relationships, contributing to society, and pursuing what brings them genuine fulfillment. Rather than a single universal answer, meaning often emerges from our individual journeys and choices.\", 'type': 'text'}]`\n",
       "- model: `claude-3-7-sonnet-20250219`\n",
       "- role: `assistant`\n",
       "- stop_reason: `end_turn`\n",
       "- stop_sequence: `None`\n",
       "- type: `message`\n",
       "- usage: `{'cache_creation_input_tokens': 0, 'cache_read_input_tokens': 0, 'input_tokens': 129, 'output_tokens': 82, 'server_tool_use': None}`\n",
       "\n",
       "</details>"
      ],
      "text/plain": [
       "Message(id='msg_01YJDurNFrknbtQjLMUGkL6S', content=[TextBlock(citations=None, text=\"The meaning of life varies across philosophical traditions: finding happiness, serving others, seeking knowledge, fulfilling one's potential, or connecting with something greater than oneself. Ultimately, many find meaning in personal growth, loving relationships, contributing to society, and pursuing what brings them genuine fulfillment. Rather than a single universal answer, meaning often emerges from our individual journeys and choices.\", type='text')], model='claude-3-7-sonnet-20250219', role='assistant', stop_reason='end_turn', stop_sequence=None, type='message', usage=In: 129; Out: 82; Cache create: 0; Cache read: 0; Total Tokens: 211; Server tool use (web search requests): 0)"
      ]
     },
     "execution_count": null,
     "metadata": {},
     "output_type": "execute_result"
    }
   ],
   "source": [
    "chat.cont_pr = \"keep going...\"\n",
    "chat()"
   ]
  },
  {
   "cell_type": "markdown",
   "id": "776b3d1e",
   "metadata": {},
   "source": [
    "We can also use streaming:"
   ]
  },
  {
   "cell_type": "code",
   "execution_count": null,
   "id": "529104ec",
   "metadata": {},
   "outputs": [
    {
     "name": "stdout",
     "output_type": "stream",
     "text": [
      "Hello Jeremy! It's nice to meet you. How are you doing today? Is there something I can help you with or would you like to chat?"
     ]
    }
   ],
   "source": [
    "chat = Chat(model, sp=sp)\n",
    "for o in chat(\"I'm Jeremy\", stream=True): print(o, end='')"
   ]
  },
  {
   "cell_type": "code",
   "execution_count": null,
   "id": "14abb3dc",
   "metadata": {},
   "outputs": [
    {
     "name": "stdout",
     "output_type": "stream",
     "text": [
      "According to Douglas Adams,  it's 42. More seriously, the meaning of life is deeply personal - many find it in relationships, creating positive impact, pursuing passions, or spiritual fulfillment. There's no universal answer; meaning is what you choose to create."
     ]
    }
   ],
   "source": [
    "for o in chat(q, prefill=pref, stream=True): print(o, end='')"
   ]
  },
  {
   "cell_type": "markdown",
   "id": "0acdca39",
   "metadata": {},
   "source": [
    "You can provide a history of messages to initialise `Chat` with:"
   ]
  },
  {
   "cell_type": "code",
   "execution_count": null,
   "id": "32814e78",
   "metadata": {},
   "outputs": [
    {
     "data": {
      "text/markdown": [
       "I didn't actually know your name! I was just making a random guess for fun. It's quite surprising that I happened to guess correctly. What are the chances of that?\n",
       "\n",
       "If you'd like, you can share how you'd prefer me to address you in our conversation.\n",
       "\n",
       "<details>\n",
       "\n",
       "- id: `msg_012dvDUX8udLpFYPNfUa2sv5`\n",
       "- content: `[{'citations': None, 'text': \"I didn't actually know your name! I was just making a random guess for fun. It's quite surprising that I happened to guess correctly. What are the chances of that?\\n\\nIf you'd like, you can share how you'd prefer me to address you in our conversation.\", 'type': 'text'}]`\n",
       "- model: `claude-3-7-sonnet-20250219`\n",
       "- role: `assistant`\n",
       "- stop_reason: `end_turn`\n",
       "- stop_sequence: `None`\n",
       "- type: `message`\n",
       "- usage: `{'cache_creation_input_tokens': 0, 'cache_read_input_tokens': 0, 'input_tokens': 58, 'output_tokens': 60, 'server_tool_use': None}`\n",
       "\n",
       "</details>"
      ],
      "text/plain": [
       "Message(id='msg_012dvDUX8udLpFYPNfUa2sv5', content=[TextBlock(citations=None, text=\"I didn't actually know your name! I was just making a random guess for fun. It's quite surprising that I happened to guess correctly. What are the chances of that?\\n\\nIf you'd like, you can share how you'd prefer me to address you in our conversation.\", type='text')], model='claude-3-7-sonnet-20250219', role='assistant', stop_reason='end_turn', stop_sequence=None, type='message', usage=In: 58; Out: 60; Cache create: 0; Cache read: 0; Total Tokens: 118; Server tool use (web search requests): 0)"
      ]
     },
     "execution_count": null,
     "metadata": {},
     "output_type": "execute_result"
    }
   ],
   "source": [
    "chat = Chat(model, sp=sp, hist=[\"Can you guess my name?\", \"Hmmm I really don't know. Is it 'Merlin G. Penfolds'?\"])\n",
    "chat('Wow how did you know?')"
   ]
  },
  {
   "cell_type": "markdown",
   "id": "6b40892f",
   "metadata": {},
   "source": [
    "### Chat tool use"
   ]
  },
  {
   "cell_type": "markdown",
   "id": "062f7edf",
   "metadata": {},
   "source": [
    "We automagically get streamlined tool use as well:"
   ]
  },
  {
   "cell_type": "code",
   "execution_count": null,
   "id": "ee6535cf",
   "metadata": {},
   "outputs": [
    {
     "data": {
      "text/plain": [
       "'What is 604542+6458932?'"
      ]
     },
     "execution_count": null,
     "metadata": {},
     "output_type": "execute_result"
    }
   ],
   "source": [
    "pr = f\"What is {a}+{b}?\"\n",
    "pr"
   ]
  },
  {
   "cell_type": "code",
   "execution_count": null,
   "id": "797741c5",
   "metadata": {},
   "outputs": [
    {
     "name": "stdout",
     "output_type": "stream",
     "text": [
      "Finding the sum of 604542 and 6458932\n"
     ]
    },
    {
     "data": {
      "text/markdown": [
       "I'll calculate the sum of those two numbers for you.\n",
       "\n",
       "<details>\n",
       "\n",
       "- id: `msg_01QFwCbk595VHhnKqqZc2EMi`\n",
       "- content: `[{'citations': None, 'text': \"I'll calculate the sum of those two numbers for you.\", 'type': 'text'}, {'id': 'toolu_016ViHPsnWnzVq65MwRyr8gW', 'input': {'a': 604542, 'b': 6458932}, 'name': 'sums', 'type': 'tool_use'}]`\n",
       "- model: `claude-3-7-sonnet-20250219`\n",
       "- role: `assistant`\n",
       "- stop_reason: `tool_use`\n",
       "- stop_sequence: `None`\n",
       "- type: `message`\n",
       "- usage: `{'cache_creation_input_tokens': 0, 'cache_read_input_tokens': 0, 'input_tokens': 437, 'output_tokens': 85, 'server_tool_use': None}`\n",
       "\n",
       "</details>"
      ],
      "text/plain": [
       "Message(id='msg_01QFwCbk595VHhnKqqZc2EMi', content=[TextBlock(citations=None, text=\"I'll calculate the sum of those two numbers for you.\", type='text'), ToolUseBlock(id='toolu_016ViHPsnWnzVq65MwRyr8gW', input={'a': 604542, 'b': 6458932}, name='sums', type='tool_use')], model='claude-3-7-sonnet-20250219', role='assistant', stop_reason='tool_use', stop_sequence=None, type='message', usage=In: 437; Out: 85; Cache create: 0; Cache read: 0; Total Tokens: 522; Server tool use (web search requests): 0)"
      ]
     },
     "execution_count": null,
     "metadata": {},
     "output_type": "execute_result"
    }
   ],
   "source": [
    "chat = Chat(model, sp=sp, tools=[sums])\n",
    "r = chat(pr)\n",
    "r"
   ]
  },
  {
   "cell_type": "markdown",
   "id": "ff5513be",
   "metadata": {},
   "source": [
    "Now we need to send this result to Claude—calling the object with no parameters tells it to return the tool result to Claude:"
   ]
  },
  {
   "cell_type": "code",
   "execution_count": null,
   "id": "b091eae0",
   "metadata": {},
   "outputs": [
    {
     "data": {
      "text/markdown": [
       "The sum of 604542 and 6458932 is 7,063,474.\n",
       "\n",
       "<details>\n",
       "\n",
       "- id: `msg_01PaLtHRATzhFrQFV3eg82pG`\n",
       "- content: `[{'citations': None, 'text': 'The sum of 604542 and 6458932 is 7,063,474.', 'type': 'text'}]`\n",
       "- model: `claude-3-7-sonnet-20250219`\n",
       "- role: `assistant`\n",
       "- stop_reason: `end_turn`\n",
       "- stop_sequence: `None`\n",
       "- type: `message`\n",
       "- usage: `{'cache_creation_input_tokens': 0, 'cache_read_input_tokens': 0, 'input_tokens': 536, 'output_tokens': 25, 'server_tool_use': None}`\n",
       "\n",
       "</details>"
      ],
      "text/plain": [
       "Message(id='msg_01PaLtHRATzhFrQFV3eg82pG', content=[TextBlock(citations=None, text='The sum of 604542 and 6458932 is 7,063,474.', type='text')], model='claude-3-7-sonnet-20250219', role='assistant', stop_reason='end_turn', stop_sequence=None, type='message', usage=In: 536; Out: 25; Cache create: 0; Cache read: 0; Total Tokens: 561; Server tool use (web search requests): 0)"
      ]
     },
     "execution_count": null,
     "metadata": {},
     "output_type": "execute_result"
    }
   ],
   "source": [
    "chat()"
   ]
  },
  {
   "cell_type": "markdown",
   "id": "8e551677",
   "metadata": {},
   "source": [
    "It should be correct, because it actually used our Python function to do the addition. Let's check:"
   ]
  },
  {
   "cell_type": "code",
   "execution_count": null,
   "id": "06bfbf3d",
   "metadata": {},
   "outputs": [
    {
     "data": {
      "text/plain": [
       "7063474"
      ]
     },
     "execution_count": null,
     "metadata": {},
     "output_type": "execute_result"
    }
   ],
   "source": [
    "a+b"
   ]
  },
  {
   "cell_type": "markdown",
   "id": "445b2aa2",
   "metadata": {},
   "source": [
    "Let's test a function with user defined types."
   ]
  },
  {
   "cell_type": "code",
   "execution_count": null,
   "id": "d4db78d9",
   "metadata": {},
   "outputs": [
    {
     "data": {
      "text/markdown": [
       "To find out how many pages is three quarters of the way through your 80-page edition of Tao Te Ching, I'll calculate that for you.\n",
       "\n",
       "<details>\n",
       "\n",
       "- id: `msg_01FPy3rjcqggtxdRxgHG37PP`\n",
       "- content: `[{'citations': None, 'text': \"To find out how many pages is three quarters of the way through your 80-page edition of Tao Te Ching, I'll calculate that for you.\", 'type': 'text'}, {'id': 'toolu_013YVRza4qFjXh7Qv9aryPp4', 'input': {'book': {'title': 'Tao Te Ching', 'pages': 80}, 'percent': 75}, 'name': 'find_page', 'type': 'tool_use'}]`\n",
       "- model: `claude-3-7-sonnet-20250219`\n",
       "- role: `assistant`\n",
       "- stop_reason: `tool_use`\n",
       "- stop_sequence: `None`\n",
       "- type: `message`\n",
       "- usage: `{'cache_creation_input_tokens': 0, 'cache_read_input_tokens': 0, 'input_tokens': 547, 'output_tokens': 122, 'server_tool_use': None}`\n",
       "\n",
       "</details>"
      ],
      "text/plain": [
       "Message(id='msg_01FPy3rjcqggtxdRxgHG37PP', content=[TextBlock(citations=None, text=\"To find out how many pages is three quarters of the way through your 80-page edition of Tao Te Ching, I'll calculate that for you.\", type='text'), ToolUseBlock(id='toolu_013YVRza4qFjXh7Qv9aryPp4', input={'book': {'title': 'Tao Te Ching', 'pages': 80}, 'percent': 75}, name='find_page', type='tool_use')], model='claude-3-7-sonnet-20250219', role='assistant', stop_reason='tool_use', stop_sequence=None, type='message', usage=In: 547; Out: 122; Cache create: 0; Cache read: 0; Total Tokens: 669; Server tool use (web search requests): 0)"
      ]
     },
     "execution_count": null,
     "metadata": {},
     "output_type": "execute_result"
    }
   ],
   "source": [
    "chat = Chat(model, sp=sp, tools=[find_page])\n",
    "r = chat(\"How many pages is three quarters of the way through my 80 page edition of Tao Te Ching?\")\n",
    "r"
   ]
  },
  {
   "cell_type": "markdown",
   "id": "6486462c",
   "metadata": {},
   "source": [
    "Now we need to send this result to Claude—calling the object with no parameters tells it to return the tool result to Claude:"
   ]
  },
  {
   "cell_type": "code",
   "execution_count": null,
   "id": "0979c832",
   "metadata": {},
   "outputs": [
    {
     "data": {
      "text/markdown": [
       "Three quarters (75%) of the way through your 80-page edition of Tao Te Ching would be page 60.\n",
       "\n",
       "<details>\n",
       "\n",
       "- id: `msg_01JUU6YMCqFBW1shmzM7Fj8w`\n",
       "- content: `[{'citations': None, 'text': 'Three quarters (75%) of the way through your 80-page edition of Tao Te Ching would be page 60.', 'type': 'text'}]`\n",
       "- model: `claude-3-7-sonnet-20250219`\n",
       "- role: `assistant`\n",
       "- stop_reason: `end_turn`\n",
       "- stop_sequence: `None`\n",
       "- type: `message`\n",
       "- usage: `{'cache_creation_input_tokens': 0, 'cache_read_input_tokens': 0, 'input_tokens': 681, 'output_tokens': 33, 'server_tool_use': None}`\n",
       "\n",
       "</details>"
      ],
      "text/plain": [
       "Message(id='msg_01JUU6YMCqFBW1shmzM7Fj8w', content=[TextBlock(citations=None, text='Three quarters (75%) of the way through your 80-page edition of Tao Te Ching would be page 60.', type='text')], model='claude-3-7-sonnet-20250219', role='assistant', stop_reason='end_turn', stop_sequence=None, type='message', usage=In: 681; Out: 33; Cache create: 0; Cache read: 0; Total Tokens: 714; Server tool use (web search requests): 0)"
      ]
     },
     "execution_count": null,
     "metadata": {},
     "output_type": "execute_result"
    }
   ],
   "source": [
    "chat()"
   ]
  },
  {
   "cell_type": "markdown",
   "id": "b7054a02",
   "metadata": {},
   "source": [
    "It should be correct, because it actually used our Python function to do the addition. Let's check:"
   ]
  },
  {
   "cell_type": "code",
   "execution_count": null,
   "id": "b7ff0879",
   "metadata": {},
   "outputs": [
    {
     "data": {
      "text/plain": [
       "60.0"
      ]
     },
     "execution_count": null,
     "metadata": {},
     "output_type": "execute_result"
    }
   ],
   "source": [
    "80 * .75"
   ]
  },
  {
   "cell_type": "code",
   "execution_count": null,
   "id": "c76a22fb",
   "metadata": {},
   "outputs": [],
   "source": [
    "chat = Chat(model, tools=[text_editor_conf['sonnet']], ns=mk_ns(str_replace_editor))"
   ]
  },
  {
   "cell_type": "markdown",
   "id": "157d057f",
   "metadata": {},
   "source": [
    "Note that `mk_ns(str_replace_editor)` is used here. When not providing tools directly as Python functions (like `sum`), you **must** create and pass a namespace dictionary (mapping the tool name string to the function object) using the `ns` parameter to methods like `mk_toolres` or `toolloop`. `toolslm` cannot automatically generate the namespace in this case. For schema-based tools (i.e., Python functions), `claudette` handles namespace creation automatically."
   ]
  },
  {
   "cell_type": "code",
   "execution_count": null,
   "id": "ebbd0cd2",
   "metadata": {},
   "outputs": [
    {
     "data": {
      "text/plain": [
       "ToolUseBlock(id='toolu_01E6LUbTPMsTGZMbiSMbQ3vm', input={'command': 'view', 'path': '_quarto.yml'}, name='str_replace_editor', type='tool_use')"
      ]
     },
     "execution_count": null,
     "metadata": {},
     "output_type": "execute_result"
    }
   ],
   "source": [
    "r = chat('Please explain what my _quarto.yml does. Use your tools')\n",
    "find_block(r, ToolUseBlock)"
   ]
  },
  {
   "cell_type": "code",
   "execution_count": null,
   "id": "0b7717a8",
   "metadata": {},
   "outputs": [
    {
     "data": {
      "text/markdown": [
       "# Explanation of Your _quarto.yml File\n",
       "\n",
       "Your _quarto.yml is a configuration file for Quarto, which is a scientific and technical publishing system. Here's a breakdown of what it does:\n",
       "\n",
       "## Project Configuration\n",
       "- `project.type: website`: Defines this as a website project (as opposed to a book or other format)\n",
       "- `project.resources: [\"*.txt\"]`: Includes all .txt files as resources in the build\n",
       "- `project.preview.port: 3000`: Sets the preview server to run on port 3000\n",
       "- `project.preview.browser: false`: Prevents automatically opening a browser when previewing\n",
       "\n",
       "## Format Settings\n",
       "- `format.html`: Configures HTML output with several settings:\n",
       "  - `theme: cosmo`: Uses the \"cosmo\" theme for styling\n",
       "  - `css: styles.css`: Applies additional custom styles from styles.css\n",
       "  - `toc: true`: Enables table of contents\n",
       "  - `code-tools: true`: Enables code tools (like copy button)\n",
       "  - `code-block-bg: true`: Adds background to code blocks\n",
       "  - `code-block-border-left: \"#31BAE9\"`: Sets a blue left border for code blocks\n",
       "  - `highlight-style: arrow`: Uses the \"arrow\" syntax highlighting style\n",
       "  - `grid`: Configures the page layout with specific widths for sidebar (180px), body (1800px), margins (150px), and gutters (1.0rem)\n",
       "  - `keep-md: true`: Preserves Markdown files after rendering\n",
       "\n",
       "- `format.commonmark: default`: Also enables CommonMark format with default settings\n",
       "\n",
       "## Website Configuration\n",
       "- `website.twitter-card: true`: Enables Twitter card metadata\n",
       "- `website.open-graph: true`: Enables Open Graph metadata for social media sharing\n",
       "- `website.repo-actions: [issue]`: Adds an \"issue\" button for repository actions\n",
       "- `website.navbar.background: primary`: Sets the navbar background to the primary theme color\n",
       "- `website.navbar.search: true`: Enables search functionality in the navbar\n",
       "- `website.sidebar.style: floating`: Uses a floating style for the sidebar\n",
       "\n",
       "## Metadata Files\n",
       "- Includes two external metadata files:\n",
       "  - `nbdev.yml`: Likely contains nbdev-specific configurations (nbdev is a library for developing Python packages)\n",
       "  - `sidebar.yml`: Likely contains sidebar navigation structure\n",
       "\n",
       "This configuration sets up a website with good code display features, responsive layout, and integration with development tools. It appears to be designed for technical documentation, possibly for a Python package using nbdev.\n",
       "\n",
       "<details>\n",
       "\n",
       "- id: `msg_016Hxyn9LbZ5EuhYVXYSUoPv`\n",
       "- content: `[{'citations': None, 'text': '# Explanation of Your _quarto.yml File\\n\\nYour _quarto.yml is a configuration file for Quarto, which is a scientific and technical publishing system. Here\\'s a breakdown of what it does:\\n\\n## Project Configuration\\n- `project.type: website`: Defines this as a website project (as opposed to a book or other format)\\n- `project.resources: [\"*.txt\"]`: Includes all .txt files as resources in the build\\n- `project.preview.port: 3000`: Sets the preview server to run on port 3000\\n- `project.preview.browser: false`: Prevents automatically opening a browser when previewing\\n\\n## Format Settings\\n- `format.html`: Configures HTML output with several settings:\\n  - `theme: cosmo`: Uses the \"cosmo\" theme for styling\\n  - `css: styles.css`: Applies additional custom styles from styles.css\\n  - `toc: true`: Enables table of contents\\n  - `code-tools: true`: Enables code tools (like copy button)\\n  - `code-block-bg: true`: Adds background to code blocks\\n  - `code-block-border-left: \"#31BAE9\"`: Sets a blue left border for code blocks\\n  - `highlight-style: arrow`: Uses the \"arrow\" syntax highlighting style\\n  - `grid`: Configures the page layout with specific widths for sidebar (180px), body (1800px), margins (150px), and gutters (1.0rem)\\n  - `keep-md: true`: Preserves Markdown files after rendering\\n\\n- `format.commonmark: default`: Also enables CommonMark format with default settings\\n\\n## Website Configuration\\n- `website.twitter-card: true`: Enables Twitter card metadata\\n- `website.open-graph: true`: Enables Open Graph metadata for social media sharing\\n- `website.repo-actions: [issue]`: Adds an \"issue\" button for repository actions\\n- `website.navbar.background: primary`: Sets the navbar background to the primary theme color\\n- `website.navbar.search: true`: Enables search functionality in the navbar\\n- `website.sidebar.style: floating`: Uses a floating style for the sidebar\\n\\n## Metadata Files\\n- Includes two external metadata files:\\n  - `nbdev.yml`: Likely contains nbdev-specific configurations (nbdev is a library for developing Python packages)\\n  - `sidebar.yml`: Likely contains sidebar navigation structure\\n\\nThis configuration sets up a website with good code display features, responsive layout, and integration with development tools. It appears to be designed for technical documentation, possibly for a Python package using nbdev.', 'type': 'text'}]`\n",
       "- model: `claude-3-7-sonnet-20250219`\n",
       "- role: `assistant`\n",
       "- stop_reason: `end_turn`\n",
       "- stop_sequence: `None`\n",
       "- type: `message`\n",
       "- usage: `{'cache_creation_input_tokens': 0, 'cache_read_input_tokens': 0, 'input_tokens': 1372, 'output_tokens': 593, 'server_tool_use': None}`\n",
       "\n",
       "</details>"
      ],
      "text/plain": [
       "Message(id='msg_016Hxyn9LbZ5EuhYVXYSUoPv', content=[TextBlock(citations=None, text='# Explanation of Your _quarto.yml File\\n\\nYour _quarto.yml is a configuration file for Quarto, which is a scientific and technical publishing system. Here\\'s a breakdown of what it does:\\n\\n## Project Configuration\\n- `project.type: website`: Defines this as a website project (as opposed to a book or other format)\\n- `project.resources: [\"*.txt\"]`: Includes all .txt files as resources in the build\\n- `project.preview.port: 3000`: Sets the preview server to run on port 3000\\n- `project.preview.browser: false`: Prevents automatically opening a browser when previewing\\n\\n## Format Settings\\n- `format.html`: Configures HTML output with several settings:\\n  - `theme: cosmo`: Uses the \"cosmo\" theme for styling\\n  - `css: styles.css`: Applies additional custom styles from styles.css\\n  - `toc: true`: Enables table of contents\\n  - `code-tools: true`: Enables code tools (like copy button)\\n  - `code-block-bg: true`: Adds background to code blocks\\n  - `code-block-border-left: \"#31BAE9\"`: Sets a blue left border for code blocks\\n  - `highlight-style: arrow`: Uses the \"arrow\" syntax highlighting style\\n  - `grid`: Configures the page layout with specific widths for sidebar (180px), body (1800px), margins (150px), and gutters (1.0rem)\\n  - `keep-md: true`: Preserves Markdown files after rendering\\n\\n- `format.commonmark: default`: Also enables CommonMark format with default settings\\n\\n## Website Configuration\\n- `website.twitter-card: true`: Enables Twitter card metadata\\n- `website.open-graph: true`: Enables Open Graph metadata for social media sharing\\n- `website.repo-actions: [issue]`: Adds an \"issue\" button for repository actions\\n- `website.navbar.background: primary`: Sets the navbar background to the primary theme color\\n- `website.navbar.search: true`: Enables search functionality in the navbar\\n- `website.sidebar.style: floating`: Uses a floating style for the sidebar\\n\\n## Metadata Files\\n- Includes two external metadata files:\\n  - `nbdev.yml`: Likely contains nbdev-specific configurations (nbdev is a library for developing Python packages)\\n  - `sidebar.yml`: Likely contains sidebar navigation structure\\n\\nThis configuration sets up a website with good code display features, responsive layout, and integration with development tools. It appears to be designed for technical documentation, possibly for a Python package using nbdev.', type='text')], model='claude-3-7-sonnet-20250219', role='assistant', stop_reason='end_turn', stop_sequence=None, type='message', usage=In: 1372; Out: 593; Cache create: 0; Cache read: 0; Total Tokens: 1965; Server tool use (web search requests): 0)"
      ]
     },
     "execution_count": null,
     "metadata": {},
     "output_type": "execute_result"
    }
   ],
   "source": [
    "chat()"
   ]
  },
  {
   "cell_type": "code",
   "execution_count": null,
   "id": "f85f93da",
   "metadata": {},
   "outputs": [],
   "source": [
    "#| exports\n",
    "@patch\n",
    "def _repr_markdown_(self:Chat):\n",
    "    if not hasattr(self.c, 'result'): return 'No results yet'\n",
    "    last_msg = contents(self.c.result)\n",
    "    \n",
    "    def fmt_msg(m):\n",
    "        t = contents(m)\n",
    "        if isinstance(t, dict): return t['content']\n",
    "        return t\n",
    "        \n",
    "    history = '\\n\\n'.join(f\"**{m['role']}**: {fmt_msg(m)}\" \n",
    "                         for m in self.h)\n",
    "    det = self.c._repr_markdown_().split('\\n\\n')[-1]\n",
    "    return f\"\"\"{last_msg}\n",
    "\n",
    "<details>\n",
    "<summary>History</summary>\n",
    "\n",
    "{history}\n",
    "</details>\n",
    "\n",
    "{det}\"\"\""
   ]
  },
  {
   "cell_type": "code",
   "execution_count": null,
   "id": "4b2c6f87",
   "metadata": {},
   "outputs": [
    {
     "data": {
      "text/markdown": [
       "# Explanation of Your _quarto.yml File\n",
       "\n",
       "Your _quarto.yml is a configuration file for Quarto, which is a scientific and technical publishing system. Here's a breakdown of what it does:\n",
       "\n",
       "## Project Configuration\n",
       "- `project.type: website`: Defines this as a website project (as opposed to a book or other format)\n",
       "- `project.resources: [\"*.txt\"]`: Includes all .txt files as resources in the build\n",
       "- `project.preview.port: 3000`: Sets the preview server to run on port 3000\n",
       "- `project.preview.browser: false`: Prevents automatically opening a browser when previewing\n",
       "\n",
       "## Format Settings\n",
       "- `format.html`: Configures HTML output with several settings:\n",
       "  - `theme: cosmo`: Uses the \"cosmo\" theme for styling\n",
       "  - `css: styles.css`: Applies additional custom styles from styles.css\n",
       "  - `toc: true`: Enables table of contents\n",
       "  - `code-tools: true`: Enables code tools (like copy button)\n",
       "  - `code-block-bg: true`: Adds background to code blocks\n",
       "  - `code-block-border-left: \"#31BAE9\"`: Sets a blue left border for code blocks\n",
       "  - `highlight-style: arrow`: Uses the \"arrow\" syntax highlighting style\n",
       "  - `grid`: Configures the page layout with specific widths for sidebar (180px), body (1800px), margins (150px), and gutters (1.0rem)\n",
       "  - `keep-md: true`: Preserves Markdown files after rendering\n",
       "\n",
       "- `format.commonmark: default`: Also enables CommonMark format with default settings\n",
       "\n",
       "## Website Configuration\n",
       "- `website.twitter-card: true`: Enables Twitter card metadata\n",
       "- `website.open-graph: true`: Enables Open Graph metadata for social media sharing\n",
       "- `website.repo-actions: [issue]`: Adds an \"issue\" button for repository actions\n",
       "- `website.navbar.background: primary`: Sets the navbar background to the primary theme color\n",
       "- `website.navbar.search: true`: Enables search functionality in the navbar\n",
       "- `website.sidebar.style: floating`: Uses a floating style for the sidebar\n",
       "\n",
       "## Metadata Files\n",
       "- Includes two external metadata files:\n",
       "  - `nbdev.yml`: Likely contains nbdev-specific configurations (nbdev is a library for developing Python packages)\n",
       "  - `sidebar.yml`: Likely contains sidebar navigation structure\n",
       "\n",
       "This configuration sets up a website with good code display features, responsive layout, and integration with development tools. It appears to be designed for technical documentation, possibly for a Python package using nbdev.\n",
       "\n",
       "<details>\n",
       "<summary>History</summary>\n",
       "\n",
       "**user**: P\n",
       "\n",
       "**assistant**: I'll examine your _quarto.yml file to explain what it does. Let me first view the file.\n",
       "\n",
       "**user**: project:\n",
       "  type: website\n",
       "  resources: \n",
       "    - \"*.txt\"\n",
       "  preview:\n",
       "    port: 3000\n",
       "    browser: false\n",
       "\n",
       "format:\n",
       "  html:\n",
       "    theme: cosmo\n",
       "    css: styles.css\n",
       "    toc: true\n",
       "    code-tools: true\n",
       "    code-block-bg: true\n",
       "    code-block-border-left: \"#31BAE9\"\n",
       "    highlight-style: arrow\n",
       "    grid:\n",
       "      sidebar-width: 180px\n",
       "      body-width: 1800px\n",
       "      margin-width: 150px\n",
       "      gutter-width: 1.0rem\n",
       "    keep-md: true\n",
       "  commonmark: default\n",
       "\n",
       "website:\n",
       "  twitter-card: true\n",
       "  open-graph: true\n",
       "  repo-actions: [issue]\n",
       "  navbar:\n",
       "    background: primary\n",
       "    search: true\n",
       "  sidebar:\n",
       "    style: floating\n",
       "\n",
       "metadata-files:\n",
       "  - nbdev.yml\n",
       "  - sidebar.yml\n",
       "\n",
       "**assistant**: # Explanation of Your _quarto.yml File\n",
       "\n",
       "Your _quarto.yml is a configuration file for Quarto, which is a scientific and technical publishing system. Here's a breakdown of what it does:\n",
       "\n",
       "## Project Configuration\n",
       "- `project.type: website`: Defines this as a website project (as opposed to a book or other format)\n",
       "- `project.resources: [\"*.txt\"]`: Includes all .txt files as resources in the build\n",
       "- `project.preview.port: 3000`: Sets the preview server to run on port 3000\n",
       "- `project.preview.browser: false`: Prevents automatically opening a browser when previewing\n",
       "\n",
       "## Format Settings\n",
       "- `format.html`: Configures HTML output with several settings:\n",
       "  - `theme: cosmo`: Uses the \"cosmo\" theme for styling\n",
       "  - `css: styles.css`: Applies additional custom styles from styles.css\n",
       "  - `toc: true`: Enables table of contents\n",
       "  - `code-tools: true`: Enables code tools (like copy button)\n",
       "  - `code-block-bg: true`: Adds background to code blocks\n",
       "  - `code-block-border-left: \"#31BAE9\"`: Sets a blue left border for code blocks\n",
       "  - `highlight-style: arrow`: Uses the \"arrow\" syntax highlighting style\n",
       "  - `grid`: Configures the page layout with specific widths for sidebar (180px), body (1800px), margins (150px), and gutters (1.0rem)\n",
       "  - `keep-md: true`: Preserves Markdown files after rendering\n",
       "\n",
       "- `format.commonmark: default`: Also enables CommonMark format with default settings\n",
       "\n",
       "## Website Configuration\n",
       "- `website.twitter-card: true`: Enables Twitter card metadata\n",
       "- `website.open-graph: true`: Enables Open Graph metadata for social media sharing\n",
       "- `website.repo-actions: [issue]`: Adds an \"issue\" button for repository actions\n",
       "- `website.navbar.background: primary`: Sets the navbar background to the primary theme color\n",
       "- `website.navbar.search: true`: Enables search functionality in the navbar\n",
       "- `website.sidebar.style: floating`: Uses a floating style for the sidebar\n",
       "\n",
       "## Metadata Files\n",
       "- Includes two external metadata files:\n",
       "  - `nbdev.yml`: Likely contains nbdev-specific configurations (nbdev is a library for developing Python packages)\n",
       "  - `sidebar.yml`: Likely contains sidebar navigation structure\n",
       "\n",
       "This configuration sets up a website with good code display features, responsive layout, and integration with development tools. It appears to be designed for technical documentation, possibly for a Python package using nbdev.\n",
       "</details>\n",
       "\n",
       "| Metric | Count | Cost (USD) |\n",
       "|--------|------:|-----:|\n",
       "| Input tokens | 2,408 | 0.007224 |\n",
       "| Output tokens | 693 | 0.010395 |\n",
       "| Cache tokens | 0 | 0.000000 |\n",
       "| Server tool use | 0 | 0.000000 |\n",
       "| **Total** | **3,101** | **$0.017619** |"
      ],
      "text/plain": [
       "<__main__.Chat>"
      ]
     },
     "execution_count": null,
     "metadata": {},
     "output_type": "execute_result"
    }
   ],
   "source": [
    "chat"
   ]
  },
  {
   "cell_type": "markdown",
   "id": "df1dd4c3",
   "metadata": {},
   "source": [
    "## Images"
   ]
  },
  {
   "cell_type": "markdown",
   "id": "cf741dbc",
   "metadata": {},
   "source": [
    "Claude can handle image data as well. As everyone knows, when testing image APIs you have to use a cute puppy."
   ]
  },
  {
   "cell_type": "code",
   "execution_count": null,
   "id": "5d35d564",
   "metadata": {},
   "outputs": [
    {
     "data": {
      "image/jpeg": "[encoded data removed]",
      "text/plain": [
       "<IPython.core.display.Image object>"
      ]
     },
     "execution_count": null,
     "metadata": {
      "image/jpeg": {
       "width": 200
      }
     },
     "output_type": "execute_result"
    }
   ],
   "source": [
    "# Image is Cute_dog.jpg from Wikimedia\n",
    "fn = Path('samples/puppy.jpg')\n",
    "display.Image(filename=fn, width=200)"
   ]
  },
  {
   "cell_type": "code",
   "execution_count": null,
   "id": "d120d8fb",
   "metadata": {},
   "outputs": [],
   "source": [
    "img = fn.read_bytes()"
   ]
  },
  {
   "cell_type": "markdown",
   "id": "3e2937df",
   "metadata": {},
   "source": [
    "Claude expects an image message to have the following structure\n",
    "\n",
    "```js\n",
    "{\n",
    "    'role': 'user', \n",
    "    'content': [\n",
    "        {'type':'text', 'text':'What is in the image?'},\n",
    "        {\n",
    "            'type':'image', \n",
    "            'source': {\n",
    "                'type':'base64', 'media_type':'media_type', 'data': 'data'\n",
    "            }\n",
    "        }\n",
    "    ]\n",
    "}\n",
    "```\n",
    "`msglm` automatically detects if a message is an image, encodes it, and generates the data structure above.\n",
    "All we need to do is a create a list containing our image and a query and then pass it to `mk_msg`.\n",
    "\n",
    "Let's try it out..."
   ]
  },
  {
   "cell_type": "code",
   "execution_count": null,
   "id": "db8339ac",
   "metadata": {},
   "outputs": [],
   "source": [
    "q = \"In brief, what color flowers are in this image?\"\n",
    "msg = mk_msg([img, q])"
   ]
  },
  {
   "cell_type": "code",
   "execution_count": null,
   "id": "69acc8c7",
   "metadata": {},
   "outputs": [
    {
     "data": {
      "text/markdown": [
       "The flowers in the image are purple/lavender in color. They appear to be small daisy-like flowers or asters blooming next to where the adorable Cavalier King Charles Spaniel puppy is resting on the grass. The purple flowers create a nice contrast with the puppy's white and reddish-brown fur.\n",
       "\n",
       "<details>\n",
       "\n",
       "- id: `msg_01SD3FDQbuJ4x98uNv62K2Xp`\n",
       "- content: `[{'citations': None, 'text': \"The flowers in the image are purple/lavender in color. They appear to be small daisy-like flowers or asters blooming next to where the adorable Cavalier King Charles Spaniel puppy is resting on the grass. The purple flowers create a nice contrast with the puppy's white and reddish-brown fur.\", 'type': 'text'}]`\n",
       "- model: `claude-3-7-sonnet-20250219`\n",
       "- role: `assistant`\n",
       "- stop_reason: `end_turn`\n",
       "- stop_sequence: `None`\n",
       "- type: `message`\n",
       "- usage: `{'cache_creation_input_tokens': 0, 'cache_read_input_tokens': 0, 'input_tokens': 110, 'output_tokens': 75, 'server_tool_use': None}`\n",
       "\n",
       "</details>"
      ],
      "text/plain": [
       "Message(id='msg_01SD3FDQbuJ4x98uNv62K2Xp', content=[TextBlock(citations=None, text=\"The flowers in the image are purple/lavender in color. They appear to be small daisy-like flowers or asters blooming next to where the adorable Cavalier King Charles Spaniel puppy is resting on the grass. The purple flowers create a nice contrast with the puppy's white and reddish-brown fur.\", type='text')], model='claude-3-7-sonnet-20250219', role='assistant', stop_reason='end_turn', stop_sequence=None, type='message', usage=In: 110; Out: 75; Cache create: 0; Cache read: 0; Total Tokens: 185; Server tool use (web search requests): 0)"
      ]
     },
     "execution_count": null,
     "metadata": {},
     "output_type": "execute_result"
    }
   ],
   "source": [
    "c([msg])"
   ]
  },
  {
   "cell_type": "markdown",
   "id": "09be3d09",
   "metadata": {},
   "source": [
    "You don't need to call `mk_msg` on each individual message before passing them to the `Chat` class. Instead you can pass your messages in a list and the `Chat` class will automatically call `mk_msgs` in the background. \n",
    "\n",
    "```python\n",
    "c([\"How are you?\", r])\n",
    "```\n",
    "\n",
    "For messages that contain multiple content types (like an image with a question), you'll need to enclose the message contents in a list as shown below:\n",
    "\n",
    "```python\n",
    "c([\"How are you?\", r, [img, q]])\n",
    "```"
   ]
  },
  {
   "cell_type": "code",
   "execution_count": null,
   "id": "73ce3789",
   "metadata": {},
   "outputs": [
    {
     "data": {
      "text/markdown": [
       "The flowers in the image are purple/lavender in color. They appear to be small daisy-like flowers blooming next to where the adorable Cavalier King Charles Spaniel puppy is resting on the grass. The purple flowers create a nice contrast with the puppy's white and reddish-brown fur.\n",
       "\n",
       "<details>\n",
       "\n",
       "- id: `msg_01VFVzc4JCVU1ZYxCiY5PBqb`\n",
       "- content: `[{'citations': None, 'text': \"The flowers in the image are purple/lavender in color. They appear to be small daisy-like flowers blooming next to where the adorable Cavalier King Charles Spaniel puppy is resting on the grass. The purple flowers create a nice contrast with the puppy's white and reddish-brown fur.\", 'type': 'text'}]`\n",
       "- model: `claude-3-7-sonnet-20250219`\n",
       "- role: `assistant`\n",
       "- stop_reason: `end_turn`\n",
       "- stop_sequence: `None`\n",
       "- type: `message`\n",
       "- usage: `{'cache_creation_input_tokens': 0, 'cache_read_input_tokens': 0, 'input_tokens': 110, 'output_tokens': 72, 'server_tool_use': None}`\n",
       "\n",
       "</details>"
      ],
      "text/plain": [
       "Message(id='msg_01VFVzc4JCVU1ZYxCiY5PBqb', content=[TextBlock(citations=None, text=\"The flowers in the image are purple/lavender in color. They appear to be small daisy-like flowers blooming next to where the adorable Cavalier King Charles Spaniel puppy is resting on the grass. The purple flowers create a nice contrast with the puppy's white and reddish-brown fur.\", type='text')], model='claude-3-7-sonnet-20250219', role='assistant', stop_reason='end_turn', stop_sequence=None, type='message', usage=In: 110; Out: 72; Cache create: 0; Cache read: 0; Total Tokens: 182; Server tool use (web search requests): 0)"
      ]
     },
     "execution_count": null,
     "metadata": {},
     "output_type": "execute_result"
    }
   ],
   "source": [
    "c = Chat(model)\n",
    "c([img, q])"
   ]
  },
  {
   "cell_type": "code",
   "execution_count": null,
   "id": "496178d9",
   "metadata": {},
   "outputs": [],
   "source": [
    "def contents(r):\n",
    "    \"Helper to get the contents from Claude response `r`.\"\n",
    "    blk = find_block(r)\n",
    "    if not blk and r.content: blk = r.content[0]\n",
    "    if hasattr(blk,'text'): return blk.text.strip()\n",
    "    elif hasattr(blk,'content'): return blk.content.strip()\n",
    "    elif hasattr(blk,'source'): return f'*Media Type - {blk.type}*'\n",
    "    return str(blk)"
   ]
  },
  {
   "cell_type": "code",
   "execution_count": null,
   "id": "8b9d8064",
   "metadata": {},
   "outputs": [
    {
     "data": {
      "text/plain": [
       "'*Media Type - image*'"
      ]
     },
     "execution_count": null,
     "metadata": {},
     "output_type": "execute_result"
    }
   ],
   "source": [
    "contents(c.h[0])"
   ]
  },
  {
   "cell_type": "code",
   "execution_count": null,
   "id": "3eb5f016",
   "metadata": {},
   "outputs": [
    {
     "data": {
      "text/markdown": [
       "The flowers in the image are purple/lavender in color. They appear to be small daisy-like flowers blooming next to where the adorable Cavalier King Charles Spaniel puppy is resting on the grass. The purple flowers create a nice contrast with the puppy's white and reddish-brown fur.\n",
       "\n",
       "<details>\n",
       "<summary>History</summary>\n",
       "\n",
       "**user**: *Media Type - image*\n",
       "\n",
       "**assistant**: The flowers in the image are purple/lavender in color. They appear to be small daisy-like flowers blooming next to where the adorable Cavalier King Charles Spaniel puppy is resting on the grass. The purple flowers create a nice contrast with the puppy's white and reddish-brown fur.\n",
       "</details>\n",
       "\n",
       "| Metric | Count | Cost (USD) |\n",
       "|--------|------:|-----:|\n",
       "| Input tokens | 110 | 0.000330 |\n",
       "| Output tokens | 72 | 0.001080 |\n",
       "| Cache tokens | 0 | 0.000000 |\n",
       "| Server tool use | 0 | 0.000000 |\n",
       "| **Total** | **182** | **$0.001410** |"
      ],
      "text/plain": [
       "<__main__.Chat>"
      ]
     },
     "execution_count": null,
     "metadata": {},
     "output_type": "execute_result"
    }
   ],
   "source": [
    "c"
   ]
  },
  {
   "cell_type": "markdown",
   "id": "00482861",
   "metadata": {},
   "source": [
    ":::{.callout-note}\n",
    "\n",
    "Unfortunately, not all Claude models support images 😞. This [table](https://docs.anthropic.com/en/docs/about-claude/models#model-comparison-table) summarizes the capabilities of each Claude model and the different modalities they support.\n",
    "\n",
    ":::"
   ]
  },
  {
   "cell_type": "markdown",
   "id": "abd9dbe9",
   "metadata": {},
   "source": [
    "## Caching"
   ]
  },
  {
   "cell_type": "markdown",
   "id": "026fb70e",
   "metadata": {},
   "source": [
    "Claude supports context caching by adding a `cache_control` header to the message content.\n",
    "\n",
    "```js\n",
    "{\n",
    "    \"role\": \"user\",\n",
    "    \"content\": [\n",
    "        {\n",
    "            \"type\": \"text\", \n",
    "            \"text\": \"Please cache my message\", \n",
    "            \"cache_control\": {\"type\": \"ephemeral\"}\n",
    "        }\n",
    "    ]\n",
    "}\n",
    "```\n",
    "\n",
    "To cache a message, we simply set `cache=True` when calling `mk_msg`."
   ]
  },
  {
   "cell_type": "code",
   "execution_count": null,
   "id": "19a9d3e1",
   "metadata": {},
   "outputs": [
    {
     "data": {
      "text/markdown": [
       "```json\n",
       "{ 'content': [ {'text': 'hi', 'type': 'text'},\n",
       "               { 'cache_control': {'type': 'ephemeral'},\n",
       "                 'text': 'there',\n",
       "                 'type': 'text'}],\n",
       "  'role': 'user'}\n",
       "```"
      ],
      "text/plain": [
       "{'role': 'user',\n",
       " 'content': [{'type': 'text', 'text': 'hi'},\n",
       "  {'type': 'text', 'text': 'there', 'cache_control': {'type': 'ephemeral'}}]}"
      ]
     },
     "execution_count": null,
     "metadata": {},
     "output_type": "execute_result"
    }
   ],
   "source": [
    "mk_msg(['hi', 'there'], cache=True)"
   ]
  },
  {
   "cell_type": "markdown",
   "id": "e412abd5",
   "metadata": {},
   "source": [
    "Claude also now supports smart cache look-ups, so it's very simple to keep an entire conversation in cache by constantly telling it to update the cache with the latest message. To do this, we just need to set `cache=True` when creating a `Chat`."
   ]
  },
  {
   "cell_type": "code",
   "execution_count": null,
   "id": "5eb7bed0",
   "metadata": {},
   "outputs": [],
   "source": [
    "chat = Chat(model, sp=sp, cache=True)"
   ]
  },
  {
   "cell_type": "markdown",
   "id": "745a3182",
   "metadata": {},
   "source": [
    "Caching has a minimum token limit of 1024 tokens for Sonnet and Opus, and 2048 for Haiku. If your conversation is below this limit, it will not be cached."
   ]
  },
  {
   "cell_type": "code",
   "execution_count": null,
   "id": "ed6e5fe2",
   "metadata": {},
   "outputs": [
    {
     "data": {
      "text/markdown": [
       "Hello Jeremy! It's nice to meet you. How are you doing today? Is there something I can help you with or would you like to chat?\n",
       "\n",
       "<details>\n",
       "\n",
       "- id: `msg_01NRp9ys88wxbuTysaZnausb`\n",
       "- content: `[{'citations': None, 'text': \"Hello Jeremy! It's nice to meet you. How are you doing today? Is there something I can help you with or would you like to chat?\", 'type': 'text'}]`\n",
       "- model: `claude-3-7-sonnet-20250219`\n",
       "- role: `assistant`\n",
       "- stop_reason: `end_turn`\n",
       "- stop_sequence: `None`\n",
       "- type: `message`\n",
       "- usage: `{'cache_creation_input_tokens': 0, 'cache_read_input_tokens': 0, 'input_tokens': 20, 'output_tokens': 34, 'server_tool_use': None}`\n",
       "\n",
       "</details>"
      ],
      "text/plain": [
       "Message(id='msg_01NRp9ys88wxbuTysaZnausb', content=[TextBlock(citations=None, text=\"Hello Jeremy! It's nice to meet you. How are you doing today? Is there something I can help you with or would you like to chat?\", type='text')], model='claude-3-7-sonnet-20250219', role='assistant', stop_reason='end_turn', stop_sequence=None, type='message', usage=In: 20; Out: 34; Cache create: 0; Cache read: 0; Total Tokens: 54; Server tool use (web search requests): 0)"
      ]
     },
     "execution_count": null,
     "metadata": {},
     "output_type": "execute_result"
    }
   ],
   "source": [
    "chat(\"Hi, I'm Jeremy.\")"
   ]
  },
  {
   "cell_type": "markdown",
   "id": "4762e29d",
   "metadata": {},
   "source": [
    "Note the usage: no cache is created, nor used. Now, let's send a long enough message to trigger caching."
   ]
  },
  {
   "cell_type": "code",
   "execution_count": null,
   "id": "e870355c",
   "metadata": {},
   "outputs": [
    {
     "data": {
      "text/markdown": [
       "I notice you've sent a large amount of \"Lorem ipsum\" text, which is commonly used as placeholder or filler text in design and publishing. \n",
       "\n",
       "Is there something specific you'd like to discuss or a question you have? I'm here to help with meaningful conversation or information if you need it. If you're testing something or just curious about how I respond, feel free to let me know what you're looking for.\n",
       "\n",
       "<details>\n",
       "\n",
       "- id: `msg_01H6ovSz8T1V2rj4iynbeKvH`\n",
       "- content: `[{'citations': None, 'text': 'I notice you\\'ve sent a large amount of \"Lorem ipsum\" text, which is commonly used as placeholder or filler text in design and publishing. \\n\\nIs there something specific you\\'d like to discuss or a question you have? I\\'m here to help with meaningful conversation or information if you need it. If you\\'re testing something or just curious about how I respond, feel free to let me know what you\\'re looking for.', 'type': 'text'}]`\n",
       "- model: `claude-3-7-sonnet-20250219`\n",
       "- role: `assistant`\n",
       "- stop_reason: `end_turn`\n",
       "- stop_sequence: `None`\n",
       "- type: `message`\n",
       "- usage: `{'cache_creation_input_tokens': 1101, 'cache_read_input_tokens': 0, 'input_tokens': 4, 'output_tokens': 90, 'server_tool_use': None}`\n",
       "\n",
       "</details>"
      ],
      "text/plain": [
       "Message(id='msg_01H6ovSz8T1V2rj4iynbeKvH', content=[TextBlock(citations=None, text='I notice you\\'ve sent a large amount of \"Lorem ipsum\" text, which is commonly used as placeholder or filler text in design and publishing. \\n\\nIs there something specific you\\'d like to discuss or a question you have? I\\'m here to help with meaningful conversation or information if you need it. If you\\'re testing something or just curious about how I respond, feel free to let me know what you\\'re looking for.', type='text')], model='claude-3-7-sonnet-20250219', role='assistant', stop_reason='end_turn', stop_sequence=None, type='message', usage=In: 4; Out: 90; Cache create: 1101; Cache read: 0; Total Tokens: 1195; Server tool use (web search requests): 0)"
      ]
     },
     "execution_count": null,
     "metadata": {},
     "output_type": "execute_result"
    }
   ],
   "source": [
    "chat(\"\"\"Lorem ipsum dolor sit amet\"\"\" * 150)"
   ]
  },
  {
   "cell_type": "markdown",
   "id": "0b7a7036",
   "metadata": {},
   "source": [
    "The context is now long enough for cache to be used. All the conversation history has now been written to the temporary cache. Any subsequent message will read from it rather than re-processing the entire conversation history."
   ]
  },
  {
   "cell_type": "code",
   "execution_count": null,
   "id": "1dc2286e",
   "metadata": {},
   "outputs": [
    {
     "data": {
      "text/markdown": [
       "No problem at all! Those lorem ipsum generators can certainly get enthusiastic sometimes. It happens to the best of us! Is there something I can actually help you with today?\n",
       "\n",
       "<details>\n",
       "\n",
       "- id: `msg_01KsvSSaJjpuRst2BejF2LbT`\n",
       "- content: `[{'citations': None, 'text': 'No problem at all! Those lorem ipsum generators can certainly get enthusiastic sometimes. It happens to the best of us! Is there something I can actually help you with today?', 'type': 'text'}]`\n",
       "- model: `claude-3-7-sonnet-20250219`\n",
       "- role: `assistant`\n",
       "- stop_reason: `end_turn`\n",
       "- stop_sequence: `None`\n",
       "- type: `message`\n",
       "- usage: `{'cache_creation_input_tokens': 108, 'cache_read_input_tokens': 1101, 'input_tokens': 4, 'output_tokens': 38, 'server_tool_use': None}`\n",
       "\n",
       "</details>"
      ],
      "text/plain": [
       "Message(id='msg_01KsvSSaJjpuRst2BejF2LbT', content=[TextBlock(citations=None, text='No problem at all! Those lorem ipsum generators can certainly get enthusiastic sometimes. It happens to the best of us! Is there something I can actually help you with today?', type='text')], model='claude-3-7-sonnet-20250219', role='assistant', stop_reason='end_turn', stop_sequence=None, type='message', usage=In: 4; Out: 38; Cache create: 108; Cache read: 1101; Total Tokens: 1251; Server tool use (web search requests): 0)"
      ]
     },
     "execution_count": null,
     "metadata": {},
     "output_type": "execute_result"
    }
   ],
   "source": [
    "chat(\"Oh thank you! Sorry, my lorem ipsum generator got out of control!\")"
   ]
  },
  {
   "cell_type": "markdown",
   "id": "3d162fca",
   "metadata": {},
   "source": [
    "## Extended Thinking"
   ]
  },
  {
   "cell_type": "markdown",
   "id": "11327638",
   "metadata": {},
   "source": [
    "Claude 3.7 Sonnet has enhanced reasoning capabilities for complex tasks. See [docs](https://docs.anthropic.com/en/docs/build-with-claude/extended-thinking) for more info.\n",
    "\n",
    "We can enable extended thinking by passing a `thinking` param with the following structure.\n",
    "\n",
    "```js\n",
    "thinking={\n",
    "    \"type\": \"enabled\",\n",
    "    \"budget_tokens\": 16000\n",
    "}\n",
    "```\n",
    "\n",
    "When extended thinking is enabled a thinking block is included in the response as shown below.\n",
    "\n",
    "```js\n",
    "{\n",
    "  \"content\": [\n",
    "    {\n",
    "      \"type\": \"thinking\",\n",
    "      \"thinking\": \"To approach this, let's think about...\",\n",
    "      \"signature\": \"Imtakcjsu38219c0.eyJoYXNoIjoiYWJjM0NTY3fQ....\"\n",
    "    },\n",
    "    {\n",
    "      \"type\": \"text\",\n",
    "      \"text\": \"Yes, there are infinitely many prime numbers such that...\"\n",
    "    }\n",
    "  ]\n",
    "}\n",
    "```"
   ]
  },
  {
   "cell_type": "markdown",
   "id": "503cae9b",
   "metadata": {},
   "source": [
    "Let's add a `maxthinktok` param to the `Client` and `Chat` call methods. When this value is not 0, we'll pass a thinking param to Claude `{\"type\":\"enabled\", \"budget_tokens\":maxthinktok}`.\n",
    "\n",
    "*Note: When thinking is [enabled](https://docs.anthropic.com/en/docs/build-with-claude/extended-thinking#important-considerations-when-using-extended-thinking) `prefill` must be empty and the `temp` must be 1.*"
   ]
  },
  {
   "cell_type": "code",
   "execution_count": null,
   "id": "c399a36e",
   "metadata": {},
   "outputs": [],
   "source": [
    "#| export\n",
    "def think_md(txt, thk):\n",
    "    return f\"\"\"\n",
    "{txt}\n",
    "\n",
    "<details>\n",
    "<summary>Thinking</summary>\n",
    "{thk}\n",
    "</details>\n",
    "\"\"\""
   ]
  },
  {
   "cell_type": "code",
   "execution_count": null,
   "id": "bd68ca17",
   "metadata": {},
   "outputs": [],
   "source": [
    "def contents(r):\n",
    "    \"Helper to get the contents from Claude response `r`.\"\n",
    "    blk = find_block(r)\n",
    "    tk_blk = find_block(r, blk_type=ThinkingBlock)\n",
    "    if tk_blk: return think_md(blk.text.strip(), tk_blk.thinking.strip())\n",
    "    if not blk and r.content: blk = r.content[0]\n",
    "    if hasattr(blk,'text'): return blk.text.strip()\n",
    "    elif hasattr(blk,'content'): return blk.content.strip()\n",
    "    elif hasattr(blk,'source'): return f'*Media Type - {blk.type}*'\n",
    "    return str(blk)"
   ]
  },
  {
   "cell_type": "markdown",
   "id": "4e66607b",
   "metadata": {},
   "source": [
    "Let's call the model without extended thinking enabled. "
   ]
  },
  {
   "cell_type": "code",
   "execution_count": null,
   "id": "26b5f9c7",
   "metadata": {},
   "outputs": [],
   "source": [
    "tk_model = first(has_extended_thinking_models)"
   ]
  },
  {
   "cell_type": "code",
   "execution_count": null,
   "id": "adc3e86f",
   "metadata": {},
   "outputs": [],
   "source": [
    "chat = Chat(tk_model)"
   ]
  },
  {
   "cell_type": "code",
   "execution_count": null,
   "id": "b7911771",
   "metadata": {},
   "outputs": [
    {
     "data": {
      "text/markdown": [
       "Python is a versatile programming language known for its readable syntax and wide application in fields ranging from web development to data science and artificial intelligence.\n",
       "\n",
       "<details>\n",
       "\n",
       "- id: `msg_01S9DaYTNoo31yNh6fHZcQZc`\n",
       "- content: `[{'citations': None, 'text': 'Python is a versatile programming language known for its readable syntax and wide application in fields ranging from web development to data science and artificial intelligence.', 'type': 'text'}]`\n",
       "- model: `claude-3-7-sonnet-20250219`\n",
       "- role: `assistant`\n",
       "- stop_reason: `end_turn`\n",
       "- stop_sequence: `None`\n",
       "- type: `message`\n",
       "- usage: `{'cache_creation_input_tokens': 0, 'cache_read_input_tokens': 0, 'input_tokens': 13, 'output_tokens': 31, 'server_tool_use': None}`\n",
       "\n",
       "</details>"
      ],
      "text/plain": [
       "Message(id='msg_01S9DaYTNoo31yNh6fHZcQZc', content=[TextBlock(citations=None, text='Python is a versatile programming language known for its readable syntax and wide application in fields ranging from web development to data science and artificial intelligence.', type='text')], model='claude-3-7-sonnet-20250219', role='assistant', stop_reason='end_turn', stop_sequence=None, type='message', usage=In: 13; Out: 31; Cache create: 0; Cache read: 0; Total Tokens: 44; Server tool use (web search requests): 0)"
      ]
     },
     "execution_count": null,
     "metadata": {},
     "output_type": "execute_result"
    }
   ],
   "source": [
    "chat(\"Write a sentence about Python!\")"
   ]
  },
  {
   "cell_type": "markdown",
   "id": "e9aab9e0",
   "metadata": {},
   "source": [
    "Now, let's call the model with extended thinking enabled."
   ]
  },
  {
   "cell_type": "code",
   "execution_count": null,
   "id": "0aec5ad6",
   "metadata": {},
   "outputs": [
    {
     "data": {
      "text/markdown": [
       "\n",
       "Python is a beginner-friendly, high-level programming language with an extensive ecosystem of libraries that has become one of the most popular tools for both quick scripts and enterprise-level applications.\n",
       "\n",
       "<details>\n",
       "<summary>Thinking</summary>\n",
       "The person is asking me to write a sentence about Python again. I should provide a different sentence than before to offer variety. Let me think of another aspect of Python to highlight, such as its community, ease of learning, libraries, or another key feature that makes Python popular.\n",
       "</details>\n",
       "\n",
       "\n",
       "<details>\n",
       "\n",
       "- id: `msg_01JiyHw3dYuqgbdHqi3jNvTd`\n",
       "- content: `[{'signature': 'ErUBCkYIAxgCIkDGyn1SbTWjPjZr8XN8EIk5Y7YWiDvWZT2A4r+vxn8pzP6hNNkf2MmWpOqe5a42Ap8tlgvNDLg/98+wbkAbdLVWEgx/k1Ann3OFL7gBruwaDEyTKpSxI5/ZwVXm2CIwtZtisIvmybu3gAfvnhosRn3aChBZjl+RIBCAEs+i5BKE142qhTJM2d0XQk+JnBhWKh0/GloGOLUPWVsV/HpAFB61np8MTxhGhCCf04mhDRgC', 'thinking': 'The person is asking me to write a sentence about Python again. I should provide a different sentence than before to offer variety. Let me think of another aspect of Python to highlight, such as its community, ease of learning, libraries, or another key feature that makes Python popular.', 'type': 'thinking'}, {'citations': None, 'text': 'Python is a beginner-friendly, high-level programming language with an extensive ecosystem of libraries that has become one of the most popular tools for both quick scripts and enterprise-level applications.', 'type': 'text'}]`\n",
       "- model: `claude-3-7-sonnet-20250219`\n",
       "- role: `assistant`\n",
       "- stop_reason: `end_turn`\n",
       "- stop_sequence: `None`\n",
       "- type: `message`\n",
       "- usage: `{'cache_creation_input_tokens': 0, 'cache_read_input_tokens': 0, 'input_tokens': 81, 'output_tokens': 106, 'server_tool_use': None}`\n",
       "\n",
       "</details>"
      ],
      "text/plain": [
       "Message(id='msg_01JiyHw3dYuqgbdHqi3jNvTd', content=[ThinkingBlock(signature='ErUBCkYIAxgCIkDGyn1SbTWjPjZr8XN8EIk5Y7YWiDvWZT2A4r+vxn8pzP6hNNkf2MmWpOqe5a42Ap8tlgvNDLg/98+wbkAbdLVWEgx/k1Ann3OFL7gBruwaDEyTKpSxI5/ZwVXm2CIwtZtisIvmybu3gAfvnhosRn3aChBZjl+RIBCAEs+i5BKE142qhTJM2d0XQk+JnBhWKh0/GloGOLUPWVsV/HpAFB61np8MTxhGhCCf04mhDRgC', thinking='The person is asking me to write a sentence about Python again. I should provide a different sentence than before to offer variety. Let me think of another aspect of Python to highlight, such as its community, ease of learning, libraries, or another key feature that makes Python popular.', type='thinking'), TextBlock(citations=None, text='Python is a beginner-friendly, high-level programming language with an extensive ecosystem of libraries that has become one of the most popular tools for both quick scripts and enterprise-level applications.', type='text')], model='claude-3-7-sonnet-20250219', role='assistant', stop_reason='end_turn', stop_sequence=None, type='message', usage=In: 81; Out: 106; Cache create: 0; Cache read: 0; Total Tokens: 187; Server tool use (web search requests): 0)"
      ]
     },
     "execution_count": null,
     "metadata": {},
     "output_type": "execute_result"
    }
   ],
   "source": [
    "chat(\"Write a sentence about Python!\", maxthinktok=1024)"
   ]
  },
  {
   "cell_type": "markdown",
   "id": "67acb3f1",
   "metadata": {},
   "source": [
    "## Server Tools and Web Search"
   ]
  },
  {
   "cell_type": "markdown",
   "id": "ca3e7c2e",
   "metadata": {},
   "source": [
    "The `str_replace` special tool type is a client side tool, i.e., one where we provide the implementation. However, Anthropic also supports server side tools. The current one available is their search tool, which you can find the documentation for [here](https://docs.anthropic.com/en/docs/build-with-claude/tool-use/web-search-tool). When provided as a tool to claude, claude can decide to search the web in order to answer or solve the task at hand."
   ]
  },
  {
   "cell_type": "code",
   "execution_count": null,
   "id": "3a2abe4f",
   "metadata": {},
   "outputs": [],
   "source": [
    "#| export\n",
    "def search_conf(max_uses:int=None, allowed_domains:list=None, blocked_domains:list=None, user_location:dict=None):\n",
    "    'Little helper to create a search tool config'\n",
    "    conf = {'type': 'web_search_20250305', 'name': 'web_search'}\n",
    "    if max_uses: conf['max_uses'] = max_uses\n",
    "    if allowed_domains: conf['allowed_domains'] = allowed_domains\n",
    "    if blocked_domains: conf['blocked_domains'] = blocked_domains\n",
    "    if user_location: conf['user_location'] = user_location\n",
    "    return conf"
   ]
  },
  {
   "cell_type": "markdown",
   "id": "bf10a671",
   "metadata": {},
   "source": [
    "Similar to client side tools, you provide to the `tools` argument in the anthropic api a non-schema dictionary with the tool's name, type, and any additional metadata specific to that tool. Here's a function to make that process easier for the web search tool."
   ]
  },
  {
   "cell_type": "code",
   "execution_count": null,
   "id": "9d3aeee3",
   "metadata": {},
   "outputs": [
    {
     "data": {
      "text/plain": [
       "{'type': 'web_search_20250305', 'name': 'web_search'}"
      ]
     },
     "execution_count": null,
     "metadata": {},
     "output_type": "execute_result"
    }
   ],
   "source": [
    "search_conf()"
   ]
  },
  {
   "cell_type": "markdown",
   "id": "8214e569",
   "metadata": {},
   "source": [
    "The web search tool returns a list of `TextBlock`s comprised of response text from the model, `ServerToolUseBlock` and server tool results block such as `WebSearchToolResultBlock`. Some of these `TextBlock`s will contain citations with references to the results of the web search tool. Here is what all this looks like:\n",
    "\n",
    "```js\n",
    "{\n",
    "  \"content\": [\n",
    "    {\n",
    "      \"type\": \"text\",\n",
    "      \"text\": \"I'll check the current weather in...\",\n",
    "    },\n",
    "    {\n",
    "      \"type\": \"server_tool_use\",\n",
    "      \"name\": \"web_search\",\n",
    "      \"input\": {\"query\": \"San Diego weather forecast today May 12 2025\"},\n",
    "      \"id\":\"srvtoolu_014t7fS449voTHRCVzi5jQGC\"\n",
    "    },\n",
    "    {\n",
    "      \"type\": \"web_search_tool_result\",\n",
    "      \"tool_use_id\": \"srvtoolu_014t7fS449voTHRCVzi5jQGC\",\n",
    "      \"content\": [\n",
    "        \"type\": \"web_search_result\",\n",
    "        \"title\": \"Heat Advisory issued May 9...\",\n",
    "        \"url\": \"https://kesq.com/weather/...\",\n",
    "        \"page_age\": \"3 days ago\",\n",
    "        \"encrypted_content\": \"ErgECioIAxgCIiQ4ODk4YTFkY...\",\n",
    "        ...\n",
    "      ]\n",
    "    }\n",
    "    {\n",
    "      \"type\": \"text\",\n",
    "      \"citations\": [\n",
    "        {\n",
    "            \"cited_text\": 'The average temperature during this month...',\n",
    "            \"title\": \"Weather San Diego in May 2025:...\",\n",
    "            \"url\": \"https://en.climate-data.org/...\",\n",
    "            \"encrypted_index\": \"EpMBCioIAxgCIiQ4ODk4YTF...\"\n",
    "        }\n",
    "      ],\n",
    "      \"text\": \"The average temperature in San Diego during May is...\"\n",
    "    },\n",
    "    ...\n",
    "  ]\n",
    "}\n",
    "```\n",
    "\n",
    " Let's update our `contents` function to handle these cases. For handling citations, we will use the excellent reference syntax in markdown to make clickable citation links."
   ]
  },
  {
   "cell_type": "code",
   "execution_count": null,
   "id": "786e2e8f",
   "metadata": {},
   "outputs": [],
   "source": [
    "#| export\n",
    "def find_blocks(r, blk_type=TextBlock, type='text'):\n",
    "    \"Helper to find all blocks of type `blk_type` in response `r`.\"\n",
    "    if isinstance(r, dict): f = lambda b: b.get('type') == 'text'\n",
    "    else: f = lambda b: isinstance(b, TextBlock)\n",
    "    return [b for b in getattr(r, \"content\", []) if f(b)]"
   ]
  },
  {
   "cell_type": "code",
   "execution_count": null,
   "id": "babfac4e",
   "metadata": {},
   "outputs": [],
   "source": [
    "#| export\n",
    "def fmt_txt(txt_blks):\n",
    "    \"Helper to get the contents from a list of `TextBlock`s, with citations.\"\n",
    "    text_sections, citations = [], []\n",
    "    for blk in txt_blks:\n",
    "        if isinstance(blk, dict): blk = AttrDict(blk)\n",
    "        section = blk.text\n",
    "        if getattr(blk, 'citations', None):\n",
    "            markers = []\n",
    "            for cit in blk.citations:\n",
    "                citations.append(cit)\n",
    "                markers.append(f\"[^{len(citations)}]\") # maintain global citation order\n",
    "            section = f\"{section} \" + \" \".join(markers)\n",
    "        text_sections.append(section)\n",
    "    body = \"\".join(text_sections)\n",
    "    if citations:\n",
    "        refs = \"\\n\\n\".join(f\"[^{i+1}]: {c.url}\\n\\t\\\"{c.cited_text}\\\"\" for i, c in enumerate(citations))\n",
    "        body = f\"{body}\\n\\n{refs}\" if body else refs\n",
    "    return body"
   ]
  },
  {
   "cell_type": "code",
   "execution_count": null,
   "id": "26ae307a",
   "metadata": {},
   "outputs": [],
   "source": [
    "#| export\n",
    "def contents(r):\n",
    "    \"Helper to get the contents from Claude response `r`.\"\n",
    "    blks = find_blocks(r, blk_type=TextBlock)\n",
    "    tk_blk = find_block(r, blk_type=ThinkingBlock)\n",
    "    content = None\n",
    "    if blks: content = fmt_txt(blks) # text or text with citations\n",
    "    if tk_blk: return think_md(content, tk_blk.thinking.strip()) # text with thinking\n",
    "    if not content:\n",
    "        blk = find_block(r)\n",
    "        if not blk and getattr(r, \"content\", None): blk = r.content[0]\n",
    "        if hasattr(blk, \"text\"): content = blk.text.strip()\n",
    "        elif hasattr(blk, \"content\"): content = blk.content.strip()\n",
    "        elif hasattr(blk, \"source\"): content = f\"*Media Type - {blk.type}*\"\n",
    "        else: content = str(blk)\n",
    "    return content"
   ]
  },
  {
   "cell_type": "code",
   "execution_count": null,
   "id": "37f9a207",
   "metadata": {},
   "outputs": [
    {
     "data": {
      "text/markdown": [
       "I'll check the current weather in San Diego for you.\n",
       "\n",
       "Based on the search results, here's the current weather in San Diego:\n",
       "\n",
       "May Gray has returned to San Diego after a record hot weekend, with temperatures dropping dramatically. [^1] \n",
       "\n",
       "Today (May 13, 2025), temperatures will be significantly cooler than the weekend, with highs ranging from 60-66°F along the coast and 59-66°F inland. [^2] [^3]\n",
       "\n",
       "The day is expected to have \"May Gray\" conditions with limited clearing into the afternoon and possibly some heavy mist, drizzle, or light showers, with the best chance of rain having been overnight into this morning. [^4]\n",
       "\n",
       "The air quality in San Diego is generally acceptable for most individuals, though sensitive groups may experience minor to moderate symptoms from long-term exposure. [^5]\n",
       "\n",
       "For those traveling to mountain or desert areas near San Diego, be aware that a Wind Advisory is in effect until 5am Wednesday, with west and southwesterly winds of 20 to 35mph and gusts of 40 to 65mph, which may cause blowing dust and dirt. [^6]\n",
       "\n",
       "Looking ahead, sunny skies and warming temperatures are expected early next week. [^7]\n",
       "\n",
       "[^1]: https://www.10news.com/weather/san-diegos-weather-forecast-for-may-12-2025-drastic-drop-in-temperatures\n",
       "\t\"May Gray is back in the forecast after record heat this weekend, temperatures are expected to plummet up to 40 degrees by Tuesday!A cooling trend ramp...\"\n",
       "\n",
       "[^2]: https://www.10news.com/weather/san-diegos-weather-forecast-for-may-12-2025-drastic-drop-in-temperatures\n",
       "\t\"By tomorrow, temperatures will be up to 40 degrees cooler than when the heat peaked on Saturday, with temperatures topping out 5 to nearly 20 degrees ...\"\n",
       "\n",
       "[^3]: https://www.10news.com/weather/san-diegos-weather-forecast-for-may-12-2025-drastic-drop-in-temperatures\n",
       "\t\"Tuesday's Highs: Coast: 60-66° Inland: 59-66° Mountains: 48-60° Deserts: 77-80° · Follow ABC 10News Meteorologist Megan Parry on Facebook at Megan Par...\"\n",
       "\n",
       "[^4]: https://www.10news.com/weather/san-diegos-weather-forecast-for-may-12-2025-drastic-drop-in-temperatures\n",
       "\t\"... Tuesday will bring a return of May Gray with limited clearing into the afternoon and anything from heavy mist, drizzle to a few light showers. The...\"\n",
       "\n",
       "[^5]: https://www.accuweather.com/en/us/san-diego/92101/weather-forecast/347628\n",
       "\t\"The air quality is generally acceptable for most individuals. However, sensitive groups may experience minor to moderate symptoms from long-term expos...\"\n",
       "\n",
       "[^6]: https://www.10news.com/weather/san-diegos-weather-forecast-for-may-12-2025-drastic-drop-in-temperatures\n",
       "\t\"Gusty winds will continue to target the mountains and deserts where a Wind Advisory is in effect until 5am Wednesday. Expect west and southwesterly wi...\"\n",
       "\n",
       "[^7]: https://www.10news.com/weather/san-diegos-weather-forecast-for-may-12-2025-drastic-drop-in-temperatures\n",
       "\t\"Sunny skies and warming temperatures will be the trend early next week. \"\n",
       "\n",
       "<details>\n",
       "\n",
       "- id: `msg_01ViZRYeJmq1LNPCPVeZraan`\n",
       "- content: `[{'citations': None, 'text': \"I'll check the current weather in San Diego for you.\", 'type': 'text'}, {'id': 'srvtoolu_013GJBBVbHBH86m3ocWQBoW3', 'input': {'query': 'San Diego weather today May 13 2025'}, 'name': 'web_search', 'type': 'server_tool_use'}, {'content': [{'encrypted_content': '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', 'page_age': None, 'title': 'San Diego, CA Monthly Weather | AccuWeather', 'type': 'web_search_result', 'url': 'https://www.accuweather.com/en/us/san-diego/92101/may-weather/347628'}, {'encrypted_content': 'EqADCioIAxgCIiQ4ODk4YTFkYy0yMTNkLTRhNmYtOTljYi03ZTBlNTUzZDc0NWISDFnNt5Y/WQ1CEP4WShoMAIpp8Jk//kn5hnnIIjCO5lKVoEzQheVP0vcPztH+BiasL1ycEFYs4zPMM+TVImLh+7BMQd31ePZGWANFS7gqowJ6xpjUIiIlk5i9P88yhXvdaOJbPbAlJ1Ye3l1P+2zti7L+ZymXvg7AEz57vDadegRZwCNnAcfYoCpnEL2UHPPblHpwoyRQFZR0sGEdDHTrOkghu3LlbmK0JyDB+ITb097OY1g69c6XIgv+UArKABns2CmH8PNSKJ1OkMHU17skCaIys6jVlxOcO8QaGIkoCEIrEyQBc7KCAaO/Wew0+C2lns67coMiAcPrOm9ys2LxVteEUnszKoMB9IFaMRKrOsANtEdR5eqfh7xST+hrHhlN4ZXJPX5Whc0NiWsClAdOCVUiLUycqRUmUR1SRQzAnyulKsLKfAFUZYLoFVquWiOAEbFM2uvP4uU3g4WVkZyTgq04gyrNvJYVmrNfMt72DG21/sYYAw==', 'page_age': None, 'title': 'San Diego weather in May 2025 | San Diego 14 day weather', 'type': 'web_search_result', 'url': 'https://www.weather25.com/north-america/usa/california/san-diego?page=month&month=May'}, {'encrypted_content': 'EvADCioIAxgCIiQ4ODk4YTFkYy0yMTNkLTRhNmYtOTljYi03ZTBlNTUzZDc0NWISDEUg7T+dDnLBQ9D1JRoMngid1tYnOnNlMzgLIjDhtRLoxIwXzVlTQSgop2f3Izpsi4fYmjbo8ic4T9IkPZoVsrqYDufsBn+7CUhXvdkq8wIRDgFJG1dJ0Zt8O/ydKfXzHAryxbopAMM6r5ipydRY3iwBys8AD0AtI0UFjPi/KKyhIZEphIJuQhMIeighlc+f1YuNVc6kRjJIxGvzawMeaskfqo3edYBFyjz7HUTN1JxGYSSFQuT7VVefF2k0smcHg+Se1a0NjyKY1qemvgaEtBxhZ31cEn/uPz2oe0qoT8Jr6Cm+1RJkW8haert29P9gpIsljmIyfnzr1WeYofYnESPGjLYQy6FVoyWzVhef9UuaUKydDAx7Qhwv/Mh/QVxDh8LbK25oWdv5uwC7NefejFVMS8619eEM4HtEe5NwECwPU4lILRvQBZGU3IfyCMZO/MF1fAPN9b7ZTyOaOypV0k+oMWwfDyIKIN8dzjF9rMzN1XsrkGQ3RAWIpbYjyvEXb/BcS9BVx97GAavDMYXhE0m3s9du29HVvacduknFNwS+GF5irdJYw/r0l7PsFsTIpOBhOb/JSUvuUBp661wZzG5SoBgD', 'page_age': None, 'title': 'Weather in San Diego in May 2025 (California) - detailed Weather Forecast for a month', 'type': 'web_search_result', 'url': 'https://world-weather.info/forecast/usa/san_diego/may-2025/'}, {'encrypted_content': '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', 'page_age': None, 'title': 'Weather San Diego in May 2025: Temperature & Climate', 'type': 'web_search_result', 'url': 'https://en.climate-data.org/north-america/united-states-of-america/california/san-diego-714969/t/may-5/'}, {'encrypted_content': 'EqsDCioIAxgCIiQ4ODk4YTFkYy0yMTNkLTRhNmYtOTljYi03ZTBlNTUzZDc0NWISDIOWcXpS5jZbmXMNyBoMnhOYKisXOS5P1x32IjDd0j8JEcJoEx3+HBBiaKpoS4r/d0WV+tjZM0Mfi9l9Q8eopqWrG5dqAOMv9donaRgqrgJxOaKpMI7EtU38zKZxl+MOegtQWb6OjGl2p8M5gtNhIjhUgSWHWGwC6q6oKWhPSq0IfCus7ZTiahic1pRBnviKSF2wxRP1x8Zws8/U/pyb01V8wRXTJIWRktYEHkmSFuV1C5uk0MLKPxqB6OXw+JImWbhWV21FBvzznG0obwl4DgYNRLy12Yevg1mrUPT1Io+pVsbhIaclDd10ImqF0u0NmLmwIO3v94UocETiHiyEU8+PAq60INjudde0q5LP0ug6R9o+r/2B2uPAxDeGVpReULlfL+pQ5M0CT2IK3day7igUjCLXGiv7TWG+Hr94NQaD3JmMNDc3Umwpfdl/DzcUQP27jGM+tROxe0JubhYhr25f/hpqDap8l69KmztiIERRtjX267tQuTvhbYBb4hgD', 'page_age': None, 'title': '60-Day Extended Weather Forecast for San Diego, CA | Almanac.com', 'type': 'web_search_result', 'url': 'https://www.almanac.com/weather/longrange/CA/San%20Diego'}, {'encrypted_content': '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', 'page_age': None, 'title': 'South San Diego, CA Monthly Weather | AccuWeather', 'type': 'web_search_result', 'url': 'https://www.accuweather.com/en/us/south-san-diego/92154/may-weather/2178586'}, {'encrypted_content': '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', 'page_age': '2 weeks ago', 'title': 'Weather in San Diego County in May 2025 - Detailed Forecast', 'type': 'web_search_result', 'url': 'https://www.easeweather.com/north-america/united-states/california/san-diego-county/may'}, {'encrypted_content': 'ErQLCioIAxgCIiQ4ODk4YTFkYy0yMTNkLTRhNmYtOTljYi03ZTBlNTUzZDc0NWISDMPo9X05m5ZXxd6yHhoMubQ9VgnOY/h1q2jiIjB1Jo3dRkLHqu/6hCsRuiQ6zjOdjebQMwRowC083lO7eelH23ZcuQx/fFm4eqgmMWUqtwoPVQwLK4B2c6lkBDsi8+85bvpYeNlO3GAjQeOXywsfAzZNcK4GXssrdtTurrStMRBN2fPgYmV2MO6QuAkLRDxCIa2K6GCXid/TunqHz/lL1BMDaaumdu9ggIrCSXK/krgQyAngVb+cdzlkxigs734t8Jpe0RvtQfMk7vp7sp8vB6kmCUqi1bxl4u2NAAx3fcON2/RRbX4m8dc7vkoY/dxl2+Wq6kiUa6zRt6DjTzDr1yQBGCSzr+nvU8mN89y/vqkoiUX8gMXUeSfXdkjqt9bZxic0pT6+l2zbIIQ6NjUnPwoGiZ8mLO8xYCIoknCMtgP+2E5y2wY4wLe7hDNQ4JSYkf6NPSr0TwGlLlYiprqYIwnwam0lu/v8W3SMSiDCbj1k0CQD5mcVuByhi9l6AkKqpAizVzB3OWJsIClOgrVsL5RpyrtA10rB0WYx6q2TVPcxgOYLyVRjo8zFFdBk0Lkbvnup63ppUGlbXRul5xycaC+YiCz6wA6URqJaedQTbPLDbTewO2Jsatecv7kijC+uUoNcUYEJlJtlTfwRYbbfElCyyTEk+l9lx8JKPUs7IaVWsHICgR19q2lD84DZ9yAoEV9Vl7aOYuI4FSNMY9DALWXhABptse6WuztmMScM6vM52jdV7iu2TOmfFnvVhDBWBK7wUlmjNJT7isayJ90QoCQauOcmlohrDFwpjL3ErLT5gWz3wIYfP4otasLEjTsZjtu0NxCCfUQ/OWDqpuLCF4iGhNF8EPBI3rqPpGpzvoiZD1EmI3Lz2auhErwBkDgwFM8RDpzifw17yLsVzb7SPYNb7tg9L+46mWpXGuzuztMpmg3yJisMdA5/yAOTZa0x45JqpXh9HIQSEK64jzZmdjdvs/jfJ3veR4WmZpRwStquPG4F1VGGaDqUrws81MZ5MFqx2eaO5lpXtj42FHHddCyQ7c7/bJEYF8PRJvV1fFm/uaXC/G5qMeUGhlaiAFIeMzDtBbOdA63MxWkzaP6jQf10XolmrfmRvZLKlP7V1n9pIjAV3U68u+ne+YlG1fzPdHzdX8RsdFzE/e0JTPOXWo0a7nh6scflHtZUNr9KQxj36OjRHPYcgduWT06IyQVqvFlryMOfyz+i2gPkREQRrBkQnNjahAAIVCs2AhMAyzuq3Ho9HDeWqmTsyyMK4BZI1g7bnmTRF00xSWAM4XI6/bPPUCuyofJbYjPs6+i7dAlwIb2e9LUIPLJoQ1JZn4qLvAvkWBZ8RN8RuAZGAozL5EnNgRFBef0bxUwC4iBUy5+kIYasaEiLcy4KLHSbjifgoLre8QVlMjdDtsuUbkYuwkPcJ/giI30FIFk6I8g6/4gLk7oN+sGeSaD+NKRKerBX5w6JeUdIqS6VuKaxHOJmYW7w+r6UADfvlhSJygdnAga13OSJFFk0AnrHra4ragju4dQqMQy/FYkS+JI0rglka3cV7slTtPLBd0MFbYCOrNyB4v3kNaj813WDW3AicCHcCuG0Rn+z5TBFWGcBLxvDji62vjg3yAkvp2cQmBz7KnCL05RgxiSE/7FLONvar+Xs2lh8M1IKXNb0t7noHx8UL0WFLTvlvbJHpPMhGV0a/rZpRetDj8OnqBpcuXSxwrD3axQm3uXtzlmaprdnsbIyqs/FHXlH/lgPAS88j6wjASVGOpnTOetRNxJKsSHSw+P6lRfWWqv9wgbEStibFHmk1xkSowwyHdX7A6UyLfldspXKeUPOSDFl7wl3qdCfQnQxnfM3Xsj8mvxzbno6FdV+ziZH/ueIvfoYAw==', 'page_age': None, 'title': 'San Diego, CA Weather Forecast | AccuWeather', 'type': 'web_search_result', 'url': 'https://www.accuweather.com/en/us/san-diego/92101/weather-forecast/347628'}, {'encrypted_content': 'Es0LCioIAxgCIiQ4ODk4YTFkYy0yMTNkLTRhNmYtOTljYi03ZTBlNTUzZDc0NWISDHzJ5h9ncPCNqFfYMxoMSd26owi0XKkGXZbHIjANHchT/dtMMWhD9mx2hfJU9uszdaAkhytK55vPZrrwTTBvamVfnRDXTrcJB4TgkQ8q0AoQ5j9y42IB/UB6+jwMxBlrKKsKpiepsIa+dqJtJ5ZgC4FLte1tSX56Q+ybocWCNE2VzewRrj2hA73y2YNN8fljqENbATjMSDxhyAWXL5eACmZECCC02XHIFVrI4NRyll5vY2KVQMO2yufC8Ko8mKsSX3wKuJOd00Ij1IcuTiSasiLfXhtE+IxBRhIywmNDPrA1sQ2KdZGDgtdA6NllsA0RtENHPMV6QQNqvqoODRc2pfHOJYZBtq9dhjXGwNAFsk5yBXjuHdDJQcMEY7bn+43zFh1VG6afgPwHUoxFLPLfdMOc31tXkNoSTRr7uHEMCYbxQei8xnbmUvjCpxvgOeNrLcr6lck9OKU44/hRl6nxA14OyQnLiPOXAPO7gO48hR5mbeCqFRFC0ml+YB62Z5lJBYFl3ZoHTdSAj0shLcgB2+7AJVi3bozJfqWxII2yr2qIN9cDaw2aDaNOXfDVn4dw9RKX9A2UzNzVP49lQhpwltuJemGqmikabgUnaj3RGxTvNOc11eCKhjet+f+B99VXn2Zse8IKARyt+ZT6lRADAC/BDfI4/lKg0mHTzjKclorKmFN/8ljvuO+h7hNer/AyHDsFgpmWgRUAXGKd3wSiA9QWDMDi22W2jYXT2ERzQaG72U56eZT79To39SEOMPAXq0OeUiIuvmxLypSsgnZC3gn+Zprv6aU5HN/ayfqv7wY54w0+Dgqf3lhTL3BLlZhkTU6rhgOlJnxI5glcfRfhMF+SinOl554OPcsL58Td+LzTC6Trv4dg7oXWa6ZtX78NT15Nojo4YLjm5aR2YjPdvOimpEiElMetaFQFVPZP3gFiL3VnNEa86Fu3cU1lgOEva5esa0Z+nP3oEdXSe0JZBTGN4kAPA0+dHk1UT9mNiSzeCg19k+aliSUevx0qUct/K8//njOLFGHnIRW8YIJNKsF0T0g/Sc9nO31WPMDFvfFlOnQtgfdpVTt5yDnv3TFHyGaWkbF3oyLuxNngzlAwyVIGr0GKCS2yyZL5+/Q6AHKjJt3dqKigMFxCLUQ80tLx//A6wFZ2hEYGlss1OWFfVZ1ZCUSZDaItzCoPiKU3vg6+Zie+TkFb1/LLTLr6/JwKMh79oU8Elv0ucbtRV6jFt1HlDj4NsSrVdjWgnzptQxP2mzhEIK1W/4lwJWkwXxwYyVX7yPUA8+YmNByMVWfW1855EH6bll8mHZSiI9Dkp833/MICfK9TKyT5g/IsBp2yqjWKVWxZI+ztTHHazT+SvWIkeccpUKrW7ym+LKkORT21MqfDN4lqRAD5All3hIXnE7jyMHVCGQSTTSmeT7Bnh2HMztBNpE+ml0UVGtpyE1mIBnSo2LlpNr7XS7uLGPujXovD9NeTk23iQEph1VDWLWqIlMIm7bNrBtdB2LkJZxqDUEcI+yWtKiEctg0hZSMrHyr0I8kXdaOTXtbBoO0oEwCPNZGJ+x9i2ZJdWH4RpmQPwZgkGiZ0zHDMGKiZLOC++IVSxJLg+O6LapSIZVPBgLVsrHNJHYVjpbwzRBrhg8jjU3SqkGsqvMyjZsDhgsOEAfnRe7Yl0pVcSQtaaJM3PIrYwS+FJf8KJiTiVguPSPpIF87Xhc67hQrbhr51x0EyMdGTdG+J4ddSINquA3/GSYve8XAu926TrPorl1gF89Fs9i0L7OWCqFAGctMNqKtY6I9YCakyNKotkXKVPyara7BDiE7dY/pBzxGr7Qzaf7rKguXqyd2vpxlyv2MvYXS++aflJSZtSnPRKMiDM+pnUlgmpAbLrNr066v69zeOPXT103GPdH3fkDSRz+Ze3dBwGAM=', 'page_age': None, 'title': 'San Diego weather in May 2025 | California, USA', 'type': 'web_search_result', 'url': 'https://www.weather2travel.com/california/san-diego/may/'}, {'encrypted_content': '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', 'page_age': '17 hours ago', 'title': \"San Diego's Weather Forecast for May 12, 2025: Drastic drop in temperatures!\", 'type': 'web_search_result', 'url': 'https://www.10news.com/weather/san-diegos-weather-forecast-for-may-12-2025-drastic-drop-in-temperatures'}], 'tool_use_id': 'srvtoolu_013GJBBVbHBH86m3ocWQBoW3', 'type': 'web_search_tool_result'}, {'citations': None, 'text': \"\\n\\nBased on the search results, here's the current weather in San Diego:\\n\\n\", 'type': 'text'}, {'citations': [{'cited_text': 'May Gray is back in the forecast after record heat this weekend, temperatures are expected to plummet up to 40 degrees by Tuesday!A cooling trend ramp...', 'encrypted_index': 'EpIBCioIAxgCIiQ4ODk4YTFkYy0yMTNkLTRhNmYtOTljYi03ZTBlNTUzZDc0NWISDMu+ETndbqVbYA/vvBoMApzsZaIvAQxybWqwIjANpnRo9VOJRshMX0EzjklTOpubSpWqEbTwVlNIXDMR7OR/rxY586uBtqIRA/9CawUqFoNK8UPH17+XzIMDng5QtSGiPAI9/sUYBA==', 'title': \"San Diego's Weather Forecast for May 12, 2025: Drastic drop in temperatures!\", 'type': 'web_search_result_location', 'url': 'https://www.10news.com/weather/san-diegos-weather-forecast-for-may-12-2025-drastic-drop-in-temperatures'}], 'text': 'May Gray has returned to San Diego after a record hot weekend, with temperatures dropping dramatically.', 'type': 'text'}, {'citations': None, 'text': ' \\n\\n', 'type': 'text'}, {'citations': [{'cited_text': 'By tomorrow, temperatures will be up to 40 degrees cooler than when the heat peaked on Saturday, with temperatures topping out 5 to nearly 20 degrees ...', 'encrypted_index': 'EpABCioIAxgCIiQ4ODk4YTFkYy0yMTNkLTRhNmYtOTljYi03ZTBlNTUzZDc0NWISDHgtFCqgLwAQkuZF0BoMQ2N8Le3QKtaMsv+4IjBjFhvR7yOKYz5uftHJhUHi9Wg9Le0uPUxyXRD9XiTv3xKgto4i+ZAcRsgbnofH52sqFBGGMDaGTLiivd27CosTR5kCldF5GAQ=', 'title': \"San Diego's Weather Forecast for May 12, 2025: Drastic drop in temperatures!\", 'type': 'web_search_result_location', 'url': 'https://www.10news.com/weather/san-diegos-weather-forecast-for-may-12-2025-drastic-drop-in-temperatures'}, {'cited_text': \"Tuesday's Highs: Coast: 60-66° Inland: 59-66° Mountains: 48-60° Deserts: 77-80° · Follow ABC 10News Meteorologist Megan Parry on Facebook at Megan Par...\", 'encrypted_index': 'EpEBCioIAxgCIiQ4ODk4YTFkYy0yMTNkLTRhNmYtOTljYi03ZTBlNTUzZDc0NWISDJJOxa/lkRqpPRl62RoM4n65VO0xeV2TNfmEIjAHh6gEgCGh9e77XL0Vceeud5Ck44BNfclNO5xeppMjkO0NhXo227czu2l4VLbRCAgqFQKxli2mnT3WOnDX5nazdHbu91kt6BgE', 'title': \"San Diego's Weather Forecast for May 12, 2025: Drastic drop in temperatures!\", 'type': 'web_search_result_location', 'url': 'https://www.10news.com/weather/san-diegos-weather-forecast-for-may-12-2025-drastic-drop-in-temperatures'}], 'text': 'Today (May 13, 2025), temperatures will be significantly cooler than the weekend, with highs ranging from 60-66°F along the coast and 59-66°F inland.', 'type': 'text'}, {'citations': None, 'text': '\\n\\n', 'type': 'text'}, {'citations': [{'cited_text': '... Tuesday will bring a return of May Gray with limited clearing into the afternoon and anything from heavy mist, drizzle to a few light showers. The...', 'encrypted_index': 'EpIBCioIAxgCIiQ4ODk4YTFkYy0yMTNkLTRhNmYtOTljYi03ZTBlNTUzZDc0NWISDHa47RqhIJZN24TWKBoMYSzaX9CU95nb0ATiIjBcQEsNIJsROXjPGEHst7N6kE6lPYxbJIVvTv8Dp5b0pLzzQbKG9VBU9ahRPFIa/PYqFmeCkt12lLa2xh/h+u7N9pq+eIILGJEYBA==', 'title': \"San Diego's Weather Forecast for May 12, 2025: Drastic drop in temperatures!\", 'type': 'web_search_result_location', 'url': 'https://www.10news.com/weather/san-diegos-weather-forecast-for-may-12-2025-drastic-drop-in-temperatures'}], 'text': 'The day is expected to have \"May Gray\" conditions with limited clearing into the afternoon and possibly some heavy mist, drizzle, or light showers, with the best chance of rain having been overnight into this morning.', 'type': 'text'}, {'citations': None, 'text': '\\n\\n', 'type': 'text'}, {'citations': [{'cited_text': 'The air quality is generally acceptable for most individuals. However, sensitive groups may experience minor to moderate symptoms from long-term expos...', 'encrypted_index': 'EpEBCioIAxgCIiQ4ODk4YTFkYy0yMTNkLTRhNmYtOTljYi03ZTBlNTUzZDc0NWISDMO4Ce+npba0Z4qtnhoMVpsHWcBdqoOuwMgwIjAB1+Ww6OjpG7doheaJ5HR46EDRG8damU5oymsxl41lHd3DsigVLqHRnRH9uoUXhXgqFektAs3uMnjQyPEbiZB5AuTocrqaOBgE', 'title': 'San Diego, CA Weather Forecast | AccuWeather', 'type': 'web_search_result_location', 'url': 'https://www.accuweather.com/en/us/san-diego/92101/weather-forecast/347628'}], 'text': 'The air quality in San Diego is generally acceptable for most individuals, though sensitive groups may experience minor to moderate symptoms from long-term exposure.', 'type': 'text'}, {'citations': None, 'text': '\\n\\n', 'type': 'text'}, {'citations': [{'cited_text': 'Gusty winds will continue to target the mountains and deserts where a Wind Advisory is in effect until 5am Wednesday. Expect west and southwesterly wi...', 'encrypted_index': 'EpQBCioIAxgCIiQ4ODk4YTFkYy0yMTNkLTRhNmYtOTljYi03ZTBlNTUzZDc0NWISDLyFFz31joSLVd3L2xoMu6G8FQZSNvdWiUkNIjAKBxibR76QRjgGsRV//u8X9rZ0LM5+RStT3kmpfi/4BBGIAvi87BEx1WOlUtsFzFYqGK75BLxR3B3abFYMD04IGJ0sRBiOap862xgE', 'title': \"San Diego's Weather Forecast for May 12, 2025: Drastic drop in temperatures!\", 'type': 'web_search_result_location', 'url': 'https://www.10news.com/weather/san-diegos-weather-forecast-for-may-12-2025-drastic-drop-in-temperatures'}], 'text': 'For those traveling to mountain or desert areas near San Diego, be aware that a Wind Advisory is in effect until 5am Wednesday, with west and southwesterly winds of 20 to 35mph and gusts of 40 to 65mph, which may cause blowing dust and dirt.', 'type': 'text'}, {'citations': None, 'text': '\\n\\n', 'type': 'text'}, {'citations': [{'cited_text': 'Sunny skies and warming temperatures will be the trend early next week. ', 'encrypted_index': 'EpEBCioIAxgCIiQ4ODk4YTFkYy0yMTNkLTRhNmYtOTljYi03ZTBlNTUzZDc0NWISDEqKl4hC04AhkjgfRRoMImOU4Xp6c/KxLDutIjA/IliJlM8C1IvmEJjQlg4ZJF4Sa7BGzqLwfo/X/2JUtcMZ/hnQvWnttx5Qqr9+fDoqFbvudguOP2WHVJxtYCvSmLEuktHUuxgE', 'title': \"San Diego's Weather Forecast for May 12, 2025: Drastic drop in temperatures!\", 'type': 'web_search_result_location', 'url': 'https://www.10news.com/weather/san-diegos-weather-forecast-for-may-12-2025-drastic-drop-in-temperatures'}], 'text': 'Looking ahead, sunny skies and warming temperatures are expected early next week.', 'type': 'text'}]`\n",
       "- model: `claude-3-7-sonnet-20250219`\n",
       "- role: `assistant`\n",
       "- stop_reason: `end_turn`\n",
       "- stop_sequence: `None`\n",
       "- type: `message`\n",
       "- usage: `{'cache_creation_input_tokens': 0, 'cache_read_input_tokens': 11871, 'input_tokens': 11, 'output_tokens': 430, 'server_tool_use': {'web_search_requests': 1}}`\n",
       "\n",
       "</details>"
      ],
      "text/plain": [
       "Message(id='msg_01ViZRYeJmq1LNPCPVeZraan', content=[TextBlock(citations=None, text=\"I'll check the current weather in San Diego for you.\", type='text'), ServerToolUseBlock(id='srvtoolu_013GJBBVbHBH86m3ocWQBoW3', input={'query': 'San Diego weather today May 13 2025'}, name='web_search', type='server_tool_use'), WebSearchToolResultBlock(content=[WebSearchResultBlock(encrypted_content='EoUQCioIAxgCIiQ4ODk4YTFkYy0yMTNkLTRhNmYtOTljYi03ZTBlNTUzZDc0NWISDFUhQOr66X5awQrELxoM5fuN/kiNCiPCaGsvIjCrFzeDaIPk+dbacLHhiR1SMjm1jr5au9rO8d7L3mC6kjB8nWgZxvqVuipeybwnXrUqiA9WShX7UYFl3p+Mq0u5DctVNFbnpDJXglc/ujWW0V2ufGIldSUQUyKGfSdmtjYAO301DW7zOTccQ02QCePvu/WXIBsNHJB2SIeEK88SFlfrzMi5T/iGwyJeFl4dLshxFLW3BbpRtLfb8V9wYnp5xa/o87y4MBL+Trxc7DQLPBZeoUN5YMhRnUzZJjwJV3jlHiIvuFBAiSJ9JUnDAXIyMlB1/AankFoGYTSC+BnNpBbLpy4dOyDLv7DyoOk+p6YT3pLE2+FHBHBcZB27YEEyg+a6ChMlcI22YteoJBEprIsSZsGs+l2wC8tM4eHoeyEgS5ok7/XWeg05nAZR28JM6Xom4Dg0bvYLdCIuQr4nWw8fXGurkUSGU9/nSHJuCYGXlYzM+pUbY0g6j8nau2Jd1v90oPPxph34FECAnc/rsdR38SaFGuMhkyM7BdvwoTwdX9sXqV0F3WmzlRQEyVnefUrHQKODs4QnTmQ0USywSL1423UtELDfZmxbisrW7rsAES6Dp2hXBb+dUeh5ki0RAUqEoootS4tml7DbBRfZdSq0oPm9Cr9pu7A1grpARzBAEzNKlRp9+OxDHqSxXXZe7lrIHGSDJRcwLwlgKZ1EWqOqS4X7/shV9DfaNydWQb0GDKBn+sFcAgAUm85edYnt7eC1zudqor/yokeRoIJYdZBr/MBMVe78Yttd0zPaVrtFiApCSb6jYwYdVR/fxqEHBJg/VrhGePGLEPY28YvZA5Cpt2gjNp3pGio2txFG7376TB2Ok7xlqz6aO35kTHKy/xWHze+pyFvYvF+HGqAnPW1uYmedxaz+tF5kbMIM4uCtAGkFi2CC2Psu0PkFj4a5WHoq1FRIPWySiyMFj/RvDb/v7s2udlboWSft+AUYyqFE0K0H1c6Q68PSIBlbaV2seEuSSHDStj1EPSc9bh2TvX6imfzJ9GDmpEd/Afil1KONrLtTYEm3Iq2ziAuzBiL+s2JGpwEwzV5k3Odj2pYnnP3WiCX1Pq8q7Iqa8D8bRG+XzcmlU2fG2aty5cKG8gNH02E8FDq016sMGEfFY79JJyEfqzmfsFQavbLekCwLbGfnUXgltf4ylO+j1zqGsB+6FQKivgbG7drDQyD7vt4i/+Nljmv+l6uwSC29okwI0Suq3+qzwlckR0oftgdvftPjonXBWx/qIzpl1pEI5zgBoNkhRHN44/7kuWb/MND8kJNjrMEelcIbmwr6hGgXfou+bX5ZkQSYA+AI31010n1gy27unzF/5TFl4tmNEYVIMhFPfogYkxmDQSOV+xOgqYvaeNtBc9scuM87OF58ukWBcvJh32e6d/VOIHPhXUKiz/5lQx9B1N1mcTobd6jxJyqzjFzJMMc+gVdUQfDxdr1rj8S1XBNHTdAwKcbbNrSdOkyqkthuz4kcYpHQMJKYD8r7+UIhg6vTcdg/4iAluBafvIT6dnt8QVREZCJVHgWHg7Drc/KykcWAuEWz+BtWhSLy+M2y8HYoTl9KSJKoyQ/rzm0+opGXqG4o0xFh//r3k99alHSjZMkChsNBIUH/gA/Y8JOUXojmreYa1viiWTcCAj4Rbk2tqWXy+4T70sS48CEmVnanyLuNxZtqt3utJ9/rDOtMsPJqxpYMIHZ/+ytA5Z60tffd6mY9wMMg7uaLyA/0vofeVARqkOmcy0l8cc14+S7jq3KzW3fFq8PAsRhb/7eS3lW/MxiSfg+5GM/yuSLJSrEdKfGj6HD9+ehwYfjLQD2sjG1U/RkUEd9Jjx8QXJhPCNSexvggSwsCyYA2u+tlaRnvZqoPx0V6kzC88c5dvPQxPC1jG3yL/wcxXQefiTWGUT78LpY3/ntEo8W466b+6+U+3tyVbu4J8YnSvfiyOZjgbbANORle4G4BNkZp9soqlfZwT2EGo9gY0L68LPazN6eTd4byBgBPpUdPvZxGPW6iQA8kQsgqxBuPtGHPew1/+nscNBFNQQGcFtkYsZ8Ibp7bLTOgtDVeMW2ksQ97ZOuGPJ2nw9YT3Xd3uAL8E/A7v/o7s/PBDlGY376NrYva+hxTnKpSvyqdXf45Go5uGCdfuM7a7DRpKnHZQF9araNdj/KSU/CQ/rr1brCQgB9sanLzAN3FQpPuXJNS+qN167GlRnYQI+wCaP5XEamFDaO+oXyN6Rg8FdtgSyoSZ6K4XF0lAyYRWJYpZIV48LU/d4/+h62VFmoWbfIEWzyCso9CBytegF9ze/zu3Vuc+TBz2s45rvg0dl1AV+eBIcWZernHMMNLxJNAeJbeds5PL6Zj8QuRd7fBt/0KCnNpL9lalHubxVk5MCjgiEYpyAT2fo2bssUX7jvODQ12t3afImVSF2i2kAYE9Yh85xr2rTCiROarfDlInI6UFd/CIUbgLwJZm3/As/JM9Qer4N65RitEqAtD1+lPsIE5UqDs4x92UKznvHHT+BKddtScU5tw4AlsmRZkTlrIlPFofnxMgYCARjMQZ2IQUi/IcFs48x928YV/BGVSXZZEBwGl2TNyGlDGmBBgQGIgow+MBhsc8EJlN+0D0lXwvxUTI6AogJ8rvf0JNOIxWL/34hgD', page_age=None, title='San Diego, CA Monthly Weather | AccuWeather', type='web_search_result', url='https://www.accuweather.com/en/us/san-diego/92101/may-weather/347628'), WebSearchResultBlock(encrypted_content='EqADCioIAxgCIiQ4ODk4YTFkYy0yMTNkLTRhNmYtOTljYi03ZTBlNTUzZDc0NWISDFnNt5Y/WQ1CEP4WShoMAIpp8Jk//kn5hnnIIjCO5lKVoEzQheVP0vcPztH+BiasL1ycEFYs4zPMM+TVImLh+7BMQd31ePZGWANFS7gqowJ6xpjUIiIlk5i9P88yhXvdaOJbPbAlJ1Ye3l1P+2zti7L+ZymXvg7AEz57vDadegRZwCNnAcfYoCpnEL2UHPPblHpwoyRQFZR0sGEdDHTrOkghu3LlbmK0JyDB+ITb097OY1g69c6XIgv+UArKABns2CmH8PNSKJ1OkMHU17skCaIys6jVlxOcO8QaGIkoCEIrEyQBc7KCAaO/Wew0+C2lns67coMiAcPrOm9ys2LxVteEUnszKoMB9IFaMRKrOsANtEdR5eqfh7xST+hrHhlN4ZXJPX5Whc0NiWsClAdOCVUiLUycqRUmUR1SRQzAnyulKsLKfAFUZYLoFVquWiOAEbFM2uvP4uU3g4WVkZyTgq04gyrNvJYVmrNfMt72DG21/sYYAw==', page_age=None, title='San Diego weather in May 2025 | San Diego 14 day weather', type='web_search_result', url='https://www.weather25.com/north-america/usa/california/san-diego?page=month&month=May'), WebSearchResultBlock(encrypted_content='EvADCioIAxgCIiQ4ODk4YTFkYy0yMTNkLTRhNmYtOTljYi03ZTBlNTUzZDc0NWISDEUg7T+dDnLBQ9D1JRoMngid1tYnOnNlMzgLIjDhtRLoxIwXzVlTQSgop2f3Izpsi4fYmjbo8ic4T9IkPZoVsrqYDufsBn+7CUhXvdkq8wIRDgFJG1dJ0Zt8O/ydKfXzHAryxbopAMM6r5ipydRY3iwBys8AD0AtI0UFjPi/KKyhIZEphIJuQhMIeighlc+f1YuNVc6kRjJIxGvzawMeaskfqo3edYBFyjz7HUTN1JxGYSSFQuT7VVefF2k0smcHg+Se1a0NjyKY1qemvgaEtBxhZ31cEn/uPz2oe0qoT8Jr6Cm+1RJkW8haert29P9gpIsljmIyfnzr1WeYofYnESPGjLYQy6FVoyWzVhef9UuaUKydDAx7Qhwv/Mh/QVxDh8LbK25oWdv5uwC7NefejFVMS8619eEM4HtEe5NwECwPU4lILRvQBZGU3IfyCMZO/MF1fAPN9b7ZTyOaOypV0k+oMWwfDyIKIN8dzjF9rMzN1XsrkGQ3RAWIpbYjyvEXb/BcS9BVx97GAavDMYXhE0m3s9du29HVvacduknFNwS+GF5irdJYw/r0l7PsFsTIpOBhOb/JSUvuUBp661wZzG5SoBgD', page_age=None, title='Weather in San Diego in May 2025 (California) - detailed Weather Forecast for a month', type='web_search_result', url='https://world-weather.info/forecast/usa/san_diego/may-2025/'), WebSearchResultBlock(encrypted_content='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', page_age=None, title='Weather San Diego in May 2025: Temperature & Climate', type='web_search_result', url='https://en.climate-data.org/north-america/united-states-of-america/california/san-diego-714969/t/may-5/'), WebSearchResultBlock(encrypted_content='EqsDCioIAxgCIiQ4ODk4YTFkYy0yMTNkLTRhNmYtOTljYi03ZTBlNTUzZDc0NWISDIOWcXpS5jZbmXMNyBoMnhOYKisXOS5P1x32IjDd0j8JEcJoEx3+HBBiaKpoS4r/d0WV+tjZM0Mfi9l9Q8eopqWrG5dqAOMv9donaRgqrgJxOaKpMI7EtU38zKZxl+MOegtQWb6OjGl2p8M5gtNhIjhUgSWHWGwC6q6oKWhPSq0IfCus7ZTiahic1pRBnviKSF2wxRP1x8Zws8/U/pyb01V8wRXTJIWRktYEHkmSFuV1C5uk0MLKPxqB6OXw+JImWbhWV21FBvzznG0obwl4DgYNRLy12Yevg1mrUPT1Io+pVsbhIaclDd10ImqF0u0NmLmwIO3v94UocETiHiyEU8+PAq60INjudde0q5LP0ug6R9o+r/2B2uPAxDeGVpReULlfL+pQ5M0CT2IK3day7igUjCLXGiv7TWG+Hr94NQaD3JmMNDc3Umwpfdl/DzcUQP27jGM+tROxe0JubhYhr25f/hpqDap8l69KmztiIERRtjX267tQuTvhbYBb4hgD', page_age=None, title='60-Day Extended Weather Forecast for San Diego, CA | Almanac.com', type='web_search_result', url='https://www.almanac.com/weather/longrange/CA/San%20Diego'), WebSearchResultBlock(encrypted_content='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', page_age=None, title='South San Diego, CA Monthly Weather | AccuWeather', type='web_search_result', url='https://www.accuweather.com/en/us/south-san-diego/92154/may-weather/2178586'), WebSearchResultBlock(encrypted_content='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', page_age='2 weeks ago', title='Weather in San Diego County in May 2025 - Detailed Forecast', type='web_search_result', url='https://www.easeweather.com/north-america/united-states/california/san-diego-county/may'), WebSearchResultBlock(encrypted_content='ErQLCioIAxgCIiQ4ODk4YTFkYy0yMTNkLTRhNmYtOTljYi03ZTBlNTUzZDc0NWISDMPo9X05m5ZXxd6yHhoMubQ9VgnOY/h1q2jiIjB1Jo3dRkLHqu/6hCsRuiQ6zjOdjebQMwRowC083lO7eelH23ZcuQx/fFm4eqgmMWUqtwoPVQwLK4B2c6lkBDsi8+85bvpYeNlO3GAjQeOXywsfAzZNcK4GXssrdtTurrStMRBN2fPgYmV2MO6QuAkLRDxCIa2K6GCXid/TunqHz/lL1BMDaaumdu9ggIrCSXK/krgQyAngVb+cdzlkxigs734t8Jpe0RvtQfMk7vp7sp8vB6kmCUqi1bxl4u2NAAx3fcON2/RRbX4m8dc7vkoY/dxl2+Wq6kiUa6zRt6DjTzDr1yQBGCSzr+nvU8mN89y/vqkoiUX8gMXUeSfXdkjqt9bZxic0pT6+l2zbIIQ6NjUnPwoGiZ8mLO8xYCIoknCMtgP+2E5y2wY4wLe7hDNQ4JSYkf6NPSr0TwGlLlYiprqYIwnwam0lu/v8W3SMSiDCbj1k0CQD5mcVuByhi9l6AkKqpAizVzB3OWJsIClOgrVsL5RpyrtA10rB0WYx6q2TVPcxgOYLyVRjo8zFFdBk0Lkbvnup63ppUGlbXRul5xycaC+YiCz6wA6URqJaedQTbPLDbTewO2Jsatecv7kijC+uUoNcUYEJlJtlTfwRYbbfElCyyTEk+l9lx8JKPUs7IaVWsHICgR19q2lD84DZ9yAoEV9Vl7aOYuI4FSNMY9DALWXhABptse6WuztmMScM6vM52jdV7iu2TOmfFnvVhDBWBK7wUlmjNJT7isayJ90QoCQauOcmlohrDFwpjL3ErLT5gWz3wIYfP4otasLEjTsZjtu0NxCCfUQ/OWDqpuLCF4iGhNF8EPBI3rqPpGpzvoiZD1EmI3Lz2auhErwBkDgwFM8RDpzifw17yLsVzb7SPYNb7tg9L+46mWpXGuzuztMpmg3yJisMdA5/yAOTZa0x45JqpXh9HIQSEK64jzZmdjdvs/jfJ3veR4WmZpRwStquPG4F1VGGaDqUrws81MZ5MFqx2eaO5lpXtj42FHHddCyQ7c7/bJEYF8PRJvV1fFm/uaXC/G5qMeUGhlaiAFIeMzDtBbOdA63MxWkzaP6jQf10XolmrfmRvZLKlP7V1n9pIjAV3U68u+ne+YlG1fzPdHzdX8RsdFzE/e0JTPOXWo0a7nh6scflHtZUNr9KQxj36OjRHPYcgduWT06IyQVqvFlryMOfyz+i2gPkREQRrBkQnNjahAAIVCs2AhMAyzuq3Ho9HDeWqmTsyyMK4BZI1g7bnmTRF00xSWAM4XI6/bPPUCuyofJbYjPs6+i7dAlwIb2e9LUIPLJoQ1JZn4qLvAvkWBZ8RN8RuAZGAozL5EnNgRFBef0bxUwC4iBUy5+kIYasaEiLcy4KLHSbjifgoLre8QVlMjdDtsuUbkYuwkPcJ/giI30FIFk6I8g6/4gLk7oN+sGeSaD+NKRKerBX5w6JeUdIqS6VuKaxHOJmYW7w+r6UADfvlhSJygdnAga13OSJFFk0AnrHra4ragju4dQqMQy/FYkS+JI0rglka3cV7slTtPLBd0MFbYCOrNyB4v3kNaj813WDW3AicCHcCuG0Rn+z5TBFWGcBLxvDji62vjg3yAkvp2cQmBz7KnCL05RgxiSE/7FLONvar+Xs2lh8M1IKXNb0t7noHx8UL0WFLTvlvbJHpPMhGV0a/rZpRetDj8OnqBpcuXSxwrD3axQm3uXtzlmaprdnsbIyqs/FHXlH/lgPAS88j6wjASVGOpnTOetRNxJKsSHSw+P6lRfWWqv9wgbEStibFHmk1xkSowwyHdX7A6UyLfldspXKeUPOSDFl7wl3qdCfQnQxnfM3Xsj8mvxzbno6FdV+ziZH/ueIvfoYAw==', page_age=None, title='San Diego, CA Weather Forecast | AccuWeather', type='web_search_result', url='https://www.accuweather.com/en/us/san-diego/92101/weather-forecast/347628'), WebSearchResultBlock(encrypted_content='Es0LCioIAxgCIiQ4ODk4YTFkYy0yMTNkLTRhNmYtOTljYi03ZTBlNTUzZDc0NWISDHzJ5h9ncPCNqFfYMxoMSd26owi0XKkGXZbHIjANHchT/dtMMWhD9mx2hfJU9uszdaAkhytK55vPZrrwTTBvamVfnRDXTrcJB4TgkQ8q0AoQ5j9y42IB/UB6+jwMxBlrKKsKpiepsIa+dqJtJ5ZgC4FLte1tSX56Q+ybocWCNE2VzewRrj2hA73y2YNN8fljqENbATjMSDxhyAWXL5eACmZECCC02XHIFVrI4NRyll5vY2KVQMO2yufC8Ko8mKsSX3wKuJOd00Ij1IcuTiSasiLfXhtE+IxBRhIywmNDPrA1sQ2KdZGDgtdA6NllsA0RtENHPMV6QQNqvqoODRc2pfHOJYZBtq9dhjXGwNAFsk5yBXjuHdDJQcMEY7bn+43zFh1VG6afgPwHUoxFLPLfdMOc31tXkNoSTRr7uHEMCYbxQei8xnbmUvjCpxvgOeNrLcr6lck9OKU44/hRl6nxA14OyQnLiPOXAPO7gO48hR5mbeCqFRFC0ml+YB62Z5lJBYFl3ZoHTdSAj0shLcgB2+7AJVi3bozJfqWxII2yr2qIN9cDaw2aDaNOXfDVn4dw9RKX9A2UzNzVP49lQhpwltuJemGqmikabgUnaj3RGxTvNOc11eCKhjet+f+B99VXn2Zse8IKARyt+ZT6lRADAC/BDfI4/lKg0mHTzjKclorKmFN/8ljvuO+h7hNer/AyHDsFgpmWgRUAXGKd3wSiA9QWDMDi22W2jYXT2ERzQaG72U56eZT79To39SEOMPAXq0OeUiIuvmxLypSsgnZC3gn+Zprv6aU5HN/ayfqv7wY54w0+Dgqf3lhTL3BLlZhkTU6rhgOlJnxI5glcfRfhMF+SinOl554OPcsL58Td+LzTC6Trv4dg7oXWa6ZtX78NT15Nojo4YLjm5aR2YjPdvOimpEiElMetaFQFVPZP3gFiL3VnNEa86Fu3cU1lgOEva5esa0Z+nP3oEdXSe0JZBTGN4kAPA0+dHk1UT9mNiSzeCg19k+aliSUevx0qUct/K8//njOLFGHnIRW8YIJNKsF0T0g/Sc9nO31WPMDFvfFlOnQtgfdpVTt5yDnv3TFHyGaWkbF3oyLuxNngzlAwyVIGr0GKCS2yyZL5+/Q6AHKjJt3dqKigMFxCLUQ80tLx//A6wFZ2hEYGlss1OWFfVZ1ZCUSZDaItzCoPiKU3vg6+Zie+TkFb1/LLTLr6/JwKMh79oU8Elv0ucbtRV6jFt1HlDj4NsSrVdjWgnzptQxP2mzhEIK1W/4lwJWkwXxwYyVX7yPUA8+YmNByMVWfW1855EH6bll8mHZSiI9Dkp833/MICfK9TKyT5g/IsBp2yqjWKVWxZI+ztTHHazT+SvWIkeccpUKrW7ym+LKkORT21MqfDN4lqRAD5All3hIXnE7jyMHVCGQSTTSmeT7Bnh2HMztBNpE+ml0UVGtpyE1mIBnSo2LlpNr7XS7uLGPujXovD9NeTk23iQEph1VDWLWqIlMIm7bNrBtdB2LkJZxqDUEcI+yWtKiEctg0hZSMrHyr0I8kXdaOTXtbBoO0oEwCPNZGJ+x9i2ZJdWH4RpmQPwZgkGiZ0zHDMGKiZLOC++IVSxJLg+O6LapSIZVPBgLVsrHNJHYVjpbwzRBrhg8jjU3SqkGsqvMyjZsDhgsOEAfnRe7Yl0pVcSQtaaJM3PIrYwS+FJf8KJiTiVguPSPpIF87Xhc67hQrbhr51x0EyMdGTdG+J4ddSINquA3/GSYve8XAu926TrPorl1gF89Fs9i0L7OWCqFAGctMNqKtY6I9YCakyNKotkXKVPyara7BDiE7dY/pBzxGr7Qzaf7rKguXqyd2vpxlyv2MvYXS++aflJSZtSnPRKMiDM+pnUlgmpAbLrNr066v69zeOPXT103GPdH3fkDSRz+Ze3dBwGAM=', page_age=None, title='San Diego weather in May 2025 | California, USA', type='web_search_result', url='https://www.weather2travel.com/california/san-diego/may/'), WebSearchResultBlock(encrypted_content='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', page_age='17 hours ago', title=\"San Diego's Weather Forecast for May 12, 2025: Drastic drop in temperatures!\", type='web_search_result', url='https://www.10news.com/weather/san-diegos-weather-forecast-for-may-12-2025-drastic-drop-in-temperatures')], tool_use_id='srvtoolu_013GJBBVbHBH86m3ocWQBoW3', type='web_search_tool_result'), TextBlock(citations=None, text=\"\\n\\nBased on the search results, here's the current weather in San Diego:\\n\\n\", type='text'), TextBlock(citations=[CitationsWebSearchResultLocation(cited_text='May Gray is back in the forecast after record heat this weekend, temperatures are expected to plummet up to 40 degrees by Tuesday!A cooling trend ramp...', encrypted_index='EpIBCioIAxgCIiQ4ODk4YTFkYy0yMTNkLTRhNmYtOTljYi03ZTBlNTUzZDc0NWISDMu+ETndbqVbYA/vvBoMApzsZaIvAQxybWqwIjANpnRo9VOJRshMX0EzjklTOpubSpWqEbTwVlNIXDMR7OR/rxY586uBtqIRA/9CawUqFoNK8UPH17+XzIMDng5QtSGiPAI9/sUYBA==', title=\"San Diego's Weather Forecast for May 12, 2025: Drastic drop in temperatures!\", type='web_search_result_location', url='https://www.10news.com/weather/san-diegos-weather-forecast-for-may-12-2025-drastic-drop-in-temperatures')], text='May Gray has returned to San Diego after a record hot weekend, with temperatures dropping dramatically.', type='text'), TextBlock(citations=None, text=' \\n\\n', type='text'), TextBlock(citations=[CitationsWebSearchResultLocation(cited_text='By tomorrow, temperatures will be up to 40 degrees cooler than when the heat peaked on Saturday, with temperatures topping out 5 to nearly 20 degrees ...', encrypted_index='EpABCioIAxgCIiQ4ODk4YTFkYy0yMTNkLTRhNmYtOTljYi03ZTBlNTUzZDc0NWISDHgtFCqgLwAQkuZF0BoMQ2N8Le3QKtaMsv+4IjBjFhvR7yOKYz5uftHJhUHi9Wg9Le0uPUxyXRD9XiTv3xKgto4i+ZAcRsgbnofH52sqFBGGMDaGTLiivd27CosTR5kCldF5GAQ=', title=\"San Diego's Weather Forecast for May 12, 2025: Drastic drop in temperatures!\", type='web_search_result_location', url='https://www.10news.com/weather/san-diegos-weather-forecast-for-may-12-2025-drastic-drop-in-temperatures'), CitationsWebSearchResultLocation(cited_text=\"Tuesday's Highs: Coast: 60-66° Inland: 59-66° Mountains: 48-60° Deserts: 77-80° · Follow ABC 10News Meteorologist Megan Parry on Facebook at Megan Par...\", encrypted_index='EpEBCioIAxgCIiQ4ODk4YTFkYy0yMTNkLTRhNmYtOTljYi03ZTBlNTUzZDc0NWISDJJOxa/lkRqpPRl62RoM4n65VO0xeV2TNfmEIjAHh6gEgCGh9e77XL0Vceeud5Ck44BNfclNO5xeppMjkO0NhXo227czu2l4VLbRCAgqFQKxli2mnT3WOnDX5nazdHbu91kt6BgE', title=\"San Diego's Weather Forecast for May 12, 2025: Drastic drop in temperatures!\", type='web_search_result_location', url='https://www.10news.com/weather/san-diegos-weather-forecast-for-may-12-2025-drastic-drop-in-temperatures')], text='Today (May 13, 2025), temperatures will be significantly cooler than the weekend, with highs ranging from 60-66°F along the coast and 59-66°F inland.', type='text'), TextBlock(citations=None, text='\\n\\n', type='text'), TextBlock(citations=[CitationsWebSearchResultLocation(cited_text='... Tuesday will bring a return of May Gray with limited clearing into the afternoon and anything from heavy mist, drizzle to a few light showers. The...', encrypted_index='EpIBCioIAxgCIiQ4ODk4YTFkYy0yMTNkLTRhNmYtOTljYi03ZTBlNTUzZDc0NWISDHa47RqhIJZN24TWKBoMYSzaX9CU95nb0ATiIjBcQEsNIJsROXjPGEHst7N6kE6lPYxbJIVvTv8Dp5b0pLzzQbKG9VBU9ahRPFIa/PYqFmeCkt12lLa2xh/h+u7N9pq+eIILGJEYBA==', title=\"San Diego's Weather Forecast for May 12, 2025: Drastic drop in temperatures!\", type='web_search_result_location', url='https://www.10news.com/weather/san-diegos-weather-forecast-for-may-12-2025-drastic-drop-in-temperatures')], text='The day is expected to have \"May Gray\" conditions with limited clearing into the afternoon and possibly some heavy mist, drizzle, or light showers, with the best chance of rain having been overnight into this morning.', type='text'), TextBlock(citations=None, text='\\n\\n', type='text'), TextBlock(citations=[CitationsWebSearchResultLocation(cited_text='The air quality is generally acceptable for most individuals. However, sensitive groups may experience minor to moderate symptoms from long-term expos...', encrypted_index='EpEBCioIAxgCIiQ4ODk4YTFkYy0yMTNkLTRhNmYtOTljYi03ZTBlNTUzZDc0NWISDMO4Ce+npba0Z4qtnhoMVpsHWcBdqoOuwMgwIjAB1+Ww6OjpG7doheaJ5HR46EDRG8damU5oymsxl41lHd3DsigVLqHRnRH9uoUXhXgqFektAs3uMnjQyPEbiZB5AuTocrqaOBgE', title='San Diego, CA Weather Forecast | AccuWeather', type='web_search_result_location', url='https://www.accuweather.com/en/us/san-diego/92101/weather-forecast/347628')], text='The air quality in San Diego is generally acceptable for most individuals, though sensitive groups may experience minor to moderate symptoms from long-term exposure.', type='text'), TextBlock(citations=None, text='\\n\\n', type='text'), TextBlock(citations=[CitationsWebSearchResultLocation(cited_text='Gusty winds will continue to target the mountains and deserts where a Wind Advisory is in effect until 5am Wednesday. Expect west and southwesterly wi...', encrypted_index='EpQBCioIAxgCIiQ4ODk4YTFkYy0yMTNkLTRhNmYtOTljYi03ZTBlNTUzZDc0NWISDLyFFz31joSLVd3L2xoMu6G8FQZSNvdWiUkNIjAKBxibR76QRjgGsRV//u8X9rZ0LM5+RStT3kmpfi/4BBGIAvi87BEx1WOlUtsFzFYqGK75BLxR3B3abFYMD04IGJ0sRBiOap862xgE', title=\"San Diego's Weather Forecast for May 12, 2025: Drastic drop in temperatures!\", type='web_search_result_location', url='https://www.10news.com/weather/san-diegos-weather-forecast-for-may-12-2025-drastic-drop-in-temperatures')], text='For those traveling to mountain or desert areas near San Diego, be aware that a Wind Advisory is in effect until 5am Wednesday, with west and southwesterly winds of 20 to 35mph and gusts of 40 to 65mph, which may cause blowing dust and dirt.', type='text'), TextBlock(citations=None, text='\\n\\n', type='text'), TextBlock(citations=[CitationsWebSearchResultLocation(cited_text='Sunny skies and warming temperatures will be the trend early next week. ', encrypted_index='EpEBCioIAxgCIiQ4ODk4YTFkYy0yMTNkLTRhNmYtOTljYi03ZTBlNTUzZDc0NWISDEqKl4hC04AhkjgfRRoMImOU4Xp6c/KxLDutIjA/IliJlM8C1IvmEJjQlg4ZJF4Sa7BGzqLwfo/X/2JUtcMZ/hnQvWnttx5Qqr9+fDoqFbvudguOP2WHVJxtYCvSmLEuktHUuxgE', title=\"San Diego's Weather Forecast for May 12, 2025: Drastic drop in temperatures!\", type='web_search_result_location', url='https://www.10news.com/weather/san-diegos-weather-forecast-for-may-12-2025-drastic-drop-in-temperatures')], text='Looking ahead, sunny skies and warming temperatures are expected early next week.', type='text')], model='claude-3-7-sonnet-20250219', role='assistant', stop_reason='end_turn', stop_sequence=None, type='message', usage=In: 11; Out: 430; Cache create: 0; Cache read: 11871; Total Tokens: 12312; Server tool use (web search requests): 1)"
      ]
     },
     "execution_count": null,
     "metadata": {},
     "output_type": "execute_result"
    }
   ],
   "source": [
    "chat = Chat(model, sp='Be concise in your responses.', tools=[search_conf()], cache=True)\n",
    "pr = 'What is the weather in San Diego?'\n",
    "r = chat(pr)\n",
    "r"
   ]
  },
  {
   "cell_type": "code",
   "execution_count": null,
   "id": "8ee2696a",
   "metadata": {},
   "outputs": [
    {
     "data": {
      "text/markdown": [
       "Otters are fascinating semi-aquatic mammals that belong to the Mustelidae family, which also includes weasels, badgers, and wolverines. Here are some key facts about otters:\n",
       "\n",
       "Physical characteristics:\n",
       "- They have sleek, streamlined bodies adapted for swimming\n",
       "- Dense, water-repellent fur that keeps them warm and dry\n",
       "- Strong tails for swimming and webbed feet for propulsion\n",
       "- Most species have sharp claws and powerful jaws\n",
       "\n",
       "Types of otters:\n",
       "- There are 13 species of otters worldwide\n",
       "- Sea otters and river otters are the most well-known\n",
       "- The giant otter of South America can grow up to 6 feet long\n",
       "- The smallest is the Asian small-clawed otter at about 2-3 feet\n",
       "\n",
       "Behavior:\n",
       "- Highly intelligent and playful animals\n",
       "- Known for using tools (sea otters use rocks to crack open shellfish)\n",
       "- Many species build dens near water called \"holts\"\n",
       "- Most are social, living in family groups called \"rafts\" or \"romps\"\n",
       "\n",
       "Habitat and distribution:\n",
       "- Found on every continent except Australia and Antarctica\n",
       "- Live in various aquatic environments including oceans, rivers, lakes, and marshes\n",
       "- Most species are freshwater dwellers, with sea otters being the exception\n",
       "\n",
       "Conservation:\n",
       "- Many otter species are threatened or endangered\n",
       "- Threats include habitat loss, pollution, and hunting for fur\n",
       "- Several conservation efforts exist worldwide to protect otter populations\n",
       "\n",
       "Otters are often considered charismatic animals due to their playful behavior and cute appearance, making them popular in wildlife conservation campaigns.\n",
       "\n",
       "<details>\n",
       "\n",
       "- id: `msg_01JPitDL5oRJCAhfXfQH1cQg`\n",
       "- content: `[{'citations': None, 'text': 'Otters are fascinating semi-aquatic mammals that belong to the Mustelidae family, which also includes weasels, badgers, and wolverines. Here are some key facts about otters:\\n\\nPhysical characteristics:\\n- They have sleek, streamlined bodies adapted for swimming\\n- Dense, water-repellent fur that keeps them warm and dry\\n- Strong tails for swimming and webbed feet for propulsion\\n- Most species have sharp claws and powerful jaws\\n\\nTypes of otters:\\n- There are 13 species of otters worldwide\\n- Sea otters and river otters are the most well-known\\n- The giant otter of South America can grow up to 6 feet long\\n- The smallest is the Asian small-clawed otter at about 2-3 feet\\n\\nBehavior:\\n- Highly intelligent and playful animals\\n- Known for using tools (sea otters use rocks to crack open shellfish)\\n- Many species build dens near water called \"holts\"\\n- Most are social, living in family groups called \"rafts\" or \"romps\"\\n\\nHabitat and distribution:\\n- Found on every continent except Australia and Antarctica\\n- Live in various aquatic environments including oceans, rivers, lakes, and marshes\\n- Most species are freshwater dwellers, with sea otters being the exception\\n\\nConservation:\\n- Many otter species are threatened or endangered\\n- Threats include habitat loss, pollution, and hunting for fur\\n- Several conservation efforts exist worldwide to protect otter populations\\n\\nOtters are often considered charismatic animals due to their playful behavior and cute appearance, making them popular in wildlife conservation campaigns.', 'type': 'text'}]`\n",
       "- model: `claude-3-7-sonnet-20250219`\n",
       "- role: `assistant`\n",
       "- stop_reason: `end_turn`\n",
       "- stop_sequence: `None`\n",
       "- type: `message`\n",
       "- usage: `{'cache_creation_input_tokens': 6873, 'cache_read_input_tokens': 0, 'input_tokens': 4, 'output_tokens': 362, 'server_tool_use': None}`\n",
       "\n",
       "</details>"
      ],
      "text/plain": [
       "Message(id='msg_01JPitDL5oRJCAhfXfQH1cQg', content=[TextBlock(citations=None, text='Otters are fascinating semi-aquatic mammals that belong to the Mustelidae family, which also includes weasels, badgers, and wolverines. Here are some key facts about otters:\\n\\nPhysical characteristics:\\n- They have sleek, streamlined bodies adapted for swimming\\n- Dense, water-repellent fur that keeps them warm and dry\\n- Strong tails for swimming and webbed feet for propulsion\\n- Most species have sharp claws and powerful jaws\\n\\nTypes of otters:\\n- There are 13 species of otters worldwide\\n- Sea otters and river otters are the most well-known\\n- The giant otter of South America can grow up to 6 feet long\\n- The smallest is the Asian small-clawed otter at about 2-3 feet\\n\\nBehavior:\\n- Highly intelligent and playful animals\\n- Known for using tools (sea otters use rocks to crack open shellfish)\\n- Many species build dens near water called \"holts\"\\n- Most are social, living in family groups called \"rafts\" or \"romps\"\\n\\nHabitat and distribution:\\n- Found on every continent except Australia and Antarctica\\n- Live in various aquatic environments including oceans, rivers, lakes, and marshes\\n- Most species are freshwater dwellers, with sea otters being the exception\\n\\nConservation:\\n- Many otter species are threatened or endangered\\n- Threats include habitat loss, pollution, and hunting for fur\\n- Several conservation efforts exist worldwide to protect otter populations\\n\\nOtters are often considered charismatic animals due to their playful behavior and cute appearance, making them popular in wildlife conservation campaigns.', type='text')], model='claude-3-7-sonnet-20250219', role='assistant', stop_reason='end_turn', stop_sequence=None, type='message', usage=In: 4; Out: 362; Cache create: 6873; Cache read: 0; Total Tokens: 7239; Server tool use (web search requests): 0)"
      ]
     },
     "execution_count": null,
     "metadata": {},
     "output_type": "execute_result"
    }
   ],
   "source": [
    "chat.tools = []\n",
    "pr = 'Tell me about otters'\n",
    "r = chat(pr)\n",
    "r"
   ]
  },
  {
   "cell_type": "code",
   "execution_count": null,
   "id": "3e0d4a21",
   "metadata": {},
   "outputs": [
    {
     "data": {
      "text/markdown": [
       "\n",
       "Python is a versatile, high-level programming language known for its clean syntax and readability, making it popular for everything from web development and data science to artificial intelligence and automation.\n",
       "\n",
       "<details>\n",
       "<summary>Thinking</summary>\n",
       "The request is asking me to write a single sentence about Python. This could refer to either the programming language or the snake. Since it's a simple request for just one sentence, I'll provide a clear, informative sentence about Python programming language, which is likely what most people are referring to when they mention \"Python\" in a technical context.\n",
       "</details>\n",
       "\n",
       "\n",
       "<details>\n",
       "\n",
       "- id: `msg_01HwKDuQ9PzN75g25Lq2dHLL`\n",
       "- content: `[{'signature': 'ErUBCkYIAxgCIkCFwF5Uc2ZggEutpZCbVdYG6GIG+mfMHWNBrhOYvViytq4KZR4MvcDGk7/Hpkz6SscmrRkGFOjgT7ZcSdTpwvfEEgy7g4VXqPMIxeSlcjoaDNzOmBCvuICVZ5rVSSIwint7PlCuxSdqCYZZrxee0q0PVEXGeQGg58rquZdjb6Vk3Nl7rf8SO40T/48n4NDQKh0tiMKI9PR2T6xvL+Bio11nhE94CQRZoHsHJ1ok5xgC', 'thinking': 'The request is asking me to write a single sentence about Python. This could refer to either the programming language or the snake. Since it\\'s a simple request for just one sentence, I\\'ll provide a clear, informative sentence about Python programming language, which is likely what most people are referring to when they mention \"Python\" in a technical context.', 'type': 'thinking'}, {'citations': None, 'text': 'Python is a versatile, high-level programming language known for its clean syntax and readability, making it popular for everything from web development and data science to artificial intelligence and automation.', 'type': 'text'}]`\n",
       "- model: `claude-3-7-sonnet-20250219`\n",
       "- role: `assistant`\n",
       "- stop_reason: `end_turn`\n",
       "- stop_sequence: `None`\n",
       "- type: `message`\n",
       "- usage: `{'cache_creation_input_tokens': 7267, 'cache_read_input_tokens': 0, 'input_tokens': 10, 'output_tokens': 119, 'server_tool_use': None}`\n",
       "\n",
       "</details>"
      ],
      "text/plain": [
       "Message(id='msg_01HwKDuQ9PzN75g25Lq2dHLL', content=[ThinkingBlock(signature='ErUBCkYIAxgCIkCFwF5Uc2ZggEutpZCbVdYG6GIG+mfMHWNBrhOYvViytq4KZR4MvcDGk7/Hpkz6SscmrRkGFOjgT7ZcSdTpwvfEEgy7g4VXqPMIxeSlcjoaDNzOmBCvuICVZ5rVSSIwint7PlCuxSdqCYZZrxee0q0PVEXGeQGg58rquZdjb6Vk3Nl7rf8SO40T/48n4NDQKh0tiMKI9PR2T6xvL+Bio11nhE94CQRZoHsHJ1ok5xgC', thinking='The request is asking me to write a single sentence about Python. This could refer to either the programming language or the snake. Since it\\'s a simple request for just one sentence, I\\'ll provide a clear, informative sentence about Python programming language, which is likely what most people are referring to when they mention \"Python\" in a technical context.', type='thinking'), TextBlock(citations=None, text='Python is a versatile, high-level programming language known for its clean syntax and readability, making it popular for everything from web development and data science to artificial intelligence and automation.', type='text')], model='claude-3-7-sonnet-20250219', role='assistant', stop_reason='end_turn', stop_sequence=None, type='message', usage=In: 10; Out: 119; Cache create: 7267; Cache read: 0; Total Tokens: 7396; Server tool use (web search requests): 0)"
      ]
     },
     "execution_count": null,
     "metadata": {},
     "output_type": "execute_result"
    }
   ],
   "source": [
    "r = chat(\"Write a sentence about Python!\", maxthinktok=1024)\n",
    "r"
   ]
  },
  {
   "cell_type": "code",
   "execution_count": null,
   "id": "2c085d6f",
   "metadata": {},
   "outputs": [
    {
     "data": {
      "text/markdown": [
       "To find the sum of 100 + 100, I'll use the sums function.\n",
       "\n",
       "<details>\n",
       "\n",
       "- id: `msg_01MsJnKsgFZ7LGHCSKgtFuDe`\n",
       "- content: `[{'citations': None, 'text': \"To find the sum of 100 + 100, I'll use the sums function.\", 'type': 'text'}, {'id': 'toolu_01Vm2ED5S2vgVFMgJVPDPCg1', 'input': {'a': 100, 'b': 100}, 'name': 'sums', 'type': 'tool_use'}]`\n",
       "- model: `claude-3-7-sonnet-20250219`\n",
       "- role: `assistant`\n",
       "- stop_reason: `tool_use`\n",
       "- stop_sequence: `None`\n",
       "- type: `message`\n",
       "- usage: `{'cache_creation_input_tokens': 7681, 'cache_read_input_tokens': 0, 'input_tokens': 4, 'output_tokens': 90, 'server_tool_use': None}`\n",
       "\n",
       "</details>"
      ],
      "text/plain": [
       "Message(id='msg_01MsJnKsgFZ7LGHCSKgtFuDe', content=[TextBlock(citations=None, text=\"To find the sum of 100 + 100, I'll use the sums function.\", type='text'), ToolUseBlock(id='toolu_01Vm2ED5S2vgVFMgJVPDPCg1', input={'a': 100, 'b': 100}, name='sums', type='tool_use')], model='claude-3-7-sonnet-20250219', role='assistant', stop_reason='tool_use', stop_sequence=None, type='message', usage=In: 4; Out: 90; Cache create: 7681; Cache read: 0; Total Tokens: 7775; Server tool use (web search requests): 0)"
      ]
     },
     "execution_count": null,
     "metadata": {},
     "output_type": "execute_result"
    }
   ],
   "source": [
    "chat.ns = mk_ns(sums)\n",
    "chat.tools = [sums]\n",
    "pr = 'What is 100 + 100?'\n",
    "r = chat(pr)\n",
    "r"
   ]
  },
  {
   "cell_type": "code",
   "execution_count": null,
   "id": "0219fed9",
   "metadata": {},
   "outputs": [
    {
     "data": {
      "text/markdown": [
       "To find the sum of 100 + 100, I'll use the sums function.\n",
       "\n",
       "<details>\n",
       "<summary>History</summary>\n",
       "\n",
       "**user**: What is the weather in San Diego?\n",
       "\n",
       "**assistant**: I'll check the current weather in San Diego for you.\n",
       "\n",
       "Based on the search results, here's the current weather in San Diego:\n",
       "\n",
       "May Gray has returned to San Diego after a record hot weekend, with temperatures dropping dramatically. [^1] \n",
       "\n",
       "Today (May 13, 2025), temperatures will be significantly cooler than the weekend, with highs ranging from 60-66°F along the coast and 59-66°F inland. [^2] [^3]\n",
       "\n",
       "The day is expected to have \"May Gray\" conditions with limited clearing into the afternoon and possibly some heavy mist, drizzle, or light showers, with the best chance of rain having been overnight into this morning. [^4]\n",
       "\n",
       "The air quality in San Diego is generally acceptable for most individuals, though sensitive groups may experience minor to moderate symptoms from long-term exposure. [^5]\n",
       "\n",
       "For those traveling to mountain or desert areas near San Diego, be aware that a Wind Advisory is in effect until 5am Wednesday, with west and southwesterly winds of 20 to 35mph and gusts of 40 to 65mph, which may cause blowing dust and dirt. [^6]\n",
       "\n",
       "Looking ahead, sunny skies and warming temperatures are expected early next week. [^7]\n",
       "\n",
       "[^1]: https://www.10news.com/weather/san-diegos-weather-forecast-for-may-12-2025-drastic-drop-in-temperatures\n",
       "\t\"May Gray is back in the forecast after record heat this weekend, temperatures are expected to plummet up to 40 degrees by Tuesday!A cooling trend ramp...\"\n",
       "\n",
       "[^2]: https://www.10news.com/weather/san-diegos-weather-forecast-for-may-12-2025-drastic-drop-in-temperatures\n",
       "\t\"By tomorrow, temperatures will be up to 40 degrees cooler than when the heat peaked on Saturday, with temperatures topping out 5 to nearly 20 degrees ...\"\n",
       "\n",
       "[^3]: https://www.10news.com/weather/san-diegos-weather-forecast-for-may-12-2025-drastic-drop-in-temperatures\n",
       "\t\"Tuesday's Highs: Coast: 60-66° Inland: 59-66° Mountains: 48-60° Deserts: 77-80° · Follow ABC 10News Meteorologist Megan Parry on Facebook at Megan Par...\"\n",
       "\n",
       "[^4]: https://www.10news.com/weather/san-diegos-weather-forecast-for-may-12-2025-drastic-drop-in-temperatures\n",
       "\t\"... Tuesday will bring a return of May Gray with limited clearing into the afternoon and anything from heavy mist, drizzle to a few light showers. The...\"\n",
       "\n",
       "[^5]: https://www.accuweather.com/en/us/san-diego/92101/weather-forecast/347628\n",
       "\t\"The air quality is generally acceptable for most individuals. However, sensitive groups may experience minor to moderate symptoms from long-term expos...\"\n",
       "\n",
       "[^6]: https://www.10news.com/weather/san-diegos-weather-forecast-for-may-12-2025-drastic-drop-in-temperatures\n",
       "\t\"Gusty winds will continue to target the mountains and deserts where a Wind Advisory is in effect until 5am Wednesday. Expect west and southwesterly wi...\"\n",
       "\n",
       "[^7]: https://www.10news.com/weather/san-diegos-weather-forecast-for-may-12-2025-drastic-drop-in-temperatures\n",
       "\t\"Sunny skies and warming temperatures will be the trend early next week. \"\n",
       "\n",
       "**user**: Tell me about otters\n",
       "\n",
       "**assistant**: Otters are fascinating semi-aquatic mammals that belong to the Mustelidae family, which also includes weasels, badgers, and wolverines. Here are some key facts about otters:\n",
       "\n",
       "Physical characteristics:\n",
       "- They have sleek, streamlined bodies adapted for swimming\n",
       "- Dense, water-repellent fur that keeps them warm and dry\n",
       "- Strong tails for swimming and webbed feet for propulsion\n",
       "- Most species have sharp claws and powerful jaws\n",
       "\n",
       "Types of otters:\n",
       "- There are 13 species of otters worldwide\n",
       "- Sea otters and river otters are the most well-known\n",
       "- The giant otter of South America can grow up to 6 feet long\n",
       "- The smallest is the Asian small-clawed otter at about 2-3 feet\n",
       "\n",
       "Behavior:\n",
       "- Highly intelligent and playful animals\n",
       "- Known for using tools (sea otters use rocks to crack open shellfish)\n",
       "- Many species build dens near water called \"holts\"\n",
       "- Most are social, living in family groups called \"rafts\" or \"romps\"\n",
       "\n",
       "Habitat and distribution:\n",
       "- Found on every continent except Australia and Antarctica\n",
       "- Live in various aquatic environments including oceans, rivers, lakes, and marshes\n",
       "- Most species are freshwater dwellers, with sea otters being the exception\n",
       "\n",
       "Conservation:\n",
       "- Many otter species are threatened or endangered\n",
       "- Threats include habitat loss, pollution, and hunting for fur\n",
       "- Several conservation efforts exist worldwide to protect otter populations\n",
       "\n",
       "Otters are often considered charismatic animals due to their playful behavior and cute appearance, making them popular in wildlife conservation campaigns.\n",
       "\n",
       "**user**: Write a sentence about Python!\n",
       "\n",
       "**assistant**: Python is a versatile, high-level programming language known for its clean syntax and readability, making it popular for everything from web development and data science to artificial intelligence and automation.\n",
       "\n",
       "**user**: What is 100 + 100?\n",
       "\n",
       "**assistant**: To find the sum of 100 + 100, I'll use the sums function.\n",
       "\n",
       "**user**: 200\n",
       "</details>\n",
       "\n",
       "| Metric | Count | Cost (USD) |\n",
       "|--------|------:|-----:|\n",
       "| Input tokens | 29 | 0.000087 |\n",
       "| Output tokens | 1,001 | 0.015015 |\n",
       "| Cache tokens | 33,692 | 81828.753561 |\n",
       "| Server tool use | 1 | 0.010000 |\n",
       "| **Total** | **34,722** | **$0.110492** |"
      ],
      "text/plain": [
       "<claudette.core.Chat>"
      ]
     },
     "execution_count": null,
     "metadata": {},
     "output_type": "execute_result"
    }
   ],
   "source": [
    "chat"
   ]
  },
  {
   "cell_type": "code",
   "execution_count": null,
   "id": "8b0f38c1",
   "metadata": {},
   "outputs": [
    {
     "data": {
      "text/plain": [
       "(0.11049205,\n",
       " In: 29; Out: 1001; Cache create: 21821; Cache read: 11871; Total Tokens: 34722; Server tool use (web search requests): 1)"
      ]
     },
     "execution_count": null,
     "metadata": {},
     "output_type": "execute_result"
    }
   ],
   "source": [
    "chat.cost, chat.use"
   ]
  },
  {
   "cell_type": "markdown",
   "id": "b1580f5c",
   "metadata": {},
   "source": [
    "## Third party providers"
   ]
  },
  {
   "cell_type": "markdown",
   "id": "bd88f878",
   "metadata": {},
   "source": [
    "### Amazon Bedrock"
   ]
  },
  {
   "cell_type": "markdown",
   "id": "a6ecba86",
   "metadata": {},
   "source": [
    "These are Amazon's current Claude models:"
   ]
  },
  {
   "cell_type": "code",
   "execution_count": null,
   "id": "81d16826",
   "metadata": {},
   "outputs": [
    {
     "data": {
      "text/plain": [
       "['claude-3-5-haiku-20241022',\n",
       " 'claude-3-7-sonnet-20250219',\n",
       " 'anthropic.claude-3-opus-20240229-v1:0',\n",
       " 'anthropic.claude-3-5-sonnet-20241022-v2:0']"
      ]
     },
     "execution_count": null,
     "metadata": {},
     "output_type": "execute_result"
    }
   ],
   "source": [
    "models_aws"
   ]
  },
  {
   "cell_type": "markdown",
   "id": "7a194f45",
   "metadata": {},
   "source": [
    ":::{.callout-note}\n",
    "\n",
    "`anthropic` at version 0.34.2 seems not to install `boto3` as a dependency. You may need to do a `pip install boto3` or the creation of the `Client` below fails.\n",
    "\n",
    ":::"
   ]
  },
  {
   "cell_type": "markdown",
   "id": "9b8b2bc4",
   "metadata": {},
   "source": [
    "Provided `boto3` is installed, we otherwise don't need any extra code to support Amazon Bedrock -- we just have to set up the approach client:"
   ]
  },
  {
   "cell_type": "code",
   "execution_count": null,
   "id": "08cb7585",
   "metadata": {},
   "outputs": [],
   "source": [
    "ab = AnthropicBedrock(\n",
    "    aws_access_key=os.environ['AWS_ACCESS_KEY'],\n",
    "    aws_secret_key=os.environ['AWS_SECRET_KEY'],\n",
    ")\n",
    "client = Client(models_aws[-1], ab)"
   ]
  },
  {
   "cell_type": "code",
   "execution_count": null,
   "id": "f1f2f214",
   "metadata": {},
   "outputs": [],
   "source": [
    "chat = Chat(cli=client)"
   ]
  },
  {
   "cell_type": "code",
   "execution_count": null,
   "id": "ec54a422",
   "metadata": {},
   "outputs": [],
   "source": [
    "chat(\"I'm Jeremy\")"
   ]
  },
  {
   "cell_type": "markdown",
   "id": "1b331146",
   "metadata": {},
   "source": [
    "### Google Vertex"
   ]
  },
  {
   "cell_type": "code",
   "execution_count": null,
   "id": "fdb46839",
   "metadata": {},
   "outputs": [],
   "source": [
    "models_goog"
   ]
  },
  {
   "cell_type": "code",
   "execution_count": null,
   "id": "30921ab4",
   "metadata": {},
   "outputs": [],
   "source": [
    "from anthropic import AnthropicVertex\n",
    "import google.auth"
   ]
  },
  {
   "cell_type": "code",
   "execution_count": null,
   "id": "c00ef664",
   "metadata": {},
   "outputs": [],
   "source": [
    "project_id = google.auth.default()[1]\n",
    "region = \"us-east5\"\n",
    "gv = AnthropicVertex(project_id=project_id, region=region)\n",
    "client = Client(models_goog[-1], gv)"
   ]
  },
  {
   "cell_type": "code",
   "execution_count": null,
   "id": "7d0481b5",
   "metadata": {},
   "outputs": [],
   "source": [
    "chat = Chat(cli=client)"
   ]
  },
  {
   "cell_type": "code",
   "execution_count": null,
   "id": "11006ae0",
   "metadata": {},
   "outputs": [],
   "source": [
    "chat(\"I'm Jeremy\")"
   ]
  },
  {
   "cell_type": "markdown",
   "id": "94ec4289",
   "metadata": {},
   "source": [
    "## Export -"
   ]
  },
  {
   "cell_type": "code",
   "execution_count": null,
   "id": "1e9ee5c1",
   "metadata": {},
   "outputs": [],
   "source": [
    "#|hide\n",
    "#|eval: false\n",
    "from nbdev.doclinks import nbdev_export\n",
    "nbdev_export()"
   ]
  },
  {
   "cell_type": "code",
   "execution_count": null,
   "id": "12a64c67",
   "metadata": {},
   "outputs": [],
   "source": []
  }
 ],
 "metadata": {
  "kernelspec": {
   "display_name": "python3",
   "language": "python",
   "name": "python3"
  }
 },
 "nbformat": 4,
 "nbformat_minor": 5
}
