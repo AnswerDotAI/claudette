{
 "cells": [
  {
   "cell_type": "code",
   "execution_count": null,
   "id": "efe78920",
   "metadata": {},
   "outputs": [],
   "source": [
    "#|default_exp core"
   ]
  },
  {
   "cell_type": "markdown",
   "id": "3d773712-12fe-440e-891f-36f59666dfde",
   "metadata": {},
   "source": [
    "# Claudette's source"
   ]
  },
  {
   "cell_type": "markdown",
   "id": "c47b5d38",
   "metadata": {},
   "source": [
    "This is the 'literate' source code for Claudette. You can view the fully rendered version of the notebook [here](https://claudette.answer.ai/core.html), or you can clone the git repo and run the [interactive notebook](https://github.com/AnswerDotAI/claudette/blob/main/00_core.ipynb) in Jupyter. The notebook is converted the [Python module claudette/core.py](https://github.com/AnswerDotAI/claudette/blob/main/claudette/core.py) using [nbdev](https://nbdev.fast.ai/). The goal of this source code is to both create the Python module, and also to teach the reader *how* it is created, without assuming much existing knowledge about Claude's API.\n",
    "\n",
    "Most of the time you'll see that we write some source code *first*, and then a description or discussion of it *afterwards*."
   ]
  },
  {
   "cell_type": "markdown",
   "id": "ff6f6471-8061-4fdd-85a1-25fdc27c5cf3",
   "metadata": {},
   "source": [
    "## Setup"
   ]
  },
  {
   "cell_type": "code",
   "execution_count": null,
   "id": "f1ad998e-4bb1-4bed-abf4-6e8606cb2453",
   "metadata": {},
   "outputs": [],
   "source": [
    "import os\n",
    "# os.environ['ANTHROPIC_LOG'] = 'debug'"
   ]
  },
  {
   "cell_type": "markdown",
   "id": "5b16f396",
   "metadata": {},
   "source": [
    "To print every HTTP request and response in full, uncomment the above line. This functionality is provided by Anthropic's SDK."
   ]
  },
  {
   "cell_type": "code",
   "execution_count": null,
   "id": "033c76fd",
   "metadata": {},
   "outputs": [],
   "source": [
    "#| export\n",
    "import inspect, typing, json\n",
    "from collections import abc\n",
    "from typing import get_type_hints\n",
    "from functools import wraps\n",
    "\n",
    "from anthropic import Anthropic, AnthropicBedrock, AnthropicVertex\n",
    "from anthropic.types import (Usage, TextBlock, ServerToolUseBlock,\n",
    "                             WebSearchToolResultBlock, Message, ToolUseBlock,\n",
    "                             ThinkingBlock, ServerToolUsage)\n",
    "from anthropic.resources import messages\n",
    "\n",
    "import toolslm\n",
    "from toolslm.funccall import *\n",
    "\n",
    "from fastcore.meta import delegates\n",
    "from fastcore.utils import *\n",
    "from fastcore.xtras import save_iter\n",
    "from msglm import mk_msg_anthropic as mk_msg, mk_msgs_anthropic as mk_msgs"
   ]
  },
  {
   "cell_type": "code",
   "execution_count": null,
   "id": "b6fa4e45",
   "metadata": {},
   "outputs": [],
   "source": [
    "#| hide\n",
    "from nbdev import show_doc"
   ]
  },
  {
   "cell_type": "code",
   "execution_count": null,
   "id": "af9ebbcf",
   "metadata": {},
   "outputs": [],
   "source": [
    "from anthropic.types import Model\n",
    "from claudette.text_editor import *\n",
    "from typing import get_args\n",
    "from datetime import datetime\n",
    "from pprint import pprint\n",
    "from IPython.display import Image\n",
    "\n",
    "import warnings"
   ]
  },
  {
   "cell_type": "code",
   "execution_count": null,
   "id": "13866a72",
   "metadata": {},
   "outputs": [],
   "source": [
    "warnings.filterwarnings(\"ignore\", message=\"Pydantic serializer warnings\")"
   ]
  },
  {
   "cell_type": "code",
   "execution_count": null,
   "id": "c1cefa1e",
   "metadata": {},
   "outputs": [],
   "source": [
    "#| export\n",
    "_all_ = ['mk_msg', 'mk_msgs']"
   ]
  },
  {
   "cell_type": "code",
   "execution_count": null,
   "id": "f5fa6b92",
   "metadata": {},
   "outputs": [],
   "source": [
    "#| export\n",
    "empty = inspect.Parameter.empty"
   ]
  },
  {
   "cell_type": "markdown",
   "id": "9c3c2197",
   "metadata": {},
   "source": [
    ":::{.callout-tip}\n",
    "\n",
    "If you're reading the rendered version of this notebook, you'll see an \"Exported source\" collapsible widget below. If you're reading the source notebook directly, you'll see `#| exports` at the top of the cell. These show that this piece of code will be exported into the python module that this notebook creates. No other code will be included -- any other code in this notebook is just for demonstration, documentation, and testing.\n",
    "\n",
    "You can toggle expanding/collapsing the source code of all exported sections by using the `</> Code` menu in the top right of the rendered notebook page.\n",
    "\n",
    ":::"
   ]
  },
  {
   "cell_type": "code",
   "execution_count": null,
   "id": "0fff8869",
   "metadata": {},
   "outputs": [],
   "source": [
    "#| exports\n",
    "\n",
    "model_types = {\n",
    "    # Anthropic\n",
    "    'claude-opus-4-20250514': 'opus',\n",
    "    'claude-sonnet-4-20250514': 'sonnet',\n",
    "    'claude-3-opus-20240229': 'opus-3',\n",
    "    'claude-3-7-sonnet-20250219': 'sonnet-3-7',\n",
    "    'claude-3-5-sonnet-20241022': 'sonnet-3-5',\n",
    "    'claude-3-haiku-20240307': 'haiku-3',\n",
    "    'claude-3-5-haiku-20241022': 'haiku-3-5',\n",
    "    # AWS\n",
    "    'anthropic.claude-3-opus-20240229-v1:0': 'opus',\n",
    "    'anthropic.claude-3-5-sonnet-20241022-v2:0': 'sonnet',\n",
    "    'anthropic.claude-3-sonnet-20240229-v1:0': 'sonnet',\n",
    "    'anthropic.claude-3-haiku-20240307-v1:0': 'haiku',\n",
    "    # Google\n",
    "    'claude-3-opus@20240229': 'opus',\n",
    "    'claude-3-5-sonnet-v2@20241022': 'sonnet',\n",
    "    'claude-3-sonnet@20240229': 'sonnet',\n",
    "    'claude-3-haiku@20240307': 'haiku',\n",
    "}\n",
    "\n",
    "all_models = list(model_types)"
   ]
  },
  {
   "cell_type": "code",
   "execution_count": null,
   "id": "f237bd2e",
   "metadata": {},
   "outputs": [
    {
     "data": {
      "text/plain": [
       "typing.Union[typing.Literal['claude-3-7-sonnet-latest', 'claude-3-7-sonnet-20250219', 'claude-3-5-haiku-latest', 'claude-3-5-haiku-20241022', 'claude-sonnet-4-20250514', 'claude-sonnet-4-0', 'claude-4-sonnet-20250514', 'claude-3-5-sonnet-latest', 'claude-3-5-sonnet-20241022', 'claude-3-5-sonnet-20240620', 'claude-opus-4-0', 'claude-opus-4-20250514', 'claude-4-opus-20250514', 'claude-3-opus-latest', 'claude-3-opus-20240229', 'claude-3-sonnet-20240229', 'claude-3-haiku-20240307', 'claude-2.1', 'claude-2.0'], str]"
      ]
     },
     "execution_count": null,
     "metadata": {},
     "output_type": "execute_result"
    }
   ],
   "source": [
    "#|hide\n",
    "\n",
    "# Full list of models via the anthropic SDK for reference. Not all models are surfaced by Claudette.\n",
    "Model"
   ]
  },
  {
   "cell_type": "code",
   "execution_count": null,
   "id": "4f03dcad",
   "metadata": {},
   "outputs": [],
   "source": [
    "#| export\n",
    "models = all_models[:5]"
   ]
  },
  {
   "cell_type": "code",
   "execution_count": null,
   "id": "c8490b08",
   "metadata": {},
   "outputs": [
    {
     "data": {
      "text/plain": [
       "['claude-opus-4-20250514',\n",
       " 'claude-sonnet-4-20250514',\n",
       " 'claude-3-opus-20240229',\n",
       " 'claude-3-7-sonnet-20250219',\n",
       " 'claude-3-5-sonnet-20241022']"
      ]
     },
     "execution_count": null,
     "metadata": {},
     "output_type": "execute_result"
    }
   ],
   "source": [
    "models"
   ]
  },
  {
   "cell_type": "code",
   "execution_count": null,
   "id": "53a6d47a",
   "metadata": {},
   "outputs": [],
   "source": [
    "#| export\n",
    "models_aws = [\n",
    "    'anthropic.claude-sonnet-4-20250514-v1:0',\n",
    "    'claude-3-5-haiku-20241022',\n",
    "    'claude-3-7-sonnet-20250219',\n",
    "    'anthropic.claude-3-opus-20240229-v1:0',\n",
    "    'anthropic.claude-3-5-sonnet-20241022-v2:0'\n",
    "]"
   ]
  },
  {
   "cell_type": "code",
   "execution_count": null,
   "id": "f3ed4f95",
   "metadata": {},
   "outputs": [],
   "source": [
    "#| export\n",
    "models_goog = ['anthropic.claude-3-sonnet-20240229-v1:0',\n",
    " 'anthropic.claude-3-haiku-20240307-v1:0',\n",
    " 'claude-3-opus@20240229',\n",
    " 'claude-3-5-sonnet-v2@20241022',\n",
    " 'claude-3-sonnet@20240229',\n",
    " 'claude-3-haiku@20240307']"
   ]
  },
  {
   "cell_type": "code",
   "execution_count": null,
   "id": "669696aa",
   "metadata": {},
   "outputs": [],
   "source": [
    "#| exports\n",
    "text_only_models = ('claude-3-5-haiku-20241022',)"
   ]
  },
  {
   "cell_type": "code",
   "execution_count": null,
   "id": "2411f28d",
   "metadata": {},
   "outputs": [],
   "source": [
    "#| exports\n",
    "has_streaming_models = set(all_models)\n",
    "has_system_prompt_models = set(all_models)\n",
    "has_temperature_models = set(all_models)\n",
    "has_extended_thinking_models = {'claude-opus-4-20250514', 'claude-sonnet-4-20250514', 'claude-3-7-sonnet-20250219'}"
   ]
  },
  {
   "cell_type": "code",
   "execution_count": null,
   "id": "980bfdfb",
   "metadata": {},
   "outputs": [
    {
     "data": {
      "text/plain": [
       "{'claude-3-7-sonnet-20250219',\n",
       " 'claude-opus-4-20250514',\n",
       " 'claude-sonnet-4-20250514'}"
      ]
     },
     "execution_count": null,
     "metadata": {},
     "output_type": "execute_result"
    }
   ],
   "source": [
    "has_extended_thinking_models"
   ]
  },
  {
   "cell_type": "code",
   "execution_count": null,
   "id": "12a68d54",
   "metadata": {},
   "outputs": [],
   "source": [
    "#| exports\n",
    "\n",
    "def can_stream(m): return m in has_streaming_models\n",
    "def can_set_system_prompt(m): return m in has_system_prompt_models\n",
    "def can_set_temperature(m): return m in has_temperature_models\n",
    "def can_use_extended_thinking(m): return m in has_extended_thinking_models"
   ]
  },
  {
   "cell_type": "markdown",
   "id": "0dd0ba8f",
   "metadata": {},
   "source": [
    "We include these functions to provide a uniform library interface with cosette since openai models such as o1 do not have many of these capabilities."
   ]
  },
  {
   "cell_type": "code",
   "execution_count": null,
   "id": "55036062",
   "metadata": {},
   "outputs": [],
   "source": [
    "assert can_stream('claude-3-5-sonnet-20241022') and can_set_system_prompt('claude-3-5-sonnet-20241022') and can_set_temperature('claude-3-5-sonnet-20241022')"
   ]
  },
  {
   "cell_type": "markdown",
   "id": "ba6c7f48",
   "metadata": {},
   "source": [
    "These are the current versions and [prices](https://www.anthropic.com/pricing#anthropic-api) of Anthropic's models at the time of writing."
   ]
  },
  {
   "cell_type": "code",
   "execution_count": null,
   "id": "dacf2bd2",
   "metadata": {},
   "outputs": [
    {
     "data": {
      "text/plain": [
       "'claude-sonnet-4-20250514'"
      ]
     },
     "execution_count": null,
     "metadata": {},
     "output_type": "execute_result"
    }
   ],
   "source": [
    "model = models[1]; model"
   ]
  },
  {
   "cell_type": "markdown",
   "id": "71985a9c",
   "metadata": {},
   "source": [
    "For examples, we'll use the latest Sonnet, since it's awesome."
   ]
  },
  {
   "cell_type": "markdown",
   "id": "863d4d81",
   "metadata": {},
   "source": [
    "## Antropic SDK"
   ]
  },
  {
   "cell_type": "code",
   "execution_count": null,
   "id": "70b53a51",
   "metadata": {},
   "outputs": [],
   "source": [
    "cli = Anthropic()"
   ]
  },
  {
   "cell_type": "markdown",
   "id": "23055b40",
   "metadata": {},
   "source": [
    "This is what Anthropic's SDK provides for interacting with Python. To use it, pass it a list of *messages*, with *content* and a *role*. The roles should alternate between *user* and *assistant*."
   ]
  },
  {
   "cell_type": "markdown",
   "id": "b2db9466",
   "metadata": {},
   "source": [
    ":::{.callout-tip}\n",
    "\n",
    "After the code below you'll see an indented section with an orange vertical line on the left. This is used to show the *result* of running the code above. Because the code is running in a Jupyter Notebook, we don't have to use `print` to display results, we can just type the expression directly, as we do with `r` here.\n",
    "\n",
    ":::"
   ]
  },
  {
   "cell_type": "code",
   "execution_count": null,
   "id": "6ec40731",
   "metadata": {},
   "outputs": [
    {
     "data": {
      "text/markdown": [
       "Hi Jeremy! Nice to meet you. How are you doing today? Is there anything I can help you with?\n",
       "\n",
       "<details>\n",
       "\n",
       "- id: `msg_01V2pCBcjXagZPnuJ8ZsqaB1`\n",
       "- content: `[{'citations': None, 'text': 'Hi Jeremy! Nice to meet you. How are you doing today? Is there anything I can help you with?', 'type': 'text'}]`\n",
       "- model: `claude-sonnet-4-20250514`\n",
       "- role: `assistant`\n",
       "- stop_reason: `end_turn`\n",
       "- stop_sequence: `None`\n",
       "- type: `message`\n",
       "- usage: `{'cache_creation_input_tokens': 0, 'cache_read_input_tokens': 0, 'input_tokens': 10, 'output_tokens': 26, 'server_tool_use': None, 'service_tier': 'standard'}`\n",
       "\n",
       "</details>"
      ],
      "text/plain": [
       "Message(id='msg_01V2pCBcjXagZPnuJ8ZsqaB1', content=[TextBlock(citations=None, text='Hi Jeremy! Nice to meet you. How are you doing today? Is there anything I can help you with?', type='text')], model='claude-sonnet-4-20250514', role='assistant', stop_reason='end_turn', stop_sequence=None, type='message', usage=In: 10; Out: 26; Cache create: 0; Cache read: 0; Total Tokens: 36; Search: 0)"
      ]
     },
     "execution_count": null,
     "metadata": {},
     "output_type": "execute_result"
    }
   ],
   "source": [
    "m = {'role': 'user', 'content': \"I'm Jeremy\"}\n",
    "r = cli.messages.create(messages=[m], model=model, max_tokens=100)\n",
    "r"
   ]
  },
  {
   "cell_type": "markdown",
   "id": "d6359e1a",
   "metadata": {},
   "source": [
    "### Formatting output"
   ]
  },
  {
   "cell_type": "markdown",
   "id": "865c40a9",
   "metadata": {},
   "source": [
    "That output is pretty long and hard to read, so let's clean it up. We'll start by pulling out the `Content` part of the message.\n",
    "To do that, we're going to write our first function which will be included to the `claudette/core.py` module."
   ]
  },
  {
   "cell_type": "markdown",
   "id": "e42e5d44",
   "metadata": {},
   "source": [
    ":::{.callout-tip}\n",
    "\n",
    "This is the first exported public function or class we're creating (the previous export was of a variable). In the rendered version of the notebook for these you'll see 4 things, in this order (unless the symbol starts with a single `_`, which indicates it's *private*):\n",
    "\n",
    "- The signature (with the symbol name as a heading, with a horizontal rule above)\n",
    "- A table of paramater docs (if provided)\n",
    "- The doc string (in italics).\n",
    "- The source code (in a collapsible \"Exported source\" block)\n",
    "\n",
    "After that, we generally provide a bit more detail on what we've created, and why, along with a sample usage.\n",
    "\n",
    ":::"
   ]
  },
  {
   "cell_type": "code",
   "execution_count": null,
   "id": "eba620ce",
   "metadata": {},
   "outputs": [],
   "source": [
    "#| exports\n",
    "def _type(x):\n",
    "    try: return x.type\n",
    "    except AttributeError: return x.get('type')\n",
    "\n",
    "def find_block(r:abc.Mapping, # The message to look in\n",
    "               blk_type:type|str=TextBlock  # The type of block to find\n",
    "              ):\n",
    "    \"Find the first block of type `blk_type` in `r.content`.\"\n",
    "    f = (lambda x:_type(x)==blk_type) if isinstance(blk_type,str) else (lambda x:isinstance(x,blk_type))\n",
    "    return first(o for o in r.content if f(o))"
   ]
  },
  {
   "cell_type": "markdown",
   "id": "1fa93ca1",
   "metadata": {},
   "source": [
    "This makes it easier to grab the needed parts of Claude's responses, which can include multiple pieces of content. By default, we look for the first text block. That will generally have the content we want to display."
   ]
  },
  {
   "cell_type": "code",
   "execution_count": null,
   "id": "10af0e65",
   "metadata": {},
   "outputs": [
    {
     "data": {
      "text/plain": [
       "TextBlock(citations=None, text='Hi Jeremy! Nice to meet you. How are you doing today? Is there anything I can help you with?', type='text')"
      ]
     },
     "execution_count": null,
     "metadata": {},
     "output_type": "execute_result"
    }
   ],
   "source": [
    "find_block(r)"
   ]
  },
  {
   "cell_type": "code",
   "execution_count": null,
   "id": "ae99799d",
   "metadata": {},
   "outputs": [],
   "source": [
    "def contents(r):\n",
    "    \"Helper to get the contents from Claude response `r`.\"\n",
    "    blk = find_block(r)\n",
    "    if not blk and r.content: blk = r.content[0]\n",
    "    return blk.text.strip() if hasattr(blk,'text') else str(blk)"
   ]
  },
  {
   "cell_type": "markdown",
   "id": "ffb59427",
   "metadata": {},
   "source": [
    "For display purposes, we often just want to show the text itself."
   ]
  },
  {
   "cell_type": "code",
   "execution_count": null,
   "id": "6d5f2107",
   "metadata": {},
   "outputs": [
    {
     "data": {
      "text/plain": [
       "'Hi Jeremy! Nice to meet you. How are you doing today? Is there anything I can help you with?'"
      ]
     },
     "execution_count": null,
     "metadata": {},
     "output_type": "execute_result"
    }
   ],
   "source": [
    "contents(r)"
   ]
  },
  {
   "cell_type": "code",
   "execution_count": null,
   "id": "17924d0c",
   "metadata": {},
   "outputs": [],
   "source": [
    "#| exports\n",
    "@patch\n",
    "def _repr_markdown_(self:(Message)):\n",
    "    det = '\\n- '.join(f'{k}: `{v}`' for k,v in self.model_dump().items())\n",
    "    cts = re.sub(r'\\$', '&#36;', contents(self))  # escape `$` for jupyter latex\n",
    "    return f\"\"\"{cts}\n",
    "\n",
    "<details>\n",
    "\n",
    "- {det}\n",
    "\n",
    "</details>\"\"\""
   ]
  },
  {
   "cell_type": "markdown",
   "id": "3764d112",
   "metadata": {},
   "source": [
    "Jupyter looks for a `_repr_markdown_` method in displayed objects; we add this in order to display just the content text, and collapse full details into a hideable section. Note that `patch` is from [fastcore](https://fastcore.fast.ai/), and is used to add (or replace) functionality in an existing class. We pass the class(es) that we want to patch as type annotations to `self`. In this case, `_repr_markdown_` is being added to Anthropic's `Message` class, so when we display the message now we just see the contents, and the details are hidden away in a collapsible details block."
   ]
  },
  {
   "cell_type": "code",
   "execution_count": null,
   "id": "cfd85eeb",
   "metadata": {},
   "outputs": [
    {
     "data": {
      "text/markdown": [
       "Hi Jeremy! Nice to meet you. How are you doing today? Is there anything I can help you with?\n",
       "\n",
       "<details>\n",
       "\n",
       "- id: `msg_01V2pCBcjXagZPnuJ8ZsqaB1`\n",
       "- content: `[{'citations': None, 'text': 'Hi Jeremy! Nice to meet you. How are you doing today? Is there anything I can help you with?', 'type': 'text'}]`\n",
       "- model: `claude-sonnet-4-20250514`\n",
       "- role: `assistant`\n",
       "- stop_reason: `end_turn`\n",
       "- stop_sequence: `None`\n",
       "- type: `message`\n",
       "- usage: `{'cache_creation_input_tokens': 0, 'cache_read_input_tokens': 0, 'input_tokens': 10, 'output_tokens': 26, 'server_tool_use': None, 'service_tier': 'standard'}`\n",
       "\n",
       "</details>"
      ],
      "text/plain": [
       "Message(id='msg_01V2pCBcjXagZPnuJ8ZsqaB1', content=[TextBlock(citations=None, text='Hi Jeremy! Nice to meet you. How are you doing today? Is there anything I can help you with?', type='text')], model='claude-sonnet-4-20250514', role='assistant', stop_reason='end_turn', stop_sequence=None, type='message', usage=In: 10; Out: 26; Cache create: 0; Cache read: 0; Total Tokens: 36; Search: 0)"
      ]
     },
     "execution_count": null,
     "metadata": {},
     "output_type": "execute_result"
    }
   ],
   "source": [
    "r"
   ]
  },
  {
   "cell_type": "markdown",
   "id": "8615447e",
   "metadata": {},
   "source": [
    "One key part of the response is the `usage` key, which tells us how many tokens we used by returning a `Usage` object.\n",
    "\n",
    "We'll add some helpers to make things a bit cleaner for creating and formatting these objects."
   ]
  },
  {
   "cell_type": "code",
   "execution_count": null,
   "id": "10c7466f",
   "metadata": {},
   "outputs": [
    {
     "data": {
      "text/plain": [
       "In: 10; Out: 26; Cache create: 0; Cache read: 0; Total Tokens: 36; Search: 0"
      ]
     },
     "execution_count": null,
     "metadata": {},
     "output_type": "execute_result"
    }
   ],
   "source": [
    "r.usage"
   ]
  },
  {
   "cell_type": "code",
   "execution_count": null,
   "id": "56d7e83f",
   "metadata": {},
   "outputs": [],
   "source": [
    "#| exports\n",
    "def server_tool_usage(web_search_requests=0):\n",
    "    'Little helper to create a server tool usage object'\n",
    "    return ServerToolUsage(web_search_requests=web_search_requests)"
   ]
  },
  {
   "cell_type": "code",
   "execution_count": null,
   "id": "b1a24f68",
   "metadata": {},
   "outputs": [],
   "source": [
    "#| exports\n",
    "def usage(inp=0, # input tokens\n",
    "          out=0,  # Output tokens\n",
    "          cache_create=0, # Cache creation tokens\n",
    "          cache_read=0, # Cache read tokens\n",
    "          server_tool_use=server_tool_usage() # server tool use\n",
    "         ):\n",
    "    'Slightly more concise version of `Usage`.'\n",
    "    return Usage(input_tokens=inp, output_tokens=out, cache_creation_input_tokens=cache_create,\n",
    "                 cache_read_input_tokens=cache_read, server_tool_use=server_tool_use)"
   ]
  },
  {
   "cell_type": "markdown",
   "id": "2184ec7f",
   "metadata": {},
   "source": [
    "The constructor provided by Anthropic is rather verbose, so we clean it up a bit, using a lowercase version of the name."
   ]
  },
  {
   "cell_type": "code",
   "execution_count": null,
   "id": "a7e52afd",
   "metadata": {},
   "outputs": [
    {
     "data": {
      "text/plain": [
       "In: 5; Out: 0; Cache create: 0; Cache read: 0; Total Tokens: 5; Search: 0"
      ]
     },
     "execution_count": null,
     "metadata": {},
     "output_type": "execute_result"
    }
   ],
   "source": [
    "usage(5)"
   ]
  },
  {
   "cell_type": "code",
   "execution_count": null,
   "id": "2db64da5",
   "metadata": {},
   "outputs": [],
   "source": [
    "#| exports\n",
    "def _dgetattr(o,s,d): \n",
    "    \"Like getattr, but returns the default if the result is None\"\n",
    "    return getattr(o,s,d) or d\n",
    "\n",
    "@patch(as_prop=True)\n",
    "def total(self:Usage): return self.input_tokens+self.output_tokens+_dgetattr(self, \"cache_creation_input_tokens\",0)+_dgetattr(self, \"cache_read_input_tokens\",0)"
   ]
  },
  {
   "cell_type": "markdown",
   "id": "5363afa4",
   "metadata": {},
   "source": [
    "Adding a `total` property to `Usage` makes it easier to see how many tokens we've used up altogether."
   ]
  },
  {
   "cell_type": "code",
   "execution_count": null,
   "id": "74553203",
   "metadata": {},
   "outputs": [
    {
     "data": {
      "text/plain": [
       "6"
      ]
     },
     "execution_count": null,
     "metadata": {},
     "output_type": "execute_result"
    }
   ],
   "source": [
    "usage(5,1).total"
   ]
  },
  {
   "cell_type": "code",
   "execution_count": null,
   "id": "27468180",
   "metadata": {},
   "outputs": [],
   "source": [
    "#| exports\n",
    "@patch\n",
    "def __repr__(self:Usage):\n",
    "    io_toks = f'In: {self.input_tokens}; Out: {self.output_tokens}'\n",
    "    cache_toks = f'Cache create: {_dgetattr(self, \"cache_creation_input_tokens\",0)}; Cache read: {_dgetattr(self, \"cache_read_input_tokens\",0)}'\n",
    "    server_tool_use = _dgetattr(self, \"server_tool_use\",server_tool_usage())\n",
    "    server_tool_use_str = f'Search: {server_tool_use.web_search_requests}'\n",
    "    total_tok = f'Total Tokens: {self.total}'\n",
    "    return f'{io_toks}; {cache_toks}; {total_tok}; {server_tool_use_str}'"
   ]
  },
  {
   "cell_type": "markdown",
   "id": "dbbf7024",
   "metadata": {},
   "source": [
    "In python, patching `__repr__` lets us change how an object is displayed. (More generally, methods starting and ending in `__` in Python are called `dunder` methods, and have some `magic` behavior -- such as, in this case, changing how an object is displayed.) We won't be directly displaying ServerToolUsage's, so we can handle its display behavior in the same Usage `__repr__`"
   ]
  },
  {
   "cell_type": "code",
   "execution_count": null,
   "id": "b8af5068",
   "metadata": {},
   "outputs": [
    {
     "data": {
      "text/plain": [
       "In: 5; Out: 0; Cache create: 0; Cache read: 0; Total Tokens: 5; Search: 0"
      ]
     },
     "execution_count": null,
     "metadata": {},
     "output_type": "execute_result"
    }
   ],
   "source": [
    "usage(5)"
   ]
  },
  {
   "cell_type": "code",
   "execution_count": null,
   "id": "4a9886af",
   "metadata": {},
   "outputs": [],
   "source": [
    "#| exports\n",
    "@patch\n",
    "def __add__(self:ServerToolUsage, b):\n",
    "    \"Add together each of the server tool use counts\"\n",
    "    return ServerToolUsage(web_search_requests=self.web_search_requests+b.web_search_requests)"
   ]
  },
  {
   "cell_type": "markdown",
   "id": "a8918938",
   "metadata": {},
   "source": [
    "And, patching `__add__` lets `+` work on a `ServerToolUsage` as well as a `Usage` object."
   ]
  },
  {
   "cell_type": "code",
   "execution_count": null,
   "id": "facab8cd",
   "metadata": {},
   "outputs": [
    {
     "data": {
      "text/plain": [
       "ServerToolUsage(web_search_requests=3)"
      ]
     },
     "execution_count": null,
     "metadata": {},
     "output_type": "execute_result"
    }
   ],
   "source": [
    "server_tool_usage(1) + server_tool_usage(2)"
   ]
  },
  {
   "cell_type": "code",
   "execution_count": null,
   "id": "6c9025c6",
   "metadata": {},
   "outputs": [],
   "source": [
    "#| exports\n",
    "@patch\n",
    "def __add__(self:Usage, b):\n",
    "    \"Add together each of `input_tokens` and `output_tokens`\"\n",
    "    return usage(self.input_tokens+b.input_tokens, self.output_tokens+b.output_tokens,\n",
    "                 _dgetattr(self,'cache_creation_input_tokens',0)+_dgetattr(b,'cache_creation_input_tokens',0),\n",
    "                 _dgetattr(self,'cache_read_input_tokens',0)+_dgetattr(b,'cache_read_input_tokens',0),\n",
    "                 _dgetattr(self,'server_tool_use',server_tool_usage())+_dgetattr(b,'server_tool_use',server_tool_usage()))"
   ]
  },
  {
   "cell_type": "code",
   "execution_count": null,
   "id": "bffb0b2e",
   "metadata": {},
   "outputs": [
    {
     "data": {
      "text/plain": [
       "In: 20; Out: 52; Cache create: 0; Cache read: 0; Total Tokens: 72; Search: 1"
      ]
     },
     "execution_count": null,
     "metadata": {},
     "output_type": "execute_result"
    }
   ],
   "source": [
    "r.usage+r.usage + usage(server_tool_use=server_tool_usage(1))"
   ]
  },
  {
   "cell_type": "markdown",
   "id": "edd0a43f",
   "metadata": {},
   "source": [
    "### Creating messages"
   ]
  },
  {
   "cell_type": "markdown",
   "id": "b4912f1e",
   "metadata": {},
   "source": [
    "Creating correctly formatted `dict`s from scratch every time isn't very handy, so we'll import a couple of helper functions from the `msglm` library.\n",
    "\n",
    "Let's use `mk_msg` to recreate our msg `{'role': 'user', 'content': \"I'm Jeremy\"}` from earlier."
   ]
  },
  {
   "cell_type": "code",
   "execution_count": null,
   "id": "0ffa2c14",
   "metadata": {},
   "outputs": [
    {
     "data": {
      "text/markdown": [
       "Hello Jeremy! Nice to meet you. How are you doing today?\n",
       "\n",
       "<details>\n",
       "\n",
       "- id: `msg_01UBxR4cfACsB7JfyuH1y2ea`\n",
       "- content: `[{'citations': None, 'text': 'Hello Jeremy! Nice to meet you. How are you doing today?', 'type': 'text'}]`\n",
       "- model: `claude-sonnet-4-20250514`\n",
       "- role: `assistant`\n",
       "- stop_reason: `end_turn`\n",
       "- stop_sequence: `None`\n",
       "- type: `message`\n",
       "- usage: `{'cache_creation_input_tokens': 0, 'cache_read_input_tokens': 0, 'input_tokens': 10, 'output_tokens': 17, 'server_tool_use': None, 'service_tier': 'standard'}`\n",
       "\n",
       "</details>"
      ],
      "text/plain": [
       "Message(id='msg_01UBxR4cfACsB7JfyuH1y2ea', content=[TextBlock(citations=None, text='Hello Jeremy! Nice to meet you. How are you doing today?', type='text')], model='claude-sonnet-4-20250514', role='assistant', stop_reason='end_turn', stop_sequence=None, type='message', usage=In: 10; Out: 17; Cache create: 0; Cache read: 0; Total Tokens: 27; Search: 0)"
      ]
     },
     "execution_count": null,
     "metadata": {},
     "output_type": "execute_result"
    }
   ],
   "source": [
    "prompt = \"I'm Jeremy\"\n",
    "m = mk_msg(prompt)\n",
    "r = cli.messages.create(messages=[m], model=model, max_tokens=100)\n",
    "r"
   ]
  },
  {
   "cell_type": "markdown",
   "id": "2fba8532",
   "metadata": {},
   "source": [
    "We can pass more than just text messages to Claude. As we'll see later we can also pass images, SDK objects, etc. To handle these different data types we need to pass the type along with our content to Claude. \n",
    "\n",
    "Here's an example of a multimodal message containing text and images. \n",
    "\n",
    "```json\n",
    "{\n",
    "    'role': 'user', \n",
    "    'content': [\n",
    "        {'type':'text', 'text':'What is in the image?'},\n",
    "        {\n",
    "            'type':'image', \n",
    "            'source': {\n",
    "                'type':'base64', 'media_type':'media_type', 'data': 'data'\n",
    "            }\n",
    "        }\n",
    "    ]\n",
    "}\n",
    "```\n",
    "\n",
    "`mk_msg` infers the type automatically and creates the appropriate data structure. "
   ]
  },
  {
   "cell_type": "markdown",
   "id": "fb04f6b4",
   "metadata": {},
   "source": [
    "LLMs, don't actually have state, but instead dialogs are created by passing back all previous prompts and responses every time. With Claude, they always alternate *user* and *assistant*. We'll use `mk_msgs` from `msglm` to make it easier to build up these dialog lists."
   ]
  },
  {
   "cell_type": "code",
   "execution_count": null,
   "id": "b4c8fcad",
   "metadata": {},
   "outputs": [
    {
     "data": {
      "text/plain": [
       "[{'role': 'user', 'content': \"I'm Jeremy\"},\n",
       " {'role': 'assistant',\n",
       "  'content': [TextBlock(citations=None, text='Hello Jeremy! Nice to meet you. How are you doing today?', type='text')]},\n",
       " {'role': 'user', 'content': 'I forgot my name. Can you remind me please?'}]"
      ]
     },
     "execution_count": null,
     "metadata": {},
     "output_type": "execute_result"
    }
   ],
   "source": [
    "msgs = mk_msgs([prompt, r, \"I forgot my name. Can you remind me please?\"]) \n",
    "msgs"
   ]
  },
  {
   "cell_type": "code",
   "execution_count": null,
   "id": "6c464f8b",
   "metadata": {},
   "outputs": [
    {
     "data": {
      "text/markdown": [
       "Your name is Jeremy - you introduced yourself to me just a moment ago at the start of our conversation.\n",
       "\n",
       "<details>\n",
       "\n",
       "- id: `msg_013R4QzpYFwiNrAWPiF7o1Gm`\n",
       "- content: `[{'citations': None, 'text': 'Your name is Jeremy - you introduced yourself to me just a moment ago at the start of our conversation.', 'type': 'text'}]`\n",
       "- model: `claude-sonnet-4-20250514`\n",
       "- role: `assistant`\n",
       "- stop_reason: `end_turn`\n",
       "- stop_sequence: `None`\n",
       "- type: `message`\n",
       "- usage: `{'cache_creation_input_tokens': 0, 'cache_read_input_tokens': 0, 'input_tokens': 41, 'output_tokens': 24, 'server_tool_use': None, 'service_tier': 'standard'}`\n",
       "\n",
       "</details>"
      ],
      "text/plain": [
       "Message(id='msg_013R4QzpYFwiNrAWPiF7o1Gm', content=[TextBlock(citations=None, text='Your name is Jeremy - you introduced yourself to me just a moment ago at the start of our conversation.', type='text')], model='claude-sonnet-4-20250514', role='assistant', stop_reason='end_turn', stop_sequence=None, type='message', usage=In: 41; Out: 24; Cache create: 0; Cache read: 0; Total Tokens: 65; Search: 0)"
      ]
     },
     "execution_count": null,
     "metadata": {},
     "output_type": "execute_result"
    }
   ],
   "source": [
    "cli.messages.create(messages=msgs, model=model, max_tokens=200)"
   ]
  },
  {
   "cell_type": "markdown",
   "id": "281f8a4d",
   "metadata": {},
   "source": [
    "## Client"
   ]
  },
  {
   "cell_type": "code",
   "execution_count": null,
   "id": "3b873aaf",
   "metadata": {},
   "outputs": [],
   "source": [
    "#| exports\n",
    "class Client:\n",
    "    def __init__(self, model, cli=None, log=False, cache=False):\n",
    "        \"Basic Anthropic messages client.\"\n",
    "        self.model,self.use = model,usage()\n",
    "        self.text_only = model in text_only_models\n",
    "        self.log = [] if log else None\n",
    "        self.c = (cli or Anthropic(default_headers={'anthropic-beta': 'prompt-caching-2024-07-31'}))\n",
    "        self.cache = cache"
   ]
  },
  {
   "cell_type": "markdown",
   "id": "146e39f0",
   "metadata": {},
   "source": [
    "We'll create a simple `Client` for `Anthropic` which tracks usage stores the model to use. We don't add any methods right away -- instead we'll use `patch` for that so we can add and document them incrementally."
   ]
  },
  {
   "cell_type": "code",
   "execution_count": null,
   "id": "d01e9ccf",
   "metadata": {},
   "outputs": [
    {
     "data": {
      "text/plain": [
       "In: 0; Out: 0; Cache create: 0; Cache read: 0; Total Tokens: 0; Search: 0"
      ]
     },
     "execution_count": null,
     "metadata": {},
     "output_type": "execute_result"
    }
   ],
   "source": [
    "c = Client(model)\n",
    "c.use"
   ]
  },
  {
   "cell_type": "code",
   "execution_count": null,
   "id": "8015d3f3",
   "metadata": {},
   "outputs": [],
   "source": [
    "#| exports\n",
    "@patch\n",
    "def _r(self:Client, r:Message, prefill=''):\n",
    "    \"Store the result of the message and accrue total usage.\"\n",
    "    if prefill:\n",
    "        blk = find_block(r)\n",
    "        if blk: blk.text = prefill + (blk.text or '')\n",
    "    self.result = r\n",
    "    self.use += r.usage\n",
    "    self.stop_reason = r.stop_reason\n",
    "    self.stop_sequence = r.stop_sequence\n",
    "    return r"
   ]
  },
  {
   "cell_type": "markdown",
   "id": "68d2eb9b",
   "metadata": {},
   "source": [
    "We use a `_` prefix on private methods, but we document them here in the interests of literate source code.\n",
    "\n",
    "`_r` will be used each time we get a new result, to track usage and also to keep the result available for later."
   ]
  },
  {
   "cell_type": "code",
   "execution_count": null,
   "id": "0181f7b3",
   "metadata": {},
   "outputs": [
    {
     "data": {
      "text/plain": [
       "In: 10; Out: 17; Cache create: 0; Cache read: 0; Total Tokens: 27; Search: 0"
      ]
     },
     "execution_count": null,
     "metadata": {},
     "output_type": "execute_result"
    }
   ],
   "source": [
    "c._r(r)\n",
    "c.use"
   ]
  },
  {
   "cell_type": "markdown",
   "id": "7258fd6e",
   "metadata": {},
   "source": [
    "Whereas OpenAI's models use a `stream` parameter for streaming, Anthropic's use a separate method. We implement Anthropic's approach in a private method, and then use a `stream` parameter in `__call__` for consistency:"
   ]
  },
  {
   "cell_type": "code",
   "execution_count": null,
   "id": "6520a355",
   "metadata": {},
   "outputs": [],
   "source": [
    "#| exports\n",
    "@patch\n",
    "def _log(self:Client, final, prefill, msgs, **kwargs):\n",
    "    self._r(final, prefill)\n",
    "    if self.log is not None: self.log.append({\n",
    "        \"msgs\": msgs, **kwargs,\n",
    "        \"result\": self.result, \"use\": self.use, \"stop_reason\": self.stop_reason, \"stop_sequence\": self.stop_sequence\n",
    "    })\n",
    "    return self.result"
   ]
  },
  {
   "cell_type": "markdown",
   "id": "2412e301",
   "metadata": {},
   "source": [
    "Once streaming is complete, we need to store the final message and call any completion callback that's needed."
   ]
  },
  {
   "cell_type": "code",
   "execution_count": null,
   "id": "958b7d6b",
   "metadata": {},
   "outputs": [],
   "source": [
    "#| exports\n",
    "@save_iter\n",
    "def _stream(o, cm, prefill, cb):\n",
    "    with cm as s:\n",
    "        yield prefill\n",
    "        yield from s.text_stream\n",
    "        o.value = s.get_final_message()\n",
    "        cb(o.value)"
   ]
  },
  {
   "cell_type": "code",
   "execution_count": null,
   "id": "a9b93c01",
   "metadata": {},
   "outputs": [],
   "source": [
    "#| export\n",
    "def get_types(msgs):\n",
    "    types = []\n",
    "    for m in msgs:\n",
    "        content = m.get('content', [])\n",
    "        if isinstance(content, list): types.extend(getattr(c, 'type', None) or c['type'] for c in content)\n",
    "        else: types.append('text')\n",
    "    return types"
   ]
  },
  {
   "cell_type": "code",
   "execution_count": null,
   "id": "9e8f15b4",
   "metadata": {},
   "outputs": [
    {
     "data": {
      "text/plain": [
       "['text', 'text', 'text']"
      ]
     },
     "execution_count": null,
     "metadata": {},
     "output_type": "execute_result"
    }
   ],
   "source": [
    "get_types(msgs)"
   ]
  },
  {
   "cell_type": "code",
   "execution_count": null,
   "id": "7ff965f1",
   "metadata": {},
   "outputs": [],
   "source": [
    "#| export\n",
    "def mk_tool_choice(choose:Union[str,bool,None])->dict:\n",
    "    \"Create a `tool_choice` dict that's 'auto' if `choose` is `None`, 'any' if it is True, or 'tool' otherwise\"\n",
    "    return {\"type\": \"tool\", \"name\": choose} if isinstance(choose,str) else {'type':'any'} if choose else {'type':'auto'}"
   ]
  },
  {
   "cell_type": "code",
   "execution_count": null,
   "id": "59466964",
   "metadata": {},
   "outputs": [
    {
     "name": "stdout",
     "output_type": "stream",
     "text": [
      "{'type': 'tool', 'name': 'sums'}\n",
      "{'type': 'any'}\n",
      "{'type': 'auto'}\n"
     ]
    }
   ],
   "source": [
    "print(mk_tool_choice('sums'))\n",
    "print(mk_tool_choice(True))\n",
    "print(mk_tool_choice(None))"
   ]
  },
  {
   "cell_type": "markdown",
   "id": "33807e2c",
   "metadata": {},
   "source": [
    "Claude can be forced to use a particular tool, or select from a specific list of tools, or decide for itself when to use a tool. If you want to force a tool (or force choosing from a list), include a `tool_choice` param with a dict from `mk_tool_choice`.\n",
    "\n",
    "Claude supports adding an extra `assistant` message at the end, which contains the *prefill* -- i.e. the text we want Claude to assume the response starts with. However Claude doesn't actually repeat that in the response, so for convenience we add it."
   ]
  },
  {
   "cell_type": "code",
   "execution_count": null,
   "id": "b1604237",
   "metadata": {},
   "outputs": [],
   "source": [
    "#| exports\n",
    "@patch\n",
    "def _precall(self:Client, msgs, prefill, sp, temp, maxtok, maxthinktok, stream,\n",
    "             stop, tools, tool_choice, kwargs):\n",
    "    if tools: kwargs['tools'] = [get_schema(o) if callable(o) else o for o in listify(tools)]\n",
    "    if tool_choice: kwargs['tool_choice'] = mk_tool_choice(tool_choice)\n",
    "    if maxthinktok: \n",
    "        kwargs['thinking'] = {'type':'enabled', 'budget_tokens':maxthinktok} \n",
    "        temp,prefill = 1,''\n",
    "    pref = [prefill.strip()] if prefill else []\n",
    "    if not isinstance(msgs,list): msgs = [msgs]\n",
    "    if stop is not None:\n",
    "        if not isinstance(stop, (list)): stop = [stop]\n",
    "        kwargs[\"stop_sequences\"] = stop\n",
    "    msgs = mk_msgs(msgs+pref, cache=self.cache, cache_last_ckpt_only=self.cache)\n",
    "    assert not ('image' in get_types(msgs) and self.text_only), f\"Images not supported by: {self.model}\"\n",
    "    kwargs |= dict(max_tokens=maxtok, system=sp, temperature=temp)\n",
    "    return msgs, kwargs"
   ]
  },
  {
   "cell_type": "code",
   "execution_count": null,
   "id": "95bddb45",
   "metadata": {},
   "outputs": [],
   "source": [
    "#| exports\n",
    "@patch\n",
    "@delegates(messages.Messages.create)\n",
    "def __call__(self:Client,\n",
    "             msgs:list, # List of messages in the dialog\n",
    "             sp='', # The system prompt\n",
    "             temp=0, # Temperature\n",
    "             maxtok=4096, # Maximum tokens\n",
    "             maxthinktok=0, # Maximum thinking tokens\n",
    "             prefill='', # Optional prefill to pass to Claude as start of its response\n",
    "             stream:bool=False, # Stream response?\n",
    "             stop=None, # Stop sequence\n",
    "             tools:Optional[list]=None, # List of tools to make available to Claude\n",
    "             tool_choice:Optional[dict]=None, # Optionally force use of some tool\n",
    "             cb=None, # Callback to pass result to when complete\n",
    "             **kwargs):\n",
    "    \"Make a call to Claude.\"\n",
    "    msgs,kwargs = self._precall(msgs, prefill, sp, temp, maxtok, maxthinktok, stream,\n",
    "                                stop, tools, tool_choice, kwargs)\n",
    "    m = self.c.messages\n",
    "    f = m.stream if stream else m.create\n",
    "    res = f(model=self.model, messages=msgs, **kwargs)\n",
    "    def _cb(v):\n",
    "        self._log(v, prefill=prefill, msgs=msgs, **kwargs)\n",
    "        if cb: cb(v)\n",
    "    if stream: return _stream(res, prefill, _cb)\n",
    "    try: return res\n",
    "    finally: _cb(res)"
   ]
  },
  {
   "cell_type": "markdown",
   "id": "3cee10c8",
   "metadata": {},
   "source": [
    "Defining `__call__` let's us use an object like a function (i.e it's *callable*). We use it as a small wrapper over `messages.create`."
   ]
  },
  {
   "cell_type": "code",
   "execution_count": null,
   "id": "881b5e78",
   "metadata": {},
   "outputs": [
    {
     "data": {
      "text/plain": [
       "In: 0; Out: 0; Cache create: 0; Cache read: 0; Total Tokens: 0; Search: 0"
      ]
     },
     "execution_count": null,
     "metadata": {},
     "output_type": "execute_result"
    }
   ],
   "source": [
    "c = Client(model, log=True)\n",
    "c.use"
   ]
  },
  {
   "cell_type": "code",
   "execution_count": null,
   "id": "338a38e5",
   "metadata": {},
   "outputs": [
    {
     "data": {
      "text/markdown": [
       "Hello! How are you doing today? Is there anything I can help you with?\n",
       "\n",
       "<details>\n",
       "\n",
       "- id: `msg_016QY8iSAXL877crLZadkPeS`\n",
       "- content: `[{'citations': None, 'text': 'Hello! How are you doing today? Is there anything I can help you with?', 'type': 'text'}]`\n",
       "- model: `claude-sonnet-4-20250514`\n",
       "- role: `assistant`\n",
       "- stop_reason: `end_turn`\n",
       "- stop_sequence: `None`\n",
       "- type: `message`\n",
       "- usage: `{'cache_creation_input_tokens': 0, 'cache_read_input_tokens': 0, 'input_tokens': 8, 'output_tokens': 20, 'server_tool_use': None, 'service_tier': 'standard'}`\n",
       "\n",
       "</details>"
      ],
      "text/plain": [
       "Message(id='msg_016QY8iSAXL877crLZadkPeS', content=[TextBlock(citations=None, text='Hello! How are you doing today? Is there anything I can help you with?', type='text')], model='claude-sonnet-4-20250514', role='assistant', stop_reason='end_turn', stop_sequence=None, type='message', usage=In: 8; Out: 20; Cache create: 0; Cache read: 0; Total Tokens: 28; Search: 0)"
      ]
     },
     "execution_count": null,
     "metadata": {},
     "output_type": "execute_result"
    }
   ],
   "source": [
    "c('Hi')"
   ]
  },
  {
   "cell_type": "markdown",
   "id": "c33d6c6b",
   "metadata": {},
   "source": [
    "Usage details are automatically updated after each call:"
   ]
  },
  {
   "cell_type": "code",
   "execution_count": null,
   "id": "ae9f7e06",
   "metadata": {},
   "outputs": [
    {
     "data": {
      "text/plain": [
       "In: 8; Out: 20; Cache create: 0; Cache read: 0; Total Tokens: 28; Search: 0"
      ]
     },
     "execution_count": null,
     "metadata": {},
     "output_type": "execute_result"
    }
   ],
   "source": [
    "c.use"
   ]
  },
  {
   "cell_type": "markdown",
   "id": "652ef0d1",
   "metadata": {},
   "source": [
    "A log of all messages is kept if `log=True` is passed:"
   ]
  },
  {
   "cell_type": "code",
   "execution_count": null,
   "id": "6ba81866",
   "metadata": {},
   "outputs": [
    {
     "name": "stdout",
     "output_type": "stream",
     "text": [
      "[{'max_tokens': 4096,\n",
      "  'msgs': [{'content': 'Hi', 'role': 'user'}],\n",
      "  'result': Message(id='msg_016QY8iSAXL877crLZadkPeS', content=[TextBlock(citations=None, text='Hello! How are you doing today? Is there anything I can help you with?', type='text')], model='claude-sonnet-4-20250514', role='assistant', stop_reason='end_turn', stop_sequence=None, type='message', usage=In: 8; Out: 20; Cache create: 0; Cache read: 0; Total Tokens: 28; Search: 0),\n",
      "  'stop_reason': 'end_turn',\n",
      "  'stop_sequence': None,\n",
      "  'system': '',\n",
      "  'temperature': 0,\n",
      "  'use': In: 8; Out: 20; Cache create: 0; Cache read: 0; Total Tokens: 28; Search: 0}]\n"
     ]
    }
   ],
   "source": [
    "pprint(c.log)"
   ]
  },
  {
   "cell_type": "markdown",
   "id": "2d269ed8",
   "metadata": {},
   "source": [
    "Let's try out *prefill*:"
   ]
  },
  {
   "cell_type": "code",
   "execution_count": null,
   "id": "7f479429",
   "metadata": {},
   "outputs": [],
   "source": [
    "q = \"Very concisely, what is the meaning of life?\"\n",
    "pref = 'According to Douglas Adams, '"
   ]
  },
  {
   "cell_type": "code",
   "execution_count": null,
   "id": "b831ca3d",
   "metadata": {},
   "outputs": [
    {
     "data": {
      "text/markdown": [
       "According to Douglas Adams, 42. But seriously, there's no universal answer - it's deeply personal. Common themes include: finding purpose, connecting with others, growing as a person, and creating meaning through your choices and relationships.\n",
       "\n",
       "<details>\n",
       "\n",
       "- id: `msg_0199STHks5XajMrVdfKSfN4S`\n",
       "- content: `[{'citations': None, 'text': \"According to Douglas Adams, 42. But seriously, there's no universal answer - it's deeply personal. Common themes include: finding purpose, connecting with others, growing as a person, and creating meaning through your choices and relationships.\", 'type': 'text'}]`\n",
       "- model: `claude-sonnet-4-20250514`\n",
       "- role: `assistant`\n",
       "- stop_reason: `end_turn`\n",
       "- stop_sequence: `None`\n",
       "- type: `message`\n",
       "- usage: `{'cache_creation_input_tokens': 0, 'cache_read_input_tokens': 0, 'input_tokens': 24, 'output_tokens': 44, 'server_tool_use': None, 'service_tier': 'standard'}`\n",
       "\n",
       "</details>"
      ],
      "text/plain": [
       "Message(id='msg_0199STHks5XajMrVdfKSfN4S', content=[TextBlock(citations=None, text=\"According to Douglas Adams, 42. But seriously, there's no universal answer - it's deeply personal. Common themes include: finding purpose, connecting with others, growing as a person, and creating meaning through your choices and relationships.\", type='text')], model='claude-sonnet-4-20250514', role='assistant', stop_reason='end_turn', stop_sequence=None, type='message', usage=In: 24; Out: 44; Cache create: 0; Cache read: 0; Total Tokens: 68; Search: 0)"
      ]
     },
     "execution_count": null,
     "metadata": {},
     "output_type": "execute_result"
    }
   ],
   "source": [
    "c(q, prefill=pref)"
   ]
  },
  {
   "cell_type": "code",
   "execution_count": null,
   "id": "bd935215",
   "metadata": {},
   "outputs": [
    {
     "data": {
      "text/plain": [
       "In: 32; Out: 64; Cache create: 0; Cache read: 0; Total Tokens: 96; Search: 0"
      ]
     },
     "execution_count": null,
     "metadata": {},
     "output_type": "execute_result"
    }
   ],
   "source": [
    "c.use"
   ]
  },
  {
   "cell_type": "markdown",
   "id": "216b2704",
   "metadata": {},
   "source": [
    "We can pass `stream=True` to stream the response back incrementally:"
   ]
  },
  {
   "cell_type": "code",
   "execution_count": null,
   "id": "e281399f",
   "metadata": {},
   "outputs": [
    {
     "name": "stdout",
     "output_type": "stream",
     "text": [
      "Hello! How are you doing today? Is there anything I can help you with?"
     ]
    }
   ],
   "source": [
    "r = c('Hi', stream=True)\n",
    "for o in r: print(o, end='')"
   ]
  },
  {
   "cell_type": "code",
   "execution_count": null,
   "id": "beb25f2a",
   "metadata": {},
   "outputs": [
    {
     "data": {
      "text/plain": [
       "In: 40; Out: 84; Cache create: 0; Cache read: 0; Total Tokens: 124; Search: 0"
      ]
     },
     "execution_count": null,
     "metadata": {},
     "output_type": "execute_result"
    }
   ],
   "source": [
    "c.use"
   ]
  },
  {
   "cell_type": "markdown",
   "id": "ad0ed21f",
   "metadata": {},
   "source": [
    "The full final message after completion of streaming is in the `value` attr of the response:"
   ]
  },
  {
   "cell_type": "code",
   "execution_count": null,
   "id": "a198fe54",
   "metadata": {},
   "outputs": [
    {
     "data": {
      "text/markdown": [
       "Hello! How are you doing today? Is there anything I can help you with?\n",
       "\n",
       "<details>\n",
       "\n",
       "- id: `msg_012bimvaGuwzk21UTKn27vXr`\n",
       "- content: `[{'citations': None, 'text': 'Hello! How are you doing today? Is there anything I can help you with?', 'type': 'text'}]`\n",
       "- model: `claude-sonnet-4-20250514`\n",
       "- role: `assistant`\n",
       "- stop_reason: `end_turn`\n",
       "- stop_sequence: `None`\n",
       "- type: `message`\n",
       "- usage: `{'cache_creation_input_tokens': 0, 'cache_read_input_tokens': 0, 'input_tokens': 8, 'output_tokens': 20, 'server_tool_use': None, 'service_tier': 'standard'}`\n",
       "\n",
       "</details>"
      ],
      "text/plain": [
       "Message(id='msg_012bimvaGuwzk21UTKn27vXr', content=[TextBlock(citations=None, text='Hello! How are you doing today? Is there anything I can help you with?', type='text')], model='claude-sonnet-4-20250514', role='assistant', stop_reason='end_turn', stop_sequence=None, type='message', usage=In: 8; Out: 20; Cache create: 0; Cache read: 0; Total Tokens: 28; Search: 0)"
      ]
     },
     "execution_count": null,
     "metadata": {},
     "output_type": "execute_result"
    }
   ],
   "source": [
    "r.value"
   ]
  },
  {
   "cell_type": "code",
   "execution_count": null,
   "id": "db1c75ef",
   "metadata": {},
   "outputs": [
    {
     "name": "stdout",
     "output_type": "stream",
     "text": [
      "According to Douglas Adams, 42. But seriously, there's no universal answer - it's deeply personal. Common themes include: finding purpose, connecting with others, growing as a person, and creating meaning through your choices and relationships."
     ]
    }
   ],
   "source": [
    "for o in c(q, prefill=pref, stream=True): print(o, end='')"
   ]
  },
  {
   "cell_type": "code",
   "execution_count": null,
   "id": "e36eddc9",
   "metadata": {},
   "outputs": [
    {
     "data": {
      "text/plain": [
       "In: 64; Out: 128; Cache create: 0; Cache read: 0; Total Tokens: 192; Search: 0"
      ]
     },
     "execution_count": null,
     "metadata": {},
     "output_type": "execute_result"
    }
   ],
   "source": [
    "c.use"
   ]
  },
  {
   "cell_type": "markdown",
   "id": "bd556e49",
   "metadata": {},
   "source": [
    "Pass a stop sequence if you want claude to stop generating text when it encounters it."
   ]
  },
  {
   "cell_type": "code",
   "execution_count": null,
   "id": "12b17591",
   "metadata": {},
   "outputs": [
    {
     "data": {
      "text/markdown": [
       "1, 2, 3, 4,\n",
       "\n",
       "<details>\n",
       "\n",
       "- id: `msg_01XxuK5QxZHzHK6P1YTFsN3d`\n",
       "- content: `[{'citations': None, 'text': '1, 2, 3, 4, ', 'type': 'text'}]`\n",
       "- model: `claude-sonnet-4-20250514`\n",
       "- role: `assistant`\n",
       "- stop_reason: `stop_sequence`\n",
       "- stop_sequence: `5`\n",
       "- type: `message`\n",
       "- usage: `{'cache_creation_input_tokens': 0, 'cache_read_input_tokens': 0, 'input_tokens': 15, 'output_tokens': 14, 'server_tool_use': None, 'service_tier': 'standard'}`\n",
       "\n",
       "</details>"
      ],
      "text/plain": [
       "Message(id='msg_01XxuK5QxZHzHK6P1YTFsN3d', content=[TextBlock(citations=None, text='1, 2, 3, 4, ', type='text')], model='claude-sonnet-4-20250514', role='assistant', stop_reason='stop_sequence', stop_sequence='5', type='message', usage=In: 15; Out: 14; Cache create: 0; Cache read: 0; Total Tokens: 29; Search: 0)"
      ]
     },
     "execution_count": null,
     "metadata": {},
     "output_type": "execute_result"
    }
   ],
   "source": [
    "c(\"Count from 1 to 10\", stop=\"5\")"
   ]
  },
  {
   "cell_type": "markdown",
   "id": "cdbd3df3",
   "metadata": {},
   "source": [
    "This also works with streaming, and you can pass more than one stop sequence:"
   ]
  },
  {
   "cell_type": "code",
   "execution_count": null,
   "id": "ff50577d",
   "metadata": {},
   "outputs": [
    {
     "name": "stdout",
     "output_type": "stream",
     "text": [
      "1, 2, \n",
      "stop_sequence 3\n"
     ]
    }
   ],
   "source": [
    "for o in c(\"Count from 1 to 10\", stop=[\"3\", \"yellow\"], stream=True): print(o, end='')\n",
    "print()\n",
    "print(c.stop_reason, c.stop_sequence)"
   ]
  },
  {
   "cell_type": "markdown",
   "id": "fbdc1914",
   "metadata": {},
   "source": [
    "We've shown the token usage but we really care about is pricing. Let's extract the latest [pricing](https://www.anthropic.com/pricing#anthropic-api) from Anthropic into a `pricing` dict."
   ]
  },
  {
   "cell_type": "code",
   "execution_count": null,
   "id": "9bfce1dc",
   "metadata": {},
   "outputs": [],
   "source": [
    "#| export\n",
    "pricing = {  # model type: $ / million tokens (input, output, cache write, cache read)\n",
    "    'opus': (15, 75, 18.75, 1.5),\n",
    "    'sonnet': (3, 15, 3.75, 0.3),\n",
    "    'haiku-3': (0.25, 1.25, 0.3, 0.03),\n",
    "    'haiku-3-5': (1, 3, 1.25, 0.1),\n",
    "}"
   ]
  },
  {
   "cell_type": "code",
   "execution_count": null,
   "id": "2a1f2e67",
   "metadata": {},
   "outputs": [],
   "source": [
    "#| exports\n",
    "def get_pricing(m, u):\n",
    "    return pricing[m][:3] if u.prompt_token_count < 128_000 else pricing[m][3:]"
   ]
  },
  {
   "cell_type": "markdown",
   "id": "f8995374",
   "metadata": {},
   "source": [
    "Similarly, let's get the pricing for the latest [server tools]():"
   ]
  },
  {
   "cell_type": "code",
   "execution_count": null,
   "id": "cfa8da09",
   "metadata": {},
   "outputs": [],
   "source": [
    "#| export\n",
    "server_tool_pricing = {\n",
    "    'web_search_requests': 10, # $10 per 1,000\n",
    "}"
   ]
  },
  {
   "cell_type": "markdown",
   "id": "a8a49a95",
   "metadata": {},
   "source": [
    "We'll patch `Usage` to enable it compute the cost given pricing."
   ]
  },
  {
   "cell_type": "code",
   "execution_count": null,
   "id": "2edb5da5",
   "metadata": {},
   "outputs": [],
   "source": [
    "#| exports\n",
    "@patch\n",
    "def cost(self:Usage, costs:tuple) -> float:\n",
    "    cache_w, cache_r = _dgetattr(self, \"cache_creation_input_tokens\",0), _dgetattr(self, \"cache_read_input_tokens\",0)\n",
    "    tok_cost = sum([self.input_tokens * costs[0] +  self.output_tokens * costs[1] +  cache_w * costs[2] + cache_r * costs[3]]) / 1e6\n",
    "    server_tool_use = _dgetattr(self, \"server_tool_use\",server_tool_usage())\n",
    "    server_tool_cost = server_tool_use.web_search_requests * server_tool_pricing['web_search_requests'] / 1e3\n",
    "    return tok_cost + server_tool_cost"
   ]
  },
  {
   "cell_type": "code",
   "execution_count": null,
   "id": "936a4adc",
   "metadata": {},
   "outputs": [],
   "source": [
    "#| exports\n",
    "@patch(as_prop=True)\n",
    "def cost(self: Client) -> float: return self.use.cost(pricing[model_types[self.model]])"
   ]
  },
  {
   "cell_type": "code",
   "execution_count": null,
   "id": "91d4dcbe",
   "metadata": {},
   "outputs": [],
   "source": [
    "#| exports\n",
    "def get_costs(c):\n",
    "    costs = pricing[model_types[c.model]]\n",
    "    \n",
    "    inp_cost = c.use.input_tokens * costs[0] / 1e6\n",
    "    out_cost = c.use.output_tokens * costs[1] / 1e6\n",
    "\n",
    "    cache_w = c.use.cache_creation_input_tokens   \n",
    "    cache_r = c.use.cache_read_input_tokens\n",
    "    cache_cost = (cache_w * costs[2] + cache_r * costs[3]) / 1e6\n",
    "\n",
    "    server_tool_use = c.use.server_tool_use\n",
    "    server_tool_cost = server_tool_use.web_search_requests * server_tool_pricing['web_search_requests'] / 1e3\n",
    "    return inp_cost, out_cost, cache_cost, cache_w + cache_r, server_tool_cost"
   ]
  },
  {
   "cell_type": "markdown",
   "id": "f261a81f",
   "metadata": {},
   "source": [
    "The markdown repr of the client itself will show the latest result, along with the usage so far."
   ]
  },
  {
   "cell_type": "code",
   "execution_count": null,
   "id": "15695891",
   "metadata": {},
   "outputs": [],
   "source": [
    "#| exports\n",
    "@patch\n",
    "def _repr_markdown_(self:Client):\n",
    "    if not hasattr(self,'result'): return 'No results yet'\n",
    "    msg = contents(self.result)\n",
    "    inp_cost, out_cost, cache_cost, cached_toks, server_tool_cost = get_costs(self)\n",
    "    return f\"\"\"{msg}\n",
    "\n",
    "| Metric | Count | Cost (USD) |\n",
    "|--------|------:|-----:|\n",
    "| Input tokens | {self.use.input_tokens:,} | {inp_cost:.6f} |\n",
    "| Output tokens | {self.use.output_tokens:,} | {out_cost:.6f} |\n",
    "| Cache tokens | {cached_toks:,} | {cache_cost:.6f} |\n",
    "| Server tool use | {self.use.server_tool_use.web_search_requests:,} | {server_tool_cost:.6f} |\n",
    "| **Total** | **{self.use.total:,}** | **${self.cost:.6f}** |\"\"\""
   ]
  },
  {
   "cell_type": "code",
   "execution_count": null,
   "id": "be86fc43",
   "metadata": {},
   "outputs": [
    {
     "data": {
      "text/markdown": [
       "1, 2,\n",
       "\n",
       "| Metric | Count | Cost (USD) |\n",
       "|--------|------:|-----:|\n",
       "| Input tokens | 94 | 0.000282 |\n",
       "| Output tokens | 150 | 0.002250 |\n",
       "| Cache tokens | 0 | 0.000000 |\n",
       "| Server tool use | 0 | 0.000000 |\n",
       "| **Total** | **244** | **$0.002532** |"
      ],
      "text/plain": [
       "<__main__.Client>"
      ]
     },
     "execution_count": null,
     "metadata": {},
     "output_type": "execute_result"
    }
   ],
   "source": [
    "c"
   ]
  },
  {
   "cell_type": "markdown",
   "id": "1a7cdbc6",
   "metadata": {},
   "source": [
    "## Tool use"
   ]
  },
  {
   "cell_type": "markdown",
   "id": "65700cb3",
   "metadata": {},
   "source": [
    "Let's now look more at tool use (aka *function calling*).\n",
    "\n",
    "For testing, we need a function that Claude can call; we'll write a simple function that adds numbers together, and will tell us when it's being called:"
   ]
  },
  {
   "cell_type": "code",
   "execution_count": null,
   "id": "fef4c551",
   "metadata": {},
   "outputs": [],
   "source": [
    "from dataclasses import dataclass"
   ]
  },
  {
   "cell_type": "code",
   "execution_count": null,
   "id": "046e8cc3",
   "metadata": {},
   "outputs": [],
   "source": [
    "@dataclass\n",
    "class MySum: val:int\n",
    "\n",
    "def sums(\n",
    "    a:int,  # First thing to sum\n",
    "    b:int=1 # Second thing to sum\n",
    ") -> int: # The sum of the inputs\n",
    "    \"Adds a + b.\"\n",
    "    print(f\"Finding the sum of {a} and {b}\")\n",
    "    return MySum(a + b)"
   ]
  },
  {
   "cell_type": "code",
   "execution_count": null,
   "id": "d51f2bdf",
   "metadata": {},
   "outputs": [],
   "source": [
    "a,b = 604542,6458932\n",
    "pr = f\"What is {a}+{b}?\"\n",
    "sp = \"Always use tools when calculations are required.\""
   ]
  },
  {
   "cell_type": "markdown",
   "id": "3dc3ffd6",
   "metadata": {},
   "source": [
    "Claudette can autogenerate a schema thanks to the `toolslm` library. We'll force the use of the tool using the function we created earlier."
   ]
  },
  {
   "cell_type": "code",
   "execution_count": null,
   "id": "bff81d52",
   "metadata": {},
   "outputs": [],
   "source": [
    "tools=[get_schema(sums)]\n",
    "choice = mk_tool_choice('sums')"
   ]
  },
  {
   "cell_type": "markdown",
   "id": "91937f47",
   "metadata": {},
   "source": [
    "We'll start a dialog with Claude now. We'll store the messages of our dialog in `msgs`. The first message will be our prompt `pr`, and we'll pass our `tools` schema."
   ]
  },
  {
   "cell_type": "code",
   "execution_count": null,
   "id": "c2ceeb75",
   "metadata": {},
   "outputs": [
    {
     "data": {
      "text/markdown": [
       "ToolUseBlock(id='toolu_01ELsPvGRRmQuvwa98sUyhCM', input={'a': 604542, 'b': 6458932}, name='sums', type='tool_use')\n",
       "\n",
       "<details>\n",
       "\n",
       "- id: `msg_017WT4ebdy1DAfeqEFYhmpAC`\n",
       "- content: `[{'id': 'toolu_01ELsPvGRRmQuvwa98sUyhCM', 'input': {'a': 604542, 'b': 6458932}, 'name': 'sums', 'type': 'tool_use'}]`\n",
       "- model: `claude-sonnet-4-20250514`\n",
       "- role: `assistant`\n",
       "- stop_reason: `tool_use`\n",
       "- stop_sequence: `None`\n",
       "- type: `message`\n",
       "- usage: `{'cache_creation_input_tokens': 0, 'cache_read_input_tokens': 0, 'input_tokens': 440, 'output_tokens': 57, 'server_tool_use': None, 'service_tier': 'standard'}`\n",
       "\n",
       "</details>"
      ],
      "text/plain": [
       "Message(id='msg_017WT4ebdy1DAfeqEFYhmpAC', content=[ToolUseBlock(id='toolu_01ELsPvGRRmQuvwa98sUyhCM', input={'a': 604542, 'b': 6458932}, name='sums', type='tool_use')], model='claude-sonnet-4-20250514', role='assistant', stop_reason='tool_use', stop_sequence=None, type='message', usage=In: 440; Out: 57; Cache create: 0; Cache read: 0; Total Tokens: 497; Search: 0)"
      ]
     },
     "execution_count": null,
     "metadata": {},
     "output_type": "execute_result"
    }
   ],
   "source": [
    "msgs = mk_msgs(pr)\n",
    "r = c(msgs, sp=sp, tools=tools, tool_choice=choice)\n",
    "r"
   ]
  },
  {
   "cell_type": "markdown",
   "id": "60a2fce0",
   "metadata": {},
   "source": [
    "When Claude decides that it should use a tool, it passes back a `ToolUseBlock` with the name of the tool to call, and the params to use.\n",
    "\n",
    "We don't want to allow it to call just any possible function (that would be a security disaster!) so we create a *namespace* -- that is, a dictionary of allowable function names to call."
   ]
  },
  {
   "cell_type": "code",
   "execution_count": null,
   "id": "4fb9826f",
   "metadata": {},
   "outputs": [
    {
     "data": {
      "text/plain": [
       "{'sums': <function __main__.sums(a: int, b: int = 1) -> int>}"
      ]
     },
     "execution_count": null,
     "metadata": {},
     "output_type": "execute_result"
    }
   ],
   "source": [
    "ns = mk_ns(sums)\n",
    "ns"
   ]
  },
  {
   "cell_type": "code",
   "execution_count": null,
   "id": "5a7728ff",
   "metadata": {},
   "outputs": [],
   "source": [
    "#| exports\n",
    "def mk_funcres(fc, ns):\n",
    "    \"Given tool use block `fc`, get tool result, and create a tool_result response.\"\n",
    "    res = call_func(fc.name, fc.input, ns=ns, raise_on_err=False)\n",
    "    return dict(type=\"tool_result\", tool_use_id=fc.id, content=str(res))"
   ]
  },
  {
   "cell_type": "markdown",
   "id": "3d1f23eb",
   "metadata": {},
   "source": [
    "We can now use the function requested by Claude. We look it up in `ns`, and pass in the provided parameters."
   ]
  },
  {
   "cell_type": "code",
   "execution_count": null,
   "id": "c2e829c2",
   "metadata": {},
   "outputs": [
    {
     "data": {
      "text/plain": [
       "[ToolUseBlock(id='toolu_01ELsPvGRRmQuvwa98sUyhCM', input={'a': 604542, 'b': 6458932}, name='sums', type='tool_use')]"
      ]
     },
     "execution_count": null,
     "metadata": {},
     "output_type": "execute_result"
    }
   ],
   "source": [
    "fcs = [o for o in r.content if isinstance(o,ToolUseBlock)]\n",
    "fcs"
   ]
  },
  {
   "cell_type": "code",
   "execution_count": null,
   "id": "893f81ca",
   "metadata": {},
   "outputs": [
    {
     "name": "stdout",
     "output_type": "stream",
     "text": [
      "Finding the sum of 604542 and 6458932\n"
     ]
    },
    {
     "data": {
      "text/plain": [
       "[{'type': 'tool_result',\n",
       "  'tool_use_id': 'toolu_01ELsPvGRRmQuvwa98sUyhCM',\n",
       "  'content': 'MySum(val=7063474)'}]"
      ]
     },
     "execution_count": null,
     "metadata": {},
     "output_type": "execute_result"
    }
   ],
   "source": [
    "res = [mk_funcres(fc, ns=ns) for fc in fcs]\n",
    "res"
   ]
  },
  {
   "cell_type": "code",
   "execution_count": null,
   "id": "2cd7a393",
   "metadata": {},
   "outputs": [],
   "source": [
    "def contents(r):\n",
    "    \"Helper to get the contents from Claude response `r`.\"\n",
    "    blk = find_block(r)\n",
    "    if not blk and r.content: blk = r.content[0]\n",
    "    if hasattr(blk,'text'): return blk.text.strip()\n",
    "    elif hasattr(blk,'content'): return blk.content.strip()\n",
    "    return str(blk)"
   ]
  },
  {
   "cell_type": "code",
   "execution_count": null,
   "id": "d475922d",
   "metadata": {},
   "outputs": [],
   "source": [
    "#| exports\n",
    "def mk_toolres(\n",
    "    r:abc.Mapping, # Tool use request response from Claude\n",
    "    ns:Optional[abc.Mapping]=None # Namespace to search for tools\n",
    "    ):\n",
    "    \"Create a `tool_result` message from response `r`.\"\n",
    "    cts = getattr(r, 'content', [])\n",
    "    res = [mk_msg(r.model_dump(), role='assistant')]\n",
    "    if ns is None: ns=globals()\n",
    "    tcs = [mk_funcres(o, ns) for o in cts if isinstance(o,ToolUseBlock)]\n",
    "    if tcs: res.append(mk_msg(tcs))\n",
    "    return res"
   ]
  },
  {
   "cell_type": "markdown",
   "id": "5a57d1ca",
   "metadata": {},
   "source": [
    "In order to tell Claude the result of the tool call, we pass back the tool use assistant request and the `tool_result` response."
   ]
  },
  {
   "cell_type": "code",
   "execution_count": null,
   "id": "f13de1fc",
   "metadata": {},
   "outputs": [
    {
     "name": "stdout",
     "output_type": "stream",
     "text": [
      "Finding the sum of 604542 and 6458932\n"
     ]
    },
    {
     "data": {
      "text/plain": [
       "[{'role': 'assistant',\n",
       "  'content': [{'id': 'toolu_01ELsPvGRRmQuvwa98sUyhCM',\n",
       "    'input': {'a': 604542, 'b': 6458932},\n",
       "    'name': 'sums',\n",
       "    'type': 'tool_use'}]},\n",
       " {'role': 'user',\n",
       "  'content': [{'type': 'tool_result',\n",
       "    'tool_use_id': 'toolu_01ELsPvGRRmQuvwa98sUyhCM',\n",
       "    'content': 'MySum(val=7063474)'}]}]"
      ]
     },
     "execution_count": null,
     "metadata": {},
     "output_type": "execute_result"
    }
   ],
   "source": [
    "tr = mk_toolres(r, ns=ns)\n",
    "tr"
   ]
  },
  {
   "cell_type": "code",
   "execution_count": null,
   "id": "f0fc80e6",
   "metadata": {},
   "outputs": [
    {
     "data": {
      "text/plain": [
       "[{'role': 'user', 'content': 'What is 604542+6458932?'}]"
      ]
     },
     "execution_count": null,
     "metadata": {},
     "output_type": "execute_result"
    }
   ],
   "source": [
    "msgs"
   ]
  },
  {
   "cell_type": "markdown",
   "id": "faf4fe37",
   "metadata": {},
   "source": [
    "We add this to our dialog, and now Claude has all the information it needs to answer our question."
   ]
  },
  {
   "cell_type": "code",
   "execution_count": null,
   "id": "eed99502",
   "metadata": {},
   "outputs": [
    {
     "data": {
      "text/plain": [
       "'The sum of 604542 + 6458932 is 7,063,474.'"
      ]
     },
     "execution_count": null,
     "metadata": {},
     "output_type": "execute_result"
    }
   ],
   "source": [
    "msgs += tr\n",
    "contents(c(msgs, sp=sp, tools=tools))"
   ]
  },
  {
   "cell_type": "code",
   "execution_count": null,
   "id": "8fc252dc",
   "metadata": {},
   "outputs": [
    {
     "data": {
      "text/plain": [
       "'MySum(val=7063474)'"
      ]
     },
     "execution_count": null,
     "metadata": {},
     "output_type": "execute_result"
    }
   ],
   "source": [
    "contents(msgs[-1])"
   ]
  },
  {
   "cell_type": "code",
   "execution_count": null,
   "id": "ae64dce3",
   "metadata": {},
   "outputs": [
    {
     "data": {
      "text/plain": [
       "[{'role': 'user', 'content': 'What is 604542+6458932?'},\n",
       " {'role': 'assistant',\n",
       "  'content': [{'id': 'toolu_01ELsPvGRRmQuvwa98sUyhCM',\n",
       "    'input': {'a': 604542, 'b': 6458932},\n",
       "    'name': 'sums',\n",
       "    'type': 'tool_use'}]},\n",
       " {'role': 'user',\n",
       "  'content': [{'type': 'tool_result',\n",
       "    'tool_use_id': 'toolu_01ELsPvGRRmQuvwa98sUyhCM',\n",
       "    'content': 'MySum(val=7063474)'}]}]"
      ]
     },
     "execution_count": null,
     "metadata": {},
     "output_type": "execute_result"
    }
   ],
   "source": [
    "msgs"
   ]
  },
  {
   "cell_type": "markdown",
   "id": "50993fed",
   "metadata": {},
   "source": [
    "### Text editing"
   ]
  },
  {
   "cell_type": "markdown",
   "id": "4e33c2b2",
   "metadata": {},
   "source": [
    "Anthropic also has a special tool type specific to text editing."
   ]
  },
  {
   "cell_type": "code",
   "execution_count": null,
   "id": "6dcc3a92",
   "metadata": {},
   "outputs": [
    {
     "data": {
      "text/plain": [
       "[{'type': 'text_editor_20250429', 'name': 'str_replace_based_edit_tool'}]"
      ]
     },
     "execution_count": null,
     "metadata": {},
     "output_type": "execute_result"
    }
   ],
   "source": [
    "tools = [text_editor_conf['sonnet']]\n",
    "tools"
   ]
  },
  {
   "cell_type": "code",
   "execution_count": null,
   "id": "c9a25fc5",
   "metadata": {},
   "outputs": [
    {
     "data": {
      "text/plain": [
       "ToolUseBlock(id='toolu_01LW2nSTsthgWpSoSnZFmZs1', input={'command': 'view', 'path': '_quarto.yml'}, name='str_replace_based_edit_tool', type='tool_use')"
      ]
     },
     "execution_count": null,
     "metadata": {},
     "output_type": "execute_result"
    }
   ],
   "source": [
    "pr = 'Could you please explain my _quarto.yml file?'\n",
    "msgs = [mk_msg(pr)]\n",
    "r = c(msgs, sp=sp, tools=tools)\n",
    "find_block(r, ToolUseBlock)"
   ]
  },
  {
   "cell_type": "markdown",
   "id": "145b096d",
   "metadata": {},
   "source": [
    "We've gone ahead and create a reference implementation that you can directly use from our `text_editor` module. Or use as reference for creating your own. "
   ]
  },
  {
   "cell_type": "code",
   "execution_count": null,
   "id": "a056df6c",
   "metadata": {},
   "outputs": [
    {
     "name": "stdout",
     "output_type": "stream",
     "text": [
      "Great! Let me explain your `_quarto.yml` configuration file section by section:\n",
      "\n",
      "## Project Configuration\n",
      "```yaml\n",
      "project:\n",
      "  typ\n"
     ]
    }
   ],
   "source": [
    "ns = mk_ns(str_replace_based_edit_tool)\n",
    "tr = mk_toolres(r, ns=ns)\n",
    "msgs += tr\n",
    "print(contents(c(msgs, sp=sp, tools=tools))[:128])"
   ]
  },
  {
   "cell_type": "markdown",
   "id": "d618fc89",
   "metadata": {},
   "source": [
    "## Structured data"
   ]
  },
  {
   "cell_type": "code",
   "execution_count": null,
   "id": "f326f034",
   "metadata": {},
   "outputs": [],
   "source": [
    "a,b = 604542,6458932\n",
    "pr = f\"What is {a}+{b}?\"\n",
    "sp = \"Always use your tools for calculations.\""
   ]
  },
  {
   "cell_type": "code",
   "execution_count": null,
   "id": "6dd255e0",
   "metadata": {},
   "outputs": [
    {
     "name": "stdout",
     "output_type": "stream",
     "text": [
      "Message(id='msg_01BDv17ZZqmCydpweq2GGd8o', content=[ToolUseBlock(id='toolu_01QManUg8MM2jum3ZxEg27A3', input={'a': 604542, 'b': 6458932}, name='sums', type='tool_use')], model='claude-sonnet-4-20250514', role='assistant', stop_reason='tool_use', stop_sequence=None, type='message', usage=In: 435; Out: 53; Cache create: 0; Cache read: 0; Total Tokens: 488; Search: 0)\n",
      "Message(id='msg_01XQdcKSMgtAEDSVCdmj36AB', content=[ToolUseBlock(id='toolu_01WVYqvnf8Eg9ACP6FCsRFAz', input={'a': 604542, 'b': 6458932}, name='sums', type='tool_use')], model='claude-sonnet-4-20250514', role='assistant', stop_reason='tool_use', stop_sequence=None, type='message', usage=In: 435; Out: 53; Cache create: 0; Cache read: 0; Total Tokens: 488; Search: 0)\n"
     ]
    }
   ],
   "source": [
    "for tools in [sums, [get_schema(sums)]]:\n",
    "    r = c(pr, tools=tools, tool_choice='sums')\n",
    "    print(r)"
   ]
  },
  {
   "cell_type": "code",
   "execution_count": null,
   "id": "f0bb426f",
   "metadata": {},
   "outputs": [
    {
     "name": "stdout",
     "output_type": "stream",
     "text": [
      "Finding the sum of 604542 and 6458932\n"
     ]
    }
   ],
   "source": [
    "ns = mk_ns(sums)\n",
    "tr = mk_toolres(r, ns=ns)"
   ]
  },
  {
   "cell_type": "code",
   "execution_count": null,
   "id": "b3564424",
   "metadata": {},
   "outputs": [],
   "source": [
    "#| exports\n",
    "@patch\n",
    "@delegates(Client.__call__)\n",
    "def structured(self:Client,\n",
    "               msgs:list, # List of messages in the dialog\n",
    "               tools:Optional[list]=None, # List of tools to make available to Claude\n",
    "               ns:Optional[abc.Mapping]=None, # Namespace to search for tools\n",
    "               **kwargs):\n",
    "    \"Return the value of all tool calls (generally used for structured outputs)\"\n",
    "    tools = listify(tools)\n",
    "    res = self(msgs, tools=tools, tool_choice=tools, **kwargs)\n",
    "    if ns is None: ns=mk_ns(*tools)\n",
    "    cts = getattr(res, 'content', [])\n",
    "    tcs = [call_func(o.name, o.input, ns=ns) for o in cts if isinstance(o,ToolUseBlock)]\n",
    "    return tcs"
   ]
  },
  {
   "cell_type": "markdown",
   "id": "e2b70864",
   "metadata": {},
   "source": [
    "Anthropic's API does not support response formats directly, so instead we provide a `structured` method to use tool calling to achieve the same result. The result of the tool is not passed back to Claude in this case, but instead is returned directly to the user. "
   ]
  },
  {
   "cell_type": "code",
   "execution_count": null,
   "id": "44d2cc82",
   "metadata": {},
   "outputs": [
    {
     "name": "stdout",
     "output_type": "stream",
     "text": [
      "Finding the sum of 604542 and 6458932\n"
     ]
    },
    {
     "data": {
      "text/plain": [
       "[MySum(val=7063474)]"
      ]
     },
     "execution_count": null,
     "metadata": {},
     "output_type": "execute_result"
    }
   ],
   "source": [
    "c.structured(pr, tools=[sums])"
   ]
  },
  {
   "cell_type": "code",
   "execution_count": null,
   "id": "78883bec",
   "metadata": {},
   "outputs": [
    {
     "data": {
      "text/markdown": [
       "ToolUseBlock(id='toolu_01VnshC1nBqtchpsrDG8QPfP', input={'a': 604542, 'b': 6458932}, name='sums', type='tool_use')\n",
       "\n",
       "| Metric | Count | Cost (USD) |\n",
       "|--------|------:|-----:|\n",
       "| Input tokens | 4,926 | 0.014778 |\n",
       "| Output tokens | 1,233 | 0.018495 |\n",
       "| Cache tokens | 0 | 0.000000 |\n",
       "| Server tool use | 0 | 0.000000 |\n",
       "| **Total** | **6,159** | **$0.033273** |"
      ],
      "text/plain": [
       "<__main__.Client>"
      ]
     },
     "execution_count": null,
     "metadata": {},
     "output_type": "execute_result"
    }
   ],
   "source": [
    "c"
   ]
  },
  {
   "cell_type": "markdown",
   "id": "df5211d9",
   "metadata": {},
   "source": [
    "## Custom Types with Tools Use"
   ]
  },
  {
   "cell_type": "markdown",
   "id": "06fe1763",
   "metadata": {},
   "source": [
    "We need to add tool support for custom types too. Let's test out custom types using a minimal example."
   ]
  },
  {
   "cell_type": "code",
   "execution_count": null,
   "id": "13d08aba",
   "metadata": {},
   "outputs": [],
   "source": [
    "class Book(BasicRepr):\n",
    "    def __init__(self, title: str, pages: int): store_attr()\n",
    "    def __repr__(self):\n",
    "        return f\"Book Title : {self.title}\\nNumber of Pages : {self.pages}\""
   ]
  },
  {
   "cell_type": "code",
   "execution_count": null,
   "id": "effd7f47",
   "metadata": {},
   "outputs": [
    {
     "data": {
      "text/plain": [
       "Book Title : War and Peace\n",
       "Number of Pages : 950"
      ]
     },
     "execution_count": null,
     "metadata": {},
     "output_type": "execute_result"
    }
   ],
   "source": [
    "Book(\"War and Peace\", 950)"
   ]
  },
  {
   "cell_type": "code",
   "execution_count": null,
   "id": "465abf5b",
   "metadata": {},
   "outputs": [],
   "source": [
    "def find_page(book: Book, # The book to find the halfway point of\n",
    "              percent: int, # Percent of a book to read to, e.g. halfway == 50, \n",
    ") -> int:\n",
    "    \"The page number corresponding to `percent` completion of a book\"\n",
    "    return round(book.pages * (percent / 100.0))"
   ]
  },
  {
   "cell_type": "code",
   "execution_count": null,
   "id": "011f74a8",
   "metadata": {},
   "outputs": [
    {
     "data": {
      "text/plain": [
       "{'name': 'find_page',\n",
       " 'description': 'The page number corresponding to `percent` completion of a book\\n\\nReturns:\\n- type: integer',\n",
       " 'input_schema': {'type': 'object',\n",
       "  'properties': {'book': {'type': 'object',\n",
       "    'description': 'The book to find the halfway point of',\n",
       "    '$ref': '#/$defs/Book'},\n",
       "   'percent': {'type': 'integer',\n",
       "    'description': 'Percent of a book to read to, e.g. halfway == 50,'}},\n",
       "  'title': None,\n",
       "  'required': ['book', 'percent'],\n",
       "  '$defs': {'Book': {'type': 'object',\n",
       "    'properties': {'title': {'type': 'string', 'description': ''},\n",
       "     'pages': {'type': 'integer', 'description': ''}},\n",
       "    'title': 'Book',\n",
       "    'required': ['title', 'pages']}}}}"
      ]
     },
     "execution_count": null,
     "metadata": {},
     "output_type": "execute_result"
    }
   ],
   "source": [
    "get_schema(find_page)"
   ]
  },
  {
   "cell_type": "code",
   "execution_count": null,
   "id": "c39dac76",
   "metadata": {},
   "outputs": [
    {
     "data": {
      "text/plain": [
       "{'type': 'tool', 'name': 'find_page'}"
      ]
     },
     "execution_count": null,
     "metadata": {},
     "output_type": "execute_result"
    }
   ],
   "source": [
    "choice = mk_tool_choice('find_page')\n",
    "choice"
   ]
  },
  {
   "cell_type": "markdown",
   "id": "c0795da1",
   "metadata": {},
   "source": [
    "Claudette will pack objects as dict, so we'll transform tool functions with user-defined types into tool functions that accept a dict in lieu of the user-defined type.\n",
    "\n",
    "First let's convert a single argument:"
   ]
  },
  {
   "cell_type": "code",
   "execution_count": null,
   "id": "a8f64918",
   "metadata": {},
   "outputs": [],
   "source": [
    "#| export\n",
    "def _is_builtin(tp: type):\n",
    "    \"Returns True for built in primitive types or containers\"\n",
    "    return (tp in (str, int, float, bool, complex) or tp is None\n",
    "        or getattr(tp, '__origin__', None) is not None)  # Pass through all container types\n",
    "\n",
    "def _convert(val: Dict, # dictionary argument being passed in\n",
    "            tp: type): # type of the tool function input\n",
    "    \"Convert converts a single argument\"\n",
    "    if val is None or _is_builtin(tp) or not isinstance(val, dict): return val\n",
    "    return tp(**val)"
   ]
  },
  {
   "cell_type": "markdown",
   "id": "fbb1fd24",
   "metadata": {},
   "source": [
    "`_is_builtin` decides whether to pass an argument through as-is. Let's check the argument conversion:"
   ]
  },
  {
   "cell_type": "code",
   "execution_count": null,
   "id": "e6182cae",
   "metadata": {},
   "outputs": [
    {
     "data": {
      "text/plain": [
       "(True, False, True)"
      ]
     },
     "execution_count": null,
     "metadata": {},
     "output_type": "execute_result"
    }
   ],
   "source": [
    "(_is_builtin(int), _is_builtin(Book), _is_builtin(List))"
   ]
  },
  {
   "cell_type": "code",
   "execution_count": null,
   "id": "30bcf8cd",
   "metadata": {},
   "outputs": [
    {
     "data": {
      "text/plain": [
       "(555,\n",
       " Book Title : War and Peace\n",
       " Number of Pages : 923,\n",
       " [1, 2, 3, 4])"
      ]
     },
     "execution_count": null,
     "metadata": {},
     "output_type": "execute_result"
    }
   ],
   "source": [
    "(_convert(555, int),\n",
    " _convert({\"title\": \"War and Peace\", \"pages\": 923}, Book),\n",
    " _convert([1, 2, 3, 4], List))"
   ]
  },
  {
   "cell_type": "markdown",
   "id": "21d4ed6a",
   "metadata": {},
   "source": [
    "To apply `tool()` to a function is to return a new function where the user-defined types are replaced with dictionary inputs."
   ]
  },
  {
   "cell_type": "code",
   "execution_count": null,
   "id": "ad70d01a",
   "metadata": {},
   "outputs": [],
   "source": [
    "#| export\n",
    "def tool(func):\n",
    "    if isinstance(func, dict): return func # it's a schema, so don't change\n",
    "    hints = get_type_hints(func)\n",
    "    @wraps(func)\n",
    "    def wrapper(*args, **kwargs):\n",
    "        new_args = [_convert(arg, hints[p]) for p,arg in zip(inspect.signature(func).parameters, args)]\n",
    "        new_kwargs = {k: _convert(v, hints[k]) if k in hints else v for k,v in kwargs.items()}\n",
    "        return func(*new_args, **new_kwargs)\n",
    "    return wrapper"
   ]
  },
  {
   "cell_type": "markdown",
   "id": "a80c69d7",
   "metadata": {},
   "source": [
    "A function is transformed into a function with dict arguments substituted for user-defined types. Built-in types such as `percent` here are left untouched."
   ]
  },
  {
   "cell_type": "code",
   "execution_count": null,
   "id": "dbe72ab6",
   "metadata": {},
   "outputs": [
    {
     "data": {
      "text/plain": [
       "475"
      ]
     },
     "execution_count": null,
     "metadata": {},
     "output_type": "execute_result"
    }
   ],
   "source": [
    "find_page(book=Book(\"War and Peace\", 950), percent=50)"
   ]
  },
  {
   "cell_type": "code",
   "execution_count": null,
   "id": "261f3253",
   "metadata": {},
   "outputs": [
    {
     "data": {
      "text/plain": [
       "475"
      ]
     },
     "execution_count": null,
     "metadata": {},
     "output_type": "execute_result"
    }
   ],
   "source": [
    "tool(find_page)({\"title\": \"War and Peace\", \"pages\": 950}, percent=50)"
   ]
  },
  {
   "cell_type": "markdown",
   "id": "6428afcb",
   "metadata": {},
   "source": [
    "By passing tools wrapped by `tool()`, user-defined types now work completes without failing in tool calls."
   ]
  },
  {
   "cell_type": "code",
   "execution_count": null,
   "id": "48cdcfc2",
   "metadata": {},
   "outputs": [
    {
     "data": {
      "text/plain": [
       "<function __main__.find_page(book: __main__.Book, percent: int) -> int>"
      ]
     },
     "execution_count": null,
     "metadata": {},
     "output_type": "execute_result"
    }
   ],
   "source": [
    "pr = \"How many pages do I have to read to get halfway through my 950 page copy of War and Peace\"\n",
    "tools = tool(find_page)\n",
    "tools"
   ]
  },
  {
   "cell_type": "code",
   "execution_count": null,
   "id": "848a319e",
   "metadata": {},
   "outputs": [
    {
     "data": {
      "text/plain": [
       "ToolUseBlock(id='toolu_01L64CxHF9pVGDpGsPCS7L4n', input={'book': {'title': 'War and Peace', 'pages': 950}, 'percent': 50}, name='find_page', type='tool_use')"
      ]
     },
     "execution_count": null,
     "metadata": {},
     "output_type": "execute_result"
    }
   ],
   "source": [
    "r = c(pr, tools=[tools])\n",
    "find_block(r, ToolUseBlock)"
   ]
  },
  {
   "cell_type": "code",
   "execution_count": null,
   "id": "209fbdf0",
   "metadata": {},
   "outputs": [
    {
     "data": {
      "text/plain": [
       "[{'role': 'assistant',\n",
       "  'content': [{'citations': None,\n",
       "    'text': \"I'll help you find the halfway point of your copy of War and Peace.\",\n",
       "    'type': 'text'},\n",
       "   {'id': 'toolu_01L64CxHF9pVGDpGsPCS7L4n',\n",
       "    'input': {'book': {'title': 'War and Peace', 'pages': 950}, 'percent': 50},\n",
       "    'name': 'find_page',\n",
       "    'type': 'tool_use'}]},\n",
       " {'role': 'user',\n",
       "  'content': [{'type': 'tool_result',\n",
       "    'tool_use_id': 'toolu_01L64CxHF9pVGDpGsPCS7L4n',\n",
       "    'content': '475'}]}]"
      ]
     },
     "execution_count": null,
     "metadata": {},
     "output_type": "execute_result"
    }
   ],
   "source": [
    "tr = mk_toolres(r, ns=[tools])\n",
    "tr"
   ]
  },
  {
   "cell_type": "code",
   "execution_count": null,
   "id": "8abdec8a",
   "metadata": {},
   "outputs": [
    {
     "data": {
      "text/plain": [
       "\"To get halfway through your 950-page copy of War and Peace, you need to read to page 475. That means you'll have 475 pages to go to reach the halfway point!\""
      ]
     },
     "execution_count": null,
     "metadata": {},
     "output_type": "execute_result"
    }
   ],
   "source": [
    "msgs = [pr]+tr\n",
    "contents(c(msgs, sp=sp, tools=[tools]))"
   ]
  },
  {
   "cell_type": "markdown",
   "id": "4ea144b8",
   "metadata": {},
   "source": [
    "## Chat"
   ]
  },
  {
   "cell_type": "markdown",
   "id": "419fab81",
   "metadata": {},
   "source": [
    "Rather than manually adding the responses to a dialog, we'll create a simple `Chat` class to do that for us, each time we make a request. We'll also store the system prompt and tools here, to avoid passing them every time."
   ]
  },
  {
   "cell_type": "code",
   "execution_count": null,
   "id": "755dd2a1",
   "metadata": {},
   "outputs": [],
   "source": [
    "#| export\n",
    "class Chat:\n",
    "    def __init__(self,\n",
    "                 model:Optional[str]=None, # Model to use (leave empty if passing `cli`)\n",
    "                 cli:Optional[Client]=None, # Client to use (leave empty if passing `model`)\n",
    "                 sp='', # Optional system prompt\n",
    "                 tools:Optional[list]=None, # List of tools to make available to Claude\n",
    "                 temp=0, # Temperature\n",
    "                 cont_pr:Optional[str]=None, # User prompt to continue an assistant response\n",
    "                 cache: bool = False,  # Use Claude cache?\n",
    "                 hist: list = None,  # Initialize history\n",
    "                 ns:Optional[abc.Mapping]=None # Namespace to search for tools\n",
    "                ):\n",
    "        \"Anthropic chat client.\"\n",
    "        assert model or cli\n",
    "        assert cont_pr != \"\", \"cont_pr may not be an empty string\"\n",
    "        self.c = (cli or Client(model, cache=cache))\n",
    "        if hist is None: hist=[]\n",
    "        if tools: tools = [tool(t) for t in listify(tools)]\n",
    "        if ns is None: ns=tools\n",
    "        self.h,self.sp,self.tools,self.cont_pr,self.temp,self.cache,self.ns = hist,sp,tools,cont_pr,temp,cache,ns\n",
    "\n",
    "    @property\n",
    "    def use(self): return self.c.use"
   ]
  },
  {
   "cell_type": "markdown",
   "id": "c3f16d4e",
   "metadata": {},
   "source": [
    "The class stores the `Client` that will provide the responses in `c`, and a history of messages in `h`."
   ]
  },
  {
   "cell_type": "code",
   "execution_count": null,
   "id": "04b837c5",
   "metadata": {},
   "outputs": [
    {
     "data": {
      "text/plain": [
       "(In: 0; Out: 0; Cache create: 0; Cache read: 0; Total Tokens: 0; Search: 0, [])"
      ]
     },
     "execution_count": null,
     "metadata": {},
     "output_type": "execute_result"
    }
   ],
   "source": [
    "sp = \"Never mention what tools you use.\"\n",
    "chat = Chat(model, sp=sp)\n",
    "chat.c.use, chat.h"
   ]
  },
  {
   "cell_type": "code",
   "execution_count": null,
   "id": "10360d53",
   "metadata": {},
   "outputs": [
    {
     "data": {
      "text/plain": [
       "0.0"
      ]
     },
     "execution_count": null,
     "metadata": {},
     "output_type": "execute_result"
    }
   ],
   "source": [
    "chat.c.use.cost(pricing[model_types[chat.c.model]])"
   ]
  },
  {
   "cell_type": "markdown",
   "id": "8b36fcec",
   "metadata": {},
   "source": [
    "This is clunky. Let's add `cost` as a property for the `Chat` class. It will pass in the appropriate prices for the current model to the usage cost calculator."
   ]
  },
  {
   "cell_type": "code",
   "execution_count": null,
   "id": "aae25dd2",
   "metadata": {},
   "outputs": [],
   "source": [
    "#| exports\n",
    "@patch(as_prop=True)\n",
    "def cost(self: Chat) -> float: return self.c.cost"
   ]
  },
  {
   "cell_type": "code",
   "execution_count": null,
   "id": "793d2f2d",
   "metadata": {},
   "outputs": [
    {
     "data": {
      "text/plain": [
       "0.0"
      ]
     },
     "execution_count": null,
     "metadata": {},
     "output_type": "execute_result"
    }
   ],
   "source": [
    "chat.cost"
   ]
  },
  {
   "cell_type": "code",
   "execution_count": null,
   "id": "d0178ee1",
   "metadata": {},
   "outputs": [],
   "source": [
    "#| exports\n",
    "@patch\n",
    "def _post_pr(self:Chat, pr, prev_role):\n",
    "    if pr is None and prev_role == 'assistant':\n",
    "        if self.cont_pr is None:\n",
    "            raise ValueError(\"Prompt must be given after completion, or use `self.cont_pr`.\")\n",
    "        pr = self.cont_pr # No user prompt, keep the chain\n",
    "    if pr: self.h.append(mk_msg(pr, cache=self.cache))"
   ]
  },
  {
   "cell_type": "code",
   "execution_count": null,
   "id": "1b5c04e6",
   "metadata": {},
   "outputs": [],
   "source": [
    "#| exports\n",
    "@patch\n",
    "def _append_pr(self:Chat, pr=None):\n",
    "    prev_role = nested_idx(self.h, -1, 'role') if self.h else 'assistant' # First message should be 'user'\n",
    "    if pr and prev_role == 'user': self() # already user request pending\n",
    "    self._post_pr(pr, prev_role)"
   ]
  },
  {
   "cell_type": "code",
   "execution_count": null,
   "id": "a9bcc67a",
   "metadata": {},
   "outputs": [],
   "source": [
    "#| exports\n",
    "@patch\n",
    "def __call__(self:Chat,\n",
    "             pr=None,  # Prompt / message\n",
    "             temp=None, # Temperature\n",
    "             maxtok=4096, # Maximum tokens\n",
    "             maxthinktok=0, # Maximum thinking tokens\n",
    "             stream=False, # Stream response?\n",
    "             prefill='', # Optional prefill to pass to Claude as start of its response\n",
    "             tool_choice:Optional[dict]=None, # Optionally force use of some tool\n",
    "             **kw):\n",
    "    if temp is None: temp=self.temp\n",
    "    self._append_pr(pr)\n",
    "    def _cb(v):\n",
    "        self.last = mk_toolres(v, ns=self.ns)\n",
    "        self.h += self.last\n",
    "    return self.c(self.h, stream=stream, prefill=prefill, sp=self.sp, temp=temp, maxtok=maxtok, maxthinktok=maxthinktok,\n",
    "                 tools=self.tools, tool_choice=tool_choice, cb=_cb, **kw)"
   ]
  },
  {
   "cell_type": "markdown",
   "id": "f97c5cd7",
   "metadata": {},
   "source": [
    "The `__call__` method just passes the request along to the `Client`, but rather than just passing in this one prompt, it appends it to the history and passes it all along. As a result, we now have state!"
   ]
  },
  {
   "cell_type": "code",
   "execution_count": null,
   "id": "cb393257",
   "metadata": {},
   "outputs": [],
   "source": [
    "chat = Chat(model, sp=sp)"
   ]
  },
  {
   "cell_type": "code",
   "execution_count": null,
   "id": "40073f42",
   "metadata": {},
   "outputs": [
    {
     "data": {
      "text/markdown": [
       "Your name is Jeremy.\n",
       "\n",
       "<details>\n",
       "\n",
       "- id: `msg_01RGKtuVHzYWqreX7Xi9vqfk`\n",
       "- content: `[{'citations': None, 'text': 'Your name is Jeremy.', 'type': 'text'}]`\n",
       "- model: `claude-sonnet-4-20250514`\n",
       "- role: `assistant`\n",
       "- stop_reason: `end_turn`\n",
       "- stop_sequence: `None`\n",
       "- type: `message`\n",
       "- usage: `{'cache_creation_input_tokens': 0, 'cache_read_input_tokens': 0, 'input_tokens': 42, 'output_tokens': 8, 'server_tool_use': None, 'service_tier': 'standard'}`\n",
       "\n",
       "</details>"
      ],
      "text/plain": [
       "Message(id='msg_01RGKtuVHzYWqreX7Xi9vqfk', content=[TextBlock(citations=None, text='Your name is Jeremy.', type='text')], model='claude-sonnet-4-20250514', role='assistant', stop_reason='end_turn', stop_sequence=None, type='message', usage=In: 42; Out: 8; Cache create: 0; Cache read: 0; Total Tokens: 50; Search: 0)"
      ]
     },
     "execution_count": null,
     "metadata": {},
     "output_type": "execute_result"
    }
   ],
   "source": [
    "chat(\"I'm Jeremy\")\n",
    "chat(\"What's my name?\")"
   ]
  },
  {
   "cell_type": "code",
   "execution_count": null,
   "id": "5457b51d",
   "metadata": {},
   "outputs": [
    {
     "data": {
      "text/plain": [
       "(In: 59; Out: 25; Cache create: 0; Cache read: 0; Total Tokens: 84; Search: 0,\n",
       " 0.000552)"
      ]
     },
     "execution_count": null,
     "metadata": {},
     "output_type": "execute_result"
    }
   ],
   "source": [
    "chat.use, chat.cost"
   ]
  },
  {
   "cell_type": "markdown",
   "id": "1c55e426",
   "metadata": {},
   "source": [
    "Let's try out prefill too:"
   ]
  },
  {
   "cell_type": "code",
   "execution_count": null,
   "id": "2153a1f5",
   "metadata": {},
   "outputs": [],
   "source": [
    "q = \"Very concisely, what is the meaning of life?\"\n",
    "pref = 'According to Douglas Adams,'"
   ]
  },
  {
   "cell_type": "code",
   "execution_count": null,
   "id": "9b28705d",
   "metadata": {},
   "outputs": [
    {
     "data": {
      "text/markdown": [
       "According to Douglas Adams,42. But seriously: to find purpose, connect with others, and create meaning through your choices and relationships.\n",
       "\n",
       "<details>\n",
       "\n",
       "- id: `msg_01QDFSjBNYN6QrYe4rZm5sNN`\n",
       "- content: `[{'citations': None, 'text': 'According to Douglas Adams,42. But seriously: to find purpose, connect with others, and create meaning through your choices and relationships.', 'type': 'text'}]`\n",
       "- model: `claude-sonnet-4-20250514`\n",
       "- role: `assistant`\n",
       "- stop_reason: `end_turn`\n",
       "- stop_sequence: `None`\n",
       "- type: `message`\n",
       "- usage: `{'cache_creation_input_tokens': 0, 'cache_read_input_tokens': 0, 'input_tokens': 70, 'output_tokens': 25, 'server_tool_use': None, 'service_tier': 'standard'}`\n",
       "\n",
       "</details>"
      ],
      "text/plain": [
       "Message(id='msg_01QDFSjBNYN6QrYe4rZm5sNN', content=[TextBlock(citations=None, text='According to Douglas Adams,42. But seriously: to find purpose, connect with others, and create meaning through your choices and relationships.', type='text')], model='claude-sonnet-4-20250514', role='assistant', stop_reason='end_turn', stop_sequence=None, type='message', usage=In: 70; Out: 25; Cache create: 0; Cache read: 0; Total Tokens: 95; Search: 0)"
      ]
     },
     "execution_count": null,
     "metadata": {},
     "output_type": "execute_result"
    }
   ],
   "source": [
    "chat(q, prefill=pref)"
   ]
  },
  {
   "cell_type": "markdown",
   "id": "fbd28a97",
   "metadata": {},
   "source": [
    "By default messages must be in user, assistant, user format. If this isn't followed (aka calling `chat()` without a user message) it will error out:"
   ]
  },
  {
   "cell_type": "code",
   "execution_count": null,
   "id": "c3761928",
   "metadata": {},
   "outputs": [
    {
     "name": "stdout",
     "output_type": "stream",
     "text": [
      "Error: Prompt must be given after completion, or use `self.cont_pr`.\n"
     ]
    }
   ],
   "source": [
    "try: chat()\n",
    "except ValueError as e: print(\"Error:\", e)"
   ]
  },
  {
   "cell_type": "markdown",
   "id": "4d57b5c7",
   "metadata": {},
   "source": [
    "Setting `cont_pr` allows a \"default prompt\" to be specified when a prompt isn't specified. Usually used to prompt the model to continue."
   ]
  },
  {
   "cell_type": "code",
   "execution_count": null,
   "id": "54c5a2bc",
   "metadata": {},
   "outputs": [
    {
     "data": {
      "text/markdown": [
       "The meaning of life is deeply personal and has been pondered for millennia. Some common threads:\n",
       "\n",
       "**Purpose**: Finding what gives your life direction - whether through work, creativity, service, or personal growth.\n",
       "\n",
       "**Connection**: Building meaningful relationships and contributing to something larger than yourself.\n",
       "\n",
       "**Experience**: Embracing both joy and struggle as part of the human condition.\n",
       "\n",
       "**Growth**: Continuously learning, evolving, and becoming more of who you're meant to be.\n",
       "\n",
       "**Legacy**: How you impact others and what you leave behind.\n",
       "\n",
       "Many find meaning through religion, philosophy, family, art, or simply in small daily acts of kindness. The beauty might be that there's no single answer - you get to discover and create your own meaning as you live.\n",
       "\n",
       "What resonates most with you, Jeremy?\n",
       "\n",
       "<details>\n",
       "\n",
       "- id: `msg_01BZEHy1ViBGeQe7QV2EMXjg`\n",
       "- content: `[{'citations': None, 'text': \"The meaning of life is deeply personal and has been pondered for millennia. Some common threads:\\n\\n**Purpose**: Finding what gives your life direction - whether through work, creativity, service, or personal growth.\\n\\n**Connection**: Building meaningful relationships and contributing to something larger than yourself.\\n\\n**Experience**: Embracing both joy and struggle as part of the human condition.\\n\\n**Growth**: Continuously learning, evolving, and becoming more of who you're meant to be.\\n\\n**Legacy**: How you impact others and what you leave behind.\\n\\nMany find meaning through religion, philosophy, family, art, or simply in small daily acts of kindness. The beauty might be that there's no single answer - you get to discover and create your own meaning as you live.\\n\\nWhat resonates most with you, Jeremy?\", 'type': 'text'}]`\n",
       "- model: `claude-sonnet-4-20250514`\n",
       "- role: `assistant`\n",
       "- stop_reason: `end_turn`\n",
       "- stop_sequence: `None`\n",
       "- type: `message`\n",
       "- usage: `{'cache_creation_input_tokens': 0, 'cache_read_input_tokens': 0, 'input_tokens': 104, 'output_tokens': 172, 'server_tool_use': None, 'service_tier': 'standard'}`\n",
       "\n",
       "</details>"
      ],
      "text/plain": [
       "Message(id='msg_01BZEHy1ViBGeQe7QV2EMXjg', content=[TextBlock(citations=None, text=\"The meaning of life is deeply personal and has been pondered for millennia. Some common threads:\\n\\n**Purpose**: Finding what gives your life direction - whether through work, creativity, service, or personal growth.\\n\\n**Connection**: Building meaningful relationships and contributing to something larger than yourself.\\n\\n**Experience**: Embracing both joy and struggle as part of the human condition.\\n\\n**Growth**: Continuously learning, evolving, and becoming more of who you're meant to be.\\n\\n**Legacy**: How you impact others and what you leave behind.\\n\\nMany find meaning through religion, philosophy, family, art, or simply in small daily acts of kindness. The beauty might be that there's no single answer - you get to discover and create your own meaning as you live.\\n\\nWhat resonates most with you, Jeremy?\", type='text')], model='claude-sonnet-4-20250514', role='assistant', stop_reason='end_turn', stop_sequence=None, type='message', usage=In: 104; Out: 172; Cache create: 0; Cache read: 0; Total Tokens: 276; Search: 0)"
      ]
     },
     "execution_count": null,
     "metadata": {},
     "output_type": "execute_result"
    }
   ],
   "source": [
    "chat.cont_pr = \"Tell me a little more...\"\n",
    "chat()"
   ]
  },
  {
   "cell_type": "markdown",
   "id": "776b3d1e",
   "metadata": {},
   "source": [
    "We can also use streaming:"
   ]
  },
  {
   "cell_type": "code",
   "execution_count": null,
   "id": "529104ec",
   "metadata": {},
   "outputs": [
    {
     "name": "stdout",
     "output_type": "stream",
     "text": [
      "Hi Jeremy! Nice to meet you. How are you doing today?"
     ]
    }
   ],
   "source": [
    "chat = Chat(model, sp=sp)\n",
    "for o in chat(\"I'm Jeremy\", stream=True): print(o, end='')"
   ]
  },
  {
   "cell_type": "code",
   "execution_count": null,
   "id": "14abb3dc",
   "metadata": {},
   "outputs": [
    {
     "name": "stdout",
     "output_type": "stream",
     "text": [
      "According to Douglas Adams,it's 42. But seriously: to find purpose through connection, growth, and contributing something meaningful to the world."
     ]
    },
    {
     "data": {
      "text/markdown": [
       "According to Douglas Adams,it's 42. But seriously: to find purpose through connection, growth, and contributing something meaningful to the world.\n",
       "\n",
       "<details>\n",
       "\n",
       "- id: `msg_01RjeCEmqLuiCDfoNYhbi2i3`\n",
       "- content: `[{'citations': None, 'text': \"According to Douglas Adams,it's 42. But seriously: to find purpose through connection, growth, and contributing something meaningful to the world.\", 'type': 'text'}]`\n",
       "- model: `claude-sonnet-4-20250514`\n",
       "- role: `assistant`\n",
       "- stop_reason: `end_turn`\n",
       "- stop_sequence: `None`\n",
       "- type: `message`\n",
       "- usage: `{'cache_creation_input_tokens': 0, 'cache_read_input_tokens': 0, 'input_tokens': 54, 'output_tokens': 27, 'server_tool_use': None, 'service_tier': 'standard'}`\n",
       "\n",
       "</details>"
      ],
      "text/plain": [
       "Message(id='msg_01RjeCEmqLuiCDfoNYhbi2i3', content=[TextBlock(citations=None, text=\"According to Douglas Adams,it's 42. But seriously: to find purpose through connection, growth, and contributing something meaningful to the world.\", type='text')], model='claude-sonnet-4-20250514', role='assistant', stop_reason='end_turn', stop_sequence=None, type='message', usage=In: 54; Out: 27; Cache create: 0; Cache read: 0; Total Tokens: 81; Search: 0)"
      ]
     },
     "execution_count": null,
     "metadata": {},
     "output_type": "execute_result"
    }
   ],
   "source": [
    "r = chat(q, prefill=pref, stream=True)\n",
    "for o in r: print(o, end='')\n",
    "r.value"
   ]
  },
  {
   "cell_type": "markdown",
   "id": "0acdca39",
   "metadata": {},
   "source": [
    "You can provide a history of messages to initialise `Chat` with:"
   ]
  },
  {
   "cell_type": "code",
   "execution_count": null,
   "id": "32814e78",
   "metadata": {},
   "outputs": [
    {
     "data": {
      "text/markdown": [
       "I have to admit - I was just making a playful, completely random guess! I actually have no way of knowing your real name since we just started chatting. I was being a bit silly with that very specific (and probably fictional-sounding) name. \n",
       "\n",
       "What's your actual name, if you don't mind me asking? Or if you'd prefer to keep some mystery, that's totally fine too!\n",
       "\n",
       "<details>\n",
       "\n",
       "- id: `msg_01HVEtTNZytpDQotZquYCXpZ`\n",
       "- content: `[{'citations': None, 'text': \"I have to admit - I was just making a playful, completely random guess! I actually have no way of knowing your real name since we just started chatting. I was being a bit silly with that very specific (and probably fictional-sounding) name. \\n\\nWhat's your actual name, if you don't mind me asking? Or if you'd prefer to keep some mystery, that's totally fine too!\", 'type': 'text'}]`\n",
       "- model: `claude-sonnet-4-20250514`\n",
       "- role: `assistant`\n",
       "- stop_reason: `end_turn`\n",
       "- stop_sequence: `None`\n",
       "- type: `message`\n",
       "- usage: `{'cache_creation_input_tokens': 0, 'cache_read_input_tokens': 0, 'input_tokens': 58, 'output_tokens': 89, 'server_tool_use': None, 'service_tier': 'standard'}`\n",
       "\n",
       "</details>"
      ],
      "text/plain": [
       "Message(id='msg_01HVEtTNZytpDQotZquYCXpZ', content=[TextBlock(citations=None, text=\"I have to admit - I was just making a playful, completely random guess! I actually have no way of knowing your real name since we just started chatting. I was being a bit silly with that very specific (and probably fictional-sounding) name. \\n\\nWhat's your actual name, if you don't mind me asking? Or if you'd prefer to keep some mystery, that's totally fine too!\", type='text')], model='claude-sonnet-4-20250514', role='assistant', stop_reason='end_turn', stop_sequence=None, type='message', usage=In: 58; Out: 89; Cache create: 0; Cache read: 0; Total Tokens: 147; Search: 0)"
      ]
     },
     "execution_count": null,
     "metadata": {},
     "output_type": "execute_result"
    }
   ],
   "source": [
    "chat = Chat(model, sp=sp, hist=[\"Can you guess my name?\", \"Hmmm I really don't know. Is it 'Merlin G. Penfolds'?\"])\n",
    "chat('Wow how did you know?')"
   ]
  },
  {
   "cell_type": "markdown",
   "id": "6b40892f",
   "metadata": {},
   "source": [
    "### Chat tool use"
   ]
  },
  {
   "cell_type": "markdown",
   "id": "062f7edf",
   "metadata": {},
   "source": [
    "We automagically get streamlined tool use as well:"
   ]
  },
  {
   "cell_type": "code",
   "execution_count": null,
   "id": "ee6535cf",
   "metadata": {},
   "outputs": [
    {
     "data": {
      "text/plain": [
       "'What is 604542+6458932?'"
      ]
     },
     "execution_count": null,
     "metadata": {},
     "output_type": "execute_result"
    }
   ],
   "source": [
    "pr = f\"What is {a}+{b}?\"\n",
    "pr"
   ]
  },
  {
   "cell_type": "code",
   "execution_count": null,
   "id": "797741c5",
   "metadata": {},
   "outputs": [
    {
     "name": "stdout",
     "output_type": "stream",
     "text": [
      "Finding the sum of 604542 and 6458932\n"
     ]
    },
    {
     "data": {
      "text/markdown": [
       "ToolUseBlock(id='toolu_01U74JJuVhvyXC9U4N9c1CVq', input={'a': 604542, 'b': 6458932}, name='sums', type='tool_use')\n",
       "\n",
       "<details>\n",
       "\n",
       "- id: `msg_012HkVBKfMQMiRWCM4ComLxT`\n",
       "- content: `[{'id': 'toolu_01U74JJuVhvyXC9U4N9c1CVq', 'input': {'a': 604542, 'b': 6458932}, 'name': 'sums', 'type': 'tool_use'}]`\n",
       "- model: `claude-sonnet-4-20250514`\n",
       "- role: `assistant`\n",
       "- stop_reason: `tool_use`\n",
       "- stop_sequence: `None`\n",
       "- type: `message`\n",
       "- usage: `{'cache_creation_input_tokens': 0, 'cache_read_input_tokens': 0, 'input_tokens': 437, 'output_tokens': 72, 'server_tool_use': None, 'service_tier': 'standard'}`\n",
       "\n",
       "</details>"
      ],
      "text/plain": [
       "Message(id='msg_012HkVBKfMQMiRWCM4ComLxT', content=[ToolUseBlock(id='toolu_01U74JJuVhvyXC9U4N9c1CVq', input={'a': 604542, 'b': 6458932}, name='sums', type='tool_use')], model='claude-sonnet-4-20250514', role='assistant', stop_reason='tool_use', stop_sequence=None, type='message', usage=In: 437; Out: 72; Cache create: 0; Cache read: 0; Total Tokens: 509; Search: 0)"
      ]
     },
     "execution_count": null,
     "metadata": {},
     "output_type": "execute_result"
    }
   ],
   "source": [
    "chat = Chat(model, sp=sp, tools=[sums])\n",
    "r = chat(pr)\n",
    "r"
   ]
  },
  {
   "cell_type": "markdown",
   "id": "ff5513be",
   "metadata": {},
   "source": [
    "Now we need to send this result to Claude—calling the object with no parameters tells it to return the tool result to Claude:"
   ]
  },
  {
   "cell_type": "code",
   "execution_count": null,
   "id": "b091eae0",
   "metadata": {},
   "outputs": [
    {
     "data": {
      "text/markdown": [
       "604542 + 6458932 = 7,063,474\n",
       "\n",
       "<details>\n",
       "\n",
       "- id: `msg_01SQVHvdN5QVqekKdsRt15Dr`\n",
       "- content: `[{'citations': None, 'text': '604542 + 6458932 = 7,063,474', 'type': 'text'}]`\n",
       "- model: `claude-sonnet-4-20250514`\n",
       "- role: `assistant`\n",
       "- stop_reason: `end_turn`\n",
       "- stop_sequence: `None`\n",
       "- type: `message`\n",
       "- usage: `{'cache_creation_input_tokens': 0, 'cache_read_input_tokens': 0, 'input_tokens': 530, 'output_tokens': 19, 'server_tool_use': None, 'service_tier': 'standard'}`\n",
       "\n",
       "</details>"
      ],
      "text/plain": [
       "Message(id='msg_01SQVHvdN5QVqekKdsRt15Dr', content=[TextBlock(citations=None, text='604542 + 6458932 = 7,063,474', type='text')], model='claude-sonnet-4-20250514', role='assistant', stop_reason='end_turn', stop_sequence=None, type='message', usage=In: 530; Out: 19; Cache create: 0; Cache read: 0; Total Tokens: 549; Search: 0)"
      ]
     },
     "execution_count": null,
     "metadata": {},
     "output_type": "execute_result"
    }
   ],
   "source": [
    "chat()"
   ]
  },
  {
   "cell_type": "markdown",
   "id": "8e551677",
   "metadata": {},
   "source": [
    "It should be correct, because it actually used our Python function to do the addition. Let's check:"
   ]
  },
  {
   "cell_type": "code",
   "execution_count": null,
   "id": "06bfbf3d",
   "metadata": {},
   "outputs": [
    {
     "data": {
      "text/plain": [
       "7063474"
      ]
     },
     "execution_count": null,
     "metadata": {},
     "output_type": "execute_result"
    }
   ],
   "source": [
    "a+b"
   ]
  },
  {
   "cell_type": "markdown",
   "id": "bb7d69fd",
   "metadata": {},
   "source": [
    "Let's try the same thing with streaming:"
   ]
  },
  {
   "cell_type": "code",
   "execution_count": null,
   "id": "4f141888",
   "metadata": {},
   "outputs": [
    {
     "name": "stdout",
     "output_type": "stream",
     "text": [
      "Finding the sum of 604542 and 6458932\n"
     ]
    }
   ],
   "source": [
    "chat = Chat(model, sp=sp, tools=[sums])\n",
    "r = chat(pr, stream=True)\n",
    "for o in r: print(o, end='')"
   ]
  },
  {
   "cell_type": "markdown",
   "id": "7af474d1",
   "metadata": {},
   "source": [
    "The full message, including tool call details, are in `value`:"
   ]
  },
  {
   "cell_type": "code",
   "execution_count": null,
   "id": "bfc0d5d7",
   "metadata": {},
   "outputs": [
    {
     "data": {
      "text/markdown": [
       "ToolUseBlock(id='toolu_01AbF6szRd8Pqpg2L5tSa1Sh', input={'a': 604542, 'b': 6458932}, name='sums', type='tool_use')\n",
       "\n",
       "<details>\n",
       "\n",
       "- id: `msg_01C4ZfTxseDBMxh1oHQEhrDB`\n",
       "- content: `[{'id': 'toolu_01AbF6szRd8Pqpg2L5tSa1Sh', 'input': {'a': 604542, 'b': 6458932}, 'name': 'sums', 'type': 'tool_use'}]`\n",
       "- model: `claude-sonnet-4-20250514`\n",
       "- role: `assistant`\n",
       "- stop_reason: `tool_use`\n",
       "- stop_sequence: `None`\n",
       "- type: `message`\n",
       "- usage: `{'cache_creation_input_tokens': 0, 'cache_read_input_tokens': 0, 'input_tokens': 437, 'output_tokens': 72, 'server_tool_use': None, 'service_tier': 'standard'}`\n",
       "\n",
       "</details>"
      ],
      "text/plain": [
       "Message(id='msg_01C4ZfTxseDBMxh1oHQEhrDB', content=[ToolUseBlock(id='toolu_01AbF6szRd8Pqpg2L5tSa1Sh', input={'a': 604542, 'b': 6458932}, name='sums', type='tool_use')], model='claude-sonnet-4-20250514', role='assistant', stop_reason='tool_use', stop_sequence=None, type='message', usage=In: 437; Out: 72; Cache create: 0; Cache read: 0; Total Tokens: 509; Search: 0)"
      ]
     },
     "execution_count": null,
     "metadata": {},
     "output_type": "execute_result"
    }
   ],
   "source": [
    "r.value"
   ]
  },
  {
   "cell_type": "code",
   "execution_count": null,
   "id": "bdbfdea5",
   "metadata": {},
   "outputs": [
    {
     "name": "stdout",
     "output_type": "stream",
     "text": [
      "604542 + 6458932 = 7,063,474"
     ]
    }
   ],
   "source": [
    "r = chat(stream=True)\n",
    "for o in r: print(o, end='')"
   ]
  },
  {
   "cell_type": "code",
   "execution_count": null,
   "id": "c208c90e",
   "metadata": {},
   "outputs": [
    {
     "data": {
      "text/markdown": [
       "604542 + 6458932 = 7,063,474\n",
       "\n",
       "<details>\n",
       "\n",
       "- id: `msg_01Jw5u5mwHKzyCM8QzT4bWJ8`\n",
       "- content: `[{'citations': None, 'text': '604542 + 6458932 = 7,063,474', 'type': 'text'}]`\n",
       "- model: `claude-sonnet-4-20250514`\n",
       "- role: `assistant`\n",
       "- stop_reason: `end_turn`\n",
       "- stop_sequence: `None`\n",
       "- type: `message`\n",
       "- usage: `{'cache_creation_input_tokens': 0, 'cache_read_input_tokens': 0, 'input_tokens': 530, 'output_tokens': 19, 'server_tool_use': None, 'service_tier': 'standard'}`\n",
       "\n",
       "</details>"
      ],
      "text/plain": [
       "Message(id='msg_01Jw5u5mwHKzyCM8QzT4bWJ8', content=[TextBlock(citations=None, text='604542 + 6458932 = 7,063,474', type='text')], model='claude-sonnet-4-20250514', role='assistant', stop_reason='end_turn', stop_sequence=None, type='message', usage=In: 530; Out: 19; Cache create: 0; Cache read: 0; Total Tokens: 549; Search: 0)"
      ]
     },
     "execution_count": null,
     "metadata": {},
     "output_type": "execute_result"
    }
   ],
   "source": [
    "r.value"
   ]
  },
  {
   "cell_type": "markdown",
   "id": "1b54446a",
   "metadata": {},
   "source": [
    "The history shows both the tool_use and tool_result messages:"
   ]
  },
  {
   "cell_type": "code",
   "execution_count": null,
   "id": "15860ba0",
   "metadata": {},
   "outputs": [
    {
     "data": {
      "text/plain": [
       "[{'role': 'user', 'content': 'What is 604542+6458932?'},\n",
       " {'role': 'assistant',\n",
       "  'content': [{'id': 'toolu_01AbF6szRd8Pqpg2L5tSa1Sh',\n",
       "    'input': {'a': 604542, 'b': 6458932},\n",
       "    'name': 'sums',\n",
       "    'type': 'tool_use'}]},\n",
       " {'role': 'user',\n",
       "  'content': [{'type': 'tool_result',\n",
       "    'tool_use_id': 'toolu_01AbF6szRd8Pqpg2L5tSa1Sh',\n",
       "    'content': 'MySum(val=7063474)'}]},\n",
       " {'role': 'assistant',\n",
       "  'content': [{'citations': None,\n",
       "    'text': '604542 + 6458932 = 7,063,474',\n",
       "    'type': 'text'}]}]"
      ]
     },
     "execution_count": null,
     "metadata": {},
     "output_type": "execute_result"
    }
   ],
   "source": [
    "chat.h"
   ]
  },
  {
   "cell_type": "markdown",
   "id": "445b2aa2",
   "metadata": {},
   "source": [
    "Let's test a function with user defined types."
   ]
  },
  {
   "cell_type": "code",
   "execution_count": null,
   "id": "d4db78d9",
   "metadata": {},
   "outputs": [
    {
     "data": {
      "text/markdown": [
       "ToolUseBlock(id='toolu_01Cj5QwU5ngN11dM3pichPhV', input={'book': {'title': 'Tao Te Ching', 'pages': 80}, 'percent': 75}, name='find_page', type='tool_use')\n",
       "\n",
       "<details>\n",
       "\n",
       "- id: `msg_01Qwd1EEGV7uCVQ7EwiwYPgK`\n",
       "- content: `[{'id': 'toolu_01Cj5QwU5ngN11dM3pichPhV', 'input': {'book': {'title': 'Tao Te Ching', 'pages': 80}, 'percent': 75}, 'name': 'find_page', 'type': 'tool_use'}]`\n",
       "- model: `claude-sonnet-4-20250514`\n",
       "- role: `assistant`\n",
       "- stop_reason: `tool_use`\n",
       "- stop_sequence: `None`\n",
       "- type: `message`\n",
       "- usage: `{'cache_creation_input_tokens': 0, 'cache_read_input_tokens': 0, 'input_tokens': 547, 'output_tokens': 86, 'server_tool_use': None, 'service_tier': 'standard'}`\n",
       "\n",
       "</details>"
      ],
      "text/plain": [
       "Message(id='msg_01Qwd1EEGV7uCVQ7EwiwYPgK', content=[ToolUseBlock(id='toolu_01Cj5QwU5ngN11dM3pichPhV', input={'book': {'title': 'Tao Te Ching', 'pages': 80}, 'percent': 75}, name='find_page', type='tool_use')], model='claude-sonnet-4-20250514', role='assistant', stop_reason='tool_use', stop_sequence=None, type='message', usage=In: 547; Out: 86; Cache create: 0; Cache read: 0; Total Tokens: 633; Search: 0)"
      ]
     },
     "execution_count": null,
     "metadata": {},
     "output_type": "execute_result"
    }
   ],
   "source": [
    "chat = Chat(model, sp=sp, tools=[find_page])\n",
    "r = chat(\"How many pages is three quarters of the way through my 80 page edition of Tao Te Ching?\")\n",
    "r"
   ]
  },
  {
   "cell_type": "code",
   "execution_count": null,
   "id": "0979c832",
   "metadata": {},
   "outputs": [
    {
     "data": {
      "text/markdown": [
       "Three quarters of the way through your 80-page edition of Tao Te Ching would be page 60.\n",
       "\n",
       "<details>\n",
       "\n",
       "- id: `msg_015WU96Vc8WpV3k32gFBhYhJ`\n",
       "- content: `[{'citations': None, 'text': 'Three quarters of the way through your 80-page edition of Tao Te Ching would be page 60.', 'type': 'text'}]`\n",
       "- model: `claude-sonnet-4-20250514`\n",
       "- role: `assistant`\n",
       "- stop_reason: `end_turn`\n",
       "- stop_sequence: `None`\n",
       "- type: `message`\n",
       "- usage: `{'cache_creation_input_tokens': 0, 'cache_read_input_tokens': 0, 'input_tokens': 647, 'output_tokens': 29, 'server_tool_use': None, 'service_tier': 'standard'}`\n",
       "\n",
       "</details>"
      ],
      "text/plain": [
       "Message(id='msg_015WU96Vc8WpV3k32gFBhYhJ', content=[TextBlock(citations=None, text='Three quarters of the way through your 80-page edition of Tao Te Ching would be page 60.', type='text')], model='claude-sonnet-4-20250514', role='assistant', stop_reason='end_turn', stop_sequence=None, type='message', usage=In: 647; Out: 29; Cache create: 0; Cache read: 0; Total Tokens: 676; Search: 0)"
      ]
     },
     "execution_count": null,
     "metadata": {},
     "output_type": "execute_result"
    }
   ],
   "source": [
    "chat()"
   ]
  },
  {
   "cell_type": "code",
   "execution_count": null,
   "id": "49c3a35a",
   "metadata": {},
   "outputs": [],
   "source": [
    "#| exports\n",
    "@patch\n",
    "def _repr_markdown_(self:Chat):\n",
    "    if not hasattr(self.c, 'result'): return 'No results yet'\n",
    "    last_msg = contents(self.c.result)\n",
    "    \n",
    "    def fmt_msg(m):\n",
    "        t = contents(m)\n",
    "        if isinstance(t, dict): return t['content']\n",
    "        return t\n",
    "        \n",
    "    history = '\\n\\n'.join(f\"**{m['role']}**: {fmt_msg(m)}\" \n",
    "                         for m in self.h)\n",
    "    det = self.c._repr_markdown_().split('\\n\\n')[-1]\n",
    "    if history: history = f\"\"\"\n",
    "<details>\n",
    "<summary>► History</summary>\n",
    "\n",
    "{history}\n",
    "\n",
    "</details>\n",
    "\"\"\"\n",
    "\n",
    "    return f\"\"\"{last_msg}\n",
    "{history}\n",
    "{det}\"\"\""
   ]
  },
  {
   "cell_type": "code",
   "execution_count": null,
   "id": "caad2e3a",
   "metadata": {},
   "outputs": [],
   "source": [
    "# TODO: fix history format"
   ]
  },
  {
   "cell_type": "code",
   "execution_count": null,
   "id": "2baedd52",
   "metadata": {},
   "outputs": [
    {
     "data": {
      "text/markdown": [
       "Three quarters of the way through your 80-page edition of Tao Te Ching would be page 60.\n",
       "\n",
       "<details>\n",
       "<summary>► History</summary>\n",
       "\n",
       "**user**: H\n",
       "\n",
       "**assistant**: {'id': 'toolu_01Cj5QwU5ngN11dM3pichPhV', 'input': {'book': {'title': 'Tao Te Ching', 'pages': 80}, 'percent': 75}, 'name': 'find_page', 'type': 'tool_use'}\n",
       "\n",
       "**user**: 60\n",
       "\n",
       "**assistant**: Three quarters of the way through your 80-page edition of Tao Te Ching would be page 60.\n",
       "\n",
       "</details>\n",
       "\n",
       "| Metric | Count | Cost (USD) |\n",
       "|--------|------:|-----:|\n",
       "| Input tokens | 1,194 | 0.003582 |\n",
       "| Output tokens | 115 | 0.001725 |\n",
       "| Cache tokens | 0 | 0.000000 |\n",
       "| Server tool use | 0 | 0.000000 |\n",
       "| **Total** | **1,309** | **$0.005307** |"
      ],
      "text/plain": [
       "<__main__.Chat>"
      ]
     },
     "execution_count": null,
     "metadata": {},
     "output_type": "execute_result"
    }
   ],
   "source": [
    "chat"
   ]
  },
  {
   "cell_type": "code",
   "execution_count": null,
   "id": "c76a22fb",
   "metadata": {},
   "outputs": [],
   "source": [
    "chat = Chat(model, tools=[text_editor_conf['sonnet']], ns=mk_ns(str_replace_based_edit_tool))"
   ]
  },
  {
   "cell_type": "markdown",
   "id": "157d057f",
   "metadata": {},
   "source": [
    "When not providing tools directly as Python functions (like `sum`), you **must** create and pass a namespace dictionary (mapping the tool name string to the function object) using the `ns` parameter to methods like `mk_toolres` or `toolloop`. `toolslm` cannot automatically generate the namespace in this case. For schema-based tools (i.e., Python functions), `claudette` handles namespace creation automatically."
   ]
  },
  {
   "cell_type": "code",
   "execution_count": null,
   "id": "ebbd0cd2",
   "metadata": {},
   "outputs": [
    {
     "data": {
      "text/plain": [
       "ToolUseBlock(id='toolu_01J3Yic67MMiRAFXMUc6mtpP', input={'command': 'view', 'path': '_quarto.yml'}, name='str_replace_based_edit_tool', type='tool_use')"
      ]
     },
     "execution_count": null,
     "metadata": {},
     "output_type": "execute_result"
    }
   ],
   "source": [
    "r = chat('Please explain very concisely what my _quarto.yml does. It is in the current path. Use your tools')\n",
    "find_block(r, ToolUseBlock)"
   ]
  },
  {
   "cell_type": "code",
   "execution_count": null,
   "id": "0b7717a8",
   "metadata": {},
   "outputs": [
    {
     "data": {
      "text/markdown": [
       "Your `_quarto.yml` configures a Quarto website with:\n",
       "\n",
       "- **Website type** with custom preview on port 3000\n",
       "- **HTML styling**: Cosmo theme, custom CSS, table of contents, code tools, and wide layout (1800px body)\n",
       "- **Navigation**: Primary navbar with search, floating sidebar\n",
       "- **Social**: Twitter cards and Open Graph enabled\n",
       "- **Resources**: Includes .txt files and metadata from nbdev.yml/sidebar.yml\n",
       "- **Output**: Keeps markdown files and supports CommonMark format\n",
       "\n",
       "It's set up for a documentation/blog website with code-friendly features and social media integration.\n",
       "\n",
       "<details>\n",
       "\n",
       "- id: `msg_012cWCtebLNKzTPYJjbGJepj`\n",
       "- content: `[{'citations': None, 'text': \"Your `_quarto.yml` configures a Quarto website with:\\n\\n- **Website type** with custom preview on port 3000\\n- **HTML styling**: Cosmo theme, custom CSS, table of contents, code tools, and wide layout (1800px body)\\n- **Navigation**: Primary navbar with search, floating sidebar\\n- **Social**: Twitter cards and Open Graph enabled\\n- **Resources**: Includes .txt files and metadata from nbdev.yml/sidebar.yml\\n- **Output**: Keeps markdown files and supports CommonMark format\\n\\nIt's set up for a documentation/blog website with code-friendly features and social media integration.\", 'type': 'text'}]`\n",
       "- model: `claude-sonnet-4-20250514`\n",
       "- role: `assistant`\n",
       "- stop_reason: `end_turn`\n",
       "- stop_sequence: `None`\n",
       "- type: `message`\n",
       "- usage: `{'cache_creation_input_tokens': 0, 'cache_read_input_tokens': 0, 'input_tokens': 1443, 'output_tokens': 144, 'server_tool_use': None, 'service_tier': 'standard'}`\n",
       "\n",
       "</details>"
      ],
      "text/plain": [
       "Message(id='msg_012cWCtebLNKzTPYJjbGJepj', content=[TextBlock(citations=None, text=\"Your `_quarto.yml` configures a Quarto website with:\\n\\n- **Website type** with custom preview on port 3000\\n- **HTML styling**: Cosmo theme, custom CSS, table of contents, code tools, and wide layout (1800px body)\\n- **Navigation**: Primary navbar with search, floating sidebar\\n- **Social**: Twitter cards and Open Graph enabled\\n- **Resources**: Includes .txt files and metadata from nbdev.yml/sidebar.yml\\n- **Output**: Keeps markdown files and supports CommonMark format\\n\\nIt's set up for a documentation/blog website with code-friendly features and social media integration.\", type='text')], model='claude-sonnet-4-20250514', role='assistant', stop_reason='end_turn', stop_sequence=None, type='message', usage=In: 1443; Out: 144; Cache create: 0; Cache read: 0; Total Tokens: 1587; Search: 0)"
      ]
     },
     "execution_count": null,
     "metadata": {},
     "output_type": "execute_result"
    }
   ],
   "source": [
    "chat()"
   ]
  },
  {
   "cell_type": "markdown",
   "id": "df1dd4c3",
   "metadata": {},
   "source": [
    "## Images"
   ]
  },
  {
   "cell_type": "markdown",
   "id": "cf741dbc",
   "metadata": {},
   "source": [
    "Claude can handle image data as well. As everyone knows, when testing image APIs you have to use a cute puppy."
   ]
  },
  {
   "cell_type": "code",
   "execution_count": null,
   "id": "5d35d564",
   "metadata": {},
   "outputs": [
    {
     "data": {
      "image/jpeg": "[encoded data removed]",
      "text/plain": [
       "<IPython.core.display.Image object>"
      ]
     },
     "execution_count": null,
     "metadata": {
      "image/jpeg": {
       "width": 200
      }
     },
     "output_type": "execute_result"
    }
   ],
   "source": [
    "# Image is Cute_dog.jpg from Wikimedia\n",
    "fn = Path('samples/puppy.jpg')\n",
    "Image(filename=fn, width=200)"
   ]
  },
  {
   "cell_type": "code",
   "execution_count": null,
   "id": "d120d8fb",
   "metadata": {},
   "outputs": [],
   "source": [
    "img = fn.read_bytes()"
   ]
  },
  {
   "cell_type": "markdown",
   "id": "3e2937df",
   "metadata": {},
   "source": [
    "Claude expects an image message to have the following structure\n",
    "\n",
    "```js\n",
    "{\n",
    "    'role': 'user', \n",
    "    'content': [\n",
    "        {'type':'text', 'text':'What is in the image?'},\n",
    "        {\n",
    "            'type':'image', \n",
    "            'source': {\n",
    "                'type':'base64', 'media_type':'media_type', 'data': 'data'\n",
    "            }\n",
    "        }\n",
    "    ]\n",
    "}\n",
    "```\n",
    "`msglm` automatically detects if a message is an image, encodes it, and generates the data structure above.\n",
    "All we need to do is a create a list containing our image and a query and then pass it to `mk_msg`.\n",
    "\n",
    "Let's try it out..."
   ]
  },
  {
   "cell_type": "code",
   "execution_count": null,
   "id": "db8339ac",
   "metadata": {},
   "outputs": [],
   "source": [
    "q = \"In brief, what color flowers are in this image?\"\n",
    "msg = mk_msg([img, q])"
   ]
  },
  {
   "cell_type": "code",
   "execution_count": null,
   "id": "69acc8c7",
   "metadata": {},
   "outputs": [
    {
     "data": {
      "text/markdown": [
       "The flowers in this image are purple.\n",
       "\n",
       "<details>\n",
       "\n",
       "- id: `msg_01RcR3QwncJWWCjC9mNN1ekk`\n",
       "- content: `[{'citations': None, 'text': 'The flowers in this image are purple.', 'type': 'text'}]`\n",
       "- model: `claude-sonnet-4-20250514`\n",
       "- role: `assistant`\n",
       "- stop_reason: `end_turn`\n",
       "- stop_sequence: `None`\n",
       "- type: `message`\n",
       "- usage: `{'cache_creation_input_tokens': 0, 'cache_read_input_tokens': 0, 'input_tokens': 110, 'output_tokens': 11, 'server_tool_use': None, 'service_tier': 'standard'}`\n",
       "\n",
       "</details>"
      ],
      "text/plain": [
       "Message(id='msg_01RcR3QwncJWWCjC9mNN1ekk', content=[TextBlock(citations=None, text='The flowers in this image are purple.', type='text')], model='claude-sonnet-4-20250514', role='assistant', stop_reason='end_turn', stop_sequence=None, type='message', usage=In: 110; Out: 11; Cache create: 0; Cache read: 0; Total Tokens: 121; Search: 0)"
      ]
     },
     "execution_count": null,
     "metadata": {},
     "output_type": "execute_result"
    }
   ],
   "source": [
    "c([msg])"
   ]
  },
  {
   "cell_type": "markdown",
   "id": "09be3d09",
   "metadata": {},
   "source": [
    "You don't need to call `mk_msg` on each individual message before passing them to the `Chat` class. Instead you can pass your messages in a list and the `Chat` class will automatically call `mk_msgs` in the background. \n",
    "\n",
    "```python\n",
    "c([\"How are you?\", r])\n",
    "```\n",
    "\n",
    "For messages that contain multiple content types (like an image with a question), you'll need to enclose the message contents in a list as shown below:\n",
    "\n",
    "```python\n",
    "c([\"How are you?\", r, [img, q]])\n",
    "```"
   ]
  },
  {
   "cell_type": "code",
   "execution_count": null,
   "id": "73ce3789",
   "metadata": {},
   "outputs": [
    {
     "data": {
      "text/markdown": [
       "The flowers in this image are purple.\n",
       "\n",
       "<details>\n",
       "\n",
       "- id: `msg_011qMW41mTWqMxwvWvL2XfNP`\n",
       "- content: `[{'citations': None, 'text': 'The flowers in this image are purple.', 'type': 'text'}]`\n",
       "- model: `claude-sonnet-4-20250514`\n",
       "- role: `assistant`\n",
       "- stop_reason: `end_turn`\n",
       "- stop_sequence: `None`\n",
       "- type: `message`\n",
       "- usage: `{'cache_creation_input_tokens': 0, 'cache_read_input_tokens': 0, 'input_tokens': 110, 'output_tokens': 11, 'server_tool_use': None, 'service_tier': 'standard'}`\n",
       "\n",
       "</details>"
      ],
      "text/plain": [
       "Message(id='msg_011qMW41mTWqMxwvWvL2XfNP', content=[TextBlock(citations=None, text='The flowers in this image are purple.', type='text')], model='claude-sonnet-4-20250514', role='assistant', stop_reason='end_turn', stop_sequence=None, type='message', usage=In: 110; Out: 11; Cache create: 0; Cache read: 0; Total Tokens: 121; Search: 0)"
      ]
     },
     "execution_count": null,
     "metadata": {},
     "output_type": "execute_result"
    }
   ],
   "source": [
    "c = Chat(model)\n",
    "c([img, q])"
   ]
  },
  {
   "cell_type": "code",
   "execution_count": null,
   "id": "496178d9",
   "metadata": {},
   "outputs": [],
   "source": [
    "def contents(r):\n",
    "    \"Helper to get the contents from Claude response `r`.\"\n",
    "    blk = find_block(r)\n",
    "    if not blk and r.content: blk = r.content[0]\n",
    "    if hasattr(blk,'text'): return blk.text.strip()\n",
    "    elif hasattr(blk,'content'): return blk.content.strip()\n",
    "    elif hasattr(blk,'source'): return f'*Media Type - {blk.type}*'\n",
    "    return str(blk)"
   ]
  },
  {
   "cell_type": "code",
   "execution_count": null,
   "id": "8b9d8064",
   "metadata": {},
   "outputs": [
    {
     "data": {
      "text/plain": [
       "'*Media Type - image*'"
      ]
     },
     "execution_count": null,
     "metadata": {},
     "output_type": "execute_result"
    }
   ],
   "source": [
    "contents(c.h[0])"
   ]
  },
  {
   "cell_type": "code",
   "execution_count": null,
   "id": "3eb5f016",
   "metadata": {},
   "outputs": [
    {
     "data": {
      "text/markdown": [
       "The flowers in this image are purple.\n",
       "\n",
       "<details>\n",
       "<summary>► History</summary>\n",
       "\n",
       "**user**: *Media Type - image*\n",
       "\n",
       "**assistant**: The flowers in this image are purple.\n",
       "\n",
       "</details>\n",
       "\n",
       "| Metric | Count | Cost (USD) |\n",
       "|--------|------:|-----:|\n",
       "| Input tokens | 110 | 0.000330 |\n",
       "| Output tokens | 11 | 0.000165 |\n",
       "| Cache tokens | 0 | 0.000000 |\n",
       "| Server tool use | 0 | 0.000000 |\n",
       "| **Total** | **121** | **$0.000495** |"
      ],
      "text/plain": [
       "<__main__.Chat>"
      ]
     },
     "execution_count": null,
     "metadata": {},
     "output_type": "execute_result"
    }
   ],
   "source": [
    "c"
   ]
  },
  {
   "cell_type": "markdown",
   "id": "00482861",
   "metadata": {},
   "source": [
    ":::{.callout-note}\n",
    "\n",
    "Unfortunately, not all Claude models support images 😞. This [table](https://docs.anthropic.com/en/docs/about-claude/models#model-comparison-table) summarizes the capabilities of each Claude model and the different modalities they support.\n",
    "\n",
    ":::"
   ]
  },
  {
   "cell_type": "markdown",
   "id": "abd9dbe9",
   "metadata": {},
   "source": [
    "## Caching"
   ]
  },
  {
   "cell_type": "markdown",
   "id": "026fb70e",
   "metadata": {},
   "source": [
    "Claude supports context caching by adding a `cache_control` header to the message content.\n",
    "\n",
    "```js\n",
    "{\n",
    "    \"role\": \"user\",\n",
    "    \"content\": [\n",
    "        {\n",
    "            \"type\": \"text\", \n",
    "            \"text\": \"Please cache my message\", \n",
    "            \"cache_control\": {\"type\": \"ephemeral\"}\n",
    "        }\n",
    "    ]\n",
    "}\n",
    "```\n",
    "\n",
    "To cache a message, we simply set `cache=True` when calling `mk_msg`."
   ]
  },
  {
   "cell_type": "code",
   "execution_count": null,
   "id": "19a9d3e1",
   "metadata": {},
   "outputs": [
    {
     "data": {
      "text/markdown": [
       "```json\n",
       "{ 'content': [ {'text': 'hi', 'type': 'text'},\n",
       "               { 'cache_control': {'type': 'ephemeral'},\n",
       "                 'text': 'there',\n",
       "                 'type': 'text'}],\n",
       "  'role': 'user'}\n",
       "```"
      ],
      "text/plain": [
       "{'role': 'user',\n",
       " 'content': [{'type': 'text', 'text': 'hi'},\n",
       "  {'type': 'text', 'text': 'there', 'cache_control': {'type': 'ephemeral'}}]}"
      ]
     },
     "execution_count": null,
     "metadata": {},
     "output_type": "execute_result"
    }
   ],
   "source": [
    "mk_msg(['hi', 'there'], cache=True)"
   ]
  },
  {
   "cell_type": "markdown",
   "id": "e412abd5",
   "metadata": {},
   "source": [
    "Claude also now supports smart cache look-ups, so it's very simple to keep an entire conversation in cache by constantly telling it to update the cache with the latest message. To do this, we just need to set `cache=True` when creating a `Chat`."
   ]
  },
  {
   "cell_type": "code",
   "execution_count": null,
   "id": "5eb7bed0",
   "metadata": {},
   "outputs": [],
   "source": [
    "chat = Chat(model, sp=sp, cache=True)"
   ]
  },
  {
   "cell_type": "markdown",
   "id": "745a3182",
   "metadata": {},
   "source": [
    "Caching has a minimum token limit of 1024 tokens for Sonnet and Opus, and 2048 for Haiku. If your conversation is below this limit, it will not be cached."
   ]
  },
  {
   "cell_type": "code",
   "execution_count": null,
   "id": "ed6e5fe2",
   "metadata": {},
   "outputs": [
    {
     "data": {
      "text/markdown": [
       "Hi Jeremy! Nice to meet you. How are you doing today?\n",
       "\n",
       "<details>\n",
       "\n",
       "- id: `msg_01GZTPnYeZMhTeF9gg6bTSbn`\n",
       "- content: `[{'citations': None, 'text': 'Hi Jeremy! Nice to meet you. How are you doing today?', 'type': 'text'}]`\n",
       "- model: `claude-sonnet-4-20250514`\n",
       "- role: `assistant`\n",
       "- stop_reason: `end_turn`\n",
       "- stop_sequence: `None`\n",
       "- type: `message`\n",
       "- usage: `{'cache_creation_input_tokens': 0, 'cache_read_input_tokens': 0, 'input_tokens': 20, 'output_tokens': 17, 'server_tool_use': None, 'service_tier': 'standard'}`\n",
       "\n",
       "</details>"
      ],
      "text/plain": [
       "Message(id='msg_01GZTPnYeZMhTeF9gg6bTSbn', content=[TextBlock(citations=None, text='Hi Jeremy! Nice to meet you. How are you doing today?', type='text')], model='claude-sonnet-4-20250514', role='assistant', stop_reason='end_turn', stop_sequence=None, type='message', usage=In: 20; Out: 17; Cache create: 0; Cache read: 0; Total Tokens: 37; Search: 0)"
      ]
     },
     "execution_count": null,
     "metadata": {},
     "output_type": "execute_result"
    }
   ],
   "source": [
    "chat(\"Hi, I'm Jeremy.\")"
   ]
  },
  {
   "cell_type": "code",
   "execution_count": null,
   "id": "51fc2c82",
   "metadata": {},
   "outputs": [
    {
     "data": {
      "text/plain": [
       "In: 20; Out: 17; Cache create: 0; Cache read: 0; Total Tokens: 37; Search: 0"
      ]
     },
     "execution_count": null,
     "metadata": {},
     "output_type": "execute_result"
    }
   ],
   "source": [
    "chat.use"
   ]
  },
  {
   "cell_type": "markdown",
   "id": "4762e29d",
   "metadata": {},
   "source": [
    "Note the usage: no cache is created, nor used. Now, let's send a long enough message to trigger caching."
   ]
  },
  {
   "cell_type": "code",
   "execution_count": null,
   "id": "e870355c",
   "metadata": {},
   "outputs": [
    {
     "data": {
      "text/markdown": [
       "I see you've sent a very long block of \"Lorem ipsum\" placeholder text! That's quite a wall of text there, Jeremy. \n",
       "\n",
       "Are you testing something, or did you perhaps copy and paste that by accident? I'm happy to help with whatever you actually wanted to discuss or ask about.\n",
       "\n",
       "<details>\n",
       "\n",
       "- id: `msg_01MA61sEpYcmHX36T2SUHQaC`\n",
       "- content: `[{'citations': None, 'text': 'I see you\\'ve sent a very long block of \"Lorem ipsum\" placeholder text! That\\'s quite a wall of text there, Jeremy. \\n\\nAre you testing something, or did you perhaps copy and paste that by accident? I\\'m happy to help with whatever you actually wanted to discuss or ask about.', 'type': 'text'}]`\n",
       "- model: `claude-sonnet-4-20250514`\n",
       "- role: `assistant`\n",
       "- stop_reason: `end_turn`\n",
       "- stop_sequence: `None`\n",
       "- type: `message`\n",
       "- usage: `{'cache_creation_input_tokens': 1084, 'cache_read_input_tokens': 0, 'input_tokens': 4, 'output_tokens': 65, 'server_tool_use': None, 'service_tier': 'standard'}`\n",
       "\n",
       "</details>"
      ],
      "text/plain": [
       "Message(id='msg_01MA61sEpYcmHX36T2SUHQaC', content=[TextBlock(citations=None, text='I see you\\'ve sent a very long block of \"Lorem ipsum\" placeholder text! That\\'s quite a wall of text there, Jeremy. \\n\\nAre you testing something, or did you perhaps copy and paste that by accident? I\\'m happy to help with whatever you actually wanted to discuss or ask about.', type='text')], model='claude-sonnet-4-20250514', role='assistant', stop_reason='end_turn', stop_sequence=None, type='message', usage=In: 4; Out: 65; Cache create: 1084; Cache read: 0; Total Tokens: 1153; Search: 0)"
      ]
     },
     "execution_count": null,
     "metadata": {},
     "output_type": "execute_result"
    }
   ],
   "source": [
    "chat(\"\"\"Lorem ipsum dolor sit amet\"\"\" * 150)"
   ]
  },
  {
   "cell_type": "code",
   "execution_count": null,
   "id": "f79eeb82",
   "metadata": {},
   "outputs": [
    {
     "data": {
      "text/plain": [
       "In: 24; Out: 82; Cache create: 1084; Cache read: 0; Total Tokens: 1190; Search: 0"
      ]
     },
     "execution_count": null,
     "metadata": {},
     "output_type": "execute_result"
    }
   ],
   "source": [
    "chat.use"
   ]
  },
  {
   "cell_type": "markdown",
   "id": "0b7a7036",
   "metadata": {},
   "source": [
    "The context is now long enough for cache to be used. All the conversation history has now been written to the temporary cache. Any subsequent message will read from it rather than re-processing the entire conversation history."
   ]
  },
  {
   "cell_type": "code",
   "execution_count": null,
   "id": "1dc2286e",
   "metadata": {},
   "outputs": [
    {
     "data": {
      "text/markdown": [
       "No worries at all, Jeremy! Those lorem ipsum generators can definitely get a bit enthusiastic sometimes. It happens to the best of us - one minute you need a little placeholder text, the next minute you've got enough to fill a small novel!\n",
       "\n",
       "Is there something I can actually help you with today, or were you just testing things out?\n",
       "\n",
       "<details>\n",
       "\n",
       "- id: `msg_01VyacYxPkVjjWeMUMXmNDAK`\n",
       "- content: `[{'citations': None, 'text': \"No worries at all, Jeremy! Those lorem ipsum generators can definitely get a bit enthusiastic sometimes. It happens to the best of us - one minute you need a little placeholder text, the next minute you've got enough to fill a small novel!\\n\\nIs there something I can actually help you with today, or were you just testing things out?\", 'type': 'text'}]`\n",
       "- model: `claude-sonnet-4-20250514`\n",
       "- role: `assistant`\n",
       "- stop_reason: `end_turn`\n",
       "- stop_sequence: `None`\n",
       "- type: `message`\n",
       "- usage: `{'cache_creation_input_tokens': 83, 'cache_read_input_tokens': 1084, 'input_tokens': 4, 'output_tokens': 74, 'server_tool_use': None, 'service_tier': 'standard'}`\n",
       "\n",
       "</details>"
      ],
      "text/plain": [
       "Message(id='msg_01VyacYxPkVjjWeMUMXmNDAK', content=[TextBlock(citations=None, text=\"No worries at all, Jeremy! Those lorem ipsum generators can definitely get a bit enthusiastic sometimes. It happens to the best of us - one minute you need a little placeholder text, the next minute you've got enough to fill a small novel!\\n\\nIs there something I can actually help you with today, or were you just testing things out?\", type='text')], model='claude-sonnet-4-20250514', role='assistant', stop_reason='end_turn', stop_sequence=None, type='message', usage=In: 4; Out: 74; Cache create: 83; Cache read: 1084; Total Tokens: 1245; Search: 0)"
      ]
     },
     "execution_count": null,
     "metadata": {},
     "output_type": "execute_result"
    }
   ],
   "source": [
    "chat(\"Oh thank you! Sorry, my lorem ipsum generator got out of control!\")"
   ]
  },
  {
   "cell_type": "code",
   "execution_count": null,
   "id": "18f86124",
   "metadata": {},
   "outputs": [
    {
     "data": {
      "text/plain": [
       "In: 28; Out: 156; Cache create: 1167; Cache read: 1084; Total Tokens: 2435; Search: 0"
      ]
     },
     "execution_count": null,
     "metadata": {},
     "output_type": "execute_result"
    }
   ],
   "source": [
    "chat.use"
   ]
  },
  {
   "cell_type": "markdown",
   "id": "3d162fca",
   "metadata": {},
   "source": [
    "## Extended Thinking"
   ]
  },
  {
   "cell_type": "markdown",
   "id": "11327638",
   "metadata": {},
   "source": [
    "Claude >=3.7 Sonnet & Opus have enhanced reasoning capabilities for complex tasks. See [docs](https://docs.anthropic.com/en/docs/build-with-claude/extended-thinking) for more info.\n",
    "\n",
    "We can enable extended thinking by passing a `thinking` param with the following structure.\n",
    "\n",
    "```js\n",
    "thinking={ \"type\": \"enabled\", \"budget_tokens\": 16000 }\n",
    "```\n",
    "\n",
    "When extended thinking is enabled a thinking block is included in the response as shown below.\n",
    "\n",
    "```js\n",
    "{\n",
    "  \"content\": [\n",
    "    {\n",
    "      \"type\": \"thinking\",\n",
    "      \"thinking\": \"To approach this, let's think about...\",\n",
    "      \"signature\": \"Imtakcjsu38219c0.eyJoYXNoIjoiYWJjM0NTY3fQ....\"\n",
    "    },\n",
    "    {\n",
    "      \"type\": \"text\",\n",
    "      \"text\": \"Yes, there are infinitely many prime numbers such that...\"\n",
    "    }\n",
    "  ]\n",
    "}\n",
    "```\n",
    "\n",
    "*Note: When thinking is [enabled](https://docs.anthropic.com/en/docs/build-with-claude/extended-thinking#important-considerations-when-using-extended-thinking) `prefill` must be empty and the `temp` must be 1.*"
   ]
  },
  {
   "cell_type": "code",
   "execution_count": null,
   "id": "c399a36e",
   "metadata": {},
   "outputs": [],
   "source": [
    "#| export\n",
    "def think_md(txt, thk):\n",
    "    return f\"\"\"\n",
    "{txt}\n",
    "\n",
    "<details>\n",
    "<summary>Thinking</summary>\n",
    "{thk}\n",
    "</details>\n",
    "\"\"\""
   ]
  },
  {
   "cell_type": "code",
   "execution_count": null,
   "id": "bd68ca17",
   "metadata": {},
   "outputs": [],
   "source": [
    "def contents(r, show_thk=True):\n",
    "    \"Helper to get the contents from Claude response `r`.\"\n",
    "    blk = find_block(r)\n",
    "    if show_thk:\n",
    "        tk_blk = find_block(r, blk_type=ThinkingBlock)\n",
    "        if tk_blk: return think_md(blk.text.strip(), tk_blk.thinking.strip())\n",
    "    if not blk and r.content: blk = r.content[0]\n",
    "    if hasattr(blk,'text'): return blk.text.strip()\n",
    "    elif hasattr(blk,'content'): return blk.content.strip()\n",
    "    elif hasattr(blk,'source'): return f'*Media Type - {blk.type}*'\n",
    "    return str(blk)"
   ]
  },
  {
   "cell_type": "markdown",
   "id": "4e66607b",
   "metadata": {},
   "source": [
    "Let's call the model without extended thinking enabled. "
   ]
  },
  {
   "cell_type": "code",
   "execution_count": null,
   "id": "adc3e86f",
   "metadata": {},
   "outputs": [],
   "source": [
    "chat = Chat(model)"
   ]
  },
  {
   "cell_type": "code",
   "execution_count": null,
   "id": "b7911771",
   "metadata": {},
   "outputs": [
    {
     "data": {
      "text/markdown": [
       "Python is a versatile, high-level programming language known for its readable syntax and extensive libraries, making it popular for everything from web development and data science to artificial intelligence and automation.\n",
       "\n",
       "<details>\n",
       "\n",
       "- id: `msg_012cyWXxivmLU7BRRnWF8ggk`\n",
       "- content: `[{'citations': None, 'text': 'Python is a versatile, high-level programming language known for its readable syntax and extensive libraries, making it popular for everything from web development and data science to artificial intelligence and automation.', 'type': 'text'}]`\n",
       "- model: `claude-sonnet-4-20250514`\n",
       "- role: `assistant`\n",
       "- stop_reason: `end_turn`\n",
       "- stop_sequence: `None`\n",
       "- type: `message`\n",
       "- usage: `{'cache_creation_input_tokens': 0, 'cache_read_input_tokens': 0, 'input_tokens': 13, 'output_tokens': 40, 'server_tool_use': None, 'service_tier': 'standard'}`\n",
       "\n",
       "</details>"
      ],
      "text/plain": [
       "Message(id='msg_012cyWXxivmLU7BRRnWF8ggk', content=[TextBlock(citations=None, text='Python is a versatile, high-level programming language known for its readable syntax and extensive libraries, making it popular for everything from web development and data science to artificial intelligence and automation.', type='text')], model='claude-sonnet-4-20250514', role='assistant', stop_reason='end_turn', stop_sequence=None, type='message', usage=In: 13; Out: 40; Cache create: 0; Cache read: 0; Total Tokens: 53; Search: 0)"
      ]
     },
     "execution_count": null,
     "metadata": {},
     "output_type": "execute_result"
    }
   ],
   "source": [
    "chat(\"Write a sentence about Python!\")"
   ]
  },
  {
   "cell_type": "markdown",
   "id": "e9aab9e0",
   "metadata": {},
   "source": [
    "Now, let's call the model with extended thinking enabled."
   ]
  },
  {
   "cell_type": "code",
   "execution_count": null,
   "id": "be225c95",
   "metadata": {},
   "outputs": [
    {
     "data": {
      "text/markdown": [
       "\n",
       "Python's simplicity and beginner-friendly nature have made it one of the most widely taught programming languages in schools and universities worldwide.\n",
       "\n",
       "<details>\n",
       "<summary>Thinking</summary>\n",
       "The human is asking me to write a sentence about Python again. Since I already provided a sentence about Python (the programming language) in my previous response, I should provide a different sentence this time. I could write about Python the snake instead, or another aspect of Python the programming language.\n",
       "</details>\n",
       "\n",
       "\n",
       "<details>\n",
       "\n",
       "- id: `msg_01R2dLUee9pzMZ7Vwz4Zp4NN`\n",
       "- content: `[{'signature': 'EuEDCkYIBRgCKkAc2nNfiT+Wp3cT2AJT3M46pbmN59m6IWaf1+oVuync3elPBDIUneruBZ+ILV3axEUGNdGZYvGdQJeYH1or4rl5EgxhQPfs3yazCVm3b5oaDJbVGknUwBTNQCDy0yIwhh3+28oweSYhAIaaIuvWYBWiNJ327dJAQpHxhJGieByFyY4+yRWlnFCgZe4D6En1KsgCBavgcUqUTaKzYeF7NRzNQqueDNPpeJx81/11/W1ppB0pSKBaDrZhG7nxXnutu3uZJDfCTnMnmVMEoRu/86YyeidiEzECFj5d/dg5U3L7/jfPA22j/1VjhRbtV3W2kXRrswsTm38tlXOajseGfSrWIhne5VgiHoEBZTEFfbG7zC8BSAvEm5ewRAQKX/zT+f/k8jX7pTV6wKCa0XOYE0XS6utPKMv2hc211prbn+er9yYaE60mS5XBsBSpd5Y1lZPKBdGlFn2oTT+Rz/tllo5JFNxYPnVc95NxQuZLs5/ZGjRFsxevrnF2srTFbXL+/Tm/K/rp2M+bVyr2so2+mxyT+64DGzqDref/TO+8iMvbVEsoDByo099Nk+yk25N0ugv9QiHjavt2pz7vgp8ZDuHglyWlabTGFZ7629q37ImHHCcUfYUxI6VEAxgB', 'thinking': 'The human is asking me to write a sentence about Python again. Since I already provided a sentence about Python (the programming language) in my previous response, I should provide a different sentence this time. I could write about Python the snake instead, or another aspect of Python the programming language.', 'type': 'thinking'}, {'citations': None, 'text': \"Python's simplicity and beginner-friendly nature have made it one of the most widely taught programming languages in schools and universities worldwide.\", 'type': 'text'}]`\n",
       "- model: `claude-sonnet-4-20250514`\n",
       "- role: `assistant`\n",
       "- stop_reason: `end_turn`\n",
       "- stop_sequence: `None`\n",
       "- type: `message`\n",
       "- usage: `{'cache_creation_input_tokens': 0, 'cache_read_input_tokens': 0, 'input_tokens': 90, 'output_tokens': 97, 'server_tool_use': None, 'service_tier': 'standard'}`\n",
       "\n",
       "</details>"
      ],
      "text/plain": [
       "Message(id='msg_01R2dLUee9pzMZ7Vwz4Zp4NN', content=[ThinkingBlock(signature='EuEDCkYIBRgCKkAc2nNfiT+Wp3cT2AJT3M46pbmN59m6IWaf1+oVuync3elPBDIUneruBZ+ILV3axEUGNdGZYvGdQJeYH1or4rl5EgxhQPfs3yazCVm3b5oaDJbVGknUwBTNQCDy0yIwhh3+28oweSYhAIaaIuvWYBWiNJ327dJAQpHxhJGieByFyY4+yRWlnFCgZe4D6En1KsgCBavgcUqUTaKzYeF7NRzNQqueDNPpeJx81/11/W1ppB0pSKBaDrZhG7nxXnutu3uZJDfCTnMnmVMEoRu/86YyeidiEzECFj5d/dg5U3L7/jfPA22j/1VjhRbtV3W2kXRrswsTm38tlXOajseGfSrWIhne5VgiHoEBZTEFfbG7zC8BSAvEm5ewRAQKX/zT+f/k8jX7pTV6wKCa0XOYE0XS6utPKMv2hc211prbn+er9yYaE60mS5XBsBSpd5Y1lZPKBdGlFn2oTT+Rz/tllo5JFNxYPnVc95NxQuZLs5/ZGjRFsxevrnF2srTFbXL+/Tm/K/rp2M+bVyr2so2+mxyT+64DGzqDref/TO+8iMvbVEsoDByo099Nk+yk25N0ugv9QiHjavt2pz7vgp8ZDuHglyWlabTGFZ7629q37ImHHCcUfYUxI6VEAxgB', thinking='The human is asking me to write a sentence about Python again. Since I already provided a sentence about Python (the programming language) in my previous response, I should provide a different sentence this time. I could write about Python the snake instead, or another aspect of Python the programming language.', type='thinking'), TextBlock(citations=None, text=\"Python's simplicity and beginner-friendly nature have made it one of the most widely taught programming languages in schools and universities worldwide.\", type='text')], model='claude-sonnet-4-20250514', role='assistant', stop_reason='end_turn', stop_sequence=None, type='message', usage=In: 90; Out: 97; Cache create: 0; Cache read: 0; Total Tokens: 187; Search: 0)"
      ]
     },
     "execution_count": null,
     "metadata": {},
     "output_type": "execute_result"
    }
   ],
   "source": [
    "chat(\"Write a sentence about Python!\", maxthinktok=1024)"
   ]
  },
  {
   "cell_type": "markdown",
   "id": "67acb3f1",
   "metadata": {},
   "source": [
    "## Server Tools and Web Search"
   ]
  },
  {
   "cell_type": "markdown",
   "id": "ca3e7c2e",
   "metadata": {},
   "source": [
    "The `str_replace` special tool type is a client side tool, i.e., one where we provide the implementation. However, Anthropic also supports server side tools. The current one available is their search tool, which you can find the documentation for [here](https://docs.anthropic.com/en/docs/build-with-claude/tool-use/web-search-tool). When provided as a tool to claude, claude can decide to search the web in order to answer or solve the task at hand."
   ]
  },
  {
   "cell_type": "code",
   "execution_count": null,
   "id": "3a2abe4f",
   "metadata": {},
   "outputs": [],
   "source": [
    "#| export\n",
    "def search_conf(max_uses:int=None, allowed_domains:list=None, blocked_domains:list=None, user_location:dict=None):\n",
    "    'Little helper to create a search tool config'\n",
    "    conf = {'type': 'web_search_20250305', 'name': 'web_search'}\n",
    "    if max_uses: conf['max_uses'] = max_uses\n",
    "    if allowed_domains: conf['allowed_domains'] = allowed_domains\n",
    "    if blocked_domains: conf['blocked_domains'] = blocked_domains\n",
    "    if user_location: conf['user_location'] = user_location\n",
    "    return conf"
   ]
  },
  {
   "cell_type": "markdown",
   "id": "bf10a671",
   "metadata": {},
   "source": [
    "Similar to client side tools, you provide to the `tools` argument in the anthropic api a non-schema dictionary with the tool's name, type, and any additional metadata specific to that tool. Here's a function to make that process easier for the web search tool."
   ]
  },
  {
   "cell_type": "code",
   "execution_count": null,
   "id": "9d3aeee3",
   "metadata": {},
   "outputs": [
    {
     "data": {
      "text/plain": [
       "{'type': 'web_search_20250305', 'name': 'web_search'}"
      ]
     },
     "execution_count": null,
     "metadata": {},
     "output_type": "execute_result"
    }
   ],
   "source": [
    "search_conf()"
   ]
  },
  {
   "cell_type": "markdown",
   "id": "52002311",
   "metadata": {},
   "source": [
    "The web search tool returns a list of `TextBlock`s comprised of response text from the model, `ServerToolUseBlock` and server tool results block such as `WebSearchToolResultBlock`. Some of these `TextBlock`s will contain citations with references to the results of the web search tool. Here is what all this looks like:"
   ]
  },
  {
   "cell_type": "markdown",
   "id": "650e5de3",
   "metadata": {},
   "source": [
    "```js\n",
    "{\n",
    "  \"content\": [\n",
    "    {\n",
    "      \"type\": \"text\",\n",
    "      \"text\": \"I'll check the current weather in...\",\n",
    "    },\n",
    "    {\n",
    "      \"type\": \"server_tool_use\",\n",
    "      \"name\": \"web_search\",\n",
    "      \"input\": {\"query\": \"San Diego weather forecast today May 12 2025\"},\n",
    "      \"id\":\"srvtoolu_014t7fS449voTHRCVzi5jQGC\"\n",
    "    },\n",
    "    {\n",
    "      \"type\": \"web_search_tool_result\",\n",
    "      \"tool_use_id\": \"srvtoolu_014t7fS449voTHRCVzi5jQGC\",\n",
    "      \"content\": [\n",
    "        \"type\": \"web_search_result\",\n",
    "        \"title\": \"Heat Advisory issued May 9...\",\n",
    "        \"url\": \"https://kesq.com/weather/...\",\n",
    "        ...\n",
    "      ]\n",
    "    }\n",
    "    {\n",
    "      \"type\": \"text\",\n",
    "      \"citations\": [\n",
    "        {\n",
    "            \"cited_text\": 'The average temperature during this month...',\n",
    "            \"title\": \"Weather San Diego in May 2025:...\",\n",
    "            \"url\": \"https://en.climate-data.org/...\",\n",
    "            \"encrypted_index\": \"EpMBCioIAxgCIiQ4ODk4YTF...\"\n",
    "        }\n",
    "      ],\n",
    "      \"text\": \"The average temperature in San Diego during May is...\"\n",
    "    },\n",
    "    ...\n",
    "  ]\n",
    "}\n",
    "```"
   ]
  },
  {
   "cell_type": "markdown",
   "id": "8214e569",
   "metadata": {},
   "source": [
    " Let's update our `contents` function to handle these cases. For handling citations, we will use the excellent reference syntax in markdown to make clickable citation links."
   ]
  },
  {
   "cell_type": "code",
   "execution_count": null,
   "id": "786e2e8f",
   "metadata": {},
   "outputs": [],
   "source": [
    "#| export\n",
    "def find_blocks(r, blk_type=TextBlock, type='text'):\n",
    "    \"Helper to find all blocks of type `blk_type` in response `r`.\"\n",
    "    if isinstance(r, dict): f = lambda b: b.get('type') == 'text'\n",
    "    else: f = lambda b: isinstance(b, TextBlock)\n",
    "    return [b for b in getattr(r, \"content\", []) if f(b)]"
   ]
  },
  {
   "cell_type": "code",
   "execution_count": null,
   "id": "babfac4e",
   "metadata": {},
   "outputs": [],
   "source": [
    "#| export\n",
    "def blks2cited_txt(txt_blks):\n",
    "    \"Helper to get the contents from a list of `TextBlock`s, with citations.\"\n",
    "    text_sections, citations = [], []\n",
    "    for blk in txt_blks:\n",
    "        if isinstance(blk, dict): blk = AttrDict(blk)\n",
    "        section = blk.text\n",
    "        if getattr(blk, 'citations', None):\n",
    "            markers = []\n",
    "            for cit in blk.citations:\n",
    "                citations.append(cit)\n",
    "                markers.append(f\"[^{len(citations)}]\") # maintain global citation order\n",
    "            section = f\"{section} \" + \" \".join(markers)\n",
    "        text_sections.append(section)\n",
    "    body = \"\".join(text_sections)\n",
    "    if citations:\n",
    "        refs = \"\\n\\n\".join(f\"[^{i+1}]: {c.url}\\n\\t\\\"{c.cited_text}\\\"\" for i, c in enumerate(citations))\n",
    "        body = f\"{body}\\n\\n{refs}\" if body else refs\n",
    "    return body"
   ]
  },
  {
   "cell_type": "code",
   "execution_count": null,
   "id": "26ae307a",
   "metadata": {},
   "outputs": [],
   "source": [
    "#| export\n",
    "def contents(r, show_thk=True):\n",
    "    \"Helper to get the contents from Claude response `r`.\"\n",
    "    blks = find_blocks(r, blk_type=TextBlock)\n",
    "    content = None\n",
    "    if blks: content = blks2cited_txt(blks)\n",
    "    if show_thk:\n",
    "        tk_blk = find_block(r, blk_type=ThinkingBlock)\n",
    "        if tk_blk: return think_md(content, tk_blk.thinking.strip())\n",
    "    if not content:\n",
    "        blk = find_block(r)\n",
    "        if not blk and getattr(r, \"content\", None): blk = r.content[0]\n",
    "        if hasattr(blk, \"text\"): content = blk.text.strip()\n",
    "        elif hasattr(blk, \"content\"): content = blk.content.strip()\n",
    "        elif hasattr(blk, \"source\"): content = f\"*Media Type - {blk.type}*\"\n",
    "        else: content = str(blk)\n",
    "    return content"
   ]
  },
  {
   "cell_type": "code",
   "execution_count": null,
   "id": "37f9a207",
   "metadata": {},
   "outputs": [
    {
     "data": {
      "text/markdown": [
       "I need to search for more specific current weather information for San Diego, as the results didn't provide detailed current conditions.Based on the search results, I can provide you with information about San Diego's weather. However, the search results primarily show historical averages and monthly forecasts rather than real-time current conditions. Let me provide you with the most relevant information available:\n",
       "\n",
       "## Current San Diego Weather Information\n",
       "\n",
       "Based on the available data, here's what I can tell you about San Diego's weather:\n",
       "\n",
       "**Today's Conditions (June 29, 2025):**\n",
       "Today's forecast shows a high of 74°F and low of 62°F [^1] according to AccuWeather's monthly data.\n",
       "\n",
       "**General June Weather Patterns:**\n",
       "- Daily high temperatures in June typically range from 69°F to 73°F [^2]\n",
       "- Daytime highs can reach up to approximately 71.8°F (22.1°C), with nighttime temperatures cooling down to about 58.8°F (14.9°C) [^3]\n",
       "- San Diego experiences minimal rainfall in June, with an average precipitation of just 2mm and typically no rainy days during this month [^4]\n",
       "\n",
       "**Current Regional Forecast:**\n",
       "Temperatures are near to slightly above normal, with coastal areas expected to be 72 to 80°F [^5] according to the National Weather Service.\n",
       "\n",
       "**Air Quality Note:**\n",
       "The air has reached a high level of pollution and is unhealthy for sensitive groups, so you may want to reduce time spent outside if experiencing symptoms like difficulty breathing or throat irritation [^6].\n",
       "\n",
       "For the most current, real-time conditions including exact temperature, humidity, and wind conditions, I'd recommend checking a local weather app or visiting weather.com directly, as the search results didn't provide specific current readings for today.\n",
       "\n",
       "[^1]: https://en.climate-data.org/north-america/united-states-of-america/california/san-diego-714969/t/june-6/\n",
       "\t\"One must-visit attraction is the Myrtle Beach Boardwalk, known for its vibrant atmosphere and stunning ocean views.\"\n",
       "\n",
       "[^2]: https://world-weather.info/forecast/usa/san_diego/june-2025/\n",
       "\t\"Detailed San Diego Weather Forecast for June 2025 – day/night temperatures, precipitations – World-Weather.info\"\n",
       "\n",
       "[^3]: https://www.weather2travel.com/california/san-diego/june/\n",
       "\t\"\"\n",
       "\n",
       "[^4]: https://www.weather2travel.com/california/san-diego/june/\n",
       "\t\"\"\n",
       "\n",
       "[^5]: https://www.weather25.com/north-america/usa/california/san-diego?page=month&month=June\n",
       "\t\"The temperatures in San Diego in June are comfortable with low of 17°C and and high up to 23°C. As it is almost never rain during June in San Diego th...\"\n",
       "\n",
       "[^6]: https://www.accuweather.com/en/us/san-diego/92101/weather-forecast/347628\n",
       "\t\"The air has reached a high level of pollution and is unhealthy for sensitive groups. Reduce time spent outside if you are feeling symptoms such as dif...\"\n",
       "\n",
       "<details>\n",
       "\n",
       "- id: `msg_0174MiDAuU2GgFXEp5qD1pxR`\n",
       "- content: `[{'id': 'srvtoolu_01PBRNaXRXd6yLuwFKMaAsNG', 'input': {'query': 'San Diego weather today'}, 'name': 'web_search', 'type': 'server_tool_use'}, {'content': [{'encrypted_content': 'EqcCCioIBRgCIiQ4ODk4YTFkYy0yMTNkLTRhNmYtOTljYi03ZTBlNTUzZDc0NWISDG5uQp8L35rhjaCRyRoMV/LjvbP4tddEJyygIjBNme9Bo60M1IbPp9EOc3BBISifJnINuDHWyjqrx9Yyn+aRDSdrxRdrYn/Aj+dy3HkqqgF5t8+AAtCgM7m9iJU3ys9rNb1ISCGU5aY4ivBzw3Im701WmwU7WZfMyRVMnzKdAsTVwCTTwlMRBSKVJ6WYwct8WyyG0tmZ0G8wOklD1gqOGsYxgNA/jm/6g1h6y84DFqG29W78AeTYAx+6PaWUSNhx5k2qUot0L0f+9jG3v4WItcyrfWRGvh0L0pk+iQ/ls0pSETsSR03rOhPrMiMxKDTsoexxeKn0TjikvBgD', 'page_age': '2 weeks ago', 'title': '10-Day Weather Forecast for San Diego, CA - The Weather Channel | weather.com', 'type': 'web_search_result', 'url': 'https://weather.com/weather/tenday/l/San+Diego+CA?canonicalCityId=3b2b39ed755b459b725bf2a29c71d678'}, {'encrypted_content': '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', 'page_age': '1 week ago', 'title': 'San Diego, CA Weather Forecast | AccuWeather', 'type': 'web_search_result', 'url': 'https://www.accuweather.com/en/us/san-diego/92101/weather-forecast/347628'}, {'encrypted_content': 'Er0ECioIBRgCIiQ4ODk4YTFkYy0yMTNkLTRhNmYtOTljYi03ZTBlNTUzZDc0NWISDJ1P0DgvZZ7RemCnFBoM2Iyw5h0/gBbQkEsAIjBr2MCVuHK3Chw3Gestijeyk1QZ/ife4CQ05vJnH2I9SsAlY23szh7Tb+/TLQsz3xUqwAMKvrioGWUzzDTzSOfw+91xO/clN7cojx06gZcEqeeiIsPH7vIv++BDVprsjoUbbwbUtcrrkZdbItos/yyOjjjiPQOj6R95tI32+XSMiIoFG5IO4u5cNvpgI1iU7l3rJRNN82nb2zA51Dv7iEFR44dvBog8jnFolnZJemjCarJOhgtmiNPbIBzUmiHnnWP0NoY1fG1/s7t1RhKqb/nEURKZJ9hxNNrrfTBH/gKKe62LcT/jEbzWs9Xufdf4DjeIi3xK2IREepzyZ3Vrf+lQn85x73WXkO2DEehy8XFLAvUSVXKpiQbZwzktjaGd2ObHvDOqE7ebKkB8iigPEXND+ycSEGP0hQRdVkNg+gcfwRB0VPmcz3LsF1k2fyKfCcIDQucDjk3i4afKg//puhGlfAE1hcoSsuI1F326KW1E/42Y0qKTfFd8qQ41qVRvYf0wZrMOIfudmijilD2kTJXiH+7azc/QhRULk9iztFefo3BKx5xQgPzH7N+PH9SxcvSRNJOS7ki7t9hpXmIN19PK6MBXmcsutujkxUq3A3ge7PpIAFEsNYoiIJ5lVUN4t6vhxbcNoNkCnawf+022OOTpbD/8GAM=', 'page_age': '2 weeks ago', 'title': 'San Diego weather forecast – NBC 7 San Diego', 'type': 'web_search_result', 'url': 'https://www.nbcsandiego.com/weather/'}, {'encrypted_content': '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', 'page_age': '12 hours ago', 'title': 'San Antonio News, Texas News, Sports, Weather from KSAT.com, Expect More', 'type': 'web_search_result', 'url': 'https://www.ksat.com'}, {'encrypted_content': 'EtgFCioIBRgCIiQ4ODk4YTFkYy0yMTNkLTRhNmYtOTljYi03ZTBlNTUzZDc0NWISDPA0cuKKIcbodmHs7hoMYksyqMe/o+DS8V28IjC9oDgWGtvWnTDEperwv6+bOY0LI1hh4PqotTuGtYlrPBLN7v+GGUpCF8nRrHFk2rkq2wQKQp2SAf2gQ9mNFfOAIq65YxdfuhcLxQ0SWxAYf8kVx/AhfYp0KcgBnqKm03Ep08rkNpZnUrI1g3ITx/ejS7JuCRn5nWp4t09udMaVDTcZMuhdrqGSmALb0P6Lgj01Zu2C7qOLo89oIQ5LFZKcE/QjI6Vhl16UU5iWwzyIBVLuONbYcfwRip7bNE+2RTaVCZX7AWPig8h1vY+4NI8sass7QaDLg7EtV/zrVI/2FYxOHfWxcJRJd5WVlIHjMS15eATYDN5LoVr+1oBCOe4f7NTx0omFtmAceCZ4c6aHv2iyasqe9QiFhuWc8Rr/P2fOGXkLzcYIUl3mdWQ8vKA3sXiiL02uJ2dWQNFWIw6l87Pu5CFDOZ0qzA/TIp53yFD2VAxhbeSYB78RdigCTd9JXpbnvINll5a693zyFLrxL7K7CvwJL5RRllCcSYqoy/x80Xhnq18sb9pCgxzFoaKpoWHEBq9Xdiq4bQcjPcOTh5Ry/vWnEEF9RgmPiGFs4y28Lb36yTtVbY17tHKx+eS/FatOdvieZVpJIuWA0lot7kpSPCbXJsbmPfqbNg5x2fejy4tlVIFUa7/l7n/fDH2ZcxCpfrfvBVayGhYfp/giE6TvOeTMkSojQY0v9aL7BmOoF1HntDs9EmkNxJfoPdSvizQu0Op8e4g3r9zBiZ0/JhYmXthS4vKXHa/QZFrZWvMYcHrPQtWN3UhQvNNPBEKbZz/ryNFVBbJHTSvHnXDkeFYoD1VrY/A3gOAUMia/vIGSTIp5GUl/it/1oVdDWkoZIWo8ELG/qCMydR8s3NsYAw==', 'page_age': '2 weeks ago', 'title': 'Weather Forecast and Conditions for San Diego, CA - The Weather Channel | Weather.com', 'type': 'web_search_result', 'url': 'https://weather.com/weather/today/l/San+Diego+CA?canonicalCityId=3b2b39ed755b459b725bf2a29c71d678'}, {'encrypted_content': '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', 'page_age': '1 day ago', 'title': 'ABC 10News San Diego | 10News.com | San Diego, California News and Weather', 'type': 'web_search_result', 'url': 'https://www.10news.com/'}, {'encrypted_content': 'ErYCCioIBRgCIiQ4ODk4YTFkYy0yMTNkLTRhNmYtOTljYi03ZTBlNTUzZDc0NWISDDwn9SxxXpHb9ih6nRoMcsqmfbLAgoNv+lFIIjA6jIWXb/ruyxuvh/E06c8HtkOPpqhDSWhmtufOyS3bSQNpcWxNi72idEDP9ABMBEMquQFIydXPr9XDpjH3Y8HSzFZ3o+HoNMVvy+YBmOd3bWHAJv+BXH1TuM+CtxzeofICV1VmaeLG8jFSHp9+In1Ta52VY4G53cCHATHb+C/gKPyO3b4JWNekHLF+5c3UZ36Tcce47zL+gFI2GaaW1wLTA2n3MbM3UU4zC45EIO0+VUe6uohteWeM789BBp/nYFjYmADJ6p4QXM3yq8DSP+M/J86Topif3703EnfekqMxIGB37Q6UZnhMtVldmhgD', 'page_age': None, 'title': '10-day weather forecast for San Diego, CA, United States - The Weather Channel | weather.com', 'type': 'web_search_result', 'url': 'https://weather.com/en-GB/weather/tenday/l/San+Diego+CA+United+States?canonicalCityId=3b2b39ed755b459b725bf2a29c71d678'}, {'encrypted_content': 'EsoCCioIBRgCIiQ4ODk4YTFkYy0yMTNkLTRhNmYtOTljYi03ZTBlNTUzZDc0NWISDF4VU8gmmD77Nkod5BoMyDNuqO+2rAvmgJLjIjDTZyFq/lo9ny7LKoYMjyEut5caHOVh/FmhOIwuprxTPOEiX1NPYCRrNFOTi3lzQ7sqzQFuJk1EY5ue5EpFGQeyIz233eNjj7GBqpnY5t5z2nhru3eZRd9/hwPFOuyEZElc20DZz6MfD9Xxf9PndnH29U49bnBeWQ2lYBOKq+mu+9kxVbPw+zHyG0PonP/ICeieMmFSmcKigpGTDFKDyE5wBiJUxau3ZbOK+/PQxvhQDzCZQ0+kuN7NGug1GfvV1r1OgdMNgXA5Ne7AS3Fi5EybmHcTdODnFYL05EVs0Lm4s/HnAC+mDR73vZBzbTHoqi31XEWGTcAlpEm+UPvpIto+GAM=', 'page_age': '1 day ago', 'title': 'San Diego, CA', 'type': 'web_search_result', 'url': 'https://www.weather.gov/sgx/'}, {'encrypted_content': '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', 'page_age': None, 'title': 'San Diego, CA 10-Day Weather Forecast | Weather Underground', 'type': 'web_search_result', 'url': 'https://www.wunderground.com/forecast/us/ca/san-diego'}, {'encrypted_content': 'Ep0JCioIBRgCIiQ4ODk4YTFkYy0yMTNkLTRhNmYtOTljYi03ZTBlNTUzZDc0NWISDF+WVtO9gd1XLsHGlxoM01xAO+RK2vSMa/8jIjDPZVVrAM8I03iyMo6KFG+3vbHrVm0UB/AW0CnpD/os3zuBbRz3kjYSDp5tevnSgTwqoAg+Jdu/F4PU9Bhm5NgaBTGJoTx1x2fVgzBS/TUgfQGw2zNCr14Lrta8jr4fVf1XSTXO8/ThIyYiMR0G3CDvBuphNdg8/40DFjFfJdjP3wIfnuuZwzOvNBaZY5IMU4wXsK1PNz1druxErt1X30wF2IWCRj6dU9wdhXFf6a30gMILclfxMpVOzDmKJX/jwan2rpS87RvlhA6Tw4gUudSR/Ai58rKW8iDB/7R+/53tBkun6s+CLcS4DSOOQe/RX0tQXnTSeqjkvWfZ88dLZmoLCV5wGR6hawiO4J0HinN9qojAqVB5dY2VnIE1I8CtwExB+6HthGUeG9pbh3PSykrFcFStTlKuN+doCBvyD9NLBzyafKQ6BYuk/06kmA+IMxwAuCL0bDdC6AkQk0lcyDtF7kh9Z9ygWclSqXCLHsLpND+hYTcPxRW3RF/2oYYYmrgoo8Tw4sli2m4t5w4vSUQbs7MYN0YudpZOdJfEQd1JXhwQwC20G0zwT7Ul1RKsVgXgg0/jC8ePvQ0oorOSZOVVLlyWEUg0nzTPq4zdKZQj+9RoKtVjwf5V1vChOgypy3ynqVXVCX6uI1PC6LKQ+WFxK+kAO3ZnLNzUXKsTLOWdCVoc6wo/Ja5c83V3YCoZesZk5r+r+/G8dAE91LbokM4aDjqjciaBBNOCu73vbNWob50UiQsG7JtiUgWR5+YrYeKwNmBMo2cgJoDstEePTbJa5J1XsjHeWpzGPjfkabGesVEMBmbC2TK/xF1jdp6S61bkQXqIBeHlucnpui3flI0OaTLP2xGeXub/zDN6t5gqq8bVQJaN/MarBc3hTBQ8pbEfyiAV+KtUuWwLdvklVZ5ldlWoZBzkA+yZTguUNw9Kge1G1E2c5MK/JQ+DtzmkmE0f2lVYE54TNSjhmsH6kXcUTHPAHsdQApGy/w3enPgHInZR4evARmC5bNxlvSrtGIRvDPTqVCd5chYGb9uWdXoMRl4+PWJdKJ5R6KSHBs7hi/1q0LluWjagqNP6wmQAQjjUsgxM7f1xNT8raDgn+VEAjfCmQtqtLOX16s4Kh6QT4n3m1t0m2zwiqNVL5xOmHN1G3IVFUkSNszwDW+viAWi8AeDc592AyYC1vNspdrxbSSI2D56YsLXBRBKQ7KkLLcvPGlJL97zkcOa4j4E4XFFZy+EBqt76UEqUyDYMGYn/CKwKLtgcCgpZ6uiH+2uu/xWWv+K3EBD21rDZsUFaeSo98JqTtGzeFRkp5FHkDALo/FVf9lNH3jyEaTS59afyLFER/B0P2J84KwLQrH9JsR2Mh1gMrcoT77qa9SRK3nsoPDShxQzGWjhwJeDVK6UIfPbJDkNI91LJvgNgEMzZ0VkdLatU8/xIYDDkDG0lF0ZC5Ul/FLx3lO8d5Nu1PJWTJ6CO9tMYAw==', 'page_age': None, 'title': 'San Diego (United States of America) weather - Met Office', 'type': 'web_search_result', 'url': 'https://weather.metoffice.gov.uk/forecast/9mudm9zqt'}], 'tool_use_id': 'srvtoolu_01PBRNaXRXd6yLuwFKMaAsNG', 'type': 'web_search_tool_result'}, {'citations': None, 'text': \"I need to search for more specific current weather information for San Diego, as the results didn't provide detailed current conditions.\", 'type': 'text'}, {'id': 'srvtoolu_01B6bY6W61DBjgchQnXoxC5B', 'input': {'query': 'San Diego current weather temperature conditions June 29 2025'}, 'name': 'web_search', 'type': 'server_tool_use'}, {'content': [{'encrypted_content': 'EvAICioIBRgCIiQ4ODk4YTFkYy0yMTNkLTRhNmYtOTljYi03ZTBlNTUzZDc0NWISDCrWoGKbl+M9/D3BkxoMaT4zxp5vhdi34TWKIjDMLgVJySdEQw2GeLJhz0YXzn5dayrYO2XfuNdilpZ+e6Ym3JlqWQyFC8Uyv6p+GI4q8wfqgf9dpFbk1h7aBm2bdaoDjGMWEYnuURCX3TbaSSSkXHax6qkNQ3aC3XN0CPNXZZbE6QrZziyTWVas717SsgNkj6Osf39JnDWyI0Um41lpbae90xikt+gPMSZ+9VaM5h4eDiDipfVg1U1Zkog6Pr6v/y9Vp3YOXw94G6tgOcNFEQUqYRGP0b7GFYy53Wk/5FxhILACaTaFuHbLd6TINFi2edmwv31R13BwCZyMFCkP7CkORF3SDdqc6y8i5pQpvo4HvzJz4I1GynQvHiksqVrPhRWHcCVcOTWmMrSaynhZN3YYDmbIeiZZPgyobOvycHl2sJFk05plufdEyyZk0sjM5mDgBs49wTe3TaVyvKHcCDCM0sLiQm5cKrxb/emROAm1qJmdrdfoykjSKxwxuN4AJoFemgMzLRqN6Pwl9Ht53mXpC2j9NlLdmHsDbb88y1i5NlZ+z0U10nmjYeLtlpPc7aWPxBVXLjQj320OLMahnEkwNA8Ti8V172bH2b4i64H2588zVFsTXK2hVGC24pCo8uhN3U+fvzJWsxWw54rV8DeReCA29EAaNws2Gz7Bl7bF6Ce4zIyR5IYZ+JCxXIxh4fnbavFuRRow8hFNLMjA+eR0RTFhArN/Utvxzw3Y+WX3Cq+KIPHdXsRfrhfPwRP7LLcj67DZqzC8oSptbcK3us4jvtyz9OUANVuWjk/9kCnLPeSbtyg2oBGLCBQmcDc6NbmWqU8Q31l/2Metm0eaD/H2LQR8N6Z1h3VjwO+Dpkf6Rsu7BFOIycO1FVQSQ8nj8gagLm/OZisQ6PSBfJ22RBIJ0yj1yq+6IAY2NZgOVUAOFO9uTBfAxBmeC3RwHlOLJF67xOmhf47h1a80/Nppl22gFfkRXIMwRwsFtgErkumb5cTE6QJqOVHJqbQt/K59UnZmlz0b/rdcC4uEJxa/se713w+GWs/q8Qd9AHv+seD3/gzXu2RFBz3YJz8Xa7QYo3jGZyqoF1Lpumc9N0w65JqjmADKQjJHzok6Xo1reSBAySxr8fkEgE5bTOe0rSfQ2ca7bxwFUSL4X75ahEejFGL2w8VNJPCR4ryK+seELqDj2G6Cgpe5R8o5rXb7toyRhtRaN3CB0VljcaDH9IdvHPnYSh9BlpumW8ktz8T9pec4iHUa3ZA3meTKFO6fHPuiGoQskMENtg64EFKuWBuMtelTEI2nzUU7RB6azGpFi9Entr5hmlKgqU3Tbt1/yFIoRBYww95JRF6NDHyWTV8tD5BLtKeMDdTYlRCembaUIS4iGFKaAVE+BWvNLp6rg7LkwcyVWtzePqxMcgOHbluUQyRaiovX7D1nQwRjX+nLdbelPtAYAw==', 'page_age': None, 'title': 'San Diego, CA Monthly Weather | AccuWeather', 'type': 'web_search_result', 'url': 'https://www.accuweather.com/en/us/san-diego/92101/june-weather/347628'}, {'encrypted_content': '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', 'page_age': None, 'title': 'Weather San Diego in June 2025: Temperature & Climate', 'type': 'web_search_result', 'url': 'https://en.climate-data.org/north-america/united-states-of-america/california/san-diego-714969/t/june-6/'}, {'encrypted_content': 'ErIKCioIBRgCIiQ4ODk4YTFkYy0yMTNkLTRhNmYtOTljYi03ZTBlNTUzZDc0NWISDNjO0F3Wtg6oSoq2SRoMGEvAydrWwQKVN5wTIjBKKLKBmGngXiw3wmHvqGfJG0t33K3spk1HejmzLbITno1ReIJMSy9vR637SoqUxFUqtQnroIrJrivVdjPVl5/QkewVREL69NlF5woSp+bHboQuJEic5zTzU+qIiJNC/FiMyH4gSt4qrtAUpVgMckYV8xmRIE2khdh9guLoKqDO70IkfloZWKmeC1Ne9eldyOeaTIUskWyi9qewt+4Yqihj5elZYX/7ulSNzPIRom/ZUxue6wZWIF4+L4hiybSBBqYlnhm4+2DKwD6f2vqWBYIrsjqgjq+9ZCYCso9wNvY/OV+7t0MkmveoaXgBBymJ7Q8q2hP5TZg+zw73Ssm95oo5rYlHvxeY55j19uLL2HkPQRLxSpDaztwhHeqU1NFyb6FjRgTtX6CyCLbdcQwiTsSwNd/JMBDnLK3C4VGypZg0za2Hv9mHMc202IfMQVyvreJz2k4RJsgxxxBJKjPbghw3wbZnmx5lXiRXiMrjv/J0oW95m3sQYvPgjkjxclSLLAVW6jRc32D2XKkRdL7Xqr13gUsSJxvuyyAMhgnqGf4dhDlSVpCo5ebOr2TPjQuyC5XJ/yOPrsM3FRkLyBWQufTW24DX/zJy0JGn4GUdy30FCpXtiGeOZpXp+H5HII2lTnfAzPLnpV0ABWhbkfZmlfll4RO3W/gVVRV4ylEasEwoF+/miUoesXljifwZYEAgyILvLCfxayu8NSwe9cWZghMvRWIAvJPWDj139Ebik176TM+awidiy41VNiFxnTiXldPYo70Ez4BwLvFtKLck5RTxatnFhUPNo4EKeJRn40rYK0vdHkYKIsAywuzbxzY7cUSD1DU+cKf9Oi56nu3zeID6NpqxF3zPqcGTAEyTqQSO0VJ4Rtmt+QBK1MWYIMnfWqRuWZ+3RSgO5mgvg9+bbtJM0w4+7W3cBFezXtgTh+oQptvuVzfBx4uT3e3RQfiDQthd8DlLWD9FDipmUO7SuUepwOY6Bf5QJvuXH1MQk8SexmxJB9PxjxbtsrJpVJDgQ5oJDScmMrEBwX5zqIo50b+OYNKSfgIJPIvqBW5i6CfbNGbHlkEpAG+qL1r3puYC3opd+lMIJYch3aSyhMS1YC5jY8I11uzZcriHAO3hUzIZ6JQxz3GPGmBgo6rLLRWNB9n1hBON2H2RCD7Zxp5Lx6Rfi381BRnKslHhhbTloHlfoxuTMns/Pc1EtkNMey8hwF/KbPNoycPdAw8J3nt4PuMl8gAGEWwgw/1nrsOWzgg2NnqeGh/eRreFnoAtq116mZSLx/rmvIch9n7DIWaHN7y9vLB/qy1gPI3YMBCPzv8+LhXOWhuzSjb43cVsyUvKF/KpwZfOM3SxcJQbFRhRYlXfrOqWzQvHe8UNFwZELIuuf7cZtsRCcbbh042YR4YSU/Tfuei70pngijOv2ngn+GpuBoMalqlSpOw30Ez5cULgS4COtWtf3b27fETs6E4/PKXsLSsHONd292wNSc+BHvAs08LLAxiIE7c57xDkbNVFitruND+xl50whZ1zAm555WobFuWa9YkHq6Log5VOGkOuc2J16xLhPsRC9vyIzbOR544qb/tpU0heQGTeEPw0/J3rbz+WfGKccS8P6w8uLrWCV2ol/FQaMa8EGhBLd9/1qZi/7ZaDIp5mPXi4qMYozzrKtCI+Bq4wVRgD', 'page_age': None, 'title': 'San Diego weather in June 2025 | California, USA', 'type': 'web_search_result', 'url': 'https://www.weather2travel.com/california/san-diego/june/'}, {'encrypted_content': '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', 'page_age': '2 weeks ago', 'title': 'Weather in San Diego in June 2025 - Detailed Forecast', 'type': 'web_search_result', 'url': 'https://www.easeweather.com/north-america/united-states/california/san-diego-county/san-diego/june'}, {'encrypted_content': 'EpgDCioIBRgCIiQ4ODk4YTFkYy0yMTNkLTRhNmYtOTljYi03ZTBlNTUzZDc0NWISDJF1saPbDOIwY/IX2xoMUwML7rJLD//YoL9eIjA0HzB/Rogh0/F+mIIUjMdLptGkhHwJGRGg7fh036HVO/n7UquOIhe0Y/XxccfFN+8qmwKUFTtSmefYSzhjDpnxTAHm7gWlE2kk/u2wNBsIDAb0wxeybC+6KT77EcrneYKHd+wsKXAe5viXMKYEUqTIJLTZbi4brG0rreXnQwO0hxW90QCmjODWOr4Jgcp4I1LA8eNa6MBKtD9e16AtH3vwd19d6nom8yCYR+7JnLSoVccXEXrV1jjX8TOmT4/veEPq8KWU/EKmjlHoMDnJjHkqdOo415hpDYdQohxg0PWvsbCteO3LYlAL7Eb/MXH+U5s9tEOI+EEkSq26TnhU0ZKSPhO2uKFnjd62VJQ2tUlLumwDFe913S1FM7KFmF3QTpVRQa7H6K0Vw88iD/3V/uRUQUY0ZRZdCCHeC12AmQV/gKzpAKNjfEsuYimyKxs8GAM=', 'page_age': None, 'title': 'San Diego, CA', 'type': 'web_search_result', 'url': 'https://www.weather.gov/sgx/'}, {'encrypted_content': 'ErQKCioIBRgCIiQ4ODk4YTFkYy0yMTNkLTRhNmYtOTljYi03ZTBlNTUzZDc0NWISDLB/5pAoDikpQL9O2xoM299PSiAsjtm47P8fIjArA5/1eG6nwNB1kiQ6Q3W5TdwMhfdXztfV2oSl3wQZuCRgWPUw1iTtNWOGa4xRplgqtwm8nDDqfKyg720iIzIfoYrpsnPEdLRxog97ByrmD4Ya6VEBnzyUvh3AfDUfH1/BxGctwrahyIDCq8sIM6pc0hAeryRah7+cM8x8+8Aul6U3mDm711u3NsTdhMT/2y9vW6Mg7wIaeapRg+tns3TaD+Op3XCi5PPHooo9kSiA+4N9Y4ZLc6P/CB82+BP8BzFI+qkhmajD4tk5LuckfJ58pfPFYbKGaImaSLrrAkX42N+YgsW74AGPQhSTtwv1vZjHKD9WVnDxcu449RcrG2x2uG7e00dMHZXPZPzzj8FJuf2Iw55HFV0iI9hALqN/GEQsWifIIQCcq8718IO3K1in1iftMCKMm822wCUVrBHijQ5kaLUM/9OQN8fpyhYG7KSbNbCNq1xxZcDMh2h2zuVSeLhNKkuRjANWwkUx1VYCzU+O8iaT77ILigzBWYLBDJ+cb9Nwggk64AEJ3WGbH0AOoggrp+tMZ42p3ig7KnzGqTuyn0txulgGfOZEXIuOZCOy+pWtRNPxFVSuc3ikJt132dE249sL6dCiFjH22UNy1pTHb8y0qC9x51QwQbfZ1Yv4kLr5uHPq9xSbfHtn1cCBSaHyZgWKqleIE9gP1FkSOYu8HzzUNmsiqymseudzHDgsYksrgPzdGMrjw4ARP99eW+BSSqoOfxg0P/FL8bCXDdyZFSCibnqgQ9RM52uN8HUg6ipOP+9zXu3QXIEjvixTwNS+KeXhZLlFWlKnvgCXPORT/bsWl3/F0hoYzXjZhcdhjj/2Cc5esZ1P89EkCzPsQxFbbxi1diyONom1oxlcpgUciD0XSRivtCIjiuvvZSgmnPrwuAJEeoFXNfcdMJ4jnFcIoU8JLl3UzZF0p6/6Ub1yCxi5fHaVnsjpzDf3xwHh1sNt0QXeaNDv6btdU4o9bef3ucU6HT3INaPxeU2cfP1roRSjo3mGnkDErw7PIM5ObQ0ot+EJ7n6SOhMYYXlEpbbU+MUh2Qg9DDJxI0t+1L/IqstSz1WT1nnM9WH46qoOI7HaCIZve9zDNbnlLJxdqpQp8+61QSFc2g/KKMs8T4xIaN1QjKhK/Z092kCqDSzDNyuY+x66hWCYoGgca7A8H5gSscW3bZZwih8YydnrQwQF34QGcJoYDdzciSwnaCIX5AC/lUbF9ZTKFrmBbsoRlO4IfLMpDDGddXYGS++1TU4cZ2gFhQRNPRwM/s0vJJIIkDzKw0q4ktX2isDB1oGteyj0oQY2UiRqAI+UIy0bgGqz7OsouXY3uWMGhEfGjyDy4lDWdVEJgif6tGhSlxT9KNiCHjggKyHEWCSxcJ08rpRfNOdbqJJgfDBvTBROFH5qC2yJ43v6SLRrXdJYq2NQMWavYujPfoKXoHOLpdnklzEiYWdAhcoGRQ4fMZnqf7BqaY0lXRj3SqVmDq76QjbLaTExPLQAo6/GbK1vFW1+A0MmMlqkdIOEqkcvN1h8B21IvtCUEGWluQJtNYjGQBUJgzoPIqeDZGw4gq+Hxe/GuUM+bDtR7dPQq70WnuV3sHtz1Auq0J7MRWt06rVhGQEXHCZ+koSG+EAaLXajzfOMsPshrMDvWcDXh6AlNaU71Czgr/jW7zy9+NpiGAM=', 'page_age': None, 'title': 'San Diego weather in June 2025 | San Diego 14 day weather', 'type': 'web_search_result', 'url': 'https://www.weather25.com/north-america/usa/california/san-diego?page=month&month=June'}, {'encrypted_content': 'ErkCCioIBRgCIiQ4ODk4YTFkYy0yMTNkLTRhNmYtOTljYi03ZTBlNTUzZDc0NWISDJi3N6D2ArkQruO5eBoM1zsRLNy2rn+G2AaLIjBkgVjg3GJ+s7d6FKRZMFEkb+Z31yOpotWhbtqGqT+9S36FAuYq9LpHFGob9q2rct0qvAEWFvcLWmCLDuQQmtQeq6LNn4WETyTl5ux/wQy/w51uqe4LTos4MJpuusA7CpCeq9VJVNL5jaT/G8wtLH414JZiX3BJ3Eu1/qDcY8BPMRpg6X0nItyMX0tVX2wqFMC5nGut1kq/NNoaDiNDFlGPLRzcV+7xTCKCSncR5pD1ODajpMzkjSK7Uemdoan1C2E+OPGefZpCCB3hql6Y5W53An+/OvslaqNJWkisSXcwF1JSUFau7Hgm8hjzh1jkTRgD', 'page_age': None, 'title': 'San Diego June Weather, Average Temperature (California, United States) - Weather Spark', 'type': 'web_search_result', 'url': 'https://weatherspark.com/m/1816/6/Average-Weather-in-June-in-San-Diego-California-United-States'}, {'encrypted_content': 'EvMDCioIBRgCIiQ4ODk4YTFkYy0yMTNkLTRhNmYtOTljYi03ZTBlNTUzZDc0NWISDM/cbIVeTBXT9voCkhoMPfYcfxXxnVidSvhVIjB+yd0W2KlmcmA2ZCzIXd9up8mh9xSG2GFudY+aGVJpj1DFRz1jPXyrTpsJ8AG+78cq9gKh+N30OHMjax7P9ze+42G3k7sSBFONiUg7CTBzupiYK8Ba+P5oa4tDAI/g33a14ZcC59C0sYWwlzwy65nE4cOEaDp6MuTdnQrHjhlsVl19hhzS3N4oMK8OG805EdKuJYZR0RiXHi+5v3v9uWaXCwXaONyp1BG3rFOM5YgILreVcaG/WGCNX3rtD0hVkdxLEQqM/Aje9hESMuYO9R+wmpuvsoEA8UIjIe7JxVEBmBWo4B0h3Je88YnTpyM2DLdIgRGU8Rmiwq640lnpppv/Wt1L/nAutk0bF3a9Z8eJHwodJ38MzjbKRjTO2AKsHK/gIOrimqjdSF22+lMCyFFDJdMaXZk+GeNypwOcaet7zeIBstNNfVlXH3tQ5D7S1MlXg5ryYwy5w8UgpnTNnjz064XpfGHutvDhNy7mn/cqUY8ZjpF6sel3WPNGSXenCi7N6iftz7D3PqFQNcOnEiKHkhU+cBEGvnDjHm/1yAViDBD1bfAAnqsqpBgD', 'page_age': None, 'title': 'Weather in San Diego in June 2025 (California) - detailed Weather Forecast for a month', 'type': 'web_search_result', 'url': 'https://world-weather.info/forecast/usa/san_diego/june-2025/'}, {'encrypted_content': 'EqoCCioIBRgCIiQ4ODk4YTFkYy0yMTNkLTRhNmYtOTljYi03ZTBlNTUzZDc0NWISDEl49Oe+qnDexKtEgxoMr9q2lXBOoXst6OhOIjAn2y+pjSOqVEBL7xiqE/es/iziK6T6U5dpmXhmJ6r4uKLTj/xxyFdJhNlbbf3ovtkqrQH3d6oVEpE+JdwMz7DUApBzzfaKo5aUg2bg2Ou/4ePL1Al+nKCl1h5FRBwugk36fAWF1J/UOHdo8dXYi40OB/4D9nj73Q17TBy32+eapRasJigBGwsJEedMcK05xe5jxEpoiThrESLiNOl5PvuePsW/NRYXALaR26iSyXkc85Bo/zd29xyJTP8kpPvvhKSXfbPHGod3FttsBoEofSLDM+u9AuItWIScDkpGTWyyCBgD', 'page_age': None, 'title': 'Monthly Weather Forecast for San Diego, CA - weather.com', 'type': 'web_search_result', 'url': 'https://weather.com/weather/monthly/l/San+Diego+CA?canonicalCityId=3b2b39ed755b459b725bf2a29c71d678'}, {'encrypted_content': 'EqkDCioIBRgCIiQ4ODk4YTFkYy0yMTNkLTRhNmYtOTljYi03ZTBlNTUzZDc0NWISDPCvBvTyswNYLFz68RoMluXlO6Wz5Y+33Lb/IjAOdY6gnQiTcGdYTtHlkFSvaU1XijN5mKdIN3nOcZWrUG8/DQO6/nJZhNQ44TCuvKEqrAJ4l9NGySNtWh8NDwzaIACqRrleg7VLuaTB8sEUCKWOyMOPIBpJEpXx+k0Fq1HamYJ2xmm7UxVOzPxHXPhCHEjDNJzM9voexJ7N48XyBDBXbN5YIP98uzuwDQtiuxfda3LbDMcmr0rtcXMpa13LWoq9wkX8OpxLGuSdEu1YEGiYSgnIf/dqnhveleHL2gE2+qWLDUO/rVGGePFU2CPRObcOe68QN8ARomFao4NGDg8yR7GDi+M6mLT7neiqc+3qsM62BsTNs5K8ofSIH2ibWY3srY7zWXCzik1IYmZ4NA9TlV/XpHHNRl5ANvUVIJe74T40fjeAWTlhTvXF9rZiqj6yyEhIBRnLnC1nBv4qOhukIvxG7W+dzXPYyeTNYmKxBa5jYfT6tquGTVDckFYYAw==', 'page_age': None, 'title': 'Past Weather in San Diego, California, USA — Yesterday or Further Back', 'type': 'web_search_result', 'url': 'https://www.timeanddate.com/weather/usa/san-diego/historic'}], 'tool_use_id': 'srvtoolu_01B6bY6W61DBjgchQnXoxC5B', 'type': 'web_search_tool_result'}, {'citations': None, 'text': \"Based on the search results, I can provide you with information about San Diego's weather. However, the search results primarily show historical averages and monthly forecasts rather than real-time current conditions. Let me provide you with the most relevant information available:\\n\\n## Current San Diego Weather Information\\n\\nBased on the available data, here's what I can tell you about San Diego's weather:\\n\\n**Today's Conditions (June 29, 2025):**\\n\", 'type': 'text'}, {'citations': [{'cited_text': 'One must-visit attraction is the Myrtle Beach Boardwalk, known for its vibrant atmosphere and stunning ocean views.', 'encrypted_index': 'EpABCioIBRgCIiQ4ODk4YTFkYy0yMTNkLTRhNmYtOTljYi03ZTBlNTUzZDc0NWISDOkiKf2zy+04rl5d7hoMWPj81K75PO17KY9hIjA/0SOos4FKT1jpPcNz/bmSVm99tzAAhvizMxpgpi+m84teXj8gEWVMnmVAB+2Zmj4qFD6iBzX1+uvtOXCryY6cYAJveCkrGAQ=', 'title': 'Weather San Diego in June 2025: Temperature & Climate', 'type': 'web_search_result_location', 'url': 'https://en.climate-data.org/north-america/united-states-of-america/california/san-diego-714969/t/june-6/'}], 'text': \"Today's forecast shows a high of 74°F and low of 62°F\", 'type': 'text'}, {'citations': None, 'text': \" according to AccuWeather's monthly data.\\n\\n**General June Weather Patterns:**\\n- \", 'type': 'text'}, {'citations': [{'cited_text': 'Detailed San Diego Weather Forecast for June 2025 – day/night temperatures, precipitations – World-Weather.info', 'encrypted_index': 'EpABCioIBRgCIiQ4ODk4YTFkYy0yMTNkLTRhNmYtOTljYi03ZTBlNTUzZDc0NWISDIZQJ1Z8nS1O4tl7IhoMIRxmFdUWXE+X3EqSIjAkN2XRCqRnkLlI3lRmX5ggNg4ejWwnTTwBtuZjnACpxaTDHkMNPvCMurs4ZkFJsw0qFJyfgH41VI++NI1RizgprfqZWLL6GAQ=', 'title': 'Weather in San Diego in June 2025 (California) - detailed Weather Forecast for a month', 'type': 'web_search_result_location', 'url': 'https://world-weather.info/forecast/usa/san_diego/june-2025/'}], 'text': 'Daily high temperatures in June typically range from 69°F to 73°F', 'type': 'text'}, {'citations': None, 'text': '\\n- ', 'type': 'text'}, {'citations': [{'cited_text': '', 'encrypted_index': 'EpQBCioIBRgCIiQ4ODk4YTFkYy0yMTNkLTRhNmYtOTljYi03ZTBlNTUzZDc0NWISDAtzfVE1r8F2sLhJYhoMVQ3sl6b7h1/rbyR4IjBTo/ryNOijf8euNJFHDKS1uEBExrxnh8Wsxzpr6PGj4jICy57I88ecVBFbztnoJLoqGBLgjSgWWmPschP22ySnEMTUd000uPHK3hgE', 'title': 'San Diego weather in June 2025 | California, USA', 'type': 'web_search_result_location', 'url': 'https://www.weather2travel.com/california/san-diego/june/'}], 'text': 'Daytime highs can reach up to approximately 71.8°F (22.1°C), with nighttime temperatures cooling down to about 58.8°F (14.9°C)', 'type': 'text'}, {'citations': None, 'text': '\\n- ', 'type': 'text'}, {'citations': [{'cited_text': '', 'encrypted_index': 'EpQBCioIBRgCIiQ4ODk4YTFkYy0yMTNkLTRhNmYtOTljYi03ZTBlNTUzZDc0NWISDJ5xbG9zC0i71Gvk6RoM4Zrh9/QZdO3mZ+RgIjBIEHcHabVRB3KK+fHmAT3tmAFFHgoeeJmPeRfhoSwo3DQ1ZDMtuyasIgAqy3ZFCGUqGN1/A++l1nFc/XjGX5AgrFLSyUvrpfpU+BgE', 'title': 'San Diego weather in June 2025 | California, USA', 'type': 'web_search_result_location', 'url': 'https://www.weather2travel.com/california/san-diego/june/'}], 'text': 'San Diego experiences minimal rainfall in June, with an average precipitation of just 2mm and typically no rainy days during this month', 'type': 'text'}, {'citations': None, 'text': '\\n\\n**Current Regional Forecast:**\\n', 'type': 'text'}, {'citations': [{'cited_text': 'The temperatures in San Diego in June are comfortable with low of 17°C and and high up to 23°C. As it is almost never rain during June in San Diego th...', 'encrypted_index': 'EpIBCioIBRgCIiQ4ODk4YTFkYy0yMTNkLTRhNmYtOTljYi03ZTBlNTUzZDc0NWISDL9oTHvyX2tU5KZ/fBoMbwgHXhD2yfOY8wmsIjArN45VIGvF4uHTY/Q6bgV6DRGHZphjaF+F+Wd7+gPuhxC5zmhlcGyI2hTO7He+P8gqFhoflo/iytgpE2g/5hk1lOfso2duT+MYBA==', 'title': 'San Diego weather in June 2025 | San Diego 14 day weather', 'type': 'web_search_result_location', 'url': 'https://www.weather25.com/north-america/usa/california/san-diego?page=month&month=June'}], 'text': 'Temperatures are near to slightly above normal, with coastal areas expected to be 72 to 80°F', 'type': 'text'}, {'citations': None, 'text': ' according to the National Weather Service.\\n\\n**Air Quality Note:**\\n', 'type': 'text'}, {'citations': [{'cited_text': 'The air has reached a high level of pollution and is unhealthy for sensitive groups. Reduce time spent outside if you are feeling symptoms such as dif...', 'encrypted_index': 'EpEBCioIBRgCIiQ4ODk4YTFkYy0yMTNkLTRhNmYtOTljYi03ZTBlNTUzZDc0NWISDNV22HH1SubH9Tt7FxoMlMXY1sub4H2mbO/cIjAquJemkhiMdh0k97Qlrd63MONAf7Dz7u98y37qWMPyQApP9BI8Xs1r0lcj9IBMRwAqFd3oahmSiBEX9G8K9GqosVTl0m3LTxgE', 'title': 'San Diego, CA Weather Forecast | AccuWeather', 'type': 'web_search_result_location', 'url': 'https://www.accuweather.com/en/us/san-diego/92101/weather-forecast/347628'}], 'text': 'The air has reached a high level of pollution and is unhealthy for sensitive groups, so you may want to reduce time spent outside if experiencing symptoms like difficulty breathing or throat irritation', 'type': 'text'}, {'citations': None, 'text': \".\\n\\nFor the most current, real-time conditions including exact temperature, humidity, and wind conditions, I'd recommend checking a local weather app or visiting weather.com directly, as the search results didn't provide specific current readings for today.\", 'type': 'text'}]`\n",
       "- model: `claude-sonnet-4-20250514`\n",
       "- role: `assistant`\n",
       "- stop_reason: `end_turn`\n",
       "- stop_sequence: `None`\n",
       "- type: `message`\n",
       "- usage: `{'cache_creation_input_tokens': 11876, 'cache_read_input_tokens': 9018, 'input_tokens': 20, 'output_tokens': 619, 'server_tool_use': {'web_search_requests': 2}, 'service_tier': 'standard'}`\n",
       "\n",
       "</details>"
      ],
      "text/plain": [
       "Message(id='msg_0174MiDAuU2GgFXEp5qD1pxR', content=[ServerToolUseBlock(id='srvtoolu_01PBRNaXRXd6yLuwFKMaAsNG', input={'query': 'San Diego weather today'}, name='web_search', type='server_tool_use'), WebSearchToolResultBlock(content=[WebSearchResultBlock(encrypted_content='EqcCCioIBRgCIiQ4ODk4YTFkYy0yMTNkLTRhNmYtOTljYi03ZTBlNTUzZDc0NWISDG5uQp8L35rhjaCRyRoMV/LjvbP4tddEJyygIjBNme9Bo60M1IbPp9EOc3BBISifJnINuDHWyjqrx9Yyn+aRDSdrxRdrYn/Aj+dy3HkqqgF5t8+AAtCgM7m9iJU3ys9rNb1ISCGU5aY4ivBzw3Im701WmwU7WZfMyRVMnzKdAsTVwCTTwlMRBSKVJ6WYwct8WyyG0tmZ0G8wOklD1gqOGsYxgNA/jm/6g1h6y84DFqG29W78AeTYAx+6PaWUSNhx5k2qUot0L0f+9jG3v4WItcyrfWRGvh0L0pk+iQ/ls0pSETsSR03rOhPrMiMxKDTsoexxeKn0TjikvBgD', page_age='2 weeks ago', title='10-Day Weather Forecast for San Diego, CA - The Weather Channel | weather.com', type='web_search_result', url='https://weather.com/weather/tenday/l/San+Diego+CA?canonicalCityId=3b2b39ed755b459b725bf2a29c71d678'), WebSearchResultBlock(encrypted_content='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', page_age='1 week ago', title='San Diego, CA Weather Forecast | AccuWeather', type='web_search_result', url='https://www.accuweather.com/en/us/san-diego/92101/weather-forecast/347628'), WebSearchResultBlock(encrypted_content='Er0ECioIBRgCIiQ4ODk4YTFkYy0yMTNkLTRhNmYtOTljYi03ZTBlNTUzZDc0NWISDJ1P0DgvZZ7RemCnFBoM2Iyw5h0/gBbQkEsAIjBr2MCVuHK3Chw3Gestijeyk1QZ/ife4CQ05vJnH2I9SsAlY23szh7Tb+/TLQsz3xUqwAMKvrioGWUzzDTzSOfw+91xO/clN7cojx06gZcEqeeiIsPH7vIv++BDVprsjoUbbwbUtcrrkZdbItos/yyOjjjiPQOj6R95tI32+XSMiIoFG5IO4u5cNvpgI1iU7l3rJRNN82nb2zA51Dv7iEFR44dvBog8jnFolnZJemjCarJOhgtmiNPbIBzUmiHnnWP0NoY1fG1/s7t1RhKqb/nEURKZJ9hxNNrrfTBH/gKKe62LcT/jEbzWs9Xufdf4DjeIi3xK2IREepzyZ3Vrf+lQn85x73WXkO2DEehy8XFLAvUSVXKpiQbZwzktjaGd2ObHvDOqE7ebKkB8iigPEXND+ycSEGP0hQRdVkNg+gcfwRB0VPmcz3LsF1k2fyKfCcIDQucDjk3i4afKg//puhGlfAE1hcoSsuI1F326KW1E/42Y0qKTfFd8qQ41qVRvYf0wZrMOIfudmijilD2kTJXiH+7azc/QhRULk9iztFefo3BKx5xQgPzH7N+PH9SxcvSRNJOS7ki7t9hpXmIN19PK6MBXmcsutujkxUq3A3ge7PpIAFEsNYoiIJ5lVUN4t6vhxbcNoNkCnawf+022OOTpbD/8GAM=', page_age='2 weeks ago', title='San Diego weather forecast – NBC 7 San Diego', type='web_search_result', url='https://www.nbcsandiego.com/weather/'), WebSearchResultBlock(encrypted_content='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', page_age='12 hours ago', title='San Antonio News, Texas News, Sports, Weather from KSAT.com, Expect More', type='web_search_result', url='https://www.ksat.com'), WebSearchResultBlock(encrypted_content='EtgFCioIBRgCIiQ4ODk4YTFkYy0yMTNkLTRhNmYtOTljYi03ZTBlNTUzZDc0NWISDPA0cuKKIcbodmHs7hoMYksyqMe/o+DS8V28IjC9oDgWGtvWnTDEperwv6+bOY0LI1hh4PqotTuGtYlrPBLN7v+GGUpCF8nRrHFk2rkq2wQKQp2SAf2gQ9mNFfOAIq65YxdfuhcLxQ0SWxAYf8kVx/AhfYp0KcgBnqKm03Ep08rkNpZnUrI1g3ITx/ejS7JuCRn5nWp4t09udMaVDTcZMuhdrqGSmALb0P6Lgj01Zu2C7qOLo89oIQ5LFZKcE/QjI6Vhl16UU5iWwzyIBVLuONbYcfwRip7bNE+2RTaVCZX7AWPig8h1vY+4NI8sass7QaDLg7EtV/zrVI/2FYxOHfWxcJRJd5WVlIHjMS15eATYDN5LoVr+1oBCOe4f7NTx0omFtmAceCZ4c6aHv2iyasqe9QiFhuWc8Rr/P2fOGXkLzcYIUl3mdWQ8vKA3sXiiL02uJ2dWQNFWIw6l87Pu5CFDOZ0qzA/TIp53yFD2VAxhbeSYB78RdigCTd9JXpbnvINll5a693zyFLrxL7K7CvwJL5RRllCcSYqoy/x80Xhnq18sb9pCgxzFoaKpoWHEBq9Xdiq4bQcjPcOTh5Ry/vWnEEF9RgmPiGFs4y28Lb36yTtVbY17tHKx+eS/FatOdvieZVpJIuWA0lot7kpSPCbXJsbmPfqbNg5x2fejy4tlVIFUa7/l7n/fDH2ZcxCpfrfvBVayGhYfp/giE6TvOeTMkSojQY0v9aL7BmOoF1HntDs9EmkNxJfoPdSvizQu0Op8e4g3r9zBiZ0/JhYmXthS4vKXHa/QZFrZWvMYcHrPQtWN3UhQvNNPBEKbZz/ryNFVBbJHTSvHnXDkeFYoD1VrY/A3gOAUMia/vIGSTIp5GUl/it/1oVdDWkoZIWo8ELG/qCMydR8s3NsYAw==', page_age='2 weeks ago', title='Weather Forecast and Conditions for San Diego, CA - The Weather Channel | Weather.com', type='web_search_result', url='https://weather.com/weather/today/l/San+Diego+CA?canonicalCityId=3b2b39ed755b459b725bf2a29c71d678'), WebSearchResultBlock(encrypted_content='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', page_age='1 day ago', title='ABC 10News San Diego | 10News.com | San Diego, California News and Weather', type='web_search_result', url='https://www.10news.com/'), WebSearchResultBlock(encrypted_content='ErYCCioIBRgCIiQ4ODk4YTFkYy0yMTNkLTRhNmYtOTljYi03ZTBlNTUzZDc0NWISDDwn9SxxXpHb9ih6nRoMcsqmfbLAgoNv+lFIIjA6jIWXb/ruyxuvh/E06c8HtkOPpqhDSWhmtufOyS3bSQNpcWxNi72idEDP9ABMBEMquQFIydXPr9XDpjH3Y8HSzFZ3o+HoNMVvy+YBmOd3bWHAJv+BXH1TuM+CtxzeofICV1VmaeLG8jFSHp9+In1Ta52VY4G53cCHATHb+C/gKPyO3b4JWNekHLF+5c3UZ36Tcce47zL+gFI2GaaW1wLTA2n3MbM3UU4zC45EIO0+VUe6uohteWeM789BBp/nYFjYmADJ6p4QXM3yq8DSP+M/J86Topif3703EnfekqMxIGB37Q6UZnhMtVldmhgD', page_age=None, title='10-day weather forecast for San Diego, CA, United States - The Weather Channel | weather.com', type='web_search_result', url='https://weather.com/en-GB/weather/tenday/l/San+Diego+CA+United+States?canonicalCityId=3b2b39ed755b459b725bf2a29c71d678'), WebSearchResultBlock(encrypted_content='EsoCCioIBRgCIiQ4ODk4YTFkYy0yMTNkLTRhNmYtOTljYi03ZTBlNTUzZDc0NWISDF4VU8gmmD77Nkod5BoMyDNuqO+2rAvmgJLjIjDTZyFq/lo9ny7LKoYMjyEut5caHOVh/FmhOIwuprxTPOEiX1NPYCRrNFOTi3lzQ7sqzQFuJk1EY5ue5EpFGQeyIz233eNjj7GBqpnY5t5z2nhru3eZRd9/hwPFOuyEZElc20DZz6MfD9Xxf9PndnH29U49bnBeWQ2lYBOKq+mu+9kxVbPw+zHyG0PonP/ICeieMmFSmcKigpGTDFKDyE5wBiJUxau3ZbOK+/PQxvhQDzCZQ0+kuN7NGug1GfvV1r1OgdMNgXA5Ne7AS3Fi5EybmHcTdODnFYL05EVs0Lm4s/HnAC+mDR73vZBzbTHoqi31XEWGTcAlpEm+UPvpIto+GAM=', page_age='1 day ago', title='San Diego, CA', type='web_search_result', url='https://www.weather.gov/sgx/'), WebSearchResultBlock(encrypted_content='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', page_age=None, title='San Diego, CA 10-Day Weather Forecast | Weather Underground', type='web_search_result', url='https://www.wunderground.com/forecast/us/ca/san-diego'), WebSearchResultBlock(encrypted_content='Ep0JCioIBRgCIiQ4ODk4YTFkYy0yMTNkLTRhNmYtOTljYi03ZTBlNTUzZDc0NWISDF+WVtO9gd1XLsHGlxoM01xAO+RK2vSMa/8jIjDPZVVrAM8I03iyMo6KFG+3vbHrVm0UB/AW0CnpD/os3zuBbRz3kjYSDp5tevnSgTwqoAg+Jdu/F4PU9Bhm5NgaBTGJoTx1x2fVgzBS/TUgfQGw2zNCr14Lrta8jr4fVf1XSTXO8/ThIyYiMR0G3CDvBuphNdg8/40DFjFfJdjP3wIfnuuZwzOvNBaZY5IMU4wXsK1PNz1druxErt1X30wF2IWCRj6dU9wdhXFf6a30gMILclfxMpVOzDmKJX/jwan2rpS87RvlhA6Tw4gUudSR/Ai58rKW8iDB/7R+/53tBkun6s+CLcS4DSOOQe/RX0tQXnTSeqjkvWfZ88dLZmoLCV5wGR6hawiO4J0HinN9qojAqVB5dY2VnIE1I8CtwExB+6HthGUeG9pbh3PSykrFcFStTlKuN+doCBvyD9NLBzyafKQ6BYuk/06kmA+IMxwAuCL0bDdC6AkQk0lcyDtF7kh9Z9ygWclSqXCLHsLpND+hYTcPxRW3RF/2oYYYmrgoo8Tw4sli2m4t5w4vSUQbs7MYN0YudpZOdJfEQd1JXhwQwC20G0zwT7Ul1RKsVgXgg0/jC8ePvQ0oorOSZOVVLlyWEUg0nzTPq4zdKZQj+9RoKtVjwf5V1vChOgypy3ynqVXVCX6uI1PC6LKQ+WFxK+kAO3ZnLNzUXKsTLOWdCVoc6wo/Ja5c83V3YCoZesZk5r+r+/G8dAE91LbokM4aDjqjciaBBNOCu73vbNWob50UiQsG7JtiUgWR5+YrYeKwNmBMo2cgJoDstEePTbJa5J1XsjHeWpzGPjfkabGesVEMBmbC2TK/xF1jdp6S61bkQXqIBeHlucnpui3flI0OaTLP2xGeXub/zDN6t5gqq8bVQJaN/MarBc3hTBQ8pbEfyiAV+KtUuWwLdvklVZ5ldlWoZBzkA+yZTguUNw9Kge1G1E2c5MK/JQ+DtzmkmE0f2lVYE54TNSjhmsH6kXcUTHPAHsdQApGy/w3enPgHInZR4evARmC5bNxlvSrtGIRvDPTqVCd5chYGb9uWdXoMRl4+PWJdKJ5R6KSHBs7hi/1q0LluWjagqNP6wmQAQjjUsgxM7f1xNT8raDgn+VEAjfCmQtqtLOX16s4Kh6QT4n3m1t0m2zwiqNVL5xOmHN1G3IVFUkSNszwDW+viAWi8AeDc592AyYC1vNspdrxbSSI2D56YsLXBRBKQ7KkLLcvPGlJL97zkcOa4j4E4XFFZy+EBqt76UEqUyDYMGYn/CKwKLtgcCgpZ6uiH+2uu/xWWv+K3EBD21rDZsUFaeSo98JqTtGzeFRkp5FHkDALo/FVf9lNH3jyEaTS59afyLFER/B0P2J84KwLQrH9JsR2Mh1gMrcoT77qa9SRK3nsoPDShxQzGWjhwJeDVK6UIfPbJDkNI91LJvgNgEMzZ0VkdLatU8/xIYDDkDG0lF0ZC5Ul/FLx3lO8d5Nu1PJWTJ6CO9tMYAw==', page_age=None, title='San Diego (United States of America) weather - Met Office', type='web_search_result', url='https://weather.metoffice.gov.uk/forecast/9mudm9zqt')], tool_use_id='srvtoolu_01PBRNaXRXd6yLuwFKMaAsNG', type='web_search_tool_result'), TextBlock(citations=None, text=\"I need to search for more specific current weather information for San Diego, as the results didn't provide detailed current conditions.\", type='text'), ServerToolUseBlock(id='srvtoolu_01B6bY6W61DBjgchQnXoxC5B', input={'query': 'San Diego current weather temperature conditions June 29 2025'}, name='web_search', type='server_tool_use'), WebSearchToolResultBlock(content=[WebSearchResultBlock(encrypted_content='EvAICioIBRgCIiQ4ODk4YTFkYy0yMTNkLTRhNmYtOTljYi03ZTBlNTUzZDc0NWISDCrWoGKbl+M9/D3BkxoMaT4zxp5vhdi34TWKIjDMLgVJySdEQw2GeLJhz0YXzn5dayrYO2XfuNdilpZ+e6Ym3JlqWQyFC8Uyv6p+GI4q8wfqgf9dpFbk1h7aBm2bdaoDjGMWEYnuURCX3TbaSSSkXHax6qkNQ3aC3XN0CPNXZZbE6QrZziyTWVas717SsgNkj6Osf39JnDWyI0Um41lpbae90xikt+gPMSZ+9VaM5h4eDiDipfVg1U1Zkog6Pr6v/y9Vp3YOXw94G6tgOcNFEQUqYRGP0b7GFYy53Wk/5FxhILACaTaFuHbLd6TINFi2edmwv31R13BwCZyMFCkP7CkORF3SDdqc6y8i5pQpvo4HvzJz4I1GynQvHiksqVrPhRWHcCVcOTWmMrSaynhZN3YYDmbIeiZZPgyobOvycHl2sJFk05plufdEyyZk0sjM5mDgBs49wTe3TaVyvKHcCDCM0sLiQm5cKrxb/emROAm1qJmdrdfoykjSKxwxuN4AJoFemgMzLRqN6Pwl9Ht53mXpC2j9NlLdmHsDbb88y1i5NlZ+z0U10nmjYeLtlpPc7aWPxBVXLjQj320OLMahnEkwNA8Ti8V172bH2b4i64H2588zVFsTXK2hVGC24pCo8uhN3U+fvzJWsxWw54rV8DeReCA29EAaNws2Gz7Bl7bF6Ce4zIyR5IYZ+JCxXIxh4fnbavFuRRow8hFNLMjA+eR0RTFhArN/Utvxzw3Y+WX3Cq+KIPHdXsRfrhfPwRP7LLcj67DZqzC8oSptbcK3us4jvtyz9OUANVuWjk/9kCnLPeSbtyg2oBGLCBQmcDc6NbmWqU8Q31l/2Metm0eaD/H2LQR8N6Z1h3VjwO+Dpkf6Rsu7BFOIycO1FVQSQ8nj8gagLm/OZisQ6PSBfJ22RBIJ0yj1yq+6IAY2NZgOVUAOFO9uTBfAxBmeC3RwHlOLJF67xOmhf47h1a80/Nppl22gFfkRXIMwRwsFtgErkumb5cTE6QJqOVHJqbQt/K59UnZmlz0b/rdcC4uEJxa/se713w+GWs/q8Qd9AHv+seD3/gzXu2RFBz3YJz8Xa7QYo3jGZyqoF1Lpumc9N0w65JqjmADKQjJHzok6Xo1reSBAySxr8fkEgE5bTOe0rSfQ2ca7bxwFUSL4X75ahEejFGL2w8VNJPCR4ryK+seELqDj2G6Cgpe5R8o5rXb7toyRhtRaN3CB0VljcaDH9IdvHPnYSh9BlpumW8ktz8T9pec4iHUa3ZA3meTKFO6fHPuiGoQskMENtg64EFKuWBuMtelTEI2nzUU7RB6azGpFi9Entr5hmlKgqU3Tbt1/yFIoRBYww95JRF6NDHyWTV8tD5BLtKeMDdTYlRCembaUIS4iGFKaAVE+BWvNLp6rg7LkwcyVWtzePqxMcgOHbluUQyRaiovX7D1nQwRjX+nLdbelPtAYAw==', page_age=None, title='San Diego, CA Monthly Weather | AccuWeather', type='web_search_result', url='https://www.accuweather.com/en/us/san-diego/92101/june-weather/347628'), WebSearchResultBlock(encrypted_content='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', page_age=None, title='Weather San Diego in June 2025: Temperature & Climate', type='web_search_result', url='https://en.climate-data.org/north-america/united-states-of-america/california/san-diego-714969/t/june-6/'), WebSearchResultBlock(encrypted_content='ErIKCioIBRgCIiQ4ODk4YTFkYy0yMTNkLTRhNmYtOTljYi03ZTBlNTUzZDc0NWISDNjO0F3Wtg6oSoq2SRoMGEvAydrWwQKVN5wTIjBKKLKBmGngXiw3wmHvqGfJG0t33K3spk1HejmzLbITno1ReIJMSy9vR637SoqUxFUqtQnroIrJrivVdjPVl5/QkewVREL69NlF5woSp+bHboQuJEic5zTzU+qIiJNC/FiMyH4gSt4qrtAUpVgMckYV8xmRIE2khdh9guLoKqDO70IkfloZWKmeC1Ne9eldyOeaTIUskWyi9qewt+4Yqihj5elZYX/7ulSNzPIRom/ZUxue6wZWIF4+L4hiybSBBqYlnhm4+2DKwD6f2vqWBYIrsjqgjq+9ZCYCso9wNvY/OV+7t0MkmveoaXgBBymJ7Q8q2hP5TZg+zw73Ssm95oo5rYlHvxeY55j19uLL2HkPQRLxSpDaztwhHeqU1NFyb6FjRgTtX6CyCLbdcQwiTsSwNd/JMBDnLK3C4VGypZg0za2Hv9mHMc202IfMQVyvreJz2k4RJsgxxxBJKjPbghw3wbZnmx5lXiRXiMrjv/J0oW95m3sQYvPgjkjxclSLLAVW6jRc32D2XKkRdL7Xqr13gUsSJxvuyyAMhgnqGf4dhDlSVpCo5ebOr2TPjQuyC5XJ/yOPrsM3FRkLyBWQufTW24DX/zJy0JGn4GUdy30FCpXtiGeOZpXp+H5HII2lTnfAzPLnpV0ABWhbkfZmlfll4RO3W/gVVRV4ylEasEwoF+/miUoesXljifwZYEAgyILvLCfxayu8NSwe9cWZghMvRWIAvJPWDj139Ebik176TM+awidiy41VNiFxnTiXldPYo70Ez4BwLvFtKLck5RTxatnFhUPNo4EKeJRn40rYK0vdHkYKIsAywuzbxzY7cUSD1DU+cKf9Oi56nu3zeID6NpqxF3zPqcGTAEyTqQSO0VJ4Rtmt+QBK1MWYIMnfWqRuWZ+3RSgO5mgvg9+bbtJM0w4+7W3cBFezXtgTh+oQptvuVzfBx4uT3e3RQfiDQthd8DlLWD9FDipmUO7SuUepwOY6Bf5QJvuXH1MQk8SexmxJB9PxjxbtsrJpVJDgQ5oJDScmMrEBwX5zqIo50b+OYNKSfgIJPIvqBW5i6CfbNGbHlkEpAG+qL1r3puYC3opd+lMIJYch3aSyhMS1YC5jY8I11uzZcriHAO3hUzIZ6JQxz3GPGmBgo6rLLRWNB9n1hBON2H2RCD7Zxp5Lx6Rfi381BRnKslHhhbTloHlfoxuTMns/Pc1EtkNMey8hwF/KbPNoycPdAw8J3nt4PuMl8gAGEWwgw/1nrsOWzgg2NnqeGh/eRreFnoAtq116mZSLx/rmvIch9n7DIWaHN7y9vLB/qy1gPI3YMBCPzv8+LhXOWhuzSjb43cVsyUvKF/KpwZfOM3SxcJQbFRhRYlXfrOqWzQvHe8UNFwZELIuuf7cZtsRCcbbh042YR4YSU/Tfuei70pngijOv2ngn+GpuBoMalqlSpOw30Ez5cULgS4COtWtf3b27fETs6E4/PKXsLSsHONd292wNSc+BHvAs08LLAxiIE7c57xDkbNVFitruND+xl50whZ1zAm555WobFuWa9YkHq6Log5VOGkOuc2J16xLhPsRC9vyIzbOR544qb/tpU0heQGTeEPw0/J3rbz+WfGKccS8P6w8uLrWCV2ol/FQaMa8EGhBLd9/1qZi/7ZaDIp5mPXi4qMYozzrKtCI+Bq4wVRgD', page_age=None, title='San Diego weather in June 2025 | California, USA', type='web_search_result', url='https://www.weather2travel.com/california/san-diego/june/'), WebSearchResultBlock(encrypted_content='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', page_age='2 weeks ago', title='Weather in San Diego in June 2025 - Detailed Forecast', type='web_search_result', url='https://www.easeweather.com/north-america/united-states/california/san-diego-county/san-diego/june'), WebSearchResultBlock(encrypted_content='EpgDCioIBRgCIiQ4ODk4YTFkYy0yMTNkLTRhNmYtOTljYi03ZTBlNTUzZDc0NWISDJF1saPbDOIwY/IX2xoMUwML7rJLD//YoL9eIjA0HzB/Rogh0/F+mIIUjMdLptGkhHwJGRGg7fh036HVO/n7UquOIhe0Y/XxccfFN+8qmwKUFTtSmefYSzhjDpnxTAHm7gWlE2kk/u2wNBsIDAb0wxeybC+6KT77EcrneYKHd+wsKXAe5viXMKYEUqTIJLTZbi4brG0rreXnQwO0hxW90QCmjODWOr4Jgcp4I1LA8eNa6MBKtD9e16AtH3vwd19d6nom8yCYR+7JnLSoVccXEXrV1jjX8TOmT4/veEPq8KWU/EKmjlHoMDnJjHkqdOo415hpDYdQohxg0PWvsbCteO3LYlAL7Eb/MXH+U5s9tEOI+EEkSq26TnhU0ZKSPhO2uKFnjd62VJQ2tUlLumwDFe913S1FM7KFmF3QTpVRQa7H6K0Vw88iD/3V/uRUQUY0ZRZdCCHeC12AmQV/gKzpAKNjfEsuYimyKxs8GAM=', page_age=None, title='San Diego, CA', type='web_search_result', url='https://www.weather.gov/sgx/'), WebSearchResultBlock(encrypted_content='ErQKCioIBRgCIiQ4ODk4YTFkYy0yMTNkLTRhNmYtOTljYi03ZTBlNTUzZDc0NWISDLB/5pAoDikpQL9O2xoM299PSiAsjtm47P8fIjArA5/1eG6nwNB1kiQ6Q3W5TdwMhfdXztfV2oSl3wQZuCRgWPUw1iTtNWOGa4xRplgqtwm8nDDqfKyg720iIzIfoYrpsnPEdLRxog97ByrmD4Ya6VEBnzyUvh3AfDUfH1/BxGctwrahyIDCq8sIM6pc0hAeryRah7+cM8x8+8Aul6U3mDm711u3NsTdhMT/2y9vW6Mg7wIaeapRg+tns3TaD+Op3XCi5PPHooo9kSiA+4N9Y4ZLc6P/CB82+BP8BzFI+qkhmajD4tk5LuckfJ58pfPFYbKGaImaSLrrAkX42N+YgsW74AGPQhSTtwv1vZjHKD9WVnDxcu449RcrG2x2uG7e00dMHZXPZPzzj8FJuf2Iw55HFV0iI9hALqN/GEQsWifIIQCcq8718IO3K1in1iftMCKMm822wCUVrBHijQ5kaLUM/9OQN8fpyhYG7KSbNbCNq1xxZcDMh2h2zuVSeLhNKkuRjANWwkUx1VYCzU+O8iaT77ILigzBWYLBDJ+cb9Nwggk64AEJ3WGbH0AOoggrp+tMZ42p3ig7KnzGqTuyn0txulgGfOZEXIuOZCOy+pWtRNPxFVSuc3ikJt132dE249sL6dCiFjH22UNy1pTHb8y0qC9x51QwQbfZ1Yv4kLr5uHPq9xSbfHtn1cCBSaHyZgWKqleIE9gP1FkSOYu8HzzUNmsiqymseudzHDgsYksrgPzdGMrjw4ARP99eW+BSSqoOfxg0P/FL8bCXDdyZFSCibnqgQ9RM52uN8HUg6ipOP+9zXu3QXIEjvixTwNS+KeXhZLlFWlKnvgCXPORT/bsWl3/F0hoYzXjZhcdhjj/2Cc5esZ1P89EkCzPsQxFbbxi1diyONom1oxlcpgUciD0XSRivtCIjiuvvZSgmnPrwuAJEeoFXNfcdMJ4jnFcIoU8JLl3UzZF0p6/6Ub1yCxi5fHaVnsjpzDf3xwHh1sNt0QXeaNDv6btdU4o9bef3ucU6HT3INaPxeU2cfP1roRSjo3mGnkDErw7PIM5ObQ0ot+EJ7n6SOhMYYXlEpbbU+MUh2Qg9DDJxI0t+1L/IqstSz1WT1nnM9WH46qoOI7HaCIZve9zDNbnlLJxdqpQp8+61QSFc2g/KKMs8T4xIaN1QjKhK/Z092kCqDSzDNyuY+x66hWCYoGgca7A8H5gSscW3bZZwih8YydnrQwQF34QGcJoYDdzciSwnaCIX5AC/lUbF9ZTKFrmBbsoRlO4IfLMpDDGddXYGS++1TU4cZ2gFhQRNPRwM/s0vJJIIkDzKw0q4ktX2isDB1oGteyj0oQY2UiRqAI+UIy0bgGqz7OsouXY3uWMGhEfGjyDy4lDWdVEJgif6tGhSlxT9KNiCHjggKyHEWCSxcJ08rpRfNOdbqJJgfDBvTBROFH5qC2yJ43v6SLRrXdJYq2NQMWavYujPfoKXoHOLpdnklzEiYWdAhcoGRQ4fMZnqf7BqaY0lXRj3SqVmDq76QjbLaTExPLQAo6/GbK1vFW1+A0MmMlqkdIOEqkcvN1h8B21IvtCUEGWluQJtNYjGQBUJgzoPIqeDZGw4gq+Hxe/GuUM+bDtR7dPQq70WnuV3sHtz1Auq0J7MRWt06rVhGQEXHCZ+koSG+EAaLXajzfOMsPshrMDvWcDXh6AlNaU71Czgr/jW7zy9+NpiGAM=', page_age=None, title='San Diego weather in June 2025 | San Diego 14 day weather', type='web_search_result', url='https://www.weather25.com/north-america/usa/california/san-diego?page=month&month=June'), WebSearchResultBlock(encrypted_content='ErkCCioIBRgCIiQ4ODk4YTFkYy0yMTNkLTRhNmYtOTljYi03ZTBlNTUzZDc0NWISDJi3N6D2ArkQruO5eBoM1zsRLNy2rn+G2AaLIjBkgVjg3GJ+s7d6FKRZMFEkb+Z31yOpotWhbtqGqT+9S36FAuYq9LpHFGob9q2rct0qvAEWFvcLWmCLDuQQmtQeq6LNn4WETyTl5ux/wQy/w51uqe4LTos4MJpuusA7CpCeq9VJVNL5jaT/G8wtLH414JZiX3BJ3Eu1/qDcY8BPMRpg6X0nItyMX0tVX2wqFMC5nGut1kq/NNoaDiNDFlGPLRzcV+7xTCKCSncR5pD1ODajpMzkjSK7Uemdoan1C2E+OPGefZpCCB3hql6Y5W53An+/OvslaqNJWkisSXcwF1JSUFau7Hgm8hjzh1jkTRgD', page_age=None, title='San Diego June Weather, Average Temperature (California, United States) - Weather Spark', type='web_search_result', url='https://weatherspark.com/m/1816/6/Average-Weather-in-June-in-San-Diego-California-United-States'), WebSearchResultBlock(encrypted_content='EvMDCioIBRgCIiQ4ODk4YTFkYy0yMTNkLTRhNmYtOTljYi03ZTBlNTUzZDc0NWISDM/cbIVeTBXT9voCkhoMPfYcfxXxnVidSvhVIjB+yd0W2KlmcmA2ZCzIXd9up8mh9xSG2GFudY+aGVJpj1DFRz1jPXyrTpsJ8AG+78cq9gKh+N30OHMjax7P9ze+42G3k7sSBFONiUg7CTBzupiYK8Ba+P5oa4tDAI/g33a14ZcC59C0sYWwlzwy65nE4cOEaDp6MuTdnQrHjhlsVl19hhzS3N4oMK8OG805EdKuJYZR0RiXHi+5v3v9uWaXCwXaONyp1BG3rFOM5YgILreVcaG/WGCNX3rtD0hVkdxLEQqM/Aje9hESMuYO9R+wmpuvsoEA8UIjIe7JxVEBmBWo4B0h3Je88YnTpyM2DLdIgRGU8Rmiwq640lnpppv/Wt1L/nAutk0bF3a9Z8eJHwodJ38MzjbKRjTO2AKsHK/gIOrimqjdSF22+lMCyFFDJdMaXZk+GeNypwOcaet7zeIBstNNfVlXH3tQ5D7S1MlXg5ryYwy5w8UgpnTNnjz064XpfGHutvDhNy7mn/cqUY8ZjpF6sel3WPNGSXenCi7N6iftz7D3PqFQNcOnEiKHkhU+cBEGvnDjHm/1yAViDBD1bfAAnqsqpBgD', page_age=None, title='Weather in San Diego in June 2025 (California) - detailed Weather Forecast for a month', type='web_search_result', url='https://world-weather.info/forecast/usa/san_diego/june-2025/'), WebSearchResultBlock(encrypted_content='EqoCCioIBRgCIiQ4ODk4YTFkYy0yMTNkLTRhNmYtOTljYi03ZTBlNTUzZDc0NWISDEl49Oe+qnDexKtEgxoMr9q2lXBOoXst6OhOIjAn2y+pjSOqVEBL7xiqE/es/iziK6T6U5dpmXhmJ6r4uKLTj/xxyFdJhNlbbf3ovtkqrQH3d6oVEpE+JdwMz7DUApBzzfaKo5aUg2bg2Ou/4ePL1Al+nKCl1h5FRBwugk36fAWF1J/UOHdo8dXYi40OB/4D9nj73Q17TBy32+eapRasJigBGwsJEedMcK05xe5jxEpoiThrESLiNOl5PvuePsW/NRYXALaR26iSyXkc85Bo/zd29xyJTP8kpPvvhKSXfbPHGod3FttsBoEofSLDM+u9AuItWIScDkpGTWyyCBgD', page_age=None, title='Monthly Weather Forecast for San Diego, CA - weather.com', type='web_search_result', url='https://weather.com/weather/monthly/l/San+Diego+CA?canonicalCityId=3b2b39ed755b459b725bf2a29c71d678'), WebSearchResultBlock(encrypted_content='EqkDCioIBRgCIiQ4ODk4YTFkYy0yMTNkLTRhNmYtOTljYi03ZTBlNTUzZDc0NWISDPCvBvTyswNYLFz68RoMluXlO6Wz5Y+33Lb/IjAOdY6gnQiTcGdYTtHlkFSvaU1XijN5mKdIN3nOcZWrUG8/DQO6/nJZhNQ44TCuvKEqrAJ4l9NGySNtWh8NDwzaIACqRrleg7VLuaTB8sEUCKWOyMOPIBpJEpXx+k0Fq1HamYJ2xmm7UxVOzPxHXPhCHEjDNJzM9voexJ7N48XyBDBXbN5YIP98uzuwDQtiuxfda3LbDMcmr0rtcXMpa13LWoq9wkX8OpxLGuSdEu1YEGiYSgnIf/dqnhveleHL2gE2+qWLDUO/rVGGePFU2CPRObcOe68QN8ARomFao4NGDg8yR7GDi+M6mLT7neiqc+3qsM62BsTNs5K8ofSIH2ibWY3srY7zWXCzik1IYmZ4NA9TlV/XpHHNRl5ANvUVIJe74T40fjeAWTlhTvXF9rZiqj6yyEhIBRnLnC1nBv4qOhukIvxG7W+dzXPYyeTNYmKxBa5jYfT6tquGTVDckFYYAw==', page_age=None, title='Past Weather in San Diego, California, USA — Yesterday or Further Back', type='web_search_result', url='https://www.timeanddate.com/weather/usa/san-diego/historic')], tool_use_id='srvtoolu_01B6bY6W61DBjgchQnXoxC5B', type='web_search_tool_result'), TextBlock(citations=None, text=\"Based on the search results, I can provide you with information about San Diego's weather. However, the search results primarily show historical averages and monthly forecasts rather than real-time current conditions. Let me provide you with the most relevant information available:\\n\\n## Current San Diego Weather Information\\n\\nBased on the available data, here's what I can tell you about San Diego's weather:\\n\\n**Today's Conditions (June 29, 2025):**\\n\", type='text'), TextBlock(citations=[CitationsWebSearchResultLocation(cited_text='One must-visit attraction is the Myrtle Beach Boardwalk, known for its vibrant atmosphere and stunning ocean views.', encrypted_index='EpABCioIBRgCIiQ4ODk4YTFkYy0yMTNkLTRhNmYtOTljYi03ZTBlNTUzZDc0NWISDOkiKf2zy+04rl5d7hoMWPj81K75PO17KY9hIjA/0SOos4FKT1jpPcNz/bmSVm99tzAAhvizMxpgpi+m84teXj8gEWVMnmVAB+2Zmj4qFD6iBzX1+uvtOXCryY6cYAJveCkrGAQ=', title='Weather San Diego in June 2025: Temperature & Climate', type='web_search_result_location', url='https://en.climate-data.org/north-america/united-states-of-america/california/san-diego-714969/t/june-6/')], text=\"Today's forecast shows a high of 74°F and low of 62°F\", type='text'), TextBlock(citations=None, text=\" according to AccuWeather's monthly data.\\n\\n**General June Weather Patterns:**\\n- \", type='text'), TextBlock(citations=[CitationsWebSearchResultLocation(cited_text='Detailed San Diego Weather Forecast for June 2025 – day/night temperatures, precipitations – World-Weather.info', encrypted_index='EpABCioIBRgCIiQ4ODk4YTFkYy0yMTNkLTRhNmYtOTljYi03ZTBlNTUzZDc0NWISDIZQJ1Z8nS1O4tl7IhoMIRxmFdUWXE+X3EqSIjAkN2XRCqRnkLlI3lRmX5ggNg4ejWwnTTwBtuZjnACpxaTDHkMNPvCMurs4ZkFJsw0qFJyfgH41VI++NI1RizgprfqZWLL6GAQ=', title='Weather in San Diego in June 2025 (California) - detailed Weather Forecast for a month', type='web_search_result_location', url='https://world-weather.info/forecast/usa/san_diego/june-2025/')], text='Daily high temperatures in June typically range from 69°F to 73°F', type='text'), TextBlock(citations=None, text='\\n- ', type='text'), TextBlock(citations=[CitationsWebSearchResultLocation(cited_text='', encrypted_index='EpQBCioIBRgCIiQ4ODk4YTFkYy0yMTNkLTRhNmYtOTljYi03ZTBlNTUzZDc0NWISDAtzfVE1r8F2sLhJYhoMVQ3sl6b7h1/rbyR4IjBTo/ryNOijf8euNJFHDKS1uEBExrxnh8Wsxzpr6PGj4jICy57I88ecVBFbztnoJLoqGBLgjSgWWmPschP22ySnEMTUd000uPHK3hgE', title='San Diego weather in June 2025 | California, USA', type='web_search_result_location', url='https://www.weather2travel.com/california/san-diego/june/')], text='Daytime highs can reach up to approximately 71.8°F (22.1°C), with nighttime temperatures cooling down to about 58.8°F (14.9°C)', type='text'), TextBlock(citations=None, text='\\n- ', type='text'), TextBlock(citations=[CitationsWebSearchResultLocation(cited_text='', encrypted_index='EpQBCioIBRgCIiQ4ODk4YTFkYy0yMTNkLTRhNmYtOTljYi03ZTBlNTUzZDc0NWISDJ5xbG9zC0i71Gvk6RoM4Zrh9/QZdO3mZ+RgIjBIEHcHabVRB3KK+fHmAT3tmAFFHgoeeJmPeRfhoSwo3DQ1ZDMtuyasIgAqy3ZFCGUqGN1/A++l1nFc/XjGX5AgrFLSyUvrpfpU+BgE', title='San Diego weather in June 2025 | California, USA', type='web_search_result_location', url='https://www.weather2travel.com/california/san-diego/june/')], text='San Diego experiences minimal rainfall in June, with an average precipitation of just 2mm and typically no rainy days during this month', type='text'), TextBlock(citations=None, text='\\n\\n**Current Regional Forecast:**\\n', type='text'), TextBlock(citations=[CitationsWebSearchResultLocation(cited_text='The temperatures in San Diego in June are comfortable with low of 17°C and and high up to 23°C. As it is almost never rain during June in San Diego th...', encrypted_index='EpIBCioIBRgCIiQ4ODk4YTFkYy0yMTNkLTRhNmYtOTljYi03ZTBlNTUzZDc0NWISDL9oTHvyX2tU5KZ/fBoMbwgHXhD2yfOY8wmsIjArN45VIGvF4uHTY/Q6bgV6DRGHZphjaF+F+Wd7+gPuhxC5zmhlcGyI2hTO7He+P8gqFhoflo/iytgpE2g/5hk1lOfso2duT+MYBA==', title='San Diego weather in June 2025 | San Diego 14 day weather', type='web_search_result_location', url='https://www.weather25.com/north-america/usa/california/san-diego?page=month&month=June')], text='Temperatures are near to slightly above normal, with coastal areas expected to be 72 to 80°F', type='text'), TextBlock(citations=None, text=' according to the National Weather Service.\\n\\n**Air Quality Note:**\\n', type='text'), TextBlock(citations=[CitationsWebSearchResultLocation(cited_text='The air has reached a high level of pollution and is unhealthy for sensitive groups. Reduce time spent outside if you are feeling symptoms such as dif...', encrypted_index='EpEBCioIBRgCIiQ4ODk4YTFkYy0yMTNkLTRhNmYtOTljYi03ZTBlNTUzZDc0NWISDNV22HH1SubH9Tt7FxoMlMXY1sub4H2mbO/cIjAquJemkhiMdh0k97Qlrd63MONAf7Dz7u98y37qWMPyQApP9BI8Xs1r0lcj9IBMRwAqFd3oahmSiBEX9G8K9GqosVTl0m3LTxgE', title='San Diego, CA Weather Forecast | AccuWeather', type='web_search_result_location', url='https://www.accuweather.com/en/us/san-diego/92101/weather-forecast/347628')], text='The air has reached a high level of pollution and is unhealthy for sensitive groups, so you may want to reduce time spent outside if experiencing symptoms like difficulty breathing or throat irritation', type='text'), TextBlock(citations=None, text=\".\\n\\nFor the most current, real-time conditions including exact temperature, humidity, and wind conditions, I'd recommend checking a local weather app or visiting weather.com directly, as the search results didn't provide specific current readings for today.\", type='text')], model='claude-sonnet-4-20250514', role='assistant', stop_reason='end_turn', stop_sequence=None, type='message', usage=In: 20; Out: 619; Cache create: 11876; Cache read: 9018; Total Tokens: 21533; Search: 2)"
      ]
     },
     "execution_count": null,
     "metadata": {},
     "output_type": "execute_result"
    }
   ],
   "source": [
    "chat = Chat(model, sp='Be concise in your responses.', tools=[search_conf()], cache=True)\n",
    "pr = 'What is the weather in San Diego?'\n",
    "r = chat(pr)\n",
    "r"
   ]
  },
  {
   "cell_type": "markdown",
   "id": "b1580f5c",
   "metadata": {},
   "source": [
    "## Third party providers"
   ]
  },
  {
   "cell_type": "markdown",
   "id": "62a251bc",
   "metadata": {},
   "source": [
    "NB: The 3rd party model list is currently out of date--PRs to fix that would be welcome!"
   ]
  },
  {
   "cell_type": "markdown",
   "id": "bd88f878",
   "metadata": {},
   "source": [
    "### Amazon Bedrock"
   ]
  },
  {
   "cell_type": "markdown",
   "id": "a6ecba86",
   "metadata": {},
   "source": [
    "These are Amazon's current Claude models:"
   ]
  },
  {
   "cell_type": "code",
   "execution_count": null,
   "id": "81d16826",
   "metadata": {},
   "outputs": [
    {
     "data": {
      "text/plain": [
       "['anthropic.claude-sonnet-4-20250514-v1:0',\n",
       " 'claude-3-5-haiku-20241022',\n",
       " 'claude-3-7-sonnet-20250219',\n",
       " 'anthropic.claude-3-opus-20240229-v1:0',\n",
       " 'anthropic.claude-3-5-sonnet-20241022-v2:0']"
      ]
     },
     "execution_count": null,
     "metadata": {},
     "output_type": "execute_result"
    }
   ],
   "source": [
    "models_aws"
   ]
  },
  {
   "cell_type": "markdown",
   "id": "9b8b2bc4",
   "metadata": {},
   "source": [
    "Provided `boto3` is installed, we otherwise don't need any extra code to support Amazon Bedrock -- we just have to set up the approach client:"
   ]
  },
  {
   "cell_type": "code",
   "execution_count": null,
   "id": "08cb7585",
   "metadata": {},
   "outputs": [],
   "source": [
    "ab = AnthropicBedrock(\n",
    "    aws_access_key=os.environ['AWS_ACCESS_KEY'],\n",
    "    aws_secret_key=os.environ['AWS_SECRET_KEY'],\n",
    ")\n",
    "client = Client(models_aws[0], ab)"
   ]
  },
  {
   "cell_type": "code",
   "execution_count": null,
   "id": "f1f2f214",
   "metadata": {},
   "outputs": [],
   "source": [
    "chat = Chat(cli=client)"
   ]
  },
  {
   "cell_type": "code",
   "execution_count": null,
   "id": "ec54a422",
   "metadata": {},
   "outputs": [],
   "source": [
    "chat(\"I'm Jeremy\")"
   ]
  },
  {
   "cell_type": "markdown",
   "id": "1b331146",
   "metadata": {},
   "source": [
    "### Google Vertex"
   ]
  },
  {
   "cell_type": "code",
   "execution_count": null,
   "id": "fdb46839",
   "metadata": {},
   "outputs": [
    {
     "data": {
      "text/plain": [
       "['anthropic.claude-3-sonnet-20240229-v1:0',\n",
       " 'anthropic.claude-3-haiku-20240307-v1:0',\n",
       " 'claude-3-opus@20240229',\n",
       " 'claude-3-5-sonnet-v2@20241022',\n",
       " 'claude-3-sonnet@20240229',\n",
       " 'claude-3-haiku@20240307']"
      ]
     },
     "execution_count": null,
     "metadata": {},
     "output_type": "execute_result"
    }
   ],
   "source": [
    "models_goog"
   ]
  },
  {
   "cell_type": "code",
   "execution_count": null,
   "id": "30921ab4",
   "metadata": {},
   "outputs": [],
   "source": [
    "from anthropic import AnthropicVertex\n",
    "import google.auth"
   ]
  },
  {
   "cell_type": "code",
   "execution_count": null,
   "id": "c00ef664",
   "metadata": {},
   "outputs": [],
   "source": [
    "project_id = google.auth.default()[1]\n",
    "region = \"us-east5\"\n",
    "gv = AnthropicVertex(project_id=project_id, region=region)\n",
    "client = Client(models_goog[-1], gv)"
   ]
  },
  {
   "cell_type": "code",
   "execution_count": null,
   "id": "7d0481b5",
   "metadata": {},
   "outputs": [],
   "source": [
    "chat = Chat(cli=client)"
   ]
  },
  {
   "cell_type": "code",
   "execution_count": null,
   "id": "11006ae0",
   "metadata": {},
   "outputs": [],
   "source": [
    "chat(\"I'm Jeremy\")"
   ]
  },
  {
   "cell_type": "markdown",
   "id": "94ec4289",
   "metadata": {},
   "source": [
    "## Export -"
   ]
  },
  {
   "cell_type": "code",
   "execution_count": null,
   "id": "1e9ee5c1",
   "metadata": {},
   "outputs": [],
   "source": [
    "#|hide\n",
    "#|eval: false\n",
    "from nbdev.doclinks import nbdev_export\n",
    "nbdev_export()"
   ]
  },
  {
   "cell_type": "code",
   "execution_count": null,
   "id": "12a64c67",
   "metadata": {},
   "outputs": [],
   "source": []
  }
 ],
 "metadata": {
  "kernelspec": {
   "display_name": "python3",
   "language": "python",
   "name": "python3"
  }
 },
 "nbformat": 4,
 "nbformat_minor": 5
}
