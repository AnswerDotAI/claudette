{
 "cells": [
  {
   "cell_type": "code",
   "execution_count": null,
   "id": "efe78920",
   "metadata": {},
   "outputs": [],
   "source": [
    "#|default_exp core"
   ]
  },
  {
   "cell_type": "markdown",
   "id": "3d773712-12fe-440e-891f-36f59666dfde",
   "metadata": {},
   "source": [
    "# Claudio source code"
   ]
  },
  {
   "cell_type": "markdown",
   "id": "f9beb58b",
   "metadata": {},
   "source": [
    "This is the 'literate' source code for Claudio. You can view the fully rendered version of the source [here](https://answerdotai.github.io/claudio/core.html). It is converted into a Python module using [nbdev](https://nbdev.fast.ai/). The goal of this source code is to both create the Python module, and also to teach the reader *how* it is created, without assuming much existing knowledge about Claude's API."
   ]
  },
  {
   "cell_type": "markdown",
   "id": "ff6f6471-8061-4fdd-85a1-25fdc27c5cf3",
   "metadata": {},
   "source": [
    "## Setup"
   ]
  },
  {
   "cell_type": "code",
   "execution_count": null,
   "id": "f1ad998e-4bb1-4bed-abf4-6e8606cb2453",
   "metadata": {},
   "outputs": [],
   "source": [
    "import os\n",
    "# os.environ['ANTHROPIC_LOG'] = 'debug'"
   ]
  },
  {
   "cell_type": "markdown",
   "id": "379975fa",
   "metadata": {},
   "source": [
    "To print every HTTP request and response in full, uncomment the above line. This functionality is provided by Anthropic's SDK."
   ]
  },
  {
   "cell_type": "code",
   "execution_count": null,
   "id": "e223d3af",
   "metadata": {},
   "outputs": [],
   "source": [
    "#| export\n",
    "import tokenize, ast, inspect, inspect, typing\n",
    "import xml.etree.ElementTree as ET, json\n",
    "from collections import abc\n",
    "\n",
    "from anthropic import Anthropic\n",
    "from anthropic.types import Usage, TextBlock, Message\n",
    "from anthropic.types.beta.tools import ToolsBetaMessage, tool_use_block\n",
    "from inspect import Parameter\n",
    "from io import BytesIO\n",
    "try: from IPython.display import Markdown,HTML\n",
    "except: Markdown,HTML=None,None\n",
    "\n",
    "from fastcore.docments import docments\n",
    "from fastcore.utils import *"
   ]
  },
  {
   "cell_type": "code",
   "execution_count": null,
   "id": "0fff8869",
   "metadata": {},
   "outputs": [],
   "source": [
    "#| exports\n",
    "models = 'claude-3-opus-20240229','claude-3-sonnet-20240229','claude-3-haiku-20240307'"
   ]
  },
  {
   "cell_type": "markdown",
   "id": "0463ab76",
   "metadata": {},
   "source": [
    "These are the current versions of Anthropic's model at the time of writing."
   ]
  },
  {
   "cell_type": "code",
   "execution_count": null,
   "id": "0d082001",
   "metadata": {},
   "outputs": [],
   "source": [
    "#| export\n",
    "empty = Parameter.empty"
   ]
  },
  {
   "cell_type": "code",
   "execution_count": null,
   "id": "dacf2bd2",
   "metadata": {},
   "outputs": [],
   "source": [
    "model = models[-1]"
   ]
  },
  {
   "cell_type": "markdown",
   "id": "d31ce931",
   "metadata": {},
   "source": [
    "For examples, we'll use Haiku, since it's fast and cheap (and surprisingly good!)"
   ]
  },
  {
   "cell_type": "markdown",
   "id": "863d4d81",
   "metadata": {},
   "source": [
    "## Client"
   ]
  },
  {
   "cell_type": "code",
   "execution_count": null,
   "id": "c8f10018",
   "metadata": {},
   "outputs": [],
   "source": [
    "cli = Anthropic()"
   ]
  },
  {
   "cell_type": "markdown",
   "id": "36adab2a",
   "metadata": {},
   "source": [
    "This is what Anthropic's SDK provides for interacting with Python. To use it, pass it a list of *messages*, with *content* and a *role*. The roles should alternate between *user* and *assistant*."
   ]
  },
  {
   "cell_type": "code",
   "execution_count": null,
   "id": "3054b089",
   "metadata": {},
   "outputs": [
    {
     "data": {
      "text/plain": [
       "Message(id='msg_0166BSyHCJzC2qRoaqEgcaLa', content=[TextBlock(text=\"It's nice to meet you Jeremy! I'm Claude, an AI assistant created by Anthropic. How can I help you today?\", type='text')], model='claude-3-haiku-20240307', role='assistant', stop_reason='end_turn', stop_sequence=None, type='message', usage=Usage(input_tokens=10, output_tokens=31))"
      ]
     },
     "execution_count": null,
     "metadata": {},
     "output_type": "execute_result"
    }
   ],
   "source": [
    "m = {'role': 'user', 'content': \"I'm Jeremy\"}\n",
    "r = cli.messages.create(messages=[m], model=model, max_tokens=100)\n",
    "r"
   ]
  },
  {
   "cell_type": "code",
   "execution_count": null,
   "id": "4f3e4de9",
   "metadata": {},
   "outputs": [],
   "source": [
    "#| exports\n",
    "def mk_msg(content, role='user', **kw):\n",
    "    \"Helper to create a `dict` appropriate for a Claude message\"\n",
    "    if hasattr(content, 'content'): content,role = content.content,content.role\n",
    "    if isinstance(content, abc.Mapping): content=content['content']\n",
    "    return dict(role=role, content=content, **kw)"
   ]
  },
  {
   "cell_type": "markdown",
   "id": "74874472",
   "metadata": {},
   "source": [
    "We make things a bit more convenient by writing a function to create these messages for us.\n",
    "\n",
    "As you see from the source, `mk_msg` doesn't only handle `str` for `content`, but can also deal with a `dict` or an object containing `content` (such as for from assistant responses)."
   ]
  },
  {
   "cell_type": "code",
   "execution_count": null,
   "id": "b2ef23e1",
   "metadata": {},
   "outputs": [
    {
     "data": {
      "text/plain": [
       "{'role': 'user', 'content': \"I'm Jeremy\"}"
      ]
     },
     "execution_count": null,
     "metadata": {},
     "output_type": "execute_result"
    }
   ],
   "source": [
    "prompt = \"I'm Jeremy\"\n",
    "m = mk_msg(prompt)\n",
    "m"
   ]
  },
  {
   "cell_type": "code",
   "execution_count": null,
   "id": "88061ecb",
   "metadata": {},
   "outputs": [
    {
     "data": {
      "text/plain": [
       "Message(id='msg_01XfjfhTtJZVf4uZXvVdGMGr', content=[TextBlock(text=\"It's nice to meet you, Jeremy! How can I assist you today?\", type='text')], model='claude-3-haiku-20240307', role='assistant', stop_reason='end_turn', stop_sequence=None, type='message', usage=Usage(input_tokens=10, output_tokens=19))"
      ]
     },
     "execution_count": null,
     "metadata": {},
     "output_type": "execute_result"
    }
   ],
   "source": [
    "r = cli.messages.create(messages=[m], model=model, max_tokens=100)\n",
    "r"
   ]
  },
  {
   "cell_type": "code",
   "execution_count": null,
   "id": "d12323ef",
   "metadata": {},
   "outputs": [],
   "source": [
    "#| exports\n",
    "def find_block(r, blk_type=TextBlock):\n",
    "    \"Find the first block of type `blk_type` in `r.content`\"\n",
    "    return first(o for o in r.content if isinstance(o,blk_type))"
   ]
  },
  {
   "cell_type": "markdown",
   "id": "1c0524c6",
   "metadata": {},
   "source": [
    "This makes it easier to grab the needed parts of Claude's responses, which can include multiple pieces of content. By default, we look for the first text block."
   ]
  },
  {
   "cell_type": "code",
   "execution_count": null,
   "id": "d1cd110b",
   "metadata": {},
   "outputs": [
    {
     "data": {
      "text/plain": [
       "TextBlock(text=\"It's nice to meet you, Jeremy! How can I assist you today?\", type='text')"
      ]
     },
     "execution_count": null,
     "metadata": {},
     "output_type": "execute_result"
    }
   ],
   "source": [
    "find_block(r)"
   ]
  },
  {
   "cell_type": "code",
   "execution_count": null,
   "id": "d59ea74a",
   "metadata": {},
   "outputs": [],
   "source": [
    "#| exports\n",
    "def contents(r):\n",
    "    \"Helper to get the contents from Claude response `r`\"\n",
    "    return find_block(r).text.strip()"
   ]
  },
  {
   "cell_type": "markdown",
   "id": "c5a237f2",
   "metadata": {},
   "source": [
    "For display purposes, we often just want to show the text itself."
   ]
  },
  {
   "cell_type": "code",
   "execution_count": null,
   "id": "da7fd7b0",
   "metadata": {},
   "outputs": [
    {
     "data": {
      "text/plain": [
       "\"It's nice to meet you, Jeremy! How can I assist you today?\""
      ]
     },
     "execution_count": null,
     "metadata": {},
     "output_type": "execute_result"
    }
   ],
   "source": [
    "contents(r)"
   ]
  },
  {
   "cell_type": "code",
   "execution_count": null,
   "id": "8cfb240d",
   "metadata": {},
   "outputs": [],
   "source": [
    "#| exports\n",
    "def mk_msgs(msgs, **kw):\n",
    "    \"Helper to set 'assistant' role on alternate messages\"\n",
    "    if isinstance(msgs,str): msgs=[msgs]\n",
    "    return [mk_msg(o, ('user','assistant')[i%2], **kw) for i,o in enumerate(msgs)]"
   ]
  },
  {
   "cell_type": "markdown",
   "id": "062a567c",
   "metadata": {},
   "source": [
    "LLMs, including Claude, don't actually have state, but instead dialogs are created by passing back all previous prompts and responses every time. With Claude, they always alternate *user* and *assistant*. Therefore we create a function to make it easier to build up these dialog lists."
   ]
  },
  {
   "cell_type": "code",
   "execution_count": null,
   "id": "173e5e83",
   "metadata": {},
   "outputs": [
    {
     "data": {
      "text/plain": [
       "[{'role': 'user', 'content': \"I'm Jeremy\"},\n",
       " {'role': 'assistant',\n",
       "  'content': [TextBlock(text=\"It's nice to meet you, Jeremy! How can I assist you today?\", type='text')]},\n",
       " {'role': 'user', 'content': 'I forgot my name. Can you remind me please?'}]"
      ]
     },
     "execution_count": null,
     "metadata": {},
     "output_type": "execute_result"
    }
   ],
   "source": [
    "msgs = mk_msgs([prompt, r, 'I forgot my name. Can you remind me please?'])\n",
    "msgs"
   ]
  },
  {
   "cell_type": "markdown",
   "id": "275deca0",
   "metadata": {},
   "source": [
    "Now, if we pass this list of messages to Claude, the model treats it as a conversation to respond to."
   ]
  },
  {
   "cell_type": "code",
   "execution_count": null,
   "id": "10dda33d",
   "metadata": {},
   "outputs": [
    {
     "data": {
      "text/plain": [
       "Message(id='msg_01PZdDuPReddF627z6fSdUaU', content=[TextBlock(text=\"I'm afraid I don't actually know your name. I only know that you introduced yourself as Jeremy. If you've forgotten your own name, I don't have a way to remind you of it. Perhaps you could check some form of identification or think back to when you last used your name.\", type='text')], model='claude-3-haiku-20240307', role='assistant', stop_reason='end_turn', stop_sequence=None, type='message', usage=Usage(input_tokens=43, output_tokens=63))"
      ]
     },
     "execution_count": null,
     "metadata": {},
     "output_type": "execute_result"
    }
   ],
   "source": [
    "r = cli.messages.create(messages=msgs, model=model, max_tokens=200)\n",
    "r"
   ]
  },
  {
   "cell_type": "code",
   "execution_count": null,
   "id": "fe1b3790",
   "metadata": {},
   "outputs": [],
   "source": [
    "@patch\n",
    "def _repr_html_(self:(ToolsBetaMessage,Message)):\n",
    "    det = '</li>\\n<li>'.join(f'{k}: {v}' for k,v in self.dict().items())\n",
    "    return f\"\"\"{contents(self)}\n",
    "<details><ul><li>\n",
    "{det}\n",
    "</ul></li></details>\"\"\""
   ]
  },
  {
   "cell_type": "markdown",
   "id": "1fc63d61",
   "metadata": {},
   "source": [
    "Jupyter looks for a `_repr_html_` method in displayed objects; we add this in order to display just the content text, and collapse full details into a hideable section. Note that `patch` is from `fastcore`, and is used to add (or replace) functionality in an existing class."
   ]
  },
  {
   "cell_type": "code",
   "execution_count": null,
   "id": "6fc2658b",
   "metadata": {},
   "outputs": [
    {
     "data": {
      "text/html": [
       "I'm afraid I don't actually know your name - you introduced yourself to me as Jeremy, but if you've forgotten your own name, I don't have a way to remind you of it. As an AI, I don't have personal information about you stored. I can only respond based on what you tell me directly in our conversation.\n",
       "<details><ul><li>\n",
       "id: msg_01FidCYYvZsh8scXhxK7JiYR</li>\n",
       "<li>content: [{'text': \"I'm afraid I don't actually know your name - you introduced yourself to me as Jeremy, but if you've forgotten your own name, I don't have a way to remind you of it. As an AI, I don't have personal information about you stored. I can only respond based on what you tell me directly in our conversation.\", 'type': 'text'}]</li>\n",
       "<li>model: claude-3-haiku-20240307</li>\n",
       "<li>role: assistant</li>\n",
       "<li>stop_reason: end_turn</li>\n",
       "<li>stop_sequence: None</li>\n",
       "<li>type: message</li>\n",
       "<li>usage: {'input_tokens': 78, 'output_tokens': 72}\n",
       "</ul></li></details>"
      ],
      "text/plain": [
       "Message(id='msg_01FidCYYvZsh8scXhxK7JiYR', content=[TextBlock(text=\"I'm afraid I don't actually know your name - you introduced yourself to me as Jeremy, but if you've forgotten your own name, I don't have a way to remind you of it. As an AI, I don't have personal information about you stored. I can only respond based on what you tell me directly in our conversation.\", type='text')], model='claude-3-haiku-20240307', role='assistant', stop_reason='end_turn', stop_sequence=None, type='message', usage=Usage(input_tokens=78, output_tokens=72))"
      ]
     },
     "execution_count": null,
     "metadata": {},
     "output_type": "execute_result"
    }
   ],
   "source": [
    "r"
   ]
  },
  {
   "cell_type": "markdown",
   "id": "c0962161",
   "metadata": {},
   "source": [
    "One key part of the response is the `usage` key, which tells us how many tokens we used:"
   ]
  },
  {
   "cell_type": "code",
   "execution_count": null,
   "id": "e05afef6",
   "metadata": {},
   "outputs": [
    {
     "data": {
      "text/plain": [
       "Usage(input_tokens=78, output_tokens=72)"
      ]
     },
     "execution_count": null,
     "metadata": {},
     "output_type": "execute_result"
    }
   ],
   "source": [
    "r.usage"
   ]
  },
  {
   "cell_type": "code",
   "execution_count": null,
   "id": "13f9cc0d",
   "metadata": {},
   "outputs": [],
   "source": [
    "#| exports\n",
    "def usage(inp=0, out=0):\n",
    "    \"Slightly more concise version of `Usage`\"\n",
    "    return Usage(input_tokens=inp, output_tokens=out)"
   ]
  },
  {
   "cell_type": "markdown",
   "id": "afabf784",
   "metadata": {},
   "source": [
    "The constructor provided by Anthropic is rather verbose, so we clean it up a bit, using a lowercase version of the name."
   ]
  },
  {
   "cell_type": "code",
   "execution_count": null,
   "id": "daab3f31",
   "metadata": {},
   "outputs": [
    {
     "data": {
      "text/plain": [
       "Usage(input_tokens=5, output_tokens=0)"
      ]
     },
     "execution_count": null,
     "metadata": {},
     "output_type": "execute_result"
    }
   ],
   "source": [
    "usage(5)"
   ]
  },
  {
   "cell_type": "code",
   "execution_count": null,
   "id": "540903ec",
   "metadata": {},
   "outputs": [],
   "source": [
    "#| exports\n",
    "@patch(as_prop=True)\n",
    "def total(self:Usage): return self.input_tokens+self.output_tokens"
   ]
  },
  {
   "cell_type": "markdown",
   "id": "4fcf90ff",
   "metadata": {},
   "source": [
    "Adding a `total` property to `Usage` makes it easier to see how many tokens we've used up altogether."
   ]
  },
  {
   "cell_type": "code",
   "execution_count": null,
   "id": "214b77a7",
   "metadata": {},
   "outputs": [
    {
     "data": {
      "text/plain": [
       "6"
      ]
     },
     "execution_count": null,
     "metadata": {},
     "output_type": "execute_result"
    }
   ],
   "source": [
    "usage(5,1).total"
   ]
  },
  {
   "cell_type": "code",
   "execution_count": null,
   "id": "be2098c6",
   "metadata": {},
   "outputs": [],
   "source": [
    "#| exports\n",
    "@patch\n",
    "def __repr__(self:Usage): return f'In: {self.input_tokens}; Out: {self.output_tokens}; Total: {self.total}'"
   ]
  },
  {
   "cell_type": "code",
   "execution_count": null,
   "id": "3b8767a8",
   "metadata": {},
   "outputs": [
    {
     "data": {
      "text/plain": [
       "In: 78; Out: 72; Total: 150"
      ]
     },
     "execution_count": null,
     "metadata": {},
     "output_type": "execute_result"
    }
   ],
   "source": [
    "r.usage"
   ]
  },
  {
   "cell_type": "code",
   "execution_count": null,
   "id": "4a6c0c7e",
   "metadata": {},
   "outputs": [],
   "source": [
    "#| exports\n",
    "@patch\n",
    "def __add__(self:Usage, b):\n",
    "    return usage(self.input_tokens+b.input_tokens, self.output_tokens+b.output_tokens)"
   ]
  },
  {
   "cell_type": "code",
   "execution_count": null,
   "id": "d1be540b",
   "metadata": {},
   "outputs": [
    {
     "data": {
      "text/plain": [
       "In: 156; Out: 144; Total: 300"
      ]
     },
     "execution_count": null,
     "metadata": {},
     "output_type": "execute_result"
    }
   ],
   "source": [
    "r.usage+r.usage"
   ]
  },
  {
   "cell_type": "code",
   "execution_count": null,
   "id": "aa47f199",
   "metadata": {},
   "outputs": [],
   "source": [
    "#| exports\n",
    "class Client:\n",
    "    def __init__(self, model, cli=None):\n",
    "        \"Basic Anthropic messages client\"\n",
    "        self.model,self.use = model,Usage(input_tokens=0,output_tokens=0)\n",
    "        self.c = (cli or Anthropic())"
   ]
  },
  {
   "cell_type": "code",
   "execution_count": null,
   "id": "12b66349",
   "metadata": {},
   "outputs": [
    {
     "data": {
      "text/plain": [
       "In: 0; Out: 0; Total: 0"
      ]
     },
     "execution_count": null,
     "metadata": {},
     "output_type": "execute_result"
    }
   ],
   "source": [
    "c = Client(model)\n",
    "c.use"
   ]
  },
  {
   "cell_type": "code",
   "execution_count": null,
   "id": "4bd0c7fe",
   "metadata": {},
   "outputs": [],
   "source": [
    "#| exports\n",
    "@patch\n",
    "def _r(self:Client, r:ToolsBetaMessage):\n",
    "    \"Store the result of the message and accrue total usage\"\n",
    "    self.result = r\n",
    "    self.use += r.usage\n",
    "    return r"
   ]
  },
  {
   "cell_type": "code",
   "execution_count": null,
   "id": "190b21f8",
   "metadata": {},
   "outputs": [
    {
     "data": {
      "text/plain": [
       "In: 78; Out: 72; Total: 150"
      ]
     },
     "execution_count": null,
     "metadata": {},
     "output_type": "execute_result"
    }
   ],
   "source": [
    "c._r(r)\n",
    "c.use"
   ]
  },
  {
   "cell_type": "code",
   "execution_count": null,
   "id": "ee342b06",
   "metadata": {},
   "outputs": [],
   "source": [
    "#| exports\n",
    "@patch\n",
    "def __call__(self:Client, msgs, sp='', temp=0, maxtok=4096, stop=None, **kw):\n",
    "    \"Make a call to Claude without streaming\"\n",
    "    r = self.c.beta.tools.messages.create(\n",
    "        model=self.model, messages=mk_msgs(msgs), max_tokens=maxtok, system=sp, temperature=temp, stop_sequences=stop, **kw)\n",
    "    return self._r(r)"
   ]
  },
  {
   "cell_type": "code",
   "execution_count": null,
   "id": "11189abd",
   "metadata": {},
   "outputs": [
    {
     "data": {
      "text/html": [
       "Hello! How can I assist you today?\n",
       "<details><ul><li>\n",
       "id: msg_015UMRiKTrQxrrUpg2D13QuL</li>\n",
       "<li>content: [{'text': 'Hello! How can I assist you today?', 'type': 'text'}]</li>\n",
       "<li>model: claude-3-haiku-20240307</li>\n",
       "<li>role: assistant</li>\n",
       "<li>stop_reason: end_turn</li>\n",
       "<li>stop_sequence: None</li>\n",
       "<li>type: message</li>\n",
       "<li>usage: {'input_tokens': 8, 'output_tokens': 12}\n",
       "</ul></li></details>"
      ],
      "text/plain": [
       "ToolsBetaMessage(id='msg_015UMRiKTrQxrrUpg2D13QuL', content=[TextBlock(text='Hello! How can I assist you today?', type='text')], model='claude-3-haiku-20240307', role='assistant', stop_reason='end_turn', stop_sequence=None, type='message', usage=In: 8; Out: 12; Total: 20)"
      ]
     },
     "execution_count": null,
     "metadata": {},
     "output_type": "execute_result"
    }
   ],
   "source": [
    "c('Hi')"
   ]
  },
  {
   "cell_type": "code",
   "execution_count": null,
   "id": "3f9ae2ed",
   "metadata": {},
   "outputs": [
    {
     "data": {
      "text/plain": [
       "In: 16; Out: 24; Total: 40"
      ]
     },
     "execution_count": null,
     "metadata": {},
     "output_type": "execute_result"
    }
   ],
   "source": [
    "c.use"
   ]
  },
  {
   "cell_type": "code",
   "execution_count": null,
   "id": "0e64c6e3",
   "metadata": {},
   "outputs": [],
   "source": [
    "#| exports\n",
    "@patch\n",
    "def stream(self:Client, msgs, sp='', temp=0, maxtok=4096, stop=None, **kw):\n",
    "    \"Make a call to Claude, streaming the result\"\n",
    "    with self.c.messages.stream(model=self.model, messages=mk_msgs(msgs), max_tokens=maxtok,\n",
    "                                system=sp, temperature=temp, stop_sequences=stop, **kw) as s:\n",
    "        yield from s.text_stream\n",
    "        return self._r(s.get_final_message())"
   ]
  },
  {
   "cell_type": "code",
   "execution_count": null,
   "id": "6bf0bd41",
   "metadata": {},
   "outputs": [
    {
     "name": "stdout",
     "output_type": "stream",
     "text": [
      "Hello! How can I assist you today?"
     ]
    }
   ],
   "source": [
    "for o in c.stream('Hi'): print(o, end='')"
   ]
  },
  {
   "cell_type": "code",
   "execution_count": null,
   "id": "beb25f2a",
   "metadata": {},
   "outputs": [
    {
     "data": {
      "text/plain": [
       "In: 24; Out: 36; Total: 60"
      ]
     },
     "execution_count": null,
     "metadata": {},
     "output_type": "execute_result"
    }
   ],
   "source": [
    "c.use"
   ]
  },
  {
   "cell_type": "markdown",
   "id": "1a7cdbc6",
   "metadata": {},
   "source": [
    "## Tool use"
   ]
  },
  {
   "cell_type": "code",
   "execution_count": null,
   "id": "6698ec1e",
   "metadata": {},
   "outputs": [],
   "source": [
    "#| exports\n",
    "def _types(t:type)->tuple[str,Optional[str]]:\n",
    "    \"Tuple of json schema type name and (if appropriate) array item name\"\n",
    "    tmap = {int:\"integer\", float:\"number\", str:\"string\", bool:\"boolean\", list:\"array\", dict:\"object\"}\n",
    "    if getattr(t, '__origin__', None) in  (list,tuple): return \"array\", tmap.get(t.__args__[0], \"object\")\n",
    "    else: return tmap.get(t, \"object\"), None"
   ]
  },
  {
   "cell_type": "code",
   "execution_count": null,
   "id": "11ff9e2a",
   "metadata": {},
   "outputs": [
    {
     "data": {
      "text/plain": [
       "(('array', 'integer'), ('integer', None))"
      ]
     },
     "execution_count": null,
     "metadata": {},
     "output_type": "execute_result"
    }
   ],
   "source": [
    "_types(list[int]), _types(int)"
   ]
  },
  {
   "cell_type": "code",
   "execution_count": null,
   "id": "661e76e6",
   "metadata": {},
   "outputs": [],
   "source": [
    "def silly_sum(\n",
    "    # First thing to sum\n",
    "    a:int,\n",
    "    # Second thing to sum\n",
    "    b:int=1,\n",
    "    # A pointless argument\n",
    "    c:list[int]=None,\n",
    "# The sum of the inputs\n",
    ") -> int:\n",
    "    \"Adds a + b\"\n",
    "    return a + b"
   ]
  },
  {
   "cell_type": "code",
   "execution_count": null,
   "id": "2998a54e",
   "metadata": {},
   "outputs": [
    {
     "data": {
      "text/markdown": [
       "```json\n",
       "{ 'a': { 'anno': <class 'int'>,\n",
       "         'default': <class 'inspect._empty'>,\n",
       "         'docment': 'First thing to sum'},\n",
       "  'b': {'anno': <class 'int'>, 'default': 1, 'docment': 'Second thing to sum'},\n",
       "  'c': {'anno': list[int], 'default': None, 'docment': 'A pointless argument'},\n",
       "  'return': { 'anno': <class 'int'>,\n",
       "              'default': <class 'inspect._empty'>,\n",
       "              'docment': 'The sum of the inputs'}}\n",
       "```"
      ],
      "text/plain": [
       "{'a': {'docment': 'First thing to sum',\n",
       "  'anno': int,\n",
       "  'default': inspect._empty},\n",
       " 'b': {'docment': 'Second thing to sum', 'anno': int, 'default': 1},\n",
       " 'c': {'docment': 'A pointless argument', 'anno': list[int], 'default': None},\n",
       " 'return': {'docment': 'The sum of the inputs',\n",
       "  'anno': int,\n",
       "  'default': inspect._empty}}"
      ]
     },
     "execution_count": null,
     "metadata": {},
     "output_type": "execute_result"
    }
   ],
   "source": [
    "d = docments(silly_sum, full=True)\n",
    "d"
   ]
  },
  {
   "cell_type": "code",
   "execution_count": null,
   "id": "6478e8de",
   "metadata": {},
   "outputs": [],
   "source": [
    "#| exports\n",
    "def _param(name, info):\n",
    "    \"json schema parameter given `name` and `info` from docments full dict\"\n",
    "    paramt,itemt = _types(info.anno)\n",
    "    pschema = dict(type=paramt, description=info.docment)\n",
    "    if itemt: pschema[\"items\"] = {\"type\": itemt}\n",
    "    if info.default is not empty: pschema[\"default\"] = info.default\n",
    "    return pschema"
   ]
  },
  {
   "cell_type": "code",
   "execution_count": null,
   "id": "58e77852",
   "metadata": {},
   "outputs": [
    {
     "name": "stdout",
     "output_type": "stream",
     "text": [
      "a // {'docment': 'First thing to sum', 'anno': <class 'int'>, 'default': <class 'inspect._empty'>}\n"
     ]
    },
    {
     "data": {
      "text/plain": [
       "{'type': 'integer', 'description': 'First thing to sum'}"
      ]
     },
     "execution_count": null,
     "metadata": {},
     "output_type": "execute_result"
    }
   ],
   "source": [
    "n,o = first(d.items())\n",
    "print(n,'//', o)\n",
    "_param(n, o)"
   ]
  },
  {
   "cell_type": "code",
   "execution_count": null,
   "id": "2394cfed",
   "metadata": {},
   "outputs": [],
   "source": [
    "#| exports\n",
    "def get_schema(f):\n",
    "    d = docments(f, full=True)\n",
    "    ret = d.pop('return')\n",
    "    paramd = {\n",
    "        'type': \"object\",\n",
    "        'properties': {n:_param(n,o) for n,o in d.items()},\n",
    "        'required': [n for n,o in d.items() if o.default is empty]\n",
    "    }\n",
    "    desc = f.__doc__\n",
    "    if ret.anno is not empty: desc += f'\\n\\nReturns:\\n- type: {_types(ret.anno)[0]}'\n",
    "    if ret.docment: desc += f'\\n- description: {ret.docment}'\n",
    "    return dict(name=f.__name__, description=desc, input_schema=paramd)"
   ]
  },
  {
   "cell_type": "code",
   "execution_count": null,
   "id": "4bb8614f",
   "metadata": {},
   "outputs": [
    {
     "name": "stdout",
     "output_type": "stream",
     "text": [
      "Adds a + b\n",
      "\n",
      "Returns:\n",
      "- type: integer\n",
      "- description: The sum of the inputs\n"
     ]
    },
    {
     "data": {
      "text/plain": [
       "{'name': 'silly_sum',\n",
       " 'input_schema': {'type': 'object',\n",
       "  'properties': {'a': {'type': 'integer', 'description': 'First thing to sum'},\n",
       "   'b': {'type': 'integer',\n",
       "    'description': 'Second thing to sum',\n",
       "    'default': 1},\n",
       "   'c': {'type': 'array',\n",
       "    'description': 'A pointless argument',\n",
       "    'items': {'type': 'integer'},\n",
       "    'default': None}},\n",
       "  'required': ['a']}}"
      ]
     },
     "execution_count": null,
     "metadata": {},
     "output_type": "execute_result"
    }
   ],
   "source": [
    "s = get_schema(silly_sum)\n",
    "desc = s.pop('description')\n",
    "print(desc)\n",
    "s"
   ]
  },
  {
   "cell_type": "code",
   "execution_count": null,
   "id": "046e8cc3",
   "metadata": {},
   "outputs": [],
   "source": [
    "def sums(\n",
    "    # First thing to sum\n",
    "    a:int,\n",
    "    # Second thing to sum\n",
    "    b:int=1\n",
    "# The sum of the inputs\n",
    ") -> int:\n",
    "    \"Adds a + b\"\n",
    "    return a + b"
   ]
  },
  {
   "cell_type": "code",
   "execution_count": null,
   "id": "fab519f0",
   "metadata": {},
   "outputs": [],
   "source": [
    "pr = \"What is 6+3?\"\n",
    "sp = \"You must use the `sums` function instead of adding yourself, but don't mention what tools you use.\"\n",
    "tools=[get_schema(sums)]"
   ]
  },
  {
   "cell_type": "code",
   "execution_count": null,
   "id": "c2ceeb75",
   "metadata": {},
   "outputs": [],
   "source": [
    "msgs = mk_msgs(pr)\n",
    "r = c(msgs, sp=sp, tools=tools)"
   ]
  },
  {
   "cell_type": "code",
   "execution_count": null,
   "id": "93fd44e1",
   "metadata": {},
   "outputs": [],
   "source": [
    "#| exports\n",
    "def mk_ns(*funcs:list[callable]) -> dict[str,callable]:\n",
    "    \"Create a `dict` of name to function in `funcs`, to use as a namespace\"\n",
    "    return {f.__name__:f for f in funcs}"
   ]
  },
  {
   "cell_type": "code",
   "execution_count": null,
   "id": "7f7e05c7",
   "metadata": {},
   "outputs": [],
   "source": [
    "#| exports\n",
    "def find_tool(r) -> tool_use_block.ToolUseBlock:\n",
    "    return first(o for o in r.content if isinstance(o,tool_use_block.ToolUseBlock))"
   ]
  },
  {
   "cell_type": "code",
   "execution_count": null,
   "id": "ed48a299",
   "metadata": {},
   "outputs": [],
   "source": [
    "#| exports\n",
    "def call_func(tr, ns=None):\n",
    "    \"Call the function in the tool response `tr`, using namespace `ns`\"\n",
    "    if ns is None: ns=globals()\n",
    "    if not isinstance(ns, abc.Mapping): ns = mk_ns(*ns)\n",
    "    fc = find_tool(r)\n",
    "    return ns[fc.name](**fc.input)"
   ]
  },
  {
   "cell_type": "code",
   "execution_count": null,
   "id": "42eee115",
   "metadata": {},
   "outputs": [],
   "source": [
    "# list of functions you can call\n",
    "funcs = [sums]"
   ]
  },
  {
   "cell_type": "code",
   "execution_count": null,
   "id": "893f81ca",
   "metadata": {},
   "outputs": [
    {
     "data": {
      "text/plain": [
       "9"
      ]
     },
     "execution_count": null,
     "metadata": {},
     "output_type": "execute_result"
    }
   ],
   "source": [
    "res = call_func(r, ns=funcs)\n",
    "res"
   ]
  },
  {
   "cell_type": "code",
   "execution_count": null,
   "id": "0d575e27",
   "metadata": {},
   "outputs": [],
   "source": [
    "msgs.append(mk_msg(r.content, role=r.role))"
   ]
  },
  {
   "cell_type": "code",
   "execution_count": null,
   "id": "6abc58c8",
   "metadata": {},
   "outputs": [],
   "source": [
    "#| exports\n",
    "def mk_toolres(r, res=None, ns=None):\n",
    "    \"Create a `tool_result` message from response `r`\"\n",
    "    if not hasattr(r, 'content'): return r\n",
    "    tool = first(o for o in r.content if isinstance(o,tool_use_block.ToolUseBlock))\n",
    "    if not tool: return r\n",
    "    if res is None: res = call_func(r, ns)\n",
    "    tr = dict(type=\"tool_result\", tool_use_id=tool.id, content=str(res))\n",
    "    return mk_msg([tr])"
   ]
  },
  {
   "cell_type": "code",
   "execution_count": null,
   "id": "01db38c5",
   "metadata": {},
   "outputs": [
    {
     "data": {
      "text/plain": [
       "{'role': 'user',\n",
       " 'content': [{'type': 'tool_result',\n",
       "   'tool_use_id': 'toolu_019CrmHStEpRjQ4JcZprwxBr',\n",
       "   'content': '9'}]}"
      ]
     },
     "execution_count": null,
     "metadata": {},
     "output_type": "execute_result"
    }
   ],
   "source": [
    "tr = mk_toolres(r, res=res, ns=[sums])\n",
    "tr"
   ]
  },
  {
   "cell_type": "code",
   "execution_count": null,
   "id": "eed99502",
   "metadata": {},
   "outputs": [],
   "source": [
    "msgs.append(tr)"
   ]
  },
  {
   "cell_type": "code",
   "execution_count": null,
   "id": "3a211626",
   "metadata": {},
   "outputs": [
    {
     "data": {
      "text/plain": [
       "'The sum of 6 and 3 is 9.'"
      ]
     },
     "execution_count": null,
     "metadata": {},
     "output_type": "execute_result"
    }
   ],
   "source": [
    "contents(c(msgs, sp=sp, tools=tools))"
   ]
  },
  {
   "cell_type": "markdown",
   "id": "f8bdff78",
   "metadata": {},
   "source": [
    "## Chat"
   ]
  },
  {
   "cell_type": "code",
   "execution_count": null,
   "id": "2aa2fa58",
   "metadata": {},
   "outputs": [],
   "source": [
    "#| exports\n",
    "class Chat:\n",
    "    def __init__(self, model=None, cli=None):\n",
    "        \"Anthropic chat client\"\n",
    "        assert model or cli\n",
    "        self.c = (cli or Client(model))\n",
    "        self.h = []\n",
    "    \n",
    "    def __call__(self, pr, sp='', temp=0, maxtok=4096, stop=None, ns=None, tools=None, **kw):\n",
    "        if ns is None: ns=tools\n",
    "        self.h = mk_msgs(self.h + [mk_toolres(pr, ns=ns)])\n",
    "        if tools: kw['tools'] = [get_schema(o) for o in tools]\n",
    "        res = self.c(self.h, sp=sp, temp=temp, maxtok=maxtok, stop=stop, **kw)\n",
    "        self.h.append(mk_msg(res, role='assistant'))\n",
    "        return res"
   ]
  },
  {
   "cell_type": "code",
   "execution_count": null,
   "id": "7cc1817e",
   "metadata": {},
   "outputs": [],
   "source": [
    "c = Chat(model)"
   ]
  },
  {
   "cell_type": "code",
   "execution_count": null,
   "id": "b9e9f22e",
   "metadata": {},
   "outputs": [
    {
     "data": {
      "text/plain": [
       "'Your name is Jeremy, as you told me earlier.'"
      ]
     },
     "execution_count": null,
     "metadata": {},
     "output_type": "execute_result"
    }
   ],
   "source": [
    "c(\"I'm Jeremy\")\n",
    "contents(c(\"What's my name?\"))"
   ]
  },
  {
   "cell_type": "code",
   "execution_count": null,
   "id": "b46e22ed",
   "metadata": {},
   "outputs": [],
   "source": [
    "pr = \"What is 6+3?\"\n",
    "sp = \"You must use the `sums` function instead of adding yourself, but don't mention what tools you use.\"\n",
    "tools=[sums]"
   ]
  },
  {
   "cell_type": "code",
   "execution_count": null,
   "id": "237642ff",
   "metadata": {},
   "outputs": [
    {
     "data": {
      "text/html": [
       "Okay, let's use the provided tool to calculate 6 + 3:\n",
       "<details><ul><li>\n",
       "id: msg_011d36YYZNFGyzd7C9EmBYXT</li>\n",
       "<li>content: [{'text': \"Okay, let's use the provided tool to calculate 6 + 3:\", 'type': 'text'}, {'id': 'toolu_011gDmiieecyMbDGc56omWUA', 'input': {'a': 6, 'b': 3}, 'name': 'sums', 'type': 'tool_use'}]</li>\n",
       "<li>model: claude-3-haiku-20240307</li>\n",
       "<li>role: assistant</li>\n",
       "<li>stop_reason: tool_use</li>\n",
       "<li>stop_sequence: None</li>\n",
       "<li>type: message</li>\n",
       "<li>usage: {'input_tokens': 471, 'output_tokens': 88}\n",
       "</ul></li></details>"
      ],
      "text/plain": [
       "ToolsBetaMessage(id='msg_011d36YYZNFGyzd7C9EmBYXT', content=[TextBlock(text=\"Okay, let's use the provided tool to calculate 6 + 3:\", type='text'), ToolUseBlock(id='toolu_011gDmiieecyMbDGc56omWUA', input={'a': 6, 'b': 3}, name='sums', type='tool_use')], model='claude-3-haiku-20240307', role='assistant', stop_reason='tool_use', stop_sequence=None, type='message', usage=In: 471; Out: 88; Total: 559)"
      ]
     },
     "execution_count": null,
     "metadata": {},
     "output_type": "execute_result"
    }
   ],
   "source": [
    "r = c(pr, sp=sp, tools=tools)\n",
    "r"
   ]
  },
  {
   "cell_type": "code",
   "execution_count": null,
   "id": "bc482abc",
   "metadata": {},
   "outputs": [
    {
     "data": {
      "text/html": [
       "The sum of 6 and 3 is 9.\n",
       "<details><ul><li>\n",
       "id: msg_019oC32MFxLrPV1FEsg9MmpA</li>\n",
       "<li>content: [{'text': 'The sum of 6 and 3 is 9.', 'type': 'text'}]</li>\n",
       "<li>model: claude-3-haiku-20240307</li>\n",
       "<li>role: assistant</li>\n",
       "<li>stop_reason: end_turn</li>\n",
       "<li>stop_sequence: None</li>\n",
       "<li>type: message</li>\n",
       "<li>usage: {'input_tokens': 571, 'output_tokens': 18}\n",
       "</ul></li></details>"
      ],
      "text/plain": [
       "ToolsBetaMessage(id='msg_019oC32MFxLrPV1FEsg9MmpA', content=[TextBlock(text='The sum of 6 and 3 is 9.', type='text')], model='claude-3-haiku-20240307', role='assistant', stop_reason='end_turn', stop_sequence=None, type='message', usage=In: 571; Out: 18; Total: 589)"
      ]
     },
     "execution_count": null,
     "metadata": {},
     "output_type": "execute_result"
    }
   ],
   "source": [
    "c(r, sp=sp, tools=tools)"
   ]
  },
  {
   "cell_type": "markdown",
   "id": "ed39be44",
   "metadata": {},
   "source": [
    "## XML helpers"
   ]
  },
  {
   "cell_type": "code",
   "execution_count": null,
   "id": "c08eb47b",
   "metadata": {},
   "outputs": [],
   "source": [
    "#| exports\n",
    "def hl_md(s, lang='xml'):\n",
    "    \"Syntax highlight `s` using `lang`\"\n",
    "    if Markdown: return Markdown(f'```{lang}\\n{s}\\n```')\n",
    "    print(s)"
   ]
  },
  {
   "cell_type": "code",
   "execution_count": null,
   "id": "a9dfca1c",
   "metadata": {},
   "outputs": [],
   "source": [
    "#| exports\n",
    "def to_xml(node, hl=False):\n",
    "    \"Convert `node` to an XML string\"\n",
    "    def mk_el(tag, cs, attrs):\n",
    "        el = ET.Element(tag, attrib=attrs)\n",
    "        if isinstance(cs, list): el.extend([mk_el(*o) for o in cs])\n",
    "        elif cs is not None: el.text = str(cs)\n",
    "        return el\n",
    "\n",
    "    root = mk_el(*node)\n",
    "    ET.indent(root)\n",
    "    res = ET.tostring(root, encoding='unicode')\n",
    "    return hl_md(res) if hl else res"
   ]
  },
  {
   "cell_type": "code",
   "execution_count": null,
   "id": "545f8e5c",
   "metadata": {},
   "outputs": [],
   "source": [
    "#| exports\n",
    "def xt(tag, c=None, **kw):\n",
    "    \"Helper to create appropriate data structure for `to_xml`\"\n",
    "    kw = {k.lstrip('_'):str(v) for k,v in kw.items()}\n",
    "    return tag,c,kw"
   ]
  },
  {
   "cell_type": "code",
   "execution_count": null,
   "id": "0cd36f5b",
   "metadata": {},
   "outputs": [],
   "source": [
    "#| exports\n",
    "g = globals()\n",
    "tags = 'div','img','h1','h2','h3','h4','h5','p','hr','span','html'\n",
    "for o in tags: g[o] = partial(xt, o)"
   ]
  },
  {
   "cell_type": "code",
   "execution_count": null,
   "id": "a2e2cdeb",
   "metadata": {},
   "outputs": [],
   "source": [
    "a = html([\n",
    "    p('This is a paragraph'),\n",
    "    hr(),\n",
    "    xt('x-custom', foo='bar'),\n",
    "    img(src='http://example.prg'),\n",
    "    div([\n",
    "        h1('This is a header'),\n",
    "        h2('This is a sub-header', style='k:v'),\n",
    "    ], _class='foo')\n",
    "])"
   ]
  },
  {
   "cell_type": "code",
   "execution_count": null,
   "id": "25692697",
   "metadata": {},
   "outputs": [
    {
     "data": {
      "text/markdown": [
       "```xml\n",
       "<html>\n",
       "  <p>This is a paragraph</p>\n",
       "  <hr />\n",
       "  <x-custom foo=\"bar\" />\n",
       "  <img src=\"http://example.prg\" />\n",
       "  <div class=\"foo\">\n",
       "    <h1>This is a header</h1>\n",
       "    <h2 style=\"k:v\">This is a sub-header</h2>\n",
       "  </div>\n",
       "</html>\n",
       "```"
      ],
      "text/plain": [
       "<IPython.core.display.Markdown object>"
      ]
     },
     "execution_count": null,
     "metadata": {},
     "output_type": "execute_result"
    }
   ],
   "source": [
    "to_xml(a, True)"
   ]
  },
  {
   "cell_type": "code",
   "execution_count": null,
   "id": "bf251158",
   "metadata": {},
   "outputs": [],
   "source": [
    "#|export\n",
    "def json_to_xml(d:dict, rnm:str)->str:\n",
    "    \"Convert `d` to XML with root name `rnm`\"\n",
    "    root = ET.Element(rnm)\n",
    "    def build_xml(data, parent):\n",
    "        if isinstance(data, dict):\n",
    "            for key, value in data.items(): build_xml(value, ET.SubElement(parent, key))\n",
    "        elif isinstance(data, list):\n",
    "            for item in data: build_xml(item, ET.SubElement(parent, 'item'))\n",
    "        else: parent.text = str(data)\n",
    "    build_xml(d, root)\n",
    "    ET.indent(root)\n",
    "    return ET.tostring(root, encoding='unicode')"
   ]
  },
  {
   "cell_type": "code",
   "execution_count": null,
   "id": "20f3546e",
   "metadata": {},
   "outputs": [
    {
     "name": "stdout",
     "output_type": "stream",
     "text": [
      "<person>\n",
      "  <surname>Howard</surname>\n",
      "  <firstnames>\n",
      "    <item>Jeremy</item>\n",
      "    <item>Peter</item>\n",
      "  </firstnames>\n",
      "  <address>\n",
      "    <state>Queensland</state>\n",
      "    <country>Australia</country>\n",
      "  </address>\n",
      "</person>\n"
     ]
    }
   ],
   "source": [
    "a = dict(surname='Howard', firstnames=['Jeremy','Peter'],\n",
    "         address=dict(state='Queensland',country='Australia'))\n",
    "print(json_to_xml(a, 'person'))"
   ]
  },
  {
   "cell_type": "markdown",
   "id": "f2054104",
   "metadata": {},
   "source": [
    "## Images"
   ]
  },
  {
   "cell_type": "markdown",
   "id": "5b6eea54",
   "metadata": {},
   "source": [
    "Not done yet."
   ]
  },
  {
   "cell_type": "markdown",
   "id": "94ec4289",
   "metadata": {},
   "source": [
    "## Export -"
   ]
  },
  {
   "cell_type": "code",
   "execution_count": null,
   "id": "1e9ee5c1",
   "metadata": {},
   "outputs": [],
   "source": [
    "#|hide\n",
    "#|eval: false\n",
    "from nbdev.doclinks import nbdev_export\n",
    "nbdev_export()"
   ]
  },
  {
   "cell_type": "code",
   "execution_count": null,
   "id": "207f9715",
   "metadata": {},
   "outputs": [],
   "source": []
  }
 ],
 "metadata": {
  "kernelspec": {
   "display_name": "python3",
   "language": "python",
   "name": "python3"
  }
 },
 "nbformat": 4,
 "nbformat_minor": 5
}
