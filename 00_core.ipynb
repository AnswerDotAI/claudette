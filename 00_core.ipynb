{
 "cells": [
  {
   "cell_type": "code",
   "execution_count": null,
   "id": "efe78920",
   "metadata": {},
   "outputs": [],
   "source": [
    "#|default_exp core"
   ]
  },
  {
   "cell_type": "markdown",
   "id": "3d773712-12fe-440e-891f-36f59666dfde",
   "metadata": {},
   "source": [
    "# Claudio"
   ]
  },
  {
   "cell_type": "markdown",
   "id": "ff6f6471-8061-4fdd-85a1-25fdc27c5cf3",
   "metadata": {},
   "source": [
    "## Setup"
   ]
  },
  {
   "cell_type": "markdown",
   "id": "0acead63",
   "metadata": {},
   "source": [
    "- basic and streaming chat\n",
    "- images\n",
    "- tool use"
   ]
  },
  {
   "cell_type": "code",
   "execution_count": null,
   "id": "f1ad998e-4bb1-4bed-abf4-6e8606cb2453",
   "metadata": {},
   "outputs": [],
   "source": [
    "import os\n",
    "# os.environ['ANTHROPIC_LOG'] = 'debug'"
   ]
  },
  {
   "cell_type": "code",
   "execution_count": null,
   "id": "e223d3af",
   "metadata": {},
   "outputs": [],
   "source": [
    "#| export\n",
    "import tokenize, ast, inspect, inspect, typing\n",
    "import xml.etree.ElementTree as ET, json\n",
    "try: from IPython.display import Markdown\n",
    "except: Markdown=None\n",
    "\n",
    "from anthropic import Anthropic\n",
    "from anthropic.types import Usage\n",
    "from inspect import Parameter\n",
    "from io import BytesIO\n",
    "\n",
    "from fastcore.docments import docments\n",
    "from fastcore.utils import *"
   ]
  },
  {
   "cell_type": "code",
   "execution_count": null,
   "id": "0fff8869",
   "metadata": {},
   "outputs": [],
   "source": [
    "#| export\n",
    "models = 'claude-3-opus-20240229','claude-3-sonnet-20240229','claude-3-haiku-20240307'"
   ]
  },
  {
   "cell_type": "code",
   "execution_count": null,
   "id": "dacf2bd2",
   "metadata": {},
   "outputs": [],
   "source": [
    "model = models[1]"
   ]
  },
  {
   "cell_type": "markdown",
   "id": "863d4d81",
   "metadata": {},
   "source": [
    "## Client"
   ]
  },
  {
   "cell_type": "code",
   "execution_count": null,
   "id": "4f3e4de9",
   "metadata": {},
   "outputs": [],
   "source": [
    "#| export\n",
    "def mk_msg(content, role='user', **kw):\n",
    "    \"Helper to create a `dict` appropriate for a Claude message\"\n",
    "    return dict(role=role, content=content, **kw)"
   ]
  },
  {
   "cell_type": "code",
   "execution_count": null,
   "id": "8cfb240d",
   "metadata": {},
   "outputs": [],
   "source": [
    "#| export\n",
    "def mk_msgs(msgs, **kw):\n",
    "    \"Helper to set 'assistant' role on alternate messages\"\n",
    "    if isinstance(msgs,str): msgs=[msgs]\n",
    "    return [mk_msg(o, ('user','assistant')[i%2], **kw) if isinstance(o,str) else o\n",
    "            for i,o in enumerate(msgs)]"
   ]
  },
  {
   "cell_type": "code",
   "execution_count": null,
   "id": "660fbb78",
   "metadata": {},
   "outputs": [],
   "source": [
    "#| export\n",
    "def contents(r):\n",
    "    \"Help to get the contents from Claude response `r`\"\n",
    "    return r.content[0].text.strip()"
   ]
  },
  {
   "cell_type": "code",
   "execution_count": null,
   "id": "a38a4733",
   "metadata": {},
   "outputs": [],
   "source": [
    "cli = Anthropic()"
   ]
  },
  {
   "cell_type": "code",
   "execution_count": null,
   "id": "47d694ab",
   "metadata": {},
   "outputs": [],
   "source": [
    "#|export\n",
    "@patch\n",
    "def __add__(self:Usage, b):\n",
    "    return Usage(input_tokens=self.input_tokens+b.input_tokens, output_tokens=self.output_tokens+b.output_tokens)\n",
    "\n",
    "@patch(as_prop=True)\n",
    "def total(self:Usage): return self.input_tokens+self.output_tokens\n",
    "\n",
    "@patch\n",
    "def __repr__(self:Usage): return f'In: {self.input_tokens}; Out: {self.output_tokens}; Total: {self.total}'"
   ]
  },
  {
   "cell_type": "code",
   "execution_count": null,
   "id": "0e64c6e3",
   "metadata": {},
   "outputs": [],
   "source": [
    "#| export\n",
    "class Client:\n",
    "    def __init__(self, model, cli=None):\n",
    "        \"Basic Anthropic messages client\"\n",
    "        self.model,self.use = model,Usage(input_tokens=0,output_tokens=0)\n",
    "        self.c = (cli or Anthropic())\n",
    "\n",
    "    def _r(self, r):\n",
    "        self.result = r\n",
    "        self.use += r.usage\n",
    "        return r\n",
    "\n",
    "    def __call__(self, msgs, sp='', temp=0, maxtok=4096, stop=None, **kw):\n",
    "        r = self.c.beta.tools.messages.create(\n",
    "            model=self.model, messages=mk_msgs(msgs), max_tokens=maxtok, system=sp, temperature=temp, stop_sequences=stop, **kw)\n",
    "        return self._r(r)\n",
    "\n",
    "    def stream(self, msgs, sp='', temp=0, maxtok=4096, stop=None, **kw):\n",
    "        msgs = mk_msgs(msgs)\n",
    "        with self.c.messages.stream(model=self.model, messages=mk_msgs(msgs), max_tokens=maxtok,\n",
    "                                    system=sp, temperature=temp, stop_sequences=stop, **kw) as s:\n",
    "            yield from s.text_stream\n",
    "            return self._r(s.get_final_message())"
   ]
  },
  {
   "cell_type": "code",
   "execution_count": null,
   "id": "6699f0f5",
   "metadata": {},
   "outputs": [],
   "source": [
    "c = Client(models[-1])"
   ]
  },
  {
   "cell_type": "code",
   "execution_count": null,
   "id": "6bf0bd41",
   "metadata": {},
   "outputs": [
    {
     "name": "stdout",
     "output_type": "stream",
     "text": [
      "Hello! How can I assist you today?"
     ]
    }
   ],
   "source": [
    "for o in c.stream('Hi'): print(o, end='')"
   ]
  },
  {
   "cell_type": "code",
   "execution_count": null,
   "id": "a1d1147a",
   "metadata": {},
   "outputs": [
    {
     "data": {
      "text/plain": [
       "ToolsBetaMessage(id='msg_016a7tAmwNzGF7bMoySs2pDk', content=[TextBlock(text='Hello! How can I assist you today?', type='text')], model='claude-3-haiku-20240307', role='assistant', stop_reason='end_turn', stop_sequence=None, type='message', usage=In: 8; Out: 12; Total: 20)"
      ]
     },
     "execution_count": null,
     "metadata": {},
     "output_type": "execute_result"
    }
   ],
   "source": [
    "c('Hi')"
   ]
  },
  {
   "cell_type": "code",
   "execution_count": null,
   "id": "beb25f2a",
   "metadata": {},
   "outputs": [
    {
     "data": {
      "text/plain": [
       "In: 16; Out: 24; Total: 40"
      ]
     },
     "execution_count": null,
     "metadata": {},
     "output_type": "execute_result"
    }
   ],
   "source": [
    "c.use"
   ]
  },
  {
   "cell_type": "markdown",
   "id": "1a7cdbc6",
   "metadata": {},
   "source": [
    "## Tool use"
   ]
  },
  {
   "cell_type": "code",
   "execution_count": null,
   "id": "2394cfed",
   "metadata": {},
   "outputs": [],
   "source": [
    "#| export\n",
    "def get_schema(f):\n",
    "    tmap = {int:\"integer\", float:\"number\", str:\"string\", bool:\"boolean\", list:\"array\", dict:\"object\"}\n",
    "    paramd = dict(type=\"object\", properties={}, required=[])\n",
    "    schema = dict(name=f.__name__, description=f.__doc__, input_schema=paramd)\n",
    "\n",
    "    def _types(anno):\n",
    "        if getattr(anno, '__origin__', None) in  (list,tuple): return \"array\", tmap.get(anno.__args__[0], \"object\")\n",
    "        else: return tmap.get(anno, \"object\"), None\n",
    "\n",
    "    for pname, pinfo in docments(f, full=True).items():\n",
    "        if pname == \"return\": continue\n",
    "        paramt,itemt = _types(pinfo.anno)\n",
    "        pschema = dict(type=paramt, description=pinfo.docment)\n",
    "        if itemt: pschema[\"items\"] = {\"type\": itemt}\n",
    "        if pinfo.default is not Parameter.empty: pschema[\"default\"] = pinfo.default\n",
    "        else: paramd[\"required\"].append(pname)\n",
    "        paramd[\"properties\"][pname] = pschema\n",
    "\n",
    "    return schema"
   ]
  },
  {
   "cell_type": "code",
   "execution_count": null,
   "id": "fe4e6d0a",
   "metadata": {},
   "outputs": [],
   "source": [
    "def silly_sum(\n",
    "    # First thing to sum\n",
    "    a:int,\n",
    "    # Second thing to sum\n",
    "    b:int=1,\n",
    "    # A pointless argument\n",
    "    c:list[int]=None,\n",
    "# The sum of the inputs\n",
    ") -> int:\n",
    "    \"Adds a + b\"\n",
    "    return a + b"
   ]
  },
  {
   "cell_type": "code",
   "execution_count": null,
   "id": "4bb8614f",
   "metadata": {},
   "outputs": [
    {
     "data": {
      "text/plain": [
       "{'name': 'silly_sum',\n",
       " 'description': 'Adds a + b',\n",
       " 'input_schema': {'type': 'object',\n",
       "  'properties': {'a': {'type': 'integer', 'description': 'First thing to sum'},\n",
       "   'b': {'type': 'integer',\n",
       "    'description': 'Second thing to sum',\n",
       "    'default': 1},\n",
       "   'c': {'type': 'array',\n",
       "    'description': 'A pointless argument',\n",
       "    'items': {'type': 'integer'},\n",
       "    'default': None}},\n",
       "  'required': ['a']}}"
      ]
     },
     "execution_count": null,
     "metadata": {},
     "output_type": "execute_result"
    }
   ],
   "source": [
    "get_schema(silly_sum)"
   ]
  },
  {
   "cell_type": "code",
   "execution_count": null,
   "id": "046e8cc3",
   "metadata": {},
   "outputs": [],
   "source": [
    "def sums(\n",
    "    # First thing to sum\n",
    "    a:int,\n",
    "    # Second thing to sum\n",
    "    b:int=1\n",
    "# The sum of the inputs\n",
    ") -> int:\n",
    "    \"Adds a + b\"\n",
    "    return a + b"
   ]
  },
  {
   "cell_type": "code",
   "execution_count": null,
   "id": "fab519f0",
   "metadata": {},
   "outputs": [],
   "source": [
    "pr = \"What is 6+3?\"\n",
    "sp = \"You must use the `sums` function instead of adding yourself, but don't mention what tools you use.\"\n",
    "tools=[get_schema(sums)]"
   ]
  },
  {
   "cell_type": "code",
   "execution_count": null,
   "id": "c2ceeb75",
   "metadata": {},
   "outputs": [],
   "source": [
    "msgs = mk_msgs(pr)"
   ]
  },
  {
   "cell_type": "code",
   "execution_count": null,
   "id": "c4a70154",
   "metadata": {},
   "outputs": [],
   "source": [
    "r = c(msgs, sp=sp, tools=tools)"
   ]
  },
  {
   "cell_type": "code",
   "execution_count": null,
   "id": "ed48a299",
   "metadata": {},
   "outputs": [],
   "source": [
    "def call_func(c):\n",
    "    fc = c.content[0]\n",
    "    f = globals()[fc.name]\n",
    "    return f(**fc.input)"
   ]
  },
  {
   "cell_type": "code",
   "execution_count": null,
   "id": "893f81ca",
   "metadata": {},
   "outputs": [
    {
     "data": {
      "text/plain": [
       "9"
      ]
     },
     "execution_count": null,
     "metadata": {},
     "output_type": "execute_result"
    }
   ],
   "source": [
    "res = call_func(r)\n",
    "res"
   ]
  },
  {
   "cell_type": "code",
   "execution_count": null,
   "id": "0d575e27",
   "metadata": {},
   "outputs": [],
   "source": [
    "msgs.append(mk_msg(r.content, role=r.role))"
   ]
  },
  {
   "cell_type": "code",
   "execution_count": null,
   "id": "eed99502",
   "metadata": {},
   "outputs": [],
   "source": [
    "msgs.append(mk_msg([dict(type=\"tool_result\", tool_use_id=r.content[0].id, content=str(res))]))"
   ]
  },
  {
   "cell_type": "code",
   "execution_count": null,
   "id": "3a211626",
   "metadata": {},
   "outputs": [],
   "source": [
    "res = c(msgs, sp=sp, tools=tools)"
   ]
  },
  {
   "cell_type": "code",
   "execution_count": null,
   "id": "d8474ea3",
   "metadata": {},
   "outputs": [
    {
     "data": {
      "text/plain": [
       "'The sum of 6 and 3 is 9.'"
      ]
     },
     "execution_count": null,
     "metadata": {},
     "output_type": "execute_result"
    }
   ],
   "source": [
    "contents(res)"
   ]
  },
  {
   "cell_type": "markdown",
   "id": "ed39be44",
   "metadata": {},
   "source": [
    "## XML helpers"
   ]
  },
  {
   "cell_type": "code",
   "execution_count": null,
   "id": "c08eb47b",
   "metadata": {},
   "outputs": [],
   "source": [
    "#| export\n",
    "def hl_md(s, lang='xml'):\n",
    "    \"Syntax highlight `s` using `lang`\"\n",
    "    if Markdown: return Markdown(f'```{lang}\\n{s}\\n```')\n",
    "    print(s)"
   ]
  },
  {
   "cell_type": "code",
   "execution_count": null,
   "id": "a9dfca1c",
   "metadata": {},
   "outputs": [],
   "source": [
    "#| export\n",
    "def to_xml(node, hl=False):\n",
    "    \"Convert `node` to an XML string\"\n",
    "    def mk_el(tag, cs, attrs):\n",
    "        el = ET.Element(tag, attrib=attrs)\n",
    "        if isinstance(cs, list): el.extend([mk_el(*o) for o in cs])\n",
    "        elif cs is not None: el.text = str(cs)\n",
    "        return el\n",
    "\n",
    "    root = mk_el(*node)\n",
    "    ET.indent(root)\n",
    "    res = ET.tostring(root, encoding='unicode')\n",
    "    return hl_md(res) if hl else res"
   ]
  },
  {
   "cell_type": "code",
   "execution_count": null,
   "id": "545f8e5c",
   "metadata": {},
   "outputs": [],
   "source": [
    "#| export\n",
    "def xt(tag, c=None, **kw):\n",
    "    \"Helper to create appropriate data structure for `to_xml`\"\n",
    "    kw = {k.lstrip('_'):str(v) for k,v in kw.items()}\n",
    "    return tag,c,kw"
   ]
  },
  {
   "cell_type": "code",
   "execution_count": null,
   "id": "0cd36f5b",
   "metadata": {},
   "outputs": [],
   "source": [
    "#| export\n",
    "g = globals()\n",
    "tags = 'div','img','h1','h2','h3','h4','h5','p','hr','span','html'\n",
    "for o in tags: g[o] = partial(xt, o)"
   ]
  },
  {
   "cell_type": "code",
   "execution_count": null,
   "id": "a2e2cdeb",
   "metadata": {},
   "outputs": [],
   "source": [
    "a = html([\n",
    "    p('This is a paragraph'),\n",
    "    hr(),\n",
    "    xt('x-custom', foo='bar'),\n",
    "    img(src='http://example.prg'),\n",
    "    div([\n",
    "        h1('This is a header'),\n",
    "        h2('This is a sub-header', style='k:v'),\n",
    "    ], _class='foo')\n",
    "])"
   ]
  },
  {
   "cell_type": "code",
   "execution_count": null,
   "id": "25692697",
   "metadata": {},
   "outputs": [
    {
     "data": {
      "text/markdown": [
       "```xml\n",
       "<html>\n",
       "  <p>This is a paragraph</p>\n",
       "  <hr />\n",
       "  <x-custom foo=\"bar\" />\n",
       "  <img src=\"http://example.prg\" />\n",
       "  <div class=\"foo\">\n",
       "    <h1>This is a header</h1>\n",
       "    <h2 style=\"k:v\">This is a sub-header</h2>\n",
       "  </div>\n",
       "</html>\n",
       "```"
      ],
      "text/plain": [
       "<IPython.core.display.Markdown object>"
      ]
     },
     "execution_count": null,
     "metadata": {},
     "output_type": "execute_result"
    }
   ],
   "source": [
    "to_xml(a, True)"
   ]
  },
  {
   "cell_type": "code",
   "execution_count": null,
   "id": "bf251158",
   "metadata": {},
   "outputs": [],
   "source": [
    "#|export\n",
    "def json_to_xml(d:dict, rnm:str)->str:\n",
    "    \"Convert `d` to XML with root name `rnm`\"\n",
    "    root = ET.Element(rnm)\n",
    "    def build_xml(data, parent):\n",
    "        if isinstance(data, dict):\n",
    "            for key, value in data.items(): build_xml(value, ET.SubElement(parent, key))\n",
    "        elif isinstance(data, list):\n",
    "            for item in data: build_xml(item, ET.SubElement(parent, 'item'))\n",
    "        else: parent.text = str(data)\n",
    "    build_xml(d, root)\n",
    "    ET.indent(root)\n",
    "    return ET.tostring(root, encoding='unicode')"
   ]
  },
  {
   "cell_type": "code",
   "execution_count": null,
   "id": "20f3546e",
   "metadata": {},
   "outputs": [
    {
     "name": "stdout",
     "output_type": "stream",
     "text": [
      "<person>\n",
      "  <surname>Howard</surname>\n",
      "  <firstnames>\n",
      "    <item>Jeremy</item>\n",
      "    <item>Peter</item>\n",
      "  </firstnames>\n",
      "  <address>\n",
      "    <state>Queensland</state>\n",
      "    <country>Australia</country>\n",
      "  </address>\n",
      "</person>\n"
     ]
    }
   ],
   "source": [
    "a = dict(surname='Howard', firstnames=['Jeremy','Peter'],\n",
    "         address=dict(state='Queensland',country='Australia'))\n",
    "print(json_to_xml(a, 'person'))"
   ]
  },
  {
   "cell_type": "markdown",
   "id": "94ec4289",
   "metadata": {},
   "source": [
    "## Export -"
   ]
  },
  {
   "cell_type": "code",
   "execution_count": null,
   "id": "1e9ee5c1",
   "metadata": {},
   "outputs": [],
   "source": [
    "#|hide\n",
    "#|eval: false\n",
    "from nbdev.doclinks import nbdev_export\n",
    "nbdev_export()"
   ]
  },
  {
   "cell_type": "code",
   "execution_count": null,
   "id": "207f9715",
   "metadata": {},
   "outputs": [],
   "source": []
  }
 ],
 "metadata": {
  "kernelspec": {
   "display_name": "python3",
   "language": "python",
   "name": "python3"
  }
 },
 "nbformat": 4,
 "nbformat_minor": 5
}
