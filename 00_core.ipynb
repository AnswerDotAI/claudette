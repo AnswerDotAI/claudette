{
 "cells": [
  {
   "cell_type": "code",
   "execution_count": null,
   "id": "efe78920",
   "metadata": {},
   "outputs": [],
   "source": [
    "#|default_exp core"
   ]
  },
  {
   "cell_type": "markdown",
   "id": "3d773712-12fe-440e-891f-36f59666dfde",
   "metadata": {},
   "source": [
    "# Claudette's source"
   ]
  },
  {
   "cell_type": "markdown",
   "id": "c47b5d38",
   "metadata": {},
   "source": [
    "This is the 'literate' source code for Claudette. You can view the fully rendered version of the notebook [here](https://claudette.answer.ai/core.html), or you can clone the git repo and run the [interactive notebook](https://github.com/AnswerDotAI/claudette/blob/main/00_core.ipynb) in Jupyter. The notebook is converted the [Python module claudette/core.py](https://github.com/AnswerDotAI/claudette/blob/main/claudette/core.py) using [nbdev](https://nbdev.fast.ai/). The goal of this source code is to both create the Python module, and also to teach the reader *how* it is created, without assuming much existing knowledge about Claude's API.\n",
    "\n",
    "Most of the time you'll see that we write some source code *first*, and then a description or discussion of it *afterwards*."
   ]
  },
  {
   "cell_type": "markdown",
   "id": "ff6f6471-8061-4fdd-85a1-25fdc27c5cf3",
   "metadata": {},
   "source": [
    "## Setup"
   ]
  },
  {
   "cell_type": "code",
   "execution_count": null,
   "id": "f1ad998e-4bb1-4bed-abf4-6e8606cb2453",
   "metadata": {},
   "outputs": [],
   "source": [
    "import os\n",
    "# os.environ['ANTHROPIC_LOG'] = 'debug'"
   ]
  },
  {
   "cell_type": "markdown",
   "id": "5b16f396",
   "metadata": {},
   "source": [
    "To print every HTTP request and response in full, uncomment the above line. This functionality is provided by Anthropic's SDK."
   ]
  },
  {
   "cell_type": "code",
   "execution_count": null,
   "id": "033c76fd",
   "metadata": {},
   "outputs": [],
   "source": [
    "#| export\n",
    "import inspect, typing, json\n",
    "from collections import abc\n",
    "try: from IPython import display\n",
    "except: display=None\n",
    "from typing import get_type_hints\n",
    "from functools import wraps\n",
    "\n",
    "from anthropic import Anthropic, AnthropicBedrock, AnthropicVertex\n",
    "from anthropic.types import (Usage, TextBlock, ServerToolUseBlock,\n",
    "                             WebSearchToolResultBlock, Message, ToolUseBlock,\n",
    "                             ThinkingBlock, ServerToolUsage)\n",
    "from anthropic.resources import messages\n",
    "\n",
    "import toolslm\n",
    "from toolslm.funccall import *\n",
    "\n",
    "from fastcore.meta import delegates\n",
    "from fastcore.utils import *\n",
    "from msglm import mk_msg_anthropic as mk_msg, mk_msgs_anthropic as mk_msgs"
   ]
  },
  {
   "cell_type": "code",
   "execution_count": null,
   "id": "13866a72",
   "metadata": {},
   "outputs": [],
   "source": [
    "#| hide\n",
    "from nbdev import show_doc\n",
    "\n",
    "# Used to show available models from the anthropic SDK\n",
    "from anthropic.types import Model\n",
    "from claudette.text_editor import *\n",
    "from typing import get_args\n",
    "from datetime import datetime\n",
    "from pprint import pprint\n",
    "\n",
    "import warnings\n",
    "\n",
    "warnings.filterwarnings(\"ignore\", message=\"Pydantic serializer warnings\")"
   ]
  },
  {
   "cell_type": "code",
   "execution_count": null,
   "id": "c1cefa1e",
   "metadata": {},
   "outputs": [],
   "source": [
    "#| export\n",
    "_all_ = ['mk_msg', 'mk_msgs']"
   ]
  },
  {
   "cell_type": "code",
   "execution_count": null,
   "id": "f5fa6b92",
   "metadata": {},
   "outputs": [],
   "source": [
    "#| export\n",
    "empty = inspect.Parameter.empty"
   ]
  },
  {
   "cell_type": "markdown",
   "id": "9c3c2197",
   "metadata": {},
   "source": [
    ":::{.callout-tip}\n",
    "\n",
    "If you're reading the rendered version of this notebook, you'll see an \"Exported source\" collapsible widget below. If you're reading the source notebook directly, you'll see `#| exports` at the top of the cell. These show that this piece of code will be exported into the python module that this notebook creates. No other code will be included -- any other code in this notebook is just for demonstration, documentation, and testing.\n",
    "\n",
    "You can toggle expanding/collapsing the source code of all exported sections by using the `</> Code` menu in the top right of the rendered notebook page.\n",
    "\n",
    ":::"
   ]
  },
  {
   "cell_type": "code",
   "execution_count": null,
   "id": "0fff8869",
   "metadata": {},
   "outputs": [],
   "source": [
    "#| exports\n",
    "\n",
    "model_types = {\n",
    "    # Anthropic\n",
    "    'claude-3-opus-20240229': 'opus',\n",
    "    'claude-3-7-sonnet-20250219': 'sonnet',\n",
    "    'claude-3-5-sonnet-20241022': 'sonnet-3-5',\n",
    "    'claude-3-haiku-20240307': 'haiku-3',\n",
    "    'claude-3-5-haiku-20241022': 'haiku-3-5',\n",
    "    # AWS\n",
    "    'anthropic.claude-3-opus-20240229-v1:0': 'opus',\n",
    "    'anthropic.claude-3-5-sonnet-20241022-v2:0': 'sonnet',\n",
    "    'anthropic.claude-3-sonnet-20240229-v1:0': 'sonnet',\n",
    "    'anthropic.claude-3-haiku-20240307-v1:0': 'haiku',\n",
    "    # Google\n",
    "    'claude-3-opus@20240229': 'opus',\n",
    "    'claude-3-5-sonnet-v2@20241022': 'sonnet',\n",
    "    'claude-3-sonnet@20240229': 'sonnet',\n",
    "    'claude-3-haiku@20240307': 'haiku',\n",
    "}\n",
    "\n",
    "all_models = list(model_types)"
   ]
  },
  {
   "cell_type": "markdown",
   "id": "e52e764f",
   "metadata": {},
   "source": [
    "Warning: between Anthropic SDK 0.4.2 and 0.4.7 the interface to the `Model` type changed."
   ]
  },
  {
   "cell_type": "code",
   "execution_count": null,
   "id": "f237bd2e",
   "metadata": {},
   "outputs": [
    {
     "data": {
      "text/plain": [
       "typing.Union[typing.Literal['claude-3-7-sonnet-latest', 'claude-3-7-sonnet-20250219', 'claude-3-5-haiku-latest', 'claude-3-5-haiku-20241022', 'claude-3-5-sonnet-latest', 'claude-3-5-sonnet-20241022', 'claude-3-5-sonnet-20240620', 'claude-3-opus-latest', 'claude-3-opus-20240229', 'claude-3-sonnet-20240229', 'claude-3-haiku-20240307', 'claude-2.1', 'claude-2.0'], str]"
      ]
     },
     "execution_count": null,
     "metadata": {},
     "output_type": "execute_result"
    }
   ],
   "source": [
    "#|hide\n",
    "\n",
    "# Full list of models via the anthropic SDK for reference. Not all models are surfaced by Claudette.\n",
    "Model"
   ]
  },
  {
   "cell_type": "code",
   "execution_count": null,
   "id": "4f03dcad",
   "metadata": {},
   "outputs": [],
   "source": [
    "#| export\n",
    "models = all_models[:5]"
   ]
  },
  {
   "cell_type": "code",
   "execution_count": null,
   "id": "c8490b08",
   "metadata": {},
   "outputs": [
    {
     "data": {
      "text/plain": [
       "['claude-3-opus-20240229',\n",
       " 'claude-3-7-sonnet-20250219',\n",
       " 'claude-3-5-sonnet-20241022',\n",
       " 'claude-3-haiku-20240307',\n",
       " 'claude-3-5-haiku-20241022']"
      ]
     },
     "execution_count": null,
     "metadata": {},
     "output_type": "execute_result"
    }
   ],
   "source": [
    "models"
   ]
  },
  {
   "cell_type": "code",
   "execution_count": null,
   "id": "53a6d47a",
   "metadata": {},
   "outputs": [],
   "source": [
    "#| export\n",
    "models_aws = ['claude-3-5-haiku-20241022',\n",
    " 'claude-3-7-sonnet-20250219',\n",
    " 'anthropic.claude-3-opus-20240229-v1:0',\n",
    " 'anthropic.claude-3-5-sonnet-20241022-v2:0']"
   ]
  },
  {
   "cell_type": "code",
   "execution_count": null,
   "id": "f3ed4f95",
   "metadata": {},
   "outputs": [],
   "source": [
    "#| export\n",
    "models_goog = ['anthropic.claude-3-sonnet-20240229-v1:0',\n",
    " 'anthropic.claude-3-haiku-20240307-v1:0',\n",
    " 'claude-3-opus@20240229',\n",
    " 'claude-3-5-sonnet-v2@20241022',\n",
    " 'claude-3-sonnet@20240229',\n",
    " 'claude-3-haiku@20240307']"
   ]
  },
  {
   "cell_type": "code",
   "execution_count": null,
   "id": "669696aa",
   "metadata": {},
   "outputs": [],
   "source": [
    "#| exports\n",
    "text_only_models = ('claude-3-5-haiku-20241022',)"
   ]
  },
  {
   "cell_type": "code",
   "execution_count": null,
   "id": "2411f28d",
   "metadata": {},
   "outputs": [],
   "source": [
    "#| exports\n",
    "has_streaming_models = set(all_models)\n",
    "has_system_prompt_models = set(all_models)\n",
    "has_temperature_models = set(all_models)\n",
    "has_extended_thinking_models = {'claude-3-7-sonnet-20250219'}"
   ]
  },
  {
   "cell_type": "code",
   "execution_count": null,
   "id": "980bfdfb",
   "metadata": {},
   "outputs": [
    {
     "data": {
      "text/plain": [
       "{'anthropic.claude-3-5-sonnet-20241022-v2:0',\n",
       " 'anthropic.claude-3-haiku-20240307-v1:0',\n",
       " 'anthropic.claude-3-opus-20240229-v1:0',\n",
       " 'anthropic.claude-3-sonnet-20240229-v1:0',\n",
       " 'claude-3-5-haiku-20241022',\n",
       " 'claude-3-5-sonnet-20241022',\n",
       " 'claude-3-5-sonnet-v2@20241022',\n",
       " 'claude-3-7-sonnet-20250219',\n",
       " 'claude-3-haiku-20240307',\n",
       " 'claude-3-haiku@20240307',\n",
       " 'claude-3-opus-20240229',\n",
       " 'claude-3-opus@20240229',\n",
       " 'claude-3-sonnet@20240229'}"
      ]
     },
     "execution_count": null,
     "metadata": {},
     "output_type": "execute_result"
    }
   ],
   "source": [
    "has_streaming_models"
   ]
  },
  {
   "cell_type": "code",
   "execution_count": null,
   "id": "12a68d54",
   "metadata": {},
   "outputs": [],
   "source": [
    "#| exports\n",
    "\n",
    "def can_stream(m): return m in has_streaming_models\n",
    "def can_set_system_prompt(m): return m in has_system_prompt_models\n",
    "def can_set_temperature(m): return m in has_temperature_models\n",
    "def can_use_extended_thinking(m): return m in has_extended_thinking_models"
   ]
  },
  {
   "cell_type": "markdown",
   "id": "0dd0ba8f",
   "metadata": {},
   "source": [
    "We include these functions to provide a uniform library interface with cosette since openai models such as o1 do not have many of these capabilities."
   ]
  },
  {
   "cell_type": "code",
   "execution_count": null,
   "id": "55036062",
   "metadata": {},
   "outputs": [],
   "source": [
    "assert can_stream('claude-3-5-sonnet-20241022') and can_set_system_prompt('claude-3-5-sonnet-20241022') and can_set_temperature('claude-3-5-sonnet-20241022')"
   ]
  },
  {
   "cell_type": "markdown",
   "id": "ba6c7f48",
   "metadata": {},
   "source": [
    "These are the current versions and [prices](https://www.anthropic.com/pricing#anthropic-api) of Anthropic's models at the time of writing."
   ]
  },
  {
   "cell_type": "code",
   "execution_count": null,
   "id": "dacf2bd2",
   "metadata": {},
   "outputs": [
    {
     "data": {
      "text/plain": [
       "'claude-3-7-sonnet-20250219'"
      ]
     },
     "execution_count": null,
     "metadata": {},
     "output_type": "execute_result"
    }
   ],
   "source": [
    "model = models[1]; model"
   ]
  },
  {
   "cell_type": "markdown",
   "id": "71985a9c",
   "metadata": {},
   "source": [
    "For examples, we'll use Sonnet 3.5, since it's awesome."
   ]
  },
  {
   "cell_type": "markdown",
   "id": "863d4d81",
   "metadata": {},
   "source": [
    "## Antropic SDK"
   ]
  },
  {
   "cell_type": "code",
   "execution_count": null,
   "id": "70b53a51",
   "metadata": {},
   "outputs": [],
   "source": [
    "cli = Anthropic()"
   ]
  },
  {
   "cell_type": "markdown",
   "id": "23055b40",
   "metadata": {},
   "source": [
    "This is what Anthropic's SDK provides for interacting with Python. To use it, pass it a list of *messages*, with *content* and a *role*. The roles should alternate between *user* and *assistant*."
   ]
  },
  {
   "cell_type": "markdown",
   "id": "b2db9466",
   "metadata": {},
   "source": [
    ":::{.callout-tip}\n",
    "\n",
    "After the code below you'll see an indented section with an orange vertical line on the left. This is used to show the *result* of running the code above. Because the code is running in a Jupyter Notebook, we don't have to use `print` to display results, we can just type the expression directly, as we do with `r` here.\n",
    "\n",
    ":::"
   ]
  },
  {
   "cell_type": "code",
   "execution_count": null,
   "id": "6ec40731",
   "metadata": {},
   "outputs": [
    {
     "data": {
      "text/markdown": [
       "Hello Jeremy! It's nice to meet you. How are you doing today? Is there anything I can help you with or something you'd like to talk about?\n",
       "\n",
       "<details>\n",
       "\n",
       "- id: `msg_01YTFnV5W6dv72G56yVgETgc`\n",
       "- content: `[{'citations': None, 'text': \"Hello Jeremy! It's nice to meet you. How are you doing today? Is there anything I can help you with or something you'd like to talk about?\", 'type': 'text'}]`\n",
       "- model: `claude-3-7-sonnet-20250219`\n",
       "- role: `assistant`\n",
       "- stop_reason: `end_turn`\n",
       "- stop_sequence: `None`\n",
       "- type: `message`\n",
       "- usage: `{'cache_creation_input_tokens': 0, 'cache_read_input_tokens': 0, 'input_tokens': 10, 'output_tokens': 36, 'server_tool_use': None}`\n",
       "\n",
       "</details>"
      ],
      "text/plain": [
       "Message(id='msg_01YTFnV5W6dv72G56yVgETgc', content=[TextBlock(citations=None, text=\"Hello Jeremy! It's nice to meet you. How are you doing today? Is there anything I can help you with or something you'd like to talk about?\", type='text')], model='claude-3-7-sonnet-20250219', role='assistant', stop_reason='end_turn', stop_sequence=None, type='message', usage=In: 10; Out: 36; Cache create: 0; Cache read: 0; Total Tokens: 46; Server tool use (web search requests): 0)"
      ]
     },
     "execution_count": null,
     "metadata": {},
     "output_type": "execute_result"
    }
   ],
   "source": [
    "m = {'role': 'user', 'content': \"I'm Jeremy\"}\n",
    "r = cli.messages.create(messages=[m], model=model, max_tokens=100)\n",
    "r"
   ]
  },
  {
   "cell_type": "markdown",
   "id": "d6359e1a",
   "metadata": {},
   "source": [
    "### Formatting output"
   ]
  },
  {
   "cell_type": "markdown",
   "id": "865c40a9",
   "metadata": {},
   "source": [
    "That output is pretty long and hard to read, so let's clean it up. We'll start by pulling out the `Content` part of the message.\n",
    "To do that, we're going to write our first function which will be included to the `claudette/core.py` module."
   ]
  },
  {
   "cell_type": "markdown",
   "id": "e42e5d44",
   "metadata": {},
   "source": [
    ":::{.callout-tip}\n",
    "\n",
    "This is the first exported public function or class we're creating (the previous export was of a variable). In the rendered version of the notebook for these you'll see 4 things, in this order (unless the symbol starts with a single `_`, which indicates it's *private*):\n",
    "\n",
    "- The signature (with the symbol name as a heading, with a horizontal rule above)\n",
    "- A table of paramater docs (if provided)\n",
    "- The doc string (in italics).\n",
    "- The source code (in a collapsible \"Exported source\" block)\n",
    "\n",
    "After that, we generally provide a bit more detail on what we've created, and why, along with a sample usage.\n",
    "\n",
    ":::"
   ]
  },
  {
   "cell_type": "code",
   "execution_count": null,
   "id": "eba620ce",
   "metadata": {},
   "outputs": [],
   "source": [
    "#| exports\n",
    "def find_block(r:abc.Mapping, # The message to look in\n",
    "               blk_type:type=TextBlock  # The type of block to find\n",
    "              ):\n",
    "    \"Find the first block of type `blk_type` in `r.content`.\"\n",
    "    return first(o for o in r.content if isinstance(o,blk_type))"
   ]
  },
  {
   "cell_type": "markdown",
   "id": "1fa93ca1",
   "metadata": {},
   "source": [
    "This makes it easier to grab the needed parts of Claude's responses, which can include multiple pieces of content. By default, we look for the first text block. That will generally have the content we want to display."
   ]
  },
  {
   "cell_type": "code",
   "execution_count": null,
   "id": "10af0e65",
   "metadata": {},
   "outputs": [
    {
     "data": {
      "text/plain": [
       "TextBlock(citations=None, text=\"Hello Jeremy! It's nice to meet you. How are you doing today? Is there anything I can help you with or something you'd like to talk about?\", type='text')"
      ]
     },
     "execution_count": null,
     "metadata": {},
     "output_type": "execute_result"
    }
   ],
   "source": [
    "find_block(r)"
   ]
  },
  {
   "cell_type": "code",
   "execution_count": null,
   "id": "ae99799d",
   "metadata": {},
   "outputs": [],
   "source": [
    "def contents(r):\n",
    "    \"Helper to get the contents from Claude response `r`.\"\n",
    "    blk = find_block(r)\n",
    "    if not blk and r.content: blk = r.content[0]\n",
    "    return blk.text.strip() if hasattr(blk,'text') else str(blk)"
   ]
  },
  {
   "cell_type": "markdown",
   "id": "ffb59427",
   "metadata": {},
   "source": [
    "For display purposes, we often just want to show the text itself."
   ]
  },
  {
   "cell_type": "code",
   "execution_count": null,
   "id": "6d5f2107",
   "metadata": {},
   "outputs": [
    {
     "data": {
      "text/plain": [
       "\"Hello Jeremy! It's nice to meet you. How are you doing today? Is there anything I can help you with or something you'd like to talk about?\""
      ]
     },
     "execution_count": null,
     "metadata": {},
     "output_type": "execute_result"
    }
   ],
   "source": [
    "contents(r)"
   ]
  },
  {
   "cell_type": "code",
   "execution_count": null,
   "id": "17924d0c",
   "metadata": {},
   "outputs": [],
   "source": [
    "#| exports\n",
    "@patch\n",
    "def _repr_markdown_(self:(Message)):\n",
    "    det = '\\n- '.join(f'{k}: `{v}`' for k,v in self.model_dump().items())\n",
    "    cts = re.sub(r'\\$', '&#36;', contents(self))  # escape `$` for jupyter latex\n",
    "    return f\"\"\"{cts}\n",
    "\n",
    "<details>\n",
    "\n",
    "- {det}\n",
    "\n",
    "</details>\"\"\""
   ]
  },
  {
   "cell_type": "markdown",
   "id": "3764d112",
   "metadata": {},
   "source": [
    "Jupyter looks for a `_repr_markdown_` method in displayed objects; we add this in order to display just the content text, and collapse full details into a hideable section. Note that `patch` is from [fastcore](https://fastcore.fast.ai/), and is used to add (or replace) functionality in an existing class. We pass the class(es) that we want to patch as type annotations to `self`. In this case, `_repr_markdown_` is being added to Anthropic's `Message` class, so when we display the message now we just see the contents, and the details are hidden away in a collapsible details block."
   ]
  },
  {
   "cell_type": "code",
   "execution_count": null,
   "id": "cfd85eeb",
   "metadata": {},
   "outputs": [
    {
     "data": {
      "text/markdown": [
       "Hello Jeremy! It's nice to meet you. How are you doing today? Is there anything I can help you with or something you'd like to talk about?\n",
       "\n",
       "<details>\n",
       "\n",
       "- id: `msg_01YTFnV5W6dv72G56yVgETgc`\n",
       "- content: `[{'citations': None, 'text': \"Hello Jeremy! It's nice to meet you. How are you doing today? Is there anything I can help you with or something you'd like to talk about?\", 'type': 'text'}]`\n",
       "- model: `claude-3-7-sonnet-20250219`\n",
       "- role: `assistant`\n",
       "- stop_reason: `end_turn`\n",
       "- stop_sequence: `None`\n",
       "- type: `message`\n",
       "- usage: `{'cache_creation_input_tokens': 0, 'cache_read_input_tokens': 0, 'input_tokens': 10, 'output_tokens': 36, 'server_tool_use': None}`\n",
       "\n",
       "</details>"
      ],
      "text/plain": [
       "Message(id='msg_01YTFnV5W6dv72G56yVgETgc', content=[TextBlock(citations=None, text=\"Hello Jeremy! It's nice to meet you. How are you doing today? Is there anything I can help you with or something you'd like to talk about?\", type='text')], model='claude-3-7-sonnet-20250219', role='assistant', stop_reason='end_turn', stop_sequence=None, type='message', usage=In: 10; Out: 36; Cache create: 0; Cache read: 0; Total Tokens: 46; Server tool use (web search requests): 0)"
      ]
     },
     "execution_count": null,
     "metadata": {},
     "output_type": "execute_result"
    }
   ],
   "source": [
    "r"
   ]
  },
  {
   "cell_type": "markdown",
   "id": "8615447e",
   "metadata": {},
   "source": [
    "One key part of the response is the `usage` key, which tells us how many tokens we used by returning a `Usage` object.\n",
    "\n",
    "We'll add some helpers to make things a bit cleaner for creating and formatting these objects."
   ]
  },
  {
   "cell_type": "code",
   "execution_count": null,
   "id": "10c7466f",
   "metadata": {},
   "outputs": [
    {
     "data": {
      "text/plain": [
       "In: 10; Out: 36; Cache create: 0; Cache read: 0; Total Tokens: 46; Server tool use (web search requests): 0"
      ]
     },
     "execution_count": null,
     "metadata": {},
     "output_type": "execute_result"
    }
   ],
   "source": [
    "r.usage"
   ]
  },
  {
   "cell_type": "code",
   "execution_count": null,
   "id": "56d7e83f",
   "metadata": {},
   "outputs": [],
   "source": [
    "#| exports\n",
    "def server_tool_usage(web_search_requests=0):\n",
    "    'Little helper to create a server tool usage object'\n",
    "    return ServerToolUsage(web_search_requests=web_search_requests)"
   ]
  },
  {
   "cell_type": "code",
   "execution_count": null,
   "id": "b1a24f68",
   "metadata": {},
   "outputs": [],
   "source": [
    "#| exports\n",
    "def usage(inp=0, # input tokens\n",
    "          out=0,  # Output tokens\n",
    "          cache_create=0, # Cache creation tokens\n",
    "          cache_read=0, # Cache read tokens\n",
    "          server_tool_use=server_tool_usage() # server tool use\n",
    "         ):\n",
    "    'Slightly more concise version of `Usage`.'\n",
    "    return Usage(input_tokens=inp, output_tokens=out, cache_creation_input_tokens=cache_create,\n",
    "                 cache_read_input_tokens=cache_read, server_tool_use=server_tool_use)"
   ]
  },
  {
   "cell_type": "markdown",
   "id": "2184ec7f",
   "metadata": {},
   "source": [
    "The constructor provided by Anthropic is rather verbose, so we clean it up a bit, using a lowercase version of the name."
   ]
  },
  {
   "cell_type": "code",
   "execution_count": null,
   "id": "a7e52afd",
   "metadata": {},
   "outputs": [
    {
     "data": {
      "text/plain": [
       "In: 5; Out: 0; Cache create: 0; Cache read: 0; Total Tokens: 5; Server tool use (web search requests): 0"
      ]
     },
     "execution_count": null,
     "metadata": {},
     "output_type": "execute_result"
    }
   ],
   "source": [
    "usage(5)"
   ]
  },
  {
   "cell_type": "code",
   "execution_count": null,
   "id": "2db64da5",
   "metadata": {},
   "outputs": [],
   "source": [
    "#| exports\n",
    "def _dgetattr(o,s,d): \n",
    "    \"Like getattr, but returns the default if the result is None\"\n",
    "    return getattr(o,s,d) or d\n",
    "\n",
    "@patch(as_prop=True)\n",
    "def total(self:Usage): return self.input_tokens+self.output_tokens+_dgetattr(self, \"cache_creation_input_tokens\",0)+_dgetattr(self, \"cache_read_input_tokens\",0)"
   ]
  },
  {
   "cell_type": "markdown",
   "id": "5363afa4",
   "metadata": {},
   "source": [
    "Adding a `total` property to `Usage` makes it easier to see how many tokens we've used up altogether."
   ]
  },
  {
   "cell_type": "code",
   "execution_count": null,
   "id": "74553203",
   "metadata": {},
   "outputs": [
    {
     "data": {
      "text/plain": [
       "6"
      ]
     },
     "execution_count": null,
     "metadata": {},
     "output_type": "execute_result"
    }
   ],
   "source": [
    "usage(5,1).total"
   ]
  },
  {
   "cell_type": "code",
   "execution_count": null,
   "id": "27468180",
   "metadata": {},
   "outputs": [],
   "source": [
    "#| exports\n",
    "@patch\n",
    "def __repr__(self:Usage):\n",
    "    io_toks = f'In: {self.input_tokens}; Out: {self.output_tokens}'\n",
    "    cache_toks = f'Cache create: {_dgetattr(self, \"cache_creation_input_tokens\",0)}; Cache read: {_dgetattr(self, \"cache_read_input_tokens\",0)}'\n",
    "    server_tool_use = _dgetattr(self, \"server_tool_use\",server_tool_usage())\n",
    "    server_tool_use_str = f'Server tool use (web search requests): {server_tool_use.web_search_requests}'\n",
    "    total_tok = f'Total Tokens: {self.total}'\n",
    "    return f'{io_toks}; {cache_toks}; {total_tok}; {server_tool_use_str}'"
   ]
  },
  {
   "cell_type": "markdown",
   "id": "dbbf7024",
   "metadata": {},
   "source": [
    "In python, patching `__repr__` lets us change how an object is displayed. (More generally, methods starting and ending in `__` in Python are called `dunder` methods, and have some `magic` behavior -- such as, in this case, changing how an object is displayed.) We won't be directly displaying ServerToolUsage's, so we can handle its display behavior in the same Usage `__repr__`"
   ]
  },
  {
   "cell_type": "code",
   "execution_count": null,
   "id": "b8af5068",
   "metadata": {},
   "outputs": [
    {
     "data": {
      "text/plain": [
       "In: 5; Out: 0; Cache create: 0; Cache read: 0; Total Tokens: 5; Server tool use (web search requests): 0"
      ]
     },
     "execution_count": null,
     "metadata": {},
     "output_type": "execute_result"
    }
   ],
   "source": [
    "usage(5)"
   ]
  },
  {
   "cell_type": "code",
   "execution_count": null,
   "id": "4a9886af",
   "metadata": {},
   "outputs": [],
   "source": [
    "#| exports\n",
    "@patch\n",
    "def __add__(self:ServerToolUsage, b):\n",
    "    \"Add together each of the server tool use counts\"\n",
    "    return ServerToolUsage(web_search_requests=self.web_search_requests+b.web_search_requests)"
   ]
  },
  {
   "cell_type": "markdown",
   "id": "a8918938",
   "metadata": {},
   "source": [
    "And, patching `__add__` lets `+` work on a `ServerToolUsage` as well as a `Usage` object."
   ]
  },
  {
   "cell_type": "code",
   "execution_count": null,
   "id": "facab8cd",
   "metadata": {},
   "outputs": [
    {
     "data": {
      "text/plain": [
       "ServerToolUsage(web_search_requests=3)"
      ]
     },
     "execution_count": null,
     "metadata": {},
     "output_type": "execute_result"
    }
   ],
   "source": [
    "server_tool_usage(1) + server_tool_usage(2)"
   ]
  },
  {
   "cell_type": "code",
   "execution_count": null,
   "id": "6c9025c6",
   "metadata": {},
   "outputs": [],
   "source": [
    "#| exports\n",
    "@patch\n",
    "def __add__(self:Usage, b):\n",
    "    \"Add together each of `input_tokens` and `output_tokens`\"\n",
    "    return usage(self.input_tokens+b.input_tokens, self.output_tokens+b.output_tokens,\n",
    "                 _dgetattr(self,'cache_creation_input_tokens',0)+_dgetattr(b,'cache_creation_input_tokens',0),\n",
    "                 _dgetattr(self,'cache_read_input_tokens',0)+_dgetattr(b,'cache_read_input_tokens',0),\n",
    "                 _dgetattr(self,'server_tool_use',server_tool_usage())+_dgetattr(b,'server_tool_use',server_tool_usage()))"
   ]
  },
  {
   "cell_type": "code",
   "execution_count": null,
   "id": "bffb0b2e",
   "metadata": {},
   "outputs": [
    {
     "data": {
      "text/plain": [
       "In: 20; Out: 72; Cache create: 0; Cache read: 0; Total Tokens: 92; Server tool use (web search requests): 1"
      ]
     },
     "execution_count": null,
     "metadata": {},
     "output_type": "execute_result"
    }
   ],
   "source": [
    "r.usage+r.usage + usage(server_tool_use=server_tool_usage(1))"
   ]
  },
  {
   "cell_type": "markdown",
   "id": "edd0a43f",
   "metadata": {},
   "source": [
    "### Creating messages"
   ]
  },
  {
   "cell_type": "markdown",
   "id": "b4912f1e",
   "metadata": {},
   "source": [
    "Creating correctly formatted `dict`s from scratch every time isn't very handy, so we'll import a couple of helper functions from the `msglm` library.\n",
    "\n",
    "Let's use `mk_msg` to recreate our msg `{'role': 'user', 'content': \"I'm Jeremy\"}` from earlier."
   ]
  },
  {
   "cell_type": "code",
   "execution_count": null,
   "id": "0ffa2c14",
   "metadata": {},
   "outputs": [
    {
     "data": {
      "text/markdown": [
       "Hello, Jeremy! It's nice to meet you. How are you doing today? Is there something I can help you with or would you like to discuss something specific?\n",
       "\n",
       "<details>\n",
       "\n",
       "- id: `msg_01T5fCHX6KMXPe41wHJe3RvM`\n",
       "- content: `[{'citations': None, 'text': \"Hello, Jeremy! It's nice to meet you. How are you doing today? Is there something I can help you with or would you like to discuss something specific?\", 'type': 'text'}]`\n",
       "- model: `claude-3-7-sonnet-20250219`\n",
       "- role: `assistant`\n",
       "- stop_reason: `end_turn`\n",
       "- stop_sequence: `None`\n",
       "- type: `message`\n",
       "- usage: `{'cache_creation_input_tokens': 0, 'cache_read_input_tokens': 0, 'input_tokens': 10, 'output_tokens': 37, 'server_tool_use': None}`\n",
       "\n",
       "</details>"
      ],
      "text/plain": [
       "Message(id='msg_01T5fCHX6KMXPe41wHJe3RvM', content=[TextBlock(citations=None, text=\"Hello, Jeremy! It's nice to meet you. How are you doing today? Is there something I can help you with or would you like to discuss something specific?\", type='text')], model='claude-3-7-sonnet-20250219', role='assistant', stop_reason='end_turn', stop_sequence=None, type='message', usage=In: 10; Out: 37; Cache create: 0; Cache read: 0; Total Tokens: 47; Server tool use (web search requests): 0)"
      ]
     },
     "execution_count": null,
     "metadata": {},
     "output_type": "execute_result"
    }
   ],
   "source": [
    "prompt = \"I'm Jeremy\"\n",
    "m = mk_msg(prompt)\n",
    "r = cli.messages.create(messages=[m], model=model, max_tokens=100)\n",
    "r"
   ]
  },
  {
   "cell_type": "markdown",
   "id": "2fba8532",
   "metadata": {},
   "source": [
    "We can pass more than just text messages to Claude. As we'll see later we can also pass images, SDK objects, etc. To handle these different data types we need to pass the type along with our content to Claude. \n",
    "\n",
    "Here's an example of a multimodal message containing text and images. \n",
    "\n",
    "```json\n",
    "{\n",
    "    'role': 'user', \n",
    "    'content': [\n",
    "        {'type':'text', 'text':'What is in the image?'},\n",
    "        {\n",
    "            'type':'image', \n",
    "            'source': {\n",
    "                'type':'base64', 'media_type':'media_type', 'data': 'data'\n",
    "            }\n",
    "        }\n",
    "    ]\n",
    "}\n",
    "```\n",
    "\n",
    "`mk_msg` infers the type automatically and creates the appropriate data structure. "
   ]
  },
  {
   "cell_type": "markdown",
   "id": "fb04f6b4",
   "metadata": {},
   "source": [
    "LLMs, don't actually have state, but instead dialogs are created by passing back all previous prompts and responses every time. With Claude, they always alternate *user* and *assistant*. We'll use `mk_msgs` from `msglm` to make it easier to build up these dialog lists."
   ]
  },
  {
   "cell_type": "code",
   "execution_count": null,
   "id": "b4c8fcad",
   "metadata": {},
   "outputs": [
    {
     "data": {
      "text/plain": [
       "[{'role': 'user', 'content': \"I'm Jeremy\"},\n",
       " {'role': 'assistant',\n",
       "  'content': [TextBlock(citations=None, text=\"Hello, Jeremy! It's nice to meet you. How are you doing today? Is there something I can help you with or would you like to discuss something specific?\", type='text')]},\n",
       " {'role': 'user', 'content': 'I forgot my name. Can you remind me please?'}]"
      ]
     },
     "execution_count": null,
     "metadata": {},
     "output_type": "execute_result"
    }
   ],
   "source": [
    "msgs = mk_msgs([prompt, r, \"I forgot my name. Can you remind me please?\"]) \n",
    "msgs"
   ]
  },
  {
   "cell_type": "code",
   "execution_count": null,
   "id": "6c464f8b",
   "metadata": {},
   "outputs": [
    {
     "data": {
      "text/markdown": [
       "You mentioned that your name is Jeremy. That's how you introduced yourself at the beginning of our conversation.\n",
       "\n",
       "<details>\n",
       "\n",
       "- id: `msg_014Ryt7moN693dhH9WF6wU4q`\n",
       "- content: `[{'citations': None, 'text': \"You mentioned that your name is Jeremy. That's how you introduced yourself at the beginning of our conversation.\", 'type': 'text'}]`\n",
       "- model: `claude-3-7-sonnet-20250219`\n",
       "- role: `assistant`\n",
       "- stop_reason: `end_turn`\n",
       "- stop_sequence: `None`\n",
       "- type: `message`\n",
       "- usage: `{'cache_creation_input_tokens': 0, 'cache_read_input_tokens': 0, 'input_tokens': 61, 'output_tokens': 24, 'server_tool_use': None}`\n",
       "\n",
       "</details>"
      ],
      "text/plain": [
       "Message(id='msg_014Ryt7moN693dhH9WF6wU4q', content=[TextBlock(citations=None, text=\"You mentioned that your name is Jeremy. That's how you introduced yourself at the beginning of our conversation.\", type='text')], model='claude-3-7-sonnet-20250219', role='assistant', stop_reason='end_turn', stop_sequence=None, type='message', usage=In: 61; Out: 24; Cache create: 0; Cache read: 0; Total Tokens: 85; Server tool use (web search requests): 0)"
      ]
     },
     "execution_count": null,
     "metadata": {},
     "output_type": "execute_result"
    }
   ],
   "source": [
    "cli.messages.create(messages=msgs, model=model, max_tokens=200)"
   ]
  },
  {
   "cell_type": "markdown",
   "id": "281f8a4d",
   "metadata": {},
   "source": [
    "## Client"
   ]
  },
  {
   "cell_type": "code",
   "execution_count": null,
   "id": "3b873aaf",
   "metadata": {},
   "outputs": [],
   "source": [
    "#| exports\n",
    "class Client:\n",
    "    def __init__(self, model, cli=None, log=False, cache=False):\n",
    "        \"Basic Anthropic messages client.\"\n",
    "        self.model,self.use = model,usage()\n",
    "        self.text_only = model in text_only_models\n",
    "        self.log = [] if log else None\n",
    "        self.c = (cli or Anthropic(default_headers={'anthropic-beta': 'prompt-caching-2024-07-31'}))\n",
    "        self.cache = cache"
   ]
  },
  {
   "cell_type": "markdown",
   "id": "146e39f0",
   "metadata": {},
   "source": [
    "We'll create a simple `Client` for `Anthropic` which tracks usage stores the model to use. We don't add any methods right away -- instead we'll use `patch` for that so we can add and document them incrementally."
   ]
  },
  {
   "cell_type": "code",
   "execution_count": null,
   "id": "d01e9ccf",
   "metadata": {},
   "outputs": [
    {
     "data": {
      "text/plain": [
       "In: 0; Out: 0; Cache create: 0; Cache read: 0; Total Tokens: 0; Server tool use (web search requests): 0"
      ]
     },
     "execution_count": null,
     "metadata": {},
     "output_type": "execute_result"
    }
   ],
   "source": [
    "c = Client(model)\n",
    "c.use"
   ]
  },
  {
   "cell_type": "code",
   "execution_count": null,
   "id": "8015d3f3",
   "metadata": {},
   "outputs": [],
   "source": [
    "#| exports\n",
    "@patch\n",
    "def _r(self:Client, r:Message, prefill=''):\n",
    "    \"Store the result of the message and accrue total usage.\"\n",
    "    if prefill:\n",
    "        blk = find_block(r)\n",
    "        blk.text = prefill + (blk.text or '')\n",
    "    self.result = r\n",
    "    self.use += r.usage\n",
    "    self.stop_reason = r.stop_reason\n",
    "    self.stop_sequence = r.stop_sequence\n",
    "    return r"
   ]
  },
  {
   "cell_type": "markdown",
   "id": "68d2eb9b",
   "metadata": {},
   "source": [
    "We use a `_` prefix on private methods, but we document them here in the interests of literate source code.\n",
    "\n",
    "`_r` will be used each time we get a new result, to track usage and also to keep the result available for later."
   ]
  },
  {
   "cell_type": "code",
   "execution_count": null,
   "id": "0181f7b3",
   "metadata": {},
   "outputs": [
    {
     "data": {
      "text/plain": [
       "In: 10; Out: 37; Cache create: 0; Cache read: 0; Total Tokens: 47; Server tool use (web search requests): 0"
      ]
     },
     "execution_count": null,
     "metadata": {},
     "output_type": "execute_result"
    }
   ],
   "source": [
    "c._r(r)\n",
    "c.use"
   ]
  },
  {
   "cell_type": "markdown",
   "id": "7258fd6e",
   "metadata": {},
   "source": [
    "Whereas OpenAI's models use a `stream` parameter for streaming, Anthropic's use a separate method. We implement Anthropic's approach in a private method, and then use a `stream` parameter in `__call__` for consistency:"
   ]
  },
  {
   "cell_type": "code",
   "execution_count": null,
   "id": "6520a355",
   "metadata": {},
   "outputs": [],
   "source": [
    "#| exports\n",
    "@patch\n",
    "def _log(self:Client, final, prefill, msgs, maxtok=None, sp=None, temp=None, stream=None, stop=None, **kwargs):\n",
    "    self._r(final, prefill)\n",
    "    if self.log is not None: self.log.append({\n",
    "        \"msgs\": msgs, \"prefill\": prefill, **kwargs,\n",
    "        \"msgs\": msgs, \"prefill\": prefill, \"maxtok\": maxtok, \"sp\": sp, \"temp\": temp, \"stream\": stream, \"stop\": stop, **kwargs,\n",
    "        \"result\": self.result, \"use\": self.use, \"stop_reason\": self.stop_reason, \"stop_sequence\": self.stop_sequence\n",
    "    })\n",
    "    return self.result"
   ]
  },
  {
   "cell_type": "code",
   "execution_count": null,
   "id": "6901dce2",
   "metadata": {},
   "outputs": [],
   "source": [
    "#| exports\n",
    "@patch\n",
    "def _stream(self:Client, msgs:list, prefill='', **kwargs):\n",
    "    with self.c.messages.stream(model=self.model, messages=mk_msgs(msgs, cache=self.cache, cache_last_ckpt_only=self.cache), **kwargs) as s:\n",
    "        if prefill: yield(prefill)\n",
    "        yield from s.text_stream\n",
    "        self._log(s.get_final_message(), prefill, msgs, **kwargs)"
   ]
  },
  {
   "cell_type": "markdown",
   "id": "f2269e53",
   "metadata": {},
   "source": [
    "Claude supports adding an extra `assistant` message at the end, which contains the *prefill* -- i.e. the text we want Claude to assume the response starts with. However Claude doesn't actually repeat that in the response, so for convenience we add it."
   ]
  },
  {
   "cell_type": "code",
   "execution_count": null,
   "id": "835638bb",
   "metadata": {},
   "outputs": [],
   "source": [
    "#| exports\n",
    "@patch\n",
    "def _precall(self:Client, msgs, prefill, stop, kwargs):\n",
    "    pref = [prefill.strip()] if prefill else []\n",
    "    if not isinstance(msgs,list): msgs = [msgs]\n",
    "    if stop is not None:\n",
    "        if not isinstance(stop, (list)): stop = [stop]\n",
    "        kwargs[\"stop_sequences\"] = stop\n",
    "    msgs = mk_msgs(msgs+pref, cache=self.cache, cache_last_ckpt_only=self.cache)\n",
    "    return msgs"
   ]
  },
  {
   "cell_type": "code",
   "execution_count": null,
   "id": "c21c2113",
   "metadata": {},
   "outputs": [],
   "source": [
    "@patch\n",
    "@delegates(messages.Messages.create)\n",
    "def __call__(self:Client,\n",
    "             msgs:list, # List of messages in the dialog\n",
    "             sp='', # The system prompt\n",
    "             temp=0, # Temperature\n",
    "             maxtok=4096, # Maximum tokens\n",
    "             prefill='', # Optional prefill to pass to Claude as start of its response\n",
    "             stream:bool=False, # Stream response?\n",
    "             stop=None, # Stop sequence\n",
    "             **kwargs):\n",
    "    \"Make a call to Claude.\"\n",
    "    msgs = self._precall(msgs, prefill, stop, kwargs)\n",
    "    if stream: return self._stream(msgs, prefill=prefill, max_tokens=maxtok, system=sp, temperature=temp, **kwargs)\n",
    "    res = self.c.messages.create(\n",
    "        model=self.model, messages=msgs, max_tokens=maxtok, system=sp, temperature=temp, **kwargs)\n",
    "    return self._log(res, prefill, msgs, maxtok, sp, temp, stream=stream, **kwargs)"
   ]
  },
  {
   "cell_type": "markdown",
   "id": "3cee10c8",
   "metadata": {},
   "source": [
    "Defining `__call__` let's us use an object like a function (i.e it's *callable*). We use it as a small wrapper over `messages.create`. However we're not exporting this version just yet -- we have some additions we'll make in a moment..."
   ]
  },
  {
   "cell_type": "code",
   "execution_count": null,
   "id": "881b5e78",
   "metadata": {},
   "outputs": [
    {
     "data": {
      "text/plain": [
       "In: 0; Out: 0; Cache create: 0; Cache read: 0; Total Tokens: 0; Server tool use (web search requests): 0"
      ]
     },
     "execution_count": null,
     "metadata": {},
     "output_type": "execute_result"
    }
   ],
   "source": [
    "c = Client(model, log=True)\n",
    "c.use"
   ]
  },
  {
   "cell_type": "code",
   "execution_count": null,
   "id": "338a38e5",
   "metadata": {},
   "outputs": [
    {
     "data": {
      "text/markdown": [
       "Hello! How can I assist you today? Feel free to ask any questions or let me know what you'd like to discuss.\n",
       "\n",
       "<details>\n",
       "\n",
       "- id: `msg_015UyBYhtQVzWatX7FXLhvDg`\n",
       "- content: `[{'citations': None, 'text': \"Hello! How can I assist you today? Feel free to ask any questions or let me know what you'd like to discuss.\", 'type': 'text'}]`\n",
       "- model: `claude-3-7-sonnet-20250219`\n",
       "- role: `assistant`\n",
       "- stop_reason: `end_turn`\n",
       "- stop_sequence: `None`\n",
       "- type: `message`\n",
       "- usage: `{'cache_creation_input_tokens': 0, 'cache_read_input_tokens': 0, 'input_tokens': 8, 'output_tokens': 29, 'server_tool_use': None}`\n",
       "\n",
       "</details>"
      ],
      "text/plain": [
       "Message(id='msg_015UyBYhtQVzWatX7FXLhvDg', content=[TextBlock(citations=None, text=\"Hello! How can I assist you today? Feel free to ask any questions or let me know what you'd like to discuss.\", type='text')], model='claude-3-7-sonnet-20250219', role='assistant', stop_reason='end_turn', stop_sequence=None, type='message', usage=In: 8; Out: 29; Cache create: 0; Cache read: 0; Total Tokens: 37; Server tool use (web search requests): 0)"
      ]
     },
     "execution_count": null,
     "metadata": {},
     "output_type": "execute_result"
    }
   ],
   "source": [
    "c('Hi')"
   ]
  },
  {
   "cell_type": "code",
   "execution_count": null,
   "id": "ae9f7e06",
   "metadata": {},
   "outputs": [
    {
     "data": {
      "text/plain": [
       "In: 8; Out: 29; Cache create: 0; Cache read: 0; Total Tokens: 37; Server tool use (web search requests): 0"
      ]
     },
     "execution_count": null,
     "metadata": {},
     "output_type": "execute_result"
    }
   ],
   "source": [
    "c.use"
   ]
  },
  {
   "cell_type": "markdown",
   "id": "2d269ed8",
   "metadata": {},
   "source": [
    "Let's try out *prefill*:"
   ]
  },
  {
   "cell_type": "code",
   "execution_count": null,
   "id": "7f479429",
   "metadata": {},
   "outputs": [],
   "source": [
    "q = \"Concisely, what is the meaning of life?\"\n",
    "pref = 'According to Douglas Adams,'"
   ]
  },
  {
   "cell_type": "code",
   "execution_count": null,
   "id": "b831ca3d",
   "metadata": {},
   "outputs": [
    {
     "data": {
      "text/markdown": [
       "According to Douglas Adams,  it's 42. More seriously, the meaning of life is deeply personal and varies across philosophical traditions - from finding happiness, serving others, pursuing knowledge, or creating your own purpose in an inherently meaningless universe. There's no universal answer, which is perhaps what makes the question so enduring.\n",
       "\n",
       "<details>\n",
       "\n",
       "- id: `msg_01V158u6gauy1e8TyDPKtpkb`\n",
       "- content: `[{'citations': None, 'text': \"According to Douglas Adams,  it's 42. More seriously, the meaning of life is deeply personal and varies across philosophical traditions - from finding happiness, serving others, pursuing knowledge, or creating your own purpose in an inherently meaningless universe. There's no universal answer, which is perhaps what makes the question so enduring.\", 'type': 'text'}]`\n",
       "- model: `claude-3-7-sonnet-20250219`\n",
       "- role: `assistant`\n",
       "- stop_reason: `end_turn`\n",
       "- stop_sequence: `None`\n",
       "- type: `message`\n",
       "- usage: `{'cache_creation_input_tokens': 0, 'cache_read_input_tokens': 0, 'input_tokens': 24, 'output_tokens': 65, 'server_tool_use': None}`\n",
       "\n",
       "</details>"
      ],
      "text/plain": [
       "Message(id='msg_01V158u6gauy1e8TyDPKtpkb', content=[TextBlock(citations=None, text=\"According to Douglas Adams,  it's 42. More seriously, the meaning of life is deeply personal and varies across philosophical traditions - from finding happiness, serving others, pursuing knowledge, or creating your own purpose in an inherently meaningless universe. There's no universal answer, which is perhaps what makes the question so enduring.\", type='text')], model='claude-3-7-sonnet-20250219', role='assistant', stop_reason='end_turn', stop_sequence=None, type='message', usage=In: 24; Out: 65; Cache create: 0; Cache read: 0; Total Tokens: 89; Server tool use (web search requests): 0)"
      ]
     },
     "execution_count": null,
     "metadata": {},
     "output_type": "execute_result"
    }
   ],
   "source": [
    "c(q, prefill=pref)"
   ]
  },
  {
   "cell_type": "markdown",
   "id": "216b2704",
   "metadata": {},
   "source": [
    "We can pass `stream=True` to stream the response back incrementally:"
   ]
  },
  {
   "cell_type": "code",
   "execution_count": null,
   "id": "e281399f",
   "metadata": {},
   "outputs": [
    {
     "name": "stdout",
     "output_type": "stream",
     "text": [
      "Hello! How can I assist you today? Feel free to ask any questions or let me know what you'd like to discuss."
     ]
    }
   ],
   "source": [
    "for o in c('Hi', stream=True): print(o, end='')"
   ]
  },
  {
   "cell_type": "code",
   "execution_count": null,
   "id": "beb25f2a",
   "metadata": {},
   "outputs": [
    {
     "data": {
      "text/plain": [
       "In: 40; Out: 123; Cache create: 0; Cache read: 0; Total Tokens: 163; Server tool use (web search requests): 0"
      ]
     },
     "execution_count": null,
     "metadata": {},
     "output_type": "execute_result"
    }
   ],
   "source": [
    "c.use"
   ]
  },
  {
   "cell_type": "code",
   "execution_count": null,
   "id": "db1c75ef",
   "metadata": {},
   "outputs": [
    {
     "name": "stdout",
     "output_type": "stream",
     "text": [
      "According to Douglas Adams,  it's 42. More seriously, the meaning of life is deeply personal and varies across philosophical traditions - from finding happiness, serving others, pursuing knowledge, or creating your own purpose in an inherently meaningless universe. There's no universal answer, which is perhaps what makes the question so enduring."
     ]
    }
   ],
   "source": [
    "for o in c(q, prefill=pref, stream=True): print(o, end='')"
   ]
  },
  {
   "cell_type": "code",
   "execution_count": null,
   "id": "e36eddc9",
   "metadata": {},
   "outputs": [
    {
     "data": {
      "text/plain": [
       "In: 64; Out: 188; Cache create: 0; Cache read: 0; Total Tokens: 252; Server tool use (web search requests): 0"
      ]
     },
     "execution_count": null,
     "metadata": {},
     "output_type": "execute_result"
    }
   ],
   "source": [
    "c.use"
   ]
  },
  {
   "cell_type": "markdown",
   "id": "bd556e49",
   "metadata": {},
   "source": [
    "Pass a stop seauence if you want claude to stop generating text when it encounters it.\n"
   ]
  },
  {
   "cell_type": "code",
   "execution_count": null,
   "id": "12b17591",
   "metadata": {},
   "outputs": [
    {
     "data": {
      "text/markdown": [
       "1, 2, 3, 4,\n",
       "\n",
       "<details>\n",
       "\n",
       "- id: `msg_013CBJrJQgR4ardtvmAxo3Xv`\n",
       "- content: `[{'citations': None, 'text': '1, 2, 3, 4, ', 'type': 'text'}]`\n",
       "- model: `claude-3-7-sonnet-20250219`\n",
       "- role: `assistant`\n",
       "- stop_reason: `stop_sequence`\n",
       "- stop_sequence: `5`\n",
       "- type: `message`\n",
       "- usage: `{'cache_creation_input_tokens': 0, 'cache_read_input_tokens': 0, 'input_tokens': 15, 'output_tokens': 14, 'server_tool_use': None}`\n",
       "\n",
       "</details>"
      ],
      "text/plain": [
       "Message(id='msg_013CBJrJQgR4ardtvmAxo3Xv', content=[TextBlock(citations=None, text='1, 2, 3, 4, ', type='text')], model='claude-3-7-sonnet-20250219', role='assistant', stop_reason='stop_sequence', stop_sequence='5', type='message', usage=In: 15; Out: 14; Cache create: 0; Cache read: 0; Total Tokens: 29; Server tool use (web search requests): 0)"
      ]
     },
     "execution_count": null,
     "metadata": {},
     "output_type": "execute_result"
    }
   ],
   "source": [
    "c(\"Count from 1 to 10\", stop=\"5\")"
   ]
  },
  {
   "cell_type": "markdown",
   "id": "cdbd3df3",
   "metadata": {},
   "source": [
    "This also works with streaming, and you can pass more than one stop sequence:"
   ]
  },
  {
   "cell_type": "code",
   "execution_count": null,
   "id": "ff50577d",
   "metadata": {},
   "outputs": [
    {
     "name": "stdout",
     "output_type": "stream",
     "text": [
      "1, stop_sequence 2\n"
     ]
    }
   ],
   "source": [
    "for o in c(\"Count from 1 to 10\", stop=[\"2\", \"yellow\"], stream=True): print(o, end='')\n",
    "print(c.stop_reason, c.stop_sequence)"
   ]
  },
  {
   "cell_type": "markdown",
   "id": "2108776e",
   "metadata": {},
   "source": [
    "You can check the logs:"
   ]
  },
  {
   "cell_type": "code",
   "execution_count": null,
   "id": "17122b92",
   "metadata": {},
   "outputs": [
    {
     "data": {
      "text/plain": [
       "{'msgs': [{'role': 'user', 'content': 'Count from 1 to 10'}],\n",
       " 'prefill': '',\n",
       " 'max_tokens': 4096,\n",
       " 'system': '',\n",
       " 'temperature': 0,\n",
       " 'stop_sequences': ['2', 'yellow'],\n",
       " 'maxtok': None,\n",
       " 'sp': None,\n",
       " 'temp': None,\n",
       " 'stream': None,\n",
       " 'stop': None,\n",
       " 'result': Message(id='msg_01G2v8NthxnGMcVVjtE7VcBQ', content=[TextBlock(citations=None, text='1, ', type='text')], model='claude-3-7-sonnet-20250219', role='assistant', stop_reason='stop_sequence', stop_sequence='2', type='message', usage=In: 15; Out: 5; Cache create: 0; Cache read: 0; Total Tokens: 20; Server tool use (web search requests): 0),\n",
       " 'use': In: 94; Out: 207; Cache create: 0; Cache read: 0; Total Tokens: 301; Server tool use (web search requests): 0,\n",
       " 'stop_reason': 'stop_sequence',\n",
       " 'stop_sequence': '2'}"
      ]
     },
     "execution_count": null,
     "metadata": {},
     "output_type": "execute_result"
    }
   ],
   "source": [
    "c.log[-1]"
   ]
  },
  {
   "cell_type": "markdown",
   "id": "fbdc1914",
   "metadata": {},
   "source": [
    "We've shown the token usage but we really care about is pricing. Let's extract the latest [pricing](https://www.anthropic.com/pricing#anthropic-api) from Anthropic into a `pricing` dict."
   ]
  },
  {
   "cell_type": "code",
   "execution_count": null,
   "id": "9bfce1dc",
   "metadata": {},
   "outputs": [],
   "source": [
    "#| export\n",
    "pricing = {  # model type: $ / million tokens (input, output, cache write, cache read)\n",
    "    'opus': (15, 75, 18.75, 1.5),\n",
    "    'sonnet': (3, 15, 3.75, 0.3),\n",
    "    'haiku-3': (0.25, 1.25, 0.3, 0.03),\n",
    "    'haiku-3-5': (1, 3, 1.25, 0.1),\n",
    "}"
   ]
  },
  {
   "cell_type": "code",
   "execution_count": null,
   "id": "2a1f2e67",
   "metadata": {},
   "outputs": [],
   "source": [
    "#| exports\n",
    "def get_pricing(m, u):\n",
    "    return pricing[m][:3] if u.prompt_token_count < 128_000 else pricing[m][3:]"
   ]
  },
  {
   "cell_type": "markdown",
   "id": "f8995374",
   "metadata": {},
   "source": [
    "Similarly, let's get the pricing for the latest [server tools]():"
   ]
  },
  {
   "cell_type": "code",
   "execution_count": null,
   "id": "cfa8da09",
   "metadata": {},
   "outputs": [],
   "source": [
    "#| export\n",
    "server_tool_pricing = {\n",
    "    'web_search_requests': 10, # $10 per 1,000\n",
    "}"
   ]
  },
  {
   "cell_type": "markdown",
   "id": "a8a49a95",
   "metadata": {},
   "source": [
    "We'll patch `Usage` to enable it compute the cost given pricing."
   ]
  },
  {
   "cell_type": "code",
   "execution_count": null,
   "id": "2edb5da5",
   "metadata": {},
   "outputs": [],
   "source": [
    "#| exports\n",
    "@patch\n",
    "def cost(self:Usage, costs:tuple) -> float:\n",
    "    cache_w, cache_r = _dgetattr(self, \"cache_creation_input_tokens\",0), _dgetattr(self, \"cache_read_input_tokens\",0)\n",
    "    tok_cost = sum([self.input_tokens * costs[0] +  self.output_tokens * costs[1] +  cache_w * costs[2] + cache_r * costs[3]]) / 1e6\n",
    "    server_tool_use = _dgetattr(self, \"server_tool_use\",server_tool_usage())\n",
    "    server_tool_cost = server_tool_use.web_search_requests * server_tool_pricing['web_search_requests'] / 1e3\n",
    "    return tok_cost + server_tool_cost"
   ]
  },
  {
   "cell_type": "code",
   "execution_count": null,
   "id": "936a4adc",
   "metadata": {},
   "outputs": [],
   "source": [
    "#| exports\n",
    "@patch(as_prop=True)\n",
    "def cost(self: Client) -> float: return self.use.cost(pricing[model_types[self.model]])"
   ]
  },
  {
   "cell_type": "code",
   "execution_count": null,
   "id": "91d4dcbe",
   "metadata": {},
   "outputs": [],
   "source": [
    "#| exports\n",
    "def get_costs(c):\n",
    "    costs = pricing[model_types[c.model]]\n",
    "    \n",
    "    inp_cost = c.use.input_tokens * costs[0] / 1e6\n",
    "    out_cost = c.use.output_tokens * costs[1] / 1e6\n",
    "\n",
    "    cache_w = c.use.cache_creation_input_tokens   \n",
    "    cache_r = c.use.cache_read_input_tokens\n",
    "    cache_cost = cache_w * costs[2] + cache_r * costs[3] / 1e6\n",
    "\n",
    "    server_tool_use = c.use.server_tool_use\n",
    "    server_tool_cost = server_tool_use.web_search_requests * server_tool_pricing['web_search_requests'] / 1e3\n",
    "    return inp_cost, out_cost, cache_cost, cache_w + cache_r, server_tool_cost"
   ]
  },
  {
   "cell_type": "code",
   "execution_count": null,
   "id": "15695891",
   "metadata": {},
   "outputs": [],
   "source": [
    "#| exports\n",
    "@patch\n",
    "def _repr_markdown_(self:Client):\n",
    "    if not hasattr(self,'result'): return 'No results yet'\n",
    "    msg = contents(self.result)\n",
    "    inp_cost, out_cost, cache_cost, cached_toks, server_tool_cost = get_costs(self)\n",
    "    return f\"\"\"{msg}\n",
    "\n",
    "| Metric | Count | Cost (USD) |\n",
    "|--------|------:|-----:|\n",
    "| Input tokens | {self.use.input_tokens:,} | {inp_cost:.6f} |\n",
    "| Output tokens | {self.use.output_tokens:,} | {out_cost:.6f} |\n",
    "| Cache tokens | {cached_toks:,} | {cache_cost:.6f} |\n",
    "| Server tool use | {self.use.server_tool_use.web_search_requests:,} | {server_tool_cost:.6f} |\n",
    "| **Total** | **{self.use.total:,}** | **${self.cost:.6f}** |\"\"\""
   ]
  },
  {
   "cell_type": "code",
   "execution_count": null,
   "id": "be86fc43",
   "metadata": {},
   "outputs": [
    {
     "data": {
      "text/markdown": [
       "1,\n",
       "\n",
       "| Metric | Count | Cost (USD) |\n",
       "|--------|------:|-----:|\n",
       "| Input tokens | 94 | 0.000282 |\n",
       "| Output tokens | 207 | 0.003105 |\n",
       "| Cache tokens | 0 | 0.000000 |\n",
       "| Server tool use | 0 | 0.000000 |\n",
       "| **Total** | **301** | **$0.003387** |"
      ],
      "text/plain": [
       "<__main__.Client>"
      ]
     },
     "execution_count": null,
     "metadata": {},
     "output_type": "execute_result"
    }
   ],
   "source": [
    "c"
   ]
  },
  {
   "cell_type": "markdown",
   "id": "1a7cdbc6",
   "metadata": {},
   "source": [
    "## Tool use"
   ]
  },
  {
   "cell_type": "markdown",
   "id": "65700cb3",
   "metadata": {},
   "source": [
    "Let's now add tool use (aka *function calling*)."
   ]
  },
  {
   "cell_type": "code",
   "execution_count": null,
   "id": "01e3e2af",
   "metadata": {},
   "outputs": [],
   "source": [
    "#| export\n",
    "def mk_tool_choice(choose:Union[str,bool,None])->dict:\n",
    "    \"Create a `tool_choice` dict that's 'auto' if `choose` is `None`, 'any' if it is True, or 'tool' otherwise\"\n",
    "    return {\"type\": \"tool\", \"name\": choose} if isinstance(choose,str) else {'type':'any'} if choose else {'type':'auto'}"
   ]
  },
  {
   "cell_type": "code",
   "execution_count": null,
   "id": "753c4cd5",
   "metadata": {},
   "outputs": [
    {
     "name": "stdout",
     "output_type": "stream",
     "text": [
      "{'type': 'tool', 'name': 'sums'}\n",
      "{'type': 'any'}\n",
      "{'type': 'auto'}\n"
     ]
    }
   ],
   "source": [
    "print(mk_tool_choice('sums'))\n",
    "print(mk_tool_choice(True))\n",
    "print(mk_tool_choice(None))"
   ]
  },
  {
   "cell_type": "markdown",
   "id": "0d72ea0d",
   "metadata": {},
   "source": [
    "Claude can be forced to use a particular tool, or select from a specific list of tools, or decide for itself when to use a tool. If you want to force a tool (or force choosing from a list), include a `tool_choice` param with a dict from `mk_tool_choice`.\n",
    "\n",
    "For testing, we need a function that Claude can call; we'll write a simple function that adds numbers together, and will tell us when it's being called:"
   ]
  },
  {
   "cell_type": "code",
   "execution_count": null,
   "id": "046e8cc3",
   "metadata": {},
   "outputs": [],
   "source": [
    "def sums(\n",
    "    a:int,  # First thing to sum\n",
    "    b:int=1 # Second thing to sum\n",
    ") -> int: # The sum of the inputs\n",
    "    \"Adds a + b.\"\n",
    "    print(f\"Finding the sum of {a} and {b}\")\n",
    "    return a + b"
   ]
  },
  {
   "cell_type": "code",
   "execution_count": null,
   "id": "d51f2bdf",
   "metadata": {},
   "outputs": [],
   "source": [
    "a,b = 604542,6458932\n",
    "pr = f\"What is {a}+{b}?\"\n",
    "sp = \"You are a summing expert.\""
   ]
  },
  {
   "cell_type": "markdown",
   "id": "3dc3ffd6",
   "metadata": {},
   "source": [
    "Claudette can autogenerate a schema thanks to the `toolslm` library. We'll force the use of the tool using the function we created earlier."
   ]
  },
  {
   "cell_type": "code",
   "execution_count": null,
   "id": "bff81d52",
   "metadata": {},
   "outputs": [],
   "source": [
    "tools=[get_schema(sums)]\n",
    "choice = mk_tool_choice('sums')"
   ]
  },
  {
   "cell_type": "markdown",
   "id": "91937f47",
   "metadata": {},
   "source": [
    "We'll start a dialog with Claude now. We'll store the messages of our dialog in `msgs`. The first message will be our prompt `pr`, and we'll pass our `tools` schema."
   ]
  },
  {
   "cell_type": "code",
   "execution_count": null,
   "id": "c2ceeb75",
   "metadata": {},
   "outputs": [
    {
     "data": {
      "text/markdown": [
       "ToolUseBlock(id='toolu_01CpF6zzMQztfisMkrQRkci1', input={'a': 604542, 'b': 6458932}, name='sums', type='tool_use')\n",
       "\n",
       "<details>\n",
       "\n",
       "- id: `msg_01C5m7hmZVisaFxCWKkgekKF`\n",
       "- content: `[{'id': 'toolu_01CpF6zzMQztfisMkrQRkci1', 'input': {'a': 604542, 'b': 6458932}, 'name': 'sums', 'type': 'tool_use'}]`\n",
       "- model: `claude-3-7-sonnet-20250219`\n",
       "- role: `assistant`\n",
       "- stop_reason: `tool_use`\n",
       "- stop_sequence: `None`\n",
       "- type: `message`\n",
       "- usage: `{'cache_creation_input_tokens': 0, 'cache_read_input_tokens': 0, 'input_tokens': 442, 'output_tokens': 53, 'server_tool_use': None}`\n",
       "\n",
       "</details>"
      ],
      "text/plain": [
       "Message(id='msg_01C5m7hmZVisaFxCWKkgekKF', content=[ToolUseBlock(id='toolu_01CpF6zzMQztfisMkrQRkci1', input={'a': 604542, 'b': 6458932}, name='sums', type='tool_use')], model='claude-3-7-sonnet-20250219', role='assistant', stop_reason='tool_use', stop_sequence=None, type='message', usage=In: 442; Out: 53; Cache create: 0; Cache read: 0; Total Tokens: 495; Server tool use (web search requests): 0)"
      ]
     },
     "execution_count": null,
     "metadata": {},
     "output_type": "execute_result"
    }
   ],
   "source": [
    "msgs = mk_msgs(pr)\n",
    "r = c(msgs, sp=sp, tools=tools, tool_choice=choice)\n",
    "r"
   ]
  },
  {
   "cell_type": "markdown",
   "id": "60a2fce0",
   "metadata": {},
   "source": [
    "When Claude decides that it should use a tool, it passes back a `ToolUseBlock` with the name of the tool to call, and the params to use.\n",
    "\n",
    "We don't want to allow it to call just any possible function (that would be a security disaster!) so we create a *namespace* -- that is, a dictionary of allowable function names to call."
   ]
  },
  {
   "cell_type": "code",
   "execution_count": null,
   "id": "4fb9826f",
   "metadata": {},
   "outputs": [
    {
     "data": {
      "text/plain": [
       "{'sums': <function __main__.sums(a: int, b: int = 1) -> int>}"
      ]
     },
     "execution_count": null,
     "metadata": {},
     "output_type": "execute_result"
    }
   ],
   "source": [
    "ns = mk_ns(sums)\n",
    "ns"
   ]
  },
  {
   "cell_type": "code",
   "execution_count": null,
   "id": "5a7728ff",
   "metadata": {},
   "outputs": [],
   "source": [
    "#| exports\n",
    "def mk_funcres(fc, ns):\n",
    "    \"Given tool use block `fc`, get tool result, and create a tool_result response.\"\n",
    "    res = call_func(fc.name, fc.input, ns=ns)\n",
    "    return dict(type=\"tool_result\", tool_use_id=fc.id, content=str(res))"
   ]
  },
  {
   "cell_type": "markdown",
   "id": "3d1f23eb",
   "metadata": {},
   "source": [
    "We can now use the function requested by Claude. We look it up in `ns`, and pass in the provided parameters."
   ]
  },
  {
   "cell_type": "code",
   "execution_count": null,
   "id": "c2e829c2",
   "metadata": {},
   "outputs": [
    {
     "data": {
      "text/plain": [
       "[ToolUseBlock(id='toolu_01CpF6zzMQztfisMkrQRkci1', input={'a': 604542, 'b': 6458932}, name='sums', type='tool_use')]"
      ]
     },
     "execution_count": null,
     "metadata": {},
     "output_type": "execute_result"
    }
   ],
   "source": [
    "fcs = [o for o in r.content if isinstance(o,ToolUseBlock)]\n",
    "fcs"
   ]
  },
  {
   "cell_type": "code",
   "execution_count": null,
   "id": "893f81ca",
   "metadata": {},
   "outputs": [
    {
     "name": "stdout",
     "output_type": "stream",
     "text": [
      "Finding the sum of 604542 and 6458932\n"
     ]
    },
    {
     "data": {
      "text/plain": [
       "[{'type': 'tool_result',\n",
       "  'tool_use_id': 'toolu_01CpF6zzMQztfisMkrQRkci1',\n",
       "  'content': '7063474'}]"
      ]
     },
     "execution_count": null,
     "metadata": {},
     "output_type": "execute_result"
    }
   ],
   "source": [
    "res = [mk_funcres(fc, ns=ns) for fc in fcs]\n",
    "res"
   ]
  },
  {
   "cell_type": "code",
   "execution_count": null,
   "id": "2cd7a393",
   "metadata": {},
   "outputs": [],
   "source": [
    "def contents(r):\n",
    "    \"Helper to get the contents from Claude response `r`.\"\n",
    "    blk = find_block(r)\n",
    "    if not blk and r.content: blk = r.content[0]\n",
    "    if hasattr(blk,'text'): return blk.text.strip()\n",
    "    elif hasattr(blk,'content'): return blk.content.strip()\n",
    "    return str(blk)"
   ]
  },
  {
   "cell_type": "code",
   "execution_count": null,
   "id": "d475922d",
   "metadata": {},
   "outputs": [],
   "source": [
    "#| exports\n",
    "def mk_toolres(\n",
    "    r:abc.Mapping, # Tool use request response from Claude\n",
    "    ns:Optional[abc.Mapping]=None, # Namespace to search for tools\n",
    "    obj:Optional=None # Class to search for tools\n",
    "    ):\n",
    "    \"Create a `tool_result` message from response `r`.\"\n",
    "    cts = getattr(r, 'content', [])\n",
    "    res = [mk_msg(r.model_dump(), role='assistant')]\n",
    "    if ns is None: ns=globals()\n",
    "    if obj is not None: ns = mk_ns(obj)\n",
    "    tcs = [mk_funcres(o, ns) for o in cts if isinstance(o,ToolUseBlock)]\n",
    "    if tcs: res.append(mk_msg(tcs))\n",
    "    return res"
   ]
  },
  {
   "cell_type": "markdown",
   "id": "5a57d1ca",
   "metadata": {},
   "source": [
    "In order to tell Claude the result of the tool call, we pass back the tool use assistant request and the `tool_result` response."
   ]
  },
  {
   "cell_type": "code",
   "execution_count": null,
   "id": "f13de1fc",
   "metadata": {},
   "outputs": [
    {
     "name": "stdout",
     "output_type": "stream",
     "text": [
      "Finding the sum of 604542 and 6458932\n"
     ]
    },
    {
     "data": {
      "text/plain": [
       "[{'role': 'assistant',\n",
       "  'content': [{'id': 'toolu_01CpF6zzMQztfisMkrQRkci1',\n",
       "    'input': {'a': 604542, 'b': 6458932},\n",
       "    'name': 'sums',\n",
       "    'type': 'tool_use'}]},\n",
       " {'role': 'user',\n",
       "  'content': [{'type': 'tool_result',\n",
       "    'tool_use_id': 'toolu_01CpF6zzMQztfisMkrQRkci1',\n",
       "    'content': '7063474'}]}]"
      ]
     },
     "execution_count": null,
     "metadata": {},
     "output_type": "execute_result"
    }
   ],
   "source": [
    "tr = mk_toolres(r, ns=ns)\n",
    "tr"
   ]
  },
  {
   "cell_type": "code",
   "execution_count": null,
   "id": "f0fc80e6",
   "metadata": {},
   "outputs": [
    {
     "data": {
      "text/plain": [
       "[{'role': 'user', 'content': 'What is 604542+6458932?'}]"
      ]
     },
     "execution_count": null,
     "metadata": {},
     "output_type": "execute_result"
    }
   ],
   "source": [
    "msgs"
   ]
  },
  {
   "cell_type": "markdown",
   "id": "faf4fe37",
   "metadata": {},
   "source": [
    "We add this to our dialog, and now Claude has all the information it needs to answer our question."
   ]
  },
  {
   "cell_type": "code",
   "execution_count": null,
   "id": "eed99502",
   "metadata": {},
   "outputs": [
    {
     "data": {
      "text/plain": [
       "'The sum of 604542 and 6458932 is 7,063,474.'"
      ]
     },
     "execution_count": null,
     "metadata": {},
     "output_type": "execute_result"
    }
   ],
   "source": [
    "msgs += tr\n",
    "contents(c(msgs, sp=sp, tools=tools))"
   ]
  },
  {
   "cell_type": "code",
   "execution_count": null,
   "id": "8fc252dc",
   "metadata": {},
   "outputs": [
    {
     "data": {
      "text/plain": [
       "'7063474'"
      ]
     },
     "execution_count": null,
     "metadata": {},
     "output_type": "execute_result"
    }
   ],
   "source": [
    "contents(msgs[-1])"
   ]
  },
  {
   "cell_type": "code",
   "execution_count": null,
   "id": "ae64dce3",
   "metadata": {},
   "outputs": [
    {
     "data": {
      "text/plain": [
       "[{'role': 'user', 'content': 'What is 604542+6458932?'},\n",
       " {'role': 'assistant',\n",
       "  'content': [{'id': 'toolu_01CpF6zzMQztfisMkrQRkci1',\n",
       "    'input': {'a': 604542, 'b': 6458932},\n",
       "    'name': 'sums',\n",
       "    'type': 'tool_use'}]},\n",
       " {'role': 'user',\n",
       "  'content': [{'type': 'tool_result',\n",
       "    'tool_use_id': 'toolu_01CpF6zzMQztfisMkrQRkci1',\n",
       "    'content': '7063474'}]}]"
      ]
     },
     "execution_count": null,
     "metadata": {},
     "output_type": "execute_result"
    }
   ],
   "source": [
    "msgs"
   ]
  },
  {
   "cell_type": "markdown",
   "id": "f2a3dc3c",
   "metadata": {},
   "source": [
    "This works with methods as well -- in this case, use the object itself for `ns`:"
   ]
  },
  {
   "cell_type": "code",
   "execution_count": null,
   "id": "800a53a9",
   "metadata": {},
   "outputs": [],
   "source": [
    "class Dummy:\n",
    "    def sums(\n",
    "        self,\n",
    "        a:int,  # First thing to sum\n",
    "        b:int=1 # Second thing to sum\n",
    "    ) -> int: # The sum of the inputs\n",
    "        \"Adds a + b.\"\n",
    "        print(f\"Finding the sum of {a} and {b}\")\n",
    "        return a + b"
   ]
  },
  {
   "cell_type": "code",
   "execution_count": null,
   "id": "b21e6290",
   "metadata": {},
   "outputs": [
    {
     "name": "stdout",
     "output_type": "stream",
     "text": [
      "Finding the sum of 604542 and 6458932\n"
     ]
    },
    {
     "data": {
      "text/plain": [
       "'The sum of 604542 and 6458932 is 7063474.'"
      ]
     },
     "execution_count": null,
     "metadata": {},
     "output_type": "execute_result"
    }
   ],
   "source": [
    "tools = [get_schema(Dummy.sums)]\n",
    "o = Dummy()\n",
    "r = c(pr, sp=sp, tools=tools, tool_choice=choice)\n",
    "tr = mk_toolres(r, obj=o)\n",
    "msgs += tr\n",
    "contents(c(msgs, sp=sp, tools=tools))"
   ]
  },
  {
   "cell_type": "markdown",
   "id": "4e33c2b2",
   "metadata": {},
   "source": [
    "Anthropic, also has a special tool type specific to text editing."
   ]
  },
  {
   "cell_type": "code",
   "execution_count": null,
   "id": "6dcc3a92",
   "metadata": {},
   "outputs": [
    {
     "data": {
      "text/plain": [
       "[{'type': 'text_editor_20250124', 'name': 'str_replace_editor'}]"
      ]
     },
     "execution_count": null,
     "metadata": {},
     "output_type": "execute_result"
    }
   ],
   "source": [
    "tools = [text_editor_conf['sonnet']]\n",
    "tools"
   ]
  },
  {
   "cell_type": "code",
   "execution_count": null,
   "id": "c9a25fc5",
   "metadata": {},
   "outputs": [
    {
     "data": {
      "text/plain": [
       "ToolUseBlock(id='toolu_01ArY8DQsYsyNF3tRNnXWWWJ', input={'command': 'view', 'path': '_quarto.yml'}, name='str_replace_editor', type='tool_use')"
      ]
     },
     "execution_count": null,
     "metadata": {},
     "output_type": "execute_result"
    }
   ],
   "source": [
    "pr = 'Could you please explain my _quarto.yml file?'\n",
    "msgs = [mk_msg(pr)]\n",
    "r = c(msgs, sp=sp, tools=tools)\n",
    "find_block(r, ToolUseBlock)"
   ]
  },
  {
   "cell_type": "markdown",
   "id": "145b096d",
   "metadata": {},
   "source": [
    "We've gone ahead and create a reference implementation that you can directly use from our `text_editor` module. Or use as reference for creating your own. "
   ]
  },
  {
   "cell_type": "code",
   "execution_count": null,
   "id": "a056df6c",
   "metadata": {},
   "outputs": [
    {
     "name": "stdout",
     "output_type": "stream",
     "text": [
      "## Explanation of Your _quarto.yml File\n",
      "\n",
      "Your _quarto.yml file is a configuration file for Quarto, which is a scientific and tec\n"
     ]
    }
   ],
   "source": [
    "ns = mk_ns(str_replace_editor)\n",
    "tr = mk_toolres(r, ns=ns)\n",
    "msgs += tr\n",
    "print(contents(c(msgs, sp=sp, tools=tools))[:128])"
   ]
  },
  {
   "cell_type": "markdown",
   "id": "d618fc89",
   "metadata": {},
   "source": [
    "## Callable Client"
   ]
  },
  {
   "cell_type": "code",
   "execution_count": null,
   "id": "cb514c3f",
   "metadata": {},
   "outputs": [],
   "source": [
    "#| export\n",
    "def get_types(msgs):\n",
    "    types = []\n",
    "    for m in msgs:\n",
    "        content = m.get('content', [])\n",
    "        if isinstance(content, list): types.extend(getattr(c, 'type', None) or c['type'] for c in content)\n",
    "        else: types.append('text')\n",
    "    return types"
   ]
  },
  {
   "cell_type": "code",
   "execution_count": null,
   "id": "6260d227",
   "metadata": {},
   "outputs": [
    {
     "data": {
      "text/plain": [
       "['text', 'text', 'tool_use', 'tool_result']"
      ]
     },
     "execution_count": null,
     "metadata": {},
     "output_type": "execute_result"
    }
   ],
   "source": [
    "get_types(msgs)"
   ]
  },
  {
   "cell_type": "code",
   "execution_count": null,
   "id": "cbeb89c2",
   "metadata": {},
   "outputs": [],
   "source": [
    "#| exports\n",
    "@patch\n",
    "@delegates(messages.Messages.create)\n",
    "def __call__(self:Client,\n",
    "             msgs:list, # List of messages in the dialog\n",
    "             sp='', # The system prompt\n",
    "             temp=0, # Temperature\n",
    "             maxtok=4096, # Maximum tokens\n",
    "             maxthinktok=0, # Maximum thinking tokens\n",
    "             prefill='', # Optional prefill to pass to Claude as start of its response\n",
    "             stream:bool=False, # Stream response?\n",
    "             stop=None, # Stop sequence\n",
    "             tools:Optional[list]=None, # List of tools to make available to Claude\n",
    "             tool_choice:Optional[dict]=None, # Optionally force use of some tool\n",
    "             **kwargs):\n",
    "    \"Make a call to Claude.\"\n",
    "    if tools: kwargs['tools'] = [get_schema(o) if callable(o) else o for o in listify(tools)]\n",
    "    if tool_choice: kwargs['tool_choice'] = mk_tool_choice(tool_choice)\n",
    "    if maxthinktok: \n",
    "        kwargs['thinking']={'type':'enabled', 'budget_tokens':maxthinktok} \n",
    "        temp=1; prefill=''\n",
    "    msgs = self._precall(msgs, prefill, stop, kwargs)\n",
    "    if any(t == 'image' for t in get_types(msgs)): assert not self.text_only, f\"Images are not supported by the current model type: {self.model}\"\n",
    "    if stream: return self._stream(msgs, prefill=prefill, max_tokens=maxtok, system=sp, temperature=temp, **kwargs)\n",
    "    res = self.c.messages.create(model=self.model, messages=msgs, max_tokens=maxtok, system=sp, temperature=temp, **kwargs)\n",
    "    return self._log(res, prefill, msgs, maxtok, sp, temp, stream=stream, stop=stop, **kwargs)"
   ]
  },
  {
   "cell_type": "code",
   "execution_count": null,
   "id": "6dd255e0",
   "metadata": {},
   "outputs": [
    {
     "name": "stdout",
     "output_type": "stream",
     "text": [
      "Message(id='msg_01Cn7G1vgw8YV5eyKXSQFaLQ', content=[ToolUseBlock(id='toolu_01Jy9HjLxc9ND581HqcjzqKd', input={'a': 0}, name='sums', type='tool_use')], model='claude-3-7-sonnet-20250219', role='assistant', stop_reason='tool_use', stop_sequence=None, type='message', usage=In: 444; Out: 33; Cache create: 0; Cache read: 0; Total Tokens: 477; Server tool use (web search requests): 0)\n",
      "Message(id='msg_01JNUGteXRfLQakhSXAV1ehu', content=[ToolUseBlock(id='toolu_01DFHbFskemZbrqew1spHFA4', input={'a': 0}, name='sums', type='tool_use')], model='claude-3-7-sonnet-20250219', role='assistant', stop_reason='tool_use', stop_sequence=None, type='message', usage=In: 444; Out: 33; Cache create: 0; Cache read: 0; Total Tokens: 477; Server tool use (web search requests): 0)\n"
     ]
    }
   ],
   "source": [
    "for tools in [sums, [get_schema(sums)]]:\n",
    "    r = c(pr, sp=sp, tools=sums, tool_choice='sums')\n",
    "    print(r)"
   ]
  },
  {
   "cell_type": "code",
   "execution_count": null,
   "id": "f0bb426f",
   "metadata": {},
   "outputs": [
    {
     "name": "stdout",
     "output_type": "stream",
     "text": [
      "Finding the sum of 0 and 1\n"
     ]
    }
   ],
   "source": [
    "ns = mk_ns(sums)\n",
    "tr = mk_toolres(r, ns=ns)"
   ]
  },
  {
   "cell_type": "code",
   "execution_count": null,
   "id": "b3564424",
   "metadata": {},
   "outputs": [],
   "source": [
    "#| exports\n",
    "@patch\n",
    "@delegates(Client.__call__)\n",
    "def structured(self:Client,\n",
    "               msgs:list, # List of messages in the dialog\n",
    "               tools:Optional[list]=None, # List of tools to make available to Claude\n",
    "               obj:Optional=None, # Class to search for tools\n",
    "               ns:Optional[abc.Mapping]=None, # Namespace to search for tools\n",
    "               **kwargs):\n",
    "    \"Return the value of all tool calls (generally used for structured outputs)\"\n",
    "    tools = listify(tools)\n",
    "    res = self(msgs, tools=tools, tool_choice=tools, **kwargs)\n",
    "    if ns is None: ns=mk_ns(*tools)\n",
    "    if obj is not None: ns = mk_ns(obj)\n",
    "    cts = getattr(res, 'content', [])\n",
    "    tcs = [call_func(o.name, o.input, ns=ns) for o in cts if isinstance(o,ToolUseBlock)]\n",
    "    return tcs"
   ]
  },
  {
   "cell_type": "markdown",
   "id": "e2b70864",
   "metadata": {},
   "source": [
    "Anthropic's API does not support response formats directly, so instead we provide a `structured` method to use tool calling to achieve the same result. The result of the tool is not passed back to Claude in this case, but instead is returned directly to the user. "
   ]
  },
  {
   "cell_type": "code",
   "execution_count": null,
   "id": "44d2cc82",
   "metadata": {},
   "outputs": [
    {
     "name": "stdout",
     "output_type": "stream",
     "text": [
      "Finding the sum of 1 and 1\n"
     ]
    },
    {
     "data": {
      "text/plain": [
       "[2]"
      ]
     },
     "execution_count": null,
     "metadata": {},
     "output_type": "execute_result"
    }
   ],
   "source": [
    "c.structured(pr, tools=[sums])"
   ]
  },
  {
   "cell_type": "code",
   "execution_count": null,
   "id": "78883bec",
   "metadata": {},
   "outputs": [
    {
     "data": {
      "text/markdown": [
       "ToolUseBlock(id='toolu_01FGiPmwqfSxvSFmEa8FJDAK', input={'a': 1}, name='sums', type='tool_use')\n",
       "\n",
       "| Metric | Count | Cost (USD) |\n",
       "|--------|------:|-----:|\n",
       "| Input tokens | 5,860 | 0.017580 |\n",
       "| Output tokens | 1,442 | 0.021630 |\n",
       "| Cache tokens | 0 | 0.000000 |\n",
       "| Server tool use | 0 | 0.000000 |\n",
       "| **Total** | **7,302** | **$0.039210** |"
      ],
      "text/plain": [
       "<__main__.Client>"
      ]
     },
     "execution_count": null,
     "metadata": {},
     "output_type": "execute_result"
    }
   ],
   "source": [
    "c"
   ]
  },
  {
   "cell_type": "markdown",
   "id": "df5211d9",
   "metadata": {},
   "source": [
    "## Custom Types with Tools Use"
   ]
  },
  {
   "cell_type": "markdown",
   "id": "06fe1763",
   "metadata": {},
   "source": [
    "We need to add tool support for custom types too. Let's test out custom types using a minimal example."
   ]
  },
  {
   "cell_type": "code",
   "execution_count": null,
   "id": "13d08aba",
   "metadata": {},
   "outputs": [],
   "source": [
    "class Book(BasicRepr):\n",
    "    def __init__(self, title: str, pages: int): store_attr()\n",
    "    def __repr__(self):\n",
    "        return f\"Book Title : {self.title}\\nNumber of Pages : {self.pages}\""
   ]
  },
  {
   "cell_type": "code",
   "execution_count": null,
   "id": "effd7f47",
   "metadata": {},
   "outputs": [
    {
     "data": {
      "text/plain": [
       "Book Title : War and Peace\n",
       "Number of Pages : 950"
      ]
     },
     "execution_count": null,
     "metadata": {},
     "output_type": "execute_result"
    }
   ],
   "source": [
    "Book(\"War and Peace\", 950)"
   ]
  },
  {
   "cell_type": "code",
   "execution_count": null,
   "id": "465abf5b",
   "metadata": {},
   "outputs": [],
   "source": [
    "def find_page(book: Book, # The book to find the halfway point of\n",
    "              percent: int, # Percent of a book to read to, e.g. halfway == 50, \n",
    ") -> int:\n",
    "    \"The page number corresponding to `percent` completion of a book\"\n",
    "    return round(book.pages * (percent / 100.0))"
   ]
  },
  {
   "cell_type": "code",
   "execution_count": null,
   "id": "011f74a8",
   "metadata": {},
   "outputs": [
    {
     "data": {
      "text/plain": [
       "{'name': 'find_page',\n",
       " 'description': 'The page number corresponding to `percent` completion of a book\\n\\nReturns:\\n- type: integer',\n",
       " 'input_schema': {'type': 'object',\n",
       "  'properties': {'book': {'type': 'object',\n",
       "    'description': 'The book to find the halfway point of',\n",
       "    '$ref': '#/$defs/Book'},\n",
       "   'percent': {'type': 'integer',\n",
       "    'description': 'Percent of a book to read to, e.g. halfway == 50,'}},\n",
       "  'title': None,\n",
       "  'required': ['book', 'percent'],\n",
       "  '$defs': {'Book': {'type': 'object',\n",
       "    'properties': {'title': {'type': 'string', 'description': ''},\n",
       "     'pages': {'type': 'integer', 'description': ''}},\n",
       "    'title': 'Book',\n",
       "    'required': ['title', 'pages']}}}}"
      ]
     },
     "execution_count": null,
     "metadata": {},
     "output_type": "execute_result"
    }
   ],
   "source": [
    "get_schema(find_page)"
   ]
  },
  {
   "cell_type": "code",
   "execution_count": null,
   "id": "c39dac76",
   "metadata": {},
   "outputs": [
    {
     "data": {
      "text/plain": [
       "{'type': 'tool', 'name': 'find_page'}"
      ]
     },
     "execution_count": null,
     "metadata": {},
     "output_type": "execute_result"
    }
   ],
   "source": [
    "choice = mk_tool_choice('find_page')\n",
    "choice"
   ]
  },
  {
   "cell_type": "markdown",
   "id": "c0795da1",
   "metadata": {},
   "source": [
    "Claudette will pack objects as dict, so we'll transform tool functions with user-defined types into tool functions that accept a dict in lieu of the user-defined type.\n",
    "\n",
    "First let's convert a single argument:"
   ]
  },
  {
   "cell_type": "code",
   "execution_count": null,
   "id": "a8f64918",
   "metadata": {},
   "outputs": [],
   "source": [
    "#| export\n",
    "def _is_builtin(tp: type):\n",
    "    \"Returns True for built in primitive types or containers\"\n",
    "    return (tp in (str, int, float, bool, complex) or tp is None\n",
    "        or getattr(tp, '__origin__', None) is not None)  # Pass through all container types\n",
    "\n",
    "def _convert(val: Dict, # dictionary argument being passed in\n",
    "            tp: type): # type of the tool function input\n",
    "    \"Convert converts a single argument\"\n",
    "    if val is None or _is_builtin(tp) or not isinstance(val, dict): return val\n",
    "    return tp(**val)"
   ]
  },
  {
   "cell_type": "markdown",
   "id": "fbb1fd24",
   "metadata": {},
   "source": [
    "`_is_builtin` decides whether to pass an argument through as-is. Let's check the argument conversion:"
   ]
  },
  {
   "cell_type": "code",
   "execution_count": null,
   "id": "e6182cae",
   "metadata": {},
   "outputs": [
    {
     "data": {
      "text/plain": [
       "(True, False, True)"
      ]
     },
     "execution_count": null,
     "metadata": {},
     "output_type": "execute_result"
    }
   ],
   "source": [
    "(_is_builtin(int), _is_builtin(Book), _is_builtin(List))"
   ]
  },
  {
   "cell_type": "code",
   "execution_count": null,
   "id": "30bcf8cd",
   "metadata": {},
   "outputs": [
    {
     "data": {
      "text/plain": [
       "(555,\n",
       " Book Title : War and Peace\n",
       " Number of Pages : 923,\n",
       " [1, 2, 3, 4])"
      ]
     },
     "execution_count": null,
     "metadata": {},
     "output_type": "execute_result"
    }
   ],
   "source": [
    "(_convert(555, int),\n",
    " _convert({\"title\": \"War and Peace\", \"pages\": 923}, Book),\n",
    " _convert([1, 2, 3, 4], List))"
   ]
  },
  {
   "cell_type": "markdown",
   "id": "21d4ed6a",
   "metadata": {},
   "source": [
    "To apply `tool()` to a function is to return a new function where the user-defined types are replaced with dictionary inputs."
   ]
  },
  {
   "cell_type": "code",
   "execution_count": null,
   "id": "ad70d01a",
   "metadata": {},
   "outputs": [],
   "source": [
    "#| export\n",
    "def tool(func):\n",
    "    if isinstance(func, dict): return func # it's a schema, so don't change\n",
    "    hints = get_type_hints(func)\n",
    "    @wraps(func)\n",
    "    def wrapper(*args, **kwargs):\n",
    "        new_args = [_convert(arg, hints[p]) for p,arg in zip(inspect.signature(func).parameters, args)]\n",
    "        new_kwargs = {k: _convert(v, hints[k]) if k in hints else v for k,v in kwargs.items()}\n",
    "        return func(*new_args, **new_kwargs)\n",
    "    return wrapper"
   ]
  },
  {
   "cell_type": "markdown",
   "id": "a80c69d7",
   "metadata": {},
   "source": [
    "A function is transformed into a function with dict arguments substituted for user-defined types. Built-in types such as `percent` here are left untouched."
   ]
  },
  {
   "cell_type": "code",
   "execution_count": null,
   "id": "dbe72ab6",
   "metadata": {},
   "outputs": [
    {
     "data": {
      "text/plain": [
       "475"
      ]
     },
     "execution_count": null,
     "metadata": {},
     "output_type": "execute_result"
    }
   ],
   "source": [
    "find_page(book=Book(\"War and Peace\", 950), percent=50)"
   ]
  },
  {
   "cell_type": "code",
   "execution_count": null,
   "id": "261f3253",
   "metadata": {},
   "outputs": [
    {
     "data": {
      "text/plain": [
       "475"
      ]
     },
     "execution_count": null,
     "metadata": {},
     "output_type": "execute_result"
    }
   ],
   "source": [
    "tool(find_page)({\"title\": \"War and Peace\", \"pages\": 950}, percent=50)"
   ]
  },
  {
   "cell_type": "markdown",
   "id": "6428afcb",
   "metadata": {},
   "source": [
    "By passing tools wrapped by `tool()`, user-defined types now work completes without failing in tool calls."
   ]
  },
  {
   "cell_type": "code",
   "execution_count": null,
   "id": "48cdcfc2",
   "metadata": {},
   "outputs": [
    {
     "data": {
      "text/plain": [
       "<function __main__.find_page(book: __main__.Book, percent: int) -> int>"
      ]
     },
     "execution_count": null,
     "metadata": {},
     "output_type": "execute_result"
    }
   ],
   "source": [
    "pr = \"How many pages do I have to read to get halfway through my 950 page copy of War and Peace\"\n",
    "tools = tool(find_page)\n",
    "tools"
   ]
  },
  {
   "cell_type": "code",
   "execution_count": null,
   "id": "848a319e",
   "metadata": {},
   "outputs": [
    {
     "data": {
      "text/plain": [
       "ToolUseBlock(id='toolu_012HsKTgeqwpJSBwoPxJaTiZ', input={'book': {'title': 'War and Peace', 'pages': 950}, 'percent': 50}, name='find_page', type='tool_use')"
      ]
     },
     "execution_count": null,
     "metadata": {},
     "output_type": "execute_result"
    }
   ],
   "source": [
    "r = c(pr, tools=[tools])\n",
    "find_block(r, ToolUseBlock)"
   ]
  },
  {
   "cell_type": "code",
   "execution_count": null,
   "id": "209fbdf0",
   "metadata": {},
   "outputs": [
    {
     "data": {
      "text/plain": [
       "[{'role': 'assistant',\n",
       "  'content': [{'citations': None,\n",
       "    'text': 'I can help you find the halfway point of your book. Let me calculate how many pages you need to read to get halfway through your 950-page copy of War and Peace.',\n",
       "    'type': 'text'},\n",
       "   {'id': 'toolu_012HsKTgeqwpJSBwoPxJaTiZ',\n",
       "    'input': {'book': {'title': 'War and Peace', 'pages': 950}, 'percent': 50},\n",
       "    'name': 'find_page',\n",
       "    'type': 'tool_use'}]},\n",
       " {'role': 'user',\n",
       "  'content': [{'type': 'tool_result',\n",
       "    'tool_use_id': 'toolu_012HsKTgeqwpJSBwoPxJaTiZ',\n",
       "    'content': '475'}]}]"
      ]
     },
     "execution_count": null,
     "metadata": {},
     "output_type": "execute_result"
    }
   ],
   "source": [
    "tr = mk_toolres(r, ns=[tools])\n",
    "tr"
   ]
  },
  {
   "cell_type": "code",
   "execution_count": null,
   "id": "8abdec8a",
   "metadata": {},
   "outputs": [
    {
     "data": {
      "text/plain": [
       "'You need to read 475 pages to reach the halfway point of your 950-page copy of War and Peace.'"
      ]
     },
     "execution_count": null,
     "metadata": {},
     "output_type": "execute_result"
    }
   ],
   "source": [
    "msgs = [pr]+tr\n",
    "contents(c(msgs, sp=sp, tools=[tools]))"
   ]
  },
  {
   "cell_type": "markdown",
   "id": "4ea144b8",
   "metadata": {},
   "source": [
    "## Chat"
   ]
  },
  {
   "cell_type": "markdown",
   "id": "419fab81",
   "metadata": {},
   "source": [
    "Rather than manually adding the responses to a dialog, we'll create a simple `Chat` class to do that for us, each time we make a request. We'll also store the system prompt and tools here, to avoid passing them every time."
   ]
  },
  {
   "cell_type": "code",
   "execution_count": null,
   "id": "755dd2a1",
   "metadata": {},
   "outputs": [],
   "source": [
    "#| export\n",
    "class Chat:\n",
    "    def __init__(self,\n",
    "                 model:Optional[str]=None, # Model to use (leave empty if passing `cli`)\n",
    "                 cli:Optional[Client]=None, # Client to use (leave empty if passing `model`)\n",
    "                 sp='', # Optional system prompt\n",
    "                 tools:Optional[list]=None, # List of tools to make available to Claude\n",
    "                 temp=0, # Temperature\n",
    "                 cont_pr:Optional[str]=None, # User prompt to continue an assistant response\n",
    "                 cache: bool = False,  # Use Claude cache?\n",
    "                 hist: list = None,  # Initialize history\n",
    "                 ns:Optional[abc.Mapping]=None # Namespace to search for tools\n",
    "                ):\n",
    "        \"Anthropic chat client.\"\n",
    "        assert model or cli\n",
    "        assert cont_pr != \"\", \"cont_pr may not be an empty string\"\n",
    "        self.c = (cli or Client(model, cache=cache))\n",
    "        if hist is None: hist=[]\n",
    "        if tools: tools = [tool(t) for t in tools]\n",
    "        if ns is None: ns=tools\n",
    "        self.h,self.sp,self.tools,self.cont_pr,self.temp,self.cache,self.ns = hist,sp,tools,cont_pr,temp,cache,ns\n",
    "\n",
    "    @property\n",
    "    def use(self): return self.c.use"
   ]
  },
  {
   "cell_type": "markdown",
   "id": "c3f16d4e",
   "metadata": {},
   "source": [
    "The class stores the `Client` that will provide the responses in `c`, and a history of messages in `h`."
   ]
  },
  {
   "cell_type": "code",
   "execution_count": null,
   "id": "04b837c5",
   "metadata": {},
   "outputs": [
    {
     "data": {
      "text/plain": [
       "(In: 0; Out: 0; Cache create: 0; Cache read: 0; Total Tokens: 0; Server tool use (web search requests): 0,\n",
       " [])"
      ]
     },
     "execution_count": null,
     "metadata": {},
     "output_type": "execute_result"
    }
   ],
   "source": [
    "sp = \"Never mention what tools you use.\"\n",
    "chat = Chat(model, sp=sp)\n",
    "chat.c.use, chat.h"
   ]
  },
  {
   "cell_type": "code",
   "execution_count": null,
   "id": "10360d53",
   "metadata": {},
   "outputs": [
    {
     "data": {
      "text/plain": [
       "0.0"
      ]
     },
     "execution_count": null,
     "metadata": {},
     "output_type": "execute_result"
    }
   ],
   "source": [
    "chat.c.use.cost(pricing[model_types[chat.c.model]])"
   ]
  },
  {
   "cell_type": "markdown",
   "id": "8b36fcec",
   "metadata": {},
   "source": [
    "This is clunky. Let's add `cost` as a property for the `Chat` class. It will pass in the appropriate prices for the current model to the usage cost calculator."
   ]
  },
  {
   "cell_type": "code",
   "execution_count": null,
   "id": "aae25dd2",
   "metadata": {},
   "outputs": [],
   "source": [
    "#| exports\n",
    "@patch(as_prop=True)\n",
    "def cost(self: Chat) -> float: return self.c.cost"
   ]
  },
  {
   "cell_type": "code",
   "execution_count": null,
   "id": "793d2f2d",
   "metadata": {},
   "outputs": [
    {
     "data": {
      "text/plain": [
       "0.0"
      ]
     },
     "execution_count": null,
     "metadata": {},
     "output_type": "execute_result"
    }
   ],
   "source": [
    "chat.cost"
   ]
  },
  {
   "cell_type": "code",
   "execution_count": null,
   "id": "42a05df9",
   "metadata": {},
   "outputs": [],
   "source": [
    "#| exports\n",
    "@patch\n",
    "def _stream(self:Chat, res):\n",
    "    yield from res\n",
    "    self.h += mk_toolres(self.c.result, ns=self.tools, obj=self)"
   ]
  },
  {
   "cell_type": "code",
   "execution_count": null,
   "id": "d0178ee1",
   "metadata": {},
   "outputs": [],
   "source": [
    "#| exports\n",
    "@patch\n",
    "def _post_pr(self:Chat, pr, prev_role):\n",
    "    if pr is None and prev_role == 'assistant':\n",
    "        if self.cont_pr is None:\n",
    "            raise ValueError(\"Prompt must be given after assistant completion, or use `self.cont_pr`.\")\n",
    "        pr = self.cont_pr # No user prompt, keep the chain\n",
    "    if pr: self.h.append(mk_msg(pr, cache=self.cache))"
   ]
  },
  {
   "cell_type": "code",
   "execution_count": null,
   "id": "1b5c04e6",
   "metadata": {},
   "outputs": [],
   "source": [
    "#| exports\n",
    "@patch\n",
    "def _append_pr(self:Chat,\n",
    "               pr=None,  # Prompt / message\n",
    "              ):\n",
    "    prev_role = nested_idx(self.h, -1, 'role') if self.h else 'assistant' # First message should be 'user'\n",
    "    if pr and prev_role == 'user': self() # already user request pending\n",
    "    self._post_pr(pr, prev_role)"
   ]
  },
  {
   "cell_type": "code",
   "execution_count": null,
   "id": "a9bcc67a",
   "metadata": {},
   "outputs": [],
   "source": [
    "#| exports\n",
    "@patch\n",
    "def __call__(self:Chat,\n",
    "             pr=None,  # Prompt / message\n",
    "             temp=None, # Temperature\n",
    "             maxtok=4096, # Maximum tokens\n",
    "             maxthinktok=0, # Maximum thinking tokens\n",
    "             stream=False, # Stream response?\n",
    "             prefill='', # Optional prefill to pass to Claude as start of its response\n",
    "             tool_choice:Optional[dict]=None, # Optionally force use of some tool\n",
    "             **kw):\n",
    "    if temp is None: temp=self.temp\n",
    "    self._append_pr(pr)\n",
    "    res = self.c(self.h, stream=stream, prefill=prefill, sp=self.sp, temp=temp, maxtok=maxtok, maxthinktok=maxthinktok, tools=self.tools, tool_choice=tool_choice,**kw)\n",
    "    if stream: return self._stream(res)\n",
    "    self.h += mk_toolres(self.c.result, ns=self.ns)\n",
    "    return res"
   ]
  },
  {
   "cell_type": "markdown",
   "id": "f97c5cd7",
   "metadata": {},
   "source": [
    "The `__call__` method just passes the request along to the `Client`, but rather than just passing in this one prompt, it appends it to the history and passes it all along. As a result, we now have state!"
   ]
  },
  {
   "cell_type": "code",
   "execution_count": null,
   "id": "cb393257",
   "metadata": {},
   "outputs": [],
   "source": [
    "chat = Chat(model, sp=sp)"
   ]
  },
  {
   "cell_type": "code",
   "execution_count": null,
   "id": "40073f42",
   "metadata": {},
   "outputs": [
    {
     "data": {
      "text/markdown": [
       "Your name is Jeremy, as you mentioned in your previous message.\n",
       "\n",
       "<details>\n",
       "\n",
       "- id: `msg_018q1k9EPACg8QjBAeP7qpE1`\n",
       "- content: `[{'citations': None, 'text': 'Your name is Jeremy, as you mentioned in your previous message.', 'type': 'text'}]`\n",
       "- model: `claude-3-7-sonnet-20250219`\n",
       "- role: `assistant`\n",
       "- stop_reason: `end_turn`\n",
       "- stop_sequence: `None`\n",
       "- type: `message`\n",
       "- usage: `{'cache_creation_input_tokens': 0, 'cache_read_input_tokens': 0, 'input_tokens': 59, 'output_tokens': 16, 'server_tool_use': None}`\n",
       "\n",
       "</details>"
      ],
      "text/plain": [
       "Message(id='msg_018q1k9EPACg8QjBAeP7qpE1', content=[TextBlock(citations=None, text='Your name is Jeremy, as you mentioned in your previous message.', type='text')], model='claude-3-7-sonnet-20250219', role='assistant', stop_reason='end_turn', stop_sequence=None, type='message', usage=In: 59; Out: 16; Cache create: 0; Cache read: 0; Total Tokens: 75; Server tool use (web search requests): 0)"
      ]
     },
     "execution_count": null,
     "metadata": {},
     "output_type": "execute_result"
    }
   ],
   "source": [
    "chat(\"I'm Jeremy\")\n",
    "chat(\"What's my name?\")"
   ]
  },
  {
   "cell_type": "code",
   "execution_count": null,
   "id": "5457b51d",
   "metadata": {},
   "outputs": [
    {
     "data": {
      "text/plain": [
       "(In: 76; Out: 50; Cache create: 0; Cache read: 0; Total Tokens: 126; Server tool use (web search requests): 0,\n",
       " 0.000978)"
      ]
     },
     "execution_count": null,
     "metadata": {},
     "output_type": "execute_result"
    }
   ],
   "source": [
    "chat.use, chat.cost"
   ]
  },
  {
   "cell_type": "markdown",
   "id": "a7df0327",
   "metadata": {},
   "source": [
    "Let's try out prefill too:"
   ]
  },
  {
   "cell_type": "code",
   "execution_count": null,
   "id": "20a32de0",
   "metadata": {},
   "outputs": [],
   "source": [
    "q = \"Concisely, what is the meaning of life?\"\n",
    "pref = 'According to Douglas Adams,'"
   ]
  },
  {
   "cell_type": "code",
   "execution_count": null,
   "id": "b07bce62",
   "metadata": {},
   "outputs": [
    {
     "data": {
      "text/markdown": [
       "Your name is Jeremy, as you mentioned in your previous message.\n",
       "\n",
       "<details>\n",
       "\n",
       "- id: `msg_018q1k9EPACg8QjBAeP7qpE1`\n",
       "- content: `[{'citations': None, 'text': 'Your name is Jeremy, as you mentioned in your previous message.', 'type': 'text'}]`\n",
       "- model: `claude-3-7-sonnet-20250219`\n",
       "- role: `assistant`\n",
       "- stop_reason: `end_turn`\n",
       "- stop_sequence: `None`\n",
       "- type: `message`\n",
       "- usage: `{'cache_creation_input_tokens': 0, 'cache_read_input_tokens': 0, 'input_tokens': 59, 'output_tokens': 16, 'server_tool_use': None}`\n",
       "\n",
       "</details>"
      ],
      "text/plain": [
       "Message(id='msg_018q1k9EPACg8QjBAeP7qpE1', content=[TextBlock(citations=None, text='Your name is Jeremy, as you mentioned in your previous message.', type='text')], model='claude-3-7-sonnet-20250219', role='assistant', stop_reason='end_turn', stop_sequence=None, type='message', usage=In: 59; Out: 16; Cache create: 0; Cache read: 0; Total Tokens: 75; Server tool use (web search requests): 0)"
      ]
     },
     "execution_count": null,
     "metadata": {},
     "output_type": "execute_result"
    }
   ],
   "source": [
    "chat.c.result"
   ]
  },
  {
   "cell_type": "code",
   "execution_count": null,
   "id": "9b28705d",
   "metadata": {},
   "outputs": [
    {
     "data": {
      "text/markdown": [
       "According to Douglas Adams,  42. More seriously, the meaning of life is likely what you create through your relationships, pursuits, and values.\n",
       "\n",
       "<details>\n",
       "\n",
       "- id: `msg_01QmdBDZ7vf8pLcHoTCqsmQn`\n",
       "- content: `[{'citations': None, 'text': 'According to Douglas Adams,  42. More seriously, the meaning of life is likely what you create through your relationships, pursuits, and values.', 'type': 'text'}]`\n",
       "- model: `claude-3-7-sonnet-20250219`\n",
       "- role: `assistant`\n",
       "- stop_reason: `end_turn`\n",
       "- stop_sequence: `None`\n",
       "- type: `message`\n",
       "- usage: `{'cache_creation_input_tokens': 0, 'cache_read_input_tokens': 0, 'input_tokens': 95, 'output_tokens': 28, 'server_tool_use': None}`\n",
       "\n",
       "</details>"
      ],
      "text/plain": [
       "Message(id='msg_01QmdBDZ7vf8pLcHoTCqsmQn', content=[TextBlock(citations=None, text='According to Douglas Adams,  42. More seriously, the meaning of life is likely what you create through your relationships, pursuits, and values.', type='text')], model='claude-3-7-sonnet-20250219', role='assistant', stop_reason='end_turn', stop_sequence=None, type='message', usage=In: 95; Out: 28; Cache create: 0; Cache read: 0; Total Tokens: 123; Server tool use (web search requests): 0)"
      ]
     },
     "execution_count": null,
     "metadata": {},
     "output_type": "execute_result"
    }
   ],
   "source": [
    "chat(q, prefill=pref)"
   ]
  },
  {
   "cell_type": "markdown",
   "id": "fbd28a97",
   "metadata": {},
   "source": [
    "By default messages must be in user, assistant, user format. If this isn't followed (aka calling `chat()` without a user message) it will error out:"
   ]
  },
  {
   "cell_type": "code",
   "execution_count": null,
   "id": "c3761928",
   "metadata": {},
   "outputs": [
    {
     "name": "stdout",
     "output_type": "stream",
     "text": [
      "Error: Prompt must be given after assistant completion, or use `self.cont_pr`.\n"
     ]
    }
   ],
   "source": [
    "try: chat()\n",
    "except ValueError as e: print(\"Error:\", e)"
   ]
  },
  {
   "cell_type": "markdown",
   "id": "4d57b5c7",
   "metadata": {},
   "source": [
    "Setting `cont_pr` allows a \"default prompt\" to be specified when a prompt isn't specified. Usually used to prompt the model to continue."
   ]
  },
  {
   "cell_type": "code",
   "execution_count": null,
   "id": "54c5a2bc",
   "metadata": {},
   "outputs": [
    {
     "data": {
      "text/markdown": [
       "The meaning of life varies across philosophical traditions: finding happiness, serving others, seeking knowledge, fulfilling one's potential, or connecting with something greater than oneself. Ultimately, many find meaning in personal growth, loving relationships, contributing to society, and pursuing what brings them genuine fulfillment. Rather than a single universal answer, meaning often emerges from our individual journeys and choices.\n",
       "\n",
       "<details>\n",
       "\n",
       "- id: `msg_01YJDurNFrknbtQjLMUGkL6S`\n",
       "- content: `[{'citations': None, 'text': \"The meaning of life varies across philosophical traditions: finding happiness, serving others, seeking knowledge, fulfilling one's potential, or connecting with something greater than oneself. Ultimately, many find meaning in personal growth, loving relationships, contributing to society, and pursuing what brings them genuine fulfillment. Rather than a single universal answer, meaning often emerges from our individual journeys and choices.\", 'type': 'text'}]`\n",
       "- model: `claude-3-7-sonnet-20250219`\n",
       "- role: `assistant`\n",
       "- stop_reason: `end_turn`\n",
       "- stop_sequence: `None`\n",
       "- type: `message`\n",
       "- usage: `{'cache_creation_input_tokens': 0, 'cache_read_input_tokens': 0, 'input_tokens': 129, 'output_tokens': 82, 'server_tool_use': None}`\n",
       "\n",
       "</details>"
      ],
      "text/plain": [
       "Message(id='msg_01YJDurNFrknbtQjLMUGkL6S', content=[TextBlock(citations=None, text=\"The meaning of life varies across philosophical traditions: finding happiness, serving others, seeking knowledge, fulfilling one's potential, or connecting with something greater than oneself. Ultimately, many find meaning in personal growth, loving relationships, contributing to society, and pursuing what brings them genuine fulfillment. Rather than a single universal answer, meaning often emerges from our individual journeys and choices.\", type='text')], model='claude-3-7-sonnet-20250219', role='assistant', stop_reason='end_turn', stop_sequence=None, type='message', usage=In: 129; Out: 82; Cache create: 0; Cache read: 0; Total Tokens: 211; Server tool use (web search requests): 0)"
      ]
     },
     "execution_count": null,
     "metadata": {},
     "output_type": "execute_result"
    }
   ],
   "source": [
    "chat.cont_pr = \"keep going...\"\n",
    "chat()"
   ]
  },
  {
   "cell_type": "markdown",
   "id": "776b3d1e",
   "metadata": {},
   "source": [
    "We can also use streaming:"
   ]
  },
  {
   "cell_type": "code",
   "execution_count": null,
   "id": "529104ec",
   "metadata": {},
   "outputs": [
    {
     "name": "stdout",
     "output_type": "stream",
     "text": [
      "Hello Jeremy! It's nice to meet you. How are you doing today? Is there something I can help you with or would you like to chat?"
     ]
    }
   ],
   "source": [
    "chat = Chat(model, sp=sp)\n",
    "for o in chat(\"I'm Jeremy\", stream=True): print(o, end='')"
   ]
  },
  {
   "cell_type": "code",
   "execution_count": null,
   "id": "14abb3dc",
   "metadata": {},
   "outputs": [
    {
     "name": "stdout",
     "output_type": "stream",
     "text": [
      "According to Douglas Adams,  it's 42. More seriously, the meaning of life is deeply personal - many find it in relationships, creating positive impact, pursuing passions, or spiritual fulfillment. There's no universal answer; meaning is what you choose to create."
     ]
    }
   ],
   "source": [
    "for o in chat(q, prefill=pref, stream=True): print(o, end='')"
   ]
  },
  {
   "cell_type": "markdown",
   "id": "0acdca39",
   "metadata": {},
   "source": [
    "You can provide a history of messages to initialise `Chat` with:"
   ]
  },
  {
   "cell_type": "code",
   "execution_count": null,
   "id": "32814e78",
   "metadata": {},
   "outputs": [
    {
     "data": {
      "text/markdown": [
       "I didn't actually know your name! I was just making a random guess for fun. It's quite surprising that I happened to guess correctly. What are the chances of that?\n",
       "\n",
       "If you'd like, you can share how you'd prefer me to address you in our conversation.\n",
       "\n",
       "<details>\n",
       "\n",
       "- id: `msg_012dvDUX8udLpFYPNfUa2sv5`\n",
       "- content: `[{'citations': None, 'text': \"I didn't actually know your name! I was just making a random guess for fun. It's quite surprising that I happened to guess correctly. What are the chances of that?\\n\\nIf you'd like, you can share how you'd prefer me to address you in our conversation.\", 'type': 'text'}]`\n",
       "- model: `claude-3-7-sonnet-20250219`\n",
       "- role: `assistant`\n",
       "- stop_reason: `end_turn`\n",
       "- stop_sequence: `None`\n",
       "- type: `message`\n",
       "- usage: `{'cache_creation_input_tokens': 0, 'cache_read_input_tokens': 0, 'input_tokens': 58, 'output_tokens': 60, 'server_tool_use': None}`\n",
       "\n",
       "</details>"
      ],
      "text/plain": [
       "Message(id='msg_012dvDUX8udLpFYPNfUa2sv5', content=[TextBlock(citations=None, text=\"I didn't actually know your name! I was just making a random guess for fun. It's quite surprising that I happened to guess correctly. What are the chances of that?\\n\\nIf you'd like, you can share how you'd prefer me to address you in our conversation.\", type='text')], model='claude-3-7-sonnet-20250219', role='assistant', stop_reason='end_turn', stop_sequence=None, type='message', usage=In: 58; Out: 60; Cache create: 0; Cache read: 0; Total Tokens: 118; Server tool use (web search requests): 0)"
      ]
     },
     "execution_count": null,
     "metadata": {},
     "output_type": "execute_result"
    }
   ],
   "source": [
    "chat = Chat(model, sp=sp, hist=[\"Can you guess my name?\", \"Hmmm I really don't know. Is it 'Merlin G. Penfolds'?\"])\n",
    "chat('Wow how did you know?')"
   ]
  },
  {
   "cell_type": "markdown",
   "id": "6b40892f",
   "metadata": {},
   "source": [
    "### Chat tool use"
   ]
  },
  {
   "cell_type": "markdown",
   "id": "062f7edf",
   "metadata": {},
   "source": [
    "We automagically get streamlined tool use as well:"
   ]
  },
  {
   "cell_type": "code",
   "execution_count": null,
   "id": "ee6535cf",
   "metadata": {},
   "outputs": [
    {
     "data": {
      "text/plain": [
       "'What is 604542+6458932?'"
      ]
     },
     "execution_count": null,
     "metadata": {},
     "output_type": "execute_result"
    }
   ],
   "source": [
    "pr = f\"What is {a}+{b}?\"\n",
    "pr"
   ]
  },
  {
   "cell_type": "code",
   "execution_count": null,
   "id": "797741c5",
   "metadata": {},
   "outputs": [
    {
     "name": "stdout",
     "output_type": "stream",
     "text": [
      "Finding the sum of 604542 and 6458932\n"
     ]
    },
    {
     "data": {
      "text/markdown": [
       "I'll calculate the sum of those two numbers for you.\n",
       "\n",
       "<details>\n",
       "\n",
       "- id: `msg_01QFwCbk595VHhnKqqZc2EMi`\n",
       "- content: `[{'citations': None, 'text': \"I'll calculate the sum of those two numbers for you.\", 'type': 'text'}, {'id': 'toolu_016ViHPsnWnzVq65MwRyr8gW', 'input': {'a': 604542, 'b': 6458932}, 'name': 'sums', 'type': 'tool_use'}]`\n",
       "- model: `claude-3-7-sonnet-20250219`\n",
       "- role: `assistant`\n",
       "- stop_reason: `tool_use`\n",
       "- stop_sequence: `None`\n",
       "- type: `message`\n",
       "- usage: `{'cache_creation_input_tokens': 0, 'cache_read_input_tokens': 0, 'input_tokens': 437, 'output_tokens': 85, 'server_tool_use': None}`\n",
       "\n",
       "</details>"
      ],
      "text/plain": [
       "Message(id='msg_01QFwCbk595VHhnKqqZc2EMi', content=[TextBlock(citations=None, text=\"I'll calculate the sum of those two numbers for you.\", type='text'), ToolUseBlock(id='toolu_016ViHPsnWnzVq65MwRyr8gW', input={'a': 604542, 'b': 6458932}, name='sums', type='tool_use')], model='claude-3-7-sonnet-20250219', role='assistant', stop_reason='tool_use', stop_sequence=None, type='message', usage=In: 437; Out: 85; Cache create: 0; Cache read: 0; Total Tokens: 522; Server tool use (web search requests): 0)"
      ]
     },
     "execution_count": null,
     "metadata": {},
     "output_type": "execute_result"
    }
   ],
   "source": [
    "chat = Chat(model, sp=sp, tools=[sums])\n",
    "r = chat(pr)\n",
    "r"
   ]
  },
  {
   "cell_type": "markdown",
   "id": "ff5513be",
   "metadata": {},
   "source": [
    "Now we need to send this result to Claude—calling the object with no parameters tells it to return the tool result to Claude:"
   ]
  },
  {
   "cell_type": "code",
   "execution_count": null,
   "id": "b091eae0",
   "metadata": {},
   "outputs": [
    {
     "data": {
      "text/markdown": [
       "The sum of 604542 and 6458932 is 7,063,474.\n",
       "\n",
       "<details>\n",
       "\n",
       "- id: `msg_01PaLtHRATzhFrQFV3eg82pG`\n",
       "- content: `[{'citations': None, 'text': 'The sum of 604542 and 6458932 is 7,063,474.', 'type': 'text'}]`\n",
       "- model: `claude-3-7-sonnet-20250219`\n",
       "- role: `assistant`\n",
       "- stop_reason: `end_turn`\n",
       "- stop_sequence: `None`\n",
       "- type: `message`\n",
       "- usage: `{'cache_creation_input_tokens': 0, 'cache_read_input_tokens': 0, 'input_tokens': 536, 'output_tokens': 25, 'server_tool_use': None}`\n",
       "\n",
       "</details>"
      ],
      "text/plain": [
       "Message(id='msg_01PaLtHRATzhFrQFV3eg82pG', content=[TextBlock(citations=None, text='The sum of 604542 and 6458932 is 7,063,474.', type='text')], model='claude-3-7-sonnet-20250219', role='assistant', stop_reason='end_turn', stop_sequence=None, type='message', usage=In: 536; Out: 25; Cache create: 0; Cache read: 0; Total Tokens: 561; Server tool use (web search requests): 0)"
      ]
     },
     "execution_count": null,
     "metadata": {},
     "output_type": "execute_result"
    }
   ],
   "source": [
    "chat()"
   ]
  },
  {
   "cell_type": "markdown",
   "id": "8e551677",
   "metadata": {},
   "source": [
    "It should be correct, because it actually used our Python function to do the addition. Let's check:"
   ]
  },
  {
   "cell_type": "code",
   "execution_count": null,
   "id": "06bfbf3d",
   "metadata": {},
   "outputs": [
    {
     "data": {
      "text/plain": [
       "7063474"
      ]
     },
     "execution_count": null,
     "metadata": {},
     "output_type": "execute_result"
    }
   ],
   "source": [
    "a+b"
   ]
  },
  {
   "cell_type": "markdown",
   "id": "445b2aa2",
   "metadata": {},
   "source": [
    "Let's test a function with user defined types."
   ]
  },
  {
   "cell_type": "code",
   "execution_count": null,
   "id": "d4db78d9",
   "metadata": {},
   "outputs": [
    {
     "data": {
      "text/markdown": [
       "To find out how many pages is three quarters of the way through your 80-page edition of Tao Te Ching, I'll calculate that for you.\n",
       "\n",
       "<details>\n",
       "\n",
       "- id: `msg_01FPy3rjcqggtxdRxgHG37PP`\n",
       "- content: `[{'citations': None, 'text': \"To find out how many pages is three quarters of the way through your 80-page edition of Tao Te Ching, I'll calculate that for you.\", 'type': 'text'}, {'id': 'toolu_013YVRza4qFjXh7Qv9aryPp4', 'input': {'book': {'title': 'Tao Te Ching', 'pages': 80}, 'percent': 75}, 'name': 'find_page', 'type': 'tool_use'}]`\n",
       "- model: `claude-3-7-sonnet-20250219`\n",
       "- role: `assistant`\n",
       "- stop_reason: `tool_use`\n",
       "- stop_sequence: `None`\n",
       "- type: `message`\n",
       "- usage: `{'cache_creation_input_tokens': 0, 'cache_read_input_tokens': 0, 'input_tokens': 547, 'output_tokens': 122, 'server_tool_use': None}`\n",
       "\n",
       "</details>"
      ],
      "text/plain": [
       "Message(id='msg_01FPy3rjcqggtxdRxgHG37PP', content=[TextBlock(citations=None, text=\"To find out how many pages is three quarters of the way through your 80-page edition of Tao Te Ching, I'll calculate that for you.\", type='text'), ToolUseBlock(id='toolu_013YVRza4qFjXh7Qv9aryPp4', input={'book': {'title': 'Tao Te Ching', 'pages': 80}, 'percent': 75}, name='find_page', type='tool_use')], model='claude-3-7-sonnet-20250219', role='assistant', stop_reason='tool_use', stop_sequence=None, type='message', usage=In: 547; Out: 122; Cache create: 0; Cache read: 0; Total Tokens: 669; Server tool use (web search requests): 0)"
      ]
     },
     "execution_count": null,
     "metadata": {},
     "output_type": "execute_result"
    }
   ],
   "source": [
    "chat = Chat(model, sp=sp, tools=[find_page])\n",
    "r = chat(\"How many pages is three quarters of the way through my 80 page edition of Tao Te Ching?\")\n",
    "r"
   ]
  },
  {
   "cell_type": "markdown",
   "id": "6486462c",
   "metadata": {},
   "source": [
    "Now we need to send this result to Claude—calling the object with no parameters tells it to return the tool result to Claude:"
   ]
  },
  {
   "cell_type": "code",
   "execution_count": null,
   "id": "0979c832",
   "metadata": {},
   "outputs": [
    {
     "data": {
      "text/markdown": [
       "Three quarters (75%) of the way through your 80-page edition of Tao Te Ching would be page 60.\n",
       "\n",
       "<details>\n",
       "\n",
       "- id: `msg_01JUU6YMCqFBW1shmzM7Fj8w`\n",
       "- content: `[{'citations': None, 'text': 'Three quarters (75%) of the way through your 80-page edition of Tao Te Ching would be page 60.', 'type': 'text'}]`\n",
       "- model: `claude-3-7-sonnet-20250219`\n",
       "- role: `assistant`\n",
       "- stop_reason: `end_turn`\n",
       "- stop_sequence: `None`\n",
       "- type: `message`\n",
       "- usage: `{'cache_creation_input_tokens': 0, 'cache_read_input_tokens': 0, 'input_tokens': 681, 'output_tokens': 33, 'server_tool_use': None}`\n",
       "\n",
       "</details>"
      ],
      "text/plain": [
       "Message(id='msg_01JUU6YMCqFBW1shmzM7Fj8w', content=[TextBlock(citations=None, text='Three quarters (75%) of the way through your 80-page edition of Tao Te Ching would be page 60.', type='text')], model='claude-3-7-sonnet-20250219', role='assistant', stop_reason='end_turn', stop_sequence=None, type='message', usage=In: 681; Out: 33; Cache create: 0; Cache read: 0; Total Tokens: 714; Server tool use (web search requests): 0)"
      ]
     },
     "execution_count": null,
     "metadata": {},
     "output_type": "execute_result"
    }
   ],
   "source": [
    "chat()"
   ]
  },
  {
   "cell_type": "markdown",
   "id": "b7054a02",
   "metadata": {},
   "source": [
    "It should be correct, because it actually used our Python function to do the addition. Let's check:"
   ]
  },
  {
   "cell_type": "code",
   "execution_count": null,
   "id": "b7ff0879",
   "metadata": {},
   "outputs": [
    {
     "data": {
      "text/plain": [
       "60.0"
      ]
     },
     "execution_count": null,
     "metadata": {},
     "output_type": "execute_result"
    }
   ],
   "source": [
    "80 * .75"
   ]
  },
  {
   "cell_type": "code",
   "execution_count": null,
   "id": "c76a22fb",
   "metadata": {},
   "outputs": [],
   "source": [
    "chat = Chat(model, tools=[text_editor_conf['sonnet']], ns=mk_ns(str_replace_editor))"
   ]
  },
  {
   "cell_type": "markdown",
   "id": "157d057f",
   "metadata": {},
   "source": [
    "Note that `mk_ns(str_replace_editor)` is used here. When not providing tools directly as Python functions (like `sum`), you **must** create and pass a namespace dictionary (mapping the tool name string to the function object) using the `ns` parameter to methods like `mk_toolres` or `toolloop`. `toolslm` cannot automatically generate the namespace in this case. For schema-based tools (i.e., Python functions), `claudette` handles namespace creation automatically."
   ]
  },
  {
   "cell_type": "code",
   "execution_count": null,
   "id": "ebbd0cd2",
   "metadata": {},
   "outputs": [
    {
     "data": {
      "text/plain": [
       "ToolUseBlock(id='toolu_01E6LUbTPMsTGZMbiSMbQ3vm', input={'command': 'view', 'path': '_quarto.yml'}, name='str_replace_editor', type='tool_use')"
      ]
     },
     "execution_count": null,
     "metadata": {},
     "output_type": "execute_result"
    }
   ],
   "source": [
    "r = chat('Please explain what my _quarto.yml does. Use your tools')\n",
    "find_block(r, ToolUseBlock)"
   ]
  },
  {
   "cell_type": "code",
   "execution_count": null,
   "id": "0b7717a8",
   "metadata": {},
   "outputs": [
    {
     "data": {
      "text/markdown": [
       "# Explanation of Your _quarto.yml File\n",
       "\n",
       "Your _quarto.yml is a configuration file for Quarto, which is a scientific and technical publishing system. Here's a breakdown of what it does:\n",
       "\n",
       "## Project Configuration\n",
       "- `project.type: website`: Defines this as a website project (as opposed to a book or other format)\n",
       "- `project.resources: [\"*.txt\"]`: Includes all .txt files as resources in the build\n",
       "- `project.preview.port: 3000`: Sets the preview server to run on port 3000\n",
       "- `project.preview.browser: false`: Prevents automatically opening a browser when previewing\n",
       "\n",
       "## Format Settings\n",
       "- `format.html`: Configures HTML output with several settings:\n",
       "  - `theme: cosmo`: Uses the \"cosmo\" theme for styling\n",
       "  - `css: styles.css`: Applies additional custom styles from styles.css\n",
       "  - `toc: true`: Enables table of contents\n",
       "  - `code-tools: true`: Enables code tools (like copy button)\n",
       "  - `code-block-bg: true`: Adds background to code blocks\n",
       "  - `code-block-border-left: \"#31BAE9\"`: Sets a blue left border for code blocks\n",
       "  - `highlight-style: arrow`: Uses the \"arrow\" syntax highlighting style\n",
       "  - `grid`: Configures the page layout with specific widths for sidebar (180px), body (1800px), margins (150px), and gutters (1.0rem)\n",
       "  - `keep-md: true`: Preserves Markdown files after rendering\n",
       "\n",
       "- `format.commonmark: default`: Also enables CommonMark format with default settings\n",
       "\n",
       "## Website Configuration\n",
       "- `website.twitter-card: true`: Enables Twitter card metadata\n",
       "- `website.open-graph: true`: Enables Open Graph metadata for social media sharing\n",
       "- `website.repo-actions: [issue]`: Adds an \"issue\" button for repository actions\n",
       "- `website.navbar.background: primary`: Sets the navbar background to the primary theme color\n",
       "- `website.navbar.search: true`: Enables search functionality in the navbar\n",
       "- `website.sidebar.style: floating`: Uses a floating style for the sidebar\n",
       "\n",
       "## Metadata Files\n",
       "- Includes two external metadata files:\n",
       "  - `nbdev.yml`: Likely contains nbdev-specific configurations (nbdev is a library for developing Python packages)\n",
       "  - `sidebar.yml`: Likely contains sidebar navigation structure\n",
       "\n",
       "This configuration sets up a website with good code display features, responsive layout, and integration with development tools. It appears to be designed for technical documentation, possibly for a Python package using nbdev.\n",
       "\n",
       "<details>\n",
       "\n",
       "- id: `msg_016Hxyn9LbZ5EuhYVXYSUoPv`\n",
       "- content: `[{'citations': None, 'text': '# Explanation of Your _quarto.yml File\\n\\nYour _quarto.yml is a configuration file for Quarto, which is a scientific and technical publishing system. Here\\'s a breakdown of what it does:\\n\\n## Project Configuration\\n- `project.type: website`: Defines this as a website project (as opposed to a book or other format)\\n- `project.resources: [\"*.txt\"]`: Includes all .txt files as resources in the build\\n- `project.preview.port: 3000`: Sets the preview server to run on port 3000\\n- `project.preview.browser: false`: Prevents automatically opening a browser when previewing\\n\\n## Format Settings\\n- `format.html`: Configures HTML output with several settings:\\n  - `theme: cosmo`: Uses the \"cosmo\" theme for styling\\n  - `css: styles.css`: Applies additional custom styles from styles.css\\n  - `toc: true`: Enables table of contents\\n  - `code-tools: true`: Enables code tools (like copy button)\\n  - `code-block-bg: true`: Adds background to code blocks\\n  - `code-block-border-left: \"#31BAE9\"`: Sets a blue left border for code blocks\\n  - `highlight-style: arrow`: Uses the \"arrow\" syntax highlighting style\\n  - `grid`: Configures the page layout with specific widths for sidebar (180px), body (1800px), margins (150px), and gutters (1.0rem)\\n  - `keep-md: true`: Preserves Markdown files after rendering\\n\\n- `format.commonmark: default`: Also enables CommonMark format with default settings\\n\\n## Website Configuration\\n- `website.twitter-card: true`: Enables Twitter card metadata\\n- `website.open-graph: true`: Enables Open Graph metadata for social media sharing\\n- `website.repo-actions: [issue]`: Adds an \"issue\" button for repository actions\\n- `website.navbar.background: primary`: Sets the navbar background to the primary theme color\\n- `website.navbar.search: true`: Enables search functionality in the navbar\\n- `website.sidebar.style: floating`: Uses a floating style for the sidebar\\n\\n## Metadata Files\\n- Includes two external metadata files:\\n  - `nbdev.yml`: Likely contains nbdev-specific configurations (nbdev is a library for developing Python packages)\\n  - `sidebar.yml`: Likely contains sidebar navigation structure\\n\\nThis configuration sets up a website with good code display features, responsive layout, and integration with development tools. It appears to be designed for technical documentation, possibly for a Python package using nbdev.', 'type': 'text'}]`\n",
       "- model: `claude-3-7-sonnet-20250219`\n",
       "- role: `assistant`\n",
       "- stop_reason: `end_turn`\n",
       "- stop_sequence: `None`\n",
       "- type: `message`\n",
       "- usage: `{'cache_creation_input_tokens': 0, 'cache_read_input_tokens': 0, 'input_tokens': 1372, 'output_tokens': 593, 'server_tool_use': None}`\n",
       "\n",
       "</details>"
      ],
      "text/plain": [
       "Message(id='msg_016Hxyn9LbZ5EuhYVXYSUoPv', content=[TextBlock(citations=None, text='# Explanation of Your _quarto.yml File\\n\\nYour _quarto.yml is a configuration file for Quarto, which is a scientific and technical publishing system. Here\\'s a breakdown of what it does:\\n\\n## Project Configuration\\n- `project.type: website`: Defines this as a website project (as opposed to a book or other format)\\n- `project.resources: [\"*.txt\"]`: Includes all .txt files as resources in the build\\n- `project.preview.port: 3000`: Sets the preview server to run on port 3000\\n- `project.preview.browser: false`: Prevents automatically opening a browser when previewing\\n\\n## Format Settings\\n- `format.html`: Configures HTML output with several settings:\\n  - `theme: cosmo`: Uses the \"cosmo\" theme for styling\\n  - `css: styles.css`: Applies additional custom styles from styles.css\\n  - `toc: true`: Enables table of contents\\n  - `code-tools: true`: Enables code tools (like copy button)\\n  - `code-block-bg: true`: Adds background to code blocks\\n  - `code-block-border-left: \"#31BAE9\"`: Sets a blue left border for code blocks\\n  - `highlight-style: arrow`: Uses the \"arrow\" syntax highlighting style\\n  - `grid`: Configures the page layout with specific widths for sidebar (180px), body (1800px), margins (150px), and gutters (1.0rem)\\n  - `keep-md: true`: Preserves Markdown files after rendering\\n\\n- `format.commonmark: default`: Also enables CommonMark format with default settings\\n\\n## Website Configuration\\n- `website.twitter-card: true`: Enables Twitter card metadata\\n- `website.open-graph: true`: Enables Open Graph metadata for social media sharing\\n- `website.repo-actions: [issue]`: Adds an \"issue\" button for repository actions\\n- `website.navbar.background: primary`: Sets the navbar background to the primary theme color\\n- `website.navbar.search: true`: Enables search functionality in the navbar\\n- `website.sidebar.style: floating`: Uses a floating style for the sidebar\\n\\n## Metadata Files\\n- Includes two external metadata files:\\n  - `nbdev.yml`: Likely contains nbdev-specific configurations (nbdev is a library for developing Python packages)\\n  - `sidebar.yml`: Likely contains sidebar navigation structure\\n\\nThis configuration sets up a website with good code display features, responsive layout, and integration with development tools. It appears to be designed for technical documentation, possibly for a Python package using nbdev.', type='text')], model='claude-3-7-sonnet-20250219', role='assistant', stop_reason='end_turn', stop_sequence=None, type='message', usage=In: 1372; Out: 593; Cache create: 0; Cache read: 0; Total Tokens: 1965; Server tool use (web search requests): 0)"
      ]
     },
     "execution_count": null,
     "metadata": {},
     "output_type": "execute_result"
    }
   ],
   "source": [
    "chat()"
   ]
  },
  {
   "cell_type": "code",
   "execution_count": null,
   "id": "f85f93da",
   "metadata": {},
   "outputs": [],
   "source": [
    "#| exports\n",
    "@patch\n",
    "def _repr_markdown_(self:Chat):\n",
    "    if not hasattr(self.c, 'result'): return 'No results yet'\n",
    "    last_msg = contents(self.c.result)\n",
    "    \n",
    "    def fmt_msg(m):\n",
    "        t = contents(m)\n",
    "        if isinstance(t, dict): return t['content']\n",
    "        return t\n",
    "        \n",
    "    history = '\\n\\n'.join(f\"**{m['role']}**: {fmt_msg(m)}\" \n",
    "                         for m in self.h)\n",
    "    det = self.c._repr_markdown_().split('\\n\\n')[-1]\n",
    "    return f\"\"\"{last_msg}\n",
    "\n",
    "<details>\n",
    "<summary>History</summary>\n",
    "\n",
    "{history}\n",
    "</details>\n",
    "\n",
    "{det}\"\"\""
   ]
  },
  {
   "cell_type": "code",
   "execution_count": null,
   "id": "4b2c6f87",
   "metadata": {},
   "outputs": [
    {
     "data": {
      "text/markdown": [
       "# Explanation of Your _quarto.yml File\n",
       "\n",
       "Your _quarto.yml is a configuration file for Quarto, which is a scientific and technical publishing system. Here's a breakdown of what it does:\n",
       "\n",
       "## Project Configuration\n",
       "- `project.type: website`: Defines this as a website project (as opposed to a book or other format)\n",
       "- `project.resources: [\"*.txt\"]`: Includes all .txt files as resources in the build\n",
       "- `project.preview.port: 3000`: Sets the preview server to run on port 3000\n",
       "- `project.preview.browser: false`: Prevents automatically opening a browser when previewing\n",
       "\n",
       "## Format Settings\n",
       "- `format.html`: Configures HTML output with several settings:\n",
       "  - `theme: cosmo`: Uses the \"cosmo\" theme for styling\n",
       "  - `css: styles.css`: Applies additional custom styles from styles.css\n",
       "  - `toc: true`: Enables table of contents\n",
       "  - `code-tools: true`: Enables code tools (like copy button)\n",
       "  - `code-block-bg: true`: Adds background to code blocks\n",
       "  - `code-block-border-left: \"#31BAE9\"`: Sets a blue left border for code blocks\n",
       "  - `highlight-style: arrow`: Uses the \"arrow\" syntax highlighting style\n",
       "  - `grid`: Configures the page layout with specific widths for sidebar (180px), body (1800px), margins (150px), and gutters (1.0rem)\n",
       "  - `keep-md: true`: Preserves Markdown files after rendering\n",
       "\n",
       "- `format.commonmark: default`: Also enables CommonMark format with default settings\n",
       "\n",
       "## Website Configuration\n",
       "- `website.twitter-card: true`: Enables Twitter card metadata\n",
       "- `website.open-graph: true`: Enables Open Graph metadata for social media sharing\n",
       "- `website.repo-actions: [issue]`: Adds an \"issue\" button for repository actions\n",
       "- `website.navbar.background: primary`: Sets the navbar background to the primary theme color\n",
       "- `website.navbar.search: true`: Enables search functionality in the navbar\n",
       "- `website.sidebar.style: floating`: Uses a floating style for the sidebar\n",
       "\n",
       "## Metadata Files\n",
       "- Includes two external metadata files:\n",
       "  - `nbdev.yml`: Likely contains nbdev-specific configurations (nbdev is a library for developing Python packages)\n",
       "  - `sidebar.yml`: Likely contains sidebar navigation structure\n",
       "\n",
       "This configuration sets up a website with good code display features, responsive layout, and integration with development tools. It appears to be designed for technical documentation, possibly for a Python package using nbdev.\n",
       "\n",
       "<details>\n",
       "<summary>History</summary>\n",
       "\n",
       "**user**: P\n",
       "\n",
       "**assistant**: I'll examine your _quarto.yml file to explain what it does. Let me first view the file.\n",
       "\n",
       "**user**: project:\n",
       "  type: website\n",
       "  resources: \n",
       "    - \"*.txt\"\n",
       "  preview:\n",
       "    port: 3000\n",
       "    browser: false\n",
       "\n",
       "format:\n",
       "  html:\n",
       "    theme: cosmo\n",
       "    css: styles.css\n",
       "    toc: true\n",
       "    code-tools: true\n",
       "    code-block-bg: true\n",
       "    code-block-border-left: \"#31BAE9\"\n",
       "    highlight-style: arrow\n",
       "    grid:\n",
       "      sidebar-width: 180px\n",
       "      body-width: 1800px\n",
       "      margin-width: 150px\n",
       "      gutter-width: 1.0rem\n",
       "    keep-md: true\n",
       "  commonmark: default\n",
       "\n",
       "website:\n",
       "  twitter-card: true\n",
       "  open-graph: true\n",
       "  repo-actions: [issue]\n",
       "  navbar:\n",
       "    background: primary\n",
       "    search: true\n",
       "  sidebar:\n",
       "    style: floating\n",
       "\n",
       "metadata-files:\n",
       "  - nbdev.yml\n",
       "  - sidebar.yml\n",
       "\n",
       "**assistant**: # Explanation of Your _quarto.yml File\n",
       "\n",
       "Your _quarto.yml is a configuration file for Quarto, which is a scientific and technical publishing system. Here's a breakdown of what it does:\n",
       "\n",
       "## Project Configuration\n",
       "- `project.type: website`: Defines this as a website project (as opposed to a book or other format)\n",
       "- `project.resources: [\"*.txt\"]`: Includes all .txt files as resources in the build\n",
       "- `project.preview.port: 3000`: Sets the preview server to run on port 3000\n",
       "- `project.preview.browser: false`: Prevents automatically opening a browser when previewing\n",
       "\n",
       "## Format Settings\n",
       "- `format.html`: Configures HTML output with several settings:\n",
       "  - `theme: cosmo`: Uses the \"cosmo\" theme for styling\n",
       "  - `css: styles.css`: Applies additional custom styles from styles.css\n",
       "  - `toc: true`: Enables table of contents\n",
       "  - `code-tools: true`: Enables code tools (like copy button)\n",
       "  - `code-block-bg: true`: Adds background to code blocks\n",
       "  - `code-block-border-left: \"#31BAE9\"`: Sets a blue left border for code blocks\n",
       "  - `highlight-style: arrow`: Uses the \"arrow\" syntax highlighting style\n",
       "  - `grid`: Configures the page layout with specific widths for sidebar (180px), body (1800px), margins (150px), and gutters (1.0rem)\n",
       "  - `keep-md: true`: Preserves Markdown files after rendering\n",
       "\n",
       "- `format.commonmark: default`: Also enables CommonMark format with default settings\n",
       "\n",
       "## Website Configuration\n",
       "- `website.twitter-card: true`: Enables Twitter card metadata\n",
       "- `website.open-graph: true`: Enables Open Graph metadata for social media sharing\n",
       "- `website.repo-actions: [issue]`: Adds an \"issue\" button for repository actions\n",
       "- `website.navbar.background: primary`: Sets the navbar background to the primary theme color\n",
       "- `website.navbar.search: true`: Enables search functionality in the navbar\n",
       "- `website.sidebar.style: floating`: Uses a floating style for the sidebar\n",
       "\n",
       "## Metadata Files\n",
       "- Includes two external metadata files:\n",
       "  - `nbdev.yml`: Likely contains nbdev-specific configurations (nbdev is a library for developing Python packages)\n",
       "  - `sidebar.yml`: Likely contains sidebar navigation structure\n",
       "\n",
       "This configuration sets up a website with good code display features, responsive layout, and integration with development tools. It appears to be designed for technical documentation, possibly for a Python package using nbdev.\n",
       "</details>\n",
       "\n",
       "| Metric | Count | Cost (USD) |\n",
       "|--------|------:|-----:|\n",
       "| Input tokens | 2,408 | 0.007224 |\n",
       "| Output tokens | 693 | 0.010395 |\n",
       "| Cache tokens | 0 | 0.000000 |\n",
       "| Server tool use | 0 | 0.000000 |\n",
       "| **Total** | **3,101** | **$0.017619** |"
      ],
      "text/plain": [
       "<__main__.Chat>"
      ]
     },
     "execution_count": null,
     "metadata": {},
     "output_type": "execute_result"
    }
   ],
   "source": [
    "chat"
   ]
  },
  {
   "cell_type": "markdown",
   "id": "df1dd4c3",
   "metadata": {},
   "source": [
    "## Images"
   ]
  },
  {
   "cell_type": "markdown",
   "id": "cf741dbc",
   "metadata": {},
   "source": [
    "Claude can handle image data as well. As everyone knows, when testing image APIs you have to use a cute puppy."
   ]
  },
  {
   "cell_type": "code",
   "execution_count": null,
   "id": "5d35d564",
   "metadata": {},
   "outputs": [
    {
     "data": {
      "image/jpeg": "[encoded data removed]",
      "text/plain": [
       "<IPython.core.display.Image object>"
      ]
     },
     "execution_count": null,
     "metadata": {
      "image/jpeg": {
       "width": 200
      }
     },
     "output_type": "execute_result"
    }
   ],
   "source": [
    "# Image is Cute_dog.jpg from Wikimedia\n",
    "fn = Path('samples/puppy.jpg')\n",
    "display.Image(filename=fn, width=200)"
   ]
  },
  {
   "cell_type": "code",
   "execution_count": null,
   "id": "d120d8fb",
   "metadata": {},
   "outputs": [],
   "source": [
    "img = fn.read_bytes()"
   ]
  },
  {
   "cell_type": "markdown",
   "id": "3e2937df",
   "metadata": {},
   "source": [
    "Claude expects an image message to have the following structure\n",
    "\n",
    "```js\n",
    "{\n",
    "    'role': 'user', \n",
    "    'content': [\n",
    "        {'type':'text', 'text':'What is in the image?'},\n",
    "        {\n",
    "            'type':'image', \n",
    "            'source': {\n",
    "                'type':'base64', 'media_type':'media_type', 'data': 'data'\n",
    "            }\n",
    "        }\n",
    "    ]\n",
    "}\n",
    "```\n",
    "`msglm` automatically detects if a message is an image, encodes it, and generates the data structure above.\n",
    "All we need to do is a create a list containing our image and a query and then pass it to `mk_msg`.\n",
    "\n",
    "Let's try it out..."
   ]
  },
  {
   "cell_type": "code",
   "execution_count": null,
   "id": "db8339ac",
   "metadata": {},
   "outputs": [],
   "source": [
    "q = \"In brief, what color flowers are in this image?\"\n",
    "msg = mk_msg([img, q])"
   ]
  },
  {
   "cell_type": "code",
   "execution_count": null,
   "id": "69acc8c7",
   "metadata": {},
   "outputs": [
    {
     "data": {
      "text/markdown": [
       "The flowers in the image are purple/lavender in color. They appear to be small daisy-like flowers or asters blooming next to where the adorable Cavalier King Charles Spaniel puppy is resting on the grass. The purple flowers create a nice contrast with the puppy's white and reddish-brown fur.\n",
       "\n",
       "<details>\n",
       "\n",
       "- id: `msg_01SD3FDQbuJ4x98uNv62K2Xp`\n",
       "- content: `[{'citations': None, 'text': \"The flowers in the image are purple/lavender in color. They appear to be small daisy-like flowers or asters blooming next to where the adorable Cavalier King Charles Spaniel puppy is resting on the grass. The purple flowers create a nice contrast with the puppy's white and reddish-brown fur.\", 'type': 'text'}]`\n",
       "- model: `claude-3-7-sonnet-20250219`\n",
       "- role: `assistant`\n",
       "- stop_reason: `end_turn`\n",
       "- stop_sequence: `None`\n",
       "- type: `message`\n",
       "- usage: `{'cache_creation_input_tokens': 0, 'cache_read_input_tokens': 0, 'input_tokens': 110, 'output_tokens': 75, 'server_tool_use': None}`\n",
       "\n",
       "</details>"
      ],
      "text/plain": [
       "Message(id='msg_01SD3FDQbuJ4x98uNv62K2Xp', content=[TextBlock(citations=None, text=\"The flowers in the image are purple/lavender in color. They appear to be small daisy-like flowers or asters blooming next to where the adorable Cavalier King Charles Spaniel puppy is resting on the grass. The purple flowers create a nice contrast with the puppy's white and reddish-brown fur.\", type='text')], model='claude-3-7-sonnet-20250219', role='assistant', stop_reason='end_turn', stop_sequence=None, type='message', usage=In: 110; Out: 75; Cache create: 0; Cache read: 0; Total Tokens: 185; Server tool use (web search requests): 0)"
      ]
     },
     "execution_count": null,
     "metadata": {},
     "output_type": "execute_result"
    }
   ],
   "source": [
    "c([msg])"
   ]
  },
  {
   "cell_type": "markdown",
   "id": "09be3d09",
   "metadata": {},
   "source": [
    "You don't need to call `mk_msg` on each individual message before passing them to the `Chat` class. Instead you can pass your messages in a list and the `Chat` class will automatically call `mk_msgs` in the background. \n",
    "\n",
    "```python\n",
    "c([\"How are you?\", r])\n",
    "```\n",
    "\n",
    "For messages that contain multiple content types (like an image with a question), you'll need to enclose the message contents in a list as shown below:\n",
    "\n",
    "```python\n",
    "c([\"How are you?\", r, [img, q]])\n",
    "```"
   ]
  },
  {
   "cell_type": "code",
   "execution_count": null,
   "id": "73ce3789",
   "metadata": {},
   "outputs": [
    {
     "data": {
      "text/markdown": [
       "The flowers in the image are purple/lavender in color. They appear to be small daisy-like flowers blooming next to where the adorable Cavalier King Charles Spaniel puppy is resting on the grass. The purple flowers create a nice contrast with the puppy's white and reddish-brown fur.\n",
       "\n",
       "<details>\n",
       "\n",
       "- id: `msg_01VFVzc4JCVU1ZYxCiY5PBqb`\n",
       "- content: `[{'citations': None, 'text': \"The flowers in the image are purple/lavender in color. They appear to be small daisy-like flowers blooming next to where the adorable Cavalier King Charles Spaniel puppy is resting on the grass. The purple flowers create a nice contrast with the puppy's white and reddish-brown fur.\", 'type': 'text'}]`\n",
       "- model: `claude-3-7-sonnet-20250219`\n",
       "- role: `assistant`\n",
       "- stop_reason: `end_turn`\n",
       "- stop_sequence: `None`\n",
       "- type: `message`\n",
       "- usage: `{'cache_creation_input_tokens': 0, 'cache_read_input_tokens': 0, 'input_tokens': 110, 'output_tokens': 72, 'server_tool_use': None}`\n",
       "\n",
       "</details>"
      ],
      "text/plain": [
       "Message(id='msg_01VFVzc4JCVU1ZYxCiY5PBqb', content=[TextBlock(citations=None, text=\"The flowers in the image are purple/lavender in color. They appear to be small daisy-like flowers blooming next to where the adorable Cavalier King Charles Spaniel puppy is resting on the grass. The purple flowers create a nice contrast with the puppy's white and reddish-brown fur.\", type='text')], model='claude-3-7-sonnet-20250219', role='assistant', stop_reason='end_turn', stop_sequence=None, type='message', usage=In: 110; Out: 72; Cache create: 0; Cache read: 0; Total Tokens: 182; Server tool use (web search requests): 0)"
      ]
     },
     "execution_count": null,
     "metadata": {},
     "output_type": "execute_result"
    }
   ],
   "source": [
    "c = Chat(model)\n",
    "c([img, q])"
   ]
  },
  {
   "cell_type": "code",
   "execution_count": null,
   "id": "496178d9",
   "metadata": {},
   "outputs": [],
   "source": [
    "def contents(r):\n",
    "    \"Helper to get the contents from Claude response `r`.\"\n",
    "    blk = find_block(r)\n",
    "    if not blk and r.content: blk = r.content[0]\n",
    "    if hasattr(blk,'text'): return blk.text.strip()\n",
    "    elif hasattr(blk,'content'): return blk.content.strip()\n",
    "    elif hasattr(blk,'source'): return f'*Media Type - {blk.type}*'\n",
    "    return str(blk)"
   ]
  },
  {
   "cell_type": "code",
   "execution_count": null,
   "id": "8b9d8064",
   "metadata": {},
   "outputs": [
    {
     "data": {
      "text/plain": [
       "'*Media Type - image*'"
      ]
     },
     "execution_count": null,
     "metadata": {},
     "output_type": "execute_result"
    }
   ],
   "source": [
    "contents(c.h[0])"
   ]
  },
  {
   "cell_type": "code",
   "execution_count": null,
   "id": "3eb5f016",
   "metadata": {},
   "outputs": [
    {
     "data": {
      "text/markdown": [
       "The flowers in the image are purple/lavender in color. They appear to be small daisy-like flowers blooming next to where the adorable Cavalier King Charles Spaniel puppy is resting on the grass. The purple flowers create a nice contrast with the puppy's white and reddish-brown fur.\n",
       "\n",
       "<details>\n",
       "<summary>History</summary>\n",
       "\n",
       "**user**: *Media Type - image*\n",
       "\n",
       "**assistant**: The flowers in the image are purple/lavender in color. They appear to be small daisy-like flowers blooming next to where the adorable Cavalier King Charles Spaniel puppy is resting on the grass. The purple flowers create a nice contrast with the puppy's white and reddish-brown fur.\n",
       "</details>\n",
       "\n",
       "| Metric | Count | Cost (USD) |\n",
       "|--------|------:|-----:|\n",
       "| Input tokens | 110 | 0.000330 |\n",
       "| Output tokens | 72 | 0.001080 |\n",
       "| Cache tokens | 0 | 0.000000 |\n",
       "| Server tool use | 0 | 0.000000 |\n",
       "| **Total** | **182** | **$0.001410** |"
      ],
      "text/plain": [
       "<__main__.Chat>"
      ]
     },
     "execution_count": null,
     "metadata": {},
     "output_type": "execute_result"
    }
   ],
   "source": [
    "c"
   ]
  },
  {
   "cell_type": "markdown",
   "id": "00482861",
   "metadata": {},
   "source": [
    ":::{.callout-note}\n",
    "\n",
    "Unfortunately, not all Claude models support images 😞. This [table](https://docs.anthropic.com/en/docs/about-claude/models#model-comparison-table) summarizes the capabilities of each Claude model and the different modalities they support.\n",
    "\n",
    ":::"
   ]
  },
  {
   "cell_type": "markdown",
   "id": "abd9dbe9",
   "metadata": {},
   "source": [
    "## Caching"
   ]
  },
  {
   "cell_type": "markdown",
   "id": "026fb70e",
   "metadata": {},
   "source": [
    "Claude supports context caching by adding a `cache_control` header to the message content.\n",
    "\n",
    "```js\n",
    "{\n",
    "    \"role\": \"user\",\n",
    "    \"content\": [\n",
    "        {\n",
    "            \"type\": \"text\", \n",
    "            \"text\": \"Please cache my message\", \n",
    "            \"cache_control\": {\"type\": \"ephemeral\"}\n",
    "        }\n",
    "    ]\n",
    "}\n",
    "```\n",
    "\n",
    "To cache a message, we simply set `cache=True` when calling `mk_msg`."
   ]
  },
  {
   "cell_type": "code",
   "execution_count": null,
   "id": "19a9d3e1",
   "metadata": {},
   "outputs": [
    {
     "data": {
      "text/markdown": [
       "```json\n",
       "{ 'content': [ {'text': 'hi', 'type': 'text'},\n",
       "               { 'cache_control': {'type': 'ephemeral'},\n",
       "                 'text': 'there',\n",
       "                 'type': 'text'}],\n",
       "  'role': 'user'}\n",
       "```"
      ],
      "text/plain": [
       "{'role': 'user',\n",
       " 'content': [{'type': 'text', 'text': 'hi'},\n",
       "  {'type': 'text', 'text': 'there', 'cache_control': {'type': 'ephemeral'}}]}"
      ]
     },
     "execution_count": null,
     "metadata": {},
     "output_type": "execute_result"
    }
   ],
   "source": [
    "mk_msg(['hi', 'there'], cache=True)"
   ]
  },
  {
   "cell_type": "markdown",
   "id": "e412abd5",
   "metadata": {},
   "source": [
    "Claude also now supports smart cache look-ups, so it's very simple to keep an entire conversation in cache by constantly telling it to update the cache with the latest message. To do this, we just need to set `cache=True` when creating a `Chat`."
   ]
  },
  {
   "cell_type": "code",
   "execution_count": null,
   "id": "5eb7bed0",
   "metadata": {},
   "outputs": [],
   "source": [
    "chat = Chat(model, sp=sp, cache=True)"
   ]
  },
  {
   "cell_type": "markdown",
   "id": "745a3182",
   "metadata": {},
   "source": [
    "Caching has a minimum token limit of 1024 tokens for Sonnet and Opus, and 2048 for Haiku. If your conversation is below this limit, it will not be cached."
   ]
  },
  {
   "cell_type": "code",
   "execution_count": null,
   "id": "ed6e5fe2",
   "metadata": {},
   "outputs": [
    {
     "data": {
      "text/markdown": [
       "Hello Jeremy! It's nice to meet you. How are you doing today? Is there something I can help you with or would you like to chat?\n",
       "\n",
       "<details>\n",
       "\n",
       "- id: `msg_01NRp9ys88wxbuTysaZnausb`\n",
       "- content: `[{'citations': None, 'text': \"Hello Jeremy! It's nice to meet you. How are you doing today? Is there something I can help you with or would you like to chat?\", 'type': 'text'}]`\n",
       "- model: `claude-3-7-sonnet-20250219`\n",
       "- role: `assistant`\n",
       "- stop_reason: `end_turn`\n",
       "- stop_sequence: `None`\n",
       "- type: `message`\n",
       "- usage: `{'cache_creation_input_tokens': 0, 'cache_read_input_tokens': 0, 'input_tokens': 20, 'output_tokens': 34, 'server_tool_use': None}`\n",
       "\n",
       "</details>"
      ],
      "text/plain": [
       "Message(id='msg_01NRp9ys88wxbuTysaZnausb', content=[TextBlock(citations=None, text=\"Hello Jeremy! It's nice to meet you. How are you doing today? Is there something I can help you with or would you like to chat?\", type='text')], model='claude-3-7-sonnet-20250219', role='assistant', stop_reason='end_turn', stop_sequence=None, type='message', usage=In: 20; Out: 34; Cache create: 0; Cache read: 0; Total Tokens: 54; Server tool use (web search requests): 0)"
      ]
     },
     "execution_count": null,
     "metadata": {},
     "output_type": "execute_result"
    }
   ],
   "source": [
    "chat(\"Hi, I'm Jeremy.\")"
   ]
  },
  {
   "cell_type": "markdown",
   "id": "4762e29d",
   "metadata": {},
   "source": [
    "Note the usage: no cache is created, nor used. Now, let's send a long enough message to trigger caching."
   ]
  },
  {
   "cell_type": "code",
   "execution_count": null,
   "id": "e870355c",
   "metadata": {},
   "outputs": [
    {
     "data": {
      "text/markdown": [
       "I notice you've sent a large amount of \"Lorem ipsum\" text, which is commonly used as placeholder or filler text in design and publishing. \n",
       "\n",
       "Is there something specific you'd like to discuss or a question you have? I'm here to help with meaningful conversation or information if you need it. If you're testing something or just curious about how I respond, feel free to let me know what you're looking for.\n",
       "\n",
       "<details>\n",
       "\n",
       "- id: `msg_01H6ovSz8T1V2rj4iynbeKvH`\n",
       "- content: `[{'citations': None, 'text': 'I notice you\\'ve sent a large amount of \"Lorem ipsum\" text, which is commonly used as placeholder or filler text in design and publishing. \\n\\nIs there something specific you\\'d like to discuss or a question you have? I\\'m here to help with meaningful conversation or information if you need it. If you\\'re testing something or just curious about how I respond, feel free to let me know what you\\'re looking for.', 'type': 'text'}]`\n",
       "- model: `claude-3-7-sonnet-20250219`\n",
       "- role: `assistant`\n",
       "- stop_reason: `end_turn`\n",
       "- stop_sequence: `None`\n",
       "- type: `message`\n",
       "- usage: `{'cache_creation_input_tokens': 1101, 'cache_read_input_tokens': 0, 'input_tokens': 4, 'output_tokens': 90, 'server_tool_use': None}`\n",
       "\n",
       "</details>"
      ],
      "text/plain": [
       "Message(id='msg_01H6ovSz8T1V2rj4iynbeKvH', content=[TextBlock(citations=None, text='I notice you\\'ve sent a large amount of \"Lorem ipsum\" text, which is commonly used as placeholder or filler text in design and publishing. \\n\\nIs there something specific you\\'d like to discuss or a question you have? I\\'m here to help with meaningful conversation or information if you need it. If you\\'re testing something or just curious about how I respond, feel free to let me know what you\\'re looking for.', type='text')], model='claude-3-7-sonnet-20250219', role='assistant', stop_reason='end_turn', stop_sequence=None, type='message', usage=In: 4; Out: 90; Cache create: 1101; Cache read: 0; Total Tokens: 1195; Server tool use (web search requests): 0)"
      ]
     },
     "execution_count": null,
     "metadata": {},
     "output_type": "execute_result"
    }
   ],
   "source": [
    "chat(\"\"\"Lorem ipsum dolor sit amet\"\"\" * 150)"
   ]
  },
  {
   "cell_type": "markdown",
   "id": "0b7a7036",
   "metadata": {},
   "source": [
    "The context is now long enough for cache to be used. All the conversation history has now been written to the temporary cache. Any subsequent message will read from it rather than re-processing the entire conversation history."
   ]
  },
  {
   "cell_type": "code",
   "execution_count": null,
   "id": "1dc2286e",
   "metadata": {},
   "outputs": [
    {
     "data": {
      "text/markdown": [
       "No problem at all! Those lorem ipsum generators can certainly get enthusiastic sometimes. It happens to the best of us! Is there something I can actually help you with today?\n",
       "\n",
       "<details>\n",
       "\n",
       "- id: `msg_01KsvSSaJjpuRst2BejF2LbT`\n",
       "- content: `[{'citations': None, 'text': 'No problem at all! Those lorem ipsum generators can certainly get enthusiastic sometimes. It happens to the best of us! Is there something I can actually help you with today?', 'type': 'text'}]`\n",
       "- model: `claude-3-7-sonnet-20250219`\n",
       "- role: `assistant`\n",
       "- stop_reason: `end_turn`\n",
       "- stop_sequence: `None`\n",
       "- type: `message`\n",
       "- usage: `{'cache_creation_input_tokens': 108, 'cache_read_input_tokens': 1101, 'input_tokens': 4, 'output_tokens': 38, 'server_tool_use': None}`\n",
       "\n",
       "</details>"
      ],
      "text/plain": [
       "Message(id='msg_01KsvSSaJjpuRst2BejF2LbT', content=[TextBlock(citations=None, text='No problem at all! Those lorem ipsum generators can certainly get enthusiastic sometimes. It happens to the best of us! Is there something I can actually help you with today?', type='text')], model='claude-3-7-sonnet-20250219', role='assistant', stop_reason='end_turn', stop_sequence=None, type='message', usage=In: 4; Out: 38; Cache create: 108; Cache read: 1101; Total Tokens: 1251; Server tool use (web search requests): 0)"
      ]
     },
     "execution_count": null,
     "metadata": {},
     "output_type": "execute_result"
    }
   ],
   "source": [
    "chat(\"Oh thank you! Sorry, my lorem ipsum generator got out of control!\")"
   ]
  },
  {
   "cell_type": "markdown",
   "id": "3d162fca",
   "metadata": {},
   "source": [
    "## Extended Thinking"
   ]
  },
  {
   "cell_type": "markdown",
   "id": "11327638",
   "metadata": {},
   "source": [
    "Claude 3.7 Sonnet has enhanced reasoning capabilities for complex tasks. See [docs](https://docs.anthropic.com/en/docs/build-with-claude/extended-thinking) for more info.\n",
    "\n",
    "We can enable extended thinking by passing a `thinking` param with the following structure.\n",
    "\n",
    "```js\n",
    "thinking={\n",
    "    \"type\": \"enabled\",\n",
    "    \"budget_tokens\": 16000\n",
    "}\n",
    "```\n",
    "\n",
    "When extended thinking is enabled a thinking block is included in the response as shown below.\n",
    "\n",
    "```js\n",
    "{\n",
    "  \"content\": [\n",
    "    {\n",
    "      \"type\": \"thinking\",\n",
    "      \"thinking\": \"To approach this, let's think about...\",\n",
    "      \"signature\": \"Imtakcjsu38219c0.eyJoYXNoIjoiYWJjM0NTY3fQ....\"\n",
    "    },\n",
    "    {\n",
    "      \"type\": \"text\",\n",
    "      \"text\": \"Yes, there are infinitely many prime numbers such that...\"\n",
    "    }\n",
    "  ]\n",
    "}\n",
    "```"
   ]
  },
  {
   "cell_type": "markdown",
   "id": "503cae9b",
   "metadata": {},
   "source": [
    "Let's add a `maxthinktok` param to the `Client` and `Chat` call methods. When this value is not 0, we'll pass a thinking param to Claude `{\"type\":\"enabled\", \"budget_tokens\":maxthinktok}`.\n",
    "\n",
    "*Note: When thinking is [enabled](https://docs.anthropic.com/en/docs/build-with-claude/extended-thinking#important-considerations-when-using-extended-thinking) `prefill` must be empty and the `temp` must be 1.*"
   ]
  },
  {
   "cell_type": "code",
   "execution_count": null,
   "id": "c399a36e",
   "metadata": {},
   "outputs": [],
   "source": [
    "#| export\n",
    "def think_md(txt, thk):\n",
    "    return f\"\"\"\n",
    "{txt}\n",
    "\n",
    "<details>\n",
    "<summary>Thinking</summary>\n",
    "{thk}\n",
    "</details>\n",
    "\"\"\""
   ]
  },
  {
   "cell_type": "code",
   "execution_count": null,
   "id": "bd68ca17",
   "metadata": {},
   "outputs": [],
   "source": [
    "def contents(r):\n",
    "    \"Helper to get the contents from Claude response `r`.\"\n",
    "    blk = find_block(r)\n",
    "    tk_blk = find_block(r, blk_type=ThinkingBlock)\n",
    "    if tk_blk: return think_md(blk.text.strip(), tk_blk.thinking.strip())\n",
    "    if not blk and r.content: blk = r.content[0]\n",
    "    if hasattr(blk,'text'): return blk.text.strip()\n",
    "    elif hasattr(blk,'content'): return blk.content.strip()\n",
    "    elif hasattr(blk,'source'): return f'*Media Type - {blk.type}*'\n",
    "    return str(blk)"
   ]
  },
  {
   "cell_type": "markdown",
   "id": "4e66607b",
   "metadata": {},
   "source": [
    "Let's call the model without extended thinking enabled. "
   ]
  },
  {
   "cell_type": "code",
   "execution_count": null,
   "id": "26b5f9c7",
   "metadata": {},
   "outputs": [],
   "source": [
    "tk_model = first(has_extended_thinking_models)"
   ]
  },
  {
   "cell_type": "code",
   "execution_count": null,
   "id": "adc3e86f",
   "metadata": {},
   "outputs": [],
   "source": [
    "chat = Chat(tk_model)"
   ]
  },
  {
   "cell_type": "code",
   "execution_count": null,
   "id": "b7911771",
   "metadata": {},
   "outputs": [
    {
     "data": {
      "text/markdown": [
       "Python is a versatile programming language known for its readable syntax and wide application in fields ranging from web development to data science and artificial intelligence.\n",
       "\n",
       "<details>\n",
       "\n",
       "- id: `msg_01S9DaYTNoo31yNh6fHZcQZc`\n",
       "- content: `[{'citations': None, 'text': 'Python is a versatile programming language known for its readable syntax and wide application in fields ranging from web development to data science and artificial intelligence.', 'type': 'text'}]`\n",
       "- model: `claude-3-7-sonnet-20250219`\n",
       "- role: `assistant`\n",
       "- stop_reason: `end_turn`\n",
       "- stop_sequence: `None`\n",
       "- type: `message`\n",
       "- usage: `{'cache_creation_input_tokens': 0, 'cache_read_input_tokens': 0, 'input_tokens': 13, 'output_tokens': 31, 'server_tool_use': None}`\n",
       "\n",
       "</details>"
      ],
      "text/plain": [
       "Message(id='msg_01S9DaYTNoo31yNh6fHZcQZc', content=[TextBlock(citations=None, text='Python is a versatile programming language known for its readable syntax and wide application in fields ranging from web development to data science and artificial intelligence.', type='text')], model='claude-3-7-sonnet-20250219', role='assistant', stop_reason='end_turn', stop_sequence=None, type='message', usage=In: 13; Out: 31; Cache create: 0; Cache read: 0; Total Tokens: 44; Server tool use (web search requests): 0)"
      ]
     },
     "execution_count": null,
     "metadata": {},
     "output_type": "execute_result"
    }
   ],
   "source": [
    "chat(\"Write a sentence about Python!\")"
   ]
  },
  {
   "cell_type": "markdown",
   "id": "e9aab9e0",
   "metadata": {},
   "source": [
    "Now, let's call the model with extended thinking enabled."
   ]
  },
  {
   "cell_type": "code",
   "execution_count": null,
   "id": "0aec5ad6",
   "metadata": {},
   "outputs": [
    {
     "data": {
      "text/markdown": [
       "\n",
       "Python is a beginner-friendly, high-level programming language with an extensive ecosystem of libraries that has become one of the most popular tools for both quick scripts and enterprise-level applications.\n",
       "\n",
       "<details>\n",
       "<summary>Thinking</summary>\n",
       "The person is asking me to write a sentence about Python again. I should provide a different sentence than before to offer variety. Let me think of another aspect of Python to highlight, such as its community, ease of learning, libraries, or another key feature that makes Python popular.\n",
       "</details>\n",
       "\n",
       "\n",
       "<details>\n",
       "\n",
       "- id: `msg_01JiyHw3dYuqgbdHqi3jNvTd`\n",
       "- content: `[{'signature': 'ErUBCkYIAxgCIkDGyn1SbTWjPjZr8XN8EIk5Y7YWiDvWZT2A4r+vxn8pzP6hNNkf2MmWpOqe5a42Ap8tlgvNDLg/98+wbkAbdLVWEgx/k1Ann3OFL7gBruwaDEyTKpSxI5/ZwVXm2CIwtZtisIvmybu3gAfvnhosRn3aChBZjl+RIBCAEs+i5BKE142qhTJM2d0XQk+JnBhWKh0/GloGOLUPWVsV/HpAFB61np8MTxhGhCCf04mhDRgC', 'thinking': 'The person is asking me to write a sentence about Python again. I should provide a different sentence than before to offer variety. Let me think of another aspect of Python to highlight, such as its community, ease of learning, libraries, or another key feature that makes Python popular.', 'type': 'thinking'}, {'citations': None, 'text': 'Python is a beginner-friendly, high-level programming language with an extensive ecosystem of libraries that has become one of the most popular tools for both quick scripts and enterprise-level applications.', 'type': 'text'}]`\n",
       "- model: `claude-3-7-sonnet-20250219`\n",
       "- role: `assistant`\n",
       "- stop_reason: `end_turn`\n",
       "- stop_sequence: `None`\n",
       "- type: `message`\n",
       "- usage: `{'cache_creation_input_tokens': 0, 'cache_read_input_tokens': 0, 'input_tokens': 81, 'output_tokens': 106, 'server_tool_use': None}`\n",
       "\n",
       "</details>"
      ],
      "text/plain": [
       "Message(id='msg_01JiyHw3dYuqgbdHqi3jNvTd', content=[ThinkingBlock(signature='ErUBCkYIAxgCIkDGyn1SbTWjPjZr8XN8EIk5Y7YWiDvWZT2A4r+vxn8pzP6hNNkf2MmWpOqe5a42Ap8tlgvNDLg/98+wbkAbdLVWEgx/k1Ann3OFL7gBruwaDEyTKpSxI5/ZwVXm2CIwtZtisIvmybu3gAfvnhosRn3aChBZjl+RIBCAEs+i5BKE142qhTJM2d0XQk+JnBhWKh0/GloGOLUPWVsV/HpAFB61np8MTxhGhCCf04mhDRgC', thinking='The person is asking me to write a sentence about Python again. I should provide a different sentence than before to offer variety. Let me think of another aspect of Python to highlight, such as its community, ease of learning, libraries, or another key feature that makes Python popular.', type='thinking'), TextBlock(citations=None, text='Python is a beginner-friendly, high-level programming language with an extensive ecosystem of libraries that has become one of the most popular tools for both quick scripts and enterprise-level applications.', type='text')], model='claude-3-7-sonnet-20250219', role='assistant', stop_reason='end_turn', stop_sequence=None, type='message', usage=In: 81; Out: 106; Cache create: 0; Cache read: 0; Total Tokens: 187; Server tool use (web search requests): 0)"
      ]
     },
     "execution_count": null,
     "metadata": {},
     "output_type": "execute_result"
    }
   ],
   "source": [
    "chat(\"Write a sentence about Python!\", maxthinktok=1024)"
   ]
  },
  {
   "cell_type": "markdown",
   "id": "67acb3f1",
   "metadata": {},
   "source": [
    "## Server Tools and Web Search"
   ]
  },
  {
   "cell_type": "markdown",
   "id": "ca3e7c2e",
   "metadata": {},
   "source": [
    "The `str_replace` special tool type is a client side tool, i.e., one where we provide the implementation. However, Anthropic also supports server side tools. The current one available is their search tool, which you can find the documentation for [here](https://docs.anthropic.com/en/docs/build-with-claude/tool-use/web-search-tool). When provided as a tool to claude, claude can decide to search the web in order to answer or solve the task at hand."
   ]
  },
  {
   "cell_type": "code",
   "execution_count": null,
   "id": "3a2abe4f",
   "metadata": {},
   "outputs": [],
   "source": [
    "#| export\n",
    "def search_conf(max_uses:int=None, allowed_domains:list=None, blocked_domains:list=None, user_location:dict=None):\n",
    "    'Little helper to create a search tool config'\n",
    "    conf = {'type': 'web_search_20250305', 'name': 'web_search'}\n",
    "    if max_uses: conf['max_uses'] = max_uses\n",
    "    if allowed_domains: conf['allowed_domains'] = allowed_domains\n",
    "    if blocked_domains: conf['blocked_domains'] = blocked_domains\n",
    "    if user_location: conf['user_location'] = user_location\n",
    "    return conf"
   ]
  },
  {
   "cell_type": "markdown",
   "id": "bf10a671",
   "metadata": {},
   "source": [
    "Similar to client side tools, you provide to the `tools` argument in the anthropic api a non-schema dictionary with the tool's name, type, and any additional metadata specific to that tool. Here's a function to make that process easier for the web search tool."
   ]
  },
  {
   "cell_type": "code",
   "execution_count": null,
   "id": "9d3aeee3",
   "metadata": {},
   "outputs": [
    {
     "data": {
      "text/plain": [
       "{'type': 'web_search_20250305', 'name': 'web_search'}"
      ]
     },
     "execution_count": null,
     "metadata": {},
     "output_type": "execute_result"
    }
   ],
   "source": [
    "search_conf()"
   ]
  },
  {
   "cell_type": "markdown",
   "id": "8214e569",
   "metadata": {},
   "source": [
    "The web search tool returns a list of `TextBlock`s comprised of response text from the model, `ServerToolUseBlock` and server tool results block such as `WebSearchToolResultBlock`. Some of these `TextBlock`s will contain citations with references to the results of the web search tool. Here is what all this looks like:\n",
    "\n",
    "```js\n",
    "{\n",
    "  \"content\": [\n",
    "    {\n",
    "      \"type\": \"text\",\n",
    "      \"text\": \"I'll check the current weather in...\",\n",
    "    },\n",
    "    {\n",
    "      \"type\": \"server_tool_use\",\n",
    "      \"name\": \"web_search\",\n",
    "      \"input\": {\"query\": \"San Diego weather forecast today May 12 2025\"},\n",
    "      \"id\":\"srvtoolu_014t7fS449voTHRCVzi5jQGC\"\n",
    "    },\n",
    "    {\n",
    "      \"type\": \"web_search_tool_result\",\n",
    "      \"tool_use_id\": \"srvtoolu_014t7fS449voTHRCVzi5jQGC\",\n",
    "      \"content\": [\n",
    "        \"type\": \"web_search_result\",\n",
    "        \"title\": \"Heat Advisory issued May 9...\",\n",
    "        \"url\": \"https://kesq.com/weather/...\",\n",
    "        \"page_age\": \"3 days ago\",\n",
    "        \"encrypted_content\": \"ErgECioIAxgCIiQ4ODk4YTFkY...\",\n",
    "        ...\n",
    "      ]\n",
    "    }\n",
    "    {\n",
    "      \"type\": \"text\",\n",
    "      \"citations\": [\n",
    "        {\n",
    "            \"cited_text\": 'The average temperature during this month...',\n",
    "            \"title\": \"Weather San Diego in May 2025:...\",\n",
    "            \"url\": \"https://en.climate-data.org/...\",\n",
    "            \"encrypted_index\": \"EpMBCioIAxgCIiQ4ODk4YTF...\"\n",
    "        }\n",
    "      ],\n",
    "      \"text\": \"The average temperature in San Diego during May is...\"\n",
    "    },\n",
    "    ...\n",
    "  ]\n",
    "}\n",
    "```\n",
    "\n",
    " Let's update our `contents` function to handle these cases. For handling citations, we will use the excellent reference syntax in markdown to make clickable citation links."
   ]
  },
  {
   "cell_type": "code",
   "execution_count": null,
   "id": "786e2e8f",
   "metadata": {},
   "outputs": [],
   "source": [
    "#| export\n",
    "def find_blocks(r, blk_type=TextBlock):\n",
    "    \"Helper to find all blocks of type `blk_type` in response `r`.\"\n",
    "    return [b for b in getattr(r, \"content\", []) if isinstance(b, blk_type)]"
   ]
  },
  {
   "cell_type": "code",
   "execution_count": null,
   "id": "babfac4e",
   "metadata": {},
   "outputs": [],
   "source": [
    "#| export\n",
    "def fmt_txt(txt_blks):\n",
    "    \"Helper to get the contents from a list of `TextBlock`s, with citations.\"\n",
    "    text_sections, citations = [], []\n",
    "    for blk in txt_blks:\n",
    "        section = blk.text\n",
    "        if blk.citations:\n",
    "            markers = []\n",
    "            for cit in blk.citations:\n",
    "                citations.append(cit)\n",
    "                markers.append(f\"[^{len(citations)}]\") # maintain global citation order\n",
    "            section = f\"{section} \" + \" \".join(markers)\n",
    "        text_sections.append(section)\n",
    "    body = \"\".join(text_sections)\n",
    "    if citations:\n",
    "        refs = \"\\n\\n\".join(f\"[^{i+1}]: {c.url}\\n\\t\\\"{c.cited_text}\\\"\" for i, c in enumerate(citations))\n",
    "        body = f\"{body}\\n\\n{refs}\" if body else refs\n",
    "    return body"
   ]
  },
  {
   "cell_type": "code",
   "execution_count": null,
   "id": "26ae307a",
   "metadata": {},
   "outputs": [],
   "source": [
    "#| export\n",
    "def contents(r):\n",
    "    \"Helper to get the contents from Claude response `r`.\"\n",
    "    blks = find_blocks(r, blk_type=TextBlock)\n",
    "    tk_blk = find_block(r, blk_type=ThinkingBlock)\n",
    "    content = None\n",
    "    if blks: content = fmt_txt(blks) # text or text with citations\n",
    "    if tk_blk: return think_md(content, tk_blk.thinking.strip()) # text with thinking\n",
    "    if not content:\n",
    "        blk = find_block(r)\n",
    "        if not blk and getattr(r, \"content\", None): blk = r.content[0]\n",
    "        if hasattr(blk, \"text\"): content = blk.text.strip()\n",
    "        elif hasattr(blk, \"content\"): content = blk.content.strip()\n",
    "        elif hasattr(blk, \"source\"): content = f\"*Media Type - {blk.type}*\"\n",
    "        else: content = str(blk)\n",
    "    return content"
   ]
  },
  {
   "cell_type": "code",
   "execution_count": null,
   "id": "37f9a207",
   "metadata": {},
   "outputs": [
    {
     "data": {
      "text/markdown": [
       "I'll check the current weather in San Diego for you.\n",
       "\n",
       "Based on the search results, here's the current weather information for San Diego:\n",
       "\n",
       "San Diego is currently experiencing \"May Gray\" after a record hot weekend, with temperatures dropping significantly. [^1] \n",
       "\n",
       "## Today's Temperature (May 13, 2025)\n",
       "Today (May 13), San Diego is expected to have a high of 66°F and a low of 56°F. [^2] In South San Diego specifically, today's high is forecasted to be 64°F with a low of 54°F. [^3]\n",
       "\n",
       "## Recent Weather Trend\n",
       "San Diego just experienced a record hot weekend, with Saturday setting record highs in multiple areas including San Diego, Vista, Chula Vista, Ramona, Alpine, Campo, Escondido, and Borrego Springs. Temperatures were 15 to 30 degrees above average during the peak heat. [^4] However, temperatures have now dropped dramatically, with readings up to 40 degrees cooler than Saturday's peak. [^5]\n",
       "\n",
       "## Current Conditions\n",
       "Today brings \"May Gray\" with limited clearing into the afternoon and the possibility of heavy mist, drizzle, or a few light showers. The best chance for light rain was overnight into this morning. [^6]\n",
       "\n",
       "The air quality in San Diego is generally acceptable for most individuals, though sensitive groups may experience minor to moderate symptoms from long-term exposure. [^7]\n",
       "\n",
       "## Wind Conditions\n",
       "Gusty winds are affecting the mountains and desert areas, with a Wind Advisory in effect until 5am Wednesday. West and southwesterly winds of 20 to 35mph with gusts of 40 to 65mph are expected, potentially causing blowing dust and dirt that may lead to poor air quality at times. [^8]\n",
       "\n",
       "## Upcoming Weather\n",
       "This weekend, another trough of low pressure will move south, bringing another significant drop in temperatures with highs 5 to nearly 20 degrees below average. There's a slight chance of showers, though it may just be marine layer drizzle. Early next week should bring sunny skies and warming temperatures. [^9]\n",
       "\n",
       "## May Weather Pattern in San Diego\n",
       "Typically in May, San Diego daytime temperatures usually reach 21°C (70°F), falling to 13°C (55°F) at night. The month normally has about 8 hours of bright sunshine each day (61% of daylight hours), and the average sea temperature is around 17°C (63°F). May usually sees about 2 days with some rain and an average monthly rainfall of 5mm. [^10]\n",
       "\n",
       "[^1]: https://www.10news.com/weather/san-diegos-weather-forecast-for-may-12-2025-drastic-drop-in-temperatures\n",
       "\t\"May Gray is back in the forecast after record heat this weekend, temperatures are expected to plummet up to 40 degrees by Tuesday!A cooling trend ramp...\"\n",
       "\n",
       "[^2]: https://www.accuweather.com/en/us/san-diego/92101/may-weather/347628\n",
       "\t\"San Diego, CA Weather Today WinterCast Local {stormName} Tracker Hourly Daily Radar MinuteCast Monthly Air Quality Health & Activities · News · Today ...\"\n",
       "\n",
       "[^3]: https://www.accuweather.com/en/us/south-san-diego/92154/may-weather/2178586\n",
       "\t\"South San Diego, CA Weather Today WinterCast Local {stormName} Tracker Hourly Daily Radar MinuteCast Monthly Air Quality Health & Activities · News · ...\"\n",
       "\n",
       "[^4]: https://www.10news.com/weather/san-diegos-weather-forecast-for-may-12-2025-drastic-drop-in-temperatures\n",
       "\t\"A cooling trend ramped up today after a record hot weekend! Saturday record highs were set in Vista, Chula Vista, Ramona, Alpine, Campo and tied in Sa...\"\n",
       "\n",
       "[^5]: https://www.10news.com/weather/san-diegos-weather-forecast-for-may-12-2025-drastic-drop-in-temperatures\n",
       "\t\"By tomorrow, temperatures will be up to 40 degrees cooler than when the heat peaked on Saturday, with temperatures topping out 5 to nearly 20 degrees ...\"\n",
       "\n",
       "[^6]: https://www.10news.com/weather/san-diegos-weather-forecast-for-may-12-2025-drastic-drop-in-temperatures\n",
       "\t\"... Tuesday will bring a return of May Gray with limited clearing into the afternoon and anything from heavy mist, drizzle to a few light showers. The...\"\n",
       "\n",
       "[^7]: https://www.accuweather.com/en/us/san-diego/92101/weather-forecast/347628\n",
       "\t\"The air quality is generally acceptable for most individuals. However, sensitive groups may experience minor to moderate symptoms from long-term expos...\"\n",
       "\n",
       "[^8]: https://www.10news.com/weather/san-diegos-weather-forecast-for-may-12-2025-drastic-drop-in-temperatures\n",
       "\t\"Gusty winds will continue to target the mountains and deserts where a Wind Advisory is in effect until 5am Wednesday. Expect west and southwesterly wi...\"\n",
       "\n",
       "[^9]: https://www.10news.com/weather/san-diegos-weather-forecast-for-may-12-2025-drastic-drop-in-temperatures\n",
       "\t\"This weekend, another trough of low pressure will dive south, bringing another big drop in temperatures with highs 5 to nearly 20 degrees below averag...\"\n",
       "\n",
       "[^10]: https://www.weather2travel.com/california/san-diego/may/\n",
       "\t\"... Daytime temperatures usually reach 21°C in San Diego in May, falling to 13°C at night. There are normally 8 hours of bright sunshine each day in S...\"\n",
       "\n",
       "<details>\n",
       "\n",
       "- id: `msg_01MCjCY6pCRtJhnMo8X82jxF`\n",
       "- content: `[{'citations': None, 'text': \"I'll check the current weather in San Diego for you.\", 'type': 'text'}, {'id': 'srvtoolu_01DJtcKEA2jHv8JG66QFZANX', 'input': {'query': 'San Diego weather today May 13 2025'}, 'name': 'web_search', 'type': 'server_tool_use'}, {'content': [{'encrypted_content': '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', 'page_age': None, 'title': 'San Diego, CA Monthly Weather | AccuWeather', 'type': 'web_search_result', 'url': 'https://www.accuweather.com/en/us/san-diego/92101/may-weather/347628'}, {'encrypted_content': 'EqADCioIAxgCIiQ4ODk4YTFkYy0yMTNkLTRhNmYtOTljYi03ZTBlNTUzZDc0NWISDDih/u49NW+RzuINEhoM7MsCZ6r9N24MT5s2IjDA3Jjg78575vn5wnANMSaJB+YkYZv6hxyk/sBcpG1KwaUbIBAzDcKCsL8lU+vvYEMqowIh0qi9uiU2i4x5aAuLZB2U8V5kOMr9CrVtU7eqxyYBF66sKZ9UDWB9qjVYxe0Xd2fvMIhvE6rSC5xunrozGAcPiRuTska7Z5dsX1VOgd0/snC7YgoE/n0yn5V3u4L5jPKzEuh9zirJRgZDnYyrMGwq7eI2NLDqKBLYn7vXknujCfvoHxrSP/v8bXXfGQkNlaexj0A6uvGCgyTDNua5vLoGtavrNiESlc1Eveh9otV+g1DpuCjKChmwUMvMGFhVnkUEmTHmgXTU3vCikTFQgpsZMVtAWzENy2/mpSQpk6f9tFipljUi1EXHXYgWyW/FgdLHTXYTLU7pWGe/V9Edd0AYMxr3HEj97VJwmbTGcplBGI1X0dY1Q2zNI5Dm+G0X14/OnDIYAw==', 'page_age': None, 'title': 'San Diego weather in May 2025 | San Diego 14 day weather', 'type': 'web_search_result', 'url': 'https://www.weather25.com/north-america/usa/california/san-diego?page=month&month=May'}, {'encrypted_content': 'EvADCioIAxgCIiQ4ODk4YTFkYy0yMTNkLTRhNmYtOTljYi03ZTBlNTUzZDc0NWISDLC4lLBlg8ZJ6je5zxoMIi1u7DEWSUrFs79CIjCm1CbpVrBwzOUg0Q1v34rxj7eN8/JcdVGmxFlZ4AvKo6Lwt+obdQ7MmS4LnxaYHzQq8wJG06RPCQ/rvdlw/qtrP7fulN4lM33rq84wBJm/QtWIrTTbVBz7iDbAtGUfa1dqh+ksSp3OVwFyOHUWmmbmJ+n4qHKU6XLSkMYn0ehcGXZf8nKlmloDu80GixhkneGUytsJUAYzdNxLys1JQzn68lt7bkny1fImjD/ebItEoJ/vmJhhmn6qjUMiC70Jk2Rih56MAoLEnQyKGmnUYBwTe6ljgJG1Dj9+FHw7/pCF3JE31XEM76RjFnjDFph31PbvyQJoxHZQzsMdYT8GoH+1gAkKN7y52/mfvqua/Fk/miBo+Mh9zXTVioFGdE7PGm+MnOL6pWduquHAHtotblI9MEJd2LCeIC3+WytGpYSRPkwgOVgyRGvnJ0WaPfmYb++RjcSLRCGKj9dU0EyybwF7fAun2lC/0JeDDb/fwvK97i4L42EE9qIMbThY87b5V9HNemWrfrWANlhKtIAl8Z12yWyQDAfnSFa92trQgoIUQdv/jfK/0RgD', 'page_age': None, 'title': 'Weather in San Diego in May 2025 (California) - detailed Weather Forecast for a month', 'type': 'web_search_result', 'url': 'https://world-weather.info/forecast/usa/san_diego/may-2025/'}, {'encrypted_content': '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', 'page_age': None, 'title': 'Weather San Diego in May 2025: Temperature & Climate', 'type': 'web_search_result', 'url': 'https://en.climate-data.org/north-america/united-states-of-america/california/san-diego-714969/t/may-5/'}, {'encrypted_content': 'EqsDCioIAxgCIiQ4ODk4YTFkYy0yMTNkLTRhNmYtOTljYi03ZTBlNTUzZDc0NWISDHxmEj2OzAIHTKYY4xoMQnGvVLlaPx8R7GFLIjB31Dd9OPLPrN+57nk7d7ZRXIQ66nt0Tsti+roqrmSSg2UsZDmQsUKTG0H3QVOcSRgqrgKHEX6nxAkbMv1UVMj5FYrqNNHEyn8PztrsydHahaL6zHz231SS/17lNcb7w7umc1l7JNa2lwBorUgqarqjPjMdUi3CbzeVEBTJfOB6+IdYUGJqAoEb5P8DlkivLoVlDzSrP/u3fxW4mHsUcOJWsMqxhyfyftQ4Yjs4SL6QND+By9zfuLG9nfTb/nO4/PxnteBljeEK1iCKqtQ5bBgJEs/CKyCONnAqUIH0D/7v6YS4zAxonk1FNH7+A9L4r4NkdRCFHZFLbrpXDX9e5RHONZiE4Eb8wBe/KC0UhAKG6K+ad9SYRsDilIJbkib9C8hm8jjmxpIbGmp7EILM7IOG3R0osUZo66Lepgfb7tu7BktJaTvNqFvagdX/KEnTZ/fkaZ0FGltkQVIoaRsxmxe9ABgD', 'page_age': None, 'title': '60-Day Extended Weather Forecast for San Diego, CA | Almanac.com', 'type': 'web_search_result', 'url': 'https://www.almanac.com/weather/longrange/CA/San%20Diego'}, {'encrypted_content': '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', 'page_age': None, 'title': 'South San Diego, CA Monthly Weather | AccuWeather', 'type': 'web_search_result', 'url': 'https://www.accuweather.com/en/us/south-san-diego/92154/may-weather/2178586'}, {'encrypted_content': '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', 'page_age': '2 weeks ago', 'title': 'Weather in San Diego County in May 2025 - Detailed Forecast', 'type': 'web_search_result', 'url': 'https://www.easeweather.com/north-america/united-states/california/san-diego-county/may'}, {'encrypted_content': 'ErQLCioIAxgCIiQ4ODk4YTFkYy0yMTNkLTRhNmYtOTljYi03ZTBlNTUzZDc0NWISDJpFCTSVt3OdZLV1ihoM/Uvq7UQ9TlsPYQmJIjCNGF9EaDF7xv86uA3r14460uLsVxFcdWXAEFWKBXFB2Q8assd6wr7wnb2+TqDHLloqtwqCkLe2lRxRNlhVB6Id5umRwTdEM4brBTQogabskl41zt0z223966rzccB03NAEbq41KoxB17I7f8AbuB04H5wCOj9FCKCbmfMZPDoC1js8bM/+4ggTWsfEmfTKO5PCZAaQJTuyhARunolF7k7qPbrOn2RC+sSc61qLIIuWdAP2/fMx8CTjWefVzfkpet1tnI/cLe+nxOJAhmdoDqgNgMiKHLIUQVudHq6cBQF8puUH2sngwuS5f3Ft9sbzHuxfNAK/5H/5uygf3glHZVgkkwAz0TR2+ZY+j6bBhDjdF0ZbUCuHDHX1jUn+PMp55mvccUPfHxEjbH4Y7sbpunSgYPNsKMhLRe1LPn4wjNht7DnMN0GaL0MgUUpxjIY0Im1jpUA2+EpvP9JR7vED99WH0aVzsOwpPtUtIejV4tivWIkSg1lKefefIo1pFfJ0wF9lLu9qpOL7S+ExJWlSyr2hzdeUho0doXPh5P1owW2qcf3qb2npq8aKJUjTYTontaQP29gb1CsuRL6SgHJYFaddyvtvvy/0+/GStnue0/vn/rvWB3iGfymGXCSUXtSw33waFjg6bzi0nIgwKaV3GdQG3Ax89Cvk35xpIGyS5eXHfkjxiy2RLAJjZ0i1LRmllhAgxrNqnqO56IimUbvrLDtX08khtH6GOx55pJC8MlcWp2TDB6mld8W7xdxe0rd4CQST0t14eEDRWQe21cSUrM+ndrnAVSZ4FgEAYUKenGV3psM3PqD9g1RqaWgbOwPJOMU8sanWA4hUtW4d7JaBVSODMXxGi5FEn6MgabPthRSVxPcAPti06iRa4uOabvod2MrX1x6erxoK2cITjk//5rskQuCX06M71O8T4yexg3USoduryGz/AE6YFKutkT1WXnBSCAANS3fW+uASlq1+4GMqjADtqcdS6KODTLkntFVD9IsP3hoc+eDez6oOrwH5Ybxivxeq05HUpe6MvfrAQwTNrwAh+wZOlWmhLmgueka1xgl8wjg0ecjd/M4CxtjMwh3FpqcuasYARPShF1hkltT82vZXKjsqW51pwg70yNKxaX9wUR6eOglW94LUywUBTiBUbNKGVemYaH2znej1eYGjfYuWNV5fThJYtfxHWm4YgFBdDGfv5BvOpuHQYLzhWOjbwuJt3x6VKETvXeE+6va0pwif6uXMFs0Y3C0LDEN/kl4hEBDo8l57z+FplRfow/5UWMo+locsi+dktvKaK1RIAy3CAmRpM+0VoIrOJoPTZamkVAVvHqEgWbjoZkU/U4uGCF1e2bd8Jgjm4As/+TrKBdIhmq9dSLG5hoswxUoIaiycXHX5upqgKwgnhrgZrN/l/Z/u+zabXjV8N+EL2quZRXBakzEniiNuYWNjtWtILKI4NRI4DVc/9zSukINFoo3hsMGQGP/Zzfu1TwQhWBCC+RvmKNn2kiraT4NkN9sgHPCr6UpSxqk4yMpiJckZvHTyDn87IBxFZFVq1e2ZH5Oaji0Kw5zgDsaMCbKEPipKmM16VMP/vgGCXvk56dyM/TRZj/Hc1ENpQ+3Z8T3dAr/CCPznh1VoYTns2s2/XMhP+gMlEHJ6ubxO0aZefVcgjt9DGEtSAIfSQDSOOyWkV6+GfxstYxdXQZlsTT4DWBFSyffsq+YO3je+cGk4GjGa/hrdJVa2qcjclKvQd9BjlaQfiKtHOAnfLNu6wlBPpJz6MZl6wjSYDetpycXXY6GUAeDrhgTYBdyoRDEH7Qps3Z/b/RmBxOlTwbfSWn8dkiXONY2zAizZ1nKLAaMYAw==', 'page_age': None, 'title': 'San Diego, CA Weather Forecast | AccuWeather', 'type': 'web_search_result', 'url': 'https://www.accuweather.com/en/us/san-diego/92101/weather-forecast/347628'}, {'encrypted_content': 'Es0LCioIAxgCIiQ4ODk4YTFkYy0yMTNkLTRhNmYtOTljYi03ZTBlNTUzZDc0NWISDDhXeqem/vJeFtDIehoMZr8g4uxaLVBeFJ1FIjCvIp06rUASzZOk37/70XJ8a1/VFoUqruOb1bdRryuuUgMZcCMyHOLhW4227ebj+yIq0AopL+YP3Tc4KLxYfiPDZhFe713O1PLHwA7SyR9QX/msM8ORsRIzpgkOZtOm+06HrmszC9Mu394mkM1mDhpblocFBh2mCg2Ld+Sv2qQLVDQfSD2BlzjGHiMyJW/yPoIysWSQVXeWxdmtSC2idhUAYUv0gJM5ynuTK4nzRRTbdRAJSkrdQoOuSKpyUr/xTgXbVhwj2dmA7CCFJ8qXpVDJFvfaLmzRaEXnZDUrLzBoqGHsle8qAX7uMJ9nF/iHmZP7Yr7O5BnKTSRh6SG8XoTb2civbFmpRA9qxfSKezOKCFw3IcUJdBXPnjQozNhM94EnY0/yqg6ukLWK0vazeNoBpu7SHI3vjSKX7Jh094241rxOY5Kz+wTIIAn00YbrQHzzWtUxhEeySNT73KcJXjUVB68SadIHlzlbUflcONIdNifraJYXNgJOmyqC5jkyutXj4r45adZVsvAWBLCIx72rwq+RoeWHzmxNXz6V59+uVB5h2iR5i7f86yWm1Hbrcp67JMqXhX1GCCtEc3RKwLX0p1c5JEMevi3CkyjGhMX7n+PkhfJ19oJqBGqrPcmo/KrYwdN6+bDPSUsVOpZb4NSIwXz5rXDE4yDzDDmdC+ipl2ZrRPURTNTe//RIbBhIOpb0PKwPC2sMVPD7tGNBpS57G7oYObMCR0H1p9UCcfJ95aNYobayY7kalybobSUXTzSiLUqx1alneUXdN1RRtZ24qGj+TFw0656+iDE5O7DFZxKYIWrDxG07lc0tcLtUjzJzbwhluQ2KnJ0Sfj7r8F14uOZ5OURFmI26KDfJy3KSnMHeMTv/ER2RLCsv16oswIMGVNq8xX6JxVsWKFGVgtQzblZbc9SXN6doPMY660D4ZRPm2oRd3uFrEQtB8uqo7QMgLOTSomjxo5IcGZxRrAN7ZhrcTirYvn5FdYDZ+2fL87LwKSU1GB9b+ZgNP4rPiFV0GFKC+iD9ml5eHr3ndZVUyD6ntUbS6hnH2zb3U2kuAgcv8E5I0BGQAviZHF8mUBfZ1h2NK2q7Sch76VICsgQFNzPNC5XBiEKwLVRV847eSLzsBSYO1uqbU5MTVn6pQBwLy5i3sWgleTnsPYMF5lMlW3BhFw9yjRkVejKptj8p/MIRoAqGOjq7KXKlqsknrwOtwKFWrdOZ0ekbM7bD+MwC4nctStG+ImONFTiYlGzJinGzXoQp4P3xJRhet1llPPdnaUoQiUBw055nxgmJ9oue2w1BXxZ2TvBLKiuVqFsKwklJ0L6+2uBqCCy5DvvbLcdR2wnH7qz/9N8kjBTCDJ0ncTVMyy5kshZa+31yz4eJPy7TreMIDtLkNk4SrfCfsFDnUUAUaG8ebiRQknvtJumgtEZtdg/HaPScHdzh60V1dz4s5Z0JfEHI1dqix664a0H5OSo18vgfgQIRWqCyo+JfYzHWH3n5QgOfNhluEZBmh2mo6IZd1GgFe+gwDAbrCMktLPlGsVx/SzO9k4TAbhWdjNmjkfqalqVF+6XX/i2oeZmWhU8r/BpcXqj8hPCkXhy65GyVIFwqsvwpgkwFrgXkNV+kTEsjrW8f0TJIcguPT+oJ6dileqp9CPFewaCt1eK1arh/piSarax4197/gS1yWD8CW7197XVyXCPHU7HhQYFtVFIP2VWs2evL6hZVxTkibJM/fZOmKKtqLWElpxrVOcRUvjIfJ1d++A0TL3M0JmfGkz2hBfVBqOAaccNSf5FSK8bthIYkWQyp7TTnJNXRveaP9PJJr8DHnsotS89TaBWQZyN1TMhHHm5V6sirrKs0HFcVeT4hsCbBqfdZI14Tu4tVGAM=', 'page_age': None, 'title': 'San Diego weather in May 2025 | California, USA', 'type': 'web_search_result', 'url': 'https://www.weather2travel.com/california/san-diego/may/'}, {'encrypted_content': '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', 'page_age': '16 hours ago', 'title': \"San Diego's Weather Forecast for May 12, 2025: Drastic drop in temperatures!\", 'type': 'web_search_result', 'url': 'https://www.10news.com/weather/san-diegos-weather-forecast-for-may-12-2025-drastic-drop-in-temperatures'}], 'tool_use_id': 'srvtoolu_01DJtcKEA2jHv8JG66QFZANX', 'type': 'web_search_tool_result'}, {'citations': None, 'text': \"\\n\\nBased on the search results, here's the current weather information for San Diego:\\n\\n\", 'type': 'text'}, {'citations': [{'cited_text': 'May Gray is back in the forecast after record heat this weekend, temperatures are expected to plummet up to 40 degrees by Tuesday!A cooling trend ramp...', 'encrypted_index': 'EpIBCioIAxgCIiQ4ODk4YTFkYy0yMTNkLTRhNmYtOTljYi03ZTBlNTUzZDc0NWISDAXRwxhlzw5g1neOURoMw2FW8WP0VZHFMb7QIjA7uEHfDPb6aPwtiTORaKBehMehZcWabtsPgENHiDQ+8OeVLlsIU/GOIX+kAU+nSOkqFo4wjdTULDTSarZR2xFIpZPJ5zROFJMYBA==', 'title': \"San Diego's Weather Forecast for May 12, 2025: Drastic drop in temperatures!\", 'type': 'web_search_result_location', 'url': 'https://www.10news.com/weather/san-diegos-weather-forecast-for-may-12-2025-drastic-drop-in-temperatures'}], 'text': 'San Diego is currently experiencing \"May Gray\" after a record hot weekend, with temperatures dropping significantly.', 'type': 'text'}, {'citations': None, 'text': \" \\n\\n## Today's Temperature (May 13, 2025)\\n\", 'type': 'text'}, {'citations': [{'cited_text': 'San Diego, CA Weather Today WinterCast Local {stormName} Tracker Hourly Daily Radar MinuteCast Monthly Air Quality Health & Activities · News · Today ...', 'encrypted_index': 'Eo8BCioIAxgCIiQ4ODk4YTFkYy0yMTNkLTRhNmYtOTljYi03ZTBlNTUzZDc0NWISDL3ARZscHD6tyrZAMBoM96NU7X5nDNH7IwxQIjCT6k1ZnjKpRx1/V1gOVFFn4RLB3Rhzi1XHhK5PSQmiZCju8hUizqIqiq667+YXMqQqE6eqV6gMd7i2G+ET8GzEwVr+1zgYBA==', 'title': 'San Diego, CA Monthly Weather | AccuWeather', 'type': 'web_search_result_location', 'url': 'https://www.accuweather.com/en/us/san-diego/92101/may-weather/347628'}], 'text': 'Today (May 13), San Diego is expected to have a high of 66°F and a low of 56°F.', 'type': 'text'}, {'citations': None, 'text': ' ', 'type': 'text'}, {'citations': [{'cited_text': 'South San Diego, CA Weather Today WinterCast Local {stormName} Tracker Hourly Daily Radar MinuteCast Monthly Air Quality Health & Activities · News · ...', 'encrypted_index': 'Eo8BCioIAxgCIiQ4ODk4YTFkYy0yMTNkLTRhNmYtOTljYi03ZTBlNTUzZDc0NWISDElr0jAqUeYTJZYlFBoM7tJ+pdIRDppIKJaGIjDPgmL/DdphYctxsEpUFOkMaxpljejni7Ouj2PvrClmDCIU+OuxfyfhjAlT0OmsBEcqE+5xHV2GIpRPb0YnD/4EeR3mzlkYBA==', 'title': 'South San Diego, CA Monthly Weather | AccuWeather', 'type': 'web_search_result_location', 'url': 'https://www.accuweather.com/en/us/south-san-diego/92154/may-weather/2178586'}], 'text': \"In South San Diego specifically, today's high is forecasted to be 64°F with a low of 54°F.\", 'type': 'text'}, {'citations': None, 'text': '\\n\\n## Recent Weather Trend\\n', 'type': 'text'}, {'citations': [{'cited_text': 'A cooling trend ramped up today after a record hot weekend! Saturday record highs were set in Vista, Chula Vista, Ramona, Alpine, Campo and tied in Sa...', 'encrypted_index': 'EpIBCioIAxgCIiQ4ODk4YTFkYy0yMTNkLTRhNmYtOTljYi03ZTBlNTUzZDc0NWISDBRMlsomfIpHauUJYhoMisDeYR8VuD/Mi0juIjAsLYjrj70JFubkBOtShLGMa444w9H+Wwff0eSuSZhEmRaFoZ8W2fxWU89pEVVO8WYqFiMbYLhkberDVTPfTbhqAPa4fGZueNUYBA==', 'title': \"San Diego's Weather Forecast for May 12, 2025: Drastic drop in temperatures!\", 'type': 'web_search_result_location', 'url': 'https://www.10news.com/weather/san-diegos-weather-forecast-for-may-12-2025-drastic-drop-in-temperatures'}], 'text': 'San Diego just experienced a record hot weekend, with Saturday setting record highs in multiple areas including San Diego, Vista, Chula Vista, Ramona, Alpine, Campo, Escondido, and Borrego Springs. Temperatures were 15 to 30 degrees above average during the peak heat.', 'type': 'text'}, {'citations': None, 'text': ' ', 'type': 'text'}, {'citations': [{'cited_text': 'By tomorrow, temperatures will be up to 40 degrees cooler than when the heat peaked on Saturday, with temperatures topping out 5 to nearly 20 degrees ...', 'encrypted_index': 'EpABCioIAxgCIiQ4ODk4YTFkYy0yMTNkLTRhNmYtOTljYi03ZTBlNTUzZDc0NWISDBw7bdBAd+ho+HEs9RoMJSwQI65izfW5VKeCIjB1jqWp5Yupy39Qie6zLiiWqZlrb81+KWtghxwQs0EucmOI2eJzAq2XFqq12TEmRXsqFNtbtAx+rM62gEMq2/JBJId0vP5aGAQ=', 'title': \"San Diego's Weather Forecast for May 12, 2025: Drastic drop in temperatures!\", 'type': 'web_search_result_location', 'url': 'https://www.10news.com/weather/san-diegos-weather-forecast-for-may-12-2025-drastic-drop-in-temperatures'}], 'text': \"However, temperatures have now dropped dramatically, with readings up to 40 degrees cooler than Saturday's peak.\", 'type': 'text'}, {'citations': None, 'text': '\\n\\n## Current Conditions\\n', 'type': 'text'}, {'citations': [{'cited_text': '... Tuesday will bring a return of May Gray with limited clearing into the afternoon and anything from heavy mist, drizzle to a few light showers. The...', 'encrypted_index': 'EpIBCioIAxgCIiQ4ODk4YTFkYy0yMTNkLTRhNmYtOTljYi03ZTBlNTUzZDc0NWISDKnDW1yOaoUK72awNBoM4HZjeOYvbVQ8DAMlIjCs1bvB93ql0wuAFbyBTLUTSQOPUvmNdHXNeqbS9m2yFFh5CPrT05z61Q+ouv+5EZgqFou9kWRmcaxPgk0mdvlWbR1EnmPx8mYYBA==', 'title': \"San Diego's Weather Forecast for May 12, 2025: Drastic drop in temperatures!\", 'type': 'web_search_result_location', 'url': 'https://www.10news.com/weather/san-diegos-weather-forecast-for-may-12-2025-drastic-drop-in-temperatures'}], 'text': 'Today brings \"May Gray\" with limited clearing into the afternoon and the possibility of heavy mist, drizzle, or a few light showers. The best chance for light rain was overnight into this morning.', 'type': 'text'}, {'citations': None, 'text': '\\n\\n', 'type': 'text'}, {'citations': [{'cited_text': 'The air quality is generally acceptable for most individuals. However, sensitive groups may experience minor to moderate symptoms from long-term expos...', 'encrypted_index': 'EpEBCioIAxgCIiQ4ODk4YTFkYy0yMTNkLTRhNmYtOTljYi03ZTBlNTUzZDc0NWISDBh3Cj/Oz3R8pmgfNRoMfvK3slgWq7L9FjQlIjBlJDCe0LBDTbrkBmLEiHmt8iNatcvqDlaNHBg6SVEZoFEiXR85H0iU41gUM4D5TfsqFeUKkWHfKQAYnwTk+NljQFZN/hjeKBgE', 'title': 'San Diego, CA Weather Forecast | AccuWeather', 'type': 'web_search_result_location', 'url': 'https://www.accuweather.com/en/us/san-diego/92101/weather-forecast/347628'}], 'text': 'The air quality in San Diego is generally acceptable for most individuals, though sensitive groups may experience minor to moderate symptoms from long-term exposure.', 'type': 'text'}, {'citations': None, 'text': '\\n\\n## Wind Conditions\\n', 'type': 'text'}, {'citations': [{'cited_text': 'Gusty winds will continue to target the mountains and deserts where a Wind Advisory is in effect until 5am Wednesday. Expect west and southwesterly wi...', 'encrypted_index': 'EpQBCioIAxgCIiQ4ODk4YTFkYy0yMTNkLTRhNmYtOTljYi03ZTBlNTUzZDc0NWISDNidz3v3u4sPh0GNdRoM0jY/Bag0c1mBUuFaIjBRQ5w0pRUe0DuDPZYo/ZTlX3n5NkxzXftWGSOw4dQ0jtGqfDGXA03vOaxBCA0Nx9sqGIvVOZwV7PfTShqpwloz8h7mdLg3QUKZrxgE', 'title': \"San Diego's Weather Forecast for May 12, 2025: Drastic drop in temperatures!\", 'type': 'web_search_result_location', 'url': 'https://www.10news.com/weather/san-diegos-weather-forecast-for-may-12-2025-drastic-drop-in-temperatures'}], 'text': 'Gusty winds are affecting the mountains and desert areas, with a Wind Advisory in effect until 5am Wednesday. West and southwesterly winds of 20 to 35mph with gusts of 40 to 65mph are expected, potentially causing blowing dust and dirt that may lead to poor air quality at times.', 'type': 'text'}, {'citations': None, 'text': '\\n\\n## Upcoming Weather\\n', 'type': 'text'}, {'citations': [{'cited_text': 'This weekend, another trough of low pressure will dive south, bringing another big drop in temperatures with highs 5 to nearly 20 degrees below averag...', 'encrypted_index': 'EpQBCioIAxgCIiQ4ODk4YTFkYy0yMTNkLTRhNmYtOTljYi03ZTBlNTUzZDc0NWISDPRW7feP4pGP9uZIKxoM+HTtnusjUh+XSOaRIjBQ/xqkgoVa/RH0Ycfo56qmTfCJDqaT9DrEaO3xv9Viz+KSjTgzIKjh4ltqLcOkpQcqGKZRnMVm1ljUGoniY4jsBBZV3n9wT9j8qRgE', 'title': \"San Diego's Weather Forecast for May 12, 2025: Drastic drop in temperatures!\", 'type': 'web_search_result_location', 'url': 'https://www.10news.com/weather/san-diegos-weather-forecast-for-may-12-2025-drastic-drop-in-temperatures'}], 'text': \"This weekend, another trough of low pressure will move south, bringing another significant drop in temperatures with highs 5 to nearly 20 degrees below average. There's a slight chance of showers, though it may just be marine layer drizzle. Early next week should bring sunny skies and warming temperatures.\", 'type': 'text'}, {'citations': None, 'text': '\\n\\n## May Weather Pattern in San Diego\\n', 'type': 'text'}, {'citations': [{'cited_text': '... Daytime temperatures usually reach 21°C in San Diego in May, falling to 13°C at night. There are normally 8 hours of bright sunshine each day in S...', 'encrypted_index': 'EpIBCioIAxgCIiQ4ODk4YTFkYy0yMTNkLTRhNmYtOTljYi03ZTBlNTUzZDc0NWISDEU7TAb8DMTtcDiiwhoMHJqXENn0TVYa93bcIjAHfGteHFopny3tCnnHYcpuBufl4R5hoWmp1aQrGbBL2Vt3QSLwPDv7kEuuDcgYULcqFuIH3k/46M3aL6Cg8UrJ6kldWiJRJMwYBA==', 'title': 'San Diego weather in May 2025 | California, USA', 'type': 'web_search_result_location', 'url': 'https://www.weather2travel.com/california/san-diego/may/'}], 'text': 'Typically in May, San Diego daytime temperatures usually reach 21°C (70°F), falling to 13°C (55°F) at night. The month normally has about 8 hours of bright sunshine each day (61% of daylight hours), and the average sea temperature is around 17°C (63°F). May usually sees about 2 days with some rain and an average monthly rainfall of 5mm.', 'type': 'text'}]`\n",
       "- model: `claude-3-7-sonnet-20250219`\n",
       "- role: `assistant`\n",
       "- stop_reason: `end_turn`\n",
       "- stop_sequence: `None`\n",
       "- type: `message`\n",
       "- usage: `{'cache_creation_input_tokens': 9184, 'cache_read_input_tokens': 2687, 'input_tokens': 11, 'output_tokens': 819, 'server_tool_use': {'web_search_requests': 1}}`\n",
       "\n",
       "</details>"
      ],
      "text/plain": [
       "Message(id='msg_01MCjCY6pCRtJhnMo8X82jxF', content=[I'll check the current weather in San Diego for you., ServerToolUseBlock(id='srvtoolu_01DJtcKEA2jHv8JG66QFZANX', input={'query': 'San Diego weather today May 13 2025'}, name='web_search', type='server_tool_use'), WebSearchToolResultBlock(content=[WebSearchResultBlock(encrypted_content='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', page_age=None, title='San Diego, CA Monthly Weather | AccuWeather', type='web_search_result', url='https://www.accuweather.com/en/us/san-diego/92101/may-weather/347628'), WebSearchResultBlock(encrypted_content='EqADCioIAxgCIiQ4ODk4YTFkYy0yMTNkLTRhNmYtOTljYi03ZTBlNTUzZDc0NWISDDih/u49NW+RzuINEhoM7MsCZ6r9N24MT5s2IjDA3Jjg78575vn5wnANMSaJB+YkYZv6hxyk/sBcpG1KwaUbIBAzDcKCsL8lU+vvYEMqowIh0qi9uiU2i4x5aAuLZB2U8V5kOMr9CrVtU7eqxyYBF66sKZ9UDWB9qjVYxe0Xd2fvMIhvE6rSC5xunrozGAcPiRuTska7Z5dsX1VOgd0/snC7YgoE/n0yn5V3u4L5jPKzEuh9zirJRgZDnYyrMGwq7eI2NLDqKBLYn7vXknujCfvoHxrSP/v8bXXfGQkNlaexj0A6uvGCgyTDNua5vLoGtavrNiESlc1Eveh9otV+g1DpuCjKChmwUMvMGFhVnkUEmTHmgXTU3vCikTFQgpsZMVtAWzENy2/mpSQpk6f9tFipljUi1EXHXYgWyW/FgdLHTXYTLU7pWGe/V9Edd0AYMxr3HEj97VJwmbTGcplBGI1X0dY1Q2zNI5Dm+G0X14/OnDIYAw==', page_age=None, title='San Diego weather in May 2025 | San Diego 14 day weather', type='web_search_result', url='https://www.weather25.com/north-america/usa/california/san-diego?page=month&month=May'), WebSearchResultBlock(encrypted_content='EvADCioIAxgCIiQ4ODk4YTFkYy0yMTNkLTRhNmYtOTljYi03ZTBlNTUzZDc0NWISDLC4lLBlg8ZJ6je5zxoMIi1u7DEWSUrFs79CIjCm1CbpVrBwzOUg0Q1v34rxj7eN8/JcdVGmxFlZ4AvKo6Lwt+obdQ7MmS4LnxaYHzQq8wJG06RPCQ/rvdlw/qtrP7fulN4lM33rq84wBJm/QtWIrTTbVBz7iDbAtGUfa1dqh+ksSp3OVwFyOHUWmmbmJ+n4qHKU6XLSkMYn0ehcGXZf8nKlmloDu80GixhkneGUytsJUAYzdNxLys1JQzn68lt7bkny1fImjD/ebItEoJ/vmJhhmn6qjUMiC70Jk2Rih56MAoLEnQyKGmnUYBwTe6ljgJG1Dj9+FHw7/pCF3JE31XEM76RjFnjDFph31PbvyQJoxHZQzsMdYT8GoH+1gAkKN7y52/mfvqua/Fk/miBo+Mh9zXTVioFGdE7PGm+MnOL6pWduquHAHtotblI9MEJd2LCeIC3+WytGpYSRPkwgOVgyRGvnJ0WaPfmYb++RjcSLRCGKj9dU0EyybwF7fAun2lC/0JeDDb/fwvK97i4L42EE9qIMbThY87b5V9HNemWrfrWANlhKtIAl8Z12yWyQDAfnSFa92trQgoIUQdv/jfK/0RgD', page_age=None, title='Weather in San Diego in May 2025 (California) - detailed Weather Forecast for a month', type='web_search_result', url='https://world-weather.info/forecast/usa/san_diego/may-2025/'), WebSearchResultBlock(encrypted_content='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', page_age=None, title='Weather San Diego in May 2025: Temperature & Climate', type='web_search_result', url='https://en.climate-data.org/north-america/united-states-of-america/california/san-diego-714969/t/may-5/'), WebSearchResultBlock(encrypted_content='EqsDCioIAxgCIiQ4ODk4YTFkYy0yMTNkLTRhNmYtOTljYi03ZTBlNTUzZDc0NWISDHxmEj2OzAIHTKYY4xoMQnGvVLlaPx8R7GFLIjB31Dd9OPLPrN+57nk7d7ZRXIQ66nt0Tsti+roqrmSSg2UsZDmQsUKTG0H3QVOcSRgqrgKHEX6nxAkbMv1UVMj5FYrqNNHEyn8PztrsydHahaL6zHz231SS/17lNcb7w7umc1l7JNa2lwBorUgqarqjPjMdUi3CbzeVEBTJfOB6+IdYUGJqAoEb5P8DlkivLoVlDzSrP/u3fxW4mHsUcOJWsMqxhyfyftQ4Yjs4SL6QND+By9zfuLG9nfTb/nO4/PxnteBljeEK1iCKqtQ5bBgJEs/CKyCONnAqUIH0D/7v6YS4zAxonk1FNH7+A9L4r4NkdRCFHZFLbrpXDX9e5RHONZiE4Eb8wBe/KC0UhAKG6K+ad9SYRsDilIJbkib9C8hm8jjmxpIbGmp7EILM7IOG3R0osUZo66Lepgfb7tu7BktJaTvNqFvagdX/KEnTZ/fkaZ0FGltkQVIoaRsxmxe9ABgD', page_age=None, title='60-Day Extended Weather Forecast for San Diego, CA | Almanac.com', type='web_search_result', url='https://www.almanac.com/weather/longrange/CA/San%20Diego'), WebSearchResultBlock(encrypted_content='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', page_age=None, title='South San Diego, CA Monthly Weather | AccuWeather', type='web_search_result', url='https://www.accuweather.com/en/us/south-san-diego/92154/may-weather/2178586'), WebSearchResultBlock(encrypted_content='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', page_age='2 weeks ago', title='Weather in San Diego County in May 2025 - Detailed Forecast', type='web_search_result', url='https://www.easeweather.com/north-america/united-states/california/san-diego-county/may'), WebSearchResultBlock(encrypted_content='ErQLCioIAxgCIiQ4ODk4YTFkYy0yMTNkLTRhNmYtOTljYi03ZTBlNTUzZDc0NWISDJpFCTSVt3OdZLV1ihoM/Uvq7UQ9TlsPYQmJIjCNGF9EaDF7xv86uA3r14460uLsVxFcdWXAEFWKBXFB2Q8assd6wr7wnb2+TqDHLloqtwqCkLe2lRxRNlhVB6Id5umRwTdEM4brBTQogabskl41zt0z223966rzccB03NAEbq41KoxB17I7f8AbuB04H5wCOj9FCKCbmfMZPDoC1js8bM/+4ggTWsfEmfTKO5PCZAaQJTuyhARunolF7k7qPbrOn2RC+sSc61qLIIuWdAP2/fMx8CTjWefVzfkpet1tnI/cLe+nxOJAhmdoDqgNgMiKHLIUQVudHq6cBQF8puUH2sngwuS5f3Ft9sbzHuxfNAK/5H/5uygf3glHZVgkkwAz0TR2+ZY+j6bBhDjdF0ZbUCuHDHX1jUn+PMp55mvccUPfHxEjbH4Y7sbpunSgYPNsKMhLRe1LPn4wjNht7DnMN0GaL0MgUUpxjIY0Im1jpUA2+EpvP9JR7vED99WH0aVzsOwpPtUtIejV4tivWIkSg1lKefefIo1pFfJ0wF9lLu9qpOL7S+ExJWlSyr2hzdeUho0doXPh5P1owW2qcf3qb2npq8aKJUjTYTontaQP29gb1CsuRL6SgHJYFaddyvtvvy/0+/GStnue0/vn/rvWB3iGfymGXCSUXtSw33waFjg6bzi0nIgwKaV3GdQG3Ax89Cvk35xpIGyS5eXHfkjxiy2RLAJjZ0i1LRmllhAgxrNqnqO56IimUbvrLDtX08khtH6GOx55pJC8MlcWp2TDB6mld8W7xdxe0rd4CQST0t14eEDRWQe21cSUrM+ndrnAVSZ4FgEAYUKenGV3psM3PqD9g1RqaWgbOwPJOMU8sanWA4hUtW4d7JaBVSODMXxGi5FEn6MgabPthRSVxPcAPti06iRa4uOabvod2MrX1x6erxoK2cITjk//5rskQuCX06M71O8T4yexg3USoduryGz/AE6YFKutkT1WXnBSCAANS3fW+uASlq1+4GMqjADtqcdS6KODTLkntFVD9IsP3hoc+eDez6oOrwH5Ybxivxeq05HUpe6MvfrAQwTNrwAh+wZOlWmhLmgueka1xgl8wjg0ecjd/M4CxtjMwh3FpqcuasYARPShF1hkltT82vZXKjsqW51pwg70yNKxaX9wUR6eOglW94LUywUBTiBUbNKGVemYaH2znej1eYGjfYuWNV5fThJYtfxHWm4YgFBdDGfv5BvOpuHQYLzhWOjbwuJt3x6VKETvXeE+6va0pwif6uXMFs0Y3C0LDEN/kl4hEBDo8l57z+FplRfow/5UWMo+locsi+dktvKaK1RIAy3CAmRpM+0VoIrOJoPTZamkVAVvHqEgWbjoZkU/U4uGCF1e2bd8Jgjm4As/+TrKBdIhmq9dSLG5hoswxUoIaiycXHX5upqgKwgnhrgZrN/l/Z/u+zabXjV8N+EL2quZRXBakzEniiNuYWNjtWtILKI4NRI4DVc/9zSukINFoo3hsMGQGP/Zzfu1TwQhWBCC+RvmKNn2kiraT4NkN9sgHPCr6UpSxqk4yMpiJckZvHTyDn87IBxFZFVq1e2ZH5Oaji0Kw5zgDsaMCbKEPipKmM16VMP/vgGCXvk56dyM/TRZj/Hc1ENpQ+3Z8T3dAr/CCPznh1VoYTns2s2/XMhP+gMlEHJ6ubxO0aZefVcgjt9DGEtSAIfSQDSOOyWkV6+GfxstYxdXQZlsTT4DWBFSyffsq+YO3je+cGk4GjGa/hrdJVa2qcjclKvQd9BjlaQfiKtHOAnfLNu6wlBPpJz6MZl6wjSYDetpycXXY6GUAeDrhgTYBdyoRDEH7Qps3Z/b/RmBxOlTwbfSWn8dkiXONY2zAizZ1nKLAaMYAw==', page_age=None, title='San Diego, CA Weather Forecast | AccuWeather', type='web_search_result', url='https://www.accuweather.com/en/us/san-diego/92101/weather-forecast/347628'), WebSearchResultBlock(encrypted_content='Es0LCioIAxgCIiQ4ODk4YTFkYy0yMTNkLTRhNmYtOTljYi03ZTBlNTUzZDc0NWISDDhXeqem/vJeFtDIehoMZr8g4uxaLVBeFJ1FIjCvIp06rUASzZOk37/70XJ8a1/VFoUqruOb1bdRryuuUgMZcCMyHOLhW4227ebj+yIq0AopL+YP3Tc4KLxYfiPDZhFe713O1PLHwA7SyR9QX/msM8ORsRIzpgkOZtOm+06HrmszC9Mu394mkM1mDhpblocFBh2mCg2Ld+Sv2qQLVDQfSD2BlzjGHiMyJW/yPoIysWSQVXeWxdmtSC2idhUAYUv0gJM5ynuTK4nzRRTbdRAJSkrdQoOuSKpyUr/xTgXbVhwj2dmA7CCFJ8qXpVDJFvfaLmzRaEXnZDUrLzBoqGHsle8qAX7uMJ9nF/iHmZP7Yr7O5BnKTSRh6SG8XoTb2civbFmpRA9qxfSKezOKCFw3IcUJdBXPnjQozNhM94EnY0/yqg6ukLWK0vazeNoBpu7SHI3vjSKX7Jh094241rxOY5Kz+wTIIAn00YbrQHzzWtUxhEeySNT73KcJXjUVB68SadIHlzlbUflcONIdNifraJYXNgJOmyqC5jkyutXj4r45adZVsvAWBLCIx72rwq+RoeWHzmxNXz6V59+uVB5h2iR5i7f86yWm1Hbrcp67JMqXhX1GCCtEc3RKwLX0p1c5JEMevi3CkyjGhMX7n+PkhfJ19oJqBGqrPcmo/KrYwdN6+bDPSUsVOpZb4NSIwXz5rXDE4yDzDDmdC+ipl2ZrRPURTNTe//RIbBhIOpb0PKwPC2sMVPD7tGNBpS57G7oYObMCR0H1p9UCcfJ95aNYobayY7kalybobSUXTzSiLUqx1alneUXdN1RRtZ24qGj+TFw0656+iDE5O7DFZxKYIWrDxG07lc0tcLtUjzJzbwhluQ2KnJ0Sfj7r8F14uOZ5OURFmI26KDfJy3KSnMHeMTv/ER2RLCsv16oswIMGVNq8xX6JxVsWKFGVgtQzblZbc9SXN6doPMY660D4ZRPm2oRd3uFrEQtB8uqo7QMgLOTSomjxo5IcGZxRrAN7ZhrcTirYvn5FdYDZ+2fL87LwKSU1GB9b+ZgNP4rPiFV0GFKC+iD9ml5eHr3ndZVUyD6ntUbS6hnH2zb3U2kuAgcv8E5I0BGQAviZHF8mUBfZ1h2NK2q7Sch76VICsgQFNzPNC5XBiEKwLVRV847eSLzsBSYO1uqbU5MTVn6pQBwLy5i3sWgleTnsPYMF5lMlW3BhFw9yjRkVejKptj8p/MIRoAqGOjq7KXKlqsknrwOtwKFWrdOZ0ekbM7bD+MwC4nctStG+ImONFTiYlGzJinGzXoQp4P3xJRhet1llPPdnaUoQiUBw055nxgmJ9oue2w1BXxZ2TvBLKiuVqFsKwklJ0L6+2uBqCCy5DvvbLcdR2wnH7qz/9N8kjBTCDJ0ncTVMyy5kshZa+31yz4eJPy7TreMIDtLkNk4SrfCfsFDnUUAUaG8ebiRQknvtJumgtEZtdg/HaPScHdzh60V1dz4s5Z0JfEHI1dqix664a0H5OSo18vgfgQIRWqCyo+JfYzHWH3n5QgOfNhluEZBmh2mo6IZd1GgFe+gwDAbrCMktLPlGsVx/SzO9k4TAbhWdjNmjkfqalqVF+6XX/i2oeZmWhU8r/BpcXqj8hPCkXhy65GyVIFwqsvwpgkwFrgXkNV+kTEsjrW8f0TJIcguPT+oJ6dileqp9CPFewaCt1eK1arh/piSarax4197/gS1yWD8CW7197XVyXCPHU7HhQYFtVFIP2VWs2evL6hZVxTkibJM/fZOmKKtqLWElpxrVOcRUvjIfJ1d++A0TL3M0JmfGkz2hBfVBqOAaccNSf5FSK8bthIYkWQyp7TTnJNXRveaP9PJJr8DHnsotS89TaBWQZyN1TMhHHm5V6sirrKs0HFcVeT4hsCbBqfdZI14Tu4tVGAM=', page_age=None, title='San Diego weather in May 2025 | California, USA', type='web_search_result', url='https://www.weather2travel.com/california/san-diego/may/'), WebSearchResultBlock(encrypted_content='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', page_age='16 hours ago', title=\"San Diego's Weather Forecast for May 12, 2025: Drastic drop in temperatures!\", type='web_search_result', url='https://www.10news.com/weather/san-diegos-weather-forecast-for-may-12-2025-drastic-drop-in-temperatures')], tool_use_id='srvtoolu_01DJtcKEA2jHv8JG66QFZANX', type='web_search_tool_result'), \n",
       "\n",
       "Based on the search results, here's the current weather information for San Diego:\n",
       "\n",
       ", San Diego is currently experiencing \"May Gray\" after a record hot weekend, with temperatures dropping significantly.\n",
       "\n",
       "[CitationsWebSearchResultLocation(cited_text='May Gray is back in the forecast after record heat this weekend, temperatures are expected to plummet up to 40 degrees by Tuesday!A cooling trend ramp...', encrypted_index='EpIBCioIAxgCIiQ4ODk4YTFkYy0yMTNkLTRhNmYtOTljYi03ZTBlNTUzZDc0NWISDAXRwxhlzw5g1neOURoMw2FW8WP0VZHFMb7QIjA7uEHfDPb6aPwtiTORaKBehMehZcWabtsPgENHiDQ+8OeVLlsIU/GOIX+kAU+nSOkqFo4wjdTULDTSarZR2xFIpZPJ5zROFJMYBA==', title=\"San Diego's Weather Forecast for May 12, 2025: Drastic drop in temperatures!\", type='web_search_result_location', url='https://www.10news.com/weather/san-diegos-weather-forecast-for-may-12-2025-drastic-drop-in-temperatures')],  \n",
       "\n",
       "## Today's Temperature (May 13, 2025)\n",
       ", Today (May 13), San Diego is expected to have a high of 66°F and a low of 56°F.\n",
       "\n",
       "[CitationsWebSearchResultLocation(cited_text='San Diego, CA Weather Today WinterCast Local {stormName} Tracker Hourly Daily Radar MinuteCast Monthly Air Quality Health & Activities · News · Today ...', encrypted_index='Eo8BCioIAxgCIiQ4ODk4YTFkYy0yMTNkLTRhNmYtOTljYi03ZTBlNTUzZDc0NWISDL3ARZscHD6tyrZAMBoM96NU7X5nDNH7IwxQIjCT6k1ZnjKpRx1/V1gOVFFn4RLB3Rhzi1XHhK5PSQmiZCju8hUizqIqiq667+YXMqQqE6eqV6gMd7i2G+ET8GzEwVr+1zgYBA==', title='San Diego, CA Monthly Weather | AccuWeather', type='web_search_result_location', url='https://www.accuweather.com/en/us/san-diego/92101/may-weather/347628')],  , In South San Diego specifically, today's high is forecasted to be 64°F with a low of 54°F.\n",
       "\n",
       "[CitationsWebSearchResultLocation(cited_text='South San Diego, CA Weather Today WinterCast Local {stormName} Tracker Hourly Daily Radar MinuteCast Monthly Air Quality Health & Activities · News · ...', encrypted_index='Eo8BCioIAxgCIiQ4ODk4YTFkYy0yMTNkLTRhNmYtOTljYi03ZTBlNTUzZDc0NWISDElr0jAqUeYTJZYlFBoM7tJ+pdIRDppIKJaGIjDPgmL/DdphYctxsEpUFOkMaxpljejni7Ouj2PvrClmDCIU+OuxfyfhjAlT0OmsBEcqE+5xHV2GIpRPb0YnD/4EeR3mzlkYBA==', title='South San Diego, CA Monthly Weather | AccuWeather', type='web_search_result_location', url='https://www.accuweather.com/en/us/south-san-diego/92154/may-weather/2178586')], \n",
       "\n",
       "## Recent Weather Trend\n",
       ", San Diego just experienced a record hot weekend, with Saturday setting record highs in multiple areas including San Diego, Vista, Chula Vista, Ramona, Alpine, Campo, Escondido, and Borrego Springs. Temperatures were 15 to 30 degrees above average during the peak heat.\n",
       "\n",
       "[CitationsWebSearchResultLocation(cited_text='A cooling trend ramped up today after a record hot weekend! Saturday record highs were set in Vista, Chula Vista, Ramona, Alpine, Campo and tied in Sa...', encrypted_index='EpIBCioIAxgCIiQ4ODk4YTFkYy0yMTNkLTRhNmYtOTljYi03ZTBlNTUzZDc0NWISDBRMlsomfIpHauUJYhoMisDeYR8VuD/Mi0juIjAsLYjrj70JFubkBOtShLGMa444w9H+Wwff0eSuSZhEmRaFoZ8W2fxWU89pEVVO8WYqFiMbYLhkberDVTPfTbhqAPa4fGZueNUYBA==', title=\"San Diego's Weather Forecast for May 12, 2025: Drastic drop in temperatures!\", type='web_search_result_location', url='https://www.10news.com/weather/san-diegos-weather-forecast-for-may-12-2025-drastic-drop-in-temperatures')],  , However, temperatures have now dropped dramatically, with readings up to 40 degrees cooler than Saturday's peak.\n",
       "\n",
       "[CitationsWebSearchResultLocation(cited_text='By tomorrow, temperatures will be up to 40 degrees cooler than when the heat peaked on Saturday, with temperatures topping out 5 to nearly 20 degrees ...', encrypted_index='EpABCioIAxgCIiQ4ODk4YTFkYy0yMTNkLTRhNmYtOTljYi03ZTBlNTUzZDc0NWISDBw7bdBAd+ho+HEs9RoMJSwQI65izfW5VKeCIjB1jqWp5Yupy39Qie6zLiiWqZlrb81+KWtghxwQs0EucmOI2eJzAq2XFqq12TEmRXsqFNtbtAx+rM62gEMq2/JBJId0vP5aGAQ=', title=\"San Diego's Weather Forecast for May 12, 2025: Drastic drop in temperatures!\", type='web_search_result_location', url='https://www.10news.com/weather/san-diegos-weather-forecast-for-may-12-2025-drastic-drop-in-temperatures')], \n",
       "\n",
       "## Current Conditions\n",
       ", Today brings \"May Gray\" with limited clearing into the afternoon and the possibility of heavy mist, drizzle, or a few light showers. The best chance for light rain was overnight into this morning.\n",
       "\n",
       "[CitationsWebSearchResultLocation(cited_text='... Tuesday will bring a return of May Gray with limited clearing into the afternoon and anything from heavy mist, drizzle to a few light showers. The...', encrypted_index='EpIBCioIAxgCIiQ4ODk4YTFkYy0yMTNkLTRhNmYtOTljYi03ZTBlNTUzZDc0NWISDKnDW1yOaoUK72awNBoM4HZjeOYvbVQ8DAMlIjCs1bvB93ql0wuAFbyBTLUTSQOPUvmNdHXNeqbS9m2yFFh5CPrT05z61Q+ouv+5EZgqFou9kWRmcaxPgk0mdvlWbR1EnmPx8mYYBA==', title=\"San Diego's Weather Forecast for May 12, 2025: Drastic drop in temperatures!\", type='web_search_result_location', url='https://www.10news.com/weather/san-diegos-weather-forecast-for-may-12-2025-drastic-drop-in-temperatures')], \n",
       "\n",
       ", The air quality in San Diego is generally acceptable for most individuals, though sensitive groups may experience minor to moderate symptoms from long-term exposure.\n",
       "\n",
       "[CitationsWebSearchResultLocation(cited_text='The air quality is generally acceptable for most individuals. However, sensitive groups may experience minor to moderate symptoms from long-term expos...', encrypted_index='EpEBCioIAxgCIiQ4ODk4YTFkYy0yMTNkLTRhNmYtOTljYi03ZTBlNTUzZDc0NWISDBh3Cj/Oz3R8pmgfNRoMfvK3slgWq7L9FjQlIjBlJDCe0LBDTbrkBmLEiHmt8iNatcvqDlaNHBg6SVEZoFEiXR85H0iU41gUM4D5TfsqFeUKkWHfKQAYnwTk+NljQFZN/hjeKBgE', title='San Diego, CA Weather Forecast | AccuWeather', type='web_search_result_location', url='https://www.accuweather.com/en/us/san-diego/92101/weather-forecast/347628')], \n",
       "\n",
       "## Wind Conditions\n",
       ", Gusty winds are affecting the mountains and desert areas, with a Wind Advisory in effect until 5am Wednesday. West and southwesterly winds of 20 to 35mph with gusts of 40 to 65mph are expected, potentially causing blowing dust and dirt that may lead to poor air quality at times.\n",
       "\n",
       "[CitationsWebSearchResultLocation(cited_text='Gusty winds will continue to target the mountains and deserts where a Wind Advisory is in effect until 5am Wednesday. Expect west and southwesterly wi...', encrypted_index='EpQBCioIAxgCIiQ4ODk4YTFkYy0yMTNkLTRhNmYtOTljYi03ZTBlNTUzZDc0NWISDNidz3v3u4sPh0GNdRoM0jY/Bag0c1mBUuFaIjBRQ5w0pRUe0DuDPZYo/ZTlX3n5NkxzXftWGSOw4dQ0jtGqfDGXA03vOaxBCA0Nx9sqGIvVOZwV7PfTShqpwloz8h7mdLg3QUKZrxgE', title=\"San Diego's Weather Forecast for May 12, 2025: Drastic drop in temperatures!\", type='web_search_result_location', url='https://www.10news.com/weather/san-diegos-weather-forecast-for-may-12-2025-drastic-drop-in-temperatures')], \n",
       "\n",
       "## Upcoming Weather\n",
       ", This weekend, another trough of low pressure will move south, bringing another significant drop in temperatures with highs 5 to nearly 20 degrees below average. There's a slight chance of showers, though it may just be marine layer drizzle. Early next week should bring sunny skies and warming temperatures.\n",
       "\n",
       "[CitationsWebSearchResultLocation(cited_text='This weekend, another trough of low pressure will dive south, bringing another big drop in temperatures with highs 5 to nearly 20 degrees below averag...', encrypted_index='EpQBCioIAxgCIiQ4ODk4YTFkYy0yMTNkLTRhNmYtOTljYi03ZTBlNTUzZDc0NWISDPRW7feP4pGP9uZIKxoM+HTtnusjUh+XSOaRIjBQ/xqkgoVa/RH0Ycfo56qmTfCJDqaT9DrEaO3xv9Viz+KSjTgzIKjh4ltqLcOkpQcqGKZRnMVm1ljUGoniY4jsBBZV3n9wT9j8qRgE', title=\"San Diego's Weather Forecast for May 12, 2025: Drastic drop in temperatures!\", type='web_search_result_location', url='https://www.10news.com/weather/san-diegos-weather-forecast-for-may-12-2025-drastic-drop-in-temperatures')], \n",
       "\n",
       "## May Weather Pattern in San Diego\n",
       ", Typically in May, San Diego daytime temperatures usually reach 21°C (70°F), falling to 13°C (55°F) at night. The month normally has about 8 hours of bright sunshine each day (61% of daylight hours), and the average sea temperature is around 17°C (63°F). May usually sees about 2 days with some rain and an average monthly rainfall of 5mm.\n",
       "\n",
       "[CitationsWebSearchResultLocation(cited_text='... Daytime temperatures usually reach 21°C in San Diego in May, falling to 13°C at night. There are normally 8 hours of bright sunshine each day in S...', encrypted_index='EpIBCioIAxgCIiQ4ODk4YTFkYy0yMTNkLTRhNmYtOTljYi03ZTBlNTUzZDc0NWISDEU7TAb8DMTtcDiiwhoMHJqXENn0TVYa93bcIjAHfGteHFopny3tCnnHYcpuBufl4R5hoWmp1aQrGbBL2Vt3QSLwPDv7kEuuDcgYULcqFuIH3k/46M3aL6Cg8UrJ6kldWiJRJMwYBA==', title='San Diego weather in May 2025 | California, USA', type='web_search_result_location', url='https://www.weather2travel.com/california/san-diego/may/')]], model='claude-3-7-sonnet-20250219', role='assistant', stop_reason='end_turn', stop_sequence=None, type='message', usage=In: 11; Out: 819; Cache create: 9184; Cache read: 2687; Total Tokens: 12701; Server tool use (web search requests): 1)"
      ]
     },
     "execution_count": null,
     "metadata": {},
     "output_type": "execute_result"
    }
   ],
   "source": [
    "chat = Chat(model, sp=sp, tools=[search_conf()], cache=True)\n",
    "pr = 'What is the weather in San Diego?'\n",
    "r = chat(pr)\n",
    "r"
   ]
  },
  {
   "cell_type": "code",
   "execution_count": null,
   "id": "4bd6f75c",
   "metadata": {},
   "outputs": [],
   "source": [
    "def sums(a:int, b:int):\n",
    "    'Sum two integers'\n",
    "    return a + b"
   ]
  },
  {
   "cell_type": "code",
   "execution_count": null,
   "id": "8ee2696a",
   "metadata": {},
   "outputs": [
    {
     "data": {
      "text/markdown": [
       "# Otters\n",
       "\n",
       "Otters are fascinating semi-aquatic mammals that belong to the Mustelidae family, which also includes weasels, badgers, and wolverines. Here are some interesting facts about these charming animals:\n",
       "\n",
       "## Types of Otters\n",
       "There are 13 species of otters found worldwide, with the most well-known being:\n",
       "- Sea otters\n",
       "- River otters (including North American river otters)\n",
       "- Giant otters (found in South America)\n",
       "- Asian small-clawed otters\n",
       "\n",
       "## Physical Characteristics\n",
       "- Otters have sleek, streamlined bodies adapted for swimming\n",
       "- They possess dense, water-repellent fur that keeps them insulated in cold water\n",
       "- Most species have webbed feet and powerful tails for propulsion in water\n",
       "- They range in size from the small-clawed otter (about 2-3 feet long) to the giant otter (up to 6 feet long)\n",
       "\n",
       "## Habitat and Distribution\n",
       "Otters live on every continent except Australia and Antarctica. They inhabit various aquatic environments including:\n",
       "- Coastal waters (sea otters)\n",
       "- Rivers and streams\n",
       "- Lakes and ponds\n",
       "- Marshes and wetlands\n",
       "\n",
       "## Behavior and Diet\n",
       "- Otters are highly intelligent and playful animals\n",
       "- They're known for using tools, such as rocks to crack open shellfish\n",
       "- Most otters are social animals that live in family groups\n",
       "- Their diet primarily consists of fish, shellfish, crustaceans, and other aquatic prey\n",
       "- Some species also eat small mammals, birds, and amphibians\n",
       "\n",
       "## Conservation Status\n",
       "Many otter species face threats from:\n",
       "- Habitat loss and degradation\n",
       "- Water pollution\n",
       "- Hunting for fur\n",
       "- Climate change impacts on aquatic ecosystems\n",
       "\n",
       "Several species, including sea otters and giant otters, are listed as endangered or vulnerable.\n",
       "\n",
       "Would you like to know more about a specific aspect of otters?\n",
       "\n",
       "<details>\n",
       "\n",
       "- id: `msg_01FR2QKmzU5b56Lb1BFvBzx4`\n",
       "- content: `[{'citations': None, 'text': \"# Otters\\n\\nOtters are fascinating semi-aquatic mammals that belong to the Mustelidae family, which also includes weasels, badgers, and wolverines. Here are some interesting facts about these charming animals:\\n\\n## Types of Otters\\nThere are 13 species of otters found worldwide, with the most well-known being:\\n- Sea otters\\n- River otters (including North American river otters)\\n- Giant otters (found in South America)\\n- Asian small-clawed otters\\n\\n## Physical Characteristics\\n- Otters have sleek, streamlined bodies adapted for swimming\\n- They possess dense, water-repellent fur that keeps them insulated in cold water\\n- Most species have webbed feet and powerful tails for propulsion in water\\n- They range in size from the small-clawed otter (about 2-3 feet long) to the giant otter (up to 6 feet long)\\n\\n## Habitat and Distribution\\nOtters live on every continent except Australia and Antarctica. They inhabit various aquatic environments including:\\n- Coastal waters (sea otters)\\n- Rivers and streams\\n- Lakes and ponds\\n- Marshes and wetlands\\n\\n## Behavior and Diet\\n- Otters are highly intelligent and playful animals\\n- They're known for using tools, such as rocks to crack open shellfish\\n- Most otters are social animals that live in family groups\\n- Their diet primarily consists of fish, shellfish, crustaceans, and other aquatic prey\\n- Some species also eat small mammals, birds, and amphibians\\n\\n## Conservation Status\\nMany otter species face threats from:\\n- Habitat loss and degradation\\n- Water pollution\\n- Hunting for fur\\n- Climate change impacts on aquatic ecosystems\\n\\nSeveral species, including sea otters and giant otters, are listed as endangered or vulnerable.\\n\\nWould you like to know more about a specific aspect of otters?\", 'type': 'text'}]`\n",
       "- model: `claude-3-7-sonnet-20250219`\n",
       "- role: `assistant`\n",
       "- stop_reason: `end_turn`\n",
       "- stop_sequence: `None`\n",
       "- type: `message`\n",
       "- usage: `{'cache_creation_input_tokens': 44, 'cache_read_input_tokens': 7680, 'input_tokens': 4, 'output_tokens': 432, 'server_tool_use': None}`\n",
       "\n",
       "</details>"
      ],
      "text/plain": [
       "Message(id='msg_01FR2QKmzU5b56Lb1BFvBzx4', content=[# Otters\n",
       "\n",
       "Otters are fascinating semi-aquatic mammals that belong to the Mustelidae family, which also includes weasels, badgers, and wolverines. Here are some interesting facts about these charming animals:\n",
       "\n",
       "## Types of Otters\n",
       "There are 13 species of otters found worldwide, with the most well-known being:\n",
       "- Sea otters\n",
       "- River otters (including North American river otters)\n",
       "- Giant otters (found in South America)\n",
       "- Asian small-clawed otters\n",
       "\n",
       "## Physical Characteristics\n",
       "- Otters have sleek, streamlined bodies adapted for swimming\n",
       "- They possess dense, water-repellent fur that keeps them insulated in cold water\n",
       "- Most species have webbed feet and powerful tails for propulsion in water\n",
       "- They range in size from the small-clawed otter (about 2-3 feet long) to the giant otter (up to 6 feet long)\n",
       "\n",
       "## Habitat and Distribution\n",
       "Otters live on every continent except Australia and Antarctica. They inhabit various aquatic environments including:\n",
       "- Coastal waters (sea otters)\n",
       "- Rivers and streams\n",
       "- Lakes and ponds\n",
       "- Marshes and wetlands\n",
       "\n",
       "## Behavior and Diet\n",
       "- Otters are highly intelligent and playful animals\n",
       "- They're known for using tools, such as rocks to crack open shellfish\n",
       "- Most otters are social animals that live in family groups\n",
       "- Their diet primarily consists of fish, shellfish, crustaceans, and other aquatic prey\n",
       "- Some species also eat small mammals, birds, and amphibians\n",
       "\n",
       "## Conservation Status\n",
       "Many otter species face threats from:\n",
       "- Habitat loss and degradation\n",
       "- Water pollution\n",
       "- Hunting for fur\n",
       "- Climate change impacts on aquatic ecosystems\n",
       "\n",
       "Several species, including sea otters and giant otters, are listed as endangered or vulnerable.\n",
       "\n",
       "Would you like to know more about a specific aspect of otters?], model='claude-3-7-sonnet-20250219', role='assistant', stop_reason='end_turn', stop_sequence=None, type='message', usage=In: 4; Out: 432; Cache create: 44; Cache read: 7680; Total Tokens: 8160; Server tool use (web search requests): 0)"
      ]
     },
     "execution_count": null,
     "metadata": {},
     "output_type": "execute_result"
    }
   ],
   "source": [
    "chat.tools = []\n",
    "pr = 'Tell me about otters'\n",
    "r = chat(pr)\n",
    "r"
   ]
  },
  {
   "cell_type": "code",
   "execution_count": null,
   "id": "8bee553f",
   "metadata": {},
   "outputs": [
    {
     "data": {
      "text/markdown": [
       "# Otters\n",
       "\n",
       "Otters are fascinating semi-aquatic mammals that belong to the Mustelidae family, which also includes weasels, badgers, and wolverines. Here are some interesting facts about these charming animals:\n",
       "\n",
       "## Types of Otters\n",
       "There are 13 species of otters found worldwide, with the most well-known being:\n",
       "- Sea otters\n",
       "- River otters (including North American river otters)\n",
       "- Giant otters (found in South America)\n",
       "- Asian small-clawed otters\n",
       "\n",
       "## Physical Characteristics\n",
       "- Otters have sleek, streamlined bodies adapted for swimming\n",
       "- They possess dense, water-repellent fur that keeps them insulated in cold water\n",
       "- Most species have webbed feet and powerful tails for propulsion in water\n",
       "- They range in size from the small-clawed otter (about 2-3 feet long) to the giant otter (up to 6 feet long)\n",
       "\n",
       "## Habitat and Distribution\n",
       "Otters live on every continent except Australia and Antarctica. They inhabit various aquatic environments including:\n",
       "- Coastal waters (sea otters)\n",
       "- Rivers and streams\n",
       "- Lakes and ponds\n",
       "- Marshes and wetlands\n",
       "\n",
       "## Behavior and Diet\n",
       "- Otters are highly intelligent and playful animals\n",
       "- They're known for using tools, such as rocks to crack open shellfish\n",
       "- Most otters are social animals that live in family groups\n",
       "- Their diet primarily consists of fish, shellfish, crustaceans, and other aquatic prey\n",
       "- Some species also eat small mammals, birds, and amphibians\n",
       "\n",
       "## Conservation Status\n",
       "Many otter species face threats from:\n",
       "- Habitat loss and degradation\n",
       "- Water pollution\n",
       "- Hunting for fur\n",
       "- Climate change impacts on aquatic ecosystems\n",
       "\n",
       "Several species, including sea otters and giant otters, are listed as endangered or vulnerable.\n",
       "\n",
       "Would you like to know more about a specific aspect of otters?\n",
       "\n",
       "<details>\n",
       "<summary>History</summary>\n",
       "\n",
       "**user**: {'type': 'text', 'text': 'What is the weather in San Diego?', 'cache_control': {'type': 'ephemeral'}}\n",
       "\n",
       "**assistant**: I'll check the current weather in San Diego for you.\n",
       "\n",
       "**user**: {'type': 'text', 'text': 'Tell me about otters', 'cache_control': {'type': 'ephemeral'}}\n",
       "\n",
       "**assistant**: # Otters\n",
       "\n",
       "Otters are fascinating semi-aquatic mammals that belong to the Mustelidae family, which also includes weasels, badgers, and wolverines. Here are some interesting facts about these charming animals:\n",
       "\n",
       "## Types of Otters\n",
       "There are 13 species of otters found worldwide, with the most well-known being:\n",
       "- Sea otters\n",
       "- River otters (including North American river otters)\n",
       "- Giant otters (found in South America)\n",
       "- Asian small-clawed otters\n",
       "\n",
       "## Physical Characteristics\n",
       "- Otters have sleek, streamlined bodies adapted for swimming\n",
       "- They possess dense, water-repellent fur that keeps them insulated in cold water\n",
       "- Most species have webbed feet and powerful tails for propulsion in water\n",
       "- They range in size from the small-clawed otter (about 2-3 feet long) to the giant otter (up to 6 feet long)\n",
       "\n",
       "## Habitat and Distribution\n",
       "Otters live on every continent except Australia and Antarctica. They inhabit various aquatic environments including:\n",
       "- Coastal waters (sea otters)\n",
       "- Rivers and streams\n",
       "- Lakes and ponds\n",
       "- Marshes and wetlands\n",
       "\n",
       "## Behavior and Diet\n",
       "- Otters are highly intelligent and playful animals\n",
       "- They're known for using tools, such as rocks to crack open shellfish\n",
       "- Most otters are social animals that live in family groups\n",
       "- Their diet primarily consists of fish, shellfish, crustaceans, and other aquatic prey\n",
       "- Some species also eat small mammals, birds, and amphibians\n",
       "\n",
       "## Conservation Status\n",
       "Many otter species face threats from:\n",
       "- Habitat loss and degradation\n",
       "- Water pollution\n",
       "- Hunting for fur\n",
       "- Climate change impacts on aquatic ecosystems\n",
       "\n",
       "Several species, including sea otters and giant otters, are listed as endangered or vulnerable.\n",
       "\n",
       "Would you like to know more about a specific aspect of otters?\n",
       "\n",
       "**user**: {'type': 'text', 'text': 'What is 100 + 100?', 'cache_control': {'type': 'ephemeral'}}\n",
       "\n",
       "**assistant**: 100 + 100 = 200\n",
       "\n",
       "This is a simple addition problem. When you add one hundred and one hundred together, you get two hundred.\n",
       "\n",
       "**user**: {'type': 'text', 'text': 'Tell me about otters', 'cache_control': {'type': 'ephemeral'}}\n",
       "\n",
       "**assistant**: # Otters\n",
       "\n",
       "Otters are fascinating semi-aquatic mammals that belong to the Mustelidae family, which also includes weasels, badgers, and wolverines. Here are some interesting facts about these charming animals:\n",
       "\n",
       "## Types of Otters\n",
       "There are 13 species of otters found worldwide, with the most well-known being:\n",
       "- Sea otters\n",
       "- River otters (including North American river otters)\n",
       "- Giant otters (found in South America)\n",
       "- Asian small-clawed otters\n",
       "\n",
       "## Physical Characteristics\n",
       "- Otters have sleek, streamlined bodies adapted for swimming\n",
       "- They possess dense, water-repellent fur that keeps them insulated in cold water\n",
       "- Most species have webbed feet and powerful tails for propulsion in water\n",
       "- They range in size from the small-clawed otter (about 2-3 feet long) to the giant otter (up to 6 feet long)\n",
       "\n",
       "## Habitat and Distribution\n",
       "Otters live on every continent except Australia and Antarctica. They inhabit various aquatic environments including:\n",
       "- Coastal waters (sea otters)\n",
       "- Rivers and streams\n",
       "- Lakes and ponds\n",
       "- Marshes and wetlands\n",
       "\n",
       "## Behavior and Diet\n",
       "- Otters are highly intelligent and playful animals\n",
       "- They're known for using tools, such as rocks to crack open shellfish\n",
       "- Most otters are social animals that live in family groups\n",
       "- Their diet primarily consists of fish, shellfish, crustaceans, and other aquatic prey\n",
       "- Some species also eat small mammals, birds, and amphibians\n",
       "\n",
       "## Conservation Status\n",
       "Many otter species face threats from:\n",
       "- Habitat loss and degradation\n",
       "- Water pollution\n",
       "- Hunting for fur\n",
       "- Climate change impacts on aquatic ecosystems\n",
       "\n",
       "Several species, including sea otters and giant otters, are listed as endangered or vulnerable.\n",
       "\n",
       "Would you like to know more about a specific aspect of otters?\n",
       "</details>\n",
       "\n",
       "| Metric | Count | Cost (USD) |\n",
       "|--------|------:|-----:|\n",
       "| Input tokens | 31 | 0.000093 |\n",
       "| Output tokens | 1,897 | 0.028455 |\n",
       "| Cache tokens | 51,082 | 123997.505405 |\n",
       "| Server tool use | 1 | 0.010000 |\n",
       "| **Total** | **53,010** | **$0.167950** |"
      ],
      "text/plain": [
       "<__main__.Chat>"
      ]
     },
     "execution_count": null,
     "metadata": {},
     "output_type": "execute_result"
    }
   ],
   "source": [
    "chat"
   ]
  },
  {
   "cell_type": "code",
   "execution_count": null,
   "id": "3e0d4a21",
   "metadata": {},
   "outputs": [
    {
     "data": {
      "text/markdown": [
       "\n",
       "Python is a versatile, high-level programming language known for its clean syntax and readability, making it popular for everything from web development and data science to artificial intelligence and automation.\n",
       "\n",
       "<details>\n",
       "<summary>Thinking</summary>\n",
       "I'll write a simple sentence about Python, the programming language. I should be clear and informative while being engaging.\n",
       "</details>\n",
       "\n",
       "\n",
       "<details>\n",
       "\n",
       "- id: `msg_01UG4Gy2gQVmJ7bQj5EnLT3v`\n",
       "- content: `[{'signature': 'ErUBCkYIAxgCIkB60N/LAt1wZHJCQ1S/r8oincz9Vl7dnfvHPpgMvbDKgMHRgOAt+TzSmLcf3ZHvDyx72udBG+LeYFBl3Xy7D0cnEgwfPvOnUfLcnf5FGWAaDBgcR3lwUmaBmuVAUSIw+zR22mbVXT2KHBUuvhvuoKgHzdKFoPuk3Wvsi4XI3ATyi9aKr19YfKyde8RdQHwPKh0fRobVLmxvURWMMAE08iXYAkUUNexgtFFBg8hk2RgC', 'thinking': \"I'll write a simple sentence about Python, the programming language. I should be clear and informative while being engaging.\", 'type': 'thinking'}, {'citations': None, 'text': 'Python is a versatile, high-level programming language known for its clean syntax and readability, making it popular for everything from web development and data science to artificial intelligence and automation.', 'type': 'text'}]`\n",
       "- model: `claude-3-7-sonnet-20250219`\n",
       "- role: `assistant`\n",
       "- stop_reason: `end_turn`\n",
       "- stop_sequence: `None`\n",
       "- type: `message`\n",
       "- usage: `{'cache_creation_input_tokens': 8188, 'cache_read_input_tokens': 0, 'input_tokens': 10, 'output_tokens': 73, 'server_tool_use': None}`\n",
       "\n",
       "</details>"
      ],
      "text/plain": [
       "Message(id='msg_01UG4Gy2gQVmJ7bQj5EnLT3v', content=[ThinkingBlock(signature='ErUBCkYIAxgCIkB60N/LAt1wZHJCQ1S/r8oincz9Vl7dnfvHPpgMvbDKgMHRgOAt+TzSmLcf3ZHvDyx72udBG+LeYFBl3Xy7D0cnEgwfPvOnUfLcnf5FGWAaDBgcR3lwUmaBmuVAUSIw+zR22mbVXT2KHBUuvhvuoKgHzdKFoPuk3Wvsi4XI3ATyi9aKr19YfKyde8RdQHwPKh0fRobVLmxvURWMMAE08iXYAkUUNexgtFFBg8hk2RgC', thinking=\"I'll write a simple sentence about Python, the programming language. I should be clear and informative while being engaging.\", type='thinking'), Python is a versatile, high-level programming language known for its clean syntax and readability, making it popular for everything from web development and data science to artificial intelligence and automation.], model='claude-3-7-sonnet-20250219', role='assistant', stop_reason='end_turn', stop_sequence=None, type='message', usage=In: 10; Out: 73; Cache create: 8188; Cache read: 0; Total Tokens: 8271; Server tool use (web search requests): 0)"
      ]
     },
     "execution_count": null,
     "metadata": {},
     "output_type": "execute_result"
    }
   ],
   "source": [
    "r = chat(\"Write a sentence about Python!\", maxthinktok=1024)\n",
    "r"
   ]
  },
  {
   "cell_type": "code",
   "execution_count": null,
   "id": "2c085d6f",
   "metadata": {},
   "outputs": [
    {
     "data": {
      "text/markdown": [
       "To find the sum of 100 + 100:\n",
       "\n",
       "<details>\n",
       "\n",
       "- id: `msg_01V8RTiWnvjiJRbLHUa5Wq2b`\n",
       "- content: `[{'citations': None, 'text': 'To find the sum of 100 + 100:', 'type': 'text'}, {'id': 'toolu_01FnooyQUZabT9j6W8HGiHpv', 'input': {'a': 100, 'b': 100}, 'name': 'sums', 'type': 'tool_use'}]`\n",
       "- model: `claude-3-7-sonnet-20250219`\n",
       "- role: `assistant`\n",
       "- stop_reason: `tool_use`\n",
       "- stop_sequence: `None`\n",
       "- type: `message`\n",
       "- usage: `{'cache_creation_input_tokens': 537, 'cache_read_input_tokens': 8065, 'input_tokens': 4, 'output_tokens': 82, 'server_tool_use': None}`\n",
       "\n",
       "</details>"
      ],
      "text/plain": [
       "Message(id='msg_01V8RTiWnvjiJRbLHUa5Wq2b', content=[To find the sum of 100 + 100:, ToolUseBlock(id='toolu_01FnooyQUZabT9j6W8HGiHpv', input={'a': 100, 'b': 100}, name='sums', type='tool_use')], model='claude-3-7-sonnet-20250219', role='assistant', stop_reason='tool_use', stop_sequence=None, type='message', usage=In: 4; Out: 82; Cache create: 537; Cache read: 8065; Total Tokens: 8688; Server tool use (web search requests): 0)"
      ]
     },
     "execution_count": null,
     "metadata": {},
     "output_type": "execute_result"
    }
   ],
   "source": [
    "chat.ns = mk_ns(sums)\n",
    "chat.tools = [sums]\n",
    "pr = 'What is 100 + 100?'\n",
    "r = chat(pr)\n",
    "r"
   ]
  },
  {
   "cell_type": "code",
   "execution_count": null,
   "id": "0219fed9",
   "metadata": {},
   "outputs": [
    {
     "data": {
      "text/markdown": [
       "To find the sum of 100 + 100:\n",
       "\n",
       "<details>\n",
       "<summary>History</summary>\n",
       "\n",
       "**user**: {'type': 'text', 'text': 'What is the weather in San Diego?', 'cache_control': {'type': 'ephemeral'}}\n",
       "\n",
       "**assistant**: I'll check the current weather in San Diego for you.\n",
       "\n",
       "**user**: {'type': 'text', 'text': 'Tell me about otters', 'cache_control': {'type': 'ephemeral'}}\n",
       "\n",
       "**assistant**: # Otters\n",
       "\n",
       "Otters are fascinating semi-aquatic mammals that belong to the Mustelidae family, which also includes weasels, badgers, and wolverines. Here are some interesting facts about these charming animals:\n",
       "\n",
       "## Types of Otters\n",
       "There are 13 species of otters found worldwide, with the most well-known being:\n",
       "- Sea otters\n",
       "- River otters (including North American river otters)\n",
       "- Giant otters (found in South America)\n",
       "- Asian small-clawed otters\n",
       "\n",
       "## Physical Characteristics\n",
       "- Otters have sleek, streamlined bodies adapted for swimming\n",
       "- They possess dense, water-repellent fur that keeps them insulated in cold water\n",
       "- Most species have webbed feet and powerful tails for propulsion in water\n",
       "- They range in size from the small-clawed otter (about 2-3 feet long) to the giant otter (up to 6 feet long)\n",
       "\n",
       "## Habitat and Distribution\n",
       "Otters live on every continent except Australia and Antarctica. They inhabit various aquatic environments including:\n",
       "- Coastal waters (sea otters)\n",
       "- Rivers and streams\n",
       "- Lakes and ponds\n",
       "- Marshes and wetlands\n",
       "\n",
       "## Behavior and Diet\n",
       "- Otters are highly intelligent and playful animals\n",
       "- They're known for using tools, such as rocks to crack open shellfish\n",
       "- Most otters are social animals that live in family groups\n",
       "- Their diet primarily consists of fish, shellfish, crustaceans, and other aquatic prey\n",
       "- Some species also eat small mammals, birds, and amphibians\n",
       "\n",
       "## Conservation Status\n",
       "Many otter species face threats from:\n",
       "- Habitat loss and degradation\n",
       "- Water pollution\n",
       "- Hunting for fur\n",
       "- Climate change impacts on aquatic ecosystems\n",
       "\n",
       "Several species, including sea otters and giant otters, are listed as endangered or vulnerable.\n",
       "\n",
       "Would you like to know more about a specific aspect of otters?\n",
       "\n",
       "**user**: {'type': 'text', 'text': 'What is 100 + 100?', 'cache_control': {'type': 'ephemeral'}}\n",
       "\n",
       "**assistant**: 100 + 100 = 200\n",
       "\n",
       "This is a simple addition problem. When you add one hundred and one hundred together, you get two hundred.\n",
       "\n",
       "**user**: {'type': 'text', 'text': 'Tell me about otters', 'cache_control': {'type': 'ephemeral'}}\n",
       "\n",
       "**assistant**: # Otters\n",
       "\n",
       "Otters are fascinating semi-aquatic mammals that belong to the Mustelidae family, which also includes weasels, badgers, and wolverines. Here are some interesting facts about these charming animals:\n",
       "\n",
       "## Types of Otters\n",
       "There are 13 species of otters found worldwide, with the most well-known being:\n",
       "- Sea otters\n",
       "- River otters (including North American river otters)\n",
       "- Giant otters (found in South America)\n",
       "- Asian small-clawed otters\n",
       "\n",
       "## Physical Characteristics\n",
       "- Otters have sleek, streamlined bodies adapted for swimming\n",
       "- They possess dense, water-repellent fur that keeps them insulated in cold water\n",
       "- Most species have webbed feet and powerful tails for propulsion in water\n",
       "- They range in size from the small-clawed otter (about 2-3 feet long) to the giant otter (up to 6 feet long)\n",
       "\n",
       "## Habitat and Distribution\n",
       "Otters live on every continent except Australia and Antarctica. They inhabit various aquatic environments including:\n",
       "- Coastal waters (sea otters)\n",
       "- Rivers and streams\n",
       "- Lakes and ponds\n",
       "- Marshes and wetlands\n",
       "\n",
       "## Behavior and Diet\n",
       "- Otters are highly intelligent and playful animals\n",
       "- They're known for using tools, such as rocks to crack open shellfish\n",
       "- Most otters are social animals that live in family groups\n",
       "- Their diet primarily consists of fish, shellfish, crustaceans, and other aquatic prey\n",
       "- Some species also eat small mammals, birds, and amphibians\n",
       "\n",
       "## Conservation Status\n",
       "Many otter species face threats from:\n",
       "- Habitat loss and degradation\n",
       "- Water pollution\n",
       "- Hunting for fur\n",
       "- Climate change impacts on aquatic ecosystems\n",
       "\n",
       "Several species, including sea otters and giant otters, are listed as endangered or vulnerable.\n",
       "\n",
       "Would you like to know more about a specific aspect of otters?\n",
       "\n",
       "**user**: {'type': 'text', 'text': 'Write a sentence about Python!', 'cache_control': {'type': 'ephemeral'}}\n",
       "\n",
       "**assistant**: {'signature': 'ErUBCkYIAxgCIkB60N/LAt1wZHJCQ1S/r8oincz9Vl7dnfvHPpgMvbDKgMHRgOAt+TzSmLcf3ZHvDyx72udBG+LeYFBl3Xy7D0cnEgwfPvOnUfLcnf5FGWAaDBgcR3lwUmaBmuVAUSIw+zR22mbVXT2KHBUuvhvuoKgHzdKFoPuk3Wvsi4XI3ATyi9aKr19YfKyde8RdQHwPKh0fRobVLmxvURWMMAE08iXYAkUUNexgtFFBg8hk2RgC', 'thinking': \"I'll write a simple sentence about Python, the programming language. I should be clear and informative while being engaging.\", 'type': 'thinking'}\n",
       "\n",
       "**user**: {'type': 'text', 'text': 'What is 100 + 100?', 'cache_control': {'type': 'ephemeral'}}\n",
       "\n",
       "**assistant**: To find the sum of 100 + 100:\n",
       "\n",
       "**user**: 200\n",
       "</details>\n",
       "\n",
       "| Metric | Count | Cost (USD) |\n",
       "|--------|------:|-----:|\n",
       "| Input tokens | 45 | 0.000135 |\n",
       "| Output tokens | 2,052 | 0.030780 |\n",
       "| Cache tokens | 67,872 | 156716.257824 |\n",
       "| Server tool use | 1 | 0.010000 |\n",
       "| **Total** | **69,969** | **$0.205456** |"
      ],
      "text/plain": [
       "<__main__.Chat>"
      ]
     },
     "execution_count": null,
     "metadata": {},
     "output_type": "execute_result"
    }
   ],
   "source": [
    "chat"
   ]
  },
  {
   "cell_type": "code",
   "execution_count": null,
   "id": "8b0f38c1",
   "metadata": {},
   "outputs": [
    {
     "data": {
      "text/plain": [
       "(0.20545555,\n",
       " In: 45; Out: 2052; Cache create: 41791; Cache read: 26081; Total Tokens: 69969; Server tool use (web search requests): 1)"
      ]
     },
     "execution_count": null,
     "metadata": {},
     "output_type": "execute_result"
    }
   ],
   "source": [
    "chat.cost, chat.use"
   ]
  },
  {
   "cell_type": "markdown",
   "id": "b1580f5c",
   "metadata": {},
   "source": [
    "## Third party providers"
   ]
  },
  {
   "cell_type": "markdown",
   "id": "bd88f878",
   "metadata": {},
   "source": [
    "### Amazon Bedrock"
   ]
  },
  {
   "cell_type": "markdown",
   "id": "a6ecba86",
   "metadata": {},
   "source": [
    "These are Amazon's current Claude models:"
   ]
  },
  {
   "cell_type": "code",
   "execution_count": null,
   "id": "81d16826",
   "metadata": {},
   "outputs": [
    {
     "data": {
      "text/plain": [
       "['claude-3-5-haiku-20241022',\n",
       " 'claude-3-7-sonnet-20250219',\n",
       " 'anthropic.claude-3-opus-20240229-v1:0',\n",
       " 'anthropic.claude-3-5-sonnet-20241022-v2:0']"
      ]
     },
     "execution_count": null,
     "metadata": {},
     "output_type": "execute_result"
    }
   ],
   "source": [
    "models_aws"
   ]
  },
  {
   "cell_type": "markdown",
   "id": "7a194f45",
   "metadata": {},
   "source": [
    ":::{.callout-note}\n",
    "\n",
    "`anthropic` at version 0.34.2 seems not to install `boto3` as a dependency. You may need to do a `pip install boto3` or the creation of the `Client` below fails.\n",
    "\n",
    ":::"
   ]
  },
  {
   "cell_type": "markdown",
   "id": "9b8b2bc4",
   "metadata": {},
   "source": [
    "Provided `boto3` is installed, we otherwise don't need any extra code to support Amazon Bedrock -- we just have to set up the approach client:"
   ]
  },
  {
   "cell_type": "code",
   "execution_count": null,
   "id": "08cb7585",
   "metadata": {},
   "outputs": [],
   "source": [
    "ab = AnthropicBedrock(\n",
    "    aws_access_key=os.environ['AWS_ACCESS_KEY'],\n",
    "    aws_secret_key=os.environ['AWS_SECRET_KEY'],\n",
    ")\n",
    "client = Client(models_aws[-1], ab)"
   ]
  },
  {
   "cell_type": "code",
   "execution_count": null,
   "id": "f1f2f214",
   "metadata": {},
   "outputs": [],
   "source": [
    "chat = Chat(cli=client)"
   ]
  },
  {
   "cell_type": "code",
   "execution_count": null,
   "id": "ec54a422",
   "metadata": {},
   "outputs": [],
   "source": [
    "chat(\"I'm Jeremy\")"
   ]
  },
  {
   "cell_type": "markdown",
   "id": "1b331146",
   "metadata": {},
   "source": [
    "### Google Vertex"
   ]
  },
  {
   "cell_type": "code",
   "execution_count": null,
   "id": "fdb46839",
   "metadata": {},
   "outputs": [],
   "source": [
    "models_goog"
   ]
  },
  {
   "cell_type": "code",
   "execution_count": null,
   "id": "30921ab4",
   "metadata": {},
   "outputs": [],
   "source": [
    "from anthropic import AnthropicVertex\n",
    "import google.auth"
   ]
  },
  {
   "cell_type": "code",
   "execution_count": null,
   "id": "c00ef664",
   "metadata": {},
   "outputs": [],
   "source": [
    "project_id = google.auth.default()[1]\n",
    "region = \"us-east5\"\n",
    "gv = AnthropicVertex(project_id=project_id, region=region)\n",
    "client = Client(models_goog[-1], gv)"
   ]
  },
  {
   "cell_type": "code",
   "execution_count": null,
   "id": "7d0481b5",
   "metadata": {},
   "outputs": [],
   "source": [
    "chat = Chat(cli=client)"
   ]
  },
  {
   "cell_type": "code",
   "execution_count": null,
   "id": "11006ae0",
   "metadata": {},
   "outputs": [],
   "source": [
    "chat(\"I'm Jeremy\")"
   ]
  },
  {
   "cell_type": "markdown",
   "id": "94ec4289",
   "metadata": {},
   "source": [
    "## Export -"
   ]
  },
  {
   "cell_type": "code",
   "execution_count": null,
   "id": "1e9ee5c1",
   "metadata": {},
   "outputs": [],
   "source": [
    "#|hide\n",
    "#|eval: false\n",
    "from nbdev.doclinks import nbdev_export\n",
    "nbdev_export()"
   ]
  },
  {
   "cell_type": "code",
   "execution_count": null,
   "id": "12a64c67",
   "metadata": {},
   "outputs": [],
   "source": []
  }
 ],
 "metadata": {
  "kernelspec": {
   "display_name": "python3",
   "language": "python",
   "name": "python3"
  }
 },
 "nbformat": 4,
 "nbformat_minor": 5
}
