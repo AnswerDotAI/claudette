{
 "cells": [
  {
   "cell_type": "code",
   "execution_count": null,
   "id": "efe78920",
   "metadata": {},
   "outputs": [],
   "source": [
    "#|default_exp core"
   ]
  },
  {
   "cell_type": "markdown",
   "id": "3d773712-12fe-440e-891f-36f59666dfde",
   "metadata": {},
   "source": [
    "# Claudette's source"
   ]
  },
  {
   "cell_type": "markdown",
   "id": "c47b5d38",
   "metadata": {},
   "source": [
    "This is the 'literate' source code for Claudette. You can view the fully rendered version of the notebook [here](https://claudette.answer.ai/core.html), or you can clone the git repo and run the [interactive notebook](https://github.com/AnswerDotAI/claudette/blob/main/00_core.ipynb) in Jupyter. The notebook is converted the [Python module claudette/core.py](https://github.com/AnswerDotAI/claudette/blob/main/claudette/core.py) using [nbdev](https://nbdev.fast.ai/). The goal of this source code is to both create the Python module, and also to teach the reader *how* it is created, without assuming much existing knowledge about Claude's API.\n",
    "\n",
    "Most of the time you'll see that we write some source code *first*, and then a description or discussion of it *afterwards*."
   ]
  },
  {
   "cell_type": "markdown",
   "id": "ff6f6471-8061-4fdd-85a1-25fdc27c5cf3",
   "metadata": {},
   "source": [
    "## Setup"
   ]
  },
  {
   "cell_type": "code",
   "execution_count": null,
   "id": "f1ad998e-4bb1-4bed-abf4-6e8606cb2453",
   "metadata": {},
   "outputs": [],
   "source": [
    "import os\n",
    "# os.environ['ANTHROPIC_LOG'] = 'debug'"
   ]
  },
  {
   "cell_type": "markdown",
   "id": "5b16f396",
   "metadata": {},
   "source": [
    "To print every HTTP request and response in full, uncomment the above line. This functionality is provided by Anthropic's SDK."
   ]
  },
  {
   "cell_type": "code",
   "execution_count": null,
   "id": "033c76fd",
   "metadata": {},
   "outputs": [],
   "source": [
    "#| export\n",
    "import inspect, typing, json\n",
    "from collections import abc\n",
    "from dataclasses import dataclass\n",
    "from typing import get_type_hints, Any\n",
    "from functools import wraps\n",
    "\n",
    "from anthropic import Anthropic, AnthropicBedrock, AnthropicVertex\n",
    "from anthropic.types import (Usage, TextBlock, ServerToolUseBlock,\n",
    "                             WebSearchToolResultBlock, Message, ToolUseBlock,\n",
    "                             ThinkingBlock, ServerToolUsage)\n",
    "from anthropic.resources import messages\n",
    "\n",
    "import toolslm\n",
    "from toolslm.funccall import *\n",
    "\n",
    "from fastcore.meta import delegates\n",
    "from fastcore.utils import *\n",
    "from fastcore.xtras import save_iter\n",
    "from msglm import mk_msg_anthropic as mk_msg, mk_msgs_anthropic as mk_msgs"
   ]
  },
  {
   "cell_type": "code",
   "execution_count": null,
   "id": "b6fa4e45",
   "metadata": {},
   "outputs": [],
   "source": [
    "#| hide\n",
    "from nbdev import show_doc"
   ]
  },
  {
   "cell_type": "code",
   "execution_count": null,
   "id": "af9ebbcf",
   "metadata": {},
   "outputs": [],
   "source": [
    "from anthropic.types import Model\n",
    "from claudette.text_editor import *\n",
    "from typing import get_args\n",
    "from datetime import datetime\n",
    "from pprint import pprint\n",
    "from IPython.display import Image\n",
    "\n",
    "import warnings"
   ]
  },
  {
   "cell_type": "code",
   "execution_count": null,
   "id": "13866a72",
   "metadata": {},
   "outputs": [],
   "source": [
    "warnings.filterwarnings(\"ignore\", message=\"Pydantic serializer warnings\")"
   ]
  },
  {
   "cell_type": "code",
   "execution_count": null,
   "id": "c1cefa1e",
   "metadata": {},
   "outputs": [],
   "source": [
    "#| export\n",
    "_all_ = ['mk_msg', 'mk_msgs']"
   ]
  },
  {
   "cell_type": "code",
   "execution_count": null,
   "id": "f5fa6b92",
   "metadata": {},
   "outputs": [],
   "source": [
    "#| export\n",
    "empty = inspect.Parameter.empty"
   ]
  },
  {
   "cell_type": "markdown",
   "id": "9c3c2197",
   "metadata": {},
   "source": [
    ":::{.callout-tip}\n",
    "\n",
    "If you're reading the rendered version of this notebook, you'll see an \"Exported source\" collapsible widget below. If you're reading the source notebook directly, you'll see `#| exports` at the top of the cell. These show that this piece of code will be exported into the python module that this notebook creates. No other code will be included -- any other code in this notebook is just for demonstration, documentation, and testing.\n",
    "\n",
    "You can toggle expanding/collapsing the source code of all exported sections by using the `</> Code` menu in the top right of the rendered notebook page.\n",
    "\n",
    ":::"
   ]
  },
  {
   "cell_type": "code",
   "execution_count": null,
   "id": "0fff8869",
   "metadata": {},
   "outputs": [],
   "source": [
    "#| exports\n",
    "\n",
    "model_types = {\n",
    "    # Anthropic\n",
    "    'claude-opus-4-1-20250805': 'opus',\n",
    "    'claude-sonnet-4-20250514': 'sonnet',\n",
    "    'claude-opus-4-20250514': 'opus-4',\n",
    "    'claude-3-opus-20240229': 'opus-3',\n",
    "    'claude-3-7-sonnet-20250219': 'sonnet-3-7',\n",
    "    'claude-3-5-sonnet-20241022': 'sonnet-3-5',\n",
    "    'claude-3-haiku-20240307': 'haiku-3',\n",
    "    'claude-3-5-haiku-20241022': 'haiku-3-5',\n",
    "    # AWS\n",
    "    'anthropic.claude-opus-4-1-20250805-v1:0': 'opus',\n",
    "    'anthropic.claude-3-5-sonnet-20241022-v2:0': 'sonnet',\n",
    "    'anthropic.claude-3-opus-20240229-v1:0': 'opus-3',\n",
    "    'anthropic.claude-3-sonnet-20240229-v1:0': 'sonnet',\n",
    "    'anthropic.claude-3-haiku-20240307-v1:0': 'haiku',\n",
    "    # Google\n",
    "    'claude-opus-4-1@20250805': 'opus',\n",
    "    'claude-3-5-sonnet-v2@20241022': 'sonnet',\n",
    "    'claude-3-opus@20240229': 'opus-3',\n",
    "    'claude-3-sonnet@20240229': 'sonnet',\n",
    "    'claude-3-haiku@20240307': 'haiku',\n",
    "}\n",
    "\n",
    "all_models = list(model_types)"
   ]
  },
  {
   "cell_type": "code",
   "execution_count": null,
   "id": "f237bd2e",
   "metadata": {},
   "outputs": [
    {
     "data": {
      "text/plain": [
       "typing.Union[typing.Literal['claude-3-7-sonnet-latest', 'claude-3-7-sonnet-20250219', 'claude-3-5-haiku-latest', 'claude-3-5-haiku-20241022', 'claude-sonnet-4-20250514', 'claude-sonnet-4-0', 'claude-4-sonnet-20250514', 'claude-3-5-sonnet-latest', 'claude-3-5-sonnet-20241022', 'claude-3-5-sonnet-20240620', 'claude-opus-4-0', 'claude-opus-4-20250514', 'claude-4-opus-20250514', 'claude-opus-4-1-20250805', 'claude-3-opus-latest', 'claude-3-opus-20240229', 'claude-3-haiku-20240307'], str]"
      ]
     },
     "execution_count": null,
     "metadata": {},
     "output_type": "execute_result"
    }
   ],
   "source": [
    "#|hide\n",
    "# Full list of models via the anthropic SDK for reference. Not all models are surfaced by Claudette.\n",
    "Model"
   ]
  },
  {
   "cell_type": "code",
   "execution_count": null,
   "id": "4f03dcad",
   "metadata": {},
   "outputs": [],
   "source": [
    "#| export\n",
    "models = all_models[:8]"
   ]
  },
  {
   "cell_type": "code",
   "execution_count": null,
   "id": "c8490b08",
   "metadata": {},
   "outputs": [
    {
     "data": {
      "text/plain": [
       "['claude-opus-4-1-20250805',\n",
       " 'claude-sonnet-4-20250514',\n",
       " 'claude-opus-4-20250514',\n",
       " 'claude-3-opus-20240229',\n",
       " 'claude-3-7-sonnet-20250219',\n",
       " 'claude-3-5-sonnet-20241022',\n",
       " 'claude-3-haiku-20240307',\n",
       " 'claude-3-5-haiku-20241022']"
      ]
     },
     "execution_count": null,
     "metadata": {},
     "output_type": "execute_result"
    }
   ],
   "source": [
    "models"
   ]
  },
  {
   "cell_type": "code",
   "execution_count": null,
   "id": "53a6d47a",
   "metadata": {},
   "outputs": [],
   "source": [
    "#| export\n",
    "models_aws = [\n",
    "    'anthropic.claude-opus-4-1-20250805-v1:0',\n",
    "    'anthropic.claude-sonnet-4-20250514-v1:0',\n",
    "    'claude-3-5-haiku-20241022',\n",
    "    'claude-3-7-sonnet-20250219',\n",
    "    'anthropic.claude-3-opus-20240229-v1:0',\n",
    "    'anthropic.claude-3-5-sonnet-20241022-v2:0'\n",
    "]"
   ]
  },
  {
   "cell_type": "code",
   "execution_count": null,
   "id": "f3ed4f95",
   "metadata": {},
   "outputs": [],
   "source": [
    "#| export\n",
    "models_goog = [\n",
    "    'claude-opus-4-1@20250805',\n",
    "    'anthropic.claude-3-sonnet-20240229-v1:0',\n",
    "    'anthropic.claude-3-haiku-20240307-v1:0',\n",
    "    'claude-3-opus@20240229',\n",
    "    'claude-3-5-sonnet-v2@20241022',\n",
    "    'claude-3-sonnet@20240229',\n",
    "    'claude-3-haiku@20240307'\n",
    "]"
   ]
  },
  {
   "cell_type": "code",
   "execution_count": null,
   "id": "669696aa",
   "metadata": {},
   "outputs": [],
   "source": [
    "#| exports\n",
    "text_only_models = ('claude-3-5-haiku-20241022',)"
   ]
  },
  {
   "cell_type": "code",
   "execution_count": null,
   "id": "2411f28d",
   "metadata": {},
   "outputs": [],
   "source": [
    "#| exports\n",
    "has_streaming_models = set(all_models)\n",
    "has_system_prompt_models = set(all_models)\n",
    "has_temperature_models = set(all_models)\n",
    "has_extended_thinking_models = {\n",
    "    'claude-opus-4-1-20250805', 'claude-opus-4-20250514', 'claude-sonnet-4-20250514', 'claude-3-7-sonnet-20250219'\n",
    "}"
   ]
  },
  {
   "cell_type": "code",
   "execution_count": null,
   "id": "980bfdfb",
   "metadata": {},
   "outputs": [
    {
     "data": {
      "text/plain": [
       "{'claude-3-7-sonnet-20250219',\n",
       " 'claude-opus-4-1-20250805',\n",
       " 'claude-opus-4-20250514',\n",
       " 'claude-sonnet-4-20250514'}"
      ]
     },
     "execution_count": null,
     "metadata": {},
     "output_type": "execute_result"
    }
   ],
   "source": [
    "has_extended_thinking_models"
   ]
  },
  {
   "cell_type": "code",
   "execution_count": null,
   "id": "12a68d54",
   "metadata": {},
   "outputs": [],
   "source": [
    "#| exports\n",
    "\n",
    "def can_stream(m): return m in has_streaming_models\n",
    "def can_set_system_prompt(m): return m in has_system_prompt_models\n",
    "def can_set_temperature(m): return m in has_temperature_models\n",
    "def can_use_extended_thinking(m): return m in has_extended_thinking_models"
   ]
  },
  {
   "cell_type": "markdown",
   "id": "0dd0ba8f",
   "metadata": {},
   "source": [
    "We include these functions to provide a uniform library interface with cosette since openai models such as o1 do not have many of these capabilities."
   ]
  },
  {
   "cell_type": "code",
   "execution_count": null,
   "id": "55036062",
   "metadata": {},
   "outputs": [],
   "source": [
    "assert can_stream('claude-3-5-sonnet-20241022') and can_set_system_prompt('claude-3-5-sonnet-20241022') and can_set_temperature('claude-3-5-sonnet-20241022')"
   ]
  },
  {
   "cell_type": "markdown",
   "id": "ba6c7f48",
   "metadata": {},
   "source": [
    "These are the current versions and [prices](https://www.anthropic.com/pricing#anthropic-api) of Anthropic's models at the time of writing."
   ]
  },
  {
   "cell_type": "code",
   "execution_count": null,
   "id": "dacf2bd2",
   "metadata": {},
   "outputs": [
    {
     "data": {
      "text/plain": [
       "'claude-sonnet-4-20250514'"
      ]
     },
     "execution_count": null,
     "metadata": {},
     "output_type": "execute_result"
    }
   ],
   "source": [
    "model = models[1]; model"
   ]
  },
  {
   "cell_type": "markdown",
   "id": "71985a9c",
   "metadata": {},
   "source": [
    "For examples, we'll use the latest Sonnet, since it's awesome."
   ]
  },
  {
   "cell_type": "markdown",
   "id": "863d4d81",
   "metadata": {},
   "source": [
    "## Antropic SDK"
   ]
  },
  {
   "cell_type": "code",
   "execution_count": null,
   "id": "70b53a51",
   "metadata": {},
   "outputs": [],
   "source": [
    "cli = Anthropic()"
   ]
  },
  {
   "cell_type": "markdown",
   "id": "23055b40",
   "metadata": {},
   "source": [
    "This is what Anthropic's SDK provides for interacting with Python. To use it, pass it a list of *messages*, with *content* and a *role*. The roles should alternate between *user* and *assistant*."
   ]
  },
  {
   "cell_type": "markdown",
   "id": "b2db9466",
   "metadata": {},
   "source": [
    ":::{.callout-tip}\n",
    "\n",
    "After the code below you'll see an indented section with an orange vertical line on the left. This is used to show the *result* of running the code above. Because the code is running in a Jupyter Notebook, we don't have to use `print` to display results, we can just type the expression directly, as we do with `r` here.\n",
    "\n",
    ":::"
   ]
  },
  {
   "cell_type": "code",
   "execution_count": null,
   "id": "6ec40731",
   "metadata": {},
   "outputs": [
    {
     "data": {
      "text/markdown": [
       "Nice to meet you, Jeremy! How are you doing today?\n",
       "\n",
       "<details>\n",
       "\n",
       "- id: `msg_01WJzE6MFdW7s3Tqq3VW5uzF`\n",
       "- content: `[{'citations': None, 'text': 'Nice to meet you, Jeremy! How are you doing today?', 'type': 'text'}]`\n",
       "- model: `claude-opus-4-1-20250805`\n",
       "- role: `assistant`\n",
       "- stop_reason: `end_turn`\n",
       "- stop_sequence: `None`\n",
       "- type: `message`\n",
       "- usage: `{'cache_creation_input_tokens': 0, 'cache_read_input_tokens': 0, 'input_tokens': 10, 'output_tokens': 16, 'server_tool_use': None, 'service_tier': 'standard'}`\n",
       "\n",
       "</details>"
      ],
      "text/plain": [
       "Message(id='msg_01WJzE6MFdW7s3Tqq3VW5uzF', content=[TextBlock(citations=None, text='Nice to meet you, Jeremy! How are you doing today?', type='text')], model='claude-opus-4-1-20250805', role='assistant', stop_reason='end_turn', stop_sequence=None, type='message', usage=In: 10; Out: 16; Cache create: 0; Cache read: 0; Total Tokens: 26; Search: 0)"
      ]
     },
     "execution_count": null,
     "metadata": {},
     "output_type": "execute_result"
    }
   ],
   "source": [
    "m = {'role': 'user', 'content': \"I'm Jeremy\"}\n",
    "r = cli.messages.create(messages=[m], model=model, max_tokens=100)\n",
    "r"
   ]
  },
  {
   "cell_type": "markdown",
   "id": "d6359e1a",
   "metadata": {},
   "source": [
    "### Formatting output"
   ]
  },
  {
   "cell_type": "markdown",
   "id": "865c40a9",
   "metadata": {},
   "source": [
    "That output is pretty long and hard to read, so let's clean it up. We'll start by pulling out the `Content` part of the message.\n",
    "To do that, we're going to write our first function which will be included to the `claudette/core.py` module."
   ]
  },
  {
   "cell_type": "markdown",
   "id": "e42e5d44",
   "metadata": {},
   "source": [
    ":::{.callout-tip}\n",
    "\n",
    "This is the first exported public function or class we're creating (the previous export was of a variable). In the rendered version of the notebook for these you'll see 4 things, in this order (unless the symbol starts with a single `_`, which indicates it's *private*):\n",
    "\n",
    "- The signature (with the symbol name as a heading, with a horizontal rule above)\n",
    "- A table of paramater docs (if provided)\n",
    "- The doc string (in italics).\n",
    "- The source code (in a collapsible \"Exported source\" block)\n",
    "\n",
    "After that, we generally provide a bit more detail on what we've created, and why, along with a sample usage.\n",
    "\n",
    ":::"
   ]
  },
  {
   "cell_type": "code",
   "execution_count": null,
   "id": "eba620ce",
   "metadata": {},
   "outputs": [],
   "source": [
    "#| exports\n",
    "def _type(x):\n",
    "    try: return x.type\n",
    "    except AttributeError: return x.get('type')\n",
    "\n",
    "def find_block(r:abc.Mapping, # The message to look in\n",
    "               blk_type:type|str=TextBlock  # The type of block to find\n",
    "              ):\n",
    "    \"Find the first block of type `blk_type` in `r.content`.\"\n",
    "    f = (lambda x:_type(x)==blk_type) if isinstance(blk_type,str) else (lambda x:isinstance(x,blk_type))\n",
    "    return first(o for o in r.content if f(o))"
   ]
  },
  {
   "cell_type": "markdown",
   "id": "1fa93ca1",
   "metadata": {},
   "source": [
    "This makes it easier to grab the needed parts of Claude's responses, which can include multiple pieces of content. By default, we look for the first text block. That will generally have the content we want to display."
   ]
  },
  {
   "cell_type": "code",
   "execution_count": null,
   "id": "10af0e65",
   "metadata": {},
   "outputs": [
    {
     "data": {
      "text/plain": [
       "TextBlock(citations=None, text='Nice to meet you, Jeremy! How are you doing today? Is there anything I can help you with?', type='text')"
      ]
     },
     "execution_count": null,
     "metadata": {},
     "output_type": "execute_result"
    }
   ],
   "source": [
    "find_block(r)"
   ]
  },
  {
   "cell_type": "code",
   "execution_count": null,
   "id": "ae99799d",
   "metadata": {},
   "outputs": [],
   "source": [
    "def contents(r):\n",
    "    \"Helper to get the contents from Claude response `r`.\"\n",
    "    blk = find_block(r)\n",
    "    if not blk and r.content: blk = r.content[0]\n",
    "    return blk.text.strip() if hasattr(blk,'text') else str(blk)"
   ]
  },
  {
   "cell_type": "markdown",
   "id": "ffb59427",
   "metadata": {},
   "source": [
    "For display purposes, we often just want to show the text itself."
   ]
  },
  {
   "cell_type": "code",
   "execution_count": null,
   "id": "6d5f2107",
   "metadata": {},
   "outputs": [
    {
     "data": {
      "text/plain": [
       "'Nice to meet you, Jeremy! How are you doing today? Is there anything I can help you with?'"
      ]
     },
     "execution_count": null,
     "metadata": {},
     "output_type": "execute_result"
    }
   ],
   "source": [
    "contents(r)"
   ]
  },
  {
   "cell_type": "code",
   "execution_count": null,
   "id": "17924d0c",
   "metadata": {},
   "outputs": [],
   "source": [
    "#| exports\n",
    "@patch\n",
    "def _repr_markdown_(self:(Message)):\n",
    "    det = '\\n- '.join(f'{k}: `{v}`' for k,v in self.model_dump().items())\n",
    "    cts = re.sub(r'\\$', '&#36;', contents(self))  # escape `$` for jupyter latex\n",
    "    return f\"\"\"{cts}\n",
    "\n",
    "<details>\n",
    "\n",
    "- {det}\n",
    "\n",
    "</details>\"\"\""
   ]
  },
  {
   "cell_type": "markdown",
   "id": "3764d112",
   "metadata": {},
   "source": [
    "Jupyter looks for a `_repr_markdown_` method in displayed objects; we add this in order to display just the content text, and collapse full details into a hideable section. Note that `patch` is from [fastcore](https://fastcore.fast.ai/), and is used to add (or replace) functionality in an existing class. We pass the class(es) that we want to patch as type annotations to `self`. In this case, `_repr_markdown_` is being added to Anthropic's `Message` class, so when we display the message now we just see the contents, and the details are hidden away in a collapsible details block."
   ]
  },
  {
   "cell_type": "code",
   "execution_count": null,
   "id": "cfd85eeb",
   "metadata": {},
   "outputs": [
    {
     "data": {
      "text/markdown": [
       "Nice to meet you, Jeremy! How are you doing today? Is there anything I can help you with?\n",
       "\n",
       "<details>\n",
       "\n",
       "- id: `msg_01J8ZkXuLCPbVVrnJHLkPE61`\n",
       "- content: `[{'citations': None, 'text': 'Nice to meet you, Jeremy! How are you doing today? Is there anything I can help you with?', 'type': 'text'}]`\n",
       "- model: `claude-sonnet-4-20250514`\n",
       "- role: `assistant`\n",
       "- stop_reason: `end_turn`\n",
       "- stop_sequence: `None`\n",
       "- type: `message`\n",
       "- usage: `{'cache_creation_input_tokens': 0, 'cache_read_input_tokens': 0, 'input_tokens': 10, 'output_tokens': 25, 'server_tool_use': None, 'service_tier': 'standard'}`\n",
       "\n",
       "</details>"
      ],
      "text/plain": [
       "Message(id='msg_01J8ZkXuLCPbVVrnJHLkPE61', content=[TextBlock(citations=None, text='Nice to meet you, Jeremy! How are you doing today? Is there anything I can help you with?', type='text')], model='claude-sonnet-4-20250514', role='assistant', stop_reason='end_turn', stop_sequence=None, type='message', usage=In: 10; Out: 25; Cache create: 0; Cache read: 0; Total Tokens: 35; Search: 0)"
      ]
     },
     "execution_count": null,
     "metadata": {},
     "output_type": "execute_result"
    }
   ],
   "source": [
    "r"
   ]
  },
  {
   "cell_type": "markdown",
   "id": "8615447e",
   "metadata": {},
   "source": [
    "One key part of the response is the `usage` key, which tells us how many tokens we used by returning a `Usage` object.\n",
    "\n",
    "We'll add some helpers to make things a bit cleaner for creating and formatting these objects."
   ]
  },
  {
   "cell_type": "code",
   "execution_count": null,
   "id": "10c7466f",
   "metadata": {},
   "outputs": [
    {
     "data": {
      "text/plain": [
       "In: 10; Out: 25; Cache create: 0; Cache read: 0; Total Tokens: 35; Search: 0"
      ]
     },
     "execution_count": null,
     "metadata": {},
     "output_type": "execute_result"
    }
   ],
   "source": [
    "r.usage"
   ]
  },
  {
   "cell_type": "code",
   "execution_count": null,
   "id": "56d7e83f",
   "metadata": {},
   "outputs": [],
   "source": [
    "#| exports\n",
    "def server_tool_usage(web_search_requests=0):\n",
    "    'Little helper to create a server tool usage object'\n",
    "    return ServerToolUsage(web_search_requests=web_search_requests)"
   ]
  },
  {
   "cell_type": "code",
   "execution_count": null,
   "id": "b1a24f68",
   "metadata": {},
   "outputs": [],
   "source": [
    "#| exports\n",
    "def usage(inp=0, # input tokens\n",
    "          out=0,  # Output tokens\n",
    "          cache_create=0, # Cache creation tokens\n",
    "          cache_read=0, # Cache read tokens\n",
    "          server_tool_use=server_tool_usage() # server tool use\n",
    "         ):\n",
    "    'Slightly more concise version of `Usage`.'\n",
    "    return Usage(input_tokens=inp, output_tokens=out, cache_creation_input_tokens=cache_create,\n",
    "                 cache_read_input_tokens=cache_read, server_tool_use=server_tool_use)"
   ]
  },
  {
   "cell_type": "markdown",
   "id": "2184ec7f",
   "metadata": {},
   "source": [
    "The constructor provided by Anthropic is rather verbose, so we clean it up a bit, using a lowercase version of the name."
   ]
  },
  {
   "cell_type": "code",
   "execution_count": null,
   "id": "a7e52afd",
   "metadata": {},
   "outputs": [
    {
     "data": {
      "text/plain": [
       "In: 5; Out: 0; Cache create: 0; Cache read: 0; Total Tokens: 5; Search: 0"
      ]
     },
     "execution_count": null,
     "metadata": {},
     "output_type": "execute_result"
    }
   ],
   "source": [
    "usage(5)"
   ]
  },
  {
   "cell_type": "code",
   "execution_count": null,
   "id": "2db64da5",
   "metadata": {},
   "outputs": [],
   "source": [
    "#| exports\n",
    "def _dgetattr(o,s,d): \n",
    "    \"Like getattr, but returns the default if the result is None\"\n",
    "    return getattr(o,s,d) or d\n",
    "\n",
    "@patch(as_prop=True)\n",
    "def total(self:Usage): return self.input_tokens+self.output_tokens+_dgetattr(self, \"cache_creation_input_tokens\",0)+_dgetattr(self, \"cache_read_input_tokens\",0)"
   ]
  },
  {
   "cell_type": "markdown",
   "id": "5363afa4",
   "metadata": {},
   "source": [
    "Adding a `total` property to `Usage` makes it easier to see how many tokens we've used up altogether."
   ]
  },
  {
   "cell_type": "code",
   "execution_count": null,
   "id": "74553203",
   "metadata": {},
   "outputs": [
    {
     "data": {
      "text/plain": [
       "6"
      ]
     },
     "execution_count": null,
     "metadata": {},
     "output_type": "execute_result"
    }
   ],
   "source": [
    "usage(5,1).total"
   ]
  },
  {
   "cell_type": "code",
   "execution_count": null,
   "id": "27468180",
   "metadata": {},
   "outputs": [],
   "source": [
    "#| exports\n",
    "@patch\n",
    "def __repr__(self:Usage):\n",
    "    io_toks = f'In: {self.input_tokens}; Out: {self.output_tokens}'\n",
    "    cache_toks = f'Cache create: {_dgetattr(self, \"cache_creation_input_tokens\",0)}; Cache read: {_dgetattr(self, \"cache_read_input_tokens\",0)}'\n",
    "    server_tool_use = _dgetattr(self, \"server_tool_use\",server_tool_usage())\n",
    "    server_tool_use_str = f'Search: {server_tool_use.web_search_requests}'\n",
    "    total_tok = f'Total Tokens: {self.total}'\n",
    "    return f'{io_toks}; {cache_toks}; {total_tok}; {server_tool_use_str}'"
   ]
  },
  {
   "cell_type": "markdown",
   "id": "dbbf7024",
   "metadata": {},
   "source": [
    "In python, patching `__repr__` lets us change how an object is displayed. (More generally, methods starting and ending in `__` in Python are called `dunder` methods, and have some `magic` behavior -- such as, in this case, changing how an object is displayed.) We won't be directly displaying ServerToolUsage's, so we can handle its display behavior in the same Usage `__repr__`"
   ]
  },
  {
   "cell_type": "code",
   "execution_count": null,
   "id": "b8af5068",
   "metadata": {},
   "outputs": [
    {
     "data": {
      "text/plain": [
       "In: 5; Out: 0; Cache create: 0; Cache read: 0; Total Tokens: 5; Search: 0"
      ]
     },
     "execution_count": null,
     "metadata": {},
     "output_type": "execute_result"
    }
   ],
   "source": [
    "usage(5)"
   ]
  },
  {
   "cell_type": "code",
   "execution_count": null,
   "id": "4a9886af",
   "metadata": {},
   "outputs": [],
   "source": [
    "#| exports\n",
    "@patch\n",
    "def __add__(self:ServerToolUsage, b):\n",
    "    \"Add together each of the server tool use counts\"\n",
    "    return ServerToolUsage(web_search_requests=self.web_search_requests+b.web_search_requests)"
   ]
  },
  {
   "cell_type": "markdown",
   "id": "a8918938",
   "metadata": {},
   "source": [
    "And, patching `__add__` lets `+` work on a `ServerToolUsage` as well as a `Usage` object."
   ]
  },
  {
   "cell_type": "code",
   "execution_count": null,
   "id": "facab8cd",
   "metadata": {},
   "outputs": [
    {
     "data": {
      "text/plain": [
       "ServerToolUsage(web_search_requests=3)"
      ]
     },
     "execution_count": null,
     "metadata": {},
     "output_type": "execute_result"
    }
   ],
   "source": [
    "server_tool_usage(1) + server_tool_usage(2)"
   ]
  },
  {
   "cell_type": "code",
   "execution_count": null,
   "id": "6c9025c6",
   "metadata": {},
   "outputs": [],
   "source": [
    "#| exports\n",
    "@patch\n",
    "def __add__(self:Usage, b):\n",
    "    \"Add together each of `input_tokens` and `output_tokens`\"\n",
    "    return usage(self.input_tokens+b.input_tokens, self.output_tokens+b.output_tokens,\n",
    "                 _dgetattr(self,'cache_creation_input_tokens',0)+_dgetattr(b,'cache_creation_input_tokens',0),\n",
    "                 _dgetattr(self,'cache_read_input_tokens',0)+_dgetattr(b,'cache_read_input_tokens',0),\n",
    "                 _dgetattr(self,'server_tool_use',server_tool_usage())+_dgetattr(b,'server_tool_use',server_tool_usage()))"
   ]
  },
  {
   "cell_type": "code",
   "execution_count": null,
   "id": "bffb0b2e",
   "metadata": {},
   "outputs": [
    {
     "data": {
      "text/plain": [
       "In: 20; Out: 50; Cache create: 0; Cache read: 0; Total Tokens: 70; Search: 1"
      ]
     },
     "execution_count": null,
     "metadata": {},
     "output_type": "execute_result"
    }
   ],
   "source": [
    "r.usage+r.usage + usage(server_tool_use=server_tool_usage(1))"
   ]
  },
  {
   "cell_type": "markdown",
   "id": "edd0a43f",
   "metadata": {},
   "source": [
    "### Creating messages"
   ]
  },
  {
   "cell_type": "markdown",
   "id": "b4912f1e",
   "metadata": {},
   "source": [
    "Creating correctly formatted `dict`s from scratch every time isn't very handy, so we'll import a couple of helper functions from the `msglm` library.\n",
    "\n",
    "Let's use `mk_msg` to recreate our msg `{'role': 'user', 'content': \"I'm Jeremy\"}` from earlier."
   ]
  },
  {
   "cell_type": "code",
   "execution_count": null,
   "id": "0ffa2c14",
   "metadata": {},
   "outputs": [
    {
     "data": {
      "text/markdown": [
       "Hello Jeremy! Nice to meet you. How are you doing today? Is there anything I can help you with or would you like to chat about something in particular?\n",
       "\n",
       "<details>\n",
       "\n",
       "- id: `msg_01LURaS5AXkvEg257K5vZCEm`\n",
       "- content: `[{'citations': None, 'text': 'Hello Jeremy! Nice to meet you. How are you doing today? Is there anything I can help you with or would you like to chat about something in particular?', 'type': 'text'}]`\n",
       "- model: `claude-sonnet-4-20250514`\n",
       "- role: `assistant`\n",
       "- stop_reason: `end_turn`\n",
       "- stop_sequence: `None`\n",
       "- type: `message`\n",
       "- usage: `{'cache_creation_input_tokens': 0, 'cache_read_input_tokens': 0, 'input_tokens': 10, 'output_tokens': 36, 'server_tool_use': None, 'service_tier': 'standard'}`\n",
       "\n",
       "</details>"
      ],
      "text/plain": [
       "Message(id='msg_01LURaS5AXkvEg257K5vZCEm', content=[TextBlock(citations=None, text='Hello Jeremy! Nice to meet you. How are you doing today? Is there anything I can help you with or would you like to chat about something in particular?', type='text')], model='claude-sonnet-4-20250514', role='assistant', stop_reason='end_turn', stop_sequence=None, type='message', usage=In: 10; Out: 36; Cache create: 0; Cache read: 0; Total Tokens: 46; Search: 0)"
      ]
     },
     "execution_count": null,
     "metadata": {},
     "output_type": "execute_result"
    }
   ],
   "source": [
    "prompt = \"I'm Jeremy\"\n",
    "m = mk_msg(prompt)\n",
    "r = cli.messages.create(messages=[m], model=model, max_tokens=100)\n",
    "r"
   ]
  },
  {
   "cell_type": "markdown",
   "id": "2fba8532",
   "metadata": {},
   "source": [
    "We can pass more than just text messages to Claude. As we'll see later we can also pass images, SDK objects, etc. To handle these different data types we need to pass the type along with our content to Claude. \n",
    "\n",
    "Here's an example of a multimodal message containing text and images. \n",
    "\n",
    "```json\n",
    "{\n",
    "    'role': 'user', \n",
    "    'content': [\n",
    "        {'type':'text', 'text':'What is in the image?'},\n",
    "        {\n",
    "            'type':'image', \n",
    "            'source': {\n",
    "                'type':'base64', 'media_type':'media_type', 'data': 'data'\n",
    "            }\n",
    "        }\n",
    "    ]\n",
    "}\n",
    "```\n",
    "\n",
    "`mk_msg` infers the type automatically and creates the appropriate data structure. "
   ]
  },
  {
   "cell_type": "markdown",
   "id": "fb04f6b4",
   "metadata": {},
   "source": [
    "LLMs, don't actually have state, but instead dialogs are created by passing back all previous prompts and responses every time. With Claude, they always alternate *user* and *assistant*. We'll use `mk_msgs` from `msglm` to make it easier to build up these dialog lists."
   ]
  },
  {
   "cell_type": "code",
   "execution_count": null,
   "id": "b4c8fcad",
   "metadata": {},
   "outputs": [
    {
     "data": {
      "text/plain": [
       "[{'role': 'user', 'content': \"I'm Jeremy\"},\n",
       " {'role': 'assistant',\n",
       "  'content': [TextBlock(citations=None, text='Hello Jeremy! Nice to meet you. How are you doing today? Is there anything I can help you with or would you like to chat about something in particular?', type='text')]},\n",
       " {'role': 'user', 'content': 'I forgot my name. Can you remind me please?'}]"
      ]
     },
     "execution_count": null,
     "metadata": {},
     "output_type": "execute_result"
    }
   ],
   "source": [
    "msgs = mk_msgs([prompt, r, \"I forgot my name. Can you remind me please?\"]) \n",
    "msgs"
   ]
  },
  {
   "cell_type": "code",
   "execution_count": null,
   "id": "6c464f8b",
   "metadata": {},
   "outputs": [
    {
     "data": {
      "text/markdown": [
       "Your name is Jeremy - you introduced yourself to me just a moment ago in your first message.\n",
       "\n",
       "<details>\n",
       "\n",
       "- id: `msg_01SVb9E1RtGWG9GZHpKUfUqg`\n",
       "- content: `[{'citations': None, 'text': 'Your name is Jeremy - you introduced yourself to me just a moment ago in your first message.', 'type': 'text'}]`\n",
       "- model: `claude-sonnet-4-20250514`\n",
       "- role: `assistant`\n",
       "- stop_reason: `end_turn`\n",
       "- stop_sequence: `None`\n",
       "- type: `message`\n",
       "- usage: `{'cache_creation_input_tokens': 0, 'cache_read_input_tokens': 0, 'input_tokens': 60, 'output_tokens': 22, 'server_tool_use': None, 'service_tier': 'standard'}`\n",
       "\n",
       "</details>"
      ],
      "text/plain": [
       "Message(id='msg_01SVb9E1RtGWG9GZHpKUfUqg', content=[TextBlock(citations=None, text='Your name is Jeremy - you introduced yourself to me just a moment ago in your first message.', type='text')], model='claude-sonnet-4-20250514', role='assistant', stop_reason='end_turn', stop_sequence=None, type='message', usage=In: 60; Out: 22; Cache create: 0; Cache read: 0; Total Tokens: 82; Search: 0)"
      ]
     },
     "execution_count": null,
     "metadata": {},
     "output_type": "execute_result"
    }
   ],
   "source": [
    "cli.messages.create(messages=msgs, model=model, max_tokens=200)"
   ]
  },
  {
   "cell_type": "markdown",
   "id": "281f8a4d",
   "metadata": {},
   "source": [
    "## Client"
   ]
  },
  {
   "cell_type": "code",
   "execution_count": null,
   "id": "3b873aaf",
   "metadata": {},
   "outputs": [],
   "source": [
    "#| exports\n",
    "class Client:\n",
    "    def __init__(self, model, cli=None, log=False, cache=False):\n",
    "        \"Basic Anthropic messages client.\"\n",
    "        self.model,self.use = model,usage()\n",
    "        self.text_only = model in text_only_models\n",
    "        self.log = [] if log else None\n",
    "        self.c = (cli or Anthropic(default_headers={'anthropic-beta': 'prompt-caching-2024-07-31'}))\n",
    "        self.cache = cache"
   ]
  },
  {
   "cell_type": "markdown",
   "id": "146e39f0",
   "metadata": {},
   "source": [
    "We'll create a simple `Client` for `Anthropic` which tracks usage stores the model to use. We don't add any methods right away -- instead we'll use `patch` for that so we can add and document them incrementally."
   ]
  },
  {
   "cell_type": "code",
   "execution_count": null,
   "id": "d01e9ccf",
   "metadata": {},
   "outputs": [
    {
     "data": {
      "text/plain": [
       "In: 0; Out: 0; Cache create: 0; Cache read: 0; Total Tokens: 0; Search: 0"
      ]
     },
     "execution_count": null,
     "metadata": {},
     "output_type": "execute_result"
    }
   ],
   "source": [
    "c = Client(model)\n",
    "c.use"
   ]
  },
  {
   "cell_type": "code",
   "execution_count": null,
   "id": "8015d3f3",
   "metadata": {},
   "outputs": [],
   "source": [
    "#| exports\n",
    "@patch\n",
    "def _r(self:Client, r:Message, prefill=''):\n",
    "    \"Store the result of the message and accrue total usage.\"\n",
    "    if prefill:\n",
    "        blk = find_block(r)\n",
    "        if blk: blk.text = prefill + (blk.text or '')\n",
    "    self.result = r\n",
    "    self.use += r.usage\n",
    "    self.stop_reason = r.stop_reason\n",
    "    self.stop_sequence = r.stop_sequence\n",
    "    return r"
   ]
  },
  {
   "cell_type": "markdown",
   "id": "68d2eb9b",
   "metadata": {},
   "source": [
    "We use a `_` prefix on private methods, but we document them here in the interests of literate source code.\n",
    "\n",
    "`_r` will be used each time we get a new result, to track usage and also to keep the result available for later."
   ]
  },
  {
   "cell_type": "code",
   "execution_count": null,
   "id": "0181f7b3",
   "metadata": {},
   "outputs": [
    {
     "data": {
      "text/plain": [
       "In: 10; Out: 36; Cache create: 0; Cache read: 0; Total Tokens: 46; Search: 0"
      ]
     },
     "execution_count": null,
     "metadata": {},
     "output_type": "execute_result"
    }
   ],
   "source": [
    "c._r(r)\n",
    "c.use"
   ]
  },
  {
   "cell_type": "markdown",
   "id": "7258fd6e",
   "metadata": {},
   "source": [
    "Whereas OpenAI's models use a `stream` parameter for streaming, Anthropic's use a separate method. We implement Anthropic's approach in a private method, and then use a `stream` parameter in `__call__` for consistency:"
   ]
  },
  {
   "cell_type": "code",
   "execution_count": null,
   "id": "6520a355",
   "metadata": {},
   "outputs": [],
   "source": [
    "#| exports\n",
    "@patch\n",
    "def _log(self:Client, final, prefill, msgs, **kwargs):\n",
    "    self._r(final, prefill)\n",
    "    if self.log is not None: self.log.append({\n",
    "        \"msgs\": msgs, **kwargs,\n",
    "        \"result\": self.result, \"use\": self.use, \"stop_reason\": self.stop_reason, \"stop_sequence\": self.stop_sequence\n",
    "    })\n",
    "    return self.result"
   ]
  },
  {
   "cell_type": "markdown",
   "id": "2412e301",
   "metadata": {},
   "source": [
    "Once streaming is complete, we need to store the final message and call any completion callback that's needed."
   ]
  },
  {
   "cell_type": "code",
   "execution_count": null,
   "id": "958b7d6b",
   "metadata": {},
   "outputs": [],
   "source": [
    "#| exports\n",
    "@save_iter\n",
    "def _stream(o, cm, prefill, cb):\n",
    "    with cm as s:\n",
    "        yield prefill\n",
    "        yield from s.text_stream\n",
    "        o.value = s.get_final_message()\n",
    "        cb(o.value)"
   ]
  },
  {
   "cell_type": "code",
   "execution_count": null,
   "id": "a9b93c01",
   "metadata": {},
   "outputs": [],
   "source": [
    "#| export\n",
    "def get_types(msgs):\n",
    "    types = []\n",
    "    for m in msgs:\n",
    "        content = m.get('content', [])\n",
    "        if isinstance(content, list): types.extend(getattr(c, 'type', None) or c['type'] for c in content)\n",
    "        else: types.append('text')\n",
    "    return types"
   ]
  },
  {
   "cell_type": "code",
   "execution_count": null,
   "id": "9e8f15b4",
   "metadata": {},
   "outputs": [
    {
     "data": {
      "text/plain": [
       "['text', 'text', 'text']"
      ]
     },
     "execution_count": null,
     "metadata": {},
     "output_type": "execute_result"
    }
   ],
   "source": [
    "get_types(msgs)"
   ]
  },
  {
   "cell_type": "code",
   "execution_count": null,
   "id": "7ff965f1",
   "metadata": {},
   "outputs": [],
   "source": [
    "#| export\n",
    "def mk_tool_choice(choose:Union[str,bool,None])->dict:\n",
    "    \"Create a `tool_choice` dict that's 'auto' if `choose` is `None`, 'any' if it is True, or 'tool' otherwise\"\n",
    "    return {\"type\": \"tool\", \"name\": choose} if isinstance(choose,str) else {'type':'any'} if choose else {'type':'auto'}"
   ]
  },
  {
   "cell_type": "code",
   "execution_count": null,
   "id": "59466964",
   "metadata": {},
   "outputs": [
    {
     "name": "stdout",
     "output_type": "stream",
     "text": [
      "{'type': 'tool', 'name': 'sums'}\n",
      "{'type': 'any'}\n",
      "{'type': 'auto'}\n"
     ]
    }
   ],
   "source": [
    "print(mk_tool_choice('sums'))\n",
    "print(mk_tool_choice(True))\n",
    "print(mk_tool_choice(None))"
   ]
  },
  {
   "cell_type": "markdown",
   "id": "33807e2c",
   "metadata": {},
   "source": [
    "Claude can be forced to use a particular tool, or select from a specific list of tools, or decide for itself when to use a tool. If you want to force a tool (or force choosing from a list), include a `tool_choice` param with a dict from `mk_tool_choice`.\n",
    "\n",
    "Claude supports adding an extra `assistant` message at the end, which contains the *prefill* -- i.e. the text we want Claude to assume the response starts with. However Claude doesn't actually repeat that in the response, so for convenience we add it."
   ]
  },
  {
   "cell_type": "code",
   "execution_count": null,
   "id": "b1604237",
   "metadata": {},
   "outputs": [],
   "source": [
    "#| exports\n",
    "@patch\n",
    "def _precall(self:Client, msgs, prefill, sp, temp, maxtok, maxthinktok, stream,\n",
    "             stop, tools, tool_choice, kwargs):\n",
    "    if tools: kwargs['tools'] = [get_schema(o) if callable(o) else o for o in listify(tools)]\n",
    "    if tool_choice: kwargs['tool_choice'] = mk_tool_choice(tool_choice)\n",
    "    if maxthinktok: \n",
    "        kwargs['thinking'] = {'type':'enabled', 'budget_tokens':maxthinktok} \n",
    "        temp,prefill = 1,''\n",
    "    pref = [prefill.strip()] if prefill else []\n",
    "    if not isinstance(msgs,list): msgs = [msgs]\n",
    "    if stop is not None:\n",
    "        if not isinstance(stop, (list)): stop = [stop]\n",
    "        kwargs[\"stop_sequences\"] = stop\n",
    "    msgs = mk_msgs(msgs+pref, cache=self.cache, cache_last_ckpt_only=self.cache)\n",
    "    assert not ('image' in get_types(msgs) and self.text_only), f\"Images not supported by: {self.model}\"\n",
    "    kwargs |= dict(max_tokens=maxtok, system=sp, temperature=temp)\n",
    "    return msgs, kwargs"
   ]
  },
  {
   "cell_type": "code",
   "execution_count": null,
   "id": "95bddb45",
   "metadata": {},
   "outputs": [],
   "source": [
    "#| exports\n",
    "@patch\n",
    "@delegates(messages.Messages.create)\n",
    "def __call__(self:Client,\n",
    "             msgs:list, # List of messages in the dialog\n",
    "             sp='', # The system prompt\n",
    "             temp=0, # Temperature\n",
    "             maxtok=4096, # Maximum tokens\n",
    "             maxthinktok=0, # Maximum thinking tokens\n",
    "             prefill='', # Optional prefill to pass to Claude as start of its response\n",
    "             stream:bool=False, # Stream response?\n",
    "             stop=None, # Stop sequence\n",
    "             tools:Optional[list]=None, # List of tools to make available to Claude\n",
    "             tool_choice:Optional[dict]=None, # Optionally force use of some tool\n",
    "             cb=None, # Callback to pass result to when complete\n",
    "             **kwargs):\n",
    "    \"Make a call to Claude.\"\n",
    "    msgs,kwargs = self._precall(msgs, prefill, sp, temp, maxtok, maxthinktok, stream,\n",
    "                                stop, tools, tool_choice, kwargs)\n",
    "    m = self.c.messages\n",
    "    f = m.stream if stream else m.create\n",
    "    res = f(model=self.model, messages=msgs, **kwargs)\n",
    "    def _cb(v):\n",
    "        self._log(v, prefill=prefill, msgs=msgs, **kwargs)\n",
    "        if cb: cb(v)\n",
    "    if stream: return _stream(res, prefill, _cb)\n",
    "    try: return res\n",
    "    finally: _cb(res)"
   ]
  },
  {
   "cell_type": "markdown",
   "id": "3cee10c8",
   "metadata": {},
   "source": [
    "Defining `__call__` let's us use an object like a function (i.e it's *callable*). We use it as a small wrapper over `messages.create`."
   ]
  },
  {
   "cell_type": "code",
   "execution_count": null,
   "id": "881b5e78",
   "metadata": {},
   "outputs": [
    {
     "data": {
      "text/plain": [
       "In: 0; Out: 0; Cache create: 0; Cache read: 0; Total Tokens: 0; Search: 0"
      ]
     },
     "execution_count": null,
     "metadata": {},
     "output_type": "execute_result"
    }
   ],
   "source": [
    "c = Client(model, log=True)\n",
    "c.use"
   ]
  },
  {
   "cell_type": "code",
   "execution_count": null,
   "id": "e74fc422",
   "metadata": {},
   "outputs": [
    {
     "data": {
      "text/markdown": [
       "Hello! How are you doing today? Is there anything I can help you with?\n",
       "\n",
       "<details>\n",
       "\n",
       "- id: `msg_01QnW4AmQNCU7xQoiqaNdnYx`\n",
       "- content: `[{'citations': None, 'text': 'Hello! How are you doing today? Is there anything I can help you with?', 'type': 'text'}]`\n",
       "- model: `claude-sonnet-4-20250514`\n",
       "- role: `assistant`\n",
       "- stop_reason: `end_turn`\n",
       "- stop_sequence: `None`\n",
       "- type: `message`\n",
       "- usage: `{'cache_creation_input_tokens': 0, 'cache_read_input_tokens': 0, 'input_tokens': 8, 'output_tokens': 20, 'server_tool_use': None, 'service_tier': 'standard'}`\n",
       "\n",
       "</details>"
      ],
      "text/plain": [
       "Message(id='msg_01QnW4AmQNCU7xQoiqaNdnYx', content=[TextBlock(citations=None, text='Hello! How are you doing today? Is there anything I can help you with?', type='text')], model='claude-sonnet-4-20250514', role='assistant', stop_reason='end_turn', stop_sequence=None, type='message', usage=In: 8; Out: 20; Cache create: 0; Cache read: 0; Total Tokens: 28; Search: 0)"
      ]
     },
     "execution_count": null,
     "metadata": {},
     "output_type": "execute_result"
    }
   ],
   "source": [
    "c('Hi')"
   ]
  },
  {
   "cell_type": "markdown",
   "id": "c33d6c6b",
   "metadata": {},
   "source": [
    "Usage details are automatically updated after each call:"
   ]
  },
  {
   "cell_type": "code",
   "execution_count": null,
   "id": "ae9f7e06",
   "metadata": {},
   "outputs": [
    {
     "data": {
      "text/plain": [
       "In: 8; Out: 20; Cache create: 0; Cache read: 0; Total Tokens: 28; Search: 0"
      ]
     },
     "execution_count": null,
     "metadata": {},
     "output_type": "execute_result"
    }
   ],
   "source": [
    "c.use"
   ]
  },
  {
   "cell_type": "markdown",
   "id": "652ef0d1",
   "metadata": {},
   "source": [
    "A log of all messages is kept if `log=True` is passed:"
   ]
  },
  {
   "cell_type": "code",
   "execution_count": null,
   "id": "6ba81866",
   "metadata": {},
   "outputs": [
    {
     "name": "stdout",
     "output_type": "stream",
     "text": [
      "[{'max_tokens': 4096,\n",
      "  'msgs': [{'content': 'Hi', 'role': 'user'}],\n",
      "  'result': Message(id='msg_01QnW4AmQNCU7xQoiqaNdnYx', content=[TextBlock(citations=None, text='Hello! How are you doing today? Is there anything I can help you with?', type='text')], model='claude-sonnet-4-20250514', role='assistant', stop_reason='end_turn', stop_sequence=None, type='message', usage=In: 8; Out: 20; Cache create: 0; Cache read: 0; Total Tokens: 28; Search: 0),\n",
      "  'stop_reason': 'end_turn',\n",
      "  'stop_sequence': None,\n",
      "  'system': '',\n",
      "  'temperature': 0,\n",
      "  'use': In: 8; Out: 20; Cache create: 0; Cache read: 0; Total Tokens: 28; Search: 0}]\n"
     ]
    }
   ],
   "source": [
    "pprint(c.log)"
   ]
  },
  {
   "cell_type": "markdown",
   "id": "2d269ed8",
   "metadata": {},
   "source": [
    "Let's try out *prefill*:"
   ]
  },
  {
   "cell_type": "code",
   "execution_count": null,
   "id": "7f479429",
   "metadata": {},
   "outputs": [],
   "source": [
    "q = \"Very concisely, what is the meaning of life?\"\n",
    "pref = 'According to Douglas Adams, '"
   ]
  },
  {
   "cell_type": "code",
   "execution_count": null,
   "id": "b831ca3d",
   "metadata": {},
   "outputs": [
    {
     "data": {
      "text/markdown": [
       "According to Douglas Adams, 42. But seriously, there's no universal answer - it's deeply personal. Many find meaning through relationships, purpose, growth, helping others, or spiritual beliefs. The search itself might be part of the point.\n",
       "\n",
       "<details>\n",
       "\n",
       "- id: `msg_01UwGPGcytqGDLPkwwkKcmtk`\n",
       "- content: `[{'citations': None, 'text': \"According to Douglas Adams, 42. But seriously, there's no universal answer - it's deeply personal. Many find meaning through relationships, purpose, growth, helping others, or spiritual beliefs. The search itself might be part of the point.\", 'type': 'text'}]`\n",
       "- model: `claude-sonnet-4-20250514`\n",
       "- role: `assistant`\n",
       "- stop_reason: `end_turn`\n",
       "- stop_sequence: `None`\n",
       "- type: `message`\n",
       "- usage: `{'cache_creation_input_tokens': 0, 'cache_read_input_tokens': 0, 'input_tokens': 24, 'output_tokens': 46, 'server_tool_use': None, 'service_tier': 'standard'}`\n",
       "\n",
       "</details>"
      ],
      "text/plain": [
       "Message(id='msg_01UwGPGcytqGDLPkwwkKcmtk', content=[TextBlock(citations=None, text=\"According to Douglas Adams, 42. But seriously, there's no universal answer - it's deeply personal. Many find meaning through relationships, purpose, growth, helping others, or spiritual beliefs. The search itself might be part of the point.\", type='text')], model='claude-sonnet-4-20250514', role='assistant', stop_reason='end_turn', stop_sequence=None, type='message', usage=In: 24; Out: 46; Cache create: 0; Cache read: 0; Total Tokens: 70; Search: 0)"
      ]
     },
     "execution_count": null,
     "metadata": {},
     "output_type": "execute_result"
    }
   ],
   "source": [
    "c(q, prefill=pref)"
   ]
  },
  {
   "cell_type": "code",
   "execution_count": null,
   "id": "bd935215",
   "metadata": {},
   "outputs": [
    {
     "data": {
      "text/plain": [
       "In: 32; Out: 66; Cache create: 0; Cache read: 0; Total Tokens: 98; Search: 0"
      ]
     },
     "execution_count": null,
     "metadata": {},
     "output_type": "execute_result"
    }
   ],
   "source": [
    "c.use"
   ]
  },
  {
   "cell_type": "markdown",
   "id": "216b2704",
   "metadata": {},
   "source": [
    "We can pass `stream=True` to stream the response back incrementally:"
   ]
  },
  {
   "cell_type": "code",
   "execution_count": null,
   "id": "e281399f",
   "metadata": {},
   "outputs": [
    {
     "name": "stdout",
     "output_type": "stream",
     "text": [
      "Hello! How are you doing today? Is there anything I can help you with?"
     ]
    }
   ],
   "source": [
    "r = c('Hi', stream=True)\n",
    "for o in r: print(o, end='')"
   ]
  },
  {
   "cell_type": "code",
   "execution_count": null,
   "id": "beb25f2a",
   "metadata": {},
   "outputs": [
    {
     "data": {
      "text/plain": [
       "In: 40; Out: 86; Cache create: 0; Cache read: 0; Total Tokens: 126; Search: 0"
      ]
     },
     "execution_count": null,
     "metadata": {},
     "output_type": "execute_result"
    }
   ],
   "source": [
    "c.use"
   ]
  },
  {
   "cell_type": "markdown",
   "id": "ad0ed21f",
   "metadata": {},
   "source": [
    "The full final message after completion of streaming is in the `value` attr of the response:"
   ]
  },
  {
   "cell_type": "code",
   "execution_count": null,
   "id": "a198fe54",
   "metadata": {},
   "outputs": [
    {
     "data": {
      "text/markdown": [
       "Hello! How are you doing today? Is there anything I can help you with?\n",
       "\n",
       "<details>\n",
       "\n",
       "- id: `msg_01QNiqERauivLSSrWPuU3HK6`\n",
       "- content: `[{'citations': None, 'text': 'Hello! How are you doing today? Is there anything I can help you with?', 'type': 'text'}]`\n",
       "- model: `claude-sonnet-4-20250514`\n",
       "- role: `assistant`\n",
       "- stop_reason: `end_turn`\n",
       "- stop_sequence: `None`\n",
       "- type: `message`\n",
       "- usage: `{'cache_creation_input_tokens': 0, 'cache_read_input_tokens': 0, 'input_tokens': 8, 'output_tokens': 20, 'server_tool_use': None, 'service_tier': 'standard'}`\n",
       "\n",
       "</details>"
      ],
      "text/plain": [
       "Message(id='msg_01QNiqERauivLSSrWPuU3HK6', content=[TextBlock(citations=None, text='Hello! How are you doing today? Is there anything I can help you with?', type='text')], model='claude-sonnet-4-20250514', role='assistant', stop_reason='end_turn', stop_sequence=None, type='message', usage=In: 8; Out: 20; Cache create: 0; Cache read: 0; Total Tokens: 28; Search: 0)"
      ]
     },
     "execution_count": null,
     "metadata": {},
     "output_type": "execute_result"
    }
   ],
   "source": [
    "r.value"
   ]
  },
  {
   "cell_type": "code",
   "execution_count": null,
   "id": "db1c75ef",
   "metadata": {},
   "outputs": [
    {
     "name": "stdout",
     "output_type": "stream",
     "text": [
      "According to Douglas Adams, 42. But seriously, there's no universal answer - it's deeply personal. Many find meaning through relationships, purpose, growth, helping others, or spiritual beliefs. The search itself might be part of the point."
     ]
    }
   ],
   "source": [
    "for o in c(q, prefill=pref, stream=True): print(o, end='')"
   ]
  },
  {
   "cell_type": "code",
   "execution_count": null,
   "id": "e36eddc9",
   "metadata": {},
   "outputs": [
    {
     "data": {
      "text/plain": [
       "In: 64; Out: 132; Cache create: 0; Cache read: 0; Total Tokens: 196; Search: 0"
      ]
     },
     "execution_count": null,
     "metadata": {},
     "output_type": "execute_result"
    }
   ],
   "source": [
    "c.use"
   ]
  },
  {
   "cell_type": "markdown",
   "id": "bd556e49",
   "metadata": {},
   "source": [
    "Pass a stop sequence if you want claude to stop generating text when it encounters it."
   ]
  },
  {
   "cell_type": "code",
   "execution_count": null,
   "id": "12b17591",
   "metadata": {},
   "outputs": [
    {
     "data": {
      "text/markdown": [
       "1, 2, 3, 4,\n",
       "\n",
       "<details>\n",
       "\n",
       "- id: `msg_01DuSUcJsaVBiLc7MpoDkFtH`\n",
       "- content: `[{'citations': None, 'text': '1, 2, 3, 4, ', 'type': 'text'}]`\n",
       "- model: `claude-sonnet-4-20250514`\n",
       "- role: `assistant`\n",
       "- stop_reason: `stop_sequence`\n",
       "- stop_sequence: `5`\n",
       "- type: `message`\n",
       "- usage: `{'cache_creation_input_tokens': 0, 'cache_read_input_tokens': 0, 'input_tokens': 15, 'output_tokens': 14, 'server_tool_use': None, 'service_tier': 'standard'}`\n",
       "\n",
       "</details>"
      ],
      "text/plain": [
       "Message(id='msg_01DuSUcJsaVBiLc7MpoDkFtH', content=[TextBlock(citations=None, text='1, 2, 3, 4, ', type='text')], model='claude-sonnet-4-20250514', role='assistant', stop_reason='stop_sequence', stop_sequence='5', type='message', usage=In: 15; Out: 14; Cache create: 0; Cache read: 0; Total Tokens: 29; Search: 0)"
      ]
     },
     "execution_count": null,
     "metadata": {},
     "output_type": "execute_result"
    }
   ],
   "source": [
    "c(\"Count from 1 to 10\", stop=\"5\")"
   ]
  },
  {
   "cell_type": "markdown",
   "id": "cdbd3df3",
   "metadata": {},
   "source": [
    "This also works with streaming, and you can pass more than one stop sequence:"
   ]
  },
  {
   "cell_type": "code",
   "execution_count": null,
   "id": "ff50577d",
   "metadata": {},
   "outputs": [
    {
     "name": "stdout",
     "output_type": "stream",
     "text": [
      "1, 2, \n",
      "stop_sequence 3\n"
     ]
    }
   ],
   "source": [
    "for o in c(\"Count from 1 to 10\", stop=[\"3\", \"yellow\"], stream=True): print(o, end='')\n",
    "print()\n",
    "print(c.stop_reason, c.stop_sequence)"
   ]
  },
  {
   "cell_type": "markdown",
   "id": "fbdc1914",
   "metadata": {},
   "source": [
    "We've shown the token usage but we really care about is pricing. Let's extract the latest [pricing](https://www.anthropic.com/pricing#anthropic-api) from Anthropic into a `pricing` dict."
   ]
  },
  {
   "cell_type": "code",
   "execution_count": null,
   "id": "9bfce1dc",
   "metadata": {},
   "outputs": [],
   "source": [
    "#| export\n",
    "pricing = {  # model type: $ / million tokens (input, output, cache write, cache read)\n",
    "    'opus': (15, 75, 18.75, 1.5),\n",
    "    'sonnet': (3, 15, 3.75, 0.3),\n",
    "    'haiku-3': (0.25, 1.25, 0.3, 0.03),\n",
    "    'haiku-3-5': (1, 3, 1.25, 0.1),\n",
    "}"
   ]
  },
  {
   "cell_type": "code",
   "execution_count": null,
   "id": "2a1f2e67",
   "metadata": {},
   "outputs": [],
   "source": [
    "#| exports\n",
    "def get_pricing(m, u):\n",
    "    return pricing[m][:3] if u.prompt_token_count < 128_000 else pricing[m][3:]"
   ]
  },
  {
   "cell_type": "markdown",
   "id": "f8995374",
   "metadata": {},
   "source": [
    "Similarly, let's get the pricing for the latest [server tools]():"
   ]
  },
  {
   "cell_type": "code",
   "execution_count": null,
   "id": "cfa8da09",
   "metadata": {},
   "outputs": [],
   "source": [
    "#| export\n",
    "server_tool_pricing = {\n",
    "    'web_search_requests': 10, # $10 per 1,000\n",
    "}"
   ]
  },
  {
   "cell_type": "markdown",
   "id": "a8a49a95",
   "metadata": {},
   "source": [
    "We'll patch `Usage` to enable it compute the cost given pricing."
   ]
  },
  {
   "cell_type": "code",
   "execution_count": null,
   "id": "2edb5da5",
   "metadata": {},
   "outputs": [],
   "source": [
    "#| exports\n",
    "@patch\n",
    "def cost(self:Usage, costs:tuple) -> float:\n",
    "    cache_w, cache_r = _dgetattr(self, \"cache_creation_input_tokens\",0), _dgetattr(self, \"cache_read_input_tokens\",0)\n",
    "    tok_cost = sum([self.input_tokens * costs[0] +  self.output_tokens * costs[1] +  cache_w * costs[2] + cache_r * costs[3]]) / 1e6\n",
    "    server_tool_use = _dgetattr(self, \"server_tool_use\",server_tool_usage())\n",
    "    server_tool_cost = server_tool_use.web_search_requests * server_tool_pricing['web_search_requests'] / 1e3\n",
    "    return tok_cost + server_tool_cost"
   ]
  },
  {
   "cell_type": "code",
   "execution_count": null,
   "id": "936a4adc",
   "metadata": {},
   "outputs": [],
   "source": [
    "#| exports\n",
    "@patch(as_prop=True)\n",
    "def cost(self: Client) -> float: return self.use.cost(pricing[model_types[self.model]])"
   ]
  },
  {
   "cell_type": "code",
   "execution_count": null,
   "id": "91d4dcbe",
   "metadata": {},
   "outputs": [],
   "source": [
    "#| exports\n",
    "def get_costs(c):\n",
    "    costs = pricing[model_types[c.model]]\n",
    "    \n",
    "    inp_cost = c.use.input_tokens * costs[0] / 1e6\n",
    "    out_cost = c.use.output_tokens * costs[1] / 1e6\n",
    "\n",
    "    cache_w = c.use.cache_creation_input_tokens   \n",
    "    cache_r = c.use.cache_read_input_tokens\n",
    "    cache_cost = (cache_w * costs[2] + cache_r * costs[3]) / 1e6\n",
    "\n",
    "    server_tool_use = c.use.server_tool_use\n",
    "    server_tool_cost = server_tool_use.web_search_requests * server_tool_pricing['web_search_requests'] / 1e3\n",
    "    return inp_cost, out_cost, cache_cost, cache_w + cache_r, server_tool_cost"
   ]
  },
  {
   "cell_type": "markdown",
   "id": "f261a81f",
   "metadata": {},
   "source": [
    "The markdown repr of the client itself will show the latest result, along with the usage so far."
   ]
  },
  {
   "cell_type": "code",
   "execution_count": null,
   "id": "15695891",
   "metadata": {},
   "outputs": [],
   "source": [
    "#| exports\n",
    "@patch\n",
    "def _repr_markdown_(self:Client):\n",
    "    if not hasattr(self,'result'): return 'No results yet'\n",
    "    msg = contents(self.result)\n",
    "    inp_cost, out_cost, cache_cost, cached_toks, server_tool_cost = get_costs(self)\n",
    "    return f\"\"\"{msg}\n",
    "\n",
    "| Metric | Count | Cost (USD) |\n",
    "|--------|------:|-----:|\n",
    "| Input tokens | {self.use.input_tokens:,} | {inp_cost:.6f} |\n",
    "| Output tokens | {self.use.output_tokens:,} | {out_cost:.6f} |\n",
    "| Cache tokens | {cached_toks:,} | {cache_cost:.6f} |\n",
    "| Server tool use | {self.use.server_tool_use.web_search_requests:,} | {server_tool_cost:.6f} |\n",
    "| **Total** | **{self.use.total:,}** | **${self.cost:.6f}** |\"\"\""
   ]
  },
  {
   "cell_type": "code",
   "execution_count": null,
   "id": "be86fc43",
   "metadata": {},
   "outputs": [
    {
     "data": {
      "text/markdown": [
       "1, 2,\n",
       "\n",
       "| Metric | Count | Cost (USD) |\n",
       "|--------|------:|-----:|\n",
       "| Input tokens | 94 | 0.000282 |\n",
       "| Output tokens | 154 | 0.002310 |\n",
       "| Cache tokens | 0 | 0.000000 |\n",
       "| Server tool use | 0 | 0.000000 |\n",
       "| **Total** | **248** | **$0.002592** |"
      ],
      "text/plain": [
       "<__main__.Client>"
      ]
     },
     "execution_count": null,
     "metadata": {},
     "output_type": "execute_result"
    }
   ],
   "source": [
    "c"
   ]
  },
  {
   "cell_type": "markdown",
   "id": "ee8d16a3",
   "metadata": {},
   "source": [
    "Pass a list of alternating user/assistant messages to give Claude a \"dialog\"."
   ]
  },
  {
   "cell_type": "code",
   "execution_count": null,
   "id": "0a683725",
   "metadata": {},
   "outputs": [
    {
     "data": {
      "text/markdown": [
       "Your name is Jeremy.\n",
       "\n",
       "<details>\n",
       "\n",
       "- id: `msg_0127tN29JdZJj3tW9GVtrgbr`\n",
       "- content: `[{'citations': None, 'text': 'Your name is Jeremy.', 'type': 'text'}]`\n",
       "- model: `claude-sonnet-4-20250514`\n",
       "- role: `assistant`\n",
       "- stop_reason: `end_turn`\n",
       "- stop_sequence: `None`\n",
       "- type: `message`\n",
       "- usage: `{'cache_creation_input_tokens': 0, 'cache_read_input_tokens': 0, 'input_tokens': 29, 'output_tokens': 8, 'server_tool_use': None, 'service_tier': 'standard'}`\n",
       "\n",
       "</details>"
      ],
      "text/plain": [
       "Message(id='msg_0127tN29JdZJj3tW9GVtrgbr', content=[TextBlock(citations=None, text='Your name is Jeremy.', type='text')], model='claude-sonnet-4-20250514', role='assistant', stop_reason='end_turn', stop_sequence=None, type='message', usage=In: 29; Out: 8; Cache create: 0; Cache read: 0; Total Tokens: 37; Search: 0)"
      ]
     },
     "execution_count": null,
     "metadata": {},
     "output_type": "execute_result"
    }
   ],
   "source": [
    "c([\"My name is Jeremy\", \"Hi Jeremy!\", \"Can you remind me what my name is?\"])"
   ]
  },
  {
   "cell_type": "markdown",
   "id": "1a7cdbc6",
   "metadata": {},
   "source": [
    "## Tool use"
   ]
  },
  {
   "cell_type": "markdown",
   "id": "65700cb3",
   "metadata": {},
   "source": [
    "Let's now look more at tool use (aka *function calling*).\n",
    "\n",
    "For testing, we need a function that Claude can call; we'll write a simple function that adds numbers together, and will tell us when it's being called:"
   ]
  },
  {
   "cell_type": "code",
   "execution_count": null,
   "id": "046e8cc3",
   "metadata": {},
   "outputs": [],
   "source": [
    "@dataclass\n",
    "class MySum: val:int\n",
    "\n",
    "def sums(\n",
    "    a:int,  # First thing to sum\n",
    "    b:int=1 # Second thing to sum\n",
    ") -> int: # The sum of the inputs\n",
    "    \"Adds a + b.\"\n",
    "    print(f\"Finding the sum of {a} and {b}\")\n",
    "    return MySum(a + b)"
   ]
  },
  {
   "cell_type": "code",
   "execution_count": null,
   "id": "d51f2bdf",
   "metadata": {},
   "outputs": [],
   "source": [
    "a,b = 604542,6458932\n",
    "pr = f\"What is {a}+{b}?\"\n",
    "sp = \"Always use tools when calculations are required.\""
   ]
  },
  {
   "cell_type": "markdown",
   "id": "3dc3ffd6",
   "metadata": {},
   "source": [
    "Claudette can autogenerate a schema thanks to the `toolslm` library. We'll force the use of the tool using the function we created earlier."
   ]
  },
  {
   "cell_type": "code",
   "execution_count": null,
   "id": "bff81d52",
   "metadata": {},
   "outputs": [],
   "source": [
    "tools=[get_schema(sums)]\n",
    "choice = mk_tool_choice('sums')"
   ]
  },
  {
   "cell_type": "markdown",
   "id": "91937f47",
   "metadata": {},
   "source": [
    "We'll start a dialog with Claude now. We'll store the messages of our dialog in `msgs`. The first message will be our prompt `pr`, and we'll pass our `tools` schema."
   ]
  },
  {
   "cell_type": "code",
   "execution_count": null,
   "id": "c2ceeb75",
   "metadata": {},
   "outputs": [
    {
     "data": {
      "text/markdown": [
       "ToolUseBlock(id='toolu_01GeiA75mdKZUu4cy3tv277z', input={'a': 604542, 'b': 6458932}, name='sums', type='tool_use')\n",
       "\n",
       "<details>\n",
       "\n",
       "- id: `msg_01L9NLcLdEJRCW9Yewm27mFy`\n",
       "- content: `[{'id': 'toolu_01GeiA75mdKZUu4cy3tv277z', 'input': {'a': 604542, 'b': 6458932}, 'name': 'sums', 'type': 'tool_use'}]`\n",
       "- model: `claude-sonnet-4-20250514`\n",
       "- role: `assistant`\n",
       "- stop_reason: `tool_use`\n",
       "- stop_sequence: `None`\n",
       "- type: `message`\n",
       "- usage: `{'cache_creation_input_tokens': 0, 'cache_read_input_tokens': 0, 'input_tokens': 440, 'output_tokens': 57, 'server_tool_use': None, 'service_tier': 'standard'}`\n",
       "\n",
       "</details>"
      ],
      "text/plain": [
       "Message(id='msg_01L9NLcLdEJRCW9Yewm27mFy', content=[ToolUseBlock(id='toolu_01GeiA75mdKZUu4cy3tv277z', input={'a': 604542, 'b': 6458932}, name='sums', type='tool_use')], model='claude-sonnet-4-20250514', role='assistant', stop_reason='tool_use', stop_sequence=None, type='message', usage=In: 440; Out: 57; Cache create: 0; Cache read: 0; Total Tokens: 497; Search: 0)"
      ]
     },
     "execution_count": null,
     "metadata": {},
     "output_type": "execute_result"
    }
   ],
   "source": [
    "msgs = mk_msgs(pr)\n",
    "r = c(msgs, sp=sp, tools=tools, tool_choice=choice)\n",
    "r"
   ]
  },
  {
   "cell_type": "markdown",
   "id": "60a2fce0",
   "metadata": {},
   "source": [
    "When Claude decides that it should use a tool, it passes back a `ToolUseBlock` with the name of the tool to call, and the params to use.\n",
    "\n",
    "We don't want to allow it to call just any possible function (that would be a security disaster!) so we create a *namespace* -- that is, a dictionary of allowable function names to call."
   ]
  },
  {
   "cell_type": "code",
   "execution_count": null,
   "id": "4fb9826f",
   "metadata": {},
   "outputs": [
    {
     "data": {
      "text/plain": [
       "{'sums': <function __main__.sums(a: int, b: int = 1) -> int>}"
      ]
     },
     "execution_count": null,
     "metadata": {},
     "output_type": "execute_result"
    }
   ],
   "source": [
    "ns = mk_ns(sums)\n",
    "ns"
   ]
  },
  {
   "cell_type": "markdown",
   "id": "f9d9a046",
   "metadata": {},
   "source": [
    "`ToolResult` is used for two special cases:\n",
    "\n",
    "1) When tool calls are RPCs with claudette running on an application server and code execution happening elsewhere, wrapping with a `result_type` field is used as a type descriptor for the claudette client. \n",
    "\n",
    "2) Different types are handled in message history with specific format, so `mk_funcres` branches the Anthropic representation (see depending on the `result_type`.\n",
    "\n",
    "Currently images are the only supported tool result type - see https://docs.anthropic.com/en/docs/agents-and-tools/tool-use/implement-tool-use#example-of-tool-result-with-images for the format implemented in `mk_funcres`."
   ]
  },
  {
   "cell_type": "code",
   "execution_count": null,
   "id": "a1b58fab",
   "metadata": {},
   "outputs": [],
   "source": [
    "#| export\n",
    "\n",
    "class ToolResult(BasicRepr):\n",
    "    def __init__(self, result_type: str, data): store_attr()\n",
    "    def __str__(self): return str(self.data)"
   ]
  },
  {
   "cell_type": "code",
   "execution_count": null,
   "id": "27620cfe",
   "metadata": {},
   "outputs": [],
   "source": [
    "#| export\n",
    "\n",
    "def _img_content(b64data):\n",
    "    return [{\"type\": \"image\",\n",
    "             \"source\":{\"type\": \"base64\", \"media_type\": \"image/png\", \"data\": b64data}},\n",
    "            {\"type\": \"text\", \"text\": \"Captured screenshot.\"}]\n",
    "\n",
    "def mk_funcres(fc, ns):\n",
    "    \"Given tool use block 'fc', get tool result, and create a tool_result response.\"\n",
    "    res = call_func(fc.name, fc.input, ns=ns, raise_on_err=False)\n",
    "    if isinstance(res, ToolResult) and res.result_type==\"image/png\": res = _img_content(res.data) # list\n",
    "    else: res = str(res.data) if isinstance(res, ToolResult) else str(res)\n",
    "    return {\"type\": \"tool_result\", \"tool_use_id\": fc.id, \"content\": res}"
   ]
  },
  {
   "cell_type": "markdown",
   "id": "3d1f23eb",
   "metadata": {},
   "source": [
    "We can now use the function requested by Claude. We look it up in `ns`, and pass in the provided parameters."
   ]
  },
  {
   "cell_type": "code",
   "execution_count": null,
   "id": "c2e829c2",
   "metadata": {},
   "outputs": [
    {
     "data": {
      "text/plain": [
       "[ToolUseBlock(id='toolu_01GeiA75mdKZUu4cy3tv277z', input={'a': 604542, 'b': 6458932}, name='sums', type='tool_use')]"
      ]
     },
     "execution_count": null,
     "metadata": {},
     "output_type": "execute_result"
    }
   ],
   "source": [
    "fcs = [o for o in r.content if isinstance(o,ToolUseBlock)]\n",
    "fcs"
   ]
  },
  {
   "cell_type": "code",
   "execution_count": null,
   "id": "893f81ca",
   "metadata": {},
   "outputs": [
    {
     "name": "stdout",
     "output_type": "stream",
     "text": [
      "Finding the sum of 604542 and 6458932\n"
     ]
    },
    {
     "data": {
      "text/plain": [
       "[{'type': 'tool_result',\n",
       "  'tool_use_id': 'toolu_01GeiA75mdKZUu4cy3tv277z',\n",
       "  'content': 'MySum(val=7063474)'}]"
      ]
     },
     "execution_count": null,
     "metadata": {},
     "output_type": "execute_result"
    }
   ],
   "source": [
    "res = [mk_funcres(fc, ns=ns) for fc in fcs]\n",
    "res"
   ]
  },
  {
   "cell_type": "code",
   "execution_count": null,
   "id": "2cd7a393",
   "metadata": {},
   "outputs": [],
   "source": [
    "def contents(r):\n",
    "    \"Helper to get the contents from Claude response `r`.\"\n",
    "    blk = find_block(r)\n",
    "    if not blk and r.content: blk = r.content[0]\n",
    "    if hasattr(blk,'text'): return blk.text.strip()\n",
    "    elif hasattr(blk,'content'): return blk.content.strip()\n",
    "    return str(blk)"
   ]
  },
  {
   "cell_type": "code",
   "execution_count": null,
   "id": "d475922d",
   "metadata": {},
   "outputs": [],
   "source": [
    "#| exports\n",
    "def mk_toolres(\n",
    "    r:abc.Mapping, # Tool use request response from Claude\n",
    "    ns:Optional[abc.Mapping]=None # Namespace to search for tools\n",
    "    ):\n",
    "    \"Create a `tool_result` message from response `r`.\"\n",
    "    cts = getattr(r, 'content', [])\n",
    "    res = [mk_msg(r.model_dump(), role='assistant')]\n",
    "    if ns is None: ns=globals()\n",
    "    tcs = [mk_funcres(o, ns) for o in cts if isinstance(o,ToolUseBlock)]\n",
    "    if tcs: res.append(mk_msg(tcs))\n",
    "    return res"
   ]
  },
  {
   "cell_type": "code",
   "execution_count": null,
   "id": "6940aa6d",
   "metadata": {},
   "outputs": [
    {
     "data": {
      "text/plain": [
       "[{}, {}]"
      ]
     },
     "execution_count": null,
     "metadata": {},
     "output_type": "execute_result"
    }
   ],
   "source": [
    "foo = []\n",
    "foo.append({})\n",
    "foo.append({})\n",
    "foo"
   ]
  },
  {
   "cell_type": "markdown",
   "id": "5a57d1ca",
   "metadata": {},
   "source": [
    "In order to tell Claude the result of the tool call, we pass back the tool use assistant request and the `tool_result` response."
   ]
  },
  {
   "cell_type": "code",
   "execution_count": null,
   "id": "f13de1fc",
   "metadata": {},
   "outputs": [
    {
     "name": "stdout",
     "output_type": "stream",
     "text": [
      "Finding the sum of 604542 and 6458932\n"
     ]
    },
    {
     "data": {
      "text/plain": [
       "[{'role': 'assistant',\n",
       "  'content': [{'id': 'toolu_01GeiA75mdKZUu4cy3tv277z',\n",
       "    'input': {'a': 604542, 'b': 6458932},\n",
       "    'name': 'sums',\n",
       "    'type': 'tool_use'}]},\n",
       " {'role': 'user',\n",
       "  'content': [{'type': 'tool_result',\n",
       "    'tool_use_id': 'toolu_01GeiA75mdKZUu4cy3tv277z',\n",
       "    'content': 'MySum(val=7063474)'}]}]"
      ]
     },
     "execution_count": null,
     "metadata": {},
     "output_type": "execute_result"
    }
   ],
   "source": [
    "tr = mk_toolres(r, ns=ns)\n",
    "tr"
   ]
  },
  {
   "cell_type": "code",
   "execution_count": null,
   "id": "f0fc80e6",
   "metadata": {},
   "outputs": [
    {
     "data": {
      "text/plain": [
       "[{'role': 'user', 'content': 'What is 604542+6458932?'}]"
      ]
     },
     "execution_count": null,
     "metadata": {},
     "output_type": "execute_result"
    }
   ],
   "source": [
    "msgs"
   ]
  },
  {
   "cell_type": "markdown",
   "id": "faf4fe37",
   "metadata": {},
   "source": [
    "We add this to our dialog, and now Claude has all the information it needs to answer our question."
   ]
  },
  {
   "cell_type": "code",
   "execution_count": null,
   "id": "eed99502",
   "metadata": {},
   "outputs": [
    {
     "data": {
      "text/plain": [
       "'The sum of 604542 + 6458932 is 7,063,474.'"
      ]
     },
     "execution_count": null,
     "metadata": {},
     "output_type": "execute_result"
    }
   ],
   "source": [
    "msgs += tr\n",
    "contents(c(msgs, sp=sp, tools=tools))"
   ]
  },
  {
   "cell_type": "code",
   "execution_count": null,
   "id": "8fc252dc",
   "metadata": {},
   "outputs": [
    {
     "data": {
      "text/plain": [
       "'MySum(val=7063474)'"
      ]
     },
     "execution_count": null,
     "metadata": {},
     "output_type": "execute_result"
    }
   ],
   "source": [
    "contents(msgs[-1])"
   ]
  },
  {
   "cell_type": "code",
   "execution_count": null,
   "id": "ae64dce3",
   "metadata": {},
   "outputs": [
    {
     "data": {
      "text/plain": [
       "[{'role': 'user', 'content': 'What is 604542+6458932?'},\n",
       " {'role': 'assistant',\n",
       "  'content': [{'id': 'toolu_01GeiA75mdKZUu4cy3tv277z',\n",
       "    'input': {'a': 604542, 'b': 6458932},\n",
       "    'name': 'sums',\n",
       "    'type': 'tool_use'}]},\n",
       " {'role': 'user',\n",
       "  'content': [{'type': 'tool_result',\n",
       "    'tool_use_id': 'toolu_01GeiA75mdKZUu4cy3tv277z',\n",
       "    'content': 'MySum(val=7063474)'}]}]"
      ]
     },
     "execution_count": null,
     "metadata": {},
     "output_type": "execute_result"
    }
   ],
   "source": [
    "msgs"
   ]
  },
  {
   "cell_type": "markdown",
   "id": "50993fed",
   "metadata": {},
   "source": [
    "### Text editing"
   ]
  },
  {
   "cell_type": "markdown",
   "id": "4e33c2b2",
   "metadata": {},
   "source": [
    "Anthropic also has a special tool type specific to text editing."
   ]
  },
  {
   "cell_type": "code",
   "execution_count": null,
   "id": "6dcc3a92",
   "metadata": {},
   "outputs": [
    {
     "data": {
      "text/plain": [
       "[{'type': 'text_editor_20250429', 'name': 'str_replace_based_edit_tool'}]"
      ]
     },
     "execution_count": null,
     "metadata": {},
     "output_type": "execute_result"
    }
   ],
   "source": [
    "tools = [text_editor_conf['sonnet']]\n",
    "tools"
   ]
  },
  {
   "cell_type": "code",
   "execution_count": null,
   "id": "c9a25fc5",
   "metadata": {},
   "outputs": [
    {
     "data": {
      "text/plain": [
       "ToolUseBlock(id='toolu_01LgRJaJMnTkQZs1rcNbgsta', input={'command': 'view', 'path': '_quarto.yml'}, name='str_replace_based_edit_tool', type='tool_use')"
      ]
     },
     "execution_count": null,
     "metadata": {},
     "output_type": "execute_result"
    }
   ],
   "source": [
    "pr = 'Could you please explain my _quarto.yml file?'\n",
    "msgs = [mk_msg(pr)]\n",
    "r = c(msgs, sp=sp, tools=tools)\n",
    "find_block(r, ToolUseBlock)"
   ]
  },
  {
   "cell_type": "markdown",
   "id": "145b096d",
   "metadata": {},
   "source": [
    "We've gone ahead and create a reference implementation that you can directly use from our `text_editor` module. Or use as reference for creating your own. "
   ]
  },
  {
   "cell_type": "code",
   "execution_count": null,
   "id": "a056df6c",
   "metadata": {},
   "outputs": [
    {
     "name": "stdout",
     "output_type": "stream",
     "text": [
      "Great! Let me explain your `_quarto.yml` configuration file section by section:\n",
      "\n",
      "## Project Configuration\n",
      "```yaml\n",
      "project:\n",
      "  typ\n"
     ]
    }
   ],
   "source": [
    "ns = mk_ns(str_replace_based_edit_tool)\n",
    "tr = mk_toolres(r, ns=ns)\n",
    "msgs += tr\n",
    "print(contents(c(msgs, sp=sp, tools=tools))[:128])"
   ]
  },
  {
   "cell_type": "markdown",
   "id": "d618fc89",
   "metadata": {},
   "source": [
    "## Structured data"
   ]
  },
  {
   "cell_type": "code",
   "execution_count": null,
   "id": "f326f034",
   "metadata": {},
   "outputs": [],
   "source": [
    "a,b = 604542,6458932\n",
    "pr = f\"What is {a}+{b}?\"\n",
    "sp = \"Always use your tools for calculations.\""
   ]
  },
  {
   "cell_type": "code",
   "execution_count": null,
   "id": "6dd255e0",
   "metadata": {},
   "outputs": [
    {
     "name": "stdout",
     "output_type": "stream",
     "text": [
      "Message(id='msg_01UdVJDcaiEcxXpTtgzVgsRi', content=[ToolUseBlock(id='toolu_01EZvdY4nL7g8LD7xtPF6ztF', input={'a': 604542, 'b': 6458932}, name='sums', type='tool_use')], model='claude-sonnet-4-20250514', role='assistant', stop_reason='tool_use', stop_sequence=None, type='message', usage=In: 435; Out: 53; Cache create: 0; Cache read: 0; Total Tokens: 488; Search: 0)\n",
      "Message(id='msg_01Er899Zkp5SorPMNVsQwoy8', content=[ToolUseBlock(id='toolu_019Ni4Pxcm3r7YRY36544kcP', input={'a': 604542, 'b': 6458932}, name='sums', type='tool_use')], model='claude-sonnet-4-20250514', role='assistant', stop_reason='tool_use', stop_sequence=None, type='message', usage=In: 435; Out: 53; Cache create: 0; Cache read: 0; Total Tokens: 488; Search: 0)\n"
     ]
    }
   ],
   "source": [
    "for tools in [sums, [get_schema(sums)]]:\n",
    "    r = c(pr, tools=tools, tool_choice='sums')\n",
    "    print(r)"
   ]
  },
  {
   "cell_type": "code",
   "execution_count": null,
   "id": "f0bb426f",
   "metadata": {},
   "outputs": [
    {
     "name": "stdout",
     "output_type": "stream",
     "text": [
      "Finding the sum of 604542 and 6458932\n"
     ]
    }
   ],
   "source": [
    "ns = mk_ns(sums)\n",
    "tr = mk_toolres(r, ns=ns)"
   ]
  },
  {
   "cell_type": "code",
   "execution_count": null,
   "id": "b3564424",
   "metadata": {},
   "outputs": [],
   "source": [
    "#| exports\n",
    "@patch\n",
    "@delegates(Client.__call__)\n",
    "def structured(self:Client,\n",
    "               msgs:list, # List of messages in the dialog\n",
    "               tools:Optional[list]=None, # List of tools to make available to Claude\n",
    "               ns:Optional[abc.Mapping]=None, # Namespace to search for tools\n",
    "               **kwargs):\n",
    "    \"Return the value of all tool calls (generally used for structured outputs)\"\n",
    "    tools = listify(tools)\n",
    "    res = self(msgs, tools=tools, tool_choice=tools, **kwargs)\n",
    "    if ns is None: ns=mk_ns(*tools)\n",
    "    cts = getattr(res, 'content', [])\n",
    "    tcs = [call_func(o.name, o.input, ns=ns) for o in cts if isinstance(o,ToolUseBlock)]\n",
    "    return tcs"
   ]
  },
  {
   "cell_type": "markdown",
   "id": "e2b70864",
   "metadata": {},
   "source": [
    "Anthropic's API does not support response formats directly, so instead we provide a `structured` method to use tool calling to achieve the same result. The result of the tool is not passed back to Claude in this case, but instead is returned directly to the user. "
   ]
  },
  {
   "cell_type": "code",
   "execution_count": null,
   "id": "44d2cc82",
   "metadata": {},
   "outputs": [
    {
     "name": "stdout",
     "output_type": "stream",
     "text": [
      "Finding the sum of 604542 and 6458932\n"
     ]
    },
    {
     "data": {
      "text/plain": [
       "[MySum(val=7063474)]"
      ]
     },
     "execution_count": null,
     "metadata": {},
     "output_type": "execute_result"
    }
   ],
   "source": [
    "c.structured(pr, tools=[sums])"
   ]
  },
  {
   "cell_type": "code",
   "execution_count": null,
   "id": "78883bec",
   "metadata": {},
   "outputs": [
    {
     "data": {
      "text/markdown": [
       "ToolUseBlock(id='toolu_01LhB3XbAjBB7Awm2fjyYdMN', input={'a': 604542, 'b': 6458932}, name='sums', type='tool_use')\n",
       "\n",
       "| Metric | Count | Cost (USD) |\n",
       "|--------|------:|-----:|\n",
       "| Input tokens | 4,955 | 0.014865 |\n",
       "| Output tokens | 1,240 | 0.018600 |\n",
       "| Cache tokens | 0 | 0.000000 |\n",
       "| Server tool use | 0 | 0.000000 |\n",
       "| **Total** | **6,195** | **$0.033465** |"
      ],
      "text/plain": [
       "<__main__.Client>"
      ]
     },
     "execution_count": null,
     "metadata": {},
     "output_type": "execute_result"
    }
   ],
   "source": [
    "c"
   ]
  },
  {
   "cell_type": "markdown",
   "id": "df5211d9",
   "metadata": {},
   "source": [
    "## Custom Types with Tools Use"
   ]
  },
  {
   "cell_type": "markdown",
   "id": "06fe1763",
   "metadata": {},
   "source": [
    "We need to add tool support for custom types too. Let's test out custom types using a minimal example."
   ]
  },
  {
   "cell_type": "code",
   "execution_count": null,
   "id": "13d08aba",
   "metadata": {},
   "outputs": [],
   "source": [
    "class Book(BasicRepr):\n",
    "    def __init__(self, title: str, pages: int): store_attr()\n",
    "    def __repr__(self):\n",
    "        return f\"Book Title : {self.title}\\nNumber of Pages : {self.pages}\""
   ]
  },
  {
   "cell_type": "code",
   "execution_count": null,
   "id": "effd7f47",
   "metadata": {},
   "outputs": [
    {
     "data": {
      "text/plain": [
       "Book Title : War and Peace\n",
       "Number of Pages : 950"
      ]
     },
     "execution_count": null,
     "metadata": {},
     "output_type": "execute_result"
    }
   ],
   "source": [
    "Book(\"War and Peace\", 950)"
   ]
  },
  {
   "cell_type": "code",
   "execution_count": null,
   "id": "465abf5b",
   "metadata": {},
   "outputs": [],
   "source": [
    "def find_page(book: Book, # The book to find the halfway point of\n",
    "              percent: int, # Percent of a book to read to, e.g. halfway == 50, \n",
    ") -> int:\n",
    "    \"The page number corresponding to `percent` completion of a book\"\n",
    "    return round(book.pages * (percent / 100.0))"
   ]
  },
  {
   "cell_type": "code",
   "execution_count": null,
   "id": "011f74a8",
   "metadata": {},
   "outputs": [
    {
     "data": {
      "text/plain": [
       "{'name': 'find_page',\n",
       " 'description': 'The page number corresponding to `percent` completion of a book\\n\\nReturns:\\n- type: integer',\n",
       " 'input_schema': {'type': 'object',\n",
       "  'properties': {'book': {'type': 'object',\n",
       "    'description': 'The book to find the halfway point of',\n",
       "    '$ref': '#/$defs/Book'},\n",
       "   'percent': {'type': 'integer',\n",
       "    'description': 'Percent of a book to read to, e.g. halfway == 50,'}},\n",
       "  'required': ['book', 'percent'],\n",
       "  '$defs': {'Book': {'type': 'object',\n",
       "    'properties': {'title': {'type': 'string', 'description': ''},\n",
       "     'pages': {'type': 'integer', 'description': ''}},\n",
       "    'title': 'Book',\n",
       "    'required': ['title', 'pages']}}}}"
      ]
     },
     "execution_count": null,
     "metadata": {},
     "output_type": "execute_result"
    }
   ],
   "source": [
    "get_schema(find_page)"
   ]
  },
  {
   "cell_type": "code",
   "execution_count": null,
   "id": "c39dac76",
   "metadata": {},
   "outputs": [
    {
     "data": {
      "text/plain": [
       "{'type': 'tool', 'name': 'find_page'}"
      ]
     },
     "execution_count": null,
     "metadata": {},
     "output_type": "execute_result"
    }
   ],
   "source": [
    "choice = mk_tool_choice('find_page')\n",
    "choice"
   ]
  },
  {
   "cell_type": "markdown",
   "id": "c0795da1",
   "metadata": {},
   "source": [
    "Claudette will pack objects as dict, so we'll transform tool functions with user-defined types into tool functions that accept a dict in lieu of the user-defined type.\n",
    "\n",
    "First let's convert a single argument:"
   ]
  },
  {
   "cell_type": "code",
   "execution_count": null,
   "id": "a8f64918",
   "metadata": {},
   "outputs": [],
   "source": [
    "#| export\n",
    "def _is_builtin(tp: type):\n",
    "    \"Returns True for built in primitive types or containers\"\n",
    "    return (tp in (str, int, float, bool, complex) or tp is None\n",
    "        or getattr(tp, '__origin__', None) is not None)  # Pass through all container types\n",
    "\n",
    "def _convert(val: Dict, # dictionary argument being passed in\n",
    "            tp: type): # type of the tool function input\n",
    "    \"Convert converts a single argument\"\n",
    "    if val is None or _is_builtin(tp) or not isinstance(val, dict): return val\n",
    "    return tp(**val)"
   ]
  },
  {
   "cell_type": "markdown",
   "id": "fbb1fd24",
   "metadata": {},
   "source": [
    "`_is_builtin` decides whether to pass an argument through as-is. Let's check the argument conversion:"
   ]
  },
  {
   "cell_type": "code",
   "execution_count": null,
   "id": "e6182cae",
   "metadata": {},
   "outputs": [
    {
     "data": {
      "text/plain": [
       "(True, False, True)"
      ]
     },
     "execution_count": null,
     "metadata": {},
     "output_type": "execute_result"
    }
   ],
   "source": [
    "(_is_builtin(int), _is_builtin(Book), _is_builtin(List))"
   ]
  },
  {
   "cell_type": "code",
   "execution_count": null,
   "id": "30bcf8cd",
   "metadata": {},
   "outputs": [
    {
     "data": {
      "text/plain": [
       "(555,\n",
       " Book Title : War and Peace\n",
       " Number of Pages : 923,\n",
       " [1, 2, 3, 4])"
      ]
     },
     "execution_count": null,
     "metadata": {},
     "output_type": "execute_result"
    }
   ],
   "source": [
    "(_convert(555, int),\n",
    " _convert({\"title\": \"War and Peace\", \"pages\": 923}, Book),\n",
    " _convert([1, 2, 3, 4], List))"
   ]
  },
  {
   "cell_type": "markdown",
   "id": "21d4ed6a",
   "metadata": {},
   "source": [
    "To apply `tool()` to a function is to return a new function where the user-defined types are replaced with dictionary inputs."
   ]
  },
  {
   "cell_type": "code",
   "execution_count": null,
   "id": "ad70d01a",
   "metadata": {},
   "outputs": [],
   "source": [
    "#| export\n",
    "def tool(func):\n",
    "    if isinstance(func, dict): return func # it's a schema, so don't change\n",
    "    hints = get_type_hints(func)\n",
    "    @wraps(func)\n",
    "    def wrapper(*args, **kwargs):\n",
    "        new_args = [_convert(arg, hints[p]) for p,arg in zip(inspect.signature(func).parameters, args)]\n",
    "        new_kwargs = {k: _convert(v, hints[k]) if k in hints else v for k,v in kwargs.items()}\n",
    "        return func(*new_args, **new_kwargs)\n",
    "    return wrapper"
   ]
  },
  {
   "cell_type": "markdown",
   "id": "a80c69d7",
   "metadata": {},
   "source": [
    "A function is transformed into a function with dict arguments substituted for user-defined types. Built-in types such as `percent` here are left untouched."
   ]
  },
  {
   "cell_type": "code",
   "execution_count": null,
   "id": "dbe72ab6",
   "metadata": {},
   "outputs": [
    {
     "data": {
      "text/plain": [
       "475"
      ]
     },
     "execution_count": null,
     "metadata": {},
     "output_type": "execute_result"
    }
   ],
   "source": [
    "find_page(book=Book(\"War and Peace\", 950), percent=50)"
   ]
  },
  {
   "cell_type": "code",
   "execution_count": null,
   "id": "261f3253",
   "metadata": {},
   "outputs": [
    {
     "data": {
      "text/plain": [
       "475"
      ]
     },
     "execution_count": null,
     "metadata": {},
     "output_type": "execute_result"
    }
   ],
   "source": [
    "tool(find_page)({\"title\": \"War and Peace\", \"pages\": 950}, percent=50)"
   ]
  },
  {
   "cell_type": "markdown",
   "id": "6428afcb",
   "metadata": {},
   "source": [
    "By passing tools wrapped by `tool()`, user-defined types now work completes without failing in tool calls."
   ]
  },
  {
   "cell_type": "code",
   "execution_count": null,
   "id": "48cdcfc2",
   "metadata": {},
   "outputs": [
    {
     "data": {
      "text/plain": [
       "<function __main__.find_page(book: __main__.Book, percent: int) -> int>"
      ]
     },
     "execution_count": null,
     "metadata": {},
     "output_type": "execute_result"
    }
   ],
   "source": [
    "pr = \"How many pages do I have to read to get halfway through my 950 page copy of War and Peace\"\n",
    "tools = tool(find_page)\n",
    "tools"
   ]
  },
  {
   "cell_type": "code",
   "execution_count": null,
   "id": "848a319e",
   "metadata": {},
   "outputs": [
    {
     "data": {
      "text/plain": [
       "ToolUseBlock(id='toolu_01RKkSknteqc681fzhD9P55L', input={'book': {'title': 'War and Peace', 'pages': 950}, 'percent': 50}, name='find_page', type='tool_use')"
      ]
     },
     "execution_count": null,
     "metadata": {},
     "output_type": "execute_result"
    }
   ],
   "source": [
    "r = c(pr, tools=[tools])\n",
    "find_block(r, ToolUseBlock)"
   ]
  },
  {
   "cell_type": "code",
   "execution_count": null,
   "id": "209fbdf0",
   "metadata": {},
   "outputs": [
    {
     "data": {
      "text/plain": [
       "[{'role': 'assistant',\n",
       "  'content': [{'citations': None,\n",
       "    'text': \"I'll help you find the halfway point of your copy of War and Peace.\",\n",
       "    'type': 'text'},\n",
       "   {'id': 'toolu_01RKkSknteqc681fzhD9P55L',\n",
       "    'input': {'book': {'title': 'War and Peace', 'pages': 950}, 'percent': 50},\n",
       "    'name': 'find_page',\n",
       "    'type': 'tool_use'}]},\n",
       " {'role': 'user',\n",
       "  'content': [{'type': 'tool_result',\n",
       "    'tool_use_id': 'toolu_01RKkSknteqc681fzhD9P55L',\n",
       "    'content': '475'}]}]"
      ]
     },
     "execution_count": null,
     "metadata": {},
     "output_type": "execute_result"
    }
   ],
   "source": [
    "tr = mk_toolres(r, ns=[tools])\n",
    "tr"
   ]
  },
  {
   "cell_type": "code",
   "execution_count": null,
   "id": "8abdec8a",
   "metadata": {},
   "outputs": [
    {
     "data": {
      "text/plain": [
       "\"To get halfway through your 950-page copy of War and Peace, you need to read to page 475. That means you'll have read 475 pages when you reach the halfway point of the book.\""
      ]
     },
     "execution_count": null,
     "metadata": {},
     "output_type": "execute_result"
    }
   ],
   "source": [
    "msgs = [pr]+tr\n",
    "contents(c(msgs, sp=sp, tools=[tools]))"
   ]
  },
  {
   "cell_type": "markdown",
   "id": "4ea144b8",
   "metadata": {},
   "source": [
    "## Chat"
   ]
  },
  {
   "cell_type": "markdown",
   "id": "419fab81",
   "metadata": {},
   "source": [
    "Rather than manually adding the responses to a dialog, we'll create a simple `Chat` class to do that for us, each time we make a request. We'll also store the system prompt and tools here, to avoid passing them every time."
   ]
  },
  {
   "cell_type": "code",
   "execution_count": null,
   "id": "755dd2a1",
   "metadata": {},
   "outputs": [],
   "source": [
    "#| export\n",
    "class Chat:\n",
    "    def __init__(self,\n",
    "                 model:Optional[str]=None, # Model to use (leave empty if passing `cli`)\n",
    "                 cli:Optional[Client]=None, # Client to use (leave empty if passing `model`)\n",
    "                 sp='', # Optional system prompt\n",
    "                 tools:Optional[list]=None, # List of tools to make available to Claude\n",
    "                 temp=0, # Temperature\n",
    "                 cont_pr:Optional[str]=None, # User prompt to continue an assistant response\n",
    "                 cache: bool = False,  # Use Claude cache?\n",
    "                 hist: list = None,  # Initialize history\n",
    "                 ns:Optional[abc.Mapping]=None # Namespace to search for tools\n",
    "                ):\n",
    "        \"Anthropic chat client.\"\n",
    "        assert model or cli\n",
    "        assert cont_pr != \"\", \"cont_pr may not be an empty string\"\n",
    "        self.c = (cli or Client(model, cache=cache))\n",
    "        if hist is None: hist=[]\n",
    "        if tools: tools = [tool(t) for t in listify(tools)]\n",
    "        if ns is None: ns=tools\n",
    "        self.h,self.sp,self.tools,self.cont_pr,self.temp,self.cache,self.ns = hist,sp,tools,cont_pr,temp,cache,ns\n",
    "\n",
    "    @property\n",
    "    def use(self): return self.c.use"
   ]
  },
  {
   "cell_type": "markdown",
   "id": "c3f16d4e",
   "metadata": {},
   "source": [
    "The class stores the `Client` that will provide the responses in `c`, and a history of messages in `h`."
   ]
  },
  {
   "cell_type": "code",
   "execution_count": null,
   "id": "04b837c5",
   "metadata": {},
   "outputs": [
    {
     "data": {
      "text/plain": [
       "(In: 0; Out: 0; Cache create: 0; Cache read: 0; Total Tokens: 0; Search: 0, [])"
      ]
     },
     "execution_count": null,
     "metadata": {},
     "output_type": "execute_result"
    }
   ],
   "source": [
    "sp = \"Never mention what tools you use.\"\n",
    "chat = Chat(model, sp=sp)\n",
    "chat.c.use, chat.h"
   ]
  },
  {
   "cell_type": "code",
   "execution_count": null,
   "id": "10360d53",
   "metadata": {},
   "outputs": [
    {
     "data": {
      "text/plain": [
       "0.0"
      ]
     },
     "execution_count": null,
     "metadata": {},
     "output_type": "execute_result"
    }
   ],
   "source": [
    "chat.c.use.cost(pricing[model_types[chat.c.model]])"
   ]
  },
  {
   "cell_type": "markdown",
   "id": "8b36fcec",
   "metadata": {},
   "source": [
    "This is clunky. Let's add `cost` as a property for the `Chat` class. It will pass in the appropriate prices for the current model to the usage cost calculator."
   ]
  },
  {
   "cell_type": "code",
   "execution_count": null,
   "id": "aae25dd2",
   "metadata": {},
   "outputs": [],
   "source": [
    "#| exports\n",
    "@patch(as_prop=True)\n",
    "def cost(self: Chat) -> float: return self.c.cost"
   ]
  },
  {
   "cell_type": "code",
   "execution_count": null,
   "id": "793d2f2d",
   "metadata": {},
   "outputs": [
    {
     "data": {
      "text/plain": [
       "0.0"
      ]
     },
     "execution_count": null,
     "metadata": {},
     "output_type": "execute_result"
    }
   ],
   "source": [
    "chat.cost"
   ]
  },
  {
   "cell_type": "code",
   "execution_count": null,
   "id": "d0178ee1",
   "metadata": {},
   "outputs": [],
   "source": [
    "#| exports\n",
    "@patch\n",
    "def _post_pr(self:Chat, pr, prev_role):\n",
    "    if pr is None and prev_role == 'assistant':\n",
    "        if self.cont_pr is None:\n",
    "            raise ValueError(\"Prompt must be given after completion, or use `self.cont_pr`.\")\n",
    "        pr = self.cont_pr # No user prompt, keep the chain\n",
    "    if pr: self.h.append(mk_msg(pr, cache=self.cache))"
   ]
  },
  {
   "cell_type": "code",
   "execution_count": null,
   "id": "1b5c04e6",
   "metadata": {},
   "outputs": [],
   "source": [
    "#| exports\n",
    "@patch\n",
    "def _append_pr(self:Chat, pr=None):\n",
    "    prev_role = nested_idx(self.h, -1, 'role') if self.h else 'assistant' # First message should be 'user'\n",
    "    if pr and prev_role == 'user': self() # already user request pending\n",
    "    self._post_pr(pr, prev_role)"
   ]
  },
  {
   "cell_type": "code",
   "execution_count": null,
   "id": "a9bcc67a",
   "metadata": {},
   "outputs": [],
   "source": [
    "#| exports\n",
    "@patch\n",
    "def __call__(self:Chat,\n",
    "             pr=None,  # Prompt / message\n",
    "             temp=None, # Temperature\n",
    "             maxtok=4096, # Maximum tokens\n",
    "             maxthinktok=0, # Maximum thinking tokens\n",
    "             stream=False, # Stream response?\n",
    "             prefill='', # Optional prefill to pass to Claude as start of its response\n",
    "             tool_choice:Optional[dict]=None, # Optionally force use of some tool\n",
    "             **kw):\n",
    "    if temp is None: temp=self.temp\n",
    "    self._append_pr(pr)\n",
    "    def _cb(v):\n",
    "        self.last = mk_toolres(v, ns=self.ns)\n",
    "        self.h += self.last\n",
    "    return self.c(self.h, stream=stream, prefill=prefill, sp=self.sp, temp=temp, maxtok=maxtok, maxthinktok=maxthinktok,\n",
    "                 tools=self.tools, tool_choice=tool_choice, cb=_cb, **kw)"
   ]
  },
  {
   "cell_type": "markdown",
   "id": "f97c5cd7",
   "metadata": {},
   "source": [
    "The `__call__` method just passes the request along to the `Client`, but rather than just passing in this one prompt, it appends it to the history and passes it all along. As a result, we now have state!"
   ]
  },
  {
   "cell_type": "code",
   "execution_count": null,
   "id": "cb393257",
   "metadata": {},
   "outputs": [],
   "source": [
    "chat = Chat(model, sp=sp)"
   ]
  },
  {
   "cell_type": "code",
   "execution_count": null,
   "id": "40073f42",
   "metadata": {},
   "outputs": [
    {
     "data": {
      "text/markdown": [
       "Your name is Jeremy.\n",
       "\n",
       "<details>\n",
       "\n",
       "- id: `msg_01Cz5fbwnwURf3DiUW7STPgS`\n",
       "- content: `[{'citations': None, 'text': 'Your name is Jeremy.', 'type': 'text'}]`\n",
       "- model: `claude-sonnet-4-20250514`\n",
       "- role: `assistant`\n",
       "- stop_reason: `end_turn`\n",
       "- stop_sequence: `None`\n",
       "- type: `message`\n",
       "- usage: `{'cache_creation_input_tokens': 0, 'cache_read_input_tokens': 0, 'input_tokens': 42, 'output_tokens': 8, 'server_tool_use': None, 'service_tier': 'standard'}`\n",
       "\n",
       "</details>"
      ],
      "text/plain": [
       "Message(id='msg_01Cz5fbwnwURf3DiUW7STPgS', content=[TextBlock(citations=None, text='Your name is Jeremy.', type='text')], model='claude-sonnet-4-20250514', role='assistant', stop_reason='end_turn', stop_sequence=None, type='message', usage=In: 42; Out: 8; Cache create: 0; Cache read: 0; Total Tokens: 50; Search: 0)"
      ]
     },
     "execution_count": null,
     "metadata": {},
     "output_type": "execute_result"
    }
   ],
   "source": [
    "chat(\"I'm Jeremy\")\n",
    "chat(\"What's my name?\")"
   ]
  },
  {
   "cell_type": "code",
   "execution_count": null,
   "id": "5457b51d",
   "metadata": {},
   "outputs": [
    {
     "data": {
      "text/plain": [
       "(In: 59; Out: 25; Cache create: 0; Cache read: 0; Total Tokens: 84; Search: 0,\n",
       " 0.000552)"
      ]
     },
     "execution_count": null,
     "metadata": {},
     "output_type": "execute_result"
    }
   ],
   "source": [
    "chat.use, chat.cost"
   ]
  },
  {
   "cell_type": "markdown",
   "id": "1c55e426",
   "metadata": {},
   "source": [
    "Let's try out prefill too:"
   ]
  },
  {
   "cell_type": "code",
   "execution_count": null,
   "id": "2153a1f5",
   "metadata": {},
   "outputs": [],
   "source": [
    "q = \"Very concisely, what is the meaning of life?\"\n",
    "pref = 'According to Douglas Adams,'"
   ]
  },
  {
   "cell_type": "code",
   "execution_count": null,
   "id": "9b28705d",
   "metadata": {},
   "outputs": [
    {
     "data": {
      "text/markdown": [
       "According to Douglas Adams,42. But seriously: to find purpose, connect with others, and create meaning through your choices and relationships.\n",
       "\n",
       "<details>\n",
       "\n",
       "- id: `msg_01PWBjh7wapKWZMbnoyvZbEb`\n",
       "- content: `[{'citations': None, 'text': 'According to Douglas Adams,42. But seriously: to find purpose, connect with others, and create meaning through your choices and relationships.', 'type': 'text'}]`\n",
       "- model: `claude-sonnet-4-20250514`\n",
       "- role: `assistant`\n",
       "- stop_reason: `end_turn`\n",
       "- stop_sequence: `None`\n",
       "- type: `message`\n",
       "- usage: `{'cache_creation_input_tokens': 0, 'cache_read_input_tokens': 0, 'input_tokens': 70, 'output_tokens': 25, 'server_tool_use': None, 'service_tier': 'standard'}`\n",
       "\n",
       "</details>"
      ],
      "text/plain": [
       "Message(id='msg_01PWBjh7wapKWZMbnoyvZbEb', content=[TextBlock(citations=None, text='According to Douglas Adams,42. But seriously: to find purpose, connect with others, and create meaning through your choices and relationships.', type='text')], model='claude-sonnet-4-20250514', role='assistant', stop_reason='end_turn', stop_sequence=None, type='message', usage=In: 70; Out: 25; Cache create: 0; Cache read: 0; Total Tokens: 95; Search: 0)"
      ]
     },
     "execution_count": null,
     "metadata": {},
     "output_type": "execute_result"
    }
   ],
   "source": [
    "chat(q, prefill=pref)"
   ]
  },
  {
   "cell_type": "markdown",
   "id": "fbd28a97",
   "metadata": {},
   "source": [
    "By default messages must be in user, assistant, user format. If this isn't followed (aka calling `chat()` without a user message) it will error out:"
   ]
  },
  {
   "cell_type": "code",
   "execution_count": null,
   "id": "c3761928",
   "metadata": {},
   "outputs": [
    {
     "name": "stdout",
     "output_type": "stream",
     "text": [
      "Error: Prompt must be given after completion, or use `self.cont_pr`.\n"
     ]
    }
   ],
   "source": [
    "try: chat()\n",
    "except ValueError as e: print(\"Error:\", e)"
   ]
  },
  {
   "cell_type": "markdown",
   "id": "4d57b5c7",
   "metadata": {},
   "source": [
    "Setting `cont_pr` allows a \"default prompt\" to be specified when a prompt isn't specified. Usually used to prompt the model to continue."
   ]
  },
  {
   "cell_type": "code",
   "execution_count": null,
   "id": "54c5a2bc",
   "metadata": {},
   "outputs": [
    {
     "data": {
      "text/markdown": [
       "The meaning of life is deeply personal and has been pondered for millennia. Some common perspectives:\n",
       "\n",
       "**Philosophical**: Create your own meaning through authentic choices and taking responsibility for your existence (existentialism).\n",
       "\n",
       "**Religious/Spiritual**: Serve a higher purpose, grow spiritually, or fulfill your role in a divine plan.\n",
       "\n",
       "**Humanistic**: Reduce suffering, increase happiness, love others, and contribute to human flourishing.\n",
       "\n",
       "**Biological**: Survive, reproduce, and pass on your genes - though humans transcend this basic drive.\n",
       "\n",
       "**Practical**: Find what gives you a sense of purpose - whether that's relationships, creativity, helping others, learning, or building something lasting.\n",
       "\n",
       "Most people find meaning through some combination: deep connections with others, work that feels worthwhile, personal growth, and leaving the world a bit better than they found it.\n",
       "\n",
       "What resonates with you, Jeremy?\n",
       "\n",
       "<details>\n",
       "\n",
       "- id: `msg_014KKaRL4W2FwBkbmjQQtYpn`\n",
       "- content: `[{'citations': None, 'text': \"The meaning of life is deeply personal and has been pondered for millennia. Some common perspectives:\\n\\n**Philosophical**: Create your own meaning through authentic choices and taking responsibility for your existence (existentialism).\\n\\n**Religious/Spiritual**: Serve a higher purpose, grow spiritually, or fulfill your role in a divine plan.\\n\\n**Humanistic**: Reduce suffering, increase happiness, love others, and contribute to human flourishing.\\n\\n**Biological**: Survive, reproduce, and pass on your genes - though humans transcend this basic drive.\\n\\n**Practical**: Find what gives you a sense of purpose - whether that's relationships, creativity, helping others, learning, or building something lasting.\\n\\nMost people find meaning through some combination: deep connections with others, work that feels worthwhile, personal growth, and leaving the world a bit better than they found it.\\n\\nWhat resonates with you, Jeremy?\", 'type': 'text'}]`\n",
       "- model: `claude-sonnet-4-20250514`\n",
       "- role: `assistant`\n",
       "- stop_reason: `end_turn`\n",
       "- stop_sequence: `None`\n",
       "- type: `message`\n",
       "- usage: `{'cache_creation_input_tokens': 0, 'cache_read_input_tokens': 0, 'input_tokens': 104, 'output_tokens': 194, 'server_tool_use': None, 'service_tier': 'standard'}`\n",
       "\n",
       "</details>"
      ],
      "text/plain": [
       "Message(id='msg_014KKaRL4W2FwBkbmjQQtYpn', content=[TextBlock(citations=None, text=\"The meaning of life is deeply personal and has been pondered for millennia. Some common perspectives:\\n\\n**Philosophical**: Create your own meaning through authentic choices and taking responsibility for your existence (existentialism).\\n\\n**Religious/Spiritual**: Serve a higher purpose, grow spiritually, or fulfill your role in a divine plan.\\n\\n**Humanistic**: Reduce suffering, increase happiness, love others, and contribute to human flourishing.\\n\\n**Biological**: Survive, reproduce, and pass on your genes - though humans transcend this basic drive.\\n\\n**Practical**: Find what gives you a sense of purpose - whether that's relationships, creativity, helping others, learning, or building something lasting.\\n\\nMost people find meaning through some combination: deep connections with others, work that feels worthwhile, personal growth, and leaving the world a bit better than they found it.\\n\\nWhat resonates with you, Jeremy?\", type='text')], model='claude-sonnet-4-20250514', role='assistant', stop_reason='end_turn', stop_sequence=None, type='message', usage=In: 104; Out: 194; Cache create: 0; Cache read: 0; Total Tokens: 298; Search: 0)"
      ]
     },
     "execution_count": null,
     "metadata": {},
     "output_type": "execute_result"
    }
   ],
   "source": [
    "chat.cont_pr = \"Tell me a little more...\"\n",
    "chat()"
   ]
  },
  {
   "cell_type": "markdown",
   "id": "776b3d1e",
   "metadata": {},
   "source": [
    "We can also use streaming:"
   ]
  },
  {
   "cell_type": "code",
   "execution_count": null,
   "id": "529104ec",
   "metadata": {},
   "outputs": [
    {
     "name": "stdout",
     "output_type": "stream",
     "text": [
      "Hi Jeremy! Nice to meet you. How are you doing today?"
     ]
    }
   ],
   "source": [
    "chat = Chat(model, sp=sp)\n",
    "for o in chat(\"I'm Jeremy\", stream=True): print(o, end='')"
   ]
  },
  {
   "cell_type": "code",
   "execution_count": null,
   "id": "14abb3dc",
   "metadata": {},
   "outputs": [
    {
     "name": "stdout",
     "output_type": "stream",
     "text": [
      "According to Douglas Adams,it's 42. But seriously: to find purpose, connect with others, and create meaning through your choices and relationships."
     ]
    },
    {
     "data": {
      "text/markdown": [
       "According to Douglas Adams,it's 42. But seriously: to find purpose, connect with others, and create meaning through your choices and relationships.\n",
       "\n",
       "<details>\n",
       "\n",
       "- id: `msg_01TFJ44h1JScyXQWbAHkHGnd`\n",
       "- content: `[{'citations': None, 'text': \"According to Douglas Adams,it's 42. But seriously: to find purpose, connect with others, and create meaning through your choices and relationships.\", 'type': 'text'}]`\n",
       "- model: `claude-sonnet-4-20250514`\n",
       "- role: `assistant`\n",
       "- stop_reason: `end_turn`\n",
       "- stop_sequence: `None`\n",
       "- type: `message`\n",
       "- usage: `{'cache_creation_input_tokens': 0, 'cache_read_input_tokens': 0, 'input_tokens': 54, 'output_tokens': 28, 'server_tool_use': None, 'service_tier': 'standard'}`\n",
       "\n",
       "</details>"
      ],
      "text/plain": [
       "Message(id='msg_01TFJ44h1JScyXQWbAHkHGnd', content=[TextBlock(citations=None, text=\"According to Douglas Adams,it's 42. But seriously: to find purpose, connect with others, and create meaning through your choices and relationships.\", type='text')], model='claude-sonnet-4-20250514', role='assistant', stop_reason='end_turn', stop_sequence=None, type='message', usage=In: 54; Out: 28; Cache create: 0; Cache read: 0; Total Tokens: 82; Search: 0)"
      ]
     },
     "execution_count": null,
     "metadata": {},
     "output_type": "execute_result"
    }
   ],
   "source": [
    "r = chat(q, prefill=pref, stream=True)\n",
    "for o in r: print(o, end='')\n",
    "r.value"
   ]
  },
  {
   "cell_type": "markdown",
   "id": "0acdca39",
   "metadata": {},
   "source": [
    "You can provide a history of messages to initialise `Chat` with:"
   ]
  },
  {
   "cell_type": "code",
   "execution_count": null,
   "id": "32814e78",
   "metadata": {},
   "outputs": [
    {
     "data": {
      "text/markdown": [
       "I have to be honest - I was just making a playful, completely random guess! I actually have no way of knowing your real name unless you tell me directly. I don't have access to any information about who you are beyond what you share in our conversation.\n",
       "\n",
       "So if \"Merlin G. Penfolds\" actually is your name, that would be an absolutely incredible coincidence! But I suspect you might be playing along with my silly guess. Either way, it's nice to meet you! What would you like me to call you?\n",
       "\n",
       "<details>\n",
       "\n",
       "- id: `msg_016sRKuAyakwNnT9FUZfA9i3`\n",
       "- content: `[{'citations': None, 'text': 'I have to be honest - I was just making a playful, completely random guess! I actually have no way of knowing your real name unless you tell me directly. I don\\'t have access to any information about who you are beyond what you share in our conversation.\\n\\nSo if \"Merlin G. Penfolds\" actually is your name, that would be an absolutely incredible coincidence! But I suspect you might be playing along with my silly guess. Either way, it\\'s nice to meet you! What would you like me to call you?', 'type': 'text'}]`\n",
       "- model: `claude-sonnet-4-20250514`\n",
       "- role: `assistant`\n",
       "- stop_reason: `end_turn`\n",
       "- stop_sequence: `None`\n",
       "- type: `message`\n",
       "- usage: `{'cache_creation_input_tokens': 0, 'cache_read_input_tokens': 0, 'input_tokens': 58, 'output_tokens': 117, 'server_tool_use': None, 'service_tier': 'standard'}`\n",
       "\n",
       "</details>"
      ],
      "text/plain": [
       "Message(id='msg_016sRKuAyakwNnT9FUZfA9i3', content=[TextBlock(citations=None, text='I have to be honest - I was just making a playful, completely random guess! I actually have no way of knowing your real name unless you tell me directly. I don\\'t have access to any information about who you are beyond what you share in our conversation.\\n\\nSo if \"Merlin G. Penfolds\" actually is your name, that would be an absolutely incredible coincidence! But I suspect you might be playing along with my silly guess. Either way, it\\'s nice to meet you! What would you like me to call you?', type='text')], model='claude-sonnet-4-20250514', role='assistant', stop_reason='end_turn', stop_sequence=None, type='message', usage=In: 58; Out: 117; Cache create: 0; Cache read: 0; Total Tokens: 175; Search: 0)"
      ]
     },
     "execution_count": null,
     "metadata": {},
     "output_type": "execute_result"
    }
   ],
   "source": [
    "chat = Chat(model, sp=sp, hist=[\"Can you guess my name?\", \"Hmmm I really don't know. Is it 'Merlin G. Penfolds'?\"])\n",
    "chat('Wow how did you know?')"
   ]
  },
  {
   "cell_type": "markdown",
   "id": "6b40892f",
   "metadata": {},
   "source": [
    "### Chat tool use"
   ]
  },
  {
   "cell_type": "markdown",
   "id": "062f7edf",
   "metadata": {},
   "source": [
    "We automagically get streamlined tool use as well:"
   ]
  },
  {
   "cell_type": "code",
   "execution_count": null,
   "id": "ee6535cf",
   "metadata": {},
   "outputs": [
    {
     "data": {
      "text/plain": [
       "'What is 604542+6458932?'"
      ]
     },
     "execution_count": null,
     "metadata": {},
     "output_type": "execute_result"
    }
   ],
   "source": [
    "pr = f\"What is {a}+{b}?\"\n",
    "pr"
   ]
  },
  {
   "cell_type": "code",
   "execution_count": null,
   "id": "797741c5",
   "metadata": {},
   "outputs": [
    {
     "name": "stdout",
     "output_type": "stream",
     "text": [
      "Finding the sum of 604542 and 6458932\n"
     ]
    },
    {
     "data": {
      "text/markdown": [
       "ToolUseBlock(id='toolu_01EbJ4kX6ZimASi9C8m89ww3', input={'a': 604542, 'b': 6458932}, name='sums', type='tool_use')\n",
       "\n",
       "<details>\n",
       "\n",
       "- id: `msg_01VQTgrgdgQwBvLkRaMnydJs`\n",
       "- content: `[{'id': 'toolu_01EbJ4kX6ZimASi9C8m89ww3', 'input': {'a': 604542, 'b': 6458932}, 'name': 'sums', 'type': 'tool_use'}]`\n",
       "- model: `claude-sonnet-4-20250514`\n",
       "- role: `assistant`\n",
       "- stop_reason: `tool_use`\n",
       "- stop_sequence: `None`\n",
       "- type: `message`\n",
       "- usage: `{'cache_creation_input_tokens': 0, 'cache_read_input_tokens': 0, 'input_tokens': 437, 'output_tokens': 72, 'server_tool_use': None, 'service_tier': 'standard'}`\n",
       "\n",
       "</details>"
      ],
      "text/plain": [
       "Message(id='msg_01VQTgrgdgQwBvLkRaMnydJs', content=[ToolUseBlock(id='toolu_01EbJ4kX6ZimASi9C8m89ww3', input={'a': 604542, 'b': 6458932}, name='sums', type='tool_use')], model='claude-sonnet-4-20250514', role='assistant', stop_reason='tool_use', stop_sequence=None, type='message', usage=In: 437; Out: 72; Cache create: 0; Cache read: 0; Total Tokens: 509; Search: 0)"
      ]
     },
     "execution_count": null,
     "metadata": {},
     "output_type": "execute_result"
    }
   ],
   "source": [
    "chat = Chat(model, sp=sp, tools=[sums])\n",
    "r = chat(pr)\n",
    "r"
   ]
  },
  {
   "cell_type": "markdown",
   "id": "ff5513be",
   "metadata": {},
   "source": [
    "Now we need to send this result to Claude—calling the object with no parameters tells it to return the tool result to Claude:"
   ]
  },
  {
   "cell_type": "code",
   "execution_count": null,
   "id": "b091eae0",
   "metadata": {},
   "outputs": [
    {
     "data": {
      "text/markdown": [
       "604542 + 6458932 = 7,063,474\n",
       "\n",
       "<details>\n",
       "\n",
       "- id: `msg_01FVvhDSrqvEDYRWEYEwTEhr`\n",
       "- content: `[{'citations': None, 'text': '604542 + 6458932 = 7,063,474', 'type': 'text'}]`\n",
       "- model: `claude-sonnet-4-20250514`\n",
       "- role: `assistant`\n",
       "- stop_reason: `end_turn`\n",
       "- stop_sequence: `None`\n",
       "- type: `message`\n",
       "- usage: `{'cache_creation_input_tokens': 0, 'cache_read_input_tokens': 0, 'input_tokens': 530, 'output_tokens': 19, 'server_tool_use': None, 'service_tier': 'standard'}`\n",
       "\n",
       "</details>"
      ],
      "text/plain": [
       "Message(id='msg_01FVvhDSrqvEDYRWEYEwTEhr', content=[TextBlock(citations=None, text='604542 + 6458932 = 7,063,474', type='text')], model='claude-sonnet-4-20250514', role='assistant', stop_reason='end_turn', stop_sequence=None, type='message', usage=In: 530; Out: 19; Cache create: 0; Cache read: 0; Total Tokens: 549; Search: 0)"
      ]
     },
     "execution_count": null,
     "metadata": {},
     "output_type": "execute_result"
    }
   ],
   "source": [
    "chat()"
   ]
  },
  {
   "cell_type": "markdown",
   "id": "8e551677",
   "metadata": {},
   "source": [
    "It should be correct, because it actually used our Python function to do the addition. Let's check:"
   ]
  },
  {
   "cell_type": "code",
   "execution_count": null,
   "id": "06bfbf3d",
   "metadata": {},
   "outputs": [
    {
     "data": {
      "text/plain": [
       "7063474"
      ]
     },
     "execution_count": null,
     "metadata": {},
     "output_type": "execute_result"
    }
   ],
   "source": [
    "a+b"
   ]
  },
  {
   "cell_type": "markdown",
   "id": "bb7d69fd",
   "metadata": {},
   "source": [
    "Let's try the same thing with streaming:"
   ]
  },
  {
   "cell_type": "code",
   "execution_count": null,
   "id": "4f141888",
   "metadata": {},
   "outputs": [
    {
     "name": "stdout",
     "output_type": "stream",
     "text": [
      "Finding the sum of 604542 and 6458932\n"
     ]
    }
   ],
   "source": [
    "chat = Chat(model, sp=sp, tools=[sums])\n",
    "r = chat(pr, stream=True)\n",
    "for o in r: print(o, end='')"
   ]
  },
  {
   "cell_type": "markdown",
   "id": "7af474d1",
   "metadata": {},
   "source": [
    "The full message, including tool call details, are in `value`:"
   ]
  },
  {
   "cell_type": "code",
   "execution_count": null,
   "id": "bfc0d5d7",
   "metadata": {},
   "outputs": [
    {
     "data": {
      "text/markdown": [
       "ToolUseBlock(id='toolu_012mCCw17t3FTVFTtQXVLau7', input={'a': 604542, 'b': 6458932}, name='sums', type='tool_use')\n",
       "\n",
       "<details>\n",
       "\n",
       "- id: `msg_019saR1SeZrBxJZhZqKiWBEp`\n",
       "- content: `[{'id': 'toolu_012mCCw17t3FTVFTtQXVLau7', 'input': {'a': 604542, 'b': 6458932}, 'name': 'sums', 'type': 'tool_use'}]`\n",
       "- model: `claude-sonnet-4-20250514`\n",
       "- role: `assistant`\n",
       "- stop_reason: `tool_use`\n",
       "- stop_sequence: `None`\n",
       "- type: `message`\n",
       "- usage: `{'cache_creation_input_tokens': 0, 'cache_read_input_tokens': 0, 'input_tokens': 437, 'output_tokens': 72, 'server_tool_use': None, 'service_tier': 'standard'}`\n",
       "\n",
       "</details>"
      ],
      "text/plain": [
       "Message(id='msg_019saR1SeZrBxJZhZqKiWBEp', content=[ToolUseBlock(id='toolu_012mCCw17t3FTVFTtQXVLau7', input={'a': 604542, 'b': 6458932}, name='sums', type='tool_use')], model='claude-sonnet-4-20250514', role='assistant', stop_reason='tool_use', stop_sequence=None, type='message', usage=In: 437; Out: 72; Cache create: 0; Cache read: 0; Total Tokens: 509; Search: 0)"
      ]
     },
     "execution_count": null,
     "metadata": {},
     "output_type": "execute_result"
    }
   ],
   "source": [
    "r.value"
   ]
  },
  {
   "cell_type": "code",
   "execution_count": null,
   "id": "bdbfdea5",
   "metadata": {},
   "outputs": [
    {
     "name": "stdout",
     "output_type": "stream",
     "text": [
      "604542 + 6458932 = 7,063,474"
     ]
    }
   ],
   "source": [
    "r = chat(stream=True)\n",
    "for o in r: print(o, end='')"
   ]
  },
  {
   "cell_type": "code",
   "execution_count": null,
   "id": "c208c90e",
   "metadata": {},
   "outputs": [
    {
     "data": {
      "text/markdown": [
       "604542 + 6458932 = 7,063,474\n",
       "\n",
       "<details>\n",
       "\n",
       "- id: `msg_01FCdDxkwbtbjDEnAHY6vrAk`\n",
       "- content: `[{'citations': None, 'text': '604542 + 6458932 = 7,063,474', 'type': 'text'}]`\n",
       "- model: `claude-sonnet-4-20250514`\n",
       "- role: `assistant`\n",
       "- stop_reason: `end_turn`\n",
       "- stop_sequence: `None`\n",
       "- type: `message`\n",
       "- usage: `{'cache_creation_input_tokens': 0, 'cache_read_input_tokens': 0, 'input_tokens': 530, 'output_tokens': 19, 'server_tool_use': None, 'service_tier': 'standard'}`\n",
       "\n",
       "</details>"
      ],
      "text/plain": [
       "Message(id='msg_01FCdDxkwbtbjDEnAHY6vrAk', content=[TextBlock(citations=None, text='604542 + 6458932 = 7,063,474', type='text')], model='claude-sonnet-4-20250514', role='assistant', stop_reason='end_turn', stop_sequence=None, type='message', usage=In: 530; Out: 19; Cache create: 0; Cache read: 0; Total Tokens: 549; Search: 0)"
      ]
     },
     "execution_count": null,
     "metadata": {},
     "output_type": "execute_result"
    }
   ],
   "source": [
    "r.value"
   ]
  },
  {
   "cell_type": "markdown",
   "id": "1b54446a",
   "metadata": {},
   "source": [
    "The history shows both the tool_use and tool_result messages:"
   ]
  },
  {
   "cell_type": "code",
   "execution_count": null,
   "id": "15860ba0",
   "metadata": {},
   "outputs": [
    {
     "data": {
      "text/plain": [
       "[{'role': 'user', 'content': 'What is 604542+6458932?'},\n",
       " {'role': 'assistant',\n",
       "  'content': [{'id': 'toolu_012mCCw17t3FTVFTtQXVLau7',\n",
       "    'input': {'a': 604542, 'b': 6458932},\n",
       "    'name': 'sums',\n",
       "    'type': 'tool_use'}]},\n",
       " {'role': 'user',\n",
       "  'content': [{'type': 'tool_result',\n",
       "    'tool_use_id': 'toolu_012mCCw17t3FTVFTtQXVLau7',\n",
       "    'content': 'MySum(val=7063474)'}]},\n",
       " {'role': 'assistant',\n",
       "  'content': [{'citations': None,\n",
       "    'text': '604542 + 6458932 = 7,063,474',\n",
       "    'type': 'text'}]}]"
      ]
     },
     "execution_count": null,
     "metadata": {},
     "output_type": "execute_result"
    }
   ],
   "source": [
    "chat.h"
   ]
  },
  {
   "cell_type": "markdown",
   "id": "445b2aa2",
   "metadata": {},
   "source": [
    "Let's test a function with user defined types."
   ]
  },
  {
   "cell_type": "code",
   "execution_count": null,
   "id": "d4db78d9",
   "metadata": {},
   "outputs": [
    {
     "data": {
      "text/markdown": [
       "ToolUseBlock(id='toolu_01BcnfcEPoNwPTFTGogcy1LL', input={'book': {'title': 'Tao Te Ching', 'pages': 80}, 'percent': 75}, name='find_page', type='tool_use')\n",
       "\n",
       "<details>\n",
       "\n",
       "- id: `msg_01JzFUZkSgQsBHy31mUH8858`\n",
       "- content: `[{'id': 'toolu_01BcnfcEPoNwPTFTGogcy1LL', 'input': {'book': {'title': 'Tao Te Ching', 'pages': 80}, 'percent': 75}, 'name': 'find_page', 'type': 'tool_use'}]`\n",
       "- model: `claude-sonnet-4-20250514`\n",
       "- role: `assistant`\n",
       "- stop_reason: `tool_use`\n",
       "- stop_sequence: `None`\n",
       "- type: `message`\n",
       "- usage: `{'cache_creation_input_tokens': 0, 'cache_read_input_tokens': 0, 'input_tokens': 547, 'output_tokens': 86, 'server_tool_use': None, 'service_tier': 'standard'}`\n",
       "\n",
       "</details>"
      ],
      "text/plain": [
       "Message(id='msg_01JzFUZkSgQsBHy31mUH8858', content=[ToolUseBlock(id='toolu_01BcnfcEPoNwPTFTGogcy1LL', input={'book': {'title': 'Tao Te Ching', 'pages': 80}, 'percent': 75}, name='find_page', type='tool_use')], model='claude-sonnet-4-20250514', role='assistant', stop_reason='tool_use', stop_sequence=None, type='message', usage=In: 547; Out: 86; Cache create: 0; Cache read: 0; Total Tokens: 633; Search: 0)"
      ]
     },
     "execution_count": null,
     "metadata": {},
     "output_type": "execute_result"
    }
   ],
   "source": [
    "chat = Chat(model, sp=sp, tools=[find_page])\n",
    "r = chat(\"How many pages is three quarters of the way through my 80 page edition of Tao Te Ching?\")\n",
    "r"
   ]
  },
  {
   "cell_type": "code",
   "execution_count": null,
   "id": "0979c832",
   "metadata": {},
   "outputs": [
    {
     "data": {
      "text/markdown": [
       "Three quarters of the way through your 80-page edition of Tao Te Ching would be page 60.\n",
       "\n",
       "<details>\n",
       "\n",
       "- id: `msg_01Fj7UTjewyJ82rVEWnFYVUa`\n",
       "- content: `[{'citations': None, 'text': 'Three quarters of the way through your 80-page edition of Tao Te Ching would be page 60.', 'type': 'text'}]`\n",
       "- model: `claude-sonnet-4-20250514`\n",
       "- role: `assistant`\n",
       "- stop_reason: `end_turn`\n",
       "- stop_sequence: `None`\n",
       "- type: `message`\n",
       "- usage: `{'cache_creation_input_tokens': 0, 'cache_read_input_tokens': 0, 'input_tokens': 647, 'output_tokens': 29, 'server_tool_use': None, 'service_tier': 'standard'}`\n",
       "\n",
       "</details>"
      ],
      "text/plain": [
       "Message(id='msg_01Fj7UTjewyJ82rVEWnFYVUa', content=[TextBlock(citations=None, text='Three quarters of the way through your 80-page edition of Tao Te Ching would be page 60.', type='text')], model='claude-sonnet-4-20250514', role='assistant', stop_reason='end_turn', stop_sequence=None, type='message', usage=In: 647; Out: 29; Cache create: 0; Cache read: 0; Total Tokens: 676; Search: 0)"
      ]
     },
     "execution_count": null,
     "metadata": {},
     "output_type": "execute_result"
    }
   ],
   "source": [
    "chat()"
   ]
  },
  {
   "cell_type": "code",
   "execution_count": null,
   "id": "49c3a35a",
   "metadata": {},
   "outputs": [],
   "source": [
    "#| exports\n",
    "@patch\n",
    "def _repr_markdown_(self:Chat):\n",
    "    if not hasattr(self.c, 'result'): return 'No results yet'\n",
    "    last_msg = contents(self.c.result)\n",
    "    \n",
    "    def fmt_msg(m):\n",
    "        t = contents(m)\n",
    "        if isinstance(t, dict): return t['content']\n",
    "        return t\n",
    "        \n",
    "    history = '\\n\\n'.join(f\"**{m['role']}**: {fmt_msg(m)}\" \n",
    "                         for m in self.h)\n",
    "    det = self.c._repr_markdown_().split('\\n\\n')[-1]\n",
    "    if history: history = f\"\"\"\n",
    "<details>\n",
    "<summary>► History</summary>\n",
    "\n",
    "{history}\n",
    "\n",
    "</details>\n",
    "\"\"\"\n",
    "\n",
    "    return f\"\"\"{last_msg}\n",
    "{history}\n",
    "{det}\"\"\""
   ]
  },
  {
   "cell_type": "code",
   "execution_count": null,
   "id": "caad2e3a",
   "metadata": {},
   "outputs": [],
   "source": [
    "# TODO: fix history format"
   ]
  },
  {
   "cell_type": "code",
   "execution_count": null,
   "id": "2baedd52",
   "metadata": {},
   "outputs": [
    {
     "data": {
      "text/markdown": [
       "Three quarters of the way through your 80-page edition of Tao Te Ching would be page 60.\n",
       "\n",
       "<details>\n",
       "<summary>► History</summary>\n",
       "\n",
       "**user**: H\n",
       "\n",
       "**assistant**: {'id': 'toolu_01BcnfcEPoNwPTFTGogcy1LL', 'input': {'book': {'title': 'Tao Te Ching', 'pages': 80}, 'percent': 75}, 'name': 'find_page', 'type': 'tool_use'}\n",
       "\n",
       "**user**: 60\n",
       "\n",
       "**assistant**: Three quarters of the way through your 80-page edition of Tao Te Ching would be page 60.\n",
       "\n",
       "</details>\n",
       "\n",
       "| Metric | Count | Cost (USD) |\n",
       "|--------|------:|-----:|\n",
       "| Input tokens | 1,194 | 0.003582 |\n",
       "| Output tokens | 115 | 0.001725 |\n",
       "| Cache tokens | 0 | 0.000000 |\n",
       "| Server tool use | 0 | 0.000000 |\n",
       "| **Total** | **1,309** | **$0.005307** |"
      ],
      "text/plain": [
       "<__main__.Chat>"
      ]
     },
     "execution_count": null,
     "metadata": {},
     "output_type": "execute_result"
    }
   ],
   "source": [
    "chat"
   ]
  },
  {
   "cell_type": "code",
   "execution_count": null,
   "id": "c76a22fb",
   "metadata": {},
   "outputs": [],
   "source": [
    "chat = Chat(model, tools=[text_editor_conf['sonnet']], ns=mk_ns(str_replace_based_edit_tool))"
   ]
  },
  {
   "cell_type": "markdown",
   "id": "157d057f",
   "metadata": {},
   "source": [
    "When not providing tools directly as Python functions (like `sum`), you **must** create and pass a namespace dictionary (mapping the tool name string to the function object) using the `ns` parameter to methods like `mk_toolres` or `toolloop`. `toolslm` cannot automatically generate the namespace in this case. For schema-based tools (i.e., Python functions), `claudette` handles namespace creation automatically."
   ]
  },
  {
   "cell_type": "code",
   "execution_count": null,
   "id": "ebbd0cd2",
   "metadata": {},
   "outputs": [
    {
     "data": {
      "text/plain": [
       "ToolUseBlock(id='toolu_01WGRx87aQu2ipe4WaM7LP12', input={'command': 'view', 'path': '_quarto.yml'}, name='str_replace_based_edit_tool', type='tool_use')"
      ]
     },
     "execution_count": null,
     "metadata": {},
     "output_type": "execute_result"
    }
   ],
   "source": [
    "r = chat('Please explain very concisely what my _quarto.yml does. It is in the current path. Use your tools')\n",
    "find_block(r, ToolUseBlock)"
   ]
  },
  {
   "cell_type": "code",
   "execution_count": null,
   "id": "0b7717a8",
   "metadata": {},
   "outputs": [
    {
     "data": {
      "text/markdown": [
       "Your `_quarto.yml` configures a Quarto website with:\n",
       "\n",
       "- **Website type** with custom preview on port 3000\n",
       "- **HTML styling**: Cosmo theme, custom CSS, table of contents, code tools, and wide layout (1800px body)\n",
       "- **Navigation**: Primary navbar with search, floating sidebar\n",
       "- **Social features**: Twitter cards and Open Graph metadata\n",
       "- **Resources**: Includes .txt files and references nbdev.yml/sidebar.yml for additional configuration\n",
       "- **Output**: Keeps markdown files and supports CommonMark format\n",
       "\n",
       "It's set up for a documentation or blog website with code-friendly features and social media integration.\n",
       "\n",
       "<details>\n",
       "\n",
       "- id: `msg_01NNsn9Vw9a7NP8KTw53DJRd`\n",
       "- content: `[{'citations': None, 'text': \"Your `_quarto.yml` configures a Quarto website with:\\n\\n- **Website type** with custom preview on port 3000\\n- **HTML styling**: Cosmo theme, custom CSS, table of contents, code tools, and wide layout (1800px body)\\n- **Navigation**: Primary navbar with search, floating sidebar\\n- **Social features**: Twitter cards and Open Graph metadata\\n- **Resources**: Includes .txt files and references nbdev.yml/sidebar.yml for additional configuration\\n- **Output**: Keeps markdown files and supports CommonMark format\\n\\nIt's set up for a documentation or blog website with code-friendly features and social media integration.\", 'type': 'text'}]`\n",
       "- model: `claude-sonnet-4-20250514`\n",
       "- role: `assistant`\n",
       "- stop_reason: `end_turn`\n",
       "- stop_sequence: `None`\n",
       "- type: `message`\n",
       "- usage: `{'cache_creation_input_tokens': 0, 'cache_read_input_tokens': 0, 'input_tokens': 1443, 'output_tokens': 147, 'server_tool_use': None, 'service_tier': 'standard'}`\n",
       "\n",
       "</details>"
      ],
      "text/plain": [
       "Message(id='msg_01NNsn9Vw9a7NP8KTw53DJRd', content=[TextBlock(citations=None, text=\"Your `_quarto.yml` configures a Quarto website with:\\n\\n- **Website type** with custom preview on port 3000\\n- **HTML styling**: Cosmo theme, custom CSS, table of contents, code tools, and wide layout (1800px body)\\n- **Navigation**: Primary navbar with search, floating sidebar\\n- **Social features**: Twitter cards and Open Graph metadata\\n- **Resources**: Includes .txt files and references nbdev.yml/sidebar.yml for additional configuration\\n- **Output**: Keeps markdown files and supports CommonMark format\\n\\nIt's set up for a documentation or blog website with code-friendly features and social media integration.\", type='text')], model='claude-sonnet-4-20250514', role='assistant', stop_reason='end_turn', stop_sequence=None, type='message', usage=In: 1443; Out: 147; Cache create: 0; Cache read: 0; Total Tokens: 1590; Search: 0)"
      ]
     },
     "execution_count": null,
     "metadata": {},
     "output_type": "execute_result"
    }
   ],
   "source": [
    "chat()"
   ]
  },
  {
   "cell_type": "markdown",
   "id": "df1dd4c3",
   "metadata": {},
   "source": [
    "## Images"
   ]
  },
  {
   "cell_type": "markdown",
   "id": "cf741dbc",
   "metadata": {},
   "source": [
    "Claude can handle image data as well. As everyone knows, when testing image APIs you have to use a cute puppy."
   ]
  },
  {
   "cell_type": "code",
   "execution_count": null,
   "id": "5d35d564",
   "metadata": {},
   "outputs": [
    {
     "data": {
      "image/jpeg": "[encoded data removed]",
      "text/plain": [
       "<IPython.core.display.Image object>"
      ]
     },
     "execution_count": null,
     "metadata": {
      "image/jpeg": {
       "width": 200
      }
     },
     "output_type": "execute_result"
    }
   ],
   "source": [
    "# Image is Cute_dog.jpg from Wikimedia\n",
    "fn = Path('samples/puppy.jpg')\n",
    "Image(filename=fn, width=200)"
   ]
  },
  {
   "cell_type": "code",
   "execution_count": null,
   "id": "d120d8fb",
   "metadata": {},
   "outputs": [],
   "source": [
    "img = fn.read_bytes()"
   ]
  },
  {
   "cell_type": "markdown",
   "id": "3e2937df",
   "metadata": {},
   "source": [
    "Claude expects an image message to have the following structure\n",
    "\n",
    "```js\n",
    "{\n",
    "    'role': 'user', \n",
    "    'content': [\n",
    "        {'type':'text', 'text':'What is in the image?'},\n",
    "        {\n",
    "            'type':'image', \n",
    "            'source': {\n",
    "                'type':'base64', 'media_type':'media_type', 'data': 'data'\n",
    "            }\n",
    "        }\n",
    "    ]\n",
    "}\n",
    "```\n",
    "`msglm` automatically detects if a message is an image, encodes it, and generates the data structure above.\n",
    "All we need to do is a create a list containing our image and a query and then pass it to `mk_msg`.\n",
    "\n",
    "Let's try it out..."
   ]
  },
  {
   "cell_type": "code",
   "execution_count": null,
   "id": "db8339ac",
   "metadata": {},
   "outputs": [],
   "source": [
    "q = \"In brief, what color flowers are in this image?\"\n",
    "msg = mk_msg([img, q])"
   ]
  },
  {
   "cell_type": "code",
   "execution_count": null,
   "id": "69acc8c7",
   "metadata": {},
   "outputs": [
    {
     "data": {
      "text/markdown": [
       "The flowers in this image are purple.\n",
       "\n",
       "<details>\n",
       "\n",
       "- id: `msg_01KRZB363rveqCZQibBAsatS`\n",
       "- content: `[{'citations': None, 'text': 'The flowers in this image are purple.', 'type': 'text'}]`\n",
       "- model: `claude-sonnet-4-20250514`\n",
       "- role: `assistant`\n",
       "- stop_reason: `end_turn`\n",
       "- stop_sequence: `None`\n",
       "- type: `message`\n",
       "- usage: `{'cache_creation_input_tokens': 0, 'cache_read_input_tokens': 0, 'input_tokens': 110, 'output_tokens': 11, 'server_tool_use': None, 'service_tier': 'standard'}`\n",
       "\n",
       "</details>"
      ],
      "text/plain": [
       "Message(id='msg_01KRZB363rveqCZQibBAsatS', content=[TextBlock(citations=None, text='The flowers in this image are purple.', type='text')], model='claude-sonnet-4-20250514', role='assistant', stop_reason='end_turn', stop_sequence=None, type='message', usage=In: 110; Out: 11; Cache create: 0; Cache read: 0; Total Tokens: 121; Search: 0)"
      ]
     },
     "execution_count": null,
     "metadata": {},
     "output_type": "execute_result"
    }
   ],
   "source": [
    "c([msg])"
   ]
  },
  {
   "cell_type": "markdown",
   "id": "09be3d09",
   "metadata": {},
   "source": [
    "You don't need to call `mk_msg` on each individual message before passing them to the `Chat` class. Instead you can pass your messages in a list and the `Chat` class will automatically call `mk_msgs` in the background. \n",
    "\n",
    "```python\n",
    "c([\"How are you?\", r])\n",
    "```\n",
    "\n",
    "For messages that contain multiple content types (like an image with a question), you'll need to enclose the message contents in a list as shown below:\n",
    "\n",
    "```python\n",
    "c([\"How are you?\", r, [img, q]])\n",
    "```"
   ]
  },
  {
   "cell_type": "code",
   "execution_count": null,
   "id": "73ce3789",
   "metadata": {},
   "outputs": [
    {
     "data": {
      "text/markdown": [
       "The flowers in this image are purple.\n",
       "\n",
       "<details>\n",
       "\n",
       "- id: `msg_016zRcMZZ1D468Vc9qhedpRS`\n",
       "- content: `[{'citations': None, 'text': 'The flowers in this image are purple.', 'type': 'text'}]`\n",
       "- model: `claude-sonnet-4-20250514`\n",
       "- role: `assistant`\n",
       "- stop_reason: `end_turn`\n",
       "- stop_sequence: `None`\n",
       "- type: `message`\n",
       "- usage: `{'cache_creation_input_tokens': 0, 'cache_read_input_tokens': 0, 'input_tokens': 110, 'output_tokens': 11, 'server_tool_use': None, 'service_tier': 'standard'}`\n",
       "\n",
       "</details>"
      ],
      "text/plain": [
       "Message(id='msg_016zRcMZZ1D468Vc9qhedpRS', content=[TextBlock(citations=None, text='The flowers in this image are purple.', type='text')], model='claude-sonnet-4-20250514', role='assistant', stop_reason='end_turn', stop_sequence=None, type='message', usage=In: 110; Out: 11; Cache create: 0; Cache read: 0; Total Tokens: 121; Search: 0)"
      ]
     },
     "execution_count": null,
     "metadata": {},
     "output_type": "execute_result"
    }
   ],
   "source": [
    "c = Chat(model)\n",
    "c([img, q])"
   ]
  },
  {
   "cell_type": "code",
   "execution_count": null,
   "id": "496178d9",
   "metadata": {},
   "outputs": [],
   "source": [
    "def contents(r):\n",
    "    \"Helper to get the contents from Claude response `r`.\"\n",
    "    blk = find_block(r)\n",
    "    if not blk and r.content: blk = r.content[0]\n",
    "    if hasattr(blk,'text'): return blk.text.strip()\n",
    "    elif hasattr(blk,'content'): return blk.content.strip()\n",
    "    elif hasattr(blk,'source'): return f'*Media Type - {blk.type}*'\n",
    "    return str(blk)"
   ]
  },
  {
   "cell_type": "code",
   "execution_count": null,
   "id": "8b9d8064",
   "metadata": {},
   "outputs": [
    {
     "data": {
      "text/plain": [
       "'*Media Type - image*'"
      ]
     },
     "execution_count": null,
     "metadata": {},
     "output_type": "execute_result"
    }
   ],
   "source": [
    "contents(c.h[0])"
   ]
  },
  {
   "cell_type": "code",
   "execution_count": null,
   "id": "3eb5f016",
   "metadata": {},
   "outputs": [
    {
     "data": {
      "text/markdown": [
       "The flowers in this image are purple.\n",
       "\n",
       "<details>\n",
       "<summary>► History</summary>\n",
       "\n",
       "**user**: *Media Type - image*\n",
       "\n",
       "**assistant**: The flowers in this image are purple.\n",
       "\n",
       "</details>\n",
       "\n",
       "| Metric | Count | Cost (USD) |\n",
       "|--------|------:|-----:|\n",
       "| Input tokens | 110 | 0.000330 |\n",
       "| Output tokens | 11 | 0.000165 |\n",
       "| Cache tokens | 0 | 0.000000 |\n",
       "| Server tool use | 0 | 0.000000 |\n",
       "| **Total** | **121** | **$0.000495** |"
      ],
      "text/plain": [
       "<__main__.Chat>"
      ]
     },
     "execution_count": null,
     "metadata": {},
     "output_type": "execute_result"
    }
   ],
   "source": [
    "c"
   ]
  },
  {
   "cell_type": "markdown",
   "id": "00482861",
   "metadata": {},
   "source": [
    ":::{.callout-note}\n",
    "\n",
    "Unfortunately, not all Claude models support images 😞. This [table](https://docs.anthropic.com/en/docs/about-claude/models#model-comparison-table) summarizes the capabilities of each Claude model and the different modalities they support.\n",
    "\n",
    ":::"
   ]
  },
  {
   "cell_type": "markdown",
   "id": "abd9dbe9",
   "metadata": {},
   "source": [
    "## Caching"
   ]
  },
  {
   "cell_type": "markdown",
   "id": "026fb70e",
   "metadata": {},
   "source": [
    "Claude supports context caching by adding a `cache_control` header to the message content.\n",
    "\n",
    "```js\n",
    "{\n",
    "    \"role\": \"user\",\n",
    "    \"content\": [\n",
    "        {\n",
    "            \"type\": \"text\", \n",
    "            \"text\": \"Please cache my message\", \n",
    "            \"cache_control\": {\"type\": \"ephemeral\"}\n",
    "        }\n",
    "    ]\n",
    "}\n",
    "```\n",
    "\n",
    "To cache a message, we simply set `cache=True` when calling `mk_msg`."
   ]
  },
  {
   "cell_type": "code",
   "execution_count": null,
   "id": "19a9d3e1",
   "metadata": {},
   "outputs": [
    {
     "data": {
      "text/markdown": [
       "```json\n",
       "{ 'content': [ {'text': 'hi', 'type': 'text'},\n",
       "               { 'cache_control': {'type': 'ephemeral'},\n",
       "                 'text': 'there',\n",
       "                 'type': 'text'}],\n",
       "  'role': 'user'}\n",
       "```"
      ],
      "text/plain": [
       "{'role': 'user',\n",
       " 'content': [{'type': 'text', 'text': 'hi'},\n",
       "  {'type': 'text', 'text': 'there', 'cache_control': {'type': 'ephemeral'}}]}"
      ]
     },
     "execution_count": null,
     "metadata": {},
     "output_type": "execute_result"
    }
   ],
   "source": [
    "mk_msg(['hi', 'there'], cache=True)"
   ]
  },
  {
   "cell_type": "markdown",
   "id": "e412abd5",
   "metadata": {},
   "source": [
    "Claude also now supports smart cache look-ups, so it's very simple to keep an entire conversation in cache by constantly telling it to update the cache with the latest message. To do this, we just need to set `cache=True` when creating a `Chat`."
   ]
  },
  {
   "cell_type": "code",
   "execution_count": null,
   "id": "5eb7bed0",
   "metadata": {},
   "outputs": [],
   "source": [
    "chat = Chat(model, sp=sp, cache=True)"
   ]
  },
  {
   "cell_type": "markdown",
   "id": "745a3182",
   "metadata": {},
   "source": [
    "Caching has a minimum token limit of 1024 tokens for Sonnet and Opus, and 2048 for Haiku. If your conversation is below this limit, it will not be cached."
   ]
  },
  {
   "cell_type": "code",
   "execution_count": null,
   "id": "ed6e5fe2",
   "metadata": {},
   "outputs": [
    {
     "data": {
      "text/markdown": [
       "Hi Jeremy! Nice to meet you. How are you doing today?\n",
       "\n",
       "<details>\n",
       "\n",
       "- id: `msg_01DGxcxV4KVV9N4ksjvebajw`\n",
       "- content: `[{'citations': None, 'text': 'Hi Jeremy! Nice to meet you. How are you doing today?', 'type': 'text'}]`\n",
       "- model: `claude-sonnet-4-20250514`\n",
       "- role: `assistant`\n",
       "- stop_reason: `end_turn`\n",
       "- stop_sequence: `None`\n",
       "- type: `message`\n",
       "- usage: `{'cache_creation_input_tokens': 0, 'cache_read_input_tokens': 0, 'input_tokens': 20, 'output_tokens': 17, 'server_tool_use': None, 'service_tier': 'standard'}`\n",
       "\n",
       "</details>"
      ],
      "text/plain": [
       "Message(id='msg_01DGxcxV4KVV9N4ksjvebajw', content=[TextBlock(citations=None, text='Hi Jeremy! Nice to meet you. How are you doing today?', type='text')], model='claude-sonnet-4-20250514', role='assistant', stop_reason='end_turn', stop_sequence=None, type='message', usage=In: 20; Out: 17; Cache create: 0; Cache read: 0; Total Tokens: 37; Search: 0)"
      ]
     },
     "execution_count": null,
     "metadata": {},
     "output_type": "execute_result"
    }
   ],
   "source": [
    "chat(\"Hi, I'm Jeremy.\")"
   ]
  },
  {
   "cell_type": "code",
   "execution_count": null,
   "id": "51fc2c82",
   "metadata": {},
   "outputs": [
    {
     "data": {
      "text/plain": [
       "In: 20; Out: 17; Cache create: 0; Cache read: 0; Total Tokens: 37; Search: 0"
      ]
     },
     "execution_count": null,
     "metadata": {},
     "output_type": "execute_result"
    }
   ],
   "source": [
    "chat.use"
   ]
  },
  {
   "cell_type": "markdown",
   "id": "4762e29d",
   "metadata": {},
   "source": [
    "Note the usage: no cache is created, nor used. Now, let's send a long enough message to trigger caching."
   ]
  },
  {
   "cell_type": "code",
   "execution_count": null,
   "id": "e870355c",
   "metadata": {},
   "outputs": [
    {
     "data": {
      "text/markdown": [
       "I see you've sent a very long block of \"Lorem ipsum dolor sit amet\" repeated many times! Lorem ipsum is that classic placeholder text that's commonly used in design and publishing.\n",
       "\n",
       "Was this intentional, or did something go wrong with copy-pasting? Either way, no worries - happens to the best of us! Is there something specific you'd like to chat about, Jeremy?\n",
       "\n",
       "<details>\n",
       "\n",
       "- id: `msg_019muc6q8xMKoo69HVXb1pD9`\n",
       "- content: `[{'citations': None, 'text': 'I see you\\'ve sent a very long block of \"Lorem ipsum dolor sit amet\" repeated many times! Lorem ipsum is that classic placeholder text that\\'s commonly used in design and publishing.\\n\\nWas this intentional, or did something go wrong with copy-pasting? Either way, no worries - happens to the best of us! Is there something specific you\\'d like to chat about, Jeremy?', 'type': 'text'}]`\n",
       "- model: `claude-sonnet-4-20250514`\n",
       "- role: `assistant`\n",
       "- stop_reason: `end_turn`\n",
       "- stop_sequence: `None`\n",
       "- type: `message`\n",
       "- usage: `{'cache_creation_input_tokens': 1084, 'cache_read_input_tokens': 0, 'input_tokens': 4, 'output_tokens': 84, 'server_tool_use': None, 'service_tier': 'standard'}`\n",
       "\n",
       "</details>"
      ],
      "text/plain": [
       "Message(id='msg_019muc6q8xMKoo69HVXb1pD9', content=[TextBlock(citations=None, text='I see you\\'ve sent a very long block of \"Lorem ipsum dolor sit amet\" repeated many times! Lorem ipsum is that classic placeholder text that\\'s commonly used in design and publishing.\\n\\nWas this intentional, or did something go wrong with copy-pasting? Either way, no worries - happens to the best of us! Is there something specific you\\'d like to chat about, Jeremy?', type='text')], model='claude-sonnet-4-20250514', role='assistant', stop_reason='end_turn', stop_sequence=None, type='message', usage=In: 4; Out: 84; Cache create: 1084; Cache read: 0; Total Tokens: 1172; Search: 0)"
      ]
     },
     "execution_count": null,
     "metadata": {},
     "output_type": "execute_result"
    }
   ],
   "source": [
    "chat(\"\"\"Lorem ipsum dolor sit amet\"\"\" * 150)"
   ]
  },
  {
   "cell_type": "code",
   "execution_count": null,
   "id": "f79eeb82",
   "metadata": {},
   "outputs": [
    {
     "data": {
      "text/plain": [
       "In: 24; Out: 101; Cache create: 1084; Cache read: 0; Total Tokens: 1209; Search: 0"
      ]
     },
     "execution_count": null,
     "metadata": {},
     "output_type": "execute_result"
    }
   ],
   "source": [
    "chat.use"
   ]
  },
  {
   "cell_type": "markdown",
   "id": "0b7a7036",
   "metadata": {},
   "source": [
    "The context is now long enough for cache to be used. All the conversation history has now been written to the temporary cache. Any subsequent message will read from it rather than re-processing the entire conversation history."
   ]
  },
  {
   "cell_type": "code",
   "execution_count": null,
   "id": "1dc2286e",
   "metadata": {},
   "outputs": [
    {
     "data": {
      "text/markdown": [
       "Haha, no problem at all! Those lorem ipsum generators can definitely get a bit enthusiastic sometimes. It's like they're trying to fill every possible space with placeholder text!\n",
       "\n",
       "Are you working on some kind of design or layout project? Or were you just experimenting with text generation? I'm curious what you were up to that needed lorem ipsum in the first place.\n",
       "\n",
       "<details>\n",
       "\n",
       "- id: `msg_01JRjrjQMh32VQRNAB5MvSxC`\n",
       "- content: `[{'citations': None, 'text': \"Haha, no problem at all! Those lorem ipsum generators can definitely get a bit enthusiastic sometimes. It's like they're trying to fill every possible space with placeholder text!\\n\\nAre you working on some kind of design or layout project? Or were you just experimenting with text generation? I'm curious what you were up to that needed lorem ipsum in the first place.\", 'type': 'text'}]`\n",
       "- model: `claude-sonnet-4-20250514`\n",
       "- role: `assistant`\n",
       "- stop_reason: `end_turn`\n",
       "- stop_sequence: `None`\n",
       "- type: `message`\n",
       "- usage: `{'cache_creation_input_tokens': 102, 'cache_read_input_tokens': 1084, 'input_tokens': 4, 'output_tokens': 80, 'server_tool_use': None, 'service_tier': 'standard'}`\n",
       "\n",
       "</details>"
      ],
      "text/plain": [
       "Message(id='msg_01JRjrjQMh32VQRNAB5MvSxC', content=[TextBlock(citations=None, text=\"Haha, no problem at all! Those lorem ipsum generators can definitely get a bit enthusiastic sometimes. It's like they're trying to fill every possible space with placeholder text!\\n\\nAre you working on some kind of design or layout project? Or were you just experimenting with text generation? I'm curious what you were up to that needed lorem ipsum in the first place.\", type='text')], model='claude-sonnet-4-20250514', role='assistant', stop_reason='end_turn', stop_sequence=None, type='message', usage=In: 4; Out: 80; Cache create: 102; Cache read: 1084; Total Tokens: 1270; Search: 0)"
      ]
     },
     "execution_count": null,
     "metadata": {},
     "output_type": "execute_result"
    }
   ],
   "source": [
    "chat(\"Oh thank you! Sorry, my lorem ipsum generator got out of control!\")"
   ]
  },
  {
   "cell_type": "code",
   "execution_count": null,
   "id": "18f86124",
   "metadata": {},
   "outputs": [
    {
     "data": {
      "text/plain": [
       "In: 28; Out: 181; Cache create: 1186; Cache read: 1084; Total Tokens: 2479; Search: 0"
      ]
     },
     "execution_count": null,
     "metadata": {},
     "output_type": "execute_result"
    }
   ],
   "source": [
    "chat.use"
   ]
  },
  {
   "cell_type": "markdown",
   "id": "3d162fca",
   "metadata": {},
   "source": [
    "## Extended Thinking"
   ]
  },
  {
   "cell_type": "markdown",
   "id": "11327638",
   "metadata": {},
   "source": [
    "Claude >=3.7 Sonnet & Opus have enhanced reasoning capabilities for complex tasks. See [docs](https://docs.anthropic.com/en/docs/build-with-claude/extended-thinking) for more info.\n",
    "\n",
    "We can enable extended thinking by passing a `thinking` param with the following structure.\n",
    "\n",
    "```js\n",
    "thinking={ \"type\": \"enabled\", \"budget_tokens\": 16000 }\n",
    "```\n",
    "\n",
    "When extended thinking is enabled a thinking block is included in the response as shown below.\n",
    "\n",
    "```js\n",
    "{\n",
    "  \"content\": [\n",
    "    {\n",
    "      \"type\": \"thinking\",\n",
    "      \"thinking\": \"To approach this, let's think about...\",\n",
    "      \"signature\": \"Imtakcjsu38219c0.eyJoYXNoIjoiYWJjM0NTY3fQ....\"\n",
    "    },\n",
    "    {\n",
    "      \"type\": \"text\",\n",
    "      \"text\": \"Yes, there are infinitely many prime numbers such that...\"\n",
    "    }\n",
    "  ]\n",
    "}\n",
    "```\n",
    "\n",
    "*Note: When thinking is [enabled](https://docs.anthropic.com/en/docs/build-with-claude/extended-thinking#important-considerations-when-using-extended-thinking) `prefill` must be empty and the `temp` must be 1.*"
   ]
  },
  {
   "cell_type": "code",
   "execution_count": null,
   "id": "c399a36e",
   "metadata": {},
   "outputs": [],
   "source": [
    "#| export\n",
    "def think_md(txt, thk):\n",
    "    return f\"\"\"\n",
    "{txt}\n",
    "\n",
    "<details>\n",
    "<summary>Thinking</summary>\n",
    "{thk}\n",
    "</details>\n",
    "\"\"\""
   ]
  },
  {
   "cell_type": "code",
   "execution_count": null,
   "id": "bd68ca17",
   "metadata": {},
   "outputs": [],
   "source": [
    "def contents(r, show_thk=True):\n",
    "    \"Helper to get the contents from Claude response `r`.\"\n",
    "    blk = find_block(r)\n",
    "    if show_thk:\n",
    "        tk_blk = find_block(r, blk_type=ThinkingBlock)\n",
    "        if tk_blk: return think_md(blk.text.strip(), tk_blk.thinking.strip())\n",
    "    if not blk and r.content: blk = r.content[0]\n",
    "    if hasattr(blk,'text'): return blk.text.strip()\n",
    "    elif hasattr(blk,'content'): return blk.content.strip()\n",
    "    elif hasattr(blk,'source'): return f'*Media Type - {blk.type}*'\n",
    "    return str(blk)"
   ]
  },
  {
   "cell_type": "markdown",
   "id": "4e66607b",
   "metadata": {},
   "source": [
    "Let's call the model without extended thinking enabled. "
   ]
  },
  {
   "cell_type": "code",
   "execution_count": null,
   "id": "adc3e86f",
   "metadata": {},
   "outputs": [],
   "source": [
    "chat = Chat(model)"
   ]
  },
  {
   "cell_type": "code",
   "execution_count": null,
   "id": "b7911771",
   "metadata": {},
   "outputs": [
    {
     "data": {
      "text/markdown": [
       "Python is a versatile, high-level programming language known for its clean syntax and readability, making it popular for everything from web development and data science to artificial intelligence and automation.\n",
       "\n",
       "<details>\n",
       "\n",
       "- id: `msg_01114DSaRnGmBtCzygqtoUhN`\n",
       "- content: `[{'citations': None, 'text': 'Python is a versatile, high-level programming language known for its clean syntax and readability, making it popular for everything from web development and data science to artificial intelligence and automation.', 'type': 'text'}]`\n",
       "- model: `claude-sonnet-4-20250514`\n",
       "- role: `assistant`\n",
       "- stop_reason: `end_turn`\n",
       "- stop_sequence: `None`\n",
       "- type: `message`\n",
       "- usage: `{'cache_creation_input_tokens': 0, 'cache_read_input_tokens': 0, 'input_tokens': 13, 'output_tokens': 40, 'server_tool_use': None, 'service_tier': 'standard'}`\n",
       "\n",
       "</details>"
      ],
      "text/plain": [
       "Message(id='msg_01114DSaRnGmBtCzygqtoUhN', content=[TextBlock(citations=None, text='Python is a versatile, high-level programming language known for its clean syntax and readability, making it popular for everything from web development and data science to artificial intelligence and automation.', type='text')], model='claude-sonnet-4-20250514', role='assistant', stop_reason='end_turn', stop_sequence=None, type='message', usage=In: 13; Out: 40; Cache create: 0; Cache read: 0; Total Tokens: 53; Search: 0)"
      ]
     },
     "execution_count": null,
     "metadata": {},
     "output_type": "execute_result"
    }
   ],
   "source": [
    "chat(\"Write a sentence about Python!\")"
   ]
  },
  {
   "cell_type": "markdown",
   "id": "e9aab9e0",
   "metadata": {},
   "source": [
    "Now, let's call the model with extended thinking enabled."
   ]
  },
  {
   "cell_type": "code",
   "execution_count": null,
   "id": "be225c95",
   "metadata": {},
   "outputs": [
    {
     "data": {
      "text/markdown": [
       "\n",
       "Python's extensive library ecosystem and cross-platform compatibility have made it one of the most widely-used programming languages for both beginners learning to code and experienced developers building complex applications.\n",
       "\n",
       "<details>\n",
       "<summary>Thinking</summary>\n",
       "The human is asking me to write a sentence about Python again. They might want a different sentence this time, or they might be testing if I give the same response. I should provide a new sentence about Python that highlights different aspects than my previous response.\n",
       "</details>\n",
       "\n",
       "\n",
       "<details>\n",
       "\n",
       "- id: `msg_01PKcPntFESWXzjK7GEjj9Zi`\n",
       "- content: `[{'signature': 'ErcDCkYIBRgCKkBzg7pG5Kx4zDAzkJY4RNS1o81F8sgEmt3gOz0bcUhL0T5K6ZEcQJ/wxoRiwMzn9zEhZyxDzpJ6BDBbedmE64JlEgwQ8SBddgUbHQZKCHQaDAzA+qpkcTCPHcIfiiIw7xOn95vxyqbP3TZb6s7vssIptiHANeVGy9e+4z3XTaG0VKcjHowP+3BAkSWrYsXwKp4CblIPJ3w7Sz2fC3yU5M43f7O7mqZXuooFfTWLF8xiCZ9OKxuIyNjzO+MJbdNNxhcEmjLnV0nd8g7wzyzon516dFTxqIGOb6c2Ll3unOGeWmx3igx8ike5+4dAW2kUJffdT6zd+JC1Of+0oU8+mfNu91HvjLW7080r5d5smBQksoDjZSVCaSiUpz/JbLaZXZWGHCQBrxUZqhOlEK8rXcoTL94LedvTgCwCugZizZNuP2TfIxFf5qGMMAbfcKcSt2MPkjZOyUeDDzqG0U17HkxABPE884MC1ATbm7uEHifZZSPKCFzT3J/VG4AvqF/Pqp7YXrZSPRnOuqTf6nY2tEUNXZgdaFmTEGTCfk+u8ShxWg0vgbKvmwjJp3qkyWuMpRgB', 'thinking': 'The human is asking me to write a sentence about Python again. They might want a different sentence this time, or they might be testing if I give the same response. I should provide a new sentence about Python that highlights different aspects than my previous response.', 'type': 'thinking'}, {'citations': None, 'text': \"Python's extensive library ecosystem and cross-platform compatibility have made it one of the most widely-used programming languages for both beginners learning to code and experienced developers building complex applications.\", 'type': 'text'}]`\n",
       "- model: `claude-sonnet-4-20250514`\n",
       "- role: `assistant`\n",
       "- stop_reason: `end_turn`\n",
       "- stop_sequence: `None`\n",
       "- type: `message`\n",
       "- usage: `{'cache_creation_input_tokens': 0, 'cache_read_input_tokens': 0, 'input_tokens': 90, 'output_tokens': 99, 'server_tool_use': None, 'service_tier': 'standard'}`\n",
       "\n",
       "</details>"
      ],
      "text/plain": [
       "Message(id='msg_01PKcPntFESWXzjK7GEjj9Zi', content=[ThinkingBlock(signature='ErcDCkYIBRgCKkBzg7pG5Kx4zDAzkJY4RNS1o81F8sgEmt3gOz0bcUhL0T5K6ZEcQJ/wxoRiwMzn9zEhZyxDzpJ6BDBbedmE64JlEgwQ8SBddgUbHQZKCHQaDAzA+qpkcTCPHcIfiiIw7xOn95vxyqbP3TZb6s7vssIptiHANeVGy9e+4z3XTaG0VKcjHowP+3BAkSWrYsXwKp4CblIPJ3w7Sz2fC3yU5M43f7O7mqZXuooFfTWLF8xiCZ9OKxuIyNjzO+MJbdNNxhcEmjLnV0nd8g7wzyzon516dFTxqIGOb6c2Ll3unOGeWmx3igx8ike5+4dAW2kUJffdT6zd+JC1Of+0oU8+mfNu91HvjLW7080r5d5smBQksoDjZSVCaSiUpz/JbLaZXZWGHCQBrxUZqhOlEK8rXcoTL94LedvTgCwCugZizZNuP2TfIxFf5qGMMAbfcKcSt2MPkjZOyUeDDzqG0U17HkxABPE884MC1ATbm7uEHifZZSPKCFzT3J/VG4AvqF/Pqp7YXrZSPRnOuqTf6nY2tEUNXZgdaFmTEGTCfk+u8ShxWg0vgbKvmwjJp3qkyWuMpRgB', thinking='The human is asking me to write a sentence about Python again. They might want a different sentence this time, or they might be testing if I give the same response. I should provide a new sentence about Python that highlights different aspects than my previous response.', type='thinking'), TextBlock(citations=None, text=\"Python's extensive library ecosystem and cross-platform compatibility have made it one of the most widely-used programming languages for both beginners learning to code and experienced developers building complex applications.\", type='text')], model='claude-sonnet-4-20250514', role='assistant', stop_reason='end_turn', stop_sequence=None, type='message', usage=In: 90; Out: 99; Cache create: 0; Cache read: 0; Total Tokens: 189; Search: 0)"
      ]
     },
     "execution_count": null,
     "metadata": {},
     "output_type": "execute_result"
    }
   ],
   "source": [
    "chat(\"Write a sentence about Python!\", maxthinktok=1024)"
   ]
  },
  {
   "cell_type": "markdown",
   "id": "67acb3f1",
   "metadata": {},
   "source": [
    "## Server Tools and Web Search"
   ]
  },
  {
   "cell_type": "markdown",
   "id": "ca3e7c2e",
   "metadata": {},
   "source": [
    "The `str_replace` special tool type is a client side tool, i.e., one where we provide the implementation. However, Anthropic also supports server side tools. The current one available is their search tool, which you can find the documentation for [here](https://docs.anthropic.com/en/docs/build-with-claude/tool-use/web-search-tool). When provided as a tool to claude, claude can decide to search the web in order to answer or solve the task at hand."
   ]
  },
  {
   "cell_type": "code",
   "execution_count": null,
   "id": "3a2abe4f",
   "metadata": {},
   "outputs": [],
   "source": [
    "#| export\n",
    "def search_conf(max_uses:int=None, allowed_domains:list=None, blocked_domains:list=None, user_location:dict=None):\n",
    "    'Little helper to create a search tool config'\n",
    "    conf = {'type': 'web_search_20250305', 'name': 'web_search'}\n",
    "    if max_uses: conf['max_uses'] = max_uses\n",
    "    if allowed_domains: conf['allowed_domains'] = allowed_domains\n",
    "    if blocked_domains: conf['blocked_domains'] = blocked_domains\n",
    "    if user_location: conf['user_location'] = user_location\n",
    "    return conf"
   ]
  },
  {
   "cell_type": "markdown",
   "id": "bf10a671",
   "metadata": {},
   "source": [
    "Similar to client side tools, you provide to the `tools` argument in the anthropic api a non-schema dictionary with the tool's name, type, and any additional metadata specific to that tool. Here's a function to make that process easier for the web search tool."
   ]
  },
  {
   "cell_type": "code",
   "execution_count": null,
   "id": "9d3aeee3",
   "metadata": {},
   "outputs": [
    {
     "data": {
      "text/plain": [
       "{'type': 'web_search_20250305', 'name': 'web_search'}"
      ]
     },
     "execution_count": null,
     "metadata": {},
     "output_type": "execute_result"
    }
   ],
   "source": [
    "search_conf()"
   ]
  },
  {
   "cell_type": "markdown",
   "id": "52002311",
   "metadata": {},
   "source": [
    "The web search tool returns a list of `TextBlock`s comprised of response text from the model, `ServerToolUseBlock` and server tool results block such as `WebSearchToolResultBlock`. Some of these `TextBlock`s will contain citations with references to the results of the web search tool. Here is what all this looks like:"
   ]
  },
  {
   "cell_type": "markdown",
   "id": "650e5de3",
   "metadata": {},
   "source": [
    "```js\n",
    "{\n",
    "  \"content\": [\n",
    "    {\n",
    "      \"type\": \"text\",\n",
    "      \"text\": \"I'll check the current weather in...\",\n",
    "    },\n",
    "    {\n",
    "      \"type\": \"server_tool_use\",\n",
    "      \"name\": \"web_search\",\n",
    "      \"input\": {\"query\": \"San Diego weather forecast today May 12 2025\"},\n",
    "      \"id\":\"srvtoolu_014t7fS449voTHRCVzi5jQGC\"\n",
    "    },\n",
    "    {\n",
    "      \"type\": \"web_search_tool_result\",\n",
    "      \"tool_use_id\": \"srvtoolu_014t7fS449voTHRCVzi5jQGC\",\n",
    "      \"content\": [\n",
    "        \"type\": \"web_search_result\",\n",
    "        \"title\": \"Heat Advisory issued May 9...\",\n",
    "        \"url\": \"https://kesq.com/weather/...\",\n",
    "        ...\n",
    "      ]\n",
    "    }\n",
    "    {\n",
    "      \"type\": \"text\",\n",
    "      \"citations\": [\n",
    "        {\n",
    "            \"cited_text\": 'The average temperature during this month...',\n",
    "            \"title\": \"Weather San Diego in May 2025:...\",\n",
    "            \"url\": \"https://en.climate-data.org/...\",\n",
    "            \"encrypted_index\": \"EpMBCioIAxgCIiQ4ODk4YTF...\"\n",
    "        }\n",
    "      ],\n",
    "      \"text\": \"The average temperature in San Diego during May is...\"\n",
    "    },\n",
    "    ...\n",
    "  ]\n",
    "}\n",
    "```"
   ]
  },
  {
   "cell_type": "markdown",
   "id": "8214e569",
   "metadata": {},
   "source": [
    " Let's update our `contents` function to handle these cases. For handling citations, we will use the excellent reference syntax in markdown to make clickable citation links."
   ]
  },
  {
   "cell_type": "code",
   "execution_count": null,
   "id": "786e2e8f",
   "metadata": {},
   "outputs": [],
   "source": [
    "#| export\n",
    "def find_blocks(r, blk_type=TextBlock, type='text'):\n",
    "    \"Helper to find all blocks of type `blk_type` in response `r`.\"\n",
    "    if isinstance(r, dict): f = lambda b: b.get('type') == 'text'\n",
    "    else: f = lambda b: isinstance(b, TextBlock)\n",
    "    return [b for b in getattr(r, \"content\", []) if f(b)]"
   ]
  },
  {
   "cell_type": "code",
   "execution_count": null,
   "id": "babfac4e",
   "metadata": {},
   "outputs": [],
   "source": [
    "#| export\n",
    "def blks2cited_txt(txt_blks):\n",
    "    \"Helper to get the contents from a list of `TextBlock`s, with citations.\"\n",
    "    text_sections, citations = [], []\n",
    "    for blk in txt_blks:\n",
    "        if isinstance(blk, dict): blk = AttrDict(blk)\n",
    "        section = blk.text\n",
    "        if getattr(blk, 'citations', None):\n",
    "            markers = []\n",
    "            for cit in blk.citations:\n",
    "                citations.append(cit)\n",
    "                markers.append(f\"[^{len(citations)}]\")\n",
    "            section = f\"{section} \" + \" \".join(markers)\n",
    "        text_sections.append(section)\n",
    "    body = \"\".join(text_sections)\n",
    "    def _cite(i, cit):\n",
    "        esc = cit.cited_text.replace('\"', r'\\\"')\n",
    "        return f'[^{i+1}]: {cit.url}\\n\\t\"{esc}\"'\n",
    "    if citations:\n",
    "        refs = '\\n\\n'.join(L.enumerate(citations).starmap(_cite))\n",
    "        body = f\"{body}\\n\\n{refs}\" if body else refs\n",
    "    return body"
   ]
  },
  {
   "cell_type": "code",
   "execution_count": null,
   "id": "26ae307a",
   "metadata": {},
   "outputs": [],
   "source": [
    "#| export\n",
    "def contents(r, show_thk=True):\n",
    "    \"Helper to get the contents from Claude response `r`.\"\n",
    "    blks = find_blocks(r, blk_type=TextBlock)\n",
    "    content = None\n",
    "    if blks: content = blks2cited_txt(blks)\n",
    "    if show_thk:\n",
    "        tk_blk = find_block(r, blk_type=ThinkingBlock)\n",
    "        if tk_blk: return think_md(content, tk_blk.thinking.strip())\n",
    "    if not content:\n",
    "        blk = find_block(r)\n",
    "        if not blk and getattr(r, \"content\", None): blk = r.content[0]\n",
    "        if hasattr(blk, \"text\"): content = blk.text.strip()\n",
    "        elif hasattr(blk, \"content\"): content = blk.content.strip()\n",
    "        elif hasattr(blk, \"source\"): content = f\"*Media Type - {blk.type}*\"\n",
    "        else: content = str(blk)\n",
    "    return content"
   ]
  },
  {
   "cell_type": "code",
   "execution_count": null,
   "id": "37f9a207",
   "metadata": {},
   "outputs": [
    {
     "data": {
      "text/markdown": [
       "Based on the search results, here's the current weather information for San Diego:\n",
       "\n",
       "Today's weather in San Diego features cloudy skies early, followed by partial clearing, with a high of 71°F and southwest winds at 5 to 10 mph. [^1] Tonight will be cloudy with a low around 65°F. [^2]\n",
       "\n",
       "The air quality is generally acceptable for most individuals, though sensitive groups may experience minor to moderate symptoms from long-term exposure. [^3]\n",
       "\n",
       "For more detailed and up-to-date forecasts, you can check the National Weather Service or local San Diego weather sources for the most current conditions and extended forecasts.\n",
       "\n",
       "[^1]: https://www.wunderground.com/hourly/us/ca/san-diego\n",
       "\t\"zoom out ... Cloudy skies early, followed by partial clearing. High 71F. Winds SW at 5 to 10 mph. \"\n",
       "\n",
       "[^2]: https://www.wunderground.com/hourly/us/ca/san-diego\n",
       "\t\"... Cloudy. Low around 65F.\"\n",
       "\n",
       "[^3]: https://www.accuweather.com/en/us/san-diego/92101/weather-forecast/347628\n",
       "\t\"The air quality is generally acceptable for most individuals. However, sensitive groups may experience minor to moderate symptoms from long-term expos...\"\n",
       "\n",
       "<details>\n",
       "\n",
       "- id: `msg_01Pbeynbff5PBG8dkbHMMUz8`\n",
       "- content: `[{'id': 'srvtoolu_01FZ6GitT4MtseTnQXyecch6', 'input': {'query': 'San Diego weather today'}, 'name': 'web_search', 'type': 'server_tool_use'}, {'content': [{'encrypted_content': 'EqcCCioIBRgCIiQ4ODk4YTFkYy0yMTNkLTRhNmYtOTljYi03ZTBlNTUzZDc0NWISDH+vJSlFVD+uWNtELRoMC8WqLtmu8ep/QP6YIjDXYWSzADJMvKvC5p1F7t+S7ead/IX8XkPSs7HF5lH1NG56kddNqm3CUa2tmC+9BpcqqgE7ITxhD1Ou8vCy1x+MAM1wwi5xedd6nbsCXybeCmBppwZeD3QO8wYiA8qow1W50A740cZNc9eioM7qVPwO5jTeW90xbj6tcUUqCXV3PUpEEdzb8o1X0azHBBNd1Bma4NCZat6tC9X1XNTSIghtIWtd/wf2iz4T0Yr3eTDMGmV5LgDhpJIYpQEt7wDgMEtHkHLhwEapTruEpFb3mGh3Du7gBGNXWee//g2aABgD', 'page_age': 'June 18, 2025', 'title': '10-Day Weather Forecast for San Diego, CA - The Weather Channel | weather.com', 'type': 'web_search_result', 'url': 'https://weather.com/weather/tenday/l/San+Diego+CA?canonicalCityId=3b2b39ed755b459b725bf2a29c71d678'}, {'encrypted_content': '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', 'page_age': 'June 18, 2025', 'title': 'San Diego, CA Weather Forecast | AccuWeather', 'type': 'web_search_result', 'url': 'https://www.accuweather.com/en/us/san-diego/92101/weather-forecast/347628'}, {'encrypted_content': 'EpcCCioIBRgCIiQ4ODk4YTFkYy0yMTNkLTRhNmYtOTljYi03ZTBlNTUzZDc0NWISDDUcPLkpzEu3pRIJBhoMxa3nhpUy/DX1dftLIjDbUHhKGSAmDV/SWQfasXVEoQzxQPIRlEbt6Y7S+QuqCybTk/P5wbrKQNjt+KugnAcqmgEOvvBtt/PC6BBEBEElwKARZXm4cgHdQ8xgXXbWWCaaHmU1Rb9xqlQqpcqX2LtsDiBBFx+GdYdpRYBqMv9TctMI1MIB1o6e5ft6DpoHnwI3Kwxcr3sFKwfqa+a4nBgZ3jafIYiAEYUce8CDuDKyNykrenNBACqCZWfz20GoAFfMkMTj3keAiIyvDTJ6IRFitJ9vDM9PeZbLrW5VGAM=', 'page_age': '5 days ago', 'title': 'Weather Forecast and Conditions for San Diego, CA - The Weather Channel | Weather.com', 'type': 'web_search_result', 'url': 'https://weather.com/weather/today/l/San+Diego+CA?canonicalCityId=3b2b39ed755b459b725bf2a29c71d678'}, {'encrypted_content': 'Er0ECioIBRgCIiQ4ODk4YTFkYy0yMTNkLTRhNmYtOTljYi03ZTBlNTUzZDc0NWISDLceH9LHlRqne3xSyxoMhJNMEjH+lbV7t4ZbIjD48SUrVwHTXPpPxJmdsPlh9nOlo+/yq+S0x6yGdLQYhW35GcH/qZfCzNbCpqIbrLQqwAMi8AcxQwwO7GkGn6b+HTh/bXRIO8tRNYKA4zWZHEXA4DV5dYG9K4DVc3F2zQPMuJW4Mkpi4gICNyOgigW7llUGDsUc5Pk1SZLCJPyxm/l4R3yB4qxBXq63aXUUnTeGWnFGdQaCESmMHjaqh1IhhuO/lMadBXtSaaL+5NuiriMqqSYMfxcyhax8cUhO5y1jRmJXftLKulue1m8qaztEKHY0G+jRxkGbf/+PshQyVrLMJwO2gCx7SytoYvt+qtoQiP/Ia/9JbyjxrKsxLrLL1CIFa6M8mxJ7Scfxp3cCFESzaT98vavH6kxAvLdWN0a7uTAVmJ4xv4qGCwYBPJh3JFa4+ufMNoqNJ8evxAoOI1Agz9wX6aCr5a14aUH+/8EK1OK9W5JV+tc0WJSr1lr9SZoIR2jFtrgfYA4RzoAkqLJCiNK/5o9ZP3LUgXpVSQ2BB5qf1JMNwIX9OUqX0vrw058Ac9djDra5ZHGKK4EEKH/haeMw/zt8wu6h4hquM/ryVk6y6vMA7hUTOjrUODP7eu6KT0swBMC7zii5TtgDRHN+iyQ1X/tQYxSc3DXCyCEAGXSLsp9F7F33kNJ58zfaqaKuGAM=', 'page_age': '1 week ago', 'title': 'San Diego weather forecast – NBC 7 San Diego', 'type': 'web_search_result', 'url': 'https://www.nbcsandiego.com/weather/'}, {'encrypted_content': 'EsoCCioIBRgCIiQ4ODk4YTFkYy0yMTNkLTRhNmYtOTljYi03ZTBlNTUzZDc0NWISDG5ItqsRt847mp4EgBoMRhY/aLxuSU8QtcdNIjAUstjIEcSpFMJT49KpkFDkwEqgtk4W4wYs1mFQwtazx/H4H1ik6Y9fEtEoPyixAgMqzQEgPJSYTk9ti5hLrbatfIlDgBiYJxnMF3w6yADP7EFicF0Jf2OM0CmrIC4PzByH9LnOfBtUangs7eG931O+zmM+PcQ3zJeVIz6wVneQUF5YGs9Jy7zXhydB2DdosL7cD4PtohXY7KtNPiGmQKBcJ5wEf6LgIOZ91KEPTt77BFdT3UCrgQPXBzcaKqVMrOS2u7ZX6ifN4lRI/oC9ZOMSasOH19qACnGmZy5SE5nf5kdcysCinyMaCBDJQnZqq8DNcxYDh0ErIRZ2sQq9PvqJGAM=', 'page_age': '3 days ago', 'title': 'San Diego, CA', 'type': 'web_search_result', 'url': 'https://www.weather.gov/sgx/'}, {'encrypted_content': 'EoQHCioIBRgCIiQ4ODk4YTFkYy0yMTNkLTRhNmYtOTljYi03ZTBlNTUzZDc0NWISDEmG07vo2p+NY6fLKxoMPxNFlooXe0xGNYLAIjA/dzIglNWibDI3ZSGUqU3uj1lj87+x2HXMu2mD1cLGFXx+hTlWP9G+B0WqVk+vYwcqhwYr0Hj8xJ/y1LfZtB4vfUkVxfeNTK4PS1oApnZpXaz15EThACb4Jf+ZjT7QeWj0hYhvQJdraayVDsQaZLcg2UAdKeA8sPCiIodyLYb05y4IZl8jDYx8l4aQ4d1PUtFIgtm8iCoYGiqucMdMZqZy59Rw30O40IsVaDfh2gJh8B//rmUC9mRWhu7Yu1EJopuxduCW+ZayMFj0iKnPiKLp5Z3wael4IxEo5Ect/SSdTUO1PLhpkaAENxCyNgXoKMidSGZkrSxmAV6xfZL3rHPWlQAbrNnKM6CLnodbiO4l5omT+01IdrAJX2ghcwDz53I6WTarU4Orl/E1Qzen6uOk9ydBSp4Zc8Rn4QA/aCT2tsEwQ+1pyEASlba+rwkNOzd1DKixwpxJBydpXwxUoENqmc82G/V2fWiIarmztY5QizcrZlIn335Y+xd9PcBnbjxNbrM60f3DjT0q8Q0xaR89FlHBndOa7rQxkC+WfXHvXe6G3AneEseIyFP3jLGVx29LY2X8AvXZtTwGFL36ivtHWwxvewg0yH5wkoLO7SJQJ36D6CppdnZIHwUWxJAOU+QE382yubKt1RGMPv0+GJsXsrGUIE9oYZeNr6PemKEnz4S0umujoavJTAff6G41VjMcAUUN3zmreZ2UQZyfS1UgutzF9RDcUX7ZSwjHrsmAuv10Eo3XJKyW8/FAI68v5VIye3HqB5OCVS1vvZrfcEjRzG0vYnH2a3fhURRpVXZIGPclNZ8a04KeT5gyRMCB61GP6Sv/OXTsPJlPt8pIafXU11Zcu4SimPjgWRR5307iOI28dvLPNye80xzv/jt/qMDw4B1oLGe3xK7/tdUYSmh0jmqYYGn6VXdKRe/SolbSeRuF7qoJ3Z2Gy/4KgY0wF0duVO8UWHHs8+HuyVIDRjBf8lzRK4SkdNFWYn6+L5o8k3ChX0Me9MHlwMFHQgfk1BFQAGCTS1C6L3PIBlygOIoBBrZz/eiXbS/PNWsYIU2mRKymnn3sU3MMc+OlWhyXYw9N/g3f6WXnCWEnGAM=', 'page_age': None, 'title': 'San Diego, CA Hourly Weather Forecast | Weather Underground', 'type': 'web_search_result', 'url': 'https://www.wunderground.com/hourly/us/ca/san-diego'}, {'encrypted_content': 'Ev8CCioIBRgCIiQ4ODk4YTFkYy0yMTNkLTRhNmYtOTljYi03ZTBlNTUzZDc0NWISDN86qKKSUKj43EGulxoMw4Ts0wCZu7jwt9h6IjBB8kGPPDuiKodamMzyNcCWWjF7W30lX2DE19WWWYptCw0x4i+7KPIiWGZ6yyhLZbsqggKnqsf9AxKsr/gIHHQg1jVBCXpfQrsPT9dROO8Wxe7Y9EQP3+lO+nojzmuZLnGQ+w7UW+eIjvAShS3ARSJyWdN6ZjJWEzS52P/aw/nwocBwxD85McttN8wYH6ZvlnPlYS+SrgXKW56SZF53hV9ez6e6vJjsGpoLN4gaA/NARsCk73SeMSF59oTskN+oeql1SZ/mRmwtcLrLgi9/CoXywPQe/8AbEib7O30g0Bm4g4vC27Ns0r3DJs/pYNo9vj6T6vOEEN3tL8L05yCPA4IJ6TtOIH3J+qYjmdzh7xLUWnTmoONGQNs8AzaJ0bB1RaP+yEInypx00YJIMi1OAunxBGvyoaoYAw==', 'page_age': 'June 16, 2025', 'title': 'National Weather Service', 'type': 'web_search_result', 'url': 'https://forecast.weather.gov/zipcity.php?inputstring=San+Diego,CA/'}, {'encrypted_content': 'ErYCCioIBRgCIiQ4ODk4YTFkYy0yMTNkLTRhNmYtOTljYi03ZTBlNTUzZDc0NWISDMPaGJKo5gUcLcphghoMB0IFVaxhQyRrDi7mIjCnwfKZ1xqe+11CCN22f1shMDF/6lekueNPgphjtk3Jaie5w4hpYz5MLHh+7k1+K9MquQGupnVpMY53SVAGTPCLBQ/Xd6RZMAn1shTv+LzRJD65Foi+wWfHcG0Xo2PVocquorbKkgRARdqx+EpcxSvwlp5ivIO5srgIepZ2UGvZpFLRleD/klZOUYFKLbSBDw/AGdiz3h0XBcW2hueNUgYr/fQ4WhTGKbQIUZaYg5Lxza00I5yMhI6yUfV2C/uybE2vzlMDZOsw7WR2zyZGxjLxCq2wVfWPdyDhX+weA1V2OlQaulMqq6H5vv6soBgD', 'page_age': None, 'title': '10-day weather forecast for San Diego, CA, United States - The Weather Channel | weather.com', 'type': 'web_search_result', 'url': 'https://weather.com/en-GB/weather/tenday/l/San+Diego+CA+United+States?canonicalCityId=3b2b39ed755b459b725bf2a29c71d678'}, {'encrypted_content': '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', 'page_age': None, 'title': 'San Diego, CA 10-Day Weather Forecast | Weather Underground', 'type': 'web_search_result', 'url': 'https://www.wunderground.com/forecast/us/ca/san-diego'}, {'encrypted_content': 'EpkCCioIBRgCIiQ4ODk4YTFkYy0yMTNkLTRhNmYtOTljYi03ZTBlNTUzZDc0NWISDNaDICw+2Tu4mISGVxoMYyWbYKBGGJWCZIUBIjD4T9bVDtjKNbiwkjKMOWHiJfQ4SISexhXNVRtRcwSXX9B1R94qAa/5fOvyGw0lMA0qnAFofUaHvh8QIvPrW9nJGVHR5jM7L+zESeZ49U/pfKMTf5Hm5nk/idB09WjI9WkgBtQEPibCTERGZEL355HoPyI4WXxwm1JxlUqVal8UP5mNCMjIaKqsQhg+XGPdVJB4YYZyPMKLAa/70Xq0e288WiRdJTqbydIlhd867wsfBthdOFE6rql0vT5xKltE5kBI5u0p1JMyLkksiagCk4EYAw==', 'page_age': None, 'title': 'San Diego, CA Weather Forecast | KGTV | kgtv.com', 'type': 'web_search_result', 'url': 'https://www.10news.com/weather'}], 'tool_use_id': 'srvtoolu_01FZ6GitT4MtseTnQXyecch6', 'type': 'web_search_tool_result'}, {'citations': None, 'text': \"Based on the search results, here's the current weather information for San Diego:\\n\\n\", 'type': 'text'}, {'citations': [{'cited_text': 'zoom out ... Cloudy skies early, followed by partial clearing. High 71F. Winds SW at 5 to 10 mph. ', 'encrypted_index': 'EpIBCioIBRgCIiQ4ODk4YTFkYy0yMTNkLTRhNmYtOTljYi03ZTBlNTUzZDc0NWISDNjBgqnSvPNqSn4drhoMC6+kZClw5BYjVd8NIjA6fDgN1noG02jYw61wabO8fydLsv5zHsZZxrhDh0OdJwqlSvtrIdmYfYw0wtCJwlIqFj7hALu67qUa7K7MrhauADNMAzYyv9sYBA==', 'title': 'San Diego, CA Hourly Weather Forecast | Weather Underground', 'type': 'web_search_result_location', 'url': 'https://www.wunderground.com/hourly/us/ca/san-diego'}], 'text': \"Today's weather in San Diego features cloudy skies early, followed by partial clearing, with a high of 71°F and southwest winds at 5 to 10 mph.\", 'type': 'text'}, {'citations': None, 'text': ' ', 'type': 'text'}, {'citations': [{'cited_text': '... Cloudy. Low around 65F.', 'encrypted_index': 'EpMBCioIBRgCIiQ4ODk4YTFkYy0yMTNkLTRhNmYtOTljYi03ZTBlNTUzZDc0NWISDBhzQq0yxF6o/+Q0choM2dHtRqvNkUaeA4xwIjBy/SKmt+RS/kumqnx89kNao5ZaujjG/o0a5wMEkHK+dR2VpJDWMa4qfc6MpGR6HrgqF/VJyhvfPY5k/gsvGgONcjq4JYVX39MyGAQ=', 'title': 'San Diego, CA Hourly Weather Forecast | Weather Underground', 'type': 'web_search_result_location', 'url': 'https://www.wunderground.com/hourly/us/ca/san-diego'}], 'text': 'Tonight will be cloudy with a low around 65°F.', 'type': 'text'}, {'citations': None, 'text': '\\n\\n', 'type': 'text'}, {'citations': [{'cited_text': 'The air quality is generally acceptable for most individuals. However, sensitive groups may experience minor to moderate symptoms from long-term expos...', 'encrypted_index': 'EpEBCioIBRgCIiQ4ODk4YTFkYy0yMTNkLTRhNmYtOTljYi03ZTBlNTUzZDc0NWISDCClHXCaSIjS0Tq46hoM53gA8ca4Otbqc6PXIjDwu0g3MfveKcLfHPb+ziBL65IdHHjOOUgo+EtosYOJa4EiDqOazuQ7hiKRFD2RRs0qFZbxQCLaVCwiO4NWncjZF6q61c9vORgE', 'title': 'San Diego, CA Weather Forecast | AccuWeather', 'type': 'web_search_result_location', 'url': 'https://www.accuweather.com/en/us/san-diego/92101/weather-forecast/347628'}], 'text': 'The air quality is generally acceptable for most individuals, though sensitive groups may experience minor to moderate symptoms from long-term exposure.', 'type': 'text'}, {'citations': None, 'text': '\\n\\nFor more detailed and up-to-date forecasts, you can check the National Weather Service or local San Diego weather sources for the most current conditions and extended forecasts.', 'type': 'text'}]`\n",
       "- model: `claude-sonnet-4-20250514`\n",
       "- role: `assistant`\n",
       "- stop_reason: `end_turn`\n",
       "- stop_sequence: `None`\n",
       "- type: `message`\n",
       "- usage: `{'cache_creation_input_tokens': 0, 'cache_read_input_tokens': 7220, 'input_tokens': 12, 'output_tokens': 255, 'server_tool_use': {'web_search_requests': 1}, 'service_tier': 'standard'}`\n",
       "\n",
       "</details>"
      ],
      "text/plain": [
       "Message(id='msg_01Pbeynbff5PBG8dkbHMMUz8', content=[ServerToolUseBlock(id='srvtoolu_01FZ6GitT4MtseTnQXyecch6', input={'query': 'San Diego weather today'}, name='web_search', type='server_tool_use'), WebSearchToolResultBlock(content=[WebSearchResultBlock(encrypted_content='EqcCCioIBRgCIiQ4ODk4YTFkYy0yMTNkLTRhNmYtOTljYi03ZTBlNTUzZDc0NWISDH+vJSlFVD+uWNtELRoMC8WqLtmu8ep/QP6YIjDXYWSzADJMvKvC5p1F7t+S7ead/IX8XkPSs7HF5lH1NG56kddNqm3CUa2tmC+9BpcqqgE7ITxhD1Ou8vCy1x+MAM1wwi5xedd6nbsCXybeCmBppwZeD3QO8wYiA8qow1W50A740cZNc9eioM7qVPwO5jTeW90xbj6tcUUqCXV3PUpEEdzb8o1X0azHBBNd1Bma4NCZat6tC9X1XNTSIghtIWtd/wf2iz4T0Yr3eTDMGmV5LgDhpJIYpQEt7wDgMEtHkHLhwEapTruEpFb3mGh3Du7gBGNXWee//g2aABgD', page_age='June 18, 2025', title='10-Day Weather Forecast for San Diego, CA - The Weather Channel | weather.com', type='web_search_result', url='https://weather.com/weather/tenday/l/San+Diego+CA?canonicalCityId=3b2b39ed755b459b725bf2a29c71d678'), WebSearchResultBlock(encrypted_content='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', page_age='June 18, 2025', title='San Diego, CA Weather Forecast | AccuWeather', type='web_search_result', url='https://www.accuweather.com/en/us/san-diego/92101/weather-forecast/347628'), WebSearchResultBlock(encrypted_content='EpcCCioIBRgCIiQ4ODk4YTFkYy0yMTNkLTRhNmYtOTljYi03ZTBlNTUzZDc0NWISDDUcPLkpzEu3pRIJBhoMxa3nhpUy/DX1dftLIjDbUHhKGSAmDV/SWQfasXVEoQzxQPIRlEbt6Y7S+QuqCybTk/P5wbrKQNjt+KugnAcqmgEOvvBtt/PC6BBEBEElwKARZXm4cgHdQ8xgXXbWWCaaHmU1Rb9xqlQqpcqX2LtsDiBBFx+GdYdpRYBqMv9TctMI1MIB1o6e5ft6DpoHnwI3Kwxcr3sFKwfqa+a4nBgZ3jafIYiAEYUce8CDuDKyNykrenNBACqCZWfz20GoAFfMkMTj3keAiIyvDTJ6IRFitJ9vDM9PeZbLrW5VGAM=', page_age='5 days ago', title='Weather Forecast and Conditions for San Diego, CA - The Weather Channel | Weather.com', type='web_search_result', url='https://weather.com/weather/today/l/San+Diego+CA?canonicalCityId=3b2b39ed755b459b725bf2a29c71d678'), WebSearchResultBlock(encrypted_content='Er0ECioIBRgCIiQ4ODk4YTFkYy0yMTNkLTRhNmYtOTljYi03ZTBlNTUzZDc0NWISDLceH9LHlRqne3xSyxoMhJNMEjH+lbV7t4ZbIjD48SUrVwHTXPpPxJmdsPlh9nOlo+/yq+S0x6yGdLQYhW35GcH/qZfCzNbCpqIbrLQqwAMi8AcxQwwO7GkGn6b+HTh/bXRIO8tRNYKA4zWZHEXA4DV5dYG9K4DVc3F2zQPMuJW4Mkpi4gICNyOgigW7llUGDsUc5Pk1SZLCJPyxm/l4R3yB4qxBXq63aXUUnTeGWnFGdQaCESmMHjaqh1IhhuO/lMadBXtSaaL+5NuiriMqqSYMfxcyhax8cUhO5y1jRmJXftLKulue1m8qaztEKHY0G+jRxkGbf/+PshQyVrLMJwO2gCx7SytoYvt+qtoQiP/Ia/9JbyjxrKsxLrLL1CIFa6M8mxJ7Scfxp3cCFESzaT98vavH6kxAvLdWN0a7uTAVmJ4xv4qGCwYBPJh3JFa4+ufMNoqNJ8evxAoOI1Agz9wX6aCr5a14aUH+/8EK1OK9W5JV+tc0WJSr1lr9SZoIR2jFtrgfYA4RzoAkqLJCiNK/5o9ZP3LUgXpVSQ2BB5qf1JMNwIX9OUqX0vrw058Ac9djDra5ZHGKK4EEKH/haeMw/zt8wu6h4hquM/ryVk6y6vMA7hUTOjrUODP7eu6KT0swBMC7zii5TtgDRHN+iyQ1X/tQYxSc3DXCyCEAGXSLsp9F7F33kNJ58zfaqaKuGAM=', page_age='1 week ago', title='San Diego weather forecast – NBC 7 San Diego', type='web_search_result', url='https://www.nbcsandiego.com/weather/'), WebSearchResultBlock(encrypted_content='EsoCCioIBRgCIiQ4ODk4YTFkYy0yMTNkLTRhNmYtOTljYi03ZTBlNTUzZDc0NWISDG5ItqsRt847mp4EgBoMRhY/aLxuSU8QtcdNIjAUstjIEcSpFMJT49KpkFDkwEqgtk4W4wYs1mFQwtazx/H4H1ik6Y9fEtEoPyixAgMqzQEgPJSYTk9ti5hLrbatfIlDgBiYJxnMF3w6yADP7EFicF0Jf2OM0CmrIC4PzByH9LnOfBtUangs7eG931O+zmM+PcQ3zJeVIz6wVneQUF5YGs9Jy7zXhydB2DdosL7cD4PtohXY7KtNPiGmQKBcJ5wEf6LgIOZ91KEPTt77BFdT3UCrgQPXBzcaKqVMrOS2u7ZX6ifN4lRI/oC9ZOMSasOH19qACnGmZy5SE5nf5kdcysCinyMaCBDJQnZqq8DNcxYDh0ErIRZ2sQq9PvqJGAM=', page_age='3 days ago', title='San Diego, CA', type='web_search_result', url='https://www.weather.gov/sgx/'), WebSearchResultBlock(encrypted_content='EoQHCioIBRgCIiQ4ODk4YTFkYy0yMTNkLTRhNmYtOTljYi03ZTBlNTUzZDc0NWISDEmG07vo2p+NY6fLKxoMPxNFlooXe0xGNYLAIjA/dzIglNWibDI3ZSGUqU3uj1lj87+x2HXMu2mD1cLGFXx+hTlWP9G+B0WqVk+vYwcqhwYr0Hj8xJ/y1LfZtB4vfUkVxfeNTK4PS1oApnZpXaz15EThACb4Jf+ZjT7QeWj0hYhvQJdraayVDsQaZLcg2UAdKeA8sPCiIodyLYb05y4IZl8jDYx8l4aQ4d1PUtFIgtm8iCoYGiqucMdMZqZy59Rw30O40IsVaDfh2gJh8B//rmUC9mRWhu7Yu1EJopuxduCW+ZayMFj0iKnPiKLp5Z3wael4IxEo5Ect/SSdTUO1PLhpkaAENxCyNgXoKMidSGZkrSxmAV6xfZL3rHPWlQAbrNnKM6CLnodbiO4l5omT+01IdrAJX2ghcwDz53I6WTarU4Orl/E1Qzen6uOk9ydBSp4Zc8Rn4QA/aCT2tsEwQ+1pyEASlba+rwkNOzd1DKixwpxJBydpXwxUoENqmc82G/V2fWiIarmztY5QizcrZlIn335Y+xd9PcBnbjxNbrM60f3DjT0q8Q0xaR89FlHBndOa7rQxkC+WfXHvXe6G3AneEseIyFP3jLGVx29LY2X8AvXZtTwGFL36ivtHWwxvewg0yH5wkoLO7SJQJ36D6CppdnZIHwUWxJAOU+QE382yubKt1RGMPv0+GJsXsrGUIE9oYZeNr6PemKEnz4S0umujoavJTAff6G41VjMcAUUN3zmreZ2UQZyfS1UgutzF9RDcUX7ZSwjHrsmAuv10Eo3XJKyW8/FAI68v5VIye3HqB5OCVS1vvZrfcEjRzG0vYnH2a3fhURRpVXZIGPclNZ8a04KeT5gyRMCB61GP6Sv/OXTsPJlPt8pIafXU11Zcu4SimPjgWRR5307iOI28dvLPNye80xzv/jt/qMDw4B1oLGe3xK7/tdUYSmh0jmqYYGn6VXdKRe/SolbSeRuF7qoJ3Z2Gy/4KgY0wF0duVO8UWHHs8+HuyVIDRjBf8lzRK4SkdNFWYn6+L5o8k3ChX0Me9MHlwMFHQgfk1BFQAGCTS1C6L3PIBlygOIoBBrZz/eiXbS/PNWsYIU2mRKymnn3sU3MMc+OlWhyXYw9N/g3f6WXnCWEnGAM=', page_age=None, title='San Diego, CA Hourly Weather Forecast | Weather Underground', type='web_search_result', url='https://www.wunderground.com/hourly/us/ca/san-diego'), WebSearchResultBlock(encrypted_content='Ev8CCioIBRgCIiQ4ODk4YTFkYy0yMTNkLTRhNmYtOTljYi03ZTBlNTUzZDc0NWISDN86qKKSUKj43EGulxoMw4Ts0wCZu7jwt9h6IjBB8kGPPDuiKodamMzyNcCWWjF7W30lX2DE19WWWYptCw0x4i+7KPIiWGZ6yyhLZbsqggKnqsf9AxKsr/gIHHQg1jVBCXpfQrsPT9dROO8Wxe7Y9EQP3+lO+nojzmuZLnGQ+w7UW+eIjvAShS3ARSJyWdN6ZjJWEzS52P/aw/nwocBwxD85McttN8wYH6ZvlnPlYS+SrgXKW56SZF53hV9ez6e6vJjsGpoLN4gaA/NARsCk73SeMSF59oTskN+oeql1SZ/mRmwtcLrLgi9/CoXywPQe/8AbEib7O30g0Bm4g4vC27Ns0r3DJs/pYNo9vj6T6vOEEN3tL8L05yCPA4IJ6TtOIH3J+qYjmdzh7xLUWnTmoONGQNs8AzaJ0bB1RaP+yEInypx00YJIMi1OAunxBGvyoaoYAw==', page_age='June 16, 2025', title='National Weather Service', type='web_search_result', url='https://forecast.weather.gov/zipcity.php?inputstring=San+Diego,CA/'), WebSearchResultBlock(encrypted_content='ErYCCioIBRgCIiQ4ODk4YTFkYy0yMTNkLTRhNmYtOTljYi03ZTBlNTUzZDc0NWISDMPaGJKo5gUcLcphghoMB0IFVaxhQyRrDi7mIjCnwfKZ1xqe+11CCN22f1shMDF/6lekueNPgphjtk3Jaie5w4hpYz5MLHh+7k1+K9MquQGupnVpMY53SVAGTPCLBQ/Xd6RZMAn1shTv+LzRJD65Foi+wWfHcG0Xo2PVocquorbKkgRARdqx+EpcxSvwlp5ivIO5srgIepZ2UGvZpFLRleD/klZOUYFKLbSBDw/AGdiz3h0XBcW2hueNUgYr/fQ4WhTGKbQIUZaYg5Lxza00I5yMhI6yUfV2C/uybE2vzlMDZOsw7WR2zyZGxjLxCq2wVfWPdyDhX+weA1V2OlQaulMqq6H5vv6soBgD', page_age=None, title='10-day weather forecast for San Diego, CA, United States - The Weather Channel | weather.com', type='web_search_result', url='https://weather.com/en-GB/weather/tenday/l/San+Diego+CA+United+States?canonicalCityId=3b2b39ed755b459b725bf2a29c71d678'), WebSearchResultBlock(encrypted_content='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', page_age=None, title='San Diego, CA 10-Day Weather Forecast | Weather Underground', type='web_search_result', url='https://www.wunderground.com/forecast/us/ca/san-diego'), WebSearchResultBlock(encrypted_content='EpkCCioIBRgCIiQ4ODk4YTFkYy0yMTNkLTRhNmYtOTljYi03ZTBlNTUzZDc0NWISDNaDICw+2Tu4mISGVxoMYyWbYKBGGJWCZIUBIjD4T9bVDtjKNbiwkjKMOWHiJfQ4SISexhXNVRtRcwSXX9B1R94qAa/5fOvyGw0lMA0qnAFofUaHvh8QIvPrW9nJGVHR5jM7L+zESeZ49U/pfKMTf5Hm5nk/idB09WjI9WkgBtQEPibCTERGZEL355HoPyI4WXxwm1JxlUqVal8UP5mNCMjIaKqsQhg+XGPdVJB4YYZyPMKLAa/70Xq0e288WiRdJTqbydIlhd867wsfBthdOFE6rql0vT5xKltE5kBI5u0p1JMyLkksiagCk4EYAw==', page_age=None, title='San Diego, CA Weather Forecast | KGTV | kgtv.com', type='web_search_result', url='https://www.10news.com/weather')], tool_use_id='srvtoolu_01FZ6GitT4MtseTnQXyecch6', type='web_search_tool_result'), TextBlock(citations=None, text=\"Based on the search results, here's the current weather information for San Diego:\\n\\n\", type='text'), TextBlock(citations=[CitationsWebSearchResultLocation(cited_text='zoom out ... Cloudy skies early, followed by partial clearing. High 71F. Winds SW at 5 to 10 mph. ', encrypted_index='EpIBCioIBRgCIiQ4ODk4YTFkYy0yMTNkLTRhNmYtOTljYi03ZTBlNTUzZDc0NWISDNjBgqnSvPNqSn4drhoMC6+kZClw5BYjVd8NIjA6fDgN1noG02jYw61wabO8fydLsv5zHsZZxrhDh0OdJwqlSvtrIdmYfYw0wtCJwlIqFj7hALu67qUa7K7MrhauADNMAzYyv9sYBA==', title='San Diego, CA Hourly Weather Forecast | Weather Underground', type='web_search_result_location', url='https://www.wunderground.com/hourly/us/ca/san-diego')], text=\"Today's weather in San Diego features cloudy skies early, followed by partial clearing, with a high of 71°F and southwest winds at 5 to 10 mph.\", type='text'), TextBlock(citations=None, text=' ', type='text'), TextBlock(citations=[CitationsWebSearchResultLocation(cited_text='... Cloudy. Low around 65F.', encrypted_index='EpMBCioIBRgCIiQ4ODk4YTFkYy0yMTNkLTRhNmYtOTljYi03ZTBlNTUzZDc0NWISDBhzQq0yxF6o/+Q0choM2dHtRqvNkUaeA4xwIjBy/SKmt+RS/kumqnx89kNao5ZaujjG/o0a5wMEkHK+dR2VpJDWMa4qfc6MpGR6HrgqF/VJyhvfPY5k/gsvGgONcjq4JYVX39MyGAQ=', title='San Diego, CA Hourly Weather Forecast | Weather Underground', type='web_search_result_location', url='https://www.wunderground.com/hourly/us/ca/san-diego')], text='Tonight will be cloudy with a low around 65°F.', type='text'), TextBlock(citations=None, text='\\n\\n', type='text'), TextBlock(citations=[CitationsWebSearchResultLocation(cited_text='The air quality is generally acceptable for most individuals. However, sensitive groups may experience minor to moderate symptoms from long-term expos...', encrypted_index='EpEBCioIBRgCIiQ4ODk4YTFkYy0yMTNkLTRhNmYtOTljYi03ZTBlNTUzZDc0NWISDCClHXCaSIjS0Tq46hoM53gA8ca4Otbqc6PXIjDwu0g3MfveKcLfHPb+ziBL65IdHHjOOUgo+EtosYOJa4EiDqOazuQ7hiKRFD2RRs0qFZbxQCLaVCwiO4NWncjZF6q61c9vORgE', title='San Diego, CA Weather Forecast | AccuWeather', type='web_search_result_location', url='https://www.accuweather.com/en/us/san-diego/92101/weather-forecast/347628')], text='The air quality is generally acceptable for most individuals, though sensitive groups may experience minor to moderate symptoms from long-term exposure.', type='text'), TextBlock(citations=None, text='\\n\\nFor more detailed and up-to-date forecasts, you can check the National Weather Service or local San Diego weather sources for the most current conditions and extended forecasts.', type='text')], model='claude-sonnet-4-20250514', role='assistant', stop_reason='end_turn', stop_sequence=None, type='message', usage=In: 12; Out: 255; Cache create: 0; Cache read: 7220; Total Tokens: 7487; Search: 1)"
      ]
     },
     "execution_count": null,
     "metadata": {},
     "output_type": "execute_result"
    }
   ],
   "source": [
    "chat = Chat(model, sp='Be concise in your responses.', tools=[search_conf()], cache=True)\n",
    "pr = 'What is the weather in San Diego?'\n",
    "r = chat(pr)\n",
    "r"
   ]
  },
  {
   "cell_type": "markdown",
   "id": "b1580f5c",
   "metadata": {},
   "source": [
    "## Third party providers"
   ]
  },
  {
   "cell_type": "markdown",
   "id": "62a251bc",
   "metadata": {},
   "source": [
    "NB: The 3rd party model list is currently out of date--PRs to fix that would be welcome!"
   ]
  },
  {
   "cell_type": "markdown",
   "id": "bd88f878",
   "metadata": {},
   "source": [
    "### Amazon Bedrock"
   ]
  },
  {
   "cell_type": "markdown",
   "id": "a6ecba86",
   "metadata": {},
   "source": [
    "These are Amazon's current Claude models:"
   ]
  },
  {
   "cell_type": "code",
   "execution_count": null,
   "id": "81d16826",
   "metadata": {},
   "outputs": [
    {
     "data": {
      "text/plain": [
       "['anthropic.claude-opus-4-1-20250805-v1:0',\n",
       " 'anthropic.claude-sonnet-4-20250514-v1:0',\n",
       " 'claude-3-5-haiku-20241022',\n",
       " 'claude-3-7-sonnet-20250219',\n",
       " 'anthropic.claude-3-opus-20240229-v1:0',\n",
       " 'anthropic.claude-3-5-sonnet-20241022-v2:0']"
      ]
     },
     "execution_count": null,
     "metadata": {},
     "output_type": "execute_result"
    }
   ],
   "source": [
    "models_aws"
   ]
  },
  {
   "cell_type": "markdown",
   "id": "9b8b2bc4",
   "metadata": {},
   "source": [
    "Provided `boto3` is installed, we otherwise don't need any extra code to support Amazon Bedrock -- we just have to set up the approach client:"
   ]
  },
  {
   "cell_type": "code",
   "execution_count": null,
   "id": "08cb7585",
   "metadata": {},
   "outputs": [],
   "source": [
    "ab = AnthropicBedrock(\n",
    "    aws_access_key=os.environ['AWS_ACCESS_KEY'],\n",
    "    aws_secret_key=os.environ['AWS_SECRET_KEY'],\n",
    ")\n",
    "client = Client(models_aws[0], ab)"
   ]
  },
  {
   "cell_type": "code",
   "execution_count": null,
   "id": "f1f2f214",
   "metadata": {},
   "outputs": [],
   "source": [
    "chat = Chat(cli=client)"
   ]
  },
  {
   "cell_type": "code",
   "execution_count": null,
   "id": "ec54a422",
   "metadata": {},
   "outputs": [],
   "source": [
    "chat(\"I'm Jeremy\")"
   ]
  },
  {
   "cell_type": "markdown",
   "id": "1b331146",
   "metadata": {},
   "source": [
    "### Google Vertex"
   ]
  },
  {
   "cell_type": "code",
   "execution_count": null,
   "id": "fdb46839",
   "metadata": {},
   "outputs": [
    {
     "data": {
      "text/plain": [
       "['claude-opus-4-1@20250805',\n",
       " 'anthropic.claude-3-sonnet-20240229-v1:0',\n",
       " 'anthropic.claude-3-haiku-20240307-v1:0',\n",
       " 'claude-3-opus@20240229',\n",
       " 'claude-3-5-sonnet-v2@20241022',\n",
       " 'claude-3-sonnet@20240229',\n",
       " 'claude-3-haiku@20240307']"
      ]
     },
     "execution_count": null,
     "metadata": {},
     "output_type": "execute_result"
    }
   ],
   "source": [
    "models_goog"
   ]
  },
  {
   "cell_type": "code",
   "execution_count": null,
   "id": "30921ab4",
   "metadata": {},
   "outputs": [],
   "source": [
    "from anthropic import AnthropicVertex\n",
    "import google.auth"
   ]
  },
  {
   "cell_type": "code",
   "execution_count": null,
   "id": "c00ef664",
   "metadata": {},
   "outputs": [],
   "source": [
    "project_id = google.auth.default()[1]\n",
    "region = \"us-east5\"\n",
    "gv = AnthropicVertex(project_id=project_id, region=region)\n",
    "client = Client(models_goog[-1], gv)"
   ]
  },
  {
   "cell_type": "code",
   "execution_count": null,
   "id": "7d0481b5",
   "metadata": {},
   "outputs": [],
   "source": [
    "chat = Chat(cli=client)"
   ]
  },
  {
   "cell_type": "code",
   "execution_count": null,
   "id": "11006ae0",
   "metadata": {},
   "outputs": [],
   "source": [
    "chat(\"I'm Jeremy\")"
   ]
  },
  {
   "cell_type": "markdown",
   "id": "94ec4289",
   "metadata": {},
   "source": [
    "## Export -"
   ]
  },
  {
   "cell_type": "code",
   "execution_count": null,
   "id": "1e9ee5c1",
   "metadata": {},
   "outputs": [],
   "source": [
    "#|hide\n",
    "#|eval: false\n",
    "from nbdev.doclinks import nbdev_export\n",
    "nbdev_export()"
   ]
  },
  {
   "cell_type": "code",
   "execution_count": null,
   "id": "12a64c67",
   "metadata": {},
   "outputs": [],
   "source": []
  }
 ],
 "metadata": {
  "kernelspec": {
   "display_name": "python3",
   "language": "python",
   "name": "python3"
  }
 },
 "nbformat": 4,
 "nbformat_minor": 5
}
