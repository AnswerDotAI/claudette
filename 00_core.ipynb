{
 "cells": [
  {
   "cell_type": "code",
   "execution_count": null,
   "id": "efe78920",
   "metadata": {},
   "outputs": [],
   "source": [
    "#|default_exp core"
   ]
  },
  {
   "cell_type": "markdown",
   "id": "3d773712-12fe-440e-891f-36f59666dfde",
   "metadata": {},
   "source": [
    "# Claudette's source"
   ]
  },
  {
   "cell_type": "markdown",
   "id": "c47b5d38",
   "metadata": {},
   "source": [
    "This is the 'literate' source code for Claudette. You can view the fully rendered version of the notebook [here](https://claudette.answer.ai/core.html), or you can clone the git repo and run the [interactive notebook](https://github.com/AnswerDotAI/claudette/blob/main/00_core.ipynb) in Jupyter. The notebook is converted the [Python module claudette/core.py](https://github.com/AnswerDotAI/claudette/blob/main/claudette/core.py) using [nbdev](https://nbdev.fast.ai/). The goal of this source code is to both create the Python module, and also to teach the reader *how* it is created, without assuming much existing knowledge about Claude's API.\n",
    "\n",
    "Most of the time you'll see that we write some source code *first*, and then a description or discussion of it *afterwards*."
   ]
  },
  {
   "cell_type": "markdown",
   "id": "ff6f6471-8061-4fdd-85a1-25fdc27c5cf3",
   "metadata": {},
   "source": [
    "## Setup"
   ]
  },
  {
   "cell_type": "code",
   "execution_count": null,
   "id": "f1ad998e-4bb1-4bed-abf4-6e8606cb2453",
   "metadata": {},
   "outputs": [],
   "source": [
    "import os\n",
    "# os.environ['ANTHROPIC_LOG'] = 'debug'"
   ]
  },
  {
   "cell_type": "markdown",
   "id": "5b16f396",
   "metadata": {},
   "source": [
    "To print every HTTP request and response in full, uncomment the above line. This functionality is provided by Anthropic's SDK."
   ]
  },
  {
   "cell_type": "code",
   "execution_count": null,
   "id": "033c76fd",
   "metadata": {},
   "outputs": [],
   "source": [
    "#| export\n",
    "import inspect, typing, json\n",
    "from collections import abc\n",
    "try: from IPython import display\n",
    "except: display=None\n",
    "from typing import get_type_hints\n",
    "from functools import wraps\n",
    "\n",
    "from anthropic import Anthropic, AnthropicBedrock, AnthropicVertex\n",
    "from anthropic.types import Usage, TextBlock, Message, ToolUseBlock, ThinkingBlock\n",
    "from anthropic.resources import messages\n",
    "\n",
    "import toolslm\n",
    "from toolslm.funccall import *\n",
    "\n",
    "from fastcore.meta import delegates\n",
    "from fastcore.utils import *\n",
    "from msglm import mk_msg_anthropic as mk_msg, mk_msgs_anthropic as mk_msgs"
   ]
  },
  {
   "cell_type": "code",
   "execution_count": null,
   "id": "13866a72",
   "metadata": {},
   "outputs": [],
   "source": [
    "#| hide\n",
    "from nbdev import show_doc\n",
    "\n",
    "# Used to show available models from the anthropic SDK\n",
    "from anthropic.types import Model\n",
    "from claudette.text_editor import *\n",
    "from typing import get_args\n",
    "from datetime import datetime\n",
    "from pprint import pprint\n",
    "\n",
    "import warnings\n",
    "\n",
    "warnings.filterwarnings(\"ignore\", message=\"Pydantic serializer warnings\")"
   ]
  },
  {
   "cell_type": "code",
   "execution_count": null,
   "id": "c1cefa1e",
   "metadata": {},
   "outputs": [],
   "source": [
    "#| export\n",
    "_all_ = ['mk_msg', 'mk_msgs']"
   ]
  },
  {
   "cell_type": "code",
   "execution_count": null,
   "id": "f5fa6b92",
   "metadata": {},
   "outputs": [],
   "source": [
    "#| export\n",
    "empty = inspect.Parameter.empty"
   ]
  },
  {
   "cell_type": "markdown",
   "id": "9c3c2197",
   "metadata": {},
   "source": [
    ":::{.callout-tip}\n",
    "\n",
    "If you're reading the rendered version of this notebook, you'll see an \"Exported source\" collapsible widget below. If you're reading the source notebook directly, you'll see `#| exports` at the top of the cell. These show that this piece of code will be exported into the python module that this notebook creates. No other code will be included -- any other code in this notebook is just for demonstration, documentation, and testing.\n",
    "\n",
    "You can toggle expanding/collapsing the source code of all exported sections by using the `</> Code` menu in the top right of the rendered notebook page.\n",
    "\n",
    ":::"
   ]
  },
  {
   "cell_type": "code",
   "execution_count": null,
   "id": "0fff8869",
   "metadata": {},
   "outputs": [],
   "source": [
    "#| exports\n",
    "\n",
    "model_types = {\n",
    "    # Anthropic\n",
    "    'claude-3-opus-20240229': 'opus',\n",
    "    'claude-3-7-sonnet-20250219': 'sonnet',\n",
    "    'claude-3-5-sonnet-20241022': 'sonnet-3-5',\n",
    "    'claude-3-haiku-20240307': 'haiku-3',\n",
    "    'claude-3-5-haiku-20241022': 'haiku-3-5',\n",
    "    # AWS\n",
    "    'anthropic.claude-3-opus-20240229-v1:0': 'opus',\n",
    "    'anthropic.claude-3-5-sonnet-20241022-v2:0': 'sonnet',\n",
    "    'anthropic.claude-3-sonnet-20240229-v1:0': 'sonnet',\n",
    "    'anthropic.claude-3-haiku-20240307-v1:0': 'haiku',\n",
    "    # Google\n",
    "    'claude-3-opus@20240229': 'opus',\n",
    "    'claude-3-5-sonnet-v2@20241022': 'sonnet',\n",
    "    'claude-3-sonnet@20240229': 'sonnet',\n",
    "    'claude-3-haiku@20240307': 'haiku',\n",
    "}\n",
    "\n",
    "all_models = list(model_types)"
   ]
  },
  {
   "cell_type": "markdown",
   "id": "e52e764f",
   "metadata": {},
   "source": [
    "Warning: between Anthropic SDK 0.4.2 and 0.4.7 the interface to the `Model` type changed."
   ]
  },
  {
   "cell_type": "code",
   "execution_count": null,
   "id": "f237bd2e",
   "metadata": {},
   "outputs": [
    {
     "data": {
      "text/plain": [
       "typing.Union[typing.Literal['claude-3-7-sonnet-latest', 'claude-3-7-sonnet-20250219', 'claude-3-5-haiku-latest', 'claude-3-5-haiku-20241022', 'claude-3-5-sonnet-latest', 'claude-3-5-sonnet-20241022', 'claude-3-5-sonnet-20240620', 'claude-3-opus-latest', 'claude-3-opus-20240229', 'claude-3-sonnet-20240229', 'claude-3-haiku-20240307', 'claude-2.1', 'claude-2.0'], str]"
      ]
     },
     "execution_count": null,
     "metadata": {},
     "output_type": "execute_result"
    }
   ],
   "source": [
    "#|hide\n",
    "\n",
    "# Full list of models via the anthropic SDK for reference. Not all models are surfaced by Claudette.\n",
    "Model"
   ]
  },
  {
   "cell_type": "code",
   "execution_count": null,
   "id": "4f03dcad",
   "metadata": {},
   "outputs": [],
   "source": [
    "#| export\n",
    "models = all_models[:5]"
   ]
  },
  {
   "cell_type": "code",
   "execution_count": null,
   "id": "c8490b08",
   "metadata": {},
   "outputs": [
    {
     "data": {
      "text/plain": [
       "['claude-3-opus-20240229',\n",
       " 'claude-3-7-sonnet-20250219',\n",
       " 'claude-3-5-sonnet-20241022',\n",
       " 'claude-3-haiku-20240307',\n",
       " 'claude-3-5-haiku-20241022']"
      ]
     },
     "execution_count": null,
     "metadata": {},
     "output_type": "execute_result"
    }
   ],
   "source": [
    "models"
   ]
  },
  {
   "cell_type": "code",
   "execution_count": null,
   "id": "53a6d47a",
   "metadata": {},
   "outputs": [],
   "source": [
    "#| export\n",
    "models_aws = ['claude-3-5-haiku-20241022',\n",
    " 'claude-3-7-sonnet-20250219',\n",
    " 'anthropic.claude-3-opus-20240229-v1:0',\n",
    " 'anthropic.claude-3-5-sonnet-20241022-v2:0']"
   ]
  },
  {
   "cell_type": "code",
   "execution_count": null,
   "id": "f3ed4f95",
   "metadata": {},
   "outputs": [],
   "source": [
    "#| export\n",
    "models_goog = ['anthropic.claude-3-sonnet-20240229-v1:0',\n",
    " 'anthropic.claude-3-haiku-20240307-v1:0',\n",
    " 'claude-3-opus@20240229',\n",
    " 'claude-3-5-sonnet-v2@20241022',\n",
    " 'claude-3-sonnet@20240229',\n",
    " 'claude-3-haiku@20240307']"
   ]
  },
  {
   "cell_type": "code",
   "execution_count": null,
   "id": "669696aa",
   "metadata": {},
   "outputs": [],
   "source": [
    "#| exports\n",
    "text_only_models = ('claude-3-5-haiku-20241022',)"
   ]
  },
  {
   "cell_type": "code",
   "execution_count": null,
   "id": "2411f28d",
   "metadata": {},
   "outputs": [],
   "source": [
    "#| exports\n",
    "has_streaming_models = set(all_models)\n",
    "has_system_prompt_models = set(all_models)\n",
    "has_temperature_models = set(all_models)\n",
    "has_extended_thinking_models = {'claude-3-7-sonnet-20250219'}"
   ]
  },
  {
   "cell_type": "code",
   "execution_count": null,
   "id": "980bfdfb",
   "metadata": {},
   "outputs": [
    {
     "data": {
      "text/plain": [
       "{'anthropic.claude-3-5-sonnet-20241022-v2:0',\n",
       " 'anthropic.claude-3-haiku-20240307-v1:0',\n",
       " 'anthropic.claude-3-opus-20240229-v1:0',\n",
       " 'anthropic.claude-3-sonnet-20240229-v1:0',\n",
       " 'claude-3-5-haiku-20241022',\n",
       " 'claude-3-5-sonnet-20241022',\n",
       " 'claude-3-5-sonnet-v2@20241022',\n",
       " 'claude-3-7-sonnet-20250219',\n",
       " 'claude-3-haiku-20240307',\n",
       " 'claude-3-haiku@20240307',\n",
       " 'claude-3-opus-20240229',\n",
       " 'claude-3-opus@20240229',\n",
       " 'claude-3-sonnet@20240229'}"
      ]
     },
     "execution_count": null,
     "metadata": {},
     "output_type": "execute_result"
    }
   ],
   "source": [
    "has_streaming_models"
   ]
  },
  {
   "cell_type": "code",
   "execution_count": null,
   "id": "12a68d54",
   "metadata": {},
   "outputs": [],
   "source": [
    "#| exports\n",
    "\n",
    "def can_stream(m): return m in has_streaming_models\n",
    "def can_set_system_prompt(m): return m in has_system_prompt_models\n",
    "def can_set_temperature(m): return m in has_temperature_models\n",
    "def can_use_extended_thinking(m): return m in has_extended_thinking_models"
   ]
  },
  {
   "cell_type": "markdown",
   "id": "0dd0ba8f",
   "metadata": {},
   "source": [
    "We include these functions to provide a uniform library interface with cosette since openai models such as o1 do not have many of these capabilities."
   ]
  },
  {
   "cell_type": "code",
   "execution_count": null,
   "id": "55036062",
   "metadata": {},
   "outputs": [],
   "source": [
    "assert can_stream('claude-3-5-sonnet-20241022') and can_set_system_prompt('claude-3-5-sonnet-20241022') and can_set_temperature('claude-3-5-sonnet-20241022')"
   ]
  },
  {
   "cell_type": "markdown",
   "id": "ba6c7f48",
   "metadata": {},
   "source": [
    "These are the current versions and [prices](https://www.anthropic.com/pricing#anthropic-api) of Anthropic's models at the time of writing."
   ]
  },
  {
   "cell_type": "code",
   "execution_count": null,
   "id": "dacf2bd2",
   "metadata": {},
   "outputs": [
    {
     "data": {
      "text/plain": [
       "'claude-3-7-sonnet-20250219'"
      ]
     },
     "execution_count": null,
     "metadata": {},
     "output_type": "execute_result"
    }
   ],
   "source": [
    "model = models[1]; model"
   ]
  },
  {
   "cell_type": "markdown",
   "id": "71985a9c",
   "metadata": {},
   "source": [
    "For examples, we'll use Sonnet 3.5, since it's awesome."
   ]
  },
  {
   "cell_type": "markdown",
   "id": "863d4d81",
   "metadata": {},
   "source": [
    "## Antropic SDK"
   ]
  },
  {
   "cell_type": "code",
   "execution_count": null,
   "id": "70b53a51",
   "metadata": {},
   "outputs": [],
   "source": [
    "cli = Anthropic()"
   ]
  },
  {
   "cell_type": "markdown",
   "id": "23055b40",
   "metadata": {},
   "source": [
    "This is what Anthropic's SDK provides for interacting with Python. To use it, pass it a list of *messages*, with *content* and a *role*. The roles should alternate between *user* and *assistant*."
   ]
  },
  {
   "cell_type": "markdown",
   "id": "b2db9466",
   "metadata": {},
   "source": [
    ":::{.callout-tip}\n",
    "\n",
    "After the code below you'll see an indented section with an orange vertical line on the left. This is used to show the *result* of running the code above. Because the code is running in a Jupyter Notebook, we don't have to use `print` to display results, we can just type the expression directly, as we do with `r` here.\n",
    "\n",
    ":::"
   ]
  },
  {
   "cell_type": "code",
   "execution_count": null,
   "id": "6ec40731",
   "metadata": {},
   "outputs": [
    {
     "data": {
      "text/markdown": [
       "Hello, Jeremy! It's nice to meet you. How are you doing today? Is there something I can help you with or would you like to chat about something in particular?\n",
       "\n",
       "<details>\n",
       "\n",
       "- id: `msg_01WP3cjJK1xaTA86848vcoku`\n",
       "- content: `[{'citations': None, 'text': \"Hello, Jeremy! It's nice to meet you. How are you doing today? Is there something I can help you with or would you like to chat about something in particular?\", 'type': 'text'}]`\n",
       "- model: `claude-3-7-sonnet-20250219`\n",
       "- role: `assistant`\n",
       "- stop_reason: `end_turn`\n",
       "- stop_sequence: `None`\n",
       "- type: `message`\n",
       "- usage: `{'cache_creation_input_tokens': 0, 'cache_read_input_tokens': 0, 'input_tokens': 10, 'output_tokens': 39}`\n",
       "\n",
       "</details>"
      ],
      "text/plain": [
       "Message(id='msg_01WP3cjJK1xaTA86848vcoku', content=[TextBlock(citations=None, text=\"Hello, Jeremy! It's nice to meet you. How are you doing today? Is there something I can help you with or would you like to chat about something in particular?\", type='text')], model='claude-3-7-sonnet-20250219', role='assistant', stop_reason='end_turn', stop_sequence=None, type='message', usage=In: 10; Out: 39; Cache create: 0; Cache read: 0; Total: 49)"
      ]
     },
     "execution_count": null,
     "metadata": {},
     "output_type": "execute_result"
    }
   ],
   "source": [
    "m = {'role': 'user', 'content': \"I'm Jeremy\"}\n",
    "r = cli.messages.create(messages=[m], model=model, max_tokens=100)\n",
    "r"
   ]
  },
  {
   "cell_type": "markdown",
   "id": "d6359e1a",
   "metadata": {},
   "source": [
    "### Formatting output"
   ]
  },
  {
   "cell_type": "markdown",
   "id": "865c40a9",
   "metadata": {},
   "source": [
    "That output is pretty long and hard to read, so let's clean it up. We'll start by pulling out the `Content` part of the message.\n",
    "To do that, we're going to write our first function which will be included to the `claudette/core.py` module."
   ]
  },
  {
   "cell_type": "markdown",
   "id": "e42e5d44",
   "metadata": {},
   "source": [
    ":::{.callout-tip}\n",
    "\n",
    "This is the first exported public function or class we're creating (the previous export was of a variable). In the rendered version of the notebook for these you'll see 4 things, in this order (unless the symbol starts with a single `_`, which indicates it's *private*):\n",
    "\n",
    "- The signature (with the symbol name as a heading, with a horizontal rule above)\n",
    "- A table of paramater docs (if provided)\n",
    "- The doc string (in italics).\n",
    "- The source code (in a collapsible \"Exported source\" block)\n",
    "\n",
    "After that, we generally provide a bit more detail on what we've created, and why, along with a sample usage.\n",
    "\n",
    ":::"
   ]
  },
  {
   "cell_type": "code",
   "execution_count": null,
   "id": "eba620ce",
   "metadata": {},
   "outputs": [],
   "source": [
    "#| exports\n",
    "def find_block(r:abc.Mapping, # The message to look in\n",
    "               blk_type:type=TextBlock  # The type of block to find\n",
    "              ):\n",
    "    \"Find the first block of type `blk_type` in `r.content`.\"\n",
    "    return first(o for o in r.content if isinstance(o,blk_type))"
   ]
  },
  {
   "cell_type": "markdown",
   "id": "1fa93ca1",
   "metadata": {},
   "source": [
    "This makes it easier to grab the needed parts of Claude's responses, which can include multiple pieces of content. By default, we look for the first text block. That will generally have the content we want to display."
   ]
  },
  {
   "cell_type": "code",
   "execution_count": null,
   "id": "10af0e65",
   "metadata": {},
   "outputs": [
    {
     "data": {
      "text/plain": [
       "TextBlock(citations=None, text=\"Hello, Jeremy! It's nice to meet you. How are you doing today? Is there something I can help you with or would you like to chat about something in particular?\", type='text')"
      ]
     },
     "execution_count": null,
     "metadata": {},
     "output_type": "execute_result"
    }
   ],
   "source": [
    "find_block(r)"
   ]
  },
  {
   "cell_type": "code",
   "execution_count": null,
   "id": "ae99799d",
   "metadata": {},
   "outputs": [],
   "source": [
    "def contents(r):\n",
    "    \"Helper to get the contents from Claude response `r`.\"\n",
    "    blk = find_block(r)\n",
    "    if not blk and r.content: blk = r.content[0]\n",
    "    return blk.text.strip() if hasattr(blk,'text') else str(blk)"
   ]
  },
  {
   "cell_type": "markdown",
   "id": "ffb59427",
   "metadata": {},
   "source": [
    "For display purposes, we often just want to show the text itself."
   ]
  },
  {
   "cell_type": "code",
   "execution_count": null,
   "id": "6d5f2107",
   "metadata": {},
   "outputs": [
    {
     "data": {
      "text/plain": [
       "\"Hello, Jeremy! It's nice to meet you. How are you doing today? Is there something I can help you with or would you like to chat about something in particular?\""
      ]
     },
     "execution_count": null,
     "metadata": {},
     "output_type": "execute_result"
    }
   ],
   "source": [
    "contents(r)"
   ]
  },
  {
   "cell_type": "code",
   "execution_count": null,
   "id": "17924d0c",
   "metadata": {},
   "outputs": [],
   "source": [
    "#| exports\n",
    "@patch\n",
    "def _repr_markdown_(self:(Message)):\n",
    "    det = '\\n- '.join(f'{k}: `{v}`' for k,v in self.model_dump().items())\n",
    "    cts = re.sub(r'\\$', '&#36;', contents(self))  # escape `$` for jupyter latex\n",
    "    return f\"\"\"{cts}\n",
    "\n",
    "<details>\n",
    "\n",
    "- {det}\n",
    "\n",
    "</details>\"\"\""
   ]
  },
  {
   "cell_type": "markdown",
   "id": "3764d112",
   "metadata": {},
   "source": [
    "Jupyter looks for a `_repr_markdown_` method in displayed objects; we add this in order to display just the content text, and collapse full details into a hideable section. Note that `patch` is from [fastcore](https://fastcore.fast.ai/), and is used to add (or replace) functionality in an existing class. We pass the class(es) that we want to patch as type annotations to `self`. In this case, `_repr_markdown_` is being added to Anthropic's `Message` class, so when we display the message now we just see the contents, and the details are hidden away in a collapsible details block."
   ]
  },
  {
   "cell_type": "code",
   "execution_count": null,
   "id": "cfd85eeb",
   "metadata": {},
   "outputs": [
    {
     "data": {
      "text/markdown": [
       "Hello, Jeremy! It's nice to meet you. How are you doing today? Is there something I can help you with or would you like to chat about something in particular?\n",
       "\n",
       "<details>\n",
       "\n",
       "- id: `msg_01WP3cjJK1xaTA86848vcoku`\n",
       "- content: `[{'citations': None, 'text': \"Hello, Jeremy! It's nice to meet you. How are you doing today? Is there something I can help you with or would you like to chat about something in particular?\", 'type': 'text'}]`\n",
       "- model: `claude-3-7-sonnet-20250219`\n",
       "- role: `assistant`\n",
       "- stop_reason: `end_turn`\n",
       "- stop_sequence: `None`\n",
       "- type: `message`\n",
       "- usage: `{'cache_creation_input_tokens': 0, 'cache_read_input_tokens': 0, 'input_tokens': 10, 'output_tokens': 39}`\n",
       "\n",
       "</details>"
      ],
      "text/plain": [
       "Message(id='msg_01WP3cjJK1xaTA86848vcoku', content=[TextBlock(citations=None, text=\"Hello, Jeremy! It's nice to meet you. How are you doing today? Is there something I can help you with or would you like to chat about something in particular?\", type='text')], model='claude-3-7-sonnet-20250219', role='assistant', stop_reason='end_turn', stop_sequence=None, type='message', usage=In: 10; Out: 39; Cache create: 0; Cache read: 0; Total: 49)"
      ]
     },
     "execution_count": null,
     "metadata": {},
     "output_type": "execute_result"
    }
   ],
   "source": [
    "r"
   ]
  },
  {
   "cell_type": "markdown",
   "id": "8615447e",
   "metadata": {},
   "source": [
    "One key part of the response is the `usage` key, which tells us how many tokens we used by returning a `Usage` object.\n",
    "\n",
    "We'll add some helpers to make things a bit cleaner for creating and formatting these objects."
   ]
  },
  {
   "cell_type": "code",
   "execution_count": null,
   "id": "10c7466f",
   "metadata": {},
   "outputs": [
    {
     "data": {
      "text/plain": [
       "In: 10; Out: 39; Cache create: 0; Cache read: 0; Total: 49"
      ]
     },
     "execution_count": null,
     "metadata": {},
     "output_type": "execute_result"
    }
   ],
   "source": [
    "r.usage"
   ]
  },
  {
   "cell_type": "code",
   "execution_count": null,
   "id": "b1a24f68",
   "metadata": {},
   "outputs": [],
   "source": [
    "#| exports\n",
    "def usage(inp=0, # input tokens\n",
    "          out=0,  # Output tokens\n",
    "          cache_create=0, # Cache creation tokens\n",
    "          cache_read=0 # Cache read tokens\n",
    "         ):\n",
    "    \"Slightly more concise version of `Usage`.\"\n",
    "    return Usage(input_tokens=inp, output_tokens=out, cache_creation_input_tokens=cache_create, cache_read_input_tokens=cache_read)"
   ]
  },
  {
   "cell_type": "markdown",
   "id": "2184ec7f",
   "metadata": {},
   "source": [
    "The constructor provided by Anthropic is rather verbose, so we clean it up a bit, using a lowercase version of the name."
   ]
  },
  {
   "cell_type": "code",
   "execution_count": null,
   "id": "a7e52afd",
   "metadata": {},
   "outputs": [
    {
     "data": {
      "text/plain": [
       "In: 5; Out: 0; Cache create: 0; Cache read: 0; Total: 5"
      ]
     },
     "execution_count": null,
     "metadata": {},
     "output_type": "execute_result"
    }
   ],
   "source": [
    "usage(5)"
   ]
  },
  {
   "cell_type": "code",
   "execution_count": null,
   "id": "2db64da5",
   "metadata": {},
   "outputs": [],
   "source": [
    "#| exports\n",
    "def _dgetattr(o,s,d): \n",
    "    \"Like getattr, but returns the default if the result is None\"\n",
    "    return getattr(o,s,d) or d\n",
    "\n",
    "@patch(as_prop=True)\n",
    "def total(self:Usage): return self.input_tokens+self.output_tokens+_dgetattr(self, \"cache_creation_input_tokens\",0)+_dgetattr(self, \"cache_read_input_tokens\",0)"
   ]
  },
  {
   "cell_type": "markdown",
   "id": "5363afa4",
   "metadata": {},
   "source": [
    "Adding a `total` property to `Usage` makes it easier to see how many tokens we've used up altogether."
   ]
  },
  {
   "cell_type": "code",
   "execution_count": null,
   "id": "74553203",
   "metadata": {},
   "outputs": [
    {
     "data": {
      "text/plain": [
       "6"
      ]
     },
     "execution_count": null,
     "metadata": {},
     "output_type": "execute_result"
    }
   ],
   "source": [
    "usage(5,1).total"
   ]
  },
  {
   "cell_type": "code",
   "execution_count": null,
   "id": "27468180",
   "metadata": {},
   "outputs": [],
   "source": [
    "#| exports\n",
    "@patch\n",
    "def __repr__(self:Usage): return f'In: {self.input_tokens}; Out: {self.output_tokens}; Cache create: {_dgetattr(self, \"cache_creation_input_tokens\",0)}; Cache read: {_dgetattr(self, \"cache_read_input_tokens\",0)}; Total: {self.total}'"
   ]
  },
  {
   "cell_type": "markdown",
   "id": "dbbf7024",
   "metadata": {},
   "source": [
    "In python, patching `__repr__` lets us change how an object is displayed. (More generally, methods starting and ending in `__` in Python are called `dunder` methods, and have some `magic` behavior -- such as, in this case, changing how an object is displayed.)"
   ]
  },
  {
   "cell_type": "code",
   "execution_count": null,
   "id": "b8af5068",
   "metadata": {},
   "outputs": [
    {
     "data": {
      "text/plain": [
       "In: 5; Out: 0; Cache create: 0; Cache read: 0; Total: 5"
      ]
     },
     "execution_count": null,
     "metadata": {},
     "output_type": "execute_result"
    }
   ],
   "source": [
    "usage(5)"
   ]
  },
  {
   "cell_type": "code",
   "execution_count": null,
   "id": "bec303ba",
   "metadata": {},
   "outputs": [],
   "source": [
    "#| exports\n",
    "@patch\n",
    "def __add__(self:Usage, b):\n",
    "    \"Add together each of `input_tokens` and `output_tokens`\"\n",
    "    return usage(self.input_tokens+b.input_tokens, self.output_tokens+b.output_tokens,\n",
    "                 _dgetattr(self,'cache_creation_input_tokens',0)+_dgetattr(b,'cache_creation_input_tokens',0),\n",
    "                 _dgetattr(self,'cache_read_input_tokens',0)+_dgetattr(b,'cache_read_input_tokens',0))"
   ]
  },
  {
   "cell_type": "markdown",
   "id": "81d64102",
   "metadata": {},
   "source": [
    "And, patching `__add__` lets `+` work on a `Usage` object."
   ]
  },
  {
   "cell_type": "code",
   "execution_count": null,
   "id": "bffb0b2e",
   "metadata": {},
   "outputs": [
    {
     "data": {
      "text/plain": [
       "In: 20; Out: 78; Cache create: 0; Cache read: 0; Total: 98"
      ]
     },
     "execution_count": null,
     "metadata": {},
     "output_type": "execute_result"
    }
   ],
   "source": [
    "r.usage+r.usage"
   ]
  },
  {
   "cell_type": "markdown",
   "id": "edd0a43f",
   "metadata": {},
   "source": [
    "### Creating messages"
   ]
  },
  {
   "cell_type": "markdown",
   "id": "b4912f1e",
   "metadata": {},
   "source": [
    "Creating correctly formatted `dict`s from scratch every time isn't very handy, so we'll import a couple of helper functions from the `msglm` library.\n",
    "\n",
    "Let's use `mk_msg` to recreate our msg `{'role': 'user', 'content': \"I'm Jeremy\"}` from earlier."
   ]
  },
  {
   "cell_type": "code",
   "execution_count": null,
   "id": "0ffa2c14",
   "metadata": {},
   "outputs": [
    {
     "data": {
      "text/markdown": [
       "Hello, Jeremy! It's nice to meet you. How are you doing today? Is there something I can help you with?\n",
       "\n",
       "<details>\n",
       "\n",
       "- id: `msg_01GMPAmwdYUZn4MSvNNQmZje`\n",
       "- content: `[{'citations': None, 'text': \"Hello, Jeremy! It's nice to meet you. How are you doing today? Is there something I can help you with?\", 'type': 'text'}]`\n",
       "- model: `claude-3-7-sonnet-20250219`\n",
       "- role: `assistant`\n",
       "- stop_reason: `end_turn`\n",
       "- stop_sequence: `None`\n",
       "- type: `message`\n",
       "- usage: `{'cache_creation_input_tokens': 0, 'cache_read_input_tokens': 0, 'input_tokens': 10, 'output_tokens': 29}`\n",
       "\n",
       "</details>"
      ],
      "text/plain": [
       "Message(id='msg_01GMPAmwdYUZn4MSvNNQmZje', content=[TextBlock(citations=None, text=\"Hello, Jeremy! It's nice to meet you. How are you doing today? Is there something I can help you with?\", type='text')], model='claude-3-7-sonnet-20250219', role='assistant', stop_reason='end_turn', stop_sequence=None, type='message', usage=In: 10; Out: 29; Cache create: 0; Cache read: 0; Total: 39)"
      ]
     },
     "execution_count": null,
     "metadata": {},
     "output_type": "execute_result"
    }
   ],
   "source": [
    "prompt = \"I'm Jeremy\"\n",
    "m = mk_msg(prompt)\n",
    "r = cli.messages.create(messages=[m], model=model, max_tokens=100)\n",
    "r"
   ]
  },
  {
   "cell_type": "markdown",
   "id": "2fba8532",
   "metadata": {},
   "source": [
    "We can pass more than just text messages to Claude. As we'll see later we can also pass images, SDK objects, etc. To handle these different data types we need to pass the type along with our content to Claude. \n",
    "\n",
    "Here's an example of a multimodal message containing text and images. \n",
    "\n",
    "```json\n",
    "{\n",
    "    'role': 'user', \n",
    "    'content': [\n",
    "        {'type':'text', 'text':'What is in the image?'},\n",
    "        {\n",
    "            'type':'image', \n",
    "            'source': {\n",
    "                'type':'base64', 'media_type':'media_type', 'data': 'data'\n",
    "            }\n",
    "        }\n",
    "    ]\n",
    "}\n",
    "```\n",
    "\n",
    "`mk_msg` infers the type automatically and creates the appropriate data structure. "
   ]
  },
  {
   "cell_type": "markdown",
   "id": "fb04f6b4",
   "metadata": {},
   "source": [
    "LLMs, don't actually have state, but instead dialogs are created by passing back all previous prompts and responses every time. With Claude, they always alternate *user* and *assistant*. We'll use `mk_msgs` from `msglm` to make it easier to build up these dialog lists."
   ]
  },
  {
   "cell_type": "code",
   "execution_count": null,
   "id": "b4c8fcad",
   "metadata": {},
   "outputs": [
    {
     "data": {
      "text/plain": [
       "[{'role': 'user', 'content': \"I'm Jeremy\"},\n",
       " {'role': 'assistant',\n",
       "  'content': [TextBlock(citations=None, text=\"Hello, Jeremy! It's nice to meet you. How are you doing today? Is there something I can help you with?\", type='text')]},\n",
       " {'role': 'user', 'content': 'I forgot my name. Can you remind me please?'}]"
      ]
     },
     "execution_count": null,
     "metadata": {},
     "output_type": "execute_result"
    }
   ],
   "source": [
    "msgs = mk_msgs([prompt, r, \"I forgot my name. Can you remind me please?\"]) \n",
    "msgs"
   ]
  },
  {
   "cell_type": "code",
   "execution_count": null,
   "id": "6c464f8b",
   "metadata": {},
   "outputs": [
    {
     "data": {
      "text/markdown": [
       "You just introduced yourself as Jeremy. That's your name based on what you told me.\n",
       "\n",
       "<details>\n",
       "\n",
       "- id: `msg_01Ve9pDjjzV3hYZYHtxY2a8s`\n",
       "- content: `[{'citations': None, 'text': \"You just introduced yourself as Jeremy. That's your name based on what you told me.\", 'type': 'text'}]`\n",
       "- model: `claude-3-7-sonnet-20250219`\n",
       "- role: `assistant`\n",
       "- stop_reason: `end_turn`\n",
       "- stop_sequence: `None`\n",
       "- type: `message`\n",
       "- usage: `{'cache_creation_input_tokens': 0, 'cache_read_input_tokens': 0, 'input_tokens': 53, 'output_tokens': 21}`\n",
       "\n",
       "</details>"
      ],
      "text/plain": [
       "Message(id='msg_01Ve9pDjjzV3hYZYHtxY2a8s', content=[TextBlock(citations=None, text=\"You just introduced yourself as Jeremy. That's your name based on what you told me.\", type='text')], model='claude-3-7-sonnet-20250219', role='assistant', stop_reason='end_turn', stop_sequence=None, type='message', usage=In: 53; Out: 21; Cache create: 0; Cache read: 0; Total: 74)"
      ]
     },
     "execution_count": null,
     "metadata": {},
     "output_type": "execute_result"
    }
   ],
   "source": [
    "cli.messages.create(messages=msgs, model=model, max_tokens=200)"
   ]
  },
  {
   "cell_type": "markdown",
   "id": "281f8a4d",
   "metadata": {},
   "source": [
    "## Client"
   ]
  },
  {
   "cell_type": "code",
   "execution_count": null,
   "id": "3b873aaf",
   "metadata": {},
   "outputs": [],
   "source": [
    "#| exports\n",
    "class Client:\n",
    "    def __init__(self, model, cli=None, log=False, cache=False):\n",
    "        \"Basic Anthropic messages client.\"\n",
    "        self.model,self.use = model,usage()\n",
    "        self.text_only = model in text_only_models\n",
    "        self.log = [] if log else None\n",
    "        self.c = (cli or Anthropic(default_headers={'anthropic-beta': 'prompt-caching-2024-07-31'}))\n",
    "        self.cache = cache"
   ]
  },
  {
   "cell_type": "markdown",
   "id": "146e39f0",
   "metadata": {},
   "source": [
    "We'll create a simple `Client` for `Anthropic` which tracks usage stores the model to use. We don't add any methods right away -- instead we'll use `patch` for that so we can add and document them incrementally."
   ]
  },
  {
   "cell_type": "code",
   "execution_count": null,
   "id": "d01e9ccf",
   "metadata": {},
   "outputs": [
    {
     "data": {
      "text/plain": [
       "In: 0; Out: 0; Cache create: 0; Cache read: 0; Total: 0"
      ]
     },
     "execution_count": null,
     "metadata": {},
     "output_type": "execute_result"
    }
   ],
   "source": [
    "c = Client(model)\n",
    "c.use"
   ]
  },
  {
   "cell_type": "code",
   "execution_count": null,
   "id": "8015d3f3",
   "metadata": {},
   "outputs": [],
   "source": [
    "#| exports\n",
    "@patch\n",
    "def _r(self:Client, r:Message, prefill=''):\n",
    "    \"Store the result of the message and accrue total usage.\"\n",
    "    if prefill:\n",
    "        blk = find_block(r)\n",
    "        blk.text = prefill + (blk.text or '')\n",
    "    self.result = r\n",
    "    self.use += r.usage\n",
    "    self.stop_reason = r.stop_reason\n",
    "    self.stop_sequence = r.stop_sequence\n",
    "    return r"
   ]
  },
  {
   "cell_type": "markdown",
   "id": "68d2eb9b",
   "metadata": {},
   "source": [
    "We use a `_` prefix on private methods, but we document them here in the interests of literate source code.\n",
    "\n",
    "`_r` will be used each time we get a new result, to track usage and also to keep the result available for later."
   ]
  },
  {
   "cell_type": "code",
   "execution_count": null,
   "id": "0181f7b3",
   "metadata": {},
   "outputs": [
    {
     "data": {
      "text/plain": [
       "In: 10; Out: 29; Cache create: 0; Cache read: 0; Total: 39"
      ]
     },
     "execution_count": null,
     "metadata": {},
     "output_type": "execute_result"
    }
   ],
   "source": [
    "c._r(r)\n",
    "c.use"
   ]
  },
  {
   "cell_type": "markdown",
   "id": "7258fd6e",
   "metadata": {},
   "source": [
    "Whereas OpenAI's models use a `stream` parameter for streaming, Anthropic's use a separate method. We implement Anthropic's approach in a private method, and then use a `stream` parameter in `__call__` for consistency:"
   ]
  },
  {
   "cell_type": "code",
   "execution_count": null,
   "id": "6520a355",
   "metadata": {},
   "outputs": [],
   "source": [
    "#| exports\n",
    "@patch\n",
    "def _log(self:Client, final, prefill, msgs, maxtok=None, sp=None, temp=None, stream=None, stop=None, **kwargs):\n",
    "    self._r(final, prefill)\n",
    "    if self.log is not None: self.log.append({\n",
    "        \"msgs\": msgs, \"prefill\": prefill, **kwargs,\n",
    "        \"msgs\": msgs, \"prefill\": prefill, \"maxtok\": maxtok, \"sp\": sp, \"temp\": temp, \"stream\": stream, \"stop\": stop, **kwargs,\n",
    "        \"result\": self.result, \"use\": self.use, \"stop_reason\": self.stop_reason, \"stop_sequence\": self.stop_sequence\n",
    "    })\n",
    "    return self.result"
   ]
  },
  {
   "cell_type": "code",
   "execution_count": null,
   "id": "6901dce2",
   "metadata": {},
   "outputs": [],
   "source": [
    "#| exports\n",
    "@patch\n",
    "def _stream(self:Client, msgs:list, prefill='', **kwargs):\n",
    "    with self.c.messages.stream(model=self.model, messages=mk_msgs(msgs, cache=self.cache, cache_last_ckpt_only=self.cache), **kwargs) as s:\n",
    "        if prefill: yield(prefill)\n",
    "        yield from s.text_stream\n",
    "        self._log(s.get_final_message(), prefill, msgs, **kwargs)"
   ]
  },
  {
   "cell_type": "markdown",
   "id": "f2269e53",
   "metadata": {},
   "source": [
    "Claude supports adding an extra `assistant` message at the end, which contains the *prefill* -- i.e. the text we want Claude to assume the response starts with. However Claude doesn't actually repeat that in the response, so for convenience we add it."
   ]
  },
  {
   "cell_type": "code",
   "execution_count": null,
   "id": "835638bb",
   "metadata": {},
   "outputs": [],
   "source": [
    "#| exports\n",
    "@patch\n",
    "def _precall(self:Client, msgs, prefill, stop, kwargs):\n",
    "    pref = [prefill.strip()] if prefill else []\n",
    "    if not isinstance(msgs,list): msgs = [msgs]\n",
    "    if stop is not None:\n",
    "        if not isinstance(stop, (list)): stop = [stop]\n",
    "        kwargs[\"stop_sequences\"] = stop\n",
    "    msgs = mk_msgs(msgs+pref, cache=self.cache, cache_last_ckpt_only=self.cache)\n",
    "    return msgs"
   ]
  },
  {
   "cell_type": "code",
   "execution_count": null,
   "id": "c21c2113",
   "metadata": {},
   "outputs": [],
   "source": [
    "@patch\n",
    "@delegates(messages.Messages.create)\n",
    "def __call__(self:Client,\n",
    "             msgs:list, # List of messages in the dialog\n",
    "             sp='', # The system prompt\n",
    "             temp=0, # Temperature\n",
    "             maxtok=4096, # Maximum tokens\n",
    "             prefill='', # Optional prefill to pass to Claude as start of its response\n",
    "             stream:bool=False, # Stream response?\n",
    "             stop=None, # Stop sequence\n",
    "             **kwargs):\n",
    "    \"Make a call to Claude.\"\n",
    "    msgs = self._precall(msgs, prefill, stop, kwargs)\n",
    "    if stream: return self._stream(msgs, prefill=prefill, max_tokens=maxtok, system=sp, temperature=temp, **kwargs)\n",
    "    res = self.c.messages.create(\n",
    "        model=self.model, messages=msgs, max_tokens=maxtok, system=sp, temperature=temp, **kwargs)\n",
    "    return self._log(res, prefill, msgs, maxtok, sp, temp, stream=stream, **kwargs)"
   ]
  },
  {
   "cell_type": "markdown",
   "id": "3cee10c8",
   "metadata": {},
   "source": [
    "Defining `__call__` let's us use an object like a function (i.e it's *callable*). We use it as a small wrapper over `messages.create`. However we're not exporting this version just yet -- we have some additions we'll make in a moment..."
   ]
  },
  {
   "cell_type": "code",
   "execution_count": null,
   "id": "881b5e78",
   "metadata": {},
   "outputs": [
    {
     "data": {
      "text/plain": [
       "In: 0; Out: 0; Cache create: 0; Cache read: 0; Total: 0"
      ]
     },
     "execution_count": null,
     "metadata": {},
     "output_type": "execute_result"
    }
   ],
   "source": [
    "c = Client(model, log=True)\n",
    "c.use"
   ]
  },
  {
   "cell_type": "code",
   "execution_count": null,
   "id": "338a38e5",
   "metadata": {},
   "outputs": [
    {
     "data": {
      "text/markdown": [
       "Hello! How can I assist you today? Feel free to ask any questions or let me know what you'd like to discuss.\n",
       "\n",
       "<details>\n",
       "\n",
       "- id: `msg_01GC5dANMBDA2JcNopjUpE8v`\n",
       "- content: `[{'citations': None, 'text': \"Hello! How can I assist you today? Feel free to ask any questions or let me know what you'd like to discuss.\", 'type': 'text'}]`\n",
       "- model: `claude-3-7-sonnet-20250219`\n",
       "- role: `assistant`\n",
       "- stop_reason: `end_turn`\n",
       "- stop_sequence: `None`\n",
       "- type: `message`\n",
       "- usage: `{'cache_creation_input_tokens': 0, 'cache_read_input_tokens': 0, 'input_tokens': 8, 'output_tokens': 29}`\n",
       "\n",
       "</details>"
      ],
      "text/plain": [
       "Message(id='msg_01GC5dANMBDA2JcNopjUpE8v', content=[TextBlock(citations=None, text=\"Hello! How can I assist you today? Feel free to ask any questions or let me know what you'd like to discuss.\", type='text')], model='claude-3-7-sonnet-20250219', role='assistant', stop_reason='end_turn', stop_sequence=None, type='message', usage=In: 8; Out: 29; Cache create: 0; Cache read: 0; Total: 37)"
      ]
     },
     "execution_count": null,
     "metadata": {},
     "output_type": "execute_result"
    }
   ],
   "source": [
    "c('Hi')"
   ]
  },
  {
   "cell_type": "code",
   "execution_count": null,
   "id": "ae9f7e06",
   "metadata": {},
   "outputs": [
    {
     "data": {
      "text/plain": [
       "In: 8; Out: 29; Cache create: 0; Cache read: 0; Total: 37"
      ]
     },
     "execution_count": null,
     "metadata": {},
     "output_type": "execute_result"
    }
   ],
   "source": [
    "c.use"
   ]
  },
  {
   "cell_type": "markdown",
   "id": "2d269ed8",
   "metadata": {},
   "source": [
    "Let's try out *prefill*:"
   ]
  },
  {
   "cell_type": "code",
   "execution_count": null,
   "id": "7f479429",
   "metadata": {},
   "outputs": [],
   "source": [
    "q = \"Concisely, what is the meaning of life?\"\n",
    "pref = 'According to Douglas Adams,'"
   ]
  },
  {
   "cell_type": "code",
   "execution_count": null,
   "id": "b831ca3d",
   "metadata": {},
   "outputs": [
    {
     "data": {
      "text/markdown": [
       "According to Douglas Adams,  it's 42. More seriously, the meaning of life is deeply personal and varies across philosophical traditions - from finding happiness, serving others, pursuing knowledge, or creating your own purpose in an inherently meaningless universe. There's no universal answer, which is perhaps what makes the question so enduring.\n",
       "\n",
       "<details>\n",
       "\n",
       "- id: `msg_01WAtdDmJZeetU62JfkFgDvw`\n",
       "- content: `[{'citations': None, 'text': \"According to Douglas Adams,  it's 42. More seriously, the meaning of life is deeply personal and varies across philosophical traditions - from finding happiness, serving others, pursuing knowledge, or creating your own purpose in an inherently meaningless universe. There's no universal answer, which is perhaps what makes the question so enduring.\", 'type': 'text'}]`\n",
       "- model: `claude-3-7-sonnet-20250219`\n",
       "- role: `assistant`\n",
       "- stop_reason: `end_turn`\n",
       "- stop_sequence: `None`\n",
       "- type: `message`\n",
       "- usage: `{'cache_creation_input_tokens': 0, 'cache_read_input_tokens': 0, 'input_tokens': 24, 'output_tokens': 65}`\n",
       "\n",
       "</details>"
      ],
      "text/plain": [
       "Message(id='msg_01WAtdDmJZeetU62JfkFgDvw', content=[TextBlock(citations=None, text=\"According to Douglas Adams,  it's 42. More seriously, the meaning of life is deeply personal and varies across philosophical traditions - from finding happiness, serving others, pursuing knowledge, or creating your own purpose in an inherently meaningless universe. There's no universal answer, which is perhaps what makes the question so enduring.\", type='text')], model='claude-3-7-sonnet-20250219', role='assistant', stop_reason='end_turn', stop_sequence=None, type='message', usage=In: 24; Out: 65; Cache create: 0; Cache read: 0; Total: 89)"
      ]
     },
     "execution_count": null,
     "metadata": {},
     "output_type": "execute_result"
    }
   ],
   "source": [
    "c(q, prefill=pref)"
   ]
  },
  {
   "cell_type": "markdown",
   "id": "216b2704",
   "metadata": {},
   "source": [
    "We can pass `stream=True` to stream the response back incrementally:"
   ]
  },
  {
   "cell_type": "code",
   "execution_count": null,
   "id": "e281399f",
   "metadata": {},
   "outputs": [
    {
     "name": "stdout",
     "output_type": "stream",
     "text": [
      "Hello! How can I assist you today? Feel free to ask any questions or let me know what you'd like to discuss."
     ]
    }
   ],
   "source": [
    "for o in c('Hi', stream=True): print(o, end='')"
   ]
  },
  {
   "cell_type": "code",
   "execution_count": null,
   "id": "beb25f2a",
   "metadata": {},
   "outputs": [
    {
     "data": {
      "text/plain": [
       "In: 40; Out: 123; Cache create: 0; Cache read: 0; Total: 163"
      ]
     },
     "execution_count": null,
     "metadata": {},
     "output_type": "execute_result"
    }
   ],
   "source": [
    "c.use"
   ]
  },
  {
   "cell_type": "code",
   "execution_count": null,
   "id": "db1c75ef",
   "metadata": {},
   "outputs": [
    {
     "name": "stdout",
     "output_type": "stream",
     "text": [
      "According to Douglas Adams,  it's 42. More seriously, the meaning of life is deeply personal and varies across philosophical traditions - from finding happiness, serving others, pursuing knowledge, or creating your own purpose in an inherently meaningless universe. There's no universal answer, which is perhaps what makes the question so enduring."
     ]
    }
   ],
   "source": [
    "for o in c(q, prefill=pref, stream=True): print(o, end='')"
   ]
  },
  {
   "cell_type": "code",
   "execution_count": null,
   "id": "e36eddc9",
   "metadata": {},
   "outputs": [
    {
     "data": {
      "text/plain": [
       "In: 64; Out: 188; Cache create: 0; Cache read: 0; Total: 252"
      ]
     },
     "execution_count": null,
     "metadata": {},
     "output_type": "execute_result"
    }
   ],
   "source": [
    "c.use"
   ]
  },
  {
   "cell_type": "markdown",
   "id": "bd556e49",
   "metadata": {},
   "source": [
    "Pass a stop seauence if you want claude to stop generating text when it encounters it.\n"
   ]
  },
  {
   "cell_type": "code",
   "execution_count": null,
   "id": "12b17591",
   "metadata": {},
   "outputs": [
    {
     "data": {
      "text/markdown": [
       "1, 2, 3, 4,\n",
       "\n",
       "<details>\n",
       "\n",
       "- id: `msg_01LcbfaxQJkq9Qa8kpMdF5Rt`\n",
       "- content: `[{'citations': None, 'text': '1, 2, 3, 4, ', 'type': 'text'}]`\n",
       "- model: `claude-3-7-sonnet-20250219`\n",
       "- role: `assistant`\n",
       "- stop_reason: `stop_sequence`\n",
       "- stop_sequence: `5`\n",
       "- type: `message`\n",
       "- usage: `{'cache_creation_input_tokens': 0, 'cache_read_input_tokens': 0, 'input_tokens': 15, 'output_tokens': 14}`\n",
       "\n",
       "</details>"
      ],
      "text/plain": [
       "Message(id='msg_01LcbfaxQJkq9Qa8kpMdF5Rt', content=[TextBlock(citations=None, text='1, 2, 3, 4, ', type='text')], model='claude-3-7-sonnet-20250219', role='assistant', stop_reason='stop_sequence', stop_sequence='5', type='message', usage=In: 15; Out: 14; Cache create: 0; Cache read: 0; Total: 29)"
      ]
     },
     "execution_count": null,
     "metadata": {},
     "output_type": "execute_result"
    }
   ],
   "source": [
    "c(\"Count from 1 to 10\", stop=\"5\")"
   ]
  },
  {
   "cell_type": "markdown",
   "id": "cdbd3df3",
   "metadata": {},
   "source": [
    "This also works with streaming, and you can pass more than one stop sequence:"
   ]
  },
  {
   "cell_type": "code",
   "execution_count": null,
   "id": "ff50577d",
   "metadata": {},
   "outputs": [
    {
     "name": "stdout",
     "output_type": "stream",
     "text": [
      "1, stop_sequence 2\n"
     ]
    }
   ],
   "source": [
    "for o in c(\"Count from 1 to 10\", stop=[\"2\", \"yellow\"], stream=True): print(o, end='')\n",
    "print(c.stop_reason, c.stop_sequence)"
   ]
  },
  {
   "cell_type": "markdown",
   "id": "2108776e",
   "metadata": {},
   "source": [
    "You can check the logs:"
   ]
  },
  {
   "cell_type": "code",
   "execution_count": null,
   "id": "17122b92",
   "metadata": {},
   "outputs": [
    {
     "data": {
      "text/plain": [
       "{'msgs': [{'role': 'user', 'content': 'Count from 1 to 10'}],\n",
       " 'prefill': '',\n",
       " 'max_tokens': 4096,\n",
       " 'system': '',\n",
       " 'temperature': 0,\n",
       " 'stop_sequences': ['2', 'yellow'],\n",
       " 'maxtok': None,\n",
       " 'sp': None,\n",
       " 'temp': None,\n",
       " 'stream': None,\n",
       " 'stop': None,\n",
       " 'result': Message(id='msg_01Uay8KHau9JNWo22aBpvoVx', content=[TextBlock(citations=None, text='1, ', type='text')], model='claude-3-7-sonnet-20250219', role='assistant', stop_reason='stop_sequence', stop_sequence='2', type='message', usage=In: 15; Out: 5; Cache create: 0; Cache read: 0; Total: 20),\n",
       " 'use': In: 94; Out: 207; Cache create: 0; Cache read: 0; Total: 301,\n",
       " 'stop_reason': 'stop_sequence',\n",
       " 'stop_sequence': '2'}"
      ]
     },
     "execution_count": null,
     "metadata": {},
     "output_type": "execute_result"
    }
   ],
   "source": [
    "c.log[-1]"
   ]
  },
  {
   "cell_type": "markdown",
   "id": "fbdc1914",
   "metadata": {},
   "source": [
    "We've shown the token usage but we really care about is pricing. Let's extract the latest [pricing](https://www.anthropic.com/pricing#anthropic-api) from Anthropic into a `pricing` dict."
   ]
  },
  {
   "cell_type": "code",
   "execution_count": null,
   "id": "9bfce1dc",
   "metadata": {},
   "outputs": [],
   "source": [
    "#| export\n",
    "pricing = {  # model type: $ / million tokens (input, output, cache write, cache read)\n",
    "    'opus': (15, 75, 18.75, 1.5),\n",
    "    'sonnet': (3, 15, 3.75, 0.3),\n",
    "    'haiku-3': (0.25, 1.25, 0.3, 0.03),\n",
    "    'haiku-3-5': (1, 3, 1.25, 0.1),\n",
    "}"
   ]
  },
  {
   "cell_type": "code",
   "execution_count": null,
   "id": "2a1f2e67",
   "metadata": {},
   "outputs": [],
   "source": [
    "#| exports\n",
    "def get_pricing(m, u):\n",
    "    return pricing[m][:3] if u.prompt_token_count < 128_000 else pricing[m][3:]"
   ]
  },
  {
   "cell_type": "markdown",
   "id": "a8a49a95",
   "metadata": {},
   "source": [
    "We'll patch `Usage` to enable it compute the cost given pricing."
   ]
  },
  {
   "cell_type": "code",
   "execution_count": null,
   "id": "2edb5da5",
   "metadata": {},
   "outputs": [],
   "source": [
    "#| exports\n",
    "@patch\n",
    "def cost(self:Usage, costs:tuple) -> float:\n",
    "    cache_w, cache_r = _dgetattr(self, \"cache_creation_input_tokens\",0), _dgetattr(self, \"cache_read_input_tokens\",0)\n",
    "    return sum([self.input_tokens * costs[0] +  self.output_tokens * costs[1] +  cache_w * costs[2] + cache_r * costs[3]]) / 1e6"
   ]
  },
  {
   "cell_type": "code",
   "execution_count": null,
   "id": "936a4adc",
   "metadata": {},
   "outputs": [],
   "source": [
    "#| exports\n",
    "@patch(as_prop=True)\n",
    "def cost(self: Client) -> float: return self.use.cost(pricing[model_types[self.model]])"
   ]
  },
  {
   "cell_type": "code",
   "execution_count": null,
   "id": "91d4dcbe",
   "metadata": {},
   "outputs": [],
   "source": [
    "#| exports\n",
    "def get_costs(c):\n",
    "    costs = pricing[model_types[c.model]]\n",
    "    \n",
    "    inp_cost = c.use.input_tokens * costs[0] / 1e6\n",
    "    out_cost = c.use.output_tokens * costs[1] / 1e6\n",
    "\n",
    "    cache_w = c.use.cache_creation_input_tokens   \n",
    "    cache_r = c.use.cache_read_input_tokens\n",
    "    cache_cost = cache_w * costs[2] + cache_r * costs[3] / 1e6\n",
    "    return inp_cost, out_cost, cache_cost, cache_w + cache_r"
   ]
  },
  {
   "cell_type": "code",
   "execution_count": null,
   "id": "15695891",
   "metadata": {},
   "outputs": [],
   "source": [
    "#| exports\n",
    "@patch\n",
    "def _repr_markdown_(self:Client):\n",
    "    if not hasattr(self,'result'): return 'No results yet'\n",
    "    msg = contents(self.result)\n",
    "    inp_cost, out_cost, cache_cost, cached_toks = get_costs(self)\n",
    "    return f\"\"\"{msg}\n",
    "\n",
    "| Metric | Count | Cost (USD) |\n",
    "|--------|------:|-----:|\n",
    "| Input tokens | {self.use.input_tokens:,} | {inp_cost:.6f} |\n",
    "| Output tokens | {self.use.output_tokens:,} | {out_cost:.6f} |\n",
    "| Cache tokens | {cached_toks:,} | {cache_cost:.6f} |\n",
    "| **Total** | **{self.use.total:,}** | **${self.cost:.6f}** |\"\"\""
   ]
  },
  {
   "cell_type": "code",
   "execution_count": null,
   "id": "be86fc43",
   "metadata": {},
   "outputs": [
    {
     "data": {
      "text/markdown": [
       "1,\n",
       "\n",
       "| Metric | Count | Cost (USD) |\n",
       "|--------|------:|-----:|\n",
       "| Input tokens | 94 | 0.000282 |\n",
       "| Output tokens | 207 | 0.003105 |\n",
       "| Cache tokens | 0 | 0.000000 |\n",
       "| **Total** | **301** | **$0.003387** |"
      ],
      "text/plain": [
       "<__main__.Client>"
      ]
     },
     "execution_count": null,
     "metadata": {},
     "output_type": "execute_result"
    }
   ],
   "source": [
    "c"
   ]
  },
  {
   "cell_type": "markdown",
   "id": "1a7cdbc6",
   "metadata": {},
   "source": [
    "## Tool use"
   ]
  },
  {
   "cell_type": "markdown",
   "id": "65700cb3",
   "metadata": {},
   "source": [
    "Let's now add tool use (aka *function calling*)."
   ]
  },
  {
   "cell_type": "code",
   "execution_count": null,
   "id": "01e3e2af",
   "metadata": {},
   "outputs": [],
   "source": [
    "#| export\n",
    "def mk_tool_choice(choose:Union[str,bool,None])->dict:\n",
    "    \"Create a `tool_choice` dict that's 'auto' if `choose` is `None`, 'any' if it is True, or 'tool' otherwise\"\n",
    "    return {\"type\": \"tool\", \"name\": choose} if isinstance(choose,str) else {'type':'any'} if choose else {'type':'auto'}"
   ]
  },
  {
   "cell_type": "code",
   "execution_count": null,
   "id": "753c4cd5",
   "metadata": {},
   "outputs": [
    {
     "name": "stdout",
     "output_type": "stream",
     "text": [
      "{'type': 'tool', 'name': 'sums'}\n",
      "{'type': 'any'}\n",
      "{'type': 'auto'}\n"
     ]
    }
   ],
   "source": [
    "print(mk_tool_choice('sums'))\n",
    "print(mk_tool_choice(True))\n",
    "print(mk_tool_choice(None))"
   ]
  },
  {
   "cell_type": "markdown",
   "id": "0d72ea0d",
   "metadata": {},
   "source": [
    "Claude can be forced to use a particular tool, or select from a specific list of tools, or decide for itself when to use a tool. If you want to force a tool (or force choosing from a list), include a `tool_choice` param with a dict from `mk_tool_choice`.\n",
    "\n",
    "For testing, we need a function that Claude can call; we'll write a simple function that adds numbers together, and will tell us when it's being called:"
   ]
  },
  {
   "cell_type": "code",
   "execution_count": null,
   "id": "046e8cc3",
   "metadata": {},
   "outputs": [],
   "source": [
    "def sums(\n",
    "    a:int,  # First thing to sum\n",
    "    b:int=1 # Second thing to sum\n",
    ") -> int: # The sum of the inputs\n",
    "    \"Adds a + b.\"\n",
    "    print(f\"Finding the sum of {a} and {b}\")\n",
    "    return a + b"
   ]
  },
  {
   "cell_type": "code",
   "execution_count": null,
   "id": "d51f2bdf",
   "metadata": {},
   "outputs": [],
   "source": [
    "a,b = 604542,6458932\n",
    "pr = f\"What is {a}+{b}?\"\n",
    "sp = \"You are a summing expert.\""
   ]
  },
  {
   "cell_type": "markdown",
   "id": "3dc3ffd6",
   "metadata": {},
   "source": [
    "Claudette can autogenerate a schema thanks to the `toolslm` library. We'll force the use of the tool using the function we created earlier."
   ]
  },
  {
   "cell_type": "code",
   "execution_count": null,
   "id": "bff81d52",
   "metadata": {},
   "outputs": [],
   "source": [
    "tools=[get_schema(sums)]\n",
    "choice = mk_tool_choice('sums')"
   ]
  },
  {
   "cell_type": "markdown",
   "id": "91937f47",
   "metadata": {},
   "source": [
    "We'll start a dialog with Claude now. We'll store the messages of our dialog in `msgs`. The first message will be our prompt `pr`, and we'll pass our `tools` schema."
   ]
  },
  {
   "cell_type": "code",
   "execution_count": null,
   "id": "c2ceeb75",
   "metadata": {},
   "outputs": [
    {
     "data": {
      "text/markdown": [
       "ToolUseBlock(id='toolu_017k9zWfUPqQYu4iE1DM55G5', input={'a': 604542, 'b': 6458932}, name='sums', type='tool_use')\n",
       "\n",
       "<details>\n",
       "\n",
       "- id: `msg_01Mvck8fkReV2XNdeqh4fyHp`\n",
       "- content: `[{'id': 'toolu_017k9zWfUPqQYu4iE1DM55G5', 'input': {'a': 604542, 'b': 6458932}, 'name': 'sums', 'type': 'tool_use'}]`\n",
       "- model: `claude-3-7-sonnet-20250219`\n",
       "- role: `assistant`\n",
       "- stop_reason: `tool_use`\n",
       "- stop_sequence: `None`\n",
       "- type: `message`\n",
       "- usage: `{'cache_creation_input_tokens': 0, 'cache_read_input_tokens': 0, 'input_tokens': 442, 'output_tokens': 53}`\n",
       "\n",
       "</details>"
      ],
      "text/plain": [
       "Message(id='msg_01Mvck8fkReV2XNdeqh4fyHp', content=[ToolUseBlock(id='toolu_017k9zWfUPqQYu4iE1DM55G5', input={'a': 604542, 'b': 6458932}, name='sums', type='tool_use')], model='claude-3-7-sonnet-20250219', role='assistant', stop_reason='tool_use', stop_sequence=None, type='message', usage=In: 442; Out: 53; Cache create: 0; Cache read: 0; Total: 495)"
      ]
     },
     "execution_count": null,
     "metadata": {},
     "output_type": "execute_result"
    }
   ],
   "source": [
    "msgs = mk_msgs(pr)\n",
    "r = c(msgs, sp=sp, tools=tools, tool_choice=choice)\n",
    "r"
   ]
  },
  {
   "cell_type": "markdown",
   "id": "60a2fce0",
   "metadata": {},
   "source": [
    "When Claude decides that it should use a tool, it passes back a `ToolUseBlock` with the name of the tool to call, and the params to use.\n",
    "\n",
    "We don't want to allow it to call just any possible function (that would be a security disaster!) so we create a *namespace* -- that is, a dictionary of allowable function names to call."
   ]
  },
  {
   "cell_type": "code",
   "execution_count": null,
   "id": "4fb9826f",
   "metadata": {},
   "outputs": [
    {
     "data": {
      "text/plain": [
       "{'sums': <function __main__.sums(a: int, b: int = 1) -> int>}"
      ]
     },
     "execution_count": null,
     "metadata": {},
     "output_type": "execute_result"
    }
   ],
   "source": [
    "ns = mk_ns(sums)\n",
    "ns"
   ]
  },
  {
   "cell_type": "code",
   "execution_count": null,
   "id": "5a7728ff",
   "metadata": {},
   "outputs": [],
   "source": [
    "#| exports\n",
    "def mk_funcres(fc, ns):\n",
    "    \"Given tool use block `fc`, get tool result, and create a tool_result response.\"\n",
    "    res = call_func(fc.name, fc.input, ns=ns)\n",
    "    return dict(type=\"tool_result\", tool_use_id=fc.id, content=str(res))"
   ]
  },
  {
   "cell_type": "markdown",
   "id": "3d1f23eb",
   "metadata": {},
   "source": [
    "We can now use the function requested by Claude. We look it up in `ns`, and pass in the provided parameters."
   ]
  },
  {
   "cell_type": "code",
   "execution_count": null,
   "id": "c2e829c2",
   "metadata": {},
   "outputs": [
    {
     "data": {
      "text/plain": [
       "[ToolUseBlock(id='toolu_017k9zWfUPqQYu4iE1DM55G5', input={'a': 604542, 'b': 6458932}, name='sums', type='tool_use')]"
      ]
     },
     "execution_count": null,
     "metadata": {},
     "output_type": "execute_result"
    }
   ],
   "source": [
    "fcs = [o for o in r.content if isinstance(o,ToolUseBlock)]\n",
    "fcs"
   ]
  },
  {
   "cell_type": "code",
   "execution_count": null,
   "id": "893f81ca",
   "metadata": {},
   "outputs": [
    {
     "name": "stdout",
     "output_type": "stream",
     "text": [
      "Finding the sum of 604542 and 6458932\n"
     ]
    },
    {
     "data": {
      "text/plain": [
       "[{'type': 'tool_result',\n",
       "  'tool_use_id': 'toolu_017k9zWfUPqQYu4iE1DM55G5',\n",
       "  'content': '7063474'}]"
      ]
     },
     "execution_count": null,
     "metadata": {},
     "output_type": "execute_result"
    }
   ],
   "source": [
    "res = [mk_funcres(fc, ns=ns) for fc in fcs]\n",
    "res"
   ]
  },
  {
   "cell_type": "code",
   "execution_count": null,
   "id": "2cd7a393",
   "metadata": {},
   "outputs": [],
   "source": [
    "def contents(r):\n",
    "    \"Helper to get the contents from Claude response `r`.\"\n",
    "    blk = find_block(r)\n",
    "    if not blk and r.content: blk = r.content[0]\n",
    "    if hasattr(blk,'text'): return blk.text.strip()\n",
    "    elif hasattr(blk,'content'): return blk.content.strip()\n",
    "    return str(blk)"
   ]
  },
  {
   "cell_type": "code",
   "execution_count": null,
   "id": "d475922d",
   "metadata": {},
   "outputs": [],
   "source": [
    "#| exports\n",
    "def mk_toolres(\n",
    "    r:abc.Mapping, # Tool use request response from Claude\n",
    "    ns:Optional[abc.Mapping]=None, # Namespace to search for tools\n",
    "    obj:Optional=None # Class to search for tools\n",
    "    ):\n",
    "    \"Create a `tool_result` message from response `r`.\"\n",
    "    cts = getattr(r, 'content', [])\n",
    "    res = [mk_msg(r.model_dump(), role='assistant')]\n",
    "    if ns is None: ns=globals()\n",
    "    if obj is not None: ns = mk_ns(obj)\n",
    "    tcs = [mk_funcres(o, ns) for o in cts if isinstance(o,ToolUseBlock)]\n",
    "    if tcs: res.append(mk_msg(tcs))\n",
    "    return res"
   ]
  },
  {
   "cell_type": "markdown",
   "id": "5a57d1ca",
   "metadata": {},
   "source": [
    "In order to tell Claude the result of the tool call, we pass back the tool use assistant request and the `tool_result` response."
   ]
  },
  {
   "cell_type": "code",
   "execution_count": null,
   "id": "f13de1fc",
   "metadata": {},
   "outputs": [
    {
     "name": "stdout",
     "output_type": "stream",
     "text": [
      "Finding the sum of 604542 and 6458932\n"
     ]
    },
    {
     "data": {
      "text/plain": [
       "[{'role': 'assistant',\n",
       "  'content': [{'id': 'toolu_017k9zWfUPqQYu4iE1DM55G5',\n",
       "    'input': {'a': 604542, 'b': 6458932},\n",
       "    'name': 'sums',\n",
       "    'type': 'tool_use'}]},\n",
       " {'role': 'user',\n",
       "  'content': [{'type': 'tool_result',\n",
       "    'tool_use_id': 'toolu_017k9zWfUPqQYu4iE1DM55G5',\n",
       "    'content': '7063474'}]}]"
      ]
     },
     "execution_count": null,
     "metadata": {},
     "output_type": "execute_result"
    }
   ],
   "source": [
    "tr = mk_toolres(r, ns=ns)\n",
    "tr"
   ]
  },
  {
   "cell_type": "code",
   "execution_count": null,
   "id": "f0fc80e6",
   "metadata": {},
   "outputs": [
    {
     "data": {
      "text/plain": [
       "[{'role': 'user', 'content': 'What is 604542+6458932?'}]"
      ]
     },
     "execution_count": null,
     "metadata": {},
     "output_type": "execute_result"
    }
   ],
   "source": [
    "msgs"
   ]
  },
  {
   "cell_type": "markdown",
   "id": "faf4fe37",
   "metadata": {},
   "source": [
    "We add this to our dialog, and now Claude has all the information it needs to answer our question."
   ]
  },
  {
   "cell_type": "code",
   "execution_count": null,
   "id": "eed99502",
   "metadata": {},
   "outputs": [
    {
     "data": {
      "text/plain": [
       "'The sum of 604542 and 6458932 is 7,063,474.'"
      ]
     },
     "execution_count": null,
     "metadata": {},
     "output_type": "execute_result"
    }
   ],
   "source": [
    "msgs += tr\n",
    "contents(c(msgs, sp=sp, tools=tools))"
   ]
  },
  {
   "cell_type": "code",
   "execution_count": null,
   "id": "8fc252dc",
   "metadata": {},
   "outputs": [
    {
     "data": {
      "text/plain": [
       "'7063474'"
      ]
     },
     "execution_count": null,
     "metadata": {},
     "output_type": "execute_result"
    }
   ],
   "source": [
    "contents(msgs[-1])"
   ]
  },
  {
   "cell_type": "code",
   "execution_count": null,
   "id": "ae64dce3",
   "metadata": {},
   "outputs": [
    {
     "data": {
      "text/plain": [
       "[{'role': 'user', 'content': 'What is 604542+6458932?'},\n",
       " {'role': 'assistant',\n",
       "  'content': [{'id': 'toolu_017k9zWfUPqQYu4iE1DM55G5',\n",
       "    'input': {'a': 604542, 'b': 6458932},\n",
       "    'name': 'sums',\n",
       "    'type': 'tool_use'}]},\n",
       " {'role': 'user',\n",
       "  'content': [{'type': 'tool_result',\n",
       "    'tool_use_id': 'toolu_017k9zWfUPqQYu4iE1DM55G5',\n",
       "    'content': '7063474'}]}]"
      ]
     },
     "execution_count": null,
     "metadata": {},
     "output_type": "execute_result"
    }
   ],
   "source": [
    "msgs"
   ]
  },
  {
   "cell_type": "markdown",
   "id": "f2a3dc3c",
   "metadata": {},
   "source": [
    "This works with methods as well -- in this case, use the object itself for `ns`:"
   ]
  },
  {
   "cell_type": "code",
   "execution_count": null,
   "id": "800a53a9",
   "metadata": {},
   "outputs": [],
   "source": [
    "class Dummy:\n",
    "    def sums(\n",
    "        self,\n",
    "        a:int,  # First thing to sum\n",
    "        b:int=1 # Second thing to sum\n",
    "    ) -> int: # The sum of the inputs\n",
    "        \"Adds a + b.\"\n",
    "        print(f\"Finding the sum of {a} and {b}\")\n",
    "        return a + b"
   ]
  },
  {
   "cell_type": "code",
   "execution_count": null,
   "id": "b21e6290",
   "metadata": {},
   "outputs": [
    {
     "name": "stdout",
     "output_type": "stream",
     "text": [
      "Finding the sum of 604542 and 6458932\n"
     ]
    },
    {
     "data": {
      "text/plain": [
       "'The sum of 604542 and 6458932 is 7,063,474.'"
      ]
     },
     "execution_count": null,
     "metadata": {},
     "output_type": "execute_result"
    }
   ],
   "source": [
    "tools = [get_schema(Dummy.sums)]\n",
    "o = Dummy()\n",
    "r = c(pr, sp=sp, tools=tools, tool_choice=choice)\n",
    "tr = mk_toolres(r, obj=o)\n",
    "msgs += tr\n",
    "contents(c(msgs, sp=sp, tools=tools))"
   ]
  },
  {
   "cell_type": "markdown",
   "id": "4e33c2b2",
   "metadata": {},
   "source": [
    "Anthropic, also has a special tool type specific to text editing."
   ]
  },
  {
   "cell_type": "code",
   "execution_count": null,
   "id": "6dcc3a92",
   "metadata": {},
   "outputs": [
    {
     "data": {
      "text/plain": [
       "[{'type': 'text_editor_20250124', 'name': 'str_replace_editor'}]"
      ]
     },
     "execution_count": null,
     "metadata": {},
     "output_type": "execute_result"
    }
   ],
   "source": [
    "tools = [text_editor_conf['sonnet']]\n",
    "tools"
   ]
  },
  {
   "cell_type": "code",
   "execution_count": null,
   "id": "c9a25fc5",
   "metadata": {},
   "outputs": [
    {
     "data": {
      "text/plain": [
       "ToolUseBlock(id='toolu_01R264EyehqDzFY5VJr2FZDe', input={'command': 'view', 'path': '_quarto.yml'}, name='str_replace_editor', type='tool_use')"
      ]
     },
     "execution_count": null,
     "metadata": {},
     "output_type": "execute_result"
    }
   ],
   "source": [
    "pr = 'Could you please explain my _quarto.yml file?'\n",
    "msgs = [mk_msg(pr)]\n",
    "r = c(msgs, sp=sp, tools=tools)\n",
    "find_block(r, ToolUseBlock)"
   ]
  },
  {
   "cell_type": "markdown",
   "id": "145b096d",
   "metadata": {},
   "source": [
    "We've gone ahead and create a reference implementation that you can directly use from our `text_editor` module. Or use as reference for creating your own. "
   ]
  },
  {
   "cell_type": "code",
   "execution_count": null,
   "id": "a056df6c",
   "metadata": {},
   "outputs": [
    {
     "name": "stdout",
     "output_type": "stream",
     "text": [
      "## Explanation of Your _quarto.yml File\n",
      "\n",
      "Your _quarto.yml file is a configuration file for Quarto, which is a publishing system \n"
     ]
    }
   ],
   "source": [
    "ns = mk_ns(str_replace_editor)\n",
    "tr = mk_toolres(r, ns=ns)\n",
    "msgs += tr\n",
    "print(contents(c(msgs, sp=sp, tools=tools))[:128])"
   ]
  },
  {
   "cell_type": "markdown",
   "id": "d618fc89",
   "metadata": {},
   "source": [
    "## Callable Client"
   ]
  },
  {
   "cell_type": "code",
   "execution_count": null,
   "id": "cb514c3f",
   "metadata": {},
   "outputs": [],
   "source": [
    "#| export\n",
    "def get_types(msgs):\n",
    "    types = []\n",
    "    for m in msgs:\n",
    "        content = m.get('content', [])\n",
    "        if isinstance(content, list): types.extend(getattr(c, 'type', None) or c['type'] for c in content)\n",
    "        else: types.append('text')\n",
    "    return types"
   ]
  },
  {
   "cell_type": "code",
   "execution_count": null,
   "id": "6260d227",
   "metadata": {},
   "outputs": [
    {
     "data": {
      "text/plain": [
       "['text', 'text', 'tool_use', 'tool_result']"
      ]
     },
     "execution_count": null,
     "metadata": {},
     "output_type": "execute_result"
    }
   ],
   "source": [
    "get_types(msgs)"
   ]
  },
  {
   "cell_type": "code",
   "execution_count": null,
   "id": "cbeb89c2",
   "metadata": {},
   "outputs": [],
   "source": [
    "#| exports\n",
    "@patch\n",
    "@delegates(messages.Messages.create)\n",
    "def __call__(self:Client,\n",
    "             msgs:list, # List of messages in the dialog\n",
    "             sp='', # The system prompt\n",
    "             temp=0, # Temperature\n",
    "             maxtok=4096, # Maximum tokens\n",
    "             maxthinktok=0, # Maximum thinking tokens\n",
    "             prefill='', # Optional prefill to pass to Claude as start of its response\n",
    "             stream:bool=False, # Stream response?\n",
    "             stop=None, # Stop sequence\n",
    "             tools:Optional[list]=None, # List of tools to make available to Claude\n",
    "             tool_choice:Optional[dict]=None, # Optionally force use of some tool\n",
    "             **kwargs):\n",
    "    \"Make a call to Claude.\"\n",
    "    if tools: kwargs['tools'] = [get_schema(o) if callable(o) else o for o in listify(tools)]\n",
    "    if tool_choice: kwargs['tool_choice'] = mk_tool_choice(tool_choice)\n",
    "    if maxthinktok: \n",
    "        kwargs['thinking']={'type':'enabled', 'budget_tokens':maxthinktok} \n",
    "        temp=1; prefill=''\n",
    "    msgs = self._precall(msgs, prefill, stop, kwargs)\n",
    "    if any(t == 'image' for t in get_types(msgs)): assert not self.text_only, f\"Images are not supported by the current model type: {self.model}\"\n",
    "    if stream: return self._stream(msgs, prefill=prefill, max_tokens=maxtok, system=sp, temperature=temp, **kwargs)\n",
    "    res = self.c.messages.create(model=self.model, messages=msgs, max_tokens=maxtok, system=sp, temperature=temp, **kwargs)\n",
    "    return self._log(res, prefill, msgs, maxtok, sp, temp, stream=stream, stop=stop, **kwargs)"
   ]
  },
  {
   "cell_type": "code",
   "execution_count": null,
   "id": "6dd255e0",
   "metadata": {},
   "outputs": [
    {
     "name": "stdout",
     "output_type": "stream",
     "text": [
      "Message(id='msg_01VQpvWAQnDb3ENKQ6XHgLoo', content=[ToolUseBlock(id='toolu_01QswkcAzt6zv3cQtVwMqmBh', input={'a': 0}, name='sums', type='tool_use')], model='claude-3-7-sonnet-20250219', role='assistant', stop_reason='tool_use', stop_sequence=None, type='message', usage=In: 444; Out: 33; Cache create: 0; Cache read: 0; Total: 477)\n",
      "Message(id='msg_01XAMshvQ9H2EEyqj4zrsQoj', content=[ToolUseBlock(id='toolu_01SbvRShKXtXbYTynY7DV76A', input={'a': 0}, name='sums', type='tool_use')], model='claude-3-7-sonnet-20250219', role='assistant', stop_reason='tool_use', stop_sequence=None, type='message', usage=In: 444; Out: 33; Cache create: 0; Cache read: 0; Total: 477)\n"
     ]
    }
   ],
   "source": [
    "for tools in [sums, [get_schema(sums)]]:\n",
    "    r = c(pr, sp=sp, tools=sums, tool_choice='sums')\n",
    "    print(r)"
   ]
  },
  {
   "cell_type": "code",
   "execution_count": null,
   "id": "f0bb426f",
   "metadata": {},
   "outputs": [
    {
     "name": "stdout",
     "output_type": "stream",
     "text": [
      "Finding the sum of 0 and 1\n"
     ]
    }
   ],
   "source": [
    "ns = mk_ns(sums)\n",
    "tr = mk_toolres(r, ns=ns)"
   ]
  },
  {
   "cell_type": "code",
   "execution_count": null,
   "id": "b3564424",
   "metadata": {},
   "outputs": [],
   "source": [
    "#| exports\n",
    "@patch\n",
    "@delegates(Client.__call__)\n",
    "def structured(self:Client,\n",
    "               msgs:list, # List of messages in the dialog\n",
    "               tools:Optional[list]=None, # List of tools to make available to Claude\n",
    "               obj:Optional=None, # Class to search for tools\n",
    "               ns:Optional[abc.Mapping]=None, # Namespace to search for tools\n",
    "               **kwargs):\n",
    "    \"Return the value of all tool calls (generally used for structured outputs)\"\n",
    "    tools = listify(tools)\n",
    "    res = self(msgs, tools=tools, tool_choice=tools, **kwargs)\n",
    "    if ns is None: ns=mk_ns(*tools)\n",
    "    if obj is not None: ns = mk_ns(obj)\n",
    "    cts = getattr(res, 'content', [])\n",
    "    tcs = [call_func(o.name, o.input, ns=ns) for o in cts if isinstance(o,ToolUseBlock)]\n",
    "    return tcs"
   ]
  },
  {
   "cell_type": "markdown",
   "id": "e2b70864",
   "metadata": {},
   "source": [
    "Anthropic's API does not support response formats directly, so instead we provide a `structured` method to use tool calling to achieve the same result. The result of the tool is not passed back to Claude in this case, but instead is returned directly to the user. "
   ]
  },
  {
   "cell_type": "code",
   "execution_count": null,
   "id": "44d2cc82",
   "metadata": {},
   "outputs": [
    {
     "name": "stdout",
     "output_type": "stream",
     "text": [
      "Finding the sum of 1 and 1\n"
     ]
    },
    {
     "data": {
      "text/plain": [
       "[2]"
      ]
     },
     "execution_count": null,
     "metadata": {},
     "output_type": "execute_result"
    }
   ],
   "source": [
    "c.structured(pr, tools=[sums])"
   ]
  },
  {
   "cell_type": "code",
   "execution_count": null,
   "id": "78883bec",
   "metadata": {},
   "outputs": [
    {
     "data": {
      "text/markdown": [
       "ToolUseBlock(id='toolu_01BHcTJivXL9B11edHZatQAR', input={'a': 1}, name='sums', type='tool_use')\n",
       "\n",
       "| Metric | Count | Cost (USD) |\n",
       "|--------|------:|-----:|\n",
       "| Input tokens | 5,860 | 0.017580 |\n",
       "| Output tokens | 1,475 | 0.022125 |\n",
       "| Cache tokens | 0 | 0.000000 |\n",
       "| **Total** | **7,335** | **$0.039705** |"
      ],
      "text/plain": [
       "<__main__.Client>"
      ]
     },
     "execution_count": null,
     "metadata": {},
     "output_type": "execute_result"
    }
   ],
   "source": [
    "c"
   ]
  },
  {
   "cell_type": "markdown",
   "id": "df5211d9",
   "metadata": {},
   "source": [
    "## Custom Types with Tools Use"
   ]
  },
  {
   "cell_type": "markdown",
   "id": "06fe1763",
   "metadata": {},
   "source": [
    "We need to add tool support for custom types too. Let's test out custom types using a minimal example."
   ]
  },
  {
   "cell_type": "code",
   "execution_count": null,
   "id": "13d08aba",
   "metadata": {},
   "outputs": [],
   "source": [
    "class Book(BasicRepr):\n",
    "    def __init__(self, title: str, pages: int): store_attr()\n",
    "    def __repr__(self):\n",
    "        return f\"Book Title : {self.title}\\nNumber of Pages : {self.pages}\""
   ]
  },
  {
   "cell_type": "code",
   "execution_count": null,
   "id": "effd7f47",
   "metadata": {},
   "outputs": [
    {
     "data": {
      "text/plain": [
       "Book Title : War and Peace\n",
       "Number of Pages : 950"
      ]
     },
     "execution_count": null,
     "metadata": {},
     "output_type": "execute_result"
    }
   ],
   "source": [
    "Book(\"War and Peace\", 950)"
   ]
  },
  {
   "cell_type": "code",
   "execution_count": null,
   "id": "465abf5b",
   "metadata": {},
   "outputs": [],
   "source": [
    "def find_page(book: Book, # The book to find the halfway point of\n",
    "              percent: int, # Percent of a book to read to, e.g. halfway == 50, \n",
    ") -> int:\n",
    "    \"The page number corresponding to `percent` completion of a book\"\n",
    "    return round(book.pages * (percent / 100.0))"
   ]
  },
  {
   "cell_type": "code",
   "execution_count": null,
   "id": "011f74a8",
   "metadata": {},
   "outputs": [
    {
     "data": {
      "text/plain": [
       "{'name': 'find_page',\n",
       " 'description': 'The page number corresponding to `percent` completion of a book\\n\\nReturns:\\n- type: integer',\n",
       " 'input_schema': {'type': 'object',\n",
       "  'properties': {'book': {'type': 'object',\n",
       "    'description': 'The book to find the halfway point of',\n",
       "    '$ref': '#/$defs/Book'},\n",
       "   'percent': {'type': 'integer',\n",
       "    'description': 'Percent of a book to read to, e.g. halfway == 50,'}},\n",
       "  'title': None,\n",
       "  'required': ['book', 'percent'],\n",
       "  '$defs': {'Book': {'type': 'object',\n",
       "    'properties': {'title': {'type': 'string', 'description': ''},\n",
       "     'pages': {'type': 'integer', 'description': ''}},\n",
       "    'title': 'Book',\n",
       "    'required': ['title', 'pages']}}}}"
      ]
     },
     "execution_count": null,
     "metadata": {},
     "output_type": "execute_result"
    }
   ],
   "source": [
    "get_schema(find_page)"
   ]
  },
  {
   "cell_type": "code",
   "execution_count": null,
   "id": "c39dac76",
   "metadata": {},
   "outputs": [
    {
     "data": {
      "text/plain": [
       "{'type': 'tool', 'name': 'find_page'}"
      ]
     },
     "execution_count": null,
     "metadata": {},
     "output_type": "execute_result"
    }
   ],
   "source": [
    "choice = mk_tool_choice('find_page')\n",
    "choice"
   ]
  },
  {
   "cell_type": "markdown",
   "id": "c0795da1",
   "metadata": {},
   "source": [
    "Claudette will pack objects as dict, so we'll transform tool functions with user-defined types into tool functions that accept a dict in lieu of the user-defined type.\n",
    "\n",
    "First let's convert a single argument:"
   ]
  },
  {
   "cell_type": "code",
   "execution_count": null,
   "id": "a8f64918",
   "metadata": {},
   "outputs": [],
   "source": [
    "#| export\n",
    "def _is_builtin(tp: type):\n",
    "    \"Returns True for built in primitive types or containers\"\n",
    "    return (tp in (str, int, float, bool, complex) or tp is None\n",
    "        or getattr(tp, '__origin__', None) is not None)  # Pass through all container types\n",
    "\n",
    "def _convert(val: Dict, # dictionary argument being passed in\n",
    "            tp: type): # type of the tool function input\n",
    "    \"Convert converts a single argument\"\n",
    "    if val is None or _is_builtin(tp) or not isinstance(val, dict): return val\n",
    "    return tp(**val)"
   ]
  },
  {
   "cell_type": "markdown",
   "id": "fbb1fd24",
   "metadata": {},
   "source": [
    "`_is_builtin` decides whether to pass an argument through as-is. Let's check the argument conversion:"
   ]
  },
  {
   "cell_type": "code",
   "execution_count": null,
   "id": "e6182cae",
   "metadata": {},
   "outputs": [
    {
     "data": {
      "text/plain": [
       "(True, False, True)"
      ]
     },
     "execution_count": null,
     "metadata": {},
     "output_type": "execute_result"
    }
   ],
   "source": [
    "(_is_builtin(int), _is_builtin(Book), _is_builtin(List))"
   ]
  },
  {
   "cell_type": "code",
   "execution_count": null,
   "id": "30bcf8cd",
   "metadata": {},
   "outputs": [
    {
     "data": {
      "text/plain": [
       "(555,\n",
       " Book Title : War and Peace\n",
       " Number of Pages : 923,\n",
       " [1, 2, 3, 4])"
      ]
     },
     "execution_count": null,
     "metadata": {},
     "output_type": "execute_result"
    }
   ],
   "source": [
    "(_convert(555, int),\n",
    " _convert({\"title\": \"War and Peace\", \"pages\": 923}, Book),\n",
    " _convert([1, 2, 3, 4], List))"
   ]
  },
  {
   "cell_type": "markdown",
   "id": "21d4ed6a",
   "metadata": {},
   "source": [
    "To apply `tool()` to a function is to return a new function where the user-defined types are replaced with dictionary inputs."
   ]
  },
  {
   "cell_type": "code",
   "execution_count": null,
   "id": "ad70d01a",
   "metadata": {},
   "outputs": [],
   "source": [
    "#| export\n",
    "def tool(func):\n",
    "    if isinstance(func, dict): return func # it's a schema, so don't change\n",
    "    hints = get_type_hints(func)\n",
    "    @wraps(func)\n",
    "    def wrapper(*args, **kwargs):\n",
    "        new_args = [_convert(arg, hints[p]) for p,arg in zip(inspect.signature(func).parameters, args)]\n",
    "        new_kwargs = {k: _convert(v, hints[k]) if k in hints else v for k,v in kwargs.items()}\n",
    "        return func(*new_args, **new_kwargs)\n",
    "    return wrapper"
   ]
  },
  {
   "cell_type": "markdown",
   "id": "a80c69d7",
   "metadata": {},
   "source": [
    "A function is transformed into a function with dict arguments substituted for user-defined types. Built-in types such as `percent` here are left untouched."
   ]
  },
  {
   "cell_type": "code",
   "execution_count": null,
   "id": "dbe72ab6",
   "metadata": {},
   "outputs": [
    {
     "data": {
      "text/plain": [
       "475"
      ]
     },
     "execution_count": null,
     "metadata": {},
     "output_type": "execute_result"
    }
   ],
   "source": [
    "find_page(book=Book(\"War and Peace\", 950), percent=50)"
   ]
  },
  {
   "cell_type": "code",
   "execution_count": null,
   "id": "261f3253",
   "metadata": {},
   "outputs": [
    {
     "data": {
      "text/plain": [
       "475"
      ]
     },
     "execution_count": null,
     "metadata": {},
     "output_type": "execute_result"
    }
   ],
   "source": [
    "tool(find_page)({\"title\": \"War and Peace\", \"pages\": 950}, percent=50)"
   ]
  },
  {
   "cell_type": "markdown",
   "id": "6428afcb",
   "metadata": {},
   "source": [
    "By passing tools wrapped by `tool()`, user-defined types now work completes without failing in tool calls."
   ]
  },
  {
   "cell_type": "code",
   "execution_count": null,
   "id": "48cdcfc2",
   "metadata": {},
   "outputs": [
    {
     "data": {
      "text/plain": [
       "<function __main__.find_page(book: __main__.Book, percent: int) -> int>"
      ]
     },
     "execution_count": null,
     "metadata": {},
     "output_type": "execute_result"
    }
   ],
   "source": [
    "pr = \"How many pages do I have to read to get halfway through my 950 page copy of War and Peace\"\n",
    "tools = tool(find_page)\n",
    "tools"
   ]
  },
  {
   "cell_type": "code",
   "execution_count": null,
   "id": "848a319e",
   "metadata": {},
   "outputs": [
    {
     "data": {
      "text/plain": [
       "ToolUseBlock(id='toolu_01SLifs64MUvBvYei5h7DY7r', input={'book': {'title': 'War and Peace', 'pages': 950}, 'percent': 50}, name='find_page', type='tool_use')"
      ]
     },
     "execution_count": null,
     "metadata": {},
     "output_type": "execute_result"
    }
   ],
   "source": [
    "r = c(pr, tools=[tools])\n",
    "find_block(r, ToolUseBlock)"
   ]
  },
  {
   "cell_type": "code",
   "execution_count": null,
   "id": "209fbdf0",
   "metadata": {},
   "outputs": [
    {
     "data": {
      "text/plain": [
       "[{'role': 'assistant',\n",
       "  'content': [{'citations': None,\n",
       "    'text': 'I can help you find the halfway point of your book. Let me calculate how many pages you need to read to get halfway through your 950-page copy of War and Peace.',\n",
       "    'type': 'text'},\n",
       "   {'id': 'toolu_01SLifs64MUvBvYei5h7DY7r',\n",
       "    'input': {'book': {'title': 'War and Peace', 'pages': 950}, 'percent': 50},\n",
       "    'name': 'find_page',\n",
       "    'type': 'tool_use'}]},\n",
       " {'role': 'user',\n",
       "  'content': [{'type': 'tool_result',\n",
       "    'tool_use_id': 'toolu_01SLifs64MUvBvYei5h7DY7r',\n",
       "    'content': '475'}]}]"
      ]
     },
     "execution_count": null,
     "metadata": {},
     "output_type": "execute_result"
    }
   ],
   "source": [
    "tr = mk_toolres(r, ns=[tools])\n",
    "tr"
   ]
  },
  {
   "cell_type": "code",
   "execution_count": null,
   "id": "8abdec8a",
   "metadata": {},
   "outputs": [
    {
     "data": {
      "text/plain": [
       "'You need to read 475 pages to reach the halfway point of your 950-page copy of War and Peace.'"
      ]
     },
     "execution_count": null,
     "metadata": {},
     "output_type": "execute_result"
    }
   ],
   "source": [
    "msgs = [pr]+tr\n",
    "contents(c(msgs, sp=sp, tools=[tools]))"
   ]
  },
  {
   "cell_type": "markdown",
   "id": "4ea144b8",
   "metadata": {},
   "source": [
    "## Chat"
   ]
  },
  {
   "cell_type": "markdown",
   "id": "419fab81",
   "metadata": {},
   "source": [
    "Rather than manually adding the responses to a dialog, we'll create a simple `Chat` class to do that for us, each time we make a request. We'll also store the system prompt and tools here, to avoid passing them every time."
   ]
  },
  {
   "cell_type": "code",
   "execution_count": null,
   "id": "755dd2a1",
   "metadata": {},
   "outputs": [],
   "source": [
    "#| export\n",
    "class Chat:\n",
    "    def __init__(self,\n",
    "                 model:Optional[str]=None, # Model to use (leave empty if passing `cli`)\n",
    "                 cli:Optional[Client]=None, # Client to use (leave empty if passing `model`)\n",
    "                 sp='', # Optional system prompt\n",
    "                 tools:Optional[list]=None, # List of tools to make available to Claude\n",
    "                 temp=0, # Temperature\n",
    "                 cont_pr:Optional[str]=None, # User prompt to continue an assistant response\n",
    "                 cache: bool = False,  # Use Claude cache?\n",
    "                 hist: list = None,  # Initialize history\n",
    "                 ns:Optional[abc.Mapping]=None # Namespace to search for tools\n",
    "                ):\n",
    "        \"Anthropic chat client.\"\n",
    "        assert model or cli\n",
    "        assert cont_pr != \"\", \"cont_pr may not be an empty string\"\n",
    "        self.c = (cli or Client(model, cache=cache))\n",
    "        if hist is None: hist=[]\n",
    "        if tools: tools = [tool(t) for t in tools]\n",
    "        if ns is None: ns=tools\n",
    "        self.h,self.sp,self.tools,self.cont_pr,self.temp,self.cache,self.ns = hist,sp,tools,cont_pr,temp,cache,ns\n",
    "\n",
    "    @property\n",
    "    def use(self): return self.c.use"
   ]
  },
  {
   "cell_type": "markdown",
   "id": "c3f16d4e",
   "metadata": {},
   "source": [
    "The class stores the `Client` that will provide the responses in `c`, and a history of messages in `h`."
   ]
  },
  {
   "cell_type": "code",
   "execution_count": null,
   "id": "04b837c5",
   "metadata": {},
   "outputs": [
    {
     "data": {
      "text/plain": [
       "(In: 0; Out: 0; Cache create: 0; Cache read: 0; Total: 0, [])"
      ]
     },
     "execution_count": null,
     "metadata": {},
     "output_type": "execute_result"
    }
   ],
   "source": [
    "sp = \"Never mention what tools you use.\"\n",
    "chat = Chat(model, sp=sp)\n",
    "chat.c.use, chat.h"
   ]
  },
  {
   "cell_type": "code",
   "execution_count": null,
   "id": "10360d53",
   "metadata": {},
   "outputs": [
    {
     "data": {
      "text/plain": [
       "0.0"
      ]
     },
     "execution_count": null,
     "metadata": {},
     "output_type": "execute_result"
    }
   ],
   "source": [
    "chat.c.use.cost(pricing[model_types[chat.c.model]])"
   ]
  },
  {
   "cell_type": "markdown",
   "id": "8b36fcec",
   "metadata": {},
   "source": [
    "This is clunky. Let's add `cost` as a property for the `Chat` class. It will pass in the appropriate prices for the current model to the usage cost calculator."
   ]
  },
  {
   "cell_type": "code",
   "execution_count": null,
   "id": "aae25dd2",
   "metadata": {},
   "outputs": [],
   "source": [
    "#| exports\n",
    "@patch(as_prop=True)\n",
    "def cost(self: Chat) -> float: return self.c.cost"
   ]
  },
  {
   "cell_type": "code",
   "execution_count": null,
   "id": "793d2f2d",
   "metadata": {},
   "outputs": [
    {
     "data": {
      "text/plain": [
       "0.0"
      ]
     },
     "execution_count": null,
     "metadata": {},
     "output_type": "execute_result"
    }
   ],
   "source": [
    "chat.cost"
   ]
  },
  {
   "cell_type": "code",
   "execution_count": null,
   "id": "42a05df9",
   "metadata": {},
   "outputs": [],
   "source": [
    "#| exports\n",
    "@patch\n",
    "def _stream(self:Chat, res):\n",
    "    yield from res\n",
    "    self.h += mk_toolres(self.c.result, ns=self.tools, obj=self)"
   ]
  },
  {
   "cell_type": "code",
   "execution_count": null,
   "id": "d0178ee1",
   "metadata": {},
   "outputs": [],
   "source": [
    "#| exports\n",
    "@patch\n",
    "def _post_pr(self:Chat, pr, prev_role):\n",
    "    if pr is None and prev_role == 'assistant':\n",
    "        if self.cont_pr is None:\n",
    "            raise ValueError(\"Prompt must be given after assistant completion, or use `self.cont_pr`.\")\n",
    "        pr = self.cont_pr # No user prompt, keep the chain\n",
    "    if pr: self.h.append(mk_msg(pr, cache=self.cache))"
   ]
  },
  {
   "cell_type": "code",
   "execution_count": null,
   "id": "1b5c04e6",
   "metadata": {},
   "outputs": [],
   "source": [
    "#| exports\n",
    "@patch\n",
    "def _append_pr(self:Chat,\n",
    "               pr=None,  # Prompt / message\n",
    "              ):\n",
    "    prev_role = nested_idx(self.h, -1, 'role') if self.h else 'assistant' # First message should be 'user'\n",
    "    if pr and prev_role == 'user': self() # already user request pending\n",
    "    self._post_pr(pr, prev_role)"
   ]
  },
  {
   "cell_type": "code",
   "execution_count": null,
   "id": "a9bcc67a",
   "metadata": {},
   "outputs": [],
   "source": [
    "#| exports\n",
    "@patch\n",
    "def __call__(self:Chat,\n",
    "             pr=None,  # Prompt / message\n",
    "             temp=None, # Temperature\n",
    "             maxtok=4096, # Maximum tokens\n",
    "             maxthinktok=0, # Maximum thinking tokens\n",
    "             stream=False, # Stream response?\n",
    "             prefill='', # Optional prefill to pass to Claude as start of its response\n",
    "             tool_choice:Optional[dict]=None, # Optionally force use of some tool\n",
    "             **kw):\n",
    "    if temp is None: temp=self.temp\n",
    "    self._append_pr(pr)\n",
    "    res = self.c(self.h, stream=stream, prefill=prefill, sp=self.sp, temp=temp, maxtok=maxtok, maxthinktok=maxthinktok, tools=self.tools, tool_choice=tool_choice,**kw)\n",
    "    if stream: return self._stream(res)\n",
    "    self.h += mk_toolres(self.c.result, ns=self.ns)\n",
    "    return res"
   ]
  },
  {
   "cell_type": "markdown",
   "id": "f97c5cd7",
   "metadata": {},
   "source": [
    "The `__call__` method just passes the request along to the `Client`, but rather than just passing in this one prompt, it appends it to the history and passes it all along. As a result, we now have state!"
   ]
  },
  {
   "cell_type": "code",
   "execution_count": null,
   "id": "cb393257",
   "metadata": {},
   "outputs": [],
   "source": [
    "chat = Chat(model, sp=sp)"
   ]
  },
  {
   "cell_type": "code",
   "execution_count": null,
   "id": "40073f42",
   "metadata": {},
   "outputs": [
    {
     "data": {
      "text/markdown": [
       "Your name is Jeremy, as you mentioned in your previous message.\n",
       "\n",
       "<details>\n",
       "\n",
       "- id: `msg_01UjYpWR1tvcdyTx1VnpcyX3`\n",
       "- content: `[{'citations': None, 'text': 'Your name is Jeremy, as you mentioned in your previous message.', 'type': 'text'}]`\n",
       "- model: `claude-3-7-sonnet-20250219`\n",
       "- role: `assistant`\n",
       "- stop_reason: `end_turn`\n",
       "- stop_sequence: `None`\n",
       "- type: `message`\n",
       "- usage: `{'cache_creation_input_tokens': 0, 'cache_read_input_tokens': 0, 'input_tokens': 59, 'output_tokens': 16}`\n",
       "\n",
       "</details>"
      ],
      "text/plain": [
       "Message(id='msg_01UjYpWR1tvcdyTx1VnpcyX3', content=[TextBlock(citations=None, text='Your name is Jeremy, as you mentioned in your previous message.', type='text')], model='claude-3-7-sonnet-20250219', role='assistant', stop_reason='end_turn', stop_sequence=None, type='message', usage=In: 59; Out: 16; Cache create: 0; Cache read: 0; Total: 75)"
      ]
     },
     "execution_count": null,
     "metadata": {},
     "output_type": "execute_result"
    }
   ],
   "source": [
    "chat(\"I'm Jeremy\")\n",
    "chat(\"What's my name?\")"
   ]
  },
  {
   "cell_type": "code",
   "execution_count": null,
   "id": "5457b51d",
   "metadata": {},
   "outputs": [
    {
     "data": {
      "text/plain": [
       "(In: 76; Out: 50; Cache create: 0; Cache read: 0; Total: 126, 0.000978)"
      ]
     },
     "execution_count": null,
     "metadata": {},
     "output_type": "execute_result"
    }
   ],
   "source": [
    "chat.use, chat.cost"
   ]
  },
  {
   "cell_type": "markdown",
   "id": "a7df0327",
   "metadata": {},
   "source": [
    "Let's try out prefill too:"
   ]
  },
  {
   "cell_type": "code",
   "execution_count": null,
   "id": "20a32de0",
   "metadata": {},
   "outputs": [],
   "source": [
    "q = \"Concisely, what is the meaning of life?\"\n",
    "pref = 'According to Douglas Adams,'"
   ]
  },
  {
   "cell_type": "code",
   "execution_count": null,
   "id": "b07bce62",
   "metadata": {},
   "outputs": [
    {
     "data": {
      "text/markdown": [
       "Your name is Jeremy, as you mentioned in your previous message.\n",
       "\n",
       "<details>\n",
       "\n",
       "- id: `msg_01UjYpWR1tvcdyTx1VnpcyX3`\n",
       "- content: `[{'citations': None, 'text': 'Your name is Jeremy, as you mentioned in your previous message.', 'type': 'text'}]`\n",
       "- model: `claude-3-7-sonnet-20250219`\n",
       "- role: `assistant`\n",
       "- stop_reason: `end_turn`\n",
       "- stop_sequence: `None`\n",
       "- type: `message`\n",
       "- usage: `{'cache_creation_input_tokens': 0, 'cache_read_input_tokens': 0, 'input_tokens': 59, 'output_tokens': 16}`\n",
       "\n",
       "</details>"
      ],
      "text/plain": [
       "Message(id='msg_01UjYpWR1tvcdyTx1VnpcyX3', content=[TextBlock(citations=None, text='Your name is Jeremy, as you mentioned in your previous message.', type='text')], model='claude-3-7-sonnet-20250219', role='assistant', stop_reason='end_turn', stop_sequence=None, type='message', usage=In: 59; Out: 16; Cache create: 0; Cache read: 0; Total: 75)"
      ]
     },
     "execution_count": null,
     "metadata": {},
     "output_type": "execute_result"
    }
   ],
   "source": [
    "chat.c.result"
   ]
  },
  {
   "cell_type": "code",
   "execution_count": null,
   "id": "9b28705d",
   "metadata": {},
   "outputs": [
    {
     "data": {
      "text/markdown": [
       "According to Douglas Adams,  42. More seriously, the meaning of life is likely what you create through your relationships, pursuits, and values.\n",
       "\n",
       "<details>\n",
       "\n",
       "- id: `msg_01QE235P5fLb9rUZXdfP5JiQ`\n",
       "- content: `[{'citations': None, 'text': 'According to Douglas Adams,  42. More seriously, the meaning of life is likely what you create through your relationships, pursuits, and values.', 'type': 'text'}]`\n",
       "- model: `claude-3-7-sonnet-20250219`\n",
       "- role: `assistant`\n",
       "- stop_reason: `end_turn`\n",
       "- stop_sequence: `None`\n",
       "- type: `message`\n",
       "- usage: `{'cache_creation_input_tokens': 0, 'cache_read_input_tokens': 0, 'input_tokens': 95, 'output_tokens': 28}`\n",
       "\n",
       "</details>"
      ],
      "text/plain": [
       "Message(id='msg_01QE235P5fLb9rUZXdfP5JiQ', content=[TextBlock(citations=None, text='According to Douglas Adams,  42. More seriously, the meaning of life is likely what you create through your relationships, pursuits, and values.', type='text')], model='claude-3-7-sonnet-20250219', role='assistant', stop_reason='end_turn', stop_sequence=None, type='message', usage=In: 95; Out: 28; Cache create: 0; Cache read: 0; Total: 123)"
      ]
     },
     "execution_count": null,
     "metadata": {},
     "output_type": "execute_result"
    }
   ],
   "source": [
    "chat(q, prefill=pref)"
   ]
  },
  {
   "cell_type": "markdown",
   "id": "fbd28a97",
   "metadata": {},
   "source": [
    "By default messages must be in user, assistant, user format. If this isn't followed (aka calling `chat()` without a user message) it will error out:"
   ]
  },
  {
   "cell_type": "code",
   "execution_count": null,
   "id": "c3761928",
   "metadata": {},
   "outputs": [
    {
     "name": "stdout",
     "output_type": "stream",
     "text": [
      "Error: Prompt must be given after assistant completion, or use `self.cont_pr`.\n"
     ]
    }
   ],
   "source": [
    "try: chat()\n",
    "except ValueError as e: print(\"Error:\", e)"
   ]
  },
  {
   "cell_type": "markdown",
   "id": "4d57b5c7",
   "metadata": {},
   "source": [
    "Setting `cont_pr` allows a \"default prompt\" to be specified when a prompt isn't specified. Usually used to prompt the model to continue."
   ]
  },
  {
   "cell_type": "code",
   "execution_count": null,
   "id": "54c5a2bc",
   "metadata": {},
   "outputs": [
    {
     "data": {
      "text/markdown": [
       "The meaning of life varies across philosophical traditions: finding happiness, serving others, seeking knowledge, fulfilling one's potential, or connecting with something greater than oneself. Ultimately, many find meaning in personal growth, loving relationships, contributing to society, and pursuing what brings them authentic fulfillment. There's no universal answer—each person must discover or create their own meaning.\n",
       "\n",
       "<details>\n",
       "\n",
       "- id: `msg_01W4YBWqHY2WqESLgPjbHAH5`\n",
       "- content: `[{'citations': None, 'text': \"The meaning of life varies across philosophical traditions: finding happiness, serving others, seeking knowledge, fulfilling one's potential, or connecting with something greater than oneself. Ultimately, many find meaning in personal growth, loving relationships, contributing to society, and pursuing what brings them authentic fulfillment. There's no universal answer—each person must discover or create their own meaning.\", 'type': 'text'}]`\n",
       "- model: `claude-3-7-sonnet-20250219`\n",
       "- role: `assistant`\n",
       "- stop_reason: `end_turn`\n",
       "- stop_sequence: `None`\n",
       "- type: `message`\n",
       "- usage: `{'cache_creation_input_tokens': 0, 'cache_read_input_tokens': 0, 'input_tokens': 129, 'output_tokens': 79}`\n",
       "\n",
       "</details>"
      ],
      "text/plain": [
       "Message(id='msg_01W4YBWqHY2WqESLgPjbHAH5', content=[TextBlock(citations=None, text=\"The meaning of life varies across philosophical traditions: finding happiness, serving others, seeking knowledge, fulfilling one's potential, or connecting with something greater than oneself. Ultimately, many find meaning in personal growth, loving relationships, contributing to society, and pursuing what brings them authentic fulfillment. There's no universal answer—each person must discover or create their own meaning.\", type='text')], model='claude-3-7-sonnet-20250219', role='assistant', stop_reason='end_turn', stop_sequence=None, type='message', usage=In: 129; Out: 79; Cache create: 0; Cache read: 0; Total: 208)"
      ]
     },
     "execution_count": null,
     "metadata": {},
     "output_type": "execute_result"
    }
   ],
   "source": [
    "chat.cont_pr = \"keep going...\"\n",
    "chat()"
   ]
  },
  {
   "cell_type": "markdown",
   "id": "776b3d1e",
   "metadata": {},
   "source": [
    "We can also use streaming:"
   ]
  },
  {
   "cell_type": "code",
   "execution_count": null,
   "id": "529104ec",
   "metadata": {},
   "outputs": [
    {
     "name": "stdout",
     "output_type": "stream",
     "text": [
      "Hello Jeremy! It's nice to meet you. How are you doing today? Is there something I can help you with or would you like to chat?"
     ]
    }
   ],
   "source": [
    "chat = Chat(model, sp=sp)\n",
    "for o in chat(\"I'm Jeremy\", stream=True): print(o, end='')"
   ]
  },
  {
   "cell_type": "code",
   "execution_count": null,
   "id": "14abb3dc",
   "metadata": {},
   "outputs": [
    {
     "name": "stdout",
     "output_type": "stream",
     "text": [
      "According to Douglas Adams,  it's 42. More seriously, the meaning of life is deeply personal - many find it in relationships, creating positive impact, pursuing passions, or spiritual fulfillment. There's no universal answer; meaning is what you choose to create."
     ]
    }
   ],
   "source": [
    "for o in chat(q, prefill=pref, stream=True): print(o, end='')"
   ]
  },
  {
   "cell_type": "markdown",
   "id": "0acdca39",
   "metadata": {},
   "source": [
    "You can provide a history of messages to initialise `Chat` with:"
   ]
  },
  {
   "cell_type": "code",
   "execution_count": null,
   "id": "32814e78",
   "metadata": {},
   "outputs": [
    {
     "data": {
      "text/markdown": [
       "I didn't actually know your name! I was just making a random guess for fun. It's quite surprising that I happened to guess correctly. What are the chances?\n",
       "\n",
       "If you'd like, you can tell me a bit about yourself, Merlin. It's nice to meet you!\n",
       "\n",
       "<details>\n",
       "\n",
       "- id: `msg_01Rz8NWwvYGocVTdVbtggBqB`\n",
       "- content: `[{'citations': None, 'text': \"I didn't actually know your name! I was just making a random guess for fun. It's quite surprising that I happened to guess correctly. What are the chances?\\n\\nIf you'd like, you can tell me a bit about yourself, Merlin. It's nice to meet you!\", 'type': 'text'}]`\n",
       "- model: `claude-3-7-sonnet-20250219`\n",
       "- role: `assistant`\n",
       "- stop_reason: `end_turn`\n",
       "- stop_sequence: `None`\n",
       "- type: `message`\n",
       "- usage: `{'cache_creation_input_tokens': 0, 'cache_read_input_tokens': 0, 'input_tokens': 58, 'output_tokens': 63}`\n",
       "\n",
       "</details>"
      ],
      "text/plain": [
       "Message(id='msg_01Rz8NWwvYGocVTdVbtggBqB', content=[TextBlock(citations=None, text=\"I didn't actually know your name! I was just making a random guess for fun. It's quite surprising that I happened to guess correctly. What are the chances?\\n\\nIf you'd like, you can tell me a bit about yourself, Merlin. It's nice to meet you!\", type='text')], model='claude-3-7-sonnet-20250219', role='assistant', stop_reason='end_turn', stop_sequence=None, type='message', usage=In: 58; Out: 63; Cache create: 0; Cache read: 0; Total: 121)"
      ]
     },
     "execution_count": null,
     "metadata": {},
     "output_type": "execute_result"
    }
   ],
   "source": [
    "chat = Chat(model, sp=sp, hist=[\"Can you guess my name?\", \"Hmmm I really don't know. Is it 'Merlin G. Penfolds'?\"])\n",
    "chat('Wow how did you know?')"
   ]
  },
  {
   "cell_type": "markdown",
   "id": "6b40892f",
   "metadata": {},
   "source": [
    "### Chat tool use"
   ]
  },
  {
   "cell_type": "markdown",
   "id": "062f7edf",
   "metadata": {},
   "source": [
    "We automagically get streamlined tool use as well:"
   ]
  },
  {
   "cell_type": "code",
   "execution_count": null,
   "id": "ee6535cf",
   "metadata": {},
   "outputs": [
    {
     "data": {
      "text/plain": [
       "'What is 604542+6458932?'"
      ]
     },
     "execution_count": null,
     "metadata": {},
     "output_type": "execute_result"
    }
   ],
   "source": [
    "pr = f\"What is {a}+{b}?\"\n",
    "pr"
   ]
  },
  {
   "cell_type": "code",
   "execution_count": null,
   "id": "797741c5",
   "metadata": {},
   "outputs": [
    {
     "name": "stdout",
     "output_type": "stream",
     "text": [
      "Finding the sum of 604542 and 6458932\n"
     ]
    },
    {
     "data": {
      "text/markdown": [
       "I'll calculate the sum of 604542 and 6458932 for you.\n",
       "\n",
       "<details>\n",
       "\n",
       "- id: `msg_01DA1LUXyeaq7krh7mpVXs8z`\n",
       "- content: `[{'citations': None, 'text': \"I'll calculate the sum of 604542 and 6458932 for you.\", 'type': 'text'}, {'id': 'toolu_013XVZ46S4N66P3EybC8uL6D', 'input': {'a': 604542, 'b': 6458932}, 'name': 'sums', 'type': 'tool_use'}]`\n",
       "- model: `claude-3-7-sonnet-20250219`\n",
       "- role: `assistant`\n",
       "- stop_reason: `tool_use`\n",
       "- stop_sequence: `None`\n",
       "- type: `message`\n",
       "- usage: `{'cache_creation_input_tokens': 0, 'cache_read_input_tokens': 0, 'input_tokens': 437, 'output_tokens': 92}`\n",
       "\n",
       "</details>"
      ],
      "text/plain": [
       "Message(id='msg_01DA1LUXyeaq7krh7mpVXs8z', content=[TextBlock(citations=None, text=\"I'll calculate the sum of 604542 and 6458932 for you.\", type='text'), ToolUseBlock(id='toolu_013XVZ46S4N66P3EybC8uL6D', input={'a': 604542, 'b': 6458932}, name='sums', type='tool_use')], model='claude-3-7-sonnet-20250219', role='assistant', stop_reason='tool_use', stop_sequence=None, type='message', usage=In: 437; Out: 92; Cache create: 0; Cache read: 0; Total: 529)"
      ]
     },
     "execution_count": null,
     "metadata": {},
     "output_type": "execute_result"
    }
   ],
   "source": [
    "chat = Chat(model, sp=sp, tools=[sums])\n",
    "r = chat(pr)\n",
    "r"
   ]
  },
  {
   "cell_type": "markdown",
   "id": "ff5513be",
   "metadata": {},
   "source": [
    "Now we need to send this result to Claude—calling the object with no parameters tells it to return the tool result to Claude:"
   ]
  },
  {
   "cell_type": "code",
   "execution_count": null,
   "id": "b091eae0",
   "metadata": {},
   "outputs": [
    {
     "data": {
      "text/markdown": [
       "The sum of 604542 and 6458932 is 7,063,474.\n",
       "\n",
       "<details>\n",
       "\n",
       "- id: `msg_01L5h1sQ9byNK6KFmbPRo1FS`\n",
       "- content: `[{'citations': None, 'text': 'The sum of 604542 and 6458932 is 7,063,474.', 'type': 'text'}]`\n",
       "- model: `claude-3-7-sonnet-20250219`\n",
       "- role: `assistant`\n",
       "- stop_reason: `end_turn`\n",
       "- stop_sequence: `None`\n",
       "- type: `message`\n",
       "- usage: `{'cache_creation_input_tokens': 0, 'cache_read_input_tokens': 0, 'input_tokens': 543, 'output_tokens': 25}`\n",
       "\n",
       "</details>"
      ],
      "text/plain": [
       "Message(id='msg_01L5h1sQ9byNK6KFmbPRo1FS', content=[TextBlock(citations=None, text='The sum of 604542 and 6458932 is 7,063,474.', type='text')], model='claude-3-7-sonnet-20250219', role='assistant', stop_reason='end_turn', stop_sequence=None, type='message', usage=In: 543; Out: 25; Cache create: 0; Cache read: 0; Total: 568)"
      ]
     },
     "execution_count": null,
     "metadata": {},
     "output_type": "execute_result"
    }
   ],
   "source": [
    "chat()"
   ]
  },
  {
   "cell_type": "markdown",
   "id": "8e551677",
   "metadata": {},
   "source": [
    "It should be correct, because it actually used our Python function to do the addition. Let's check:"
   ]
  },
  {
   "cell_type": "code",
   "execution_count": null,
   "id": "06bfbf3d",
   "metadata": {},
   "outputs": [
    {
     "data": {
      "text/plain": [
       "7063474"
      ]
     },
     "execution_count": null,
     "metadata": {},
     "output_type": "execute_result"
    }
   ],
   "source": [
    "a+b"
   ]
  },
  {
   "cell_type": "markdown",
   "id": "445b2aa2",
   "metadata": {},
   "source": [
    "Let's test a function with user defined types."
   ]
  },
  {
   "cell_type": "code",
   "execution_count": null,
   "id": "d4db78d9",
   "metadata": {},
   "outputs": [
    {
     "data": {
      "text/markdown": [
       "To find out how many pages is three quarters of the way through your 80-page edition of Tao Te Ching, I'll calculate that for you.\n",
       "\n",
       "<details>\n",
       "\n",
       "- id: `msg_014bgo3UaMgWjsXt13B6tZpT`\n",
       "- content: `[{'citations': None, 'text': \"To find out how many pages is three quarters of the way through your 80-page edition of Tao Te Ching, I'll calculate that for you.\", 'type': 'text'}, {'id': 'toolu_01Gefx58XycNv3fgF2932afZ', 'input': {'book': {'title': 'Tao Te Ching', 'pages': 80}, 'percent': 75}, 'name': 'find_page', 'type': 'tool_use'}]`\n",
       "- model: `claude-3-7-sonnet-20250219`\n",
       "- role: `assistant`\n",
       "- stop_reason: `tool_use`\n",
       "- stop_sequence: `None`\n",
       "- type: `message`\n",
       "- usage: `{'cache_creation_input_tokens': 0, 'cache_read_input_tokens': 0, 'input_tokens': 547, 'output_tokens': 122}`\n",
       "\n",
       "</details>"
      ],
      "text/plain": [
       "Message(id='msg_014bgo3UaMgWjsXt13B6tZpT', content=[TextBlock(citations=None, text=\"To find out how many pages is three quarters of the way through your 80-page edition of Tao Te Ching, I'll calculate that for you.\", type='text'), ToolUseBlock(id='toolu_01Gefx58XycNv3fgF2932afZ', input={'book': {'title': 'Tao Te Ching', 'pages': 80}, 'percent': 75}, name='find_page', type='tool_use')], model='claude-3-7-sonnet-20250219', role='assistant', stop_reason='tool_use', stop_sequence=None, type='message', usage=In: 547; Out: 122; Cache create: 0; Cache read: 0; Total: 669)"
      ]
     },
     "execution_count": null,
     "metadata": {},
     "output_type": "execute_result"
    }
   ],
   "source": [
    "chat = Chat(model, sp=sp, tools=[find_page])\n",
    "r = chat(\"How many pages is three quarters of the way through my 80 page edition of Tao Te Ching?\")\n",
    "r"
   ]
  },
  {
   "cell_type": "markdown",
   "id": "6486462c",
   "metadata": {},
   "source": [
    "Now we need to send this result to Claude—calling the object with no parameters tells it to return the tool result to Claude:"
   ]
  },
  {
   "cell_type": "code",
   "execution_count": null,
   "id": "0979c832",
   "metadata": {},
   "outputs": [
    {
     "data": {
      "text/markdown": [
       "Three quarters (75%) of the way through your 80-page edition of Tao Te Ching would be page 60.\n",
       "\n",
       "<details>\n",
       "\n",
       "- id: `msg_01KKpP7x8hKhjNPLt7NBxMuJ`\n",
       "- content: `[{'citations': None, 'text': 'Three quarters (75%) of the way through your 80-page edition of Tao Te Ching would be page 60.', 'type': 'text'}]`\n",
       "- model: `claude-3-7-sonnet-20250219`\n",
       "- role: `assistant`\n",
       "- stop_reason: `end_turn`\n",
       "- stop_sequence: `None`\n",
       "- type: `message`\n",
       "- usage: `{'cache_creation_input_tokens': 0, 'cache_read_input_tokens': 0, 'input_tokens': 681, 'output_tokens': 33}`\n",
       "\n",
       "</details>"
      ],
      "text/plain": [
       "Message(id='msg_01KKpP7x8hKhjNPLt7NBxMuJ', content=[TextBlock(citations=None, text='Three quarters (75%) of the way through your 80-page edition of Tao Te Ching would be page 60.', type='text')], model='claude-3-7-sonnet-20250219', role='assistant', stop_reason='end_turn', stop_sequence=None, type='message', usage=In: 681; Out: 33; Cache create: 0; Cache read: 0; Total: 714)"
      ]
     },
     "execution_count": null,
     "metadata": {},
     "output_type": "execute_result"
    }
   ],
   "source": [
    "chat()"
   ]
  },
  {
   "cell_type": "markdown",
   "id": "b7054a02",
   "metadata": {},
   "source": [
    "It should be correct, because it actually used our Python function to do the addition. Let's check:"
   ]
  },
  {
   "cell_type": "code",
   "execution_count": null,
   "id": "b7ff0879",
   "metadata": {},
   "outputs": [
    {
     "data": {
      "text/plain": [
       "60.0"
      ]
     },
     "execution_count": null,
     "metadata": {},
     "output_type": "execute_result"
    }
   ],
   "source": [
    "80 * .75"
   ]
  },
  {
   "cell_type": "code",
   "execution_count": null,
   "id": "c76a22fb",
   "metadata": {},
   "outputs": [],
   "source": [
    "chat = Chat(model, tools=[text_editor_conf['sonnet']], ns=mk_ns(str_replace_editor))"
   ]
  },
  {
   "cell_type": "markdown",
   "id": "157d057f",
   "metadata": {},
   "source": [
    "Note that `mk_ns(str_replace_editor)` is used here. When not providing tools directly as Python functions (like `sum`), you **must** create and pass a namespace dictionary (mapping the tool name string to the function object) using the `ns` parameter to methods like `mk_toolres` or `toolloop`. `toolslm` cannot automatically generate the namespace in this case. For schema-based tools (i.e., Python functions), `claudette` handles namespace creation automatically."
   ]
  },
  {
   "cell_type": "code",
   "execution_count": null,
   "id": "ebbd0cd2",
   "metadata": {},
   "outputs": [
    {
     "data": {
      "text/plain": [
       "ToolUseBlock(id='toolu_01NYUKyS9b8kTFLcQdte8jcQ', input={'command': 'view', 'path': '_quarto.yml'}, name='str_replace_editor', type='tool_use')"
      ]
     },
     "execution_count": null,
     "metadata": {},
     "output_type": "execute_result"
    }
   ],
   "source": [
    "r = chat('Please explain what my _quarto.yml does. Use your tools')\n",
    "find_block(r, ToolUseBlock)"
   ]
  },
  {
   "cell_type": "code",
   "execution_count": null,
   "id": "0b7717a8",
   "metadata": {},
   "outputs": [
    {
     "data": {
      "text/markdown": [
       "# Explanation of Your _quarto.yml File\n",
       "\n",
       "Your _quarto.yml is a configuration file for Quarto, which is a scientific and technical publishing system. Here's a breakdown of what it does:\n",
       "\n",
       "## Project Configuration\n",
       "- `project.type: website`: Defines this as a website project (as opposed to a book or other format)\n",
       "- `project.resources: [\"*.txt\"]`: Includes all .txt files as resources in the build\n",
       "- `project.preview.port: 3000`: Sets the preview server to run on port 3000\n",
       "- `project.preview.browser: false`: Prevents automatically opening a browser when previewing\n",
       "\n",
       "## Format Settings\n",
       "- `format.html`: Configures HTML output with several settings:\n",
       "  - `theme: cosmo`: Uses the \"cosmo\" theme for styling\n",
       "  - `css: styles.css`: Applies additional custom styles from styles.css\n",
       "  - `toc: true`: Enables table of contents\n",
       "  - `code-tools: true`: Enables code tools (like copy button)\n",
       "  - `code-block-bg: true`: Adds background to code blocks\n",
       "  - `code-block-border-left: \"#31BAE9\"`: Sets a blue left border for code blocks\n",
       "  - `highlight-style: arrow`: Uses the \"arrow\" syntax highlighting style\n",
       "  - `grid`: Configures the page layout with specific widths for sidebar (180px), body (1800px), margins (150px), and gutters (1.0rem)\n",
       "  - `keep-md: true`: Preserves Markdown files after rendering\n",
       "\n",
       "- `format.commonmark: default`: Enables CommonMark output with default settings\n",
       "\n",
       "## Website Configuration\n",
       "- `website.twitter-card: true`: Enables Twitter card metadata\n",
       "- `website.open-graph: true`: Enables Open Graph metadata for social media sharing\n",
       "- `website.repo-actions: [issue]`: Adds an \"issue\" button for repository actions\n",
       "- `website.navbar.background: primary`: Sets the navbar background to the primary theme color\n",
       "- `website.navbar.search: true`: Enables search functionality in the navbar\n",
       "- `website.sidebar.style: floating`: Uses a floating style for the sidebar\n",
       "\n",
       "## Metadata Files\n",
       "- Includes two external metadata files:\n",
       "  - `nbdev.yml`: Likely contains nbdev-specific configurations (nbdev is a library for developing Python packages)\n",
       "  - `sidebar.yml`: Likely contains sidebar navigation structure\n",
       "\n",
       "This configuration creates a website with good code display features, responsive layout, and integration with development tools. It appears to be set up for technical documentation, possibly for a Python package using nbdev.\n",
       "\n",
       "<details>\n",
       "\n",
       "- id: `msg_01UquFsNsB84zA5k5u74unHK`\n",
       "- content: `[{'citations': None, 'text': '# Explanation of Your _quarto.yml File\\n\\nYour _quarto.yml is a configuration file for Quarto, which is a scientific and technical publishing system. Here\\'s a breakdown of what it does:\\n\\n## Project Configuration\\n- `project.type: website`: Defines this as a website project (as opposed to a book or other format)\\n- `project.resources: [\"*.txt\"]`: Includes all .txt files as resources in the build\\n- `project.preview.port: 3000`: Sets the preview server to run on port 3000\\n- `project.preview.browser: false`: Prevents automatically opening a browser when previewing\\n\\n## Format Settings\\n- `format.html`: Configures HTML output with several settings:\\n  - `theme: cosmo`: Uses the \"cosmo\" theme for styling\\n  - `css: styles.css`: Applies additional custom styles from styles.css\\n  - `toc: true`: Enables table of contents\\n  - `code-tools: true`: Enables code tools (like copy button)\\n  - `code-block-bg: true`: Adds background to code blocks\\n  - `code-block-border-left: \"#31BAE9\"`: Sets a blue left border for code blocks\\n  - `highlight-style: arrow`: Uses the \"arrow\" syntax highlighting style\\n  - `grid`: Configures the page layout with specific widths for sidebar (180px), body (1800px), margins (150px), and gutters (1.0rem)\\n  - `keep-md: true`: Preserves Markdown files after rendering\\n\\n- `format.commonmark: default`: Enables CommonMark output with default settings\\n\\n## Website Configuration\\n- `website.twitter-card: true`: Enables Twitter card metadata\\n- `website.open-graph: true`: Enables Open Graph metadata for social media sharing\\n- `website.repo-actions: [issue]`: Adds an \"issue\" button for repository actions\\n- `website.navbar.background: primary`: Sets the navbar background to the primary theme color\\n- `website.navbar.search: true`: Enables search functionality in the navbar\\n- `website.sidebar.style: floating`: Uses a floating style for the sidebar\\n\\n## Metadata Files\\n- Includes two external metadata files:\\n  - `nbdev.yml`: Likely contains nbdev-specific configurations (nbdev is a library for developing Python packages)\\n  - `sidebar.yml`: Likely contains sidebar navigation structure\\n\\nThis configuration creates a website with good code display features, responsive layout, and integration with development tools. It appears to be set up for technical documentation, possibly for a Python package using nbdev.', 'type': 'text'}]`\n",
       "- model: `claude-3-7-sonnet-20250219`\n",
       "- role: `assistant`\n",
       "- stop_reason: `end_turn`\n",
       "- stop_sequence: `None`\n",
       "- type: `message`\n",
       "- usage: `{'cache_creation_input_tokens': 0, 'cache_read_input_tokens': 0, 'input_tokens': 1372, 'output_tokens': 593}`\n",
       "\n",
       "</details>"
      ],
      "text/plain": [
       "Message(id='msg_01UquFsNsB84zA5k5u74unHK', content=[TextBlock(citations=None, text='# Explanation of Your _quarto.yml File\\n\\nYour _quarto.yml is a configuration file for Quarto, which is a scientific and technical publishing system. Here\\'s a breakdown of what it does:\\n\\n## Project Configuration\\n- `project.type: website`: Defines this as a website project (as opposed to a book or other format)\\n- `project.resources: [\"*.txt\"]`: Includes all .txt files as resources in the build\\n- `project.preview.port: 3000`: Sets the preview server to run on port 3000\\n- `project.preview.browser: false`: Prevents automatically opening a browser when previewing\\n\\n## Format Settings\\n- `format.html`: Configures HTML output with several settings:\\n  - `theme: cosmo`: Uses the \"cosmo\" theme for styling\\n  - `css: styles.css`: Applies additional custom styles from styles.css\\n  - `toc: true`: Enables table of contents\\n  - `code-tools: true`: Enables code tools (like copy button)\\n  - `code-block-bg: true`: Adds background to code blocks\\n  - `code-block-border-left: \"#31BAE9\"`: Sets a blue left border for code blocks\\n  - `highlight-style: arrow`: Uses the \"arrow\" syntax highlighting style\\n  - `grid`: Configures the page layout with specific widths for sidebar (180px), body (1800px), margins (150px), and gutters (1.0rem)\\n  - `keep-md: true`: Preserves Markdown files after rendering\\n\\n- `format.commonmark: default`: Enables CommonMark output with default settings\\n\\n## Website Configuration\\n- `website.twitter-card: true`: Enables Twitter card metadata\\n- `website.open-graph: true`: Enables Open Graph metadata for social media sharing\\n- `website.repo-actions: [issue]`: Adds an \"issue\" button for repository actions\\n- `website.navbar.background: primary`: Sets the navbar background to the primary theme color\\n- `website.navbar.search: true`: Enables search functionality in the navbar\\n- `website.sidebar.style: floating`: Uses a floating style for the sidebar\\n\\n## Metadata Files\\n- Includes two external metadata files:\\n  - `nbdev.yml`: Likely contains nbdev-specific configurations (nbdev is a library for developing Python packages)\\n  - `sidebar.yml`: Likely contains sidebar navigation structure\\n\\nThis configuration creates a website with good code display features, responsive layout, and integration with development tools. It appears to be set up for technical documentation, possibly for a Python package using nbdev.', type='text')], model='claude-3-7-sonnet-20250219', role='assistant', stop_reason='end_turn', stop_sequence=None, type='message', usage=In: 1372; Out: 593; Cache create: 0; Cache read: 0; Total: 1965)"
      ]
     },
     "execution_count": null,
     "metadata": {},
     "output_type": "execute_result"
    }
   ],
   "source": [
    "chat()"
   ]
  },
  {
   "cell_type": "code",
   "execution_count": null,
   "id": "f85f93da",
   "metadata": {},
   "outputs": [],
   "source": [
    "#| exports\n",
    "@patch\n",
    "def _repr_markdown_(self:Chat):\n",
    "    if not hasattr(self.c, 'result'): return 'No results yet'\n",
    "    last_msg = contents(self.c.result)\n",
    "    \n",
    "    def fmt_msg(m):\n",
    "        t = contents(m)\n",
    "        if isinstance(t, dict): return t['content']\n",
    "        return t\n",
    "        \n",
    "    history = '\\n\\n'.join(f\"**{m['role']}**: {fmt_msg(m)}\" \n",
    "                         for m in self.h)\n",
    "    det = self.c._repr_markdown_().split('\\n\\n')[-1]\n",
    "    return f\"\"\"{last_msg}\n",
    "\n",
    "<details>\n",
    "<summary>History</summary>\n",
    "\n",
    "{history}\n",
    "</details>\n",
    "\n",
    "{det}\"\"\""
   ]
  },
  {
   "cell_type": "code",
   "execution_count": null,
   "id": "4b2c6f87",
   "metadata": {},
   "outputs": [
    {
     "data": {
      "text/markdown": [
       "# Explanation of Your _quarto.yml File\n",
       "\n",
       "Your _quarto.yml is a configuration file for Quarto, which is a scientific and technical publishing system. Here's a breakdown of what it does:\n",
       "\n",
       "## Project Configuration\n",
       "- `project.type: website`: Defines this as a website project (as opposed to a book or other format)\n",
       "- `project.resources: [\"*.txt\"]`: Includes all .txt files as resources in the build\n",
       "- `project.preview.port: 3000`: Sets the preview server to run on port 3000\n",
       "- `project.preview.browser: false`: Prevents automatically opening a browser when previewing\n",
       "\n",
       "## Format Settings\n",
       "- `format.html`: Configures HTML output with several settings:\n",
       "  - `theme: cosmo`: Uses the \"cosmo\" theme for styling\n",
       "  - `css: styles.css`: Applies additional custom styles from styles.css\n",
       "  - `toc: true`: Enables table of contents\n",
       "  - `code-tools: true`: Enables code tools (like copy button)\n",
       "  - `code-block-bg: true`: Adds background to code blocks\n",
       "  - `code-block-border-left: \"#31BAE9\"`: Sets a blue left border for code blocks\n",
       "  - `highlight-style: arrow`: Uses the \"arrow\" syntax highlighting style\n",
       "  - `grid`: Configures the page layout with specific widths for sidebar (180px), body (1800px), margins (150px), and gutters (1.0rem)\n",
       "  - `keep-md: true`: Preserves Markdown files after rendering\n",
       "\n",
       "- `format.commonmark: default`: Enables CommonMark output with default settings\n",
       "\n",
       "## Website Configuration\n",
       "- `website.twitter-card: true`: Enables Twitter card metadata\n",
       "- `website.open-graph: true`: Enables Open Graph metadata for social media sharing\n",
       "- `website.repo-actions: [issue]`: Adds an \"issue\" button for repository actions\n",
       "- `website.navbar.background: primary`: Sets the navbar background to the primary theme color\n",
       "- `website.navbar.search: true`: Enables search functionality in the navbar\n",
       "- `website.sidebar.style: floating`: Uses a floating style for the sidebar\n",
       "\n",
       "## Metadata Files\n",
       "- Includes two external metadata files:\n",
       "  - `nbdev.yml`: Likely contains nbdev-specific configurations (nbdev is a library for developing Python packages)\n",
       "  - `sidebar.yml`: Likely contains sidebar navigation structure\n",
       "\n",
       "This configuration creates a website with good code display features, responsive layout, and integration with development tools. It appears to be set up for technical documentation, possibly for a Python package using nbdev.\n",
       "\n",
       "<details>\n",
       "<summary>History</summary>\n",
       "\n",
       "**user**: P\n",
       "\n",
       "**assistant**: I'll examine your _quarto.yml file to explain what it does. Let me first view the file.\n",
       "\n",
       "**user**: project:\n",
       "  type: website\n",
       "  resources: \n",
       "    - \"*.txt\"\n",
       "  preview:\n",
       "    port: 3000\n",
       "    browser: false\n",
       "\n",
       "format:\n",
       "  html:\n",
       "    theme: cosmo\n",
       "    css: styles.css\n",
       "    toc: true\n",
       "    code-tools: true\n",
       "    code-block-bg: true\n",
       "    code-block-border-left: \"#31BAE9\"\n",
       "    highlight-style: arrow\n",
       "    grid:\n",
       "      sidebar-width: 180px\n",
       "      body-width: 1800px\n",
       "      margin-width: 150px\n",
       "      gutter-width: 1.0rem\n",
       "    keep-md: true\n",
       "  commonmark: default\n",
       "\n",
       "website:\n",
       "  twitter-card: true\n",
       "  open-graph: true\n",
       "  repo-actions: [issue]\n",
       "  navbar:\n",
       "    background: primary\n",
       "    search: true\n",
       "  sidebar:\n",
       "    style: floating\n",
       "\n",
       "metadata-files:\n",
       "  - nbdev.yml\n",
       "  - sidebar.yml\n",
       "\n",
       "**assistant**: # Explanation of Your _quarto.yml File\n",
       "\n",
       "Your _quarto.yml is a configuration file for Quarto, which is a scientific and technical publishing system. Here's a breakdown of what it does:\n",
       "\n",
       "## Project Configuration\n",
       "- `project.type: website`: Defines this as a website project (as opposed to a book or other format)\n",
       "- `project.resources: [\"*.txt\"]`: Includes all .txt files as resources in the build\n",
       "- `project.preview.port: 3000`: Sets the preview server to run on port 3000\n",
       "- `project.preview.browser: false`: Prevents automatically opening a browser when previewing\n",
       "\n",
       "## Format Settings\n",
       "- `format.html`: Configures HTML output with several settings:\n",
       "  - `theme: cosmo`: Uses the \"cosmo\" theme for styling\n",
       "  - `css: styles.css`: Applies additional custom styles from styles.css\n",
       "  - `toc: true`: Enables table of contents\n",
       "  - `code-tools: true`: Enables code tools (like copy button)\n",
       "  - `code-block-bg: true`: Adds background to code blocks\n",
       "  - `code-block-border-left: \"#31BAE9\"`: Sets a blue left border for code blocks\n",
       "  - `highlight-style: arrow`: Uses the \"arrow\" syntax highlighting style\n",
       "  - `grid`: Configures the page layout with specific widths for sidebar (180px), body (1800px), margins (150px), and gutters (1.0rem)\n",
       "  - `keep-md: true`: Preserves Markdown files after rendering\n",
       "\n",
       "- `format.commonmark: default`: Enables CommonMark output with default settings\n",
       "\n",
       "## Website Configuration\n",
       "- `website.twitter-card: true`: Enables Twitter card metadata\n",
       "- `website.open-graph: true`: Enables Open Graph metadata for social media sharing\n",
       "- `website.repo-actions: [issue]`: Adds an \"issue\" button for repository actions\n",
       "- `website.navbar.background: primary`: Sets the navbar background to the primary theme color\n",
       "- `website.navbar.search: true`: Enables search functionality in the navbar\n",
       "- `website.sidebar.style: floating`: Uses a floating style for the sidebar\n",
       "\n",
       "## Metadata Files\n",
       "- Includes two external metadata files:\n",
       "  - `nbdev.yml`: Likely contains nbdev-specific configurations (nbdev is a library for developing Python packages)\n",
       "  - `sidebar.yml`: Likely contains sidebar navigation structure\n",
       "\n",
       "This configuration creates a website with good code display features, responsive layout, and integration with development tools. It appears to be set up for technical documentation, possibly for a Python package using nbdev.\n",
       "</details>\n",
       "\n",
       "| Metric | Count | Cost (USD) |\n",
       "|--------|------:|-----:|\n",
       "| Input tokens | 2,408 | 0.007224 |\n",
       "| Output tokens | 693 | 0.010395 |\n",
       "| Cache tokens | 0 | 0.000000 |\n",
       "| **Total** | **3,101** | **$0.017619** |"
      ],
      "text/plain": [
       "<__main__.Chat>"
      ]
     },
     "execution_count": null,
     "metadata": {},
     "output_type": "execute_result"
    }
   ],
   "source": [
    "chat"
   ]
  },
  {
   "cell_type": "markdown",
   "id": "df1dd4c3",
   "metadata": {},
   "source": [
    "## Images"
   ]
  },
  {
   "cell_type": "markdown",
   "id": "cf741dbc",
   "metadata": {},
   "source": [
    "Claude can handle image data as well. As everyone knows, when testing image APIs you have to use a cute puppy."
   ]
  },
  {
   "cell_type": "code",
   "execution_count": null,
   "id": "5d35d564",
   "metadata": {},
   "outputs": [
    {
     "data": {
      "image/jpeg": "[encoded data removed]",
      "text/plain": [
       "<IPython.core.display.Image object>"
      ]
     },
     "execution_count": null,
     "metadata": {
      "image/jpeg": {
       "width": 200
      }
     },
     "output_type": "execute_result"
    }
   ],
   "source": [
    "# Image is Cute_dog.jpg from Wikimedia\n",
    "fn = Path('samples/puppy.jpg')\n",
    "display.Image(filename=fn, width=200)"
   ]
  },
  {
   "cell_type": "code",
   "execution_count": null,
   "id": "d120d8fb",
   "metadata": {},
   "outputs": [],
   "source": [
    "img = fn.read_bytes()"
   ]
  },
  {
   "cell_type": "markdown",
   "id": "3e2937df",
   "metadata": {},
   "source": [
    "Claude expects an image message to have the following structure\n",
    "\n",
    "```js\n",
    "{\n",
    "    'role': 'user', \n",
    "    'content': [\n",
    "        {'type':'text', 'text':'What is in the image?'},\n",
    "        {\n",
    "            'type':'image', \n",
    "            'source': {\n",
    "                'type':'base64', 'media_type':'media_type', 'data': 'data'\n",
    "            }\n",
    "        }\n",
    "    ]\n",
    "}\n",
    "```\n",
    "`msglm` automatically detects if a message is an image, encodes it, and generates the data structure above.\n",
    "All we need to do is a create a list containing our image and a query and then pass it to `mk_msg`.\n",
    "\n",
    "Let's try it out..."
   ]
  },
  {
   "cell_type": "code",
   "execution_count": null,
   "id": "db8339ac",
   "metadata": {},
   "outputs": [],
   "source": [
    "q = \"In brief, what color flowers are in this image?\"\n",
    "msg = mk_msg([img, q])"
   ]
  },
  {
   "cell_type": "code",
   "execution_count": null,
   "id": "69acc8c7",
   "metadata": {},
   "outputs": [
    {
     "data": {
      "text/markdown": [
       "The flowers in the image are purple/lavender in color. They appear to be small daisy-like flowers or asters blooming next to where the adorable Cavalier King Charles Spaniel puppy is resting on the grass. The purple flowers create a nice contrast with the puppy's white and reddish-brown fur.\n",
       "\n",
       "<details>\n",
       "\n",
       "- id: `msg_018nEMhSPksr4AgE78VEKLSw`\n",
       "- content: `[{'citations': None, 'text': \"The flowers in the image are purple/lavender in color. They appear to be small daisy-like flowers or asters blooming next to where the adorable Cavalier King Charles Spaniel puppy is resting on the grass. The purple flowers create a nice contrast with the puppy's white and reddish-brown fur.\", 'type': 'text'}]`\n",
       "- model: `claude-3-7-sonnet-20250219`\n",
       "- role: `assistant`\n",
       "- stop_reason: `end_turn`\n",
       "- stop_sequence: `None`\n",
       "- type: `message`\n",
       "- usage: `{'cache_creation_input_tokens': 0, 'cache_read_input_tokens': 0, 'input_tokens': 110, 'output_tokens': 75}`\n",
       "\n",
       "</details>"
      ],
      "text/plain": [
       "Message(id='msg_018nEMhSPksr4AgE78VEKLSw', content=[TextBlock(citations=None, text=\"The flowers in the image are purple/lavender in color. They appear to be small daisy-like flowers or asters blooming next to where the adorable Cavalier King Charles Spaniel puppy is resting on the grass. The purple flowers create a nice contrast with the puppy's white and reddish-brown fur.\", type='text')], model='claude-3-7-sonnet-20250219', role='assistant', stop_reason='end_turn', stop_sequence=None, type='message', usage=In: 110; Out: 75; Cache create: 0; Cache read: 0; Total: 185)"
      ]
     },
     "execution_count": null,
     "metadata": {},
     "output_type": "execute_result"
    }
   ],
   "source": [
    "c([msg])"
   ]
  },
  {
   "cell_type": "markdown",
   "id": "09be3d09",
   "metadata": {},
   "source": [
    "You don't need to call `mk_msg` on each individual message before passing them to the `Chat` class. Instead you can pass your messages in a list and the `Chat` class will automatically call `mk_msgs` in the background. \n",
    "\n",
    "```python\n",
    "c([\"How are you?\", r])\n",
    "```\n",
    "\n",
    "For messages that contain multiple content types (like an image with a question), you'll need to enclose the message contents in a list as shown below:\n",
    "\n",
    "```python\n",
    "c([\"How are you?\", r, [img, q]])\n",
    "```"
   ]
  },
  {
   "cell_type": "code",
   "execution_count": null,
   "id": "73ce3789",
   "metadata": {},
   "outputs": [
    {
     "data": {
      "text/markdown": [
       "The flowers in the image are purple/lavender in color. They appear to be small daisy-like flowers or asters blooming next to where the adorable Cavalier King Charles Spaniel puppy is resting on the grass. The purple flowers create a nice contrast with the puppy's white and reddish-brown fur.\n",
       "\n",
       "<details>\n",
       "\n",
       "- id: `msg_01HsuQch75R6kjhUBMLjyQNg`\n",
       "- content: `[{'citations': None, 'text': \"The flowers in the image are purple/lavender in color. They appear to be small daisy-like flowers or asters blooming next to where the adorable Cavalier King Charles Spaniel puppy is resting on the grass. The purple flowers create a nice contrast with the puppy's white and reddish-brown fur.\", 'type': 'text'}]`\n",
       "- model: `claude-3-7-sonnet-20250219`\n",
       "- role: `assistant`\n",
       "- stop_reason: `end_turn`\n",
       "- stop_sequence: `None`\n",
       "- type: `message`\n",
       "- usage: `{'cache_creation_input_tokens': 0, 'cache_read_input_tokens': 0, 'input_tokens': 110, 'output_tokens': 75}`\n",
       "\n",
       "</details>"
      ],
      "text/plain": [
       "Message(id='msg_01HsuQch75R6kjhUBMLjyQNg', content=[TextBlock(citations=None, text=\"The flowers in the image are purple/lavender in color. They appear to be small daisy-like flowers or asters blooming next to where the adorable Cavalier King Charles Spaniel puppy is resting on the grass. The purple flowers create a nice contrast with the puppy's white and reddish-brown fur.\", type='text')], model='claude-3-7-sonnet-20250219', role='assistant', stop_reason='end_turn', stop_sequence=None, type='message', usage=In: 110; Out: 75; Cache create: 0; Cache read: 0; Total: 185)"
      ]
     },
     "execution_count": null,
     "metadata": {},
     "output_type": "execute_result"
    }
   ],
   "source": [
    "c = Chat(model)\n",
    "c([img, q])"
   ]
  },
  {
   "cell_type": "code",
   "execution_count": null,
   "id": "496178d9",
   "metadata": {},
   "outputs": [],
   "source": [
    "def contents(r):\n",
    "    \"Helper to get the contents from Claude response `r`.\"\n",
    "    blk = find_block(r)\n",
    "    if not blk and r.content: blk = r.content[0]\n",
    "    if hasattr(blk,'text'): return blk.text.strip()\n",
    "    elif hasattr(blk,'content'): return blk.content.strip()\n",
    "    elif hasattr(blk,'source'): return f'*Media Type - {blk.type}*'\n",
    "    return str(blk)"
   ]
  },
  {
   "cell_type": "code",
   "execution_count": null,
   "id": "8b9d8064",
   "metadata": {},
   "outputs": [
    {
     "data": {
      "text/plain": [
       "'*Media Type - image*'"
      ]
     },
     "execution_count": null,
     "metadata": {},
     "output_type": "execute_result"
    }
   ],
   "source": [
    "contents(c.h[0])"
   ]
  },
  {
   "cell_type": "code",
   "execution_count": null,
   "id": "3eb5f016",
   "metadata": {},
   "outputs": [
    {
     "data": {
      "text/markdown": [
       "The flowers in the image are purple/lavender in color. They appear to be small daisy-like flowers or asters blooming next to where the adorable Cavalier King Charles Spaniel puppy is resting on the grass. The purple flowers create a nice contrast with the puppy's white and reddish-brown fur.\n",
       "\n",
       "<details>\n",
       "<summary>History</summary>\n",
       "\n",
       "**user**: *Media Type - image*\n",
       "\n",
       "**assistant**: The flowers in the image are purple/lavender in color. They appear to be small daisy-like flowers or asters blooming next to where the adorable Cavalier King Charles Spaniel puppy is resting on the grass. The purple flowers create a nice contrast with the puppy's white and reddish-brown fur.\n",
       "</details>\n",
       "\n",
       "| Metric | Count | Cost (USD) |\n",
       "|--------|------:|-----:|\n",
       "| Input tokens | 110 | 0.000330 |\n",
       "| Output tokens | 75 | 0.001125 |\n",
       "| Cache tokens | 0 | 0.000000 |\n",
       "| **Total** | **185** | **$0.001455** |"
      ],
      "text/plain": [
       "<__main__.Chat>"
      ]
     },
     "execution_count": null,
     "metadata": {},
     "output_type": "execute_result"
    }
   ],
   "source": [
    "c"
   ]
  },
  {
   "cell_type": "markdown",
   "id": "00482861",
   "metadata": {},
   "source": [
    ":::{.callout-note}\n",
    "\n",
    "Unfortunately, not all Claude models support images 😞. This [table](https://docs.anthropic.com/en/docs/about-claude/models#model-comparison-table) summarizes the capabilities of each Claude model and the different modalities they support.\n",
    "\n",
    ":::"
   ]
  },
  {
   "cell_type": "markdown",
   "id": "abd9dbe9",
   "metadata": {},
   "source": [
    "## Caching"
   ]
  },
  {
   "cell_type": "markdown",
   "id": "026fb70e",
   "metadata": {},
   "source": [
    "Claude supports context caching by adding a `cache_control` header to the message content.\n",
    "\n",
    "```js\n",
    "{\n",
    "    \"role\": \"user\",\n",
    "    \"content\": [\n",
    "        {\n",
    "            \"type\": \"text\", \n",
    "            \"text\": \"Please cache my message\", \n",
    "            \"cache_control\": {\"type\": \"ephemeral\"}\n",
    "        }\n",
    "    ]\n",
    "}\n",
    "```\n",
    "\n",
    "To cache a message, we simply set `cache=True` when calling `mk_msg`."
   ]
  },
  {
   "cell_type": "code",
   "execution_count": null,
   "id": "19a9d3e1",
   "metadata": {},
   "outputs": [
    {
     "data": {
      "text/markdown": [
       "```json\n",
       "{ 'content': [ {'text': 'hi', 'type': 'text'},\n",
       "               { 'cache_control': {'type': 'ephemeral'},\n",
       "                 'text': 'there',\n",
       "                 'type': 'text'}],\n",
       "  'role': 'user'}\n",
       "```"
      ],
      "text/plain": [
       "{'role': 'user',\n",
       " 'content': [{'type': 'text', 'text': 'hi'},\n",
       "  {'type': 'text', 'text': 'there', 'cache_control': {'type': 'ephemeral'}}]}"
      ]
     },
     "execution_count": null,
     "metadata": {},
     "output_type": "execute_result"
    }
   ],
   "source": [
    "mk_msg(['hi', 'there'], cache=True)"
   ]
  },
  {
   "cell_type": "markdown",
   "id": "e412abd5",
   "metadata": {},
   "source": [
    "Claude also now supports smart cache look-ups, so it's very simple to keep an entire conversation in cache by constantly telling it to update the cache with the latest message. To do this, we just need to set `cache=True` when creating a `Chat`."
   ]
  },
  {
   "cell_type": "code",
   "execution_count": null,
   "id": "5eb7bed0",
   "metadata": {},
   "outputs": [],
   "source": [
    "chat = Chat(model, sp=sp, cache=True)"
   ]
  },
  {
   "cell_type": "markdown",
   "id": "745a3182",
   "metadata": {},
   "source": [
    "Caching has a minimum token limit of 1024 tokens for Sonnet and Opus, and 2048 for Haiku. If your conversation is below this limit, it will not be cached."
   ]
  },
  {
   "cell_type": "code",
   "execution_count": null,
   "id": "ed6e5fe2",
   "metadata": {},
   "outputs": [
    {
     "data": {
      "text/markdown": [
       "Hello Jeremy! It's nice to meet you. How are you doing today? Is there something I can help you with or would you like to chat?\n",
       "\n",
       "<details>\n",
       "\n",
       "- id: `msg_01UAeCKCqsxt5dvTsNvtZun5`\n",
       "- content: `[{'citations': None, 'text': \"Hello Jeremy! It's nice to meet you. How are you doing today? Is there something I can help you with or would you like to chat?\", 'type': 'text'}]`\n",
       "- model: `claude-3-7-sonnet-20250219`\n",
       "- role: `assistant`\n",
       "- stop_reason: `end_turn`\n",
       "- stop_sequence: `None`\n",
       "- type: `message`\n",
       "- usage: `{'cache_creation_input_tokens': 0, 'cache_read_input_tokens': 0, 'input_tokens': 20, 'output_tokens': 34}`\n",
       "\n",
       "</details>"
      ],
      "text/plain": [
       "Message(id='msg_01UAeCKCqsxt5dvTsNvtZun5', content=[TextBlock(citations=None, text=\"Hello Jeremy! It's nice to meet you. How are you doing today? Is there something I can help you with or would you like to chat?\", type='text')], model='claude-3-7-sonnet-20250219', role='assistant', stop_reason='end_turn', stop_sequence=None, type='message', usage=In: 20; Out: 34; Cache create: 0; Cache read: 0; Total: 54)"
      ]
     },
     "execution_count": null,
     "metadata": {},
     "output_type": "execute_result"
    }
   ],
   "source": [
    "chat(\"Hi, I'm Jeremy.\")"
   ]
  },
  {
   "cell_type": "markdown",
   "id": "4762e29d",
   "metadata": {},
   "source": [
    "Note the usage: no cache is created, nor used. Now, let's send a long enough message to trigger caching."
   ]
  },
  {
   "cell_type": "code",
   "execution_count": null,
   "id": "e870355c",
   "metadata": {},
   "outputs": [
    {
     "data": {
      "text/markdown": [
       "I notice you've sent a large amount of \"Lorem ipsum\" text, which is commonly used as placeholder or filler text in design and publishing. \n",
       "\n",
       "Is there something specific you'd like to discuss or a question you have? I'm here to help with meaningful conversation or information if you need it. Let me know how I can assist you today, Jeremy.\n",
       "\n",
       "<details>\n",
       "\n",
       "- id: `msg_01Rbj2iHrs53HGgHcgVvR7aF`\n",
       "- content: `[{'citations': None, 'text': 'I notice you\\'ve sent a large amount of \"Lorem ipsum\" text, which is commonly used as placeholder or filler text in design and publishing. \\n\\nIs there something specific you\\'d like to discuss or a question you have? I\\'m here to help with meaningful conversation or information if you need it. Let me know how I can assist you today, Jeremy.', 'type': 'text'}]`\n",
       "- model: `claude-3-7-sonnet-20250219`\n",
       "- role: `assistant`\n",
       "- stop_reason: `end_turn`\n",
       "- stop_sequence: `None`\n",
       "- type: `message`\n",
       "- usage: `{'cache_creation_input_tokens': 1101, 'cache_read_input_tokens': 0, 'input_tokens': 4, 'output_tokens': 77}`\n",
       "\n",
       "</details>"
      ],
      "text/plain": [
       "Message(id='msg_01Rbj2iHrs53HGgHcgVvR7aF', content=[TextBlock(citations=None, text='I notice you\\'ve sent a large amount of \"Lorem ipsum\" text, which is commonly used as placeholder or filler text in design and publishing. \\n\\nIs there something specific you\\'d like to discuss or a question you have? I\\'m here to help with meaningful conversation or information if you need it. Let me know how I can assist you today, Jeremy.', type='text')], model='claude-3-7-sonnet-20250219', role='assistant', stop_reason='end_turn', stop_sequence=None, type='message', usage=In: 4; Out: 77; Cache create: 1101; Cache read: 0; Total: 1182)"
      ]
     },
     "execution_count": null,
     "metadata": {},
     "output_type": "execute_result"
    }
   ],
   "source": [
    "chat(\"\"\"Lorem ipsum dolor sit amet\"\"\" * 150)"
   ]
  },
  {
   "cell_type": "markdown",
   "id": "0b7a7036",
   "metadata": {},
   "source": [
    "The context is now long enough for cache to be used. All the conversation history has now been written to the temporary cache. Any subsequent message will read from it rather than re-processing the entire conversation history."
   ]
  },
  {
   "cell_type": "code",
   "execution_count": null,
   "id": "1dc2286e",
   "metadata": {},
   "outputs": [
    {
     "data": {
      "text/markdown": [
       "No problem at all, Jeremy! Those lorem ipsum generators can certainly get enthusiastic sometimes. It happens to the best of us! \n",
       "\n",
       "Is there something I can actually help you with today? I'm ready whenever you are.\n",
       "\n",
       "<details>\n",
       "\n",
       "- id: `msg_01PxcAAwFqmxrMK6SzcqnGt7`\n",
       "- content: `[{'citations': None, 'text': \"No problem at all, Jeremy! Those lorem ipsum generators can certainly get enthusiastic sometimes. It happens to the best of us! \\n\\nIs there something I can actually help you with today? I'm ready whenever you are.\", 'type': 'text'}]`\n",
       "- model: `claude-3-7-sonnet-20250219`\n",
       "- role: `assistant`\n",
       "- stop_reason: `end_turn`\n",
       "- stop_sequence: `None`\n",
       "- type: `message`\n",
       "- usage: `{'cache_creation_input_tokens': 95, 'cache_read_input_tokens': 1101, 'input_tokens': 4, 'output_tokens': 49}`\n",
       "\n",
       "</details>"
      ],
      "text/plain": [
       "Message(id='msg_01PxcAAwFqmxrMK6SzcqnGt7', content=[TextBlock(citations=None, text=\"No problem at all, Jeremy! Those lorem ipsum generators can certainly get enthusiastic sometimes. It happens to the best of us! \\n\\nIs there something I can actually help you with today? I'm ready whenever you are.\", type='text')], model='claude-3-7-sonnet-20250219', role='assistant', stop_reason='end_turn', stop_sequence=None, type='message', usage=In: 4; Out: 49; Cache create: 95; Cache read: 1101; Total: 1249)"
      ]
     },
     "execution_count": null,
     "metadata": {},
     "output_type": "execute_result"
    }
   ],
   "source": [
    "chat(\"Oh thank you! Sorry, my lorem ipsum generator got out of control!\")"
   ]
  },
  {
   "cell_type": "markdown",
   "id": "3d162fca",
   "metadata": {},
   "source": [
    "## Extended Thinking"
   ]
  },
  {
   "cell_type": "markdown",
   "id": "11327638",
   "metadata": {},
   "source": [
    "Claude 3.7 Sonnet has enhanced reasoning capabilities for complex tasks. See [docs](https://docs.anthropic.com/en/docs/build-with-claude/extended-thinking) for more info.\n",
    "\n",
    "We can enable extended thinking by passing a `thinking` param with the following structure.\n",
    "\n",
    "```js\n",
    "thinking={\n",
    "    \"type\": \"enabled\",\n",
    "    \"budget_tokens\": 16000\n",
    "}\n",
    "```\n",
    "\n",
    "When extended thinking is enabled a thinking block is included in the response as shown below.\n",
    "\n",
    "```js\n",
    "{\n",
    "  \"content\": [\n",
    "    {\n",
    "      \"type\": \"thinking\",\n",
    "      \"thinking\": \"To approach this, let's think about...\",\n",
    "      \"signature\": \"Imtakcjsu38219c0.eyJoYXNoIjoiYWJjM0NTY3fQ....\"\n",
    "    },\n",
    "    {\n",
    "      \"type\": \"text\",\n",
    "      \"text\": \"Yes, there are infinitely many prime numbers such that...\"\n",
    "    }\n",
    "  ]\n",
    "}\n",
    "```"
   ]
  },
  {
   "cell_type": "markdown",
   "id": "503cae9b",
   "metadata": {},
   "source": [
    "Let's add a `maxthinktok` param to the `Client` and `Chat` call methods. When this value is not 0, we'll pass a thinking param to Claude `{\"type\":\"enabled\", \"budget_tokens\":maxthinktok}`.\n",
    "\n",
    "*Note: When thinking is [enabled](https://docs.anthropic.com/en/docs/build-with-claude/extended-thinking#important-considerations-when-using-extended-thinking) `prefill` must be empty and the `temp` must be 1.*"
   ]
  },
  {
   "cell_type": "code",
   "execution_count": null,
   "id": "c399a36e",
   "metadata": {},
   "outputs": [],
   "source": [
    "#| export\n",
    "def think_md(txt, thk):\n",
    "    return f\"\"\"\n",
    "{txt}\n",
    "\n",
    "<details>\n",
    "<summary>Thinking</summary>\n",
    "{thk}\n",
    "</details>\n",
    "\"\"\""
   ]
  },
  {
   "cell_type": "code",
   "execution_count": null,
   "id": "bd68ca17",
   "metadata": {},
   "outputs": [],
   "source": [
    "def contents(r):\n",
    "    \"Helper to get the contents from Claude response `r`.\"\n",
    "    blk = find_block(r)\n",
    "    tk_blk = find_block(r, blk_type=ThinkingBlock)\n",
    "    if tk_blk: return think_md(blk.text.strip(), tk_blk.thinking.strip())\n",
    "    if not blk and r.content: blk = r.content[0]\n",
    "    if hasattr(blk,'text'): return blk.text.strip()\n",
    "    elif hasattr(blk,'content'): return blk.content.strip()\n",
    "    elif hasattr(blk,'source'): return f'*Media Type - {blk.type}*'\n",
    "    return str(blk)"
   ]
  },
  {
   "cell_type": "markdown",
   "id": "4e66607b",
   "metadata": {},
   "source": [
    "Let's call the model without extended thinking enabled. "
   ]
  },
  {
   "cell_type": "code",
   "execution_count": null,
   "id": "26b5f9c7",
   "metadata": {},
   "outputs": [],
   "source": [
    "tk_model = first(has_extended_thinking_models)"
   ]
  },
  {
   "cell_type": "code",
   "execution_count": null,
   "id": "adc3e86f",
   "metadata": {},
   "outputs": [],
   "source": [
    "chat = Chat(tk_model)"
   ]
  },
  {
   "cell_type": "code",
   "execution_count": null,
   "id": "b7911771",
   "metadata": {},
   "outputs": [
    {
     "data": {
      "text/markdown": [
       "Python is a versatile programming language known for its readable syntax and wide application in fields ranging from web development to data science and artificial intelligence.\n",
       "\n",
       "<details>\n",
       "\n",
       "- id: `msg_01N3Ntz94bDhLGcXAREQ9yeq`\n",
       "- content: `[{'citations': None, 'text': 'Python is a versatile programming language known for its readable syntax and wide application in fields ranging from web development to data science and artificial intelligence.', 'type': 'text'}]`\n",
       "- model: `claude-3-7-sonnet-20250219`\n",
       "- role: `assistant`\n",
       "- stop_reason: `end_turn`\n",
       "- stop_sequence: `None`\n",
       "- type: `message`\n",
       "- usage: `{'cache_creation_input_tokens': 0, 'cache_read_input_tokens': 0, 'input_tokens': 13, 'output_tokens': 31}`\n",
       "\n",
       "</details>"
      ],
      "text/plain": [
       "Message(id='msg_01N3Ntz94bDhLGcXAREQ9yeq', content=[TextBlock(citations=None, text='Python is a versatile programming language known for its readable syntax and wide application in fields ranging from web development to data science and artificial intelligence.', type='text')], model='claude-3-7-sonnet-20250219', role='assistant', stop_reason='end_turn', stop_sequence=None, type='message', usage=In: 13; Out: 31; Cache create: 0; Cache read: 0; Total: 44)"
      ]
     },
     "execution_count": null,
     "metadata": {},
     "output_type": "execute_result"
    }
   ],
   "source": [
    "chat(\"Write a sentence about Python!\")"
   ]
  },
  {
   "cell_type": "markdown",
   "id": "e9aab9e0",
   "metadata": {},
   "source": [
    "Now, let's call the model with extended thinking enabled."
   ]
  },
  {
   "cell_type": "code",
   "execution_count": null,
   "id": "0aec5ad6",
   "metadata": {},
   "outputs": [
    {
     "data": {
      "text/markdown": [
       "\n",
       "Python's extensive collection of libraries and intuitive design make it a favorite among beginners and experienced developers alike for tackling everything from simple scripts to complex machine learning projects.\n",
       "\n",
       "<details>\n",
       "<summary>Thinking</summary>\n",
       "I've been asked to write another sentence about Python. I should write something different from my previous response to provide variety. Let me think about another aspect of Python that I could highlight in a single sentence.\n",
       "\n",
       "Some possibilities:\n",
       "- Python's large ecosystem of libraries and frameworks\n",
       "- Its beginner-friendly nature\n",
       "- Its cross-platform compatibility\n",
       "- Its use in specific applications like machine learning\n",
       "- Its interpreted nature\n",
       "- Its object-oriented design\n",
       "</details>\n",
       "\n",
       "\n",
       "<details>\n",
       "\n",
       "- id: `msg_01Pwxw8GRJfhYfv1Wawcc6Qz`\n",
       "- content: `[{'signature': 'ErUBCkYIAxgCIkDrRegLH4nPNcvXjD0HVofldvgliL9P+lxx9b8VNzX1Bns+TlhMIicyQuF1iWi9Wvk1KPVo8ZP2vZxhrroeYQ0UEgzx516CkGlCJU/xBrkaDAh8lXH5CxuWv2DeeCIw2qhQYTxsqsxQBVoD872q4Z/wmW81Suo6QRkOUbvI68qVoOka7FcALlzf8Wzje3hOKh2/zxK8hGAgArN3XDc1SO345gxN4QeKrc2BLGN8zhgC', 'thinking': \"I've been asked to write another sentence about Python. I should write something different from my previous response to provide variety. Let me think about another aspect of Python that I could highlight in a single sentence.\\n\\nSome possibilities:\\n- Python's large ecosystem of libraries and frameworks\\n- Its beginner-friendly nature\\n- Its cross-platform compatibility\\n- Its use in specific applications like machine learning\\n- Its interpreted nature\\n- Its object-oriented design\", 'type': 'thinking'}, {'citations': None, 'text': \"Python's extensive collection of libraries and intuitive design make it a favorite among beginners and experienced developers alike for tackling everything from simple scripts to complex machine learning projects.\", 'type': 'text'}]`\n",
       "- model: `claude-3-7-sonnet-20250219`\n",
       "- role: `assistant`\n",
       "- stop_reason: `end_turn`\n",
       "- stop_sequence: `None`\n",
       "- type: `message`\n",
       "- usage: `{'cache_creation_input_tokens': 0, 'cache_read_input_tokens': 0, 'input_tokens': 81, 'output_tokens': 138}`\n",
       "\n",
       "</details>"
      ],
      "text/plain": [
       "Message(id='msg_01Pwxw8GRJfhYfv1Wawcc6Qz', content=[ThinkingBlock(signature='ErUBCkYIAxgCIkDrRegLH4nPNcvXjD0HVofldvgliL9P+lxx9b8VNzX1Bns+TlhMIicyQuF1iWi9Wvk1KPVo8ZP2vZxhrroeYQ0UEgzx516CkGlCJU/xBrkaDAh8lXH5CxuWv2DeeCIw2qhQYTxsqsxQBVoD872q4Z/wmW81Suo6QRkOUbvI68qVoOka7FcALlzf8Wzje3hOKh2/zxK8hGAgArN3XDc1SO345gxN4QeKrc2BLGN8zhgC', thinking=\"I've been asked to write another sentence about Python. I should write something different from my previous response to provide variety. Let me think about another aspect of Python that I could highlight in a single sentence.\\n\\nSome possibilities:\\n- Python's large ecosystem of libraries and frameworks\\n- Its beginner-friendly nature\\n- Its cross-platform compatibility\\n- Its use in specific applications like machine learning\\n- Its interpreted nature\\n- Its object-oriented design\", type='thinking'), TextBlock(citations=None, text=\"Python's extensive collection of libraries and intuitive design make it a favorite among beginners and experienced developers alike for tackling everything from simple scripts to complex machine learning projects.\", type='text')], model='claude-3-7-sonnet-20250219', role='assistant', stop_reason='end_turn', stop_sequence=None, type='message', usage=In: 81; Out: 138; Cache create: 0; Cache read: 0; Total: 219)"
      ]
     },
     "execution_count": null,
     "metadata": {},
     "output_type": "execute_result"
    }
   ],
   "source": [
    "chat(\"Write a sentence about Python!\", maxthinktok=1024)"
   ]
  },
  {
   "cell_type": "code",
   "execution_count": null,
   "id": "80836ca9",
   "metadata": {},
   "outputs": [],
   "source": [
    "#| exports\n",
    "def contents(r):\n",
    "    \"Helper to get the contents from Claude response `r`.\"\n",
    "    text_sections, citations = [], []\n",
    "\n",
    "    for blk in getattr(r, \"content\", []):\n",
    "        # Handle normal text blocks\n",
    "        if isinstance(blk, TextBlock) and blk.text:\n",
    "            section = blk.text.strip()\n",
    "\n",
    "            # Add numbered markers for each citation in this block\n",
    "            if blk.citations:\n",
    "                markers = []\n",
    "                for cit in blk.citations:\n",
    "                    citations.append(cit)\n",
    "                    markers.append(f\"[{len(citations)}]\") # maintain global citation order\n",
    "                section += \" \" + \" \".join(markers)\n",
    "\n",
    "            text_sections.append(section)\n",
    "\n",
    "        # Show a placeholder for media blocks\n",
    "        elif hasattr(blk, \"source\"): text_sections.append(f\"*Media Type - {blk.type}*\")\n",
    "        elif hasattr(blk, \"input\"): text_sections.append(f\"*Tool Use Type - {blk.name}*\")\n",
    "        # Generic fallback for any other block with a `content` attribute and not tool uses/responses\n",
    "        elif not hasattr(blk, \"tool_use_id\") and hasattr(blk, \"content\") and blk.content:\n",
    "            text_sections.append(str(blk.content).strip())\n",
    "\n",
    "    body = \"\\n\\n\".join(text_sections).strip()\n",
    "\n",
    "    # Append reference list if citations were collected\n",
    "    if citations:\n",
    "        refs = \"\\n\".join(f\"[{i+1}]: {cit.url}\" for i, cit in enumerate(citations))\n",
    "        body = f\"{body}\\n\\n{refs}\" if body else refs\n",
    "\n",
    "    # Fallback to original single-block logic if no sections were produced\n",
    "    if not body:\n",
    "        blk = find_block(r)\n",
    "        if not blk and getattr(r, \"content\", None): blk = r.content[0]\n",
    "        if hasattr(blk, \"text\"): body = blk.text.strip()\n",
    "        elif hasattr(blk, \"content\"): body = blk.content.strip()\n",
    "        elif hasattr(blk, \"source\"): body = f\"*Media Type - {blk.type}*\"\n",
    "        else: body = str(blk)\n",
    "\n",
    "    # Wrap with collapsible thinking details when a ThinkingBlock is present\n",
    "    tk_blk = find_block(r, blk_type=ThinkingBlock)\n",
    "    if tk_blk: body = think_md(body, tk_blk.thinking.strip())\n",
    "\n",
    "    return body"
   ]
  },
  {
   "cell_type": "markdown",
   "id": "d03cab2b",
   "metadata": {},
   "source": [
    "The `str_replace` special tool type is a client side tool, i.e., one where we provide the implementation. However, Anthropic also supports server side tools. THe current one available is their search tool, which you can find the documentation for [here](https://docs.anthropic.com/en/docs/build-with-claude/tool-use/web-search-tool). When provided as a tool to claude, claude can decide to search the web in order to answer or solve the task at hand."
   ]
  },
  {
   "cell_type": "code",
   "execution_count": null,
   "id": "15530715",
   "metadata": {},
   "outputs": [],
   "source": [
    "#| export\n",
    "def search_conf(max_uses:int=None, allowed_domains:list=None, blocked_domains:list=None, user_location:dict=None):\n",
    "    conf = {'type': 'web_search_20250305', 'name': 'web_search'}\n",
    "    if max_uses: conf['max_uses'] = max_uses\n",
    "    if allowed_domains: conf['allowed_domains'] = allowed_domains\n",
    "    if blocked_domains: conf['blocked_domains'] = blocked_domains\n",
    "    if user_location: conf['user_location'] = user_location\n",
    "    return conf"
   ]
  },
  {
   "cell_type": "code",
   "execution_count": null,
   "id": "c56f4f72",
   "metadata": {},
   "outputs": [
    {
     "data": {
      "text/markdown": [
       "I'll check the current weather in San Diego for you.\n",
       "\n",
       "*Tool Use Type - web_search*\n",
       "\n",
       "Based on the search results, here's the current weather information for San Diego:\n",
       "\n",
       "Today's high temperatures for the coastal areas of San Diego are expected to be between 65 to 70°F, while the western valleys and inland Orange County will see temperatures of 70 to 75°F. The inland valleys will experience temperatures ranging from 70 to 78°F. [1]\n",
       "\n",
       "\n",
       "\n",
       "The weather is a few degrees warmer than Tuesday, with some areas like the Inland Empire experiencing temperatures 15 to 20 degrees warmer. The forecast indicates it will get much warmer by the weekend with hot temperatures inland. [2] [3]\n",
       "\n",
       "\n",
       "\n",
       "Currently, there are no weather watches, warnings, or advisories in effect for the San Diego area. [4]\n",
       "\n",
       "\n",
       "\n",
       "It's worth noting that the air quality has reached a high level of pollution and is considered unhealthy for sensitive groups. If you experience symptoms such as difficulty breathing or throat irritation, it's recommended to reduce time spent outside. [5]\n",
       "\n",
       "For context about May weather in San Diego generally:\n",
       "\n",
       "San Diego typically experiences mild temperatures in May, with an average temperature around 61.9°F (16.6°C). Daytime highs usually reach about 68.5°F (20.3°C), making it perfect for outdoor activities without the intense summer heat. Nighttime temperatures typically drop to approximately 56.3°F (13.5°C), which might require a light jacket in the evening. [6]\n",
       "\n",
       "\n",
       "\n",
       "The city usually enjoys about 7.5 hours of sunshine per day in May, contributing to its reputation for pleasant and mild weather. [7]\n",
       "\n",
       "\n",
       "\n",
       "May is one of the drier months in San Diego, with minimal rainfall averaging just 10mm spread over approximately 2 rainy days. [8]\n",
       "\n",
       "[1]: https://www.weather.gov/sgx/\n",
       "[2]: https://www.weather.gov/sgx/\n",
       "[3]: https://www.weather.gov/sgx/\n",
       "[4]: https://www.weather.gov/sgx/\n",
       "[5]: https://www.accuweather.com/en/us/san-diego/92101/weather-forecast/347628\n",
       "[6]: https://en.climate-data.org/north-america/united-states-of-america/california/san-diego-714969/t/may-5/\n",
       "[7]: https://en.climate-data.org/north-america/united-states-of-america/california/san-diego-714969/t/may-5/\n",
       "[8]: https://en.climate-data.org/north-america/united-states-of-america/california/san-diego-714969/t/may-5/\n",
       "\n",
       "<details>\n",
       "\n",
       "- id: `msg_01WdmULgwaKrsLx6TWx7bPKj`\n",
       "- content: `[{'citations': None, 'text': \"I'll check the current weather in San Diego for you.\", 'type': 'text'}, {'citations': None, 'text': None, 'type': 'server_tool_use', 'id': 'srvtoolu_012uvBzPCuU1JgqyGgNsZexT', 'name': 'web_search', 'input': {'query': 'San Diego weather today May 08 2025'}}, {'citations': None, 'text': None, 'type': 'web_search_tool_result', 'tool_use_id': 'srvtoolu_012uvBzPCuU1JgqyGgNsZexT', 'content': [{'type': 'web_search_result', 'title': 'San Diego, CA Monthly Weather | AccuWeather', 'url': 'https://www.accuweather.com/en/us/san-diego/92101/may-weather/347628', 'encrypted_content': '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', 'page_age': None}, {'type': 'web_search_result', 'title': 'San Diego weather in May 2025 | San Diego 14 day weather', 'url': 'https://www.weather25.com/north-america/usa/california/san-diego?page=month&month=May', 'encrypted_content': 'EvIHCioIAxgCIiQ4ODk4YTFkYy0yMTNkLTRhNmYtOTljYi03ZTBlNTUzZDc0NWISDLFyzChzH8zPQgO/sBoMfigl9ouaN/XkbouhIjDF9YtBJCEAZ4A4yNKEquC1Fur7Xjc5XJTZCe6fmJ0iQcV7aDW08MG0+NMjJbP/98wq9QbpW58QFlYagfgMk1CHTorHYs6JBFy1UMRDI2KYLPljPj5YHCCgNHa3jAsCf2dooyDmnYBKsg4bOnLzW3A1Tu+yAhdkx4UGTYU6QNbE8BmiXMaX9Qf1h8sF+iO0QFZyM77GdnP/ARQ7qbzU/mxaBOr2ks88603KHyWdL2C/NZizPB3Z8my+tm5zeVwZYCI4NBKM3DqPpwVbDCnlLwVPVt3ahUeVAF3Wu03a1Way3i5ULAWbBkPnHseYn1gLnWkt/eAob2MYePz4IjfaYYcfA3VpLpfv/GLb2aqrSk+xqV/mJg/MSgrGRIhbl1CvZkonTeK5o2ygqEZK0uzhhuqrHRDaCX6X3CaquEMSIu8BEvnRBT5DFpgzVSiIXf2kb3dalc7R2lJTDErJ+yNQkzQcRcGGZvWsl+a8rMPdWVknH0lSeHvynU7H2lOTUpXlF/quBj1RMFMrmRy6RuIqqfsp6W8cmNXCglYgmT9BGFyesZ68Z0AnauJ7C33SXzG+S8hbs90mEvErUso0KTvGbKr6/6N49Vhl9/rfCQ+1UL8TLFHUybFEemOG3GNR6Xel98/cdpTqx1mdcw9w68XzlS2HXCFzSkXdZX8ZJo+0/h5iFtMQwcPndExwgruE5s+f9x3OO0jQzJpTktiNQ2H0he+If4Ocsi7EQ3Hk6d+N8NeiuZ/3ziosd1w3FY9QCDJ5bKhT7GKcnUsDf0RphlxZjI9fFFlnlNwMaA5wsTX4ErKBzWFbK9LlObmm5ehe2PS/aSV4F9pPMzQWiwDf0498cF1ITkItE4fIer33T7wE6+XLRA6VeqnHY3UzRK7T3fgI0EHUCB5hN+t+S735mhUWWGlazp03oxwJUVjeqy21MhUrpbizG7nCZ2mIyouSYT/knTIXjQBH4ojp27sG2X5VbP22fhevIc3S+r07knPUWRJr5ZwJVKBu1hTAxu8zBZQF9micEWPUPmc0KTGHq4zk0W7WMAUNsZ9vLHC9VtPuE5fTmoQ6uI3dgTK2uFbG3rZqVjj0DhxuBVH5g5rOIvd3QH36l22Pkwhci32HFCnot++WiagqrIxssLqcRIPXcZQmzSYeE97c4AwmFGN0eo9FzknDbsziQS7CFyZ1o6kzvwPleNYv70VD773sLlnNztsdCUFYq6GFFWR/goRdkK8/4g7FiK0eZoBGtvcYAw==', 'page_age': None}, {'type': 'web_search_result', 'title': 'San Diego weather in May 2025 | California, USA', 'url': 'https://www.weather2travel.com/california/san-diego/may/', 'encrypted_content': 'EswKCioIAxgCIiQ4ODk4YTFkYy0yMTNkLTRhNmYtOTljYi03ZTBlNTUzZDc0NWISDElobTfw3GIhS8j0KxoMiPzTJqrVI5C98jhPIjC34/26bUeAyzM0+VZeK/VZVolGytFNFBS8cAC6UZW8SjhHaTCSA4zIUtwC+/UAdHUqzwkOieUIlJrnl/kv2WRoxmy6Q6OyQQ/S0YqRCwZlqwN5XW/sTSufVBx7PpVQ7Pqb23d1lmaSdYXNKsTft5kS6SKZgHUjv3Tm6fFKs1JlpKObyMv+v2U4TbLmyjoih3ENFMq4qBh8A3MRp5EmyIBqSb7MoG9B0ZaDZrgyqlZtyJUarBWDu4xUUKLR02BTrGPllHtL9xJKeAZcUSCFBAczpc39ZqsHMESiW2jqg8Us9WCKyjT5hQgNVNHEeYS6v8zb+QOzN7CNY0pewigUO4ljimaNm+w46Vz5jv8JoKTAM9Kw3H73RsLWqmCdPr5Gy/bJKSQM0i3tVHfVD4+ucP3OvIWGGYYmhZ1XzRRTAUQfwt5FVxPmACRhOmFDe6koSOxNrAXucVYKGBdCjwdeUXPqxbgLNNeOkMCOA/jZ0964t7DAQNYXarX5hP02khtAn/3AE9PCfIa/UyiC2z+gXrHU75PMg3NLHnXuxPc6Tehr4qEemFxABfxdUDT4VIjJidtJlePeiLCrlrhLUjKjWMfXY1FetIegTv4lU9EiAdXIDJUpxN8QujXHZKeYvl1w51ahEKZT9TqROGcaqAlN4w8stpNkuFI+rvmw/eFFlbtrjx4VoFt1xaozEhYOKwdsW6sGEV/X5DpccqeuWjTTaLTrOY1928JaSScHir9AOw3+Um31XubgGAy96oOdrLWS2h+taqVaA3K5tssnloK/tTNYAoW5y2oqUVosclHIETmm+YGBOzVxrZOl25NtCtAGoeUSdXNfMbFkX2rak/v/GIAGeoA1Dnblq/XfZaVOA4ltmrY7l9yYQ/Pu0hECzpGKTQwhvn3j4NWIBbJZyy5QBFOQwveFvJErggMLNAo1m3+Xhtz51FuDK4OZovNUsQshHOBdwOEhghi3KCBfVMiP3mZAZ2Xs2oHFkRcQpj+46JX+/s7uYOAej+HIbyUkxMdVjubqnW6iSSw8SRPj4rvH/mt2wY9VLcl9AI9U0UkKUdcl9RDBEUgolag7EvRhXDq2JRXqXCF0ctdP8xwKdMqV7EPErbRxLWMGuSehyr+c3S0MkS4OZA9SkdF8g3a4pKuuSGUHVxD3WdTz1yij01mNw3xH9LMtDKHg0F2GgilS0UDRlTbVmCbJwLJ7YEROLi7OMzOkNSdnUTRGOab3Msji/ReYj0WGjGEPztFjA8D/VdUaiJw8wOv8O1Tj5o33tqNDSTAN9mBMj/w2XDf3LTy2nPVqibwAkhzepsSkqKcmhvMeto7uT4fnzHrhg8dcV9Rrd9GxOoOSTa7R/ktkDstqU0bXCefa3m3zoHamENyKHex5Uh0I4I0VXUEuUTo4vz67BL43ga3BS7qbPTuinYkEViwtpERiOo6xR8ga3GR9B763ahQwYGQIegBAlkeliA5Uch3GtMTV75SZOyiweQjiLtLlA9ctSp7IyraBvK/Lv9ZjNpldLczWb8G6EzF4vkBKFZEQXd0eKrwdzvEWYJrm7E3zn8IftXL8AAKd33+ZxHKL1Nnp+N9pueCvT6tPIVnXKeNa86daz/wmY9PTJM6Ed1d7p6IY2ZDgMlR9xoWaSr+yjfStfCqSy8UBjACWjmkbxT386trt3xQVGqh0aCw+xNB/aTgeMXE02CdQ+OnG8kE5ToBrGAM=', 'page_age': None}, {'type': 'web_search_result', 'title': 'Weather San Diego in May 2025: Temperature & Climate', 'url': 'https://en.climate-data.org/north-america/united-states-of-america/california/san-diego-714969/t/may-5/', 'encrypted_content': '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', 'page_age': None}, {'type': 'web_search_result', 'title': 'San Diego, CA', 'url': 'https://www.weather.gov/sgx/', 'encrypted_content': 'EugFCioIAxgCIiQ4ODk4YTFkYy0yMTNkLTRhNmYtOTljYi03ZTBlNTUzZDc0NWISDMYeqGuLTawmseZaSRoMzCRynV4HgahGXN9qIjD/e7ExkKEO5lUIZdra1vjXtL6qk/wbGooYixLUr4rc/SxVhuEqIhkIMMhnsGmqtfUq6wQR+7kSmBLiNcrRGqK107YDpHt/oUJI205ZXT+KsuKRm/We2e+MgKrr67KH4+cSHIsEUaNpqjFZIJZyJlMISDdYg6IT7nm64ZlQZqvQqhqturuLnpE5Xatu/lrDSSeHY7rrTZGOWeM1Iped2+0ugIVh3G2RzwFukyD+v8BOs3fz3YjRFSAYlePDnnMqPdZ26MyJv2oM5Jm9UWteyKOyRLdOm+JZwwoHjxPP94p7g4D5n8sDq/CvDeqtkSKf2S9pFgeKzXmh0SENGMlY/3nWODhjruxiFlxzcWrvN8iYJYVW3NQXVYcSdMTGWbaqMnewvCiIty2BnA60e8DHeCiSdxy/X4iGEp7p65E7Y0TYj+I4o1jM/NPUHCt/imBoWWle3jd/MoeLQQH6JFRvnwz7j7CWvuL8B+TTfkMWpNJDupXVYCIRfMlLYUndWld2cUIfAiAPZmxqIFf3TzDYuy6Wx92RUY+hPnziV6XLmLSd6mfI8IJpmHP0aoR1uUxxLBpFqgdpdonRQ+ZWXTrHLnHxtQ9i3oO2Y31BbczeBI+k+QWkU5MR4yCFa34TD0SEkptdJUg1YxlIUrkOR6Smt9ICABc5FPXtxMHZlMz8yegJpThznmKEPw2TScaC0iyi98+poLTAWw+adGDh93HeePPidgTwjf+/BqNLoJOMgkV+xRBNjELI76mMEScvRC9zfqMCsRbbxFwN4AHguKnPG8Z1RFopjTFFnq5xGpQy1X5jT797S6RUoRNt6s5V4XYUnbXEDl1IEjo9KgiEhnIxPnQP3ze1SxEXcKo74zzSSewtjpeqwC8/30xzfnqJzHYvGAM=', 'page_age': None}, {'type': 'web_search_result', 'title': 'Weather in San Diego in May 2025 (California) - detailed Weather Forecast for a month', 'url': 'https://world-weather.info/forecast/usa/san_diego/may-2025/', 'encrypted_content': 'EvADCioIAxgCIiQ4ODk4YTFkYy0yMTNkLTRhNmYtOTljYi03ZTBlNTUzZDc0NWISDB8lallFao307oDQvBoMGQQJuA6lgIDj5oG0IjBweAdzvP5XCGIGllIwZVcpU6/vH5RnW8eMh9JuYKfmUr+r1RnVy6Djn8IKZifN9V0q8wILMlwp/QocdEKL8o3AQTt92CzujIkKF7N1rveR+bHDNbC1PpbJQNvTwERYvKuY8eO54dzgIQAHIMuik25L0iJsrOX559t1NLD/0UzWwJCqtIxR52BRLSw6JUwl2Z1pVE5LpPUt3fjb7KMyRQe9FuDMkXyKKUCwp8xB3765JpSymN8pjg3klhl/4q7x8nf0obzFETQFgpxEhvQ+4GqQKeZfe0VCqUCMImjq7SMu5uHhnjMoWStWSj18YSKtyTe6FkUDmW9Erkj1AxhZpvMB/dIcCtrznJQdnbd9GzmpXhCG8G76a0hMWoJFhfDvxoOKpaVNyV9YFIhdIkQAZkPUDzb+ipOtVi47OuRrY3fOSPKGH5jIYxs6CV7TZjbgBbJMIaV5OBqmQbaYQvIfx5R7QID02nIyfze3dnEkELsECUl05Ypwo0KoXrez+VUTO63kYDhAvCC5CXhDyLhUCD7Ap/knoQvfLCuhTSLKnNLO4mTSdiMu3hgD', 'page_age': None}, {'type': 'web_search_result', 'title': '60-Day Extended Weather Forecast for San Diego, CA | Almanac.com', 'url': 'https://www.almanac.com/weather/longrange/CA/San%20Diego', 'encrypted_content': 'EqsDCioIAxgCIiQ4ODk4YTFkYy0yMTNkLTRhNmYtOTljYi03ZTBlNTUzZDc0NWISDMJb9g8EKECUzJTrRBoMKUXGL/O2qHB1WCepIjC9bS3u3oUVOUdGl2K4R7+an0KXRUoHgkfu6n8DzqR1Q9RPuWMnkE5NBG81YTQIF1AqrgJn+mCeWDPNX62IhbjF88lMOhaTKB14fhvHasOzjvPq87LZMS8vUSd2Fww4Jn474qb6AWb57lPUvl2zU568JZQ5UdMSopsDPkhnE12On9zzu35PbIeBN/JHx4+SRo4f0UAaw0Z8EvqOBIjt9pE7LCEH+VMH+tiSM6twvNoVXQdZOSONCnQA8/Vvn/xF5JvaCc8yBaSUdeAzbFRrp9rupPJFkjnMxCMEaDztEpYbKo+eO6ZQTI6qpRc3mXoe9AJpLBDGeL7lclHU+Yv71l7G7XppDH/Eidyaa5uB99xy1iDsKzJccNHfclsoehiHww+8cFny1TkErBvlznz5z7jDbwfe11CDv564aZJ7ZRRG3yrN7eMIDxBDNykBdaeEX2xqz1c0aFan6Ivi2qXlJgbdnRgD', 'page_age': None}, {'type': 'web_search_result', 'title': 'Weather in San Diego County in May 2025 - Detailed Forecast', 'url': 'https://www.easeweather.com/north-america/united-states/california/san-diego-county/may', 'encrypted_content': 'EuoTCioIAxgCIiQ4ODk4YTFkYy0yMTNkLTRhNmYtOTljYi03ZTBlNTUzZDc0NWISDDV6CxIbev9rqceOnhoMROnoVQyuI+MILyUYIjCvVJwreOXmenActfWJduWzplvgEzHbNMVRM98qmKzwiEmx1A9gJDvMV7Q87E9bqzwq7RJoy8S6FSbdqNckEisDoSlfC+Xj6IQiDV8RCABTkKiONzUiuvbx+vJS9ENj4KxR53gYLn2ootao3dk6q67o78eEllZs3Cw+dg7+lTRDl3KckTIR1+7abPJj/ckpORz4lqhH0zG1Bu74NABVICuc9VOZn7cW4GW9tpPDncJ9VJbhcZg0KYOJ4hNlvd1A7PpolA4j0XJO14lyFjiEJDKBEgZxCooYbzpoyDhEdel1XRihMDoeCjFQdCBNYNGvxUGdU4h9kGYiT6OVKCSrgSVPXrGoVFEFG2vO9xjTe8RRkUJwW/dM7X2m7+IY//HXcxVxWwBM4+SgMvZZogLSzyE9XGDmKVDkf7ZPtZO7q5UC7hsfaePdn+JrigCqz/KtQIaw3YgGtce5KpHs/Sn3x1B0yTY6AUOMSZZ2qSIY0jE+CxGlG0s00SgjykXEDYDcB1aMaDmXbUXS/HR70zLikji5aeZzcRMPnzP76VuI4pfhGdfiKX779+XuQBIvPqs/JyPVqNQWy4SsBT8v0xFPzzr5w73P2bVJpx1m0iP/XGxiPriI4lwTZL7FOzPwSHT8qBzcwF8/fDh2m0nUCXBq6MZwvx8AWXAR6QXUQIveNU7C9J+PdsETc9syg58BWCiPIiv8OGmdFN0KL28vDmLqv0Y5rqLRZ7sHeO+GacafTQWohFKp7PH6a5SOFr1sQINIzFIy0erdYM19JxhzYztz2sFBHGUmUhyKNFXuQ/vQFfiKZJQah0mX5VK0HPr8jlswekGenrtShC4NvkNdXVCmuRrPraTJOjWYpoUuH6qJDYgb8hEzTN0dA0k7/rWkGM9gRWPiGRTdqYPvEg4y5SJ72dXMzN2Hhv+/Jtw3RKYfKJ94MmOI5mUGHq5WZxNMZxmQO0RxTFhpERDGs458D4+/NR+2Fj9Bb/XuX0XfTJzufkMZ21gZzsBajWDYQ/v9LleA+KdmV0ySMFepM3Bn4ZoqXRxGyRtkCtnhpH11Uh0ymXJEEY3BiMpxN2Nz6ZLqLLrShfxDS1O6hzGN542jaehEpQuMbzNr8G/8dRrZS8l2+m6pAw1m+pQFx8PSB+n2IQblmPhkVosSvRx1bSwt7wohoCKgIpy00Lq8V7Xtt7hcYc9We+0gR52yiUQuAw8iVWcwWmsuEOTRNWH4B0HY0tIDk3eh+maHGXJGENQM5A+PkKLPWCmstbvH2DZz30Ko5K/IEdrR/blcHOp13ItzG9t/fWXe++Xn+HuMX6nwpCZV3eKDqj8PV5MLETUMUJu0/EN6zzlrMVCgRjmota/M0ViyIG/ceF6jslWVKAghxbvhkel3xnqtuekWGP0F/lNZTltQbvA0VphiVZikjo/PaUf/YVU/97lT/wauybJpWL9PqyEcJs+BNX44hk8TLPsGZRPfXsMLv6P650Gf+6IRnOKmN20Em49sIhyMKWY5ePgFOBR7Pn01IuYRPWV97hT3cr1ymivWPtZOLahnqCDKNt3dVqJklDByQ4RqjkeqxR9D+yVkrE/MDIf1/21SKGQKWQlngyTUNWf5687xn5h2XtYebthlucVfSjfiSbElNWt9MgcDz+LNoWLt/w/DqcCTHR0eoY2L41vdN5izUOAE7rh2z3HfpWTj7CXzq1E48EQe3ixW9HYMV9HFBCzQuzszmVeESDBVUF/GawN7FV60knL2K4Vah9k48Sv/bAf0ZSqQ6VUINkVVNQ/L5nb9XhqcEitv4r1LibQedCmvs3EUgx9dOuZRpqFMvv5VlSeR0VcV2j73XlABxWqgQNoiQCaS5gozgjTa8o7nCeHQBPVMXeuAqNlVPs3v+9VGA3/ate5H2HA3xwRmp4Pi1+mNEYhqIBSixutdUIShMLCZMYMv/kJotqMrehgxzv7cHr+GtpSWR9FCjf7sdp2DvsVl/ILjoSB186QcMMOlAga1q38fT1xXISotc36FkRGaVmW6YGTxDPMo+5FjmgjUnLMsW84wtnWbXyJNEPIfHyI2d6VzWQ64Fl9XGPk/RHpBBL30WlTNLVU0Sgm/lqufHtR+cPpjy+m8wh0Za7qylAJiKafNFQBc3yiaH31fsS8PCID8aCSWQ1wVBzfs4i/YFy8BxvB6PP7AO73mCG9LvMmsqR4W1m7H2s9fNYBLnKqXJIhH6Todo1jRq+83LY7sA72f6JDh2qGo9+qE46nt3u7J4yWpNZLEqMewvzsVz421NzEwh8aZP/kYryDWL0T3sCcUQuzivrTtgdMd2WAcrDdSDwOnCL++J4zLrKWD1PpSM0bIuUgQkxlrz1TfA/OStjOd0iSGqu5E9hufEew96tV9GIsl9qzdbzvvoZ8juzFZjaVKTJxJkH+lvZaesuxgrjzvdLsTwK2ncfrtPkop3K3TRbTAE8Q5kFmN0ugY0SC6mbrHxRdpg7vt5DEOyZdZXgCe0MUlp/SAR5nHRVZga7Yui6TLwSH54Hg+JqB+EFvzPAKCidKY3/Y7L0+UiqKveSz4ttWED5nIaaCrPSEJqpr2rjYgmpfUveEXoQlnTfacgdu3hg5KrpJuZj+m1A0qlFpVNTcOk+g6jj7D7czgeIW/5o2pY4MlaB2U5kfOoOqEN00zC3uyuhsOxofOOq79Yl8rOkApGiuFEChHBvRicDyyGweUiyxs86yxx7gPVLtQa7OffBHbEdkftHvrGVAkrGeVWj0EZnk6Oc42M3rTgvO179E7ER1B8Fdif10p3z6lA4uKFY96Z+BTPPQVU/3ElPNRYxgNwlqG1eyMKtMTxEeG49cJahsctx2QBXYLOJWiowBBPIGibeM/bh3C3EHbu4JJdFP6HM3d84w+vwX65Z4EJ59o1xArLKhDV6dcXtmKV3n6pLOBHeMU5w9QZLu6rVxppfPTiYzoL883Prh1Pwh1RNgAdB98CRcYhGrOcFiGiWJiZY9mOySdbHm8TvgPr4MWEogFcNYHNbRiegPB2vRu2IOunlWJg773QoQdclvwBtVnIRkd+c+Bjqf2UT6w1NSEQ1jAzWDEqnlEybJS2OnbHw+ZF/l7MARsi3q9loT31msiMYGsRLyHQrZlESflyAidXew3MosMDySuSl7wlFuMq5+5TtMFTwuEkOPFuGHdiTlU5SaiFIqT6TcGGSWOzSNmRfow2sp9JycJrBrgedck2umanWkJKn/6hLvIG0TZZoTRTlOtc7yHa1CporuWwUbZ41AvjIOUxxB6iNevgnCEZbHTuSRAJ+gsGAM=', 'page_age': '1 week ago'}, {'type': 'web_search_result', 'title': 'San Diego, CA Weather Forecast | AccuWeather', 'url': 'https://www.accuweather.com/en/us/san-diego/92101/weather-forecast/347628', 'encrypted_content': 'EuEJCioIAxgCIiQ4ODk4YTFkYy0yMTNkLTRhNmYtOTljYi03ZTBlNTUzZDc0NWISDPNZ+5NmVMB6O2aPfRoMqaqBZI109GaBFa5RIjAbn+dKOuspfNJXu8ZzG4j8BZ/GogvOvqEh2qwcFcKOjuPz8qQ146RKG5wB/HIxmyQq5AhmL8IzH8i49SQ9bXBeQKdLAFD+4ahp44UPhqZpL/ilJHQ2sg/ZIoEMJX3ExPzgDBWTUGN2kExechXQWB+i66zVMmEonqshyu4K/qyiWSoWpID3RCC3AuZORvSVy+UZmQQBMdPRltbzLBlWic78MLojRQHkfHDxyY0EYqU2zkdhUS8b6tn0neX/8Zf7a9zW6+/izTCrFOZlrTh9bsKR3En8n0S/U20GB3qdT2S4wRywqrqoaakyehDxbjD4QkubjFBXdEiBSg6WVjhKFv5vJKzx7XqKrhHsJnTViJD/O9z79v4HAMX++RU+0WGjQjcBVqTZuChaozqz8mTt8ttNzNs6tHZipfH26ZtKqdgp4cu9oL+9+tFPkpODrGIJxf4wtHIk9Zq/wOWrOHe1CLJiFpR9U3iBCKji6JCNomQTzyN/RHf3OHuyAtmHmnIpgV9rJmsKNUMaWGbkU+OCXKhuUwnOzZdNKf1otKaxwUk8nQAm+j/txSDOJwweSi1oMj+4lUpDKtdhA4ioHc0hvVV6FiKTfG++I1N/M+fZ1EqjTaoT0jdQJjPMZ+UPjLpAEzDqKsqK2g586aouoLmidX4wOJbhaU4PkzEFFY5VcYXjWDFQO3nzagha+bJHc/LRFO2m7i4ijdIWs3zBmEXiwlOLdI4kwQsqucO69oUJes8f9mn4nz66Pr4nIQTgRhpMJrZiykQPXmCV4eX8mJYDJgq18mQY9jhc6u+UNQL7oKWLs3EIl+6vpltY2oRSfuHxYl6u8smmFu3XlrzZG+WIAWFqii9ecpJ/G52kwXQzqRoKqZwz9gz+fKfIab3nelE2p8c4Q2VKdsT7gjxjyXerjqJGU0RCtJd97oy3Zm5OM52nTqamhgAMiepPa1++GJZHMeMHzeMqRiPQVp202AJDz7p4GU51ZqW2driGZvYhriNzRfwOR1/gTeyxyDvGvA5iMZ+9/EmlhX3Ned/z1/nSwXClORbS5cjoxXVgL3W55c1u6sJaMr50cwIJmpulqgMREsUGVgkKs0d72Ru/vxt0ThCXbbhysdTycnEF9pvC+BmRj+98BsXwmu2rMmE8OrPJ5UHAWpBbryo4zs0MyFsIw1D+3mDTKK7shDm0J7yiAHLjWPvsf24Vp9vzeQWc/pnCqcv8n0hwz5BPMuRo8G6r1YA+yPay1V4hgJKTZccOLxPkrABrsBYK0W1V7txUYkvKp8Uj0MJgbOv9o0IK9KKeufoMKcW/AyE7u2APuf1axHNUyRf3brxSAceI+jZEQNtyJono5JKd91q9ghkN6xF1IVmjw8C1lxWwFRDBSmwiCWYtFB/+6AIJ7bx7L5svcNI/0qK3fybVGDqlxMTqrTK1+fiPAjexV4Qne+KzZzGNzVccP0Mv5FO99VfJzVUka/HL42cqwqHiDk2B6nHiqGeDNDQ3b9VMho8hCrKWBQJhYMM08PQA01sZYQnlQOql39y+lLqCHRlw83lFpdEB/ujCn/O3/zPiugsuWRgD', 'page_age': None}, {'type': 'web_search_result', 'title': 'South San Diego, CA Monthly Weather | AccuWeather', 'url': 'https://www.accuweather.com/en/us/south-san-diego/92154/may-weather/2178586', 'encrypted_content': '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', 'page_age': None}]}, {'citations': None, 'text': \"\\n\\nBased on the search results, here's the current weather information for San Diego:\\n\\n\", 'type': 'text'}, {'citations': [{'cited_text': 'High temperatures for today for the coastal areas: 65 to 70, western valleys and inland Orange County: 70 to 75, inland valleys: 70 to 78, mountains b...', 'document_index': None, 'document_title': None, 'end_char_index': None, 'start_char_index': None, 'type': 'web_search_result_location', 'url': 'https://www.weather.gov/sgx/', 'title': 'San Diego, CA', 'encrypted_index': 'Eo8BCioIAxgCIiQ4ODk4YTFkYy0yMTNkLTRhNmYtOTljYi03ZTBlNTUzZDc0NWISDLzx1fK6uv3fL+UsjBoM1ClK6QzDXL0eRACaIjCm0UKeJOkkQ9WyNmRqfahPfYHhFqjFc9GBnjDdGjYb4/K//SjycUOkUiNGfsmP5l4qE7wa7UuNIFSSuKnlxoZs2g0cCxkYBA=='}], 'text': \"Today's high temperatures for the coastal areas of San Diego are expected to be between 65 to 70°F, while the western valleys and inland Orange County will see temperatures of 70 to 75°F. The inland valleys will experience temperatures ranging from 70 to 78°F.\", 'type': 'text'}, {'citations': None, 'text': '\\n\\n', 'type': 'text'}, {'citations': [{'cited_text': '... A few degrees warmer than Tuesday for lower elevations to as much as 15 to 20 degrees warmer for the Inland Empire. ', 'document_index': None, 'document_title': None, 'end_char_index': None, 'start_char_index': None, 'type': 'web_search_result_location', 'url': 'https://www.weather.gov/sgx/', 'title': 'San Diego, CA', 'encrypted_index': 'Eo8BCioIAxgCIiQ4ODk4YTFkYy0yMTNkLTRhNmYtOTljYi03ZTBlNTUzZDc0NWISDBmVCgEBSDdFB2r3yRoMWYjOluIMBkNw8n64IjBZVgtrlAPMgjSWOKXxK2+s3pFbhg4RHrBus7eXtJBULHdjXhyy0Lg/H+tesJXtvm0qE7sITxWPI6PC8KrBUPgx9/jtQ8MYBA=='}, {'cited_text': 'Read More... Much warmer by the weekend with hot temperatures inland. ', 'document_index': None, 'document_title': None, 'end_char_index': None, 'start_char_index': None, 'type': 'web_search_result_location', 'url': 'https://www.weather.gov/sgx/', 'title': 'San Diego, CA', 'encrypted_index': 'Eo8BCioIAxgCIiQ4ODk4YTFkYy0yMTNkLTRhNmYtOTljYi03ZTBlNTUzZDc0NWISDClDftdPzcTsa0xb5BoMyL/z8WS52KN4XZhtIjA4MTgCJ4EsxUHHerP5gPp7XJX78qHI26asqXbtNc9KwZ/x66itaE6QIhgFgTckqIoqE2oa6ZGLIufwMiMV3YtZEOpELTYYBA=='}], 'text': 'The weather is a few degrees warmer than Tuesday, with some areas like the Inland Empire experiencing temperatures 15 to 20 degrees warmer. The forecast indicates it will get much warmer by the weekend with hot temperatures inland.', 'type': 'text'}, {'citations': None, 'text': '\\n\\n', 'type': 'text'}, {'citations': [{'cited_text': 'There are no watches, warnings, or advisories at this time. ', 'document_index': None, 'document_title': None, 'end_char_index': None, 'start_char_index': None, 'type': 'web_search_result_location', 'url': 'https://www.weather.gov/sgx/', 'title': 'San Diego, CA', 'encrypted_index': 'Eo8BCioIAxgCIiQ4ODk4YTFkYy0yMTNkLTRhNmYtOTljYi03ZTBlNTUzZDc0NWISDDjNjb54pscoFdkGMBoMn4ZLapK2u1HuVE8dIjCfA26/8++k1n+XvwJuzRj7hphs1oo4Sps9IUo0TRtc5O0UGTI8N2Setzv66D8nZoIqE1V6Z/3Xq/etBahdsg+nQHJjOekYBA=='}], 'text': 'Currently, there are no weather watches, warnings, or advisories in effect for the San Diego area.', 'type': 'text'}, {'citations': None, 'text': '\\n\\n', 'type': 'text'}, {'citations': [{'cited_text': 'The air has reached a high level of pollution and is unhealthy for sensitive groups. Reduce time spent outside if you are feeling symptoms such as dif...', 'document_index': None, 'document_title': None, 'end_char_index': None, 'start_char_index': None, 'type': 'web_search_result_location', 'url': 'https://www.accuweather.com/en/us/san-diego/92101/weather-forecast/347628', 'title': 'San Diego, CA Weather Forecast | AccuWeather', 'encrypted_index': 'EpEBCioIAxgCIiQ4ODk4YTFkYy0yMTNkLTRhNmYtOTljYi03ZTBlNTUzZDc0NWISDLo3kaFsCR8J+D07hRoMs67LrkxJYIMFpJfQIjDi3X0A0M6oh7RpbaUmH/CrU253I5NRrAMXUI5pls1ndslAEw3UVLdfB2AwGp+YtlYqFS65dSf+v1KAkYkbH5AR230CwWVAFBgE'}], 'text': \"It's worth noting that the air quality has reached a high level of pollution and is considered unhealthy for sensitive groups. If you experience symptoms such as difficulty breathing or throat irritation, it's recommended to reduce time spent outside.\", 'type': 'text'}, {'citations': None, 'text': '\\n\\nFor context about May weather in San Diego generally:\\n\\n', 'type': 'text'}, {'citations': [{'cited_text': 'The average temperature during this month is around 61.9°F (16.6°C). Daytime highs typically reach about 68.5°F (20.3°C), providing perfect weather fo...', 'document_index': None, 'document_title': None, 'end_char_index': None, 'start_char_index': None, 'type': 'web_search_result_location', 'url': 'https://en.climate-data.org/north-america/united-states-of-america/california/san-diego-714969/t/may-5/', 'title': 'Weather San Diego in May 2025: Temperature & Climate', 'encrypted_index': 'EpMBCioIAxgCIiQ4ODk4YTFkYy0yMTNkLTRhNmYtOTljYi03ZTBlNTUzZDc0NWISDMxfJjKT11Bwt7JpKxoMjwNK13jh+Icx5g2BIjCbWl8v2UBljdR9Zqcuipgbm7qC3CsmrsJk0JkOh1bEQpqqVdFo+LeIM413ePGCukYqF87jj/b62HiOaQJ5vWWYY+QDDaemRAzvGAQ='}], 'text': 'San Diego typically experiences mild temperatures in May, with an average temperature around 61.9°F (16.6°C). Daytime highs usually reach about 68.5°F (20.3°C), making it perfect for outdoor activities without the intense summer heat. Nighttime temperatures typically drop to approximately 56.3°F (13.5°C), which might require a light jacket in the evening.', 'type': 'text'}, {'citations': None, 'text': '\\n\\n', 'type': 'text'}, {'citations': [{'cited_text': \"San Diego enjoys an average of 7.5 hours of sunshine per day in May. This amount of sunlight contributes to the city's reputation for having pleasant ...\", 'document_index': None, 'document_title': None, 'end_char_index': None, 'start_char_index': None, 'type': 'web_search_result_location', 'url': 'https://en.climate-data.org/north-america/united-states-of-america/california/san-diego-714969/t/may-5/', 'title': 'Weather San Diego in May 2025: Temperature & Climate', 'encrypted_index': 'EpMBCioIAxgCIiQ4ODk4YTFkYy0yMTNkLTRhNmYtOTljYi03ZTBlNTUzZDc0NWISDONb7BMgaFTH3XU9mBoMU0bfVMGLTA3zcWsEIjCOk9hpFPmQYX+t9pzSy0FEaIZFus7l443Jn8MPSWBz5gx7Y8pjtC5l/kQ/gc3h5RoqF45N0yY3uXhotXbwfjtg+0ZKJoeIoNfJGAQ='}], 'text': 'The city usually enjoys about 7.5 hours of sunshine per day in May, contributing to its reputation for pleasant and mild weather.', 'type': 'text'}, {'citations': None, 'text': '\\n\\n', 'type': 'text'}, {'citations': [{'cited_text': 'San Diego experiences minimal rainfall in May, with an average precipitation of just 10mm spread over approximately 2 rainy days. This makes May one o...', 'document_index': None, 'document_title': None, 'end_char_index': None, 'start_char_index': None, 'type': 'web_search_result_location', 'url': 'https://en.climate-data.org/north-america/united-states-of-america/california/san-diego-714969/t/may-5/', 'title': 'Weather San Diego in May 2025: Temperature & Climate', 'encrypted_index': 'EpMBCioIAxgCIiQ4ODk4YTFkYy0yMTNkLTRhNmYtOTljYi03ZTBlNTUzZDc0NWISDNnvyWyHK5UrkeHiBBoM1ld0vE02QRgj25OVIjBbtlb+AKVoLwcWReNh53pcm1lHO84lp3eaIjRMeavdQiolswnmhzn83zClXLqdkKYqF9S2GG7zCKa66Wr4A6Cbu/1Ayu2Sey2oGAQ='}], 'text': 'May is one of the drier months in San Diego, with minimal rainfall averaging just 10mm spread over approximately 2 rainy days.', 'type': 'text'}]`\n",
       "- model: `claude-3-7-sonnet-20250219`\n",
       "- role: `assistant`\n",
       "- stop_reason: `end_turn`\n",
       "- stop_sequence: `None`\n",
       "- type: `message`\n",
       "- usage: `{'cache_creation_input_tokens': 0, 'cache_read_input_tokens': 11922, 'input_tokens': 11, 'output_tokens': 578, 'server_tool_use': {'web_search_requests': 1}}`\n",
       "\n",
       "</details>"
      ],
      "text/plain": [
       "Message(id='msg_01WdmULgwaKrsLx6TWx7bPKj', content=[TextBlock(citations=None, text=\"I'll check the current weather in San Diego for you.\", type='text'), TextBlock(citations=None, text=None, type='server_tool_use', id='srvtoolu_012uvBzPCuU1JgqyGgNsZexT', name='web_search', input={'query': 'San Diego weather today May 08 2025'}), TextBlock(citations=None, text=None, type='web_search_tool_result', tool_use_id='srvtoolu_012uvBzPCuU1JgqyGgNsZexT', content=[{'type': 'web_search_result', 'title': 'San Diego, CA Monthly Weather | AccuWeather', 'url': 'https://www.accuweather.com/en/us/san-diego/92101/may-weather/347628', 'encrypted_content': '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', 'page_age': None}, {'type': 'web_search_result', 'title': 'San Diego weather in May 2025 | San Diego 14 day weather', 'url': 'https://www.weather25.com/north-america/usa/california/san-diego?page=month&month=May', 'encrypted_content': 'EvIHCioIAxgCIiQ4ODk4YTFkYy0yMTNkLTRhNmYtOTljYi03ZTBlNTUzZDc0NWISDLFyzChzH8zPQgO/sBoMfigl9ouaN/XkbouhIjDF9YtBJCEAZ4A4yNKEquC1Fur7Xjc5XJTZCe6fmJ0iQcV7aDW08MG0+NMjJbP/98wq9QbpW58QFlYagfgMk1CHTorHYs6JBFy1UMRDI2KYLPljPj5YHCCgNHa3jAsCf2dooyDmnYBKsg4bOnLzW3A1Tu+yAhdkx4UGTYU6QNbE8BmiXMaX9Qf1h8sF+iO0QFZyM77GdnP/ARQ7qbzU/mxaBOr2ks88603KHyWdL2C/NZizPB3Z8my+tm5zeVwZYCI4NBKM3DqPpwVbDCnlLwVPVt3ahUeVAF3Wu03a1Way3i5ULAWbBkPnHseYn1gLnWkt/eAob2MYePz4IjfaYYcfA3VpLpfv/GLb2aqrSk+xqV/mJg/MSgrGRIhbl1CvZkonTeK5o2ygqEZK0uzhhuqrHRDaCX6X3CaquEMSIu8BEvnRBT5DFpgzVSiIXf2kb3dalc7R2lJTDErJ+yNQkzQcRcGGZvWsl+a8rMPdWVknH0lSeHvynU7H2lOTUpXlF/quBj1RMFMrmRy6RuIqqfsp6W8cmNXCglYgmT9BGFyesZ68Z0AnauJ7C33SXzG+S8hbs90mEvErUso0KTvGbKr6/6N49Vhl9/rfCQ+1UL8TLFHUybFEemOG3GNR6Xel98/cdpTqx1mdcw9w68XzlS2HXCFzSkXdZX8ZJo+0/h5iFtMQwcPndExwgruE5s+f9x3OO0jQzJpTktiNQ2H0he+If4Ocsi7EQ3Hk6d+N8NeiuZ/3ziosd1w3FY9QCDJ5bKhT7GKcnUsDf0RphlxZjI9fFFlnlNwMaA5wsTX4ErKBzWFbK9LlObmm5ehe2PS/aSV4F9pPMzQWiwDf0498cF1ITkItE4fIer33T7wE6+XLRA6VeqnHY3UzRK7T3fgI0EHUCB5hN+t+S735mhUWWGlazp03oxwJUVjeqy21MhUrpbizG7nCZ2mIyouSYT/knTIXjQBH4ojp27sG2X5VbP22fhevIc3S+r07knPUWRJr5ZwJVKBu1hTAxu8zBZQF9micEWPUPmc0KTGHq4zk0W7WMAUNsZ9vLHC9VtPuE5fTmoQ6uI3dgTK2uFbG3rZqVjj0DhxuBVH5g5rOIvd3QH36l22Pkwhci32HFCnot++WiagqrIxssLqcRIPXcZQmzSYeE97c4AwmFGN0eo9FzknDbsziQS7CFyZ1o6kzvwPleNYv70VD773sLlnNztsdCUFYq6GFFWR/goRdkK8/4g7FiK0eZoBGtvcYAw==', 'page_age': None}, {'type': 'web_search_result', 'title': 'San Diego weather in May 2025 | California, USA', 'url': 'https://www.weather2travel.com/california/san-diego/may/', 'encrypted_content': 'EswKCioIAxgCIiQ4ODk4YTFkYy0yMTNkLTRhNmYtOTljYi03ZTBlNTUzZDc0NWISDElobTfw3GIhS8j0KxoMiPzTJqrVI5C98jhPIjC34/26bUeAyzM0+VZeK/VZVolGytFNFBS8cAC6UZW8SjhHaTCSA4zIUtwC+/UAdHUqzwkOieUIlJrnl/kv2WRoxmy6Q6OyQQ/S0YqRCwZlqwN5XW/sTSufVBx7PpVQ7Pqb23d1lmaSdYXNKsTft5kS6SKZgHUjv3Tm6fFKs1JlpKObyMv+v2U4TbLmyjoih3ENFMq4qBh8A3MRp5EmyIBqSb7MoG9B0ZaDZrgyqlZtyJUarBWDu4xUUKLR02BTrGPllHtL9xJKeAZcUSCFBAczpc39ZqsHMESiW2jqg8Us9WCKyjT5hQgNVNHEeYS6v8zb+QOzN7CNY0pewigUO4ljimaNm+w46Vz5jv8JoKTAM9Kw3H73RsLWqmCdPr5Gy/bJKSQM0i3tVHfVD4+ucP3OvIWGGYYmhZ1XzRRTAUQfwt5FVxPmACRhOmFDe6koSOxNrAXucVYKGBdCjwdeUXPqxbgLNNeOkMCOA/jZ0964t7DAQNYXarX5hP02khtAn/3AE9PCfIa/UyiC2z+gXrHU75PMg3NLHnXuxPc6Tehr4qEemFxABfxdUDT4VIjJidtJlePeiLCrlrhLUjKjWMfXY1FetIegTv4lU9EiAdXIDJUpxN8QujXHZKeYvl1w51ahEKZT9TqROGcaqAlN4w8stpNkuFI+rvmw/eFFlbtrjx4VoFt1xaozEhYOKwdsW6sGEV/X5DpccqeuWjTTaLTrOY1928JaSScHir9AOw3+Um31XubgGAy96oOdrLWS2h+taqVaA3K5tssnloK/tTNYAoW5y2oqUVosclHIETmm+YGBOzVxrZOl25NtCtAGoeUSdXNfMbFkX2rak/v/GIAGeoA1Dnblq/XfZaVOA4ltmrY7l9yYQ/Pu0hECzpGKTQwhvn3j4NWIBbJZyy5QBFOQwveFvJErggMLNAo1m3+Xhtz51FuDK4OZovNUsQshHOBdwOEhghi3KCBfVMiP3mZAZ2Xs2oHFkRcQpj+46JX+/s7uYOAej+HIbyUkxMdVjubqnW6iSSw8SRPj4rvH/mt2wY9VLcl9AI9U0UkKUdcl9RDBEUgolag7EvRhXDq2JRXqXCF0ctdP8xwKdMqV7EPErbRxLWMGuSehyr+c3S0MkS4OZA9SkdF8g3a4pKuuSGUHVxD3WdTz1yij01mNw3xH9LMtDKHg0F2GgilS0UDRlTbVmCbJwLJ7YEROLi7OMzOkNSdnUTRGOab3Msji/ReYj0WGjGEPztFjA8D/VdUaiJw8wOv8O1Tj5o33tqNDSTAN9mBMj/w2XDf3LTy2nPVqibwAkhzepsSkqKcmhvMeto7uT4fnzHrhg8dcV9Rrd9GxOoOSTa7R/ktkDstqU0bXCefa3m3zoHamENyKHex5Uh0I4I0VXUEuUTo4vz67BL43ga3BS7qbPTuinYkEViwtpERiOo6xR8ga3GR9B763ahQwYGQIegBAlkeliA5Uch3GtMTV75SZOyiweQjiLtLlA9ctSp7IyraBvK/Lv9ZjNpldLczWb8G6EzF4vkBKFZEQXd0eKrwdzvEWYJrm7E3zn8IftXL8AAKd33+ZxHKL1Nnp+N9pueCvT6tPIVnXKeNa86daz/wmY9PTJM6Ed1d7p6IY2ZDgMlR9xoWaSr+yjfStfCqSy8UBjACWjmkbxT386trt3xQVGqh0aCw+xNB/aTgeMXE02CdQ+OnG8kE5ToBrGAM=', 'page_age': None}, {'type': 'web_search_result', 'title': 'Weather San Diego in May 2025: Temperature & Climate', 'url': 'https://en.climate-data.org/north-america/united-states-of-america/california/san-diego-714969/t/may-5/', 'encrypted_content': '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', 'page_age': None}, {'type': 'web_search_result', 'title': 'San Diego, CA', 'url': 'https://www.weather.gov/sgx/', 'encrypted_content': 'EugFCioIAxgCIiQ4ODk4YTFkYy0yMTNkLTRhNmYtOTljYi03ZTBlNTUzZDc0NWISDMYeqGuLTawmseZaSRoMzCRynV4HgahGXN9qIjD/e7ExkKEO5lUIZdra1vjXtL6qk/wbGooYixLUr4rc/SxVhuEqIhkIMMhnsGmqtfUq6wQR+7kSmBLiNcrRGqK107YDpHt/oUJI205ZXT+KsuKRm/We2e+MgKrr67KH4+cSHIsEUaNpqjFZIJZyJlMISDdYg6IT7nm64ZlQZqvQqhqturuLnpE5Xatu/lrDSSeHY7rrTZGOWeM1Iped2+0ugIVh3G2RzwFukyD+v8BOs3fz3YjRFSAYlePDnnMqPdZ26MyJv2oM5Jm9UWteyKOyRLdOm+JZwwoHjxPP94p7g4D5n8sDq/CvDeqtkSKf2S9pFgeKzXmh0SENGMlY/3nWODhjruxiFlxzcWrvN8iYJYVW3NQXVYcSdMTGWbaqMnewvCiIty2BnA60e8DHeCiSdxy/X4iGEp7p65E7Y0TYj+I4o1jM/NPUHCt/imBoWWle3jd/MoeLQQH6JFRvnwz7j7CWvuL8B+TTfkMWpNJDupXVYCIRfMlLYUndWld2cUIfAiAPZmxqIFf3TzDYuy6Wx92RUY+hPnziV6XLmLSd6mfI8IJpmHP0aoR1uUxxLBpFqgdpdonRQ+ZWXTrHLnHxtQ9i3oO2Y31BbczeBI+k+QWkU5MR4yCFa34TD0SEkptdJUg1YxlIUrkOR6Smt9ICABc5FPXtxMHZlMz8yegJpThznmKEPw2TScaC0iyi98+poLTAWw+adGDh93HeePPidgTwjf+/BqNLoJOMgkV+xRBNjELI76mMEScvRC9zfqMCsRbbxFwN4AHguKnPG8Z1RFopjTFFnq5xGpQy1X5jT797S6RUoRNt6s5V4XYUnbXEDl1IEjo9KgiEhnIxPnQP3ze1SxEXcKo74zzSSewtjpeqwC8/30xzfnqJzHYvGAM=', 'page_age': None}, {'type': 'web_search_result', 'title': 'Weather in San Diego in May 2025 (California) - detailed Weather Forecast for a month', 'url': 'https://world-weather.info/forecast/usa/san_diego/may-2025/', 'encrypted_content': 'EvADCioIAxgCIiQ4ODk4YTFkYy0yMTNkLTRhNmYtOTljYi03ZTBlNTUzZDc0NWISDB8lallFao307oDQvBoMGQQJuA6lgIDj5oG0IjBweAdzvP5XCGIGllIwZVcpU6/vH5RnW8eMh9JuYKfmUr+r1RnVy6Djn8IKZifN9V0q8wILMlwp/QocdEKL8o3AQTt92CzujIkKF7N1rveR+bHDNbC1PpbJQNvTwERYvKuY8eO54dzgIQAHIMuik25L0iJsrOX559t1NLD/0UzWwJCqtIxR52BRLSw6JUwl2Z1pVE5LpPUt3fjb7KMyRQe9FuDMkXyKKUCwp8xB3765JpSymN8pjg3klhl/4q7x8nf0obzFETQFgpxEhvQ+4GqQKeZfe0VCqUCMImjq7SMu5uHhnjMoWStWSj18YSKtyTe6FkUDmW9Erkj1AxhZpvMB/dIcCtrznJQdnbd9GzmpXhCG8G76a0hMWoJFhfDvxoOKpaVNyV9YFIhdIkQAZkPUDzb+ipOtVi47OuRrY3fOSPKGH5jIYxs6CV7TZjbgBbJMIaV5OBqmQbaYQvIfx5R7QID02nIyfze3dnEkELsECUl05Ypwo0KoXrez+VUTO63kYDhAvCC5CXhDyLhUCD7Ap/knoQvfLCuhTSLKnNLO4mTSdiMu3hgD', 'page_age': None}, {'type': 'web_search_result', 'title': '60-Day Extended Weather Forecast for San Diego, CA | Almanac.com', 'url': 'https://www.almanac.com/weather/longrange/CA/San%20Diego', 'encrypted_content': 'EqsDCioIAxgCIiQ4ODk4YTFkYy0yMTNkLTRhNmYtOTljYi03ZTBlNTUzZDc0NWISDMJb9g8EKECUzJTrRBoMKUXGL/O2qHB1WCepIjC9bS3u3oUVOUdGl2K4R7+an0KXRUoHgkfu6n8DzqR1Q9RPuWMnkE5NBG81YTQIF1AqrgJn+mCeWDPNX62IhbjF88lMOhaTKB14fhvHasOzjvPq87LZMS8vUSd2Fww4Jn474qb6AWb57lPUvl2zU568JZQ5UdMSopsDPkhnE12On9zzu35PbIeBN/JHx4+SRo4f0UAaw0Z8EvqOBIjt9pE7LCEH+VMH+tiSM6twvNoVXQdZOSONCnQA8/Vvn/xF5JvaCc8yBaSUdeAzbFRrp9rupPJFkjnMxCMEaDztEpYbKo+eO6ZQTI6qpRc3mXoe9AJpLBDGeL7lclHU+Yv71l7G7XppDH/Eidyaa5uB99xy1iDsKzJccNHfclsoehiHww+8cFny1TkErBvlznz5z7jDbwfe11CDv564aZJ7ZRRG3yrN7eMIDxBDNykBdaeEX2xqz1c0aFan6Ivi2qXlJgbdnRgD', 'page_age': None}, {'type': 'web_search_result', 'title': 'Weather in San Diego County in May 2025 - Detailed Forecast', 'url': 'https://www.easeweather.com/north-america/united-states/california/san-diego-county/may', 'encrypted_content': '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', 'page_age': '1 week ago'}, {'type': 'web_search_result', 'title': 'San Diego, CA Weather Forecast | AccuWeather', 'url': 'https://www.accuweather.com/en/us/san-diego/92101/weather-forecast/347628', 'encrypted_content': 'EuEJCioIAxgCIiQ4ODk4YTFkYy0yMTNkLTRhNmYtOTljYi03ZTBlNTUzZDc0NWISDPNZ+5NmVMB6O2aPfRoMqaqBZI109GaBFa5RIjAbn+dKOuspfNJXu8ZzG4j8BZ/GogvOvqEh2qwcFcKOjuPz8qQ146RKG5wB/HIxmyQq5AhmL8IzH8i49SQ9bXBeQKdLAFD+4ahp44UPhqZpL/ilJHQ2sg/ZIoEMJX3ExPzgDBWTUGN2kExechXQWB+i66zVMmEonqshyu4K/qyiWSoWpID3RCC3AuZORvSVy+UZmQQBMdPRltbzLBlWic78MLojRQHkfHDxyY0EYqU2zkdhUS8b6tn0neX/8Zf7a9zW6+/izTCrFOZlrTh9bsKR3En8n0S/U20GB3qdT2S4wRywqrqoaakyehDxbjD4QkubjFBXdEiBSg6WVjhKFv5vJKzx7XqKrhHsJnTViJD/O9z79v4HAMX++RU+0WGjQjcBVqTZuChaozqz8mTt8ttNzNs6tHZipfH26ZtKqdgp4cu9oL+9+tFPkpODrGIJxf4wtHIk9Zq/wOWrOHe1CLJiFpR9U3iBCKji6JCNomQTzyN/RHf3OHuyAtmHmnIpgV9rJmsKNUMaWGbkU+OCXKhuUwnOzZdNKf1otKaxwUk8nQAm+j/txSDOJwweSi1oMj+4lUpDKtdhA4ioHc0hvVV6FiKTfG++I1N/M+fZ1EqjTaoT0jdQJjPMZ+UPjLpAEzDqKsqK2g586aouoLmidX4wOJbhaU4PkzEFFY5VcYXjWDFQO3nzagha+bJHc/LRFO2m7i4ijdIWs3zBmEXiwlOLdI4kwQsqucO69oUJes8f9mn4nz66Pr4nIQTgRhpMJrZiykQPXmCV4eX8mJYDJgq18mQY9jhc6u+UNQL7oKWLs3EIl+6vpltY2oRSfuHxYl6u8smmFu3XlrzZG+WIAWFqii9ecpJ/G52kwXQzqRoKqZwz9gz+fKfIab3nelE2p8c4Q2VKdsT7gjxjyXerjqJGU0RCtJd97oy3Zm5OM52nTqamhgAMiepPa1++GJZHMeMHzeMqRiPQVp202AJDz7p4GU51ZqW2driGZvYhriNzRfwOR1/gTeyxyDvGvA5iMZ+9/EmlhX3Ned/z1/nSwXClORbS5cjoxXVgL3W55c1u6sJaMr50cwIJmpulqgMREsUGVgkKs0d72Ru/vxt0ThCXbbhysdTycnEF9pvC+BmRj+98BsXwmu2rMmE8OrPJ5UHAWpBbryo4zs0MyFsIw1D+3mDTKK7shDm0J7yiAHLjWPvsf24Vp9vzeQWc/pnCqcv8n0hwz5BPMuRo8G6r1YA+yPay1V4hgJKTZccOLxPkrABrsBYK0W1V7txUYkvKp8Uj0MJgbOv9o0IK9KKeufoMKcW/AyE7u2APuf1axHNUyRf3brxSAceI+jZEQNtyJono5JKd91q9ghkN6xF1IVmjw8C1lxWwFRDBSmwiCWYtFB/+6AIJ7bx7L5svcNI/0qK3fybVGDqlxMTqrTK1+fiPAjexV4Qne+KzZzGNzVccP0Mv5FO99VfJzVUka/HL42cqwqHiDk2B6nHiqGeDNDQ3b9VMho8hCrKWBQJhYMM08PQA01sZYQnlQOql39y+lLqCHRlw83lFpdEB/ujCn/O3/zPiugsuWRgD', 'page_age': None}, {'type': 'web_search_result', 'title': 'South San Diego, CA Monthly Weather | AccuWeather', 'url': 'https://www.accuweather.com/en/us/south-san-diego/92154/may-weather/2178586', 'encrypted_content': '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', 'page_age': None}]), TextBlock(citations=None, text=\"\\n\\nBased on the search results, here's the current weather information for San Diego:\\n\\n\", type='text'), TextBlock(citations=[CitationCharLocation(cited_text='High temperatures for today for the coastal areas: 65 to 70, western valleys and inland Orange County: 70 to 75, inland valleys: 70 to 78, mountains b...', document_index=None, document_title=None, end_char_index=None, start_char_index=None, type='web_search_result_location', url='https://www.weather.gov/sgx/', title='San Diego, CA', encrypted_index='Eo8BCioIAxgCIiQ4ODk4YTFkYy0yMTNkLTRhNmYtOTljYi03ZTBlNTUzZDc0NWISDLzx1fK6uv3fL+UsjBoM1ClK6QzDXL0eRACaIjCm0UKeJOkkQ9WyNmRqfahPfYHhFqjFc9GBnjDdGjYb4/K//SjycUOkUiNGfsmP5l4qE7wa7UuNIFSSuKnlxoZs2g0cCxkYBA==')], text=\"Today's high temperatures for the coastal areas of San Diego are expected to be between 65 to 70°F, while the western valleys and inland Orange County will see temperatures of 70 to 75°F. The inland valleys will experience temperatures ranging from 70 to 78°F.\", type='text'), TextBlock(citations=None, text='\\n\\n', type='text'), TextBlock(citations=[CitationCharLocation(cited_text='... A few degrees warmer than Tuesday for lower elevations to as much as 15 to 20 degrees warmer for the Inland Empire. ', document_index=None, document_title=None, end_char_index=None, start_char_index=None, type='web_search_result_location', url='https://www.weather.gov/sgx/', title='San Diego, CA', encrypted_index='Eo8BCioIAxgCIiQ4ODk4YTFkYy0yMTNkLTRhNmYtOTljYi03ZTBlNTUzZDc0NWISDBmVCgEBSDdFB2r3yRoMWYjOluIMBkNw8n64IjBZVgtrlAPMgjSWOKXxK2+s3pFbhg4RHrBus7eXtJBULHdjXhyy0Lg/H+tesJXtvm0qE7sITxWPI6PC8KrBUPgx9/jtQ8MYBA=='), CitationCharLocation(cited_text='Read More... Much warmer by the weekend with hot temperatures inland. ', document_index=None, document_title=None, end_char_index=None, start_char_index=None, type='web_search_result_location', url='https://www.weather.gov/sgx/', title='San Diego, CA', encrypted_index='Eo8BCioIAxgCIiQ4ODk4YTFkYy0yMTNkLTRhNmYtOTljYi03ZTBlNTUzZDc0NWISDClDftdPzcTsa0xb5BoMyL/z8WS52KN4XZhtIjA4MTgCJ4EsxUHHerP5gPp7XJX78qHI26asqXbtNc9KwZ/x66itaE6QIhgFgTckqIoqE2oa6ZGLIufwMiMV3YtZEOpELTYYBA==')], text='The weather is a few degrees warmer than Tuesday, with some areas like the Inland Empire experiencing temperatures 15 to 20 degrees warmer. The forecast indicates it will get much warmer by the weekend with hot temperatures inland.', type='text'), TextBlock(citations=None, text='\\n\\n', type='text'), TextBlock(citations=[CitationCharLocation(cited_text='There are no watches, warnings, or advisories at this time. ', document_index=None, document_title=None, end_char_index=None, start_char_index=None, type='web_search_result_location', url='https://www.weather.gov/sgx/', title='San Diego, CA', encrypted_index='Eo8BCioIAxgCIiQ4ODk4YTFkYy0yMTNkLTRhNmYtOTljYi03ZTBlNTUzZDc0NWISDDjNjb54pscoFdkGMBoMn4ZLapK2u1HuVE8dIjCfA26/8++k1n+XvwJuzRj7hphs1oo4Sps9IUo0TRtc5O0UGTI8N2Setzv66D8nZoIqE1V6Z/3Xq/etBahdsg+nQHJjOekYBA==')], text='Currently, there are no weather watches, warnings, or advisories in effect for the San Diego area.', type='text'), TextBlock(citations=None, text='\\n\\n', type='text'), TextBlock(citations=[CitationCharLocation(cited_text='The air has reached a high level of pollution and is unhealthy for sensitive groups. Reduce time spent outside if you are feeling symptoms such as dif...', document_index=None, document_title=None, end_char_index=None, start_char_index=None, type='web_search_result_location', url='https://www.accuweather.com/en/us/san-diego/92101/weather-forecast/347628', title='San Diego, CA Weather Forecast | AccuWeather', encrypted_index='EpEBCioIAxgCIiQ4ODk4YTFkYy0yMTNkLTRhNmYtOTljYi03ZTBlNTUzZDc0NWISDLo3kaFsCR8J+D07hRoMs67LrkxJYIMFpJfQIjDi3X0A0M6oh7RpbaUmH/CrU253I5NRrAMXUI5pls1ndslAEw3UVLdfB2AwGp+YtlYqFS65dSf+v1KAkYkbH5AR230CwWVAFBgE')], text=\"It's worth noting that the air quality has reached a high level of pollution and is considered unhealthy for sensitive groups. If you experience symptoms such as difficulty breathing or throat irritation, it's recommended to reduce time spent outside.\", type='text'), TextBlock(citations=None, text='\\n\\nFor context about May weather in San Diego generally:\\n\\n', type='text'), TextBlock(citations=[CitationCharLocation(cited_text='The average temperature during this month is around 61.9°F (16.6°C). Daytime highs typically reach about 68.5°F (20.3°C), providing perfect weather fo...', document_index=None, document_title=None, end_char_index=None, start_char_index=None, type='web_search_result_location', url='https://en.climate-data.org/north-america/united-states-of-america/california/san-diego-714969/t/may-5/', title='Weather San Diego in May 2025: Temperature & Climate', encrypted_index='EpMBCioIAxgCIiQ4ODk4YTFkYy0yMTNkLTRhNmYtOTljYi03ZTBlNTUzZDc0NWISDMxfJjKT11Bwt7JpKxoMjwNK13jh+Icx5g2BIjCbWl8v2UBljdR9Zqcuipgbm7qC3CsmrsJk0JkOh1bEQpqqVdFo+LeIM413ePGCukYqF87jj/b62HiOaQJ5vWWYY+QDDaemRAzvGAQ=')], text='San Diego typically experiences mild temperatures in May, with an average temperature around 61.9°F (16.6°C). Daytime highs usually reach about 68.5°F (20.3°C), making it perfect for outdoor activities without the intense summer heat. Nighttime temperatures typically drop to approximately 56.3°F (13.5°C), which might require a light jacket in the evening.', type='text'), TextBlock(citations=None, text='\\n\\n', type='text'), TextBlock(citations=[CitationCharLocation(cited_text=\"San Diego enjoys an average of 7.5 hours of sunshine per day in May. This amount of sunlight contributes to the city's reputation for having pleasant ...\", document_index=None, document_title=None, end_char_index=None, start_char_index=None, type='web_search_result_location', url='https://en.climate-data.org/north-america/united-states-of-america/california/san-diego-714969/t/may-5/', title='Weather San Diego in May 2025: Temperature & Climate', encrypted_index='EpMBCioIAxgCIiQ4ODk4YTFkYy0yMTNkLTRhNmYtOTljYi03ZTBlNTUzZDc0NWISDONb7BMgaFTH3XU9mBoMU0bfVMGLTA3zcWsEIjCOk9hpFPmQYX+t9pzSy0FEaIZFus7l443Jn8MPSWBz5gx7Y8pjtC5l/kQ/gc3h5RoqF45N0yY3uXhotXbwfjtg+0ZKJoeIoNfJGAQ=')], text='The city usually enjoys about 7.5 hours of sunshine per day in May, contributing to its reputation for pleasant and mild weather.', type='text'), TextBlock(citations=None, text='\\n\\n', type='text'), TextBlock(citations=[CitationCharLocation(cited_text='San Diego experiences minimal rainfall in May, with an average precipitation of just 10mm spread over approximately 2 rainy days. This makes May one o...', document_index=None, document_title=None, end_char_index=None, start_char_index=None, type='web_search_result_location', url='https://en.climate-data.org/north-america/united-states-of-america/california/san-diego-714969/t/may-5/', title='Weather San Diego in May 2025: Temperature & Climate', encrypted_index='EpMBCioIAxgCIiQ4ODk4YTFkYy0yMTNkLTRhNmYtOTljYi03ZTBlNTUzZDc0NWISDNnvyWyHK5UrkeHiBBoM1ld0vE02QRgj25OVIjBbtlb+AKVoLwcWReNh53pcm1lHO84lp3eaIjRMeavdQiolswnmhzn83zClXLqdkKYqF9S2GG7zCKa66Wr4A6Cbu/1Ayu2Sey2oGAQ=')], text='May is one of the drier months in San Diego, with minimal rainfall averaging just 10mm spread over approximately 2 rainy days.', type='text')], model='claude-3-7-sonnet-20250219', role='assistant', stop_reason='end_turn', stop_sequence=None, type='message', usage=In: 11; Out: 578; Cache create: 0; Cache read: 11922; Total: 12511)"
      ]
     },
     "execution_count": null,
     "metadata": {},
     "output_type": "execute_result"
    }
   ],
   "source": [
    "chat = Chat(model, sp=sp, tools=[search_conf()], cache=True)\n",
    "pr = 'What is the weather in San Diego?'\n",
    "chat(pr)"
   ]
  },
  {
   "cell_type": "markdown",
   "id": "b1580f5c",
   "metadata": {},
   "source": [
    "## Third party providers"
   ]
  },
  {
   "cell_type": "markdown",
   "id": "bd88f878",
   "metadata": {},
   "source": [
    "### Amazon Bedrock"
   ]
  },
  {
   "cell_type": "markdown",
   "id": "a6ecba86",
   "metadata": {},
   "source": [
    "These are Amazon's current Claude models:"
   ]
  },
  {
   "cell_type": "code",
   "execution_count": null,
   "id": "81d16826",
   "metadata": {},
   "outputs": [
    {
     "data": {
      "text/plain": [
       "['claude-3-5-haiku-20241022',\n",
       " 'claude-3-7-sonnet-20250219',\n",
       " 'anthropic.claude-3-opus-20240229-v1:0',\n",
       " 'anthropic.claude-3-5-sonnet-20241022-v2:0']"
      ]
     },
     "execution_count": null,
     "metadata": {},
     "output_type": "execute_result"
    }
   ],
   "source": [
    "models_aws"
   ]
  },
  {
   "cell_type": "markdown",
   "id": "7a194f45",
   "metadata": {},
   "source": [
    ":::{.callout-note}\n",
    "\n",
    "`anthropic` at version 0.34.2 seems not to install `boto3` as a dependency. You may need to do a `pip install boto3` or the creation of the `Client` below fails.\n",
    "\n",
    ":::"
   ]
  },
  {
   "cell_type": "markdown",
   "id": "9b8b2bc4",
   "metadata": {},
   "source": [
    "Provided `boto3` is installed, we otherwise don't need any extra code to support Amazon Bedrock -- we just have to set up the approach client:"
   ]
  },
  {
   "cell_type": "code",
   "execution_count": null,
   "id": "08cb7585",
   "metadata": {},
   "outputs": [],
   "source": [
    "ab = AnthropicBedrock(\n",
    "    aws_access_key=os.environ['AWS_ACCESS_KEY'],\n",
    "    aws_secret_key=os.environ['AWS_SECRET_KEY'],\n",
    ")\n",
    "client = Client(models_aws[-1], ab)"
   ]
  },
  {
   "cell_type": "code",
   "execution_count": null,
   "id": "f1f2f214",
   "metadata": {},
   "outputs": [],
   "source": [
    "chat = Chat(cli=client)"
   ]
  },
  {
   "cell_type": "code",
   "execution_count": null,
   "id": "ec54a422",
   "metadata": {},
   "outputs": [],
   "source": [
    "chat(\"I'm Jeremy\")"
   ]
  },
  {
   "cell_type": "markdown",
   "id": "1b331146",
   "metadata": {},
   "source": [
    "### Google Vertex"
   ]
  },
  {
   "cell_type": "code",
   "execution_count": null,
   "id": "fdb46839",
   "metadata": {},
   "outputs": [],
   "source": [
    "models_goog"
   ]
  },
  {
   "cell_type": "code",
   "execution_count": null,
   "id": "30921ab4",
   "metadata": {},
   "outputs": [],
   "source": [
    "from anthropic import AnthropicVertex\n",
    "import google.auth"
   ]
  },
  {
   "cell_type": "code",
   "execution_count": null,
   "id": "c00ef664",
   "metadata": {},
   "outputs": [],
   "source": [
    "project_id = google.auth.default()[1]\n",
    "region = \"us-east5\"\n",
    "gv = AnthropicVertex(project_id=project_id, region=region)\n",
    "client = Client(models_goog[-1], gv)"
   ]
  },
  {
   "cell_type": "code",
   "execution_count": null,
   "id": "7d0481b5",
   "metadata": {},
   "outputs": [],
   "source": [
    "chat = Chat(cli=client)"
   ]
  },
  {
   "cell_type": "code",
   "execution_count": null,
   "id": "11006ae0",
   "metadata": {},
   "outputs": [],
   "source": [
    "chat(\"I'm Jeremy\")"
   ]
  },
  {
   "cell_type": "markdown",
   "id": "94ec4289",
   "metadata": {},
   "source": [
    "## Export -"
   ]
  },
  {
   "cell_type": "code",
   "execution_count": null,
   "id": "1e9ee5c1",
   "metadata": {},
   "outputs": [],
   "source": [
    "#|hide\n",
    "#|eval: false\n",
    "from nbdev.doclinks import nbdev_export\n",
    "nbdev_export()"
   ]
  },
  {
   "cell_type": "code",
   "execution_count": null,
   "id": "12a64c67",
   "metadata": {},
   "outputs": [],
   "source": []
  }
 ],
 "metadata": {
  "kernelspec": {
   "display_name": "python3",
   "language": "python",
   "name": "python3"
  }
 },
 "nbformat": 4,
 "nbformat_minor": 5
}
