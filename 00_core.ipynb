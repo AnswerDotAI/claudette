{
 "cells": [
  {
   "cell_type": "code",
   "execution_count": null,
   "id": "efe78920",
   "metadata": {},
   "outputs": [],
   "source": [
    "#|default_exp core"
   ]
  },
  {
   "cell_type": "markdown",
   "id": "3d773712-12fe-440e-891f-36f59666dfde",
   "metadata": {},
   "source": [
    "# AI-Magic"
   ]
  },
  {
   "cell_type": "markdown",
   "id": "ff6f6471-8061-4fdd-85a1-25fdc27c5cf3",
   "metadata": {},
   "source": [
    "## Setup"
   ]
  },
  {
   "cell_type": "markdown",
   "id": "0acead63",
   "metadata": {},
   "source": [
    "- Retrieval:\n",
    "  - Include `-i URL` on `%%ai` line to grab that and put all in context\n",
    "    - Optionally print the extracted URL\n",
    "    - `-f` force downloading rather than using cache\n",
    "    - Use 'Distributing Jupyter Extensions as Python Packages' as an example\n",
    "  - `%ai add_docs URL {-n name} {-d depth}` to grab and embed website and stick it in a local retrieval DB\n",
    "  - `%ai -r name` to do RAG over that bit of the embedding DB\n",
    "    - Optionally print the retrieved context\n",
    "- `%ai reset` should take param to set default config, such as image size and max RAG context\n",
    "- Images"
   ]
  },
  {
   "cell_type": "code",
   "execution_count": null,
   "id": "f1ad998e-4bb1-4bed-abf4-6e8606cb2453",
   "metadata": {},
   "outputs": [],
   "source": [
    "#|hide\n",
    "import os\n",
    "# os.environ['ANTHROPIC_LOG'] = 'debug'\n",
    "\n",
    "from IPython.core.magic import register_line_cell_magic"
   ]
  },
  {
   "cell_type": "code",
   "execution_count": null,
   "id": "e223d3af",
   "metadata": {},
   "outputs": [],
   "source": [
    "#| export\n",
    "import xml.etree.ElementTree as ET, json\n",
    "\n",
    "from anthropic import Anthropic\n",
    "from IPython.display import Markdown,Javascript,clear_output\n",
    "from io import BytesIO\n",
    "from html import unescape\n",
    "\n",
    "from fastcore.utils import *"
   ]
  },
  {
   "cell_type": "code",
   "execution_count": null,
   "id": "0fff8869",
   "metadata": {},
   "outputs": [],
   "source": [
    "#| export\n",
    "models = 'claude-3-opus-20240229','claude-3-sonnet-20240229','claude-3-haiku-20240307'"
   ]
  },
  {
   "cell_type": "code",
   "execution_count": null,
   "id": "dacf2bd2",
   "metadata": {},
   "outputs": [],
   "source": [
    "model = models[1]"
   ]
  },
  {
   "cell_type": "code",
   "execution_count": null,
   "id": "3eea2c12-d4ec-44fc-9038-237814a7c7bc",
   "metadata": {},
   "outputs": [],
   "source": [
    "ip = get_ipython()"
   ]
  },
  {
   "cell_type": "code",
   "execution_count": null,
   "id": "749875fa",
   "metadata": {},
   "outputs": [],
   "source": [
    "#| export\n",
    "def set_next_cell(ip, text, code=True, replace=False, execute=False):\n",
    "    \"Create or replace an nb cell underneath the active cell containing `text`\"\n",
    "    if not code: execute=True\n",
    "    ip.payload_manager.write_payload(dict(\n",
    "        source='set_next_input',\n",
    "        replace=replace, execute=execute,\n",
    "        text=text, ctype='code' if code else 'markdown'))"
   ]
  },
  {
   "cell_type": "markdown",
   "id": "863d4d81",
   "metadata": {},
   "source": [
    "## Claude helpers"
   ]
  },
  {
   "cell_type": "code",
   "execution_count": null,
   "id": "4f3e4de9",
   "metadata": {},
   "outputs": [],
   "source": [
    "#| export\n",
    "def mk_msg(content, role='user', **kw):\n",
    "    \"Helper to create a `dict` appropriate for a Claude message\"\n",
    "    return dict(role=role, content=content, **kw)"
   ]
  },
  {
   "cell_type": "code",
   "execution_count": null,
   "id": "8cfb240d",
   "metadata": {},
   "outputs": [],
   "source": [
    "#| export\n",
    "def mk_msgs(msgs, **kw):\n",
    "    \"Helper to set 'assistant' role on alternate messages\"\n",
    "    return [mk_msg(o, ('user','assistant')[i%2], **kw) if isinstance(o,str) else o\n",
    "            for i,o in enumerate(msgs)]"
   ]
  },
  {
   "cell_type": "code",
   "execution_count": null,
   "id": "660fbb78",
   "metadata": {},
   "outputs": [],
   "source": [
    "#| export\n",
    "def contents(r):\n",
    "    \"Help to get the contents from Claude response `r`\"\n",
    "    return r.content[0].text.strip()"
   ]
  },
  {
   "cell_type": "code",
   "execution_count": null,
   "id": "0e64c6e3",
   "metadata": {},
   "outputs": [],
   "source": [
    "#| export\n",
    "class AnthClient:\n",
    "    def __init__(self, model, cli=None):\n",
    "        \"Basic Anthropic messages client\"\n",
    "        self.m,self.model = (cli or Anthropic()).messages,model\n",
    "\n",
    "    def __call__(self, msgs, sp='', temp=0, maxtok=4096, stop=None):\n",
    "        return self.m.create(model=self.model, messages=mk_msgs(msgs), max_tokens=maxtok,\n",
    "                             system=sp, temperature=temp, stop_sequences=stop)\n",
    "\n",
    "    def stream(self, msgs, sp='', temp=0, maxtok=4096, stop=None):\n",
    "        with self.m.stream(model=self.model, messages=mk_msgs(msgs), max_tokens=maxtok,\n",
    "            system=sp, temperature=temp, stop_sequences=stop) as stream:\n",
    "            yield from stream.text_stream"
   ]
  },
  {
   "cell_type": "code",
   "execution_count": null,
   "id": "da082134",
   "metadata": {},
   "outputs": [],
   "source": [
    "c = AnthClient(models[-1])"
   ]
  },
  {
   "cell_type": "code",
   "execution_count": null,
   "id": "f952f263",
   "metadata": {},
   "outputs": [],
   "source": [
    "#| export\n",
    "def _mk_sysp(pre, has_nb):\n",
    "    res = 'You are a helpful assistant with deep expertise in many topics, being used inside a Jupyter Notebook environment'\n",
    "    if not pre: return res + '. You provide concise yet complete answers, with no summary or restatement of the question background.'\n",
    "    if pre[0]=='-': return res + \". Provide concise step by step instructions to complete the task as a markdown bulleted list. Don't provide much detail about each step -- the user will be going through each step in a notebook one at a time, so they will ask for more detail when they get there.\"\n",
    "    lang = pre[3:]\n",
    "    res = res + f', and are a skilled {lang} coder. You provide, using a markdown fenced block with no additional explanation, {lang} code that fully completes the task. Your code will be run in an existing notebook.'\n",
    "    if has_nb:\n",
    "        res += \"\\nThe user has just run the cells shown in `nb_cells` in the notebook you are using, so don't repeat that context.\"\n",
    "    return res"
   ]
  },
  {
   "cell_type": "code",
   "execution_count": null,
   "id": "c579a9ce",
   "metadata": {},
   "outputs": [],
   "source": [
    "#| export\n",
    "def hl_md(s, lang='xml'):\n",
    "    \"Syntax highlight `s` using `lang`\"\n",
    "    return Markdown(f'```{lang}\\n{s}\\n```')"
   ]
  },
  {
   "cell_type": "code",
   "execution_count": null,
   "id": "a9dfca1c",
   "metadata": {},
   "outputs": [],
   "source": [
    "#| export\n",
    "def to_xml(node, hl=False):\n",
    "    \"Convert `node` to an XML string\"\n",
    "    def mk_el(tag, cs, attrs):\n",
    "        el = ET.Element(tag, attrib=attrs)\n",
    "        if isinstance(cs, list): el.extend([mk_el(*o) for o in cs])\n",
    "        elif cs is not None: el.text = str(cs)\n",
    "        return el\n",
    "\n",
    "    root = mk_el(*node)\n",
    "    ET.indent(root)\n",
    "    res = ET.tostring(root, encoding='unicode')\n",
    "    return hl_md(res) if hl else res"
   ]
  },
  {
   "cell_type": "code",
   "execution_count": null,
   "id": "545f8e5c",
   "metadata": {},
   "outputs": [],
   "source": [
    "#| export\n",
    "def t(tag, c=None, **kw):\n",
    "    \"Helper to create appropriate data structure for `to_xml`\"\n",
    "    kw = {k.lstrip('_'):str(v) for k,v in kw.items()}\n",
    "    return tag,c,kw"
   ]
  },
  {
   "cell_type": "code",
   "execution_count": null,
   "id": "0cd36f5b",
   "metadata": {},
   "outputs": [],
   "source": [
    "#| export\n",
    "g = globals()\n",
    "tags = 'div','img','h1','h2','h3','h4','h5','p','hr','span','html'\n",
    "for o in tags: g[o] = partial(t, o)"
   ]
  },
  {
   "cell_type": "code",
   "execution_count": null,
   "id": "a2e2cdeb",
   "metadata": {},
   "outputs": [],
   "source": [
    "a = html([\n",
    "    p('This is a paragraph'),\n",
    "    hr(),\n",
    "    t('x-custom', foo='bar'),\n",
    "    img(src='http://example.prg'),\n",
    "    div([\n",
    "        h1('This is a header'),\n",
    "        h2('This is a sub-header', style='k:v'),\n",
    "    ], _class='foo')\n",
    "])"
   ]
  },
  {
   "cell_type": "code",
   "execution_count": null,
   "id": "25692697",
   "metadata": {},
   "outputs": [
    {
     "data": {
      "text/markdown": [
       "```xml\n",
       "<html>\n",
       "  <p>This is a paragraph</p>\n",
       "  <hr />\n",
       "  <x-custom foo=\"bar\" />\n",
       "  <img src=\"http://example.prg\" />\n",
       "  <div class=\"foo\">\n",
       "    <h1>This is a header</h1>\n",
       "    <h2 style=\"k:v\">This is a sub-header</h2>\n",
       "  </div>\n",
       "</html>\n",
       "```"
      ],
      "text/plain": [
       "<IPython.core.display.Markdown object>"
      ]
     },
     "execution_count": null,
     "metadata": {},
     "output_type": "execute_result"
    }
   ],
   "source": [
    "to_xml(a, True)"
   ]
  },
  {
   "cell_type": "code",
   "execution_count": null,
   "id": "bf251158",
   "metadata": {},
   "outputs": [],
   "source": [
    "#|export\n",
    "def json_to_xml(d, rnm):\n",
    "    root = ET.Element(rnm)\n",
    "    def build_xml(data, parent):\n",
    "        if isinstance(data, dict):\n",
    "            for key, value in data.items(): build_xml(value, ET.SubElement(parent, key))\n",
    "        elif isinstance(data, list):\n",
    "            for item in data: build_xml(item, ET.SubElement(parent, 'item'))\n",
    "        else: parent.text = str(data)\n",
    "    build_xml(d, root)\n",
    "    ET.indent(root)\n",
    "    return ET.tostring(root, encoding='unicode')"
   ]
  },
  {
   "cell_type": "code",
   "execution_count": null,
   "id": "4ef7cda9",
   "metadata": {},
   "outputs": [],
   "source": [
    "#| export\n",
    "def _get_output(o):\n",
    "    ot = o['output_type']\n",
    "    if ot in ('stream','execute_result','display_data'):\n",
    "        return t('output', o['text'] if ot=='stream' else o['data'], type=ot)\n",
    "    elif o['output_type']=='error':\n",
    "        return t('error', o['tb'], evalue=o['evalue'])\n",
    "    raise Exception(o)\n",
    "\n",
    "def _cellxml(c):\n",
    "    \"Cell `c` converted to XML\"\n",
    "    elems = [t('source', c['source'])]\n",
    "    outs = c.get('outputs', [])\n",
    "    ol = [_get_output(o) for o in outs]\n",
    "    if ol: elems.append(t('outputs', ol))\n",
    "    return t('cell', elems, type=c['cell_type'])"
   ]
  },
  {
   "cell_type": "code",
   "execution_count": null,
   "id": "db61e623",
   "metadata": {},
   "outputs": [],
   "source": [
    "#| export\n",
    "def _mk_ctx(vs, cells, ns=None):\n",
    "    \"Context for Claude using variables `vs` and nb `cells`, with variables from namespace `ns`\"\n",
    "    if not vs and not cells: return ''\n",
    "    r = []\n",
    "    if vs:\n",
    "        if not ns: ns=globals()\n",
    "        elems = [t(o, ns[o], type=type(ns[o]).__name__) for o in vs]\n",
    "        r.append(t('variables', elems))\n",
    "    if cells:\n",
    "        elems = [_cellxml(c) for c in cells]\n",
    "        r.append(t('nb_cells', elems))\n",
    "    res = to_xml(t('context', r))\n",
    "    info = 'If this XML context contains entities, they should be decoded.'\n",
    "    if '&' in res:\n",
    "        r.insert(0, t('info', info))\n",
    "        res = to_xml(t('context', r))\n",
    "    return res+'\\n' if res else ''"
   ]
  },
  {
   "cell_type": "code",
   "execution_count": null,
   "id": "a2b5d6d8",
   "metadata": {},
   "outputs": [],
   "source": [
    "b,c = 'bb',1"
   ]
  },
  {
   "cell_type": "code",
   "execution_count": null,
   "id": "b1b2ee1e",
   "metadata": {},
   "outputs": [
    {
     "name": "stdout",
     "output_type": "stream",
     "text": [
      "</code>\n"
     ]
    },
    {
     "data": {
      "text/markdown": [
       "*nice*"
      ],
      "text/plain": [
       "<IPython.core.display.Markdown object>"
      ]
     },
     "execution_count": null,
     "metadata": {},
     "output_type": "execute_result"
    }
   ],
   "source": [
    "print('</code>')\n",
    "Markdown('*nice*')"
   ]
  },
  {
   "cell_type": "code",
   "execution_count": null,
   "id": "bd4fc9dd",
   "metadata": {},
   "outputs": [],
   "source": [
    "# TODO: check on outputs"
   ]
  },
  {
   "cell_type": "code",
   "execution_count": null,
   "id": "788263d6",
   "metadata": {},
   "outputs": [
    {
     "data": {
      "text/markdown": [
       "```xml\n",
       "<context>\n",
       "  <info>If this XML context contains entities, they should be decoded.</info>\n",
       "  <variables>\n",
       "    <b type=\"str\">bb</b>\n",
       "    <c type=\"int\">1</c>\n",
       "  </variables>\n",
       "  <nb_cells>\n",
       "    <cell type=\"code\">\n",
       "      <source>print('&lt;/code&gt;')\n",
       "Markdown('*nice*')</source>\n",
       "      <outputs>\n",
       "        <output type=\"stream\">&lt;/code&gt;\n",
       "</output>\n",
       "        <output type=\"execute_result\">*nice*</output>\n",
       "      </outputs>\n",
       "    </cell>\n",
       "    <cell type=\"code\">\n",
       "      <source># TODO: check on outputs</source>\n",
       "    </cell>\n",
       "  </nb_cells>\n",
       "</context>\n",
       "\n",
       "```"
      ],
      "text/plain": [
       "<IPython.core.display.Markdown object>"
      ]
     },
     "execution_count": null,
     "metadata": {},
     "output_type": "execute_result"
    }
   ],
   "source": [
    "#| eval: false\n",
    "cc = nbmeta['idx']\n",
    "hl_md(_mk_ctx(['b','c'], nbmeta['cells'][cc-2:cc]))"
   ]
  },
  {
   "cell_type": "code",
   "execution_count": null,
   "id": "1795ae47",
   "metadata": {},
   "outputs": [],
   "source": [
    "#| export\n",
    "def first_match(lst, f, default=None):\n",
    "    \"First element of `lst` matching predicate `f`, or `default` if none\"\n",
    "    return next((i for i,o in enumerate(lst) if f(o)), default)"
   ]
  },
  {
   "cell_type": "code",
   "execution_count": null,
   "id": "74ef2a95",
   "metadata": {},
   "outputs": [],
   "source": [
    "#| export\n",
    "def last_match(lst, f, default=None):\n",
    "    \"Last element of `lst` matching predicate `f`, or `default` if none\"\n",
    "    return next((i for i in range(len(lst)-1, -1, -1) if f(lst[i])), default)"
   ]
  },
  {
   "cell_type": "code",
   "execution_count": null,
   "id": "def50b99",
   "metadata": {},
   "outputs": [],
   "source": [
    "#| hide_input\n",
    "# Mock nbmeta in case nbextension not installed\n",
    "nbmeta = dict(idx=45, name='00_core.ipynb', cells=[{'cell_type': 'code', 'source': '%%ai\\n0', 'outputs': []}])\n",
    "\n",
    "# temp for testing\n",
    "@register_line_cell_magic\n",
    "def ai(*args, **kw): pass\n",
    "\n",
    "@register_line_cell_magic\n",
    "def aip(*args, **kw): pass"
   ]
  },
  {
   "cell_type": "markdown",
   "id": "eb6d1b2c",
   "metadata": {},
   "source": [
    "## Dummy cells for testing"
   ]
  },
  {
   "cell_type": "code",
   "execution_count": null,
   "id": "d1cd4cc3",
   "metadata": {},
   "outputs": [],
   "source": [
    "%ai reset"
   ]
  },
  {
   "cell_type": "markdown",
   "id": "caf898e7",
   "metadata": {},
   "source": [
    "We have extracted the following snippet from inside a web page's Javascript, for further processing:"
   ]
  },
  {
   "cell_type": "code",
   "execution_count": null,
   "id": "adf56660",
   "metadata": {},
   "outputs": [],
   "source": [
    "snip = '13], \"nums\":[1,4,6], \"chars\":'"
   ]
  },
  {
   "cell_type": "code",
   "execution_count": null,
   "id": "ce89a88f",
   "metadata": {},
   "outputs": [
    {
     "data": {
      "text/plain": [
       "'13], \"nums\":[1,4,6], \"chars\":'"
      ]
     },
     "execution_count": null,
     "metadata": {},
     "output_type": "execute_result"
    }
   ],
   "source": [
    "snip"
   ]
  },
  {
   "cell_type": "code",
   "execution_count": null,
   "id": "7fc76a95",
   "metadata": {},
   "outputs": [],
   "source": [
    "%%aip 0\n",
    "Extract the 'nums' section of `snip`."
   ]
  },
  {
   "cell_type": "code",
   "execution_count": null,
   "id": "b6b57837",
   "metadata": {},
   "outputs": [],
   "source": [
    "nums = re.search(r'\"nums\":\\[[^\\]]*\\]', snip).group()"
   ]
  },
  {
   "cell_type": "code",
   "execution_count": null,
   "id": "fc7c0fd5",
   "metadata": {},
   "outputs": [
    {
     "data": {
      "text/plain": [
       "'\"nums\":[1,4,6]'"
      ]
     },
     "execution_count": null,
     "metadata": {},
     "output_type": "execute_result"
    }
   ],
   "source": [
    "nums"
   ]
  },
  {
   "cell_type": "code",
   "execution_count": null,
   "id": "584f88b9",
   "metadata": {},
   "outputs": [],
   "source": [
    "%%aip 0\n",
    "Set `nlist` to the numeric list in `nums`"
   ]
  },
  {
   "cell_type": "code",
   "execution_count": null,
   "id": "0fcc87da",
   "metadata": {},
   "outputs": [],
   "source": [
    "nlist = json.loads('{'+nums+'}')['nums']"
   ]
  },
  {
   "cell_type": "code",
   "execution_count": null,
   "id": "8c596896",
   "metadata": {},
   "outputs": [
    {
     "data": {
      "text/plain": [
       "[1, 4, 6]"
      ]
     },
     "execution_count": null,
     "metadata": {},
     "output_type": "execute_result"
    }
   ],
   "source": [
    "nlist"
   ]
  },
  {
   "cell_type": "code",
   "execution_count": null,
   "id": "705d1c8b",
   "metadata": {},
   "outputs": [
    {
     "data": {
      "text/plain": [
       "'asdfsadsf'"
      ]
     },
     "execution_count": null,
     "metadata": {},
     "output_type": "execute_result"
    }
   ],
   "source": [
    "%ai skip\n",
    "# This useless cell won't be included in the dialog\n",
    "'asdfsadsf'"
   ]
  },
  {
   "cell_type": "code",
   "execution_count": null,
   "id": "6daf6de6",
   "metadata": {},
   "outputs": [],
   "source": [
    "%%ai 0\n",
    "Get the sum of squares of `nlist`"
   ]
  },
  {
   "cell_type": "markdown",
   "id": "c71c7fda",
   "metadata": {},
   "source": [
    "## Prompt and dialog creation"
   ]
  },
  {
   "cell_type": "code",
   "execution_count": null,
   "id": "4b89699b",
   "metadata": {},
   "outputs": [],
   "source": [
    "#|export\n",
    "def get_cells(nbm, offset=1):\n",
    "    cells = nbm['cells'][:nbm['idx'] + offset]\n",
    "    lm = last_match(cells, lambda o: o.get('source','').startswith('%ai reset'))\n",
    "    if lm: cells = cells[lm+1:]\n",
    "    return [o for o in cells if not re.match(r'%ai +skip*$', o.get('source',''), flags=re.MULTILINE)]"
   ]
  },
  {
   "cell_type": "code",
   "execution_count": null,
   "id": "fdb4237d",
   "metadata": {},
   "outputs": [],
   "source": [
    "cells = get_cells(nbmeta, -2)"
   ]
  },
  {
   "cell_type": "code",
   "execution_count": null,
   "id": "062b3681",
   "metadata": {},
   "outputs": [],
   "source": [
    "#| eval: false\n",
    "m = first_match(cells, lambda o: o.get('source','').startswith('%%ai'))\n",
    "aic = cells[m]\n",
    "rep = cells[m+1] if m<len(cells)-1 else None"
   ]
  },
  {
   "cell_type": "code",
   "execution_count": null,
   "id": "9f50dbaa",
   "metadata": {},
   "outputs": [
    {
     "data": {
      "text/plain": [
       "({'cell_type': 'code',\n",
       "  'source': \"%%aip 0\\nExtract the 'nums' section of `snip`.\",\n",
       "  'outputs': []},\n",
       " {'cell_type': 'code',\n",
       "  'source': 'nums = re.search(r\\'\"nums\":\\\\[[^\\\\]]*\\\\]\\', snip).group()',\n",
       "  'outputs': []})"
      ]
     },
     "execution_count": null,
     "metadata": {},
     "output_type": "execute_result"
    }
   ],
   "source": [
    "#| eval: false\n",
    "aic,rep"
   ]
  },
  {
   "cell_type": "code",
   "execution_count": null,
   "id": "b06d78e3",
   "metadata": {},
   "outputs": [],
   "source": [
    "#| export\n",
    "_pp = '''{context_goes_here}<instructions>\n",
    "{instructions_go_here}\n",
    "</instructions>\n",
    "\n",
    "<task>\n",
    "{prompt_goes_here}\n",
    "</task>'''\n",
    "\n",
    "_code_pp = '''Write code I can run to complete the `task` below. You are not expected to access the internet or run code -- please provide code that I will run in my notebook.\n",
    "\n",
    "Write code using expert-level concise code with no comments, and using minimal vertical space (including using the ternary `if` op as appropriate).'''\n",
    "_prose_pp = 'Complete the `task` below. Answer concisely and with no summary or background unless asked for specifically -- I will ask for additional details or examples if I need them.'"
   ]
  },
  {
   "cell_type": "code",
   "execution_count": null,
   "id": "7a97d04b",
   "metadata": {},
   "outputs": [],
   "source": [
    "#| export\n",
    "def _mk_prompt(aic, rep, cells, expand=True, ns=None):\n",
    "    \"Prompt for AI cell `aic` and optional reply `rep`, with nb cell context `cells`, and optionally $`variable`s expanded\"\n",
    "    if ns is None: ns = get_ipython()\n",
    "    magic,*prompt = aic['source'].split('\\n')\n",
    "    prompt = '\\n'.join(prompt).strip()\n",
    "    cmd = magic.split()[0]\n",
    "    inst = _prose_pp if cmd in ('%%ai','%%aio') else _code_pp\n",
    "    vars = [re.sub(r'\\$`(\\w+)`', r'\\1', o) for o in re.findall(r'\\$`\\w+`', prompt)] if expand else []\n",
    "    prompt = re.sub(r'\\$(`\\w+`)', r'\\1', prompt)\n",
    "    ctx = _mk_ctx(vars, cells, ns)\n",
    "    fullp = _pp.format(prompt_goes_here=prompt, context_goes_here=ctx, instructions_go_here=inst)\n",
    "    res = [mk_msg(fullp)]\n",
    "    if rep:\n",
    "        src = rep['source'].strip()\n",
    "        if rep['cell_type']=='code': src = f'```\\n{src}\\n```'\n",
    "        res.append(mk_msg(src, role='assistant'))\n",
    "    return res"
   ]
  },
  {
   "cell_type": "code",
   "execution_count": null,
   "id": "f7ea319f",
   "metadata": {},
   "outputs": [
    {
     "data": {
      "text/markdown": [
       "```xml\n",
       "<context>\n",
       "  <nb_cells>\n",
       "    <cell type=\"markdown\">\n",
       "      <source>We have extracted the following snippet from inside a web page's Javascript, for further processing:</source>\n",
       "    </cell>\n",
       "    <cell type=\"code\">\n",
       "      <source>snip = '13], \"nums\":[1,4,6], \"chars\":'</source>\n",
       "    </cell>\n",
       "    <cell type=\"code\">\n",
       "      <source>snip</source>\n",
       "      <outputs>\n",
       "        <output type=\"execute_result\">'13], \"nums\":[1,4,6], \"chars\":'</output>\n",
       "      </outputs>\n",
       "    </cell>\n",
       "  </nb_cells>\n",
       "</context>\n",
       "<instructions>\n",
       "Write code I can run to complete the `task` below. You are not expected to access the internet or run code -- please provide code that I will run in my notebook.\n",
       "\n",
       "Write code using expert-level concise code with no comments, and using minimal vertical space (including using the ternary `if` op as appropriate).\n",
       "</instructions>\n",
       "\n",
       "<task>\n",
       "Extract the 'nums' section of `snip`.\n",
       "</task>\n",
       "```"
      ],
      "text/plain": [
       "<IPython.core.display.Markdown object>"
      ]
     },
     "execution_count": null,
     "metadata": {},
     "output_type": "execute_result"
    }
   ],
   "source": [
    "#| eval: false\n",
    "user,asst = _mk_prompt(aic, rep, cells[:m])\n",
    "hl_md(user['content'])"
   ]
  },
  {
   "cell_type": "code",
   "execution_count": null,
   "id": "5e05800d",
   "metadata": {},
   "outputs": [
    {
     "data": {
      "text/markdown": [
       "```\n",
       "nums = re.search(r'\"nums\":\\[[^\\]]*\\]', snip).group()\n",
       "```"
      ],
      "text/plain": [
       "<IPython.core.display.Markdown object>"
      ]
     },
     "execution_count": null,
     "metadata": {},
     "output_type": "execute_result"
    }
   ],
   "source": [
    "#| eval: false\n",
    "Markdown(asst['content'])"
   ]
  },
  {
   "cell_type": "code",
   "execution_count": null,
   "id": "90bd0aab",
   "metadata": {},
   "outputs": [],
   "source": [
    "#| export\n",
    "def _mk_dialog(cells, ns=None):\n",
    "    \"Split `cells` into groups based on ai magics, and create Claude dialog messages\"\n",
    "    res = []\n",
    "    while True:\n",
    "        m = first_match(cells, lambda o: o.get('source','').startswith('%%ai'), 0)\n",
    "        aic = cells[m]\n",
    "        rep = cells[m+1] if m<len(cells)-1 else None\n",
    "        res += _mk_prompt(aic, rep, cells[:m], ns=ns)\n",
    "        cells = cells[m+1 if rep else m:]\n",
    "        if len(cells)<2: break\n",
    "    return res"
   ]
  },
  {
   "cell_type": "code",
   "execution_count": null,
   "id": "f5afc932",
   "metadata": {},
   "outputs": [],
   "source": [
    "dialog = _mk_dialog(cells)"
   ]
  },
  {
   "cell_type": "code",
   "execution_count": null,
   "id": "b3baf209",
   "metadata": {},
   "outputs": [],
   "source": [
    "#|export\n",
    "def _show_dialog(dialog):\n",
    "    for o in dialog: print('- ', o['role'], ':\\n', o['content'],'\\n----', sep='')"
   ]
  },
  {
   "cell_type": "code",
   "execution_count": null,
   "id": "a1fd5496",
   "metadata": {},
   "outputs": [],
   "source": [
    "# _show_dialog(dialog)"
   ]
  },
  {
   "cell_type": "markdown",
   "id": "ba650a66",
   "metadata": {},
   "source": [
    "## Magic"
   ]
  },
  {
   "cell_type": "code",
   "execution_count": null,
   "id": "72f1a754",
   "metadata": {},
   "outputs": [],
   "source": [
    "#| export\n",
    "class AiMagic:\n",
    "    def __init__(self, model, shell=None):\n",
    "        \"Backend functionality for `create_magic`, using Claude `model`\"\n",
    "        self.c = AnthClient(model)\n",
    "        self.usage,self.shell = [],shell or get_ipython()\n",
    "\n",
    "    def __call__(self, x): return self.cell(cell=x)\n",
    "\n",
    "    def cell(self, line='', cell='', pre='', temp=0.5):\n",
    "        if line=='0' or not cell: return\n",
    "        is_code = pre.startswith('```')\n",
    "        cells = get_cells(self.shell.user_ns['nbmeta'])\n",
    "        if len(cell.split())==1:\n",
    "            meth = getattr(self, cell.strip(), None)\n",
    "            if meth: meth(cells)\n",
    "        chat = _mk_dialog(cells, ns=self.shell.user_ns)\n",
    "        sp = _mk_sysp(pre, '<nb_cells' in chat[-1]['content'])\n",
    "        if pre: chat.append(mk_msg(pre.strip(), role='assistant'))\n",
    "\n",
    "        cts = pre\n",
    "        if pre.startswith('`'): cts = ''.join(pre.splitlines(True)[1:]) \n",
    "        display(Markdown(cts))\n",
    "        clear_output(wait=True)\n",
    "        try:\n",
    "            for chunk in self.c.stream(chat, sp=sp, stop=['```\\n'] if is_code else None, temp=temp):\n",
    "                cts += chunk\n",
    "                display(Markdown(cts))\n",
    "                clear_output(wait=True)\n",
    "        except KeyboardInterrupt: pass\n",
    "        display('Done') # (I need this or the next clear_output is ignored :shrug:)\n",
    "        clear_output() # Remove once fully done\n",
    "        cts = cts.strip() # Remove superflouoususs line ending\n",
    "        if line=='-t': _show_dialog(chat)\n",
    "        set_next_cell(self.shell, cts, code=is_code)"
   ]
  },
  {
   "cell_type": "code",
   "execution_count": null,
   "id": "0d5aacd4",
   "metadata": {},
   "outputs": [],
   "source": [
    "#| export\n",
    "def create_magic(model=None, sysp=None, nm='ai', shell=None):\n",
    "    \"Create magic named `nm` using `model` and sys prompt `sysp`\"\n",
    "    if not model: model = models[-1]\n",
    "    nm = str(nm)\n",
    "    if not shell: shell = get_ipython()\n",
    "    r = AiMagic(model, shell)\n",
    "\n",
    "    js = '''require(['base/js/namespace', 'notebook/js/codecell'], function(j, c) {\n",
    "    c.CodeCell.options_default.highlight_modes['magic_markdown'] = {'reg':['^%%ai']} ;\n",
    "    j.notebook.get_cells().forEach(function(cell){\n",
    "        if (cell.cell_type === 'code'){ cell.auto_highlight(); }\n",
    "    });\n",
    "});'''\n",
    "    display(Javascript(js))\n",
    "    clear_output()\n",
    "    \n",
    "    def f(line, cell=None, pre=''): return r.cell(line, cell, pre)\n",
    "    shell.register_magic_function(partial(f, pre=''), 'line_cell', nm)\n",
    "    shell.register_magic_function(partial(f, pre='```python'), 'line_cell', nm+'p')\n",
    "    shell.register_magic_function(partial(f, pre='```\\n%%bash\\n'), 'line_cell', nm+'s')\n",
    "    shell.register_magic_function(partial(f, pre='```\\n%%javascript\\n'), 'line_cell', nm+'j')\n",
    "    shell.register_magic_function(partial(f, pre='- '), 'line_cell', nm+'o')"
   ]
  },
  {
   "cell_type": "code",
   "execution_count": null,
   "id": "c5fbe48b",
   "metadata": {},
   "outputs": [],
   "source": [
    "create_magic(models[-1])"
   ]
  },
  {
   "cell_type": "code",
   "execution_count": null,
   "id": "99e523da",
   "metadata": {},
   "outputs": [],
   "source": [
    "#|export\n",
    "def replace_req(cells, replace):\n",
    "    cell = cells[-1]\n",
    "    st,*_ = cell['source'].splitlines(True)\n",
    "    cell['source'] = '\\n'.join([st,replace])"
   ]
  },
  {
   "cell_type": "markdown",
   "id": "c758ab08",
   "metadata": {},
   "source": [
    "## Patches and examples"
   ]
  },
  {
   "cell_type": "code",
   "execution_count": null,
   "id": "b5526ed4",
   "metadata": {},
   "outputs": [],
   "source": [
    "#|export\n",
    "@patch\n",
    "def explain(self:AiMagic, cells): replace_req(cells, \"Explain clearly and concisely what's happening here.\")"
   ]
  },
  {
   "cell_type": "code",
   "execution_count": null,
   "id": "da34748c",
   "metadata": {},
   "outputs": [],
   "source": [
    "#|export\n",
    "@patch\n",
    "def fix(self:AiMagic, cells): replace_req(cells, \"Provide code to fix the most recent error in the notebook.\")"
   ]
  },
  {
   "cell_type": "code",
   "execution_count": null,
   "id": "325ce2c1",
   "metadata": {},
   "outputs": [],
   "source": [
    "%ai reset"
   ]
  },
  {
   "cell_type": "code",
   "execution_count": null,
   "id": "6cf1e928",
   "metadata": {},
   "outputs": [],
   "source": [
    "a,b = 7,5"
   ]
  },
  {
   "cell_type": "code",
   "execution_count": null,
   "id": "afc27847",
   "metadata": {},
   "outputs": [],
   "source": [
    "%%aip 0\n",
    "Set `minval` to the minimum of two values `a` and `b`"
   ]
  },
  {
   "cell_type": "code",
   "execution_count": null,
   "id": "6ac72601",
   "metadata": {},
   "outputs": [],
   "source": [
    "minval = a if a < b else b"
   ]
  },
  {
   "cell_type": "code",
   "execution_count": null,
   "id": "83265f36",
   "metadata": {},
   "outputs": [],
   "source": [
    "%%ai 0\n",
    "explain"
   ]
  },
  {
   "cell_type": "markdown",
   "id": "28205619",
   "metadata": {},
   "source": [
    "The code `minval = a if a < b else b` uses a ternary conditional expression to set the value of `minval` to the minimum of `a` and `b`. \n",
    "\n",
    "The ternary operator takes the form `value_if_true if condition else value_if_false`. In this case, `a if a < b` evaluates to `a` if `a` is less than `b`, and `b` otherwise."
   ]
  },
  {
   "cell_type": "markdown",
   "id": "94ec4289",
   "metadata": {},
   "source": [
    "## Export -"
   ]
  },
  {
   "cell_type": "code",
   "execution_count": null,
   "id": "1e9ee5c1",
   "metadata": {},
   "outputs": [],
   "source": [
    "#|hide\n",
    "#|eval: false\n",
    "from nbdev.doclinks import nbdev_export\n",
    "nbdev_export()"
   ]
  },
  {
   "cell_type": "code",
   "execution_count": null,
   "id": "207f9715",
   "metadata": {},
   "outputs": [],
   "source": []
  }
 ],
 "metadata": {
  "kernelspec": {
   "display_name": "python3",
   "language": "python",
   "name": "python3"
  }
 },
 "nbformat": 4,
 "nbformat_minor": 5
}
