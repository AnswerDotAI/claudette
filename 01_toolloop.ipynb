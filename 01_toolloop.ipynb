{
 "cells": [
  {
   "cell_type": "code",
   "execution_count": null,
   "id": "efe78920",
   "metadata": {},
   "outputs": [],
   "source": [
    "#|default_exp toolloop"
   ]
  },
  {
   "cell_type": "markdown",
   "id": "3d773712-12fe-440e-891f-36f59666dfde",
   "metadata": {},
   "source": [
    "# Tool loop"
   ]
  },
  {
   "cell_type": "code",
   "execution_count": null,
   "id": "322371c7",
   "metadata": {},
   "outputs": [],
   "source": [
    "import os\n",
    "# os.environ['ANTHROPIC_LOG'] = 'debug'"
   ]
  },
  {
   "cell_type": "code",
   "execution_count": null,
   "id": "033c76fd",
   "metadata": {},
   "outputs": [],
   "source": [
    "#| export\n",
    "from claudette.core import *\n",
    "from fastcore.utils import *\n",
    "from fastcore.meta import delegates\n",
    "\n",
    "from anthropic.types import TextBlock, Message, ToolUseBlock"
   ]
  },
  {
   "cell_type": "code",
   "execution_count": null,
   "id": "24ee745e",
   "metadata": {},
   "outputs": [
    {
     "data": {
      "text/plain": [
       "'claude-sonnet-4-20250514'"
      ]
     },
     "execution_count": null,
     "metadata": {},
     "output_type": "execute_result"
    }
   ],
   "source": [
    "model = models[1]\n",
    "model"
   ]
  },
  {
   "cell_type": "markdown",
   "id": "63111054",
   "metadata": {},
   "source": [
    "Anthropic provides an [interesting example](https://github.com/anthropics/anthropic-cookbook/blob/main/tool_use/customer_service_agent.ipynb) of using tools to mock up a hypothetical ordering system. We're going to take it a step further, and show how we can dramatically simplify the process, whilst completing more complex tasks.\n",
    "\n",
    "We'll start by defining the same mock customer/order data as in Anthropic's example, plus create a entity relationship between customers and orders:"
   ]
  },
  {
   "cell_type": "code",
   "execution_count": null,
   "id": "207f9715",
   "metadata": {},
   "outputs": [],
   "source": [
    "def _get_orders_customers():\n",
    "    orders = {\n",
    "        \"O1\": dict(id=\"O1\", product=\"Widget A\", quantity=2, price=19.99, status=\"Shipped\"),\n",
    "        \"O2\": dict(id=\"O2\", product=\"Gadget B\", quantity=1, price=49.99, status=\"Processing\"),\n",
    "        \"O3\": dict(id=\"O3\", product=\"Gadget B\", quantity=2, price=49.99, status=\"Shipped\")}\n",
    "\n",
    "    customers = {\n",
    "        \"C1\": dict(name=\"John Doe\", email=\"john@example.com\", phone=\"123-456-7890\",\n",
    "                   orders=[orders['O1'], orders['O2']]),\n",
    "        \"C2\": dict(name=\"Jane Smith\", email=\"jane@example.com\", phone=\"987-654-3210\",\n",
    "                   orders=[orders['O3']])\n",
    "    }\n",
    "    return orders, customers\n",
    "\n",
    "orders, customers = _get_orders_customers()"
   ]
  },
  {
   "cell_type": "markdown",
   "id": "2d8eed7b",
   "metadata": {},
   "source": [
    "We can now define the same functions from the original example -- but note that we don't need to manually create the large JSON schema, since Claudette handles all that for us automatically from the functions directly. We'll add some extra functionality to update order details when cancelling too."
   ]
  },
  {
   "cell_type": "code",
   "execution_count": null,
   "id": "2778dde0",
   "metadata": {},
   "outputs": [],
   "source": [
    "def get_customer_info(\n",
    "    customer_id:str # ID of the customer\n",
    "): # Customer's name, email, phone number, and list of orders\n",
    "    \"Retrieves a customer's information and their orders based on the customer ID\"\n",
    "    print(f'- Retrieving customer {customer_id}')\n",
    "    return customers.get(customer_id, \"Customer not found\")\n",
    "\n",
    "def get_order_details(\n",
    "    order_id:str # ID of the order\n",
    "): # Order's ID, product name, quantity, price, and order status\n",
    "    \"Retrieves the details of a specific order based on the order ID\"\n",
    "    print(f'- Retrieving order {order_id}')\n",
    "    return orders.get(order_id, \"Order not found\")\n",
    "\n",
    "def cancel_order(\n",
    "    order_id:str # ID of the order to cancel\n",
    ")->bool: # True if the cancellation is successful\n",
    "    \"Cancels an order based on the provided order ID\"\n",
    "    print(f'- Cancelling order {order_id}')\n",
    "    if order_id not in orders: return False\n",
    "    orders[order_id]['status'] = 'Cancelled'\n",
    "    return True"
   ]
  },
  {
   "cell_type": "markdown",
   "id": "a1278535",
   "metadata": {},
   "source": [
    "We're now ready to start our chat."
   ]
  },
  {
   "cell_type": "code",
   "execution_count": null,
   "id": "a4231dff",
   "metadata": {},
   "outputs": [],
   "source": [
    "tools = [get_customer_info, get_order_details, cancel_order]\n",
    "chat = Chat(model, tools=tools)"
   ]
  },
  {
   "cell_type": "markdown",
   "id": "41db970a",
   "metadata": {},
   "source": [
    "We'll start with the same request as Anthropic showed:"
   ]
  },
  {
   "cell_type": "code",
   "execution_count": null,
   "id": "97cdbf58",
   "metadata": {},
   "outputs": [
    {
     "name": "stdout",
     "output_type": "stream",
     "text": [
      "- Retrieving customer C1\n",
      "tool_use\n"
     ]
    },
    {
     "data": {
      "text/plain": [
       "[TextBlock(citations=None, text=\"I'll look up the information for customer C1 to find their email address.\", type='text'),\n",
       " ToolUseBlock(id='toolu_017Q75iP45WaG7Je7hsEZpWr', input={'customer_id': 'C1'}, name='get_customer_info', type='tool_use')]"
      ]
     },
     "execution_count": null,
     "metadata": {},
     "output_type": "execute_result"
    }
   ],
   "source": [
    "r = chat('Can you tell me the email address for customer C1?')\n",
    "print(r.stop_reason)\n",
    "r.content"
   ]
  },
  {
   "cell_type": "markdown",
   "id": "3f6d3ae8",
   "metadata": {},
   "source": [
    "Claude asks us to use a tool. Claudette handles that automatically by just calling it again:"
   ]
  },
  {
   "cell_type": "code",
   "execution_count": null,
   "id": "09196e94",
   "metadata": {},
   "outputs": [
    {
     "data": {
      "text/plain": [
       "'The email address for customer C1 (John Doe) is john@example.com.'"
      ]
     },
     "execution_count": null,
     "metadata": {},
     "output_type": "execute_result"
    }
   ],
   "source": [
    "r = chat()\n",
    "contents(r)"
   ]
  },
  {
   "cell_type": "markdown",
   "id": "26fe5edb",
   "metadata": {},
   "source": [
    "Let's consider a more complex case than in the original example -- what happens if a customer wants to cancel all of their orders?"
   ]
  },
  {
   "cell_type": "code",
   "execution_count": null,
   "id": "6aa531d0",
   "metadata": {},
   "outputs": [
    {
     "name": "stdout",
     "output_type": "stream",
     "text": [
      "- Retrieving customer C1\n",
      "tool_use\n"
     ]
    },
    {
     "data": {
      "text/plain": [
       "[TextBlock(citations=None, text=\"I'll help you cancel all orders for customer C1. First, let me retrieve the customer's information to see what orders they have.\", type='text'),\n",
       " ToolUseBlock(id='toolu_01WGzFCErKYyWtTN5xwaCaXu', input={'customer_id': 'C1'}, name='get_customer_info', type='tool_use')]"
      ]
     },
     "execution_count": null,
     "metadata": {},
     "output_type": "execute_result"
    }
   ],
   "source": [
    "chat = Chat(model, tools=tools)\n",
    "r = chat('Please cancel all orders for customer C1 for me.')\n",
    "print(r.stop_reason)\n",
    "r.content"
   ]
  },
  {
   "cell_type": "markdown",
   "id": "5a2432a1",
   "metadata": {},
   "source": [
    "This is the start of a multi-stage tool use process. Doing it manually step by step is inconvenient, so let's write a function to handle this for us:"
   ]
  },
  {
   "cell_type": "code",
   "execution_count": null,
   "id": "3457eeb6",
   "metadata": {},
   "outputs": [],
   "source": [
    "#| exports\n",
    "_final_prompt = \"You have no more tool uses. Please summarize your findings. If you did not complete your goal please tell the user what further work needs to be done so they can choose how best to proceed.\"\n",
    "\n",
    "@patch\n",
    "@delegates(Chat.__call__)\n",
    "def toolloop(self:Chat,\n",
    "             pr, # Prompt to pass to Claude\n",
    "             max_steps=10, # Maximum number of tool requests to loop through\n",
    "             trace_func:Optional[callable]=None, # Function to trace tool use steps (e.g `print`)\n",
    "             cont_func:Optional[callable]=noop, # Function that stops loop if returns False\n",
    "             final_prompt=_final_prompt, # Prompt to add if last message is a tool call\n",
    "             **kwargs):\n",
    "    \"Add prompt `pr` to dialog and get a response from Claude, automatically following up with `tool_use` messages\"\n",
    "    init_n = n_msgs = len(self.h)\n",
    "    r = self(pr, **kwargs)\n",
    "    for i in range(max_steps):\n",
    "        if r.stop_reason!='tool_use': break\n",
    "        if trace_func: trace_func(self.h[n_msgs:]); n_msgs = len(self.h)\n",
    "        r = self(**kwargs)\n",
    "        if not (cont_func or noop)(self.h[-2]): break\n",
    "    \n",
    "    if r.stop_reason == 'tool_use':\n",
    "        if trace_func: trace_func(self.h[n_msgs:])\n",
    "        r = self(final_prompt, **kwargs)\n",
    "    \n",
    "    if trace_func: trace_func(self.h[n_msgs:])\n",
    "    r.steps = self.h[init_n+1:]\n",
    "    return r"
   ]
  },
  {
   "cell_type": "markdown",
   "id": "f83a0859",
   "metadata": {},
   "source": [
    "We'll start by re-running our previous request - we shouldn't have to manually pass back the `tool_use` message any more:"
   ]
  },
  {
   "cell_type": "code",
   "execution_count": null,
   "id": "52fa6634",
   "metadata": {},
   "outputs": [
    {
     "name": "stdout",
     "output_type": "stream",
     "text": [
      "- Retrieving customer C1\n"
     ]
    },
    {
     "data": {
      "text/markdown": [
       "The email address for customer C1 (John Doe) is john@example.com.\n",
       "\n",
       "<details>\n",
       "\n",
       "- id: `msg_011QZa5DgeFPKXh43SK6gNQz`\n",
       "- content: `[{'citations': None, 'text': 'The email address for customer C1 (John Doe) is john@example.com.', 'type': 'text'}]`\n",
       "- model: `claude-sonnet-4-20250514`\n",
       "- role: `assistant`\n",
       "- stop_reason: `end_turn`\n",
       "- stop_sequence: `None`\n",
       "- type: `message`\n",
       "- usage: `{'cache_creation_input_tokens': 0, 'cache_read_input_tokens': 0, 'input_tokens': 787, 'output_tokens': 23, 'server_tool_use': None, 'service_tier': 'standard'}`\n",
       "- steps: `[{'role': 'assistant', 'content': [{'citations': None, 'text': \"I'll look up the information for customer C1 to find their email address.\", 'type': 'text'}, {'id': 'toolu_01CT9SE7QUq5cfW9VDUnrU5a', 'input': {'customer_id': 'C1'}, 'name': 'get_customer_info', 'type': 'tool_use'}]}, {'role': 'user', 'content': [{'type': 'tool_result', 'tool_use_id': 'toolu_01CT9SE7QUq5cfW9VDUnrU5a', 'content': \"{'name': 'John Doe', 'email': 'john@example.com', 'phone': '123-456-7890', 'orders': [{'id': 'O1', 'product': 'Widget A', 'quantity': 2, 'price': 19.99, 'status': 'Shipped'}, {'id': 'O2', 'product': 'Gadget B', 'quantity': 1, 'price': 49.99, 'status': 'Processing'}]}\"}]}, {'role': 'assistant', 'content': [{'citations': None, 'text': 'The email address for customer C1 (John Doe) is john@example.com.', 'type': 'text'}]}]`\n",
       "\n",
       "</details>"
      ],
      "text/plain": [
       "Message(id='msg_011QZa5DgeFPKXh43SK6gNQz', content=[TextBlock(citations=None, text='The email address for customer C1 (John Doe) is john@example.com.', type='text')], model='claude-sonnet-4-20250514', role='assistant', stop_reason='end_turn', stop_sequence=None, type='message', usage=In: 787; Out: 23; Cache create: 0; Cache read: 0; Total Tokens: 810; Server tool use (web search requests): 0, steps=[{'role': 'assistant', 'content': [{'citations': None, 'text': \"I'll look up the information for customer C1 to find their email address.\", 'type': 'text'}, {'id': 'toolu_01CT9SE7QUq5cfW9VDUnrU5a', 'input': {'customer_id': 'C1'}, 'name': 'get_customer_info', 'type': 'tool_use'}]}, {'role': 'user', 'content': [{'type': 'tool_result', 'tool_use_id': 'toolu_01CT9SE7QUq5cfW9VDUnrU5a', 'content': \"{'name': 'John Doe', 'email': 'john@example.com', 'phone': '123-456-7890', 'orders': [{'id': 'O1', 'product': 'Widget A', 'quantity': 2, 'price': 19.99, 'status': 'Shipped'}, {'id': 'O2', 'product': 'Gadget B', 'quantity': 1, 'price': 49.99, 'status': 'Processing'}]}\"}]}, {'role': 'assistant', 'content': [{'citations': None, 'text': 'The email address for customer C1 (John Doe) is john@example.com.', 'type': 'text'}]}])"
      ]
     },
     "execution_count": null,
     "metadata": {},
     "output_type": "execute_result"
    }
   ],
   "source": [
    "chat = Chat(model, tools=tools)\n",
    "r = chat.toolloop('Can you tell me the email address for customer C1?')\n",
    "r"
   ]
  },
  {
   "cell_type": "markdown",
   "id": "db6131f0",
   "metadata": {},
   "source": [
    "Let's see if it can handle the multi-stage process now -- we'll add `trace_func=print` to see each stage of the process:"
   ]
  },
  {
   "cell_type": "code",
   "execution_count": null,
   "id": "1a26aee7",
   "metadata": {},
   "outputs": [
    {
     "name": "stdout",
     "output_type": "stream",
     "text": [
      "- Retrieving customer C1\n",
      "[{'role': 'user', 'content': 'Please cancel all orders for customer C1 for me.'}, {'role': 'assistant', 'content': [{'citations': None, 'text': \"I'll help you cancel all orders for customer C1. First, let me retrieve the customer's information to see what orders they have.\", 'type': 'text'}, {'id': 'toolu_01AuPx8R2LAZ3eidgqwVATgQ', 'input': {'customer_id': 'C1'}, 'name': 'get_customer_info', 'type': 'tool_use'}]}, {'role': 'user', 'content': [{'type': 'tool_result', 'tool_use_id': 'toolu_01AuPx8R2LAZ3eidgqwVATgQ', 'content': \"{'name': 'John Doe', 'email': 'john@example.com', 'phone': '123-456-7890', 'orders': [{'id': 'O1', 'product': 'Widget A', 'quantity': 2, 'price': 19.99, 'status': 'Shipped'}, {'id': 'O2', 'product': 'Gadget B', 'quantity': 1, 'price': 49.99, 'status': 'Processing'}]}\"}]}]\n",
      "- Cancelling order O1\n",
      "- Cancelling order O2\n",
      "[{'role': 'assistant', 'content': [{'citations': None, 'text': \"I can see that customer C1 (John Doe) has 2 orders:\\n- Order O1: Widget A (Status: Shipped)\\n- Order O2: Gadget B (Status: Processing)\\n\\nNow I'll proceed to cancel both orders:\", 'type': 'text'}, {'id': 'toolu_01SzEvb1Bd6N5dbSEqtmVARt', 'input': {'order_id': 'O1'}, 'name': 'cancel_order', 'type': 'tool_use'}, {'id': 'toolu_01QJiCVsaqwj4qYoUZXxw5tU', 'input': {'order_id': 'O2'}, 'name': 'cancel_order', 'type': 'tool_use'}]}, {'role': 'user', 'content': [{'type': 'tool_result', 'tool_use_id': 'toolu_01SzEvb1Bd6N5dbSEqtmVARt', 'content': 'True'}, {'type': 'tool_result', 'tool_use_id': 'toolu_01QJiCVsaqwj4qYoUZXxw5tU', 'content': 'True'}]}]\n",
      "[{'role': 'assistant', 'content': [{'citations': None, 'text': 'Perfect! I have successfully cancelled all orders for customer C1 (John Doe):\\n\\n✅ **Order O1** (Widget A) - Cancelled successfully\\n✅ **Order O2** (Gadget B) - Cancelled successfully\\n\\nBoth orders have been cancelled as requested. The customer will likely receive confirmation notifications about these cancellations.', 'type': 'text'}]}]\n"
     ]
    },
    {
     "data": {
      "text/markdown": [
       "Perfect! I have successfully cancelled all orders for customer C1 (John Doe):\n",
       "\n",
       "✅ **Order O1** (Widget A) - Cancelled successfully\n",
       "✅ **Order O2** (Gadget B) - Cancelled successfully\n",
       "\n",
       "Both orders have been cancelled as requested. The customer will likely receive confirmation notifications about these cancellations.\n",
       "\n",
       "<details>\n",
       "\n",
       "- id: `msg_01GxEFQzsDh1R791zQPcqX8X`\n",
       "- content: `[{'citations': None, 'text': 'Perfect! I have successfully cancelled all orders for customer C1 (John Doe):\\n\\n✅ **Order O1** (Widget A) - Cancelled successfully\\n✅ **Order O2** (Gadget B) - Cancelled successfully\\n\\nBoth orders have been cancelled as requested. The customer will likely receive confirmation notifications about these cancellations.', 'type': 'text'}]`\n",
       "- model: `claude-sonnet-4-20250514`\n",
       "- role: `assistant`\n",
       "- stop_reason: `end_turn`\n",
       "- stop_sequence: `None`\n",
       "- type: `message`\n",
       "- usage: `{'cache_creation_input_tokens': 0, 'cache_read_input_tokens': 0, 'input_tokens': 1017, 'output_tokens': 79, 'server_tool_use': None, 'service_tier': 'standard'}`\n",
       "- steps: `[{'role': 'assistant', 'content': [{'citations': None, 'text': \"I'll help you cancel all orders for customer C1. First, let me retrieve the customer's information to see what orders they have.\", 'type': 'text'}, {'id': 'toolu_01AuPx8R2LAZ3eidgqwVATgQ', 'input': {'customer_id': 'C1'}, 'name': 'get_customer_info', 'type': 'tool_use'}]}, {'role': 'user', 'content': [{'type': 'tool_result', 'tool_use_id': 'toolu_01AuPx8R2LAZ3eidgqwVATgQ', 'content': \"{'name': 'John Doe', 'email': 'john@example.com', 'phone': '123-456-7890', 'orders': [{'id': 'O1', 'product': 'Widget A', 'quantity': 2, 'price': 19.99, 'status': 'Shipped'}, {'id': 'O2', 'product': 'Gadget B', 'quantity': 1, 'price': 49.99, 'status': 'Processing'}]}\"}]}, {'role': 'assistant', 'content': [{'citations': None, 'text': \"I can see that customer C1 (John Doe) has 2 orders:\\n- Order O1: Widget A (Status: Shipped)\\n- Order O2: Gadget B (Status: Processing)\\n\\nNow I'll proceed to cancel both orders:\", 'type': 'text'}, {'id': 'toolu_01SzEvb1Bd6N5dbSEqtmVARt', 'input': {'order_id': 'O1'}, 'name': 'cancel_order', 'type': 'tool_use'}, {'id': 'toolu_01QJiCVsaqwj4qYoUZXxw5tU', 'input': {'order_id': 'O2'}, 'name': 'cancel_order', 'type': 'tool_use'}]}, {'role': 'user', 'content': [{'type': 'tool_result', 'tool_use_id': 'toolu_01SzEvb1Bd6N5dbSEqtmVARt', 'content': 'True'}, {'type': 'tool_result', 'tool_use_id': 'toolu_01QJiCVsaqwj4qYoUZXxw5tU', 'content': 'True'}]}, {'role': 'assistant', 'content': [{'citations': None, 'text': 'Perfect! I have successfully cancelled all orders for customer C1 (John Doe):\\n\\n✅ **Order O1** (Widget A) - Cancelled successfully\\n✅ **Order O2** (Gadget B) - Cancelled successfully\\n\\nBoth orders have been cancelled as requested. The customer will likely receive confirmation notifications about these cancellations.', 'type': 'text'}]}]`\n",
       "\n",
       "</details>"
      ],
      "text/plain": [
       "Message(id='msg_01GxEFQzsDh1R791zQPcqX8X', content=[TextBlock(citations=None, text='Perfect! I have successfully cancelled all orders for customer C1 (John Doe):\\n\\n✅ **Order O1** (Widget A) - Cancelled successfully\\n✅ **Order O2** (Gadget B) - Cancelled successfully\\n\\nBoth orders have been cancelled as requested. The customer will likely receive confirmation notifications about these cancellations.', type='text')], model='claude-sonnet-4-20250514', role='assistant', stop_reason='end_turn', stop_sequence=None, type='message', usage=In: 1017; Out: 79; Cache create: 0; Cache read: 0; Total Tokens: 1096; Server tool use (web search requests): 0, steps=[{'role': 'assistant', 'content': [{'citations': None, 'text': \"I'll help you cancel all orders for customer C1. First, let me retrieve the customer's information to see what orders they have.\", 'type': 'text'}, {'id': 'toolu_01AuPx8R2LAZ3eidgqwVATgQ', 'input': {'customer_id': 'C1'}, 'name': 'get_customer_info', 'type': 'tool_use'}]}, {'role': 'user', 'content': [{'type': 'tool_result', 'tool_use_id': 'toolu_01AuPx8R2LAZ3eidgqwVATgQ', 'content': \"{'name': 'John Doe', 'email': 'john@example.com', 'phone': '123-456-7890', 'orders': [{'id': 'O1', 'product': 'Widget A', 'quantity': 2, 'price': 19.99, 'status': 'Shipped'}, {'id': 'O2', 'product': 'Gadget B', 'quantity': 1, 'price': 49.99, 'status': 'Processing'}]}\"}]}, {'role': 'assistant', 'content': [{'citations': None, 'text': \"I can see that customer C1 (John Doe) has 2 orders:\\n- Order O1: Widget A (Status: Shipped)\\n- Order O2: Gadget B (Status: Processing)\\n\\nNow I'll proceed to cancel both orders:\", 'type': 'text'}, {'id': 'toolu_01SzEvb1Bd6N5dbSEqtmVARt', 'input': {'order_id': 'O1'}, 'name': 'cancel_order', 'type': 'tool_use'}, {'id': 'toolu_01QJiCVsaqwj4qYoUZXxw5tU', 'input': {'order_id': 'O2'}, 'name': 'cancel_order', 'type': 'tool_use'}]}, {'role': 'user', 'content': [{'type': 'tool_result', 'tool_use_id': 'toolu_01SzEvb1Bd6N5dbSEqtmVARt', 'content': 'True'}, {'type': 'tool_result', 'tool_use_id': 'toolu_01QJiCVsaqwj4qYoUZXxw5tU', 'content': 'True'}]}, {'role': 'assistant', 'content': [{'citations': None, 'text': 'Perfect! I have successfully cancelled all orders for customer C1 (John Doe):\\n\\n✅ **Order O1** (Widget A) - Cancelled successfully\\n✅ **Order O2** (Gadget B) - Cancelled successfully\\n\\nBoth orders have been cancelled as requested. The customer will likely receive confirmation notifications about these cancellations.', 'type': 'text'}]}])"
      ]
     },
     "execution_count": null,
     "metadata": {},
     "output_type": "execute_result"
    }
   ],
   "source": [
    "chat = Chat(model, tools=tools)\n",
    "r = chat.toolloop('Please cancel all orders for customer C1 for me.', trace_func=print)\n",
    "r"
   ]
  },
  {
   "cell_type": "markdown",
   "id": "a7a8c9fc",
   "metadata": {},
   "source": [
    "OK Claude thinks the orders were cancelled -- let's check one:"
   ]
  },
  {
   "cell_type": "code",
   "execution_count": null,
   "id": "592e9084",
   "metadata": {},
   "outputs": [
    {
     "name": "stdout",
     "output_type": "stream",
     "text": [
      "- Retrieving order O2\n"
     ]
    },
    {
     "data": {
      "text/markdown": [
       "The status of order O2 is **Cancelled**. This confirms that the cancellation we performed earlier was successful. The order details show:\n",
       "\n",
       "- **Order ID**: O2\n",
       "- **Product**: Gadget B\n",
       "- **Quantity**: 1\n",
       "- **Price**: &#36;49.99\n",
       "- **Status**: Cancelled\n",
       "\n",
       "<details>\n",
       "\n",
       "- id: `msg_01TU3nxWJxT24yFtxmNwrG72`\n",
       "- content: `[{'citations': None, 'text': 'The status of order O2 is **Cancelled**. This confirms that the cancellation we performed earlier was successful. The order details show:\\n\\n- **Order ID**: O2\\n- **Product**: Gadget B\\n- **Quantity**: 1\\n- **Price**: $49.99\\n- **Status**: Cancelled', 'type': 'text'}]`\n",
       "- model: `claude-sonnet-4-20250514`\n",
       "- role: `assistant`\n",
       "- stop_reason: `end_turn`\n",
       "- stop_sequence: `None`\n",
       "- type: `message`\n",
       "- usage: `{'cache_creation_input_tokens': 0, 'cache_read_input_tokens': 0, 'input_tokens': 1237, 'output_tokens': 74, 'server_tool_use': None, 'service_tier': 'standard'}`\n",
       "- steps: `[{'role': 'assistant', 'content': [{'citations': None, 'text': 'Let me check the current status of order O2 for you.', 'type': 'text'}, {'id': 'toolu_01W6bCBYb9W7ZSdi29XBbST9', 'input': {'order_id': 'O2'}, 'name': 'get_order_details', 'type': 'tool_use'}]}, {'role': 'user', 'content': [{'type': 'tool_result', 'tool_use_id': 'toolu_01W6bCBYb9W7ZSdi29XBbST9', 'content': \"{'id': 'O2', 'product': 'Gadget B', 'quantity': 1, 'price': 49.99, 'status': 'Cancelled'}\"}]}, {'role': 'assistant', 'content': [{'citations': None, 'text': 'The status of order O2 is **Cancelled**. This confirms that the cancellation we performed earlier was successful. The order details show:\\n\\n- **Order ID**: O2\\n- **Product**: Gadget B\\n- **Quantity**: 1\\n- **Price**: $49.99\\n- **Status**: Cancelled', 'type': 'text'}]}]`\n",
       "\n",
       "</details>"
      ],
      "text/plain": [
       "Message(id='msg_01TU3nxWJxT24yFtxmNwrG72', content=[TextBlock(citations=None, text='The status of order O2 is **Cancelled**. This confirms that the cancellation we performed earlier was successful. The order details show:\\n\\n- **Order ID**: O2\\n- **Product**: Gadget B\\n- **Quantity**: 1\\n- **Price**: $49.99\\n- **Status**: Cancelled', type='text')], model='claude-sonnet-4-20250514', role='assistant', stop_reason='end_turn', stop_sequence=None, type='message', usage=In: 1237; Out: 74; Cache create: 0; Cache read: 0; Total Tokens: 1311; Server tool use (web search requests): 0, steps=[{'role': 'assistant', 'content': [{'citations': None, 'text': 'Let me check the current status of order O2 for you.', 'type': 'text'}, {'id': 'toolu_01W6bCBYb9W7ZSdi29XBbST9', 'input': {'order_id': 'O2'}, 'name': 'get_order_details', 'type': 'tool_use'}]}, {'role': 'user', 'content': [{'type': 'tool_result', 'tool_use_id': 'toolu_01W6bCBYb9W7ZSdi29XBbST9', 'content': \"{'id': 'O2', 'product': 'Gadget B', 'quantity': 1, 'price': 49.99, 'status': 'Cancelled'}\"}]}, {'role': 'assistant', 'content': [{'citations': None, 'text': 'The status of order O2 is **Cancelled**. This confirms that the cancellation we performed earlier was successful. The order details show:\\n\\n- **Order ID**: O2\\n- **Product**: Gadget B\\n- **Quantity**: 1\\n- **Price**: $49.99\\n- **Status**: Cancelled', 'type': 'text'}]}])"
      ]
     },
     "execution_count": null,
     "metadata": {},
     "output_type": "execute_result"
    }
   ],
   "source": [
    "chat.toolloop('What is the status of order O2?')"
   ]
  },
  {
   "cell_type": "code",
   "execution_count": null,
   "id": "204c45b3",
   "metadata": {},
   "outputs": [
    {
     "name": "stdout",
     "output_type": "stream",
     "text": [
      "- Retrieving customer C1\n",
      "- Retrieving customer C2\n",
      "- Cancelling order O3\n"
     ]
    },
    {
     "data": {
      "text/markdown": [
       "## Summary of Findings\n",
       "\n",
       "I successfully completed the goal of canceling all orders for customers C1 and C2. Here's what I found and accomplished:\n",
       "\n",
       "**Customer C1 (John Doe):**\n",
       "- Had 2 orders: O1 and O2\n",
       "- Both orders were already in \"Cancelled\" status\n",
       "- No action was needed\n",
       "\n",
       "**Customer C2 (Jane Smith):**\n",
       "- Had 1 order: O3 (Gadget B, quantity 2, &#36;49.99)\n",
       "- Order was in \"Shipped\" status\n",
       "- Successfully cancelled this order\n",
       "\n",
       "**Result:** All orders for both customers C1 and C2 are now cancelled. The task has been completed successfully with no further work needed.\n",
       "\n",
       "<details>\n",
       "\n",
       "- id: `msg_011DBFSXGEyF3hSjwob6CJjM`\n",
       "- content: `[{'citations': None, 'text': '## Summary of Findings\\n\\nI successfully completed the goal of canceling all orders for customers C1 and C2. Here\\'s what I found and accomplished:\\n\\n**Customer C1 (John Doe):**\\n- Had 2 orders: O1 and O2\\n- Both orders were already in \"Cancelled\" status\\n- No action was needed\\n\\n**Customer C2 (Jane Smith):**\\n- Had 1 order: O3 (Gadget B, quantity 2, $49.99)\\n- Order was in \"Shipped\" status\\n- Successfully cancelled this order\\n\\n**Result:** All orders for both customers C1 and C2 are now cancelled. The task has been completed successfully with no further work needed.', 'type': 'text'}]`\n",
       "- model: `claude-sonnet-4-20250514`\n",
       "- role: `assistant`\n",
       "- stop_reason: `end_turn`\n",
       "- stop_sequence: `None`\n",
       "- type: `message`\n",
       "- usage: `{'cache_creation_input_tokens': 0, 'cache_read_input_tokens': 0, 'input_tokens': 1275, 'output_tokens': 165, 'server_tool_use': None, 'service_tier': 'standard'}`\n",
       "- steps: `[{'role': 'assistant', 'content': [{'citations': None, 'text': \"I'll help you cancel all orders for customers C1 and C2. First, let me retrieve the customer information and their orders.\", 'type': 'text'}, {'id': 'toolu_01HHZKUiYYXe9wCiBZS1fHed', 'input': {'customer_id': 'C1'}, 'name': 'get_customer_info', 'type': 'tool_use'}, {'id': 'toolu_01BmAybpXvgAwToPX9y8TRLW', 'input': {'customer_id': 'C2'}, 'name': 'get_customer_info', 'type': 'tool_use'}]}, {'role': 'user', 'content': [{'type': 'tool_result', 'tool_use_id': 'toolu_01HHZKUiYYXe9wCiBZS1fHed', 'content': \"{'name': 'John Doe', 'email': 'john@example.com', 'phone': '123-456-7890', 'orders': [{'id': 'O1', 'product': 'Widget A', 'quantity': 2, 'price': 19.99, 'status': 'Cancelled'}, {'id': 'O2', 'product': 'Gadget B', 'quantity': 1, 'price': 49.99, 'status': 'Cancelled'}]}\"}, {'type': 'tool_result', 'tool_use_id': 'toolu_01BmAybpXvgAwToPX9y8TRLW', 'content': \"{'name': 'Jane Smith', 'email': 'jane@example.com', 'phone': '987-654-3210', 'orders': [{'id': 'O3', 'product': 'Gadget B', 'quantity': 2, 'price': 49.99, 'status': 'Shipped'}]}\"}]}, {'role': 'assistant', 'content': [{'citations': None, 'text': \"I can see the order information for both customers:\\n\\n**Customer C1 (John Doe):**\\n- Order O1: Already cancelled\\n- Order O2: Already cancelled\\n\\n**Customer C2 (Jane Smith):**\\n- Order O3: Currently shipped\\n\\nSince customer C1's orders (O1 and O2) are already cancelled, I only need to cancel order O3 for customer C2. Let me proceed with cancelling that order:\", 'type': 'text'}, {'id': 'toolu_016Xcw9KtMts2GgNLn79LZds', 'input': {'order_id': 'O3'}, 'name': 'cancel_order', 'type': 'tool_use'}]}, {'role': 'user', 'content': [{'type': 'tool_result', 'tool_use_id': 'toolu_016Xcw9KtMts2GgNLn79LZds', 'content': 'True'}]}, {'role': 'assistant', 'content': [{'citations': None, 'text': \"Perfect! I've successfully processed the cancellation request:\\n\\n**Summary:**\\n- **Customer C1 (John Doe):** Orders O1 and O2 were already cancelled - no action needed\\n- **Customer C2 (Jane Smith):** Order O3 has been successfully cancelled\\n\\nAll orders for customers C1 and C2 are now cancelled.\", 'type': 'text'}]}, {'role': 'user', 'content': 'You have no more tool uses. Please summarize your findings. If you did not complete your goal please tell the user what further work needs to be done so they can choose how best to proceed.'}, {'role': 'assistant', 'content': [{'citations': None, 'text': '## Summary of Findings\\n\\nI successfully completed the goal of canceling all orders for customers C1 and C2. Here\\'s what I found and accomplished:\\n\\n**Customer C1 (John Doe):**\\n- Had 2 orders: O1 and O2\\n- Both orders were already in \"Cancelled\" status\\n- No action was needed\\n\\n**Customer C2 (Jane Smith):**\\n- Had 1 order: O3 (Gadget B, quantity 2, $49.99)\\n- Order was in \"Shipped\" status\\n- Successfully cancelled this order\\n\\n**Result:** All orders for both customers C1 and C2 are now cancelled. The task has been completed successfully with no further work needed.', 'type': 'text'}]}]`\n",
       "\n",
       "</details>"
      ],
      "text/plain": [
       "Message(id='msg_011DBFSXGEyF3hSjwob6CJjM', content=[TextBlock(citations=None, text='## Summary of Findings\\n\\nI successfully completed the goal of canceling all orders for customers C1 and C2. Here\\'s what I found and accomplished:\\n\\n**Customer C1 (John Doe):**\\n- Had 2 orders: O1 and O2\\n- Both orders were already in \"Cancelled\" status\\n- No action was needed\\n\\n**Customer C2 (Jane Smith):**\\n- Had 1 order: O3 (Gadget B, quantity 2, $49.99)\\n- Order was in \"Shipped\" status\\n- Successfully cancelled this order\\n\\n**Result:** All orders for both customers C1 and C2 are now cancelled. The task has been completed successfully with no further work needed.', type='text')], model='claude-sonnet-4-20250514', role='assistant', stop_reason='end_turn', stop_sequence=None, type='message', usage=In: 1275; Out: 165; Cache create: 0; Cache read: 0; Total Tokens: 1440; Server tool use (web search requests): 0, steps=[{'role': 'assistant', 'content': [{'citations': None, 'text': \"I'll help you cancel all orders for customers C1 and C2. First, let me retrieve the customer information and their orders.\", 'type': 'text'}, {'id': 'toolu_01HHZKUiYYXe9wCiBZS1fHed', 'input': {'customer_id': 'C1'}, 'name': 'get_customer_info', 'type': 'tool_use'}, {'id': 'toolu_01BmAybpXvgAwToPX9y8TRLW', 'input': {'customer_id': 'C2'}, 'name': 'get_customer_info', 'type': 'tool_use'}]}, {'role': 'user', 'content': [{'type': 'tool_result', 'tool_use_id': 'toolu_01HHZKUiYYXe9wCiBZS1fHed', 'content': \"{'name': 'John Doe', 'email': 'john@example.com', 'phone': '123-456-7890', 'orders': [{'id': 'O1', 'product': 'Widget A', 'quantity': 2, 'price': 19.99, 'status': 'Cancelled'}, {'id': 'O2', 'product': 'Gadget B', 'quantity': 1, 'price': 49.99, 'status': 'Cancelled'}]}\"}, {'type': 'tool_result', 'tool_use_id': 'toolu_01BmAybpXvgAwToPX9y8TRLW', 'content': \"{'name': 'Jane Smith', 'email': 'jane@example.com', 'phone': '987-654-3210', 'orders': [{'id': 'O3', 'product': 'Gadget B', 'quantity': 2, 'price': 49.99, 'status': 'Shipped'}]}\"}]}, {'role': 'assistant', 'content': [{'citations': None, 'text': \"I can see the order information for both customers:\\n\\n**Customer C1 (John Doe):**\\n- Order O1: Already cancelled\\n- Order O2: Already cancelled\\n\\n**Customer C2 (Jane Smith):**\\n- Order O3: Currently shipped\\n\\nSince customer C1's orders (O1 and O2) are already cancelled, I only need to cancel order O3 for customer C2. Let me proceed with cancelling that order:\", 'type': 'text'}, {'id': 'toolu_016Xcw9KtMts2GgNLn79LZds', 'input': {'order_id': 'O3'}, 'name': 'cancel_order', 'type': 'tool_use'}]}, {'role': 'user', 'content': [{'type': 'tool_result', 'tool_use_id': 'toolu_016Xcw9KtMts2GgNLn79LZds', 'content': 'True'}]}, {'role': 'assistant', 'content': [{'citations': None, 'text': \"Perfect! I've successfully processed the cancellation request:\\n\\n**Summary:**\\n- **Customer C1 (John Doe):** Orders O1 and O2 were already cancelled - no action needed\\n- **Customer C2 (Jane Smith):** Order O3 has been successfully cancelled\\n\\nAll orders for customers C1 and C2 are now cancelled.\", 'type': 'text'}]}, {'role': 'user', 'content': 'You have no more tool uses. Please summarize your findings. If you did not complete your goal please tell the user what further work needs to be done so they can choose how best to proceed.'}, {'role': 'assistant', 'content': [{'citations': None, 'text': '## Summary of Findings\\n\\nI successfully completed the goal of canceling all orders for customers C1 and C2. Here\\'s what I found and accomplished:\\n\\n**Customer C1 (John Doe):**\\n- Had 2 orders: O1 and O2\\n- Both orders were already in \"Cancelled\" status\\n- No action was needed\\n\\n**Customer C2 (Jane Smith):**\\n- Had 1 order: O3 (Gadget B, quantity 2, $49.99)\\n- Order was in \"Shipped\" status\\n- Successfully cancelled this order\\n\\n**Result:** All orders for both customers C1 and C2 are now cancelled. The task has been completed successfully with no further work needed.', 'type': 'text'}]}])"
      ]
     },
     "execution_count": null,
     "metadata": {},
     "output_type": "execute_result"
    }
   ],
   "source": [
    "chat = Chat(model, tools=tools)\n",
    "r = chat.toolloop('Please cancel all orders for customer C1 and C2 for me.', max_steps=1)\n",
    "r"
   ]
  },
  {
   "cell_type": "markdown",
   "id": "7229a4a6",
   "metadata": {},
   "source": [
    "If we run out of tool loops lets see what happens:"
   ]
  },
  {
   "cell_type": "code",
   "execution_count": null,
   "id": "662bef23",
   "metadata": {},
   "outputs": [],
   "source": [
    "def mydiv(a:int, b:int):\n",
    "    \"Divide two numbers\"\n",
    "    return a / b"
   ]
  },
  {
   "cell_type": "code",
   "execution_count": null,
   "id": "a45d3eb0",
   "metadata": {},
   "outputs": [
    {
     "data": {
      "text/markdown": [
       "As expected, attempting to divide 1 by 0 resulted in a `ZeroDivisionError: division by zero` error. This is the standard Python error that occurs when trying to divide any number by zero, since division by zero is mathematically undefined. The error traceback shows that the error occurred in the `mydiv` function at the line `return a / b` when `b` was 0.\n",
       "\n",
       "<details>\n",
       "\n",
       "- id: `msg_01MXCSpKQJFqQmR7A4ekUyCu`\n",
       "- content: `[{'citations': None, 'text': 'As expected, attempting to divide 1 by 0 resulted in a `ZeroDivisionError: division by zero` error. This is the standard Python error that occurs when trying to divide any number by zero, since division by zero is mathematically undefined. The error traceback shows that the error occurred in the `mydiv` function at the line `return a / b` when `b` was 0.', 'type': 'text'}]`\n",
       "- model: `claude-sonnet-4-20250514`\n",
       "- role: `assistant`\n",
       "- stop_reason: `end_turn`\n",
       "- stop_sequence: `None`\n",
       "- type: `message`\n",
       "- usage: `{'cache_creation_input_tokens': 0, 'cache_read_input_tokens': 0, 'input_tokens': 706, 'output_tokens': 92, 'server_tool_use': None, 'service_tier': 'standard'}`\n",
       "- steps: `[{'role': 'assistant', 'content': [{'citations': None, 'text': \"I'll try dividing 1 by 0 using the division function to see what error occurs:\", 'type': 'text'}, {'id': 'toolu_01BLRi8CHimLLwKbN7LYJ3XC', 'input': {'a': 1, 'b': 0}, 'name': 'mydiv', 'type': 'tool_use'}]}, {'role': 'user', 'content': [{'type': 'tool_result', 'tool_use_id': 'toolu_01BLRi8CHimLLwKbN7LYJ3XC', 'content': 'Traceback (most recent call last):\\n  File \"/Users/jhoward/aai-ws/toolslm/toolslm/funccall.py\", line 198, in call_func\\n    try: return func(**fc_inputs)\\n                ^^^^^^^^^^^^^^^^^\\n  File \"/Users/jhoward/aai-ws/claudette/claudette/core.py\", line 377, in wrapper\\n    return func(*new_args, **new_kwargs)\\n           ^^^^^^^^^^^^^^^^^^^^^^^^^^^^^\\n  File \"/var/folders/51/b2_szf2945n072c0vj2cyty40000gn/T/ipykernel_82009/2257864620.py\", line 3, in mydiv\\n    return a / b\\n           ~~^~~\\nZeroDivisionError: division by zero\\n'}]}, {'role': 'assistant', 'content': [{'citations': None, 'text': 'As expected, attempting to divide 1 by 0 resulted in a `ZeroDivisionError: division by zero` error. This is the standard Python error that occurs when trying to divide any number by zero, since division by zero is mathematically undefined. The error traceback shows that the error occurred in the `mydiv` function at the line `return a / b` when `b` was 0.', 'type': 'text'}]}]`\n",
       "\n",
       "</details>"
      ],
      "text/plain": [
       "Message(id='msg_01MXCSpKQJFqQmR7A4ekUyCu', content=[TextBlock(citations=None, text='As expected, attempting to divide 1 by 0 resulted in a `ZeroDivisionError: division by zero` error. This is the standard Python error that occurs when trying to divide any number by zero, since division by zero is mathematically undefined. The error traceback shows that the error occurred in the `mydiv` function at the line `return a / b` when `b` was 0.', type='text')], model='claude-sonnet-4-20250514', role='assistant', stop_reason='end_turn', stop_sequence=None, type='message', usage=In: 706; Out: 92; Cache create: 0; Cache read: 0; Total Tokens: 798; Server tool use (web search requests): 0, steps=[{'role': 'assistant', 'content': [{'citations': None, 'text': \"I'll try dividing 1 by 0 using the division function to see what error occurs:\", 'type': 'text'}, {'id': 'toolu_01BLRi8CHimLLwKbN7LYJ3XC', 'input': {'a': 1, 'b': 0}, 'name': 'mydiv', 'type': 'tool_use'}]}, {'role': 'user', 'content': [{'type': 'tool_result', 'tool_use_id': 'toolu_01BLRi8CHimLLwKbN7LYJ3XC', 'content': 'Traceback (most recent call last):\\n  File \"/Users/jhoward/aai-ws/toolslm/toolslm/funccall.py\", line 198, in call_func\\n    try: return func(**fc_inputs)\\n                ^^^^^^^^^^^^^^^^^\\n  File \"/Users/jhoward/aai-ws/claudette/claudette/core.py\", line 377, in wrapper\\n    return func(*new_args, **new_kwargs)\\n           ^^^^^^^^^^^^^^^^^^^^^^^^^^^^^\\n  File \"/var/folders/51/b2_szf2945n072c0vj2cyty40000gn/T/ipykernel_82009/2257864620.py\", line 3, in mydiv\\n    return a / b\\n           ~~^~~\\nZeroDivisionError: division by zero\\n'}]}, {'role': 'assistant', 'content': [{'citations': None, 'text': 'As expected, attempting to divide 1 by 0 resulted in a `ZeroDivisionError: division by zero` error. This is the standard Python error that occurs when trying to divide any number by zero, since division by zero is mathematically undefined. The error traceback shows that the error occurred in the `mydiv` function at the line `return a / b` when `b` was 0.', 'type': 'text'}]}])"
      ]
     },
     "execution_count": null,
     "metadata": {},
     "output_type": "execute_result"
    }
   ],
   "source": [
    "chat = Chat(model, tools=[mydiv])\n",
    "r = chat.toolloop('Try dividing 1 by 0 and see what the error result is', max_steps=2)\n",
    "r"
   ]
  },
  {
   "cell_type": "markdown",
   "id": "b92ecf00",
   "metadata": {},
   "source": [
    "## Async tool loop"
   ]
  },
  {
   "cell_type": "code",
   "execution_count": null,
   "id": "ed096fd9",
   "metadata": {},
   "outputs": [],
   "source": [
    "#| export\n",
    "from claudette.asink import AsyncChat"
   ]
  },
  {
   "cell_type": "code",
   "execution_count": null,
   "id": "1eadb5d8",
   "metadata": {},
   "outputs": [],
   "source": [
    "#| export\n",
    "@patch\n",
    "@delegates(AsyncChat.__call__)\n",
    "async def toolloop(self:AsyncChat,\n",
    "             pr, # Prompt to pass to Claude\n",
    "             max_steps=10, # Maximum number of tool requests to loop through\n",
    "             trace_func:Optional[callable]=None, # Function to trace tool use steps (e.g `print`)\n",
    "             cont_func:Optional[callable]=noop, # Function that stops loop if returns False\n",
    "             final_prompt=_final_prompt, # Prompt to add if last message is a tool call\n",
    "             **kwargs):\n",
    "    \"Add prompt `pr` to dialog and get a response from Claude, automatically following up with `tool_use` messages\"\n",
    "    init_n = n_msgs = len(self.h)\n",
    "    r = await self(pr, **kwargs)\n",
    "    for i in range(max_steps):\n",
    "        if r.stop_reason!='tool_use': break\n",
    "        if trace_func: trace_func(self.h[n_msgs:]); n_msgs = len(self.h)\n",
    "        r = await self(**kwargs)\n",
    "        if not (cont_func or noop)(self.h[-2]): break\n",
    "    \n",
    "    if r.stop_reason == 'tool_use':\n",
    "        if trace_func: trace_func(self.h[n_msgs:])\n",
    "        r = await self(final_prompt, **kwargs)\n",
    "    \n",
    "    if trace_func: trace_func(self.h[n_msgs:])\n",
    "    r.steps = self.h[init_n+1:]\n",
    "    return r"
   ]
  },
  {
   "cell_type": "code",
   "execution_count": null,
   "id": "41310cef",
   "metadata": {},
   "outputs": [],
   "source": [
    "orders, customers = _get_orders_customers()"
   ]
  },
  {
   "cell_type": "code",
   "execution_count": null,
   "id": "8ab0017c",
   "metadata": {},
   "outputs": [
    {
     "name": "stdout",
     "output_type": "stream",
     "text": [
      "- Retrieving customer C1\n"
     ]
    },
    {
     "data": {
      "text/markdown": [
       "The email address for customer C1 (John Doe) is john@example.com.\n",
       "\n",
       "<details>\n",
       "\n",
       "- id: `msg_0145Cd6is964ivC8rQrkcmES`\n",
       "- content: `[{'citations': None, 'text': 'The email address for customer C1 (John Doe) is john@example.com.', 'type': 'text'}]`\n",
       "- model: `claude-sonnet-4-20250514`\n",
       "- role: `assistant`\n",
       "- stop_reason: `end_turn`\n",
       "- stop_sequence: `None`\n",
       "- type: `message`\n",
       "- usage: `{'cache_creation_input_tokens': 0, 'cache_read_input_tokens': 0, 'input_tokens': 787, 'output_tokens': 23, 'server_tool_use': None, 'service_tier': 'standard'}`\n",
       "- steps: `[{'role': 'assistant', 'content': [{'citations': None, 'text': \"I'll look up the information for customer C1 to find their email address.\", 'type': 'text'}, {'id': 'toolu_016ahSXaFZPCvwUwrMmhej2n', 'input': {'customer_id': 'C1'}, 'name': 'get_customer_info', 'type': 'tool_use'}]}, {'role': 'user', 'content': [{'type': 'tool_result', 'tool_use_id': 'toolu_016ahSXaFZPCvwUwrMmhej2n', 'content': \"{'name': 'John Doe', 'email': 'john@example.com', 'phone': '123-456-7890', 'orders': [{'id': 'O1', 'product': 'Widget A', 'quantity': 2, 'price': 19.99, 'status': 'Shipped'}, {'id': 'O2', 'product': 'Gadget B', 'quantity': 1, 'price': 49.99, 'status': 'Processing'}]}\"}]}, {'role': 'assistant', 'content': [{'citations': None, 'text': 'The email address for customer C1 (John Doe) is john@example.com.', 'type': 'text'}]}]`\n",
       "\n",
       "</details>"
      ],
      "text/plain": [
       "Message(id='msg_0145Cd6is964ivC8rQrkcmES', content=[TextBlock(citations=None, text='The email address for customer C1 (John Doe) is john@example.com.', type='text')], model='claude-sonnet-4-20250514', role='assistant', stop_reason='end_turn', stop_sequence=None, type='message', usage=In: 787; Out: 23; Cache create: 0; Cache read: 0; Total Tokens: 810; Server tool use (web search requests): 0, steps=[{'role': 'assistant', 'content': [{'citations': None, 'text': \"I'll look up the information for customer C1 to find their email address.\", 'type': 'text'}, {'id': 'toolu_016ahSXaFZPCvwUwrMmhej2n', 'input': {'customer_id': 'C1'}, 'name': 'get_customer_info', 'type': 'tool_use'}]}, {'role': 'user', 'content': [{'type': 'tool_result', 'tool_use_id': 'toolu_016ahSXaFZPCvwUwrMmhej2n', 'content': \"{'name': 'John Doe', 'email': 'john@example.com', 'phone': '123-456-7890', 'orders': [{'id': 'O1', 'product': 'Widget A', 'quantity': 2, 'price': 19.99, 'status': 'Shipped'}, {'id': 'O2', 'product': 'Gadget B', 'quantity': 1, 'price': 49.99, 'status': 'Processing'}]}\"}]}, {'role': 'assistant', 'content': [{'citations': None, 'text': 'The email address for customer C1 (John Doe) is john@example.com.', 'type': 'text'}]}])"
      ]
     },
     "execution_count": null,
     "metadata": {},
     "output_type": "execute_result"
    }
   ],
   "source": [
    "tools = [get_customer_info, get_order_details, cancel_order]\n",
    "chat = AsyncChat(model, tools=tools)\n",
    "r = await chat.toolloop('Can you tell me the email address for customer C1?')\n",
    "r"
   ]
  },
  {
   "cell_type": "markdown",
   "id": "b6e975ef",
   "metadata": {},
   "source": [
    "Let's see if it can handle the multi-stage process now -- we'll add `trace_func=print` to see each stage of the process:"
   ]
  },
  {
   "cell_type": "code",
   "execution_count": null,
   "id": "8703beaf",
   "metadata": {},
   "outputs": [
    {
     "name": "stdout",
     "output_type": "stream",
     "text": [
      "- Retrieving customer C1\n",
      "[{'role': 'user', 'content': 'Please cancel all orders for customer C1 for me.'}, {'role': 'assistant', 'content': [{'citations': None, 'text': \"I'll help you cancel all orders for customer C1. First, let me retrieve the customer's information to see what orders they have.\", 'type': 'text'}, {'id': 'toolu_01L59zmm81jL6jijGEMW6VGt', 'input': {'customer_id': 'C1'}, 'name': 'get_customer_info', 'type': 'tool_use'}]}, {'role': 'user', 'content': [{'type': 'tool_result', 'tool_use_id': 'toolu_01L59zmm81jL6jijGEMW6VGt', 'content': \"{'name': 'John Doe', 'email': 'john@example.com', 'phone': '123-456-7890', 'orders': [{'id': 'O1', 'product': 'Widget A', 'quantity': 2, 'price': 19.99, 'status': 'Shipped'}, {'id': 'O2', 'product': 'Gadget B', 'quantity': 1, 'price': 49.99, 'status': 'Processing'}]}\"}]}]\n",
      "- Cancelling order O1\n",
      "- Cancelling order O2\n",
      "[{'role': 'assistant', 'content': [{'citations': None, 'text': \"I can see that customer C1 (John Doe) has 2 orders:\\n- Order O1: Widget A (Status: Shipped)\\n- Order O2: Gadget B (Status: Processing)\\n\\nNow I'll proceed to cancel both orders:\", 'type': 'text'}, {'id': 'toolu_01NAe8Rm7D15v1AFJqi8Yz2Y', 'input': {'order_id': 'O1'}, 'name': 'cancel_order', 'type': 'tool_use'}, {'id': 'toolu_01MgXRtEsVUM3zEMnpT3AACy', 'input': {'order_id': 'O2'}, 'name': 'cancel_order', 'type': 'tool_use'}]}, {'role': 'user', 'content': [{'type': 'tool_result', 'tool_use_id': 'toolu_01NAe8Rm7D15v1AFJqi8Yz2Y', 'content': 'True'}, {'type': 'tool_result', 'tool_use_id': 'toolu_01MgXRtEsVUM3zEMnpT3AACy', 'content': 'True'}]}]\n",
      "[{'role': 'assistant', 'content': [{'citations': None, 'text': 'Perfect! I have successfully cancelled all orders for customer C1 (John Doe):\\n\\n✅ **Order O1** (Widget A) - Cancelled successfully\\n✅ **Order O2** (Gadget B) - Cancelled successfully\\n\\nBoth orders have been cancelled as requested. The customer will likely receive confirmation notifications about these cancellations.', 'type': 'text'}]}]\n"
     ]
    },
    {
     "data": {
      "text/markdown": [
       "Perfect! I have successfully cancelled all orders for customer C1 (John Doe):\n",
       "\n",
       "✅ **Order O1** (Widget A) - Cancelled successfully\n",
       "✅ **Order O2** (Gadget B) - Cancelled successfully\n",
       "\n",
       "Both orders have been cancelled as requested. The customer will likely receive confirmation notifications about these cancellations.\n",
       "\n",
       "<details>\n",
       "\n",
       "- id: `msg_01GaspBeDcVGR6NCwFrg8HdM`\n",
       "- content: `[{'citations': None, 'text': 'Perfect! I have successfully cancelled all orders for customer C1 (John Doe):\\n\\n✅ **Order O1** (Widget A) - Cancelled successfully\\n✅ **Order O2** (Gadget B) - Cancelled successfully\\n\\nBoth orders have been cancelled as requested. The customer will likely receive confirmation notifications about these cancellations.', 'type': 'text'}]`\n",
       "- model: `claude-sonnet-4-20250514`\n",
       "- role: `assistant`\n",
       "- stop_reason: `end_turn`\n",
       "- stop_sequence: `None`\n",
       "- type: `message`\n",
       "- usage: `{'cache_creation_input_tokens': 0, 'cache_read_input_tokens': 0, 'input_tokens': 1017, 'output_tokens': 79, 'server_tool_use': None, 'service_tier': 'standard'}`\n",
       "- steps: `[{'role': 'assistant', 'content': [{'citations': None, 'text': \"I'll help you cancel all orders for customer C1. First, let me retrieve the customer's information to see what orders they have.\", 'type': 'text'}, {'id': 'toolu_01L59zmm81jL6jijGEMW6VGt', 'input': {'customer_id': 'C1'}, 'name': 'get_customer_info', 'type': 'tool_use'}]}, {'role': 'user', 'content': [{'type': 'tool_result', 'tool_use_id': 'toolu_01L59zmm81jL6jijGEMW6VGt', 'content': \"{'name': 'John Doe', 'email': 'john@example.com', 'phone': '123-456-7890', 'orders': [{'id': 'O1', 'product': 'Widget A', 'quantity': 2, 'price': 19.99, 'status': 'Shipped'}, {'id': 'O2', 'product': 'Gadget B', 'quantity': 1, 'price': 49.99, 'status': 'Processing'}]}\"}]}, {'role': 'assistant', 'content': [{'citations': None, 'text': \"I can see that customer C1 (John Doe) has 2 orders:\\n- Order O1: Widget A (Status: Shipped)\\n- Order O2: Gadget B (Status: Processing)\\n\\nNow I'll proceed to cancel both orders:\", 'type': 'text'}, {'id': 'toolu_01NAe8Rm7D15v1AFJqi8Yz2Y', 'input': {'order_id': 'O1'}, 'name': 'cancel_order', 'type': 'tool_use'}, {'id': 'toolu_01MgXRtEsVUM3zEMnpT3AACy', 'input': {'order_id': 'O2'}, 'name': 'cancel_order', 'type': 'tool_use'}]}, {'role': 'user', 'content': [{'type': 'tool_result', 'tool_use_id': 'toolu_01NAe8Rm7D15v1AFJqi8Yz2Y', 'content': 'True'}, {'type': 'tool_result', 'tool_use_id': 'toolu_01MgXRtEsVUM3zEMnpT3AACy', 'content': 'True'}]}, {'role': 'assistant', 'content': [{'citations': None, 'text': 'Perfect! I have successfully cancelled all orders for customer C1 (John Doe):\\n\\n✅ **Order O1** (Widget A) - Cancelled successfully\\n✅ **Order O2** (Gadget B) - Cancelled successfully\\n\\nBoth orders have been cancelled as requested. The customer will likely receive confirmation notifications about these cancellations.', 'type': 'text'}]}]`\n",
       "\n",
       "</details>"
      ],
      "text/plain": [
       "Message(id='msg_01GaspBeDcVGR6NCwFrg8HdM', content=[TextBlock(citations=None, text='Perfect! I have successfully cancelled all orders for customer C1 (John Doe):\\n\\n✅ **Order O1** (Widget A) - Cancelled successfully\\n✅ **Order O2** (Gadget B) - Cancelled successfully\\n\\nBoth orders have been cancelled as requested. The customer will likely receive confirmation notifications about these cancellations.', type='text')], model='claude-sonnet-4-20250514', role='assistant', stop_reason='end_turn', stop_sequence=None, type='message', usage=In: 1017; Out: 79; Cache create: 0; Cache read: 0; Total Tokens: 1096; Server tool use (web search requests): 0, steps=[{'role': 'assistant', 'content': [{'citations': None, 'text': \"I'll help you cancel all orders for customer C1. First, let me retrieve the customer's information to see what orders they have.\", 'type': 'text'}, {'id': 'toolu_01L59zmm81jL6jijGEMW6VGt', 'input': {'customer_id': 'C1'}, 'name': 'get_customer_info', 'type': 'tool_use'}]}, {'role': 'user', 'content': [{'type': 'tool_result', 'tool_use_id': 'toolu_01L59zmm81jL6jijGEMW6VGt', 'content': \"{'name': 'John Doe', 'email': 'john@example.com', 'phone': '123-456-7890', 'orders': [{'id': 'O1', 'product': 'Widget A', 'quantity': 2, 'price': 19.99, 'status': 'Shipped'}, {'id': 'O2', 'product': 'Gadget B', 'quantity': 1, 'price': 49.99, 'status': 'Processing'}]}\"}]}, {'role': 'assistant', 'content': [{'citations': None, 'text': \"I can see that customer C1 (John Doe) has 2 orders:\\n- Order O1: Widget A (Status: Shipped)\\n- Order O2: Gadget B (Status: Processing)\\n\\nNow I'll proceed to cancel both orders:\", 'type': 'text'}, {'id': 'toolu_01NAe8Rm7D15v1AFJqi8Yz2Y', 'input': {'order_id': 'O1'}, 'name': 'cancel_order', 'type': 'tool_use'}, {'id': 'toolu_01MgXRtEsVUM3zEMnpT3AACy', 'input': {'order_id': 'O2'}, 'name': 'cancel_order', 'type': 'tool_use'}]}, {'role': 'user', 'content': [{'type': 'tool_result', 'tool_use_id': 'toolu_01NAe8Rm7D15v1AFJqi8Yz2Y', 'content': 'True'}, {'type': 'tool_result', 'tool_use_id': 'toolu_01MgXRtEsVUM3zEMnpT3AACy', 'content': 'True'}]}, {'role': 'assistant', 'content': [{'citations': None, 'text': 'Perfect! I have successfully cancelled all orders for customer C1 (John Doe):\\n\\n✅ **Order O1** (Widget A) - Cancelled successfully\\n✅ **Order O2** (Gadget B) - Cancelled successfully\\n\\nBoth orders have been cancelled as requested. The customer will likely receive confirmation notifications about these cancellations.', 'type': 'text'}]}])"
      ]
     },
     "execution_count": null,
     "metadata": {},
     "output_type": "execute_result"
    }
   ],
   "source": [
    "chat = AsyncChat(model, tools=tools)\n",
    "r = await chat.toolloop('Please cancel all orders for customer C1 for me.', trace_func=print)\n",
    "r"
   ]
  },
  {
   "cell_type": "code",
   "execution_count": null,
   "id": "8cf6eeb6",
   "metadata": {},
   "outputs": [
    {
     "name": "stdout",
     "output_type": "stream",
     "text": [
      "- Retrieving order O2\n"
     ]
    },
    {
     "data": {
      "text/markdown": [
       "The status of order O2 is **Cancelled**. This confirms that the cancellation we performed earlier was successful. The order details show:\n",
       "\n",
       "- **Order ID**: O2\n",
       "- **Product**: Gadget B\n",
       "- **Quantity**: 1\n",
       "- **Price**: &#36;49.99\n",
       "- **Status**: Cancelled\n",
       "\n",
       "<details>\n",
       "\n",
       "- id: `msg_017FWbAVW54uUJZWqUNavgkG`\n",
       "- content: `[{'citations': None, 'text': 'The status of order O2 is **Cancelled**. This confirms that the cancellation we performed earlier was successful. The order details show:\\n\\n- **Order ID**: O2\\n- **Product**: Gadget B\\n- **Quantity**: 1\\n- **Price**: $49.99\\n- **Status**: Cancelled', 'type': 'text'}]`\n",
       "- model: `claude-sonnet-4-20250514`\n",
       "- role: `assistant`\n",
       "- stop_reason: `end_turn`\n",
       "- stop_sequence: `None`\n",
       "- type: `message`\n",
       "- usage: `{'cache_creation_input_tokens': 0, 'cache_read_input_tokens': 0, 'input_tokens': 1237, 'output_tokens': 74, 'server_tool_use': None, 'service_tier': 'standard'}`\n",
       "- steps: `[{'role': 'assistant', 'content': [{'citations': None, 'text': 'Let me check the current status of order O2 for you.', 'type': 'text'}, {'id': 'toolu_01BcHg5GfVTK628WdMqUcW5b', 'input': {'order_id': 'O2'}, 'name': 'get_order_details', 'type': 'tool_use'}]}, {'role': 'user', 'content': [{'type': 'tool_result', 'tool_use_id': 'toolu_01BcHg5GfVTK628WdMqUcW5b', 'content': \"{'id': 'O2', 'product': 'Gadget B', 'quantity': 1, 'price': 49.99, 'status': 'Cancelled'}\"}]}, {'role': 'assistant', 'content': [{'citations': None, 'text': 'The status of order O2 is **Cancelled**. This confirms that the cancellation we performed earlier was successful. The order details show:\\n\\n- **Order ID**: O2\\n- **Product**: Gadget B\\n- **Quantity**: 1\\n- **Price**: $49.99\\n- **Status**: Cancelled', 'type': 'text'}]}]`\n",
       "\n",
       "</details>"
      ],
      "text/plain": [
       "Message(id='msg_017FWbAVW54uUJZWqUNavgkG', content=[TextBlock(citations=None, text='The status of order O2 is **Cancelled**. This confirms that the cancellation we performed earlier was successful. The order details show:\\n\\n- **Order ID**: O2\\n- **Product**: Gadget B\\n- **Quantity**: 1\\n- **Price**: $49.99\\n- **Status**: Cancelled', type='text')], model='claude-sonnet-4-20250514', role='assistant', stop_reason='end_turn', stop_sequence=None, type='message', usage=In: 1237; Out: 74; Cache create: 0; Cache read: 0; Total Tokens: 1311; Server tool use (web search requests): 0, steps=[{'role': 'assistant', 'content': [{'citations': None, 'text': 'Let me check the current status of order O2 for you.', 'type': 'text'}, {'id': 'toolu_01BcHg5GfVTK628WdMqUcW5b', 'input': {'order_id': 'O2'}, 'name': 'get_order_details', 'type': 'tool_use'}]}, {'role': 'user', 'content': [{'type': 'tool_result', 'tool_use_id': 'toolu_01BcHg5GfVTK628WdMqUcW5b', 'content': \"{'id': 'O2', 'product': 'Gadget B', 'quantity': 1, 'price': 49.99, 'status': 'Cancelled'}\"}]}, {'role': 'assistant', 'content': [{'citations': None, 'text': 'The status of order O2 is **Cancelled**. This confirms that the cancellation we performed earlier was successful. The order details show:\\n\\n- **Order ID**: O2\\n- **Product**: Gadget B\\n- **Quantity**: 1\\n- **Price**: $49.99\\n- **Status**: Cancelled', 'type': 'text'}]}])"
      ]
     },
     "execution_count": null,
     "metadata": {},
     "output_type": "execute_result"
    }
   ],
   "source": [
    "await chat.toolloop('What is the status of order O2?')"
   ]
  },
  {
   "cell_type": "markdown",
   "id": "142e4950",
   "metadata": {},
   "source": [
    "If we run out of tool loops lets see what happens:"
   ]
  },
  {
   "cell_type": "code",
   "execution_count": null,
   "id": "e873acd3",
   "metadata": {},
   "outputs": [
    {
     "name": "stdout",
     "output_type": "stream",
     "text": [
      "- Retrieving customer C1\n",
      "- Retrieving customer C2\n",
      "- Cancelling order O1\n",
      "- Cancelling order O2\n",
      "- Cancelling order O3\n"
     ]
    },
    {
     "data": {
      "text/markdown": [
       "## Summary of Completed Work\n",
       "\n",
       "I have successfully completed the requested task of canceling all orders for customers C1 and C2.\n",
       "\n",
       "### What was accomplished:\n",
       "- **Retrieved customer information** for both C1 (John Doe) and C2 (Jane Smith)\n",
       "- **Identified all orders** for both customers:\n",
       "  - Customer C1: 2 orders (O1 and O2)\n",
       "  - Customer C2: 1 order (O3)\n",
       "- **Successfully canceled all 3 orders** - each cancellation returned `True`, confirming success\n",
       "\n",
       "### Final Status:\n",
       "✅ **Goal completed successfully** - All orders for customers C1 and C2 have been canceled.\n",
       "\n",
       "No further work is needed. The task has been completed in full.\n",
       "\n",
       "<details>\n",
       "\n",
       "- id: `msg_01WXxMSdso6uz673GemzZu8o`\n",
       "- content: `[{'citations': None, 'text': '## Summary of Completed Work\\n\\nI have successfully completed the requested task of canceling all orders for customers C1 and C2.\\n\\n### What was accomplished:\\n- **Retrieved customer information** for both C1 (John Doe) and C2 (Jane Smith)\\n- **Identified all orders** for both customers:\\n  - Customer C1: 2 orders (O1 and O2)\\n  - Customer C2: 1 order (O3)\\n- **Successfully canceled all 3 orders** - each cancellation returned `True`, confirming success\\n\\n### Final Status:\\n✅ **Goal completed successfully** - All orders for customers C1 and C2 have been canceled.\\n\\nNo further work is needed. The task has been completed in full.', 'type': 'text'}]`\n",
       "- model: `claude-sonnet-4-20250514`\n",
       "- role: `assistant`\n",
       "- stop_reason: `end_turn`\n",
       "- stop_sequence: `None`\n",
       "- type: `message`\n",
       "- usage: `{'cache_creation_input_tokens': 0, 'cache_read_input_tokens': 0, 'input_tokens': 1417, 'output_tokens': 175, 'server_tool_use': None, 'service_tier': 'standard'}`\n",
       "- steps: `[{'role': 'assistant', 'content': [{'citations': None, 'text': \"I'll help you cancel all orders for customers C1 and C2. First, let me retrieve the customer information and their orders.\", 'type': 'text'}, {'id': 'toolu_01Myqhq6vgtUzaDTCjN8hsAa', 'input': {'customer_id': 'C1'}, 'name': 'get_customer_info', 'type': 'tool_use'}, {'id': 'toolu_01BeyBkAcyZJG93RKitKsVVa', 'input': {'customer_id': 'C2'}, 'name': 'get_customer_info', 'type': 'tool_use'}]}, {'role': 'user', 'content': [{'type': 'tool_result', 'tool_use_id': 'toolu_01Myqhq6vgtUzaDTCjN8hsAa', 'content': \"{'name': 'John Doe', 'email': 'john@example.com', 'phone': '123-456-7890', 'orders': [{'id': 'O1', 'product': 'Widget A', 'quantity': 2, 'price': 19.99, 'status': 'Shipped'}, {'id': 'O2', 'product': 'Gadget B', 'quantity': 1, 'price': 49.99, 'status': 'Processing'}]}\"}, {'type': 'tool_result', 'tool_use_id': 'toolu_01BeyBkAcyZJG93RKitKsVVa', 'content': \"{'name': 'Jane Smith', 'email': 'jane@example.com', 'phone': '987-654-3210', 'orders': [{'id': 'O3', 'product': 'Gadget B', 'quantity': 2, 'price': 49.99, 'status': 'Shipped'}]}\"}]}, {'role': 'assistant', 'content': [{'citations': None, 'text': \"Now I'll cancel all the orders for both customers:\\n\\n**Customer C1 (John Doe)** has orders: O1 and O2\\n**Customer C2 (Jane Smith)** has orders: O3\\n\\nLet me cancel all these orders:\", 'type': 'text'}, {'id': 'toolu_01CZpvVsSQJbFMpuwLGmC5Mb', 'input': {'order_id': 'O1'}, 'name': 'cancel_order', 'type': 'tool_use'}, {'id': 'toolu_01MFZawpjn5jm5cDPyWVZPDD', 'input': {'order_id': 'O2'}, 'name': 'cancel_order', 'type': 'tool_use'}, {'id': 'toolu_01A4L8pXUB16iwxz6GomeQMY', 'input': {'order_id': 'O3'}, 'name': 'cancel_order', 'type': 'tool_use'}]}, {'role': 'user', 'content': [{'type': 'tool_result', 'tool_use_id': 'toolu_01CZpvVsSQJbFMpuwLGmC5Mb', 'content': 'True'}, {'type': 'tool_result', 'tool_use_id': 'toolu_01MFZawpjn5jm5cDPyWVZPDD', 'content': 'True'}, {'type': 'tool_result', 'tool_use_id': 'toolu_01A4L8pXUB16iwxz6GomeQMY', 'content': 'True'}]}, {'role': 'assistant', 'content': [{'citations': None, 'text': 'Perfect! I have successfully canceled all orders for both customers:\\n\\n**Customer C1 (John Doe):**\\n- Order O1 (Widget A) - ✅ Canceled\\n- Order O2 (Gadget B) - ✅ Canceled\\n\\n**Customer C2 (Jane Smith):**\\n- Order O3 (Gadget B) - ✅ Canceled\\n\\nAll 3 orders have been successfully canceled for customers C1 and C2.', 'type': 'text'}]}, {'role': 'user', 'content': 'You have no more tool uses. Please summarize your findings. If you did not complete your goal please tell the user what further work needs to be done so they can choose how best to proceed.'}, {'role': 'assistant', 'content': [{'citations': None, 'text': '## Summary of Completed Work\\n\\nI have successfully completed the requested task of canceling all orders for customers C1 and C2.\\n\\n### What was accomplished:\\n- **Retrieved customer information** for both C1 (John Doe) and C2 (Jane Smith)\\n- **Identified all orders** for both customers:\\n  - Customer C1: 2 orders (O1 and O2)\\n  - Customer C2: 1 order (O3)\\n- **Successfully canceled all 3 orders** - each cancellation returned `True`, confirming success\\n\\n### Final Status:\\n✅ **Goal completed successfully** - All orders for customers C1 and C2 have been canceled.\\n\\nNo further work is needed. The task has been completed in full.', 'type': 'text'}]}]`\n",
       "\n",
       "</details>"
      ],
      "text/plain": [
       "Message(id='msg_01WXxMSdso6uz673GemzZu8o', content=[TextBlock(citations=None, text='## Summary of Completed Work\\n\\nI have successfully completed the requested task of canceling all orders for customers C1 and C2.\\n\\n### What was accomplished:\\n- **Retrieved customer information** for both C1 (John Doe) and C2 (Jane Smith)\\n- **Identified all orders** for both customers:\\n  - Customer C1: 2 orders (O1 and O2)\\n  - Customer C2: 1 order (O3)\\n- **Successfully canceled all 3 orders** - each cancellation returned `True`, confirming success\\n\\n### Final Status:\\n✅ **Goal completed successfully** - All orders for customers C1 and C2 have been canceled.\\n\\nNo further work is needed. The task has been completed in full.', type='text')], model='claude-sonnet-4-20250514', role='assistant', stop_reason='end_turn', stop_sequence=None, type='message', usage=In: 1417; Out: 175; Cache create: 0; Cache read: 0; Total Tokens: 1592; Server tool use (web search requests): 0, steps=[{'role': 'assistant', 'content': [{'citations': None, 'text': \"I'll help you cancel all orders for customers C1 and C2. First, let me retrieve the customer information and their orders.\", 'type': 'text'}, {'id': 'toolu_01Myqhq6vgtUzaDTCjN8hsAa', 'input': {'customer_id': 'C1'}, 'name': 'get_customer_info', 'type': 'tool_use'}, {'id': 'toolu_01BeyBkAcyZJG93RKitKsVVa', 'input': {'customer_id': 'C2'}, 'name': 'get_customer_info', 'type': 'tool_use'}]}, {'role': 'user', 'content': [{'type': 'tool_result', 'tool_use_id': 'toolu_01Myqhq6vgtUzaDTCjN8hsAa', 'content': \"{'name': 'John Doe', 'email': 'john@example.com', 'phone': '123-456-7890', 'orders': [{'id': 'O1', 'product': 'Widget A', 'quantity': 2, 'price': 19.99, 'status': 'Shipped'}, {'id': 'O2', 'product': 'Gadget B', 'quantity': 1, 'price': 49.99, 'status': 'Processing'}]}\"}, {'type': 'tool_result', 'tool_use_id': 'toolu_01BeyBkAcyZJG93RKitKsVVa', 'content': \"{'name': 'Jane Smith', 'email': 'jane@example.com', 'phone': '987-654-3210', 'orders': [{'id': 'O3', 'product': 'Gadget B', 'quantity': 2, 'price': 49.99, 'status': 'Shipped'}]}\"}]}, {'role': 'assistant', 'content': [{'citations': None, 'text': \"Now I'll cancel all the orders for both customers:\\n\\n**Customer C1 (John Doe)** has orders: O1 and O2\\n**Customer C2 (Jane Smith)** has orders: O3\\n\\nLet me cancel all these orders:\", 'type': 'text'}, {'id': 'toolu_01CZpvVsSQJbFMpuwLGmC5Mb', 'input': {'order_id': 'O1'}, 'name': 'cancel_order', 'type': 'tool_use'}, {'id': 'toolu_01MFZawpjn5jm5cDPyWVZPDD', 'input': {'order_id': 'O2'}, 'name': 'cancel_order', 'type': 'tool_use'}, {'id': 'toolu_01A4L8pXUB16iwxz6GomeQMY', 'input': {'order_id': 'O3'}, 'name': 'cancel_order', 'type': 'tool_use'}]}, {'role': 'user', 'content': [{'type': 'tool_result', 'tool_use_id': 'toolu_01CZpvVsSQJbFMpuwLGmC5Mb', 'content': 'True'}, {'type': 'tool_result', 'tool_use_id': 'toolu_01MFZawpjn5jm5cDPyWVZPDD', 'content': 'True'}, {'type': 'tool_result', 'tool_use_id': 'toolu_01A4L8pXUB16iwxz6GomeQMY', 'content': 'True'}]}, {'role': 'assistant', 'content': [{'citations': None, 'text': 'Perfect! I have successfully canceled all orders for both customers:\\n\\n**Customer C1 (John Doe):**\\n- Order O1 (Widget A) - ✅ Canceled\\n- Order O2 (Gadget B) - ✅ Canceled\\n\\n**Customer C2 (Jane Smith):**\\n- Order O3 (Gadget B) - ✅ Canceled\\n\\nAll 3 orders have been successfully canceled for customers C1 and C2.', 'type': 'text'}]}, {'role': 'user', 'content': 'You have no more tool uses. Please summarize your findings. If you did not complete your goal please tell the user what further work needs to be done so they can choose how best to proceed.'}, {'role': 'assistant', 'content': [{'citations': None, 'text': '## Summary of Completed Work\\n\\nI have successfully completed the requested task of canceling all orders for customers C1 and C2.\\n\\n### What was accomplished:\\n- **Retrieved customer information** for both C1 (John Doe) and C2 (Jane Smith)\\n- **Identified all orders** for both customers:\\n  - Customer C1: 2 orders (O1 and O2)\\n  - Customer C2: 1 order (O3)\\n- **Successfully canceled all 3 orders** - each cancellation returned `True`, confirming success\\n\\n### Final Status:\\n✅ **Goal completed successfully** - All orders for customers C1 and C2 have been canceled.\\n\\nNo further work is needed. The task has been completed in full.', 'type': 'text'}]}])"
      ]
     },
     "execution_count": null,
     "metadata": {},
     "output_type": "execute_result"
    }
   ],
   "source": [
    "orders, customers = _get_orders_customers()\n",
    "chat = AsyncChat(model, tools=tools)\n",
    "r = await chat.toolloop('Please cancel all orders for customer C1 and C2 for me.', max_steps=1)\n",
    "r"
   ]
  },
  {
   "cell_type": "code",
   "execution_count": null,
   "id": "d92eb2cd",
   "metadata": {},
   "outputs": [
    {
     "data": {
      "text/markdown": [
       "As expected, attempting to divide 1 by 0 resulted in a `ZeroDivisionError: division by zero` error. This is the standard Python error that occurs when trying to divide any number by zero, since division by zero is mathematically undefined. The error traceback shows that the error occurred in the `mydiv` function at the line `return a / b` when `b` was 0.\n",
       "\n",
       "<details>\n",
       "\n",
       "- id: `msg_0143hLbQhPfb7B7P7U7aWni2`\n",
       "- content: `[{'citations': None, 'text': 'As expected, attempting to divide 1 by 0 resulted in a `ZeroDivisionError: division by zero` error. This is the standard Python error that occurs when trying to divide any number by zero, since division by zero is mathematically undefined. The error traceback shows that the error occurred in the `mydiv` function at the line `return a / b` when `b` was 0.', 'type': 'text'}]`\n",
       "- model: `claude-sonnet-4-20250514`\n",
       "- role: `assistant`\n",
       "- stop_reason: `end_turn`\n",
       "- stop_sequence: `None`\n",
       "- type: `message`\n",
       "- usage: `{'cache_creation_input_tokens': 0, 'cache_read_input_tokens': 0, 'input_tokens': 706, 'output_tokens': 92, 'server_tool_use': None, 'service_tier': 'standard'}`\n",
       "- steps: `[{'role': 'assistant', 'content': [{'citations': None, 'text': \"I'll try dividing 1 by 0 using the division function to see what error occurs:\", 'type': 'text'}, {'id': 'toolu_016JcuEaTVFa5JXh1nF6S78Y', 'input': {'a': 1, 'b': 0}, 'name': 'mydiv', 'type': 'tool_use'}]}, {'role': 'user', 'content': [{'type': 'tool_result', 'tool_use_id': 'toolu_016JcuEaTVFa5JXh1nF6S78Y', 'content': 'Traceback (most recent call last):\\n  File \"/Users/jhoward/aai-ws/toolslm/toolslm/funccall.py\", line 198, in call_func\\n    try: return func(**fc_inputs)\\n                ^^^^^^^^^^^^^^^^^\\n  File \"/Users/jhoward/aai-ws/claudette/claudette/core.py\", line 377, in wrapper\\n    return func(*new_args, **new_kwargs)\\n           ^^^^^^^^^^^^^^^^^^^^^^^^^^^^^\\n  File \"/var/folders/51/b2_szf2945n072c0vj2cyty40000gn/T/ipykernel_82009/2257864620.py\", line 3, in mydiv\\n    return a / b\\n           ~~^~~\\nZeroDivisionError: division by zero\\n'}]}, {'role': 'assistant', 'content': [{'citations': None, 'text': 'As expected, attempting to divide 1 by 0 resulted in a `ZeroDivisionError: division by zero` error. This is the standard Python error that occurs when trying to divide any number by zero, since division by zero is mathematically undefined. The error traceback shows that the error occurred in the `mydiv` function at the line `return a / b` when `b` was 0.', 'type': 'text'}]}]`\n",
       "\n",
       "</details>"
      ],
      "text/plain": [
       "Message(id='msg_0143hLbQhPfb7B7P7U7aWni2', content=[TextBlock(citations=None, text='As expected, attempting to divide 1 by 0 resulted in a `ZeroDivisionError: division by zero` error. This is the standard Python error that occurs when trying to divide any number by zero, since division by zero is mathematically undefined. The error traceback shows that the error occurred in the `mydiv` function at the line `return a / b` when `b` was 0.', type='text')], model='claude-sonnet-4-20250514', role='assistant', stop_reason='end_turn', stop_sequence=None, type='message', usage=In: 706; Out: 92; Cache create: 0; Cache read: 0; Total Tokens: 798; Server tool use (web search requests): 0, steps=[{'role': 'assistant', 'content': [{'citations': None, 'text': \"I'll try dividing 1 by 0 using the division function to see what error occurs:\", 'type': 'text'}, {'id': 'toolu_016JcuEaTVFa5JXh1nF6S78Y', 'input': {'a': 1, 'b': 0}, 'name': 'mydiv', 'type': 'tool_use'}]}, {'role': 'user', 'content': [{'type': 'tool_result', 'tool_use_id': 'toolu_016JcuEaTVFa5JXh1nF6S78Y', 'content': 'Traceback (most recent call last):\\n  File \"/Users/jhoward/aai-ws/toolslm/toolslm/funccall.py\", line 198, in call_func\\n    try: return func(**fc_inputs)\\n                ^^^^^^^^^^^^^^^^^\\n  File \"/Users/jhoward/aai-ws/claudette/claudette/core.py\", line 377, in wrapper\\n    return func(*new_args, **new_kwargs)\\n           ^^^^^^^^^^^^^^^^^^^^^^^^^^^^^\\n  File \"/var/folders/51/b2_szf2945n072c0vj2cyty40000gn/T/ipykernel_82009/2257864620.py\", line 3, in mydiv\\n    return a / b\\n           ~~^~~\\nZeroDivisionError: division by zero\\n'}]}, {'role': 'assistant', 'content': [{'citations': None, 'text': 'As expected, attempting to divide 1 by 0 resulted in a `ZeroDivisionError: division by zero` error. This is the standard Python error that occurs when trying to divide any number by zero, since division by zero is mathematically undefined. The error traceback shows that the error occurred in the `mydiv` function at the line `return a / b` when `b` was 0.', 'type': 'text'}]}])"
      ]
     },
     "execution_count": null,
     "metadata": {},
     "output_type": "execute_result"
    }
   ],
   "source": [
    "chat = AsyncChat(model, tools=[mydiv])\n",
    "r = await chat.toolloop('Try dividing 1 by 0 and see what the error result is', max_steps=2)\n",
    "r"
   ]
  },
  {
   "cell_type": "markdown",
   "id": "d4a93494",
   "metadata": {},
   "source": [
    "## Code interpreter"
   ]
  },
  {
   "cell_type": "markdown",
   "id": "7c04effc",
   "metadata": {},
   "source": [
    "Here is an example of using `toolloop` to implement a simple code interpreter with additional tools."
   ]
  },
  {
   "cell_type": "code",
   "execution_count": null,
   "id": "04aeee1a",
   "metadata": {},
   "outputs": [],
   "source": [
    "from toolslm.shell import get_shell\n",
    "from fastcore.meta import delegates\n",
    "import traceback"
   ]
  },
  {
   "cell_type": "code",
   "execution_count": null,
   "id": "5d565a7e",
   "metadata": {},
   "outputs": [],
   "source": [
    "@delegates()\n",
    "class CodeChat(Chat):\n",
    "    imps = 'os, warnings, time, json, re, math, collections, itertools, functools, dateutil, datetime, string, types, copy, pprint, enum, numbers, decimal, fractions, random, operator, typing, dataclasses'\n",
    "    def __init__(self, model: Optional[str] = None, ask:bool=True, **kwargs):\n",
    "        super().__init__(model=model, **kwargs)\n",
    "        self.ask = ask\n",
    "        self.tools.append(self.run_cell)\n",
    "        self.shell = get_shell()\n",
    "        self.shell.run_cell('import '+self.imps)"
   ]
  },
  {
   "cell_type": "markdown",
   "id": "6b1a94f7",
   "metadata": {},
   "source": [
    "We have one additional parameter to creating a `CodeChat` beyond what we pass to `Chat`, which is `ask` -- if that's `True`, we'll prompt the user before running code."
   ]
  },
  {
   "cell_type": "code",
   "execution_count": null,
   "id": "e765d432",
   "metadata": {},
   "outputs": [],
   "source": [
    "@patch\n",
    "def run_cell(\n",
    "    self:CodeChat,\n",
    "    code:str,   # Code to execute in persistent IPython session\n",
    ")->str:\n",
    "    \"\"\"Asks user for permission, and if provided, executes python `code` using persistent IPython session.\n",
    "    Returns: Result of expression on last line (if exists); '#DECLINED#' if user declines request to execute\"\"\"\n",
    "    confirm = f'Press Enter to execute, or enter \"n\" to skip?\\n```\\n{code}\\n```\\n'\n",
    "    if self.ask and input(confirm): return '#DECLINED#'\n",
    "    try: res = self.shell.run_cell(code)\n",
    "    except Exception as e: return traceback.format_exc()\n",
    "    return res.stdout if res.result is None else res.result"
   ]
  },
  {
   "cell_type": "markdown",
   "id": "a8425cc8",
   "metadata": {},
   "source": [
    "We just pass along requests to run code to the shell's implementation. Claude often prints results instead of just using the last expression, so we capture stdout in those cases."
   ]
  },
  {
   "cell_type": "code",
   "execution_count": null,
   "id": "013f6dfa",
   "metadata": {},
   "outputs": [],
   "source": [
    "sp = f'''You are a knowledgable assistant. Do not use tools unless needed.\n",
    "Don't do complex calculations yourself -- use code for them.\n",
    "The following modules are pre-imported for `run_cell` automatically:\n",
    "\n",
    "{CodeChat.imps}\n",
    "\n",
    "Never mention what tools you are using. Note that `run_cell` interpreter state is *persistent* across calls.\n",
    "\n",
    "If a tool returns `#DECLINED#` report to the user that the attempt was declined and no further progress can be made.\n",
    "In that case, do *not* attempt to run any further code -- stop execution *IMMEDIATELY* and tell the user it was declined.'''"
   ]
  },
  {
   "cell_type": "code",
   "execution_count": null,
   "id": "610f2556",
   "metadata": {},
   "outputs": [],
   "source": [
    "def get_user()->str:\n",
    "    \"Get the username of the user running this session\"\n",
    "    print(\"Looking up username\")\n",
    "    return 'Jeremy'"
   ]
  },
  {
   "cell_type": "markdown",
   "id": "bf964f57",
   "metadata": {},
   "source": [
    "In order to test out multi-stage tool use, we create a mock function that Claude can call to get the current username."
   ]
  },
  {
   "cell_type": "code",
   "execution_count": null,
   "id": "e0f875f1",
   "metadata": {},
   "outputs": [],
   "source": [
    "model = models[1]\n",
    "chat = CodeChat(model, tools=[get_user], sp=sp, ask=True, temp=0.3)"
   ]
  },
  {
   "cell_type": "markdown",
   "id": "bd92d000",
   "metadata": {},
   "source": [
    "Providing a callable to toolloop's `trace_func` lets us print out information during the loop:"
   ]
  },
  {
   "cell_type": "code",
   "execution_count": null,
   "id": "e10cde39",
   "metadata": {},
   "outputs": [],
   "source": [
    "def _show_cts(h):\n",
    "    for r in h:\n",
    "        for o in r.get('content'):\n",
    "            if hasattr(o,'text'): print(o.text)\n",
    "            nm = getattr(o, 'name', None)\n",
    "            if nm=='run_cell': print(o.input['code'])\n",
    "            elif nm: print(f'{o.name}({o.input})')"
   ]
  },
  {
   "cell_type": "markdown",
   "id": "9df2c6c8",
   "metadata": {},
   "source": [
    "...and toolloop's `cont_func` callable let's us provide a function which, if it returns `False`, stops the loop:"
   ]
  },
  {
   "cell_type": "code",
   "execution_count": null,
   "id": "bfbc8ba8",
   "metadata": {},
   "outputs": [],
   "source": [
    "def _cont_decline(c): return nested_idx(c, 'content', 'content') != '#DECLINED#'"
   ]
  },
  {
   "cell_type": "markdown",
   "id": "eddb021f",
   "metadata": {},
   "source": [
    "Now we can try our code interpreter. We start by asking for a function to be created, which we'll use in the next prompt to test that the interpreter is persistent."
   ]
  },
  {
   "cell_type": "code",
   "execution_count": null,
   "id": "f1974763",
   "metadata": {},
   "outputs": [
    {
     "name": "stdout",
     "output_type": "stream",
     "text": [
      "Press Enter to execute, or enter \"n\" to skip?\n",
      "```\n",
      "checksum = lambda s: functools.reduce(operator.mul, (ord(c) for c in s), 1)\n",
      "\n",
      "# Test the function\n",
      "test_string = \"hello\"\n",
      "result = checksum(test_string)\n",
      "print(f\"Checksum of '{test_string}': {result}\")\n",
      "\n",
      "# Let's verify by calculating manually\n",
      "manual = ord('h') * ord('e') * ord('l') * ord('l') * ord('o')\n",
      "print(f\"Manual calculation: {ord('h')} * {ord('e')} * {ord('l')} * {ord('l')} * {ord('o')} = {manual}\")\n",
      "print(f\"Results match: {result == manual}\")\n",
      "\n",
      "# Test with another string\n",
      "test2 = \"abc\"\n",
      "result2 = checksum(test2)\n",
      "print(f\"\\nChecksum of '{test2}': {result2}\")\n",
      "print(f\"Manual: {ord('a')} * {ord('b')} * {ord('c')} = {ord('a') * ord('b') * ord('c')}\")\n",
      "```\n",
      "\n",
      "checksum = lambda s: functools.reduce(operator.mul, (ord(c) for c in s), 1)\n",
      "\n",
      "# Test the function\n",
      "test_string = \"hello\"\n",
      "result = checksum(test_string)\n",
      "print(f\"Checksum of '{test_string}': {result}\")\n",
      "\n",
      "# Let's verify by calculating manually\n",
      "manual = ord('h') * ord('e') * ord('l') * ord('l') * ord('o')\n",
      "print(f\"Manual calculation: {ord('h')} * {ord('e')} * {ord('l')} * {ord('l')} * {ord('o')} = {manual}\")\n",
      "print(f\"Results match: {result == manual}\")\n",
      "\n",
      "# Test with another string\n",
      "test2 = \"abc\"\n",
      "result2 = checksum(test2)\n",
      "print(f\"\\nChecksum of '{test2}': {result2}\")\n",
      "print(f\"Manual: {ord('a')} * {ord('b')} * {ord('c')} = {ord('a') * ord('b') * ord('c')}\")\n",
      "Perfect! Here's the 1-line checksum function:\n",
      "\n",
      "```python\n",
      "checksum = lambda s: functools.reduce(operator.mul, (ord(c) for c in s), 1)\n",
      "```\n",
      "\n",
      "This function:\n",
      "- Uses `lambda` to create a concise 1-line function\n",
      "- Takes a string `s` as input\n",
      "- Uses `ord(c)` to get the ASCII value of each character `c`\n",
      "- Uses `functools.reduce` with `operator.mul` to multiply all ASCII values together\n",
      "- The `1` serves as the initial value (identity for multiplication)\n",
      "\n",
      "As demonstrated, it correctly calculates the product of all ASCII values in the string.\n"
     ]
    },
    {
     "data": {
      "text/markdown": [
       "Perfect! Here's the 1-line checksum function:\n",
       "\n",
       "```python\n",
       "checksum = lambda s: functools.reduce(operator.mul, (ord(c) for c in s), 1)\n",
       "```\n",
       "\n",
       "This function:\n",
       "- Uses `lambda` to create a concise 1-line function\n",
       "- Takes a string `s` as input\n",
       "- Uses `ord(c)` to get the ASCII value of each character `c`\n",
       "- Uses `functools.reduce` with `operator.mul` to multiply all ASCII values together\n",
       "- The `1` serves as the initial value (identity for multiplication)\n",
       "\n",
       "As demonstrated, it correctly calculates the product of all ASCII values in the string.\n",
       "\n",
       "<details>\n",
       "\n",
       "- id: `msg_01DXf6WL5XbnxCC2EwgB61LA`\n",
       "- content: `[{'citations': None, 'text': \"Perfect! Here's the 1-line checksum function:\\n\\n```python\\nchecksum = lambda s: functools.reduce(operator.mul, (ord(c) for c in s), 1)\\n```\\n\\nThis function:\\n- Uses `lambda` to create a concise 1-line function\\n- Takes a string `s` as input\\n- Uses `ord(c)` to get the ASCII value of each character `c`\\n- Uses `functools.reduce` with `operator.mul` to multiply all ASCII values together\\n- The `1` serves as the initial value (identity for multiplication)\\n\\nAs demonstrated, it correctly calculates the product of all ASCII values in the string.\", 'type': 'text'}]`\n",
       "- model: `claude-sonnet-4-20250514`\n",
       "- role: `assistant`\n",
       "- stop_reason: `end_turn`\n",
       "- stop_sequence: `None`\n",
       "- type: `message`\n",
       "- usage: `{'cache_creation_input_tokens': 0, 'cache_read_input_tokens': 0, 'input_tokens': 1576, 'output_tokens': 155, 'server_tool_use': None, 'service_tier': 'standard'}`\n",
       "- steps: `[{'role': 'assistant', 'content': [{'id': 'toolu_01PGAKoGi6dBuEpR3ozf8ERz', 'input': {'code': 'checksum = lambda s: functools.reduce(operator.mul, (ord(c) for c in s), 1)\\n\\n# Test the function\\ntest_string = \"hello\"\\nresult = checksum(test_string)\\nprint(f\"Checksum of \\'{test_string}\\': {result}\")\\n\\n# Let\\'s verify by calculating manually\\nmanual = ord(\\'h\\') * ord(\\'e\\') * ord(\\'l\\') * ord(\\'l\\') * ord(\\'o\\')\\nprint(f\"Manual calculation: {ord(\\'h\\')} * {ord(\\'e\\')} * {ord(\\'l\\')} * {ord(\\'l\\')} * {ord(\\'o\\')} = {manual}\")\\nprint(f\"Results match: {result == manual}\")\\n\\n# Test with another string\\ntest2 = \"abc\"\\nresult2 = checksum(test2)\\nprint(f\"\\\\nChecksum of \\'{test2}\\': {result2}\")\\nprint(f\"Manual: {ord(\\'a\\')} * {ord(\\'b\\')} * {ord(\\'c\\')} = {ord(\\'a\\') * ord(\\'b\\') * ord(\\'c\\')}\")'}, 'name': 'run_cell', 'type': 'tool_use'}]}, {'role': 'user', 'content': [{'type': 'tool_result', 'tool_use_id': 'toolu_01PGAKoGi6dBuEpR3ozf8ERz', 'content': \"Checksum of 'hello': 13599570816\\nManual calculation: 104 * 101 * 108 * 108 * 111 = 13599570816\\nResults match: True\\n\\nChecksum of 'abc': 941094\\nManual: 97 * 98 * 99 = 941094\\n\"}]}, {'role': 'assistant', 'content': [{'citations': None, 'text': \"Perfect! Here's the 1-line checksum function:\\n\\n```python\\nchecksum = lambda s: functools.reduce(operator.mul, (ord(c) for c in s), 1)\\n```\\n\\nThis function:\\n- Uses `lambda` to create a concise 1-line function\\n- Takes a string `s` as input\\n- Uses `ord(c)` to get the ASCII value of each character `c`\\n- Uses `functools.reduce` with `operator.mul` to multiply all ASCII values together\\n- The `1` serves as the initial value (identity for multiplication)\\n\\nAs demonstrated, it correctly calculates the product of all ASCII values in the string.\", 'type': 'text'}]}]`\n",
       "\n",
       "</details>"
      ],
      "text/plain": [
       "Message(id='msg_01DXf6WL5XbnxCC2EwgB61LA', content=[TextBlock(citations=None, text=\"Perfect! Here's the 1-line checksum function:\\n\\n```python\\nchecksum = lambda s: functools.reduce(operator.mul, (ord(c) for c in s), 1)\\n```\\n\\nThis function:\\n- Uses `lambda` to create a concise 1-line function\\n- Takes a string `s` as input\\n- Uses `ord(c)` to get the ASCII value of each character `c`\\n- Uses `functools.reduce` with `operator.mul` to multiply all ASCII values together\\n- The `1` serves as the initial value (identity for multiplication)\\n\\nAs demonstrated, it correctly calculates the product of all ASCII values in the string.\", type='text')], model='claude-sonnet-4-20250514', role='assistant', stop_reason='end_turn', stop_sequence=None, type='message', usage=In: 1576; Out: 155; Cache create: 0; Cache read: 0; Total Tokens: 1731; Server tool use (web search requests): 0, steps=[{'role': 'assistant', 'content': [{'id': 'toolu_01PGAKoGi6dBuEpR3ozf8ERz', 'input': {'code': 'checksum = lambda s: functools.reduce(operator.mul, (ord(c) for c in s), 1)\\n\\n# Test the function\\ntest_string = \"hello\"\\nresult = checksum(test_string)\\nprint(f\"Checksum of \\'{test_string}\\': {result}\")\\n\\n# Let\\'s verify by calculating manually\\nmanual = ord(\\'h\\') * ord(\\'e\\') * ord(\\'l\\') * ord(\\'l\\') * ord(\\'o\\')\\nprint(f\"Manual calculation: {ord(\\'h\\')} * {ord(\\'e\\')} * {ord(\\'l\\')} * {ord(\\'l\\')} * {ord(\\'o\\')} = {manual}\")\\nprint(f\"Results match: {result == manual}\")\\n\\n# Test with another string\\ntest2 = \"abc\"\\nresult2 = checksum(test2)\\nprint(f\"\\\\nChecksum of \\'{test2}\\': {result2}\")\\nprint(f\"Manual: {ord(\\'a\\')} * {ord(\\'b\\')} * {ord(\\'c\\')} = {ord(\\'a\\') * ord(\\'b\\') * ord(\\'c\\')}\")'}, 'name': 'run_cell', 'type': 'tool_use'}]}, {'role': 'user', 'content': [{'type': 'tool_result', 'tool_use_id': 'toolu_01PGAKoGi6dBuEpR3ozf8ERz', 'content': \"Checksum of 'hello': 13599570816\\nManual calculation: 104 * 101 * 108 * 108 * 111 = 13599570816\\nResults match: True\\n\\nChecksum of 'abc': 941094\\nManual: 97 * 98 * 99 = 941094\\n\"}]}, {'role': 'assistant', 'content': [{'citations': None, 'text': \"Perfect! Here's the 1-line checksum function:\\n\\n```python\\nchecksum = lambda s: functools.reduce(operator.mul, (ord(c) for c in s), 1)\\n```\\n\\nThis function:\\n- Uses `lambda` to create a concise 1-line function\\n- Takes a string `s` as input\\n- Uses `ord(c)` to get the ASCII value of each character `c`\\n- Uses `functools.reduce` with `operator.mul` to multiply all ASCII values together\\n- The `1` serves as the initial value (identity for multiplication)\\n\\nAs demonstrated, it correctly calculates the product of all ASCII values in the string.\", 'type': 'text'}]}])"
      ]
     },
     "execution_count": null,
     "metadata": {},
     "output_type": "execute_result"
    }
   ],
   "source": [
    "pr = '''Create a 1-line function `checksum` for a string `s`,\n",
    "that multiplies together the ascii values of each character in `s` using `reduce`.'''\n",
    "chat.toolloop(pr, temp=0.2, trace_func=_show_cts, cont_func=_cont_decline)"
   ]
  },
  {
   "cell_type": "markdown",
   "id": "100eac7b",
   "metadata": {},
   "source": [
    "By asking for a calculation to be done on the username, we force it to use multiple steps:"
   ]
  },
  {
   "cell_type": "code",
   "execution_count": null,
   "id": "7c381e69",
   "metadata": {},
   "outputs": [
    {
     "name": "stdout",
     "output_type": "stream",
     "text": [
      "Looking up username\n",
      "get_user({})\n",
      "Press Enter to execute, or enter \"n\" to skip?\n",
      "```\n",
      "username = \"Jeremy\"\n",
      "user_checksum = checksum(username)\n",
      "print(f\"Username: {username}\")\n",
      "print(f\"Checksum: {user_checksum}\")\n",
      "\n",
      "# Show the calculation breakdown\n",
      "ascii_values = [ord(c) for c in username]\n",
      "print(f\"ASCII values: {ascii_values}\")\n",
      "print(f\"Calculation: {' * '.join(map(str, ascii_values))} = {user_checksum}\")\n",
      "```\n",
      "\n",
      "username = \"Jeremy\"\n",
      "user_checksum = checksum(username)\n",
      "print(f\"Username: {username}\")\n",
      "print(f\"Checksum: {user_checksum}\")\n",
      "\n",
      "# Show the calculation breakdown\n",
      "ascii_values = [ord(c) for c in username]\n",
      "print(f\"ASCII values: {ascii_values}\")\n",
      "print(f\"Calculation: {' * '.join(map(str, ascii_values))} = {user_checksum}\")\n",
      "The checksum of the username \"Jeremy\" is **1,134,987,783,204**.\n",
      "\n",
      "This is calculated by multiplying the ASCII values: 74 × 101 × 114 × 101 × 109 × 121 = 1,134,987,783,204.\n"
     ]
    },
    {
     "data": {
      "text/markdown": [
       "The checksum of the username \"Jeremy\" is **1,134,987,783,204**.\n",
       "\n",
       "This is calculated by multiplying the ASCII values: 74 × 101 × 114 × 101 × 109 × 121 = 1,134,987,783,204.\n",
       "\n",
       "<details>\n",
       "\n",
       "- id: `msg_017y7XAVh9AnZEtmdZncN4x3`\n",
       "- content: `[{'citations': None, 'text': 'The checksum of the username \"Jeremy\" is **1,134,987,783,204**.\\n\\nThis is calculated by multiplying the ASCII values: 74 × 101 × 114 × 101 × 109 × 121 = 1,134,987,783,204.', 'type': 'text'}]`\n",
       "- model: `claude-sonnet-4-20250514`\n",
       "- role: `assistant`\n",
       "- stop_reason: `end_turn`\n",
       "- stop_sequence: `None`\n",
       "- type: `message`\n",
       "- usage: `{'cache_creation_input_tokens': 0, 'cache_read_input_tokens': 0, 'input_tokens': 2038, 'output_tokens': 70, 'server_tool_use': None, 'service_tier': 'standard'}`\n",
       "- steps: `[{'role': 'assistant', 'content': [{'id': 'toolu_01RvRZY1gQj6rTQ72ZJeEcfK', 'input': {}, 'name': 'get_user', 'type': 'tool_use'}]}, {'role': 'user', 'content': [{'type': 'tool_result', 'tool_use_id': 'toolu_01RvRZY1gQj6rTQ72ZJeEcfK', 'content': 'Jeremy'}]}, {'role': 'assistant', 'content': [{'id': 'toolu_01VRG7yiYrki5StaxU57PSLp', 'input': {'code': 'username = \"Jeremy\"\\nuser_checksum = checksum(username)\\nprint(f\"Username: {username}\")\\nprint(f\"Checksum: {user_checksum}\")\\n\\n# Show the calculation breakdown\\nascii_values = [ord(c) for c in username]\\nprint(f\"ASCII values: {ascii_values}\")\\nprint(f\"Calculation: {\\' * \\'.join(map(str, ascii_values))} = {user_checksum}\")'}, 'name': 'run_cell', 'type': 'tool_use'}]}, {'role': 'user', 'content': [{'type': 'tool_result', 'tool_use_id': 'toolu_01VRG7yiYrki5StaxU57PSLp', 'content': 'Username: Jeremy\\nChecksum: 1134987783204\\nASCII values: [74, 101, 114, 101, 109, 121]\\nCalculation: 74 * 101 * 114 * 101 * 109 * 121 = 1134987783204\\n'}]}, {'role': 'assistant', 'content': [{'citations': None, 'text': 'The checksum of the username \"Jeremy\" is **1,134,987,783,204**.\\n\\nThis is calculated by multiplying the ASCII values: 74 × 101 × 114 × 101 × 109 × 121 = 1,134,987,783,204.', 'type': 'text'}]}]`\n",
       "\n",
       "</details>"
      ],
      "text/plain": [
       "Message(id='msg_017y7XAVh9AnZEtmdZncN4x3', content=[TextBlock(citations=None, text='The checksum of the username \"Jeremy\" is **1,134,987,783,204**.\\n\\nThis is calculated by multiplying the ASCII values: 74 × 101 × 114 × 101 × 109 × 121 = 1,134,987,783,204.', type='text')], model='claude-sonnet-4-20250514', role='assistant', stop_reason='end_turn', stop_sequence=None, type='message', usage=In: 2038; Out: 70; Cache create: 0; Cache read: 0; Total Tokens: 2108; Server tool use (web search requests): 0, steps=[{'role': 'assistant', 'content': [{'id': 'toolu_01RvRZY1gQj6rTQ72ZJeEcfK', 'input': {}, 'name': 'get_user', 'type': 'tool_use'}]}, {'role': 'user', 'content': [{'type': 'tool_result', 'tool_use_id': 'toolu_01RvRZY1gQj6rTQ72ZJeEcfK', 'content': 'Jeremy'}]}, {'role': 'assistant', 'content': [{'id': 'toolu_01VRG7yiYrki5StaxU57PSLp', 'input': {'code': 'username = \"Jeremy\"\\nuser_checksum = checksum(username)\\nprint(f\"Username: {username}\")\\nprint(f\"Checksum: {user_checksum}\")\\n\\n# Show the calculation breakdown\\nascii_values = [ord(c) for c in username]\\nprint(f\"ASCII values: {ascii_values}\")\\nprint(f\"Calculation: {\\' * \\'.join(map(str, ascii_values))} = {user_checksum}\")'}, 'name': 'run_cell', 'type': 'tool_use'}]}, {'role': 'user', 'content': [{'type': 'tool_result', 'tool_use_id': 'toolu_01VRG7yiYrki5StaxU57PSLp', 'content': 'Username: Jeremy\\nChecksum: 1134987783204\\nASCII values: [74, 101, 114, 101, 109, 121]\\nCalculation: 74 * 101 * 114 * 101 * 109 * 121 = 1134987783204\\n'}]}, {'role': 'assistant', 'content': [{'citations': None, 'text': 'The checksum of the username \"Jeremy\" is **1,134,987,783,204**.\\n\\nThis is calculated by multiplying the ASCII values: 74 × 101 × 114 × 101 × 109 × 121 = 1,134,987,783,204.', 'type': 'text'}]}])"
      ]
     },
     "execution_count": null,
     "metadata": {},
     "output_type": "execute_result"
    }
   ],
   "source": [
    "pr = 'Use it to get the checksum of the username of this session.'\n",
    "chat.toolloop(pr, trace_func=_show_cts)"
   ]
  },
  {
   "cell_type": "markdown",
   "id": "8fefe903",
   "metadata": {},
   "source": [
    "## Export -"
   ]
  },
  {
   "cell_type": "code",
   "execution_count": null,
   "id": "1e9ee5c1",
   "metadata": {},
   "outputs": [],
   "source": [
    "#|hide\n",
    "#|eval: false\n",
    "from nbdev.doclinks import nbdev_export\n",
    "nbdev_export()"
   ]
  },
  {
   "cell_type": "code",
   "execution_count": null,
   "id": "c627b799",
   "metadata": {},
   "outputs": [],
   "source": []
  }
 ],
 "metadata": {
  "kernelspec": {
   "display_name": "python3",
   "language": "python",
   "name": "python3"
  }
 },
 "nbformat": 4,
 "nbformat_minor": 5
}
