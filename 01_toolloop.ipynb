{
 "cells": [
  {
   "cell_type": "code",
   "execution_count": null,
   "id": "efe78920",
   "metadata": {},
   "outputs": [],
   "source": [
    "#|default_exp toolloop"
   ]
  },
  {
   "cell_type": "markdown",
   "id": "3d773712-12fe-440e-891f-36f59666dfde",
   "metadata": {},
   "source": [
    "# Tool loop"
   ]
  },
  {
   "cell_type": "code",
   "execution_count": null,
   "id": "322371c7",
   "metadata": {},
   "outputs": [],
   "source": [
    "import os\n",
    "# os.environ['ANTHROPIC_LOG'] = 'debug'"
   ]
  },
  {
   "cell_type": "code",
   "execution_count": null,
   "id": "033c76fd",
   "metadata": {},
   "outputs": [],
   "source": [
    "#| export\n",
    "from claudette.core import *\n",
    "from fastcore.utils import *\n",
    "from fastcore.meta import delegates\n",
    "\n",
    "from anthropic.types import TextBlock, Message, ToolUseBlock"
   ]
  },
  {
   "cell_type": "code",
   "execution_count": null,
   "id": "24ee745e",
   "metadata": {},
   "outputs": [],
   "source": [
    "model = models[-1]"
   ]
  },
  {
   "cell_type": "markdown",
   "id": "63111054",
   "metadata": {},
   "source": [
    "Anthropic provides an [interesting example](https://github.com/anthropics/anthropic-cookbook/blob/main/tool_use/customer_service_agent.ipynb) of using tools to mock up a hypothetical ordering system. We're going to take it a step further, and show how we can dramatically simplify the process, whilst completing more complex tasks.\n",
    "\n",
    "We'll start by defining the same mock customer/order data as in Anthropic's example, plus create a entity relationship between customers and orders:"
   ]
  },
  {
   "cell_type": "code",
   "execution_count": null,
   "id": "207f9715",
   "metadata": {},
   "outputs": [],
   "source": [
    "def _get_orders_customers():\n",
    "    orders = {\n",
    "        \"O1\": dict(id=\"O1\", product=\"Widget A\", quantity=2, price=19.99, status=\"Shipped\"),\n",
    "        \"O2\": dict(id=\"O2\", product=\"Gadget B\", quantity=1, price=49.99, status=\"Processing\"),\n",
    "        \"O3\": dict(id=\"O3\", product=\"Gadget B\", quantity=2, price=49.99, status=\"Shipped\")}\n",
    "\n",
    "    customers = {\n",
    "        \"C1\": dict(name=\"John Doe\", email=\"john@example.com\", phone=\"123-456-7890\",\n",
    "                   orders=[orders['O1'], orders['O2']]),\n",
    "        \"C2\": dict(name=\"Jane Smith\", email=\"jane@example.com\", phone=\"987-654-3210\",\n",
    "                   orders=[orders['O3']])\n",
    "    }\n",
    "    return orders, customers\n",
    "\n",
    "orders, customers = _get_orders_customers()"
   ]
  },
  {
   "cell_type": "markdown",
   "id": "2d8eed7b",
   "metadata": {},
   "source": [
    "We can now define the same functions from the original example -- but note that we don't need to manually create the large JSON schema, since Claudette handles all that for us automatically from the functions directly. We'll add some extra functionality to update order details when cancelling too."
   ]
  },
  {
   "cell_type": "code",
   "execution_count": null,
   "id": "2778dde0",
   "metadata": {},
   "outputs": [],
   "source": [
    "def get_customer_info(\n",
    "    customer_id:str # ID of the customer\n",
    "): # Customer's name, email, phone number, and list of orders\n",
    "    \"Retrieves a customer's information and their orders based on the customer ID\"\n",
    "    print(f'- Retrieving customer {customer_id}')\n",
    "    return customers.get(customer_id, \"Customer not found\")\n",
    "\n",
    "def get_order_details(\n",
    "    order_id:str # ID of the order\n",
    "): # Order's ID, product name, quantity, price, and order status\n",
    "    \"Retrieves the details of a specific order based on the order ID\"\n",
    "    print(f'- Retrieving order {order_id}')\n",
    "    return orders.get(order_id, \"Order not found\")\n",
    "\n",
    "def cancel_order(\n",
    "    order_id:str # ID of the order to cancel\n",
    ")->bool: # True if the cancellation is successful\n",
    "    \"Cancels an order based on the provided order ID\"\n",
    "    print(f'- Cancelling order {order_id}')\n",
    "    if order_id not in orders: return False\n",
    "    orders[order_id]['status'] = 'Cancelled'\n",
    "    return True"
   ]
  },
  {
   "cell_type": "markdown",
   "id": "a1278535",
   "metadata": {},
   "source": [
    "We're now ready to start our chat."
   ]
  },
  {
   "cell_type": "code",
   "execution_count": null,
   "id": "a4231dff",
   "metadata": {},
   "outputs": [],
   "source": [
    "tools = [get_customer_info, get_order_details, cancel_order]\n",
    "chat = Chat(model, tools=tools)"
   ]
  },
  {
   "cell_type": "markdown",
   "id": "41db970a",
   "metadata": {},
   "source": [
    "We'll start with the same request as Anthropic showed:"
   ]
  },
  {
   "cell_type": "code",
   "execution_count": null,
   "id": "97cdbf58",
   "metadata": {},
   "outputs": [
    {
     "name": "stdout",
     "output_type": "stream",
     "text": [
      "- Retrieving customer C1\n",
      "tool_use\n"
     ]
    },
    {
     "data": {
      "text/plain": [
       "[TextBlock(citations=None, text=\"I'll retrieve the customer information for customer ID C1.\", type='text'),\n",
       " ToolUseBlock(id='toolu_01EgwGKoaaHaVbupkcTfX9DF', input={'customer_id': 'C1'}, name='get_customer_info', type='tool_use')]"
      ]
     },
     "execution_count": null,
     "metadata": {},
     "output_type": "execute_result"
    }
   ],
   "source": [
    "r = chat('Can you tell me the email address for customer C1?')\n",
    "print(r.stop_reason)\n",
    "r.content"
   ]
  },
  {
   "cell_type": "markdown",
   "id": "3f6d3ae8",
   "metadata": {},
   "source": [
    "Claude asks us to use a tool. Claudette handles that automatically by just calling it again:"
   ]
  },
  {
   "cell_type": "code",
   "execution_count": null,
   "id": "09196e94",
   "metadata": {},
   "outputs": [
    {
     "data": {
      "text/plain": [
       "'The email address for customer C1 (John Doe) is john@example.com.'"
      ]
     },
     "execution_count": null,
     "metadata": {},
     "output_type": "execute_result"
    }
   ],
   "source": [
    "r = chat()\n",
    "contents(r)"
   ]
  },
  {
   "cell_type": "markdown",
   "id": "26fe5edb",
   "metadata": {},
   "source": [
    "Let's consider a more complex case than in the original example -- what happens if a customer wants to cancel all of their orders?"
   ]
  },
  {
   "cell_type": "code",
   "execution_count": null,
   "id": "6aa531d0",
   "metadata": {},
   "outputs": [
    {
     "name": "stdout",
     "output_type": "stream",
     "text": [
      "- Retrieving customer C1\n",
      "tool_use\n"
     ]
    },
    {
     "data": {
      "text/plain": [
       "[TextBlock(citations=None, text=\"I'll help you cancel all orders for customer C1. To do this, I'll first retrieve the customer's information to get their order details, and then cancel each order.\", type='text'),\n",
       " ToolUseBlock(id='toolu_018WWKQYG43pknmKcfeqrjW6', input={'customer_id': 'C1'}, name='get_customer_info', type='tool_use')]"
      ]
     },
     "execution_count": null,
     "metadata": {},
     "output_type": "execute_result"
    }
   ],
   "source": [
    "chat = Chat(model, tools=tools)\n",
    "r = chat('Please cancel all orders for customer C1 for me.')\n",
    "print(r.stop_reason)\n",
    "r.content"
   ]
  },
  {
   "cell_type": "markdown",
   "id": "5a2432a1",
   "metadata": {},
   "source": [
    "This is the start of a multi-stage tool use process. Doing it manually step by step is inconvenient, so let's write a function to handle this for us:"
   ]
  },
  {
   "cell_type": "code",
   "execution_count": null,
   "id": "3457eeb6",
   "metadata": {},
   "outputs": [],
   "source": [
    "#| exports\n",
    "_final_prompt = \"You have no more tool uses. Please summarize your findings. If you did not complete your goal please tell the user what further work needs to be done so they can choose how best to proceed.\"\n",
    "\n",
    "@patch\n",
    "@delegates(Chat.__call__)\n",
    "def toolloop(self:Chat,\n",
    "             pr, # Prompt to pass to Claude\n",
    "             max_steps=10, # Maximum number of tool requests to loop through\n",
    "             trace_func:Optional[callable]=None, # Function to trace tool use steps (e.g `print`)\n",
    "             cont_func:Optional[callable]=noop, # Function that stops loop if returns False\n",
    "             final_prompt=_final_prompt, # Prompt to add if last message is a tool call\n",
    "             **kwargs):\n",
    "    \"Add prompt `pr` to dialog and get a response from Claude, automatically following up with `tool_use` messages\"\n",
    "    init_n = n_msgs = len(self.h)\n",
    "    r = self(pr, **kwargs)\n",
    "    for i in range(max_steps):\n",
    "        if r.stop_reason!='tool_use': break\n",
    "        if trace_func: trace_func(self.h[n_msgs:]); n_msgs = len(self.h)\n",
    "        r = self(**kwargs)\n",
    "        if not (cont_func or noop)(self.h[-2]): break\n",
    "    \n",
    "    if r.stop_reason == 'tool_use':\n",
    "        if trace_func: trace_func(self.h[n_msgs:])\n",
    "        r = self(final_prompt, **kwargs)\n",
    "    \n",
    "    if trace_func: trace_func(self.h[n_msgs:])\n",
    "    r.steps = self.h[init_n+1:]\n",
    "    return r"
   ]
  },
  {
   "cell_type": "markdown",
   "id": "f83a0859",
   "metadata": {},
   "source": [
    "We'll start by re-running our previous request - we shouldn't have to manually pass back the `tool_use` message any more:"
   ]
  },
  {
   "cell_type": "code",
   "execution_count": null,
   "id": "52fa6634",
   "metadata": {},
   "outputs": [
    {
     "name": "stdout",
     "output_type": "stream",
     "text": [
      "- Retrieving customer C1\n"
     ]
    },
    {
     "data": {
      "text/markdown": [
       "The email address for customer C1 (John Doe) is john@example.com.\n",
       "\n",
       "Is there anything else I can help you with?\n",
       "\n",
       "<details>\n",
       "\n",
       "- id: `msg_01Tv2jpzhTJVZb8z3MG9TLZD`\n",
       "- content: `[{'citations': None, 'text': 'The email address for customer C1 (John Doe) is john@example.com.\\n\\nIs there anything else I can help you with?', 'type': 'text'}]`\n",
       "- model: `claude-3-5-haiku-20241022`\n",
       "- role: `assistant`\n",
       "- stop_reason: `end_turn`\n",
       "- stop_sequence: `None`\n",
       "- type: `message`\n",
       "- usage: `{'cache_creation_input_tokens': 0, 'cache_read_input_tokens': 0, 'input_tokens': 748, 'output_tokens': 35, 'server_tool_use': None}`\n",
       "- steps: `[{'role': 'assistant', 'content': [{'citations': None, 'text': \"I'll help you retrieve the customer information for customer C1. I'll use the get_customer_info function to fetch the details.\", 'type': 'text'}, {'id': 'toolu_01WHJKwdRsQDoce3wHMo51Ro', 'input': {'customer_id': 'C1'}, 'name': 'get_customer_info', 'type': 'tool_use'}]}, {'role': 'user', 'content': [{'type': 'tool_result', 'tool_use_id': 'toolu_01WHJKwdRsQDoce3wHMo51Ro', 'content': \"{'name': 'John Doe', 'email': 'john@example.com', 'phone': '123-456-7890', 'orders': [{'id': 'O1', 'product': 'Widget A', 'quantity': 2, 'price': 19.99, 'status': 'Shipped'}, {'id': 'O2', 'product': 'Gadget B', 'quantity': 1, 'price': 49.99, 'status': 'Processing'}]}\"}]}, {'role': 'assistant', 'content': [{'citations': None, 'text': 'The email address for customer C1 (John Doe) is john@example.com.\\n\\nIs there anything else I can help you with?', 'type': 'text'}]}]`\n",
       "\n",
       "</details>"
      ],
      "text/plain": [
       "Message(id='msg_01Tv2jpzhTJVZb8z3MG9TLZD', content=[TextBlock(citations=None, text='The email address for customer C1 (John Doe) is john@example.com.\\n\\nIs there anything else I can help you with?', type='text')], model='claude-3-5-haiku-20241022', role='assistant', stop_reason='end_turn', stop_sequence=None, type='message', usage=In: 748; Out: 35; Cache create: 0; Cache read: 0; Total Tokens: 783; Server tool use (web search requests): 0, steps=[{'role': 'assistant', 'content': [{'citations': None, 'text': \"I'll help you retrieve the customer information for customer C1. I'll use the get_customer_info function to fetch the details.\", 'type': 'text'}, {'id': 'toolu_01WHJKwdRsQDoce3wHMo51Ro', 'input': {'customer_id': 'C1'}, 'name': 'get_customer_info', 'type': 'tool_use'}]}, {'role': 'user', 'content': [{'type': 'tool_result', 'tool_use_id': 'toolu_01WHJKwdRsQDoce3wHMo51Ro', 'content': \"{'name': 'John Doe', 'email': 'john@example.com', 'phone': '123-456-7890', 'orders': [{'id': 'O1', 'product': 'Widget A', 'quantity': 2, 'price': 19.99, 'status': 'Shipped'}, {'id': 'O2', 'product': 'Gadget B', 'quantity': 1, 'price': 49.99, 'status': 'Processing'}]}\"}]}, {'role': 'assistant', 'content': [{'citations': None, 'text': 'The email address for customer C1 (John Doe) is john@example.com.\\n\\nIs there anything else I can help you with?', 'type': 'text'}]}])"
      ]
     },
     "execution_count": null,
     "metadata": {},
     "output_type": "execute_result"
    }
   ],
   "source": [
    "chat = Chat(model, tools=tools)\n",
    "r = chat.toolloop('Can you tell me the email address for customer C1?')\n",
    "r"
   ]
  },
  {
   "cell_type": "markdown",
   "id": "db6131f0",
   "metadata": {},
   "source": [
    "Let's see if it can handle the multi-stage process now -- we'll add `trace_func=print` to see each stage of the process:"
   ]
  },
  {
   "cell_type": "code",
   "execution_count": null,
   "id": "1a26aee7",
   "metadata": {},
   "outputs": [
    {
     "name": "stdout",
     "output_type": "stream",
     "text": [
      "- Retrieving customer C1\n",
      "[{'role': 'user', 'content': 'Please cancel all orders for customer C1 for me.'}, {'role': 'assistant', 'content': [{'citations': None, 'text': \"I'll help you cancel all orders for customer C1. To do this, I'll first retrieve the customer's information to get their order details, and then cancel each order.\", 'type': 'text'}, {'id': 'toolu_017YXD7CpETHF1LTvjiYLyEr', 'input': {'customer_id': 'C1'}, 'name': 'get_customer_info', 'type': 'tool_use'}]}, {'role': 'user', 'content': [{'type': 'tool_result', 'tool_use_id': 'toolu_017YXD7CpETHF1LTvjiYLyEr', 'content': \"{'name': 'John Doe', 'email': 'john@example.com', 'phone': '123-456-7890', 'orders': [{'id': 'O1', 'product': 'Widget A', 'quantity': 2, 'price': 19.99, 'status': 'Shipped'}, {'id': 'O2', 'product': 'Gadget B', 'quantity': 1, 'price': 49.99, 'status': 'Processing'}]}\"}]}]\n",
      "- Cancelling order O1\n",
      "[{'role': 'assistant', 'content': [{'citations': None, 'text': \"I see that customer C1 (John Doe) has two orders: O1 and O2. I'll proceed to cancel both orders:\", 'type': 'text'}, {'id': 'toolu_01WHVsnn7jBdhQCNU5fx8kW9', 'input': {'order_id': 'O1'}, 'name': 'cancel_order', 'type': 'tool_use'}]}, {'role': 'user', 'content': [{'type': 'tool_result', 'tool_use_id': 'toolu_01WHVsnn7jBdhQCNU5fx8kW9', 'content': 'True'}]}]\n",
      "- Cancelling order O2\n",
      "[{'role': 'assistant', 'content': [{'id': 'toolu_013XupoeR3XxLVuBDnTVXoBz', 'input': {'order_id': 'O2'}, 'name': 'cancel_order', 'type': 'tool_use'}]}, {'role': 'user', 'content': [{'type': 'tool_result', 'tool_use_id': 'toolu_013XupoeR3XxLVuBDnTVXoBz', 'content': 'True'}]}]\n",
      "[{'role': 'assistant', 'content': [{'citations': None, 'text': \"I've successfully cancelled both orders (O1 and O2) for customer C1. Both cancellation attempts returned 'True', which indicates they were processed successfully. Is there anything else I can help you with?\", 'type': 'text'}]}]\n"
     ]
    },
    {
     "data": {
      "text/markdown": [
       "I've successfully cancelled both orders (O1 and O2) for customer C1. Both cancellation attempts returned 'True', which indicates they were processed successfully. Is there anything else I can help you with?\n",
       "\n",
       "<details>\n",
       "\n",
       "- id: `msg_01SvULzMLbEkKq82RThyQLAx`\n",
       "- content: `[{'citations': None, 'text': \"I've successfully cancelled both orders (O1 and O2) for customer C1. Both cancellation attempts returned 'True', which indicates they were processed successfully. Is there anything else I can help you with?\", 'type': 'text'}]`\n",
       "- model: `claude-3-5-haiku-20241022`\n",
       "- role: `assistant`\n",
       "- stop_reason: `end_turn`\n",
       "- stop_sequence: `None`\n",
       "- type: `message`\n",
       "- usage: `{'cache_creation_input_tokens': 0, 'cache_read_input_tokens': 0, 'input_tokens': 926, 'output_tokens': 49, 'server_tool_use': None}`\n",
       "- steps: `[{'role': 'assistant', 'content': [{'citations': None, 'text': \"I'll help you cancel all orders for customer C1. To do this, I'll first retrieve the customer's information to get their order details, and then cancel each order.\", 'type': 'text'}, {'id': 'toolu_017YXD7CpETHF1LTvjiYLyEr', 'input': {'customer_id': 'C1'}, 'name': 'get_customer_info', 'type': 'tool_use'}]}, {'role': 'user', 'content': [{'type': 'tool_result', 'tool_use_id': 'toolu_017YXD7CpETHF1LTvjiYLyEr', 'content': \"{'name': 'John Doe', 'email': 'john@example.com', 'phone': '123-456-7890', 'orders': [{'id': 'O1', 'product': 'Widget A', 'quantity': 2, 'price': 19.99, 'status': 'Shipped'}, {'id': 'O2', 'product': 'Gadget B', 'quantity': 1, 'price': 49.99, 'status': 'Processing'}]}\"}]}, {'role': 'assistant', 'content': [{'citations': None, 'text': \"I see that customer C1 (John Doe) has two orders: O1 and O2. I'll proceed to cancel both orders:\", 'type': 'text'}, {'id': 'toolu_01WHVsnn7jBdhQCNU5fx8kW9', 'input': {'order_id': 'O1'}, 'name': 'cancel_order', 'type': 'tool_use'}]}, {'role': 'user', 'content': [{'type': 'tool_result', 'tool_use_id': 'toolu_01WHVsnn7jBdhQCNU5fx8kW9', 'content': 'True'}]}, {'role': 'assistant', 'content': [{'id': 'toolu_013XupoeR3XxLVuBDnTVXoBz', 'input': {'order_id': 'O2'}, 'name': 'cancel_order', 'type': 'tool_use'}]}, {'role': 'user', 'content': [{'type': 'tool_result', 'tool_use_id': 'toolu_013XupoeR3XxLVuBDnTVXoBz', 'content': 'True'}]}, {'role': 'assistant', 'content': [{'citations': None, 'text': \"I've successfully cancelled both orders (O1 and O2) for customer C1. Both cancellation attempts returned 'True', which indicates they were processed successfully. Is there anything else I can help you with?\", 'type': 'text'}]}]`\n",
       "\n",
       "</details>"
      ],
      "text/plain": [
       "Message(id='msg_01SvULzMLbEkKq82RThyQLAx', content=[TextBlock(citations=None, text=\"I've successfully cancelled both orders (O1 and O2) for customer C1. Both cancellation attempts returned 'True', which indicates they were processed successfully. Is there anything else I can help you with?\", type='text')], model='claude-3-5-haiku-20241022', role='assistant', stop_reason='end_turn', stop_sequence=None, type='message', usage=In: 926; Out: 49; Cache create: 0; Cache read: 0; Total Tokens: 975; Server tool use (web search requests): 0, steps=[{'role': 'assistant', 'content': [{'citations': None, 'text': \"I'll help you cancel all orders for customer C1. To do this, I'll first retrieve the customer's information to get their order details, and then cancel each order.\", 'type': 'text'}, {'id': 'toolu_017YXD7CpETHF1LTvjiYLyEr', 'input': {'customer_id': 'C1'}, 'name': 'get_customer_info', 'type': 'tool_use'}]}, {'role': 'user', 'content': [{'type': 'tool_result', 'tool_use_id': 'toolu_017YXD7CpETHF1LTvjiYLyEr', 'content': \"{'name': 'John Doe', 'email': 'john@example.com', 'phone': '123-456-7890', 'orders': [{'id': 'O1', 'product': 'Widget A', 'quantity': 2, 'price': 19.99, 'status': 'Shipped'}, {'id': 'O2', 'product': 'Gadget B', 'quantity': 1, 'price': 49.99, 'status': 'Processing'}]}\"}]}, {'role': 'assistant', 'content': [{'citations': None, 'text': \"I see that customer C1 (John Doe) has two orders: O1 and O2. I'll proceed to cancel both orders:\", 'type': 'text'}, {'id': 'toolu_01WHVsnn7jBdhQCNU5fx8kW9', 'input': {'order_id': 'O1'}, 'name': 'cancel_order', 'type': 'tool_use'}]}, {'role': 'user', 'content': [{'type': 'tool_result', 'tool_use_id': 'toolu_01WHVsnn7jBdhQCNU5fx8kW9', 'content': 'True'}]}, {'role': 'assistant', 'content': [{'id': 'toolu_013XupoeR3XxLVuBDnTVXoBz', 'input': {'order_id': 'O2'}, 'name': 'cancel_order', 'type': 'tool_use'}]}, {'role': 'user', 'content': [{'type': 'tool_result', 'tool_use_id': 'toolu_013XupoeR3XxLVuBDnTVXoBz', 'content': 'True'}]}, {'role': 'assistant', 'content': [{'citations': None, 'text': \"I've successfully cancelled both orders (O1 and O2) for customer C1. Both cancellation attempts returned 'True', which indicates they were processed successfully. Is there anything else I can help you with?\", 'type': 'text'}]}])"
      ]
     },
     "execution_count": null,
     "metadata": {},
     "output_type": "execute_result"
    }
   ],
   "source": [
    "chat = Chat(model, tools=tools)\n",
    "r = chat.toolloop('Please cancel all orders for customer C1 for me.', trace_func=print)\n",
    "r"
   ]
  },
  {
   "cell_type": "markdown",
   "id": "a7a8c9fc",
   "metadata": {},
   "source": [
    "OK Claude thinks the orders were cancelled -- let's check one:"
   ]
  },
  {
   "cell_type": "code",
   "execution_count": null,
   "id": "592e9084",
   "metadata": {},
   "outputs": [
    {
     "name": "stdout",
     "output_type": "stream",
     "text": [
      "- Retrieving order O2\n"
     ]
    },
    {
     "data": {
      "text/markdown": [
       "The status of order O2 is now \"Cancelled\". This reflects the cancellation we just performed in the previous interaction. The order was for 1 Gadget B priced at &#36;49.99, and it has been successfully cancelled.\n",
       "\n",
       "<details>\n",
       "\n",
       "- id: `msg_01RF6Sx6niFuiP7eLQ4hwvEg`\n",
       "- content: `[{'citations': None, 'text': 'The status of order O2 is now \"Cancelled\". This reflects the cancellation we just performed in the previous interaction. The order was for 1 Gadget B priced at $49.99, and it has been successfully cancelled.', 'type': 'text'}]`\n",
       "- model: `claude-3-5-haiku-20241022`\n",
       "- role: `assistant`\n",
       "- stop_reason: `end_turn`\n",
       "- stop_sequence: `None`\n",
       "- type: `message`\n",
       "- usage: `{'cache_creation_input_tokens': 0, 'cache_read_input_tokens': 0, 'input_tokens': 1117, 'output_tokens': 56, 'server_tool_use': None}`\n",
       "- steps: `[{'role': 'assistant', 'content': [{'citations': None, 'text': \"I'll retrieve the details of order O2 to check its current status:\", 'type': 'text'}, {'id': 'toolu_014jEX4MEvaPhMQ8XP2LuyeK', 'input': {'order_id': 'O2'}, 'name': 'get_order_details', 'type': 'tool_use'}]}, {'role': 'user', 'content': [{'type': 'tool_result', 'tool_use_id': 'toolu_014jEX4MEvaPhMQ8XP2LuyeK', 'content': \"{'id': 'O2', 'product': 'Gadget B', 'quantity': 1, 'price': 49.99, 'status': 'Cancelled'}\"}]}, {'role': 'assistant', 'content': [{'citations': None, 'text': 'The status of order O2 is now \"Cancelled\". This reflects the cancellation we just performed in the previous interaction. The order was for 1 Gadget B priced at $49.99, and it has been successfully cancelled.', 'type': 'text'}]}]`\n",
       "\n",
       "</details>"
      ],
      "text/plain": [
       "Message(id='msg_01RF6Sx6niFuiP7eLQ4hwvEg', content=[TextBlock(citations=None, text='The status of order O2 is now \"Cancelled\". This reflects the cancellation we just performed in the previous interaction. The order was for 1 Gadget B priced at $49.99, and it has been successfully cancelled.', type='text')], model='claude-3-5-haiku-20241022', role='assistant', stop_reason='end_turn', stop_sequence=None, type='message', usage=In: 1117; Out: 56; Cache create: 0; Cache read: 0; Total Tokens: 1173; Server tool use (web search requests): 0, steps=[{'role': 'assistant', 'content': [{'citations': None, 'text': \"I'll retrieve the details of order O2 to check its current status:\", 'type': 'text'}, {'id': 'toolu_014jEX4MEvaPhMQ8XP2LuyeK', 'input': {'order_id': 'O2'}, 'name': 'get_order_details', 'type': 'tool_use'}]}, {'role': 'user', 'content': [{'type': 'tool_result', 'tool_use_id': 'toolu_014jEX4MEvaPhMQ8XP2LuyeK', 'content': \"{'id': 'O2', 'product': 'Gadget B', 'quantity': 1, 'price': 49.99, 'status': 'Cancelled'}\"}]}, {'role': 'assistant', 'content': [{'citations': None, 'text': 'The status of order O2 is now \"Cancelled\". This reflects the cancellation we just performed in the previous interaction. The order was for 1 Gadget B priced at $49.99, and it has been successfully cancelled.', 'type': 'text'}]}])"
      ]
     },
     "execution_count": null,
     "metadata": {},
     "output_type": "execute_result"
    }
   ],
   "source": [
    "chat.toolloop('What is the status of order O2?')"
   ]
  },
  {
   "cell_type": "code",
   "execution_count": null,
   "id": "204c45b3",
   "metadata": {},
   "outputs": [
    {
     "name": "stdout",
     "output_type": "stream",
     "text": [
      "- Retrieving customer C1\n",
      "- Retrieving customer C2\n",
      "- Cancelling order O3\n"
     ]
    },
    {
     "data": {
      "text/markdown": [
       "Here's a summary of my actions:\n",
       "\n",
       "For Customer C1:\n",
       "- Orders O1 and O2 were already cancelled\n",
       "- No further action was needed\n",
       "\n",
       "For Customer C2:\n",
       "- Order O3 was successfully cancelled\n",
       "\n",
       "All orders for customers C1 and C2 have been processed. The task is complete, with O3 being the only order that required active cancellation. Is there anything else I can help you with?\n",
       "\n",
       "<details>\n",
       "\n",
       "- id: `msg_016QiZksWoAmpAfWWnpAcmaX`\n",
       "- content: `[{'citations': None, 'text': \"Here's a summary of my actions:\\n\\nFor Customer C1:\\n- Orders O1 and O2 were already cancelled\\n- No further action was needed\\n\\nFor Customer C2:\\n- Order O3 was successfully cancelled\\n\\nAll orders for customers C1 and C2 have been processed. The task is complete, with O3 being the only order that required active cancellation. Is there anything else I can help you with?\", 'type': 'text'}]`\n",
       "- model: `claude-3-5-haiku-20241022`\n",
       "- role: `assistant`\n",
       "- stop_reason: `end_turn`\n",
       "- stop_sequence: `None`\n",
       "- type: `message`\n",
       "- usage: `{'cache_creation_input_tokens': 0, 'cache_read_input_tokens': 0, 'input_tokens': 1099, 'output_tokens': 97, 'server_tool_use': None}`\n",
       "- steps: `[{'role': 'assistant', 'content': [{'citations': None, 'text': \"I'll help you cancel the orders for customers C1 and C2. To do this, I'll first retrieve the customer information to get their order details, and then cancel each order.\\n\\nLet's start with customer C1:\", 'type': 'text'}, {'id': 'toolu_01StVutHUQh5aU4shPnfLsNb', 'input': {'customer_id': 'C1'}, 'name': 'get_customer_info', 'type': 'tool_use'}]}, {'role': 'user', 'content': [{'type': 'tool_result', 'tool_use_id': 'toolu_01StVutHUQh5aU4shPnfLsNb', 'content': \"{'name': 'John Doe', 'email': 'john@example.com', 'phone': '123-456-7890', 'orders': [{'id': 'O1', 'product': 'Widget A', 'quantity': 2, 'price': 19.99, 'status': 'Cancelled'}, {'id': 'O2', 'product': 'Gadget B', 'quantity': 1, 'price': 49.99, 'status': 'Cancelled'}]}\"}]}, {'role': 'assistant', 'content': [{'citations': None, 'text': 'Now for customer C2:', 'type': 'text'}, {'id': 'toolu_017ncVv6nEVsSbVEvb4z4XEF', 'input': {'customer_id': 'C2'}, 'name': 'get_customer_info', 'type': 'tool_use'}]}, {'role': 'user', 'content': [{'type': 'tool_result', 'tool_use_id': 'toolu_017ncVv6nEVsSbVEvb4z4XEF', 'content': \"{'name': 'Jane Smith', 'email': 'jane@example.com', 'phone': '987-654-3210', 'orders': [{'id': 'O3', 'product': 'Gadget B', 'quantity': 2, 'price': 49.99, 'status': 'Shipped'}]}\"}]}, {'role': 'assistant', 'content': [{'citations': None, 'text': \"I notice that for customer C1, the orders O1 and O2 are already marked as 'Cancelled'. For customer C2, the order O3 is currently 'Shipped', but I'll attempt to cancel it:\", 'type': 'text'}, {'id': 'toolu_01NHJZ18cszioEzJboqVkdoh', 'input': {'order_id': 'O3'}, 'name': 'cancel_order', 'type': 'tool_use'}]}, {'role': 'user', 'content': [{'type': 'tool_result', 'tool_use_id': 'toolu_01NHJZ18cszioEzJboqVkdoh', 'content': 'True'}]}, {'role': 'user', 'content': 'You have no more tool uses. Please summarize your findings. If you did not complete your goal please tell the user what further work needs to be done so they can choose how best to proceed.'}, {'role': 'assistant', 'content': [{'citations': None, 'text': \"Here's a summary of my actions:\\n\\nFor Customer C1:\\n- Orders O1 and O2 were already cancelled\\n- No further action was needed\\n\\nFor Customer C2:\\n- Order O3 was successfully cancelled\\n\\nAll orders for customers C1 and C2 have been processed. The task is complete, with O3 being the only order that required active cancellation. Is there anything else I can help you with?\", 'type': 'text'}]}]`\n",
       "\n",
       "</details>"
      ],
      "text/plain": [
       "Message(id='msg_016QiZksWoAmpAfWWnpAcmaX', content=[TextBlock(citations=None, text=\"Here's a summary of my actions:\\n\\nFor Customer C1:\\n- Orders O1 and O2 were already cancelled\\n- No further action was needed\\n\\nFor Customer C2:\\n- Order O3 was successfully cancelled\\n\\nAll orders for customers C1 and C2 have been processed. The task is complete, with O3 being the only order that required active cancellation. Is there anything else I can help you with?\", type='text')], model='claude-3-5-haiku-20241022', role='assistant', stop_reason='end_turn', stop_sequence=None, type='message', usage=In: 1099; Out: 97; Cache create: 0; Cache read: 0; Total Tokens: 1196; Server tool use (web search requests): 0, steps=[{'role': 'assistant', 'content': [{'citations': None, 'text': \"I'll help you cancel the orders for customers C1 and C2. To do this, I'll first retrieve the customer information to get their order details, and then cancel each order.\\n\\nLet's start with customer C1:\", 'type': 'text'}, {'id': 'toolu_01StVutHUQh5aU4shPnfLsNb', 'input': {'customer_id': 'C1'}, 'name': 'get_customer_info', 'type': 'tool_use'}]}, {'role': 'user', 'content': [{'type': 'tool_result', 'tool_use_id': 'toolu_01StVutHUQh5aU4shPnfLsNb', 'content': \"{'name': 'John Doe', 'email': 'john@example.com', 'phone': '123-456-7890', 'orders': [{'id': 'O1', 'product': 'Widget A', 'quantity': 2, 'price': 19.99, 'status': 'Cancelled'}, {'id': 'O2', 'product': 'Gadget B', 'quantity': 1, 'price': 49.99, 'status': 'Cancelled'}]}\"}]}, {'role': 'assistant', 'content': [{'citations': None, 'text': 'Now for customer C2:', 'type': 'text'}, {'id': 'toolu_017ncVv6nEVsSbVEvb4z4XEF', 'input': {'customer_id': 'C2'}, 'name': 'get_customer_info', 'type': 'tool_use'}]}, {'role': 'user', 'content': [{'type': 'tool_result', 'tool_use_id': 'toolu_017ncVv6nEVsSbVEvb4z4XEF', 'content': \"{'name': 'Jane Smith', 'email': 'jane@example.com', 'phone': '987-654-3210', 'orders': [{'id': 'O3', 'product': 'Gadget B', 'quantity': 2, 'price': 49.99, 'status': 'Shipped'}]}\"}]}, {'role': 'assistant', 'content': [{'citations': None, 'text': \"I notice that for customer C1, the orders O1 and O2 are already marked as 'Cancelled'. For customer C2, the order O3 is currently 'Shipped', but I'll attempt to cancel it:\", 'type': 'text'}, {'id': 'toolu_01NHJZ18cszioEzJboqVkdoh', 'input': {'order_id': 'O3'}, 'name': 'cancel_order', 'type': 'tool_use'}]}, {'role': 'user', 'content': [{'type': 'tool_result', 'tool_use_id': 'toolu_01NHJZ18cszioEzJboqVkdoh', 'content': 'True'}]}, {'role': 'user', 'content': 'You have no more tool uses. Please summarize your findings. If you did not complete your goal please tell the user what further work needs to be done so they can choose how best to proceed.'}, {'role': 'assistant', 'content': [{'citations': None, 'text': \"Here's a summary of my actions:\\n\\nFor Customer C1:\\n- Orders O1 and O2 were already cancelled\\n- No further action was needed\\n\\nFor Customer C2:\\n- Order O3 was successfully cancelled\\n\\nAll orders for customers C1 and C2 have been processed. The task is complete, with O3 being the only order that required active cancellation. Is there anything else I can help you with?\", 'type': 'text'}]}])"
      ]
     },
     "execution_count": null,
     "metadata": {},
     "output_type": "execute_result"
    }
   ],
   "source": [
    "chat = Chat(model, tools=tools)\n",
    "r = chat.toolloop('Please cancel all orders for customer C1 and C2 for me.', max_steps=1)\n",
    "r"
   ]
  },
  {
   "cell_type": "markdown",
   "id": "7229a4a6",
   "metadata": {},
   "source": [
    "If we run out of tool loops lets see what happens:"
   ]
  },
  {
   "cell_type": "code",
   "execution_count": null,
   "id": "662bef23",
   "metadata": {},
   "outputs": [],
   "source": [
    "def mydiv(a:int, b:int):\n",
    "    \"\"\"Divide two numbers\"\"\"\n",
    "    return a / b"
   ]
  },
  {
   "cell_type": "code",
   "execution_count": null,
   "id": "a45d3eb0",
   "metadata": {},
   "outputs": [
    {
     "data": {
      "text/markdown": [
       "As expected, the function raised a `ZeroDivisionError`. This is a standard error in programming languages when attempting to divide by zero, which is mathematically undefined. The error message clearly states \"division by zero\", indicating that the operation cannot be performed.\n",
       "\n",
       "This is a common error that occurs when you try to divide any number by zero, and it's important to handle such cases in your code to prevent unexpected crashes or unexpected behavior.\n",
       "\n",
       "<details>\n",
       "\n",
       "- id: `msg_01UpjBBd2yeiuNsfwkpgJ64N`\n",
       "- content: `[{'citations': None, 'text': 'As expected, the function raised a `ZeroDivisionError`. This is a standard error in programming languages when attempting to divide by zero, which is mathematically undefined. The error message clearly states \"division by zero\", indicating that the operation cannot be performed.\\n\\nThis is a common error that occurs when you try to divide any number by zero, and it\\'s important to handle such cases in your code to prevent unexpected crashes or unexpected behavior.', 'type': 'text'}]`\n",
       "- model: `claude-3-5-haiku-20241022`\n",
       "- role: `assistant`\n",
       "- stop_reason: `end_turn`\n",
       "- stop_sequence: `None`\n",
       "- type: `message`\n",
       "- usage: `{'cache_creation_input_tokens': 0, 'cache_read_input_tokens': 0, 'input_tokens': 674, 'output_tokens': 95, 'server_tool_use': None}`\n",
       "- steps: `[{'role': 'assistant', 'content': [{'citations': None, 'text': \"I'll help you test dividing 1 by 0, which is mathematically undefined and typically results in an error. I'll use the `mydiv` function to demonstrate this:\", 'type': 'text'}, {'id': 'toolu_0179Jwi3JjuhLJDbMV6batF5', 'input': {'a': 1, 'b': 0}, 'name': 'mydiv', 'type': 'tool_use'}]}, {'role': 'user', 'content': [{'type': 'tool_result', 'tool_use_id': 'toolu_0179Jwi3JjuhLJDbMV6batF5', 'content': 'Traceback (most recent call last):\\n  File \"/Users/erikgaas/git/toolslm/toolslm/funccall.py\", line 198, in call_func\\n    try: return func(**fc_inputs)\\n                ^^^^^^^^^^^^^^^^^\\n  File \"/Users/erikgaas/git/claudette/claudette/core.py\", line 375, in wrapper\\n    return func(*new_args, **new_kwargs)\\n           ^^^^^^^^^^^^^^^^^^^^^^^^^^^^^\\n  File \"/var/folders/5c/jls7k26j1tq6l03cl_kvpnwh0000gn/T/ipykernel_14276/2257864620.py\", line 3, in mydiv\\n    return a / b\\n           ~~^~~\\nZeroDivisionError: division by zero\\n'}]}, {'role': 'assistant', 'content': [{'citations': None, 'text': 'As expected, the function raised a `ZeroDivisionError`. This is a standard error in programming languages when attempting to divide by zero, which is mathematically undefined. The error message clearly states \"division by zero\", indicating that the operation cannot be performed.\\n\\nThis is a common error that occurs when you try to divide any number by zero, and it\\'s important to handle such cases in your code to prevent unexpected crashes or unexpected behavior.', 'type': 'text'}]}]`\n",
       "\n",
       "</details>"
      ],
      "text/plain": [
       "Message(id='msg_01UpjBBd2yeiuNsfwkpgJ64N', content=[TextBlock(citations=None, text='As expected, the function raised a `ZeroDivisionError`. This is a standard error in programming languages when attempting to divide by zero, which is mathematically undefined. The error message clearly states \"division by zero\", indicating that the operation cannot be performed.\\n\\nThis is a common error that occurs when you try to divide any number by zero, and it\\'s important to handle such cases in your code to prevent unexpected crashes or unexpected behavior.', type='text')], model='claude-3-5-haiku-20241022', role='assistant', stop_reason='end_turn', stop_sequence=None, type='message', usage=In: 674; Out: 95; Cache create: 0; Cache read: 0; Total Tokens: 769; Server tool use (web search requests): 0, steps=[{'role': 'assistant', 'content': [{'citations': None, 'text': \"I'll help you test dividing 1 by 0, which is mathematically undefined and typically results in an error. I'll use the `mydiv` function to demonstrate this:\", 'type': 'text'}, {'id': 'toolu_0179Jwi3JjuhLJDbMV6batF5', 'input': {'a': 1, 'b': 0}, 'name': 'mydiv', 'type': 'tool_use'}]}, {'role': 'user', 'content': [{'type': 'tool_result', 'tool_use_id': 'toolu_0179Jwi3JjuhLJDbMV6batF5', 'content': 'Traceback (most recent call last):\\n  File \"/Users/erikgaas/git/toolslm/toolslm/funccall.py\", line 198, in call_func\\n    try: return func(**fc_inputs)\\n                ^^^^^^^^^^^^^^^^^\\n  File \"/Users/erikgaas/git/claudette/claudette/core.py\", line 375, in wrapper\\n    return func(*new_args, **new_kwargs)\\n           ^^^^^^^^^^^^^^^^^^^^^^^^^^^^^\\n  File \"/var/folders/5c/jls7k26j1tq6l03cl_kvpnwh0000gn/T/ipykernel_14276/2257864620.py\", line 3, in mydiv\\n    return a / b\\n           ~~^~~\\nZeroDivisionError: division by zero\\n'}]}, {'role': 'assistant', 'content': [{'citations': None, 'text': 'As expected, the function raised a `ZeroDivisionError`. This is a standard error in programming languages when attempting to divide by zero, which is mathematically undefined. The error message clearly states \"division by zero\", indicating that the operation cannot be performed.\\n\\nThis is a common error that occurs when you try to divide any number by zero, and it\\'s important to handle such cases in your code to prevent unexpected crashes or unexpected behavior.', 'type': 'text'}]}])"
      ]
     },
     "execution_count": null,
     "metadata": {},
     "output_type": "execute_result"
    }
   ],
   "source": [
    "chat = Chat(model, tools=[mydiv])\n",
    "r = chat.toolloop('Try dividing 1 by 0 and see what the error result is', max_steps=2)\n",
    "r"
   ]
  },
  {
   "cell_type": "markdown",
   "id": "b92ecf00",
   "metadata": {},
   "source": [
    "## Async tool loop"
   ]
  },
  {
   "cell_type": "code",
   "execution_count": null,
   "id": "ed096fd9",
   "metadata": {},
   "outputs": [],
   "source": [
    "#| export\n",
    "from claudette.asink import AsyncChat"
   ]
  },
  {
   "cell_type": "code",
   "execution_count": null,
   "id": "1eadb5d8",
   "metadata": {},
   "outputs": [],
   "source": [
    "#| export\n",
    "@patch\n",
    "@delegates(AsyncChat.__call__)\n",
    "async def toolloop(self:AsyncChat,\n",
    "             pr, # Prompt to pass to Claude\n",
    "             max_steps=10, # Maximum number of tool requests to loop through\n",
    "             trace_func:Optional[callable]=None, # Function to trace tool use steps (e.g `print`)\n",
    "             cont_func:Optional[callable]=noop, # Function that stops loop if returns False\n",
    "             final_prompt=_final_prompt, # Prompt to add if last message is a tool call\n",
    "             **kwargs):\n",
    "    \"Add prompt `pr` to dialog and get a response from Claude, automatically following up with `tool_use` messages\"\n",
    "    init_n = n_msgs = len(self.h)\n",
    "    r = await self(pr, **kwargs)\n",
    "    for i in range(max_steps):\n",
    "        if r.stop_reason!='tool_use': break\n",
    "        if trace_func: trace_func(self.h[n_msgs:]); n_msgs = len(self.h)\n",
    "        r = await self(**kwargs)\n",
    "        if not (cont_func or noop)(self.h[-2]): break\n",
    "    \n",
    "    if r.stop_reason == 'tool_use':\n",
    "        if trace_func: trace_func(self.h[n_msgs:])\n",
    "        r = await self(final_prompt, **kwargs)\n",
    "    \n",
    "    if trace_func: trace_func(self.h[n_msgs:])\n",
    "    r.steps = self.h[init_n+1:]\n",
    "    return r"
   ]
  },
  {
   "cell_type": "code",
   "execution_count": null,
   "id": "41310cef",
   "metadata": {},
   "outputs": [],
   "source": [
    "orders, customers = _get_orders_customers()"
   ]
  },
  {
   "cell_type": "code",
   "execution_count": null,
   "id": "8ab0017c",
   "metadata": {},
   "outputs": [
    {
     "name": "stdout",
     "output_type": "stream",
     "text": [
      "- Retrieving customer C1\n"
     ]
    },
    {
     "data": {
      "text/markdown": [
       "The email address for customer C1 (John Doe) is john@example.com.\n",
       "\n",
       "Is there anything else I can help you with?\n",
       "\n",
       "<details>\n",
       "\n",
       "- id: `msg_01HP1XzPnEarnWhVhccFKbdV`\n",
       "- content: `[{'citations': None, 'text': 'The email address for customer C1 (John Doe) is john@example.com.\\n\\nIs there anything else I can help you with?', 'type': 'text'}]`\n",
       "- model: `claude-3-5-haiku-20241022`\n",
       "- role: `assistant`\n",
       "- stop_reason: `end_turn`\n",
       "- stop_sequence: `None`\n",
       "- type: `message`\n",
       "- usage: `{'cache_creation_input_tokens': 0, 'cache_read_input_tokens': 0, 'input_tokens': 740, 'output_tokens': 35, 'server_tool_use': None}`\n",
       "- steps: `[{'role': 'assistant', 'content': [{'citations': None, 'text': \"I'll retrieve the customer information for customer C1 using the get_customer_info function.\", 'type': 'text'}, {'id': 'toolu_018XVpn3gne8e1ZKB5ZSURu2', 'input': {'customer_id': 'C1'}, 'name': 'get_customer_info', 'type': 'tool_use'}]}, {'role': 'user', 'content': [{'type': 'tool_result', 'tool_use_id': 'toolu_018XVpn3gne8e1ZKB5ZSURu2', 'content': \"{'name': 'John Doe', 'email': 'john@example.com', 'phone': '123-456-7890', 'orders': [{'id': 'O1', 'product': 'Widget A', 'quantity': 2, 'price': 19.99, 'status': 'Shipped'}, {'id': 'O2', 'product': 'Gadget B', 'quantity': 1, 'price': 49.99, 'status': 'Processing'}]}\"}]}, {'role': 'assistant', 'content': [{'citations': None, 'text': 'The email address for customer C1 (John Doe) is john@example.com.\\n\\nIs there anything else I can help you with?', 'type': 'text'}]}]`\n",
       "\n",
       "</details>"
      ],
      "text/plain": [
       "Message(id='msg_01HP1XzPnEarnWhVhccFKbdV', content=[TextBlock(citations=None, text='The email address for customer C1 (John Doe) is john@example.com.\\n\\nIs there anything else I can help you with?', type='text')], model='claude-3-5-haiku-20241022', role='assistant', stop_reason='end_turn', stop_sequence=None, type='message', usage=In: 740; Out: 35; Cache create: 0; Cache read: 0; Total Tokens: 775; Server tool use (web search requests): 0, steps=[{'role': 'assistant', 'content': [{'citations': None, 'text': \"I'll retrieve the customer information for customer C1 using the get_customer_info function.\", 'type': 'text'}, {'id': 'toolu_018XVpn3gne8e1ZKB5ZSURu2', 'input': {'customer_id': 'C1'}, 'name': 'get_customer_info', 'type': 'tool_use'}]}, {'role': 'user', 'content': [{'type': 'tool_result', 'tool_use_id': 'toolu_018XVpn3gne8e1ZKB5ZSURu2', 'content': \"{'name': 'John Doe', 'email': 'john@example.com', 'phone': '123-456-7890', 'orders': [{'id': 'O1', 'product': 'Widget A', 'quantity': 2, 'price': 19.99, 'status': 'Shipped'}, {'id': 'O2', 'product': 'Gadget B', 'quantity': 1, 'price': 49.99, 'status': 'Processing'}]}\"}]}, {'role': 'assistant', 'content': [{'citations': None, 'text': 'The email address for customer C1 (John Doe) is john@example.com.\\n\\nIs there anything else I can help you with?', 'type': 'text'}]}])"
      ]
     },
     "execution_count": null,
     "metadata": {},
     "output_type": "execute_result"
    }
   ],
   "source": [
    "tools = [get_customer_info, get_order_details, cancel_order]\n",
    "chat = AsyncChat(model, tools=tools)\n",
    "r = await chat.toolloop('Can you tell me the email address for customer C1?')\n",
    "r"
   ]
  },
  {
   "cell_type": "markdown",
   "id": "b6e975ef",
   "metadata": {},
   "source": [
    "Let's see if it can handle the multi-stage process now -- we'll add `trace_func=print` to see each stage of the process:"
   ]
  },
  {
   "cell_type": "code",
   "execution_count": null,
   "id": "8703beaf",
   "metadata": {},
   "outputs": [
    {
     "name": "stdout",
     "output_type": "stream",
     "text": [
      "- Retrieving customer C1\n",
      "[{'role': 'user', 'content': 'Please cancel all orders for customer C1 for me.'}, {'role': 'assistant', 'content': [{'citations': None, 'text': \"I'll help you cancel all orders for customer C1. To do this, I'll first retrieve the customer's information to get their order details, and then cancel each order.\", 'type': 'text'}, {'id': 'toolu_01RyLBMQyiycjNt3LEvrMKqD', 'input': {'customer_id': 'C1'}, 'name': 'get_customer_info', 'type': 'tool_use'}]}, {'role': 'user', 'content': [{'type': 'tool_result', 'tool_use_id': 'toolu_01RyLBMQyiycjNt3LEvrMKqD', 'content': \"{'name': 'John Doe', 'email': 'john@example.com', 'phone': '123-456-7890', 'orders': [{'id': 'O1', 'product': 'Widget A', 'quantity': 2, 'price': 19.99, 'status': 'Shipped'}, {'id': 'O2', 'product': 'Gadget B', 'quantity': 1, 'price': 49.99, 'status': 'Processing'}]}\"}]}]\n",
      "- Cancelling order O1\n",
      "[{'role': 'assistant', 'content': [{'citations': None, 'text': \"I see that customer C1 (John Doe) has two orders: O1 and O2. I'll proceed to cancel both orders:\", 'type': 'text'}, {'id': 'toolu_016T4WgsH4z5r2jhUT6Rv9hh', 'input': {'order_id': 'O1'}, 'name': 'cancel_order', 'type': 'tool_use'}]}, {'role': 'user', 'content': [{'type': 'tool_result', 'tool_use_id': 'toolu_016T4WgsH4z5r2jhUT6Rv9hh', 'content': 'True'}]}]\n",
      "- Cancelling order O2\n",
      "[{'role': 'assistant', 'content': [{'id': 'toolu_01FoEQGE64XaFnf3i5UhGxna', 'input': {'order_id': 'O2'}, 'name': 'cancel_order', 'type': 'tool_use'}]}, {'role': 'user', 'content': [{'type': 'tool_result', 'tool_use_id': 'toolu_01FoEQGE64XaFnf3i5UhGxna', 'content': 'True'}]}]\n",
      "[{'role': 'assistant', 'content': [{'citations': None, 'text': \"I've successfully cancelled both orders (O1 and O2) for customer C1. Both cancellations returned 'True', which indicates they were processed successfully. Is there anything else I can help you with?\", 'type': 'text'}]}]\n"
     ]
    },
    {
     "data": {
      "text/markdown": [
       "I've successfully cancelled both orders (O1 and O2) for customer C1. Both cancellations returned 'True', which indicates they were processed successfully. Is there anything else I can help you with?\n",
       "\n",
       "<details>\n",
       "\n",
       "- id: `msg_01UaZZqekEgyVfZDiNxKzfwq`\n",
       "- content: `[{'citations': None, 'text': \"I've successfully cancelled both orders (O1 and O2) for customer C1. Both cancellations returned 'True', which indicates they were processed successfully. Is there anything else I can help you with?\", 'type': 'text'}]`\n",
       "- model: `claude-3-5-haiku-20241022`\n",
       "- role: `assistant`\n",
       "- stop_reason: `end_turn`\n",
       "- stop_sequence: `None`\n",
       "- type: `message`\n",
       "- usage: `{'cache_creation_input_tokens': 0, 'cache_read_input_tokens': 0, 'input_tokens': 926, 'output_tokens': 49, 'server_tool_use': None}`\n",
       "- steps: `[{'role': 'assistant', 'content': [{'citations': None, 'text': \"I'll help you cancel all orders for customer C1. To do this, I'll first retrieve the customer's information to get their order details, and then cancel each order.\", 'type': 'text'}, {'id': 'toolu_01RyLBMQyiycjNt3LEvrMKqD', 'input': {'customer_id': 'C1'}, 'name': 'get_customer_info', 'type': 'tool_use'}]}, {'role': 'user', 'content': [{'type': 'tool_result', 'tool_use_id': 'toolu_01RyLBMQyiycjNt3LEvrMKqD', 'content': \"{'name': 'John Doe', 'email': 'john@example.com', 'phone': '123-456-7890', 'orders': [{'id': 'O1', 'product': 'Widget A', 'quantity': 2, 'price': 19.99, 'status': 'Shipped'}, {'id': 'O2', 'product': 'Gadget B', 'quantity': 1, 'price': 49.99, 'status': 'Processing'}]}\"}]}, {'role': 'assistant', 'content': [{'citations': None, 'text': \"I see that customer C1 (John Doe) has two orders: O1 and O2. I'll proceed to cancel both orders:\", 'type': 'text'}, {'id': 'toolu_016T4WgsH4z5r2jhUT6Rv9hh', 'input': {'order_id': 'O1'}, 'name': 'cancel_order', 'type': 'tool_use'}]}, {'role': 'user', 'content': [{'type': 'tool_result', 'tool_use_id': 'toolu_016T4WgsH4z5r2jhUT6Rv9hh', 'content': 'True'}]}, {'role': 'assistant', 'content': [{'id': 'toolu_01FoEQGE64XaFnf3i5UhGxna', 'input': {'order_id': 'O2'}, 'name': 'cancel_order', 'type': 'tool_use'}]}, {'role': 'user', 'content': [{'type': 'tool_result', 'tool_use_id': 'toolu_01FoEQGE64XaFnf3i5UhGxna', 'content': 'True'}]}, {'role': 'assistant', 'content': [{'citations': None, 'text': \"I've successfully cancelled both orders (O1 and O2) for customer C1. Both cancellations returned 'True', which indicates they were processed successfully. Is there anything else I can help you with?\", 'type': 'text'}]}]`\n",
       "\n",
       "</details>"
      ],
      "text/plain": [
       "Message(id='msg_01UaZZqekEgyVfZDiNxKzfwq', content=[TextBlock(citations=None, text=\"I've successfully cancelled both orders (O1 and O2) for customer C1. Both cancellations returned 'True', which indicates they were processed successfully. Is there anything else I can help you with?\", type='text')], model='claude-3-5-haiku-20241022', role='assistant', stop_reason='end_turn', stop_sequence=None, type='message', usage=In: 926; Out: 49; Cache create: 0; Cache read: 0; Total Tokens: 975; Server tool use (web search requests): 0, steps=[{'role': 'assistant', 'content': [{'citations': None, 'text': \"I'll help you cancel all orders for customer C1. To do this, I'll first retrieve the customer's information to get their order details, and then cancel each order.\", 'type': 'text'}, {'id': 'toolu_01RyLBMQyiycjNt3LEvrMKqD', 'input': {'customer_id': 'C1'}, 'name': 'get_customer_info', 'type': 'tool_use'}]}, {'role': 'user', 'content': [{'type': 'tool_result', 'tool_use_id': 'toolu_01RyLBMQyiycjNt3LEvrMKqD', 'content': \"{'name': 'John Doe', 'email': 'john@example.com', 'phone': '123-456-7890', 'orders': [{'id': 'O1', 'product': 'Widget A', 'quantity': 2, 'price': 19.99, 'status': 'Shipped'}, {'id': 'O2', 'product': 'Gadget B', 'quantity': 1, 'price': 49.99, 'status': 'Processing'}]}\"}]}, {'role': 'assistant', 'content': [{'citations': None, 'text': \"I see that customer C1 (John Doe) has two orders: O1 and O2. I'll proceed to cancel both orders:\", 'type': 'text'}, {'id': 'toolu_016T4WgsH4z5r2jhUT6Rv9hh', 'input': {'order_id': 'O1'}, 'name': 'cancel_order', 'type': 'tool_use'}]}, {'role': 'user', 'content': [{'type': 'tool_result', 'tool_use_id': 'toolu_016T4WgsH4z5r2jhUT6Rv9hh', 'content': 'True'}]}, {'role': 'assistant', 'content': [{'id': 'toolu_01FoEQGE64XaFnf3i5UhGxna', 'input': {'order_id': 'O2'}, 'name': 'cancel_order', 'type': 'tool_use'}]}, {'role': 'user', 'content': [{'type': 'tool_result', 'tool_use_id': 'toolu_01FoEQGE64XaFnf3i5UhGxna', 'content': 'True'}]}, {'role': 'assistant', 'content': [{'citations': None, 'text': \"I've successfully cancelled both orders (O1 and O2) for customer C1. Both cancellations returned 'True', which indicates they were processed successfully. Is there anything else I can help you with?\", 'type': 'text'}]}])"
      ]
     },
     "execution_count": null,
     "metadata": {},
     "output_type": "execute_result"
    }
   ],
   "source": [
    "chat = AsyncChat(model, tools=tools)\n",
    "r = await chat.toolloop('Please cancel all orders for customer C1 for me.', trace_func=print)\n",
    "r"
   ]
  },
  {
   "cell_type": "code",
   "execution_count": null,
   "id": "8cf6eeb6",
   "metadata": {},
   "outputs": [
    {
     "name": "stdout",
     "output_type": "stream",
     "text": [
      "- Retrieving order O2\n"
     ]
    },
    {
     "data": {
      "text/markdown": [
       "The status of order O2 is \"Cancelled\". This reflects the cancellation we just performed in the previous interaction. The order was for 1 Gadget B priced at &#36;49.99, and it is now in a cancelled state.\n",
       "\n",
       "<details>\n",
       "\n",
       "- id: `msg_01FnTCNJYFc8MvHkeDZ33xeH`\n",
       "- content: `[{'citations': None, 'text': 'The status of order O2 is \"Cancelled\". This reflects the cancellation we just performed in the previous interaction. The order was for 1 Gadget B priced at $49.99, and it is now in a cancelled state.', 'type': 'text'}]`\n",
       "- model: `claude-3-5-haiku-20241022`\n",
       "- role: `assistant`\n",
       "- stop_reason: `end_turn`\n",
       "- stop_sequence: `None`\n",
       "- type: `message`\n",
       "- usage: `{'cache_creation_input_tokens': 0, 'cache_read_input_tokens': 0, 'input_tokens': 1117, 'output_tokens': 57, 'server_tool_use': None}`\n",
       "- steps: `[{'role': 'assistant', 'content': [{'citations': None, 'text': \"I'll retrieve the details of order O2 to check its current status:\", 'type': 'text'}, {'id': 'toolu_01Bqbf1HGmtPXNRx3MvF9jcR', 'input': {'order_id': 'O2'}, 'name': 'get_order_details', 'type': 'tool_use'}]}, {'role': 'user', 'content': [{'type': 'tool_result', 'tool_use_id': 'toolu_01Bqbf1HGmtPXNRx3MvF9jcR', 'content': \"{'id': 'O2', 'product': 'Gadget B', 'quantity': 1, 'price': 49.99, 'status': 'Cancelled'}\"}]}, {'role': 'assistant', 'content': [{'citations': None, 'text': 'The status of order O2 is \"Cancelled\". This reflects the cancellation we just performed in the previous interaction. The order was for 1 Gadget B priced at $49.99, and it is now in a cancelled state.', 'type': 'text'}]}]`\n",
       "\n",
       "</details>"
      ],
      "text/plain": [
       "Message(id='msg_01FnTCNJYFc8MvHkeDZ33xeH', content=[TextBlock(citations=None, text='The status of order O2 is \"Cancelled\". This reflects the cancellation we just performed in the previous interaction. The order was for 1 Gadget B priced at $49.99, and it is now in a cancelled state.', type='text')], model='claude-3-5-haiku-20241022', role='assistant', stop_reason='end_turn', stop_sequence=None, type='message', usage=In: 1117; Out: 57; Cache create: 0; Cache read: 0; Total Tokens: 1174; Server tool use (web search requests): 0, steps=[{'role': 'assistant', 'content': [{'citations': None, 'text': \"I'll retrieve the details of order O2 to check its current status:\", 'type': 'text'}, {'id': 'toolu_01Bqbf1HGmtPXNRx3MvF9jcR', 'input': {'order_id': 'O2'}, 'name': 'get_order_details', 'type': 'tool_use'}]}, {'role': 'user', 'content': [{'type': 'tool_result', 'tool_use_id': 'toolu_01Bqbf1HGmtPXNRx3MvF9jcR', 'content': \"{'id': 'O2', 'product': 'Gadget B', 'quantity': 1, 'price': 49.99, 'status': 'Cancelled'}\"}]}, {'role': 'assistant', 'content': [{'citations': None, 'text': 'The status of order O2 is \"Cancelled\". This reflects the cancellation we just performed in the previous interaction. The order was for 1 Gadget B priced at $49.99, and it is now in a cancelled state.', 'type': 'text'}]}])"
      ]
     },
     "execution_count": null,
     "metadata": {},
     "output_type": "execute_result"
    }
   ],
   "source": [
    "await chat.toolloop('What is the status of order O2?')"
   ]
  },
  {
   "cell_type": "markdown",
   "id": "142e4950",
   "metadata": {},
   "source": [
    "If we run out of tool loops lets see what happens:"
   ]
  },
  {
   "cell_type": "code",
   "execution_count": null,
   "id": "e873acd3",
   "metadata": {},
   "outputs": [
    {
     "name": "stdout",
     "output_type": "stream",
     "text": [
      "- Retrieving customer C1\n",
      "- Cancelling order O1\n",
      "- Cancelling order O2\n",
      "- Retrieving customer C2\n"
     ]
    },
    {
     "data": {
      "text/markdown": [
       "Here's a summary of my actions:\n",
       "\n",
       "For Customer C1 (John Doe):\n",
       "- Found 2 orders (O1 and O2)\n",
       "- Successfully canceled both orders\n",
       "\n",
       "For Customer C2 (Jane Smith):\n",
       "- Found 1 order (O3)\n",
       "- I was unable to complete the cancellation for this order due to running out of tool uses\n",
       "\n",
       "To complete the full task of canceling all orders for both customers, I would need additional tool uses to cancel the order O3 for Customer C2. \n",
       "\n",
       "Recommended next steps:\n",
       "1. Use the cancel_order tool to cancel order O3 for Customer C2\n",
       "2. Confirm the cancellations have been processed successfully\n",
       "\n",
       "Would you like me to proceed with these steps when tool uses are available?\n",
       "\n",
       "<details>\n",
       "\n",
       "- id: `msg_01SxRcoFPp9bV2BHqzZDhzHr`\n",
       "- content: `[{'citations': None, 'text': \"Here's a summary of my actions:\\n\\nFor Customer C1 (John Doe):\\n- Found 2 orders (O1 and O2)\\n- Successfully canceled both orders\\n\\nFor Customer C2 (Jane Smith):\\n- Found 1 order (O3)\\n- I was unable to complete the cancellation for this order due to running out of tool uses\\n\\nTo complete the full task of canceling all orders for both customers, I would need additional tool uses to cancel the order O3 for Customer C2. \\n\\nRecommended next steps:\\n1. Use the cancel_order tool to cancel order O3 for Customer C2\\n2. Confirm the cancellations have been processed successfully\\n\\nWould you like me to proceed with these steps when tool uses are available?\", 'type': 'text'}]`\n",
       "- model: `claude-3-5-haiku-20241022`\n",
       "- role: `assistant`\n",
       "- stop_reason: `end_turn`\n",
       "- stop_sequence: `None`\n",
       "- type: `message`\n",
       "- usage: `{'cache_creation_input_tokens': 0, 'cache_read_input_tokens': 0, 'input_tokens': 1156, 'output_tokens': 172, 'server_tool_use': None}`\n",
       "- steps: `[{'role': 'assistant', 'content': [{'citations': None, 'text': \"I'll help you cancel the orders for customers C1 and C2. To do this, I'll first retrieve the customer information to get their order details, and then cancel each order.\\n\\nLet's start with customer C1:\", 'type': 'text'}, {'id': 'toolu_01TUZQMdjB9YSD7bZt1NgE8z', 'input': {'customer_id': 'C1'}, 'name': 'get_customer_info', 'type': 'tool_use'}]}, {'role': 'user', 'content': [{'type': 'tool_result', 'tool_use_id': 'toolu_01TUZQMdjB9YSD7bZt1NgE8z', 'content': \"{'name': 'John Doe', 'email': 'john@example.com', 'phone': '123-456-7890', 'orders': [{'id': 'O1', 'product': 'Widget A', 'quantity': 2, 'price': 19.99, 'status': 'Shipped'}, {'id': 'O2', 'product': 'Gadget B', 'quantity': 1, 'price': 49.99, 'status': 'Processing'}]}\"}]}, {'role': 'assistant', 'content': [{'citations': None, 'text': \"Now, I'll cancel the orders for customer C1:\", 'type': 'text'}, {'id': 'toolu_01BsaKAznRSocwHE2obyHuDu', 'input': {'order_id': 'O1'}, 'name': 'cancel_order', 'type': 'tool_use'}, {'id': 'toolu_01KanHw2G5w4LTtsGTuyVjV8', 'input': {'order_id': 'O2'}, 'name': 'cancel_order', 'type': 'tool_use'}]}, {'role': 'user', 'content': [{'type': 'tool_result', 'tool_use_id': 'toolu_01BsaKAznRSocwHE2obyHuDu', 'content': 'True'}, {'type': 'tool_result', 'tool_use_id': 'toolu_01KanHw2G5w4LTtsGTuyVjV8', 'content': 'True'}]}, {'role': 'assistant', 'content': [{'citations': None, 'text': \"Now, let's do the same for customer C2:\", 'type': 'text'}, {'id': 'toolu_015u2Wnpz4a3xiM8xrYPWmnx', 'input': {'customer_id': 'C2'}, 'name': 'get_customer_info', 'type': 'tool_use'}]}, {'role': 'user', 'content': [{'type': 'tool_result', 'tool_use_id': 'toolu_015u2Wnpz4a3xiM8xrYPWmnx', 'content': \"{'name': 'Jane Smith', 'email': 'jane@example.com', 'phone': '987-654-3210', 'orders': [{'id': 'O3', 'product': 'Gadget B', 'quantity': 2, 'price': 49.99, 'status': 'Shipped'}]}\"}]}, {'role': 'user', 'content': 'You have no more tool uses. Please summarize your findings. If you did not complete your goal please tell the user what further work needs to be done so they can choose how best to proceed.'}, {'role': 'assistant', 'content': [{'citations': None, 'text': \"Here's a summary of my actions:\\n\\nFor Customer C1 (John Doe):\\n- Found 2 orders (O1 and O2)\\n- Successfully canceled both orders\\n\\nFor Customer C2 (Jane Smith):\\n- Found 1 order (O3)\\n- I was unable to complete the cancellation for this order due to running out of tool uses\\n\\nTo complete the full task of canceling all orders for both customers, I would need additional tool uses to cancel the order O3 for Customer C2. \\n\\nRecommended next steps:\\n1. Use the cancel_order tool to cancel order O3 for Customer C2\\n2. Confirm the cancellations have been processed successfully\\n\\nWould you like me to proceed with these steps when tool uses are available?\", 'type': 'text'}]}]`\n",
       "\n",
       "</details>"
      ],
      "text/plain": [
       "Message(id='msg_01SxRcoFPp9bV2BHqzZDhzHr', content=[TextBlock(citations=None, text=\"Here's a summary of my actions:\\n\\nFor Customer C1 (John Doe):\\n- Found 2 orders (O1 and O2)\\n- Successfully canceled both orders\\n\\nFor Customer C2 (Jane Smith):\\n- Found 1 order (O3)\\n- I was unable to complete the cancellation for this order due to running out of tool uses\\n\\nTo complete the full task of canceling all orders for both customers, I would need additional tool uses to cancel the order O3 for Customer C2. \\n\\nRecommended next steps:\\n1. Use the cancel_order tool to cancel order O3 for Customer C2\\n2. Confirm the cancellations have been processed successfully\\n\\nWould you like me to proceed with these steps when tool uses are available?\", type='text')], model='claude-3-5-haiku-20241022', role='assistant', stop_reason='end_turn', stop_sequence=None, type='message', usage=In: 1156; Out: 172; Cache create: 0; Cache read: 0; Total Tokens: 1328; Server tool use (web search requests): 0, steps=[{'role': 'assistant', 'content': [{'citations': None, 'text': \"I'll help you cancel the orders for customers C1 and C2. To do this, I'll first retrieve the customer information to get their order details, and then cancel each order.\\n\\nLet's start with customer C1:\", 'type': 'text'}, {'id': 'toolu_01TUZQMdjB9YSD7bZt1NgE8z', 'input': {'customer_id': 'C1'}, 'name': 'get_customer_info', 'type': 'tool_use'}]}, {'role': 'user', 'content': [{'type': 'tool_result', 'tool_use_id': 'toolu_01TUZQMdjB9YSD7bZt1NgE8z', 'content': \"{'name': 'John Doe', 'email': 'john@example.com', 'phone': '123-456-7890', 'orders': [{'id': 'O1', 'product': 'Widget A', 'quantity': 2, 'price': 19.99, 'status': 'Shipped'}, {'id': 'O2', 'product': 'Gadget B', 'quantity': 1, 'price': 49.99, 'status': 'Processing'}]}\"}]}, {'role': 'assistant', 'content': [{'citations': None, 'text': \"Now, I'll cancel the orders for customer C1:\", 'type': 'text'}, {'id': 'toolu_01BsaKAznRSocwHE2obyHuDu', 'input': {'order_id': 'O1'}, 'name': 'cancel_order', 'type': 'tool_use'}, {'id': 'toolu_01KanHw2G5w4LTtsGTuyVjV8', 'input': {'order_id': 'O2'}, 'name': 'cancel_order', 'type': 'tool_use'}]}, {'role': 'user', 'content': [{'type': 'tool_result', 'tool_use_id': 'toolu_01BsaKAznRSocwHE2obyHuDu', 'content': 'True'}, {'type': 'tool_result', 'tool_use_id': 'toolu_01KanHw2G5w4LTtsGTuyVjV8', 'content': 'True'}]}, {'role': 'assistant', 'content': [{'citations': None, 'text': \"Now, let's do the same for customer C2:\", 'type': 'text'}, {'id': 'toolu_015u2Wnpz4a3xiM8xrYPWmnx', 'input': {'customer_id': 'C2'}, 'name': 'get_customer_info', 'type': 'tool_use'}]}, {'role': 'user', 'content': [{'type': 'tool_result', 'tool_use_id': 'toolu_015u2Wnpz4a3xiM8xrYPWmnx', 'content': \"{'name': 'Jane Smith', 'email': 'jane@example.com', 'phone': '987-654-3210', 'orders': [{'id': 'O3', 'product': 'Gadget B', 'quantity': 2, 'price': 49.99, 'status': 'Shipped'}]}\"}]}, {'role': 'user', 'content': 'You have no more tool uses. Please summarize your findings. If you did not complete your goal please tell the user what further work needs to be done so they can choose how best to proceed.'}, {'role': 'assistant', 'content': [{'citations': None, 'text': \"Here's a summary of my actions:\\n\\nFor Customer C1 (John Doe):\\n- Found 2 orders (O1 and O2)\\n- Successfully canceled both orders\\n\\nFor Customer C2 (Jane Smith):\\n- Found 1 order (O3)\\n- I was unable to complete the cancellation for this order due to running out of tool uses\\n\\nTo complete the full task of canceling all orders for both customers, I would need additional tool uses to cancel the order O3 for Customer C2. \\n\\nRecommended next steps:\\n1. Use the cancel_order tool to cancel order O3 for Customer C2\\n2. Confirm the cancellations have been processed successfully\\n\\nWould you like me to proceed with these steps when tool uses are available?\", 'type': 'text'}]}])"
      ]
     },
     "execution_count": null,
     "metadata": {},
     "output_type": "execute_result"
    }
   ],
   "source": [
    "orders, customers = _get_orders_customers()\n",
    "chat = AsyncChat(model, tools=tools)\n",
    "r = await chat.toolloop('Please cancel all orders for customer C1 and C2 for me.', max_steps=1)\n",
    "r"
   ]
  },
  {
   "cell_type": "code",
   "execution_count": null,
   "id": "d92eb2cd",
   "metadata": {},
   "outputs": [
    {
     "data": {
      "text/markdown": [
       "As expected, the function resulted in a `ZeroDivisionError`. This is a standard error that occurs when attempting to divide by zero, which is mathematically undefined. In most programming languages and mathematical contexts, dividing by zero is not allowed and will trigger an error like the one we just saw.\n",
       "\n",
       "The error traceback shows the specific point where the division by zero occurred, which can be helpful for debugging in more complex scenarios. In this simple case, it's clear that the error is caused by trying to divide 1 by 0.\n",
       "\n",
       "<details>\n",
       "\n",
       "- id: `msg_018NdcdgdwtQBi5LbHEQ3pHY`\n",
       "- content: `[{'citations': None, 'text': \"As expected, the function resulted in a `ZeroDivisionError`. This is a standard error that occurs when attempting to divide by zero, which is mathematically undefined. In most programming languages and mathematical contexts, dividing by zero is not allowed and will trigger an error like the one we just saw.\\n\\nThe error traceback shows the specific point where the division by zero occurred, which can be helpful for debugging in more complex scenarios. In this simple case, it's clear that the error is caused by trying to divide 1 by 0.\", 'type': 'text'}]`\n",
       "- model: `claude-3-5-haiku-20241022`\n",
       "- role: `assistant`\n",
       "- stop_reason: `end_turn`\n",
       "- stop_sequence: `None`\n",
       "- type: `message`\n",
       "- usage: `{'cache_creation_input_tokens': 0, 'cache_read_input_tokens': 0, 'input_tokens': 670, 'output_tokens': 118, 'server_tool_use': None}`\n",
       "- steps: `[{'role': 'assistant', 'content': [{'citations': None, 'text': \"I'll help you test dividing 1 by 0 using the `mydiv` function. This is typically an operation that results in a division by zero error.\", 'type': 'text'}, {'id': 'toolu_0172qbJCqp6G9S47D8xUCCAd', 'input': {'a': 1, 'b': 0}, 'name': 'mydiv', 'type': 'tool_use'}]}, {'role': 'user', 'content': [{'type': 'tool_result', 'tool_use_id': 'toolu_0172qbJCqp6G9S47D8xUCCAd', 'content': 'Traceback (most recent call last):\\n  File \"/Users/erikgaas/git/toolslm/toolslm/funccall.py\", line 198, in call_func\\n    try: return func(**fc_inputs)\\n                ^^^^^^^^^^^^^^^^^\\n  File \"/Users/erikgaas/git/claudette/claudette/core.py\", line 375, in wrapper\\n    return func(*new_args, **new_kwargs)\\n           ^^^^^^^^^^^^^^^^^^^^^^^^^^^^^\\n  File \"/var/folders/5c/jls7k26j1tq6l03cl_kvpnwh0000gn/T/ipykernel_14276/2257864620.py\", line 3, in mydiv\\n    return a / b\\n           ~~^~~\\nZeroDivisionError: division by zero\\n'}]}, {'role': 'assistant', 'content': [{'citations': None, 'text': \"As expected, the function resulted in a `ZeroDivisionError`. This is a standard error that occurs when attempting to divide by zero, which is mathematically undefined. In most programming languages and mathematical contexts, dividing by zero is not allowed and will trigger an error like the one we just saw.\\n\\nThe error traceback shows the specific point where the division by zero occurred, which can be helpful for debugging in more complex scenarios. In this simple case, it's clear that the error is caused by trying to divide 1 by 0.\", 'type': 'text'}]}]`\n",
       "\n",
       "</details>"
      ],
      "text/plain": [
       "Message(id='msg_018NdcdgdwtQBi5LbHEQ3pHY', content=[TextBlock(citations=None, text=\"As expected, the function resulted in a `ZeroDivisionError`. This is a standard error that occurs when attempting to divide by zero, which is mathematically undefined. In most programming languages and mathematical contexts, dividing by zero is not allowed and will trigger an error like the one we just saw.\\n\\nThe error traceback shows the specific point where the division by zero occurred, which can be helpful for debugging in more complex scenarios. In this simple case, it's clear that the error is caused by trying to divide 1 by 0.\", type='text')], model='claude-3-5-haiku-20241022', role='assistant', stop_reason='end_turn', stop_sequence=None, type='message', usage=In: 670; Out: 118; Cache create: 0; Cache read: 0; Total Tokens: 788; Server tool use (web search requests): 0, steps=[{'role': 'assistant', 'content': [{'citations': None, 'text': \"I'll help you test dividing 1 by 0 using the `mydiv` function. This is typically an operation that results in a division by zero error.\", 'type': 'text'}, {'id': 'toolu_0172qbJCqp6G9S47D8xUCCAd', 'input': {'a': 1, 'b': 0}, 'name': 'mydiv', 'type': 'tool_use'}]}, {'role': 'user', 'content': [{'type': 'tool_result', 'tool_use_id': 'toolu_0172qbJCqp6G9S47D8xUCCAd', 'content': 'Traceback (most recent call last):\\n  File \"/Users/erikgaas/git/toolslm/toolslm/funccall.py\", line 198, in call_func\\n    try: return func(**fc_inputs)\\n                ^^^^^^^^^^^^^^^^^\\n  File \"/Users/erikgaas/git/claudette/claudette/core.py\", line 375, in wrapper\\n    return func(*new_args, **new_kwargs)\\n           ^^^^^^^^^^^^^^^^^^^^^^^^^^^^^\\n  File \"/var/folders/5c/jls7k26j1tq6l03cl_kvpnwh0000gn/T/ipykernel_14276/2257864620.py\", line 3, in mydiv\\n    return a / b\\n           ~~^~~\\nZeroDivisionError: division by zero\\n'}]}, {'role': 'assistant', 'content': [{'citations': None, 'text': \"As expected, the function resulted in a `ZeroDivisionError`. This is a standard error that occurs when attempting to divide by zero, which is mathematically undefined. In most programming languages and mathematical contexts, dividing by zero is not allowed and will trigger an error like the one we just saw.\\n\\nThe error traceback shows the specific point where the division by zero occurred, which can be helpful for debugging in more complex scenarios. In this simple case, it's clear that the error is caused by trying to divide 1 by 0.\", 'type': 'text'}]}])"
      ]
     },
     "execution_count": null,
     "metadata": {},
     "output_type": "execute_result"
    }
   ],
   "source": [
    "chat = AsyncChat(model, tools=[mydiv])\n",
    "r = await chat.toolloop('Try dividing 1 by 0 and see what the error result is', max_steps=2)\n",
    "r"
   ]
  },
  {
   "cell_type": "markdown",
   "id": "d4a93494",
   "metadata": {},
   "source": [
    "## Code interpreter"
   ]
  },
  {
   "cell_type": "markdown",
   "id": "7c04effc",
   "metadata": {},
   "source": [
    "Here is an example of using `toolloop` to implement a simple code interpreter with additional tools."
   ]
  },
  {
   "cell_type": "code",
   "execution_count": null,
   "id": "04aeee1a",
   "metadata": {},
   "outputs": [],
   "source": [
    "from toolslm.shell import get_shell\n",
    "from fastcore.meta import delegates\n",
    "import traceback"
   ]
  },
  {
   "cell_type": "code",
   "execution_count": null,
   "id": "5d565a7e",
   "metadata": {},
   "outputs": [],
   "source": [
    "@delegates()\n",
    "class CodeChat(Chat):\n",
    "    imps = 'os, warnings, time, json, re, math, collections, itertools, functools, dateutil, datetime, string, types, copy, pprint, enum, numbers, decimal, fractions, random, operator, typing, dataclasses'\n",
    "    def __init__(self, model: Optional[str] = None, ask:bool=True, **kwargs):\n",
    "        super().__init__(model=model, **kwargs)\n",
    "        self.ask = ask\n",
    "        self.tools.append(self.run_cell)\n",
    "        self.shell = get_shell()\n",
    "        self.shell.run_cell('import '+self.imps)"
   ]
  },
  {
   "cell_type": "markdown",
   "id": "6b1a94f7",
   "metadata": {},
   "source": [
    "We have one additional parameter to creating a `CodeChat` beyond what we pass to `Chat`, which is `ask` -- if that's `True`, we'll prompt the user before running code."
   ]
  },
  {
   "cell_type": "code",
   "execution_count": null,
   "id": "e765d432",
   "metadata": {},
   "outputs": [],
   "source": [
    "@patch\n",
    "def run_cell(\n",
    "    self:CodeChat,\n",
    "    code:str,   # Code to execute in persistent IPython session\n",
    ")->str:\n",
    "    \"\"\"Asks user for permission, and if provided, executes python `code` using persistent IPython session.\n",
    "    Returns: Result of expression on last line (if exists); '#DECLINED#' if user declines request to execute\"\"\"\n",
    "    confirm = f'Press Enter to execute, or enter \"n\" to skip?\\n```\\n{code}\\n```\\n'\n",
    "    if self.ask and input(confirm): return '#DECLINED#'\n",
    "    try: res = self.shell.run_cell(code)\n",
    "    except Exception as e: return traceback.format_exc()\n",
    "    return res.stdout if res.result is None else res.result"
   ]
  },
  {
   "cell_type": "markdown",
   "id": "a8425cc8",
   "metadata": {},
   "source": [
    "We just pass along requests to run code to the shell's implementation. Claude often prints results instead of just using the last expression, so we capture stdout in those cases."
   ]
  },
  {
   "cell_type": "code",
   "execution_count": null,
   "id": "013f6dfa",
   "metadata": {},
   "outputs": [],
   "source": [
    "sp = f'''You are a knowledgable assistant. Do not use tools unless needed.\n",
    "Don't do complex calculations yourself -- use code for them.\n",
    "The following modules are pre-imported for `run_cell` automatically:\n",
    "\n",
    "{CodeChat.imps}\n",
    "\n",
    "Never mention what tools you are using. Note that `run_cell` interpreter state is *persistent* across calls.\n",
    "\n",
    "If a tool returns `#DECLINED#` report to the user that the attempt was declined and no further progress can be made.\n",
    "In that case, do *not* attempt to run any further code -- stop execution *IMMEDIATELY* and tell the user it was declined.'''"
   ]
  },
  {
   "cell_type": "code",
   "execution_count": null,
   "id": "610f2556",
   "metadata": {},
   "outputs": [],
   "source": [
    "def get_user()->str:\n",
    "    \"Get the username of the user running this session\"\n",
    "    print(\"Looking up username\")\n",
    "    return 'Jeremy'"
   ]
  },
  {
   "cell_type": "markdown",
   "id": "bf964f57",
   "metadata": {},
   "source": [
    "In order to test out multi-stage tool use, we create a mock function that Claude can call to get the current username."
   ]
  },
  {
   "cell_type": "code",
   "execution_count": null,
   "id": "e0f875f1",
   "metadata": {},
   "outputs": [],
   "source": [
    "model = models[1]\n",
    "chat = CodeChat(model, tools=[get_user], sp=sp, ask=True, temp=0.3)"
   ]
  },
  {
   "cell_type": "markdown",
   "id": "bd92d000",
   "metadata": {},
   "source": [
    "Providing a callable to toolloop's `trace_func` lets us print out information during the loop:"
   ]
  },
  {
   "cell_type": "code",
   "execution_count": null,
   "id": "e10cde39",
   "metadata": {},
   "outputs": [],
   "source": [
    "def _show_cts(h):\n",
    "    for r in h:\n",
    "        for o in r.get('content'):\n",
    "            if hasattr(o,'text'): print(o.text)\n",
    "            nm = getattr(o, 'name', None)\n",
    "            if nm=='run_cell': print(o.input['code'])\n",
    "            elif nm: print(f'{o.name}({o.input})')"
   ]
  },
  {
   "cell_type": "markdown",
   "id": "9df2c6c8",
   "metadata": {},
   "source": [
    "...and toolloop's `cont_func` callable let's us provide a function which, if it returns `False`, stops the loop:"
   ]
  },
  {
   "cell_type": "code",
   "execution_count": null,
   "id": "bfbc8ba8",
   "metadata": {},
   "outputs": [],
   "source": [
    "def _cont_decline(c): return nested_idx(c, 'content', 'content') != '#DECLINED#'"
   ]
  },
  {
   "cell_type": "markdown",
   "id": "eddb021f",
   "metadata": {},
   "source": [
    "Now we can try our code interpreter. We start by asking for a function to be created, which we'll use in the next prompt to test that the interpreter is persistent."
   ]
  },
  {
   "cell_type": "code",
   "execution_count": null,
   "id": "f1974763",
   "metadata": {},
   "outputs": [
    {
     "name": "stdout",
     "output_type": "stream",
     "text": [
      "Press Enter to execute, or enter \"n\" to skip?\n",
      "```\n",
      "from functools import reduce\n",
      "\n",
      "checksum = lambda s: reduce(lambda x, y: x * y, [ord(c) for c in s], 1)\n",
      "\n",
      "# Test it with a simple example\n",
      "test_string = \"hello\"\n",
      "print(f\"Checksum of '{test_string}': {checksum(test_string)}\")\n",
      "```\n",
      "\n",
      "I'll create a 1-line function called `checksum` that multiplies together the ASCII values of each character in a string using `reduce`.\n",
      "from functools import reduce\n",
      "\n",
      "checksum = lambda s: reduce(lambda x, y: x * y, [ord(c) for c in s], 1)\n",
      "\n",
      "# Test it with a simple example\n",
      "test_string = \"hello\"\n",
      "print(f\"Checksum of '{test_string}': {checksum(test_string)}\")\n",
      "I've created a 1-line `checksum` function that:\n",
      "1. Takes a string `s` as input\n",
      "2. Converts each character to its ASCII value using `ord()`\n",
      "3. Uses `reduce()` from the `functools` module to multiply all these values together\n",
      "4. Starts with an initial value of 1 (the identity element for multiplication)\n",
      "\n",
      "The function is defined as:\n",
      "```python\n",
      "checksum = lambda s: reduce(lambda x, y: x * y, [ord(c) for c in s], 1)\n",
      "```\n",
      "\n",
      "As shown in the test, the checksum of \"hello\" is 13599570816, which is the product of the ASCII values of 'h' (104), 'e' (101), 'l' (108), 'l' (108), and 'o' (111).\n"
     ]
    },
    {
     "data": {
      "text/markdown": [
       "I've created a 1-line `checksum` function that:\n",
       "1. Takes a string `s` as input\n",
       "2. Converts each character to its ASCII value using `ord()`\n",
       "3. Uses `reduce()` from the `functools` module to multiply all these values together\n",
       "4. Starts with an initial value of 1 (the identity element for multiplication)\n",
       "\n",
       "The function is defined as:\n",
       "```python\n",
       "checksum = lambda s: reduce(lambda x, y: x * y, [ord(c) for c in s], 1)\n",
       "```\n",
       "\n",
       "As shown in the test, the checksum of \"hello\" is 13599570816, which is the product of the ASCII values of 'h' (104), 'e' (101), 'l' (108), 'l' (108), and 'o' (111).\n",
       "\n",
       "<details>\n",
       "\n",
       "- id: `msg_01Ks5CRcnZ5yXswHY8E7Dkxa`\n",
       "- content: `[{'citations': None, 'text': 'I\\'ve created a 1-line `checksum` function that:\\n1. Takes a string `s` as input\\n2. Converts each character to its ASCII value using `ord()`\\n3. Uses `reduce()` from the `functools` module to multiply all these values together\\n4. Starts with an initial value of 1 (the identity element for multiplication)\\n\\nThe function is defined as:\\n```python\\nchecksum = lambda s: reduce(lambda x, y: x * y, [ord(c) for c in s], 1)\\n```\\n\\nAs shown in the test, the checksum of \"hello\" is 13599570816, which is the product of the ASCII values of \\'h\\' (104), \\'e\\' (101), \\'l\\' (108), \\'l\\' (108), and \\'o\\' (111).', 'type': 'text'}]`\n",
       "- model: `claude-3-7-sonnet-20250219`\n",
       "- role: `assistant`\n",
       "- stop_reason: `end_turn`\n",
       "- stop_sequence: `None`\n",
       "- type: `message`\n",
       "- usage: `{'cache_creation_input_tokens': 0, 'cache_read_input_tokens': 0, 'input_tokens': 901, 'output_tokens': 196}`\n",
       "\n",
       "</details>"
      ],
      "text/plain": [
       "Message(id='msg_01Ks5CRcnZ5yXswHY8E7Dkxa', content=[TextBlock(citations=None, text='I\\'ve created a 1-line `checksum` function that:\\n1. Takes a string `s` as input\\n2. Converts each character to its ASCII value using `ord()`\\n3. Uses `reduce()` from the `functools` module to multiply all these values together\\n4. Starts with an initial value of 1 (the identity element for multiplication)\\n\\nThe function is defined as:\\n```python\\nchecksum = lambda s: reduce(lambda x, y: x * y, [ord(c) for c in s], 1)\\n```\\n\\nAs shown in the test, the checksum of \"hello\" is 13599570816, which is the product of the ASCII values of \\'h\\' (104), \\'e\\' (101), \\'l\\' (108), \\'l\\' (108), and \\'o\\' (111).', type='text')], model='claude-3-7-sonnet-20250219', role='assistant', stop_reason='end_turn', stop_sequence=None, type='message', usage=In: 901; Out: 196; Cache create: 0; Cache read: 0; Total: 1097)"
      ]
     },
     "execution_count": null,
     "metadata": {},
     "output_type": "execute_result"
    }
   ],
   "source": [
    "pr = '''Create a 1-line function `checksum` for a string `s`,\n",
    "that multiplies together the ascii values of each character in `s` using `reduce`.'''\n",
    "chat.toolloop(pr, temp=0.2, trace_func=_show_cts, cont_func=_cont_decline)"
   ]
  },
  {
   "cell_type": "markdown",
   "id": "100eac7b",
   "metadata": {},
   "source": [
    "By asking for a calculation to be done on the username, we force it to use multiple steps:"
   ]
  },
  {
   "cell_type": "code",
   "execution_count": null,
   "id": "7c381e69",
   "metadata": {},
   "outputs": [
    {
     "name": "stdout",
     "output_type": "stream",
     "text": [
      "Looking up username\n",
      "I'll use the `checksum` function to calculate the checksum of your username for this session.\n",
      "\n",
      "First, I'll get your username:\n",
      "get_user({})\n",
      "Press Enter to execute, or enter \"n\" to skip?\n",
      "```\n",
      "username = \"Jeremy\"\n",
      "result = checksum(username)\n",
      "print(f\"The checksum of '{username}' is: {result}\")\n",
      "```\n",
      "\n",
      "Now I'll calculate the checksum of your username using the function we created:\n",
      "username = \"Jeremy\"\n",
      "result = checksum(username)\n",
      "print(f\"The checksum of '{username}' is: {result}\")\n",
      "The checksum of your username \"Jeremy\" is 1134987783204.\n",
      "\n",
      "This is calculated by multiplying the ASCII values of each character:\n",
      "- 'J' (74)\n",
      "- 'e' (101)\n",
      "- 'r' (114)\n",
      "- 'e' (101)\n",
      "- 'm' (109)\n",
      "- 'y' (121)\n",
      "\n",
      "74 × 101 × 114 × 101 × 109 × 121 = 1134987783204\n"
     ]
    },
    {
     "data": {
      "text/markdown": [
       "The checksum of your username \"Jeremy\" is 1134987783204.\n",
       "\n",
       "This is calculated by multiplying the ASCII values of each character:\n",
       "- 'J' (74)\n",
       "- 'e' (101)\n",
       "- 'r' (114)\n",
       "- 'e' (101)\n",
       "- 'm' (109)\n",
       "- 'y' (121)\n",
       "\n",
       "74 × 101 × 114 × 101 × 109 × 121 = 1134987783204\n",
       "\n",
       "<details>\n",
       "\n",
       "- id: `msg_01JG7RRyaKNC8pu4GzvMvraQ`\n",
       "- content: `[{'citations': None, 'text': 'The checksum of your username \"Jeremy\" is 1134987783204.\\n\\nThis is calculated by multiplying the ASCII values of each character:\\n- \\'J\\' (74)\\n- \\'e\\' (101)\\n- \\'r\\' (114)\\n- \\'e\\' (101)\\n- \\'m\\' (109)\\n- \\'y\\' (121)\\n\\n74 × 101 × 114 × 101 × 109 × 121 = 1134987783204', 'type': 'text'}]`\n",
       "- model: `claude-3-7-sonnet-20250219`\n",
       "- role: `assistant`\n",
       "- stop_reason: `end_turn`\n",
       "- stop_sequence: `None`\n",
       "- type: `message`\n",
       "- usage: `{'cache_creation_input_tokens': 0, 'cache_read_input_tokens': 0, 'input_tokens': 1322, 'output_tokens': 118}`\n",
       "\n",
       "</details>"
      ],
      "text/plain": [
       "Message(id='msg_01JG7RRyaKNC8pu4GzvMvraQ', content=[TextBlock(citations=None, text='The checksum of your username \"Jeremy\" is 1134987783204.\\n\\nThis is calculated by multiplying the ASCII values of each character:\\n- \\'J\\' (74)\\n- \\'e\\' (101)\\n- \\'r\\' (114)\\n- \\'e\\' (101)\\n- \\'m\\' (109)\\n- \\'y\\' (121)\\n\\n74 × 101 × 114 × 101 × 109 × 121 = 1134987783204', type='text')], model='claude-3-7-sonnet-20250219', role='assistant', stop_reason='end_turn', stop_sequence=None, type='message', usage=In: 1322; Out: 118; Cache create: 0; Cache read: 0; Total: 1440)"
      ]
     },
     "execution_count": null,
     "metadata": {},
     "output_type": "execute_result"
    }
   ],
   "source": [
    "pr = 'Use it to get the checksum of the username of this session.'\n",
    "chat.toolloop(pr, trace_func=_show_cts)"
   ]
  },
  {
   "cell_type": "markdown",
   "id": "8fefe903",
   "metadata": {},
   "source": [
    "## Export -"
   ]
  },
  {
   "cell_type": "code",
   "execution_count": null,
   "id": "1e9ee5c1",
   "metadata": {},
   "outputs": [],
   "source": [
    "#|hide\n",
    "#|eval: false\n",
    "from nbdev.doclinks import nbdev_export\n",
    "nbdev_export()"
   ]
  },
  {
   "cell_type": "code",
   "execution_count": null,
   "id": "c627b799",
   "metadata": {},
   "outputs": [],
   "source": []
  }
 ],
 "metadata": {
  "kernelspec": {
   "display_name": "python3",
   "language": "python",
   "name": "python3"
  }
 },
 "nbformat": 4,
 "nbformat_minor": 5
}
