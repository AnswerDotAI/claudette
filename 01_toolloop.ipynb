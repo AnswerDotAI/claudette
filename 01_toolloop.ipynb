{
 "cells": [
  {
   "cell_type": "code",
   "execution_count": null,
   "id": "efe78920",
   "metadata": {},
   "outputs": [],
   "source": [
    "#|default_exp toolloop"
   ]
  },
  {
   "cell_type": "markdown",
   "id": "3d773712-12fe-440e-891f-36f59666dfde",
   "metadata": {},
   "source": [
    "# Tool loop"
   ]
  },
  {
   "cell_type": "code",
   "execution_count": null,
   "id": "033c76fd",
   "metadata": {},
   "outputs": [],
   "source": [
    "#| export\n",
    "from claudette.core import *\n",
    "from fastcore.utils import *\n",
    "\n",
    "from anthropic.types import TextBlock, Message\n",
    "from anthropic.types.beta.tools import ToolsBetaMessage, tool_use_block"
   ]
  },
  {
   "cell_type": "markdown",
   "id": "63111054",
   "metadata": {},
   "source": [
    "Anthropic provides an [interesting example](https://github.com/anthropics/anthropic-cookbook/blob/main/tool_use/customer_service_agent.ipynb) of using tools to mock up a hypothetical ordering system. We're going to take it a step further, and show how we can dramatically simplify the process, whilst completing more complex tasks.\n",
    "\n",
    "We'll start by defining the same mock customer/order data as in Anthropic's example, plus create a entity relationship between customers and orders:"
   ]
  },
  {
   "cell_type": "code",
   "execution_count": null,
   "id": "207f9715",
   "metadata": {},
   "outputs": [],
   "source": [
    "orders = {\n",
    "    \"O1\": dict(id=\"O1\", product=\"Widget A\", quantity=2, price=19.99, status=\"Shipped\"),\n",
    "    \"O2\": dict(id=\"O2\", product=\"Gadget B\", quantity=1, price=49.99, status=\"Processing\"),\n",
    "    \"O3\": dict(id=\"O3\", product=\"Gadget B\", quantity=2, price=49.99, status=\"Shipped\")}\n",
    "\n",
    "customers = {\n",
    "    \"C1\": dict(name=\"John Doe\", email=\"john@example.com\", phone=\"123-456-7890\",\n",
    "               orders=[orders['O1'], orders['O2']]),\n",
    "    \"C2\": dict(name=\"Jane Smith\", email=\"jane@example.com\", phone=\"987-654-3210\",\n",
    "               orders=[orders['O3']])\n",
    "}"
   ]
  },
  {
   "cell_type": "markdown",
   "id": "2d8eed7b",
   "metadata": {},
   "source": [
    "We can now define the same functions from the original example -- but note that we don't need to manually create the large JSON schema, since Claudette handles all that for us automatically from the functions directly. We'll add some extra functionality to update order details when cancelling too."
   ]
  },
  {
   "cell_type": "code",
   "execution_count": null,
   "id": "2778dde0",
   "metadata": {},
   "outputs": [],
   "source": [
    "def get_customer_info(\n",
    "    customer_id:str # ID of the customer\n",
    "): # Customer's name, email, phone number, and list of orders\n",
    "    \"Retrieves a customer's information and their orders based on the customer ID\"\n",
    "    print(f'- Retrieving customer {customer_id}')\n",
    "    return customers.get(customer_id, \"Customer not found\")\n",
    "\n",
    "def get_order_details(\n",
    "    order_id:str # ID of the order\n",
    "): # Order's ID, product name, quantity, price, and order status\n",
    "    \"Retrieves the details of a specific order based on the order ID\"\n",
    "    print(f'- Retrieving order {order_id}')\n",
    "    return orders.get(order_id, \"Order not found\")\n",
    "\n",
    "def cancel_order(\n",
    "    order_id:str # ID of the order to cancel\n",
    ")->bool: # True if the cancellation is successful\n",
    "    \"Cancels an order based on the provided order ID\"\n",
    "    print(f'- Cancelling order {order_id}')\n",
    "    if order_id not in orders: return False\n",
    "    orders[order_id]['status'] = 'Cancelled'\n",
    "    return True"
   ]
  },
  {
   "cell_type": "markdown",
   "id": "a1278535",
   "metadata": {},
   "source": [
    "We're now ready to start our chat."
   ]
  },
  {
   "cell_type": "code",
   "execution_count": null,
   "id": "a4231dff",
   "metadata": {},
   "outputs": [],
   "source": [
    "tools = [get_customer_info, get_order_details, cancel_order]\n",
    "chat = Chat(models[-1], tools=tools)"
   ]
  },
  {
   "cell_type": "markdown",
   "id": "41db970a",
   "metadata": {},
   "source": [
    "We'll start with the same request as Anthropic showed:"
   ]
  },
  {
   "cell_type": "code",
   "execution_count": null,
   "id": "97cdbf58",
   "metadata": {},
   "outputs": [
    {
     "name": "stdout",
     "output_type": "stream",
     "text": [
      "tool_use\n"
     ]
    },
    {
     "data": {
      "text/plain": [
       "[ToolUseBlock(id='toolu_016G5mFSQNHksbJYZ5rRvPQk', input={'customer_id': 'C1'}, name='get_customer_info', type='tool_use')]"
      ]
     },
     "execution_count": null,
     "metadata": {},
     "output_type": "execute_result"
    }
   ],
   "source": [
    "r = chat('Can you tell me the email address for customer C1?')\n",
    "print(r.stop_reason)\n",
    "r.content"
   ]
  },
  {
   "cell_type": "markdown",
   "id": "3f6d3ae8",
   "metadata": {},
   "source": [
    "Claude asks us to use a tool. Claudette handles that automatically by just passing back the message:"
   ]
  },
  {
   "cell_type": "code",
   "execution_count": null,
   "id": "09196e94",
   "metadata": {},
   "outputs": [
    {
     "name": "stdout",
     "output_type": "stream",
     "text": [
      "- Retrieving customer C1\n"
     ]
    },
    {
     "data": {
      "text/plain": [
       "'The email address for customer C1 is john@example.com.'"
      ]
     },
     "execution_count": null,
     "metadata": {},
     "output_type": "execute_result"
    }
   ],
   "source": [
    "r = chat(r)\n",
    "contents(r)"
   ]
  },
  {
   "cell_type": "markdown",
   "id": "26fe5edb",
   "metadata": {},
   "source": [
    "Let's consider a more complex case than in the original example -- what happens if a customer wants to cancel all of their orders?"
   ]
  },
  {
   "cell_type": "code",
   "execution_count": null,
   "id": "6aa531d0",
   "metadata": {},
   "outputs": [
    {
     "name": "stdout",
     "output_type": "stream",
     "text": [
      "tool_use\n"
     ]
    },
    {
     "data": {
      "text/plain": [
       "[TextBlock(text=\"Okay, let's cancel all orders for customer C1:\", type='text'),\n",
       " ToolUseBlock(id='toolu_01LXASELHBZ4w1H2pJx2Mpmy', input={'customer_id': 'C1'}, name='get_customer_info', type='tool_use')]"
      ]
     },
     "execution_count": null,
     "metadata": {},
     "output_type": "execute_result"
    }
   ],
   "source": [
    "chat = Chat(models[-1], tools=tools)\n",
    "r = chat('Please cancel all orders for customer C1 for me.')\n",
    "print(r.stop_reason)\n",
    "r.content"
   ]
  },
  {
   "cell_type": "markdown",
   "id": "5a2432a1",
   "metadata": {},
   "source": [
    "This is the start of a multi-stage tool use process. Doing it manually step by step is inconvenient, so let's write a function to handle this for us:"
   ]
  },
  {
   "cell_type": "code",
   "execution_count": null,
   "id": "3457eeb6",
   "metadata": {},
   "outputs": [],
   "source": [
    "#| exports\n",
    "@patch\n",
    "def toolloop(self:Chat,\n",
    "             pr, # Prompt to pass to Claude\n",
    "             max_steps=10, # Maximum number of tool requests to loop through\n",
    "             temp=0, # Temperature\n",
    "             maxtok=4096, # Maximum tokens\n",
    "             stop:Optional[list[str]]=None, # Stop sequences\n",
    "             trace_func:Optional[callable]=None, # Function to trace tool use steps (e.g `print`)\n",
    "             cont_func:Optional[callable]=noop, # Function that stops loop if returns False\n",
    "             **kw):\n",
    "    \"Add prompt `pr` to dialog and get a response from Claude, automatically following up with `tool_use` messages\"\n",
    "    r = self(pr, temp=temp, maxtok=maxtok, stop=stop, **kw)\n",
    "    for i in range(max_steps):\n",
    "        if r.stop_reason!='tool_use': break\n",
    "        if trace_func: trace_func(r)\n",
    "        r = self(r, temp=temp, maxtok=maxtok, stop=stop, **kw)\n",
    "        if not (cont_func or noop)(self.h[-2]['content']): break\n",
    "    if trace_func: trace_func(r)\n",
    "    return r"
   ]
  },
  {
   "cell_type": "markdown",
   "id": "f83a0859",
   "metadata": {},
   "source": [
    "We'll start by re-running our previous request - we shouldn't have to manually pass back the `tool_use` message any more:"
   ]
  },
  {
   "cell_type": "code",
   "execution_count": null,
   "id": "52fa6634",
   "metadata": {},
   "outputs": [
    {
     "name": "stdout",
     "output_type": "stream",
     "text": [
      "- Retrieving customer C1\n"
     ]
    },
    {
     "data": {
      "text/markdown": [
       "The email address for customer C1 is john@example.com.\n",
       "\n",
       "<details>\n",
       "\n",
       "- id: msg_01REww7fpxS1uuEj6m1dCwxA\n",
       "- content: [{'text': 'The email address for customer C1 is john@example.com.', 'type': 'text'}]\n",
       "- model: claude-3-haiku-20240307\n",
       "- role: assistant\n",
       "- stop_reason: end_turn\n",
       "- stop_sequence: None\n",
       "- type: message\n",
       "- usage: {'input_tokens': 732, 'output_tokens': 19}\n",
       "\n",
       "</details>"
      ],
      "text/plain": [
       "ToolsBetaMessage(id='msg_01REww7fpxS1uuEj6m1dCwxA', content=[TextBlock(text='The email address for customer C1 is john@example.com.', type='text')], model='claude-3-haiku-20240307', role='assistant', stop_reason='end_turn', stop_sequence=None, type='message', usage=In: 732; Out: 19; Total: 751)"
      ]
     },
     "execution_count": null,
     "metadata": {},
     "output_type": "execute_result"
    }
   ],
   "source": [
    "chat = Chat(models[-1], tools=tools)\n",
    "r = chat.toolloop('Can you tell me the email address for customer C1?')\n",
    "r"
   ]
  },
  {
   "cell_type": "markdown",
   "id": "db6131f0",
   "metadata": {},
   "source": [
    "Let's see if it can handle the multi-stage process now -- we'll add `show_trace=print` to see each stage of the process:"
   ]
  },
  {
   "cell_type": "code",
   "execution_count": null,
   "id": "a45d3eb0",
   "metadata": {},
   "outputs": [
    {
     "name": "stdout",
     "output_type": "stream",
     "text": [
      "ToolsBetaMessage(id='msg_017eULH1pMjc39ZuYs1ENPw5', content=[TextBlock(text=\"Okay, let's cancel all orders for customer C1:\", type='text'), ToolUseBlock(id='toolu_016uvMZWi57bxrkpygS817zJ', input={'customer_id': 'C1'}, name='get_customer_info', type='tool_use')], model='claude-3-haiku-20240307', role='assistant', stop_reason='tool_use', stop_sequence=None, type='message', usage=In: 537; Out: 72; Total: 609)\n",
      "- Retrieving customer C1\n",
      "ToolsBetaMessage(id='msg_016SmnJxzWy1pDNvS3aozuf4', content=[TextBlock(text=\"Based on the customer information, it looks like there are 2 orders for customer C1:\\n- Order O1 for Widget A\\n- Order O2 for Gadget B\\n\\nLet's cancel both of these orders:\", type='text'), ToolUseBlock(id='toolu_01JJx5RFXcJyy6vdpzBV3zvV', input={'order_id': 'O1'}, name='cancel_order', type='tool_use')], model='claude-3-haiku-20240307', role='assistant', stop_reason='tool_use', stop_sequence=None, type='message', usage=In: 745; Out: 107; Total: 852)\n",
      "- Cancelling order O1\n",
      "ToolsBetaMessage(id='msg_01U71cZ78qdNYnPrR1ERSVeH', content=[ToolUseBlock(id='toolu_01KzY4YLpLLfcdghTuv9nyyK', input={'order_id': 'O2'}, name='cancel_order', type='tool_use')], model='claude-3-haiku-20240307', role='assistant', stop_reason='tool_use', stop_sequence=None, type='message', usage=In: 864; Out: 57; Total: 921)\n",
      "- Cancelling order O2\n",
      "ToolsBetaMessage(id='msg_018xiGfzbJdfwm3Vpp5tF41j', content=[TextBlock(text='Both order cancellations were successful. I have now cancelled all orders for customer C1.', type='text')], model='claude-3-haiku-20240307', role='assistant', stop_reason='end_turn', stop_sequence=None, type='message', usage=In: 933; Out: 23; Total: 956)\n"
     ]
    },
    {
     "data": {
      "text/markdown": [
       "Both order cancellations were successful. I have now cancelled all orders for customer C1.\n",
       "\n",
       "<details>\n",
       "\n",
       "- id: msg_018xiGfzbJdfwm3Vpp5tF41j\n",
       "- content: [{'text': 'Both order cancellations were successful. I have now cancelled all orders for customer C1.', 'type': 'text'}]\n",
       "- model: claude-3-haiku-20240307\n",
       "- role: assistant\n",
       "- stop_reason: end_turn\n",
       "- stop_sequence: None\n",
       "- type: message\n",
       "- usage: {'input_tokens': 933, 'output_tokens': 23}\n",
       "\n",
       "</details>"
      ],
      "text/plain": [
       "ToolsBetaMessage(id='msg_018xiGfzbJdfwm3Vpp5tF41j', content=[TextBlock(text='Both order cancellations were successful. I have now cancelled all orders for customer C1.', type='text')], model='claude-3-haiku-20240307', role='assistant', stop_reason='end_turn', stop_sequence=None, type='message', usage=In: 933; Out: 23; Total: 956)"
      ]
     },
     "execution_count": null,
     "metadata": {},
     "output_type": "execute_result"
    }
   ],
   "source": [
    "chat = Chat(models[-1], tools=tools)\n",
    "r = chat.toolloop('Please cancel all orders for customer C1 for me.', trace_func=print)\n",
    "r"
   ]
  },
  {
   "cell_type": "markdown",
   "id": "a7a8c9fc",
   "metadata": {},
   "source": [
    "OK Claude thinks the orders were cancelled -- let's check one:"
   ]
  },
  {
   "cell_type": "code",
   "execution_count": null,
   "id": "592e9084",
   "metadata": {},
   "outputs": [
    {
     "name": "stdout",
     "output_type": "stream",
     "text": [
      "- Retrieving order O2\n"
     ]
    },
    {
     "data": {
      "text/markdown": [
       "The status of order O2 is now 'Cancelled' since I successfully cancelled that order earlier.\n",
       "\n",
       "<details>\n",
       "\n",
       "- id: msg_014HbcoPNTVjaW1ewhkt7ERJ\n",
       "- content: [{'text': \"The status of order O2 is now 'Cancelled' since I successfully cancelled that order earlier.\", 'type': 'text'}]\n",
       "- model: claude-3-haiku-20240307\n",
       "- role: assistant\n",
       "- stop_reason: end_turn\n",
       "- stop_sequence: None\n",
       "- type: message\n",
       "- usage: {'input_tokens': 1095, 'output_tokens': 26}\n",
       "\n",
       "</details>"
      ],
      "text/plain": [
       "ToolsBetaMessage(id='msg_014HbcoPNTVjaW1ewhkt7ERJ', content=[TextBlock(text=\"The status of order O2 is now 'Cancelled' since I successfully cancelled that order earlier.\", type='text')], model='claude-3-haiku-20240307', role='assistant', stop_reason='end_turn', stop_sequence=None, type='message', usage=In: 1095; Out: 26; Total: 1121)"
      ]
     },
     "execution_count": null,
     "metadata": {},
     "output_type": "execute_result"
    }
   ],
   "source": [
    "chat.toolloop('What is the status of order O2?')"
   ]
  },
  {
   "cell_type": "markdown",
   "id": "d4a93494",
   "metadata": {},
   "source": [
    "## Code interpreter"
   ]
  },
  {
   "cell_type": "code",
   "execution_count": null,
   "id": "04aeee1a",
   "metadata": {},
   "outputs": [],
   "source": [
    "#| exports\n",
    "from execnb.shell import CaptureShell\n",
    "from fastcore.meta import delegates\n",
    "import traceback"
   ]
  },
  {
   "cell_type": "markdown",
   "id": "87a170c9",
   "metadata": {},
   "source": [
    "TODO:\n",
    "\n",
    "- pass code directly to run in shell\n",
    "- download notebook when done, or open in colab\n",
    "- image outputs"
   ]
  },
  {
   "cell_type": "code",
   "execution_count": null,
   "id": "571e0fe5",
   "metadata": {},
   "outputs": [],
   "source": [
    "imps = 'os, warnings, time, json, re, math, collections, itertools, functools, dateutil, datetime, string, types, copy, pprint, enum, numbers, decimal, fractions, random, operator, typing, dataclasses'"
   ]
  },
  {
   "cell_type": "code",
   "execution_count": null,
   "id": "0e943a08",
   "metadata": {},
   "outputs": [],
   "source": [
    "#| exports\n",
    "@delegates()\n",
    "class CodeChat(Chat):\n",
    "    def __init__(self, model: Optional[str] = None, ask:bool=True, **kwargs):\n",
    "        super().__init__(model=model, **kwargs)\n",
    "        self.ask = ask\n",
    "        self.tools.append(self.run_cell)\n",
    "        self.shell = CaptureShell()\n",
    "        self.shell.run('import '+imps)\n",
    "\n",
    "    def run_cell(\n",
    "        self,\n",
    "        code:str,   # Code to execute in persistent IPython session\n",
    "    ): # Result of expression on last line (if exists); '#DECLINED#' if user declines request to exectute\n",
    "        \"Asks user for permission, and if provided, executes python `code` using persistent IPython session.\"\n",
    "        confirm = f'Press Enter to execute, or enter \"n\" to skip?\\n```\\n{code}\\n```\\n'\n",
    "        if self.ask and input(confirm): return '#DECLINED#'\n",
    "        try: return self.shell.run(code)\n",
    "        except Exception as e: return traceback.format_exc()"
   ]
  },
  {
   "cell_type": "code",
   "execution_count": null,
   "id": "0810ccc4",
   "metadata": {},
   "outputs": [],
   "source": [
    "sp = f'''Don't do complex calculations yourself -- use code for them.\n",
    "The following modules are pre-imported for `call_python` automatically:\n",
    "\n",
    "{imps}\n",
    "\n",
    "Never mention what tools you are using.'''"
   ]
  },
  {
   "cell_type": "code",
   "execution_count": null,
   "id": "4dfe7356",
   "metadata": {},
   "outputs": [],
   "source": [
    "def _show_cts(r):\n",
    "    for o in r.content:\n",
    "        if hasattr(o,'text'): print(o.text)\n",
    "        nm = getattr(o, 'name', None)\n",
    "        if nm=='run_cell': print(o.input['code'])\n",
    "        elif nm: print(f'{o.name}({o.input})')\n",
    "\n",
    "def _cont_decline(c): return c[0]['content']!='#DECLINED#'"
   ]
  },
  {
   "cell_type": "code",
   "execution_count": null,
   "id": "961c5b53",
   "metadata": {},
   "outputs": [],
   "source": [
    "chat.h = ['Can you multiply numbers together yourself?',\n",
    "         'No, but I can use code to do so.']"
   ]
  },
  {
   "cell_type": "code",
   "execution_count": null,
   "id": "bc2e4fca",
   "metadata": {},
   "outputs": [],
   "source": [
    "def get_user(ignored:int=0\n",
    "            ): # Username of current user\n",
    "    \"Get the username of the user running this session\"\n",
    "    return 'Jeremy'"
   ]
  },
  {
   "cell_type": "code",
   "execution_count": null,
   "id": "2ae99788",
   "metadata": {},
   "outputs": [],
   "source": [
    "chat = CodeChat(models[-1], tools=[get_user], sp=sp, ask=False)"
   ]
  },
  {
   "cell_type": "code",
   "execution_count": null,
   "id": "5632a578",
   "metadata": {},
   "outputs": [
    {
     "name": "stdout",
     "output_type": "stream",
     "text": [
      "def checksum(s):\n",
      "    result = 1\n",
      "    for char in s:\n",
      "        result *= ord(char)\n",
      "    return result\n"
     ]
    },
    {
     "data": {
      "text/markdown": [
       "None\n",
       "\n",
       "<details>\n",
       "\n",
       "- id: msg_01A7UfExFFnsptZQ7xxxBZqD\n",
       "- content: []\n",
       "- model: claude-3-haiku-20240307\n",
       "- role: assistant\n",
       "- stop_reason: end_turn\n",
       "- stop_sequence: None\n",
       "- type: message\n",
       "- usage: {'input_tokens': 639, 'output_tokens': 3}\n",
       "\n",
       "</details>"
      ],
      "text/plain": [
       "ToolsBetaMessage(id='msg_01A7UfExFFnsptZQ7xxxBZqD', content=[], model='claude-3-haiku-20240307', role='assistant', stop_reason='end_turn', stop_sequence=None, type='message', usage=In: 639; Out: 3; Total: 642)"
      ]
     },
     "execution_count": null,
     "metadata": {},
     "output_type": "execute_result"
    }
   ],
   "source": [
    "pr = '''Create a function `checksum` for a string `s`,\n",
    "that multiplies together the ascii values of each character in `s`.\n",
    "Minimise chat.'''\n",
    "chat.toolloop(pr, temp=0, cont_func=_cont_decline, trace_func=_show_cts)"
   ]
  },
  {
   "cell_type": "code",
   "execution_count": null,
   "id": "32cba275",
   "metadata": {},
   "outputs": [
    {
     "name": "stdout",
     "output_type": "stream",
     "text": [
      "get_user({'ignored': 0})\n",
      "checksum(\"Jeremy\")\n",
      "The checksum of the username \"Jeremy\" is 1134987783204.\n"
     ]
    },
    {
     "data": {
      "text/markdown": [
       "The checksum of the username \"Jeremy\" is 1134987783204.\n",
       "\n",
       "<details>\n",
       "\n",
       "- id: msg_01BjMWn6XCZfKRD3FoSVttSD\n",
       "- content: [{'text': 'The checksum of the username \"Jeremy\" is 1134987783204.', 'type': 'text'}]\n",
       "- model: claude-3-haiku-20240307\n",
       "- role: assistant\n",
       "- stop_reason: end_turn\n",
       "- stop_sequence: None\n",
       "- type: message\n",
       "- usage: {'input_tokens': 840, 'output_tokens': 21}\n",
       "\n",
       "</details>"
      ],
      "text/plain": [
       "ToolsBetaMessage(id='msg_01BjMWn6XCZfKRD3FoSVttSD', content=[TextBlock(text='The checksum of the username \"Jeremy\" is 1134987783204.', type='text')], model='claude-3-haiku-20240307', role='assistant', stop_reason='end_turn', stop_sequence=None, type='message', usage=In: 840; Out: 21; Total: 861)"
      ]
     },
     "execution_count": null,
     "metadata": {},
     "output_type": "execute_result"
    }
   ],
   "source": [
    "pr = 'Use it to get the checksum of the username of this session.'\n",
    "chat.toolloop(pr, temp=0, cont_func=_cont_decline, trace_func=_show_cts)"
   ]
  },
  {
   "cell_type": "code",
   "execution_count": null,
   "id": "679d1a58",
   "metadata": {},
   "outputs": [
    {
     "name": "stdout",
     "output_type": "stream",
     "text": [
      "24479670339450\n"
     ]
    }
   ],
   "source": [
    "pr = 'What is 4383954*5583925?'\n",
    "chat.toolloop(pr, temp=0, cont_func=_cont_decline)\n",
    "print(4383954*5583925)"
   ]
  },
  {
   "cell_type": "markdown",
   "id": "75513cde",
   "metadata": {},
   "source": [
    "## Export -"
   ]
  },
  {
   "cell_type": "code",
   "execution_count": null,
   "id": "1e9ee5c1",
   "metadata": {},
   "outputs": [],
   "source": [
    "#|hide\n",
    "#|eval: false\n",
    "from nbdev.doclinks import nbdev_export\n",
    "nbdev_export()"
   ]
  },
  {
   "cell_type": "code",
   "execution_count": null,
   "id": "c627b799",
   "metadata": {},
   "outputs": [],
   "source": []
  }
 ],
 "metadata": {
  "kernelspec": {
   "display_name": "python3",
   "language": "python",
   "name": "python3"
  }
 },
 "nbformat": 4,
 "nbformat_minor": 5
}
