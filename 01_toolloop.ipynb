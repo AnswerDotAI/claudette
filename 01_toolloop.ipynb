{
 "cells": [
  {
   "cell_type": "code",
   "execution_count": null,
   "id": "efe78920",
   "metadata": {},
   "outputs": [],
   "source": [
    "#|default_exp toolloop"
   ]
  },
  {
   "cell_type": "markdown",
   "id": "3d773712-12fe-440e-891f-36f59666dfde",
   "metadata": {},
   "source": [
    "# Tool loop"
   ]
  },
  {
   "cell_type": "code",
   "execution_count": null,
   "id": "322371c7",
   "metadata": {},
   "outputs": [],
   "source": [
    "import os\n",
    "# os.environ['ANTHROPIC_LOG'] = 'debug'"
   ]
  },
  {
   "cell_type": "code",
   "execution_count": null,
   "id": "033c76fd",
   "metadata": {},
   "outputs": [],
   "source": [
    "#| export\n",
    "from claudette.core import *\n",
    "from fastcore.utils import *\n",
    "from fastcore.meta import delegates\n",
    "from functools import wraps\n",
    "\n",
    "from anthropic.types import TextBlock, Message, ToolUseBlock"
   ]
  },
  {
   "cell_type": "code",
   "execution_count": null,
   "id": "0b9ee7f3",
   "metadata": {},
   "outputs": [],
   "source": [
    "from IPython.display import display, Markdown, clear_output\n",
    "from pprint import pprint"
   ]
  },
  {
   "cell_type": "code",
   "execution_count": null,
   "id": "24ee745e",
   "metadata": {},
   "outputs": [
    {
     "data": {
      "text/plain": [
       "'claude-sonnet-4-20250514'"
      ]
     },
     "execution_count": null,
     "metadata": {},
     "output_type": "execute_result"
    }
   ],
   "source": [
    "model = models[1]\n",
    "model"
   ]
  },
  {
   "cell_type": "markdown",
   "id": "4eed0a59",
   "metadata": {},
   "source": [
    "## Problem setup"
   ]
  },
  {
   "cell_type": "markdown",
   "id": "63111054",
   "metadata": {},
   "source": [
    "Anthropic provides an [interesting example](https://github.com/anthropics/anthropic-cookbook/blob/main/tool_use/customer_service_agent.ipynb) of using tools to mock up a hypothetical ordering system. We're going to take it a step further, and show how we can dramatically simplify the process, whilst completing more complex tasks.\n",
    "\n",
    "We'll start by defining the same mock customer/order data as in Anthropic's example, plus create a entity relationship between customers and orders:"
   ]
  },
  {
   "cell_type": "code",
   "execution_count": null,
   "id": "d94ec5e5",
   "metadata": {},
   "outputs": [],
   "source": [
    "def _get_orders_customers():\n",
    "    orders = {\n",
    "        \"O1\": dict(id=\"O1\", product=\"Widget A\", quantity=2, price=19.99, status=\"Shipped\"),\n",
    "        \"O2\": dict(id=\"O2\", product=\"Gadget B\", quantity=1, price=49.99, status=\"Processing\"),\n",
    "        \"O3\": dict(id=\"O3\", product=\"Gadget B\", quantity=2, price=49.99, status=\"Shipped\")}\n",
    "\n",
    "    customers = {\n",
    "        \"C1\": dict(name=\"John Doe\", email=\"john@example.com\", phone=\"123-456-7890\",\n",
    "                   orders=[orders['O1'], orders['O2']]),\n",
    "        \"C2\": dict(name=\"Jane Smith\", email=\"jane@example.com\", phone=\"987-654-3210\",\n",
    "                   orders=[orders['O3']])\n",
    "    }\n",
    "    return orders, customers"
   ]
  },
  {
   "cell_type": "code",
   "execution_count": null,
   "id": "207f9715",
   "metadata": {},
   "outputs": [],
   "source": [
    "orders, customers = _get_orders_customers()"
   ]
  },
  {
   "cell_type": "markdown",
   "id": "2d8eed7b",
   "metadata": {},
   "source": [
    "We can now define the same functions from the original example -- but note that we don't need to manually create the large JSON schema, since Claudette handles all that for us automatically from the functions directly. We'll add some extra functionality to update order details when cancelling too."
   ]
  },
  {
   "cell_type": "code",
   "execution_count": null,
   "id": "2778dde0",
   "metadata": {},
   "outputs": [],
   "source": [
    "def get_customer_info(\n",
    "    customer_id:str # ID of the customer\n",
    "): # Customer's name, email, phone number, and list of orders\n",
    "    \"Retrieves a customer's information and their orders based on the customer ID\"\n",
    "    print(f'- Retrieving customer {customer_id}')\n",
    "    return customers.get(customer_id, \"Customer not found\")\n",
    "\n",
    "def get_order_details(\n",
    "    order_id:str # ID of the order\n",
    "): # Order's ID, product name, quantity, price, and order status\n",
    "    \"Retrieves the details of a specific order based on the order ID\"\n",
    "    print(f'- Retrieving order {order_id}')\n",
    "    return orders.get(order_id, \"Order not found\")\n",
    "\n",
    "def cancel_order(\n",
    "    order_id:str # ID of the order to cancel\n",
    ")->bool: # True if the cancellation is successful\n",
    "    \"Cancels an order based on the provided order ID\"\n",
    "    print(f'- Cancelling order {order_id}')\n",
    "    if order_id not in orders: return False\n",
    "    orders[order_id]['status'] = 'Cancelled'\n",
    "    return True"
   ]
  },
  {
   "cell_type": "markdown",
   "id": "a1278535",
   "metadata": {},
   "source": [
    "We're now ready to start our chat."
   ]
  },
  {
   "cell_type": "markdown",
   "id": "2238e962",
   "metadata": {},
   "source": [
    "## Manual tool use"
   ]
  },
  {
   "cell_type": "code",
   "execution_count": null,
   "id": "134ceec8",
   "metadata": {},
   "outputs": [],
   "source": [
    "tools = [get_customer_info, get_order_details, cancel_order]"
   ]
  },
  {
   "cell_type": "code",
   "execution_count": null,
   "id": "a4231dff",
   "metadata": {},
   "outputs": [],
   "source": [
    "chat = Chat(model, tools=tools)"
   ]
  },
  {
   "cell_type": "markdown",
   "id": "41db970a",
   "metadata": {},
   "source": [
    "We'll start with the same request as Anthropic showed:"
   ]
  },
  {
   "cell_type": "code",
   "execution_count": null,
   "id": "fc334a2f",
   "metadata": {},
   "outputs": [
    {
     "name": "stdout",
     "output_type": "stream",
     "text": [
      "- Retrieving customer C1\n",
      "tool_use\n"
     ]
    },
    {
     "data": {
      "text/plain": [
       "[TextBlock(citations=None, text=\"I'll retrieve the customer information for customer C1 to get their email address.\", type='text'),\n",
       " ToolUseBlock(id='toolu_01TWzL3d5ijZNJSbtik9C6Ut', input={'customer_id': 'C1'}, name='get_customer_info', type='tool_use')]"
      ]
     },
     "execution_count": null,
     "metadata": {},
     "output_type": "execute_result"
    }
   ],
   "source": [
    "r = chat('Can you tell me the email address for customer C1?')\n",
    "print(r.stop_reason)\n",
    "r.content"
   ]
  },
  {
   "cell_type": "markdown",
   "id": "3f6d3ae8",
   "metadata": {},
   "source": [
    "Claude asks us to use a tool. Claudette handles that automatically by just calling it again:"
   ]
  },
  {
   "cell_type": "code",
   "execution_count": null,
   "id": "09196e94",
   "metadata": {},
   "outputs": [
    {
     "data": {
      "text/plain": [
       "'The email address for customer C1 (John Doe) is john@example.com.'"
      ]
     },
     "execution_count": null,
     "metadata": {},
     "output_type": "execute_result"
    }
   ],
   "source": [
    "r = chat()\n",
    "contents(r)"
   ]
  },
  {
   "cell_type": "markdown",
   "id": "26fe5edb",
   "metadata": {},
   "source": [
    "Let's consider a more complex case than in the original example -- what happens if a customer wants to cancel all of their orders?"
   ]
  },
  {
   "cell_type": "code",
   "execution_count": null,
   "id": "6aa531d0",
   "metadata": {},
   "outputs": [
    {
     "name": "stdout",
     "output_type": "stream",
     "text": [
      "- Retrieving customer C1\n",
      "tool_use\n"
     ]
    },
    {
     "data": {
      "text/plain": [
       "[TextBlock(citations=None, text=\"I'll help you cancel all orders for customer C1. First, let me retrieve the customer's information to see what orders they have.\", type='text'),\n",
       " ToolUseBlock(id='toolu_01978p4fSDzSvNh6pPLisgwP', input={'customer_id': 'C1'}, name='get_customer_info', type='tool_use')]"
      ]
     },
     "execution_count": null,
     "metadata": {},
     "output_type": "execute_result"
    }
   ],
   "source": [
    "chat = Chat(model, tools=tools)\n",
    "r = chat('Please cancel all orders for customer C1 for me.')\n",
    "print(r.stop_reason)\n",
    "r.content"
   ]
  },
  {
   "cell_type": "markdown",
   "id": "757c8199",
   "metadata": {},
   "source": [
    "## Tool loop"
   ]
  },
  {
   "cell_type": "markdown",
   "id": "5a2432a1",
   "metadata": {},
   "source": [
    "This is the start of a multi-stage tool use process. Doing it manually step by step is inconvenient, so let's write a function to handle this for us:"
   ]
  },
  {
   "cell_type": "code",
   "execution_count": null,
   "id": "c187921f",
   "metadata": {},
   "outputs": [],
   "source": [
    "#| exports\n",
    "_final_prompt = \"You have no more tool uses. Please summarize your findings. If you did not complete your goal please tell the user what further work needs to be done so they can choose how best to proceed.\""
   ]
  },
  {
   "cell_type": "code",
   "execution_count": null,
   "id": "a1f9f70b",
   "metadata": {},
   "outputs": [],
   "source": [
    "#| exports\n",
    "@patch\n",
    "@delegates(Chat.__call__)\n",
    "def toolloop(self:Chat,\n",
    "             pr, # Prompt to pass to Claude\n",
    "             max_steps=10, # Maximum number of tool requests to loop through\n",
    "             cont_func:callable=noop, # Function that stops loop if returns False\n",
    "             final_prompt=_final_prompt, # Prompt to add if last message is a tool call\n",
    "             **kwargs):\n",
    "    \"Add prompt `pr` to dialog and get a response from Claude, automatically following up with `tool_use` messages\"\n",
    "    class _Loop:\n",
    "        def __iter__(a):\n",
    "            init_n = len(self.h)\n",
    "            r = self(pr, **kwargs)\n",
    "            yield r\n",
    "            if len(self.last)>1: yield self.last[1]\n",
    "            for i in range(max_steps-1):\n",
    "                if self.c.stop_reason!='tool_use': break\n",
    "                r = self(final_prompt if i==max_steps-2 else None, **kwargs)\n",
    "                yield r\n",
    "                if len(self.last)>1: yield self.last[1]\n",
    "                if not cont_func(*self.h[-3:]): break\n",
    "            a.value = self.h[init_n+1:]\n",
    "    return _Loop()"
   ]
  },
  {
   "cell_type": "markdown",
   "id": "97a3fe0e",
   "metadata": {},
   "source": [
    "`toolloop` returns an iterable of assistant messages:"
   ]
  },
  {
   "cell_type": "code",
   "execution_count": null,
   "id": "0952f424",
   "metadata": {},
   "outputs": [
    {
     "name": "stdout",
     "output_type": "stream",
     "text": [
      "- Retrieving customer C1\n"
     ]
    },
    {
     "data": {
      "text/markdown": [
       "I'll retrieve the customer information for customer C1 to get their email address.\n",
       "\n",
       "<details>\n",
       "\n",
       "- id: `msg_01R8iNqYX49JmSDAh3xxVVAt`\n",
       "- content: `[{'citations': None, 'text': \"I'll retrieve the customer information for customer C1 to get their email address.\", 'type': 'text'}, {'id': 'toolu_01XHMYNJkPZXn1Hj9GG8gtDX', 'input': {'customer_id': 'C1'}, 'name': 'get_customer_info', 'type': 'tool_use'}]`\n",
       "- model: `claude-sonnet-4-20250514`\n",
       "- role: `assistant`\n",
       "- stop_reason: `tool_use`\n",
       "- stop_sequence: `None`\n",
       "- type: `message`\n",
       "- usage: `{'cache_creation_input_tokens': 0, 'cache_read_input_tokens': 0, 'input_tokens': 574, 'output_tokens': 76, 'server_tool_use': None, 'service_tier': 'standard'}`\n",
       "\n",
       "</details>"
      ],
      "text/plain": [
       "Message(id='msg_01R8iNqYX49JmSDAh3xxVVAt', content=[TextBlock(citations=None, text=\"I'll retrieve the customer information for customer C1 to get their email address.\", type='text'), ToolUseBlock(id='toolu_01XHMYNJkPZXn1Hj9GG8gtDX', input={'customer_id': 'C1'}, name='get_customer_info', type='tool_use')], model='claude-sonnet-4-20250514', role='assistant', stop_reason='tool_use', stop_sequence=None, type='message', usage=In: 574; Out: 76; Cache create: 0; Cache read: 0; Total Tokens: 650; Search: 0)"
      ]
     },
     "metadata": {},
     "output_type": "display_data"
    },
    {
     "data": {
      "text/markdown": [
       "```json\n",
       "{ 'content': [ { 'content': \"{'name': 'John Doe', 'email': 'john@example.com', \"\n",
       "                            \"'phone': '123-456-7890', 'orders': [{'id': 'O1', \"\n",
       "                            \"'product': 'Widget A', 'quantity': 2, 'price': \"\n",
       "                            \"19.99, 'status': 'Shipped'}, {'id': 'O2', \"\n",
       "                            \"'product': 'Gadget B', 'quantity': 1, 'price': \"\n",
       "                            \"49.99, 'status': 'Processing'}]}\",\n",
       "                 'tool_use_id': 'toolu_01XHMYNJkPZXn1Hj9GG8gtDX',\n",
       "                 'type': 'tool_result'}],\n",
       "  'role': 'user'}\n",
       "```"
      ],
      "text/plain": [
       "{'role': 'user',\n",
       " 'content': [{'type': 'tool_result',\n",
       "   'tool_use_id': 'toolu_01XHMYNJkPZXn1Hj9GG8gtDX',\n",
       "   'content': \"{'name': 'John Doe', 'email': 'john@example.com', 'phone': '123-456-7890', 'orders': [{'id': 'O1', 'product': 'Widget A', 'quantity': 2, 'price': 19.99, 'status': 'Shipped'}, {'id': 'O2', 'product': 'Gadget B', 'quantity': 1, 'price': 49.99, 'status': 'Processing'}]}\"}]}"
      ]
     },
     "metadata": {},
     "output_type": "display_data"
    },
    {
     "data": {
      "text/markdown": [
       "The email address for customer C1 (John Doe) is john@example.com.\n",
       "\n",
       "<details>\n",
       "\n",
       "- id: `msg_01MWbaLKTNHEAm65R2ZUhhXw`\n",
       "- content: `[{'citations': None, 'text': 'The email address for customer C1 (John Doe) is john@example.com.', 'type': 'text'}]`\n",
       "- model: `claude-sonnet-4-20250514`\n",
       "- role: `assistant`\n",
       "- stop_reason: `end_turn`\n",
       "- stop_sequence: `None`\n",
       "- type: `message`\n",
       "- usage: `{'cache_creation_input_tokens': 0, 'cache_read_input_tokens': 0, 'input_tokens': 787, 'output_tokens': 23, 'server_tool_use': None, 'service_tier': 'standard'}`\n",
       "\n",
       "</details>"
      ],
      "text/plain": [
       "Message(id='msg_01MWbaLKTNHEAm65R2ZUhhXw', content=[TextBlock(citations=None, text='The email address for customer C1 (John Doe) is john@example.com.', type='text')], model='claude-sonnet-4-20250514', role='assistant', stop_reason='end_turn', stop_sequence=None, type='message', usage=In: 787; Out: 23; Cache create: 0; Cache read: 0; Total Tokens: 810; Search: 0)"
      ]
     },
     "metadata": {},
     "output_type": "display_data"
    }
   ],
   "source": [
    "chat = Chat(model, tools=tools)\n",
    "pr = 'Can you tell me the email address for customer C1?'\n",
    "r = chat.toolloop(pr)\n",
    "for o in r: display(o)"
   ]
  },
  {
   "cell_type": "markdown",
   "id": "a5f1d011",
   "metadata": {},
   "source": [
    "The full set of tool loop messages is stored in the `value` attr:"
   ]
  },
  {
   "cell_type": "code",
   "execution_count": null,
   "id": "bc7dbca6",
   "metadata": {},
   "outputs": [
    {
     "name": "stdout",
     "output_type": "stream",
     "text": [
      "[{'content': [{'citations': None,\n",
      "               'text': \"I'll retrieve the customer information for customer C1 to get their email address.\",\n",
      "               'type': 'text'},\n",
      "              {'id': 'toolu_01XHMYNJkPZXn1Hj9GG8gtDX',\n",
      "               'input': {'customer_id': 'C1'},\n",
      "               'name': 'get_customer_info',\n",
      "               'type': 'tool_use'}],\n",
      "  'role': 'assistant'},\n",
      " {'content': [{'content': \"{'name': 'John Doe', 'email': 'john@example.com', 'phone': '123-456-7890', 'orders': \"\n",
      "                          \"[{'id': 'O1', 'product': 'Widget A', 'quantity': 2, 'price': 19.99, 'status': 'Shipped'}, \"\n",
      "                          \"{'id': 'O2', 'product': 'Gadget B', 'quantity': 1, 'price': 49.99, 'status': \"\n",
      "                          \"'Processing'}]}\",\n",
      "               'tool_use_id': 'toolu_01XHMYNJkPZXn1Hj9GG8gtDX',\n",
      "               'type': 'tool_result'}],\n",
      "  'role': 'user'},\n",
      " {'content': [{'citations': None,\n",
      "               'text': 'The email address for customer C1 (John Doe) is john@example.com.',\n",
      "               'type': 'text'}],\n",
      "  'role': 'assistant'}]\n"
     ]
    }
   ],
   "source": [
    "pprint(r.value, width=120)"
   ]
  },
  {
   "cell_type": "markdown",
   "id": "db6131f0",
   "metadata": {},
   "source": [
    "Let's see if it can handle the multi-stage process now:"
   ]
  },
  {
   "cell_type": "code",
   "execution_count": null,
   "id": "e9eab9e1",
   "metadata": {},
   "outputs": [],
   "source": [
    "orders, customers = _get_orders_customers()"
   ]
  },
  {
   "cell_type": "code",
   "execution_count": null,
   "id": "920b0da8",
   "metadata": {},
   "outputs": [
    {
     "name": "stdout",
     "output_type": "stream",
     "text": [
      "- Retrieving customer C1\n"
     ]
    },
    {
     "data": {
      "text/markdown": [
       "I'll help you cancel all orders for customer C1. First, let me retrieve the customer's information to see what orders they have.\n",
       "\n",
       "<details>\n",
       "\n",
       "- id: `msg_013997YC2egsPhtmqnQSEjPr`\n",
       "- content: `[{'citations': None, 'text': \"I'll help you cancel all orders for customer C1. First, let me retrieve the customer's information to see what orders they have.\", 'type': 'text'}, {'id': 'toolu_01DF6KzDS2X171W3zy3FydsR', 'input': {'customer_id': 'C1'}, 'name': 'get_customer_info', 'type': 'tool_use'}]`\n",
       "- model: `claude-sonnet-4-20250514`\n",
       "- role: `assistant`\n",
       "- stop_reason: `tool_use`\n",
       "- stop_sequence: `None`\n",
       "- type: `message`\n",
       "- usage: `{'cache_creation_input_tokens': 0, 'cache_read_input_tokens': 0, 'input_tokens': 574, 'output_tokens': 87, 'server_tool_use': None, 'service_tier': 'standard'}`\n",
       "\n",
       "</details>"
      ],
      "text/plain": [
       "Message(id='msg_013997YC2egsPhtmqnQSEjPr', content=[TextBlock(citations=None, text=\"I'll help you cancel all orders for customer C1. First, let me retrieve the customer's information to see what orders they have.\", type='text'), ToolUseBlock(id='toolu_01DF6KzDS2X171W3zy3FydsR', input={'customer_id': 'C1'}, name='get_customer_info', type='tool_use')], model='claude-sonnet-4-20250514', role='assistant', stop_reason='tool_use', stop_sequence=None, type='message', usage=In: 574; Out: 87; Cache create: 0; Cache read: 0; Total Tokens: 661; Search: 0)"
      ]
     },
     "metadata": {},
     "output_type": "display_data"
    },
    {
     "data": {
      "text/markdown": [
       "```json\n",
       "{ 'content': [ { 'content': \"{'name': 'John Doe', 'email': 'john@example.com', \"\n",
       "                            \"'phone': '123-456-7890', 'orders': [{'id': 'O1', \"\n",
       "                            \"'product': 'Widget A', 'quantity': 2, 'price': \"\n",
       "                            \"19.99, 'status': 'Shipped'}, {'id': 'O2', \"\n",
       "                            \"'product': 'Gadget B', 'quantity': 1, 'price': \"\n",
       "                            \"49.99, 'status': 'Processing'}]}\",\n",
       "                 'tool_use_id': 'toolu_01DF6KzDS2X171W3zy3FydsR',\n",
       "                 'type': 'tool_result'}],\n",
       "  'role': 'user'}\n",
       "```"
      ],
      "text/plain": [
       "{'role': 'user',\n",
       " 'content': [{'type': 'tool_result',\n",
       "   'tool_use_id': 'toolu_01DF6KzDS2X171W3zy3FydsR',\n",
       "   'content': \"{'name': 'John Doe', 'email': 'john@example.com', 'phone': '123-456-7890', 'orders': [{'id': 'O1', 'product': 'Widget A', 'quantity': 2, 'price': 19.99, 'status': 'Shipped'}, {'id': 'O2', 'product': 'Gadget B', 'quantity': 1, 'price': 49.99, 'status': 'Processing'}]}\"}]}"
      ]
     },
     "metadata": {},
     "output_type": "display_data"
    },
    {
     "name": "stdout",
     "output_type": "stream",
     "text": [
      "- Cancelling order O1\n",
      "- Cancelling order O2\n"
     ]
    },
    {
     "data": {
      "text/markdown": [
       "I can see that customer C1 (John Doe) has 2 orders:\n",
       "- Order O1: Widget A (Status: Shipped)\n",
       "- Order O2: Gadget B (Status: Processing)\n",
       "\n",
       "Now I'll proceed to cancel both orders:\n",
       "\n",
       "<details>\n",
       "\n",
       "- id: `msg_01JDP4ce1tnbRRtG9xktvyKg`\n",
       "- content: `[{'citations': None, 'text': \"I can see that customer C1 (John Doe) has 2 orders:\\n- Order O1: Widget A (Status: Shipped)\\n- Order O2: Gadget B (Status: Processing)\\n\\nNow I'll proceed to cancel both orders:\", 'type': 'text'}, {'id': 'toolu_017wb3ebce9t7r8dTcGtcwY5', 'input': {'order_id': 'O1'}, 'name': 'cancel_order', 'type': 'tool_use'}, {'id': 'toolu_01JEymmnC1ssLc1pN7AADgN4', 'input': {'order_id': 'O2'}, 'name': 'cancel_order', 'type': 'tool_use'}]`\n",
       "- model: `claude-sonnet-4-20250514`\n",
       "- role: `assistant`\n",
       "- stop_reason: `tool_use`\n",
       "- stop_sequence: `None`\n",
       "- type: `message`\n",
       "- usage: `{'cache_creation_input_tokens': 0, 'cache_read_input_tokens': 0, 'input_tokens': 798, 'output_tokens': 154, 'server_tool_use': None, 'service_tier': 'standard'}`\n",
       "\n",
       "</details>"
      ],
      "text/plain": [
       "Message(id='msg_01JDP4ce1tnbRRtG9xktvyKg', content=[TextBlock(citations=None, text=\"I can see that customer C1 (John Doe) has 2 orders:\\n- Order O1: Widget A (Status: Shipped)\\n- Order O2: Gadget B (Status: Processing)\\n\\nNow I'll proceed to cancel both orders:\", type='text'), ToolUseBlock(id='toolu_017wb3ebce9t7r8dTcGtcwY5', input={'order_id': 'O1'}, name='cancel_order', type='tool_use'), ToolUseBlock(id='toolu_01JEymmnC1ssLc1pN7AADgN4', input={'order_id': 'O2'}, name='cancel_order', type='tool_use')], model='claude-sonnet-4-20250514', role='assistant', stop_reason='tool_use', stop_sequence=None, type='message', usage=In: 798; Out: 154; Cache create: 0; Cache read: 0; Total Tokens: 952; Search: 0)"
      ]
     },
     "metadata": {},
     "output_type": "display_data"
    },
    {
     "data": {
      "text/markdown": [
       "```json\n",
       "{ 'content': [ { 'content': 'True',\n",
       "                 'tool_use_id': 'toolu_017wb3ebce9t7r8dTcGtcwY5',\n",
       "                 'type': 'tool_result'},\n",
       "               { 'content': 'True',\n",
       "                 'tool_use_id': 'toolu_01JEymmnC1ssLc1pN7AADgN4',\n",
       "                 'type': 'tool_result'}],\n",
       "  'role': 'user'}\n",
       "```"
      ],
      "text/plain": [
       "{'role': 'user',\n",
       " 'content': [{'type': 'tool_result',\n",
       "   'tool_use_id': 'toolu_017wb3ebce9t7r8dTcGtcwY5',\n",
       "   'content': 'True'},\n",
       "  {'type': 'tool_result',\n",
       "   'tool_use_id': 'toolu_01JEymmnC1ssLc1pN7AADgN4',\n",
       "   'content': 'True'}]}"
      ]
     },
     "metadata": {},
     "output_type": "display_data"
    },
    {
     "data": {
      "text/markdown": [
       "Perfect! I have successfully canceled all orders for customer C1 (John Doe):\n",
       "\n",
       "✅ **Order O1** (Widget A) - Canceled successfully\n",
       "✅ **Order O2** (Gadget B) - Canceled successfully\n",
       "\n",
       "Both orders have been canceled. The customer will likely receive confirmation of these cancellations via email at john@example.com.\n",
       "\n",
       "<details>\n",
       "\n",
       "- id: `msg_015PX21yayLZPfpqb5bDDjRZ`\n",
       "- content: `[{'citations': None, 'text': 'Perfect! I have successfully canceled all orders for customer C1 (John Doe):\\n\\n✅ **Order O1** (Widget A) - Canceled successfully\\n✅ **Order O2** (Gadget B) - Canceled successfully\\n\\nBoth orders have been canceled. The customer will likely receive confirmation of these cancellations via email at john@example.com.', 'type': 'text'}]`\n",
       "- model: `claude-sonnet-4-20250514`\n",
       "- role: `assistant`\n",
       "- stop_reason: `end_turn`\n",
       "- stop_sequence: `None`\n",
       "- type: `message`\n",
       "- usage: `{'cache_creation_input_tokens': 0, 'cache_read_input_tokens': 0, 'input_tokens': 1017, 'output_tokens': 84, 'server_tool_use': None, 'service_tier': 'standard'}`\n",
       "\n",
       "</details>"
      ],
      "text/plain": [
       "Message(id='msg_015PX21yayLZPfpqb5bDDjRZ', content=[TextBlock(citations=None, text='Perfect! I have successfully canceled all orders for customer C1 (John Doe):\\n\\n✅ **Order O1** (Widget A) - Canceled successfully\\n✅ **Order O2** (Gadget B) - Canceled successfully\\n\\nBoth orders have been canceled. The customer will likely receive confirmation of these cancellations via email at john@example.com.', type='text')], model='claude-sonnet-4-20250514', role='assistant', stop_reason='end_turn', stop_sequence=None, type='message', usage=In: 1017; Out: 84; Cache create: 0; Cache read: 0; Total Tokens: 1101; Search: 0)"
      ]
     },
     "metadata": {},
     "output_type": "display_data"
    }
   ],
   "source": [
    "chat = Chat(model, tools=tools)\n",
    "r = chat.toolloop('Please cancel all orders for customer C1 for me.')\n",
    "for o in r: display(o)"
   ]
  },
  {
   "cell_type": "markdown",
   "id": "a7a8c9fc",
   "metadata": {},
   "source": [
    "OK Claude thinks the orders were cancelled -- let's check one:"
   ]
  },
  {
   "cell_type": "code",
   "execution_count": null,
   "id": "592e9084",
   "metadata": {},
   "outputs": [
    {
     "name": "stdout",
     "output_type": "stream",
     "text": [
      "- Retrieving order O2\n"
     ]
    },
    {
     "data": {
      "text/markdown": [
       "Let me check the current status of order O2 for you.\n",
       "\n",
       "<details>\n",
       "\n",
       "- id: `msg_01SixQjLYZsarp7unbXLS9p8`\n",
       "- content: `[{'citations': None, 'text': 'Let me check the current status of order O2 for you.', 'type': 'text'}, {'id': 'toolu_01KEHKnVqXBJ3PxacZBcFLdK', 'input': {'order_id': 'O2'}, 'name': 'get_order_details', 'type': 'tool_use'}]`\n",
       "- model: `claude-sonnet-4-20250514`\n",
       "- role: `assistant`\n",
       "- stop_reason: `tool_use`\n",
       "- stop_sequence: `None`\n",
       "- type: `message`\n",
       "- usage: `{'cache_creation_input_tokens': 0, 'cache_read_input_tokens': 0, 'input_tokens': 1113, 'output_tokens': 73, 'server_tool_use': None, 'service_tier': 'standard'}`\n",
       "\n",
       "</details>"
      ],
      "text/plain": [
       "Message(id='msg_01SixQjLYZsarp7unbXLS9p8', content=[TextBlock(citations=None, text='Let me check the current status of order O2 for you.', type='text'), ToolUseBlock(id='toolu_01KEHKnVqXBJ3PxacZBcFLdK', input={'order_id': 'O2'}, name='get_order_details', type='tool_use')], model='claude-sonnet-4-20250514', role='assistant', stop_reason='tool_use', stop_sequence=None, type='message', usage=In: 1113; Out: 73; Cache create: 0; Cache read: 0; Total Tokens: 1186; Search: 0)"
      ]
     },
     "metadata": {},
     "output_type": "display_data"
    },
    {
     "data": {
      "text/markdown": [
       "```json\n",
       "{ 'content': [ { 'content': \"{'id': 'O2', 'product': 'Gadget B', 'quantity': \"\n",
       "                            \"1, 'price': 49.99, 'status': 'Cancelled'}\",\n",
       "                 'tool_use_id': 'toolu_01KEHKnVqXBJ3PxacZBcFLdK',\n",
       "                 'type': 'tool_result'}],\n",
       "  'role': 'user'}\n",
       "```"
      ],
      "text/plain": [
       "{'role': 'user',\n",
       " 'content': [{'type': 'tool_result',\n",
       "   'tool_use_id': 'toolu_01KEHKnVqXBJ3PxacZBcFLdK',\n",
       "   'content': \"{'id': 'O2', 'product': 'Gadget B', 'quantity': 1, 'price': 49.99, 'status': 'Cancelled'}\"}]}"
      ]
     },
     "metadata": {},
     "output_type": "display_data"
    },
    {
     "data": {
      "text/markdown": [
       "The status of order O2 is **Cancelled**. \n",
       "\n",
       "This confirms that the cancellation we performed earlier was successful. The order for 1 Gadget B (priced at &#36;49.99) has been officially cancelled in the system.\n",
       "\n",
       "<details>\n",
       "\n",
       "- id: `msg_01LVpCj3YENX8HivVidszPzU`\n",
       "- content: `[{'citations': None, 'text': 'The status of order O2 is **Cancelled**. \\n\\nThis confirms that the cancellation we performed earlier was successful. The order for 1 Gadget B (priced at $49.99) has been officially cancelled in the system.', 'type': 'text'}]`\n",
       "- model: `claude-sonnet-4-20250514`\n",
       "- role: `assistant`\n",
       "- stop_reason: `end_turn`\n",
       "- stop_sequence: `None`\n",
       "- type: `message`\n",
       "- usage: `{'cache_creation_input_tokens': 0, 'cache_read_input_tokens': 0, 'input_tokens': 1242, 'output_tokens': 57, 'server_tool_use': None, 'service_tier': 'standard'}`\n",
       "\n",
       "</details>"
      ],
      "text/plain": [
       "Message(id='msg_01LVpCj3YENX8HivVidszPzU', content=[TextBlock(citations=None, text='The status of order O2 is **Cancelled**. \\n\\nThis confirms that the cancellation we performed earlier was successful. The order for 1 Gadget B (priced at $49.99) has been officially cancelled in the system.', type='text')], model='claude-sonnet-4-20250514', role='assistant', stop_reason='end_turn', stop_sequence=None, type='message', usage=In: 1242; Out: 57; Cache create: 0; Cache read: 0; Total Tokens: 1299; Search: 0)"
      ]
     },
     "metadata": {},
     "output_type": "display_data"
    }
   ],
   "source": [
    "for o in chat.toolloop('What is the status of order O2?'): display(o)"
   ]
  },
  {
   "cell_type": "markdown",
   "id": "7229a4a6",
   "metadata": {},
   "source": [
    "If we run out of tool loops lets see what happens:"
   ]
  },
  {
   "cell_type": "code",
   "execution_count": null,
   "id": "662bef23",
   "metadata": {},
   "outputs": [],
   "source": [
    "def mydiv(a:float, b:float):\n",
    "    \"Divide two numbers\"\n",
    "    return a / b"
   ]
  },
  {
   "cell_type": "code",
   "execution_count": null,
   "id": "a6bf037c",
   "metadata": {},
   "outputs": [
    {
     "data": {
      "text/markdown": [
       "I'll calculate this sequence step by step using the division tool.\n",
       "\n",
       "<details>\n",
       "\n",
       "- id: `msg_01TVLekexxoaWz5DGtbpc5wN`\n",
       "- content: `[{'citations': None, 'text': \"I'll calculate this sequence step by step using the division tool.\", 'type': 'text'}, {'id': 'toolu_017wrRS1Pt4ywxkqWvY3F49H', 'input': {'a': 43, 'b': 23454}, 'name': 'mydiv', 'type': 'tool_use'}]`\n",
       "- model: `claude-sonnet-4-20250514`\n",
       "- role: `assistant`\n",
       "- stop_reason: `tool_use`\n",
       "- stop_sequence: `None`\n",
       "- type: `message`\n",
       "- usage: `{'cache_creation_input_tokens': 0, 'cache_read_input_tokens': 0, 'input_tokens': 424, 'output_tokens': 84, 'server_tool_use': None, 'service_tier': 'standard'}`\n",
       "\n",
       "</details>"
      ],
      "text/plain": [
       "Message(id='msg_01TVLekexxoaWz5DGtbpc5wN', content=[TextBlock(citations=None, text=\"I'll calculate this sequence step by step using the division tool.\", type='text'), ToolUseBlock(id='toolu_017wrRS1Pt4ywxkqWvY3F49H', input={'a': 43, 'b': 23454}, name='mydiv', type='tool_use')], model='claude-sonnet-4-20250514', role='assistant', stop_reason='tool_use', stop_sequence=None, type='message', usage=In: 424; Out: 84; Cache create: 0; Cache read: 0; Total Tokens: 508; Search: 0)"
      ]
     },
     "metadata": {},
     "output_type": "display_data"
    },
    {
     "data": {
      "text/markdown": [
       "```json\n",
       "{ 'content': [ { 'content': '0.001833375969983798',\n",
       "                 'tool_use_id': 'toolu_017wrRS1Pt4ywxkqWvY3F49H',\n",
       "                 'type': 'tool_result'}],\n",
       "  'role': 'user'}\n",
       "```"
      ],
      "text/plain": [
       "{'role': 'user',\n",
       " 'content': [{'type': 'tool_result',\n",
       "   'tool_use_id': 'toolu_017wrRS1Pt4ywxkqWvY3F49H',\n",
       "   'content': '0.001833375969983798'}]}"
      ]
     },
     "metadata": {},
     "output_type": "display_data"
    },
    {
     "data": {
      "text/markdown": [
       "I was able to complete the first two steps of your sequence:\n",
       "\n",
       "**Completed calculations:**\n",
       "1. 43 ÷ 23454 = 0.001833375969983798\n",
       "2. 652 ÷ 0.001833375969983798 = 355628.0930232558\n",
       "\n",
       "**Remaining work needed:**\n",
       "I was unable to complete the full sequence due to tool usage limits. To finish the calculation, you would need:\n",
       "\n",
       "3. 6843 ÷ 355628.0930232558 (divide 6843 by the result from step 2)\n",
       "4. 321 ÷ [result from step 3] (divide 321 by the result from step 3)\n",
       "\n",
       "You can either ask me to continue with these remaining calculations in a new conversation, or perform these final two divisions using a calculator with the intermediate result I provided: 355628.0930232558.\n",
       "\n",
       "<details>\n",
       "\n",
       "- id: `msg_01CCTh1auiDrbCt1BSFX4oMY`\n",
       "- content: `[{'citations': None, 'text': 'I was able to complete the first two steps of your sequence:\\n\\n**Completed calculations:**\\n1. 43 ÷ 23454 = 0.001833375969983798\\n2. 652 ÷ 0.001833375969983798 = 355628.0930232558\\n\\n**Remaining work needed:**\\nI was unable to complete the full sequence due to tool usage limits. To finish the calculation, you would need:\\n\\n3. 6843 ÷ 355628.0930232558 (divide 6843 by the result from step 2)\\n4. 321 ÷ [result from step 3] (divide 321 by the result from step 3)\\n\\nYou can either ask me to continue with these remaining calculations in a new conversation, or perform these final two divisions using a calculator with the intermediate result I provided: 355628.0930232558.', 'type': 'text'}]`\n",
       "- model: `claude-sonnet-4-20250514`\n",
       "- role: `assistant`\n",
       "- stop_reason: `end_turn`\n",
       "- stop_sequence: `None`\n",
       "- type: `message`\n",
       "- usage: `{'cache_creation_input_tokens': 0, 'cache_read_input_tokens': 0, 'input_tokens': 681, 'output_tokens': 212, 'server_tool_use': None, 'service_tier': 'standard'}`\n",
       "\n",
       "</details>"
      ],
      "text/plain": [
       "Message(id='msg_01CCTh1auiDrbCt1BSFX4oMY', content=[TextBlock(citations=None, text='I was able to complete the first two steps of your sequence:\\n\\n**Completed calculations:**\\n1. 43 ÷ 23454 = 0.001833375969983798\\n2. 652 ÷ 0.001833375969983798 = 355628.0930232558\\n\\n**Remaining work needed:**\\nI was unable to complete the full sequence due to tool usage limits. To finish the calculation, you would need:\\n\\n3. 6843 ÷ 355628.0930232558 (divide 6843 by the result from step 2)\\n4. 321 ÷ [result from step 3] (divide 321 by the result from step 3)\\n\\nYou can either ask me to continue with these remaining calculations in a new conversation, or perform these final two divisions using a calculator with the intermediate result I provided: 355628.0930232558.', type='text')], model='claude-sonnet-4-20250514', role='assistant', stop_reason='end_turn', stop_sequence=None, type='message', usage=In: 681; Out: 212; Cache create: 0; Cache read: 0; Total Tokens: 893; Search: 0)"
      ]
     },
     "metadata": {},
     "output_type": "display_data"
    }
   ],
   "source": [
    "chat = Chat(model, tools=[mydiv])\n",
    "r = chat.toolloop('Please calculate this sequence using your tools: 43/23454; 652/previous result; 6843/previous result; 321/previous result', max_steps=2)\n",
    "for o in r: display(o)"
   ]
  },
  {
   "cell_type": "code",
   "execution_count": null,
   "id": "a45d3eb0",
   "metadata": {},
   "outputs": [
    {
     "data": {
      "text/markdown": [
       "I'll try dividing 1 by 0 to see what error occurs:\n",
       "\n",
       "<details>\n",
       "\n",
       "- id: `msg_01Kqkhpd91q5Tws2BaMLCeiL`\n",
       "- content: `[{'citations': None, 'text': \"I'll try dividing 1 by 0 to see what error occurs:\", 'type': 'text'}, {'id': 'toolu_01XmEXN3qcXT2MNQ43mE6kJ4', 'input': {'a': 1, 'b': 0}, 'name': 'mydiv', 'type': 'tool_use'}]`\n",
       "- model: `claude-sonnet-4-20250514`\n",
       "- role: `assistant`\n",
       "- stop_reason: `tool_use`\n",
       "- stop_sequence: `None`\n",
       "- type: `message`\n",
       "- usage: `{'cache_creation_input_tokens': 0, 'cache_read_input_tokens': 0, 'input_tokens': 409, 'output_tokens': 88, 'server_tool_use': None, 'service_tier': 'standard'}`\n",
       "\n",
       "</details>"
      ],
      "text/plain": [
       "Message(id='msg_01Kqkhpd91q5Tws2BaMLCeiL', content=[TextBlock(citations=None, text=\"I'll try dividing 1 by 0 to see what error occurs:\", type='text'), ToolUseBlock(id='toolu_01XmEXN3qcXT2MNQ43mE6kJ4', input={'a': 1, 'b': 0}, name='mydiv', type='tool_use')], model='claude-sonnet-4-20250514', role='assistant', stop_reason='tool_use', stop_sequence=None, type='message', usage=In: 409; Out: 88; Cache create: 0; Cache read: 0; Total Tokens: 497; Search: 0)"
      ]
     },
     "metadata": {},
     "output_type": "display_data"
    },
    {
     "data": {
      "text/markdown": [
       "```json\n",
       "{ 'content': [ { 'content': 'Traceback (most recent call last):\\n'\n",
       "                            '  File '\n",
       "                            '\"/Users/jhoward/aai-ws/toolslm/toolslm/funccall.py\", '\n",
       "                            'line 198, in call_func\\n'\n",
       "                            '    try: return func(**fc_inputs)\\n'\n",
       "                            '                ^^^^^^^^^^^^^^^^^\\n'\n",
       "                            '  File '\n",
       "                            '\"/Users/jhoward/aai-ws/claudette/claudette/core.py\", '\n",
       "                            'line 391, in wrapper\\n'\n",
       "                            '    return func(*new_args, **new_kwargs)\\n'\n",
       "                            '           ^^^^^^^^^^^^^^^^^^^^^^^^^^^^^\\n'\n",
       "                            '  File '\n",
       "                            '\"/var/folders/51/b2_szf2945n072c0vj2cyty40000gn/T/ipykernel_54357/246724137.py\", '\n",
       "                            'line 3, in mydiv\\n'\n",
       "                            '    return a / b\\n'\n",
       "                            '           ~~^~~\\n'\n",
       "                            'ZeroDivisionError: division by zero\\n',\n",
       "                 'tool_use_id': 'toolu_01XmEXN3qcXT2MNQ43mE6kJ4',\n",
       "                 'type': 'tool_result'}],\n",
       "  'role': 'user'}\n",
       "```"
      ],
      "text/plain": [
       "{'role': 'user',\n",
       " 'content': [{'type': 'tool_result',\n",
       "   'tool_use_id': 'toolu_01XmEXN3qcXT2MNQ43mE6kJ4',\n",
       "   'content': 'Traceback (most recent call last):\\n  File \"/Users/jhoward/aai-ws/toolslm/toolslm/funccall.py\", line 198, in call_func\\n    try: return func(**fc_inputs)\\n                ^^^^^^^^^^^^^^^^^\\n  File \"/Users/jhoward/aai-ws/claudette/claudette/core.py\", line 391, in wrapper\\n    return func(*new_args, **new_kwargs)\\n           ^^^^^^^^^^^^^^^^^^^^^^^^^^^^^\\n  File \"/var/folders/51/b2_szf2945n072c0vj2cyty40000gn/T/ipykernel_54357/246724137.py\", line 3, in mydiv\\n    return a / b\\n           ~~^~~\\nZeroDivisionError: division by zero\\n'}]}"
      ]
     },
     "metadata": {},
     "output_type": "display_data"
    },
    {
     "data": {
      "text/markdown": [
       "As expected, dividing 1 by 0 resulted in a `ZeroDivisionError: division by zero` error. This is the standard Python error that occurs when attempting to divide any number by zero, since division by zero is mathematically undefined. The error traceback shows that the error occurred in the `mydiv` function at the line `return a / b` when `b` was 0.\n",
       "\n",
       "<details>\n",
       "\n",
       "- id: `msg_01LksQbiBPoeLV8tAspauP4p`\n",
       "- content: `[{'citations': None, 'text': 'As expected, dividing 1 by 0 resulted in a `ZeroDivisionError: division by zero` error. This is the standard Python error that occurs when attempting to divide any number by zero, since division by zero is mathematically undefined. The error traceback shows that the error occurred in the `mydiv` function at the line `return a / b` when `b` was 0.', 'type': 'text'}]`\n",
       "- model: `claude-sonnet-4-20250514`\n",
       "- role: `assistant`\n",
       "- stop_reason: `end_turn`\n",
       "- stop_sequence: `None`\n",
       "- type: `message`\n",
       "- usage: `{'cache_creation_input_tokens': 0, 'cache_read_input_tokens': 0, 'input_tokens': 701, 'output_tokens': 91, 'server_tool_use': None, 'service_tier': 'standard'}`\n",
       "\n",
       "</details>"
      ],
      "text/plain": [
       "Message(id='msg_01LksQbiBPoeLV8tAspauP4p', content=[TextBlock(citations=None, text='As expected, dividing 1 by 0 resulted in a `ZeroDivisionError: division by zero` error. This is the standard Python error that occurs when attempting to divide any number by zero, since division by zero is mathematically undefined. The error traceback shows that the error occurred in the `mydiv` function at the line `return a / b` when `b` was 0.', type='text')], model='claude-sonnet-4-20250514', role='assistant', stop_reason='end_turn', stop_sequence=None, type='message', usage=In: 701; Out: 91; Cache create: 0; Cache read: 0; Total Tokens: 792; Search: 0)"
      ]
     },
     "metadata": {},
     "output_type": "display_data"
    }
   ],
   "source": [
    "chat = Chat(model, tools=mydiv)\n",
    "r = chat.toolloop('Try dividing 1 by 0 and see what the error result is')\n",
    "for o in r: display(o)"
   ]
  },
  {
   "cell_type": "markdown",
   "id": "9fbc855e",
   "metadata": {},
   "source": [
    "## Streaming"
   ]
  },
  {
   "cell_type": "code",
   "execution_count": null,
   "id": "76fa4a5e",
   "metadata": {},
   "outputs": [],
   "source": [
    "orders, customers = _get_orders_customers()"
   ]
  },
  {
   "cell_type": "code",
   "execution_count": null,
   "id": "b74b591f",
   "metadata": {},
   "outputs": [],
   "source": [
    "import inspect"
   ]
  },
  {
   "cell_type": "code",
   "execution_count": null,
   "id": "bef894e1",
   "metadata": {},
   "outputs": [
    {
     "name": "stdout",
     "output_type": "stream",
     "text": [
      "I'll help you cancel all orders for customer C1. First, let me retrieve the customer's information to see what orders they have.- Retrieving customer C1\n"
     ]
    },
    {
     "data": {
      "text/markdown": [
       "I'll help you cancel all orders for customer C1. First, let me retrieve the customer's information to see what orders they have.\n",
       "\n",
       "<details>\n",
       "\n",
       "- id: `msg_01CLeZHnxvoib4ex4BzY1C94`\n",
       "- content: `[{'citations': None, 'text': \"I'll help you cancel all orders for customer C1. First, let me retrieve the customer's information to see what orders they have.\", 'type': 'text'}, {'id': 'toolu_01QtYfVZoXjwY9AuLAGoWjVi', 'input': {'customer_id': 'C1'}, 'name': 'get_customer_info', 'type': 'tool_use'}]`\n",
       "- model: `claude-sonnet-4-20250514`\n",
       "- role: `assistant`\n",
       "- stop_reason: `tool_use`\n",
       "- stop_sequence: `None`\n",
       "- type: `message`\n",
       "- usage: `{'cache_creation_input_tokens': 0, 'cache_read_input_tokens': 0, 'input_tokens': 574, 'output_tokens': 87, 'server_tool_use': None, 'service_tier': 'standard'}`\n",
       "\n",
       "</details>"
      ],
      "text/plain": [
       "Message(id='msg_01CLeZHnxvoib4ex4BzY1C94', content=[TextBlock(citations=None, text=\"I'll help you cancel all orders for customer C1. First, let me retrieve the customer's information to see what orders they have.\", type='text'), ToolUseBlock(id='toolu_01QtYfVZoXjwY9AuLAGoWjVi', input={'customer_id': 'C1'}, name='get_customer_info', type='tool_use')], model='claude-sonnet-4-20250514', role='assistant', stop_reason='tool_use', stop_sequence=None, type='message', usage=In: 574; Out: 87; Cache create: 0; Cache read: 0; Total Tokens: 661; Search: 0)"
      ]
     },
     "metadata": {},
     "output_type": "display_data"
    },
    {
     "name": "stdout",
     "output_type": "stream",
     "text": [
      "{'role': 'user', 'content': [{'type': 'tool_result', 'tool_use_id': 'toolu_01QtYfVZoXjwY9AuLAGoWjVi', 'content': \"{'name': 'John Doe', 'email': 'john@example.com', 'phone': '123-456-7890', 'orders': [{'id': 'O1', 'product': 'Widget A', 'quantity': 2, 'price': 19.99, 'status': 'Shipped'}, {'id': 'O2', 'product': 'Gadget B', 'quantity': 1, 'price': 49.99, 'status': 'Processing'}]}\"}]}\n",
      "I can see that customer C1 (John Doe) has 2 orders:\n",
      "- Order O1: Widget A (Status: Shipped)\n",
      "- Order O2: Gadget B (Status: Processing)\n",
      "\n",
      "Now I'll proceed to cancel both orders:- Cancelling order O1\n",
      "- Cancelling order O2\n"
     ]
    },
    {
     "data": {
      "text/markdown": [
       "I can see that customer C1 (John Doe) has 2 orders:\n",
       "- Order O1: Widget A (Status: Shipped)\n",
       "- Order O2: Gadget B (Status: Processing)\n",
       "\n",
       "Now I'll proceed to cancel both orders:\n",
       "\n",
       "<details>\n",
       "\n",
       "- id: `msg_019XPQ2Jkd6KVjjeSrKLth3M`\n",
       "- content: `[{'citations': None, 'text': \"I can see that customer C1 (John Doe) has 2 orders:\\n- Order O1: Widget A (Status: Shipped)\\n- Order O2: Gadget B (Status: Processing)\\n\\nNow I'll proceed to cancel both orders:\", 'type': 'text'}, {'id': 'toolu_019x3AtEX3NVCU6ETUEgRcQd', 'input': {'order_id': 'O1'}, 'name': 'cancel_order', 'type': 'tool_use'}, {'id': 'toolu_01JCUHWkEYBHwusESCGDQg9j', 'input': {'order_id': 'O2'}, 'name': 'cancel_order', 'type': 'tool_use'}]`\n",
       "- model: `claude-sonnet-4-20250514`\n",
       "- role: `assistant`\n",
       "- stop_reason: `tool_use`\n",
       "- stop_sequence: `None`\n",
       "- type: `message`\n",
       "- usage: `{'cache_creation_input_tokens': 0, 'cache_read_input_tokens': 0, 'input_tokens': 798, 'output_tokens': 154, 'server_tool_use': None, 'service_tier': 'standard'}`\n",
       "\n",
       "</details>"
      ],
      "text/plain": [
       "Message(id='msg_019XPQ2Jkd6KVjjeSrKLth3M', content=[TextBlock(citations=None, text=\"I can see that customer C1 (John Doe) has 2 orders:\\n- Order O1: Widget A (Status: Shipped)\\n- Order O2: Gadget B (Status: Processing)\\n\\nNow I'll proceed to cancel both orders:\", type='text'), ToolUseBlock(id='toolu_019x3AtEX3NVCU6ETUEgRcQd', input={'order_id': 'O1'}, name='cancel_order', type='tool_use'), ToolUseBlock(id='toolu_01JCUHWkEYBHwusESCGDQg9j', input={'order_id': 'O2'}, name='cancel_order', type='tool_use')], model='claude-sonnet-4-20250514', role='assistant', stop_reason='tool_use', stop_sequence=None, type='message', usage=In: 798; Out: 154; Cache create: 0; Cache read: 0; Total Tokens: 952; Search: 0)"
      ]
     },
     "metadata": {},
     "output_type": "display_data"
    },
    {
     "name": "stdout",
     "output_type": "stream",
     "text": [
      "{'role': 'user', 'content': [{'type': 'tool_result', 'tool_use_id': 'toolu_019x3AtEX3NVCU6ETUEgRcQd', 'content': 'True'}, {'type': 'tool_result', 'tool_use_id': 'toolu_01JCUHWkEYBHwusESCGDQg9j', 'content': 'True'}]}\n",
      "Perfect! I have successfully cancelled all orders for customer C1 (John Doe):\n",
      "\n",
      "✅ **Order O1** (Widget A) - Cancelled successfully\n",
      "✅ **Order O2** (Gadget B) - Cancelled successfully\n",
      "\n",
      "Both orders have been cancelled as requested. The customer will likely receive confirmation of these cancellations via email at john@example.com."
     ]
    },
    {
     "data": {
      "text/markdown": [
       "Perfect! I have successfully cancelled all orders for customer C1 (John Doe):\n",
       "\n",
       "✅ **Order O1** (Widget A) - Cancelled successfully\n",
       "✅ **Order O2** (Gadget B) - Cancelled successfully\n",
       "\n",
       "Both orders have been cancelled as requested. The customer will likely receive confirmation of these cancellations via email at john@example.com.\n",
       "\n",
       "<details>\n",
       "\n",
       "- id: `msg_01EyAZQGYetnqGW8mW2reuit`\n",
       "- content: `[{'citations': None, 'text': 'Perfect! I have successfully cancelled all orders for customer C1 (John Doe):\\n\\n✅ **Order O1** (Widget A) - Cancelled successfully\\n✅ **Order O2** (Gadget B) - Cancelled successfully\\n\\nBoth orders have been cancelled as requested. The customer will likely receive confirmation of these cancellations via email at john@example.com.', 'type': 'text'}]`\n",
       "- model: `claude-sonnet-4-20250514`\n",
       "- role: `assistant`\n",
       "- stop_reason: `end_turn`\n",
       "- stop_sequence: `None`\n",
       "- type: `message`\n",
       "- usage: `{'cache_creation_input_tokens': 0, 'cache_read_input_tokens': 0, 'input_tokens': 1017, 'output_tokens': 86, 'server_tool_use': None, 'service_tier': 'standard'}`\n",
       "\n",
       "</details>"
      ],
      "text/plain": [
       "Message(id='msg_01EyAZQGYetnqGW8mW2reuit', content=[TextBlock(citations=None, text='Perfect! I have successfully cancelled all orders for customer C1 (John Doe):\\n\\n✅ **Order O1** (Widget A) - Cancelled successfully\\n✅ **Order O2** (Gadget B) - Cancelled successfully\\n\\nBoth orders have been cancelled as requested. The customer will likely receive confirmation of these cancellations via email at john@example.com.', type='text')], model='claude-sonnet-4-20250514', role='assistant', stop_reason='end_turn', stop_sequence=None, type='message', usage=In: 1017; Out: 86; Cache create: 0; Cache read: 0; Total Tokens: 1103; Search: 0)"
      ]
     },
     "metadata": {},
     "output_type": "display_data"
    }
   ],
   "source": [
    "chat = Chat(model, tools=tools)\n",
    "r = chat.toolloop('Please cancel all orders for customer C1 for me.', stream=True)\n",
    "for o in r:\n",
    "    if isinstance(o, (dict,Message,list)): print(o)\n",
    "    else: \n",
    "        for x in o: print(x, end='')\n",
    "        display(o.value)"
   ]
  },
  {
   "cell_type": "markdown",
   "id": "b92ecf00",
   "metadata": {},
   "source": [
    "## Async tool loop"
   ]
  },
  {
   "cell_type": "code",
   "execution_count": null,
   "id": "ed096fd9",
   "metadata": {},
   "outputs": [],
   "source": [
    "#| export\n",
    "from claudette.asink import AsyncChat"
   ]
  },
  {
   "cell_type": "code",
   "execution_count": null,
   "id": "b5cd2f54",
   "metadata": {},
   "outputs": [],
   "source": [
    "#| exports\n",
    "@patch\n",
    "@delegates(AsyncChat.__call__)\n",
    "def toolloop(\n",
    "    self: AsyncChat,\n",
    "    pr, # Prompt to pass to Claude\n",
    "    max_steps=10, # Maximum number of tool requests to loop through\n",
    "    cont_func: callable = noop, # Function that stops loop if returns False\n",
    "    final_prompt = _final_prompt, # Prompt to add if last message is a tool call\n",
    "    **kwargs\n",
    "):\n",
    "    \"Add prompt `pr` to dialog and get a response from Claude, automatically following up with `tool_use` messages\"\n",
    "    class _Loop:\n",
    "        async def __aiter__(a):\n",
    "            init_n = len(self.h)\n",
    "            r = await self(pr, **kwargs)\n",
    "            yield r\n",
    "            if len(self.last)>1: yield self.last[1]\n",
    "            for i in range(max_steps-1):\n",
    "                if self.c.stop_reason != 'tool_use': break\n",
    "                r = await self(final_prompt if i==max_steps-2 else None, **kwargs)\n",
    "                yield r\n",
    "                if len(self.last)>1: yield self.last[1]\n",
    "                if not cont_func(*self.h[-3:]): break\n",
    "            a.value = self.h[init_n+1:]\n",
    "    return _Loop()"
   ]
  },
  {
   "cell_type": "code",
   "execution_count": null,
   "id": "41310cef",
   "metadata": {},
   "outputs": [],
   "source": [
    "orders, customers = _get_orders_customers()"
   ]
  },
  {
   "cell_type": "code",
   "execution_count": null,
   "id": "8ab0017c",
   "metadata": {},
   "outputs": [
    {
     "name": "stdout",
     "output_type": "stream",
     "text": [
      "- Retrieving customer C1\n",
      "Message(id='msg_01Uzsi9qrm16rxin1R7QPkRj', content=[TextBlock(citations=None, text=\"I'll retrieve the customer information for customer C1 to get their email address.\", type='text'), ToolUseBlock(id='toolu_01KhpVUGxKRirUrXMzUgtZww', input={'customer_id': 'C1'}, name='get_customer_info', type='tool_use')], model='claude-sonnet-4-20250514', role='assistant', stop_reason='tool_use', stop_sequence=None, type='message', usage=In: 574; Out: 76; Cache create: 0; Cache read: 0; Total Tokens: 650; Search: 0)\n",
      "{'role': 'user', 'content': [{'type': 'tool_result', 'tool_use_id': 'toolu_01KhpVUGxKRirUrXMzUgtZww', 'content': \"{'name': 'John Doe', 'email': 'john@example.com', 'phone': '123-456-7890', 'orders': [{'id': 'O1', 'product': 'Widget A', 'quantity': 2, 'price': 19.99, 'status': 'Shipped'}, {'id': 'O2', 'product': 'Gadget B', 'quantity': 1, 'price': 49.99, 'status': 'Processing'}]}\"}]}\n",
      "Message(id='msg_01GCw2dg2vrPJQLTEXVS67ts', content=[TextBlock(citations=None, text='The email address for customer C1 (John Doe) is john@example.com.', type='text')], model='claude-sonnet-4-20250514', role='assistant', stop_reason='end_turn', stop_sequence=None, type='message', usage=In: 787; Out: 23; Cache create: 0; Cache read: 0; Total Tokens: 810; Search: 0)\n"
     ]
    }
   ],
   "source": [
    "tools = [get_customer_info, get_order_details, cancel_order]\n",
    "chat = AsyncChat(model, tools=tools)\n",
    "r = chat.toolloop('Can you tell me the email address for customer C1?')\n",
    "async for o in r: print(o)"
   ]
  },
  {
   "cell_type": "code",
   "execution_count": null,
   "id": "4fe149b0",
   "metadata": {},
   "outputs": [
    {
     "name": "stdout",
     "output_type": "stream",
     "text": [
      "[{'content': [{'citations': None,\n",
      "               'text': \"I'll retrieve the customer information for customer C1 \"\n",
      "                       'to get their email address.',\n",
      "               'type': 'text'},\n",
      "              {'id': 'toolu_01KhpVUGxKRirUrXMzUgtZww',\n",
      "               'input': {'customer_id': 'C1'},\n",
      "               'name': 'get_customer_info',\n",
      "               'type': 'tool_use'}],\n",
      "  'role': 'assistant'},\n",
      " {'content': [{'content': \"{'name': 'John Doe', 'email': 'john@example.com', \"\n",
      "                          \"'phone': '123-456-7890', 'orders': [{'id': 'O1', \"\n",
      "                          \"'product': 'Widget A', 'quantity': 2, 'price': \"\n",
      "                          \"19.99, 'status': 'Shipped'}, {'id': 'O2', \"\n",
      "                          \"'product': 'Gadget B', 'quantity': 1, 'price': \"\n",
      "                          \"49.99, 'status': 'Processing'}]}\",\n",
      "               'tool_use_id': 'toolu_01KhpVUGxKRirUrXMzUgtZww',\n",
      "               'type': 'tool_result'}],\n",
      "  'role': 'user'},\n",
      " {'content': [{'citations': None,\n",
      "               'text': 'The email address for customer C1 (John Doe) is '\n",
      "                       'john@example.com.',\n",
      "               'type': 'text'}],\n",
      "  'role': 'assistant'}]\n"
     ]
    }
   ],
   "source": [
    "pprint(r.value)"
   ]
  },
  {
   "cell_type": "markdown",
   "id": "d4a93494",
   "metadata": {},
   "source": [
    "## Code interpreter"
   ]
  },
  {
   "cell_type": "markdown",
   "id": "7c04effc",
   "metadata": {},
   "source": [
    "Here is an example of using `toolloop` to implement a simple code interpreter with additional tools."
   ]
  },
  {
   "cell_type": "code",
   "execution_count": null,
   "id": "04aeee1a",
   "metadata": {},
   "outputs": [],
   "source": [
    "from toolslm.shell import get_shell\n",
    "from fastcore.meta import delegates\n",
    "import traceback"
   ]
  },
  {
   "cell_type": "code",
   "execution_count": null,
   "id": "5d565a7e",
   "metadata": {},
   "outputs": [],
   "source": [
    "@delegates()\n",
    "class CodeChat(Chat):\n",
    "    imps = 'os, warnings, time, json, re, math, collections, itertools, functools, dateutil, datetime, string, types, copy, pprint, enum, numbers, decimal, fractions, random, operator, typing, dataclasses'\n",
    "    def __init__(self, model: Optional[str] = None, ask:bool=True, **kwargs):\n",
    "        super().__init__(model=model, **kwargs)\n",
    "        self.ask = ask\n",
    "        self.tools.append(self.run_cell)\n",
    "        self.shell = get_shell()\n",
    "        self.shell.run_cell('import '+self.imps)"
   ]
  },
  {
   "cell_type": "markdown",
   "id": "6b1a94f7",
   "metadata": {},
   "source": [
    "We have one additional parameter to creating a `CodeChat` beyond what we pass to `Chat`, which is `ask` -- if that's `True`, we'll prompt the user before running code."
   ]
  },
  {
   "cell_type": "code",
   "execution_count": null,
   "id": "e765d432",
   "metadata": {},
   "outputs": [],
   "source": [
    "@patch\n",
    "def run_cell(\n",
    "    self:CodeChat,\n",
    "    code:str,   # Code to execute in persistent IPython session\n",
    ")->str:\n",
    "    \"\"\"Asks user for permission, and if provided, executes python `code` using persistent IPython session.\n",
    "    Returns: Result of expression on last line (if exists); '#DECLINED#' if user declines request to execute\"\"\"\n",
    "    confirm = f'Press Enter to execute, or enter \"n\" to skip?\\n```\\n{code}\\n```\\n'\n",
    "    if self.ask and input(confirm): return '#DECLINED#'\n",
    "    try: res = self.shell.run_cell(code)\n",
    "    except Exception as e: return traceback.format_exc()\n",
    "    return res.stdout if res.result is None else res.result"
   ]
  },
  {
   "cell_type": "markdown",
   "id": "a8425cc8",
   "metadata": {},
   "source": [
    "We just pass along requests to run code to the shell's implementation. Claude often prints results instead of just using the last expression, so we capture stdout in those cases."
   ]
  },
  {
   "cell_type": "code",
   "execution_count": null,
   "id": "013f6dfa",
   "metadata": {},
   "outputs": [],
   "source": [
    "sp = f'''You are a knowledgable assistant. Do not use tools unless needed.\n",
    "Don't do complex calculations yourself -- use code for them.\n",
    "The following modules are pre-imported for `run_cell` automatically:\n",
    "\n",
    "{CodeChat.imps}\n",
    "\n",
    "Never mention what tools you are using. Note that `run_cell` interpreter state is *persistent* across calls.\n",
    "\n",
    "If a tool returns `#DECLINED#` report to the user that the attempt was declined and no further progress can be made.\n",
    "In that case, do *not* attempt to run any further code -- stop execution *IMMEDIATELY* and tell the user it was declined.\n",
    "\n",
    "When using a tool, *ALWAYS* before every use of every tool, tell the user what you will be doing and why.'''"
   ]
  },
  {
   "cell_type": "code",
   "execution_count": null,
   "id": "610f2556",
   "metadata": {},
   "outputs": [],
   "source": [
    "def get_user()->str:\n",
    "    \"Get the username of the user running this session\"\n",
    "    print(\"Looking up username\")\n",
    "    return 'Jeremy'"
   ]
  },
  {
   "cell_type": "markdown",
   "id": "bf964f57",
   "metadata": {},
   "source": [
    "In order to test out multi-stage tool use, we create a mock function that Claude can call to get the current username."
   ]
  },
  {
   "cell_type": "code",
   "execution_count": null,
   "id": "e0f875f1",
   "metadata": {},
   "outputs": [],
   "source": [
    "model = models[1]\n",
    "chat = CodeChat(model, tools=[get_user], sp=sp, ask=True, temp=0.3)"
   ]
  },
  {
   "cell_type": "markdown",
   "id": "bd92d000",
   "metadata": {},
   "source": [
    "Providing a callable to toolloop's `trace_func` lets us print out information during the loop:"
   ]
  },
  {
   "cell_type": "markdown",
   "id": "9df2c6c8",
   "metadata": {},
   "source": [
    "`toolloop`'s `cont_func` callable let's us provide a function which, if it returns `False`, stops the loop:"
   ]
  },
  {
   "cell_type": "code",
   "execution_count": null,
   "id": "bfbc8ba8",
   "metadata": {},
   "outputs": [],
   "source": [
    "def _cont_decline(call, resp, asst): return resp['content'][0]['content'] != '#DECLINED#'"
   ]
  },
  {
   "cell_type": "markdown",
   "id": "eddb021f",
   "metadata": {},
   "source": [
    "Now we can try our code interpreter. We start by asking for a function to be created, which we'll use in the next prompt to test that the interpreter is persistent."
   ]
  },
  {
   "cell_type": "code",
   "execution_count": null,
   "id": "f1974763",
   "metadata": {},
   "outputs": [
    {
     "name": "stdout",
     "output_type": "stream",
     "text": [
      "Press Enter to execute, or enter \"n\" to skip?\n",
      "```\n",
      "# Create the 1-line checksum function using reduce\n",
      "checksum = lambda s: functools.reduce(operator.mul, (ord(c) for c in s), 1)\n",
      "\n",
      "# Test it with a few examples\n",
      "print(\"checksum('abc'):\", checksum('abc'))\n",
      "print(\"checksum('hello'):\", checksum('hello'))\n",
      "print(\"checksum(''):\", checksum(''))  # empty string test\n",
      "print(\"checksum('A'):\", checksum('A'))  # single character test\n",
      "\n",
      "# Let's verify the calculation for 'abc' manually\n",
      "print(\"\\nManual verification for 'abc':\")\n",
      "print(\"ord('a') =\", ord('a'))\n",
      "print(\"ord('b') =\", ord('b')) \n",
      "print(\"ord('c') =\", ord('c'))\n",
      "print(\"97 * 98 * 99 =\", 97 * 98 * 99)\n",
      "```\n",
      "\n"
     ]
    },
    {
     "data": {
      "text/markdown": [
       "I'll create a 1-line checksum function that multiplies the ASCII values of characters in a string using `reduce`.\n",
       "\n",
       "<details>\n",
       "\n",
       "- id: `msg_012VPphYnd4mfNLhjtAXBs3W`\n",
       "- content: `[{'citations': None, 'text': \"I'll create a 1-line checksum function that multiplies the ASCII values of characters in a string using `reduce`.\", 'type': 'text'}, {'id': 'toolu_01VzvQpLwFH34aQ8f7wDsVX4', 'input': {'code': '# Create the 1-line checksum function using reduce\\nchecksum = lambda s: functools.reduce(operator.mul, (ord(c) for c in s), 1)\\n\\n# Test it with a few examples\\nprint(\"checksum(\\'abc\\'):\", checksum(\\'abc\\'))\\nprint(\"checksum(\\'hello\\'):\", checksum(\\'hello\\'))\\nprint(\"checksum(\\'\\'):\", checksum(\\'\\'))  # empty string test\\nprint(\"checksum(\\'A\\'):\", checksum(\\'A\\'))  # single character test\\n\\n# Let\\'s verify the calculation for \\'abc\\' manually\\nprint(\"\\\\nManual verification for \\'abc\\':\")\\nprint(\"ord(\\'a\\') =\", ord(\\'a\\'))\\nprint(\"ord(\\'b\\') =\", ord(\\'b\\')) \\nprint(\"ord(\\'c\\') =\", ord(\\'c\\'))\\nprint(\"97 * 98 * 99 =\", 97 * 98 * 99)'}, 'name': 'run_cell', 'type': 'tool_use'}]`\n",
       "- model: `claude-sonnet-4-20250514`\n",
       "- role: `assistant`\n",
       "- stop_reason: `tool_use`\n",
       "- stop_sequence: `None`\n",
       "- type: `message`\n",
       "- usage: `{'cache_creation_input_tokens': 0, 'cache_read_input_tokens': 0, 'input_tokens': 744, 'output_tokens': 285, 'server_tool_use': None, 'service_tier': 'standard'}`\n",
       "\n",
       "</details>"
      ],
      "text/plain": [
       "Message(id='msg_012VPphYnd4mfNLhjtAXBs3W', content=[TextBlock(citations=None, text=\"I'll create a 1-line checksum function that multiplies the ASCII values of characters in a string using `reduce`.\", type='text'), ToolUseBlock(id='toolu_01VzvQpLwFH34aQ8f7wDsVX4', input={'code': '# Create the 1-line checksum function using reduce\\nchecksum = lambda s: functools.reduce(operator.mul, (ord(c) for c in s), 1)\\n\\n# Test it with a few examples\\nprint(\"checksum(\\'abc\\'):\", checksum(\\'abc\\'))\\nprint(\"checksum(\\'hello\\'):\", checksum(\\'hello\\'))\\nprint(\"checksum(\\'\\'):\", checksum(\\'\\'))  # empty string test\\nprint(\"checksum(\\'A\\'):\", checksum(\\'A\\'))  # single character test\\n\\n# Let\\'s verify the calculation for \\'abc\\' manually\\nprint(\"\\\\nManual verification for \\'abc\\':\")\\nprint(\"ord(\\'a\\') =\", ord(\\'a\\'))\\nprint(\"ord(\\'b\\') =\", ord(\\'b\\')) \\nprint(\"ord(\\'c\\') =\", ord(\\'c\\'))\\nprint(\"97 * 98 * 99 =\", 97 * 98 * 99)'}, name='run_cell', type='tool_use')], model='claude-sonnet-4-20250514', role='assistant', stop_reason='tool_use', stop_sequence=None, type='message', usage=In: 744; Out: 285; Cache create: 0; Cache read: 0; Total Tokens: 1029; Search: 0)"
      ]
     },
     "metadata": {},
     "output_type": "display_data"
    },
    {
     "data": {
      "text/markdown": [
       "```json\n",
       "{ 'content': [ { 'content': \"checksum('abc'): 941094\\n\"\n",
       "                            \"checksum('hello'): 13599570816\\n\"\n",
       "                            \"checksum(''): 1\\n\"\n",
       "                            \"checksum('A'): 65\\n\"\n",
       "                            '\\n'\n",
       "                            \"Manual verification for 'abc':\\n\"\n",
       "                            \"ord('a') = 97\\n\"\n",
       "                            \"ord('b') = 98\\n\"\n",
       "                            \"ord('c') = 99\\n\"\n",
       "                            '97 * 98 * 99 = 941094\\n',\n",
       "                 'tool_use_id': 'toolu_01VzvQpLwFH34aQ8f7wDsVX4',\n",
       "                 'type': 'tool_result'}],\n",
       "  'role': 'user'}\n",
       "```"
      ],
      "text/plain": [
       "{'role': 'user',\n",
       " 'content': [{'type': 'tool_result',\n",
       "   'tool_use_id': 'toolu_01VzvQpLwFH34aQ8f7wDsVX4',\n",
       "   'content': \"checksum('abc'): 941094\\nchecksum('hello'): 13599570816\\nchecksum(''): 1\\nchecksum('A'): 65\\n\\nManual verification for 'abc':\\nord('a') = 97\\nord('b') = 98\\nord('c') = 99\\n97 * 98 * 99 = 941094\\n\"}]}"
      ]
     },
     "metadata": {},
     "output_type": "display_data"
    },
    {
     "data": {
      "text/markdown": [
       "Perfect! Here's the 1-line checksum function:\n",
       "\n",
       "```python\n",
       "checksum = lambda s: functools.reduce(operator.mul, (ord(c) for c in s), 1)\n",
       "```\n",
       "\n",
       "This function:\n",
       "- Uses `functools.reduce` with `operator.mul` to multiply values together\n",
       "- Converts each character to its ASCII value using `ord(c)`\n",
       "- Uses a generator expression `(ord(c) for c in s)` to get ASCII values\n",
       "- Starts with an initial value of `1` (the identity for multiplication)\n",
       "- Returns `1` for empty strings (which is mathematically correct for an empty product)\n",
       "\n",
       "The function works correctly as demonstrated by the test cases!\n",
       "\n",
       "<details>\n",
       "\n",
       "- id: `msg_015s77t2EYuHKSGrGLgHzwnr`\n",
       "- content: `[{'citations': None, 'text': \"Perfect! Here's the 1-line checksum function:\\n\\n```python\\nchecksum = lambda s: functools.reduce(operator.mul, (ord(c) for c in s), 1)\\n```\\n\\nThis function:\\n- Uses `functools.reduce` with `operator.mul` to multiply values together\\n- Converts each character to its ASCII value using `ord(c)`\\n- Uses a generator expression `(ord(c) for c in s)` to get ASCII values\\n- Starts with an initial value of `1` (the identity for multiplication)\\n- Returns `1` for empty strings (which is mathematically correct for an empty product)\\n\\nThe function works correctly as demonstrated by the test cases!\", 'type': 'text'}]`\n",
       "- model: `claude-sonnet-4-20250514`\n",
       "- role: `assistant`\n",
       "- stop_reason: `end_turn`\n",
       "- stop_sequence: `None`\n",
       "- type: `message`\n",
       "- usage: `{'cache_creation_input_tokens': 0, 'cache_read_input_tokens': 0, 'input_tokens': 1123, 'output_tokens': 161, 'server_tool_use': None, 'service_tier': 'standard'}`\n",
       "\n",
       "</details>"
      ],
      "text/plain": [
       "Message(id='msg_015s77t2EYuHKSGrGLgHzwnr', content=[TextBlock(citations=None, text=\"Perfect! Here's the 1-line checksum function:\\n\\n```python\\nchecksum = lambda s: functools.reduce(operator.mul, (ord(c) for c in s), 1)\\n```\\n\\nThis function:\\n- Uses `functools.reduce` with `operator.mul` to multiply values together\\n- Converts each character to its ASCII value using `ord(c)`\\n- Uses a generator expression `(ord(c) for c in s)` to get ASCII values\\n- Starts with an initial value of `1` (the identity for multiplication)\\n- Returns `1` for empty strings (which is mathematically correct for an empty product)\\n\\nThe function works correctly as demonstrated by the test cases!\", type='text')], model='claude-sonnet-4-20250514', role='assistant', stop_reason='end_turn', stop_sequence=None, type='message', usage=In: 1123; Out: 161; Cache create: 0; Cache read: 0; Total Tokens: 1284; Search: 0)"
      ]
     },
     "metadata": {},
     "output_type": "display_data"
    }
   ],
   "source": [
    "pr = '''Create a 1-line function `checksum` for a string `s`,\n",
    "that multiplies together the ascii values of each character in `s` using `reduce`.'''\n",
    "for o in chat.toolloop(pr, cont_func=_cont_decline): display(o)"
   ]
  },
  {
   "cell_type": "markdown",
   "id": "100eac7b",
   "metadata": {},
   "source": [
    "By asking for a calculation to be done on the username, we force it to use multiple steps:"
   ]
  },
  {
   "cell_type": "code",
   "execution_count": null,
   "id": "7c381e69",
   "metadata": {},
   "outputs": [
    {
     "name": "stdout",
     "output_type": "stream",
     "text": [
      "Looking up username\n"
     ]
    },
    {
     "data": {
      "text/markdown": [
       "I'll first get the username of this session and then calculate its checksum using the function we created.\n",
       "\n",
       "<details>\n",
       "\n",
       "- id: `msg_018jEoYTa6jXEfs56US3UNwK`\n",
       "- content: `[{'citations': None, 'text': \"I'll first get the username of this session and then calculate its checksum using the function we created.\", 'type': 'text'}, {'id': 'toolu_01Xi66wXjpvNBiZSDSmHoQf7', 'input': {}, 'name': 'get_user', 'type': 'tool_use'}]`\n",
       "- model: `claude-sonnet-4-20250514`\n",
       "- role: `assistant`\n",
       "- stop_reason: `tool_use`\n",
       "- stop_sequence: `None`\n",
       "- type: `message`\n",
       "- usage: `{'cache_creation_input_tokens': 0, 'cache_read_input_tokens': 0, 'input_tokens': 1301, 'output_tokens': 58, 'server_tool_use': None, 'service_tier': 'standard'}`\n",
       "\n",
       "</details>"
      ],
      "text/plain": [
       "Message(id='msg_018jEoYTa6jXEfs56US3UNwK', content=[TextBlock(citations=None, text=\"I'll first get the username of this session and then calculate its checksum using the function we created.\", type='text'), ToolUseBlock(id='toolu_01Xi66wXjpvNBiZSDSmHoQf7', input={}, name='get_user', type='tool_use')], model='claude-sonnet-4-20250514', role='assistant', stop_reason='tool_use', stop_sequence=None, type='message', usage=In: 1301; Out: 58; Cache create: 0; Cache read: 0; Total Tokens: 1359; Search: 0)"
      ]
     },
     "metadata": {},
     "output_type": "display_data"
    },
    {
     "data": {
      "text/markdown": [
       "```json\n",
       "{ 'content': [ { 'content': 'Jeremy',\n",
       "                 'tool_use_id': 'toolu_01Xi66wXjpvNBiZSDSmHoQf7',\n",
       "                 'type': 'tool_result'}],\n",
       "  'role': 'user'}\n",
       "```"
      ],
      "text/plain": [
       "{'role': 'user',\n",
       " 'content': [{'type': 'tool_result',\n",
       "   'tool_use_id': 'toolu_01Xi66wXjpvNBiZSDSmHoQf7',\n",
       "   'content': 'Jeremy'}]}"
      ]
     },
     "metadata": {},
     "output_type": "display_data"
    },
    {
     "name": "stdout",
     "output_type": "stream",
     "text": [
      "Press Enter to execute, or enter \"n\" to skip?\n",
      "```\n",
      "# Get the checksum of the username\n",
      "username = \"Jeremy\"\n",
      "result = checksum(username)\n",
      "print(f\"Username: {username}\")\n",
      "print(f\"Checksum: {result}\")\n",
      "\n",
      "# Let's also show the ASCII values for verification\n",
      "print(f\"\\nASCII values:\")\n",
      "for char in username:\n",
      "    print(f\"'{char}': {ord(char)}\")\n",
      "\n",
      "# Manual calculation\n",
      "ascii_values = [ord(char) for char in username]\n",
      "print(f\"\\nASCII values: {ascii_values}\")\n",
      "print(f\"Product: {' × '.join(map(str, ascii_values))} = {result}\")\n",
      "```\n",
      "\n"
     ]
    },
    {
     "data": {
      "text/markdown": [
       "Now I'll calculate the checksum of the username \"Jeremy\":\n",
       "\n",
       "<details>\n",
       "\n",
       "- id: `msg_01PbdwUTyRcXhwt2T3Ru5cy6`\n",
       "- content: `[{'citations': None, 'text': 'Now I\\'ll calculate the checksum of the username \"Jeremy\":', 'type': 'text'}, {'id': 'toolu_01CpNG3tCcntpq7pZoLsutXc', 'input': {'code': '# Get the checksum of the username\\nusername = \"Jeremy\"\\nresult = checksum(username)\\nprint(f\"Username: {username}\")\\nprint(f\"Checksum: {result}\")\\n\\n# Let\\'s also show the ASCII values for verification\\nprint(f\"\\\\nASCII values:\")\\nfor char in username:\\n    print(f\"\\'{char}\\': {ord(char)}\")\\n\\n# Manual calculation\\nascii_values = [ord(char) for char in username]\\nprint(f\"\\\\nASCII values: {ascii_values}\")\\nprint(f\"Product: {\\' × \\'.join(map(str, ascii_values))} = {result}\")'}, 'name': 'run_cell', 'type': 'tool_use'}]`\n",
       "- model: `claude-sonnet-4-20250514`\n",
       "- role: `assistant`\n",
       "- stop_reason: `tool_use`\n",
       "- stop_sequence: `None`\n",
       "- type: `message`\n",
       "- usage: `{'cache_creation_input_tokens': 0, 'cache_read_input_tokens': 0, 'input_tokens': 1372, 'output_tokens': 215, 'server_tool_use': None, 'service_tier': 'standard'}`\n",
       "\n",
       "</details>"
      ],
      "text/plain": [
       "Message(id='msg_01PbdwUTyRcXhwt2T3Ru5cy6', content=[TextBlock(citations=None, text='Now I\\'ll calculate the checksum of the username \"Jeremy\":', type='text'), ToolUseBlock(id='toolu_01CpNG3tCcntpq7pZoLsutXc', input={'code': '# Get the checksum of the username\\nusername = \"Jeremy\"\\nresult = checksum(username)\\nprint(f\"Username: {username}\")\\nprint(f\"Checksum: {result}\")\\n\\n# Let\\'s also show the ASCII values for verification\\nprint(f\"\\\\nASCII values:\")\\nfor char in username:\\n    print(f\"\\'{char}\\': {ord(char)}\")\\n\\n# Manual calculation\\nascii_values = [ord(char) for char in username]\\nprint(f\"\\\\nASCII values: {ascii_values}\")\\nprint(f\"Product: {\\' × \\'.join(map(str, ascii_values))} = {result}\")'}, name='run_cell', type='tool_use')], model='claude-sonnet-4-20250514', role='assistant', stop_reason='tool_use', stop_sequence=None, type='message', usage=In: 1372; Out: 215; Cache create: 0; Cache read: 0; Total Tokens: 1587; Search: 0)"
      ]
     },
     "metadata": {},
     "output_type": "display_data"
    },
    {
     "data": {
      "text/markdown": [
       "```json\n",
       "{ 'content': [ { 'content': 'Username: Jeremy\\n'\n",
       "                            'Checksum: 1134987783204\\n'\n",
       "                            '\\n'\n",
       "                            'ASCII values:\\n'\n",
       "                            \"'J': 74\\n\"\n",
       "                            \"'e': 101\\n\"\n",
       "                            \"'r': 114\\n\"\n",
       "                            \"'e': 101\\n\"\n",
       "                            \"'m': 109\\n\"\n",
       "                            \"'y': 121\\n\"\n",
       "                            '\\n'\n",
       "                            'ASCII values: [74, 101, 114, 101, 109, 121]\\n'\n",
       "                            'Product: 74 × 101 × 114 × 101 × 109 × 121 = '\n",
       "                            '1134987783204\\n',\n",
       "                 'tool_use_id': 'toolu_01CpNG3tCcntpq7pZoLsutXc',\n",
       "                 'type': 'tool_result'}],\n",
       "  'role': 'user'}\n",
       "```"
      ],
      "text/plain": [
       "{'role': 'user',\n",
       " 'content': [{'type': 'tool_result',\n",
       "   'tool_use_id': 'toolu_01CpNG3tCcntpq7pZoLsutXc',\n",
       "   'content': \"Username: Jeremy\\nChecksum: 1134987783204\\n\\nASCII values:\\n'J': 74\\n'e': 101\\n'r': 114\\n'e': 101\\n'm': 109\\n'y': 121\\n\\nASCII values: [74, 101, 114, 101, 109, 121]\\nProduct: 74 × 101 × 114 × 101 × 109 × 121 = 1134987783204\\n\"}]}"
      ]
     },
     "metadata": {},
     "output_type": "display_data"
    },
    {
     "data": {
      "text/markdown": [
       "The checksum of the username \"Jeremy\" is **1,134,987,783,204**.\n",
       "\n",
       "This is calculated by multiplying the ASCII values: 74 × 101 × 114 × 101 × 109 × 121 = 1,134,987,783,204.\n",
       "\n",
       "<details>\n",
       "\n",
       "- id: `msg_01GPGuCaADe3choEv6VmD2eR`\n",
       "- content: `[{'citations': None, 'text': 'The checksum of the username \"Jeremy\" is **1,134,987,783,204**.\\n\\nThis is calculated by multiplying the ASCII values: 74 × 101 × 114 × 101 × 109 × 121 = 1,134,987,783,204.', 'type': 'text'}]`\n",
       "- model: `claude-sonnet-4-20250514`\n",
       "- role: `assistant`\n",
       "- stop_reason: `end_turn`\n",
       "- stop_sequence: `None`\n",
       "- type: `message`\n",
       "- usage: `{'cache_creation_input_tokens': 0, 'cache_read_input_tokens': 0, 'input_tokens': 1708, 'output_tokens': 70, 'server_tool_use': None, 'service_tier': 'standard'}`\n",
       "\n",
       "</details>"
      ],
      "text/plain": [
       "Message(id='msg_01GPGuCaADe3choEv6VmD2eR', content=[TextBlock(citations=None, text='The checksum of the username \"Jeremy\" is **1,134,987,783,204**.\\n\\nThis is calculated by multiplying the ASCII values: 74 × 101 × 114 × 101 × 109 × 121 = 1,134,987,783,204.', type='text')], model='claude-sonnet-4-20250514', role='assistant', stop_reason='end_turn', stop_sequence=None, type='message', usage=In: 1708; Out: 70; Cache create: 0; Cache read: 0; Total Tokens: 1778; Search: 0)"
      ]
     },
     "metadata": {},
     "output_type": "display_data"
    }
   ],
   "source": [
    "pr = 'Use it to get the checksum of the username of this session.'\n",
    "for o in chat.toolloop(pr): display(o)"
   ]
  },
  {
   "cell_type": "markdown",
   "id": "8fefe903",
   "metadata": {},
   "source": [
    "## Export -"
   ]
  },
  {
   "cell_type": "code",
   "execution_count": null,
   "id": "1e9ee5c1",
   "metadata": {},
   "outputs": [],
   "source": [
    "#|hide\n",
    "#|eval: false\n",
    "from nbdev.doclinks import nbdev_export\n",
    "nbdev_export()"
   ]
  },
  {
   "cell_type": "code",
   "execution_count": null,
   "id": "c627b799",
   "metadata": {},
   "outputs": [],
   "source": []
  }
 ],
 "metadata": {
  "kernelspec": {
   "display_name": "python3",
   "language": "python",
   "name": "python3"
  }
 },
 "nbformat": 4,
 "nbformat_minor": 5
}
