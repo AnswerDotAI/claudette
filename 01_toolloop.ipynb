{
 "cells": [
  {
   "cell_type": "code",
   "execution_count": null,
   "id": "efe78920",
   "metadata": {},
   "outputs": [],
   "source": [
    "#|default_exp toolloop"
   ]
  },
  {
   "cell_type": "markdown",
   "id": "3d773712-12fe-440e-891f-36f59666dfde",
   "metadata": {},
   "source": [
    "# Tool loop"
   ]
  },
  {
   "cell_type": "code",
   "execution_count": null,
   "id": "322371c7",
   "metadata": {},
   "outputs": [],
   "source": [
    "import os\n",
    "# os.environ['ANTHROPIC_LOG'] = 'debug'"
   ]
  },
  {
   "cell_type": "code",
   "execution_count": null,
   "id": "033c76fd",
   "metadata": {},
   "outputs": [],
   "source": [
    "#| export\n",
    "from claudette.core import *\n",
    "from fastcore.utils import *\n",
    "from fastcore.meta import delegates\n",
    "\n",
    "from anthropic.types import TextBlock, Message, ToolUseBlock"
   ]
  },
  {
   "cell_type": "code",
   "execution_count": null,
   "id": "24ee745e",
   "metadata": {},
   "outputs": [],
   "source": [
    "model = models[-1]"
   ]
  },
  {
   "cell_type": "markdown",
   "id": "63111054",
   "metadata": {},
   "source": [
    "Anthropic provides an [interesting example](https://github.com/anthropics/anthropic-cookbook/blob/main/tool_use/customer_service_agent.ipynb) of using tools to mock up a hypothetical ordering system. We're going to take it a step further, and show how we can dramatically simplify the process, whilst completing more complex tasks.\n",
    "\n",
    "We'll start by defining the same mock customer/order data as in Anthropic's example, plus create a entity relationship between customers and orders:"
   ]
  },
  {
   "cell_type": "code",
   "execution_count": null,
   "id": "207f9715",
   "metadata": {},
   "outputs": [],
   "source": [
    "orders = {\n",
    "    \"O1\": dict(id=\"O1\", product=\"Widget A\", quantity=2, price=19.99, status=\"Shipped\"),\n",
    "    \"O2\": dict(id=\"O2\", product=\"Gadget B\", quantity=1, price=49.99, status=\"Processing\"),\n",
    "    \"O3\": dict(id=\"O3\", product=\"Gadget B\", quantity=2, price=49.99, status=\"Shipped\")}\n",
    "\n",
    "customers = {\n",
    "    \"C1\": dict(name=\"John Doe\", email=\"john@example.com\", phone=\"123-456-7890\",\n",
    "               orders=[orders['O1'], orders['O2']]),\n",
    "    \"C2\": dict(name=\"Jane Smith\", email=\"jane@example.com\", phone=\"987-654-3210\",\n",
    "               orders=[orders['O3']])\n",
    "}"
   ]
  },
  {
   "cell_type": "markdown",
   "id": "2d8eed7b",
   "metadata": {},
   "source": [
    "We can now define the same functions from the original example -- but note that we don't need to manually create the large JSON schema, since Claudette handles all that for us automatically from the functions directly. We'll add some extra functionality to update order details when cancelling too."
   ]
  },
  {
   "cell_type": "code",
   "execution_count": null,
   "id": "2778dde0",
   "metadata": {},
   "outputs": [],
   "source": [
    "def get_customer_info(\n",
    "    customer_id:str # ID of the customer\n",
    "): # Customer's name, email, phone number, and list of orders\n",
    "    \"Retrieves a customer's information and their orders based on the customer ID\"\n",
    "    print(f'- Retrieving customer {customer_id}')\n",
    "    return customers.get(customer_id, \"Customer not found\")\n",
    "\n",
    "def get_order_details(\n",
    "    order_id:str # ID of the order\n",
    "): # Order's ID, product name, quantity, price, and order status\n",
    "    \"Retrieves the details of a specific order based on the order ID\"\n",
    "    print(f'- Retrieving order {order_id}')\n",
    "    return orders.get(order_id, \"Order not found\")\n",
    "\n",
    "def cancel_order(\n",
    "    order_id:str # ID of the order to cancel\n",
    ")->bool: # True if the cancellation is successful\n",
    "    \"Cancels an order based on the provided order ID\"\n",
    "    print(f'- Cancelling order {order_id}')\n",
    "    if order_id not in orders: return False\n",
    "    orders[order_id]['status'] = 'Cancelled'\n",
    "    return True"
   ]
  },
  {
   "cell_type": "markdown",
   "id": "a1278535",
   "metadata": {},
   "source": [
    "We're now ready to start our chat."
   ]
  },
  {
   "cell_type": "code",
   "execution_count": null,
   "id": "a4231dff",
   "metadata": {},
   "outputs": [],
   "source": [
    "tools = [get_customer_info, get_order_details, cancel_order]\n",
    "chat = Chat(model, tools=tools)"
   ]
  },
  {
   "cell_type": "markdown",
   "id": "41db970a",
   "metadata": {},
   "source": [
    "We'll start with the same request as Anthropic showed:"
   ]
  },
  {
   "cell_type": "code",
   "execution_count": null,
   "id": "97cdbf58",
   "metadata": {},
   "outputs": [
    {
     "name": "stdout",
     "output_type": "stream",
     "text": [
      "- Retrieving customer C1\n",
      "tool_use\n"
     ]
    },
    {
     "data": {
      "text/plain": [
       "[TextBlock(citations=None, text=\"I'll retrieve the customer information for customer ID C1.\", type='text'),\n",
       " ToolUseBlock(id='toolu_01BBozt1ZDnbBHMJ8bxVKLoE', input={'customer_id': 'C1'}, name='get_customer_info', type='tool_use')]"
      ]
     },
     "execution_count": null,
     "metadata": {},
     "output_type": "execute_result"
    }
   ],
   "source": [
    "r = chat('Can you tell me the email address for customer C1?')\n",
    "print(r.stop_reason)\n",
    "r.content"
   ]
  },
  {
   "cell_type": "markdown",
   "id": "3f6d3ae8",
   "metadata": {},
   "source": [
    "Claude asks us to use a tool. Claudette handles that automatically by just calling it again:"
   ]
  },
  {
   "cell_type": "code",
   "execution_count": null,
   "id": "09196e94",
   "metadata": {},
   "outputs": [
    {
     "data": {
      "text/plain": [
       "'The email address for customer C1 (John Doe) is john@example.com.\\n\\nIs there anything else I can help you with?'"
      ]
     },
     "execution_count": null,
     "metadata": {},
     "output_type": "execute_result"
    }
   ],
   "source": [
    "r = chat()\n",
    "contents(r)"
   ]
  },
  {
   "cell_type": "markdown",
   "id": "26fe5edb",
   "metadata": {},
   "source": [
    "Let's consider a more complex case than in the original example -- what happens if a customer wants to cancel all of their orders?"
   ]
  },
  {
   "cell_type": "code",
   "execution_count": null,
   "id": "6aa531d0",
   "metadata": {},
   "outputs": [
    {
     "name": "stdout",
     "output_type": "stream",
     "text": [
      "- Retrieving customer C1\n",
      "tool_use\n"
     ]
    },
    {
     "data": {
      "text/plain": [
       "[TextBlock(citations=None, text=\"I'll help you cancel all orders for customer C1. To do this, I'll first retrieve the customer's information to get their order details, and then cancel each order.\", type='text'),\n",
       " ToolUseBlock(id='toolu_01DawhHveHK4cWLV7XwSXkMw', input={'customer_id': 'C1'}, name='get_customer_info', type='tool_use')]"
      ]
     },
     "execution_count": null,
     "metadata": {},
     "output_type": "execute_result"
    }
   ],
   "source": [
    "chat = Chat(model, tools=tools)\n",
    "r = chat('Please cancel all orders for customer C1 for me.')\n",
    "print(r.stop_reason)\n",
    "r.content"
   ]
  },
  {
   "cell_type": "markdown",
   "id": "5a2432a1",
   "metadata": {},
   "source": [
    "This is the start of a multi-stage tool use process. Doing it manually step by step is inconvenient, so let's write a function to handle this for us:"
   ]
  },
  {
   "cell_type": "code",
   "execution_count": null,
   "id": "3457eeb6",
   "metadata": {},
   "outputs": [],
   "source": [
    "#| exports\n",
    "@patch\n",
    "@delegates(Chat.__call__)\n",
    "def toolloop(self:Chat,\n",
    "             pr, # Prompt to pass to Claude\n",
    "             max_steps=10, # Maximum number of tool requests to loop through\n",
    "             trace_func:Optional[callable]=None, # Function to trace tool use steps (e.g `print`)\n",
    "             cont_func:Optional[callable]=noop, # Function that stops loop if returns False\n",
    "             **kwargs):\n",
    "    \"Add prompt `pr` to dialog and get a response from Claude, automatically following up with `tool_use` messages\"\n",
    "    init_n = n_msgs = len(self.h)\n",
    "    r = self(pr, **kwargs)\n",
    "    for i in range(max_steps):\n",
    "        if r.stop_reason!='tool_use': break\n",
    "        if trace_func: trace_func(self.h[n_msgs:]); n_msgs = len(self.h)\n",
    "        r = self(**kwargs)\n",
    "        if not (cont_func or noop)(self.h[-2]): break\n",
    "    if trace_func: trace_func(self.h[n_msgs:])\n",
    "    r.steps = self.h[init_n:]\n",
    "    return r"
   ]
  },
  {
   "cell_type": "markdown",
   "id": "f83a0859",
   "metadata": {},
   "source": [
    "We'll start by re-running our previous request - we shouldn't have to manually pass back the `tool_use` message any more:"
   ]
  },
  {
   "cell_type": "code",
   "execution_count": null,
   "id": "52fa6634",
   "metadata": {},
   "outputs": [
    {
     "name": "stdout",
     "output_type": "stream",
     "text": [
      "- Retrieving customer C1\n"
     ]
    },
    {
     "data": {
      "text/markdown": [
       "The email address for customer C1 (John Doe) is john@example.com.\n",
       "\n",
       "Is there anything else I can help you with?\n",
       "\n",
       "<details>\n",
       "\n",
       "- id: `msg_01LPTK7ubKAQnbFRrbVQ9Gwq`\n",
       "- content: `[{'citations': None, 'text': 'The email address for customer C1 (John Doe) is john@example.com.\\n\\nIs there anything else I can help you with?', 'type': 'text'}]`\n",
       "- model: `claude-3-5-haiku-20241022`\n",
       "- role: `assistant`\n",
       "- stop_reason: `end_turn`\n",
       "- stop_sequence: `None`\n",
       "- type: `message`\n",
       "- usage: `{'cache_creation_input_tokens': 0, 'cache_read_input_tokens': 0, 'input_tokens': 732, 'output_tokens': 35}`\n",
       "- steps: `[{'role': 'user', 'content': 'Can you tell me the email address for customer C1?'}, {'role': 'assistant', 'content': [{'citations': None, 'text': \"I'll retrieve the customer information for customer ID C1.\", 'type': 'text'}, {'id': 'toolu_01SSHEbn69FBxoRdNhpDwxz2', 'input': {'customer_id': 'C1'}, 'name': 'get_customer_info', 'type': 'tool_use'}]}, {'role': 'user', 'content': [{'type': 'tool_result', 'tool_use_id': 'toolu_01SSHEbn69FBxoRdNhpDwxz2', 'content': \"{'name': 'John Doe', 'email': 'john@example.com', 'phone': '123-456-7890', 'orders': [{'id': 'O1', 'product': 'Widget A', 'quantity': 2, 'price': 19.99, 'status': 'Shipped'}, {'id': 'O2', 'product': 'Gadget B', 'quantity': 1, 'price': 49.99, 'status': 'Processing'}]}\"}]}]`\n",
       "\n",
       "</details>"
      ],
      "text/plain": [
       "Message(id='msg_01LPTK7ubKAQnbFRrbVQ9Gwq', content=[TextBlock(citations=None, text='The email address for customer C1 (John Doe) is john@example.com.\\n\\nIs there anything else I can help you with?', type='text')], model='claude-3-5-haiku-20241022', role='assistant', stop_reason='end_turn', stop_sequence=None, type='message', usage=In: 732; Out: 35; Cache create: 0; Cache read: 0; Total: 767, steps=[{'role': 'user', 'content': 'Can you tell me the email address for customer C1?'}, {'role': 'assistant', 'content': [{'citations': None, 'text': \"I'll retrieve the customer information for customer ID C1.\", 'type': 'text'}, {'id': 'toolu_01SSHEbn69FBxoRdNhpDwxz2', 'input': {'customer_id': 'C1'}, 'name': 'get_customer_info', 'type': 'tool_use'}]}, {'role': 'user', 'content': [{'type': 'tool_result', 'tool_use_id': 'toolu_01SSHEbn69FBxoRdNhpDwxz2', 'content': \"{'name': 'John Doe', 'email': 'john@example.com', 'phone': '123-456-7890', 'orders': [{'id': 'O1', 'product': 'Widget A', 'quantity': 2, 'price': 19.99, 'status': 'Shipped'}, {'id': 'O2', 'product': 'Gadget B', 'quantity': 1, 'price': 49.99, 'status': 'Processing'}]}\"}]}])"
      ]
     },
     "execution_count": null,
     "metadata": {},
     "output_type": "execute_result"
    }
   ],
   "source": [
    "chat = Chat(model, tools=tools)\n",
    "r = chat.toolloop('Can you tell me the email address for customer C1?')\n",
    "r"
   ]
  },
  {
   "cell_type": "markdown",
   "id": "db6131f0",
   "metadata": {},
   "source": [
    "Let's see if it can handle the multi-stage process now -- we'll add `trace_func=print` to see each stage of the process:"
   ]
  },
  {
   "cell_type": "code",
   "execution_count": null,
   "id": "a45d3eb0",
   "metadata": {},
   "outputs": [
    {
     "name": "stdout",
     "output_type": "stream",
     "text": [
      "- Retrieving customer C1\n",
      "[{'role': 'user', 'content': 'Please cancel all orders for customer C1 for me.'}, {'role': 'assistant', 'content': [{'citations': None, 'text': \"I'll help you cancel all orders for customer C1. To do this, I'll first retrieve the customer's information to get their order details, and then cancel each order.\", 'type': 'text'}, {'id': 'toolu_01AQPh1S4AcHqdZCw2S3zX5j', 'input': {'customer_id': 'C1'}, 'name': 'get_customer_info', 'type': 'tool_use'}]}, {'role': 'user', 'content': [{'type': 'tool_result', 'tool_use_id': 'toolu_01AQPh1S4AcHqdZCw2S3zX5j', 'content': \"{'name': 'John Doe', 'email': 'john@example.com', 'phone': '123-456-7890', 'orders': [{'id': 'O1', 'product': 'Widget A', 'quantity': 2, 'price': 19.99, 'status': 'Shipped'}, {'id': 'O2', 'product': 'Gadget B', 'quantity': 1, 'price': 49.99, 'status': 'Processing'}]}\"}]}]\n",
      "- Cancelling order O1\n",
      "[{'role': 'assistant', 'content': [{'citations': None, 'text': \"I see that customer C1 (John Doe) has two orders: O1 and O2. I'll proceed to cancel both orders:\", 'type': 'text'}, {'id': 'toolu_01Cn3E2L21LMsBq5hdwLZYqR', 'input': {'order_id': 'O1'}, 'name': 'cancel_order', 'type': 'tool_use'}]}, {'role': 'user', 'content': [{'type': 'tool_result', 'tool_use_id': 'toolu_01Cn3E2L21LMsBq5hdwLZYqR', 'content': 'True'}]}]\n",
      "- Cancelling order O2\n",
      "[{'role': 'assistant', 'content': [{'id': 'toolu_01U1YjpJRqP6w79WrGWW8RJT', 'input': {'order_id': 'O2'}, 'name': 'cancel_order', 'type': 'tool_use'}]}, {'role': 'user', 'content': [{'type': 'tool_result', 'tool_use_id': 'toolu_01U1YjpJRqP6w79WrGWW8RJT', 'content': 'True'}]}]\n",
      "[{'role': 'assistant', 'content': [{'citations': None, 'text': \"I've successfully cancelled both orders (O1 and O2) for customer C1. Both cancellations returned 'True', which indicates they were processed successfully. Is there anything else I can help you with?\", 'type': 'text'}]}]\n"
     ]
    },
    {
     "data": {
      "text/markdown": [
       "I've successfully cancelled both orders (O1 and O2) for customer C1. Both cancellations returned 'True', which indicates they were processed successfully. Is there anything else I can help you with?\n",
       "\n",
       "<details>\n",
       "\n",
       "- id: `msg_01NWfWvATr2vVwkqpk5qCTJj`\n",
       "- content: `[{'citations': None, 'text': \"I've successfully cancelled both orders (O1 and O2) for customer C1. Both cancellations returned 'True', which indicates they were processed successfully. Is there anything else I can help you with?\", 'type': 'text'}]`\n",
       "- model: `claude-3-5-haiku-20241022`\n",
       "- role: `assistant`\n",
       "- stop_reason: `end_turn`\n",
       "- stop_sequence: `None`\n",
       "- type: `message`\n",
       "- usage: `{'cache_creation_input_tokens': 0, 'cache_read_input_tokens': 0, 'input_tokens': 926, 'output_tokens': 49}`\n",
       "- steps: `[{'role': 'user', 'content': 'Please cancel all orders for customer C1 for me.'}, {'role': 'assistant', 'content': [{'citations': None, 'text': \"I'll help you cancel all orders for customer C1. To do this, I'll first retrieve the customer's information to get their order details, and then cancel each order.\", 'type': 'text'}, {'id': 'toolu_01AQPh1S4AcHqdZCw2S3zX5j', 'input': {'customer_id': 'C1'}, 'name': 'get_customer_info', 'type': 'tool_use'}]}, {'role': 'user', 'content': [{'type': 'tool_result', 'tool_use_id': 'toolu_01AQPh1S4AcHqdZCw2S3zX5j', 'content': \"{'name': 'John Doe', 'email': 'john@example.com', 'phone': '123-456-7890', 'orders': [{'id': 'O1', 'product': 'Widget A', 'quantity': 2, 'price': 19.99, 'status': 'Shipped'}, {'id': 'O2', 'product': 'Gadget B', 'quantity': 1, 'price': 49.99, 'status': 'Processing'}]}\"}]}, {'role': 'assistant', 'content': [{'citations': None, 'text': \"I see that customer C1 (John Doe) has two orders: O1 and O2. I'll proceed to cancel both orders:\", 'type': 'text'}, {'id': 'toolu_01Cn3E2L21LMsBq5hdwLZYqR', 'input': {'order_id': 'O1'}, 'name': 'cancel_order', 'type': 'tool_use'}]}, {'role': 'user', 'content': [{'type': 'tool_result', 'tool_use_id': 'toolu_01Cn3E2L21LMsBq5hdwLZYqR', 'content': 'True'}]}, {'role': 'assistant', 'content': [{'id': 'toolu_01U1YjpJRqP6w79WrGWW8RJT', 'input': {'order_id': 'O2'}, 'name': 'cancel_order', 'type': 'tool_use'}]}, {'role': 'user', 'content': [{'type': 'tool_result', 'tool_use_id': 'toolu_01U1YjpJRqP6w79WrGWW8RJT', 'content': 'True'}]}]`\n",
       "\n",
       "</details>"
      ],
      "text/plain": [
       "Message(id='msg_01NWfWvATr2vVwkqpk5qCTJj', content=[TextBlock(citations=None, text=\"I've successfully cancelled both orders (O1 and O2) for customer C1. Both cancellations returned 'True', which indicates they were processed successfully. Is there anything else I can help you with?\", type='text')], model='claude-3-5-haiku-20241022', role='assistant', stop_reason='end_turn', stop_sequence=None, type='message', usage=In: 926; Out: 49; Cache create: 0; Cache read: 0; Total: 975, steps=[{'role': 'user', 'content': 'Please cancel all orders for customer C1 for me.'}, {'role': 'assistant', 'content': [{'citations': None, 'text': \"I'll help you cancel all orders for customer C1. To do this, I'll first retrieve the customer's information to get their order details, and then cancel each order.\", 'type': 'text'}, {'id': 'toolu_01AQPh1S4AcHqdZCw2S3zX5j', 'input': {'customer_id': 'C1'}, 'name': 'get_customer_info', 'type': 'tool_use'}]}, {'role': 'user', 'content': [{'type': 'tool_result', 'tool_use_id': 'toolu_01AQPh1S4AcHqdZCw2S3zX5j', 'content': \"{'name': 'John Doe', 'email': 'john@example.com', 'phone': '123-456-7890', 'orders': [{'id': 'O1', 'product': 'Widget A', 'quantity': 2, 'price': 19.99, 'status': 'Shipped'}, {'id': 'O2', 'product': 'Gadget B', 'quantity': 1, 'price': 49.99, 'status': 'Processing'}]}\"}]}, {'role': 'assistant', 'content': [{'citations': None, 'text': \"I see that customer C1 (John Doe) has two orders: O1 and O2. I'll proceed to cancel both orders:\", 'type': 'text'}, {'id': 'toolu_01Cn3E2L21LMsBq5hdwLZYqR', 'input': {'order_id': 'O1'}, 'name': 'cancel_order', 'type': 'tool_use'}]}, {'role': 'user', 'content': [{'type': 'tool_result', 'tool_use_id': 'toolu_01Cn3E2L21LMsBq5hdwLZYqR', 'content': 'True'}]}, {'role': 'assistant', 'content': [{'id': 'toolu_01U1YjpJRqP6w79WrGWW8RJT', 'input': {'order_id': 'O2'}, 'name': 'cancel_order', 'type': 'tool_use'}]}, {'role': 'user', 'content': [{'type': 'tool_result', 'tool_use_id': 'toolu_01U1YjpJRqP6w79WrGWW8RJT', 'content': 'True'}]}])"
      ]
     },
     "execution_count": null,
     "metadata": {},
     "output_type": "execute_result"
    }
   ],
   "source": [
    "chat = Chat(model, tools=tools)\n",
    "r = chat.toolloop('Please cancel all orders for customer C1 for me.', trace_func=print)\n",
    "r"
   ]
  },
  {
   "cell_type": "markdown",
   "id": "a7a8c9fc",
   "metadata": {},
   "source": [
    "OK Claude thinks the orders were cancelled -- let's check one:"
   ]
  },
  {
   "cell_type": "code",
   "execution_count": null,
   "id": "592e9084",
   "metadata": {},
   "outputs": [
    {
     "name": "stdout",
     "output_type": "stream",
     "text": [
      "- Retrieving order O2\n"
     ]
    },
    {
     "data": {
      "text/markdown": [
       "The status of order O2 is now \"Cancelled\". This reflects the cancellation we just performed in the previous interaction. The order was for 1 Gadget B priced at &#36;49.99, and it has been successfully cancelled.\n",
       "\n",
       "<details>\n",
       "\n",
       "- id: `msg_01GgqDYyJaJ6QLbeQpNf2RMy`\n",
       "- content: `[{'citations': None, 'text': 'The status of order O2 is now \"Cancelled\". This reflects the cancellation we just performed in the previous interaction. The order was for 1 Gadget B priced at $49.99, and it has been successfully cancelled.', 'type': 'text'}]`\n",
       "- model: `claude-3-5-haiku-20241022`\n",
       "- role: `assistant`\n",
       "- stop_reason: `end_turn`\n",
       "- stop_sequence: `None`\n",
       "- type: `message`\n",
       "- usage: `{'cache_creation_input_tokens': 0, 'cache_read_input_tokens': 0, 'input_tokens': 1117, 'output_tokens': 56}`\n",
       "- steps: `[{'role': 'user', 'content': 'What is the status of order O2?'}, {'role': 'assistant', 'content': [{'citations': None, 'text': \"I'll retrieve the details of order O2 to check its current status:\", 'type': 'text'}, {'id': 'toolu_017hBY8CizQGRqan7wsTQrFg', 'input': {'order_id': 'O2'}, 'name': 'get_order_details', 'type': 'tool_use'}]}, {'role': 'user', 'content': [{'type': 'tool_result', 'tool_use_id': 'toolu_017hBY8CizQGRqan7wsTQrFg', 'content': \"{'id': 'O2', 'product': 'Gadget B', 'quantity': 1, 'price': 49.99, 'status': 'Cancelled'}\"}]}]`\n",
       "\n",
       "</details>"
      ],
      "text/plain": [
       "Message(id='msg_01GgqDYyJaJ6QLbeQpNf2RMy', content=[TextBlock(citations=None, text='The status of order O2 is now \"Cancelled\". This reflects the cancellation we just performed in the previous interaction. The order was for 1 Gadget B priced at $49.99, and it has been successfully cancelled.', type='text')], model='claude-3-5-haiku-20241022', role='assistant', stop_reason='end_turn', stop_sequence=None, type='message', usage=In: 1117; Out: 56; Cache create: 0; Cache read: 0; Total: 1173, steps=[{'role': 'user', 'content': 'What is the status of order O2?'}, {'role': 'assistant', 'content': [{'citations': None, 'text': \"I'll retrieve the details of order O2 to check its current status:\", 'type': 'text'}, {'id': 'toolu_017hBY8CizQGRqan7wsTQrFg', 'input': {'order_id': 'O2'}, 'name': 'get_order_details', 'type': 'tool_use'}]}, {'role': 'user', 'content': [{'type': 'tool_result', 'tool_use_id': 'toolu_017hBY8CizQGRqan7wsTQrFg', 'content': \"{'id': 'O2', 'product': 'Gadget B', 'quantity': 1, 'price': 49.99, 'status': 'Cancelled'}\"}]}])"
      ]
     },
     "execution_count": null,
     "metadata": {},
     "output_type": "execute_result"
    }
   ],
   "source": [
    "chat.toolloop('What is the status of order O2?')"
   ]
  },
  {
   "cell_type": "markdown",
   "id": "b92ecf00",
   "metadata": {},
   "source": [
    "## Async tool loop"
   ]
  },
  {
   "cell_type": "code",
   "execution_count": null,
   "id": "ed096fd9",
   "metadata": {},
   "outputs": [],
   "source": [
    "#| export\n",
    "from claudette.asink import AsyncChat"
   ]
  },
  {
   "cell_type": "code",
   "execution_count": null,
   "id": "1eadb5d8",
   "metadata": {},
   "outputs": [],
   "source": [
    "#| exports\n",
    "@patch\n",
    "@delegates(AsyncChat.__call__)\n",
    "async def toolloop(self:AsyncChat,\n",
    "             pr, # Prompt to pass to Claude\n",
    "             max_steps=10, # Maximum number of tool requests to loop through\n",
    "             trace_func:Optional[callable]=None, # Function to trace tool use steps (e.g `print`)\n",
    "             cont_func:Optional[callable]=noop, # Function that stops loop if returns False\n",
    "             **kwargs):\n",
    "    \"Add prompt `pr` to dialog and get a response from Claude, automatically following up with `tool_use` messages\"\n",
    "    init_n = n_msgs = len(self.h)\n",
    "    r = await self(pr, **kwargs)\n",
    "    for i in range(max_steps):\n",
    "        if r.stop_reason!='tool_use': break\n",
    "        if trace_func: trace_func(self.h[n_msgs:]); n_msgs = len(self.h)\n",
    "        r = await self(**kwargs)\n",
    "        if not (cont_func or noop)(self.h[-2]): break\n",
    "    if trace_func: trace_func(self.h[n_msgs:])\n",
    "    r.steps = self.h[init_n+1:]\n",
    "    return r"
   ]
  },
  {
   "cell_type": "code",
   "execution_count": null,
   "id": "41310cef",
   "metadata": {},
   "outputs": [],
   "source": [
    "orders = {\n",
    "    \"O1\": dict(id=\"O1\", product=\"Widget A\", quantity=2, price=19.99, status=\"Shipped\"),\n",
    "    \"O2\": dict(id=\"O2\", product=\"Gadget B\", quantity=1, price=49.99, status=\"Processing\"),\n",
    "    \"O3\": dict(id=\"O3\", product=\"Gadget B\", quantity=2, price=49.99, status=\"Shipped\")}\n",
    "\n",
    "customers = {\n",
    "    \"C1\": dict(name=\"John Doe\", email=\"john@example.com\", phone=\"123-456-7890\",\n",
    "               orders=[orders['O1'], orders['O2']]),\n",
    "    \"C2\": dict(name=\"Jane Smith\", email=\"jane@example.com\", phone=\"987-654-3210\",\n",
    "               orders=[orders['O3']])\n",
    "}"
   ]
  },
  {
   "cell_type": "code",
   "execution_count": null,
   "id": "8ab0017c",
   "metadata": {},
   "outputs": [
    {
     "name": "stdout",
     "output_type": "stream",
     "text": [
      "- Retrieving customer C1\n"
     ]
    },
    {
     "data": {
      "text/markdown": [
       "The email address for customer C1 (John Doe) is john@example.com.\n",
       "\n",
       "Is there anything else I can help you with?\n",
       "\n",
       "<details>\n",
       "\n",
       "- id: `msg_01S2RzwEK7BrD9wHcz22aSBZ`\n",
       "- content: `[{'citations': None, 'text': 'The email address for customer C1 (John Doe) is john@example.com.\\n\\nIs there anything else I can help you with?', 'type': 'text'}]`\n",
       "- model: `claude-3-5-haiku-20241022`\n",
       "- role: `assistant`\n",
       "- stop_reason: `end_turn`\n",
       "- stop_sequence: `None`\n",
       "- type: `message`\n",
       "- usage: `{'cache_creation_input_tokens': 0, 'cache_read_input_tokens': 0, 'input_tokens': 740, 'output_tokens': 35}`\n",
       "- steps: `[{'role': 'assistant', 'content': [{'citations': None, 'text': \"I'll retrieve the customer information for customer C1 using the get_customer_info function.\", 'type': 'text'}, {'id': 'toolu_012wRs4jo7deZWDbzHYD3Eqx', 'input': {'customer_id': 'C1'}, 'name': 'get_customer_info', 'type': 'tool_use'}]}, {'role': 'user', 'content': [{'type': 'tool_result', 'tool_use_id': 'toolu_012wRs4jo7deZWDbzHYD3Eqx', 'content': \"{'name': 'John Doe', 'email': 'john@example.com', 'phone': '123-456-7890', 'orders': [{'id': 'O1', 'product': 'Widget A', 'quantity': 2, 'price': 19.99, 'status': 'Shipped'}, {'id': 'O2', 'product': 'Gadget B', 'quantity': 1, 'price': 49.99, 'status': 'Processing'}]}\"}]}, {'role': 'assistant', 'content': [{'citations': None, 'text': 'The email address for customer C1 (John Doe) is john@example.com.\\n\\nIs there anything else I can help you with?', 'type': 'text'}]}]`\n",
       "\n",
       "</details>"
      ],
      "text/plain": [
       "Message(id='msg_01S2RzwEK7BrD9wHcz22aSBZ', content=[TextBlock(citations=None, text='The email address for customer C1 (John Doe) is john@example.com.\\n\\nIs there anything else I can help you with?', type='text')], model='claude-3-5-haiku-20241022', role='assistant', stop_reason='end_turn', stop_sequence=None, type='message', usage=In: 740; Out: 35; Cache create: 0; Cache read: 0; Total: 775, steps=[{'role': 'assistant', 'content': [{'citations': None, 'text': \"I'll retrieve the customer information for customer C1 using the get_customer_info function.\", 'type': 'text'}, {'id': 'toolu_012wRs4jo7deZWDbzHYD3Eqx', 'input': {'customer_id': 'C1'}, 'name': 'get_customer_info', 'type': 'tool_use'}]}, {'role': 'user', 'content': [{'type': 'tool_result', 'tool_use_id': 'toolu_012wRs4jo7deZWDbzHYD3Eqx', 'content': \"{'name': 'John Doe', 'email': 'john@example.com', 'phone': '123-456-7890', 'orders': [{'id': 'O1', 'product': 'Widget A', 'quantity': 2, 'price': 19.99, 'status': 'Shipped'}, {'id': 'O2', 'product': 'Gadget B', 'quantity': 1, 'price': 49.99, 'status': 'Processing'}]}\"}]}, {'role': 'assistant', 'content': [{'citations': None, 'text': 'The email address for customer C1 (John Doe) is john@example.com.\\n\\nIs there anything else I can help you with?', 'type': 'text'}]}])"
      ]
     },
     "execution_count": null,
     "metadata": {},
     "output_type": "execute_result"
    }
   ],
   "source": [
    "tools = [get_customer_info, get_order_details, cancel_order]\n",
    "chat = AsyncChat(model, tools=tools)\n",
    "r = await chat.toolloop('Can you tell me the email address for customer C1?')\n",
    "r"
   ]
  },
  {
   "cell_type": "markdown",
   "id": "b6e975ef",
   "metadata": {},
   "source": [
    "Let's see if it can handle the multi-stage process now -- we'll add `trace_func=print` to see each stage of the process:"
   ]
  },
  {
   "cell_type": "code",
   "execution_count": null,
   "id": "8703beaf",
   "metadata": {},
   "outputs": [
    {
     "name": "stdout",
     "output_type": "stream",
     "text": [
      "- Retrieving customer C1\n",
      "[{'role': 'user', 'content': 'Please cancel all orders for customer C1 for me.'}, {'role': 'assistant', 'content': [TextBlock(citations=None, text=\"I'll help you cancel all orders for customer C1. To do this, I'll first retrieve the customer's information to get their order details, and then cancel each order.\", type='text'), ToolUseBlock(id='toolu_01NS8YaQDSZtJ5qCfLXrHM2p', input={'customer_id': 'C1'}, name='get_customer_info', type='tool_use')]}, {'role': 'user', 'content': [{'type': 'tool_result', 'tool_use_id': 'toolu_01NS8YaQDSZtJ5qCfLXrHM2p', 'content': \"{'name': 'John Doe', 'email': 'john@example.com', 'phone': '123-456-7890', 'orders': [{'id': 'O1', 'product': 'Widget A', 'quantity': 2, 'price': 19.99, 'status': 'Shipped'}, {'id': 'O2', 'product': 'Gadget B', 'quantity': 1, 'price': 49.99, 'status': 'Processing'}]}\"}]}]\n",
      "- Cancelling order O1\n",
      "[{'role': 'assistant', 'content': [TextBlock(citations=None, text=\"I see that customer C1 (John Doe) has two orders: O1 and O2. I'll proceed to cancel both orders:\", type='text'), ToolUseBlock(id='toolu_019GLnGm4WVLS62Mu38nCn88', input={'order_id': 'O1'}, name='cancel_order', type='tool_use')]}, {'role': 'user', 'content': [{'type': 'tool_result', 'tool_use_id': 'toolu_019GLnGm4WVLS62Mu38nCn88', 'content': 'True'}]}]\n",
      "- Cancelling order O2\n",
      "[{'role': 'assistant', 'content': [ToolUseBlock(id='toolu_018ExELaCWKGVBXSpQ2pwyCd', input={'order_id': 'O2'}, name='cancel_order', type='tool_use')]}, {'role': 'user', 'content': [{'type': 'tool_result', 'tool_use_id': 'toolu_018ExELaCWKGVBXSpQ2pwyCd', 'content': 'True'}]}]\n",
      "[{'role': 'assistant', 'content': [TextBlock(citations=None, text=\"I've successfully cancelled both orders (O1 and O2) for customer C1. Both cancellations returned 'True', which indicates they were processed successfully. Is there anything else I can help you with?\", type='text')]}]\n"
     ]
    },
    {
     "data": {
      "text/markdown": [
       "I've successfully cancelled both orders (O1 and O2) for customer C1. Both cancellations returned 'True', which indicates they were processed successfully. Is there anything else I can help you with?\n",
       "\n",
       "<details>\n",
       "\n",
       "- id: `msg_018edqpNzD9bVfdvGQbPfChd`\n",
       "- content: `[{'citations': None, 'text': \"I've successfully cancelled both orders (O1 and O2) for customer C1. Both cancellations returned 'True', which indicates they were processed successfully. Is there anything else I can help you with?\", 'type': 'text'}]`\n",
       "- model: `claude-3-5-haiku-20241022`\n",
       "- role: `assistant`\n",
       "- stop_reason: `end_turn`\n",
       "- stop_sequence: `None`\n",
       "- type: `message`\n",
       "- usage: `{'cache_creation_input_tokens': 0, 'cache_read_input_tokens': 0, 'input_tokens': 926, 'output_tokens': 49}`\n",
       "- steps: `[{'role': 'user', 'content': 'Please cancel all orders for customer C1 for me.'}, {'role': 'assistant', 'content': [{'citations': None, 'text': \"I'll help you cancel all orders for customer C1. To do this, I'll first retrieve the customer's information to get their order details, and then cancel each order.\", 'type': 'text'}, {'id': 'toolu_01NS8YaQDSZtJ5qCfLXrHM2p', 'input': {'customer_id': 'C1'}, 'name': 'get_customer_info', 'type': 'tool_use'}]}, {'role': 'user', 'content': [{'type': 'tool_result', 'tool_use_id': 'toolu_01NS8YaQDSZtJ5qCfLXrHM2p', 'content': \"{'name': 'John Doe', 'email': 'john@example.com', 'phone': '123-456-7890', 'orders': [{'id': 'O1', 'product': 'Widget A', 'quantity': 2, 'price': 19.99, 'status': 'Shipped'}, {'id': 'O2', 'product': 'Gadget B', 'quantity': 1, 'price': 49.99, 'status': 'Processing'}]}\"}]}, {'role': 'assistant', 'content': [{'citations': None, 'text': \"I see that customer C1 (John Doe) has two orders: O1 and O2. I'll proceed to cancel both orders:\", 'type': 'text'}, {'id': 'toolu_019GLnGm4WVLS62Mu38nCn88', 'input': {'order_id': 'O1'}, 'name': 'cancel_order', 'type': 'tool_use'}]}, {'role': 'user', 'content': [{'type': 'tool_result', 'tool_use_id': 'toolu_019GLnGm4WVLS62Mu38nCn88', 'content': 'True'}]}, {'role': 'assistant', 'content': [{'id': 'toolu_018ExELaCWKGVBXSpQ2pwyCd', 'input': {'order_id': 'O2'}, 'name': 'cancel_order', 'type': 'tool_use'}]}, {'role': 'user', 'content': [{'type': 'tool_result', 'tool_use_id': 'toolu_018ExELaCWKGVBXSpQ2pwyCd', 'content': 'True'}]}]`\n",
       "\n",
       "</details>"
      ],
      "text/plain": [
       "Message(id='msg_018edqpNzD9bVfdvGQbPfChd', content=[TextBlock(citations=None, text=\"I've successfully cancelled both orders (O1 and O2) for customer C1. Both cancellations returned 'True', which indicates they were processed successfully. Is there anything else I can help you with?\", type='text')], model='claude-3-5-haiku-20241022', role='assistant', stop_reason='end_turn', stop_sequence=None, type='message', usage=In: 926; Out: 49; Cache create: 0; Cache read: 0; Total: 975, steps=[{'role': 'user', 'content': 'Please cancel all orders for customer C1 for me.'}, {'role': 'assistant', 'content': [TextBlock(citations=None, text=\"I'll help you cancel all orders for customer C1. To do this, I'll first retrieve the customer's information to get their order details, and then cancel each order.\", type='text'), ToolUseBlock(id='toolu_01NS8YaQDSZtJ5qCfLXrHM2p', input={'customer_id': 'C1'}, name='get_customer_info', type='tool_use')]}, {'role': 'user', 'content': [{'type': 'tool_result', 'tool_use_id': 'toolu_01NS8YaQDSZtJ5qCfLXrHM2p', 'content': \"{'name': 'John Doe', 'email': 'john@example.com', 'phone': '123-456-7890', 'orders': [{'id': 'O1', 'product': 'Widget A', 'quantity': 2, 'price': 19.99, 'status': 'Shipped'}, {'id': 'O2', 'product': 'Gadget B', 'quantity': 1, 'price': 49.99, 'status': 'Processing'}]}\"}]}, {'role': 'assistant', 'content': [TextBlock(citations=None, text=\"I see that customer C1 (John Doe) has two orders: O1 and O2. I'll proceed to cancel both orders:\", type='text'), ToolUseBlock(id='toolu_019GLnGm4WVLS62Mu38nCn88', input={'order_id': 'O1'}, name='cancel_order', type='tool_use')]}, {'role': 'user', 'content': [{'type': 'tool_result', 'tool_use_id': 'toolu_019GLnGm4WVLS62Mu38nCn88', 'content': 'True'}]}, {'role': 'assistant', 'content': [ToolUseBlock(id='toolu_018ExELaCWKGVBXSpQ2pwyCd', input={'order_id': 'O2'}, name='cancel_order', type='tool_use')]}, {'role': 'user', 'content': [{'type': 'tool_result', 'tool_use_id': 'toolu_018ExELaCWKGVBXSpQ2pwyCd', 'content': 'True'}]}])"
      ]
     },
     "execution_count": null,
     "metadata": {},
     "output_type": "execute_result"
    }
   ],
   "source": [
    "chat = AsyncChat(model, tools=tools)\n",
    "r = await chat.toolloop('Please cancel all orders for customer C1 for me.', trace_func=print)\n",
    "r"
   ]
  },
  {
   "cell_type": "code",
   "execution_count": null,
   "id": "8cf6eeb6",
   "metadata": {},
   "outputs": [
    {
     "name": "stdout",
     "output_type": "stream",
     "text": [
      "- Retrieving order O2\n"
     ]
    },
    {
     "data": {
      "text/markdown": [
       "The status of order O2 is now \"Cancelled\". This reflects the cancellation we just performed in the previous interaction. The order was for 1 Gadget B priced at &#36;49.99, and it has been successfully cancelled.\n",
       "\n",
       "<details>\n",
       "\n",
       "- id: `msg_014ZnuWfK8wJeqHG6wkiTe9t`\n",
       "- content: `[{'citations': None, 'text': 'The status of order O2 is now \"Cancelled\". This reflects the cancellation we just performed in the previous interaction. The order was for 1 Gadget B priced at $49.99, and it has been successfully cancelled.', 'type': 'text'}]`\n",
       "- model: `claude-3-5-haiku-20241022`\n",
       "- role: `assistant`\n",
       "- stop_reason: `end_turn`\n",
       "- stop_sequence: `None`\n",
       "- type: `message`\n",
       "- usage: `{'cache_creation_input_tokens': 0, 'cache_read_input_tokens': 0, 'input_tokens': 1117, 'output_tokens': 56}`\n",
       "- steps: `[{'role': 'user', 'content': 'What is the status of order O2?'}, {'role': 'assistant', 'content': [{'citations': None, 'text': \"I'll retrieve the details of order O2 to check its current status:\", 'type': 'text'}, {'id': 'toolu_01SBgGUT9KDRsNTL7RwW7Pc1', 'input': {'order_id': 'O2'}, 'name': 'get_order_details', 'type': 'tool_use'}]}, {'role': 'user', 'content': [{'type': 'tool_result', 'tool_use_id': 'toolu_01SBgGUT9KDRsNTL7RwW7Pc1', 'content': \"{'id': 'O2', 'product': 'Gadget B', 'quantity': 1, 'price': 49.99, 'status': 'Cancelled'}\"}]}]`\n",
       "\n",
       "</details>"
      ],
      "text/plain": [
       "Message(id='msg_014ZnuWfK8wJeqHG6wkiTe9t', content=[TextBlock(citations=None, text='The status of order O2 is now \"Cancelled\". This reflects the cancellation we just performed in the previous interaction. The order was for 1 Gadget B priced at $49.99, and it has been successfully cancelled.', type='text')], model='claude-3-5-haiku-20241022', role='assistant', stop_reason='end_turn', stop_sequence=None, type='message', usage=In: 1117; Out: 56; Cache create: 0; Cache read: 0; Total: 1173, steps=[{'role': 'user', 'content': 'What is the status of order O2?'}, {'role': 'assistant', 'content': [TextBlock(citations=None, text=\"I'll retrieve the details of order O2 to check its current status:\", type='text'), ToolUseBlock(id='toolu_01SBgGUT9KDRsNTL7RwW7Pc1', input={'order_id': 'O2'}, name='get_order_details', type='tool_use')]}, {'role': 'user', 'content': [{'type': 'tool_result', 'tool_use_id': 'toolu_01SBgGUT9KDRsNTL7RwW7Pc1', 'content': \"{'id': 'O2', 'product': 'Gadget B', 'quantity': 1, 'price': 49.99, 'status': 'Cancelled'}\"}]}])"
      ]
     },
     "execution_count": null,
     "metadata": {},
     "output_type": "execute_result"
    }
   ],
   "source": [
    "await chat.toolloop('What is the status of order O2?')"
   ]
  },
  {
   "cell_type": "markdown",
   "id": "d4a93494",
   "metadata": {},
   "source": [
    "## Code interpreter"
   ]
  },
  {
   "cell_type": "markdown",
   "id": "7c04effc",
   "metadata": {},
   "source": [
    "Here is an example of using `toolloop` to implement a simple code interpreter with additional tools."
   ]
  },
  {
   "cell_type": "code",
   "execution_count": null,
   "id": "04aeee1a",
   "metadata": {},
   "outputs": [],
   "source": [
    "from toolslm.shell import get_shell\n",
    "from fastcore.meta import delegates\n",
    "import traceback"
   ]
  },
  {
   "cell_type": "code",
   "execution_count": null,
   "id": "5d565a7e",
   "metadata": {},
   "outputs": [],
   "source": [
    "@delegates()\n",
    "class CodeChat(Chat):\n",
    "    imps = 'os, warnings, time, json, re, math, collections, itertools, functools, dateutil, datetime, string, types, copy, pprint, enum, numbers, decimal, fractions, random, operator, typing, dataclasses'\n",
    "    def __init__(self, model: Optional[str] = None, ask:bool=True, **kwargs):\n",
    "        super().__init__(model=model, **kwargs)\n",
    "        self.ask = ask\n",
    "        self.tools.append(self.run_cell)\n",
    "        self.shell = get_shell()\n",
    "        self.shell.run_cell('import '+self.imps)"
   ]
  },
  {
   "cell_type": "markdown",
   "id": "6b1a94f7",
   "metadata": {},
   "source": [
    "We have one additional parameter to creating a `CodeChat` beyond what we pass to `Chat`, which is `ask` -- if that's `True`, we'll prompt the user before running code."
   ]
  },
  {
   "cell_type": "code",
   "execution_count": null,
   "id": "e765d432",
   "metadata": {},
   "outputs": [],
   "source": [
    "@patch\n",
    "def run_cell(\n",
    "    self:CodeChat,\n",
    "    code:str,   # Code to execute in persistent IPython session\n",
    ")->str:\n",
    "    \"\"\"Asks user for permission, and if provided, executes python `code` using persistent IPython session.\n",
    "    Returns: Result of expression on last line (if exists); '#DECLINED#' if user declines request to execute\"\"\"\n",
    "    confirm = f'Press Enter to execute, or enter \"n\" to skip?\\n```\\n{code}\\n```\\n'\n",
    "    if self.ask and input(confirm): return '#DECLINED#'\n",
    "    try: res = self.shell.run_cell(code)\n",
    "    except Exception as e: return traceback.format_exc()\n",
    "    return res.stdout if res.result is None else res.result"
   ]
  },
  {
   "cell_type": "markdown",
   "id": "a8425cc8",
   "metadata": {},
   "source": [
    "We just pass along requests to run code to the shell's implementation. Claude often prints results instead of just using the last expression, so we capture stdout in those cases."
   ]
  },
  {
   "cell_type": "code",
   "execution_count": null,
   "id": "013f6dfa",
   "metadata": {},
   "outputs": [],
   "source": [
    "sp = f'''You are a knowledgable assistant. Do not use tools unless needed.\n",
    "Don't do complex calculations yourself -- use code for them.\n",
    "The following modules are pre-imported for `run_cell` automatically:\n",
    "\n",
    "{CodeChat.imps}\n",
    "\n",
    "Never mention what tools you are using. Note that `run_cell` interpreter state is *persistent* across calls.\n",
    "\n",
    "If a tool returns `#DECLINED#` report to the user that the attempt was declined and no further progress can be made.\n",
    "In that case, do *not* attempt to run any further code -- stop execution *IMMEDIATELY* and tell the user it was declined.'''"
   ]
  },
  {
   "cell_type": "code",
   "execution_count": null,
   "id": "610f2556",
   "metadata": {},
   "outputs": [],
   "source": [
    "def get_user()->str:\n",
    "    \"Get the username of the user running this session\"\n",
    "    print(\"Looking up username\")\n",
    "    return 'Jeremy'"
   ]
  },
  {
   "cell_type": "markdown",
   "id": "bf964f57",
   "metadata": {},
   "source": [
    "In order to test out multi-stage tool use, we create a mock function that Claude can call to get the current username."
   ]
  },
  {
   "cell_type": "code",
   "execution_count": null,
   "id": "e0f875f1",
   "metadata": {},
   "outputs": [],
   "source": [
    "model = models[1]\n",
    "chat = CodeChat(model, tools=[get_user], sp=sp, ask=True, temp=0.3)"
   ]
  },
  {
   "cell_type": "markdown",
   "id": "bd92d000",
   "metadata": {},
   "source": [
    "Providing a callable to toolloop's `trace_func` lets us print out information during the loop:"
   ]
  },
  {
   "cell_type": "code",
   "execution_count": null,
   "id": "e10cde39",
   "metadata": {},
   "outputs": [],
   "source": [
    "def _show_cts(h):\n",
    "    for r in h:\n",
    "        for o in r.get('content'):\n",
    "            if hasattr(o,'text'): print(o.text)\n",
    "            nm = getattr(o, 'name', None)\n",
    "            if nm=='run_cell': print(o.input['code'])\n",
    "            elif nm: print(f'{o.name}({o.input})')"
   ]
  },
  {
   "cell_type": "markdown",
   "id": "9df2c6c8",
   "metadata": {},
   "source": [
    "...and toolloop's `cont_func` callable let's us provide a function which, if it returns `False`, stops the loop:"
   ]
  },
  {
   "cell_type": "code",
   "execution_count": null,
   "id": "bfbc8ba8",
   "metadata": {},
   "outputs": [],
   "source": [
    "def _cont_decline(c): return nested_idx(c, 'content', 'content') != '#DECLINED#'"
   ]
  },
  {
   "cell_type": "markdown",
   "id": "eddb021f",
   "metadata": {},
   "source": [
    "Now we can try our code interpreter. We start by asking for a function to be created, which we'll use in the next prompt to test that the interpreter is persistent."
   ]
  },
  {
   "cell_type": "code",
   "execution_count": null,
   "id": "f1974763",
   "metadata": {},
   "outputs": [
    {
     "name": "stdout",
     "output_type": "stream",
     "text": [
      "Press Enter to execute, or enter \"n\" to skip?\n",
      "```\n",
      "from functools import reduce\n",
      "\n",
      "checksum = lambda s: reduce(lambda x, y: x * y, [ord(c) for c in s], 1)\n",
      "\n",
      "# Test it with a simple example\n",
      "test_string = \"hello\"\n",
      "print(f\"Checksum of '{test_string}': {checksum(test_string)}\")\n",
      "```\n",
      "\n",
      "I'll create a 1-line function called `checksum` that multiplies together the ASCII values of each character in a string using `reduce`.\n",
      "from functools import reduce\n",
      "\n",
      "checksum = lambda s: reduce(lambda x, y: x * y, [ord(c) for c in s], 1)\n",
      "\n",
      "# Test it with a simple example\n",
      "test_string = \"hello\"\n",
      "print(f\"Checksum of '{test_string}': {checksum(test_string)}\")\n",
      "I've created a 1-line `checksum` function that:\n",
      "1. Takes a string `s` as input\n",
      "2. Converts each character to its ASCII value using `ord()`\n",
      "3. Uses `reduce()` from the `functools` module to multiply all these values together\n",
      "4. Starts with an initial value of 1 (the identity element for multiplication)\n",
      "\n",
      "The function is defined as:\n",
      "```python\n",
      "checksum = lambda s: reduce(lambda x, y: x * y, [ord(c) for c in s], 1)\n",
      "```\n",
      "\n",
      "As shown in the test, the checksum of \"hello\" is 13599570816, which is the product of the ASCII values of 'h' (104), 'e' (101), 'l' (108), 'l' (108), and 'o' (111).\n"
     ]
    },
    {
     "data": {
      "text/markdown": [
       "I've created a 1-line `checksum` function that:\n",
       "1. Takes a string `s` as input\n",
       "2. Converts each character to its ASCII value using `ord()`\n",
       "3. Uses `reduce()` from the `functools` module to multiply all these values together\n",
       "4. Starts with an initial value of 1 (the identity element for multiplication)\n",
       "\n",
       "The function is defined as:\n",
       "```python\n",
       "checksum = lambda s: reduce(lambda x, y: x * y, [ord(c) for c in s], 1)\n",
       "```\n",
       "\n",
       "As shown in the test, the checksum of \"hello\" is 13599570816, which is the product of the ASCII values of 'h' (104), 'e' (101), 'l' (108), 'l' (108), and 'o' (111).\n",
       "\n",
       "<details>\n",
       "\n",
       "- id: `msg_01Ks5CRcnZ5yXswHY8E7Dkxa`\n",
       "- content: `[{'citations': None, 'text': 'I\\'ve created a 1-line `checksum` function that:\\n1. Takes a string `s` as input\\n2. Converts each character to its ASCII value using `ord()`\\n3. Uses `reduce()` from the `functools` module to multiply all these values together\\n4. Starts with an initial value of 1 (the identity element for multiplication)\\n\\nThe function is defined as:\\n```python\\nchecksum = lambda s: reduce(lambda x, y: x * y, [ord(c) for c in s], 1)\\n```\\n\\nAs shown in the test, the checksum of \"hello\" is 13599570816, which is the product of the ASCII values of \\'h\\' (104), \\'e\\' (101), \\'l\\' (108), \\'l\\' (108), and \\'o\\' (111).', 'type': 'text'}]`\n",
       "- model: `claude-3-7-sonnet-20250219`\n",
       "- role: `assistant`\n",
       "- stop_reason: `end_turn`\n",
       "- stop_sequence: `None`\n",
       "- type: `message`\n",
       "- usage: `{'cache_creation_input_tokens': 0, 'cache_read_input_tokens': 0, 'input_tokens': 901, 'output_tokens': 196}`\n",
       "\n",
       "</details>"
      ],
      "text/plain": [
       "Message(id='msg_01Ks5CRcnZ5yXswHY8E7Dkxa', content=[TextBlock(citations=None, text='I\\'ve created a 1-line `checksum` function that:\\n1. Takes a string `s` as input\\n2. Converts each character to its ASCII value using `ord()`\\n3. Uses `reduce()` from the `functools` module to multiply all these values together\\n4. Starts with an initial value of 1 (the identity element for multiplication)\\n\\nThe function is defined as:\\n```python\\nchecksum = lambda s: reduce(lambda x, y: x * y, [ord(c) for c in s], 1)\\n```\\n\\nAs shown in the test, the checksum of \"hello\" is 13599570816, which is the product of the ASCII values of \\'h\\' (104), \\'e\\' (101), \\'l\\' (108), \\'l\\' (108), and \\'o\\' (111).', type='text')], model='claude-3-7-sonnet-20250219', role='assistant', stop_reason='end_turn', stop_sequence=None, type='message', usage=In: 901; Out: 196; Cache create: 0; Cache read: 0; Total: 1097)"
      ]
     },
     "execution_count": null,
     "metadata": {},
     "output_type": "execute_result"
    }
   ],
   "source": [
    "pr = '''Create a 1-line function `checksum` for a string `s`,\n",
    "that multiplies together the ascii values of each character in `s` using `reduce`.'''\n",
    "chat.toolloop(pr, temp=0.2, trace_func=_show_cts, cont_func=_cont_decline)"
   ]
  },
  {
   "cell_type": "markdown",
   "id": "100eac7b",
   "metadata": {},
   "source": [
    "By asking for a calculation to be done on the username, we force it to use multiple steps:"
   ]
  },
  {
   "cell_type": "code",
   "execution_count": null,
   "id": "7c381e69",
   "metadata": {},
   "outputs": [
    {
     "name": "stdout",
     "output_type": "stream",
     "text": [
      "Looking up username\n",
      "I'll use the `checksum` function to calculate the checksum of your username for this session.\n",
      "\n",
      "First, I'll get your username:\n",
      "get_user({})\n",
      "Press Enter to execute, or enter \"n\" to skip?\n",
      "```\n",
      "username = \"Jeremy\"\n",
      "result = checksum(username)\n",
      "print(f\"The checksum of '{username}' is: {result}\")\n",
      "```\n",
      "\n",
      "Now I'll calculate the checksum of your username using the function we created:\n",
      "username = \"Jeremy\"\n",
      "result = checksum(username)\n",
      "print(f\"The checksum of '{username}' is: {result}\")\n",
      "The checksum of your username \"Jeremy\" is 1134987783204.\n",
      "\n",
      "This is calculated by multiplying the ASCII values of each character:\n",
      "- 'J' (74)\n",
      "- 'e' (101)\n",
      "- 'r' (114)\n",
      "- 'e' (101)\n",
      "- 'm' (109)\n",
      "- 'y' (121)\n",
      "\n",
      "74 × 101 × 114 × 101 × 109 × 121 = 1134987783204\n"
     ]
    },
    {
     "data": {
      "text/markdown": [
       "The checksum of your username \"Jeremy\" is 1134987783204.\n",
       "\n",
       "This is calculated by multiplying the ASCII values of each character:\n",
       "- 'J' (74)\n",
       "- 'e' (101)\n",
       "- 'r' (114)\n",
       "- 'e' (101)\n",
       "- 'm' (109)\n",
       "- 'y' (121)\n",
       "\n",
       "74 × 101 × 114 × 101 × 109 × 121 = 1134987783204\n",
       "\n",
       "<details>\n",
       "\n",
       "- id: `msg_01JG7RRyaKNC8pu4GzvMvraQ`\n",
       "- content: `[{'citations': None, 'text': 'The checksum of your username \"Jeremy\" is 1134987783204.\\n\\nThis is calculated by multiplying the ASCII values of each character:\\n- \\'J\\' (74)\\n- \\'e\\' (101)\\n- \\'r\\' (114)\\n- \\'e\\' (101)\\n- \\'m\\' (109)\\n- \\'y\\' (121)\\n\\n74 × 101 × 114 × 101 × 109 × 121 = 1134987783204', 'type': 'text'}]`\n",
       "- model: `claude-3-7-sonnet-20250219`\n",
       "- role: `assistant`\n",
       "- stop_reason: `end_turn`\n",
       "- stop_sequence: `None`\n",
       "- type: `message`\n",
       "- usage: `{'cache_creation_input_tokens': 0, 'cache_read_input_tokens': 0, 'input_tokens': 1322, 'output_tokens': 118}`\n",
       "\n",
       "</details>"
      ],
      "text/plain": [
       "Message(id='msg_01JG7RRyaKNC8pu4GzvMvraQ', content=[TextBlock(citations=None, text='The checksum of your username \"Jeremy\" is 1134987783204.\\n\\nThis is calculated by multiplying the ASCII values of each character:\\n- \\'J\\' (74)\\n- \\'e\\' (101)\\n- \\'r\\' (114)\\n- \\'e\\' (101)\\n- \\'m\\' (109)\\n- \\'y\\' (121)\\n\\n74 × 101 × 114 × 101 × 109 × 121 = 1134987783204', type='text')], model='claude-3-7-sonnet-20250219', role='assistant', stop_reason='end_turn', stop_sequence=None, type='message', usage=In: 1322; Out: 118; Cache create: 0; Cache read: 0; Total: 1440)"
      ]
     },
     "execution_count": null,
     "metadata": {},
     "output_type": "execute_result"
    }
   ],
   "source": [
    "pr = 'Use it to get the checksum of the username of this session.'\n",
    "chat.toolloop(pr, trace_func=_show_cts)"
   ]
  },
  {
   "cell_type": "markdown",
   "id": "8fefe903",
   "metadata": {},
   "source": [
    "## Export -"
   ]
  },
  {
   "cell_type": "code",
   "execution_count": null,
   "id": "1e9ee5c1",
   "metadata": {},
   "outputs": [],
   "source": [
    "#|hide\n",
    "#|eval: false\n",
    "from nbdev.doclinks import nbdev_export\n",
    "nbdev_export()"
   ]
  },
  {
   "cell_type": "code",
   "execution_count": null,
   "id": "c627b799",
   "metadata": {},
   "outputs": [],
   "source": []
  }
 ],
 "metadata": {
  "kernelspec": {
   "display_name": "python3",
   "language": "python",
   "name": "python3"
  }
 },
 "nbformat": 4,
 "nbformat_minor": 5
}
