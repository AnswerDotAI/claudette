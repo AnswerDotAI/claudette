{
 "cells": [
  {
   "cell_type": "code",
   "execution_count": 1,
   "id": "efe78920",
   "metadata": {},
   "outputs": [],
   "source": [
    "#|default_exp toolloop"
   ]
  },
  {
   "cell_type": "markdown",
   "id": "3d773712-12fe-440e-891f-36f59666dfde",
   "metadata": {},
   "source": [
    "# Tool loop"
   ]
  },
  {
   "cell_type": "code",
   "execution_count": 2,
   "id": "322371c7",
   "metadata": {},
   "outputs": [],
   "source": [
    "import os\n",
    "# os.environ['ANTHROPIC_LOG'] = 'debug'"
   ]
  },
  {
   "cell_type": "code",
   "execution_count": 3,
   "id": "033c76fd",
   "metadata": {},
   "outputs": [],
   "source": [
    "#| export\n",
    "from claudette.core import *\n",
    "from fastcore.utils import *\n",
    "from fastcore.meta import delegates\n",
    "from functools import wraps\n",
    "\n",
    "from anthropic.types import TextBlock, Message, ToolUseBlock"
   ]
  },
  {
   "cell_type": "code",
   "execution_count": 4,
   "id": "0b9ee7f3",
   "metadata": {},
   "outputs": [],
   "source": [
    "from IPython.display import display, Markdown, clear_output\n",
    "from pprint import pprint"
   ]
  },
  {
   "cell_type": "code",
   "execution_count": 5,
   "id": "24ee745e",
   "metadata": {},
   "outputs": [
    {
     "data": {
      "text/plain": [
       "'claude-sonnet-4-20250514'"
      ]
     },
     "execution_count": 5,
     "metadata": {},
     "output_type": "execute_result"
    }
   ],
   "source": [
    "model = models[1]\n",
    "model"
   ]
  },
  {
   "cell_type": "markdown",
   "id": "4eed0a59",
   "metadata": {
    "heading_collapsed": true
   },
   "source": [
    "## Problem setup"
   ]
  },
  {
   "cell_type": "markdown",
   "id": "63111054",
   "metadata": {
    "hidden": true
   },
   "source": [
    "Anthropic provides an [interesting example](https://github.com/anthropics/anthropic-cookbook/blob/main/tool_use/customer_service_agent.ipynb) of using tools to mock up a hypothetical ordering system. We're going to take it a step further, and show how we can dramatically simplify the process, whilst completing more complex tasks.\n",
    "\n",
    "We'll start by defining the same mock customer/order data as in Anthropic's example, plus create a entity relationship between customers and orders:"
   ]
  },
  {
   "cell_type": "code",
   "execution_count": 6,
   "id": "d94ec5e5",
   "metadata": {
    "hidden": true
   },
   "outputs": [],
   "source": [
    "def _get_orders_customers():\n",
    "    orders = {\n",
    "        \"O1\": dict(id=\"O1\", product=\"Widget A\", quantity=2, price=19.99, status=\"Shipped\"),\n",
    "        \"O2\": dict(id=\"O2\", product=\"Gadget B\", quantity=1, price=49.99, status=\"Processing\"),\n",
    "        \"O3\": dict(id=\"O3\", product=\"Gadget B\", quantity=2, price=49.99, status=\"Shipped\")}\n",
    "\n",
    "    customers = {\n",
    "        \"C1\": dict(name=\"John Doe\", email=\"john@example.com\", phone=\"123-456-7890\",\n",
    "                   orders=[orders['O1'], orders['O2']]),\n",
    "        \"C2\": dict(name=\"Jane Smith\", email=\"jane@example.com\", phone=\"987-654-3210\",\n",
    "                   orders=[orders['O3']])\n",
    "    }\n",
    "    return orders, customers"
   ]
  },
  {
   "cell_type": "code",
   "execution_count": 7,
   "id": "207f9715",
   "metadata": {
    "hidden": true
   },
   "outputs": [],
   "source": [
    "orders, customers = _get_orders_customers()"
   ]
  },
  {
   "cell_type": "markdown",
   "id": "2d8eed7b",
   "metadata": {
    "hidden": true
   },
   "source": [
    "We can now define the same functions from the original example -- but note that we don't need to manually create the large JSON schema, since Claudette handles all that for us automatically from the functions directly. We'll add some extra functionality to update order details when cancelling too."
   ]
  },
  {
   "cell_type": "code",
   "execution_count": 8,
   "id": "2778dde0",
   "metadata": {
    "hidden": true
   },
   "outputs": [],
   "source": [
    "def get_customer_info(\n",
    "    customer_id:str # ID of the customer\n",
    "): # Customer's name, email, phone number, and list of orders\n",
    "    \"Retrieves a customer's information and their orders based on the customer ID\"\n",
    "    print(f'- Retrieving customer {customer_id}')\n",
    "    return customers.get(customer_id, \"Customer not found\")\n",
    "\n",
    "def get_order_details(\n",
    "    order_id:str # ID of the order\n",
    "): # Order's ID, product name, quantity, price, and order status\n",
    "    \"Retrieves the details of a specific order based on the order ID\"\n",
    "    print(f'- Retrieving order {order_id}')\n",
    "    return orders.get(order_id, \"Order not found\")\n",
    "\n",
    "def cancel_order(\n",
    "    order_id:str # ID of the order to cancel\n",
    ")->bool: # True if the cancellation is successful\n",
    "    \"Cancels an order based on the provided order ID\"\n",
    "    print(f'- Cancelling order {order_id}')\n",
    "    if order_id not in orders: return False\n",
    "    orders[order_id]['status'] = 'Cancelled'\n",
    "    return True"
   ]
  },
  {
   "cell_type": "markdown",
   "id": "a1278535",
   "metadata": {
    "hidden": true
   },
   "source": [
    "We're now ready to start our chat."
   ]
  },
  {
   "cell_type": "markdown",
   "id": "2238e962",
   "metadata": {
    "heading_collapsed": true
   },
   "source": [
    "## Manual tool use"
   ]
  },
  {
   "cell_type": "code",
   "execution_count": 9,
   "id": "134ceec8",
   "metadata": {
    "hidden": true
   },
   "outputs": [],
   "source": [
    "tools = [get_customer_info, get_order_details, cancel_order]"
   ]
  },
  {
   "cell_type": "code",
   "execution_count": 10,
   "id": "a4231dff",
   "metadata": {
    "hidden": true
   },
   "outputs": [],
   "source": [
    "chat = Chat(model, tools=tools)"
   ]
  },
  {
   "cell_type": "markdown",
   "id": "41db970a",
   "metadata": {
    "hidden": true
   },
   "source": [
    "We'll start with the same request as Anthropic showed:"
   ]
  },
  {
   "cell_type": "code",
   "execution_count": 11,
   "id": "fc334a2f",
   "metadata": {
    "hidden": true
   },
   "outputs": [
    {
     "name": "stdout",
     "output_type": "stream",
     "text": [
      "- Retrieving customer C1\n",
      "tool_use\n"
     ]
    },
    {
     "data": {
      "text/plain": [
       "[TextBlock(citations=None, text=\"I'll retrieve the customer information for customer C1 to get their email address.\", type='text'),\n",
       " ToolUseBlock(id='toolu_01TPFnVGd5gFg9CKL7pLGKcL', input={'customer_id': 'C1'}, name='get_customer_info', type='tool_use')]"
      ]
     },
     "execution_count": 11,
     "metadata": {},
     "output_type": "execute_result"
    }
   ],
   "source": [
    "r = chat('Can you tell me the email address for customer C1?')\n",
    "print(r.stop_reason)\n",
    "r.content"
   ]
  },
  {
   "cell_type": "markdown",
   "id": "3f6d3ae8",
   "metadata": {
    "hidden": true
   },
   "source": [
    "Claude asks us to use a tool. Claudette handles that automatically by just calling it again:"
   ]
  },
  {
   "cell_type": "code",
   "execution_count": 12,
   "id": "09196e94",
   "metadata": {
    "hidden": true
   },
   "outputs": [
    {
     "data": {
      "text/plain": [
       "'The email address for customer C1 (John Doe) is john@example.com.'"
      ]
     },
     "execution_count": 12,
     "metadata": {},
     "output_type": "execute_result"
    }
   ],
   "source": [
    "r = chat()\n",
    "contents(r)"
   ]
  },
  {
   "cell_type": "markdown",
   "id": "26fe5edb",
   "metadata": {
    "hidden": true
   },
   "source": [
    "Let's consider a more complex case than in the original example -- what happens if a customer wants to cancel all of their orders?"
   ]
  },
  {
   "cell_type": "code",
   "execution_count": 13,
   "id": "6aa531d0",
   "metadata": {
    "hidden": true
   },
   "outputs": [
    {
     "name": "stdout",
     "output_type": "stream",
     "text": [
      "- Retrieving customer C1\n",
      "tool_use\n"
     ]
    },
    {
     "data": {
      "text/plain": [
       "[TextBlock(citations=None, text=\"I'll help you cancel all orders for customer C1. First, let me retrieve the customer's information to see what orders they have.\", type='text'),\n",
       " ToolUseBlock(id='toolu_01KjiaEQVfXSpNGk2eEuHtcf', input={'customer_id': 'C1'}, name='get_customer_info', type='tool_use')]"
      ]
     },
     "execution_count": 13,
     "metadata": {},
     "output_type": "execute_result"
    }
   ],
   "source": [
    "chat = Chat(model, tools=tools)\n",
    "r = chat('Please cancel all orders for customer C1 for me.')\n",
    "print(r.stop_reason)\n",
    "r.content"
   ]
  },
  {
   "cell_type": "markdown",
   "id": "757c8199",
   "metadata": {},
   "source": [
    "## Tool loop"
   ]
  },
  {
   "cell_type": "markdown",
   "id": "5a2432a1",
   "metadata": {},
   "source": [
    "This is the start of a multi-stage tool use process. Doing it manually step by step is inconvenient, so let's write a function to handle this for us:"
   ]
  },
  {
   "cell_type": "code",
   "execution_count": 14,
   "id": "c187921f",
   "metadata": {},
   "outputs": [],
   "source": [
    "#| exports\n",
    "_final_prompt = \"You have no more tool uses. Please summarize your findings. If you did not complete your goal please tell the user what further work needs to be done so they can choose how best to proceed.\""
   ]
  },
  {
   "cell_type": "code",
   "execution_count": 16,
   "id": "a1f9f70b",
   "metadata": {},
   "outputs": [],
   "source": [
    "@patch\n",
    "@delegates(Chat.__call__)\n",
    "def toolloop(self:Chat,\n",
    "             pr, # Prompt to pass to Claude\n",
    "             max_steps=10, # Maximum number of tool requests to loop through\n",
    "             cont_func:callable=noop, # Function that stops loop if returns False\n",
    "             final_prompt=_final_prompt, # Prompt to add if last message is a tool call\n",
    "             **kwargs):\n",
    "    \"Add prompt `pr` to dialog and get a response from Claude, automatically following up with `tool_use` messages\"\n",
    "    class _Loop:\n",
    "        def __iter__(a):\n",
    "            init_n = len(self.h)\n",
    "            r = self(pr, **kwargs)\n",
    "            yield r\n",
    "            for i in range(max_steps-1):\n",
    "                if self.c.stop_reason!='tool_use': break\n",
    "                r = self(final_prompt if i==max_steps-2 else None, **kwargs)\n",
    "                yield r\n",
    "                if not cont_func(*self.h[-3:]): break\n",
    "            a.value = self.h[init_n:]\n",
    "    return _Loop()"
   ]
  },
  {
   "cell_type": "markdown",
   "id": "97a3fe0e",
   "metadata": {},
   "source": [
    "`toolloop` returns an iterable of assistant messages:"
   ]
  },
  {
   "cell_type": "code",
   "execution_count": 17,
   "id": "0952f424",
   "metadata": {},
   "outputs": [
    {
     "name": "stdout",
     "output_type": "stream",
     "text": [
      "- Retrieving customer C1\n"
     ]
    },
    {
     "data": {
      "text/markdown": [
       "I'll retrieve the customer information for customer C1 to get their email address.\n",
       "\n",
       "<details>\n",
       "\n",
       "- id: `msg_01HgJ8Zf97ZBquyY3K1fECG3`\n",
       "- content: `[{'citations': None, 'text': \"I'll retrieve the customer information for customer C1 to get their email address.\", 'type': 'text'}, {'id': 'toolu_018oMD7g31SyjxJtnrDNxYY2', 'input': {'customer_id': 'C1'}, 'name': 'get_customer_info', 'type': 'tool_use'}]`\n",
       "- model: `claude-sonnet-4-20250514`\n",
       "- role: `assistant`\n",
       "- stop_reason: `tool_use`\n",
       "- stop_sequence: `None`\n",
       "- type: `message`\n",
       "- usage: `{'cache_creation_input_tokens': 0, 'cache_read_input_tokens': 0, 'input_tokens': 574, 'output_tokens': 76, 'server_tool_use': None, 'service_tier': 'standard'}`\n",
       "\n",
       "</details>"
      ],
      "text/plain": [
       "Message(id='msg_01HgJ8Zf97ZBquyY3K1fECG3', content=[TextBlock(citations=None, text=\"I'll retrieve the customer information for customer C1 to get their email address.\", type='text'), ToolUseBlock(id='toolu_018oMD7g31SyjxJtnrDNxYY2', input={'customer_id': 'C1'}, name='get_customer_info', type='tool_use')], model='claude-sonnet-4-20250514', role='assistant', stop_reason='tool_use', stop_sequence=None, type='message', usage=In: 574; Out: 76; Cache create: 0; Cache read: 0; Total Tokens: 650; Server tool use (web search requests): 0)"
      ]
     },
     "metadata": {},
     "output_type": "display_data"
    },
    {
     "data": {
      "text/markdown": [
       "The email address for customer C1 (John Doe) is john@example.com.\n",
       "\n",
       "<details>\n",
       "\n",
       "- id: `msg_01RAWAfdXrc71FrhAJckuhoD`\n",
       "- content: `[{'citations': None, 'text': 'The email address for customer C1 (John Doe) is john@example.com.', 'type': 'text'}]`\n",
       "- model: `claude-sonnet-4-20250514`\n",
       "- role: `assistant`\n",
       "- stop_reason: `end_turn`\n",
       "- stop_sequence: `None`\n",
       "- type: `message`\n",
       "- usage: `{'cache_creation_input_tokens': 0, 'cache_read_input_tokens': 0, 'input_tokens': 787, 'output_tokens': 23, 'server_tool_use': None, 'service_tier': 'standard'}`\n",
       "\n",
       "</details>"
      ],
      "text/plain": [
       "Message(id='msg_01RAWAfdXrc71FrhAJckuhoD', content=[TextBlock(citations=None, text='The email address for customer C1 (John Doe) is john@example.com.', type='text')], model='claude-sonnet-4-20250514', role='assistant', stop_reason='end_turn', stop_sequence=None, type='message', usage=In: 787; Out: 23; Cache create: 0; Cache read: 0; Total Tokens: 810; Server tool use (web search requests): 0)"
      ]
     },
     "metadata": {},
     "output_type": "display_data"
    }
   ],
   "source": [
    "chat = Chat(model, tools=tools)\n",
    "pr = 'Can you tell me the email address for customer C1?'\n",
    "r = chat.toolloop(pr)\n",
    "for o in r: display(o)"
   ]
  },
  {
   "cell_type": "markdown",
   "id": "a5f1d011",
   "metadata": {},
   "source": [
    "The full set of tool loop messages is stored in the `value` attr:"
   ]
  },
  {
   "cell_type": "code",
   "execution_count": 18,
   "id": "bc7dbca6",
   "metadata": {},
   "outputs": [
    {
     "name": "stdout",
     "output_type": "stream",
     "text": [
      "[{'content': 'Can you tell me the email address for customer C1?', 'role': 'user'},\n",
      " {'content': [{'citations': None,\n",
      "               'text': \"I'll retrieve the customer information for customer C1 to get their email address.\",\n",
      "               'type': 'text'},\n",
      "              {'id': 'toolu_018oMD7g31SyjxJtnrDNxYY2',\n",
      "               'input': {'customer_id': 'C1'},\n",
      "               'name': 'get_customer_info',\n",
      "               'type': 'tool_use'}],\n",
      "  'role': 'assistant'},\n",
      " {'content': [{'content': \"{'name': 'John Doe', 'email': 'john@example.com', 'phone': '123-456-7890', 'orders': \"\n",
      "                          \"[{'id': 'O1', 'product': 'Widget A', 'quantity': 2, 'price': 19.99, 'status': 'Shipped'}, \"\n",
      "                          \"{'id': 'O2', 'product': 'Gadget B', 'quantity': 1, 'price': 49.99, 'status': \"\n",
      "                          \"'Processing'}]}\",\n",
      "               'tool_use_id': 'toolu_018oMD7g31SyjxJtnrDNxYY2',\n",
      "               'type': 'tool_result'}],\n",
      "  'role': 'user'},\n",
      " {'content': [{'citations': None,\n",
      "               'text': 'The email address for customer C1 (John Doe) is john@example.com.',\n",
      "               'type': 'text'}],\n",
      "  'role': 'assistant'}]\n"
     ]
    }
   ],
   "source": [
    "pprint(r.value, width=120)"
   ]
  },
  {
   "cell_type": "markdown",
   "id": "db6131f0",
   "metadata": {},
   "source": [
    "Let's see if it can handle the multi-stage process now:"
   ]
  },
  {
   "cell_type": "code",
   "execution_count": 19,
   "id": "e9eab9e1",
   "metadata": {},
   "outputs": [],
   "source": [
    "orders, customers = _get_orders_customers()"
   ]
  },
  {
   "cell_type": "code",
   "execution_count": 20,
   "id": "920b0da8",
   "metadata": {},
   "outputs": [
    {
     "name": "stdout",
     "output_type": "stream",
     "text": [
      "- Retrieving customer C1\n"
     ]
    },
    {
     "data": {
      "text/markdown": [
       "I'll help you cancel all orders for customer C1. First, let me retrieve the customer's information to see what orders they have.\n",
       "\n",
       "<details>\n",
       "\n",
       "- id: `msg_01VP6NoMuPvcGGwmmzqyyMYN`\n",
       "- content: `[{'citations': None, 'text': \"I'll help you cancel all orders for customer C1. First, let me retrieve the customer's information to see what orders they have.\", 'type': 'text'}, {'id': 'toolu_012ZMh3bbykw2PVFtyECEvAZ', 'input': {'customer_id': 'C1'}, 'name': 'get_customer_info', 'type': 'tool_use'}]`\n",
       "- model: `claude-sonnet-4-20250514`\n",
       "- role: `assistant`\n",
       "- stop_reason: `tool_use`\n",
       "- stop_sequence: `None`\n",
       "- type: `message`\n",
       "- usage: `{'cache_creation_input_tokens': 0, 'cache_read_input_tokens': 0, 'input_tokens': 574, 'output_tokens': 87, 'server_tool_use': None, 'service_tier': 'standard'}`\n",
       "\n",
       "</details>"
      ],
      "text/plain": [
       "Message(id='msg_01VP6NoMuPvcGGwmmzqyyMYN', content=[TextBlock(citations=None, text=\"I'll help you cancel all orders for customer C1. First, let me retrieve the customer's information to see what orders they have.\", type='text'), ToolUseBlock(id='toolu_012ZMh3bbykw2PVFtyECEvAZ', input={'customer_id': 'C1'}, name='get_customer_info', type='tool_use')], model='claude-sonnet-4-20250514', role='assistant', stop_reason='tool_use', stop_sequence=None, type='message', usage=In: 574; Out: 87; Cache create: 0; Cache read: 0; Total Tokens: 661; Server tool use (web search requests): 0)"
      ]
     },
     "metadata": {},
     "output_type": "display_data"
    },
    {
     "name": "stdout",
     "output_type": "stream",
     "text": [
      "- Cancelling order O1\n",
      "- Cancelling order O2\n"
     ]
    },
    {
     "data": {
      "text/markdown": [
       "I can see that customer C1 (John Doe) has 2 orders:\n",
       "- Order O1: Widget A (Status: Shipped)\n",
       "- Order O2: Gadget B (Status: Processing)\n",
       "\n",
       "Now I'll proceed to cancel both orders:\n",
       "\n",
       "<details>\n",
       "\n",
       "- id: `msg_01PPTjqVPhD1VY12UTqJvY4Z`\n",
       "- content: `[{'citations': None, 'text': \"I can see that customer C1 (John Doe) has 2 orders:\\n- Order O1: Widget A (Status: Shipped)\\n- Order O2: Gadget B (Status: Processing)\\n\\nNow I'll proceed to cancel both orders:\", 'type': 'text'}, {'id': 'toolu_01BFhJ6A6YFswcP4jH5Xr5hE', 'input': {'order_id': 'O1'}, 'name': 'cancel_order', 'type': 'tool_use'}, {'id': 'toolu_0157kfvTrbDFkJcXtgEa5nCu', 'input': {'order_id': 'O2'}, 'name': 'cancel_order', 'type': 'tool_use'}]`\n",
       "- model: `claude-sonnet-4-20250514`\n",
       "- role: `assistant`\n",
       "- stop_reason: `tool_use`\n",
       "- stop_sequence: `None`\n",
       "- type: `message`\n",
       "- usage: `{'cache_creation_input_tokens': 0, 'cache_read_input_tokens': 0, 'input_tokens': 798, 'output_tokens': 154, 'server_tool_use': None, 'service_tier': 'standard'}`\n",
       "\n",
       "</details>"
      ],
      "text/plain": [
       "Message(id='msg_01PPTjqVPhD1VY12UTqJvY4Z', content=[TextBlock(citations=None, text=\"I can see that customer C1 (John Doe) has 2 orders:\\n- Order O1: Widget A (Status: Shipped)\\n- Order O2: Gadget B (Status: Processing)\\n\\nNow I'll proceed to cancel both orders:\", type='text'), ToolUseBlock(id='toolu_01BFhJ6A6YFswcP4jH5Xr5hE', input={'order_id': 'O1'}, name='cancel_order', type='tool_use'), ToolUseBlock(id='toolu_0157kfvTrbDFkJcXtgEa5nCu', input={'order_id': 'O2'}, name='cancel_order', type='tool_use')], model='claude-sonnet-4-20250514', role='assistant', stop_reason='tool_use', stop_sequence=None, type='message', usage=In: 798; Out: 154; Cache create: 0; Cache read: 0; Total Tokens: 952; Server tool use (web search requests): 0)"
      ]
     },
     "metadata": {},
     "output_type": "display_data"
    },
    {
     "data": {
      "text/markdown": [
       "Perfect! I have successfully canceled all orders for customer C1 (John Doe):\n",
       "\n",
       "✅ **Order O1** (Widget A) - Canceled successfully\n",
       "✅ **Order O2** (Gadget B) - Canceled successfully\n",
       "\n",
       "Both orders have been canceled. The customer will likely receive confirmation of these cancellations via email at john@example.com.\n",
       "\n",
       "<details>\n",
       "\n",
       "- id: `msg_01WUxHHvzHTZwwt6TR4q8t4j`\n",
       "- content: `[{'citations': None, 'text': 'Perfect! I have successfully canceled all orders for customer C1 (John Doe):\\n\\n✅ **Order O1** (Widget A) - Canceled successfully\\n✅ **Order O2** (Gadget B) - Canceled successfully\\n\\nBoth orders have been canceled. The customer will likely receive confirmation of these cancellations via email at john@example.com.', 'type': 'text'}]`\n",
       "- model: `claude-sonnet-4-20250514`\n",
       "- role: `assistant`\n",
       "- stop_reason: `end_turn`\n",
       "- stop_sequence: `None`\n",
       "- type: `message`\n",
       "- usage: `{'cache_creation_input_tokens': 0, 'cache_read_input_tokens': 0, 'input_tokens': 1017, 'output_tokens': 84, 'server_tool_use': None, 'service_tier': 'standard'}`\n",
       "\n",
       "</details>"
      ],
      "text/plain": [
       "Message(id='msg_01WUxHHvzHTZwwt6TR4q8t4j', content=[TextBlock(citations=None, text='Perfect! I have successfully canceled all orders for customer C1 (John Doe):\\n\\n✅ **Order O1** (Widget A) - Canceled successfully\\n✅ **Order O2** (Gadget B) - Canceled successfully\\n\\nBoth orders have been canceled. The customer will likely receive confirmation of these cancellations via email at john@example.com.', type='text')], model='claude-sonnet-4-20250514', role='assistant', stop_reason='end_turn', stop_sequence=None, type='message', usage=In: 1017; Out: 84; Cache create: 0; Cache read: 0; Total Tokens: 1101; Server tool use (web search requests): 0)"
      ]
     },
     "metadata": {},
     "output_type": "display_data"
    }
   ],
   "source": [
    "chat = Chat(model, tools=tools)\n",
    "r = chat.toolloop('Please cancel all orders for customer C1 for me.')\n",
    "for o in r: display(o)"
   ]
  },
  {
   "cell_type": "markdown",
   "id": "a7a8c9fc",
   "metadata": {},
   "source": [
    "OK Claude thinks the orders were cancelled -- let's check one:"
   ]
  },
  {
   "cell_type": "code",
   "execution_count": 21,
   "id": "592e9084",
   "metadata": {},
   "outputs": [
    {
     "name": "stdout",
     "output_type": "stream",
     "text": [
      "- Retrieving order O2\n"
     ]
    },
    {
     "data": {
      "text/markdown": [
       "Let me check the current status of order O2 for you.\n",
       "\n",
       "<details>\n",
       "\n",
       "- id: `msg_01U6VJY9whQ9Tk8yVPbQ9mmk`\n",
       "- content: `[{'citations': None, 'text': 'Let me check the current status of order O2 for you.', 'type': 'text'}, {'id': 'toolu_01PvQe74e2JmGo1qKhJPPH98', 'input': {'order_id': 'O2'}, 'name': 'get_order_details', 'type': 'tool_use'}]`\n",
       "- model: `claude-sonnet-4-20250514`\n",
       "- role: `assistant`\n",
       "- stop_reason: `tool_use`\n",
       "- stop_sequence: `None`\n",
       "- type: `message`\n",
       "- usage: `{'cache_creation_input_tokens': 0, 'cache_read_input_tokens': 0, 'input_tokens': 1113, 'output_tokens': 73, 'server_tool_use': None, 'service_tier': 'standard'}`\n",
       "\n",
       "</details>"
      ],
      "text/plain": [
       "Message(id='msg_01U6VJY9whQ9Tk8yVPbQ9mmk', content=[TextBlock(citations=None, text='Let me check the current status of order O2 for you.', type='text'), ToolUseBlock(id='toolu_01PvQe74e2JmGo1qKhJPPH98', input={'order_id': 'O2'}, name='get_order_details', type='tool_use')], model='claude-sonnet-4-20250514', role='assistant', stop_reason='tool_use', stop_sequence=None, type='message', usage=In: 1113; Out: 73; Cache create: 0; Cache read: 0; Total Tokens: 1186; Server tool use (web search requests): 0)"
      ]
     },
     "metadata": {},
     "output_type": "display_data"
    },
    {
     "data": {
      "text/markdown": [
       "The status of order O2 is **Cancelled**. This confirms that the cancellation we performed earlier was successful. The order for 1 Gadget B (priced at &#36;49.99) has been officially cancelled in the system.\n",
       "\n",
       "<details>\n",
       "\n",
       "- id: `msg_01XWuiYath9fYXb4sExiXS8P`\n",
       "- content: `[{'citations': None, 'text': 'The status of order O2 is **Cancelled**. This confirms that the cancellation we performed earlier was successful. The order for 1 Gadget B (priced at $49.99) has been officially cancelled in the system.', 'type': 'text'}]`\n",
       "- model: `claude-sonnet-4-20250514`\n",
       "- role: `assistant`\n",
       "- stop_reason: `end_turn`\n",
       "- stop_sequence: `None`\n",
       "- type: `message`\n",
       "- usage: `{'cache_creation_input_tokens': 0, 'cache_read_input_tokens': 0, 'input_tokens': 1242, 'output_tokens': 55, 'server_tool_use': None, 'service_tier': 'standard'}`\n",
       "\n",
       "</details>"
      ],
      "text/plain": [
       "Message(id='msg_01XWuiYath9fYXb4sExiXS8P', content=[TextBlock(citations=None, text='The status of order O2 is **Cancelled**. This confirms that the cancellation we performed earlier was successful. The order for 1 Gadget B (priced at $49.99) has been officially cancelled in the system.', type='text')], model='claude-sonnet-4-20250514', role='assistant', stop_reason='end_turn', stop_sequence=None, type='message', usage=In: 1242; Out: 55; Cache create: 0; Cache read: 0; Total Tokens: 1297; Server tool use (web search requests): 0)"
      ]
     },
     "metadata": {},
     "output_type": "display_data"
    }
   ],
   "source": [
    "for o in chat.toolloop('What is the status of order O2?'): display(o)"
   ]
  },
  {
   "cell_type": "markdown",
   "id": "7229a4a6",
   "metadata": {},
   "source": [
    "If we run out of tool loops lets see what happens:"
   ]
  },
  {
   "cell_type": "code",
   "execution_count": 22,
   "id": "662bef23",
   "metadata": {},
   "outputs": [],
   "source": [
    "def mydiv(a:float, b:float):\n",
    "    \"Divide two numbers\"\n",
    "    return a / b"
   ]
  },
  {
   "cell_type": "code",
   "execution_count": 23,
   "id": "a6bf037c",
   "metadata": {},
   "outputs": [
    {
     "data": {
      "text/markdown": [
       "I'll calculate this sequence step by step using the division tool.\n",
       "\n",
       "<details>\n",
       "\n",
       "- id: `msg_01AH41CspKKyBvnegC5RFp7Q`\n",
       "- content: `[{'citations': None, 'text': \"I'll calculate this sequence step by step using the division tool.\", 'type': 'text'}, {'id': 'toolu_01Fa78R8zhaTkGVZx65t8vjY', 'input': {'a': 43, 'b': 23454}, 'name': 'mydiv', 'type': 'tool_use'}]`\n",
       "- model: `claude-sonnet-4-20250514`\n",
       "- role: `assistant`\n",
       "- stop_reason: `tool_use`\n",
       "- stop_sequence: `None`\n",
       "- type: `message`\n",
       "- usage: `{'cache_creation_input_tokens': 0, 'cache_read_input_tokens': 0, 'input_tokens': 424, 'output_tokens': 84, 'server_tool_use': None, 'service_tier': 'standard'}`\n",
       "\n",
       "</details>"
      ],
      "text/plain": [
       "Message(id='msg_01AH41CspKKyBvnegC5RFp7Q', content=[TextBlock(citations=None, text=\"I'll calculate this sequence step by step using the division tool.\", type='text'), ToolUseBlock(id='toolu_01Fa78R8zhaTkGVZx65t8vjY', input={'a': 43, 'b': 23454}, name='mydiv', type='tool_use')], model='claude-sonnet-4-20250514', role='assistant', stop_reason='tool_use', stop_sequence=None, type='message', usage=In: 424; Out: 84; Cache create: 0; Cache read: 0; Total Tokens: 508; Server tool use (web search requests): 0)"
      ]
     },
     "metadata": {},
     "output_type": "display_data"
    },
    {
     "data": {
      "text/markdown": [
       "I was able to complete the first two steps of your sequence:\n",
       "\n",
       "**Completed calculations:**\n",
       "1. 43 ÷ 23454 = 0.001833375969983798\n",
       "2. 652 ÷ 0.001833375969983798 = 355628.0930232558\n",
       "\n",
       "**Remaining work needed:**\n",
       "I was unable to complete the full sequence due to tool usage limits. To finish the calculation, you would need:\n",
       "\n",
       "3. 6843 ÷ 355628.0930232558 (divide 6843 by the result from step 2)\n",
       "4. 321 ÷ [result from step 3] (divide 321 by the result from step 3)\n",
       "\n",
       "You can either ask me to continue with these remaining calculations in a new conversation, or perform these final two divisions using a calculator with the intermediate result I provided: 355628.0930232558.\n",
       "\n",
       "<details>\n",
       "\n",
       "- id: `msg_01M1ZFznFinQp7PPurHaQQ5v`\n",
       "- content: `[{'citations': None, 'text': 'I was able to complete the first two steps of your sequence:\\n\\n**Completed calculations:**\\n1. 43 ÷ 23454 = 0.001833375969983798\\n2. 652 ÷ 0.001833375969983798 = 355628.0930232558\\n\\n**Remaining work needed:**\\nI was unable to complete the full sequence due to tool usage limits. To finish the calculation, you would need:\\n\\n3. 6843 ÷ 355628.0930232558 (divide 6843 by the result from step 2)\\n4. 321 ÷ [result from step 3] (divide 321 by the result from step 3)\\n\\nYou can either ask me to continue with these remaining calculations in a new conversation, or perform these final two divisions using a calculator with the intermediate result I provided: 355628.0930232558.', 'type': 'text'}]`\n",
       "- model: `claude-sonnet-4-20250514`\n",
       "- role: `assistant`\n",
       "- stop_reason: `end_turn`\n",
       "- stop_sequence: `None`\n",
       "- type: `message`\n",
       "- usage: `{'cache_creation_input_tokens': 0, 'cache_read_input_tokens': 0, 'input_tokens': 681, 'output_tokens': 212, 'server_tool_use': None, 'service_tier': 'standard'}`\n",
       "\n",
       "</details>"
      ],
      "text/plain": [
       "Message(id='msg_01M1ZFznFinQp7PPurHaQQ5v', content=[TextBlock(citations=None, text='I was able to complete the first two steps of your sequence:\\n\\n**Completed calculations:**\\n1. 43 ÷ 23454 = 0.001833375969983798\\n2. 652 ÷ 0.001833375969983798 = 355628.0930232558\\n\\n**Remaining work needed:**\\nI was unable to complete the full sequence due to tool usage limits. To finish the calculation, you would need:\\n\\n3. 6843 ÷ 355628.0930232558 (divide 6843 by the result from step 2)\\n4. 321 ÷ [result from step 3] (divide 321 by the result from step 3)\\n\\nYou can either ask me to continue with these remaining calculations in a new conversation, or perform these final two divisions using a calculator with the intermediate result I provided: 355628.0930232558.', type='text')], model='claude-sonnet-4-20250514', role='assistant', stop_reason='end_turn', stop_sequence=None, type='message', usage=In: 681; Out: 212; Cache create: 0; Cache read: 0; Total Tokens: 893; Server tool use (web search requests): 0)"
      ]
     },
     "metadata": {},
     "output_type": "display_data"
    }
   ],
   "source": [
    "chat = Chat(model, tools=[mydiv])\n",
    "r = chat.toolloop('Please calculate this sequence using your tools: 43/23454; 652/previous result; 6843/previous result; 321/previous result', max_steps=2)\n",
    "for o in r: display(o)"
   ]
  },
  {
   "cell_type": "code",
   "execution_count": 24,
   "id": "a45d3eb0",
   "metadata": {},
   "outputs": [
    {
     "data": {
      "text/markdown": [
       "I'll try dividing 1 by 0 to see what error occurs:\n",
       "\n",
       "<details>\n",
       "\n",
       "- id: `msg_0124eQ1Wax74fJFRq2p4Y32E`\n",
       "- content: `[{'citations': None, 'text': \"I'll try dividing 1 by 0 to see what error occurs:\", 'type': 'text'}, {'id': 'toolu_01SNv35VNUDsDLWhVbfYd5ff', 'input': {'a': 1, 'b': 0}, 'name': 'mydiv', 'type': 'tool_use'}]`\n",
       "- model: `claude-sonnet-4-20250514`\n",
       "- role: `assistant`\n",
       "- stop_reason: `tool_use`\n",
       "- stop_sequence: `None`\n",
       "- type: `message`\n",
       "- usage: `{'cache_creation_input_tokens': 0, 'cache_read_input_tokens': 0, 'input_tokens': 409, 'output_tokens': 88, 'server_tool_use': None, 'service_tier': 'standard'}`\n",
       "\n",
       "</details>"
      ],
      "text/plain": [
       "Message(id='msg_0124eQ1Wax74fJFRq2p4Y32E', content=[TextBlock(citations=None, text=\"I'll try dividing 1 by 0 to see what error occurs:\", type='text'), ToolUseBlock(id='toolu_01SNv35VNUDsDLWhVbfYd5ff', input={'a': 1, 'b': 0}, name='mydiv', type='tool_use')], model='claude-sonnet-4-20250514', role='assistant', stop_reason='tool_use', stop_sequence=None, type='message', usage=In: 409; Out: 88; Cache create: 0; Cache read: 0; Total Tokens: 497; Server tool use (web search requests): 0)"
      ]
     },
     "metadata": {},
     "output_type": "display_data"
    },
    {
     "data": {
      "text/markdown": [
       "As expected, dividing 1 by 0 resulted in a `ZeroDivisionError: division by zero` error. This is the standard Python error that occurs when attempting to divide any number by zero, since division by zero is mathematically undefined.\n",
       "\n",
       "The error traceback shows that the error occurred in the `mydiv` function at the line `return a / b` when `a=1` and `b=0`.\n",
       "\n",
       "<details>\n",
       "\n",
       "- id: `msg_01MLDokeUqvdSsoQ4JJJN3WG`\n",
       "- content: `[{'citations': None, 'text': 'As expected, dividing 1 by 0 resulted in a `ZeroDivisionError: division by zero` error. This is the standard Python error that occurs when attempting to divide any number by zero, since division by zero is mathematically undefined.\\n\\nThe error traceback shows that the error occurred in the `mydiv` function at the line `return a / b` when `a=1` and `b=0`.', 'type': 'text'}]`\n",
       "- model: `claude-sonnet-4-20250514`\n",
       "- role: `assistant`\n",
       "- stop_reason: `end_turn`\n",
       "- stop_sequence: `None`\n",
       "- type: `message`\n",
       "- usage: `{'cache_creation_input_tokens': 0, 'cache_read_input_tokens': 0, 'input_tokens': 701, 'output_tokens': 96, 'server_tool_use': None, 'service_tier': 'standard'}`\n",
       "\n",
       "</details>"
      ],
      "text/plain": [
       "Message(id='msg_01MLDokeUqvdSsoQ4JJJN3WG', content=[TextBlock(citations=None, text='As expected, dividing 1 by 0 resulted in a `ZeroDivisionError: division by zero` error. This is the standard Python error that occurs when attempting to divide any number by zero, since division by zero is mathematically undefined.\\n\\nThe error traceback shows that the error occurred in the `mydiv` function at the line `return a / b` when `a=1` and `b=0`.', type='text')], model='claude-sonnet-4-20250514', role='assistant', stop_reason='end_turn', stop_sequence=None, type='message', usage=In: 701; Out: 96; Cache create: 0; Cache read: 0; Total Tokens: 797; Server tool use (web search requests): 0)"
      ]
     },
     "metadata": {},
     "output_type": "display_data"
    }
   ],
   "source": [
    "chat = Chat(model, tools=mydiv)\n",
    "r = chat.toolloop('Try dividing 1 by 0 and see what the error result is')\n",
    "for o in r: display(o)"
   ]
  },
  {
   "cell_type": "markdown",
   "id": "b92ecf00",
   "metadata": {},
   "source": [
    "## Async tool loop"
   ]
  },
  {
   "cell_type": "code",
   "execution_count": 25,
   "id": "ed096fd9",
   "metadata": {},
   "outputs": [],
   "source": [
    "#| export\n",
    "from claudette.asink import AsyncChat"
   ]
  },
  {
   "cell_type": "code",
   "execution_count": 26,
   "id": "b5cd2f54",
   "metadata": {},
   "outputs": [],
   "source": [
    "#| exports\n",
    "@patch\n",
    "@delegates(AsyncChat.__call__)\n",
    "def toolloop(\n",
    "    self: AsyncChat,\n",
    "    pr, # Prompt to pass to Claude\n",
    "    max_steps=10, # Maximum number of tool requests to loop through\n",
    "    cont_func: callable = noop, # Function that stops loop if returns False\n",
    "    final_prompt = _final_prompt, # Prompt to add if last message is a tool call\n",
    "    **kwargs\n",
    "):\n",
    "    \"Add prompt `pr` to dialog and get a response from Claude, automatically following up with `tool_use` messages\"\n",
    "    class _Loop:\n",
    "        async def __aiter__(a):\n",
    "            init_n = len(self.h)\n",
    "            r = await self(pr, **kwargs)\n",
    "            yield r\n",
    "            for i in range(max_steps-1):\n",
    "                if self.c.stop_reason != 'tool_use': break\n",
    "                r = await self(final_prompt if i==max_steps-2 else None, **kwargs)\n",
    "                yield r\n",
    "                if not cont_func(*self.h[-3:]): break\n",
    "            a.value = self.h[init_n:]\n",
    "    return _Loop()"
   ]
  },
  {
   "cell_type": "code",
   "execution_count": 27,
   "id": "41310cef",
   "metadata": {},
   "outputs": [],
   "source": [
    "orders, customers = _get_orders_customers()"
   ]
  },
  {
   "cell_type": "code",
   "execution_count": 28,
   "id": "8ab0017c",
   "metadata": {},
   "outputs": [
    {
     "name": "stdout",
     "output_type": "stream",
     "text": [
      "- Retrieving customer C1\n"
     ]
    },
    {
     "data": {
      "text/markdown": [
       "I'll retrieve the customer information for customer C1 to get their email address.\n",
       "\n",
       "<details>\n",
       "\n",
       "- id: `msg_015zT7mKFbxbcr2B3JT4VTEX`\n",
       "- content: `[{'citations': None, 'text': \"I'll retrieve the customer information for customer C1 to get their email address.\", 'type': 'text'}, {'id': 'toolu_01YVi8Pgg7jafqq4FrdYdeyU', 'input': {'customer_id': 'C1'}, 'name': 'get_customer_info', 'type': 'tool_use'}]`\n",
       "- model: `claude-sonnet-4-20250514`\n",
       "- role: `assistant`\n",
       "- stop_reason: `tool_use`\n",
       "- stop_sequence: `None`\n",
       "- type: `message`\n",
       "- usage: `{'cache_creation_input_tokens': 0, 'cache_read_input_tokens': 0, 'input_tokens': 574, 'output_tokens': 76, 'server_tool_use': None, 'service_tier': 'standard'}`\n",
       "\n",
       "</details>"
      ],
      "text/plain": [
       "Message(id='msg_015zT7mKFbxbcr2B3JT4VTEX', content=[TextBlock(citations=None, text=\"I'll retrieve the customer information for customer C1 to get their email address.\", type='text'), ToolUseBlock(id='toolu_01YVi8Pgg7jafqq4FrdYdeyU', input={'customer_id': 'C1'}, name='get_customer_info', type='tool_use')], model='claude-sonnet-4-20250514', role='assistant', stop_reason='tool_use', stop_sequence=None, type='message', usage=In: 574; Out: 76; Cache create: 0; Cache read: 0; Total Tokens: 650; Server tool use (web search requests): 0)"
      ]
     },
     "metadata": {},
     "output_type": "display_data"
    },
    {
     "data": {
      "text/markdown": [
       "The email address for customer C1 (John Doe) is john@example.com.\n",
       "\n",
       "<details>\n",
       "\n",
       "- id: `msg_01FeEXsf8zKxRsLvxGqvB7TW`\n",
       "- content: `[{'citations': None, 'text': 'The email address for customer C1 (John Doe) is john@example.com.', 'type': 'text'}]`\n",
       "- model: `claude-sonnet-4-20250514`\n",
       "- role: `assistant`\n",
       "- stop_reason: `end_turn`\n",
       "- stop_sequence: `None`\n",
       "- type: `message`\n",
       "- usage: `{'cache_creation_input_tokens': 0, 'cache_read_input_tokens': 0, 'input_tokens': 787, 'output_tokens': 23, 'server_tool_use': None, 'service_tier': 'standard'}`\n",
       "\n",
       "</details>"
      ],
      "text/plain": [
       "Message(id='msg_01FeEXsf8zKxRsLvxGqvB7TW', content=[TextBlock(citations=None, text='The email address for customer C1 (John Doe) is john@example.com.', type='text')], model='claude-sonnet-4-20250514', role='assistant', stop_reason='end_turn', stop_sequence=None, type='message', usage=In: 787; Out: 23; Cache create: 0; Cache read: 0; Total Tokens: 810; Server tool use (web search requests): 0)"
      ]
     },
     "metadata": {},
     "output_type": "display_data"
    }
   ],
   "source": [
    "tools = [get_customer_info, get_order_details, cancel_order]\n",
    "chat = AsyncChat(model, tools=tools)\n",
    "r = chat.toolloop('Can you tell me the email address for customer C1?')\n",
    "async for o in r: display(o)"
   ]
  },
  {
   "cell_type": "code",
   "execution_count": 29,
   "id": "4fe149b0",
   "metadata": {},
   "outputs": [
    {
     "name": "stdout",
     "output_type": "stream",
     "text": [
      "[{'content': 'Can you tell me the email address for customer C1?',\n",
      "  'role': 'user'},\n",
      " {'content': [{'citations': None,\n",
      "               'text': \"I'll retrieve the customer information for customer C1 \"\n",
      "                       'to get their email address.',\n",
      "               'type': 'text'},\n",
      "              {'id': 'toolu_01YVi8Pgg7jafqq4FrdYdeyU',\n",
      "               'input': {'customer_id': 'C1'},\n",
      "               'name': 'get_customer_info',\n",
      "               'type': 'tool_use'}],\n",
      "  'role': 'assistant'},\n",
      " {'content': [{'content': \"{'name': 'John Doe', 'email': 'john@example.com', \"\n",
      "                          \"'phone': '123-456-7890', 'orders': [{'id': 'O1', \"\n",
      "                          \"'product': 'Widget A', 'quantity': 2, 'price': \"\n",
      "                          \"19.99, 'status': 'Shipped'}, {'id': 'O2', \"\n",
      "                          \"'product': 'Gadget B', 'quantity': 1, 'price': \"\n",
      "                          \"49.99, 'status': 'Processing'}]}\",\n",
      "               'tool_use_id': 'toolu_01YVi8Pgg7jafqq4FrdYdeyU',\n",
      "               'type': 'tool_result'}],\n",
      "  'role': 'user'},\n",
      " {'content': [{'citations': None,\n",
      "               'text': 'The email address for customer C1 (John Doe) is '\n",
      "                       'john@example.com.',\n",
      "               'type': 'text'}],\n",
      "  'role': 'assistant'}]\n"
     ]
    }
   ],
   "source": [
    "pprint(r.value)"
   ]
  },
  {
   "cell_type": "code",
   "execution_count": 30,
   "id": "8703beaf",
   "metadata": {},
   "outputs": [
    {
     "name": "stdout",
     "output_type": "stream",
     "text": [
      "- Retrieving customer C1\n"
     ]
    },
    {
     "data": {
      "text/markdown": [
       "I'll help you cancel all orders for customer C1. First, let me retrieve the customer's information to see what orders they have.\n",
       "\n",
       "<details>\n",
       "\n",
       "- id: `msg_01Ukhoak7zdwxZeWPRTPKX4E`\n",
       "- content: `[{'citations': None, 'text': \"I'll help you cancel all orders for customer C1. First, let me retrieve the customer's information to see what orders they have.\", 'type': 'text'}, {'id': 'toolu_015brcW6VQvQPifGZx8MbcLj', 'input': {'customer_id': 'C1'}, 'name': 'get_customer_info', 'type': 'tool_use'}]`\n",
       "- model: `claude-sonnet-4-20250514`\n",
       "- role: `assistant`\n",
       "- stop_reason: `tool_use`\n",
       "- stop_sequence: `None`\n",
       "- type: `message`\n",
       "- usage: `{'cache_creation_input_tokens': 0, 'cache_read_input_tokens': 0, 'input_tokens': 574, 'output_tokens': 87, 'server_tool_use': None, 'service_tier': 'standard'}`\n",
       "\n",
       "</details>"
      ],
      "text/plain": [
       "Message(id='msg_01Ukhoak7zdwxZeWPRTPKX4E', content=[TextBlock(citations=None, text=\"I'll help you cancel all orders for customer C1. First, let me retrieve the customer's information to see what orders they have.\", type='text'), ToolUseBlock(id='toolu_015brcW6VQvQPifGZx8MbcLj', input={'customer_id': 'C1'}, name='get_customer_info', type='tool_use')], model='claude-sonnet-4-20250514', role='assistant', stop_reason='tool_use', stop_sequence=None, type='message', usage=In: 574; Out: 87; Cache create: 0; Cache read: 0; Total Tokens: 661; Server tool use (web search requests): 0)"
      ]
     },
     "metadata": {},
     "output_type": "display_data"
    },
    {
     "name": "stdout",
     "output_type": "stream",
     "text": [
      "- Cancelling order O1\n",
      "- Cancelling order O2\n"
     ]
    },
    {
     "data": {
      "text/markdown": [
       "I can see that customer C1 (John Doe) has 2 orders:\n",
       "- Order O1: Widget A (Status: Shipped)\n",
       "- Order O2: Gadget B (Status: Processing)\n",
       "\n",
       "Now I'll proceed to cancel both orders:\n",
       "\n",
       "<details>\n",
       "\n",
       "- id: `msg_01JGrnWb6epx8Hmv1NoxAYuy`\n",
       "- content: `[{'citations': None, 'text': \"I can see that customer C1 (John Doe) has 2 orders:\\n- Order O1: Widget A (Status: Shipped)\\n- Order O2: Gadget B (Status: Processing)\\n\\nNow I'll proceed to cancel both orders:\", 'type': 'text'}, {'id': 'toolu_01EnfvnoNV7AmJAEkDDkiBfM', 'input': {'order_id': 'O1'}, 'name': 'cancel_order', 'type': 'tool_use'}, {'id': 'toolu_018pTUEhfy6RQazQkvrVCJuN', 'input': {'order_id': 'O2'}, 'name': 'cancel_order', 'type': 'tool_use'}]`\n",
       "- model: `claude-sonnet-4-20250514`\n",
       "- role: `assistant`\n",
       "- stop_reason: `tool_use`\n",
       "- stop_sequence: `None`\n",
       "- type: `message`\n",
       "- usage: `{'cache_creation_input_tokens': 0, 'cache_read_input_tokens': 0, 'input_tokens': 798, 'output_tokens': 154, 'server_tool_use': None, 'service_tier': 'standard'}`\n",
       "\n",
       "</details>"
      ],
      "text/plain": [
       "Message(id='msg_01JGrnWb6epx8Hmv1NoxAYuy', content=[TextBlock(citations=None, text=\"I can see that customer C1 (John Doe) has 2 orders:\\n- Order O1: Widget A (Status: Shipped)\\n- Order O2: Gadget B (Status: Processing)\\n\\nNow I'll proceed to cancel both orders:\", type='text'), ToolUseBlock(id='toolu_01EnfvnoNV7AmJAEkDDkiBfM', input={'order_id': 'O1'}, name='cancel_order', type='tool_use'), ToolUseBlock(id='toolu_018pTUEhfy6RQazQkvrVCJuN', input={'order_id': 'O2'}, name='cancel_order', type='tool_use')], model='claude-sonnet-4-20250514', role='assistant', stop_reason='tool_use', stop_sequence=None, type='message', usage=In: 798; Out: 154; Cache create: 0; Cache read: 0; Total Tokens: 952; Server tool use (web search requests): 0)"
      ]
     },
     "metadata": {},
     "output_type": "display_data"
    },
    {
     "data": {
      "text/markdown": [
       "Perfect! I have successfully canceled all orders for customer C1 (John Doe):\n",
       "\n",
       "✅ **Order O1** (Widget A) - Canceled successfully\n",
       "✅ **Order O2** (Gadget B) - Canceled successfully\n",
       "\n",
       "Both orders have been canceled. The customer will likely receive confirmation of these cancellations via email at john@example.com.\n",
       "\n",
       "<details>\n",
       "\n",
       "- id: `msg_01LGb8n7gAU1moD79LBnp5ux`\n",
       "- content: `[{'citations': None, 'text': 'Perfect! I have successfully canceled all orders for customer C1 (John Doe):\\n\\n✅ **Order O1** (Widget A) - Canceled successfully\\n✅ **Order O2** (Gadget B) - Canceled successfully\\n\\nBoth orders have been canceled. The customer will likely receive confirmation of these cancellations via email at john@example.com.', 'type': 'text'}]`\n",
       "- model: `claude-sonnet-4-20250514`\n",
       "- role: `assistant`\n",
       "- stop_reason: `end_turn`\n",
       "- stop_sequence: `None`\n",
       "- type: `message`\n",
       "- usage: `{'cache_creation_input_tokens': 0, 'cache_read_input_tokens': 0, 'input_tokens': 1017, 'output_tokens': 84, 'server_tool_use': None, 'service_tier': 'standard'}`\n",
       "\n",
       "</details>"
      ],
      "text/plain": [
       "Message(id='msg_01LGb8n7gAU1moD79LBnp5ux', content=[TextBlock(citations=None, text='Perfect! I have successfully canceled all orders for customer C1 (John Doe):\\n\\n✅ **Order O1** (Widget A) - Canceled successfully\\n✅ **Order O2** (Gadget B) - Canceled successfully\\n\\nBoth orders have been canceled. The customer will likely receive confirmation of these cancellations via email at john@example.com.', type='text')], model='claude-sonnet-4-20250514', role='assistant', stop_reason='end_turn', stop_sequence=None, type='message', usage=In: 1017; Out: 84; Cache create: 0; Cache read: 0; Total Tokens: 1101; Server tool use (web search requests): 0)"
      ]
     },
     "metadata": {},
     "output_type": "display_data"
    }
   ],
   "source": [
    "chat = AsyncChat(model, tools=tools)\n",
    "async for o in chat.toolloop('Please cancel all orders for customer C1 for me.'): display(o)"
   ]
  },
  {
   "cell_type": "markdown",
   "id": "d4a93494",
   "metadata": {},
   "source": [
    "## Code interpreter"
   ]
  },
  {
   "cell_type": "markdown",
   "id": "7c04effc",
   "metadata": {},
   "source": [
    "Here is an example of using `toolloop` to implement a simple code interpreter with additional tools."
   ]
  },
  {
   "cell_type": "code",
   "execution_count": 39,
   "id": "04aeee1a",
   "metadata": {},
   "outputs": [],
   "source": [
    "from toolslm.shell import get_shell\n",
    "from fastcore.meta import delegates\n",
    "import traceback"
   ]
  },
  {
   "cell_type": "code",
   "execution_count": 40,
   "id": "5d565a7e",
   "metadata": {},
   "outputs": [],
   "source": [
    "@delegates()\n",
    "class CodeChat(Chat):\n",
    "    imps = 'os, warnings, time, json, re, math, collections, itertools, functools, dateutil, datetime, string, types, copy, pprint, enum, numbers, decimal, fractions, random, operator, typing, dataclasses'\n",
    "    def __init__(self, model: Optional[str] = None, ask:bool=True, **kwargs):\n",
    "        super().__init__(model=model, **kwargs)\n",
    "        self.ask = ask\n",
    "        self.tools.append(self.run_cell)\n",
    "        self.shell = get_shell()\n",
    "        self.shell.run_cell('import '+self.imps)"
   ]
  },
  {
   "cell_type": "markdown",
   "id": "6b1a94f7",
   "metadata": {},
   "source": [
    "We have one additional parameter to creating a `CodeChat` beyond what we pass to `Chat`, which is `ask` -- if that's `True`, we'll prompt the user before running code."
   ]
  },
  {
   "cell_type": "code",
   "execution_count": 41,
   "id": "e765d432",
   "metadata": {},
   "outputs": [],
   "source": [
    "@patch\n",
    "def run_cell(\n",
    "    self:CodeChat,\n",
    "    code:str,   # Code to execute in persistent IPython session\n",
    ")->str:\n",
    "    \"\"\"Asks user for permission, and if provided, executes python `code` using persistent IPython session.\n",
    "    Returns: Result of expression on last line (if exists); '#DECLINED#' if user declines request to execute\"\"\"\n",
    "    confirm = f'Press Enter to execute, or enter \"n\" to skip?\\n```\\n{code}\\n```\\n'\n",
    "    if self.ask and input(confirm): return '#DECLINED#'\n",
    "    try: res = self.shell.run_cell(code)\n",
    "    except Exception as e: return traceback.format_exc()\n",
    "    return res.stdout if res.result is None else res.result"
   ]
  },
  {
   "cell_type": "markdown",
   "id": "a8425cc8",
   "metadata": {},
   "source": [
    "We just pass along requests to run code to the shell's implementation. Claude often prints results instead of just using the last expression, so we capture stdout in those cases."
   ]
  },
  {
   "cell_type": "code",
   "execution_count": 65,
   "id": "013f6dfa",
   "metadata": {},
   "outputs": [],
   "source": [
    "sp = f'''You are a knowledgable assistant. Do not use tools unless needed.\n",
    "Don't do complex calculations yourself -- use code for them.\n",
    "The following modules are pre-imported for `run_cell` automatically:\n",
    "\n",
    "{CodeChat.imps}\n",
    "\n",
    "Never mention what tools you are using. Note that `run_cell` interpreter state is *persistent* across calls.\n",
    "\n",
    "If a tool returns `#DECLINED#` report to the user that the attempt was declined and no further progress can be made.\n",
    "In that case, do *not* attempt to run any further code -- stop execution *IMMEDIATELY* and tell the user it was declined.\n",
    "\n",
    "When using a tool, *ALWAYS* before every use of every tool, tell the user what you will be doing and why.'''"
   ]
  },
  {
   "cell_type": "code",
   "execution_count": 66,
   "id": "610f2556",
   "metadata": {},
   "outputs": [],
   "source": [
    "def get_user()->str:\n",
    "    \"Get the username of the user running this session\"\n",
    "    print(\"Looking up username\")\n",
    "    return 'Jeremy'"
   ]
  },
  {
   "cell_type": "markdown",
   "id": "bf964f57",
   "metadata": {},
   "source": [
    "In order to test out multi-stage tool use, we create a mock function that Claude can call to get the current username."
   ]
  },
  {
   "cell_type": "code",
   "execution_count": 67,
   "id": "e0f875f1",
   "metadata": {},
   "outputs": [],
   "source": [
    "model = models[1]\n",
    "chat = CodeChat(model, tools=[get_user], sp=sp, ask=True, temp=0.3)"
   ]
  },
  {
   "cell_type": "markdown",
   "id": "bd92d000",
   "metadata": {},
   "source": [
    "Providing a callable to toolloop's `trace_func` lets us print out information during the loop:"
   ]
  },
  {
   "cell_type": "markdown",
   "id": "9df2c6c8",
   "metadata": {},
   "source": [
    "`toolloop`'s `cont_func` callable let's us provide a function which, if it returns `False`, stops the loop:"
   ]
  },
  {
   "cell_type": "code",
   "execution_count": 68,
   "id": "bfbc8ba8",
   "metadata": {},
   "outputs": [],
   "source": [
    "def _cont_decline(call, resp, asst): return resp['content'][0]['content'] != '#DECLINED#'"
   ]
  },
  {
   "cell_type": "markdown",
   "id": "eddb021f",
   "metadata": {},
   "source": [
    "Now we can try our code interpreter. We start by asking for a function to be created, which we'll use in the next prompt to test that the interpreter is persistent."
   ]
  },
  {
   "cell_type": "code",
   "execution_count": 69,
   "id": "f1974763",
   "metadata": {},
   "outputs": [
    {
     "name": "stdout",
     "output_type": "stream",
     "text": [
      "Press Enter to execute, or enter \"n\" to skip?\n",
      "```\n",
      "checksum = lambda s: functools.reduce(operator.mul, (ord(c) for c in s), 1)\n",
      "\n",
      "# Test the function\n",
      "test_string = \"hello\"\n",
      "result = checksum(test_string)\n",
      "print(f\"Checksum of '{test_string}': {result}\")\n",
      "\n",
      "# Let's verify by calculating manually\n",
      "manual_calc = ord('h') * ord('e') * ord('l') * ord('l') * ord('o')\n",
      "print(f\"Manual calculation: {ord('h')} * {ord('e')} * {ord('l')} * {ord('l')} * {ord('o')} = {manual_calc}\")\n",
      "print(f\"Results match: {result == manual_calc}\")\n",
      "```\n",
      "\n"
     ]
    },
    {
     "data": {
      "text/markdown": [
       "I'll create a 1-line checksum function that multiplies the ASCII values of characters in a string using `reduce`.\n",
       "\n",
       "<details>\n",
       "\n",
       "- id: `msg_01NYULajnqbQD6QE5Up6LqNk`\n",
       "- content: `[{'citations': None, 'text': \"I'll create a 1-line checksum function that multiplies the ASCII values of characters in a string using `reduce`.\", 'type': 'text'}, {'id': 'toolu_017igNofFN9FXpkiaKYTjBf4', 'input': {'code': 'checksum = lambda s: functools.reduce(operator.mul, (ord(c) for c in s), 1)\\n\\n# Test the function\\ntest_string = \"hello\"\\nresult = checksum(test_string)\\nprint(f\"Checksum of \\'{test_string}\\': {result}\")\\n\\n# Let\\'s verify by calculating manually\\nmanual_calc = ord(\\'h\\') * ord(\\'e\\') * ord(\\'l\\') * ord(\\'l\\') * ord(\\'o\\')\\nprint(f\"Manual calculation: {ord(\\'h\\')} * {ord(\\'e\\')} * {ord(\\'l\\')} * {ord(\\'l\\')} * {ord(\\'o\\')} = {manual_calc}\")\\nprint(f\"Results match: {result == manual_calc}\")'}, 'name': 'run_cell', 'type': 'tool_use'}]`\n",
       "- model: `claude-sonnet-4-20250514`\n",
       "- role: `assistant`\n",
       "- stop_reason: `tool_use`\n",
       "- stop_sequence: `None`\n",
       "- type: `message`\n",
       "- usage: `{'cache_creation_input_tokens': 0, 'cache_read_input_tokens': 0, 'input_tokens': 744, 'output_tokens': 250, 'server_tool_use': None, 'service_tier': 'standard'}`\n",
       "\n",
       "</details>"
      ],
      "text/plain": [
       "Message(id='msg_01NYULajnqbQD6QE5Up6LqNk', content=[TextBlock(citations=None, text=\"I'll create a 1-line checksum function that multiplies the ASCII values of characters in a string using `reduce`.\", type='text'), ToolUseBlock(id='toolu_017igNofFN9FXpkiaKYTjBf4', input={'code': 'checksum = lambda s: functools.reduce(operator.mul, (ord(c) for c in s), 1)\\n\\n# Test the function\\ntest_string = \"hello\"\\nresult = checksum(test_string)\\nprint(f\"Checksum of \\'{test_string}\\': {result}\")\\n\\n# Let\\'s verify by calculating manually\\nmanual_calc = ord(\\'h\\') * ord(\\'e\\') * ord(\\'l\\') * ord(\\'l\\') * ord(\\'o\\')\\nprint(f\"Manual calculation: {ord(\\'h\\')} * {ord(\\'e\\')} * {ord(\\'l\\')} * {ord(\\'l\\')} * {ord(\\'o\\')} = {manual_calc}\")\\nprint(f\"Results match: {result == manual_calc}\")'}, name='run_cell', type='tool_use')], model='claude-sonnet-4-20250514', role='assistant', stop_reason='tool_use', stop_sequence=None, type='message', usage=In: 744; Out: 250; Cache create: 0; Cache read: 0; Total Tokens: 994; Server tool use (web search requests): 0)"
      ]
     },
     "metadata": {},
     "output_type": "display_data"
    },
    {
     "data": {
      "text/markdown": [
       "Perfect! Here's the 1-line checksum function:\n",
       "\n",
       "```python\n",
       "checksum = lambda s: functools.reduce(operator.mul, (ord(c) for c in s), 1)\n",
       "```\n",
       "\n",
       "This function:\n",
       "- Uses `functools.reduce` with `operator.mul` to multiply values together\n",
       "- Converts each character to its ASCII value using `ord(c)`\n",
       "- Uses a generator expression `(ord(c) for c in s)` to get ASCII values\n",
       "- Starts with an initial value of `1` (the identity for multiplication)\n",
       "- Returns the product of all ASCII values in the string\n",
       "\n",
       "The function works correctly as demonstrated with the test string \"hello\", producing a checksum of 13,599,570,816.\n",
       "\n",
       "<details>\n",
       "\n",
       "- id: `msg_0136SzXuJJQWyYLHsHsKMHec`\n",
       "- content: `[{'citations': None, 'text': 'Perfect! Here\\'s the 1-line checksum function:\\n\\n```python\\nchecksum = lambda s: functools.reduce(operator.mul, (ord(c) for c in s), 1)\\n```\\n\\nThis function:\\n- Uses `functools.reduce` with `operator.mul` to multiply values together\\n- Converts each character to its ASCII value using `ord(c)`\\n- Uses a generator expression `(ord(c) for c in s)` to get ASCII values\\n- Starts with an initial value of `1` (the identity for multiplication)\\n- Returns the product of all ASCII values in the string\\n\\nThe function works correctly as demonstrated with the test string \"hello\", producing a checksum of 13,599,570,816.', 'type': 'text'}]`\n",
       "- model: `claude-sonnet-4-20250514`\n",
       "- role: `assistant`\n",
       "- stop_reason: `end_turn`\n",
       "- stop_sequence: `None`\n",
       "- type: `message`\n",
       "- usage: `{'cache_creation_input_tokens': 0, 'cache_read_input_tokens': 0, 'input_tokens': 1052, 'output_tokens': 169, 'server_tool_use': None, 'service_tier': 'standard'}`\n",
       "\n",
       "</details>"
      ],
      "text/plain": [
       "Message(id='msg_0136SzXuJJQWyYLHsHsKMHec', content=[TextBlock(citations=None, text='Perfect! Here\\'s the 1-line checksum function:\\n\\n```python\\nchecksum = lambda s: functools.reduce(operator.mul, (ord(c) for c in s), 1)\\n```\\n\\nThis function:\\n- Uses `functools.reduce` with `operator.mul` to multiply values together\\n- Converts each character to its ASCII value using `ord(c)`\\n- Uses a generator expression `(ord(c) for c in s)` to get ASCII values\\n- Starts with an initial value of `1` (the identity for multiplication)\\n- Returns the product of all ASCII values in the string\\n\\nThe function works correctly as demonstrated with the test string \"hello\", producing a checksum of 13,599,570,816.', type='text')], model='claude-sonnet-4-20250514', role='assistant', stop_reason='end_turn', stop_sequence=None, type='message', usage=In: 1052; Out: 169; Cache create: 0; Cache read: 0; Total Tokens: 1221; Server tool use (web search requests): 0)"
      ]
     },
     "metadata": {},
     "output_type": "display_data"
    }
   ],
   "source": [
    "pr = '''Create a 1-line function `checksum` for a string `s`,\n",
    "that multiplies together the ascii values of each character in `s` using `reduce`.'''\n",
    "for o in chat.toolloop(pr, cont_func=_cont_decline): display(o)"
   ]
  },
  {
   "cell_type": "markdown",
   "id": "100eac7b",
   "metadata": {},
   "source": [
    "By asking for a calculation to be done on the username, we force it to use multiple steps:"
   ]
  },
  {
   "cell_type": "code",
   "execution_count": 70,
   "id": "7c381e69",
   "metadata": {},
   "outputs": [
    {
     "name": "stdout",
     "output_type": "stream",
     "text": [
      "Looking up username\n"
     ]
    },
    {
     "data": {
      "text/markdown": [
       "I'll first get the username of this session, then use the checksum function to calculate its checksum.\n",
       "\n",
       "<details>\n",
       "\n",
       "- id: `msg_01VggyK78tiRhdvfML6t4Wnu`\n",
       "- content: `[{'citations': None, 'text': \"I'll first get the username of this session, then use the checksum function to calculate its checksum.\", 'type': 'text'}, {'id': 'toolu_0191SgZiVKjPbJZePvHUVTjg', 'input': {}, 'name': 'get_user', 'type': 'tool_use'}]`\n",
       "- model: `claude-sonnet-4-20250514`\n",
       "- role: `assistant`\n",
       "- stop_reason: `tool_use`\n",
       "- stop_sequence: `None`\n",
       "- type: `message`\n",
       "- usage: `{'cache_creation_input_tokens': 0, 'cache_read_input_tokens': 0, 'input_tokens': 1238, 'output_tokens': 59, 'server_tool_use': None, 'service_tier': 'standard'}`\n",
       "\n",
       "</details>"
      ],
      "text/plain": [
       "Message(id='msg_01VggyK78tiRhdvfML6t4Wnu', content=[TextBlock(citations=None, text=\"I'll first get the username of this session, then use the checksum function to calculate its checksum.\", type='text'), ToolUseBlock(id='toolu_0191SgZiVKjPbJZePvHUVTjg', input={}, name='get_user', type='tool_use')], model='claude-sonnet-4-20250514', role='assistant', stop_reason='tool_use', stop_sequence=None, type='message', usage=In: 1238; Out: 59; Cache create: 0; Cache read: 0; Total Tokens: 1297; Server tool use (web search requests): 0)"
      ]
     },
     "metadata": {},
     "output_type": "display_data"
    },
    {
     "name": "stdout",
     "output_type": "stream",
     "text": [
      "Press Enter to execute, or enter \"n\" to skip?\n",
      "```\n",
      "username = \"Jeremy\"\n",
      "username_checksum = checksum(username)\n",
      "print(f\"Username: {username}\")\n",
      "print(f\"Checksum: {username_checksum}\")\n",
      "\n",
      "# Let's also show the ASCII values for reference\n",
      "ascii_values = [ord(c) for c in username]\n",
      "print(f\"ASCII values: {ascii_values}\")\n",
      "print(f\"Manual verification: {' * '.join(map(str, ascii_values))} = {functools.reduce(operator.mul, ascii_values)}\")\n",
      "```\n",
      "\n"
     ]
    },
    {
     "data": {
      "text/markdown": [
       "Now I'll calculate the checksum of the username \"Jeremy\":\n",
       "\n",
       "<details>\n",
       "\n",
       "- id: `msg_017BbU9iDY8eVPJoxUreJrio`\n",
       "- content: `[{'citations': None, 'text': 'Now I\\'ll calculate the checksum of the username \"Jeremy\":', 'type': 'text'}, {'id': 'toolu_01M9vkaS9zuqqzKicoFbDBaP', 'input': {'code': 'username = \"Jeremy\"\\nusername_checksum = checksum(username)\\nprint(f\"Username: {username}\")\\nprint(f\"Checksum: {username_checksum}\")\\n\\n# Let\\'s also show the ASCII values for reference\\nascii_values = [ord(c) for c in username]\\nprint(f\"ASCII values: {ascii_values}\")\\nprint(f\"Manual verification: {\\' * \\'.join(map(str, ascii_values))} = {functools.reduce(operator.mul, ascii_values)}\")'}, 'name': 'run_cell', 'type': 'tool_use'}]`\n",
       "- model: `claude-sonnet-4-20250514`\n",
       "- role: `assistant`\n",
       "- stop_reason: `tool_use`\n",
       "- stop_sequence: `None`\n",
       "- type: `message`\n",
       "- usage: `{'cache_creation_input_tokens': 0, 'cache_read_input_tokens': 0, 'input_tokens': 1310, 'output_tokens': 185, 'server_tool_use': None, 'service_tier': 'standard'}`\n",
       "\n",
       "</details>"
      ],
      "text/plain": [
       "Message(id='msg_017BbU9iDY8eVPJoxUreJrio', content=[TextBlock(citations=None, text='Now I\\'ll calculate the checksum of the username \"Jeremy\":', type='text'), ToolUseBlock(id='toolu_01M9vkaS9zuqqzKicoFbDBaP', input={'code': 'username = \"Jeremy\"\\nusername_checksum = checksum(username)\\nprint(f\"Username: {username}\")\\nprint(f\"Checksum: {username_checksum}\")\\n\\n# Let\\'s also show the ASCII values for reference\\nascii_values = [ord(c) for c in username]\\nprint(f\"ASCII values: {ascii_values}\")\\nprint(f\"Manual verification: {\\' * \\'.join(map(str, ascii_values))} = {functools.reduce(operator.mul, ascii_values)}\")'}, name='run_cell', type='tool_use')], model='claude-sonnet-4-20250514', role='assistant', stop_reason='tool_use', stop_sequence=None, type='message', usage=In: 1310; Out: 185; Cache create: 0; Cache read: 0; Total Tokens: 1495; Server tool use (web search requests): 0)"
      ]
     },
     "metadata": {},
     "output_type": "display_data"
    },
    {
     "data": {
      "text/markdown": [
       "The checksum of the username \"Jeremy\" is **1,134,987,783,204**.\n",
       "\n",
       "This is calculated by multiplying the ASCII values: 74 × 101 × 114 × 101 × 109 × 121 = 1,134,987,783,204.\n",
       "\n",
       "<details>\n",
       "\n",
       "- id: `msg_01231J4En4o8QavmsiujeNBg`\n",
       "- content: `[{'citations': None, 'text': 'The checksum of the username \"Jeremy\" is **1,134,987,783,204**.\\n\\nThis is calculated by multiplying the ASCII values: 74 × 101 × 114 × 101 × 109 × 121 = 1,134,987,783,204.', 'type': 'text'}]`\n",
       "- model: `claude-sonnet-4-20250514`\n",
       "- role: `assistant`\n",
       "- stop_reason: `end_turn`\n",
       "- stop_sequence: `None`\n",
       "- type: `message`\n",
       "- usage: `{'cache_creation_input_tokens': 0, 'cache_read_input_tokens': 0, 'input_tokens': 1578, 'output_tokens': 70, 'server_tool_use': None, 'service_tier': 'standard'}`\n",
       "\n",
       "</details>"
      ],
      "text/plain": [
       "Message(id='msg_01231J4En4o8QavmsiujeNBg', content=[TextBlock(citations=None, text='The checksum of the username \"Jeremy\" is **1,134,987,783,204**.\\n\\nThis is calculated by multiplying the ASCII values: 74 × 101 × 114 × 101 × 109 × 121 = 1,134,987,783,204.', type='text')], model='claude-sonnet-4-20250514', role='assistant', stop_reason='end_turn', stop_sequence=None, type='message', usage=In: 1578; Out: 70; Cache create: 0; Cache read: 0; Total Tokens: 1648; Server tool use (web search requests): 0)"
      ]
     },
     "metadata": {},
     "output_type": "display_data"
    }
   ],
   "source": [
    "pr = 'Use it to get the checksum of the username of this session.'\n",
    "for o in chat.toolloop(pr): display(o)"
   ]
  },
  {
   "cell_type": "markdown",
   "id": "8fefe903",
   "metadata": {},
   "source": [
    "## Export -"
   ]
  },
  {
   "cell_type": "code",
   "execution_count": 71,
   "id": "1e9ee5c1",
   "metadata": {},
   "outputs": [],
   "source": [
    "#|hide\n",
    "#|eval: false\n",
    "from nbdev.doclinks import nbdev_export\n",
    "nbdev_export()"
   ]
  },
  {
   "cell_type": "code",
   "execution_count": null,
   "id": "c627b799",
   "metadata": {},
   "outputs": [],
   "source": []
  }
 ],
 "metadata": {
  "kernelspec": {
   "display_name": "Python 3 (ipykernel)",
   "language": "python",
   "name": "python3"
  },
  "language_info": {
   "codemirror_mode": {
    "name": "ipython",
    "version": 3
   },
   "file_extension": ".py",
   "mimetype": "text/x-python",
   "name": "python",
   "nbconvert_exporter": "python",
   "pygments_lexer": "ipython3",
   "version": "3.12.8"
  }
 },
 "nbformat": 4,
 "nbformat_minor": 5
}
