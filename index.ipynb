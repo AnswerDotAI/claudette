{
 "cells": [
  {
   "cell_type": "markdown",
   "id": "60650229",
   "metadata": {},
   "source": [
    "# claudette\n",
    "\n",
    "> Claudette is Claude's friend"
   ]
  },
  {
   "cell_type": "code",
   "execution_count": null,
   "id": "c148b709",
   "metadata": {},
   "outputs": [],
   "source": [
    "#| hide\n",
    "from nbdev import show_doc\n",
    "from fastcore.utils import *\n",
    "from IPython import display"
   ]
  },
  {
   "cell_type": "markdown",
   "id": "576899c4",
   "metadata": {},
   "source": [
    "> **NB**: If you are reading this in GitHub's readme, we recommend you instead read the much more nicely formatted [documentation format](https://answerdotai.github.io/claudette/) of this tutorial.\n",
    "\n",
    "*Claudette* is a wrapper for Anthropic's [Python SDK](https://github.com/anthropics/anthropic-sdk-python).\n",
    "\n",
    "The SDK works well, but it is quite low level -- it leaves the developer to do a lot of stuff manually. That's a lot of extra work and boilerplate! Claudette automates pretty much everything that can be automated, whilst providing full control. Amongst the features provided:\n",
    "\n",
    "- A `Chat` class that creates stateful dialogs\n",
    "- Support for *prefill*, which tells Claude what to use as the first few words of its response\n",
    "- Convenient image support\n",
    "- Simple and convenient support for Claude's new Tool Use API.\n",
    "\n",
    "You'll need to set the `ANTHROPIC_API_KEY` environment variable to the key provided to you by Anthropic in order to use this library.\n",
    "\n",
    "Note that this library is the first ever \"literate nbdev\" project. That means that the actual source code for the library is a rendered Jupyter Notebook which includes callout notes and tips, HTML tables and images, detailed explanations, and teaches *how* and *why* the code is written the way it is. Even if you've never used the Anthropic Python SDK or Claude API before, you should be able to read the source code. Click [Claudette's Source](https://answerdotai.github.io/claudette/core.html) to read it, or clone the git repo and execute the notebook yourself to see every step of the creation process in action. The tutorial below includes links to API details which will take you to relevant parts of the source."
   ]
  },
  {
   "cell_type": "markdown",
   "id": "b5117a7f",
   "metadata": {},
   "source": [
    "## Install"
   ]
  },
  {
   "cell_type": "markdown",
   "id": "03ad7175",
   "metadata": {},
   "source": [
    "```sh\n",
    "pip install claudette\n",
    "```"
   ]
  },
  {
   "cell_type": "markdown",
   "id": "05db4443",
   "metadata": {},
   "source": [
    "## Getting started"
   ]
  },
  {
   "cell_type": "markdown",
   "id": "9d45538a",
   "metadata": {},
   "source": [
    "Anthropic's Python SDK will automatically be installed with Claudette, if you don't already have it."
   ]
  },
  {
   "cell_type": "code",
   "execution_count": null,
   "id": "6647ace5",
   "metadata": {},
   "outputs": [],
   "source": [
    "import os\n",
    "# os.environ['ANTHROPIC_LOG'] = 'debug'"
   ]
  },
  {
   "cell_type": "markdown",
   "id": "0a0336e0",
   "metadata": {},
   "source": [
    "To print every HTTP request and response in full, uncomment the above line."
   ]
  },
  {
   "cell_type": "code",
   "execution_count": null,
   "id": "4c049838",
   "metadata": {},
   "outputs": [],
   "source": [
    "from claudette import *"
   ]
  },
  {
   "cell_type": "markdown",
   "id": "9cef8451",
   "metadata": {},
   "source": [
    "Claudette only exports the symbols that are needed to use the library, so you can use `import *` to import them. Alternatively, just use:\n",
    "\n",
    "```python\n",
    "import claudette\n",
    "```\n",
    "\n",
    "...and then add the prefix `claudette.` to any usages of the module.\n",
    "\n",
    "Claudette provides `models`, which is a list of models currently available from the SDK."
   ]
  },
  {
   "cell_type": "code",
   "execution_count": null,
   "id": "cfd8f432",
   "metadata": {},
   "outputs": [
    {
     "data": {
      "text/plain": [
       "('claude-3-opus-20240229',\n",
       " 'claude-3-sonnet-20240229',\n",
       " 'claude-3-haiku-20240307')"
      ]
     },
     "execution_count": null,
     "metadata": {},
     "output_type": "execute_result"
    }
   ],
   "source": [
    "models"
   ]
  },
  {
   "cell_type": "markdown",
   "id": "8e98439f",
   "metadata": {},
   "source": [
    "For these examples, we'll use Haiku, since it's fast and cheap (and surprisingly good!)"
   ]
  },
  {
   "cell_type": "code",
   "execution_count": null,
   "id": "8dde0ab6",
   "metadata": {},
   "outputs": [],
   "source": [
    "model = models[-1]"
   ]
  },
  {
   "cell_type": "markdown",
   "id": "ff6f6471-8061-4fdd-85a1-25fdc27c5cf3",
   "metadata": {},
   "source": [
    "## Chat"
   ]
  },
  {
   "cell_type": "markdown",
   "id": "a124328f",
   "metadata": {},
   "source": [
    "The main interface to Claudia is the `Chat` class, which provides a stateful interface to Claude:"
   ]
  },
  {
   "cell_type": "code",
   "execution_count": null,
   "id": "d92fe1f9",
   "metadata": {},
   "outputs": [
    {
     "data": {
      "text/markdown": [
       "It's nice to meet you, Jeremy! I'm an AI assistant created by Anthropic. I'm here to help with any questions or tasks you may have. Please let me know if there's anything I can assist you with.\n",
       "\n",
       "<details>\n",
       "\n",
       "- id: msg_01VHGuYq67vgFLH9dDwScZcF\n",
       "- content: [{'text': \"It's nice to meet you, Jeremy! I'm an AI assistant created by Anthropic. I'm here to help with any questions or tasks you may have. Please let me know if there's anything I can assist you with.\", 'type': 'text'}]\n",
       "- model: claude-3-haiku-20240307\n",
       "- role: assistant\n",
       "- stop_reason: end_turn\n",
       "- stop_sequence: None\n",
       "- type: message\n",
       "- usage: {'input_tokens': 19, 'output_tokens': 51}\n",
       "\n",
       "</details>"
      ],
      "text/plain": [
       "ToolsBetaMessage(id='msg_01VHGuYq67vgFLH9dDwScZcF', content=[TextBlock(text=\"It's nice to meet you, Jeremy! I'm an AI assistant created by Anthropic. I'm here to help with any questions or tasks you may have. Please let me know if there's anything I can assist you with.\", type='text')], model='claude-3-haiku-20240307', role='assistant', stop_reason='end_turn', stop_sequence=None, type='message', usage=In: 19; Out: 51; Total: 70)"
      ]
     },
     "execution_count": null,
     "metadata": {},
     "output_type": "execute_result"
    }
   ],
   "source": [
    "chat = Chat(model, sp=\"\"\"You are a helpful and concise assistant.\"\"\")\n",
    "chat(\"I'm Jeremy\")"
   ]
  },
  {
   "cell_type": "code",
   "execution_count": null,
   "id": "775e570f",
   "metadata": {},
   "outputs": [
    {
     "data": {
      "text/markdown": [
       "Your name is Jeremy, as you told me earlier.\n",
       "\n",
       "<details>\n",
       "\n",
       "- id: msg_01GxYyFQa4HtBKMEKQk73GVk\n",
       "- content: [{'text': 'Your name is Jeremy, as you told me earlier.', 'type': 'text'}]\n",
       "- model: claude-3-haiku-20240307\n",
       "- role: assistant\n",
       "- stop_reason: end_turn\n",
       "- stop_sequence: None\n",
       "- type: message\n",
       "- usage: {'input_tokens': 78, 'output_tokens': 14}\n",
       "\n",
       "</details>"
      ],
      "text/plain": [
       "ToolsBetaMessage(id='msg_01GxYyFQa4HtBKMEKQk73GVk', content=[TextBlock(text='Your name is Jeremy, as you told me earlier.', type='text')], model='claude-3-haiku-20240307', role='assistant', stop_reason='end_turn', stop_sequence=None, type='message', usage=In: 78; Out: 14; Total: 92)"
      ]
     },
     "execution_count": null,
     "metadata": {},
     "output_type": "execute_result"
    }
   ],
   "source": [
    "r = chat(\"What's my name?\")\n",
    "r"
   ]
  },
  {
   "cell_type": "markdown",
   "id": "4f6f0e71",
   "metadata": {},
   "source": [
    "As you see above, displaying the results of a call in a notebook shows just the message contents, with the other details hidden behind a collapsible section. Alternatively you can `print` the details:"
   ]
  },
  {
   "cell_type": "code",
   "execution_count": null,
   "id": "50881e3f",
   "metadata": {},
   "outputs": [
    {
     "name": "stdout",
     "output_type": "stream",
     "text": [
      "ToolsBetaMessage(id='msg_01GxYyFQa4HtBKMEKQk73GVk', content=[TextBlock(text='Your name is Jeremy, as you told me earlier.', type='text')], model='claude-3-haiku-20240307', role='assistant', stop_reason='end_turn', stop_sequence=None, type='message', usage=In: 78; Out: 14; Total: 92)\n"
     ]
    }
   ],
   "source": [
    "print(r)"
   ]
  },
  {
   "cell_type": "markdown",
   "id": "967f0f8c",
   "metadata": {},
   "source": [
    "Claude supports adding an extra `assistant` message at the end, which contains the *prefill* -- i.e. the text we want Claude to assume the response starts with. Let's try it out:"
   ]
  },
  {
   "cell_type": "code",
   "execution_count": null,
   "id": "830a6bf8",
   "metadata": {},
   "outputs": [
    {
     "data": {
      "text/markdown": [
       "According to Douglas Adams,  \"The answer to the ultimate question of life, the universe, and everything is 42.\"\n",
       "\n",
       "<details>\n",
       "\n",
       "- id: msg_01VYDycdhZ64357FdSiWjKj7\n",
       "- content: [{'text': 'According to Douglas Adams,  \"The answer to the ultimate question of life, the universe, and everything is 42.\"', 'type': 'text'}]\n",
       "- model: claude-3-haiku-20240307\n",
       "- role: assistant\n",
       "- stop_reason: end_turn\n",
       "- stop_sequence: None\n",
       "- type: message\n",
       "- usage: {'input_tokens': 112, 'output_tokens': 23}\n",
       "\n",
       "</details>"
      ],
      "text/plain": [
       "ToolsBetaMessage(id='msg_01VYDycdhZ64357FdSiWjKj7', content=[TextBlock(text='According to Douglas Adams,  \"The answer to the ultimate question of life, the universe, and everything is 42.\"', type='text')], model='claude-3-haiku-20240307', role='assistant', stop_reason='end_turn', stop_sequence=None, type='message', usage=In: 112; Out: 23; Total: 135)"
      ]
     },
     "execution_count": null,
     "metadata": {},
     "output_type": "execute_result"
    }
   ],
   "source": [
    "chat(\"Concisely, what is the meaning of life?\",\n",
    "     prefill='According to Douglas Adams,')"
   ]
  },
  {
   "cell_type": "markdown",
   "id": "4972b119",
   "metadata": {},
   "source": [
    "Instead of calling `Chat` directly, you can use `Chat.stream` to stream the results as soon as they arrive (although you will only see the gradual generation if you execute the notebook yourself, of course!)"
   ]
  },
  {
   "cell_type": "code",
   "execution_count": null,
   "id": "8949a074",
   "metadata": {},
   "outputs": [
    {
     "name": "stdout",
     "output_type": "stream",
     "text": [
      "It was in The Hitchhiker's Guide to the Galaxy."
     ]
    }
   ],
   "source": [
    "for o in chat.stream(\"Concisely, what book was that in?\", prefill='It was in'):\n",
    "    print(o, end='')"
   ]
  },
  {
   "cell_type": "markdown",
   "id": "8f7cfb55",
   "metadata": {},
   "source": [
    "## Tool use"
   ]
  },
  {
   "cell_type": "markdown",
   "id": "b24744d5",
   "metadata": {},
   "source": [
    "[Tool use](https://docs.anthropic.com/claude/docs/tool-use) lets Claude use external tools.\n",
    "\n",
    "We use [docments](https://fastcore.fast.ai/docments.html) to make defining Python functions as ergonomic as possible. Each parameter (and the return value) should have a type, and a docments comment with the description of what it is. As an example we'll write a simple function that adds numbers together, and will tell us when it's being called:"
   ]
  },
  {
   "cell_type": "code",
   "execution_count": null,
   "id": "b9fbfc57",
   "metadata": {},
   "outputs": [],
   "source": [
    "def sums(\n",
    "    a:int,  # First thing to sum\n",
    "    b:int=1 # Second thing to sum\n",
    ") -> int: # The sum of the inputs\n",
    "    \"Adds a + b.\"\n",
    "    print(f\"Finding the sum of {a} and {b}\")\n",
    "    return a + b"
   ]
  },
  {
   "cell_type": "markdown",
   "id": "85442960",
   "metadata": {},
   "source": [
    "To ensure it gets used, we can use a system prompt:"
   ]
  },
  {
   "cell_type": "code",
   "execution_count": null,
   "id": "3549e7b4",
   "metadata": {},
   "outputs": [],
   "source": [
    "sp = \"If asked to add things up, use the `sums` function instead of doing it yourself. Never mention what tools you use.\""
   ]
  },
  {
   "cell_type": "markdown",
   "id": "e3c16c8f",
   "metadata": {},
   "source": [
    "We'll get Claude to add up some long numbers:"
   ]
  },
  {
   "cell_type": "code",
   "execution_count": null,
   "id": "7a5bc98a",
   "metadata": {},
   "outputs": [
    {
     "data": {
      "text/plain": [
       "'What is 604542+6458932?'"
      ]
     },
     "execution_count": null,
     "metadata": {},
     "output_type": "execute_result"
    }
   ],
   "source": [
    "a,b = 604542,6458932\n",
    "pr = f\"What is {a}+{b}?\"\n",
    "pr"
   ]
  },
  {
   "cell_type": "markdown",
   "id": "a0a0b65e",
   "metadata": {},
   "source": [
    "To use tools, pass a list of them to `Chat`:"
   ]
  },
  {
   "cell_type": "code",
   "execution_count": null,
   "id": "84bf4c91",
   "metadata": {},
   "outputs": [],
   "source": [
    "chat = Chat(model, sp=sp, tools=[sums])"
   ]
  },
  {
   "cell_type": "markdown",
   "id": "4a9d219f",
   "metadata": {},
   "source": [
    "Now when we call that with our prompt, Claude doesn't return the answer, but instead returns a `tool_use` message, which means we have to call the named tool with the provided parameters:"
   ]
  },
  {
   "cell_type": "code",
   "execution_count": null,
   "id": "7b1e3446",
   "metadata": {},
   "outputs": [
    {
     "data": {
      "text/markdown": [
       "ToolUseBlock(id='toolu_01Ru65j1Y4fFGYzjdav5zvSg', input={'a': 604542, 'b': 6458932}, name='sums', type='tool_use')\n",
       "\n",
       "<details>\n",
       "\n",
       "- id: msg_014NCFjhVLj69zqkdxAM5EXj\n",
       "- content: [{'id': 'toolu_01Ru65j1Y4fFGYzjdav5zvSg', 'input': {'a': 604542, 'b': 6458932}, 'name': 'sums', 'type': 'tool_use'}]\n",
       "- model: claude-3-haiku-20240307\n",
       "- role: assistant\n",
       "- stop_reason: tool_use\n",
       "- stop_sequence: None\n",
       "- type: message\n",
       "- usage: {'input_tokens': 418, 'output_tokens': 72}\n",
       "\n",
       "</details>"
      ],
      "text/plain": [
       "ToolsBetaMessage(id='msg_014NCFjhVLj69zqkdxAM5EXj', content=[ToolUseBlock(id='toolu_01Ru65j1Y4fFGYzjdav5zvSg', input={'a': 604542, 'b': 6458932}, name='sums', type='tool_use')], model='claude-3-haiku-20240307', role='assistant', stop_reason='tool_use', stop_sequence=None, type='message', usage=In: 418; Out: 72; Total: 490)"
      ]
     },
     "execution_count": null,
     "metadata": {},
     "output_type": "execute_result"
    }
   ],
   "source": [
    "r = chat(pr)\n",
    "r"
   ]
  },
  {
   "cell_type": "markdown",
   "id": "d7c321d4",
   "metadata": {},
   "source": [
    "Claudette handles all that for us -- we just have to pass along the message, and it all happens automatically:"
   ]
  },
  {
   "cell_type": "code",
   "execution_count": null,
   "id": "2399deae",
   "metadata": {},
   "outputs": [
    {
     "name": "stdout",
     "output_type": "stream",
     "text": [
      "Finding the sum of 604542 and 6458932\n"
     ]
    },
    {
     "data": {
      "text/markdown": [
       "The sum of 604542 and 6458932 is 7063474.\n",
       "\n",
       "<details>\n",
       "\n",
       "- id: msg_01NxFT6mAeCYH8xnkRA1ru8V\n",
       "- content: [{'text': 'The sum of 604542 and 6458932 is 7063474.', 'type': 'text'}]\n",
       "- model: claude-3-haiku-20240307\n",
       "- role: assistant\n",
       "- stop_reason: end_turn\n",
       "- stop_sequence: None\n",
       "- type: message\n",
       "- usage: {'input_tokens': 505, 'output_tokens': 23}\n",
       "\n",
       "</details>"
      ],
      "text/plain": [
       "ToolsBetaMessage(id='msg_01NxFT6mAeCYH8xnkRA1ru8V', content=[TextBlock(text='The sum of 604542 and 6458932 is 7063474.', type='text')], model='claude-3-haiku-20240307', role='assistant', stop_reason='end_turn', stop_sequence=None, type='message', usage=In: 505; Out: 23; Total: 528)"
      ]
     },
     "execution_count": null,
     "metadata": {},
     "output_type": "execute_result"
    }
   ],
   "source": [
    "chat(r)"
   ]
  },
  {
   "cell_type": "markdown",
   "id": "782ddcce",
   "metadata": {},
   "source": [
    "You can see how many tokens have been used at any time by checking the `use` property. Note that (as of May 2024) tool use in Claude uses a *lot* of tokens, since it automatically adds a large system prompt."
   ]
  },
  {
   "cell_type": "code",
   "execution_count": null,
   "id": "c2dbea0c",
   "metadata": {},
   "outputs": [
    {
     "data": {
      "text/plain": [
       "In: 923; Out: 95; Total: 1018"
      ]
     },
     "execution_count": null,
     "metadata": {},
     "output_type": "execute_result"
    }
   ],
   "source": [
    "chat.use"
   ]
  },
  {
   "cell_type": "markdown",
   "id": "a99c5b50",
   "metadata": {},
   "source": [
    "## Images"
   ]
  },
  {
   "cell_type": "markdown",
   "id": "c0f5297d",
   "metadata": {},
   "source": [
    "Claude can handle image data as well. As everyone knows, when testing image APIs you have to use a cute puppy."
   ]
  },
  {
   "cell_type": "code",
   "execution_count": null,
   "id": "517fd00e",
   "metadata": {},
   "outputs": [
    {
     "data": {
      "image/jpeg": "[encoded data removed]",
      "text/plain": [
       "<IPython.core.display.Image object>"
      ]
     },
     "execution_count": null,
     "metadata": {
      "image/jpeg": {
       "width": 200
      }
     },
     "output_type": "execute_result"
    }
   ],
   "source": [
    "fn = Path('puppy.jpg')\n",
    "display.Image(filename=fn, width=200)"
   ]
  },
  {
   "cell_type": "markdown",
   "id": "0bf7fee4",
   "metadata": {},
   "source": [
    "We create a `Chat` object as before:"
   ]
  },
  {
   "cell_type": "code",
   "execution_count": null,
   "id": "61690121",
   "metadata": {},
   "outputs": [],
   "source": [
    "chat = Chat(model)"
   ]
  },
  {
   "cell_type": "markdown",
   "id": "12899e6d",
   "metadata": {},
   "source": [
    "Claudia expects images as a list of bytes, so we read in the file:"
   ]
  },
  {
   "cell_type": "code",
   "execution_count": null,
   "id": "0e8edb1f",
   "metadata": {},
   "outputs": [],
   "source": [
    "img = fn.read_bytes()"
   ]
  },
  {
   "cell_type": "markdown",
   "id": "50c32f2a",
   "metadata": {},
   "source": [
    "Prompts to Claudia can be lists, containing text, messages, or both, eg:"
   ]
  },
  {
   "cell_type": "code",
   "execution_count": null,
   "id": "c2f9fd7a",
   "metadata": {},
   "outputs": [
    {
     "data": {
      "text/markdown": [
       "The image contains purple or lavender-colored flowers, which appear to be daisies or a similar type of flower.\n",
       "\n",
       "<details>\n",
       "\n",
       "- id: msg_017i7Su5rfcdcz3FmiEQ9CvD\n",
       "- content: [{'text': 'The image contains purple or lavender-colored flowers, which appear to be daisies or a similar type of flower.', 'type': 'text'}]\n",
       "- model: claude-3-haiku-20240307\n",
       "- role: assistant\n",
       "- stop_reason: end_turn\n",
       "- stop_sequence: None\n",
       "- type: message\n",
       "- usage: {'input_tokens': 185, 'output_tokens': 28}\n",
       "\n",
       "</details>"
      ],
      "text/plain": [
       "ToolsBetaMessage(id='msg_017i7Su5rfcdcz3FmiEQ9CvD', content=[TextBlock(text='The image contains purple or lavender-colored flowers, which appear to be daisies or a similar type of flower.', type='text')], model='claude-3-haiku-20240307', role='assistant', stop_reason='end_turn', stop_sequence=None, type='message', usage=In: 185; Out: 28; Total: 213)"
      ]
     },
     "execution_count": null,
     "metadata": {},
     "output_type": "execute_result"
    }
   ],
   "source": [
    "chat([img, \"In brief, what color flowers are in this image?\"])"
   ]
  },
  {
   "cell_type": "markdown",
   "id": "0ef6d924",
   "metadata": {},
   "source": [
    "The image is included as input tokens."
   ]
  },
  {
   "cell_type": "code",
   "execution_count": null,
   "id": "e275b311",
   "metadata": {},
   "outputs": [
    {
     "data": {
      "text/plain": [
       "In: 185; Out: 28; Total: 213"
      ]
     },
     "execution_count": null,
     "metadata": {},
     "output_type": "execute_result"
    }
   ],
   "source": [
    "chat.use"
   ]
  },
  {
   "cell_type": "markdown",
   "id": "5ea93076",
   "metadata": {},
   "source": [
    "Alternatively, Claudette supports creating a multi-stage chat with separate image and text prompts. For instance, you can pass just the image as the initial prompt (in which case Claude will make some general comments about what it sees), and then follow up with questions in additional prompts:"
   ]
  },
  {
   "cell_type": "code",
   "execution_count": null,
   "id": "f41b7887",
   "metadata": {},
   "outputs": [
    {
     "data": {
      "text/markdown": [
       "The image shows a cute puppy lying in the grass. The puppy appears to be a Cavalier King Charles Spaniel, with a fluffy brown and white coat. The puppy is looking directly at the camera with a friendly, curious expression. In the background, there are some purple flowers, adding a nice natural setting to the scene. The image captures the adorable and playful nature of this young pup.\n",
       "\n",
       "<details>\n",
       "\n",
       "- id: msg_01K36rQXar93QVV5PzzaAoPr\n",
       "- content: [{'text': 'The image shows a cute puppy lying in the grass. The puppy appears to be a Cavalier King Charles Spaniel, with a fluffy brown and white coat. The puppy is looking directly at the camera with a friendly, curious expression. In the background, there are some purple flowers, adding a nice natural setting to the scene. The image captures the adorable and playful nature of this young pup.', 'type': 'text'}]\n",
       "- model: claude-3-haiku-20240307\n",
       "- role: assistant\n",
       "- stop_reason: end_turn\n",
       "- stop_sequence: None\n",
       "- type: message\n",
       "- usage: {'input_tokens': 173, 'output_tokens': 91}\n",
       "\n",
       "</details>"
      ],
      "text/plain": [
       "ToolsBetaMessage(id='msg_01K36rQXar93QVV5PzzaAoPr', content=[TextBlock(text='The image shows a cute puppy lying in the grass. The puppy appears to be a Cavalier King Charles Spaniel, with a fluffy brown and white coat. The puppy is looking directly at the camera with a friendly, curious expression. In the background, there are some purple flowers, adding a nice natural setting to the scene. The image captures the adorable and playful nature of this young pup.', type='text')], model='claude-3-haiku-20240307', role='assistant', stop_reason='end_turn', stop_sequence=None, type='message', usage=In: 173; Out: 91; Total: 264)"
      ]
     },
     "execution_count": null,
     "metadata": {},
     "output_type": "execute_result"
    }
   ],
   "source": [
    "chat = Chat(model)\n",
    "chat(img)"
   ]
  },
  {
   "cell_type": "code",
   "execution_count": null,
   "id": "c8925b57",
   "metadata": {},
   "outputs": [
    {
     "data": {
      "text/markdown": [
       "The puppy in the image is facing towards the camera, looking directly at the viewer.\n",
       "\n",
       "<details>\n",
       "\n",
       "- id: msg_013CqCFmEzPvc6mW5kAP8fki\n",
       "- content: [{'text': 'The puppy in the image is facing towards the camera, looking directly at the viewer.', 'type': 'text'}]\n",
       "- model: claude-3-haiku-20240307\n",
       "- role: assistant\n",
       "- stop_reason: end_turn\n",
       "- stop_sequence: None\n",
       "- type: message\n",
       "- usage: {'input_tokens': 275, 'output_tokens': 21}\n",
       "\n",
       "</details>"
      ],
      "text/plain": [
       "ToolsBetaMessage(id='msg_013CqCFmEzPvc6mW5kAP8fki', content=[TextBlock(text='The puppy in the image is facing towards the camera, looking directly at the viewer.', type='text')], model='claude-3-haiku-20240307', role='assistant', stop_reason='end_turn', stop_sequence=None, type='message', usage=In: 275; Out: 21; Total: 296)"
      ]
     },
     "execution_count": null,
     "metadata": {},
     "output_type": "execute_result"
    }
   ],
   "source": [
    "chat('What direction is the puppy facing?')"
   ]
  },
  {
   "cell_type": "code",
   "execution_count": null,
   "id": "f19a2b54",
   "metadata": {},
   "outputs": [
    {
     "data": {
      "text/markdown": [
       "The puppy in the image has a brown and white coat color. It appears to be a Cavalier King Charles Spaniel breed, with the characteristic long, silky fur in those colors.\n",
       "\n",
       "<details>\n",
       "\n",
       "- id: msg_01XfDZDRyaNMW58TVJ9znXjR\n",
       "- content: [{'text': 'The puppy in the image has a brown and white coat color. It appears to be a Cavalier King Charles Spaniel breed, with the characteristic long, silky fur in those colors.', 'type': 'text'}]\n",
       "- model: claude-3-haiku-20240307\n",
       "- role: assistant\n",
       "- stop_reason: end_turn\n",
       "- stop_sequence: None\n",
       "- type: message\n",
       "- usage: {'input_tokens': 304, 'output_tokens': 44}\n",
       "\n",
       "</details>"
      ],
      "text/plain": [
       "ToolsBetaMessage(id='msg_01XfDZDRyaNMW58TVJ9znXjR', content=[TextBlock(text='The puppy in the image has a brown and white coat color. It appears to be a Cavalier King Charles Spaniel breed, with the characteristic long, silky fur in those colors.', type='text')], model='claude-3-haiku-20240307', role='assistant', stop_reason='end_turn', stop_sequence=None, type='message', usage=In: 304; Out: 44; Total: 348)"
      ]
     },
     "execution_count": null,
     "metadata": {},
     "output_type": "execute_result"
    }
   ],
   "source": [
    "chat('What color is it?')"
   ]
  },
  {
   "cell_type": "markdown",
   "id": "7a1c1112",
   "metadata": {},
   "source": [
    "Note that the image is passed in again for every input in the dialog, so that number of input tokens increases quickly with this kind of chat."
   ]
  },
  {
   "cell_type": "code",
   "execution_count": null,
   "id": "48258e8d",
   "metadata": {},
   "outputs": [
    {
     "data": {
      "text/plain": [
       "In: 752; Out: 156; Total: 908"
      ]
     },
     "execution_count": null,
     "metadata": {},
     "output_type": "execute_result"
    }
   ],
   "source": [
    "chat.use"
   ]
  },
  {
   "cell_type": "markdown",
   "id": "65b52012",
   "metadata": {},
   "source": [
    "## XML helpers"
   ]
  },
  {
   "cell_type": "markdown",
   "id": "aa15af54",
   "metadata": {},
   "source": [
    "(*Most people can probably ignore this section -- if you find yourself using XML a lot and you want a smoother experience, then read on...)\n",
    "\n",
    "Claude works well with XML inputs, but XML can be a bit clunky to work with manually. Therefore, Claudette includes a couple of more streamlined approaches for XML generation. You don't need to use these if you don't find them useful -- you can always just use plain strings for XML directly.\n",
    "\n",
    "An XML node contains a tag, optional children, and optional attributes. `xt` creates a tuple of these three things, which we will use to general XML shortly. Attributes are passed as kwargs; since these might conflict with reserved words in Python, you can optionally add a `_` prefix and it'll be stripped off."
   ]
  },
  {
   "cell_type": "code",
   "execution_count": null,
   "id": "180f1934",
   "metadata": {},
   "outputs": [
    {
     "data": {
      "text/plain": [
       "('x-custom', ['hi'], {'class': 'bar'})"
      ]
     },
     "execution_count": null,
     "metadata": {},
     "output_type": "execute_result"
    }
   ],
   "source": [
    "xt('x-custom', ['hi'], _class='bar')"
   ]
  },
  {
   "cell_type": "markdown",
   "id": "9a503937",
   "metadata": {},
   "source": [
    "Claudette has functions defined for some common HTML elements to create `xt` tuples more easily, including these:"
   ]
  },
  {
   "cell_type": "code",
   "execution_count": null,
   "id": "39ec111e",
   "metadata": {},
   "outputs": [],
   "source": [
    "from claudette.core import div,img,h1,h2,p,hr,html"
   ]
  },
  {
   "cell_type": "code",
   "execution_count": null,
   "id": "4e6625cf",
   "metadata": {},
   "outputs": [
    {
     "data": {
      "text/plain": [
       "('html',\n",
       " [('p', 'This is a paragraph', {}),\n",
       "  ('hr', None, {}),\n",
       "  ('img', None, {'src': 'http://example.prg'}),\n",
       "  ('div',\n",
       "   [('h1', 'This is a header', {}),\n",
       "    ('h2', 'This is a sub-header', {'style': 'k:v'})],\n",
       "   {'class': 'foo'})],\n",
       " {})"
      ]
     },
     "execution_count": null,
     "metadata": {},
     "output_type": "execute_result"
    }
   ],
   "source": [
    "a = html([\n",
    "    p('This is a paragraph'),\n",
    "    hr(),\n",
    "    img(src='http://example.prg'),\n",
    "    div([\n",
    "        h1('This is a header'),\n",
    "        h2('This is a sub-header', style='k:v'),\n",
    "    ], _class='foo')\n",
    "])\n",
    "a"
   ]
  },
  {
   "cell_type": "markdown",
   "id": "7a7fe4c6",
   "metadata": {},
   "source": [
    "To convert a tuple data structure created with `xt` and friends into XML, use `to_xml`, adding the `hl` parameter to optionally add syntax highlighting:"
   ]
  },
  {
   "cell_type": "code",
   "execution_count": null,
   "id": "80a0cde7",
   "metadata": {},
   "outputs": [
    {
     "data": {
      "text/markdown": [
       "```xml\n",
       "<html>\n",
       "  <p>This is a paragraph</p>\n",
       "  <hr />\n",
       "  <img src=\"http://example.prg\" />\n",
       "  <div class=\"foo\">\n",
       "    <h1>This is a header</h1>\n",
       "    <h2 style=\"k:v\">This is a sub-header</h2>\n",
       "  </div>\n",
       "</html>\n",
       "```"
      ],
      "text/plain": [
       "<IPython.core.display.Markdown object>"
      ]
     },
     "execution_count": null,
     "metadata": {},
     "output_type": "execute_result"
    }
   ],
   "source": [
    "to_xml(a, hl=True)"
   ]
  },
  {
   "cell_type": "markdown",
   "id": "be326830",
   "metadata": {},
   "source": [
    "JSON doesn't map as nicely to XML as the `xt` data structure, but for simple XML trees it can be convenient. The `json_to_xml` function handles that conversion:"
   ]
  },
  {
   "cell_type": "code",
   "execution_count": null,
   "id": "9bcb985e",
   "metadata": {},
   "outputs": [
    {
     "name": "stdout",
     "output_type": "stream",
     "text": [
      "<person>\n",
      "  <surname>Howard</surname>\n",
      "  <firstnames>\n",
      "    <item>Jeremy</item>\n",
      "    <item>Peter</item>\n",
      "  </firstnames>\n",
      "  <address>\n",
      "    <state>Queensland</state>\n",
      "    <country>Australia</country>\n",
      "  </address>\n",
      "</person>\n"
     ]
    }
   ],
   "source": [
    "a = dict(surname='Howard', firstnames=['Jeremy','Peter'],\n",
    "         address=dict(state='Queensland',country='Australia'))\n",
    "print(json_to_xml(a, 'person'))"
   ]
  }
 ],
 "metadata": {
  "kernelspec": {
   "display_name": "Python 3 (ipykernel)",
   "language": "python",
   "name": "python3"
  }
 },
 "nbformat": 4,
 "nbformat_minor": 5
}
