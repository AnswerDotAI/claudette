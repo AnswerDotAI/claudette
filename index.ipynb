{
 "cells": [
  {
   "cell_type": "markdown",
   "id": "60650229",
   "metadata": {},
   "source": [
    "# claudette\n",
    "\n",
    "> Claudette is Claude's friend"
   ]
  },
  {
   "cell_type": "code",
   "execution_count": null,
   "id": "c148b709",
   "metadata": {},
   "outputs": [],
   "source": [
    "#| hide\n",
    "\n",
    "from nbdev import show_doc\n",
    "from fastcore.utils import *\n",
    "from IPython import display"
   ]
  },
  {
   "cell_type": "markdown",
   "id": "576899c4",
   "metadata": {},
   "source": [
    "> **NB**: If you are reading this in GitHub's readme, we recommend you instead read the much more nicely formatted [documentation format](https://claudette.answer.ai/) of this tutorial.\n",
    "\n",
    "*Claudette* is a wrapper for Anthropic's [Python SDK](https://github.com/anthropics/anthropic-sdk-python).\n",
    "\n",
    "The SDK works well, but it is quite low level -- it leaves the developer to do a lot of stuff manually. That's a lot of extra work and boilerplate! Claudette automates pretty much everything that can be automated, whilst providing full control. Amongst the features provided:\n",
    "\n",
    "- A `Chat` class that creates stateful dialogs\n",
    "- Support for *prefill*, which tells Claude what to use as the first few words of its response\n",
    "- Convenient image support\n",
    "- Simple and convenient support for Claude's new Tool Use API.\n",
    "\n",
    "You'll need to set the `ANTHROPIC_API_KEY` environment variable to the key provided to you by Anthropic in order to use this library.\n",
    "\n",
    "Note that this library is the first ever \"literate nbdev\" project. That means that the actual source code for the library is a rendered Jupyter Notebook which includes callout notes and tips, HTML tables and images, detailed explanations, and teaches *how* and *why* the code is written the way it is. Even if you've never used the Anthropic Python SDK or Claude API before, you should be able to read the source code. Click [Claudette's Source](https://claudette.answer.ai/core.html) to read it, or clone the git repo and execute the notebook yourself to see every step of the creation process in action. The tutorial below includes links to API details which will take you to relevant parts of the source. The reason this project is a new kind of literal program is because we take seriously Knuth's call to action, that we have a \"*moral commitment*\" to never write an \"*illiterate program*\" -- and so we have a commitment to making literate programming and easy and pleasant experience. (For more on this, see [this talk](https://www.youtube.com/watch?v=rX1yGxJijsI) from Hamel Husain.)\n",
    "\n",
    "> \"*Let us change our traditional attitude to the construction of programs: Instead of imagining that our main task is to instruct a **computer** what to do, let us concentrate rather on explaining to **human beings** what we want a computer to do.*\" Donald E. Knuth, [Literate Programming](https://www.cs.tufts.edu/~nr/cs257/archive/literate-programming/01-knuth-lp.pdf) (1984)"
   ]
  },
  {
   "cell_type": "markdown",
   "id": "b5117a7f",
   "metadata": {},
   "source": [
    "## Install"
   ]
  },
  {
   "cell_type": "markdown",
   "id": "03ad7175",
   "metadata": {},
   "source": [
    "```sh\n",
    "pip install claudette\n",
    "```"
   ]
  },
  {
   "cell_type": "markdown",
   "id": "05db4443",
   "metadata": {},
   "source": [
    "## Getting started"
   ]
  },
  {
   "cell_type": "markdown",
   "id": "9d45538a",
   "metadata": {},
   "source": [
    "Anthropic's Python SDK will automatically be installed with Claudette, if you don't already have it."
   ]
  },
  {
   "cell_type": "code",
   "execution_count": null,
   "id": "6647ace5",
   "metadata": {},
   "outputs": [],
   "source": [
    "import os\n",
    "# os.environ['ANTHROPIC_LOG'] = 'debug'"
   ]
  },
  {
   "cell_type": "markdown",
   "id": "0a0336e0",
   "metadata": {},
   "source": [
    "To print every HTTP request and response in full, uncomment the above line."
   ]
  },
  {
   "cell_type": "code",
   "execution_count": null,
   "id": "4c049838",
   "metadata": {},
   "outputs": [],
   "source": [
    "from claudette import *"
   ]
  },
  {
   "cell_type": "markdown",
   "id": "9cef8451",
   "metadata": {},
   "source": [
    "Claudette only exports the symbols that are needed to use the library, so you can use `import *` to import them. Alternatively, just use:\n",
    "\n",
    "```python\n",
    "import claudette\n",
    "```\n",
    "\n",
    "...and then add the prefix `claudette.` to any usages of the module.\n",
    "\n",
    "Claudette provides `models`, which is a list of models currently available from the SDK."
   ]
  },
  {
   "cell_type": "code",
   "execution_count": null,
   "id": "cfd8f432",
   "metadata": {},
   "outputs": [
    {
     "data": {
      "text/plain": [
       "('claude-3-opus-20240229',\n",
       " 'claude-3-5-sonnet-20240620',\n",
       " 'claude-3-haiku-20240307')"
      ]
     },
     "execution_count": null,
     "metadata": {},
     "output_type": "execute_result"
    }
   ],
   "source": [
    "models"
   ]
  },
  {
   "cell_type": "markdown",
   "id": "8e98439f",
   "metadata": {},
   "source": [
    "For these examples, we'll use Sonnet 3.5, since it's awesome!"
   ]
  },
  {
   "cell_type": "code",
   "execution_count": null,
   "id": "8dde0ab6",
   "metadata": {},
   "outputs": [],
   "source": [
    "model = models[1]"
   ]
  },
  {
   "cell_type": "markdown",
   "id": "ff6f6471-8061-4fdd-85a1-25fdc27c5cf3",
   "metadata": {},
   "source": [
    "## Chat"
   ]
  },
  {
   "cell_type": "markdown",
   "id": "a124328f",
   "metadata": {},
   "source": [
    "The main interface to Claudette is the `Chat` class, which provides a stateful interface to Claude:"
   ]
  },
  {
   "cell_type": "code",
   "execution_count": null,
   "id": "d92fe1f9",
   "metadata": {},
   "outputs": [
    {
     "data": {
      "text/markdown": [
       "Hello Jeremy, it's nice to meet you. How can I assist you today?\n",
       "\n",
       "<details>\n",
       "\n",
       "- id: `msg_01WUaYx8YVsxPX5YtjYkyEF7`\n",
       "- content: `[{'text': \"Hello Jeremy, it's nice to meet you. How can I assist you today?\", 'type': 'text'}]`\n",
       "- model: `claude-3-5-sonnet-20240620`\n",
       "- role: `assistant`\n",
       "- stop_reason: `end_turn`\n",
       "- stop_sequence: `None`\n",
       "- type: `message`\n",
       "- usage: `{'input_tokens': 19, 'output_tokens': 20, 'cache_creation_input_tokens': 0, 'cache_read_input_tokens': 0}`\n",
       "\n",
       "</details>"
      ],
      "text/plain": [
       "Message(id='msg_01WUaYx8YVsxPX5YtjYkyEF7', content=[TextBlock(text=\"Hello Jeremy, it's nice to meet you. How can I assist you today?\", type='text')], model='claude-3-5-sonnet-20240620', role='assistant', stop_reason='end_turn', stop_sequence=None, type='message', usage=In: 19; Out: 20; Total: 39)"
      ]
     },
     "execution_count": null,
     "metadata": {},
     "output_type": "execute_result"
    }
   ],
   "source": [
    "chat = Chat(model, sp=\"\"\"You are a helpful and concise assistant.\"\"\")\n",
    "chat(\"I'm Jeremy\")"
   ]
  },
  {
   "cell_type": "code",
   "execution_count": null,
   "id": "44200c5e",
   "metadata": {},
   "outputs": [
    {
     "data": {
      "text/markdown": [
       "Your name is Jeremy, as you just told me.\n",
       "\n",
       "<details>\n",
       "\n",
       "- id: `msg_01TBJC55GiRs5fq1mKRhyhxZ`\n",
       "- content: `[{'text': 'Your name is Jeremy, as you just told me.', 'type': 'text'}]`\n",
       "- model: `claude-3-5-sonnet-20240620`\n",
       "- role: `assistant`\n",
       "- stop_reason: `end_turn`\n",
       "- stop_sequence: `None`\n",
       "- type: `message`\n",
       "- usage: `{'input_tokens': 47, 'output_tokens': 14, 'cache_creation_input_tokens': 0, 'cache_read_input_tokens': 0}`\n",
       "\n",
       "</details>"
      ],
      "text/plain": [
       "Message(id='msg_01TBJC55GiRs5fq1mKRhyhxZ', content=[TextBlock(text='Your name is Jeremy, as you just told me.', type='text')], model='claude-3-5-sonnet-20240620', role='assistant', stop_reason='end_turn', stop_sequence=None, type='message', usage=In: 47; Out: 14; Total: 61)"
      ]
     },
     "execution_count": null,
     "metadata": {},
     "output_type": "execute_result"
    }
   ],
   "source": [
    "r = chat(\"What's my name?\")\n",
    "r"
   ]
  },
  {
   "cell_type": "markdown",
   "id": "4f6f0e71",
   "metadata": {},
   "source": [
    "As you see above, displaying the results of a call in a notebook shows just the message contents, with the other details hidden behind a collapsible section. Alternatively you can `print` the details:"
   ]
  },
  {
   "cell_type": "code",
   "execution_count": null,
   "id": "50881e3f",
   "metadata": {},
   "outputs": [
    {
     "name": "stdout",
     "output_type": "stream",
     "text": [
      "Message(id='msg_01TBJC55GiRs5fq1mKRhyhxZ', content=[TextBlock(text='Your name is Jeremy, as you just told me.', type='text')], model='claude-3-5-sonnet-20240620', role='assistant', stop_reason='end_turn', stop_sequence=None, type='message', usage=In: 47; Out: 14; Total: 61)\n"
     ]
    }
   ],
   "source": [
    "print(r)"
   ]
  },
  {
   "cell_type": "markdown",
   "id": "967f0f8c",
   "metadata": {},
   "source": [
    "Claude supports adding an extra `assistant` message at the end, which contains the *prefill* -- i.e. the text we want Claude to assume the response starts with. Let's try it out:"
   ]
  },
  {
   "cell_type": "code",
   "execution_count": null,
   "id": "830a6bf8",
   "metadata": {},
   "outputs": [
    {
     "data": {
      "text/markdown": [
       "According to Douglas Adams,  \"42.\" More seriously, it's often considered to be finding personal fulfillment, happiness, and purpose.\n",
       "\n",
       "<details>\n",
       "\n",
       "- id: `msg_01QbBGFJcX4NzUqS4cGPnXbu`\n",
       "- content: `[{'text': 'According to Douglas Adams,  \"42.\" More seriously, it\\'s often considered to be finding personal fulfillment, happiness, and purpose.', 'type': 'text'}]`\n",
       "- model: `claude-3-5-sonnet-20240620`\n",
       "- role: `assistant`\n",
       "- stop_reason: `end_turn`\n",
       "- stop_sequence: `None`\n",
       "- type: `message`\n",
       "- usage: `{'input_tokens': 81, 'output_tokens': 27, 'cache_creation_input_tokens': 0, 'cache_read_input_tokens': 0}`\n",
       "\n",
       "</details>"
      ],
      "text/plain": [
       "Message(id='msg_01QbBGFJcX4NzUqS4cGPnXbu', content=[TextBlock(text='According to Douglas Adams,  \"42.\" More seriously, it\\'s often considered to be finding personal fulfillment, happiness, and purpose.', type='text')], model='claude-3-5-sonnet-20240620', role='assistant', stop_reason='end_turn', stop_sequence=None, type='message', usage=In: 81; Out: 27; Total: 108)"
      ]
     },
     "execution_count": null,
     "metadata": {},
     "output_type": "execute_result"
    }
   ],
   "source": [
    "chat(\"Concisely, what is the meaning of life?\",\n",
    "     prefill='According to Douglas Adams,')"
   ]
  },
  {
   "cell_type": "markdown",
   "id": "4972b119",
   "metadata": {},
   "source": [
    "You can add `stream=True` to stream the results as soon as they arrive (although you will only see the gradual generation if you execute the notebook yourself, of course!)"
   ]
  },
  {
   "cell_type": "code",
   "execution_count": null,
   "id": "8949a074",
   "metadata": {},
   "outputs": [
    {
     "name": "stdout",
     "output_type": "stream",
     "text": [
      "It was in \"The Hitchhiker's Guide to the Galaxy\" by Douglas Adams."
     ]
    }
   ],
   "source": [
    "for o in chat(\"Concisely, what book was that in?\", prefill='It was in', stream=True):\n",
    "    print(o, end='')"
   ]
  },
  {
   "cell_type": "markdown",
   "id": "a7d95d02",
   "metadata": {},
   "source": [
    "### Async"
   ]
  },
  {
   "cell_type": "markdown",
   "id": "a035c855",
   "metadata": {},
   "source": [
    "Alternatively, you can use `AsyncChat` (or `AsyncClient`) for the async versions, e.g:"
   ]
  },
  {
   "cell_type": "code",
   "execution_count": null,
   "id": "6a927d3d",
   "metadata": {},
   "outputs": [
    {
     "data": {
      "text/markdown": [
       "Hello Jeremy! It's nice to meet you. How can I assist you today? Is there anything specific you'd like to talk about or any questions you have?\n",
       "\n",
       "<details>\n",
       "\n",
       "- id: `msg_015H4DsD8q4hhts7bs7LxaCQ`\n",
       "- content: `[{'text': \"Hello Jeremy! It's nice to meet you. How can I assist you today? Is there anything specific you'd like to talk about or any questions you have?\", 'type': 'text'}]`\n",
       "- model: `claude-3-5-sonnet-20240620`\n",
       "- role: `assistant`\n",
       "- stop_reason: `end_turn`\n",
       "- stop_sequence: `None`\n",
       "- type: `message`\n",
       "- usage: `{'input_tokens': 10, 'output_tokens': 36, 'cache_creation_input_tokens': 0, 'cache_read_input_tokens': 0}`\n",
       "\n",
       "</details>"
      ],
      "text/plain": [
       "Message(id='msg_015H4DsD8q4hhts7bs7LxaCQ', content=[TextBlock(text=\"Hello Jeremy! It's nice to meet you. How can I assist you today? Is there anything specific you'd like to talk about or any questions you have?\", type='text')], model='claude-3-5-sonnet-20240620', role='assistant', stop_reason='end_turn', stop_sequence=None, type='message', usage=In: 10; Out: 36; Total: 46)"
      ]
     },
     "execution_count": null,
     "metadata": {},
     "output_type": "execute_result"
    }
   ],
   "source": [
    "chat = AsyncChat(model)\n",
    "await chat(\"I'm Jeremy\")"
   ]
  },
  {
   "cell_type": "markdown",
   "id": "462279ca",
   "metadata": {},
   "source": [
    "Remember to use `async for` when streaming in this case:"
   ]
  },
  {
   "cell_type": "code",
   "execution_count": null,
   "id": "82019712",
   "metadata": {},
   "outputs": [
    {
     "name": "stdout",
     "output_type": "stream",
     "text": [
      "According to Douglas Adams,  the meaning of life is 42. More seriously, there's no universally agreed upon answer. Common perspectives include:\n",
      "\n",
      "1. Finding personal happiness and fulfillment\n",
      "2. Serving others or a higher purpose\n",
      "3. Creating meaning through our choices and actions\n",
      "4. Experiencing and appreciating existence\n",
      "5. Evolving and growing as individuals and as a species\n",
      "\n",
      "Ultimately, many believe each person must define their own meaning of life."
     ]
    }
   ],
   "source": [
    "async for o in await chat(\"Concisely, what is the meaning of life?\",\n",
    "                          prefill='According to Douglas Adams,', stream=True):\n",
    "    print(o, end='')"
   ]
  },
  {
   "cell_type": "markdown",
   "id": "d96a471c",
   "metadata": {},
   "source": [
    "## Prompt caching"
   ]
  },
  {
   "cell_type": "markdown",
   "id": "ff820784",
   "metadata": {},
   "source": [
    "If you use `mk_msg(msg, cache=True)`, then the message is cached using Claude's [prompt caching](https://docs.anthropic.com/en/docs/build-with-claude/prompt-caching) feature. For instance, here we use caching when asking about Claudette's readme file:"
   ]
  },
  {
   "cell_type": "code",
   "execution_count": null,
   "id": "08032142",
   "metadata": {},
   "outputs": [],
   "source": [
    "chat = Chat(model, sp=\"\"\"You are a helpful and concise assistant.\"\"\")"
   ]
  },
  {
   "cell_type": "code",
   "execution_count": null,
   "id": "6195a0f5",
   "metadata": {},
   "outputs": [
    {
     "data": {
      "text/markdown": [
       "Based on the readme, the main purpose of the Claudette project is to provide a high-level wrapper around Anthropic's Python SDK for interacting with Claude AI models. Key features and goals include:\n",
       "\n",
       "1. Automating and simplifying interactions with Claude, reducing boilerplate code.\n",
       "\n",
       "2. Providing a stateful dialog interface through the `Chat` class.\n",
       "\n",
       "3. Supporting features like prefill (specifying the start of Claude's response) and image handling.\n",
       "\n",
       "4. Offering convenient support for Claude's Tool Use API.\n",
       "\n",
       "5. Serving as an example of \"literate programming\", with the source code designed to be readable and educational, including explanations of how and why the code is written.\n",
       "\n",
       "6. Supporting multiple model providers, including direct Anthropic API access as well as Claude models available through Amazon Bedrock and Google Vertex AI.\n",
       "\n",
       "The project aims to make working with Claude models more convenient and accessible for developers while also serving as an educational resource on how to effectively use and interact with these AI models.\n",
       "\n",
       "<details>\n",
       "\n",
       "- id: `msg_01HkjoKjfY5zrmBrkjHvtDpG`\n",
       "- content: `[{'text': 'Based on the readme, the main purpose of the Claudette project is to provide a high-level wrapper around Anthropic\\'s Python SDK for interacting with Claude AI models. Key features and goals include:\\n\\n1. Automating and simplifying interactions with Claude, reducing boilerplate code.\\n\\n2. Providing a stateful dialog interface through the `Chat` class.\\n\\n3. Supporting features like prefill (specifying the start of Claude\\'s response) and image handling.\\n\\n4. Offering convenient support for Claude\\'s Tool Use API.\\n\\n5. Serving as an example of \"literate programming\", with the source code designed to be readable and educational, including explanations of how and why the code is written.\\n\\n6. Supporting multiple model providers, including direct Anthropic API access as well as Claude models available through Amazon Bedrock and Google Vertex AI.\\n\\nThe project aims to make working with Claude models more convenient and accessible for developers while also serving as an educational resource on how to effectively use and interact with these AI models.', 'type': 'text'}]`\n",
       "- model: `claude-3-5-sonnet-20240620`\n",
       "- role: `assistant`\n",
       "- stop_reason: `end_turn`\n",
       "- stop_sequence: `None`\n",
       "- type: `message`\n",
       "- usage: `{'input_tokens': 4, 'output_tokens': 220, 'cache_creation_input_tokens': 7171, 'cache_read_input_tokens': 0}`\n",
       "\n",
       "</details>"
      ],
      "text/plain": [
       "Message(id='msg_01HkjoKjfY5zrmBrkjHvtDpG', content=[TextBlock(text='Based on the readme, the main purpose of the Claudette project is to provide a high-level wrapper around Anthropic\\'s Python SDK for interacting with Claude AI models. Key features and goals include:\\n\\n1. Automating and simplifying interactions with Claude, reducing boilerplate code.\\n\\n2. Providing a stateful dialog interface through the `Chat` class.\\n\\n3. Supporting features like prefill (specifying the start of Claude\\'s response) and image handling.\\n\\n4. Offering convenient support for Claude\\'s Tool Use API.\\n\\n5. Serving as an example of \"literate programming\", with the source code designed to be readable and educational, including explanations of how and why the code is written.\\n\\n6. Supporting multiple model providers, including direct Anthropic API access as well as Claude models available through Amazon Bedrock and Google Vertex AI.\\n\\nThe project aims to make working with Claude models more convenient and accessible for developers while also serving as an educational resource on how to effectively use and interact with these AI models.', type='text')], model='claude-3-5-sonnet-20240620', role='assistant', stop_reason='end_turn', stop_sequence=None, type='message', usage=In: 4; Out: 220; Total: 224)"
      ]
     },
     "execution_count": null,
     "metadata": {},
     "output_type": "execute_result"
    }
   ],
   "source": [
    "nbtxt = Path('README.txt').read_text()\n",
    "msg = f'''<README>\n",
    "{nbtxt}\n",
    "</README>\n",
    "In brief, what is the purpose of this project based on the readme?'''\n",
    "r = chat(mk_msg(msg, cache=True))\n",
    "r"
   ]
  },
  {
   "cell_type": "markdown",
   "id": "51777af5",
   "metadata": {},
   "source": [
    "The response records the a cache has been created using these input tokens:"
   ]
  },
  {
   "cell_type": "code",
   "execution_count": null,
   "id": "eeb6a6eb",
   "metadata": {},
   "outputs": [
    {
     "name": "stdout",
     "output_type": "stream",
     "text": [
      "Usage(input_tokens=4, output_tokens=220, cache_creation_input_tokens=7171, cache_read_input_tokens=0)\n"
     ]
    }
   ],
   "source": [
    "print(r.usage)"
   ]
  },
  {
   "cell_type": "markdown",
   "id": "e1ab1a62",
   "metadata": {},
   "source": [
    "We can now ask a followup question in this chat:"
   ]
  },
  {
   "cell_type": "code",
   "execution_count": null,
   "id": "15e74543",
   "metadata": {},
   "outputs": [
    {
     "data": {
      "text/markdown": [
       "Claudette makes tool use more ergonomic in several ways:\n",
       "\n",
       "1. Simplified function definition: It uses docments to make defining Python functions for tools as simple as possible. Each parameter and the return value should have a type and a description.\n",
       "\n",
       "2. Automatic handling: The `Chat` class can be initialized with a list of tools, and Claudette handles the back-and-forth between Claude and the tools automatically.\n",
       "\n",
       "3. Single-step execution: The `Chat.toolloop` method allows for executing a series of tool calls in a single step, even if multiple tools are needed to solve a problem.\n",
       "\n",
       "4. Forced tool use: You can set `tool_choice` to force Claude to always answer using a specific tool.\n",
       "\n",
       "5. Tracing: The `toolloop` method supports a `trace_func` parameter, allowing you to see each response from Claude during the process.\n",
       "\n",
       "6. Automatic parameter passing: When Claude decides to use a tool, Claudette automatically calls the tool with the provided parameters.\n",
       "\n",
       "7. System prompt integration: It allows setting a system prompt to guide Claude's behavior when using tools, such as instructing it not to mention the tools it's using.\n",
       "\n",
       "These features significantly reduce the amount of code and manual handling required to use Claude's tool use capabilities, making the process more streamlined and developer-friendly.\n",
       "\n",
       "<details>\n",
       "\n",
       "- id: `msg_01EfFbEBeYETAvfjGncn8Vcb`\n",
       "- content: `[{'text': \"Claudette makes tool use more ergonomic in several ways:\\n\\n1. Simplified function definition: It uses docments to make defining Python functions for tools as simple as possible. Each parameter and the return value should have a type and a description.\\n\\n2. Automatic handling: The `Chat` class can be initialized with a list of tools, and Claudette handles the back-and-forth between Claude and the tools automatically.\\n\\n3. Single-step execution: The `Chat.toolloop` method allows for executing a series of tool calls in a single step, even if multiple tools are needed to solve a problem.\\n\\n4. Forced tool use: You can set `tool_choice` to force Claude to always answer using a specific tool.\\n\\n5. Tracing: The `toolloop` method supports a `trace_func` parameter, allowing you to see each response from Claude during the process.\\n\\n6. Automatic parameter passing: When Claude decides to use a tool, Claudette automatically calls the tool with the provided parameters.\\n\\n7. System prompt integration: It allows setting a system prompt to guide Claude's behavior when using tools, such as instructing it not to mention the tools it's using.\\n\\nThese features significantly reduce the amount of code and manual handling required to use Claude's tool use capabilities, making the process more streamlined and developer-friendly.\", 'type': 'text'}]`\n",
       "- model: `claude-3-5-sonnet-20240620`\n",
       "- role: `assistant`\n",
       "- stop_reason: `end_turn`\n",
       "- stop_sequence: `None`\n",
       "- type: `message`\n",
       "- usage: `{'input_tokens': 240, 'output_tokens': 289, 'cache_creation_input_tokens': 0, 'cache_read_input_tokens': 7171}`\n",
       "\n",
       "</details>"
      ],
      "text/plain": [
       "Message(id='msg_01EfFbEBeYETAvfjGncn8Vcb', content=[TextBlock(text=\"Claudette makes tool use more ergonomic in several ways:\\n\\n1. Simplified function definition: It uses docments to make defining Python functions for tools as simple as possible. Each parameter and the return value should have a type and a description.\\n\\n2. Automatic handling: The `Chat` class can be initialized with a list of tools, and Claudette handles the back-and-forth between Claude and the tools automatically.\\n\\n3. Single-step execution: The `Chat.toolloop` method allows for executing a series of tool calls in a single step, even if multiple tools are needed to solve a problem.\\n\\n4. Forced tool use: You can set `tool_choice` to force Claude to always answer using a specific tool.\\n\\n5. Tracing: The `toolloop` method supports a `trace_func` parameter, allowing you to see each response from Claude during the process.\\n\\n6. Automatic parameter passing: When Claude decides to use a tool, Claudette automatically calls the tool with the provided parameters.\\n\\n7. System prompt integration: It allows setting a system prompt to guide Claude's behavior when using tools, such as instructing it not to mention the tools it's using.\\n\\nThese features significantly reduce the amount of code and manual handling required to use Claude's tool use capabilities, making the process more streamlined and developer-friendly.\", type='text')], model='claude-3-5-sonnet-20240620', role='assistant', stop_reason='end_turn', stop_sequence=None, type='message', usage=In: 240; Out: 289; Total: 529)"
      ]
     },
     "execution_count": null,
     "metadata": {},
     "output_type": "execute_result"
    }
   ],
   "source": [
    "r = chat('How does it make tool use more ergonomic?')\n",
    "r"
   ]
  },
  {
   "cell_type": "markdown",
   "id": "de2b8f66",
   "metadata": {},
   "source": [
    "We can see that this only used ~200 regular input tokens -- the 7000+ context tokens have been read from cache."
   ]
  },
  {
   "cell_type": "code",
   "execution_count": null,
   "id": "ec96adbd",
   "metadata": {},
   "outputs": [
    {
     "name": "stdout",
     "output_type": "stream",
     "text": [
      "Usage(input_tokens=240, output_tokens=289, cache_creation_input_tokens=0, cache_read_input_tokens=7171)\n"
     ]
    }
   ],
   "source": [
    "print(r.usage)"
   ]
  },
  {
   "cell_type": "markdown",
   "id": "8f7cfb55",
   "metadata": {},
   "source": [
    "## Tool use"
   ]
  },
  {
   "cell_type": "markdown",
   "id": "b24744d5",
   "metadata": {},
   "source": [
    "[Tool use](https://docs.anthropic.com/claude/docs/tool-use) lets Claude use external tools.\n",
    "\n",
    "We use [docments](https://fastcore.fast.ai/docments.html) to make defining Python functions as ergonomic as possible. Each parameter (and the return value) should have a type, and a docments comment with the description of what it is. As an example we'll write a simple function that adds numbers together, and will tell us when it's being called:"
   ]
  },
  {
   "cell_type": "code",
   "execution_count": null,
   "id": "b9fbfc57",
   "metadata": {},
   "outputs": [],
   "source": [
    "def sums(\n",
    "    a:int,  # First thing to sum\n",
    "    b:int=1 # Second thing to sum\n",
    ") -> int: # The sum of the inputs\n",
    "    \"Adds a + b.\"\n",
    "    print(f\"Finding the sum of {a} and {b}\")\n",
    "    return a + b"
   ]
  },
  {
   "cell_type": "markdown",
   "id": "85442960",
   "metadata": {},
   "source": [
    "Sometimes Claude will say something like \"according to the `sums` tool the answer is\" -- generally we'd rather it just tells the user the answer, so we can use a system prompt to help with this:"
   ]
  },
  {
   "cell_type": "code",
   "execution_count": null,
   "id": "3549e7b4",
   "metadata": {},
   "outputs": [],
   "source": [
    "sp = \"Never mention what tools you use.\""
   ]
  },
  {
   "cell_type": "markdown",
   "id": "e3c16c8f",
   "metadata": {},
   "source": [
    "We'll get Claude to add up some long numbers:"
   ]
  },
  {
   "cell_type": "code",
   "execution_count": null,
   "id": "7a5bc98a",
   "metadata": {},
   "outputs": [
    {
     "data": {
      "text/plain": [
       "'What is 604542+6458932?'"
      ]
     },
     "execution_count": null,
     "metadata": {},
     "output_type": "execute_result"
    }
   ],
   "source": [
    "a,b = 604542,6458932\n",
    "pr = f\"What is {a}+{b}?\"\n",
    "pr"
   ]
  },
  {
   "cell_type": "markdown",
   "id": "a0a0b65e",
   "metadata": {},
   "source": [
    "To use tools, pass a list of them to `Chat`, and to force it to always answer using a tool, set `tool_choice` to that function name:"
   ]
  },
  {
   "cell_type": "code",
   "execution_count": null,
   "id": "84bf4c91",
   "metadata": {},
   "outputs": [],
   "source": [
    "chat = Chat(model, sp=sp, tools=[sums], tool_choice='sums')"
   ]
  },
  {
   "cell_type": "markdown",
   "id": "4a9d219f",
   "metadata": {},
   "source": [
    "Now when we call that with our prompt, Claude doesn't return the answer, but instead returns a `tool_use` message, which means we have to call the named tool with the provided parameters:"
   ]
  },
  {
   "cell_type": "code",
   "execution_count": null,
   "id": "7b1e3446",
   "metadata": {},
   "outputs": [
    {
     "name": "stdout",
     "output_type": "stream",
     "text": [
      "Finding the sum of 604542 and 6458932\n"
     ]
    },
    {
     "data": {
      "text/markdown": [
       "ToolUseBlock(id='toolu_01C6G2iuLtBBftESiujKzXfx', input={'a': 604542, 'b': 6458932}, name='sums', type='tool_use')\n",
       "\n",
       "<details>\n",
       "\n",
       "- id: `msg_01HPZwX3mQ7sMbjWUHEwgUsT`\n",
       "- content: `[{'id': 'toolu_01C6G2iuLtBBftESiujKzXfx', 'input': {'a': 604542, 'b': 6458932}, 'name': 'sums', 'type': 'tool_use'}]`\n",
       "- model: `claude-3-5-sonnet-20240620`\n",
       "- role: `assistant`\n",
       "- stop_reason: `tool_use`\n",
       "- stop_sequence: `None`\n",
       "- type: `message`\n",
       "- usage: `{'input_tokens': 414, 'output_tokens': 53, 'cache_creation_input_tokens': 0, 'cache_read_input_tokens': 0}`\n",
       "\n",
       "</details>"
      ],
      "text/plain": [
       "Message(id='msg_01HPZwX3mQ7sMbjWUHEwgUsT', content=[ToolUseBlock(id='toolu_01C6G2iuLtBBftESiujKzXfx', input={'a': 604542, 'b': 6458932}, name='sums', type='tool_use')], model='claude-3-5-sonnet-20240620', role='assistant', stop_reason='tool_use', stop_sequence=None, type='message', usage=In: 414; Out: 53; Total: 467)"
      ]
     },
     "execution_count": null,
     "metadata": {},
     "output_type": "execute_result"
    }
   ],
   "source": [
    "r = chat(pr)\n",
    "r"
   ]
  },
  {
   "cell_type": "markdown",
   "id": "d7c321d4",
   "metadata": {},
   "source": [
    "Claudette handles all that for us -- we just call it again, and it all happens automatically:"
   ]
  },
  {
   "cell_type": "code",
   "execution_count": null,
   "id": "2399deae",
   "metadata": {},
   "outputs": [
    {
     "data": {
      "text/markdown": [
       "The sum of 604542 and 6458932 is 7063474.\n",
       "\n",
       "<details>\n",
       "\n",
       "- id: `msg_01RNHxf1jXfS76h2UpF8RnZ2`\n",
       "- content: `[{'text': 'The sum of 604542 and 6458932 is 7063474.', 'type': 'text'}]`\n",
       "- model: `claude-3-5-sonnet-20240620`\n",
       "- role: `assistant`\n",
       "- stop_reason: `end_turn`\n",
       "- stop_sequence: `None`\n",
       "- type: `message`\n",
       "- usage: `{'input_tokens': 515, 'output_tokens': 23, 'cache_creation_input_tokens': 0, 'cache_read_input_tokens': 0}`\n",
       "\n",
       "</details>"
      ],
      "text/plain": [
       "Message(id='msg_01RNHxf1jXfS76h2UpF8RnZ2', content=[TextBlock(text='The sum of 604542 and 6458932 is 7063474.', type='text')], model='claude-3-5-sonnet-20240620', role='assistant', stop_reason='end_turn', stop_sequence=None, type='message', usage=In: 515; Out: 23; Total: 538)"
      ]
     },
     "execution_count": null,
     "metadata": {},
     "output_type": "execute_result"
    }
   ],
   "source": [
    "chat()"
   ]
  },
  {
   "cell_type": "markdown",
   "id": "782ddcce",
   "metadata": {},
   "source": [
    "You can see how many tokens have been used at any time by checking the `use` property. Note that (as of May 2024) tool use in Claude uses a *lot* of tokens, since it automatically adds a large system prompt."
   ]
  },
  {
   "cell_type": "code",
   "execution_count": null,
   "id": "c2dbea0c",
   "metadata": {},
   "outputs": [
    {
     "data": {
      "text/plain": [
       "In: 929; Out: 76; Total: 1005"
      ]
     },
     "execution_count": null,
     "metadata": {},
     "output_type": "execute_result"
    }
   ],
   "source": [
    "chat.use"
   ]
  },
  {
   "cell_type": "markdown",
   "id": "8daca34f",
   "metadata": {},
   "source": [
    "We can do everything needed to use tools in a single step, by using `Chat.toolloop`. This can even call multiple tools as needed solve a problem. For example, let's define a tool to handle multiplication:"
   ]
  },
  {
   "cell_type": "code",
   "execution_count": null,
   "id": "b3071fac",
   "metadata": {},
   "outputs": [],
   "source": [
    "def mults(\n",
    "    a:int,  # First thing to multiply\n",
    "    b:int=1 # Second thing to multiply\n",
    ") -> int: # The product of the inputs\n",
    "    \"Multiplies a * b.\"\n",
    "    print(f\"Finding the product of {a} and {b}\")\n",
    "    return a * b"
   ]
  },
  {
   "cell_type": "markdown",
   "id": "13cb7206",
   "metadata": {},
   "source": [
    "Now with a single call we can calculate `(a+b)*2` -- by passing `show_trace` we can see each response from Claude in the process:"
   ]
  },
  {
   "cell_type": "code",
   "execution_count": null,
   "id": "32c582a9",
   "metadata": {},
   "outputs": [
    {
     "data": {
      "text/plain": [
       "'Calculate (604542+6458932)*2'"
      ]
     },
     "execution_count": null,
     "metadata": {},
     "output_type": "execute_result"
    }
   ],
   "source": [
    "chat = Chat(model, sp=sp, tools=[sums,mults])\n",
    "pr = f'Calculate ({a}+{b})*2'\n",
    "pr"
   ]
  },
  {
   "cell_type": "code",
   "execution_count": null,
   "id": "1db03730",
   "metadata": {},
   "outputs": [
    {
     "name": "stdout",
     "output_type": "stream",
     "text": [
      "Finding the sum of 604542 and 6458932\n",
      "Message(id='msg_01DgZ9Fcs6h8HB7qEaFkg3Ah', content=[TextBlock(text='Certainly! To calculate (604542+6458932)*2, we\\'ll need to use the available tools to perform the addition and multiplication operations. Let\\'s break it down step by step:\\n\\n1. First, we\\'ll add 604542 and 6458932 using the \"sums\" function.\\n2. Then, we\\'ll multiply the result by 2 using the \"mults\" function.\\n\\nLet\\'s start with the addition:', type='text'), ToolUseBlock(id='toolu_01XTMLyKo9Q6TX4SpCVmmUsP', input={'a': 604542, 'b': 6458932}, name='sums', type='tool_use')], model='claude-3-5-sonnet-20240620', role='assistant', stop_reason='tool_use', stop_sequence=None, type='message', usage=In: 538; Out: 168; Total: 706)\n",
      "Finding the product of 7063474 and 2\n",
      "Message(id='msg_011P8jdxwLoKNf8nTDua7VM8', content=[TextBlock(text=\"Great! The sum of 604542 and 6458932 is 7063474.\\n\\nNow, let's multiply this result by 2:\", type='text'), ToolUseBlock(id='toolu_01FETWkj4a9HyX25c8ETULYh', input={'a': 7063474, 'b': 2}, name='mults', type='tool_use')], model='claude-3-5-sonnet-20240620', role='assistant', stop_reason='tool_use', stop_sequence=None, type='message', usage=In: 721; Out: 106; Total: 827)\n",
      "Message(id='msg_01UXwy69vUWSy9bK24skQ3yE', content=[TextBlock(text='Now we have our final result. \\n\\nThe calculation (604542+6458932)*2 equals 14126948.\\n\\nTo break it down:\\n1. 604542 + 6458932 = 7063474\\n2. 7063474 * 2 = 14126948\\n\\nSo, the final answer to (604542+6458932)*2 is 14126948.', type='text')], model='claude-3-5-sonnet-20240620', role='assistant', stop_reason='end_turn', stop_sequence=None, type='message', usage=In: 841; Out: 95; Total: 936)\n"
     ]
    },
    {
     "data": {
      "text/markdown": [
       "Now we have our final result. \n",
       "\n",
       "The calculation (604542+6458932)*2 equals 14126948.\n",
       "\n",
       "To break it down:\n",
       "1. 604542 + 6458932 = 7063474\n",
       "2. 7063474 * 2 = 14126948\n",
       "\n",
       "So, the final answer to (604542+6458932)*2 is 14126948.\n",
       "\n",
       "<details>\n",
       "\n",
       "- id: `msg_01UXwy69vUWSy9bK24skQ3yE`\n",
       "- content: `[{'text': 'Now we have our final result. \\n\\nThe calculation (604542+6458932)*2 equals 14126948.\\n\\nTo break it down:\\n1. 604542 + 6458932 = 7063474\\n2. 7063474 * 2 = 14126948\\n\\nSo, the final answer to (604542+6458932)*2 is 14126948.', 'type': 'text'}]`\n",
       "- model: `claude-3-5-sonnet-20240620`\n",
       "- role: `assistant`\n",
       "- stop_reason: `end_turn`\n",
       "- stop_sequence: `None`\n",
       "- type: `message`\n",
       "- usage: `{'input_tokens': 841, 'output_tokens': 95, 'cache_creation_input_tokens': 0, 'cache_read_input_tokens': 0}`\n",
       "\n",
       "</details>"
      ],
      "text/plain": [
       "Message(id='msg_01UXwy69vUWSy9bK24skQ3yE', content=[TextBlock(text='Now we have our final result. \\n\\nThe calculation (604542+6458932)*2 equals 14126948.\\n\\nTo break it down:\\n1. 604542 + 6458932 = 7063474\\n2. 7063474 * 2 = 14126948\\n\\nSo, the final answer to (604542+6458932)*2 is 14126948.', type='text')], model='claude-3-5-sonnet-20240620', role='assistant', stop_reason='end_turn', stop_sequence=None, type='message', usage=In: 841; Out: 95; Total: 936)"
      ]
     },
     "execution_count": null,
     "metadata": {},
     "output_type": "execute_result"
    }
   ],
   "source": [
    "chat.toolloop(pr, trace_func=print)"
   ]
  },
  {
   "cell_type": "markdown",
   "id": "a99c5b50",
   "metadata": {},
   "source": [
    "## Images"
   ]
  },
  {
   "cell_type": "markdown",
   "id": "c0f5297d",
   "metadata": {},
   "source": [
    "Claude can handle image data as well. As everyone knows, when testing image APIs you have to use a cute puppy."
   ]
  },
  {
   "cell_type": "code",
   "execution_count": null,
   "id": "517fd00e",
   "metadata": {},
   "outputs": [
    {
     "data": {
      "image/jpeg": "[encoded data removed]",
      "text/plain": [
       "<IPython.core.display.Image object>"
      ]
     },
     "execution_count": null,
     "metadata": {
      "image/jpeg": {
       "width": 200
      }
     },
     "output_type": "execute_result"
    }
   ],
   "source": [
    "fn = Path('samples/puppy.jpg')\n",
    "display.Image(filename=fn, width=200)"
   ]
  },
  {
   "cell_type": "markdown",
   "id": "0bf7fee4",
   "metadata": {},
   "source": [
    "We create a `Chat` object as before:"
   ]
  },
  {
   "cell_type": "code",
   "execution_count": null,
   "id": "61690121",
   "metadata": {},
   "outputs": [],
   "source": [
    "chat = Chat(model)"
   ]
  },
  {
   "cell_type": "markdown",
   "id": "12899e6d",
   "metadata": {},
   "source": [
    "Claudette expects images as a list of bytes, so we read in the file:"
   ]
  },
  {
   "cell_type": "code",
   "execution_count": null,
   "id": "0e8edb1f",
   "metadata": {},
   "outputs": [],
   "source": [
    "img = fn.read_bytes()"
   ]
  },
  {
   "cell_type": "markdown",
   "id": "50c32f2a",
   "metadata": {},
   "source": [
    "Prompts to Claudette can be lists, containing text, images, or both, eg:"
   ]
  },
  {
   "cell_type": "code",
   "execution_count": null,
   "id": "c2f9fd7a",
   "metadata": {},
   "outputs": [
    {
     "data": {
      "text/markdown": [
       "The flowers in this image are purple. They appear to be small, daisy-like flowers, possibly asters or some type of purple daisy, blooming in the background behind the adorable puppy in the foreground.\n",
       "\n",
       "<details>\n",
       "\n",
       "- id: `msg_01XtkdWMWHVppHqtiv7gdmtA`\n",
       "- content: `[{'text': 'The flowers in this image are purple. They appear to be small, daisy-like flowers, possibly asters or some type of purple daisy, blooming in the background behind the adorable puppy in the foreground.', 'type': 'text'}]`\n",
       "- model: `claude-3-5-sonnet-20240620`\n",
       "- role: `assistant`\n",
       "- stop_reason: `end_turn`\n",
       "- stop_sequence: `None`\n",
       "- type: `message`\n",
       "- usage: `{'input_tokens': 110, 'output_tokens': 50, 'cache_creation_input_tokens': 0, 'cache_read_input_tokens': 0}`\n",
       "\n",
       "</details>"
      ],
      "text/plain": [
       "Message(id='msg_01XtkdWMWHVppHqtiv7gdmtA', content=[TextBlock(text='The flowers in this image are purple. They appear to be small, daisy-like flowers, possibly asters or some type of purple daisy, blooming in the background behind the adorable puppy in the foreground.', type='text')], model='claude-3-5-sonnet-20240620', role='assistant', stop_reason='end_turn', stop_sequence=None, type='message', usage=In: 110; Out: 50; Total: 160)"
      ]
     },
     "execution_count": null,
     "metadata": {},
     "output_type": "execute_result"
    }
   ],
   "source": [
    "chat([img, \"In brief, what color flowers are in this image?\"])"
   ]
  },
  {
   "cell_type": "markdown",
   "id": "0ef6d924",
   "metadata": {},
   "source": [
    "The image is included as input tokens."
   ]
  },
  {
   "cell_type": "code",
   "execution_count": null,
   "id": "e275b311",
   "metadata": {},
   "outputs": [
    {
     "data": {
      "text/plain": [
       "In: 110; Out: 50; Total: 160"
      ]
     },
     "execution_count": null,
     "metadata": {},
     "output_type": "execute_result"
    }
   ],
   "source": [
    "chat.use"
   ]
  },
  {
   "cell_type": "markdown",
   "id": "5ea93076",
   "metadata": {},
   "source": [
    "Alternatively, Claudette supports creating a multi-stage chat with separate image and text prompts. For instance, you can pass just the image as the initial prompt (in which case Claude will make some general comments about what it sees), and then follow up with questions in additional prompts:"
   ]
  },
  {
   "cell_type": "code",
   "execution_count": null,
   "id": "f41b7887",
   "metadata": {},
   "outputs": [
    {
     "data": {
      "text/markdown": [
       "This image shows an adorable puppy lying in the grass. The puppy appears to be a Cavalier King Charles Spaniel or a similar breed, with distinctive white and reddish-brown fur coloring. Its face is predominantly white with large, expressive eyes and a small black nose.\n",
       "\n",
       "The puppy is resting on a grassy surface, and behind it, you can see some purple flowers, likely asters or michaelmas daisies. These flowers provide a lovely contrast to the puppy's fur colors. In the background, there seems to be a wooden structure, possibly a fence or the side of a building, giving the scene a rustic, outdoor feel.\n",
       "\n",
       "The composition of the image is quite charming, with the puppy as the main focus in the foreground and the flowers adding a soft, colorful backdrop. The lighting appears natural, highlighting the puppy's soft fur and the delicate petals of the flowers. Overall, it's a heartwarming scene that captures the innocence and cuteness of a young dog in a picturesque outdoor setting.\n",
       "\n",
       "<details>\n",
       "\n",
       "- id: `msg_01Simo36wFes3M21SXZFGBT2`\n",
       "- content: `[{'text': \"This image shows an adorable puppy lying in the grass. The puppy appears to be a Cavalier King Charles Spaniel or a similar breed, with distinctive white and reddish-brown fur coloring. Its face is predominantly white with large, expressive eyes and a small black nose.\\n\\nThe puppy is resting on a grassy surface, and behind it, you can see some purple flowers, likely asters or michaelmas daisies. These flowers provide a lovely contrast to the puppy's fur colors. In the background, there seems to be a wooden structure, possibly a fence or the side of a building, giving the scene a rustic, outdoor feel.\\n\\nThe composition of the image is quite charming, with the puppy as the main focus in the foreground and the flowers adding a soft, colorful backdrop. The lighting appears natural, highlighting the puppy's soft fur and the delicate petals of the flowers. Overall, it's a heartwarming scene that captures the innocence and cuteness of a young dog in a picturesque outdoor setting.\", 'type': 'text'}]`\n",
       "- model: `claude-3-5-sonnet-20240620`\n",
       "- role: `assistant`\n",
       "- stop_reason: `end_turn`\n",
       "- stop_sequence: `None`\n",
       "- type: `message`\n",
       "- usage: `{'input_tokens': 98, 'output_tokens': 232, 'cache_creation_input_tokens': 0, 'cache_read_input_tokens': 0}`\n",
       "\n",
       "</details>"
      ],
      "text/plain": [
       "Message(id='msg_01Simo36wFes3M21SXZFGBT2', content=[TextBlock(text=\"This image shows an adorable puppy lying in the grass. The puppy appears to be a Cavalier King Charles Spaniel or a similar breed, with distinctive white and reddish-brown fur coloring. Its face is predominantly white with large, expressive eyes and a small black nose.\\n\\nThe puppy is resting on a grassy surface, and behind it, you can see some purple flowers, likely asters or michaelmas daisies. These flowers provide a lovely contrast to the puppy's fur colors. In the background, there seems to be a wooden structure, possibly a fence or the side of a building, giving the scene a rustic, outdoor feel.\\n\\nThe composition of the image is quite charming, with the puppy as the main focus in the foreground and the flowers adding a soft, colorful backdrop. The lighting appears natural, highlighting the puppy's soft fur and the delicate petals of the flowers. Overall, it's a heartwarming scene that captures the innocence and cuteness of a young dog in a picturesque outdoor setting.\", type='text')], model='claude-3-5-sonnet-20240620', role='assistant', stop_reason='end_turn', stop_sequence=None, type='message', usage=In: 98; Out: 232; Total: 330)"
      ]
     },
     "execution_count": null,
     "metadata": {},
     "output_type": "execute_result"
    }
   ],
   "source": [
    "chat = Chat(model)\n",
    "chat(img)"
   ]
  },
  {
   "cell_type": "code",
   "execution_count": null,
   "id": "c8925b57",
   "metadata": {},
   "outputs": [
    {
     "data": {
      "text/markdown": [
       "The puppy in the image is facing towards the left side of the frame. Its head is turned slightly, allowing us to see most of its face, including both eyes, its nose, and part of its mouth. The puppy's body is angled diagonally, with its front paws visible and resting on the grass. This positioning gives the viewer a good look at the puppy's adorable facial features and the distinctive coloring of its fur, while also creating an engaging composition within the photograph.\n",
       "\n",
       "<details>\n",
       "\n",
       "- id: `msg_019YhPzDxXXjrcpjaS6G8fmF`\n",
       "- content: `[{'text': \"The puppy in the image is facing towards the left side of the frame. Its head is turned slightly, allowing us to see most of its face, including both eyes, its nose, and part of its mouth. The puppy's body is angled diagonally, with its front paws visible and resting on the grass. This positioning gives the viewer a good look at the puppy's adorable facial features and the distinctive coloring of its fur, while also creating an engaging composition within the photograph.\", 'type': 'text'}]`\n",
       "- model: `claude-3-5-sonnet-20240620`\n",
       "- role: `assistant`\n",
       "- stop_reason: `end_turn`\n",
       "- stop_sequence: `None`\n",
       "- type: `message`\n",
       "- usage: `{'input_tokens': 341, 'output_tokens': 108, 'cache_creation_input_tokens': 0, 'cache_read_input_tokens': 0}`\n",
       "\n",
       "</details>"
      ],
      "text/plain": [
       "Message(id='msg_019YhPzDxXXjrcpjaS6G8fmF', content=[TextBlock(text=\"The puppy in the image is facing towards the left side of the frame. Its head is turned slightly, allowing us to see most of its face, including both eyes, its nose, and part of its mouth. The puppy's body is angled diagonally, with its front paws visible and resting on the grass. This positioning gives the viewer a good look at the puppy's adorable facial features and the distinctive coloring of its fur, while also creating an engaging composition within the photograph.\", type='text')], model='claude-3-5-sonnet-20240620', role='assistant', stop_reason='end_turn', stop_sequence=None, type='message', usage=In: 341; Out: 108; Total: 449)"
      ]
     },
     "execution_count": null,
     "metadata": {},
     "output_type": "execute_result"
    }
   ],
   "source": [
    "chat('What direction is the puppy facing?')"
   ]
  },
  {
   "cell_type": "code",
   "execution_count": null,
   "id": "f19a2b54",
   "metadata": {},
   "outputs": [
    {
     "data": {
      "text/markdown": [
       "The puppy in the image has a combination of two main colors:\n",
       "\n",
       "1. White: The majority of its face, including the area around its eyes, muzzle, and part of its chest, is white.\n",
       "\n",
       "2. Reddish-brown: This color, often referred to as \"chestnut\" or \"ruby\" in Cavalier King Charles Spaniels, covers the puppy's ears and extends to patches on its body.\n",
       "\n",
       "The contrast between these two colors is quite striking and typical of the Cavalier King Charles Spaniel breed. The white fur appears bright and clean, while the reddish-brown areas have a rich, warm tone. This color combination, along with the puppy's expressive eyes and small black nose, contributes to its incredibly cute and appealing appearance.\n",
       "\n",
       "<details>\n",
       "\n",
       "- id: `msg_01WVxHA2sAff5q1En3q9km8F`\n",
       "- content: `[{'text': 'The puppy in the image has a combination of two main colors:\\n\\n1. White: The majority of its face, including the area around its eyes, muzzle, and part of its chest, is white.\\n\\n2. Reddish-brown: This color, often referred to as \"chestnut\" or \"ruby\" in Cavalier King Charles Spaniels, covers the puppy\\'s ears and extends to patches on its body.\\n\\nThe contrast between these two colors is quite striking and typical of the Cavalier King Charles Spaniel breed. The white fur appears bright and clean, while the reddish-brown areas have a rich, warm tone. This color combination, along with the puppy\\'s expressive eyes and small black nose, contributes to its incredibly cute and appealing appearance.', 'type': 'text'}]`\n",
       "- model: `claude-3-5-sonnet-20240620`\n",
       "- role: `assistant`\n",
       "- stop_reason: `end_turn`\n",
       "- stop_sequence: `None`\n",
       "- type: `message`\n",
       "- usage: `{'input_tokens': 457, 'output_tokens': 175, 'cache_creation_input_tokens': 0, 'cache_read_input_tokens': 0}`\n",
       "\n",
       "</details>"
      ],
      "text/plain": [
       "Message(id='msg_01WVxHA2sAff5q1En3q9km8F', content=[TextBlock(text='The puppy in the image has a combination of two main colors:\\n\\n1. White: The majority of its face, including the area around its eyes, muzzle, and part of its chest, is white.\\n\\n2. Reddish-brown: This color, often referred to as \"chestnut\" or \"ruby\" in Cavalier King Charles Spaniels, covers the puppy\\'s ears and extends to patches on its body.\\n\\nThe contrast between these two colors is quite striking and typical of the Cavalier King Charles Spaniel breed. The white fur appears bright and clean, while the reddish-brown areas have a rich, warm tone. This color combination, along with the puppy\\'s expressive eyes and small black nose, contributes to its incredibly cute and appealing appearance.', type='text')], model='claude-3-5-sonnet-20240620', role='assistant', stop_reason='end_turn', stop_sequence=None, type='message', usage=In: 457; Out: 175; Total: 632)"
      ]
     },
     "execution_count": null,
     "metadata": {},
     "output_type": "execute_result"
    }
   ],
   "source": [
    "chat('What color is it?')"
   ]
  },
  {
   "cell_type": "markdown",
   "id": "7a1c1112",
   "metadata": {},
   "source": [
    "Note that the image is passed in again for every input in the dialog, so that number of input tokens increases quickly with this kind of chat. (For large images, using prompt caching might be a good idea.)"
   ]
  },
  {
   "cell_type": "code",
   "execution_count": null,
   "id": "48258e8d",
   "metadata": {},
   "outputs": [
    {
     "data": {
      "text/plain": [
       "In: 896; Out: 515; Total: 1411"
      ]
     },
     "execution_count": null,
     "metadata": {},
     "output_type": "execute_result"
    }
   ],
   "source": [
    "chat.use"
   ]
  },
  {
   "cell_type": "markdown",
   "id": "fd0ea28f",
   "metadata": {},
   "source": [
    "## Other model providers"
   ]
  },
  {
   "cell_type": "markdown",
   "id": "c49ae77b",
   "metadata": {},
   "source": [
    "You can also use 3rd party providers of Anthropic models, as shown here."
   ]
  },
  {
   "cell_type": "markdown",
   "id": "d63c0775",
   "metadata": {},
   "source": [
    "### Amazon Bedrock"
   ]
  },
  {
   "cell_type": "markdown",
   "id": "2aef1aa0",
   "metadata": {},
   "source": [
    "These are the models available through Bedrock:"
   ]
  },
  {
   "cell_type": "code",
   "execution_count": null,
   "id": "15478ddd",
   "metadata": {},
   "outputs": [
    {
     "data": {
      "text/plain": [
       "('anthropic.claude-3-haiku-20240307-v1:0',\n",
       " 'anthropic.claude-3-sonnet-20240229-v1:0',\n",
       " 'anthropic.claude-3-opus-20240229-v1:0',\n",
       " 'anthropic.claude-3-5-sonnet-20240620-v1:0')"
      ]
     },
     "execution_count": null,
     "metadata": {},
     "output_type": "execute_result"
    }
   ],
   "source": [
    "models_aws"
   ]
  },
  {
   "cell_type": "markdown",
   "id": "e6a18d58",
   "metadata": {},
   "source": [
    "To use them, call `AnthropicBedrock` with your access details, and pass that to `Client`:"
   ]
  },
  {
   "cell_type": "code",
   "execution_count": null,
   "id": "9e91f36b",
   "metadata": {},
   "outputs": [],
   "source": [
    "from anthropic import AnthropicBedrock"
   ]
  },
  {
   "cell_type": "code",
   "execution_count": null,
   "id": "d61d90ab",
   "metadata": {},
   "outputs": [],
   "source": [
    "ab = AnthropicBedrock(\n",
    "    aws_access_key=os.environ['AWS_ACCESS_KEY'],\n",
    "    aws_secret_key=os.environ['AWS_SECRET_KEY'],\n",
    ")\n",
    "client = Client(models_aws[-1], ab)"
   ]
  },
  {
   "cell_type": "markdown",
   "id": "59a1b625",
   "metadata": {},
   "source": [
    "Now create your `Chat` object passing this client to the `cli` parameter -- and from then on, everything is identical to the previous examples."
   ]
  },
  {
   "cell_type": "code",
   "execution_count": null,
   "id": "197d4721",
   "metadata": {},
   "outputs": [
    {
     "data": {
      "text/markdown": [
       "Hello Jeremy! It's nice to meet you. How can I assist you today? Is there anything specific you'd like to talk about or any questions you have?\n",
       "\n",
       "<details>\n",
       "\n",
       "- id: `msg_bdrk_01VFVE1Pe5LNubaWYKC1sz8f`\n",
       "- content: `[{'text': \"Hello Jeremy! It's nice to meet you. How can I assist you today? Is there anything specific you'd like to talk about or any questions you have?\", 'type': 'text'}]`\n",
       "- model: `claude-3-5-sonnet-20240620`\n",
       "- role: `assistant`\n",
       "- stop_reason: `end_turn`\n",
       "- stop_sequence: `None`\n",
       "- type: `message`\n",
       "- usage: `{'input_tokens': 10, 'output_tokens': 36}`\n",
       "\n",
       "</details>"
      ],
      "text/plain": [
       "Message(id='msg_bdrk_01VFVE1Pe5LNubaWYKC1sz8f', content=[TextBlock(text=\"Hello Jeremy! It's nice to meet you. How can I assist you today? Is there anything specific you'd like to talk about or any questions you have?\", type='text')], model='claude-3-5-sonnet-20240620', role='assistant', stop_reason='end_turn', stop_sequence=None, type='message', usage=In: 10; Out: 36; Total: 46)"
      ]
     },
     "execution_count": null,
     "metadata": {},
     "output_type": "execute_result"
    }
   ],
   "source": [
    "chat = Chat(cli=client)\n",
    "chat(\"I'm Jeremy\")"
   ]
  },
  {
   "cell_type": "markdown",
   "id": "0ffda5c4",
   "metadata": {},
   "source": [
    "### Google Vertex"
   ]
  },
  {
   "cell_type": "markdown",
   "id": "e8340bcc",
   "metadata": {},
   "source": [
    "These are the models available through Vertex:"
   ]
  },
  {
   "cell_type": "code",
   "execution_count": null,
   "id": "fdb46839",
   "metadata": {},
   "outputs": [
    {
     "data": {
      "text/plain": [
       "('claude-3-haiku@20240307',\n",
       " 'claude-3-sonnet@20240229',\n",
       " 'claude-3-opus@20240229',\n",
       " 'claude-3-5-sonnet@20240620')"
      ]
     },
     "execution_count": null,
     "metadata": {},
     "output_type": "execute_result"
    }
   ],
   "source": [
    "models_goog"
   ]
  },
  {
   "cell_type": "markdown",
   "id": "02417b31",
   "metadata": {},
   "source": [
    "To use them, call `AnthropicVertex` with your access details, and pass that to `Client`:"
   ]
  },
  {
   "cell_type": "code",
   "execution_count": null,
   "id": "fe93d557",
   "metadata": {},
   "outputs": [],
   "source": [
    "from anthropic import AnthropicVertex\n",
    "import google.auth"
   ]
  },
  {
   "cell_type": "code",
   "execution_count": null,
   "id": "c00ef664",
   "metadata": {},
   "outputs": [],
   "source": [
    "project_id = google.auth.default()[1]\n",
    "gv = AnthropicVertex(project_id=project_id, region=\"us-east5\")\n",
    "client = Client(models_goog[-1], gv)"
   ]
  },
  {
   "cell_type": "code",
   "execution_count": null,
   "id": "7d0481b5",
   "metadata": {},
   "outputs": [
    {
     "data": {
      "text/markdown": [
       "Hello Jeremy! It's nice to meet you. How can I assist you today? Is there anything specific you'd like to talk about or any questions you have?\n",
       "\n",
       "<details>\n",
       "\n",
       "- id: `msg_vrtx_01P251BUJXBBvihsvb3VVgZ3`\n",
       "- content: `[{'text': \"Hello Jeremy! It's nice to meet you. How can I assist you today? Is there anything specific you'd like to talk about or any questions you have?\", 'type': 'text'}]`\n",
       "- model: `claude-3-5-sonnet-20240620`\n",
       "- role: `assistant`\n",
       "- stop_reason: `end_turn`\n",
       "- stop_sequence: `None`\n",
       "- type: `message`\n",
       "- usage: `{'input_tokens': 10, 'output_tokens': 36}`\n",
       "\n",
       "</details>"
      ],
      "text/plain": [
       "Message(id='msg_vrtx_01P251BUJXBBvihsvb3VVgZ3', content=[TextBlock(text=\"Hello Jeremy! It's nice to meet you. How can I assist you today? Is there anything specific you'd like to talk about or any questions you have?\", type='text')], model='claude-3-5-sonnet-20240620', role='assistant', stop_reason='end_turn', stop_sequence=None, type='message', usage=In: 10; Out: 36; Total: 46)"
      ]
     },
     "execution_count": null,
     "metadata": {},
     "output_type": "execute_result"
    }
   ],
   "source": [
    "chat = Chat(cli=client)\n",
    "chat(\"I'm Jeremy\")"
   ]
  },
  {
   "cell_type": "code",
   "execution_count": null,
   "id": "bf533f92",
   "metadata": {},
   "outputs": [],
   "source": []
  }
 ],
 "metadata": {
  "kernelspec": {
   "display_name": "python3",
   "language": "python",
   "name": "python3"
  }
 },
 "nbformat": 4,
 "nbformat_minor": 5
}
