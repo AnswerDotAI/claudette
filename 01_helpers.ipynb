{
 "cells": [
  {
   "cell_type": "code",
   "execution_count": null,
   "id": "efe78920",
   "metadata": {},
   "outputs": [],
   "source": [
    "#|default_exp helpers"
   ]
  },
  {
   "cell_type": "markdown",
   "id": "3d773712-12fe-440e-891f-36f59666dfde",
   "metadata": {},
   "source": [
    "# Helpers source"
   ]
  },
  {
   "cell_type": "markdown",
   "id": "ff6f6471-8061-4fdd-85a1-25fdc27c5cf3",
   "metadata": {},
   "source": [
    "## Setup"
   ]
  },
  {
   "cell_type": "code",
   "execution_count": null,
   "id": "033c76fd",
   "metadata": {},
   "outputs": [],
   "source": [
    "#| export\n",
    "import hashlib,xml.etree.ElementTree as ET\n",
    "from collections import namedtuple\n",
    "\n",
    "from claudette.core import *\n",
    "from fastcore.utils import *\n",
    "from fastcore.meta import delegates\n",
    "from IPython import display"
   ]
  },
  {
   "cell_type": "markdown",
   "id": "65b52012",
   "metadata": {},
   "source": [
    "## XML helpers"
   ]
  },
  {
   "cell_type": "markdown",
   "id": "aa15af54",
   "metadata": {},
   "source": [
    "Claude works well with XML inputs, but XML can be a bit clunky to work with manually. Therefore, we create a couple of more streamlined approaches for XML generation. You don't need to use these if you don't find them useful -- you can always just use plain strings for XML directly."
   ]
  },
  {
   "cell_type": "code",
   "execution_count": null,
   "id": "26f66da9",
   "metadata": {},
   "outputs": [],
   "source": [
    "#| exports\n",
    "def xt(tag:str, # XML tag name\n",
    "       c:Optional[list]=None, # Children\n",
    "       **kw):\n",
    "    \"Helper to create appropriate data structure for `to_xml`.\"\n",
    "    kw = {k.lstrip('_'):str(v) for k,v in kw.items()}\n",
    "    return tag,c,kw"
   ]
  },
  {
   "cell_type": "markdown",
   "id": "1f063c86",
   "metadata": {},
   "source": [
    "An XML node contains a tag, optional children, and optional attributes. `xt` creates a tuple of these three things, which we will use to general XML shortly. Attributes are passed as kwargs; since these might conflict with reserved words in Python, you can optionally add a `_` prefix and it'll be stripped off."
   ]
  },
  {
   "cell_type": "code",
   "execution_count": null,
   "id": "180f1934",
   "metadata": {},
   "outputs": [
    {
     "data": {
      "text/plain": [
       "('x-custom', ['hi'], {'class': 'bar'})"
      ]
     },
     "execution_count": null,
     "metadata": {},
     "output_type": "execute_result"
    }
   ],
   "source": [
    "xt('x-custom', ['hi'], _class='bar')"
   ]
  },
  {
   "cell_type": "code",
   "execution_count": null,
   "id": "59329ea3",
   "metadata": {},
   "outputs": [],
   "source": [
    "#| exports\n",
    "g = globals()\n",
    "tags = 'div img h1 h2 h3 h4 h5 p hr span html'.split()\n",
    "for o in tags: g[o] = partial(xt, o)"
   ]
  },
  {
   "cell_type": "markdown",
   "id": "9a503937",
   "metadata": {},
   "source": [
    "If you have to use a lot of tags of the same type, it's convenient to use `partial` to create specialised functions for them. Here, we're creating functions for some common HTML tags. Here's an example of using them:"
   ]
  },
  {
   "cell_type": "code",
   "execution_count": null,
   "id": "b6122acf",
   "metadata": {},
   "outputs": [
    {
     "data": {
      "text/plain": [
       "('html',\n",
       " [('p', 'This is a paragraph', {}),\n",
       "  ('hr', None, {}),\n",
       "  ('img', None, {'src': 'http://example.prg'}),\n",
       "  ('div',\n",
       "   [('h1', 'This is a header', {}),\n",
       "    ('h2', 'This is a sub-header', {'style': 'k:v'})],\n",
       "   {'class': 'foo'})],\n",
       " {})"
      ]
     },
     "execution_count": null,
     "metadata": {},
     "output_type": "execute_result"
    }
   ],
   "source": [
    "a = html([\n",
    "    p('This is a paragraph'),\n",
    "    hr(),\n",
    "    img(src='http://example.prg'),\n",
    "    div([\n",
    "        h1('This is a header'),\n",
    "        h2('This is a sub-header', style='k:v'),\n",
    "    ], _class='foo')\n",
    "])\n",
    "a"
   ]
  },
  {
   "cell_type": "code",
   "execution_count": null,
   "id": "15807ed7",
   "metadata": {},
   "outputs": [],
   "source": [
    "#| exports\n",
    "def hl_md(s, lang='xml'):\n",
    "    \"Syntax highlight `s` using `lang`.\"\n",
    "    if display: return display.Markdown(f'```{lang}\\n{s}\\n```')\n",
    "    print(s)"
   ]
  },
  {
   "cell_type": "markdown",
   "id": "79155289",
   "metadata": {},
   "source": [
    "When we display XML in a notebook, it's nice to highlight it, so we create a function to simplify that:"
   ]
  },
  {
   "cell_type": "code",
   "execution_count": null,
   "id": "eb4907fe",
   "metadata": {},
   "outputs": [
    {
     "data": {
      "text/markdown": [
       "```xml\n",
       "<test><xml foo=\"bar\">a child</xml></test>\n",
       "```"
      ],
      "text/plain": [
       "<IPython.core.display.Markdown object>"
      ]
     },
     "execution_count": null,
     "metadata": {},
     "output_type": "execute_result"
    }
   ],
   "source": [
    "hl_md('<test><xml foo=\"bar\">a child</xml></test>')"
   ]
  },
  {
   "cell_type": "code",
   "execution_count": null,
   "id": "20467373",
   "metadata": {},
   "outputs": [],
   "source": [
    "#| exports\n",
    "def to_xml(node:tuple, # XML structure in `xt` format\n",
    "           hl=False # Syntax highlight response?\n",
    "          ):\n",
    "    \"Convert `node` to an XML string.\"\n",
    "    def mk_el(tag, cs, attrs):\n",
    "        el = ET.Element(tag, attrib=attrs)\n",
    "        if isinstance(cs, list): el.extend([mk_el(*o) for o in cs])\n",
    "        elif cs is not None: el.text = str(cs)\n",
    "        return el\n",
    "\n",
    "    root = mk_el(*node)\n",
    "    ET.indent(root, space='  ' if hl else '')\n",
    "    res = ET.tostring(root, encoding='unicode')\n",
    "    return hl_md(res) if hl else res"
   ]
  },
  {
   "cell_type": "markdown",
   "id": "7a7fe4c6",
   "metadata": {},
   "source": [
    "Now we can convert that HTML data structure we created into XML:"
   ]
  },
  {
   "cell_type": "code",
   "execution_count": null,
   "id": "80a0cde7",
   "metadata": {},
   "outputs": [
    {
     "data": {
      "text/markdown": [
       "```xml\n",
       "<html>\n",
       "  <p>This is a paragraph</p>\n",
       "  <hr />\n",
       "  <img src=\"http://example.prg\" />\n",
       "  <div class=\"foo\">\n",
       "    <h1>This is a header</h1>\n",
       "    <h2 style=\"k:v\">This is a sub-header</h2>\n",
       "  </div>\n",
       "</html>\n",
       "```"
      ],
      "text/plain": [
       "<IPython.core.display.Markdown object>"
      ]
     },
     "execution_count": null,
     "metadata": {},
     "output_type": "execute_result"
    }
   ],
   "source": [
    "to_xml(a, hl=True)"
   ]
  },
  {
   "cell_type": "code",
   "execution_count": null,
   "id": "2795f9fc",
   "metadata": {},
   "outputs": [],
   "source": [
    "#| exports\n",
    "def json_to_xml(d:dict, # JSON dictionary to convert\n",
    "                rnm:str # Root name\n",
    "               )->str:\n",
    "    \"Convert `d` to XML.\"\n",
    "    root = ET.Element(rnm)\n",
    "    def build_xml(data, parent):\n",
    "        if isinstance(data, dict):\n",
    "            for key, value in data.items(): build_xml(value, ET.SubElement(parent, key))\n",
    "        elif isinstance(data, list):\n",
    "            for item in data: build_xml(item, ET.SubElement(parent, 'item'))\n",
    "        else: parent.text = str(data)\n",
    "    build_xml(d, root)\n",
    "    ET.indent(root)\n",
    "    return ET.tostring(root, encoding='unicode')"
   ]
  },
  {
   "cell_type": "markdown",
   "id": "140a35a2",
   "metadata": {},
   "source": [
    "JSON doesn't map as nicely to XML as the data structure used in the previous section, but for simple XML trees it can be convenient -- for example:"
   ]
  },
  {
   "cell_type": "code",
   "execution_count": null,
   "id": "005a5be4",
   "metadata": {},
   "outputs": [
    {
     "data": {
      "text/markdown": [
       "```xml\n",
       "<person>\n",
       "  <surname>Howard</surname>\n",
       "  <firstnames>\n",
       "    <item>Jeremy</item>\n",
       "    <item>Peter</item>\n",
       "  </firstnames>\n",
       "  <address>\n",
       "    <state>Queensland</state>\n",
       "    <country>Australia</country>\n",
       "  </address>\n",
       "</person>\n",
       "```"
      ],
      "text/plain": [
       "<IPython.core.display.Markdown object>"
      ]
     },
     "execution_count": null,
     "metadata": {},
     "output_type": "execute_result"
    }
   ],
   "source": [
    "a = dict(surname='Howard', firstnames=['Jeremy','Peter'],\n",
    "         address=dict(state='Queensland',country='Australia'))\n",
    "hl_md(json_to_xml(a, 'person'))"
   ]
  },
  {
   "cell_type": "markdown",
   "id": "7788c48c",
   "metadata": {},
   "source": [
    "## Including documents"
   ]
  },
  {
   "cell_type": "markdown",
   "id": "479be4c9",
   "metadata": {},
   "source": [
    "According [to Anthropic](https://docs.anthropic.com/claude/docs/long-context-window-tips), \"*it's essential to structure your prompts in a way that clearly separates the input data from the instructions*\". They recommend using the following format:\n",
    "\n",
    "```xml\n",
    "Here are some documents for you to reference for your task:\n",
    "    \n",
    "<documents>\n",
    "<document index=\"1\">\n",
    "<source>\n",
    "(URL, file name, hash, etc)\n",
    "</source>\n",
    "<document_content>\n",
    "(the text content)\n",
    "</document_content>\n",
    "</document>\n",
    "</documents>\n",
    "```\n",
    "\n",
    "We will create some small helper functions to make it easier to generate context in this format."
   ]
  },
  {
   "cell_type": "code",
   "execution_count": null,
   "id": "a01dc320",
   "metadata": {},
   "outputs": [],
   "source": [
    "#| exports\n",
    "doctype = namedtuple('doctype', ['source', 'content'])"
   ]
  },
  {
   "cell_type": "markdown",
   "id": "6620a123",
   "metadata": {},
   "source": [
    "We'll use `doctype` to store our pairs."
   ]
  },
  {
   "cell_type": "code",
   "execution_count": null,
   "id": "ce853491",
   "metadata": {},
   "outputs": [],
   "source": [
    "#| exports\n",
    "def _add_nls(s):\n",
    "    \"Add newlines to start and end of `s` if missing\"\n",
    "    if s[ 0]!='\\n': s = '\\n'+s\n",
    "    if s[-1]!='\\n': s = s+'\\n'\n",
    "    return s"
   ]
  },
  {
   "cell_type": "markdown",
   "id": "026d3b06",
   "metadata": {},
   "source": [
    "Since Anthropic's example shows newlines before and after each tag, we'll do the same."
   ]
  },
  {
   "cell_type": "code",
   "execution_count": null,
   "id": "932e8858",
   "metadata": {},
   "outputs": [],
   "source": [
    "#| exports\n",
    "def mk_doctype(content:str,  # The document content\n",
    "           source:Optional[str]=None # URL, filename, etc; defaults to `md5(content)` if not provided\n",
    "          ) -> namedtuple:\n",
    "    \"Create a `doctype` named tuple\"\n",
    "    if source is None: source = hashlib.md5(content.encode()).hexdigest()[:8]\n",
    "    return doctype(_add_nls(str(source).strip()), _add_nls(content.strip()))"
   ]
  },
  {
   "cell_type": "markdown",
   "id": "8800921b",
   "metadata": {},
   "source": [
    "This is a convenience wrapper to ensure that a `doctype` has the needed information in the right format."
   ]
  },
  {
   "cell_type": "code",
   "execution_count": null,
   "id": "14f9e185",
   "metadata": {},
   "outputs": [
    {
     "data": {
      "text/plain": [
       "doctype(source='\\nb8898fab\\n', content='\\nThis is a sample\\n')"
      ]
     },
     "execution_count": null,
     "metadata": {},
     "output_type": "execute_result"
    }
   ],
   "source": [
    "doc = 'This is a sample'\n",
    "mk_doctype(doc)"
   ]
  },
  {
   "cell_type": "code",
   "execution_count": null,
   "id": "3b8e6f87",
   "metadata": {},
   "outputs": [],
   "source": [
    "#| exports\n",
    "def mk_doc(index:int,  # The document index\n",
    "           content:str,  # The document content\n",
    "           source:Optional[str]=None # URL, filename, etc; defaults to `md5(content)` if not provided\n",
    "          ) -> tuple:\n",
    "    \"Create an `xt` format tuple for a single doc in Anthropic's recommended format\"\n",
    "    dt = mk_doctype(content, source)\n",
    "    content = xt('document_content', dt.content)\n",
    "    source =  xt('source', dt.source)\n",
    "    return xt('document', [source, content], index=index)"
   ]
  },
  {
   "cell_type": "markdown",
   "id": "a8b6ac26",
   "metadata": {},
   "source": [
    "We can now generate XML for one document in the suggested format:"
   ]
  },
  {
   "cell_type": "code",
   "execution_count": null,
   "id": "e7ed5a9a",
   "metadata": {},
   "outputs": [
    {
     "name": "stdout",
     "output_type": "stream",
     "text": [
      "<document index=\"1\">\n",
      "<source>\n",
      "b8898fab\n",
      "</source>\n",
      "<document_content>\n",
      "This is a sample\n",
      "</document_content>\n",
      "</document>\n"
     ]
    }
   ],
   "source": [
    "print(to_xml(mk_doc(1, doc)))"
   ]
  },
  {
   "cell_type": "code",
   "execution_count": null,
   "id": "ba5ebfab",
   "metadata": {},
   "outputs": [],
   "source": [
    "#| exports\n",
    "def docs_xml(docs:list[str],  # The content of each document\n",
    "             sources:Optional[list]=None,  # URLs, filenames, etc; each one defaults to `md5(content)` if not provided\n",
    "             prefix:bool=True # Include Anthropic's suggested prose intro?\n",
    "            )->str:\n",
    "    \"Create an XML string containing `docs` in Anthropic's recommended format\"\n",
    "    pre = 'Here are some documents for you to reference for your task:\\n\\n' if prefix else ''\n",
    "    if sources is None: sources = [None]*len(docs)\n",
    "    docs = [mk_doc(i+1, *o) for i,o in enumerate(zip(docs,sources))]\n",
    "    return pre + to_xml(xt('documents', docs))"
   ]
  },
  {
   "cell_type": "markdown",
   "id": "85004124",
   "metadata": {},
   "source": [
    "Putting it all together, we have our final XML format:"
   ]
  },
  {
   "cell_type": "code",
   "execution_count": null,
   "id": "1dac60f6",
   "metadata": {},
   "outputs": [
    {
     "name": "stdout",
     "output_type": "stream",
     "text": [
      "Here are some documents for you to reference for your task:\n",
      "\n",
      "<documents>\n",
      "<document index=\"1\">\n",
      "<source>\n",
      "b8898fab\n",
      "</source>\n",
      "<document_content>\n",
      "This is a sample\n",
      "</document_content>\n",
      "</document>\n",
      "<document index=\"2\">\n",
      "<source>\n",
      "doc.txt\n",
      "</source>\n",
      "<document_content>\n",
      "And another one\n",
      "</document_content>\n",
      "</document>\n",
      "</documents>\n"
     ]
    }
   ],
   "source": [
    "docs = [doc, 'And another one']\n",
    "sources = [None, 'doc.txt']\n",
    "print(docs_xml(docs, sources))"
   ]
  },
  {
   "cell_type": "markdown",
   "id": "2a8a7a9a",
   "metadata": {},
   "source": [
    "## Context creation"
   ]
  },
  {
   "cell_type": "markdown",
   "id": "cd06b2dc",
   "metadata": {},
   "source": [
    "Now that we can generate Anthropic's XML format, let's make it easy for a few common cases."
   ]
  },
  {
   "cell_type": "markdown",
   "id": "65317fc6",
   "metadata": {},
   "source": [
    "### File list to context"
   ]
  },
  {
   "cell_type": "markdown",
   "id": "3778e8ed",
   "metadata": {},
   "source": [
    "For generating XML context from files, we'll just read them as text and use the file names as `source`."
   ]
  },
  {
   "cell_type": "code",
   "execution_count": null,
   "id": "0a168636",
   "metadata": {},
   "outputs": [],
   "source": [
    "#| exports\n",
    "def files2ctx(\n",
    "    fnames:list[Union[str,Path]], # List of file names to add to context\n",
    "    prefix:bool=True # Include Anthropic's suggested prose intro?\n",
    ")->str: # XML for Claude context\n",
    "    fnames = [Path(o) for o in fnames]\n",
    "    contents = [o.read_text() for o in fnames]\n",
    "    return docs_xml(contents, fnames, prefix=prefix)"
   ]
  },
  {
   "cell_type": "code",
   "execution_count": null,
   "id": "1bf73d36",
   "metadata": {},
   "outputs": [
    {
     "data": {
      "text/markdown": [
       "```xml\n",
       "Here are some documents for you to reference for your task:\n",
       "\n",
       "<documents>\n",
       "<document index=\"1\">\n",
       "<source>\n",
       "samples/sample_core.py\n",
       "</source>\n",
       "<document_content>\n",
       "import inspect\n",
       "empty = inspect.Parameter.empty\n",
       "models = 'claude-3-opus-20240229','claude-3-sonnet-20240229','claude-3-haiku-20240307'\n",
       "</document_content>\n",
       "</document>\n",
       "<document index=\"2\">\n",
       "<source>\n",
       "samples/sample_styles.css\n",
       "</source>\n",
       "<document_content>\n",
       ".cell { margin-bottom: 1rem; }\n",
       ".cell &gt; .sourceCode { margin-bottom: 0; }\n",
       ".cell-output &gt; pre { margin-bottom: 0; }\n",
       "</document_content>\n",
       "</document>\n",
       "</documents>\n",
       "```"
      ],
      "text/plain": [
       "<IPython.core.display.Markdown object>"
      ]
     },
     "execution_count": null,
     "metadata": {},
     "output_type": "execute_result"
    }
   ],
   "source": [
    "fnames = ['samples/sample_core.py', 'samples/sample_styles.css']\n",
    "hl_md(files2ctx(fnames))"
   ]
  },
  {
   "cell_type": "markdown",
   "id": "191ddb2b",
   "metadata": {},
   "source": [
    "### Folder to context"
   ]
  },
  {
   "cell_type": "code",
   "execution_count": null,
   "id": "a0452a21",
   "metadata": {},
   "outputs": [],
   "source": [
    "#| exports\n",
    "@delegates(globtastic)\n",
    "def folder2ctx(\n",
    "    folder:Union[str,Path], # Folder name containing files to add to context\n",
    "    prefix:bool=True, # Include Anthropic's suggested prose intro?\n",
    "    **kwargs # Passed to `globtastic`\n",
    ")->str: # XML for Claude context\n",
    "    fnames = globtastic(folder, **kwargs)\n",
    "    return files2ctx(fnames, prefix=prefix)"
   ]
  },
  {
   "cell_type": "code",
   "execution_count": null,
   "id": "efd52392",
   "metadata": {},
   "outputs": [
    {
     "name": "stdout",
     "output_type": "stream",
     "text": [
      "<documents>\n",
      "<document index=\"1\">\n",
      "<source>\n",
      "samples/sample_core.py\n",
      "</source>\n",
      "<document_content>\n",
      "import inspect\n",
      "empty = inspect.Parameter.empty\n",
      "models = 'claude-3-opus-20240229','claude-3-sonnet-20240229','claude-3-haiku-20240307'\n",
      "</document_content>\n",
      "</document>\n",
      "</documents>\n"
     ]
    }
   ],
   "source": [
    "print(folder2ctx('samples', prefix=False, file_glob='*.py'))"
   ]
  },
  {
   "cell_type": "markdown",
   "id": "94ec4289",
   "metadata": {},
   "source": [
    "## Export -"
   ]
  },
  {
   "cell_type": "code",
   "execution_count": null,
   "id": "1e9ee5c1",
   "metadata": {},
   "outputs": [],
   "source": [
    "#|hide\n",
    "#|eval: false\n",
    "from nbdev.doclinks import nbdev_export\n",
    "nbdev_export()"
   ]
  },
  {
   "cell_type": "code",
   "execution_count": null,
   "id": "207f9715",
   "metadata": {},
   "outputs": [],
   "source": []
  }
 ],
 "metadata": {
  "kernelspec": {
   "display_name": "Python 3 (ipykernel)",
   "language": "python",
   "name": "python3"
  }
 },
 "nbformat": 4,
 "nbformat_minor": 5
}
